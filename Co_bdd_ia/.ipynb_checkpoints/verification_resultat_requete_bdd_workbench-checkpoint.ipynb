{
 "cells": [
  {
   "cell_type": "code",
   "execution_count": 1,
   "id": "0721692e",
   "metadata": {},
   "outputs": [],
   "source": [
    "import pandas as pd\n",
    "import numpy as np"
   ]
  },
  {
   "cell_type": "code",
   "execution_count": 10,
   "id": "0c7c6707",
   "metadata": {},
   "outputs": [],
   "source": [
    "df = pd.read_csv('Result_final4_2.csv', sep = \",\")"
   ]
  },
  {
   "cell_type": "code",
   "execution_count": 11,
   "id": "44ac72a3",
   "metadata": {},
   "outputs": [
    {
     "data": {
      "text/html": [
       "<div>\n",
       "<style scoped>\n",
       "    .dataframe tbody tr th:only-of-type {\n",
       "        vertical-align: middle;\n",
       "    }\n",
       "\n",
       "    .dataframe tbody tr th {\n",
       "        vertical-align: top;\n",
       "    }\n",
       "\n",
       "    .dataframe thead th {\n",
       "        text-align: right;\n",
       "    }\n",
       "</style>\n",
       "<table border=\"1\" class=\"dataframe\">\n",
       "  <thead>\n",
       "    <tr style=\"text-align: right;\">\n",
       "      <th></th>\n",
       "      <th>Unnamed: 0</th>\n",
       "      <th>MandatId</th>\n",
       "      <th>DateCreation</th>\n",
       "      <th>BienMandatId</th>\n",
       "      <th>Statut</th>\n",
       "      <th>DescriptionBien_DateOffreAcceptee</th>\n",
       "      <th>Origine_DateCollecte</th>\n",
       "      <th>CritereId</th>\n",
       "      <th>SurfaceMin</th>\n",
       "      <th>NombrePiecesEnum</th>\n",
       "      <th>...</th>\n",
       "      <th>LocalisationId</th>\n",
       "      <th>StatutMandat</th>\n",
       "      <th>TypeMission</th>\n",
       "      <th>TypeBien</th>\n",
       "      <th>TypeProjet</th>\n",
       "      <th>BudgetMaxEuro</th>\n",
       "      <th>CodePostal</th>\n",
       "      <th>Ville</th>\n",
       "      <th>Departement</th>\n",
       "      <th>Region</th>\n",
       "    </tr>\n",
       "  </thead>\n",
       "  <tbody>\n",
       "    <tr>\n",
       "      <th>0</th>\n",
       "      <td>0</td>\n",
       "      <td>9049</td>\n",
       "      <td>2015-03-30</td>\n",
       "      <td>24579</td>\n",
       "      <td>1</td>\n",
       "      <td>0001-01-01</td>\n",
       "      <td>0001-01-01</td>\n",
       "      <td>9051</td>\n",
       "      <td>30</td>\n",
       "      <td>2</td>\n",
       "      <td>...</td>\n",
       "      <td>129</td>\n",
       "      <td>9</td>\n",
       "      <td>2</td>\n",
       "      <td>2</td>\n",
       "      <td>0</td>\n",
       "      <td>250000</td>\n",
       "      <td>1000</td>\n",
       "      <td>Bourg En Bresse</td>\n",
       "      <td>Ain</td>\n",
       "      <td>Rhône-Alpes</td>\n",
       "    </tr>\n",
       "    <tr>\n",
       "      <th>1</th>\n",
       "      <td>1</td>\n",
       "      <td>9049</td>\n",
       "      <td>2015-03-30</td>\n",
       "      <td>24580</td>\n",
       "      <td>0</td>\n",
       "      <td>0001-01-01</td>\n",
       "      <td>0001-01-01</td>\n",
       "      <td>9051</td>\n",
       "      <td>30</td>\n",
       "      <td>2</td>\n",
       "      <td>...</td>\n",
       "      <td>129</td>\n",
       "      <td>9</td>\n",
       "      <td>2</td>\n",
       "      <td>2</td>\n",
       "      <td>0</td>\n",
       "      <td>250000</td>\n",
       "      <td>1000</td>\n",
       "      <td>Bourg En Bresse</td>\n",
       "      <td>Ain</td>\n",
       "      <td>Rhône-Alpes</td>\n",
       "    </tr>\n",
       "    <tr>\n",
       "      <th>2</th>\n",
       "      <td>2</td>\n",
       "      <td>9049</td>\n",
       "      <td>2015-03-30</td>\n",
       "      <td>24582</td>\n",
       "      <td>1</td>\n",
       "      <td>0001-01-01</td>\n",
       "      <td>0001-01-01</td>\n",
       "      <td>9051</td>\n",
       "      <td>30</td>\n",
       "      <td>2</td>\n",
       "      <td>...</td>\n",
       "      <td>129</td>\n",
       "      <td>9</td>\n",
       "      <td>2</td>\n",
       "      <td>2</td>\n",
       "      <td>0</td>\n",
       "      <td>250000</td>\n",
       "      <td>1000</td>\n",
       "      <td>Bourg En Bresse</td>\n",
       "      <td>Ain</td>\n",
       "      <td>Rhône-Alpes</td>\n",
       "    </tr>\n",
       "    <tr>\n",
       "      <th>3</th>\n",
       "      <td>3</td>\n",
       "      <td>9049</td>\n",
       "      <td>2015-03-30</td>\n",
       "      <td>24583</td>\n",
       "      <td>0</td>\n",
       "      <td>0001-01-01</td>\n",
       "      <td>0001-01-01</td>\n",
       "      <td>9051</td>\n",
       "      <td>30</td>\n",
       "      <td>2</td>\n",
       "      <td>...</td>\n",
       "      <td>129</td>\n",
       "      <td>9</td>\n",
       "      <td>2</td>\n",
       "      <td>2</td>\n",
       "      <td>0</td>\n",
       "      <td>250000</td>\n",
       "      <td>1000</td>\n",
       "      <td>Bourg En Bresse</td>\n",
       "      <td>Ain</td>\n",
       "      <td>Rhône-Alpes</td>\n",
       "    </tr>\n",
       "    <tr>\n",
       "      <th>4</th>\n",
       "      <td>4</td>\n",
       "      <td>9049</td>\n",
       "      <td>2015-03-30</td>\n",
       "      <td>24584</td>\n",
       "      <td>7</td>\n",
       "      <td>0001-01-01</td>\n",
       "      <td>0001-01-01</td>\n",
       "      <td>9051</td>\n",
       "      <td>30</td>\n",
       "      <td>2</td>\n",
       "      <td>...</td>\n",
       "      <td>129</td>\n",
       "      <td>9</td>\n",
       "      <td>2</td>\n",
       "      <td>2</td>\n",
       "      <td>0</td>\n",
       "      <td>250000</td>\n",
       "      <td>1000</td>\n",
       "      <td>Bourg En Bresse</td>\n",
       "      <td>Ain</td>\n",
       "      <td>Rhône-Alpes</td>\n",
       "    </tr>\n",
       "  </tbody>\n",
       "</table>\n",
       "<p>5 rows × 23 columns</p>\n",
       "</div>"
      ],
      "text/plain": [
       "   Unnamed: 0  MandatId DateCreation  BienMandatId  Statut  \\\n",
       "0           0      9049   2015-03-30         24579       1   \n",
       "1           1      9049   2015-03-30         24580       0   \n",
       "2           2      9049   2015-03-30         24582       1   \n",
       "3           3      9049   2015-03-30         24583       0   \n",
       "4           4      9049   2015-03-30         24584       7   \n",
       "\n",
       "  DescriptionBien_DateOffreAcceptee Origine_DateCollecte  CritereId  \\\n",
       "0                        0001-01-01           0001-01-01       9051   \n",
       "1                        0001-01-01           0001-01-01       9051   \n",
       "2                        0001-01-01           0001-01-01       9051   \n",
       "3                        0001-01-01           0001-01-01       9051   \n",
       "4                        0001-01-01           0001-01-01       9051   \n",
       "\n",
       "   SurfaceMin  NombrePiecesEnum  ...  LocalisationId  StatutMandat  \\\n",
       "0          30                 2  ...             129             9   \n",
       "1          30                 2  ...             129             9   \n",
       "2          30                 2  ...             129             9   \n",
       "3          30                 2  ...             129             9   \n",
       "4          30                 2  ...             129             9   \n",
       "\n",
       "   TypeMission  TypeBien  TypeProjet  BudgetMaxEuro  CodePostal  \\\n",
       "0            2         2           0         250000        1000   \n",
       "1            2         2           0         250000        1000   \n",
       "2            2         2           0         250000        1000   \n",
       "3            2         2           0         250000        1000   \n",
       "4            2         2           0         250000        1000   \n",
       "\n",
       "             Ville  Departement       Region  \n",
       "0  Bourg En Bresse          Ain  Rhône-Alpes  \n",
       "1  Bourg En Bresse          Ain  Rhône-Alpes  \n",
       "2  Bourg En Bresse          Ain  Rhône-Alpes  \n",
       "3  Bourg En Bresse          Ain  Rhône-Alpes  \n",
       "4  Bourg En Bresse          Ain  Rhône-Alpes  \n",
       "\n",
       "[5 rows x 23 columns]"
      ]
     },
     "execution_count": 11,
     "metadata": {},
     "output_type": "execute_result"
    }
   ],
   "source": [
    "df.head()"
   ]
  },
  {
   "cell_type": "code",
   "execution_count": 12,
   "id": "c7ff8269",
   "metadata": {},
   "outputs": [
    {
     "name": "stdout",
     "output_type": "stream",
     "text": [
      "<class 'pandas.core.frame.DataFrame'>\n",
      "RangeIndex: 1978037 entries, 0 to 1978036\n",
      "Data columns (total 22 columns):\n",
      " #   Column                             Dtype \n",
      "---  ------                             ----- \n",
      " 0   MandatId                           int64 \n",
      " 1   DateCreation                       object\n",
      " 2   BienMandatId                       int64 \n",
      " 3   Statut                             int64 \n",
      " 4   DescriptionBien_DateOffreAcceptee  object\n",
      " 5   Origine_DateCollecte               object\n",
      " 6   CritereId                          int64 \n",
      " 7   SurfaceMin                         int64 \n",
      " 8   NombrePiecesEnum                   int64 \n",
      " 9   NombreChambresEnum                 int64 \n",
      " 10  Departement_LocalisationId         int64 \n",
      " 11  Region_LocalisationId              int64 \n",
      " 12  LocalisationId                     int64 \n",
      " 13  StatutMandat                       int64 \n",
      " 14  TypeMission                        int64 \n",
      " 15  TypeBien                           int64 \n",
      " 16  TypeProjet                         int64 \n",
      " 17  BudgetMaxEuro                      int64 \n",
      " 18  CodePostal                         int64 \n",
      " 19  Ville                              object\n",
      " 20  Departement                        object\n",
      " 21  Region                             object\n",
      "dtypes: int64(16), object(6)\n",
      "memory usage: 332.0+ MB\n",
      "None\n"
     ]
    }
   ],
   "source": [
    "df = df.drop(\"Unnamed: 0\", axis = 1)\n",
    "print(df.info())"
   ]
  },
  {
   "cell_type": "code",
   "execution_count": 17,
   "id": "7617adba",
   "metadata": {},
   "outputs": [
    {
     "data": {
      "text/plain": [
       "MandatId                             0\n",
       "DateCreation                         0\n",
       "BienMandatId                         0\n",
       "Statut                               0\n",
       "DescriptionBien_DateOffreAcceptee    0\n",
       "Origine_DateCollecte                 0\n",
       "CritereId                            0\n",
       "SurfaceMin                           0\n",
       "NombrePiecesEnum                     0\n",
       "NombreChambresEnum                   0\n",
       "Departement_LocalisationId           0\n",
       "Region_LocalisationId                0\n",
       "LocalisationId                       0\n",
       "StatutMandat                         0\n",
       "TypeMission                          0\n",
       "TypeBien                             0\n",
       "TypeProjet                           0\n",
       "BudgetMaxEuro                        0\n",
       "CodePostal                           0\n",
       "Ville                                0\n",
       "Departement                          0\n",
       "Region                               0\n",
       "dtype: int64"
      ]
     },
     "execution_count": 17,
     "metadata": {},
     "output_type": "execute_result"
    }
   ],
   "source": [
    "df.isnull().sum()"
   ]
  },
  {
   "cell_type": "code",
   "execution_count": 13,
   "id": "c8ff8abd",
   "metadata": {},
   "outputs": [
    {
     "name": "stdout",
     "output_type": "stream",
     "text": [
      "MandatId: 0.0%\n",
      "DateCreation: 0.0%\n",
      "BienMandatId: 0.0%\n",
      "Statut: 0.0%\n",
      "DescriptionBien_DateOffreAcceptee: 0.0%\n",
      "Origine_DateCollecte: 0.0%\n",
      "CritereId: 0.0%\n",
      "SurfaceMin: 0.0%\n",
      "NombrePiecesEnum: 0.0%\n",
      "NombreChambresEnum: 0.0%\n",
      "Departement_LocalisationId: 0.0%\n",
      "Region_LocalisationId: 0.0%\n",
      "LocalisationId: 0.0%\n",
      "StatutMandat: 0.0%\n",
      "TypeMission: 0.0%\n",
      "TypeBien: 0.0%\n",
      "TypeProjet: 0.0%\n",
      "BudgetMaxEuro: 0.0%\n",
      "CodePostal: 0.0%\n",
      "Ville: 0.0%\n",
      "Departement: 0.0%\n",
      "Region: 0.0%\n"
     ]
    }
   ],
   "source": [
    "def NaN_percent(df, column_name):\n",
    "    row_count = df[column_name].shape[0]\n",
    "    empty_values = row_count - df[column_name].count()\n",
    "    return (100.0*empty_values)/row_count\n",
    "for i in list(df):\n",
    "    print(i +': ' + str(NaN_percent(df,i))+'%') "
   ]
  },
  {
   "cell_type": "code",
   "execution_count": 18,
   "id": "1334e02a",
   "metadata": {},
   "outputs": [
    {
     "data": {
      "text/plain": [
       "9     1091942\n",
       "8      609252\n",
       "6      142125\n",
       "5       87579\n",
       "7       42063\n",
       "12       3889\n",
       "1        1187\n",
       "Name: StatutMandat, dtype: int64"
      ]
     },
     "execution_count": 18,
     "metadata": {},
     "output_type": "execute_result"
    }
   ],
   "source": [
    "df.StatutMandat.value_counts()"
   ]
  },
  {
   "cell_type": "code",
   "execution_count": 22,
   "id": "cb8e81b8",
   "metadata": {},
   "outputs": [
    {
     "name": "stdout",
     "output_type": "stream",
     "text": [
      "9    1091942\n",
      "8     609252\n",
      "7      42063\n",
      "Name: StatutMandat, dtype: int64\n"
     ]
    }
   ],
   "source": [
    "valeurs = [1, 5, 6, 12]\n",
    "\n",
    "df = df[df.StatutMandat.isin(valeurs) ==  False ]\n",
    "\n",
    "df[\"StatutMandat\"].value_counts()"
   ]
  },
  {
   "cell_type": "code",
   "execution_count": 23,
   "id": "19ef1502",
   "metadata": {},
   "outputs": [
    {
     "name": "stdout",
     "output_type": "stream",
     "text": [
      "0    1091942\n",
      "1     651315\n",
      "Name: Succes, dtype: int64\n"
     ]
    },
    {
     "name": "stderr",
     "output_type": "stream",
     "text": [
      "C:\\Users\\LOUDOU~1\\AppData\\Local\\Temp/ipykernel_9652/916217199.py:7: SettingWithCopyWarning: \n",
      "A value is trying to be set on a copy of a slice from a DataFrame.\n",
      "Try using .loc[row_indexer,col_indexer] = value instead\n",
      "\n",
      "See the caveats in the documentation: https://pandas.pydata.org/pandas-docs/stable/user_guide/indexing.html#returning-a-view-versus-a-copy\n",
      "  df['Succes'] = np.select(conditionlist, choicelist, default='Not Specified')\n"
     ]
    }
   ],
   "source": [
    "conditionlist = [\n",
    "    (df['StatutMandat'] == 9),\n",
    "    (df['StatutMandat'] == 7),\n",
    "    (df['StatutMandat'] == 8)]\n",
    "\n",
    "choicelist = ['0','1','1']\n",
    "df['Succes'] = np.select(conditionlist, choicelist, default='Not Specified')\n",
    "print(df[\"Succes\"].value_counts())"
   ]
  },
  {
   "cell_type": "code",
   "execution_count": 24,
   "id": "f13efc98",
   "metadata": {},
   "outputs": [
    {
     "data": {
      "text/plain": [
       "1    1320890\n",
       "0     323967\n",
       "2      98400\n",
       "Name: TypeProjet, dtype: int64"
      ]
     },
     "execution_count": 24,
     "metadata": {},
     "output_type": "execute_result"
    }
   ],
   "source": [
    "df.TypeProjet.value_counts()"
   ]
  },
  {
   "cell_type": "code",
   "execution_count": 27,
   "id": "86793b3e",
   "metadata": {},
   "outputs": [
    {
     "data": {
      "text/plain": [
       "0"
      ]
     },
     "execution_count": 27,
     "metadata": {},
     "output_type": "execute_result"
    }
   ],
   "source": [
    "df.TypeProjet.isnull().sum()"
   ]
  },
  {
   "cell_type": "code",
   "execution_count": 21,
   "id": "3a568da4",
   "metadata": {},
   "outputs": [
    {
     "data": {
      "text/plain": [
       "2    1053783\n",
       "1     609182\n",
       "7     202910\n",
       "5      38977\n",
       "3      31332\n",
       "8      26271\n",
       "6       7635\n",
       "4       5568\n",
       "0       2379\n",
       "Name: TypeBien, dtype: int64"
      ]
     },
     "execution_count": 21,
     "metadata": {},
     "output_type": "execute_result"
    }
   ],
   "source": [
    "df.TypeBien.value_counts()"
   ]
  },
  {
   "cell_type": "code",
   "execution_count": null,
   "id": "a10d56fe",
   "metadata": {},
   "outputs": [],
   "source": []
  }
 ],
 "metadata": {
  "kernelspec": {
   "display_name": "Python 3 (ipykernel)",
   "language": "python",
   "name": "python3"
  },
  "language_info": {
   "codemirror_mode": {
    "name": "ipython",
    "version": 3
   },
   "file_extension": ".py",
   "mimetype": "text/x-python",
   "name": "python",
   "nbconvert_exporter": "python",
   "pygments_lexer": "ipython3",
   "version": "3.8.12"
  }
 },
 "nbformat": 4,
 "nbformat_minor": 5
}
