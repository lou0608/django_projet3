{
 "cells": [
  {
   "cell_type": "code",
   "execution_count": 1,
   "id": "3b4d1cee",
   "metadata": {},
   "outputs": [],
   "source": [
    "import pandas as pd\n",
    "pd.set_option('display.max_columns', None)\n",
    "\n",
    "import numpy as np\n",
    "import scipy.stats as stat\n",
    "import scipy as sp\n",
    "import statistics\n",
    "\n",
    "import matplotlib.pyplot as plt\n",
    "from matplotlib import pyplot\n",
    "%matplotlib inline\n",
    "from mpl_toolkits.mplot3d import Axes3D\n",
    "from matplotlib import cm\n",
    "import seaborn as sns\n",
    "\n",
    "#import warnings\n",
    "#warnings.filterwarnings('ignore')\n",
    "\n",
    "# Modèle de ML\n",
    "from sklearn import linear_model\n",
    "\n",
    "# data pre-processing\n",
    "from sklearn import preprocessing\n",
    "from sklearn.model_selection import train_test_split\n",
    "\n",
    "# Outils score et evaluation de modèle\n",
    "from sklearn.metrics import accuracy_score\n",
    "from sklearn import metrics\n",
    "from sklearn.metrics import classification_report\n",
    "from sklearn.metrics import confusion_matrix\n",
    "\n",
    "from sklearn.metrics import r2_score\n",
    "\n",
    "# Outils optmisation de modèle\n",
    "from sklearn.model_selection import GridSearchCV\n",
    "from sklearn.model_selection import StratifiedKFold"
   ]
  },
  {
   "cell_type": "code",
   "execution_count": 2,
   "id": "181524ed",
   "metadata": {},
   "outputs": [
    {
     "data": {
      "text/html": [
       "<div>\n",
       "<style scoped>\n",
       "    .dataframe tbody tr th:only-of-type {\n",
       "        vertical-align: middle;\n",
       "    }\n",
       "\n",
       "    .dataframe tbody tr th {\n",
       "        vertical-align: top;\n",
       "    }\n",
       "\n",
       "    .dataframe thead th {\n",
       "        text-align: right;\n",
       "    }\n",
       "</style>\n",
       "<table border=\"1\" class=\"dataframe\">\n",
       "  <thead>\n",
       "    <tr style=\"text-align: right;\">\n",
       "      <th></th>\n",
       "      <th>MandatId</th>\n",
       "      <th>DateCreation</th>\n",
       "      <th>BienMandatId</th>\n",
       "      <th>Statut</th>\n",
       "      <th>DescriptionBien_DateOffreAcceptee</th>\n",
       "      <th>Origine_DateCollecte</th>\n",
       "      <th>CritereId</th>\n",
       "      <th>SurfaceMin</th>\n",
       "      <th>NombrePiecesEnum</th>\n",
       "      <th>NombreChambresEnum</th>\n",
       "      <th>Departement_LocalisationId</th>\n",
       "      <th>Region_LocalisationId</th>\n",
       "      <th>LocalisationId</th>\n",
       "      <th>StatutMandat</th>\n",
       "      <th>TypeMission</th>\n",
       "      <th>TypeBien</th>\n",
       "      <th>TypeProjet</th>\n",
       "      <th>BudgetMaxEuro</th>\n",
       "      <th>CodePostal</th>\n",
       "      <th>Ville</th>\n",
       "      <th>Departement</th>\n",
       "      <th>Region</th>\n",
       "      <th>Succes</th>\n",
       "    </tr>\n",
       "  </thead>\n",
       "  <tbody>\n",
       "    <tr>\n",
       "      <th>0</th>\n",
       "      <td>9049</td>\n",
       "      <td>2015-03-30</td>\n",
       "      <td>24579</td>\n",
       "      <td>1</td>\n",
       "      <td>0001-01-01</td>\n",
       "      <td>0001-01-01</td>\n",
       "      <td>9051</td>\n",
       "      <td>30</td>\n",
       "      <td>2</td>\n",
       "      <td>1</td>\n",
       "      <td>121</td>\n",
       "      <td>27</td>\n",
       "      <td>129</td>\n",
       "      <td>9</td>\n",
       "      <td>2</td>\n",
       "      <td>2</td>\n",
       "      <td>0</td>\n",
       "      <td>250000</td>\n",
       "      <td>1000</td>\n",
       "      <td>Bourg En Bresse</td>\n",
       "      <td>Ain</td>\n",
       "      <td>Rhône-Alpes</td>\n",
       "      <td>0</td>\n",
       "    </tr>\n",
       "    <tr>\n",
       "      <th>1</th>\n",
       "      <td>9049</td>\n",
       "      <td>2015-03-30</td>\n",
       "      <td>24580</td>\n",
       "      <td>0</td>\n",
       "      <td>0001-01-01</td>\n",
       "      <td>0001-01-01</td>\n",
       "      <td>9051</td>\n",
       "      <td>30</td>\n",
       "      <td>2</td>\n",
       "      <td>1</td>\n",
       "      <td>121</td>\n",
       "      <td>27</td>\n",
       "      <td>129</td>\n",
       "      <td>9</td>\n",
       "      <td>2</td>\n",
       "      <td>2</td>\n",
       "      <td>0</td>\n",
       "      <td>250000</td>\n",
       "      <td>1000</td>\n",
       "      <td>Bourg En Bresse</td>\n",
       "      <td>Ain</td>\n",
       "      <td>Rhône-Alpes</td>\n",
       "      <td>0</td>\n",
       "    </tr>\n",
       "    <tr>\n",
       "      <th>2</th>\n",
       "      <td>9049</td>\n",
       "      <td>2015-03-30</td>\n",
       "      <td>24582</td>\n",
       "      <td>1</td>\n",
       "      <td>0001-01-01</td>\n",
       "      <td>0001-01-01</td>\n",
       "      <td>9051</td>\n",
       "      <td>30</td>\n",
       "      <td>2</td>\n",
       "      <td>1</td>\n",
       "      <td>121</td>\n",
       "      <td>27</td>\n",
       "      <td>129</td>\n",
       "      <td>9</td>\n",
       "      <td>2</td>\n",
       "      <td>2</td>\n",
       "      <td>0</td>\n",
       "      <td>250000</td>\n",
       "      <td>1000</td>\n",
       "      <td>Bourg En Bresse</td>\n",
       "      <td>Ain</td>\n",
       "      <td>Rhône-Alpes</td>\n",
       "      <td>0</td>\n",
       "    </tr>\n",
       "    <tr>\n",
       "      <th>3</th>\n",
       "      <td>9049</td>\n",
       "      <td>2015-03-30</td>\n",
       "      <td>24583</td>\n",
       "      <td>0</td>\n",
       "      <td>0001-01-01</td>\n",
       "      <td>0001-01-01</td>\n",
       "      <td>9051</td>\n",
       "      <td>30</td>\n",
       "      <td>2</td>\n",
       "      <td>1</td>\n",
       "      <td>121</td>\n",
       "      <td>27</td>\n",
       "      <td>129</td>\n",
       "      <td>9</td>\n",
       "      <td>2</td>\n",
       "      <td>2</td>\n",
       "      <td>0</td>\n",
       "      <td>250000</td>\n",
       "      <td>1000</td>\n",
       "      <td>Bourg En Bresse</td>\n",
       "      <td>Ain</td>\n",
       "      <td>Rhône-Alpes</td>\n",
       "      <td>0</td>\n",
       "    </tr>\n",
       "    <tr>\n",
       "      <th>4</th>\n",
       "      <td>9049</td>\n",
       "      <td>2015-03-30</td>\n",
       "      <td>24584</td>\n",
       "      <td>7</td>\n",
       "      <td>0001-01-01</td>\n",
       "      <td>0001-01-01</td>\n",
       "      <td>9051</td>\n",
       "      <td>30</td>\n",
       "      <td>2</td>\n",
       "      <td>1</td>\n",
       "      <td>121</td>\n",
       "      <td>27</td>\n",
       "      <td>129</td>\n",
       "      <td>9</td>\n",
       "      <td>2</td>\n",
       "      <td>2</td>\n",
       "      <td>0</td>\n",
       "      <td>250000</td>\n",
       "      <td>1000</td>\n",
       "      <td>Bourg En Bresse</td>\n",
       "      <td>Ain</td>\n",
       "      <td>Rhône-Alpes</td>\n",
       "      <td>0</td>\n",
       "    </tr>\n",
       "  </tbody>\n",
       "</table>\n",
       "</div>"
      ],
      "text/plain": [
       "   MandatId DateCreation  BienMandatId  Statut  \\\n",
       "0      9049   2015-03-30         24579       1   \n",
       "1      9049   2015-03-30         24580       0   \n",
       "2      9049   2015-03-30         24582       1   \n",
       "3      9049   2015-03-30         24583       0   \n",
       "4      9049   2015-03-30         24584       7   \n",
       "\n",
       "  DescriptionBien_DateOffreAcceptee Origine_DateCollecte  CritereId  \\\n",
       "0                        0001-01-01           0001-01-01       9051   \n",
       "1                        0001-01-01           0001-01-01       9051   \n",
       "2                        0001-01-01           0001-01-01       9051   \n",
       "3                        0001-01-01           0001-01-01       9051   \n",
       "4                        0001-01-01           0001-01-01       9051   \n",
       "\n",
       "   SurfaceMin  NombrePiecesEnum  NombreChambresEnum  \\\n",
       "0          30                 2                   1   \n",
       "1          30                 2                   1   \n",
       "2          30                 2                   1   \n",
       "3          30                 2                   1   \n",
       "4          30                 2                   1   \n",
       "\n",
       "   Departement_LocalisationId  Region_LocalisationId  LocalisationId  \\\n",
       "0                         121                     27             129   \n",
       "1                         121                     27             129   \n",
       "2                         121                     27             129   \n",
       "3                         121                     27             129   \n",
       "4                         121                     27             129   \n",
       "\n",
       "   StatutMandat  TypeMission  TypeBien  TypeProjet  BudgetMaxEuro  CodePostal  \\\n",
       "0             9            2         2           0         250000        1000   \n",
       "1             9            2         2           0         250000        1000   \n",
       "2             9            2         2           0         250000        1000   \n",
       "3             9            2         2           0         250000        1000   \n",
       "4             9            2         2           0         250000        1000   \n",
       "\n",
       "             Ville Departement       Region  Succes  \n",
       "0  Bourg En Bresse         Ain  Rhône-Alpes       0  \n",
       "1  Bourg En Bresse         Ain  Rhône-Alpes       0  \n",
       "2  Bourg En Bresse         Ain  Rhône-Alpes       0  \n",
       "3  Bourg En Bresse         Ain  Rhône-Alpes       0  \n",
       "4  Bourg En Bresse         Ain  Rhône-Alpes       0  "
      ]
     },
     "execution_count": 2,
     "metadata": {},
     "output_type": "execute_result"
    }
   ],
   "source": [
    "df = pd.read_csv('Result_final_1.csv')\n",
    "df = df.drop(\"Unnamed: 0\", axis = 1)\n",
    "df.head()"
   ]
  },
  {
   "cell_type": "code",
   "execution_count": 3,
   "id": "b0b84c6d",
   "metadata": {},
   "outputs": [
    {
     "name": "stdout",
     "output_type": "stream",
     "text": [
      "<class 'pandas.core.frame.DataFrame'>\n",
      "RangeIndex: 1743257 entries, 0 to 1743256\n",
      "Data columns (total 23 columns):\n",
      " #   Column                             Dtype \n",
      "---  ------                             ----- \n",
      " 0   MandatId                           int64 \n",
      " 1   DateCreation                       object\n",
      " 2   BienMandatId                       int64 \n",
      " 3   Statut                             int64 \n",
      " 4   DescriptionBien_DateOffreAcceptee  object\n",
      " 5   Origine_DateCollecte               object\n",
      " 6   CritereId                          int64 \n",
      " 7   SurfaceMin                         int64 \n",
      " 8   NombrePiecesEnum                   int64 \n",
      " 9   NombreChambresEnum                 int64 \n",
      " 10  Departement_LocalisationId         int64 \n",
      " 11  Region_LocalisationId              int64 \n",
      " 12  LocalisationId                     int64 \n",
      " 13  StatutMandat                       int64 \n",
      " 14  TypeMission                        int64 \n",
      " 15  TypeBien                           int64 \n",
      " 16  TypeProjet                         int64 \n",
      " 17  BudgetMaxEuro                      int64 \n",
      " 18  CodePostal                         int64 \n",
      " 19  Ville                              object\n",
      " 20  Departement                        object\n",
      " 21  Region                             object\n",
      " 22  Succes                             int64 \n",
      "dtypes: int64(17), object(6)\n",
      "memory usage: 305.9+ MB\n"
     ]
    }
   ],
   "source": [
    "df.info()"
   ]
  },
  {
   "cell_type": "code",
   "execution_count": 4,
   "id": "56411ab5",
   "metadata": {},
   "outputs": [],
   "source": [
    "df.drop([\"MandatId\", \"BienMandatId\",\"CritereId\",\"Statut\",\"StatutMandat\",\"DateCreation\", \"DescriptionBien_DateOffreAcceptee\",\"Origine_DateCollecte\", \"Departement_LocalisationId\", \"Region_LocalisationId\", \"LocalisationId\"], axis = 1, inplace = True)"
   ]
  },
  {
   "cell_type": "code",
   "execution_count": 5,
   "id": "1bfed063",
   "metadata": {},
   "outputs": [
    {
     "name": "stdout",
     "output_type": "stream",
     "text": [
      "<class 'pandas.core.frame.DataFrame'>\n",
      "RangeIndex: 1743257 entries, 0 to 1743256\n",
      "Data columns (total 12 columns):\n",
      " #   Column              Dtype \n",
      "---  ------              ----- \n",
      " 0   SurfaceMin          int64 \n",
      " 1   NombrePiecesEnum    int64 \n",
      " 2   NombreChambresEnum  int64 \n",
      " 3   TypeMission         int64 \n",
      " 4   TypeBien            int64 \n",
      " 5   TypeProjet          int64 \n",
      " 6   BudgetMaxEuro       int64 \n",
      " 7   CodePostal          int64 \n",
      " 8   Ville               object\n",
      " 9   Departement         object\n",
      " 10  Region              object\n",
      " 11  Succes              int64 \n",
      "dtypes: int64(9), object(3)\n",
      "memory usage: 159.6+ MB\n"
     ]
    }
   ],
   "source": [
    "df.info()"
   ]
  },
  {
   "cell_type": "code",
   "execution_count": 6,
   "id": "0f7c65ab",
   "metadata": {},
   "outputs": [],
   "source": [
    "X =df.drop([\"Succes\", \"Ville\", \"Departement\", \"Region\"], axis = 1)"
   ]
  },
  {
   "cell_type": "code",
   "execution_count": 7,
   "id": "b9966d16",
   "metadata": {},
   "outputs": [],
   "source": [
    "y = df['Succes']"
   ]
  },
  {
   "cell_type": "code",
   "execution_count": 8,
   "id": "7e416e2d",
   "metadata": {},
   "outputs": [],
   "source": [
    "X_train, X_test, y_train, y_test = train_test_split(X, y, test_size=0.25, random_state=42)"
   ]
  },
  {
   "cell_type": "code",
   "execution_count": 9,
   "id": "a0027962",
   "metadata": {},
   "outputs": [
    {
     "data": {
      "text/plain": [
       "Index(['SurfaceMin', 'NombrePiecesEnum', 'NombreChambresEnum', 'TypeMission',\n",
       "       'TypeBien', 'TypeProjet', 'BudgetMaxEuro', 'CodePostal'],\n",
       "      dtype='object')"
      ]
     },
     "execution_count": 9,
     "metadata": {},
     "output_type": "execute_result"
    }
   ],
   "source": [
    "X_train.columns"
   ]
  },
  {
   "cell_type": "code",
   "execution_count": 10,
   "id": "e0692399",
   "metadata": {},
   "outputs": [],
   "source": [
    "from sklearn.preprocessing import StandardScaler\n",
    "scaler = StandardScaler()\n",
    "X_train = scaler.fit_transform(X_train)\n",
    "X_test = scaler.transform(X_test)"
   ]
  },
  {
   "cell_type": "markdown",
   "id": "8c6a48b6",
   "metadata": {},
   "source": [
    "# LightGBMClassifier"
   ]
  },
  {
   "cell_type": "code",
   "execution_count": 22,
   "id": "0e0143b2",
   "metadata": {},
   "outputs": [
    {
     "data": {
      "text/plain": [
       "LGBMClassifier()"
      ]
     },
     "execution_count": 22,
     "metadata": {},
     "output_type": "execute_result"
    }
   ],
   "source": [
    "import lightgbm as lgb\n",
    "clf = lgb.LGBMClassifier()\n",
    "clf.fit(X_train, y_train)"
   ]
  },
  {
   "cell_type": "code",
   "execution_count": 23,
   "id": "7d0dce84",
   "metadata": {},
   "outputs": [],
   "source": [
    "y_clf = clf.predict(X_test)"
   ]
  },
  {
   "cell_type": "code",
   "execution_count": 24,
   "id": "7af42d76",
   "metadata": {},
   "outputs": [
    {
     "name": "stdout",
     "output_type": "stream",
     "text": [
      "                  precision    recall  f1-score   support\n",
      "\n",
      "  Echec(Class 0)       0.80      0.95      0.87    272997\n",
      "Succès (Class 1)       0.88      0.61      0.72    162818\n",
      "\n",
      "        accuracy                           0.82    435815\n",
      "       macro avg       0.84      0.78      0.80    435815\n",
      "    weighted avg       0.83      0.82      0.81    435815\n",
      "\n"
     ]
    }
   ],
   "source": [
    "from sklearn.metrics import classification_report\n",
    "print(classification_report(y_test,y_clf,target_names = ['Echec(Class 0)','Succès (Class 1)']))"
   ]
  },
  {
   "cell_type": "code",
   "execution_count": 25,
   "id": "cb6506b9",
   "metadata": {},
   "outputs": [
    {
     "data": {
      "text/plain": [
       "<AxesSubplot:>"
      ]
     },
     "execution_count": 25,
     "metadata": {},
     "output_type": "execute_result"
    },
    {
     "data": {
      "image/png": "[encoded data removed]",
      "text/plain": [
       "<Figure size 432x288 with 2 Axes>"
      ]
     },
     "metadata": {
      "needs_background": "light"
     },
     "output_type": "display_data"
    }
   ],
   "source": [
    "cm = confusion_matrix(y_test,clf.predict(X_test))\n",
    "sns.heatmap(cm,annot=True,fmt=\"d\")"
   ]
  },
  {
   "cell_type": "code",
   "execution_count": 27,
   "id": "e6846e29",
   "metadata": {},
   "outputs": [
    {
     "data": {
      "image/png": "[encoded data removed]",
      "text/plain": [
       "<Figure size 432x288 with 1 Axes>"
      ]
     },
     "metadata": {
      "needs_background": "light"
     },
     "output_type": "display_data"
    }
   ],
   "source": [
    "from sklearn.metrics import plot_roc_curve\n",
    "plot_roc_curve(clf, X_train,y_train )\n",
    "plt.plot([0,1],[0,1])\n",
    "plt.xlabel('false positive')\n",
    "plt.ylabel('true positve')\n",
    "plt.title('ROC curve LGBMClassifier')\n",
    "plt.show()"
   ]
  },
  {
   "cell_type": "markdown",
   "id": "dcb5ee39",
   "metadata": {},
   "source": [
    "# XGBClassifier"
   ]
  },
  {
   "cell_type": "code",
   "execution_count": 30,
   "id": "8a3b8906",
   "metadata": {},
   "outputs": [
    {
     "data": {
      "text/plain": [
       "XGBClassifier(base_score=0.5, booster='gbtree', colsample_bylevel=1,\n",
       "              colsample_bynode=1, colsample_bytree=1, gamma=0, gpu_id=-1,\n",
       "              importance_type='gain', interaction_constraints='',\n",
       "              learning_rate=0.300000012, max_delta_step=0, max_depth=6,\n",
       "              min_child_weight=1, missing=nan, monotone_constraints='()',\n",
       "              n_estimators=100, n_jobs=0, num_parallel_tree=1, random_state=0,\n",
       "              reg_alpha=0, reg_lambda=1, scale_pos_weight=1, subsample=1,\n",
       "              tree_method='exact', validate_parameters=1, verbosity=None)"
      ]
     },
     "execution_count": 30,
     "metadata": {},
     "output_type": "execute_result"
    }
   ],
   "source": [
    "from xgboost import XGBClassifier\n",
    "xgb = XGBClassifier(objective='binary:logistic')\n",
    "xgb.fit(X_train, y_train,eval_metric = \"logloss\",verbose=True)"
   ]
  },
  {
   "cell_type": "code",
   "execution_count": 31,
   "id": "65063738",
   "metadata": {},
   "outputs": [],
   "source": [
    "y_xgb = xgb.predict(X_test)"
   ]
  },
  {
   "cell_type": "code",
   "execution_count": 32,
   "id": "c571a378",
   "metadata": {},
   "outputs": [
    {
     "name": "stdout",
     "output_type": "stream",
     "text": [
      "                  precision    recall  f1-score   support\n",
      "\n",
      "  Echec(Class 0)       0.88      0.94      0.91    272997\n",
      "Succès (Class 1)       0.89      0.79      0.84    162818\n",
      "\n",
      "        accuracy                           0.88    435815\n",
      "       macro avg       0.89      0.87      0.87    435815\n",
      "    weighted avg       0.89      0.88      0.88    435815\n",
      "\n"
     ]
    }
   ],
   "source": [
    "from sklearn.metrics import classification_report\n",
    "print(classification_report(y_test,y_xgb,target_names = ['Echec(Class 0)','Succès (Class 1)']))"
   ]
  },
  {
   "cell_type": "code",
   "execution_count": 33,
   "id": "f4f8856d",
   "metadata": {},
   "outputs": [
    {
     "data": {
      "text/plain": [
       "<AxesSubplot:>"
      ]
     },
     "execution_count": 33,
     "metadata": {},
     "output_type": "execute_result"
    },
    {
     "data": {
      "image/png": "[encoded data removed]",
      "text/plain": [
       "<Figure size 432x288 with 2 Axes>"
      ]
     },
     "metadata": {
      "needs_background": "light"
     },
     "output_type": "display_data"
    }
   ],
   "source": [
    "cm = confusion_matrix(y_test,xgb.predict(X_test))\n",
    "sns.heatmap(cm,annot=True,fmt=\"d\")"
   ]
  },
  {
   "cell_type": "code",
   "execution_count": 34,
   "id": "adb23f96",
   "metadata": {},
   "outputs": [
    {
     "data": {
      "image/png": "[encoded data removed]",
      "text/plain": [
       "<Figure size 432x288 with 1 Axes>"
      ]
     },
     "metadata": {
      "needs_background": "light"
     },
     "output_type": "display_data"
    }
   ],
   "source": [
    "from sklearn.metrics import plot_roc_curve\n",
    "plot_roc_curve(xgb, X_train,y_train )\n",
    "plt.plot([0,1],[0,1])\n",
    "plt.xlabel('false positive')\n",
    "plt.ylabel('true positve')\n",
    "plt.title('ROC curve XGBClassifier')\n",
    "plt.show()"
   ]
  },
  {
   "cell_type": "markdown",
   "id": "1ff3a5b3",
   "metadata": {},
   "source": [
    "# Xgboost + RandomSizeSearchCv"
   ]
  },
  {
   "cell_type": "code",
   "execution_count": 17,
   "id": "30b8a8ca",
   "metadata": {},
   "outputs": [
    {
     "data": {
      "text/plain": [
       "XGBClassifier(base_score=0.5, booster='gbtree', colsample_bylevel=1,\n",
       "              colsample_bynode=1, colsample_bytree=0.5, gamma=0.2, gpu_id=-1,\n",
       "              importance_type='gain', interaction_constraints='',\n",
       "              learning_rate=0.25, max_delta_step=0, max_depth=19,\n",
       "              min_child_weight=7, missing=nan, monotone_constraints='()',\n",
       "              n_estimators=100, n_jobs=0, num_parallel_tree=1, random_state=0,\n",
       "              reg_alpha=0, reg_lambda=1, scale_pos_weight=1, subsample=1,\n",
       "              tree_method='exact', validate_parameters=1, verbosity=None)"
      ]
     },
     "execution_count": 17,
     "metadata": {},
     "output_type": "execute_result"
    }
   ],
   "source": [
    "from sklearn.metrics import classification_report, confusion_matrix\n",
    "from sklearn.model_selection import RandomizedSearchCV\n",
    "import xgboost\n",
    "#Hyper parameter optimization\n",
    "params={\n",
    "   \"learning_rate\": [0.05, 0.10, 0.15, 0.20, 0.25, 0.30],\n",
    "    \"max_depth\": [5,6,7,8,9,10,11,12,13,14,15,16,17,18,19,20],\n",
    "    \"min_child_weight\": [1,3,5,7,9],\n",
    "    \"gamma\": [0.0, 0.1, 0.2, 0.3, 0.4],\n",
    "    \"colsample_bytree\": [0.3, 0.4, 0.5, 0.6, 0.7]\n",
    "}\n",
    "\n",
    "classifier=xgboost.XGBClassifier()\n",
    "random_search=RandomizedSearchCV(classifier, param_distributions=params, n_iter=5, n_jobs=-1, cv=5, verbose=0)\n",
    "\n",
    "random_search.fit(X_train, y_train)\n",
    "random_search.best_estimator_"
   ]
  },
  {
   "cell_type": "code",
   "execution_count": 19,
   "id": "f7e23354",
   "metadata": {},
   "outputs": [
    {
     "data": {
      "text/plain": [
       "XGBClassifier(base_score=0.5, booster='gbtree', colsample_bylevel=1,\n",
       "              colsample_bynode=1, colsample_bytree=0.5, gamma=0.2, gpu_id=-1,\n",
       "              importance_type='gain', interaction_constraints='',\n",
       "              learning_rate=0.25, max_delta_step=0, max_depth=19,\n",
       "              min_child_weight=7, missing=nan, monotone_constraints='()',\n",
       "              n_estimators=100, n_jobs=0, num_parallel_tree=1, predictor='auto',\n",
       "              random_state=0, reg_alpha=0, reg_lambda=1, scale_pos_weight=1,\n",
       "              subsample=1, tree_method='exact', validate_parameters=1,\n",
       "              verbosity=None)"
      ]
     },
     "execution_count": 19,
     "metadata": {},
     "output_type": "execute_result"
    }
   ],
   "source": [
    "#Build a model using the optimized hyperparameters\n",
    "classifier=xgboost.XGBClassifier(base_score=0.5, booster='gbtree', colsample_bylevel=1,\n",
    "              colsample_bynode=1, colsample_bytree=0.5,\n",
    "              gamma=0.2, gpu_id=-1,\n",
    "              importance_type='gain', interaction_constraints='',\n",
    "              learning_rate=0.25, max_delta_step=0, max_depth=19,\n",
    "              min_child_weight=7,monotone_constraints='()',\n",
    "              n_estimators=100, n_jobs=0, num_parallel_tree=1, predictor='auto',\n",
    "              random_state=0, reg_alpha=0, reg_lambda=1, scale_pos_weight=1,\n",
    "              subsample=1, tree_method='exact', validate_parameters=1,\n",
    "              verbosity=None)\n",
    "classifier.fit(X_train, y_train)"
   ]
  },
  {
   "cell_type": "code",
   "execution_count": 21,
   "id": "17d9fce4",
   "metadata": {},
   "outputs": [
    {
     "name": "stdout",
     "output_type": "stream",
     "text": [
      "[[269909   3088]\n",
      " [  3819 158999]]\n"
     ]
    }
   ],
   "source": [
    "from sklearn.metrics import confusion_matrix\n",
    "y_pred = classifier.predict(X_test)\n",
    "print(confusion_matrix(y_test, y_pred))"
   ]
  },
  {
   "cell_type": "code",
   "execution_count": 25,
   "id": "cda954b4",
   "metadata": {},
   "outputs": [
    {
     "data": {
      "text/plain": [
       "<AxesSubplot:>"
      ]
     },
     "execution_count": 25,
     "metadata": {},
     "output_type": "execute_result"
    },
    {
     "data": {
      "image/png": "[encoded data removed]",
      "text/plain": [
       "<Figure size 432x288 with 2 Axes>"
      ]
     },
     "metadata": {
      "needs_background": "light"
     },
     "output_type": "display_data"
    }
   ],
   "source": [
    "cm = confusion_matrix(y_test,classifier.predict(X_test))\n",
    "sns.heatmap(cm,annot=True,fmt=\"d\")"
   ]
  },
  {
   "cell_type": "code",
   "execution_count": 22,
   "id": "1c80dfb2",
   "metadata": {},
   "outputs": [
    {
     "name": "stdout",
     "output_type": "stream",
     "text": [
      "0.9841515321868224\n"
     ]
    }
   ],
   "source": [
    "from sklearn.metrics import accuracy_score, classification_report\n",
    "print(accuracy_score(y_test, y_pred))"
   ]
  },
  {
   "cell_type": "code",
   "execution_count": 23,
   "id": "56b2c08d",
   "metadata": {},
   "outputs": [
    {
     "name": "stdout",
     "output_type": "stream",
     "text": [
      "              precision    recall  f1-score   support\n",
      "\n",
      "           0       0.99      0.99      0.99    272997\n",
      "           1       0.98      0.98      0.98    162818\n",
      "\n",
      "    accuracy                           0.98    435815\n",
      "   macro avg       0.98      0.98      0.98    435815\n",
      "weighted avg       0.98      0.98      0.98    435815\n",
      "\n"
     ]
    }
   ],
   "source": [
    "print(classification_report(y_test, y_pred))"
   ]
  },
  {
   "cell_type": "code",
   "execution_count": 24,
   "id": "ef86317b",
   "metadata": {},
   "outputs": [
    {
     "data": {
      "image/png": "[encoded data removed]",
      "text/plain": [
       "<Figure size 432x288 with 1 Axes>"
      ]
     },
     "metadata": {
      "needs_background": "light"
     },
     "output_type": "display_data"
    }
   ],
   "source": [
    "from sklearn.metrics import plot_roc_curve\n",
    "plot_roc_curve(classifier, X_train,y_train )\n",
    "plt.plot([0,1],[0,1])\n",
    "plt.xlabel('false positive')\n",
    "plt.ylabel('true positve')\n",
    "plt.title('ROC curve XGBClassifier')\n",
    "plt.show()"
   ]
  },
  {
   "cell_type": "markdown",
   "id": "e4112f9f",
   "metadata": {},
   "source": [
    "# XGBoost + GridSearchCV"
   ]
  },
  {
   "cell_type": "code",
   "execution_count": 34,
   "id": "9b061469",
   "metadata": {},
   "outputs": [
    {
     "data": {
      "text/plain": [
       "XGBClassifier(base_score=0.5, booster='gbtree', colsample_bylevel=1,\n",
       "              colsample_bynode=1, colsample_bytree=1, gamma=0, gpu_id=-1,\n",
       "              importance_type='gain', interaction_constraints='',\n",
       "              learning_rate=0.1, max_delta_step=0, max_depth=8,\n",
       "              min_child_weight=1, missing=nan, monotone_constraints='()',\n",
       "              n_estimators=100, n_jobs=0, num_parallel_tree=1, random_state=0,\n",
       "              reg_alpha=0, reg_lambda=1, scale_pos_weight=1, subsample=1,\n",
       "              tree_method='exact', validate_parameters=1, verbosity=None)"
      ]
     },
     "execution_count": 34,
     "metadata": {},
     "output_type": "execute_result"
    }
   ],
   "source": [
    "from sklearn.metrics import classification_report, confusion_matrix\n",
    "from sklearn.model_selection import GridSearchCV\n",
    "import xgboost\n",
    "#Hyper parameter optimization\n",
    "params={\n",
    "   \"learning_rate\": [0.05, 0.10],\n",
    "    \"max_depth\": [5,6,7,8]\n",
    "}\n",
    "\n",
    "classifier=xgboost.XGBClassifier()\n",
    "GCV=GridSearchCV(classifier, params)\n",
    "\n",
    "GCV.fit(X_train, y_train)\n",
    "GCV.best_estimator_"
   ]
  },
  {
   "cell_type": "code",
   "execution_count": 38,
   "id": "fc1e90dc",
   "metadata": {},
   "outputs": [
    {
     "data": {
      "text/plain": [
       "XGBClassifier(base_score=0.5, booster='gbtree', colsample_bylevel=1,\n",
       "              colsample_bynode=1, colsample_bytree=1, gamma=0, gpu_id=-1,\n",
       "              importance_type='gain', interaction_constraints='',\n",
       "              learning_rate=0.1, max_delta_step=0, max_depth=8,\n",
       "              min_child_weight=1, missing=nan, monotone_constraints='()',\n",
       "              n_estimators=100, n_jobs=0, num_parallel_tree=1, random_state=0,\n",
       "              reg_alpha=0, reg_lambda=1, scale_pos_weight=1, subsample=1,\n",
       "              tree_method='exact', validate_parameters=1, verbosity=None)"
      ]
     },
     "execution_count": 38,
     "metadata": {},
     "output_type": "execute_result"
    }
   ],
   "source": [
    "classifier2 = xgboost.XGBClassifier(base_score=0.5, booster='gbtree', colsample_bylevel=1,\n",
    "              colsample_bynode=1, colsample_bytree=1, gamma=0, gpu_id=-1,\n",
    "              importance_type='gain', interaction_constraints='',\n",
    "              learning_rate=0.1, max_delta_step=0, max_depth=8,\n",
    "              min_child_weight=1, monotone_constraints='()',\n",
    "              n_estimators=100, n_jobs=0, num_parallel_tree=1, random_state=0,\n",
    "              reg_alpha=0, reg_lambda=1, scale_pos_weight=1, subsample=1,\n",
    "              tree_method='exact', validate_parameters=1, verbosity=None)\n",
    "classifier2.fit(X_train, y_train)"
   ]
  },
  {
   "cell_type": "code",
   "execution_count": 39,
   "id": "009b6f3c",
   "metadata": {},
   "outputs": [
    {
     "name": "stdout",
     "output_type": "stream",
     "text": [
      "[[259836  13161]\n",
      " [ 39465 123353]]\n"
     ]
    }
   ],
   "source": [
    "from sklearn.metrics import confusion_matrix\n",
    "y_pred = classifier2.predict(X_test)\n",
    "print(confusion_matrix(y_test, y_pred))"
   ]
  },
  {
   "cell_type": "code",
   "execution_count": 42,
   "id": "f701bd3c",
   "metadata": {},
   "outputs": [
    {
     "data": {
      "text/plain": [
       "<AxesSubplot:>"
      ]
     },
     "execution_count": 42,
     "metadata": {},
     "output_type": "execute_result"
    },
    {
     "data": {
      "image/png": "[encoded data removed]",
      "text/plain": [
       "<Figure size 432x288 with 2 Axes>"
      ]
     },
     "metadata": {
      "needs_background": "light"
     },
     "output_type": "display_data"
    }
   ],
   "source": [
    "cm = confusion_matrix(y_test,classifier2.predict(X_test))\n",
    "sns.heatmap(cm,annot=True,fmt=\"d\")"
   ]
  },
  {
   "cell_type": "code",
   "execution_count": 40,
   "id": "6f66f29e",
   "metadata": {},
   "outputs": [
    {
     "name": "stdout",
     "output_type": "stream",
     "text": [
      "0.8792469281690626\n"
     ]
    }
   ],
   "source": [
    "from sklearn.metrics import accuracy_score, classification_report\n",
    "print(accuracy_score(y_test, y_pred))"
   ]
  },
  {
   "cell_type": "code",
   "execution_count": 41,
   "id": "55673daf",
   "metadata": {},
   "outputs": [
    {
     "name": "stdout",
     "output_type": "stream",
     "text": [
      "              precision    recall  f1-score   support\n",
      "\n",
      "           0       0.87      0.95      0.91    272997\n",
      "           1       0.90      0.76      0.82    162818\n",
      "\n",
      "    accuracy                           0.88    435815\n",
      "   macro avg       0.89      0.85      0.87    435815\n",
      "weighted avg       0.88      0.88      0.88    435815\n",
      "\n"
     ]
    }
   ],
   "source": [
    "print(classification_report(y_test, y_pred))"
   ]
  },
  {
   "cell_type": "code",
   "execution_count": 49,
   "id": "4929c896",
   "metadata": {},
   "outputs": [
    {
     "data": {
      "text/plain": [
       "Index(['SurfaceMin', 'NombrePiecesEnum', 'NombreChambresEnum', 'TypeMission',\n",
       "       'TypeBien', 'TypeProjet', 'BudgetMaxEuro', 'CodePostal'],\n",
       "      dtype='object')"
      ]
     },
     "execution_count": 49,
     "metadata": {},
     "output_type": "execute_result"
    }
   ],
   "source": [
    "X.columns"
   ]
  },
  {
   "cell_type": "code",
   "execution_count": 45,
   "id": "5b875472",
   "metadata": {},
   "outputs": [
    {
     "data": {
      "text/plain": [
       "array([0.11018915, 0.12086584, 0.13538036, 0.12821971, 0.11489712,\n",
       "       0.1123558 , 0.1655678 , 0.11252427], dtype=float32)"
      ]
     },
     "execution_count": 45,
     "metadata": {},
     "output_type": "execute_result"
    }
   ],
   "source": [
    "classifier2.feature_importances_"
   ]
  },
  {
   "cell_type": "code",
   "execution_count": 46,
   "id": "733a5595",
   "metadata": {},
   "outputs": [
    {
     "data": {
      "text/plain": [
       "<AxesSubplot:title={'center':'Feature importance'}, xlabel='F score', ylabel='Features'>"
      ]
     },
     "execution_count": 46,
     "metadata": {},
     "output_type": "execute_result"
    },
    {
     "data": {
      "image/png": "[encoded data removed]",
      "text/plain": [
       "<Figure size 432x288 with 1 Axes>"
      ]
     },
     "metadata": {
      "needs_background": "light"
     },
     "output_type": "display_data"
    }
   ],
   "source": [
    "from xgboost import plot_importance\n",
    "plot_importance(classifier2, )"
   ]
  },
  {
   "cell_type": "code",
   "execution_count": null,
   "id": "5e99f72f",
   "metadata": {},
   "outputs": [],
   "source": [
    "xgb.to_graphviz(boost, num_trees=2)"
   ]
  },
  {
   "cell_type": "code",
   "execution_count": 44,
   "id": "688e48fe",
   "metadata": {},
   "outputs": [
    {
     "ename": "AttributeError",
     "evalue": "'XGBClassifier' object has no attribute 'plot_importance'",
     "output_type": "error",
     "traceback": [
      "\u001b[1;31m---------------------------------------------------------------------------\u001b[0m",
      "\u001b[1;31mAttributeError\u001b[0m                            Traceback (most recent call last)",
      "\u001b[1;32mC:\\Users\\LOUDOU~1\\AppData\\Local\\Temp/ipykernel_26480/4210132166.py\u001b[0m in \u001b[0;36m<module>\u001b[1;34m\u001b[0m\n\u001b[1;32m----> 1\u001b[1;33m \u001b[0mclassifier2\u001b[0m\u001b[1;33m.\u001b[0m\u001b[0mplot_importance\u001b[0m\u001b[1;33m(\u001b[0m\u001b[0mboost\u001b[0m\u001b[1;33m)\u001b[0m\u001b[1;33m\u001b[0m\u001b[1;33m\u001b[0m\u001b[0m\n\u001b[0m",
      "\u001b[1;31mAttributeError\u001b[0m: 'XGBClassifier' object has no attribute 'plot_importance'"
     ]
    }
   ],
   "source": [
    "classifier2.plot_importance(boost)"
   ]
  },
  {
   "cell_type": "code",
   "execution_count": null,
   "id": "7ff782f3",
   "metadata": {},
   "outputs": [],
   "source": []
  },
  {
   "cell_type": "code",
   "execution_count": 53,
   "id": "0ba684f2",
   "metadata": {},
   "outputs": [
    {
     "data": {
      "text/plain": [
       "XGBClassifier(base_score=0.5, booster='gbtree', colsample_bylevel=1,\n",
       "              colsample_bynode=1, colsample_bytree=1, gamma=0, gpu_id=-1,\n",
       "              importance_type='gain', interaction_constraints='',\n",
       "              learning_rate=0.2, max_delta_step=0, max_depth=11,\n",
       "              min_child_weight=1, missing=nan, monotone_constraints='()',\n",
       "              n_estimators=100, n_jobs=0, num_parallel_tree=1, random_state=0,\n",
       "              reg_alpha=0, reg_lambda=1, scale_pos_weight=1, subsample=1,\n",
       "              tree_method='exact', validate_parameters=1, verbosity=None)"
      ]
     },
     "execution_count": 53,
     "metadata": {},
     "output_type": "execute_result"
    }
   ],
   "source": [
    "from sklearn.metrics import classification_report, confusion_matrix\n",
    "from sklearn.model_selection import GridSearchCV\n",
    "import xgboost\n",
    "#Hyper parameter optimization\n",
    "params={\n",
    "   \"learning_rate\": [0.1, 0.15, 0.2],\n",
    "    \"max_depth\": [8,9,10,11]\n",
    "}\n",
    "\n",
    "classifier3=xgboost.XGBClassifier()\n",
    "GCV=GridSearchCV(classifier3, params)\n",
    "\n",
    "GCV.fit(X_train, y_train)\n",
    "GCV.best_estimator_"
   ]
  },
  {
   "cell_type": "code",
   "execution_count": 57,
   "id": "066067bd",
   "metadata": {},
   "outputs": [
    {
     "name": "stdout",
     "output_type": "stream",
     "text": [
      "              precision    recall  f1-score   support\n",
      "\n",
      "           0       0.87      0.95      0.91    272997\n",
      "           1       0.90      0.76      0.82    162818\n",
      "\n",
      "    accuracy                           0.88    435815\n",
      "   macro avg       0.89      0.85      0.87    435815\n",
      "weighted avg       0.88      0.88      0.88    435815\n",
      "\n"
     ]
    }
   ],
   "source": [
    "print(classification_report(y_test, y_pred))"
   ]
  },
  {
   "cell_type": "code",
   "execution_count": 56,
   "id": "d8b7c04d",
   "metadata": {},
   "outputs": [
    {
     "data": {
      "text/plain": [
       "<AxesSubplot:>"
      ]
     },
     "execution_count": 56,
     "metadata": {},
     "output_type": "execute_result"
    },
    {
     "data": {
      "image/png": "[encoded data removed]",
      "text/plain": [
       "<Figure size 432x288 with 2 Axes>"
      ]
     },
     "metadata": {
      "needs_background": "light"
     },
     "output_type": "display_data"
    }
   ],
   "source": [
    "cm = confusion_matrix(y_test,GCV.predict(X_test))\n",
    "sns.heatmap(cm,annot=True,fmt=\"d\")"
   ]
  },
  {
   "cell_type": "code",
   "execution_count": 59,
   "id": "c13e11f4",
   "metadata": {},
   "outputs": [
    {
     "data": {
      "text/plain": [
       "GridSearchCV(estimator=XGBClassifier(base_score=None, booster=None,\n",
       "                                     colsample_bylevel=None,\n",
       "                                     colsample_bynode=None,\n",
       "                                     colsample_bytree=None, gamma=None,\n",
       "                                     gpu_id=None, importance_type='gain',\n",
       "                                     interaction_constraints=None,\n",
       "                                     learning_rate=None, max_delta_step=None,\n",
       "                                     max_depth=None, min_child_weight=None,\n",
       "                                     missing=nan, monotone_constraints=None,\n",
       "                                     n_estimators=100, n_jobs=None,\n",
       "                                     num_parallel_tree=None, random_state=None,\n",
       "                                     reg_alpha=None, reg_lambda=None,\n",
       "                                     scale_pos_weight=None, subsample=None,\n",
       "                                     tree_method=None, validate_parameters=None,\n",
       "                                     verbosity=None),\n",
       "             param_grid={'learning_rate': [0.2, 0.3, 0.4],\n",
       "                         'max_depth': [11, 12, 13]})"
      ]
     },
     "execution_count": 59,
     "metadata": {},
     "output_type": "execute_result"
    }
   ],
   "source": [
    "from sklearn.metrics import classification_report, confusion_matrix\n",
    "from sklearn.model_selection import GridSearchCV\n",
    "import xgboost\n",
    "#Hyper parameter optimization\n",
    "params={\n",
    "   \"learning_rate\": [0.2, 0.3, 0.4],\n",
    "    \"max_depth\": [11, 12, 13]\n",
    "}\n",
    "\n",
    "classifier=xgboost.XGBClassifier()\n",
    "GCV4=GridSearchCV(classifier, params)\n",
    "\n",
    "GCV4.fit(X_train, y_train)"
   ]
  },
  {
   "cell_type": "code",
   "execution_count": null,
   "id": "5fac5864",
   "metadata": {},
   "outputs": [],
   "source": []
  },
  {
   "cell_type": "code",
   "execution_count": null,
   "id": "32810e99",
   "metadata": {},
   "outputs": [],
   "source": []
  },
  {
   "cell_type": "code",
   "execution_count": null,
   "id": "a956ad86",
   "metadata": {},
   "outputs": [],
   "source": []
  },
  {
   "cell_type": "code",
   "execution_count": null,
   "id": "6fbb3a89",
   "metadata": {},
   "outputs": [],
   "source": []
  },
  {
   "cell_type": "code",
   "execution_count": null,
   "id": "e53b252a",
   "metadata": {},
   "outputs": [],
   "source": []
  },
  {
   "cell_type": "code",
   "execution_count": null,
   "id": "efc20de9",
   "metadata": {},
   "outputs": [],
   "source": []
  },
  {
   "cell_type": "markdown",
   "id": "c280f473",
   "metadata": {},
   "source": [
    "# Regression logistique"
   ]
  },
  {
   "cell_type": "code",
   "execution_count": 11,
   "id": "0a4c90f5",
   "metadata": {},
   "outputs": [
    {
     "name": "stderr",
     "output_type": "stream",
     "text": [
      "C:\\Users\\Lou Doussiet\\AppData\\Roaming\\Python\\Python38\\site-packages\\scipy\\optimize\\linesearch.py:327: LineSearchWarning: The line search algorithm did not converge\n",
      "  warn('The line search algorithm did not converge', LineSearchWarning)\n",
      "C:\\anaconda3\\lib\\site-packages\\sklearn\\utils\\optimize.py:204: UserWarning: Line Search failed\n",
      "  warnings.warn('Line Search failed')\n"
     ]
    },
    {
     "data": {
      "text/plain": [
       "LogisticRegression(C=0.001, solver='newton-cg')"
      ]
     },
     "execution_count": 11,
     "metadata": {},
     "output_type": "execute_result"
    }
   ],
   "source": [
    "from sklearn.linear_model import LogisticRegression\n",
    "lr = LogisticRegression(solver='newton-cg', C =0.001, penalty = 'l2' )\n",
    "lr.fit(X_train,y_train)"
   ]
  },
  {
   "cell_type": "code",
   "execution_count": 12,
   "id": "eb1a2ec6",
   "metadata": {},
   "outputs": [],
   "source": [
    "y_lr = lr.predict(X_test)"
   ]
  },
  {
   "cell_type": "code",
   "execution_count": 13,
   "id": "72f614b7",
   "metadata": {},
   "outputs": [
    {
     "name": "stdout",
     "output_type": "stream",
     "text": [
      "                  precision    recall  f1-score   support\n",
      "\n",
      "  Echec(Class 0)       0.63      0.99      0.77    272997\n",
      "Succès (Class 1)       0.33      0.00      0.01    162818\n",
      "\n",
      "        accuracy                           0.62    435815\n",
      "       macro avg       0.48      0.50      0.39    435815\n",
      "    weighted avg       0.51      0.62      0.48    435815\n",
      "\n"
     ]
    }
   ],
   "source": [
    "from sklearn.metrics import classification_report\n",
    "print(classification_report(y_test,y_lr,target_names = ['Echec(Class 0)','Succès (Class 1)']))"
   ]
  },
  {
   "cell_type": "code",
   "execution_count": 14,
   "id": "9ed6767b",
   "metadata": {},
   "outputs": [
    {
     "data": {
      "text/plain": [
       "<AxesSubplot:>"
      ]
     },
     "execution_count": 14,
     "metadata": {},
     "output_type": "execute_result"
    },
    {
     "data": {
      "image/png": "[encoded data removed]",
      "text/plain": [
       "<Figure size 432x288 with 2 Axes>"
      ]
     },
     "metadata": {
      "needs_background": "light"
     },
     "output_type": "display_data"
    }
   ],
   "source": [
    "cm = confusion_matrix(y_test,lr.predict(X_test))\n",
    "sns.heatmap(cm,annot=True,fmt=\"d\")"
   ]
  },
  {
   "cell_type": "code",
   "execution_count": 16,
   "id": "758d460b",
   "metadata": {},
   "outputs": [
    {
     "data": {
      "image/png": "[encoded data removed]",
      "text/plain": [
       "<Figure size 432x288 with 1 Axes>"
      ]
     },
     "metadata": {
      "needs_background": "light"
     },
     "output_type": "display_data"
    }
   ],
   "source": [
    "from sklearn.metrics import plot_roc_curve\n",
    "plot_roc_curve(lr, X_train,y_train )\n",
    "plt.plot([0,1],[0,1])\n",
    "plt.xlabel('false positive')\n",
    "plt.ylabel('true positve')\n",
    "plt.title('ROC curve LR')\n",
    "plt.show()"
   ]
  },
  {
   "cell_type": "code",
   "execution_count": null,
   "id": "ec21312f",
   "metadata": {},
   "outputs": [],
   "source": []
  },
  {
   "cell_type": "code",
   "execution_count": null,
   "id": "c75447d6",
   "metadata": {},
   "outputs": [],
   "source": []
  },
  {
   "cell_type": "code",
   "execution_count": null,
   "id": "5319edb3",
   "metadata": {},
   "outputs": [],
   "source": []
  },
  {
   "cell_type": "code",
   "execution_count": null,
   "id": "3375539b",
   "metadata": {},
   "outputs": [],
   "source": []
  },
  {
   "cell_type": "code",
   "execution_count": null,
   "id": "a0c847d4",
   "metadata": {},
   "outputs": [],
   "source": []
  },
  {
   "cell_type": "code",
   "execution_count": null,
   "id": "804d59ed",
   "metadata": {},
   "outputs": [],
   "source": []
  },
  {
   "cell_type": "markdown",
   "id": "21538cea",
   "metadata": {},
   "source": [
    "from xgboost import XGBClassifier\n",
    "clf2 = XGBClassifier(\n",
    "        eval_metric = 'auc',\n",
    "        num_class = 2,\n",
    "        nthread = 4,\n",
    "        silent = 1,\n",
    "        )\n",
    "parameters = {\n",
    "        'num_boost_round': [100, 250, 500],\n",
    "        'eta': [0.05, 0.1, 0.3],\n",
    "        'max_depth': [6, 9, 12],\n",
    "        'subsample': [0.9, 1.0],\n",
    "        'colsample_bytree': [0.9, 1.0],\n",
    "    }\n",
    "clf2 = GridSearchCV(clf2, parameters, n_jobs=1, cv=2)\n",
    "clf2.fit(X_train, y_train)"
   ]
  },
  {
   "cell_type": "markdown",
   "id": "4afc9907",
   "metadata": {},
   "source": [
    "# AdaBoostClassifier"
   ]
  },
  {
   "cell_type": "code",
   "execution_count": 42,
   "id": "96f5a3dc",
   "metadata": {},
   "outputs": [
    {
     "data": {
      "text/plain": [
       "AdaBoostClassifier()"
      ]
     },
     "execution_count": 42,
     "metadata": {},
     "output_type": "execute_result"
    }
   ],
   "source": [
    "from sklearn.ensemble import AdaBoostClassifier\n",
    "adb = AdaBoostClassifier()\n",
    "adb.fit(X_train, y_train)"
   ]
  },
  {
   "cell_type": "code",
   "execution_count": 43,
   "id": "7b460feb",
   "metadata": {},
   "outputs": [],
   "source": [
    "y_adb = adb.predict(X_test)"
   ]
  },
  {
   "cell_type": "code",
   "execution_count": 44,
   "id": "12c9853b",
   "metadata": {},
   "outputs": [
    {
     "name": "stdout",
     "output_type": "stream",
     "text": [
      "                  precision    recall  f1-score   support\n",
      "\n",
      "  échec(Class 0)       0.65      0.94      0.77    272997\n",
      "succès (Class 1)       0.63      0.17      0.26    162818\n",
      "\n",
      "        accuracy                           0.65    435815\n",
      "       macro avg       0.64      0.55      0.52    435815\n",
      "    weighted avg       0.65      0.65      0.58    435815\n",
      "\n"
     ]
    }
   ],
   "source": [
    "from sklearn.metrics import classification_report\n",
    "print(classification_report(y_test, y_adb,target_names = ['échec(Class 0)','succès (Class 1)']))"
   ]
  },
  {
   "cell_type": "code",
   "execution_count": 45,
   "id": "8e830586",
   "metadata": {},
   "outputs": [
    {
     "data": {
      "text/plain": [
       "<AxesSubplot:>"
      ]
     },
     "execution_count": 45,
     "metadata": {},
     "output_type": "execute_result"
    },
    {
     "data": {
      "image/png": "[encoded data removed]",
      "text/plain": [
       "<Figure size 432x288 with 2 Axes>"
      ]
     },
     "metadata": {
      "needs_background": "light"
     },
     "output_type": "display_data"
    }
   ],
   "source": [
    "cm = confusion_matrix(y_test,adb.predict(X_test))\n",
    "sns.heatmap(cm,annot=True,fmt=\"d\")"
   ]
  },
  {
   "cell_type": "code",
   "execution_count": 46,
   "id": "3c599f1b",
   "metadata": {},
   "outputs": [
    {
     "data": {
      "image/png": "[encoded data removed]",
      "text/plain": [
       "<Figure size 432x288 with 1 Axes>"
      ]
     },
     "metadata": {
      "needs_background": "light"
     },
     "output_type": "display_data"
    }
   ],
   "source": [
    "from sklearn.metrics import plot_roc_curve\n",
    "plot_roc_curve(adb, X_train,y_train )\n",
    "plt.plot([0,1],[0,1])\n",
    "plt.xlabel('false positive')\n",
    "plt.ylabel('true positve')\n",
    "plt.title('ROC curve AdaBoostClassifier')\n",
    "plt.show()"
   ]
  },
  {
   "cell_type": "markdown",
   "id": "c5a40352",
   "metadata": {},
   "source": [
    "# CatBoostClassifier"
   ]
  },
  {
   "cell_type": "code",
   "execution_count": 36,
   "id": "8eb8b4e6",
   "metadata": {},
   "outputs": [
    {
     "name": "stdout",
     "output_type": "stream",
     "text": [
      "0:\tlearn: 0.6496608\ttotal: 214ms\tremaining: 214ms\n",
      "1:\tlearn: 0.6436256\ttotal: 272ms\tremaining: 0us\n"
     ]
    },
    {
     "data": {
      "text/plain": [
       "<catboost.core.CatBoostClassifier at 0x26c19165a30>"
      ]
     },
     "execution_count": 36,
     "metadata": {},
     "output_type": "execute_result"
    }
   ],
   "source": [
    "from catboost import CatBoostClassifier\n",
    "cat = CatBoostClassifier(iterations=2,\n",
    "                           learning_rate=1,\n",
    "                           depth=2)\n",
    "cat.fit(X_train, y_train)"
   ]
  },
  {
   "cell_type": "code",
   "execution_count": 37,
   "id": "2d86dc0c",
   "metadata": {},
   "outputs": [],
   "source": [
    "preds_class = cat.predict(X_test)"
   ]
  },
  {
   "cell_type": "code",
   "execution_count": 38,
   "id": "60b9256b",
   "metadata": {},
   "outputs": [
    {
     "name": "stderr",
     "output_type": "stream",
     "text": [
      "C:\\anaconda3\\lib\\site-packages\\sklearn\\metrics\\_classification.py:1221: UndefinedMetricWarning: Precision and F-score are ill-defined and being set to 0.0 in labels with no predicted samples. Use `zero_division` parameter to control this behavior.\n",
      "  _warn_prf(average, modifier, msg_start, len(result))\n"
     ]
    },
    {
     "name": "stdout",
     "output_type": "stream",
     "text": [
      "                  precision    recall  f1-score   support\n",
      "\n",
      "  échec(Class 0)       0.63      1.00      0.77    272997\n",
      "succès (Class 1)       0.00      0.00      0.00    162818\n",
      "\n",
      "        accuracy                           0.63    435815\n",
      "       macro avg       0.31      0.50      0.39    435815\n",
      "    weighted avg       0.39      0.63      0.48    435815\n",
      "\n"
     ]
    }
   ],
   "source": [
    "from sklearn.metrics import classification_report\n",
    "print(classification_report(y_test, preds_class,target_names = ['échec(Class 0)','succès (Class 1)']))"
   ]
  },
  {
   "cell_type": "code",
   "execution_count": 39,
   "id": "22003631",
   "metadata": {},
   "outputs": [
    {
     "data": {
      "text/plain": [
       "<AxesSubplot:>"
      ]
     },
     "execution_count": 39,
     "metadata": {},
     "output_type": "execute_result"
    },
    {
     "data": {
      "image/png": "[encoded data removed]",
      "text/plain": [
       "<Figure size 432x288 with 2 Axes>"
      ]
     },
     "metadata": {
      "needs_background": "light"
     },
     "output_type": "display_data"
    }
   ],
   "source": [
    "cm = confusion_matrix(y_test,cat.predict(X_test))\n",
    "sns.heatmap(cm,annot=True,fmt=\"d\")"
   ]
  },
  {
   "cell_type": "code",
   "execution_count": 40,
   "id": "76252a8d",
   "metadata": {},
   "outputs": [
    {
     "data": {
      "image/png": "[encoded data removed]",
      "text/plain": [
       "<Figure size 432x288 with 1 Axes>"
      ]
     },
     "metadata": {
      "needs_background": "light"
     },
     "output_type": "display_data"
    }
   ],
   "source": [
    "from sklearn.metrics import plot_roc_curve\n",
    "plot_roc_curve(cat, X_train,y_train )\n",
    "plt.plot([0,1],[0,1])\n",
    "plt.xlabel('false positive')\n",
    "plt.ylabel('true positve')\n",
    "plt.title('ROC curve XGBClassifier')\n",
    "plt.show()"
   ]
  },
  {
   "cell_type": "code",
   "execution_count": null,
   "id": "14ae2ed5",
   "metadata": {},
   "outputs": [],
   "source": []
  },
  {
   "cell_type": "code",
   "execution_count": null,
   "id": "c9e52e9d",
   "metadata": {},
   "outputs": [],
   "source": []
  },
  {
   "cell_type": "code",
   "execution_count": null,
   "id": "bafad843",
   "metadata": {},
   "outputs": [],
   "source": []
  },
  {
   "cell_type": "code",
   "execution_count": 60,
   "id": "32f34d7e",
   "metadata": {},
   "outputs": [
    {
     "name": "stderr",
     "output_type": "stream",
     "text": [
      "WARNING: Ignoring invalid distribution -illow (c:\\anaconda3\\lib\\site-packages)"
     ]
    },
    {
     "name": "stdout",
     "output_type": "stream",
     "text": [
      "Collecting fedot==0.5.2\n",
      "  Downloading fedot-0.5.2-py3-none-any.whl (384 kB)\n",
      "     -------------------------------------- 384.2/384.2 KB 3.4 MB/s eta 0:00:00\n",
      "Collecting typing>=3.7.*\n",
      "  Downloading typing-3.7.4.3.tar.gz (78 kB)\n",
      "     -------------------------------------- 78.6/78.6 KB 546.8 kB/s eta 0:00:00\n",
      "  Preparing metadata (setup.py): started\n",
      "  Preparing metadata (setup.py): finished with status 'done'\n",
      "Collecting testfixtures>=6.18.*\n",
      "  Downloading testfixtures-6.18.5-py2.py3-none-any.whl (95 kB)\n",
      "     ---------------------------------------- 95.5/95.5 KB ? eta 0:00:00\n",
      "Collecting scikit-optimize>=0.7.4\n",
      "  Downloading scikit_optimize-0.9.0-py2.py3-none-any.whl (100 kB)\n",
      "     -------------------------------------- 100.3/100.3 KB 6.0 MB/s eta 0:00:00\n",
      "Collecting anytree>=2.8.*\n",
      "  Downloading anytree-2.8.0-py2.py3-none-any.whl (41 kB)\n",
      "     ---------------------------------------- 41.7/41.7 KB 2.0 MB/s eta 0:00:00\n",
      "Collecting gensim>=4.1.2\n",
      "  Downloading gensim-4.1.2-cp38-cp38-win_amd64.whl (24.0 MB)\n",
      "     ---------------------------------------- 24.0/24.0 MB 7.3 MB/s eta 0:00:00\n",
      "Collecting hyperopt==0.2.5\n",
      "  Downloading hyperopt-0.2.5-py2.py3-none-any.whl (965 kB)\n",
      "     -------------------------------------- 966.0/966.0 KB 8.7 MB/s eta 0:00:00\n",
      "Requirement already satisfied: deap>=1.3.* in c:\\anaconda3\\lib\\site-packages (from fedot==0.5.2) (1.3.1)\n",
      "Collecting scikit-learn>=1.0.0\n",
      "  Using cached scikit_learn-1.0.2-cp38-cp38-win_amd64.whl (7.2 MB)\n",
      "Requirement already satisfied: networkx>=2.4 in c:\\anaconda3\\lib\\site-packages (from fedot==0.5.2) (2.6.3)\n",
      "Requirement already satisfied: requests>=2.* in c:\\anaconda3\\lib\\site-packages (from fedot==0.5.2) (2.27.1)\n",
      "Collecting ete3>=3.1.*\n",
      "  Downloading ete3-3.1.2.tar.gz (4.7 MB)\n",
      "     ---------------------------------------- 4.7/4.7 MB 8.4 MB/s eta 0:00:00\n",
      "  Preparing metadata (setup.py): started\n",
      "  Preparing metadata (setup.py): finished with status 'done'\n",
      "Requirement already satisfied: statsmodels>=0.12.0 in c:\\anaconda3\\lib\\site-packages (from fedot==0.5.2) (0.12.2)\n",
      "Collecting xgboost>=1.3.0\n",
      "  Downloading xgboost-1.5.2-py3-none-win_amd64.whl (106.6 MB)\n",
      "     -------------------------------------- 106.6/106.6 MB 6.9 MB/s eta 0:00:00\n",
      "Requirement already satisfied: seaborn>=0.9.* in c:\\anaconda3\\lib\\site-packages (from fedot==0.5.2) (0.11.2)\n",
      "Requirement already satisfied: lightgbm>=2.3.* in c:\\anaconda3\\lib\\site-packages (from fedot==0.5.2) (3.0.0)\n",
      "Requirement already satisfied: tqdm in c:\\users\\lou doussiet\\appdata\\roaming\\python\\python38\\site-packages (from fedot==0.5.2) (4.56.0)\n",
      "Requirement already satisfied: nltk>=3.5 in c:\\anaconda3\\lib\\site-packages (from fedot==0.5.2) (3.6.5)\n",
      "Requirement already satisfied: numpy>=1.19.* in c:\\users\\lou doussiet\\appdata\\roaming\\python\\python38\\site-packages (from fedot==0.5.2) (1.19.1)\n",
      "Collecting SALib>=1.3.*\n",
      "  Downloading SALib-1.4.6b0-py2.py3-none-any.whl (751 kB)\n",
      "     -------------------------------------- 751.4/751.4 KB 7.9 MB/s eta 0:00:00\n",
      "Collecting tensorflow==2.5.3\n",
      "  Downloading tensorflow-2.5.3-cp38-cp38-win_amd64.whl (428.2 MB)\n",
      "     -------------------------------------- 428.2/428.2 MB 4.0 MB/s eta 0:00:00\n",
      "Requirement already satisfied: torch>=1.9.0 in c:\\anaconda3\\lib\\site-packages (from fedot==0.5.2) (1.10.0)\n",
      "Requirement already satisfied: catboost>=0.25.* in c:\\anaconda3\\lib\\site-packages (from fedot==0.5.2) (1.0.4)\n",
      "Requirement already satisfied: matplotlib>=3.3.1 in c:\\anaconda3\\lib\\site-packages (from fedot==0.5.2) (3.5.0)\n",
      "Requirement already satisfied: joblib>=0.17.* in c:\\anaconda3\\lib\\site-packages (from fedot==0.5.2) (1.0.1)\n",
      "Requirement already satisfied: imageio<=2.10,>=2.8 in c:\\anaconda3\\lib\\site-packages (from fedot==0.5.2) (2.9.0)\n",
      "Requirement already satisfied: Pillow>=8.2.* in c:\\anaconda3\\lib\\site-packages (from fedot==0.5.2) (8.4.0)\n",
      "Collecting pytest>=6.2.*\n",
      "  Downloading pytest-7.1.1-py3-none-any.whl (297 kB)\n",
      "     -------------------------------------- 297.0/297.0 KB 9.3 MB/s eta 0:00:00\n",
      "Requirement already satisfied: future in c:\\anaconda3\\lib\\site-packages (from hyperopt==0.2.5->fedot==0.5.2) (0.18.2)\n",
      "Requirement already satisfied: six in c:\\anaconda3\\lib\\site-packages (from hyperopt==0.2.5->fedot==0.5.2) (1.15.0)\n",
      "Requirement already satisfied: scipy in c:\\users\\lou doussiet\\appdata\\roaming\\python\\python38\\site-packages (from hyperopt==0.2.5->fedot==0.5.2) (1.5.4)\n",
      "Requirement already satisfied: cloudpickle in c:\\anaconda3\\lib\\site-packages (from hyperopt==0.2.5->fedot==0.5.2) (2.0.0)\n",
      "Requirement already satisfied: tensorboard~=2.5 in c:\\anaconda3\\lib\\site-packages (from tensorflow==2.5.3->fedot==0.5.2) (2.7.0)\n",
      "Collecting tensorflow-estimator<2.6.0,>=2.5.0\n",
      "  Downloading tensorflow_estimator-2.5.0-py2.py3-none-any.whl (462 kB)\n",
      "     -------------------------------------- 462.4/462.4 KB 9.6 MB/s eta 0:00:00\n",
      "Requirement already satisfied: astunparse~=1.6.3 in c:\\anaconda3\\lib\\site-packages (from tensorflow==2.5.3->fedot==0.5.2) (1.6.3)\n",
      "Requirement already satisfied: google-pasta~=0.2 in c:\\anaconda3\\lib\\site-packages (from tensorflow==2.5.3->fedot==0.5.2) (0.2.0)\n",
      "Requirement already satisfied: termcolor~=1.1.0 in c:\\anaconda3\\lib\\site-packages (from tensorflow==2.5.3->fedot==0.5.2) (1.1.0)\n",
      "Requirement already satisfied: gast==0.4.0 in c:\\anaconda3\\lib\\site-packages (from tensorflow==2.5.3->fedot==0.5.2) (0.4.0)\n",
      "Requirement already satisfied: keras-preprocessing~=1.1.2 in c:\\anaconda3\\lib\\site-packages (from tensorflow==2.5.3->fedot==0.5.2) (1.1.2)\n",
      "Requirement already satisfied: wheel~=0.35 in c:\\anaconda3\\lib\\site-packages (from tensorflow==2.5.3->fedot==0.5.2) (0.37.1)\n",
      "Requirement already satisfied: flatbuffers~=1.12.0 in c:\\anaconda3\\lib\\site-packages (from tensorflow==2.5.3->fedot==0.5.2) (1.12)\n",
      "Requirement already satisfied: absl-py~=0.10 in c:\\anaconda3\\lib\\site-packages (from tensorflow==2.5.3->fedot==0.5.2) (0.13.0)\n",
      "Requirement already satisfied: opt-einsum~=3.3.0 in c:\\anaconda3\\lib\\site-packages (from tensorflow==2.5.3->fedot==0.5.2) (3.3.0)\n",
      "Collecting grpcio~=1.34.0\n",
      "  Downloading grpcio-1.34.1-cp38-cp38-win_amd64.whl (2.9 MB)\n",
      "     ---------------------------------------- 2.9/2.9 MB 6.9 MB/s eta 0:00:00\n",
      "Collecting keras-nightly~=2.5.0.dev\n",
      "  Downloading keras_nightly-2.5.0.dev2021032900-py2.py3-none-any.whl (1.2 MB)\n",
      "     ---------------------------------------- 1.2/1.2 MB 7.2 MB/s eta 0:00:00\n",
      "Requirement already satisfied: protobuf>=3.9.2 in c:\\anaconda3\\lib\\site-packages (from tensorflow==2.5.3->fedot==0.5.2) (3.17.3)\n",
      "Collecting numpy>=1.19.*\n",
      "  Using cached numpy-1.19.5-cp38-cp38-win_amd64.whl (13.3 MB)\n",
      "Requirement already satisfied: h5py~=3.1.0 in c:\\anaconda3\\lib\\site-packages (from tensorflow==2.5.3->fedot==0.5.2) (3.1.0)\n",
      "Requirement already satisfied: wrapt~=1.12.1 in c:\\anaconda3\\lib\\site-packages (from tensorflow==2.5.3->fedot==0.5.2) (1.12.1)\n",
      "Collecting typing-extensions~=3.7.4\n",
      "  Downloading typing_extensions-3.7.4.3-py3-none-any.whl (22 kB)\n",
      "Requirement already satisfied: graphviz in c:\\anaconda3\\lib\\site-packages (from catboost>=0.25.*->fedot==0.5.2) (0.19.1)\n",
      "Requirement already satisfied: pandas>=0.24.0 in c:\\users\\lou doussiet\\appdata\\roaming\\python\\python38\\site-packages (from catboost>=0.25.*->fedot==0.5.2) (1.0.5)\n",
      "Requirement already satisfied: plotly in c:\\anaconda3\\lib\\site-packages (from catboost>=0.25.*->fedot==0.5.2) (5.3.1)\n",
      "Requirement already satisfied: smart-open>=1.8.1 in c:\\anaconda3\\lib\\site-packages (from gensim>=4.1.2->fedot==0.5.2) (5.2.1)\n",
      "Collecting Cython==0.29.23\n",
      "  Downloading Cython-0.29.23-cp38-cp38-win_amd64.whl (1.7 MB)\n",
      "     ---------------------------------------- 1.7/1.7 MB 7.6 MB/s eta 0:00:00\n",
      "Requirement already satisfied: python-dateutil>=2.7 in c:\\anaconda3\\lib\\site-packages (from matplotlib>=3.3.1->fedot==0.5.2) (2.8.2)\n",
      "Requirement already satisfied: fonttools>=4.22.0 in c:\\anaconda3\\lib\\site-packages (from matplotlib>=3.3.1->fedot==0.5.2) (4.25.0)\n",
      "Requirement already satisfied: pyparsing>=2.2.1 in c:\\anaconda3\\lib\\site-packages (from matplotlib>=3.3.1->fedot==0.5.2) (3.0.4)\n",
      "Requirement already satisfied: packaging>=20.0 in c:\\anaconda3\\lib\\site-packages (from matplotlib>=3.3.1->fedot==0.5.2) (21.3)\n",
      "Requirement already satisfied: cycler>=0.10 in c:\\anaconda3\\lib\\site-packages (from matplotlib>=3.3.1->fedot==0.5.2) (0.11.0)\n",
      "Requirement already satisfied: kiwisolver>=1.0.1 in c:\\anaconda3\\lib\\site-packages (from matplotlib>=3.3.1->fedot==0.5.2) (1.3.2)\n",
      "Requirement already satisfied: click in c:\\users\\lou doussiet\\appdata\\roaming\\python\\python38\\site-packages (from nltk>=3.5->fedot==0.5.2) (7.1.2)\n",
      "Requirement already satisfied: regex>=2021.8.3 in c:\\anaconda3\\lib\\site-packages (from nltk>=3.5->fedot==0.5.2) (2021.11.10)\n",
      "Requirement already satisfied: py>=1.8.2 in c:\\anaconda3\\lib\\site-packages (from pytest>=6.2.*->fedot==0.5.2) (1.11.0)\n",
      "Requirement already satisfied: attrs>=19.2.0 in c:\\anaconda3\\lib\\site-packages (from pytest>=6.2.*->fedot==0.5.2) (21.4.0)\n",
      "Collecting tomli>=1.0.0\n",
      "  Downloading tomli-2.0.1-py3-none-any.whl (12 kB)\n",
      "Requirement already satisfied: iniconfig in c:\\anaconda3\\lib\\site-packages (from pytest>=6.2.*->fedot==0.5.2) (1.1.1)\n",
      "Requirement already satisfied: colorama in c:\\anaconda3\\lib\\site-packages (from pytest>=6.2.*->fedot==0.5.2) (0.4.4)\n",
      "Requirement already satisfied: atomicwrites>=1.0 in c:\\anaconda3\\lib\\site-packages (from pytest>=6.2.*->fedot==0.5.2) (1.4.0)\n",
      "Requirement already satisfied: pluggy<2.0,>=0.12 in c:\\users\\lou doussiet\\appdata\\roaming\\python\\python38\\site-packages (from pytest>=6.2.*->fedot==0.5.2) (0.13.1)\n",
      "Requirement already satisfied: certifi>=2017.4.17 in c:\\anaconda3\\lib\\site-packages (from requests>=2.*->fedot==0.5.2) (2021.10.8)\n",
      "Requirement already satisfied: idna<4,>=2.5 in c:\\anaconda3\\lib\\site-packages (from requests>=2.*->fedot==0.5.2) (3.3)\n",
      "Requirement already satisfied: urllib3<1.27,>=1.21.1 in c:\\anaconda3\\lib\\site-packages (from requests>=2.*->fedot==0.5.2) (1.26.8)\n",
      "Requirement already satisfied: charset-normalizer~=2.0.0 in c:\\anaconda3\\lib\\site-packages (from requests>=2.*->fedot==0.5.2) (2.0.4)\n",
      "Requirement already satisfied: setuptools in c:\\anaconda3\\lib\\site-packages (from SALib>=1.3.*->fedot==0.5.2) (59.6.0)\n",
      "Collecting pathos\n",
      "  Downloading pathos-0.2.8-py2.py3-none-any.whl (81 kB)\n",
      "     ---------------------------------------- 81.7/81.7 KB 4.5 MB/s eta 0:00:00\n",
      "Requirement already satisfied: threadpoolctl>=2.0.0 in c:\\anaconda3\\lib\\site-packages (from scikit-learn>=1.0.0->fedot==0.5.2) (2.2.0)\n",
      "Collecting pyaml>=16.9\n",
      "  Downloading pyaml-21.10.1-py2.py3-none-any.whl (24 kB)\n",
      "Requirement already satisfied: patsy>=0.5 in c:\\anaconda3\\lib\\site-packages (from statsmodels>=0.12.0->fedot==0.5.2) (0.5.2)\n",
      "Requirement already satisfied: pytz>=2017.2 in c:\\anaconda3\\lib\\site-packages (from pandas>=0.24.0->catboost>=0.25.*->fedot==0.5.2) (2021.3)\n",
      "Requirement already satisfied: PyYAML in c:\\users\\lou doussiet\\appdata\\roaming\\python\\python38\\site-packages (from pyaml>=16.9->scikit-optimize>=0.7.4->fedot==0.5.2) (5.3.1)\n",
      "Requirement already satisfied: tensorboard-plugin-wit>=1.6.0 in c:\\anaconda3\\lib\\site-packages (from tensorboard~=2.5->tensorflow==2.5.3->fedot==0.5.2) (1.8.0)\n",
      "Requirement already satisfied: google-auth<3,>=1.6.3 in c:\\anaconda3\\lib\\site-packages (from tensorboard~=2.5->tensorflow==2.5.3->fedot==0.5.2) (2.3.3)\n",
      "Requirement already satisfied: tensorboard-data-server<0.7.0,>=0.6.0 in c:\\anaconda3\\lib\\site-packages (from tensorboard~=2.5->tensorflow==2.5.3->fedot==0.5.2) (0.6.1)\n",
      "Requirement already satisfied: google-auth-oauthlib<0.5,>=0.4.1 in c:\\anaconda3\\lib\\site-packages (from tensorboard~=2.5->tensorflow==2.5.3->fedot==0.5.2) (0.4.6)\n",
      "Requirement already satisfied: markdown>=2.6.8 in c:\\anaconda3\\lib\\site-packages (from tensorboard~=2.5->tensorflow==2.5.3->fedot==0.5.2) (3.3.4)\n",
      "Requirement already satisfied: werkzeug>=0.11.15 in c:\\anaconda3\\lib\\site-packages (from tensorboard~=2.5->tensorflow==2.5.3->fedot==0.5.2) (2.0.2)\n",
      "Collecting multiprocess>=0.70.12\n",
      "  Downloading multiprocess-0.70.12.2-py38-none-any.whl (128 kB)\n",
      "     -------------------------------------- 128.3/128.3 KB 7.4 MB/s eta 0:00:00\n",
      "Collecting dill>=0.3.4\n",
      "  Downloading dill-0.3.4-py2.py3-none-any.whl (86 kB)\n",
      "     ---------------------------------------- 86.9/86.9 KB 4.8 MB/s eta 0:00:00\n",
      "Collecting pox>=0.3.0\n",
      "  Downloading pox-0.3.0-py2.py3-none-any.whl (30 kB)\n",
      "Collecting ppft>=1.6.6.4\n",
      "  Downloading ppft-1.6.6.4-py3-none-any.whl (65 kB)\n",
      "     ---------------------------------------- 65.1/65.1 KB 3.4 MB/s eta 0:00:00\n",
      "Requirement already satisfied: tenacity>=6.2.0 in c:\\anaconda3\\lib\\site-packages (from plotly->catboost>=0.25.*->fedot==0.5.2) (8.0.1)\n",
      "Requirement already satisfied: cachetools<5.0,>=2.0.0 in c:\\anaconda3\\lib\\site-packages (from google-auth<3,>=1.6.3->tensorboard~=2.5->tensorflow==2.5.3->fedot==0.5.2) (4.2.2)\n",
      "Requirement already satisfied: rsa<5,>=3.1.4 in c:\\anaconda3\\lib\\site-packages (from google-auth<3,>=1.6.3->tensorboard~=2.5->tensorflow==2.5.3->fedot==0.5.2) (4.7.2)\n",
      "Requirement already satisfied: pyasn1-modules>=0.2.1 in c:\\anaconda3\\lib\\site-packages (from google-auth<3,>=1.6.3->tensorboard~=2.5->tensorflow==2.5.3->fedot==0.5.2) (0.2.8)\n",
      "Requirement already satisfied: requests-oauthlib>=0.7.0 in c:\\anaconda3\\lib\\site-packages (from google-auth-oauthlib<0.5,>=0.4.1->tensorboard~=2.5->tensorflow==2.5.3->fedot==0.5.2) (1.3.0)\n",
      "Requirement already satisfied: pyasn1<0.5.0,>=0.4.6 in c:\\anaconda3\\lib\\site-packages (from pyasn1-modules>=0.2.1->google-auth<3,>=1.6.3->tensorboard~=2.5->tensorflow==2.5.3->fedot==0.5.2) (0.4.8)\n",
      "Requirement already satisfied: oauthlib>=3.0.0 in c:\\anaconda3\\lib\\site-packages (from requests-oauthlib>=0.7.0->google-auth-oauthlib<0.5,>=0.4.1->tensorboard~=2.5->tensorflow==2.5.3->fedot==0.5.2) (3.1.1)\n",
      "Building wheels for collected packages: ete3, typing\n",
      "  Building wheel for ete3 (setup.py): started\n",
      "  Building wheel for ete3 (setup.py): finished with status 'done'\n",
      "  Created wheel for ete3: filename=ete3-3.1.2-py3-none-any.whl size=2273013 sha256=7dfda27d1f664abf3462903ecbee6a837dd73112fc753185a9c7926e20d843d8\n",
      "  Stored in directory: c:\\users\\lou doussiet\\appdata\\local\\pip\\cache\\wheels\\78\\96\\a0\\973292c4813e6b39b611bec535521655088425516959768f46\n",
      "  Building wheel for typing (setup.py): started\n",
      "  Building wheel for typing (setup.py): finished with status 'done'\n",
      "  Created wheel for typing: filename=typing-3.7.4.3-py3-none-any.whl size=26325 sha256=17e787999ffff0226963f6d72eba605862655f6ddc18998350c52a21151ecba8\n",
      "  Stored in directory: c:\\users\\lou doussiet\\appdata\\local\\pip\\cache\\wheels\\5e\\5d\\01\\3083e091b57809dad979ea543def62d9d878950e3e74f0c930\n",
      "Successfully built ete3 typing\n",
      "Installing collected packages: typing-extensions, testfixtures, tensorflow-estimator, pox, keras-nightly, ete3, typing, tomli, pyaml, ppft, numpy, grpcio, dill, Cython, anytree, pytest, multiprocess, xgboost, scikit-learn, pathos, hyperopt, gensim, scikit-optimize, SALib, tensorflow, fedot\n",
      "  Attempting uninstall: typing-extensions\n",
      "    Found existing installation: typing_extensions 4.0.1\n",
      "    Uninstalling typing_extensions-4.0.1:\n",
      "      Successfully uninstalled typing_extensions-4.0.1\n",
      "  Attempting uninstall: tensorflow-estimator\n",
      "    Found existing installation: tensorflow-estimator 2.6.0\n",
      "    Uninstalling tensorflow-estimator-2.6.0:\n",
      "      Successfully uninstalled tensorflow-estimator-2.6.0\n",
      "  Attempting uninstall: numpy\n",
      "    Found existing installation: numpy 1.19.1\n",
      "    Uninstalling numpy-1.19.1:\n",
      "      Successfully uninstalled numpy-1.19.1\n"
     ]
    },
    {
     "name": "stderr",
     "output_type": "stream",
     "text": [
      "\n",
      "WARNING: Ignoring invalid distribution -illow (c:\\anaconda3\\lib\\site-packages)\n",
      "WARNING: Ignoring invalid distribution -illow (c:\\anaconda3\\lib\\site-packages)\n",
      "    WARNING: Ignoring invalid distribution -illow (c:\\anaconda3\\lib\\site-packages)\n",
      "    WARNING: Ignoring invalid distribution -illow (c:\\anaconda3\\lib\\site-packages)\n",
      "ERROR: Could not install packages due to an OSError: [WinError 5] Accès refusé: 'C:\\\\Users\\\\Lou Doussiet\\\\AppData\\\\Roaming\\\\Python\\\\Python38\\\\site-packages\\\\~umpy\\\\.libs\\\\libopenblas.NOIJJG62EMASZI6NYURL6JBKM4EVBGM7.gfortran-win_amd64.dll'\n",
      "Consider using the `--user` option or check the permissions.\n",
      "\n",
      "WARNING: Ignoring invalid distribution -illow (c:\\anaconda3\\lib\\site-packages)\n"
     ]
    }
   ],
   "source": [
    "!pip install fedot==0.5.2"
   ]
  },
  {
   "cell_type": "code",
   "execution_count": null,
   "id": "6e8c6f55",
   "metadata": {},
   "outputs": [],
   "source": []
  },
  {
   "cell_type": "code",
   "execution_count": null,
   "id": "ba72e6ac",
   "metadata": {},
   "outputs": [],
   "source": []
  },
  {
   "cell_type": "code",
   "execution_count": null,
   "id": "a0e7916a",
   "metadata": {},
   "outputs": [],
   "source": []
  },
  {
   "cell_type": "code",
   "execution_count": null,
   "id": "bd505e08",
   "metadata": {},
   "outputs": [],
   "source": []
  },
  {
   "cell_type": "code",
   "execution_count": null,
   "id": "054f057a",
   "metadata": {},
   "outputs": [],
   "source": []
  },
  {
   "cell_type": "code",
   "execution_count": null,
   "id": "97cd962d",
   "metadata": {},
   "outputs": [],
   "source": []
  },
  {
   "cell_type": "code",
   "execution_count": null,
   "id": "2515f0ca",
   "metadata": {},
   "outputs": [],
   "source": []
  },
  {
   "cell_type": "code",
   "execution_count": null,
   "id": "3dc81851",
   "metadata": {},
   "outputs": [],
   "source": []
  }
 ],
 "metadata": {
  "kernelspec": {
   "display_name": "Python 3 (ipykernel)",
   "language": "python",
   "name": "python3"
  },
  "language_info": {
   "codemirror_mode": {
    "name": "ipython",
    "version": 3
   },
   "file_extension": ".py",
   "mimetype": "text/x-python",
   "name": "python",
   "nbconvert_exporter": "python",
   "pygments_lexer": "ipython3",
   "version": "3.8.12"
  }
 },
 "nbformat": 4,
 "nbformat_minor": 5
}
