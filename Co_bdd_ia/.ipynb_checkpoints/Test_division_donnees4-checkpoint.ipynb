{
 "cells": [
  {
   "cell_type": "code",
   "execution_count": 1,
   "id": "c9273d9d",
   "metadata": {},
   "outputs": [],
   "source": [
    "import pandas as pd\n",
    "pd.set_option('display.max_columns', None)\n",
    "\n",
    "import numpy as np\n",
    "import scipy.stats as stat\n",
    "import scipy as sp\n",
    "import statistics\n",
    "\n",
    "import matplotlib.pyplot as plt\n",
    "from matplotlib import pyplot\n",
    "%matplotlib inline\n",
    "from mpl_toolkits.mplot3d import Axes3D\n",
    "from matplotlib import cm\n",
    "import seaborn as sns\n",
    "\n",
    "import warnings\n",
    "warnings.filterwarnings('ignore')\n",
    "\n",
    "# Modèle de ML\n",
    "from sklearn import linear_model\n",
    "\n",
    "# data pre-processing\n",
    "from sklearn import preprocessing\n",
    "from sklearn.model_selection import train_test_split\n",
    "\n",
    "# Outils score et evaluation de modèle\n",
    "from sklearn.metrics import accuracy_score\n",
    "from sklearn import metrics\n",
    "from sklearn.metrics import classification_report\n",
    "from sklearn.metrics import confusion_matrix\n",
    "\n",
    "from sklearn.metrics import r2_score\n",
    "\n",
    "# Outils optmisation de modèle\n",
    "from sklearn.model_selection import GridSearchCV\n",
    "from sklearn.model_selection import StratifiedKFold"
   ]
  },
  {
   "cell_type": "markdown",
   "id": "aefa3294",
   "metadata": {},
   "source": [
    "# Data read"
   ]
  },
  {
   "cell_type": "code",
   "execution_count": 2,
   "id": "ace4a0c2",
   "metadata": {},
   "outputs": [],
   "source": [
    "df = pd.read_csv(\"Result_final_1.csv\")"
   ]
  },
  {
   "cell_type": "code",
   "execution_count": 3,
   "id": "dd6b8335",
   "metadata": {},
   "outputs": [
    {
     "name": "stdout",
     "output_type": "stream",
     "text": [
      "<class 'pandas.core.frame.DataFrame'>\n",
      "RangeIndex: 1743257 entries, 0 to 1743256\n",
      "Data columns (total 24 columns):\n",
      " #   Column                             Dtype \n",
      "---  ------                             ----- \n",
      " 0   Unnamed: 0                         int64 \n",
      " 1   MandatId                           int64 \n",
      " 2   DateCreation                       object\n",
      " 3   BienMandatId                       int64 \n",
      " 4   Statut                             int64 \n",
      " 5   DescriptionBien_DateOffreAcceptee  object\n",
      " 6   Origine_DateCollecte               object\n",
      " 7   CritereId                          int64 \n",
      " 8   SurfaceMin                         int64 \n",
      " 9   NombrePiecesEnum                   int64 \n",
      " 10  NombreChambresEnum                 int64 \n",
      " 11  Departement_LocalisationId         int64 \n",
      " 12  Region_LocalisationId              int64 \n",
      " 13  LocalisationId                     int64 \n",
      " 14  StatutMandat                       int64 \n",
      " 15  TypeMission                        int64 \n",
      " 16  TypeBien                           int64 \n",
      " 17  TypeProjet                         int64 \n",
      " 18  BudgetMaxEuro                      int64 \n",
      " 19  CodePostal                         int64 \n",
      " 20  Ville                              object\n",
      " 21  Departement                        object\n",
      " 22  Region                             object\n",
      " 23  Succes                             int64 \n",
      "dtypes: int64(18), object(6)\n",
      "memory usage: 319.2+ MB\n"
     ]
    }
   ],
   "source": [
    "df.info()"
   ]
  },
  {
   "cell_type": "code",
   "execution_count": 4,
   "id": "accc7c03",
   "metadata": {},
   "outputs": [
    {
     "data": {
      "text/html": [
       "<div>\n",
       "<style scoped>\n",
       "    .dataframe tbody tr th:only-of-type {\n",
       "        vertical-align: middle;\n",
       "    }\n",
       "\n",
       "    .dataframe tbody tr th {\n",
       "        vertical-align: top;\n",
       "    }\n",
       "\n",
       "    .dataframe thead th {\n",
       "        text-align: right;\n",
       "    }\n",
       "</style>\n",
       "<table border=\"1\" class=\"dataframe\">\n",
       "  <thead>\n",
       "    <tr style=\"text-align: right;\">\n",
       "      <th></th>\n",
       "      <th>Unnamed: 0</th>\n",
       "      <th>MandatId</th>\n",
       "      <th>DateCreation</th>\n",
       "      <th>BienMandatId</th>\n",
       "      <th>Statut</th>\n",
       "      <th>DescriptionBien_DateOffreAcceptee</th>\n",
       "      <th>Origine_DateCollecte</th>\n",
       "      <th>CritereId</th>\n",
       "      <th>SurfaceMin</th>\n",
       "      <th>NombrePiecesEnum</th>\n",
       "      <th>NombreChambresEnum</th>\n",
       "      <th>Departement_LocalisationId</th>\n",
       "      <th>Region_LocalisationId</th>\n",
       "      <th>LocalisationId</th>\n",
       "      <th>StatutMandat</th>\n",
       "      <th>TypeMission</th>\n",
       "      <th>TypeBien</th>\n",
       "      <th>TypeProjet</th>\n",
       "      <th>BudgetMaxEuro</th>\n",
       "      <th>CodePostal</th>\n",
       "      <th>Ville</th>\n",
       "      <th>Departement</th>\n",
       "      <th>Region</th>\n",
       "      <th>Succes</th>\n",
       "    </tr>\n",
       "  </thead>\n",
       "  <tbody>\n",
       "    <tr>\n",
       "      <th>0</th>\n",
       "      <td>0</td>\n",
       "      <td>9049</td>\n",
       "      <td>2015-03-30</td>\n",
       "      <td>24579</td>\n",
       "      <td>1</td>\n",
       "      <td>0001-01-01</td>\n",
       "      <td>0001-01-01</td>\n",
       "      <td>9051</td>\n",
       "      <td>30</td>\n",
       "      <td>2</td>\n",
       "      <td>1</td>\n",
       "      <td>121</td>\n",
       "      <td>27</td>\n",
       "      <td>129</td>\n",
       "      <td>9</td>\n",
       "      <td>2</td>\n",
       "      <td>2</td>\n",
       "      <td>0</td>\n",
       "      <td>250000</td>\n",
       "      <td>1000</td>\n",
       "      <td>Bourg En Bresse</td>\n",
       "      <td>Ain</td>\n",
       "      <td>Rhône-Alpes</td>\n",
       "      <td>0</td>\n",
       "    </tr>\n",
       "    <tr>\n",
       "      <th>1</th>\n",
       "      <td>1</td>\n",
       "      <td>9049</td>\n",
       "      <td>2015-03-30</td>\n",
       "      <td>24580</td>\n",
       "      <td>0</td>\n",
       "      <td>0001-01-01</td>\n",
       "      <td>0001-01-01</td>\n",
       "      <td>9051</td>\n",
       "      <td>30</td>\n",
       "      <td>2</td>\n",
       "      <td>1</td>\n",
       "      <td>121</td>\n",
       "      <td>27</td>\n",
       "      <td>129</td>\n",
       "      <td>9</td>\n",
       "      <td>2</td>\n",
       "      <td>2</td>\n",
       "      <td>0</td>\n",
       "      <td>250000</td>\n",
       "      <td>1000</td>\n",
       "      <td>Bourg En Bresse</td>\n",
       "      <td>Ain</td>\n",
       "      <td>Rhône-Alpes</td>\n",
       "      <td>0</td>\n",
       "    </tr>\n",
       "    <tr>\n",
       "      <th>2</th>\n",
       "      <td>2</td>\n",
       "      <td>9049</td>\n",
       "      <td>2015-03-30</td>\n",
       "      <td>24582</td>\n",
       "      <td>1</td>\n",
       "      <td>0001-01-01</td>\n",
       "      <td>0001-01-01</td>\n",
       "      <td>9051</td>\n",
       "      <td>30</td>\n",
       "      <td>2</td>\n",
       "      <td>1</td>\n",
       "      <td>121</td>\n",
       "      <td>27</td>\n",
       "      <td>129</td>\n",
       "      <td>9</td>\n",
       "      <td>2</td>\n",
       "      <td>2</td>\n",
       "      <td>0</td>\n",
       "      <td>250000</td>\n",
       "      <td>1000</td>\n",
       "      <td>Bourg En Bresse</td>\n",
       "      <td>Ain</td>\n",
       "      <td>Rhône-Alpes</td>\n",
       "      <td>0</td>\n",
       "    </tr>\n",
       "    <tr>\n",
       "      <th>3</th>\n",
       "      <td>3</td>\n",
       "      <td>9049</td>\n",
       "      <td>2015-03-30</td>\n",
       "      <td>24583</td>\n",
       "      <td>0</td>\n",
       "      <td>0001-01-01</td>\n",
       "      <td>0001-01-01</td>\n",
       "      <td>9051</td>\n",
       "      <td>30</td>\n",
       "      <td>2</td>\n",
       "      <td>1</td>\n",
       "      <td>121</td>\n",
       "      <td>27</td>\n",
       "      <td>129</td>\n",
       "      <td>9</td>\n",
       "      <td>2</td>\n",
       "      <td>2</td>\n",
       "      <td>0</td>\n",
       "      <td>250000</td>\n",
       "      <td>1000</td>\n",
       "      <td>Bourg En Bresse</td>\n",
       "      <td>Ain</td>\n",
       "      <td>Rhône-Alpes</td>\n",
       "      <td>0</td>\n",
       "    </tr>\n",
       "    <tr>\n",
       "      <th>4</th>\n",
       "      <td>4</td>\n",
       "      <td>9049</td>\n",
       "      <td>2015-03-30</td>\n",
       "      <td>24584</td>\n",
       "      <td>7</td>\n",
       "      <td>0001-01-01</td>\n",
       "      <td>0001-01-01</td>\n",
       "      <td>9051</td>\n",
       "      <td>30</td>\n",
       "      <td>2</td>\n",
       "      <td>1</td>\n",
       "      <td>121</td>\n",
       "      <td>27</td>\n",
       "      <td>129</td>\n",
       "      <td>9</td>\n",
       "      <td>2</td>\n",
       "      <td>2</td>\n",
       "      <td>0</td>\n",
       "      <td>250000</td>\n",
       "      <td>1000</td>\n",
       "      <td>Bourg En Bresse</td>\n",
       "      <td>Ain</td>\n",
       "      <td>Rhône-Alpes</td>\n",
       "      <td>0</td>\n",
       "    </tr>\n",
       "  </tbody>\n",
       "</table>\n",
       "</div>"
      ],
      "text/plain": [
       "   Unnamed: 0  MandatId DateCreation  BienMandatId  Statut  \\\n",
       "0           0      9049   2015-03-30         24579       1   \n",
       "1           1      9049   2015-03-30         24580       0   \n",
       "2           2      9049   2015-03-30         24582       1   \n",
       "3           3      9049   2015-03-30         24583       0   \n",
       "4           4      9049   2015-03-30         24584       7   \n",
       "\n",
       "  DescriptionBien_DateOffreAcceptee Origine_DateCollecte  CritereId  \\\n",
       "0                        0001-01-01           0001-01-01       9051   \n",
       "1                        0001-01-01           0001-01-01       9051   \n",
       "2                        0001-01-01           0001-01-01       9051   \n",
       "3                        0001-01-01           0001-01-01       9051   \n",
       "4                        0001-01-01           0001-01-01       9051   \n",
       "\n",
       "   SurfaceMin  NombrePiecesEnum  NombreChambresEnum  \\\n",
       "0          30                 2                   1   \n",
       "1          30                 2                   1   \n",
       "2          30                 2                   1   \n",
       "3          30                 2                   1   \n",
       "4          30                 2                   1   \n",
       "\n",
       "   Departement_LocalisationId  Region_LocalisationId  LocalisationId  \\\n",
       "0                         121                     27             129   \n",
       "1                         121                     27             129   \n",
       "2                         121                     27             129   \n",
       "3                         121                     27             129   \n",
       "4                         121                     27             129   \n",
       "\n",
       "   StatutMandat  TypeMission  TypeBien  TypeProjet  BudgetMaxEuro  CodePostal  \\\n",
       "0             9            2         2           0         250000        1000   \n",
       "1             9            2         2           0         250000        1000   \n",
       "2             9            2         2           0         250000        1000   \n",
       "3             9            2         2           0         250000        1000   \n",
       "4             9            2         2           0         250000        1000   \n",
       "\n",
       "             Ville Departement       Region  Succes  \n",
       "0  Bourg En Bresse         Ain  Rhône-Alpes       0  \n",
       "1  Bourg En Bresse         Ain  Rhône-Alpes       0  \n",
       "2  Bourg En Bresse         Ain  Rhône-Alpes       0  \n",
       "3  Bourg En Bresse         Ain  Rhône-Alpes       0  \n",
       "4  Bourg En Bresse         Ain  Rhône-Alpes       0  "
      ]
     },
     "execution_count": 4,
     "metadata": {},
     "output_type": "execute_result"
    }
   ],
   "source": [
    "df.head()"
   ]
  },
  {
   "cell_type": "code",
   "execution_count": 5,
   "id": "03ce3d43",
   "metadata": {},
   "outputs": [],
   "source": [
    "df.drop(\"Unnamed: 0\", axis = 1, inplace = True)"
   ]
  },
  {
   "cell_type": "code",
   "execution_count": 6,
   "id": "27c0c479",
   "metadata": {},
   "outputs": [
    {
     "name": "stdout",
     "output_type": "stream",
     "text": [
      "Nombre de lignes dupliquées 0\n"
     ]
    }
   ],
   "source": [
    "print(\"Nombre de lignes dupliquées\", df.duplicated().sum())"
   ]
  },
  {
   "cell_type": "code",
   "execution_count": 7,
   "id": "088b4ddb",
   "metadata": {},
   "outputs": [
    {
     "data": {
      "text/plain": [
       "MandatId                             0\n",
       "DateCreation                         0\n",
       "BienMandatId                         0\n",
       "Statut                               0\n",
       "DescriptionBien_DateOffreAcceptee    0\n",
       "Origine_DateCollecte                 0\n",
       "CritereId                            0\n",
       "SurfaceMin                           0\n",
       "NombrePiecesEnum                     0\n",
       "NombreChambresEnum                   0\n",
       "Departement_LocalisationId           0\n",
       "Region_LocalisationId                0\n",
       "LocalisationId                       0\n",
       "StatutMandat                         0\n",
       "TypeMission                          0\n",
       "TypeBien                             0\n",
       "TypeProjet                           0\n",
       "BudgetMaxEuro                        0\n",
       "CodePostal                           0\n",
       "Ville                                0\n",
       "Departement                          0\n",
       "Region                               0\n",
       "Succes                               0\n",
       "dtype: int64"
      ]
     },
     "execution_count": 7,
     "metadata": {},
     "output_type": "execute_result"
    }
   ],
   "source": [
    "df.isnull().sum()"
   ]
  },
  {
   "cell_type": "markdown",
   "id": "36ee7bf0",
   "metadata": {},
   "source": [
    "# Data Analyse"
   ]
  },
  {
   "cell_type": "code",
   "execution_count": 8,
   "id": "095a8174",
   "metadata": {},
   "outputs": [
    {
     "data": {
      "text/plain": [
       "1    1320890\n",
       "0     323967\n",
       "2      98400\n",
       "Name: TypeProjet, dtype: int64"
      ]
     },
     "execution_count": 8,
     "metadata": {},
     "output_type": "execute_result"
    }
   ],
   "source": [
    "df.TypeProjet.value_counts()"
   ]
  },
  {
   "cell_type": "markdown",
   "id": "bcfaab2f",
   "metadata": {},
   "source": [
    "1= Résidence principale    1320890\n",
    "0= Investissement           323967\n",
    "2= Résidence secondaire      98400"
   ]
  },
  {
   "cell_type": "code",
   "execution_count": 9,
   "id": "4dcdb83c",
   "metadata": {},
   "outputs": [
    {
     "data": {
      "text/plain": [
       "2    1623396\n",
       "1      87236\n",
       "0      22879\n",
       "4       5345\n",
       "6       2257\n",
       "5       1306\n",
       "3        838\n",
       "Name: TypeMission, dtype: int64"
      ]
     },
     "execution_count": 9,
     "metadata": {},
     "output_type": "execute_result"
    }
   ],
   "source": [
    "df[\"TypeMission\"].value_counts()"
   ]
  },
  {
   "cell_type": "code",
   "execution_count": 10,
   "id": "b54a96be",
   "metadata": {},
   "outputs": [
    {
     "data": {
      "text/plain": [
       "0    1091942\n",
       "1     651315\n",
       "Name: Succes, dtype: int64"
      ]
     },
     "execution_count": 10,
     "metadata": {},
     "output_type": "execute_result"
    }
   ],
   "source": [
    "df[\"Succes\"].value_counts()"
   ]
  },
  {
   "cell_type": "code",
   "execution_count": 11,
   "id": "fa393598",
   "metadata": {},
   "outputs": [
    {
     "data": {
      "image/png": "[encoded data removed]",
      "text/plain": [
       "<Figure size 432x432 with 1 Axes>"
      ]
     },
     "metadata": {},
     "output_type": "display_data"
    }
   ],
   "source": [
    "plot = df['Succes'].value_counts().plot(kind='pie', autopct='%.2f', \n",
    "                                            figsize=(6, 6),\n",
    "                                            title='Succes')"
   ]
  },
  {
   "cell_type": "code",
   "execution_count": 12,
   "id": "88bdd4d9",
   "metadata": {},
   "outputs": [
    {
     "data": {
      "text/html": [
       "<div>\n",
       "<style scoped>\n",
       "    .dataframe tbody tr th:only-of-type {\n",
       "        vertical-align: middle;\n",
       "    }\n",
       "\n",
       "    .dataframe tbody tr th {\n",
       "        vertical-align: top;\n",
       "    }\n",
       "\n",
       "    .dataframe thead th {\n",
       "        text-align: right;\n",
       "    }\n",
       "</style>\n",
       "<table border=\"1\" class=\"dataframe\">\n",
       "  <thead>\n",
       "    <tr style=\"text-align: right;\">\n",
       "      <th></th>\n",
       "      <th>MandatId</th>\n",
       "      <th>DateCreation</th>\n",
       "      <th>BienMandatId</th>\n",
       "      <th>Statut</th>\n",
       "      <th>DescriptionBien_DateOffreAcceptee</th>\n",
       "      <th>Origine_DateCollecte</th>\n",
       "      <th>CritereId</th>\n",
       "      <th>SurfaceMin</th>\n",
       "      <th>NombrePiecesEnum</th>\n",
       "      <th>NombreChambresEnum</th>\n",
       "      <th>Departement_LocalisationId</th>\n",
       "      <th>Region_LocalisationId</th>\n",
       "      <th>LocalisationId</th>\n",
       "      <th>StatutMandat</th>\n",
       "      <th>TypeMission</th>\n",
       "      <th>TypeBien</th>\n",
       "      <th>TypeProjet</th>\n",
       "      <th>BudgetMaxEuro</th>\n",
       "      <th>CodePostal</th>\n",
       "      <th>Ville</th>\n",
       "      <th>Departement</th>\n",
       "      <th>Region</th>\n",
       "      <th>Succes</th>\n",
       "    </tr>\n",
       "  </thead>\n",
       "  <tbody>\n",
       "    <tr>\n",
       "      <th>0</th>\n",
       "      <td>9049</td>\n",
       "      <td>2015-03-30</td>\n",
       "      <td>24579</td>\n",
       "      <td>1</td>\n",
       "      <td>0001-01-01</td>\n",
       "      <td>0001-01-01</td>\n",
       "      <td>9051</td>\n",
       "      <td>30</td>\n",
       "      <td>2</td>\n",
       "      <td>1</td>\n",
       "      <td>121</td>\n",
       "      <td>27</td>\n",
       "      <td>129</td>\n",
       "      <td>9</td>\n",
       "      <td>2</td>\n",
       "      <td>2</td>\n",
       "      <td>0</td>\n",
       "      <td>250000</td>\n",
       "      <td>1000</td>\n",
       "      <td>Bourg En Bresse</td>\n",
       "      <td>Ain</td>\n",
       "      <td>Rhône-Alpes</td>\n",
       "      <td>0</td>\n",
       "    </tr>\n",
       "    <tr>\n",
       "      <th>1</th>\n",
       "      <td>9049</td>\n",
       "      <td>2015-03-30</td>\n",
       "      <td>24580</td>\n",
       "      <td>0</td>\n",
       "      <td>0001-01-01</td>\n",
       "      <td>0001-01-01</td>\n",
       "      <td>9051</td>\n",
       "      <td>30</td>\n",
       "      <td>2</td>\n",
       "      <td>1</td>\n",
       "      <td>121</td>\n",
       "      <td>27</td>\n",
       "      <td>129</td>\n",
       "      <td>9</td>\n",
       "      <td>2</td>\n",
       "      <td>2</td>\n",
       "      <td>0</td>\n",
       "      <td>250000</td>\n",
       "      <td>1000</td>\n",
       "      <td>Bourg En Bresse</td>\n",
       "      <td>Ain</td>\n",
       "      <td>Rhône-Alpes</td>\n",
       "      <td>0</td>\n",
       "    </tr>\n",
       "    <tr>\n",
       "      <th>2</th>\n",
       "      <td>9049</td>\n",
       "      <td>2015-03-30</td>\n",
       "      <td>24582</td>\n",
       "      <td>1</td>\n",
       "      <td>0001-01-01</td>\n",
       "      <td>0001-01-01</td>\n",
       "      <td>9051</td>\n",
       "      <td>30</td>\n",
       "      <td>2</td>\n",
       "      <td>1</td>\n",
       "      <td>121</td>\n",
       "      <td>27</td>\n",
       "      <td>129</td>\n",
       "      <td>9</td>\n",
       "      <td>2</td>\n",
       "      <td>2</td>\n",
       "      <td>0</td>\n",
       "      <td>250000</td>\n",
       "      <td>1000</td>\n",
       "      <td>Bourg En Bresse</td>\n",
       "      <td>Ain</td>\n",
       "      <td>Rhône-Alpes</td>\n",
       "      <td>0</td>\n",
       "    </tr>\n",
       "    <tr>\n",
       "      <th>3</th>\n",
       "      <td>9049</td>\n",
       "      <td>2015-03-30</td>\n",
       "      <td>24583</td>\n",
       "      <td>0</td>\n",
       "      <td>0001-01-01</td>\n",
       "      <td>0001-01-01</td>\n",
       "      <td>9051</td>\n",
       "      <td>30</td>\n",
       "      <td>2</td>\n",
       "      <td>1</td>\n",
       "      <td>121</td>\n",
       "      <td>27</td>\n",
       "      <td>129</td>\n",
       "      <td>9</td>\n",
       "      <td>2</td>\n",
       "      <td>2</td>\n",
       "      <td>0</td>\n",
       "      <td>250000</td>\n",
       "      <td>1000</td>\n",
       "      <td>Bourg En Bresse</td>\n",
       "      <td>Ain</td>\n",
       "      <td>Rhône-Alpes</td>\n",
       "      <td>0</td>\n",
       "    </tr>\n",
       "    <tr>\n",
       "      <th>4</th>\n",
       "      <td>9049</td>\n",
       "      <td>2015-03-30</td>\n",
       "      <td>24584</td>\n",
       "      <td>7</td>\n",
       "      <td>0001-01-01</td>\n",
       "      <td>0001-01-01</td>\n",
       "      <td>9051</td>\n",
       "      <td>30</td>\n",
       "      <td>2</td>\n",
       "      <td>1</td>\n",
       "      <td>121</td>\n",
       "      <td>27</td>\n",
       "      <td>129</td>\n",
       "      <td>9</td>\n",
       "      <td>2</td>\n",
       "      <td>2</td>\n",
       "      <td>0</td>\n",
       "      <td>250000</td>\n",
       "      <td>1000</td>\n",
       "      <td>Bourg En Bresse</td>\n",
       "      <td>Ain</td>\n",
       "      <td>Rhône-Alpes</td>\n",
       "      <td>0</td>\n",
       "    </tr>\n",
       "  </tbody>\n",
       "</table>\n",
       "</div>"
      ],
      "text/plain": [
       "   MandatId DateCreation  BienMandatId  Statut  \\\n",
       "0      9049   2015-03-30         24579       1   \n",
       "1      9049   2015-03-30         24580       0   \n",
       "2      9049   2015-03-30         24582       1   \n",
       "3      9049   2015-03-30         24583       0   \n",
       "4      9049   2015-03-30         24584       7   \n",
       "\n",
       "  DescriptionBien_DateOffreAcceptee Origine_DateCollecte  CritereId  \\\n",
       "0                        0001-01-01           0001-01-01       9051   \n",
       "1                        0001-01-01           0001-01-01       9051   \n",
       "2                        0001-01-01           0001-01-01       9051   \n",
       "3                        0001-01-01           0001-01-01       9051   \n",
       "4                        0001-01-01           0001-01-01       9051   \n",
       "\n",
       "   SurfaceMin  NombrePiecesEnum  NombreChambresEnum  \\\n",
       "0          30                 2                   1   \n",
       "1          30                 2                   1   \n",
       "2          30                 2                   1   \n",
       "3          30                 2                   1   \n",
       "4          30                 2                   1   \n",
       "\n",
       "   Departement_LocalisationId  Region_LocalisationId  LocalisationId  \\\n",
       "0                         121                     27             129   \n",
       "1                         121                     27             129   \n",
       "2                         121                     27             129   \n",
       "3                         121                     27             129   \n",
       "4                         121                     27             129   \n",
       "\n",
       "   StatutMandat  TypeMission  TypeBien  TypeProjet  BudgetMaxEuro  CodePostal  \\\n",
       "0             9            2         2           0         250000        1000   \n",
       "1             9            2         2           0         250000        1000   \n",
       "2             9            2         2           0         250000        1000   \n",
       "3             9            2         2           0         250000        1000   \n",
       "4             9            2         2           0         250000        1000   \n",
       "\n",
       "             Ville Departement       Region  Succes  \n",
       "0  Bourg En Bresse         Ain  Rhône-Alpes       0  \n",
       "1  Bourg En Bresse         Ain  Rhône-Alpes       0  \n",
       "2  Bourg En Bresse         Ain  Rhône-Alpes       0  \n",
       "3  Bourg En Bresse         Ain  Rhône-Alpes       0  \n",
       "4  Bourg En Bresse         Ain  Rhône-Alpes       0  "
      ]
     },
     "execution_count": 12,
     "metadata": {},
     "output_type": "execute_result"
    }
   ],
   "source": [
    "df.head()"
   ]
  },
  {
   "cell_type": "code",
   "execution_count": 13,
   "id": "6cb31068",
   "metadata": {},
   "outputs": [
    {
     "data": {
      "text/plain": [
       "Index(['MandatId', 'DateCreation', 'BienMandatId', 'Statut',\n",
       "       'DescriptionBien_DateOffreAcceptee', 'Origine_DateCollecte',\n",
       "       'CritereId', 'SurfaceMin', 'NombrePiecesEnum', 'NombreChambresEnum',\n",
       "       'Departement_LocalisationId', 'Region_LocalisationId', 'LocalisationId',\n",
       "       'StatutMandat', 'TypeMission', 'TypeBien', 'TypeProjet',\n",
       "       'BudgetMaxEuro', 'CodePostal', 'Ville', 'Departement', 'Region',\n",
       "       'Succes'],\n",
       "      dtype='object')"
      ]
     },
     "execution_count": 13,
     "metadata": {},
     "output_type": "execute_result"
    }
   ],
   "source": [
    "df.columns"
   ]
  },
  {
   "cell_type": "code",
   "execution_count": 14,
   "id": "0b74e463",
   "metadata": {},
   "outputs": [
    {
     "data": {
      "text/plain": [
       "int64     17\n",
       "object     6\n",
       "dtype: int64"
      ]
     },
     "execution_count": 14,
     "metadata": {},
     "output_type": "execute_result"
    }
   ],
   "source": [
    "df.dtypes.value_counts()"
   ]
  },
  {
   "cell_type": "code",
   "execution_count": 15,
   "id": "71400390",
   "metadata": {},
   "outputs": [
    {
     "data": {
      "text/plain": [
       "MandatId                        7579\n",
       "BienMandatId                  395103\n",
       "Statut                             8\n",
       "CritereId                       7579\n",
       "SurfaceMin                       117\n",
       "NombrePiecesEnum                   7\n",
       "NombreChambresEnum                 7\n",
       "Departement_LocalisationId        84\n",
       "Region_LocalisationId             22\n",
       "LocalisationId                  3248\n",
       "StatutMandat                       3\n",
       "TypeMission                        7\n",
       "TypeBien                           9\n",
       "TypeProjet                         3\n",
       "BudgetMaxEuro                    365\n",
       "CodePostal                      1826\n",
       "Succes                             2\n",
       "dtype: int64"
      ]
     },
     "execution_count": 15,
     "metadata": {},
     "output_type": "execute_result"
    }
   ],
   "source": [
    "df.select_dtypes('int').apply(pd.Series.nunique, axis = 0)"
   ]
  },
  {
   "cell_type": "code",
   "execution_count": 16,
   "id": "5af7a30d",
   "metadata": {},
   "outputs": [
    {
     "data": {
      "text/plain": [
       "DateCreation                         2276\n",
       "DescriptionBien_DateOffreAcceptee    1110\n",
       "Origine_DateCollecte                 3064\n",
       "Ville                                3154\n",
       "Departement                            84\n",
       "Region                                 22\n",
       "dtype: int64"
      ]
     },
     "execution_count": 16,
     "metadata": {},
     "output_type": "execute_result"
    }
   ],
   "source": [
    "df.select_dtypes('object').apply(pd.Series.nunique, axis = 0)"
   ]
  },
  {
   "cell_type": "markdown",
   "id": "84a9d22a",
   "metadata": {},
   "source": [
    "# Division du jeu de données pour le reduire"
   ]
  },
  {
   "cell_type": "markdown",
   "id": "003d5146",
   "metadata": {},
   "source": [
    "# Utilisation de iloc pour diviser dataset en deux"
   ]
  },
  {
   "cell_type": "code",
   "execution_count": 17,
   "id": "94c3cd72",
   "metadata": {},
   "outputs": [
    {
     "name": "stdout",
     "output_type": "stream",
     "text": [
      "<class 'pandas.core.frame.DataFrame'>\n",
      "RangeIndex: 1743257 entries, 0 to 1743256\n",
      "Data columns (total 23 columns):\n",
      " #   Column                             Dtype \n",
      "---  ------                             ----- \n",
      " 0   MandatId                           int64 \n",
      " 1   DateCreation                       object\n",
      " 2   BienMandatId                       int64 \n",
      " 3   Statut                             int64 \n",
      " 4   DescriptionBien_DateOffreAcceptee  object\n",
      " 5   Origine_DateCollecte               object\n",
      " 6   CritereId                          int64 \n",
      " 7   SurfaceMin                         int64 \n",
      " 8   NombrePiecesEnum                   int64 \n",
      " 9   NombreChambresEnum                 int64 \n",
      " 10  Departement_LocalisationId         int64 \n",
      " 11  Region_LocalisationId              int64 \n",
      " 12  LocalisationId                     int64 \n",
      " 13  StatutMandat                       int64 \n",
      " 14  TypeMission                        int64 \n",
      " 15  TypeBien                           int64 \n",
      " 16  TypeProjet                         int64 \n",
      " 17  BudgetMaxEuro                      int64 \n",
      " 18  CodePostal                         int64 \n",
      " 19  Ville                              object\n",
      " 20  Departement                        object\n",
      " 21  Region                             object\n",
      " 22  Succes                             int64 \n",
      "dtypes: int64(17), object(6)\n",
      "memory usage: 305.9+ MB\n"
     ]
    }
   ],
   "source": [
    "df.info()"
   ]
  },
  {
   "cell_type": "code",
   "execution_count": 18,
   "id": "b962cf07",
   "metadata": {},
   "outputs": [
    {
     "data": {
      "text/plain": [
       "435814.25"
      ]
     },
     "execution_count": 18,
     "metadata": {},
     "output_type": "execute_result"
    }
   ],
   "source": [
    "25*1743257/100"
   ]
  },
  {
   "cell_type": "code",
   "execution_count": 19,
   "id": "8f9b025d",
   "metadata": {},
   "outputs": [],
   "source": [
    "df_25 = df.iloc[:435816,:]"
   ]
  },
  {
   "cell_type": "code",
   "execution_count": 20,
   "id": "366f4436",
   "metadata": {},
   "outputs": [
    {
     "data": {
      "text/html": [
       "<div>\n",
       "<style scoped>\n",
       "    .dataframe tbody tr th:only-of-type {\n",
       "        vertical-align: middle;\n",
       "    }\n",
       "\n",
       "    .dataframe tbody tr th {\n",
       "        vertical-align: top;\n",
       "    }\n",
       "\n",
       "    .dataframe thead th {\n",
       "        text-align: right;\n",
       "    }\n",
       "</style>\n",
       "<table border=\"1\" class=\"dataframe\">\n",
       "  <thead>\n",
       "    <tr style=\"text-align: right;\">\n",
       "      <th></th>\n",
       "      <th>MandatId</th>\n",
       "      <th>DateCreation</th>\n",
       "      <th>BienMandatId</th>\n",
       "      <th>Statut</th>\n",
       "      <th>DescriptionBien_DateOffreAcceptee</th>\n",
       "      <th>Origine_DateCollecte</th>\n",
       "      <th>CritereId</th>\n",
       "      <th>SurfaceMin</th>\n",
       "      <th>NombrePiecesEnum</th>\n",
       "      <th>NombreChambresEnum</th>\n",
       "      <th>Departement_LocalisationId</th>\n",
       "      <th>Region_LocalisationId</th>\n",
       "      <th>LocalisationId</th>\n",
       "      <th>StatutMandat</th>\n",
       "      <th>TypeMission</th>\n",
       "      <th>TypeBien</th>\n",
       "      <th>TypeProjet</th>\n",
       "      <th>BudgetMaxEuro</th>\n",
       "      <th>CodePostal</th>\n",
       "      <th>Ville</th>\n",
       "      <th>Departement</th>\n",
       "      <th>Region</th>\n",
       "      <th>Succes</th>\n",
       "    </tr>\n",
       "  </thead>\n",
       "  <tbody>\n",
       "    <tr>\n",
       "      <th>435811</th>\n",
       "      <td>44429</td>\n",
       "      <td>2018-06-25</td>\n",
       "      <td>138614</td>\n",
       "      <td>7</td>\n",
       "      <td>0001-01-01</td>\n",
       "      <td>0001-01-01</td>\n",
       "      <td>44508</td>\n",
       "      <td>45</td>\n",
       "      <td>3</td>\n",
       "      <td>2</td>\n",
       "      <td>81</td>\n",
       "      <td>16</td>\n",
       "      <td>14712</td>\n",
       "      <td>8</td>\n",
       "      <td>2</td>\n",
       "      <td>2</td>\n",
       "      <td>1</td>\n",
       "      <td>180000</td>\n",
       "      <td>34970</td>\n",
       "      <td>Lattes</td>\n",
       "      <td>Hérault</td>\n",
       "      <td>Languedoc-Roussillon</td>\n",
       "      <td>1</td>\n",
       "    </tr>\n",
       "    <tr>\n",
       "      <th>435812</th>\n",
       "      <td>44429</td>\n",
       "      <td>2018-06-25</td>\n",
       "      <td>138615</td>\n",
       "      <td>0</td>\n",
       "      <td>0001-01-01</td>\n",
       "      <td>2018-07-01</td>\n",
       "      <td>44508</td>\n",
       "      <td>45</td>\n",
       "      <td>3</td>\n",
       "      <td>2</td>\n",
       "      <td>81</td>\n",
       "      <td>16</td>\n",
       "      <td>14712</td>\n",
       "      <td>8</td>\n",
       "      <td>2</td>\n",
       "      <td>2</td>\n",
       "      <td>1</td>\n",
       "      <td>180000</td>\n",
       "      <td>34970</td>\n",
       "      <td>Lattes</td>\n",
       "      <td>Hérault</td>\n",
       "      <td>Languedoc-Roussillon</td>\n",
       "      <td>1</td>\n",
       "    </tr>\n",
       "    <tr>\n",
       "      <th>435813</th>\n",
       "      <td>44429</td>\n",
       "      <td>2018-06-25</td>\n",
       "      <td>138616</td>\n",
       "      <td>7</td>\n",
       "      <td>0001-01-01</td>\n",
       "      <td>0001-01-01</td>\n",
       "      <td>44508</td>\n",
       "      <td>45</td>\n",
       "      <td>3</td>\n",
       "      <td>2</td>\n",
       "      <td>81</td>\n",
       "      <td>16</td>\n",
       "      <td>14712</td>\n",
       "      <td>8</td>\n",
       "      <td>2</td>\n",
       "      <td>2</td>\n",
       "      <td>1</td>\n",
       "      <td>180000</td>\n",
       "      <td>34970</td>\n",
       "      <td>Lattes</td>\n",
       "      <td>Hérault</td>\n",
       "      <td>Languedoc-Roussillon</td>\n",
       "      <td>1</td>\n",
       "    </tr>\n",
       "    <tr>\n",
       "      <th>435814</th>\n",
       "      <td>44429</td>\n",
       "      <td>2018-06-25</td>\n",
       "      <td>138617</td>\n",
       "      <td>0</td>\n",
       "      <td>0001-01-01</td>\n",
       "      <td>2018-06-29</td>\n",
       "      <td>44508</td>\n",
       "      <td>45</td>\n",
       "      <td>3</td>\n",
       "      <td>2</td>\n",
       "      <td>81</td>\n",
       "      <td>16</td>\n",
       "      <td>14712</td>\n",
       "      <td>8</td>\n",
       "      <td>2</td>\n",
       "      <td>2</td>\n",
       "      <td>1</td>\n",
       "      <td>180000</td>\n",
       "      <td>34970</td>\n",
       "      <td>Lattes</td>\n",
       "      <td>Hérault</td>\n",
       "      <td>Languedoc-Roussillon</td>\n",
       "      <td>1</td>\n",
       "    </tr>\n",
       "    <tr>\n",
       "      <th>435815</th>\n",
       "      <td>44429</td>\n",
       "      <td>2018-06-25</td>\n",
       "      <td>138618</td>\n",
       "      <td>7</td>\n",
       "      <td>0001-01-01</td>\n",
       "      <td>0001-01-01</td>\n",
       "      <td>44508</td>\n",
       "      <td>45</td>\n",
       "      <td>3</td>\n",
       "      <td>2</td>\n",
       "      <td>81</td>\n",
       "      <td>16</td>\n",
       "      <td>14712</td>\n",
       "      <td>8</td>\n",
       "      <td>2</td>\n",
       "      <td>2</td>\n",
       "      <td>1</td>\n",
       "      <td>180000</td>\n",
       "      <td>34970</td>\n",
       "      <td>Lattes</td>\n",
       "      <td>Hérault</td>\n",
       "      <td>Languedoc-Roussillon</td>\n",
       "      <td>1</td>\n",
       "    </tr>\n",
       "  </tbody>\n",
       "</table>\n",
       "</div>"
      ],
      "text/plain": [
       "        MandatId DateCreation  BienMandatId  Statut  \\\n",
       "435811     44429   2018-06-25        138614       7   \n",
       "435812     44429   2018-06-25        138615       0   \n",
       "435813     44429   2018-06-25        138616       7   \n",
       "435814     44429   2018-06-25        138617       0   \n",
       "435815     44429   2018-06-25        138618       7   \n",
       "\n",
       "       DescriptionBien_DateOffreAcceptee Origine_DateCollecte  CritereId  \\\n",
       "435811                        0001-01-01           0001-01-01      44508   \n",
       "435812                        0001-01-01           2018-07-01      44508   \n",
       "435813                        0001-01-01           0001-01-01      44508   \n",
       "435814                        0001-01-01           2018-06-29      44508   \n",
       "435815                        0001-01-01           0001-01-01      44508   \n",
       "\n",
       "        SurfaceMin  NombrePiecesEnum  NombreChambresEnum  \\\n",
       "435811          45                 3                   2   \n",
       "435812          45                 3                   2   \n",
       "435813          45                 3                   2   \n",
       "435814          45                 3                   2   \n",
       "435815          45                 3                   2   \n",
       "\n",
       "        Departement_LocalisationId  Region_LocalisationId  LocalisationId  \\\n",
       "435811                          81                     16           14712   \n",
       "435812                          81                     16           14712   \n",
       "435813                          81                     16           14712   \n",
       "435814                          81                     16           14712   \n",
       "435815                          81                     16           14712   \n",
       "\n",
       "        StatutMandat  TypeMission  TypeBien  TypeProjet  BudgetMaxEuro  \\\n",
       "435811             8            2         2           1         180000   \n",
       "435812             8            2         2           1         180000   \n",
       "435813             8            2         2           1         180000   \n",
       "435814             8            2         2           1         180000   \n",
       "435815             8            2         2           1         180000   \n",
       "\n",
       "        CodePostal   Ville Departement                Region  Succes  \n",
       "435811       34970  Lattes     Hérault  Languedoc-Roussillon       1  \n",
       "435812       34970  Lattes     Hérault  Languedoc-Roussillon       1  \n",
       "435813       34970  Lattes     Hérault  Languedoc-Roussillon       1  \n",
       "435814       34970  Lattes     Hérault  Languedoc-Roussillon       1  \n",
       "435815       34970  Lattes     Hérault  Languedoc-Roussillon       1  "
      ]
     },
     "execution_count": 20,
     "metadata": {},
     "output_type": "execute_result"
    }
   ],
   "source": [
    "df_25.tail()"
   ]
  },
  {
   "cell_type": "code",
   "execution_count": 21,
   "id": "58e5c232",
   "metadata": {},
   "outputs": [],
   "source": [
    "df_75 = df.iloc[435816:,:]"
   ]
  },
  {
   "cell_type": "code",
   "execution_count": 22,
   "id": "9c71c758",
   "metadata": {},
   "outputs": [
    {
     "data": {
      "text/html": [
       "<div>\n",
       "<style scoped>\n",
       "    .dataframe tbody tr th:only-of-type {\n",
       "        vertical-align: middle;\n",
       "    }\n",
       "\n",
       "    .dataframe tbody tr th {\n",
       "        vertical-align: top;\n",
       "    }\n",
       "\n",
       "    .dataframe thead th {\n",
       "        text-align: right;\n",
       "    }\n",
       "</style>\n",
       "<table border=\"1\" class=\"dataframe\">\n",
       "  <thead>\n",
       "    <tr style=\"text-align: right;\">\n",
       "      <th></th>\n",
       "      <th>MandatId</th>\n",
       "      <th>DateCreation</th>\n",
       "      <th>BienMandatId</th>\n",
       "      <th>Statut</th>\n",
       "      <th>DescriptionBien_DateOffreAcceptee</th>\n",
       "      <th>Origine_DateCollecte</th>\n",
       "      <th>CritereId</th>\n",
       "      <th>SurfaceMin</th>\n",
       "      <th>NombrePiecesEnum</th>\n",
       "      <th>NombreChambresEnum</th>\n",
       "      <th>Departement_LocalisationId</th>\n",
       "      <th>Region_LocalisationId</th>\n",
       "      <th>LocalisationId</th>\n",
       "      <th>StatutMandat</th>\n",
       "      <th>TypeMission</th>\n",
       "      <th>TypeBien</th>\n",
       "      <th>TypeProjet</th>\n",
       "      <th>BudgetMaxEuro</th>\n",
       "      <th>CodePostal</th>\n",
       "      <th>Ville</th>\n",
       "      <th>Departement</th>\n",
       "      <th>Region</th>\n",
       "      <th>Succes</th>\n",
       "    </tr>\n",
       "  </thead>\n",
       "  <tbody>\n",
       "    <tr>\n",
       "      <th>435816</th>\n",
       "      <td>44429</td>\n",
       "      <td>2018-06-25</td>\n",
       "      <td>138721</td>\n",
       "      <td>0</td>\n",
       "      <td>0001-01-01</td>\n",
       "      <td>2018-07-05</td>\n",
       "      <td>44508</td>\n",
       "      <td>45</td>\n",
       "      <td>3</td>\n",
       "      <td>2</td>\n",
       "      <td>81</td>\n",
       "      <td>16</td>\n",
       "      <td>14712</td>\n",
       "      <td>8</td>\n",
       "      <td>2</td>\n",
       "      <td>2</td>\n",
       "      <td>1</td>\n",
       "      <td>180000</td>\n",
       "      <td>34970</td>\n",
       "      <td>Lattes</td>\n",
       "      <td>Hérault</td>\n",
       "      <td>Languedoc-Roussillon</td>\n",
       "      <td>1</td>\n",
       "    </tr>\n",
       "    <tr>\n",
       "      <th>435817</th>\n",
       "      <td>44429</td>\n",
       "      <td>2018-06-25</td>\n",
       "      <td>138876</td>\n",
       "      <td>7</td>\n",
       "      <td>0001-01-01</td>\n",
       "      <td>0001-01-01</td>\n",
       "      <td>44508</td>\n",
       "      <td>45</td>\n",
       "      <td>3</td>\n",
       "      <td>2</td>\n",
       "      <td>81</td>\n",
       "      <td>16</td>\n",
       "      <td>14712</td>\n",
       "      <td>8</td>\n",
       "      <td>2</td>\n",
       "      <td>2</td>\n",
       "      <td>1</td>\n",
       "      <td>180000</td>\n",
       "      <td>34970</td>\n",
       "      <td>Lattes</td>\n",
       "      <td>Hérault</td>\n",
       "      <td>Languedoc-Roussillon</td>\n",
       "      <td>1</td>\n",
       "    </tr>\n",
       "    <tr>\n",
       "      <th>435818</th>\n",
       "      <td>44429</td>\n",
       "      <td>2018-06-25</td>\n",
       "      <td>138883</td>\n",
       "      <td>7</td>\n",
       "      <td>0001-01-01</td>\n",
       "      <td>0001-01-01</td>\n",
       "      <td>44508</td>\n",
       "      <td>45</td>\n",
       "      <td>3</td>\n",
       "      <td>2</td>\n",
       "      <td>81</td>\n",
       "      <td>16</td>\n",
       "      <td>14712</td>\n",
       "      <td>8</td>\n",
       "      <td>2</td>\n",
       "      <td>2</td>\n",
       "      <td>1</td>\n",
       "      <td>180000</td>\n",
       "      <td>34970</td>\n",
       "      <td>Lattes</td>\n",
       "      <td>Hérault</td>\n",
       "      <td>Languedoc-Roussillon</td>\n",
       "      <td>1</td>\n",
       "    </tr>\n",
       "    <tr>\n",
       "      <th>435819</th>\n",
       "      <td>44429</td>\n",
       "      <td>2018-06-25</td>\n",
       "      <td>139117</td>\n",
       "      <td>0</td>\n",
       "      <td>0001-01-01</td>\n",
       "      <td>0001-01-01</td>\n",
       "      <td>44508</td>\n",
       "      <td>45</td>\n",
       "      <td>3</td>\n",
       "      <td>2</td>\n",
       "      <td>81</td>\n",
       "      <td>16</td>\n",
       "      <td>14712</td>\n",
       "      <td>8</td>\n",
       "      <td>2</td>\n",
       "      <td>2</td>\n",
       "      <td>1</td>\n",
       "      <td>180000</td>\n",
       "      <td>34970</td>\n",
       "      <td>Lattes</td>\n",
       "      <td>Hérault</td>\n",
       "      <td>Languedoc-Roussillon</td>\n",
       "      <td>1</td>\n",
       "    </tr>\n",
       "    <tr>\n",
       "      <th>435820</th>\n",
       "      <td>44429</td>\n",
       "      <td>2018-06-25</td>\n",
       "      <td>139119</td>\n",
       "      <td>0</td>\n",
       "      <td>0001-01-01</td>\n",
       "      <td>0001-01-01</td>\n",
       "      <td>44508</td>\n",
       "      <td>45</td>\n",
       "      <td>3</td>\n",
       "      <td>2</td>\n",
       "      <td>81</td>\n",
       "      <td>16</td>\n",
       "      <td>14712</td>\n",
       "      <td>8</td>\n",
       "      <td>2</td>\n",
       "      <td>2</td>\n",
       "      <td>1</td>\n",
       "      <td>180000</td>\n",
       "      <td>34970</td>\n",
       "      <td>Lattes</td>\n",
       "      <td>Hérault</td>\n",
       "      <td>Languedoc-Roussillon</td>\n",
       "      <td>1</td>\n",
       "    </tr>\n",
       "  </tbody>\n",
       "</table>\n",
       "</div>"
      ],
      "text/plain": [
       "        MandatId DateCreation  BienMandatId  Statut  \\\n",
       "435816     44429   2018-06-25        138721       0   \n",
       "435817     44429   2018-06-25        138876       7   \n",
       "435818     44429   2018-06-25        138883       7   \n",
       "435819     44429   2018-06-25        139117       0   \n",
       "435820     44429   2018-06-25        139119       0   \n",
       "\n",
       "       DescriptionBien_DateOffreAcceptee Origine_DateCollecte  CritereId  \\\n",
       "435816                        0001-01-01           2018-07-05      44508   \n",
       "435817                        0001-01-01           0001-01-01      44508   \n",
       "435818                        0001-01-01           0001-01-01      44508   \n",
       "435819                        0001-01-01           0001-01-01      44508   \n",
       "435820                        0001-01-01           0001-01-01      44508   \n",
       "\n",
       "        SurfaceMin  NombrePiecesEnum  NombreChambresEnum  \\\n",
       "435816          45                 3                   2   \n",
       "435817          45                 3                   2   \n",
       "435818          45                 3                   2   \n",
       "435819          45                 3                   2   \n",
       "435820          45                 3                   2   \n",
       "\n",
       "        Departement_LocalisationId  Region_LocalisationId  LocalisationId  \\\n",
       "435816                          81                     16           14712   \n",
       "435817                          81                     16           14712   \n",
       "435818                          81                     16           14712   \n",
       "435819                          81                     16           14712   \n",
       "435820                          81                     16           14712   \n",
       "\n",
       "        StatutMandat  TypeMission  TypeBien  TypeProjet  BudgetMaxEuro  \\\n",
       "435816             8            2         2           1         180000   \n",
       "435817             8            2         2           1         180000   \n",
       "435818             8            2         2           1         180000   \n",
       "435819             8            2         2           1         180000   \n",
       "435820             8            2         2           1         180000   \n",
       "\n",
       "        CodePostal   Ville Departement                Region  Succes  \n",
       "435816       34970  Lattes     Hérault  Languedoc-Roussillon       1  \n",
       "435817       34970  Lattes     Hérault  Languedoc-Roussillon       1  \n",
       "435818       34970  Lattes     Hérault  Languedoc-Roussillon       1  \n",
       "435819       34970  Lattes     Hérault  Languedoc-Roussillon       1  \n",
       "435820       34970  Lattes     Hérault  Languedoc-Roussillon       1  "
      ]
     },
     "execution_count": 22,
     "metadata": {},
     "output_type": "execute_result"
    }
   ],
   "source": [
    "df_75.head()"
   ]
  },
  {
   "cell_type": "code",
   "execution_count": 23,
   "id": "86c3ca6c",
   "metadata": {},
   "outputs": [],
   "source": [
    "df_11 = df_25.loc[df_25[\"Succes\"]==1]"
   ]
  },
  {
   "cell_type": "code",
   "execution_count": 24,
   "id": "39510d34",
   "metadata": {},
   "outputs": [],
   "source": [
    "df_22 = df_25.loc[df_25[\"Succes\"]==0]"
   ]
  },
  {
   "cell_type": "code",
   "execution_count": 25,
   "id": "8b77ff17",
   "metadata": {},
   "outputs": [
    {
     "data": {
      "text/plain": [
       "1    118280\n",
       "Name: Succes, dtype: int64"
      ]
     },
     "execution_count": 25,
     "metadata": {},
     "output_type": "execute_result"
    }
   ],
   "source": [
    "df_11[\"Succes\"].value_counts()"
   ]
  },
  {
   "cell_type": "code",
   "execution_count": 26,
   "id": "02865b36",
   "metadata": {},
   "outputs": [
    {
     "data": {
      "text/plain": [
       "0    317536\n",
       "Name: Succes, dtype: int64"
      ]
     },
     "execution_count": 26,
     "metadata": {},
     "output_type": "execute_result"
    }
   ],
   "source": [
    "df_22[\"Succes\"].value_counts()"
   ]
  },
  {
   "cell_type": "code",
   "execution_count": 27,
   "id": "ae5a0a1e",
   "metadata": {},
   "outputs": [
    {
     "data": {
      "text/plain": [
       "-199256"
      ]
     },
     "execution_count": 27,
     "metadata": {},
     "output_type": "execute_result"
    }
   ],
   "source": [
    "118280 - 317536"
   ]
  },
  {
   "cell_type": "code",
   "execution_count": 28,
   "id": "f7dc55fb",
   "metadata": {},
   "outputs": [],
   "source": [
    "df_22.drop(df_22.index[:199256], inplace=True)"
   ]
  },
  {
   "cell_type": "code",
   "execution_count": 29,
   "id": "d6b35834",
   "metadata": {},
   "outputs": [
    {
     "data": {
      "text/plain": [
       "0    118280\n",
       "Name: Succes, dtype: int64"
      ]
     },
     "execution_count": 29,
     "metadata": {},
     "output_type": "execute_result"
    }
   ],
   "source": [
    "df_22[\"Succes\"].value_counts()"
   ]
  },
  {
   "cell_type": "code",
   "execution_count": 30,
   "id": "fd112c74",
   "metadata": {},
   "outputs": [],
   "source": [
    "df_33 = pd.concat([df_11, df_22],ignore_index = True)"
   ]
  },
  {
   "cell_type": "code",
   "execution_count": 31,
   "id": "6645b096",
   "metadata": {},
   "outputs": [
    {
     "data": {
      "text/plain": [
       "1    118280\n",
       "0    118280\n",
       "Name: Succes, dtype: int64"
      ]
     },
     "execution_count": 31,
     "metadata": {},
     "output_type": "execute_result"
    }
   ],
   "source": [
    "df_33[\"Succes\"].value_counts()"
   ]
  },
  {
   "cell_type": "code",
   "execution_count": 32,
   "id": "8639a820",
   "metadata": {},
   "outputs": [
    {
     "data": {
      "text/html": [
       "<div>\n",
       "<style scoped>\n",
       "    .dataframe tbody tr th:only-of-type {\n",
       "        vertical-align: middle;\n",
       "    }\n",
       "\n",
       "    .dataframe tbody tr th {\n",
       "        vertical-align: top;\n",
       "    }\n",
       "\n",
       "    .dataframe thead th {\n",
       "        text-align: right;\n",
       "    }\n",
       "</style>\n",
       "<table border=\"1\" class=\"dataframe\">\n",
       "  <thead>\n",
       "    <tr style=\"text-align: right;\">\n",
       "      <th></th>\n",
       "      <th>MandatId</th>\n",
       "      <th>DateCreation</th>\n",
       "      <th>BienMandatId</th>\n",
       "      <th>Statut</th>\n",
       "      <th>DescriptionBien_DateOffreAcceptee</th>\n",
       "      <th>Origine_DateCollecte</th>\n",
       "      <th>CritereId</th>\n",
       "      <th>SurfaceMin</th>\n",
       "      <th>NombrePiecesEnum</th>\n",
       "      <th>NombreChambresEnum</th>\n",
       "      <th>Departement_LocalisationId</th>\n",
       "      <th>Region_LocalisationId</th>\n",
       "      <th>LocalisationId</th>\n",
       "      <th>StatutMandat</th>\n",
       "      <th>TypeMission</th>\n",
       "      <th>TypeBien</th>\n",
       "      <th>TypeProjet</th>\n",
       "      <th>BudgetMaxEuro</th>\n",
       "      <th>CodePostal</th>\n",
       "      <th>Ville</th>\n",
       "      <th>Departement</th>\n",
       "      <th>Region</th>\n",
       "      <th>Succes</th>\n",
       "    </tr>\n",
       "  </thead>\n",
       "  <tbody>\n",
       "    <tr>\n",
       "      <th>0</th>\n",
       "      <td>80309</td>\n",
       "      <td>2021-03-23</td>\n",
       "      <td>399964</td>\n",
       "      <td>4</td>\n",
       "      <td>0001-01-01</td>\n",
       "      <td>0001-01-01</td>\n",
       "      <td>81128</td>\n",
       "      <td>30</td>\n",
       "      <td>2</td>\n",
       "      <td>1</td>\n",
       "      <td>121</td>\n",
       "      <td>27</td>\n",
       "      <td>129</td>\n",
       "      <td>8</td>\n",
       "      <td>2</td>\n",
       "      <td>2</td>\n",
       "      <td>1</td>\n",
       "      <td>100000</td>\n",
       "      <td>1000</td>\n",
       "      <td>Bourg En Bresse</td>\n",
       "      <td>Ain</td>\n",
       "      <td>Rhône-Alpes</td>\n",
       "      <td>1</td>\n",
       "    </tr>\n",
       "    <tr>\n",
       "      <th>1</th>\n",
       "      <td>80309</td>\n",
       "      <td>2021-03-23</td>\n",
       "      <td>399990</td>\n",
       "      <td>0</td>\n",
       "      <td>0001-01-01</td>\n",
       "      <td>2021-03-31</td>\n",
       "      <td>81128</td>\n",
       "      <td>30</td>\n",
       "      <td>2</td>\n",
       "      <td>1</td>\n",
       "      <td>121</td>\n",
       "      <td>27</td>\n",
       "      <td>129</td>\n",
       "      <td>8</td>\n",
       "      <td>2</td>\n",
       "      <td>2</td>\n",
       "      <td>1</td>\n",
       "      <td>100000</td>\n",
       "      <td>1000</td>\n",
       "      <td>Bourg En Bresse</td>\n",
       "      <td>Ain</td>\n",
       "      <td>Rhône-Alpes</td>\n",
       "      <td>1</td>\n",
       "    </tr>\n",
       "    <tr>\n",
       "      <th>2</th>\n",
       "      <td>80309</td>\n",
       "      <td>2021-03-23</td>\n",
       "      <td>399992</td>\n",
       "      <td>0</td>\n",
       "      <td>0001-01-01</td>\n",
       "      <td>2021-03-31</td>\n",
       "      <td>81128</td>\n",
       "      <td>30</td>\n",
       "      <td>2</td>\n",
       "      <td>1</td>\n",
       "      <td>121</td>\n",
       "      <td>27</td>\n",
       "      <td>129</td>\n",
       "      <td>8</td>\n",
       "      <td>2</td>\n",
       "      <td>2</td>\n",
       "      <td>1</td>\n",
       "      <td>100000</td>\n",
       "      <td>1000</td>\n",
       "      <td>Bourg En Bresse</td>\n",
       "      <td>Ain</td>\n",
       "      <td>Rhône-Alpes</td>\n",
       "      <td>1</td>\n",
       "    </tr>\n",
       "    <tr>\n",
       "      <th>3</th>\n",
       "      <td>80309</td>\n",
       "      <td>2021-03-23</td>\n",
       "      <td>399993</td>\n",
       "      <td>0</td>\n",
       "      <td>0001-01-01</td>\n",
       "      <td>2021-03-31</td>\n",
       "      <td>81128</td>\n",
       "      <td>30</td>\n",
       "      <td>2</td>\n",
       "      <td>1</td>\n",
       "      <td>121</td>\n",
       "      <td>27</td>\n",
       "      <td>129</td>\n",
       "      <td>8</td>\n",
       "      <td>2</td>\n",
       "      <td>2</td>\n",
       "      <td>1</td>\n",
       "      <td>100000</td>\n",
       "      <td>1000</td>\n",
       "      <td>Bourg En Bresse</td>\n",
       "      <td>Ain</td>\n",
       "      <td>Rhône-Alpes</td>\n",
       "      <td>1</td>\n",
       "    </tr>\n",
       "    <tr>\n",
       "      <th>4</th>\n",
       "      <td>80309</td>\n",
       "      <td>2021-03-23</td>\n",
       "      <td>400289</td>\n",
       "      <td>0</td>\n",
       "      <td>0001-01-01</td>\n",
       "      <td>0001-01-01</td>\n",
       "      <td>81128</td>\n",
       "      <td>30</td>\n",
       "      <td>2</td>\n",
       "      <td>1</td>\n",
       "      <td>121</td>\n",
       "      <td>27</td>\n",
       "      <td>129</td>\n",
       "      <td>8</td>\n",
       "      <td>2</td>\n",
       "      <td>2</td>\n",
       "      <td>1</td>\n",
       "      <td>100000</td>\n",
       "      <td>1000</td>\n",
       "      <td>Bourg En Bresse</td>\n",
       "      <td>Ain</td>\n",
       "      <td>Rhône-Alpes</td>\n",
       "      <td>1</td>\n",
       "    </tr>\n",
       "  </tbody>\n",
       "</table>\n",
       "</div>"
      ],
      "text/plain": [
       "   MandatId DateCreation  BienMandatId  Statut  \\\n",
       "0     80309   2021-03-23        399964       4   \n",
       "1     80309   2021-03-23        399990       0   \n",
       "2     80309   2021-03-23        399992       0   \n",
       "3     80309   2021-03-23        399993       0   \n",
       "4     80309   2021-03-23        400289       0   \n",
       "\n",
       "  DescriptionBien_DateOffreAcceptee Origine_DateCollecte  CritereId  \\\n",
       "0                        0001-01-01           0001-01-01      81128   \n",
       "1                        0001-01-01           2021-03-31      81128   \n",
       "2                        0001-01-01           2021-03-31      81128   \n",
       "3                        0001-01-01           2021-03-31      81128   \n",
       "4                        0001-01-01           0001-01-01      81128   \n",
       "\n",
       "   SurfaceMin  NombrePiecesEnum  NombreChambresEnum  \\\n",
       "0          30                 2                   1   \n",
       "1          30                 2                   1   \n",
       "2          30                 2                   1   \n",
       "3          30                 2                   1   \n",
       "4          30                 2                   1   \n",
       "\n",
       "   Departement_LocalisationId  Region_LocalisationId  LocalisationId  \\\n",
       "0                         121                     27             129   \n",
       "1                         121                     27             129   \n",
       "2                         121                     27             129   \n",
       "3                         121                     27             129   \n",
       "4                         121                     27             129   \n",
       "\n",
       "   StatutMandat  TypeMission  TypeBien  TypeProjet  BudgetMaxEuro  CodePostal  \\\n",
       "0             8            2         2           1         100000        1000   \n",
       "1             8            2         2           1         100000        1000   \n",
       "2             8            2         2           1         100000        1000   \n",
       "3             8            2         2           1         100000        1000   \n",
       "4             8            2         2           1         100000        1000   \n",
       "\n",
       "             Ville Departement       Region  Succes  \n",
       "0  Bourg En Bresse         Ain  Rhône-Alpes       1  \n",
       "1  Bourg En Bresse         Ain  Rhône-Alpes       1  \n",
       "2  Bourg En Bresse         Ain  Rhône-Alpes       1  \n",
       "3  Bourg En Bresse         Ain  Rhône-Alpes       1  \n",
       "4  Bourg En Bresse         Ain  Rhône-Alpes       1  "
      ]
     },
     "execution_count": 32,
     "metadata": {},
     "output_type": "execute_result"
    }
   ],
   "source": [
    "df_33.head()"
   ]
  },
  {
   "cell_type": "markdown",
   "id": "6bc988eb",
   "metadata": {},
   "source": [
    "# Préparation des données"
   ]
  },
  {
   "cell_type": "code",
   "execution_count": 33,
   "id": "cf487661",
   "metadata": {},
   "outputs": [
    {
     "name": "stdout",
     "output_type": "stream",
     "text": [
      "<class 'pandas.core.frame.DataFrame'>\n",
      "RangeIndex: 236560 entries, 0 to 236559\n",
      "Data columns (total 23 columns):\n",
      " #   Column                             Non-Null Count   Dtype \n",
      "---  ------                             --------------   ----- \n",
      " 0   MandatId                           236560 non-null  int64 \n",
      " 1   DateCreation                       236560 non-null  object\n",
      " 2   BienMandatId                       236560 non-null  int64 \n",
      " 3   Statut                             236560 non-null  int64 \n",
      " 4   DescriptionBien_DateOffreAcceptee  236560 non-null  object\n",
      " 5   Origine_DateCollecte               236560 non-null  object\n",
      " 6   CritereId                          236560 non-null  int64 \n",
      " 7   SurfaceMin                         236560 non-null  int64 \n",
      " 8   NombrePiecesEnum                   236560 non-null  int64 \n",
      " 9   NombreChambresEnum                 236560 non-null  int64 \n",
      " 10  Departement_LocalisationId         236560 non-null  int64 \n",
      " 11  Region_LocalisationId              236560 non-null  int64 \n",
      " 12  LocalisationId                     236560 non-null  int64 \n",
      " 13  StatutMandat                       236560 non-null  int64 \n",
      " 14  TypeMission                        236560 non-null  int64 \n",
      " 15  TypeBien                           236560 non-null  int64 \n",
      " 16  TypeProjet                         236560 non-null  int64 \n",
      " 17  BudgetMaxEuro                      236560 non-null  int64 \n",
      " 18  CodePostal                         236560 non-null  int64 \n",
      " 19  Ville                              236560 non-null  object\n",
      " 20  Departement                        236560 non-null  object\n",
      " 21  Region                             236560 non-null  object\n",
      " 22  Succes                             236560 non-null  int64 \n",
      "dtypes: int64(17), object(6)\n",
      "memory usage: 41.5+ MB\n"
     ]
    }
   ],
   "source": [
    "df_33.info()"
   ]
  },
  {
   "cell_type": "code",
   "execution_count": 34,
   "id": "2503b7a0",
   "metadata": {},
   "outputs": [],
   "source": [
    "df_33.drop([\"MandatId\", \"BienMandatId\",\"CritereId\",\"Statut\",\"StatutMandat\",\"DateCreation\", \"DescriptionBien_DateOffreAcceptee\",\"Origine_DateCollecte\", \"Departement_LocalisationId\", \"Region_LocalisationId\", \"LocalisationId\"], axis = 1, inplace = True)"
   ]
  },
  {
   "cell_type": "code",
   "execution_count": 35,
   "id": "24b5ade4",
   "metadata": {},
   "outputs": [
    {
     "data": {
      "text/plain": [
       "SurfaceMin             66\n",
       "NombrePiecesEnum        7\n",
       "NombreChambresEnum      7\n",
       "TypeMission             6\n",
       "TypeBien                9\n",
       "TypeProjet              3\n",
       "BudgetMaxEuro         154\n",
       "CodePostal            359\n",
       "Succes                  2\n",
       "dtype: int64"
      ]
     },
     "execution_count": 35,
     "metadata": {},
     "output_type": "execute_result"
    }
   ],
   "source": [
    "df_33.select_dtypes('int').apply(pd.Series.nunique, axis = 0)"
   ]
  },
  {
   "cell_type": "code",
   "execution_count": 36,
   "id": "0f6d782f",
   "metadata": {},
   "outputs": [
    {
     "data": {
      "text/plain": [
       "Ville          671\n",
       "Departement     23\n",
       "Region          15\n",
       "dtype: int64"
      ]
     },
     "execution_count": 36,
     "metadata": {},
     "output_type": "execute_result"
    }
   ],
   "source": [
    "df_33.select_dtypes('object').apply(pd.Series.nunique, axis = 0)"
   ]
  },
  {
   "cell_type": "code",
   "execution_count": 37,
   "id": "4146e746",
   "metadata": {},
   "outputs": [
    {
     "data": {
      "text/plain": [
       "Series([], dtype: float64)"
      ]
     },
     "execution_count": 37,
     "metadata": {},
     "output_type": "execute_result"
    }
   ],
   "source": [
    "df_33.select_dtypes('float').apply(pd.Series.nunique, axis = 0)"
   ]
  },
  {
   "cell_type": "code",
   "execution_count": 38,
   "id": "ac8c07a0",
   "metadata": {},
   "outputs": [
    {
     "data": {
      "text/html": [
       "<div>\n",
       "<style scoped>\n",
       "    .dataframe tbody tr th:only-of-type {\n",
       "        vertical-align: middle;\n",
       "    }\n",
       "\n",
       "    .dataframe tbody tr th {\n",
       "        vertical-align: top;\n",
       "    }\n",
       "\n",
       "    .dataframe thead th {\n",
       "        text-align: right;\n",
       "    }\n",
       "</style>\n",
       "<table border=\"1\" class=\"dataframe\">\n",
       "  <thead>\n",
       "    <tr style=\"text-align: right;\">\n",
       "      <th></th>\n",
       "      <th>SurfaceMin</th>\n",
       "      <th>NombrePiecesEnum</th>\n",
       "      <th>NombreChambresEnum</th>\n",
       "      <th>TypeMission</th>\n",
       "      <th>TypeBien</th>\n",
       "      <th>TypeProjet</th>\n",
       "      <th>BudgetMaxEuro</th>\n",
       "      <th>CodePostal</th>\n",
       "      <th>Ville</th>\n",
       "      <th>Departement</th>\n",
       "      <th>Region</th>\n",
       "      <th>Succes</th>\n",
       "    </tr>\n",
       "  </thead>\n",
       "  <tbody>\n",
       "    <tr>\n",
       "      <th>0</th>\n",
       "      <td>30</td>\n",
       "      <td>2</td>\n",
       "      <td>1</td>\n",
       "      <td>2</td>\n",
       "      <td>2</td>\n",
       "      <td>1</td>\n",
       "      <td>100000</td>\n",
       "      <td>1000</td>\n",
       "      <td>Bourg En Bresse</td>\n",
       "      <td>Ain</td>\n",
       "      <td>Rhône-Alpes</td>\n",
       "      <td>1</td>\n",
       "    </tr>\n",
       "    <tr>\n",
       "      <th>1</th>\n",
       "      <td>30</td>\n",
       "      <td>2</td>\n",
       "      <td>1</td>\n",
       "      <td>2</td>\n",
       "      <td>2</td>\n",
       "      <td>1</td>\n",
       "      <td>100000</td>\n",
       "      <td>1000</td>\n",
       "      <td>Bourg En Bresse</td>\n",
       "      <td>Ain</td>\n",
       "      <td>Rhône-Alpes</td>\n",
       "      <td>1</td>\n",
       "    </tr>\n",
       "  </tbody>\n",
       "</table>\n",
       "</div>"
      ],
      "text/plain": [
       "   SurfaceMin  NombrePiecesEnum  NombreChambresEnum  TypeMission  TypeBien  \\\n",
       "0          30                 2                   1            2         2   \n",
       "1          30                 2                   1            2         2   \n",
       "\n",
       "   TypeProjet  BudgetMaxEuro  CodePostal            Ville Departement  \\\n",
       "0           1         100000        1000  Bourg En Bresse         Ain   \n",
       "1           1         100000        1000  Bourg En Bresse         Ain   \n",
       "\n",
       "        Region  Succes  \n",
       "0  Rhône-Alpes       1  \n",
       "1  Rhône-Alpes       1  "
      ]
     },
     "execution_count": 38,
     "metadata": {},
     "output_type": "execute_result"
    }
   ],
   "source": [
    "df_33.head(2)"
   ]
  },
  {
   "cell_type": "markdown",
   "id": "90c7785f",
   "metadata": {},
   "source": [
    "# Machine Learning"
   ]
  },
  {
   "cell_type": "raw",
   "id": "1ee6eb63",
   "metadata": {},
   "source": [
    "def corrplot(df_test, method=\"pearson\", annot=True, **kwargs):\n",
    "    sns.clustermap(\n",
    "        df.corr(method),\n",
    "        vmin=-1.0,\n",
    "        vmax=1.0,\n",
    "        cmap=\"icefire\",\n",
    "        method=\"complete\",\n",
    "        annot=annot,\n",
    "        **kwargs,\n",
    "    )\n",
    "\n",
    "\n",
    "corrplot(X, annot=None)"
   ]
  },
  {
   "cell_type": "markdown",
   "id": "db26a729",
   "metadata": {},
   "source": [
    "# Pre-processing"
   ]
  },
  {
   "cell_type": "markdown",
   "id": "7ed47283",
   "metadata": {},
   "source": [
    "## Encodage ==> Get_dummies"
   ]
  },
  {
   "cell_type": "code",
   "execution_count": null,
   "id": "e5db1c6d",
   "metadata": {},
   "outputs": [],
   "source": [
    "df_test = pd.get_dummies(df_33,columns = ['Region','Departement'], drop_first=True)\n",
    "#df = pd.concat([df_test.drop(['Region', 'Ville',\"Departement\"],axis=1), dummies],axis=1)"
   ]
  },
  {
   "cell_type": "code",
   "execution_count": null,
   "id": "a5d9f701",
   "metadata": {},
   "outputs": [],
   "source": [
    "df_test.head()"
   ]
  },
  {
   "cell_type": "code",
   "execution_count": null,
   "id": "bf3431b4",
   "metadata": {},
   "outputs": [],
   "source": [
    "df_test.isnull().sum()"
   ]
  },
  {
   "cell_type": "code",
   "execution_count": null,
   "id": "6356e3cc",
   "metadata": {},
   "outputs": [],
   "source": [
    "df_test.head(2)"
   ]
  },
  {
   "cell_type": "code",
   "execution_count": null,
   "id": "6f0c6025",
   "metadata": {},
   "outputs": [],
   "source": [
    "df_test.info()"
   ]
  },
  {
   "cell_type": "markdown",
   "id": "bf0873de",
   "metadata": {},
   "source": [
    "# Choix des features"
   ]
  },
  {
   "cell_type": "code",
   "execution_count": null,
   "id": "99cf4883",
   "metadata": {},
   "outputs": [],
   "source": [
    "df_test.columns"
   ]
  },
  {
   "cell_type": "code",
   "execution_count": null,
   "id": "137a5d6f",
   "metadata": {},
   "outputs": [],
   "source": [
    "X =df_test.drop([\"Succes\",\"Ville\"], axis = 1)"
   ]
  },
  {
   "cell_type": "code",
   "execution_count": null,
   "id": "4f7b7450",
   "metadata": {},
   "outputs": [],
   "source": [
    "X.columns"
   ]
  },
  {
   "cell_type": "code",
   "execution_count": null,
   "id": "f16206c5",
   "metadata": {},
   "outputs": [],
   "source": [
    "X.head()"
   ]
  },
  {
   "cell_type": "code",
   "execution_count": null,
   "id": "165fec2b",
   "metadata": {},
   "outputs": [],
   "source": [
    "X.iloc[:1,]"
   ]
  },
  {
   "cell_type": "code",
   "execution_count": null,
   "id": "584ded04",
   "metadata": {},
   "outputs": [],
   "source": [
    "y = df_test['Succes']"
   ]
  },
  {
   "cell_type": "markdown",
   "id": "cb1d7445",
   "metadata": {},
   "source": [
    "y.shape"
   ]
  },
  {
   "cell_type": "code",
   "execution_count": 41,
   "id": "364aeae9",
   "metadata": {},
   "outputs": [],
   "source": [
    "X =df_33.drop([\"Succes\", \"Ville\", \"Departement\", \"Region\"], axis = 1)"
   ]
  },
  {
   "cell_type": "code",
   "execution_count": 42,
   "id": "fc2d4e84",
   "metadata": {},
   "outputs": [],
   "source": [
    "y = df_33['Succes']"
   ]
  },
  {
   "cell_type": "markdown",
   "id": "a50f9f08",
   "metadata": {},
   "source": [
    "# Diviser le jeu de données en jeu d'entrainement et jeu de test"
   ]
  },
  {
   "cell_type": "code",
   "execution_count": 43,
   "id": "114e36aa",
   "metadata": {},
   "outputs": [],
   "source": [
    "X_train, X_test, y_train, y_test = train_test_split(X, y, test_size=0.25, random_state=42)"
   ]
  },
  {
   "cell_type": "code",
   "execution_count": 44,
   "id": "415b5424",
   "metadata": {},
   "outputs": [
    {
     "data": {
      "text/plain": [
       "Index(['SurfaceMin', 'NombrePiecesEnum', 'NombreChambresEnum', 'TypeMission',\n",
       "       'TypeBien', 'TypeProjet', 'BudgetMaxEuro', 'CodePostal'],\n",
       "      dtype='object')"
      ]
     },
     "execution_count": 44,
     "metadata": {},
     "output_type": "execute_result"
    }
   ],
   "source": [
    "X_train.columns"
   ]
  },
  {
   "cell_type": "markdown",
   "id": "6a0711c1",
   "metadata": {},
   "source": [
    "## Normalisation"
   ]
  },
  {
   "cell_type": "code",
   "execution_count": 45,
   "id": "30daccf4",
   "metadata": {},
   "outputs": [],
   "source": [
    "from sklearn.preprocessing import StandardScaler\n",
    "scaler = StandardScaler()\n",
    "X_train = scaler.fit_transform(X_train)\n",
    "X_test = scaler.transform(X_test)"
   ]
  },
  {
   "cell_type": "markdown",
   "id": "891e8f86",
   "metadata": {},
   "source": [
    "# Regression Logistique"
   ]
  },
  {
   "cell_type": "code",
   "execution_count": 46,
   "id": "bfb6834f",
   "metadata": {},
   "outputs": [],
   "source": [
    "from sklearn.pipeline import make_pipeline"
   ]
  },
  {
   "cell_type": "code",
   "execution_count": null,
   "id": "e3ef32dd",
   "metadata": {},
   "outputs": [],
   "source": [
    "from sklearn.linear_model import LogisticRegression\n",
    "from sklearn.pipeline import make_pipeline\n",
    "lr = LogisticRegression(solver='newton-cg', C =0.001, penalty = 'l2' )\n",
    "lr.fit(X_train,y_train)"
   ]
  },
  {
   "cell_type": "code",
   "execution_count": null,
   "id": "5e85d97d",
   "metadata": {},
   "outputs": [],
   "source": [
    "y_lr = lr.predict(X_test)"
   ]
  },
  {
   "cell_type": "code",
   "execution_count": null,
   "id": "61c78e82",
   "metadata": {},
   "outputs": [],
   "source": [
    "from sklearn.metrics import classification_report\n",
    "print(classification_report(y_test,y_lr,target_names = ['Echec(Class 0)','Succès (Class 1)']))"
   ]
  },
  {
   "cell_type": "code",
   "execution_count": null,
   "id": "4da0b4a5",
   "metadata": {},
   "outputs": [],
   "source": [
    "cm = confusion_matrix(y_test,lr.predict(X_test))\n",
    "sns.heatmap(cm,annot=True,fmt=\"d\")"
   ]
  },
  {
   "cell_type": "code",
   "execution_count": null,
   "id": "d1aa4143",
   "metadata": {},
   "outputs": [],
   "source": [
    "from sklearn.metrics import plot_roc_curve\n",
    "plot_roc_curve(lr, X_train,y_train )\n",
    "plt.plot([0,1],[0,1])\n",
    "plt.xlabel('false positive')\n",
    "plt.ylabel('true positve')\n",
    "plt.title('ROC curve LR')\n",
    "plt.show()"
   ]
  },
  {
   "cell_type": "code",
   "execution_count": null,
   "id": "453b7594",
   "metadata": {},
   "outputs": [],
   "source": [
    "df_test.head()"
   ]
  },
  {
   "cell_type": "code",
   "execution_count": null,
   "id": "be0c4720",
   "metadata": {},
   "outputs": [],
   "source": [
    "y.iloc[:1,]"
   ]
  },
  {
   "cell_type": "code",
   "execution_count": null,
   "id": "fa1c1341",
   "metadata": {},
   "outputs": [],
   "source": [
    "test1 = X.iloc[:1,]\n",
    "test1 = scaler.transform(test1)"
   ]
  },
  {
   "cell_type": "code",
   "execution_count": null,
   "id": "71eab4ae",
   "metadata": {},
   "outputs": [],
   "source": [
    "test1"
   ]
  },
  {
   "cell_type": "code",
   "execution_count": null,
   "id": "1e9e251e",
   "metadata": {},
   "outputs": [],
   "source": [
    "exm_pred = lr.predict(test1)\n",
    "print(exm_pred)"
   ]
  },
  {
   "cell_type": "code",
   "execution_count": null,
   "id": "87d1c199",
   "metadata": {},
   "outputs": [],
   "source": [
    "X_new = pd.DataFrame([70, 3, 1, 1, 2, 250000, 31000, \"Occitanie\", \"Ariege\",], columns = X.columns)\n",
    "X_new"
   ]
  },
  {
   "cell_type": "code",
   "execution_count": null,
   "id": "f126c027",
   "metadata": {},
   "outputs": [],
   "source": [
    "df_test.head(1)"
   ]
  },
  {
   "cell_type": "code",
   "execution_count": null,
   "id": "3fbd2583",
   "metadata": {},
   "outputs": [],
   "source": [
    "df_33.head()"
   ]
  },
  {
   "cell_type": "code",
   "execution_count": null,
   "id": "72a60904",
   "metadata": {},
   "outputs": [],
   "source": [
    "df_33.columns"
   ]
  },
  {
   "cell_type": "code",
   "execution_count": null,
   "id": "f100dfb6",
   "metadata": {},
   "outputs": [],
   "source": [
    "# creation d'un profil a faire tester par notre modèle\n",
    "#df_test = pd.get_dummies(df_33,columns = ['Region','Departement'], drop_first=True)\n",
    "\n",
    "\n",
    "data = {'SurfaceMin':70, \n",
    "            'NombrePiecesEnum' : 3, \n",
    "            'NombreChambresEnum':1,\n",
    "            'TypeMission': 1,\n",
    "           'TypeBien': 2, \n",
    "            'TypeProjet': 1,\n",
    "            'BudgetMaxEuro': 250000, \n",
    "             'CodePostal': 31000,\n",
    "            'Departement': \"Haute-Garonne\",\n",
    "            'Region':\"Occitanie\"}\n",
    "    \n",
    "\n",
    "\n",
    "#columns = X.columns\n",
    "\n",
    "#X_new2 = pd.get_dummies(X_new[6:], drop_first=True)\n",
    "#X_new.extend(X_new2)\n",
    "#scaler"
   ]
  },
  {
   "cell_type": "code",
   "execution_count": null,
   "id": "f9288b57",
   "metadata": {},
   "outputs": [],
   "source": [
    "colonnes = ['SurfaceMin', 'NombrePiecesEnum', 'NombreChambresEnum', 'TypeMission',\n",
    "           'TypeBien', 'TypeProjet', 'BudgetMaxEuro', 'CodePostal',\n",
    "           'Departement', 'Region']\n",
    "\n",
    "\n",
    "X_new = pd.DataFrame(data = [[70, 3, 1, 1, 2, 1, 250000, 31000, \"Haute-Garonne\",\"Occitanie\"]], columns = colonnes )\n"
   ]
  },
  {
   "cell_type": "code",
   "execution_count": null,
   "id": "c8544d04",
   "metadata": {},
   "outputs": [],
   "source": [
    "X_new"
   ]
  },
  {
   "cell_type": "code",
   "execution_count": null,
   "id": "038f7f78",
   "metadata": {},
   "outputs": [],
   "source": []
  },
  {
   "cell_type": "code",
   "execution_count": null,
   "id": "66e0691c",
   "metadata": {},
   "outputs": [],
   "source": [
    "X_new2 = pd.Series(X_new2)"
   ]
  },
  {
   "cell_type": "code",
   "execution_count": null,
   "id": "dfad1df0",
   "metadata": {},
   "outputs": [],
   "source": [
    "X_new"
   ]
  },
  {
   "cell_type": "code",
   "execution_count": null,
   "id": "7f3ef6d2",
   "metadata": {},
   "outputs": [],
   "source": [
    "type(X_new2)"
   ]
  },
  {
   "cell_type": "code",
   "execution_count": null,
   "id": "f5a1e639",
   "metadata": {},
   "outputs": [],
   "source": [
    "X_new[7:]"
   ]
  },
  {
   "cell_type": "markdown",
   "id": "ff68e285",
   "metadata": {},
   "source": [
    "# knn"
   ]
  },
  {
   "cell_type": "code",
   "execution_count": null,
   "id": "f66e6c8b",
   "metadata": {},
   "outputs": [],
   "source": [
    "from sklearn.neighbors import KNeighborsClassifier\n",
    "knn = KNeighborsClassifier()\n",
    "knn.fit(X_train, y_train)\n",
    "y_knn = knn.predict(X_test)"
   ]
  },
  {
   "cell_type": "code",
   "execution_count": null,
   "id": "63cb9410",
   "metadata": {},
   "outputs": [],
   "source": [
    "from sklearn.metrics import classification_report\n",
    "print(classification_report(y_test, y_knn, target_names = ['échec(Class 0)','succès (Class 1)']))\n",
    "cm = confusion_matrix(y_test,knn.predict(X_test))\n",
    "sns.heatmap(cm,annot=True,fmt=\"d\")"
   ]
  },
  {
   "cell_type": "code",
   "execution_count": null,
   "id": "2482efa4",
   "metadata": {},
   "outputs": [],
   "source": [
    "cm = confusion_matrix(y_test,knn.predict(X_test))\n",
    "sns.heatmap(cm,annot=True,fmt=\"d\")"
   ]
  },
  {
   "cell_type": "code",
   "execution_count": null,
   "id": "1edf9907",
   "metadata": {},
   "outputs": [],
   "source": [
    "from sklearn.metrics import plot_roc_curve\n",
    "plot_roc_curve(knn, X_train,y_train )\n",
    "plt.plot([0,1],[0,1])\n",
    "plt.xlabel('false positive')\n",
    "plt.ylabel('true positve')\n",
    "plt.title('ROC curve knn')\n",
    "plt.show()"
   ]
  },
  {
   "cell_type": "code",
   "execution_count": null,
   "id": "6f21c1db",
   "metadata": {},
   "outputs": [],
   "source": [
    "from sklearn.linear_model import LogisticRegression\n",
    "from sklearn.neighbors import KNeighborsClassifier\n",
    "\n",
    "# logistic regression\n",
    "model1 = LogisticRegression()\n",
    "# knn\n",
    "model2 = KNeighborsClassifier(n_neighbors=4)\n",
    "\n",
    "# fit model\n",
    "model1.fit(X_train, y_train)\n",
    "model2.fit(X_train, y_train)\n",
    "\n",
    "# predict probabilities\n",
    "pred_prob1 = model1.predict_proba(X_test)\n",
    "pred_prob2 = model2.predict_proba(X_test)"
   ]
  },
  {
   "cell_type": "code",
   "execution_count": null,
   "id": "4d95d20e",
   "metadata": {},
   "outputs": [],
   "source": [
    "from sklearn.ensemble import RandomForestClassifier\n",
    "rfc = RandomForestClassifier()\n",
    "from pprint import pprint\n",
    "pprint(\"paramètre actuellement utiliés : \\n\")\n",
    "pprint(rfc.get_params())\n",
    "rfc.fit(X_train, y_train)\n",
    "y_rfc = rfc.predict(X_test)\n",
    "pred_prob3 = rfc.predict_proba(X_test)"
   ]
  },
  {
   "cell_type": "markdown",
   "id": "6ca9a14e",
   "metadata": {},
   "source": [
    "# XGBoost Classifier"
   ]
  },
  {
   "cell_type": "code",
   "execution_count": null,
   "id": "25504f30",
   "metadata": {},
   "outputs": [],
   "source": [
    "from xgboost import XGBClassifier\n",
    "\n",
    "xgb = XGBClassifier(objective='binary:logistic')\n",
    "from pprint import pprint\n",
    "pprint(\"paramètre actuellement utiliés : \\n\")\n",
    "pprint(xgb.get_params())\n",
    "xgb.fit(X_train, y_train,eval_metric = \"logloss\",verbose=True)\n",
    "y_xgb = xgb.predict(X_test)\n",
    "pred_prob4 = xgb.predict_proba(X_test)"
   ]
  },
  {
   "cell_type": "markdown",
   "id": "6513f90a",
   "metadata": {},
   "source": [
    "# naive_bayes"
   ]
  },
  {
   "cell_type": "code",
   "execution_count": null,
   "id": "b72cc8c9",
   "metadata": {},
   "outputs": [],
   "source": [
    "from sklearn.naive_bayes import GaussianNB\n",
    "gnb = GaussianNB()\n",
    "from pprint import pprint\n",
    "pprint(\"paramètre actuellement utiliés : \\n\")\n",
    "pprint(gnb.get_params())\n",
    "gnb.fit(X_train, y_train)\n",
    "print(gnb.score(X_train, y_train))\n",
    "y_gnb = gnb.predict(X_test)\n",
    "pred_prob5 = gnb.predict_proba(X_test)\n",
    "from sklearn.metrics import classification_report\n",
    "print(classification_report(y_test,y_gnb,target_names = ['échec(Class 0)','succès (Class 1)']))"
   ]
  },
  {
   "cell_type": "code",
   "execution_count": null,
   "id": "71a324dd",
   "metadata": {},
   "outputs": [],
   "source": [
    "cm = confusion_matrix(y_test,gnb.predict(X_test))\n",
    "sns.heatmap(cm,annot=True,fmt=\"d\")"
   ]
  },
  {
   "cell_type": "markdown",
   "id": "29415543",
   "metadata": {},
   "source": [
    "# GradientBoostingClassifier"
   ]
  },
  {
   "cell_type": "code",
   "execution_count": null,
   "id": "eae970c9",
   "metadata": {},
   "outputs": [],
   "source": [
    "from sklearn.ensemble import GradientBoostingClassifier\n",
    "gbc = GradientBoostingClassifier()\n",
    "gbc.fit(X_train, y_train)\n",
    "print(gbc.score(X_train, y_train))\n",
    "y_gbc = gbc.predict(X_test)\n",
    "pred_prob6 = gbc.predict_proba(X_test)\n",
    "\n",
    "from sklearn.metrics import classification_report\n",
    "print(classification_report(y_test, y_gbc,target_names = ['échec(Class 0)','succès (Class 1)']))"
   ]
  },
  {
   "cell_type": "code",
   "execution_count": null,
   "id": "9b2c96c1",
   "metadata": {},
   "outputs": [],
   "source": [
    "cm = confusion_matrix(y_test,gbc.predict(X_test))\n",
    "sns.heatmap(cm,annot=True,fmt=\"d\")"
   ]
  },
  {
   "cell_type": "markdown",
   "id": "e12f930b",
   "metadata": {},
   "source": [
    "# LGBMClassifier"
   ]
  },
  {
   "cell_type": "code",
   "execution_count": null,
   "id": "6c7ec874",
   "metadata": {},
   "outputs": [],
   "source": [
    "#!pip install lightgbm"
   ]
  },
  {
   "cell_type": "code",
   "execution_count": null,
   "id": "e1102a34",
   "metadata": {},
   "outputs": [],
   "source": [
    "import lightgbm as lgb\n",
    "clf = lgb.LGBMClassifier()\n",
    "clf.fit(X_train, y_train)"
   ]
  },
  {
   "cell_type": "code",
   "execution_count": null,
   "id": "779fd921",
   "metadata": {},
   "outputs": [],
   "source": [
    "y_clf = clf.predict(X_test)\n",
    "pred_prob7 = clf.predict_proba(X_test)"
   ]
  },
  {
   "cell_type": "code",
   "execution_count": null,
   "id": "1395b2c0",
   "metadata": {},
   "outputs": [],
   "source": [
    "from sklearn.metrics import classification_report\n",
    "print(classification_report(y_test, y_clf,target_names = ['échec(Class 0)','succès (Class 1)']))"
   ]
  },
  {
   "cell_type": "markdown",
   "id": "99922ded",
   "metadata": {},
   "source": [
    "# CatBoostClassifier"
   ]
  },
  {
   "cell_type": "code",
   "execution_count": null,
   "id": "9729e65b",
   "metadata": {},
   "outputs": [],
   "source": [
    "#!pip install catboost"
   ]
  },
  {
   "cell_type": "code",
   "execution_count": null,
   "id": "995b5aa0",
   "metadata": {},
   "outputs": [],
   "source": [
    "from catboost import CatBoostClassifier\n",
    "\n",
    "model = CatBoostClassifier(iterations=2,\n",
    "                           learning_rate=1,\n",
    "                           depth=2)\n",
    "cat_features = [0, 1]\n",
    "# Fit model\n",
    "model.fit(X_train, y_train)\n",
    "# Get predicted classes\n",
    "preds_class = model.predict(X_test)\n",
    "# Get predicted probabilities for each class\n",
    "pred_prob8 = model.predict_proba(X_test)"
   ]
  },
  {
   "cell_type": "code",
   "execution_count": null,
   "id": "51d09b58",
   "metadata": {},
   "outputs": [],
   "source": [
    "from sklearn.metrics import classification_report\n",
    "print(classification_report(y_test, preds_class,target_names = ['échec(Class 0)','succès (Class 1)']))"
   ]
  },
  {
   "cell_type": "code",
   "execution_count": null,
   "id": "31123fc0",
   "metadata": {},
   "outputs": [],
   "source": [
    "from sklearn.metrics import roc_curve\n",
    "\n",
    "# roc curve for models\n",
    "fpr1, tpr1, thresh1 = roc_curve(y_test, pred_prob1[:,1], pos_label=1)\n",
    "fpr2, tpr2, thresh2 = roc_curve(y_test, pred_prob2[:,1], pos_label=1)\n",
    "fpr3, tpr3, thresh3 = roc_curve(y_test, pred_prob3[:,1], pos_label=1)\n",
    "fpr4, tpr4, thresh4 = roc_curve(y_test, pred_prob4[:,1], pos_label=1)\n",
    "fpr5, tpr5, thresh5 = roc_curve(y_test, pred_prob5[:,1], pos_label=1)\n",
    "fpr6, tpr6, thresh6 = roc_curve(y_test, pred_prob6[:,1], pos_label=1)\n",
    "fpr7, tpr7, thresh7 = roc_curve(y_test, pred_prob7[:,1], pos_label=1)\n",
    "fpr8, tpr8, thresh8 = roc_curve(y_test, pred_prob8[:,1], pos_label=1)\n",
    "\n",
    "\n",
    "# roc curve for tpr = fpr \n",
    "random_probs = [0 for i in range(len(y_test))]\n",
    "p_fpr, p_tpr, _ = roc_curve(y_test, random_probs, pos_label=1)"
   ]
  },
  {
   "cell_type": "code",
   "execution_count": null,
   "id": "bb176f5d",
   "metadata": {},
   "outputs": [],
   "source": [
    "from sklearn.metrics import roc_auc_score\n",
    "\n",
    "# auc scores\n",
    "auc_score1 = roc_auc_score(y_test, pred_prob1[:,1])\n",
    "auc_score2 = roc_auc_score(y_test, pred_prob2[:,1])\n",
    "auc_score3 = roc_auc_score(y_test, pred_prob3[:,1])\n",
    "auc_score4 = roc_auc_score(y_test, pred_prob4[:,1])\n",
    "auc_score5 = roc_auc_score(y_test, pred_prob5[:,1])\n",
    "auc_score6 = roc_auc_score(y_test, pred_prob6[:,1])\n",
    "auc_score7 = roc_auc_score(y_test, pred_prob7[:,1])\n",
    "auc_score8 = roc_auc_score(y_test, pred_prob8[:,1])\n",
    "\n",
    "\n",
    "print(auc_score1, auc_score2, auc_score3, auc_score4, auc_score5, auc_score6, auc_score7, auc_score8)"
   ]
  },
  {
   "cell_type": "code",
   "execution_count": null,
   "id": "37c3dba2",
   "metadata": {},
   "outputs": [],
   "source": [
    "\n",
    "# matplotlib\n",
    "import matplotlib.pyplot as plt\n",
    "plt.style.use('seaborn')\n",
    "\n",
    "# plot roc curves\n",
    "\n",
    "plt.plot(fpr1, tpr1, linestyle='--',color='orange', label='Logistic Regression')\n",
    "plt.plot(fpr2, tpr2, linestyle='--',color='green', label='KNN')\n",
    "plt.plot(fpr3, tpr3, linestyle = '--', color = 'purple', label = \"RandomForest Classifier\")\n",
    "plt.plot(fpr4, tpr4, linestyle = '--', color = 'yellow', label = \"XgBoost\")\n",
    "plt.plot(fpr5, tpr5, linestyle = '--', color = 'red', label = \"Naive Bayes\")\n",
    "plt.plot(fpr6, tpr6, linestyle = '--', color = 'pink', label = \"Gradient Boosting Classifier\")\n",
    "plt.plot(fpr6, tpr6, linestyle = '--', color = 'brown', label = \"LGBMClassifier\")\n",
    "plt.plot(fpr6, tpr6, linestyle = '--', color = 'black', label = \"CatBoostClassifier\")\n",
    "\n",
    "\n",
    "plt.plot(p_fpr, p_tpr, linestyle='--', color='blue')\n",
    "# title\n",
    "plt.title('ROC curve')\n",
    "# x label\n",
    "plt.xlabel('False Positive Rate')\n",
    "# y label\n",
    "plt.ylabel('True Positive rate')\n",
    "\n",
    "plt.legend(loc='best')\n",
    "plt.savefig('ROC',dpi=300)\n",
    "plt.show();"
   ]
  },
  {
   "cell_type": "code",
   "execution_count": null,
   "id": "356ce402",
   "metadata": {},
   "outputs": [],
   "source": [
    "from sklearn.metrics import accuracy_score\n",
    "print(\"Correct prediction: \", accuracy_score(y_test, knn.predict(X_test), normalize = False))\n",
    "print(\"Total Prediction : \",X.shape[0])"
   ]
  },
  {
   "cell_type": "code",
   "execution_count": null,
   "id": "cf80e641",
   "metadata": {},
   "outputs": [],
   "source": [
    "from sklearn.metrics import classification_report\n",
    "print(classification_report(y_test,y_lr,target_names = ['Echec(Class 0)','Succès (Class 1)']))\n",
    "cm = confusion_matrix(y_test,lr.predict(X_test))\n",
    "sns.heatmap(cm,annot=True,fmt=\"d\")"
   ]
  },
  {
   "cell_type": "code",
   "execution_count": null,
   "id": "a067d003",
   "metadata": {},
   "outputs": [],
   "source": [
    "from sklearn.metrics import classification_report\n",
    "print(classification_report(y_test, y_knn, target_names = ['échec(Class 0)','succès (Class 1)']))\n",
    "cm = confusion_matrix(y_test,knn.predict(X_test))\n",
    "sns.heatmap(cm,annot=True,fmt=\"d\")"
   ]
  },
  {
   "cell_type": "code",
   "execution_count": null,
   "id": "a533ee6f",
   "metadata": {},
   "outputs": [],
   "source": [
    "from sklearn.metrics import classification_report\n",
    "print(classification_report(y_test, y_rfc, target_names = ['échec(Class 0)','succès (Class 1)']))\n",
    "cm = confusion_matrix(y_test,rfc.predict(X_test))\n",
    "sns.heatmap(cm,annot=True,fmt=\"d\")"
   ]
  },
  {
   "cell_type": "code",
   "execution_count": null,
   "id": "06a01269",
   "metadata": {},
   "outputs": [],
   "source": [
    "from sklearn.metrics import classification_report\n",
    "print(classification_report(y_test, y_xgb, target_names = ['échec(Class 0)','succès (Class 1)']))\n",
    "cm = confusion_matrix(y_test, xgb.predict(X_test))\n",
    "sns.heatmap(cm,annot=True,fmt=\"d\")"
   ]
  },
  {
   "cell_type": "code",
   "execution_count": null,
   "id": "a5fdecac",
   "metadata": {},
   "outputs": [],
   "source": []
  },
  {
   "cell_type": "markdown",
   "id": "498aefa9",
   "metadata": {},
   "source": [
    "# Wisdom of the crown"
   ]
  },
  {
   "cell_type": "raw",
   "id": "aba7e7de",
   "metadata": {},
   "source": [
    "Bagging, creer plusieurs copie d'un meme modele en entrainant chause copie sur une parie aleatoire du dataset\n",
    "== bootstraping == RandomForest\n",
    "entraienemnt en parallèle\n",
    "bon pour l'overfitting\n",
    "reduit la variance"
   ]
  },
  {
   "cell_type": "raw",
   "id": "cf229d0c",
   "metadata": {},
   "source": [
    "Boosting, entreainer different modèle faible et voir les erreurs faiblessse et les forces donc on ajoute a un modele faible un autre modele faible et il va apprendre de l'autre\n",
    "ada boost\n",
    "gradient boosting\n",
    "en serie\n",
    "reduit underfiting\n",
    "reduit le biais"
   ]
  },
  {
   "cell_type": "raw",
   "id": "bec75134",
   "metadata": {},
   "source": [
    "Stacking\n",
    "au lieu de rassembler les pred de chaque modele\n",
    "on delande a un dernier estimateur d'apprendre a predire le resulat final en fonction de ces prediction\n"
   ]
  },
  {
   "cell_type": "code",
   "execution_count": null,
   "id": "ff5e9f85",
   "metadata": {},
   "outputs": [],
   "source": [
    "from sklearn.linear_model import SGDClassifier\n",
    "from sklearn.tree import DecisionTreeClassifier\n",
    "from sklearn.neighbors import KNeighborsClassifier\n",
    "\n",
    "from sklearn.ensemble import VotingClassifier\n",
    "# hard \n",
    "# soft = meilleur quand model bien équilibré\n"
   ]
  },
  {
   "cell_type": "code",
   "execution_count": null,
   "id": "f2b0b0df",
   "metadata": {},
   "outputs": [],
   "source": [
    "model_1 = SGDClassifier(random_state = 0)\n",
    "model_2 = DecisionTreeClassifier(random_state=0)\n",
    "model_3 = KNeighborsClassifier(n_neighbors=2)\n",
    "\n",
    "model_4 = VotingClassifier([(\"SGD\", model_1),\n",
    "                            ('Tree', model_2),\n",
    "                            (\"Knn\", model_3)],\n",
    "                           voting = \"hard\" )\n",
    "\n",
    "for model in (model_1, model_2, model_3, model_4):\n",
    "    model.fit(X_train, y_train)\n",
    "    print(model.__class__.__name__, model.score(X_test, y_test))"
   ]
  },
  {
   "cell_type": "code",
   "execution_count": null,
   "id": "b360d5a4",
   "metadata": {},
   "outputs": [],
   "source": [
    "from sklearn.ensemble import BaggingClassifier, RandomForestClassifier"
   ]
  },
  {
   "cell_type": "code",
   "execution_count": null,
   "id": "50c8c4e1",
   "metadata": {},
   "outputs": [],
   "source": [
    "model = BaggingClassifier(base_estimator = KNeighborsClassifier(),\n",
    "                         n_estimators = 100)"
   ]
  },
  {
   "cell_type": "code",
   "execution_count": null,
   "id": "636446c2",
   "metadata": {},
   "outputs": [],
   "source": []
  }
 ],
 "metadata": {
  "kernelspec": {
   "display_name": "Python 3 (ipykernel)",
   "language": "python",
   "name": "python3"
  },
  "language_info": {
   "codemirror_mode": {
    "name": "ipython",
    "version": 3
   },
   "file_extension": ".py",
   "mimetype": "text/x-python",
   "name": "python",
   "nbconvert_exporter": "python",
   "pygments_lexer": "ipython3",
   "version": "3.8.12"
  }
 },
 "nbformat": 4,
 "nbformat_minor": 5
}
