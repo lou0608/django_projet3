{
 "cells": [
  {
   "cell_type": "code",
   "execution_count": 1,
   "id": "c9273d9d",
   "metadata": {},
   "outputs": [],
   "source": [
    "import pandas as pd\n",
    "import numpy as np\n",
    "\n",
    "import matplotlib.pyplot as plt\n",
    "from matplotlib import pyplot\n",
    "\n",
    "%matplotlib inline\n",
    "from mpl_toolkits.mplot3d import Axes3D\n",
    "from matplotlib import cm\n",
    "import seaborn as sns\n",
    "\n",
    "import warnings\n",
    "warnings.filterwarnings('ignore')\n",
    "\n",
    "# Modèle de ML\n",
    "from sklearn import linear_model\n",
    "\n",
    "# data pre-processing\n",
    "from sklearn import preprocessing\n",
    "from sklearn.model_selection import train_test_split\n",
    "\n",
    "# Outils score et evaluation de modèle\n",
    "from sklearn.metrics import accuracy_score\n",
    "from sklearn import metrics\n",
    "from sklearn.metrics import classification_report\n",
    "from sklearn.metrics import confusion_matrix\n",
    "\n",
    "from sklearn.metrics import r2_score\n",
    "\n",
    "# Outils optmisation de modèle\n",
    "from sklearn.model_selection import GridSearchCV\n",
    "from sklearn.model_selection import StratifiedKFold"
   ]
  },
  {
   "cell_type": "code",
   "execution_count": 2,
   "id": "ace4a0c2",
   "metadata": {},
   "outputs": [],
   "source": [
    "df = pd.read_csv(\"Result_final_1.csv\")"
   ]
  },
  {
   "cell_type": "code",
   "execution_count": 3,
   "id": "dd6b8335",
   "metadata": {},
   "outputs": [
    {
     "name": "stdout",
     "output_type": "stream",
     "text": [
      "<class 'pandas.core.frame.DataFrame'>\n",
      "RangeIndex: 1743257 entries, 0 to 1743256\n",
      "Data columns (total 24 columns):\n",
      " #   Column                             Dtype \n",
      "---  ------                             ----- \n",
      " 0   Unnamed: 0                         int64 \n",
      " 1   MandatId                           int64 \n",
      " 2   DateCreation                       object\n",
      " 3   BienMandatId                       int64 \n",
      " 4   Statut                             int64 \n",
      " 5   DescriptionBien_DateOffreAcceptee  object\n",
      " 6   Origine_DateCollecte               object\n",
      " 7   CritereId                          int64 \n",
      " 8   SurfaceMin                         int64 \n",
      " 9   NombrePiecesEnum                   int64 \n",
      " 10  NombreChambresEnum                 int64 \n",
      " 11  Departement_LocalisationId         int64 \n",
      " 12  Region_LocalisationId              int64 \n",
      " 13  LocalisationId                     int64 \n",
      " 14  StatutMandat                       int64 \n",
      " 15  TypeMission                        int64 \n",
      " 16  TypeBien                           int64 \n",
      " 17  TypeProjet                         int64 \n",
      " 18  BudgetMaxEuro                      int64 \n",
      " 19  CodePostal                         int64 \n",
      " 20  Ville                              object\n",
      " 21  Departement                        object\n",
      " 22  Region                             object\n",
      " 23  Succes                             int64 \n",
      "dtypes: int64(18), object(6)\n",
      "memory usage: 319.2+ MB\n"
     ]
    }
   ],
   "source": [
    "df.info()"
   ]
  },
  {
   "cell_type": "code",
   "execution_count": 4,
   "id": "accc7c03",
   "metadata": {},
   "outputs": [
    {
     "data": {
      "text/html": [
       "<div>\n",
       "<style scoped>\n",
       "    .dataframe tbody tr th:only-of-type {\n",
       "        vertical-align: middle;\n",
       "    }\n",
       "\n",
       "    .dataframe tbody tr th {\n",
       "        vertical-align: top;\n",
       "    }\n",
       "\n",
       "    .dataframe thead th {\n",
       "        text-align: right;\n",
       "    }\n",
       "</style>\n",
       "<table border=\"1\" class=\"dataframe\">\n",
       "  <thead>\n",
       "    <tr style=\"text-align: right;\">\n",
       "      <th></th>\n",
       "      <th>Unnamed: 0</th>\n",
       "      <th>MandatId</th>\n",
       "      <th>DateCreation</th>\n",
       "      <th>BienMandatId</th>\n",
       "      <th>Statut</th>\n",
       "      <th>DescriptionBien_DateOffreAcceptee</th>\n",
       "      <th>Origine_DateCollecte</th>\n",
       "      <th>CritereId</th>\n",
       "      <th>SurfaceMin</th>\n",
       "      <th>NombrePiecesEnum</th>\n",
       "      <th>...</th>\n",
       "      <th>StatutMandat</th>\n",
       "      <th>TypeMission</th>\n",
       "      <th>TypeBien</th>\n",
       "      <th>TypeProjet</th>\n",
       "      <th>BudgetMaxEuro</th>\n",
       "      <th>CodePostal</th>\n",
       "      <th>Ville</th>\n",
       "      <th>Departement</th>\n",
       "      <th>Region</th>\n",
       "      <th>Succes</th>\n",
       "    </tr>\n",
       "  </thead>\n",
       "  <tbody>\n",
       "    <tr>\n",
       "      <th>0</th>\n",
       "      <td>0</td>\n",
       "      <td>9049</td>\n",
       "      <td>2015-03-30</td>\n",
       "      <td>24579</td>\n",
       "      <td>1</td>\n",
       "      <td>0001-01-01</td>\n",
       "      <td>0001-01-01</td>\n",
       "      <td>9051</td>\n",
       "      <td>30</td>\n",
       "      <td>2</td>\n",
       "      <td>...</td>\n",
       "      <td>9</td>\n",
       "      <td>2</td>\n",
       "      <td>2</td>\n",
       "      <td>0</td>\n",
       "      <td>250000</td>\n",
       "      <td>1000</td>\n",
       "      <td>Bourg En Bresse</td>\n",
       "      <td>Ain</td>\n",
       "      <td>Rhône-Alpes</td>\n",
       "      <td>0</td>\n",
       "    </tr>\n",
       "    <tr>\n",
       "      <th>1</th>\n",
       "      <td>1</td>\n",
       "      <td>9049</td>\n",
       "      <td>2015-03-30</td>\n",
       "      <td>24580</td>\n",
       "      <td>0</td>\n",
       "      <td>0001-01-01</td>\n",
       "      <td>0001-01-01</td>\n",
       "      <td>9051</td>\n",
       "      <td>30</td>\n",
       "      <td>2</td>\n",
       "      <td>...</td>\n",
       "      <td>9</td>\n",
       "      <td>2</td>\n",
       "      <td>2</td>\n",
       "      <td>0</td>\n",
       "      <td>250000</td>\n",
       "      <td>1000</td>\n",
       "      <td>Bourg En Bresse</td>\n",
       "      <td>Ain</td>\n",
       "      <td>Rhône-Alpes</td>\n",
       "      <td>0</td>\n",
       "    </tr>\n",
       "    <tr>\n",
       "      <th>2</th>\n",
       "      <td>2</td>\n",
       "      <td>9049</td>\n",
       "      <td>2015-03-30</td>\n",
       "      <td>24582</td>\n",
       "      <td>1</td>\n",
       "      <td>0001-01-01</td>\n",
       "      <td>0001-01-01</td>\n",
       "      <td>9051</td>\n",
       "      <td>30</td>\n",
       "      <td>2</td>\n",
       "      <td>...</td>\n",
       "      <td>9</td>\n",
       "      <td>2</td>\n",
       "      <td>2</td>\n",
       "      <td>0</td>\n",
       "      <td>250000</td>\n",
       "      <td>1000</td>\n",
       "      <td>Bourg En Bresse</td>\n",
       "      <td>Ain</td>\n",
       "      <td>Rhône-Alpes</td>\n",
       "      <td>0</td>\n",
       "    </tr>\n",
       "    <tr>\n",
       "      <th>3</th>\n",
       "      <td>3</td>\n",
       "      <td>9049</td>\n",
       "      <td>2015-03-30</td>\n",
       "      <td>24583</td>\n",
       "      <td>0</td>\n",
       "      <td>0001-01-01</td>\n",
       "      <td>0001-01-01</td>\n",
       "      <td>9051</td>\n",
       "      <td>30</td>\n",
       "      <td>2</td>\n",
       "      <td>...</td>\n",
       "      <td>9</td>\n",
       "      <td>2</td>\n",
       "      <td>2</td>\n",
       "      <td>0</td>\n",
       "      <td>250000</td>\n",
       "      <td>1000</td>\n",
       "      <td>Bourg En Bresse</td>\n",
       "      <td>Ain</td>\n",
       "      <td>Rhône-Alpes</td>\n",
       "      <td>0</td>\n",
       "    </tr>\n",
       "    <tr>\n",
       "      <th>4</th>\n",
       "      <td>4</td>\n",
       "      <td>9049</td>\n",
       "      <td>2015-03-30</td>\n",
       "      <td>24584</td>\n",
       "      <td>7</td>\n",
       "      <td>0001-01-01</td>\n",
       "      <td>0001-01-01</td>\n",
       "      <td>9051</td>\n",
       "      <td>30</td>\n",
       "      <td>2</td>\n",
       "      <td>...</td>\n",
       "      <td>9</td>\n",
       "      <td>2</td>\n",
       "      <td>2</td>\n",
       "      <td>0</td>\n",
       "      <td>250000</td>\n",
       "      <td>1000</td>\n",
       "      <td>Bourg En Bresse</td>\n",
       "      <td>Ain</td>\n",
       "      <td>Rhône-Alpes</td>\n",
       "      <td>0</td>\n",
       "    </tr>\n",
       "  </tbody>\n",
       "</table>\n",
       "<p>5 rows × 24 columns</p>\n",
       "</div>"
      ],
      "text/plain": [
       "   Unnamed: 0  MandatId DateCreation  BienMandatId  Statut  \\\n",
       "0           0      9049   2015-03-30         24579       1   \n",
       "1           1      9049   2015-03-30         24580       0   \n",
       "2           2      9049   2015-03-30         24582       1   \n",
       "3           3      9049   2015-03-30         24583       0   \n",
       "4           4      9049   2015-03-30         24584       7   \n",
       "\n",
       "  DescriptionBien_DateOffreAcceptee Origine_DateCollecte  CritereId  \\\n",
       "0                        0001-01-01           0001-01-01       9051   \n",
       "1                        0001-01-01           0001-01-01       9051   \n",
       "2                        0001-01-01           0001-01-01       9051   \n",
       "3                        0001-01-01           0001-01-01       9051   \n",
       "4                        0001-01-01           0001-01-01       9051   \n",
       "\n",
       "   SurfaceMin  NombrePiecesEnum  ...  StatutMandat  TypeMission  TypeBien  \\\n",
       "0          30                 2  ...             9            2         2   \n",
       "1          30                 2  ...             9            2         2   \n",
       "2          30                 2  ...             9            2         2   \n",
       "3          30                 2  ...             9            2         2   \n",
       "4          30                 2  ...             9            2         2   \n",
       "\n",
       "   TypeProjet  BudgetMaxEuro  CodePostal            Ville  Departement  \\\n",
       "0           0         250000        1000  Bourg En Bresse          Ain   \n",
       "1           0         250000        1000  Bourg En Bresse          Ain   \n",
       "2           0         250000        1000  Bourg En Bresse          Ain   \n",
       "3           0         250000        1000  Bourg En Bresse          Ain   \n",
       "4           0         250000        1000  Bourg En Bresse          Ain   \n",
       "\n",
       "        Region  Succes  \n",
       "0  Rhône-Alpes       0  \n",
       "1  Rhône-Alpes       0  \n",
       "2  Rhône-Alpes       0  \n",
       "3  Rhône-Alpes       0  \n",
       "4  Rhône-Alpes       0  \n",
       "\n",
       "[5 rows x 24 columns]"
      ]
     },
     "execution_count": 4,
     "metadata": {},
     "output_type": "execute_result"
    }
   ],
   "source": [
    "df.head()"
   ]
  },
  {
   "cell_type": "code",
   "execution_count": 5,
   "id": "03ce3d43",
   "metadata": {},
   "outputs": [],
   "source": [
    "df.drop(\"Unnamed: 0\", axis = 1, inplace = True)"
   ]
  },
  {
   "cell_type": "code",
   "execution_count": 6,
   "id": "095a8174",
   "metadata": {},
   "outputs": [
    {
     "data": {
      "text/plain": [
       "1    1320890\n",
       "0     323967\n",
       "2      98400\n",
       "Name: TypeProjet, dtype: int64"
      ]
     },
     "execution_count": 6,
     "metadata": {},
     "output_type": "execute_result"
    }
   ],
   "source": [
    "df.TypeProjet.value_counts()"
   ]
  },
  {
   "cell_type": "markdown",
   "id": "5786cd11",
   "metadata": {},
   "source": [
    "1= Résidence principale    1320890\n",
    "0= Investissement           323967\n",
    "2= Résidence secondaire      98400"
   ]
  },
  {
   "cell_type": "code",
   "execution_count": 7,
   "id": "31382862",
   "metadata": {},
   "outputs": [
    {
     "data": {
      "text/plain": [
       "<AxesSubplot:>"
      ]
     },
     "execution_count": 7,
     "metadata": {},
     "output_type": "execute_result"
    },
    {
     "data": {
      "image/png": "[encoded data removed]",
      "text/plain": [
       "<Figure size 864x576 with 1 Axes>"
      ]
     },
     "metadata": {
      "needs_background": "light"
     },
     "output_type": "display_data"
    }
   ],
   "source": [
    "plt.figure(figsize = (12,8))\n",
    "sns.heatmap(df.isnull() , \n",
    "            yticklabels=False, \n",
    "            cbar=False, \n",
    "            cmap='viridis')"
   ]
  },
  {
   "cell_type": "raw",
   "id": "5be8ce3e",
   "metadata": {},
   "source": [
    "plot = df['Succes'].value_counts().plot(kind='pie', autopct='%.2f', \n",
    "                                            figsize=(6, 6),\n",
    "                                            title='Succes')"
   ]
  },
  {
   "cell_type": "code",
   "execution_count": 8,
   "id": "134a19a4",
   "metadata": {},
   "outputs": [
    {
     "data": {
      "text/plain": [
       "(1743257, 23)"
      ]
     },
     "execution_count": 8,
     "metadata": {},
     "output_type": "execute_result"
    }
   ],
   "source": [
    "df.shape"
   ]
  },
  {
   "cell_type": "code",
   "execution_count": 9,
   "id": "b54a96be",
   "metadata": {},
   "outputs": [
    {
     "data": {
      "text/plain": [
       "0    1091942\n",
       "1     651315\n",
       "Name: Succes, dtype: int64"
      ]
     },
     "execution_count": 9,
     "metadata": {},
     "output_type": "execute_result"
    }
   ],
   "source": [
    "df[\"Succes\"].value_counts()"
   ]
  },
  {
   "cell_type": "code",
   "execution_count": 10,
   "id": "faa66622",
   "metadata": {},
   "outputs": [
    {
     "data": {
      "text/plain": [
       "Île-de-France                 722891\n",
       "Rhône-Alpes                   436602\n",
       "Provence-Alpes-Côte d'Azur    209992\n",
       "Languedoc-Roussillon          161863\n",
       "Aquitaine                      66591\n",
       "Pays de la Loire               64378\n",
       "Midi-Pyrénées                  27395\n",
       "Bretagne                       19833\n",
       "Nord-Pas-de-Calais             18208\n",
       "Haute-Normandie                 2913\n",
       "Poitou-Charentes                2580\n",
       "Centre                          1900\n",
       "Picardie                        1851\n",
       "Auvergne                        1721\n",
       "Bourgogne                       1486\n",
       "Alsace                           868\n",
       "Basse-Normandie                  682\n",
       "Champagne-Ardenne                682\n",
       "Lorraine                         466\n",
       "Franche-Comté                    225\n",
       "Limousin                         123\n",
       "Corse                              7\n",
       "Name: Region, dtype: int64"
      ]
     },
     "execution_count": 10,
     "metadata": {},
     "output_type": "execute_result"
    }
   ],
   "source": [
    "df['Region'].value_counts()"
   ]
  },
  {
   "cell_type": "raw",
   "id": "c5f6cb50",
   "metadata": {},
   "source": [
    "plot = df['Region'].value_counts().plot(kind='pie', autopct='%.2f', \n",
    "                                            figsize=(6, 6),\n",
    "                                            title='Region')"
   ]
  },
  {
   "cell_type": "markdown",
   "id": "aeb30b8b",
   "metadata": {},
   "source": [
    "## Diviser le jeu de données en 2 : 25% 75%"
   ]
  },
  {
   "cell_type": "code",
   "execution_count": 11,
   "id": "87f9c455",
   "metadata": {},
   "outputs": [
    {
     "data": {
      "text/plain": [
       "435814.25"
      ]
     },
     "execution_count": 11,
     "metadata": {},
     "output_type": "execute_result"
    }
   ],
   "source": [
    "# obtenir 25% des données\n",
    "\n",
    "25*1743257/100"
   ]
  },
  {
   "cell_type": "code",
   "execution_count": 12,
   "id": "75067095",
   "metadata": {},
   "outputs": [],
   "source": [
    "df_25 = df.iloc[:435816,:]"
   ]
  },
  {
   "cell_type": "code",
   "execution_count": 13,
   "id": "c195dc0c",
   "metadata": {},
   "outputs": [
    {
     "data": {
      "text/plain": [
       "(435816, 23)"
      ]
     },
     "execution_count": 13,
     "metadata": {},
     "output_type": "execute_result"
    }
   ],
   "source": [
    "df_25.shape"
   ]
  },
  {
   "cell_type": "code",
   "execution_count": 14,
   "id": "83e63fae",
   "metadata": {},
   "outputs": [
    {
     "data": {
      "text/html": [
       "<div>\n",
       "<style scoped>\n",
       "    .dataframe tbody tr th:only-of-type {\n",
       "        vertical-align: middle;\n",
       "    }\n",
       "\n",
       "    .dataframe tbody tr th {\n",
       "        vertical-align: top;\n",
       "    }\n",
       "\n",
       "    .dataframe thead th {\n",
       "        text-align: right;\n",
       "    }\n",
       "</style>\n",
       "<table border=\"1\" class=\"dataframe\">\n",
       "  <thead>\n",
       "    <tr style=\"text-align: right;\">\n",
       "      <th></th>\n",
       "      <th>MandatId</th>\n",
       "      <th>DateCreation</th>\n",
       "      <th>BienMandatId</th>\n",
       "      <th>Statut</th>\n",
       "      <th>DescriptionBien_DateOffreAcceptee</th>\n",
       "      <th>Origine_DateCollecte</th>\n",
       "      <th>CritereId</th>\n",
       "      <th>SurfaceMin</th>\n",
       "      <th>NombrePiecesEnum</th>\n",
       "      <th>NombreChambresEnum</th>\n",
       "      <th>...</th>\n",
       "      <th>StatutMandat</th>\n",
       "      <th>TypeMission</th>\n",
       "      <th>TypeBien</th>\n",
       "      <th>TypeProjet</th>\n",
       "      <th>BudgetMaxEuro</th>\n",
       "      <th>CodePostal</th>\n",
       "      <th>Ville</th>\n",
       "      <th>Departement</th>\n",
       "      <th>Region</th>\n",
       "      <th>Succes</th>\n",
       "    </tr>\n",
       "  </thead>\n",
       "  <tbody>\n",
       "    <tr>\n",
       "      <th>435811</th>\n",
       "      <td>44429</td>\n",
       "      <td>2018-06-25</td>\n",
       "      <td>138614</td>\n",
       "      <td>7</td>\n",
       "      <td>0001-01-01</td>\n",
       "      <td>0001-01-01</td>\n",
       "      <td>44508</td>\n",
       "      <td>45</td>\n",
       "      <td>3</td>\n",
       "      <td>2</td>\n",
       "      <td>...</td>\n",
       "      <td>8</td>\n",
       "      <td>2</td>\n",
       "      <td>2</td>\n",
       "      <td>1</td>\n",
       "      <td>180000</td>\n",
       "      <td>34970</td>\n",
       "      <td>Lattes</td>\n",
       "      <td>Hérault</td>\n",
       "      <td>Languedoc-Roussillon</td>\n",
       "      <td>1</td>\n",
       "    </tr>\n",
       "    <tr>\n",
       "      <th>435812</th>\n",
       "      <td>44429</td>\n",
       "      <td>2018-06-25</td>\n",
       "      <td>138615</td>\n",
       "      <td>0</td>\n",
       "      <td>0001-01-01</td>\n",
       "      <td>2018-07-01</td>\n",
       "      <td>44508</td>\n",
       "      <td>45</td>\n",
       "      <td>3</td>\n",
       "      <td>2</td>\n",
       "      <td>...</td>\n",
       "      <td>8</td>\n",
       "      <td>2</td>\n",
       "      <td>2</td>\n",
       "      <td>1</td>\n",
       "      <td>180000</td>\n",
       "      <td>34970</td>\n",
       "      <td>Lattes</td>\n",
       "      <td>Hérault</td>\n",
       "      <td>Languedoc-Roussillon</td>\n",
       "      <td>1</td>\n",
       "    </tr>\n",
       "    <tr>\n",
       "      <th>435813</th>\n",
       "      <td>44429</td>\n",
       "      <td>2018-06-25</td>\n",
       "      <td>138616</td>\n",
       "      <td>7</td>\n",
       "      <td>0001-01-01</td>\n",
       "      <td>0001-01-01</td>\n",
       "      <td>44508</td>\n",
       "      <td>45</td>\n",
       "      <td>3</td>\n",
       "      <td>2</td>\n",
       "      <td>...</td>\n",
       "      <td>8</td>\n",
       "      <td>2</td>\n",
       "      <td>2</td>\n",
       "      <td>1</td>\n",
       "      <td>180000</td>\n",
       "      <td>34970</td>\n",
       "      <td>Lattes</td>\n",
       "      <td>Hérault</td>\n",
       "      <td>Languedoc-Roussillon</td>\n",
       "      <td>1</td>\n",
       "    </tr>\n",
       "    <tr>\n",
       "      <th>435814</th>\n",
       "      <td>44429</td>\n",
       "      <td>2018-06-25</td>\n",
       "      <td>138617</td>\n",
       "      <td>0</td>\n",
       "      <td>0001-01-01</td>\n",
       "      <td>2018-06-29</td>\n",
       "      <td>44508</td>\n",
       "      <td>45</td>\n",
       "      <td>3</td>\n",
       "      <td>2</td>\n",
       "      <td>...</td>\n",
       "      <td>8</td>\n",
       "      <td>2</td>\n",
       "      <td>2</td>\n",
       "      <td>1</td>\n",
       "      <td>180000</td>\n",
       "      <td>34970</td>\n",
       "      <td>Lattes</td>\n",
       "      <td>Hérault</td>\n",
       "      <td>Languedoc-Roussillon</td>\n",
       "      <td>1</td>\n",
       "    </tr>\n",
       "    <tr>\n",
       "      <th>435815</th>\n",
       "      <td>44429</td>\n",
       "      <td>2018-06-25</td>\n",
       "      <td>138618</td>\n",
       "      <td>7</td>\n",
       "      <td>0001-01-01</td>\n",
       "      <td>0001-01-01</td>\n",
       "      <td>44508</td>\n",
       "      <td>45</td>\n",
       "      <td>3</td>\n",
       "      <td>2</td>\n",
       "      <td>...</td>\n",
       "      <td>8</td>\n",
       "      <td>2</td>\n",
       "      <td>2</td>\n",
       "      <td>1</td>\n",
       "      <td>180000</td>\n",
       "      <td>34970</td>\n",
       "      <td>Lattes</td>\n",
       "      <td>Hérault</td>\n",
       "      <td>Languedoc-Roussillon</td>\n",
       "      <td>1</td>\n",
       "    </tr>\n",
       "  </tbody>\n",
       "</table>\n",
       "<p>5 rows × 23 columns</p>\n",
       "</div>"
      ],
      "text/plain": [
       "        MandatId DateCreation  BienMandatId  Statut  \\\n",
       "435811     44429   2018-06-25        138614       7   \n",
       "435812     44429   2018-06-25        138615       0   \n",
       "435813     44429   2018-06-25        138616       7   \n",
       "435814     44429   2018-06-25        138617       0   \n",
       "435815     44429   2018-06-25        138618       7   \n",
       "\n",
       "       DescriptionBien_DateOffreAcceptee Origine_DateCollecte  CritereId  \\\n",
       "435811                        0001-01-01           0001-01-01      44508   \n",
       "435812                        0001-01-01           2018-07-01      44508   \n",
       "435813                        0001-01-01           0001-01-01      44508   \n",
       "435814                        0001-01-01           2018-06-29      44508   \n",
       "435815                        0001-01-01           0001-01-01      44508   \n",
       "\n",
       "        SurfaceMin  NombrePiecesEnum  NombreChambresEnum  ...  StatutMandat  \\\n",
       "435811          45                 3                   2  ...             8   \n",
       "435812          45                 3                   2  ...             8   \n",
       "435813          45                 3                   2  ...             8   \n",
       "435814          45                 3                   2  ...             8   \n",
       "435815          45                 3                   2  ...             8   \n",
       "\n",
       "        TypeMission  TypeBien  TypeProjet  BudgetMaxEuro  CodePostal   Ville  \\\n",
       "435811            2         2           1         180000       34970  Lattes   \n",
       "435812            2         2           1         180000       34970  Lattes   \n",
       "435813            2         2           1         180000       34970  Lattes   \n",
       "435814            2         2           1         180000       34970  Lattes   \n",
       "435815            2         2           1         180000       34970  Lattes   \n",
       "\n",
       "        Departement                Region Succes  \n",
       "435811      Hérault  Languedoc-Roussillon      1  \n",
       "435812      Hérault  Languedoc-Roussillon      1  \n",
       "435813      Hérault  Languedoc-Roussillon      1  \n",
       "435814      Hérault  Languedoc-Roussillon      1  \n",
       "435815      Hérault  Languedoc-Roussillon      1  \n",
       "\n",
       "[5 rows x 23 columns]"
      ]
     },
     "execution_count": 14,
     "metadata": {},
     "output_type": "execute_result"
    }
   ],
   "source": [
    "df_25.tail()"
   ]
  },
  {
   "cell_type": "code",
   "execution_count": 15,
   "id": "7426d82e",
   "metadata": {},
   "outputs": [],
   "source": [
    "df_75 = df.iloc[435816:,:]"
   ]
  },
  {
   "cell_type": "code",
   "execution_count": 16,
   "id": "4a97df36",
   "metadata": {},
   "outputs": [
    {
     "data": {
      "text/plain": [
       "(1307441, 23)"
      ]
     },
     "execution_count": 16,
     "metadata": {},
     "output_type": "execute_result"
    }
   ],
   "source": [
    "df_75.shape"
   ]
  },
  {
   "cell_type": "code",
   "execution_count": 17,
   "id": "1277261d",
   "metadata": {},
   "outputs": [
    {
     "data": {
      "text/html": [
       "<div>\n",
       "<style scoped>\n",
       "    .dataframe tbody tr th:only-of-type {\n",
       "        vertical-align: middle;\n",
       "    }\n",
       "\n",
       "    .dataframe tbody tr th {\n",
       "        vertical-align: top;\n",
       "    }\n",
       "\n",
       "    .dataframe thead th {\n",
       "        text-align: right;\n",
       "    }\n",
       "</style>\n",
       "<table border=\"1\" class=\"dataframe\">\n",
       "  <thead>\n",
       "    <tr style=\"text-align: right;\">\n",
       "      <th></th>\n",
       "      <th>MandatId</th>\n",
       "      <th>DateCreation</th>\n",
       "      <th>BienMandatId</th>\n",
       "      <th>Statut</th>\n",
       "      <th>DescriptionBien_DateOffreAcceptee</th>\n",
       "      <th>Origine_DateCollecte</th>\n",
       "      <th>CritereId</th>\n",
       "      <th>SurfaceMin</th>\n",
       "      <th>NombrePiecesEnum</th>\n",
       "      <th>NombreChambresEnum</th>\n",
       "      <th>...</th>\n",
       "      <th>StatutMandat</th>\n",
       "      <th>TypeMission</th>\n",
       "      <th>TypeBien</th>\n",
       "      <th>TypeProjet</th>\n",
       "      <th>BudgetMaxEuro</th>\n",
       "      <th>CodePostal</th>\n",
       "      <th>Ville</th>\n",
       "      <th>Departement</th>\n",
       "      <th>Region</th>\n",
       "      <th>Succes</th>\n",
       "    </tr>\n",
       "  </thead>\n",
       "  <tbody>\n",
       "    <tr>\n",
       "      <th>435811</th>\n",
       "      <td>44429</td>\n",
       "      <td>2018-06-25</td>\n",
       "      <td>138614</td>\n",
       "      <td>7</td>\n",
       "      <td>0001-01-01</td>\n",
       "      <td>0001-01-01</td>\n",
       "      <td>44508</td>\n",
       "      <td>45</td>\n",
       "      <td>3</td>\n",
       "      <td>2</td>\n",
       "      <td>...</td>\n",
       "      <td>8</td>\n",
       "      <td>2</td>\n",
       "      <td>2</td>\n",
       "      <td>1</td>\n",
       "      <td>180000</td>\n",
       "      <td>34970</td>\n",
       "      <td>Lattes</td>\n",
       "      <td>Hérault</td>\n",
       "      <td>Languedoc-Roussillon</td>\n",
       "      <td>1</td>\n",
       "    </tr>\n",
       "    <tr>\n",
       "      <th>435812</th>\n",
       "      <td>44429</td>\n",
       "      <td>2018-06-25</td>\n",
       "      <td>138615</td>\n",
       "      <td>0</td>\n",
       "      <td>0001-01-01</td>\n",
       "      <td>2018-07-01</td>\n",
       "      <td>44508</td>\n",
       "      <td>45</td>\n",
       "      <td>3</td>\n",
       "      <td>2</td>\n",
       "      <td>...</td>\n",
       "      <td>8</td>\n",
       "      <td>2</td>\n",
       "      <td>2</td>\n",
       "      <td>1</td>\n",
       "      <td>180000</td>\n",
       "      <td>34970</td>\n",
       "      <td>Lattes</td>\n",
       "      <td>Hérault</td>\n",
       "      <td>Languedoc-Roussillon</td>\n",
       "      <td>1</td>\n",
       "    </tr>\n",
       "    <tr>\n",
       "      <th>435813</th>\n",
       "      <td>44429</td>\n",
       "      <td>2018-06-25</td>\n",
       "      <td>138616</td>\n",
       "      <td>7</td>\n",
       "      <td>0001-01-01</td>\n",
       "      <td>0001-01-01</td>\n",
       "      <td>44508</td>\n",
       "      <td>45</td>\n",
       "      <td>3</td>\n",
       "      <td>2</td>\n",
       "      <td>...</td>\n",
       "      <td>8</td>\n",
       "      <td>2</td>\n",
       "      <td>2</td>\n",
       "      <td>1</td>\n",
       "      <td>180000</td>\n",
       "      <td>34970</td>\n",
       "      <td>Lattes</td>\n",
       "      <td>Hérault</td>\n",
       "      <td>Languedoc-Roussillon</td>\n",
       "      <td>1</td>\n",
       "    </tr>\n",
       "    <tr>\n",
       "      <th>435814</th>\n",
       "      <td>44429</td>\n",
       "      <td>2018-06-25</td>\n",
       "      <td>138617</td>\n",
       "      <td>0</td>\n",
       "      <td>0001-01-01</td>\n",
       "      <td>2018-06-29</td>\n",
       "      <td>44508</td>\n",
       "      <td>45</td>\n",
       "      <td>3</td>\n",
       "      <td>2</td>\n",
       "      <td>...</td>\n",
       "      <td>8</td>\n",
       "      <td>2</td>\n",
       "      <td>2</td>\n",
       "      <td>1</td>\n",
       "      <td>180000</td>\n",
       "      <td>34970</td>\n",
       "      <td>Lattes</td>\n",
       "      <td>Hérault</td>\n",
       "      <td>Languedoc-Roussillon</td>\n",
       "      <td>1</td>\n",
       "    </tr>\n",
       "    <tr>\n",
       "      <th>435815</th>\n",
       "      <td>44429</td>\n",
       "      <td>2018-06-25</td>\n",
       "      <td>138618</td>\n",
       "      <td>7</td>\n",
       "      <td>0001-01-01</td>\n",
       "      <td>0001-01-01</td>\n",
       "      <td>44508</td>\n",
       "      <td>45</td>\n",
       "      <td>3</td>\n",
       "      <td>2</td>\n",
       "      <td>...</td>\n",
       "      <td>8</td>\n",
       "      <td>2</td>\n",
       "      <td>2</td>\n",
       "      <td>1</td>\n",
       "      <td>180000</td>\n",
       "      <td>34970</td>\n",
       "      <td>Lattes</td>\n",
       "      <td>Hérault</td>\n",
       "      <td>Languedoc-Roussillon</td>\n",
       "      <td>1</td>\n",
       "    </tr>\n",
       "  </tbody>\n",
       "</table>\n",
       "<p>5 rows × 23 columns</p>\n",
       "</div>"
      ],
      "text/plain": [
       "        MandatId DateCreation  BienMandatId  Statut  \\\n",
       "435811     44429   2018-06-25        138614       7   \n",
       "435812     44429   2018-06-25        138615       0   \n",
       "435813     44429   2018-06-25        138616       7   \n",
       "435814     44429   2018-06-25        138617       0   \n",
       "435815     44429   2018-06-25        138618       7   \n",
       "\n",
       "       DescriptionBien_DateOffreAcceptee Origine_DateCollecte  CritereId  \\\n",
       "435811                        0001-01-01           0001-01-01      44508   \n",
       "435812                        0001-01-01           2018-07-01      44508   \n",
       "435813                        0001-01-01           0001-01-01      44508   \n",
       "435814                        0001-01-01           2018-06-29      44508   \n",
       "435815                        0001-01-01           0001-01-01      44508   \n",
       "\n",
       "        SurfaceMin  NombrePiecesEnum  NombreChambresEnum  ...  StatutMandat  \\\n",
       "435811          45                 3                   2  ...             8   \n",
       "435812          45                 3                   2  ...             8   \n",
       "435813          45                 3                   2  ...             8   \n",
       "435814          45                 3                   2  ...             8   \n",
       "435815          45                 3                   2  ...             8   \n",
       "\n",
       "        TypeMission  TypeBien  TypeProjet  BudgetMaxEuro  CodePostal   Ville  \\\n",
       "435811            2         2           1         180000       34970  Lattes   \n",
       "435812            2         2           1         180000       34970  Lattes   \n",
       "435813            2         2           1         180000       34970  Lattes   \n",
       "435814            2         2           1         180000       34970  Lattes   \n",
       "435815            2         2           1         180000       34970  Lattes   \n",
       "\n",
       "        Departement                Region Succes  \n",
       "435811      Hérault  Languedoc-Roussillon      1  \n",
       "435812      Hérault  Languedoc-Roussillon      1  \n",
       "435813      Hérault  Languedoc-Roussillon      1  \n",
       "435814      Hérault  Languedoc-Roussillon      1  \n",
       "435815      Hérault  Languedoc-Roussillon      1  \n",
       "\n",
       "[5 rows x 23 columns]"
      ]
     },
     "execution_count": 17,
     "metadata": {},
     "output_type": "execute_result"
    }
   ],
   "source": [
    "df_25.tail()"
   ]
  },
  {
   "cell_type": "raw",
   "id": "a227c07b",
   "metadata": {},
   "source": []
  },
  {
   "cell_type": "code",
   "execution_count": 18,
   "id": "58db85f9",
   "metadata": {},
   "outputs": [
    {
     "data": {
      "text/plain": [
       "0    317536\n",
       "1    118280\n",
       "Name: Succes, dtype: int64"
      ]
     },
     "execution_count": 18,
     "metadata": {},
     "output_type": "execute_result"
    }
   ],
   "source": [
    "df_25[\"Succes\"].value_counts()"
   ]
  },
  {
   "cell_type": "raw",
   "id": "3ccbf3d8",
   "metadata": {},
   "source": [
    "plot = df_25['Succes'].value_counts().plot(kind='pie', autopct='%.2f', \n",
    "                                            figsize=(6, 6),\n",
    "                                            title='Succes')"
   ]
  },
  {
   "cell_type": "raw",
   "id": "564389fb",
   "metadata": {},
   "source": [
    "plot = df_75['Succes'].value_counts().plot(kind='pie', autopct='%.2f', \n",
    "                                            figsize=(6, 6),\n",
    "                                            title='Succes')"
   ]
  },
  {
   "cell_type": "markdown",
   "id": "90c7785f",
   "metadata": {},
   "source": [
    "# Machine Learning"
   ]
  },
  {
   "cell_type": "markdown",
   "id": "ea1a50ed",
   "metadata": {},
   "source": [
    "### test en echantillonant le df_75 en 40% des datat, random_state 60 echantillons aleatoire "
   ]
  },
  {
   "cell_type": "code",
   "execution_count": 19,
   "id": "ca47e7a4",
   "metadata": {},
   "outputs": [],
   "source": [
    "df_test = df_75.sample(frac = 0.4, random_state = 60)"
   ]
  },
  {
   "cell_type": "code",
   "execution_count": 20,
   "id": "07526ae2",
   "metadata": {},
   "outputs": [
    {
     "data": {
      "text/plain": [
       "(522976, 23)"
      ]
     },
     "execution_count": 20,
     "metadata": {},
     "output_type": "execute_result"
    }
   ],
   "source": [
    "df_test.shape"
   ]
  },
  {
   "cell_type": "code",
   "execution_count": 21,
   "id": "cbb68631",
   "metadata": {},
   "outputs": [
    {
     "data": {
      "text/plain": [
       "0    310071\n",
       "1    212905\n",
       "Name: Succes, dtype: int64"
      ]
     },
     "execution_count": 21,
     "metadata": {},
     "output_type": "execute_result"
    }
   ],
   "source": [
    "df_test[\"Succes\"].value_counts()"
   ]
  },
  {
   "cell_type": "raw",
   "id": "8fe57d46",
   "metadata": {},
   "source": [
    "plot = df_test['Succes'].value_counts().plot(kind='pie', autopct='%.2f', \n",
    "                                            figsize=(6, 6),\n",
    "                                            title='Succes')"
   ]
  },
  {
   "cell_type": "code",
   "execution_count": 22,
   "id": "9c38e9d1",
   "metadata": {},
   "outputs": [],
   "source": [
    "#df_sup_0 = df_25[df_25[\"Succes\"] == 0]"
   ]
  },
  {
   "cell_type": "code",
   "execution_count": 23,
   "id": "eef7a412",
   "metadata": {},
   "outputs": [],
   "source": [
    "#df_sup_0.head()"
   ]
  },
  {
   "cell_type": "code",
   "execution_count": 24,
   "id": "39616687",
   "metadata": {},
   "outputs": [],
   "source": [
    "#df_sup_0.shape"
   ]
  },
  {
   "cell_type": "code",
   "execution_count": 25,
   "id": "88bdd4d9",
   "metadata": {},
   "outputs": [
    {
     "data": {
      "text/html": [
       "<div>\n",
       "<style scoped>\n",
       "    .dataframe tbody tr th:only-of-type {\n",
       "        vertical-align: middle;\n",
       "    }\n",
       "\n",
       "    .dataframe tbody tr th {\n",
       "        vertical-align: top;\n",
       "    }\n",
       "\n",
       "    .dataframe thead th {\n",
       "        text-align: right;\n",
       "    }\n",
       "</style>\n",
       "<table border=\"1\" class=\"dataframe\">\n",
       "  <thead>\n",
       "    <tr style=\"text-align: right;\">\n",
       "      <th></th>\n",
       "      <th>MandatId</th>\n",
       "      <th>DateCreation</th>\n",
       "      <th>BienMandatId</th>\n",
       "      <th>Statut</th>\n",
       "      <th>DescriptionBien_DateOffreAcceptee</th>\n",
       "      <th>Origine_DateCollecte</th>\n",
       "      <th>CritereId</th>\n",
       "      <th>SurfaceMin</th>\n",
       "      <th>NombrePiecesEnum</th>\n",
       "      <th>NombreChambresEnum</th>\n",
       "      <th>...</th>\n",
       "      <th>StatutMandat</th>\n",
       "      <th>TypeMission</th>\n",
       "      <th>TypeBien</th>\n",
       "      <th>TypeProjet</th>\n",
       "      <th>BudgetMaxEuro</th>\n",
       "      <th>CodePostal</th>\n",
       "      <th>Ville</th>\n",
       "      <th>Departement</th>\n",
       "      <th>Region</th>\n",
       "      <th>Succes</th>\n",
       "    </tr>\n",
       "  </thead>\n",
       "  <tbody>\n",
       "    <tr>\n",
       "      <th>550018</th>\n",
       "      <td>2133</td>\n",
       "      <td>2013-04-09</td>\n",
       "      <td>2343</td>\n",
       "      <td>0</td>\n",
       "      <td>0001-01-01</td>\n",
       "      <td>0001-01-01</td>\n",
       "      <td>2133</td>\n",
       "      <td>100</td>\n",
       "      <td>4</td>\n",
       "      <td>3</td>\n",
       "      <td>...</td>\n",
       "      <td>9</td>\n",
       "      <td>1</td>\n",
       "      <td>1</td>\n",
       "      <td>1</td>\n",
       "      <td>350000</td>\n",
       "      <td>59000</td>\n",
       "      <td>Lille</td>\n",
       "      <td>Nord</td>\n",
       "      <td>Nord-Pas-de-Calais</td>\n",
       "      <td>0</td>\n",
       "    </tr>\n",
       "    <tr>\n",
       "      <th>1024508</th>\n",
       "      <td>79076</td>\n",
       "      <td>2021-02-19</td>\n",
       "      <td>386476</td>\n",
       "      <td>0</td>\n",
       "      <td>0001-01-01</td>\n",
       "      <td>2021-02-22</td>\n",
       "      <td>79879</td>\n",
       "      <td>100</td>\n",
       "      <td>6</td>\n",
       "      <td>0</td>\n",
       "      <td>...</td>\n",
       "      <td>9</td>\n",
       "      <td>2</td>\n",
       "      <td>2</td>\n",
       "      <td>0</td>\n",
       "      <td>1500000</td>\n",
       "      <td>75003</td>\n",
       "      <td>Paris 3Eme Arrondissement</td>\n",
       "      <td>Paris</td>\n",
       "      <td>Île-de-France</td>\n",
       "      <td>0</td>\n",
       "    </tr>\n",
       "    <tr>\n",
       "      <th>612609</th>\n",
       "      <td>5556</td>\n",
       "      <td>2014-05-17</td>\n",
       "      <td>24238</td>\n",
       "      <td>0</td>\n",
       "      <td>0001-01-01</td>\n",
       "      <td>2015-03-25</td>\n",
       "      <td>5556</td>\n",
       "      <td>90</td>\n",
       "      <td>4</td>\n",
       "      <td>3</td>\n",
       "      <td>...</td>\n",
       "      <td>9</td>\n",
       "      <td>1</td>\n",
       "      <td>2</td>\n",
       "      <td>1</td>\n",
       "      <td>350000</td>\n",
       "      <td>69002</td>\n",
       "      <td>Lyon 2Eme Arrondissement</td>\n",
       "      <td>Rhône</td>\n",
       "      <td>Rhône-Alpes</td>\n",
       "      <td>0</td>\n",
       "    </tr>\n",
       "    <tr>\n",
       "      <th>1252948</th>\n",
       "      <td>49161</td>\n",
       "      <td>2018-12-09</td>\n",
       "      <td>166680</td>\n",
       "      <td>0</td>\n",
       "      <td>0001-01-01</td>\n",
       "      <td>2018-12-14</td>\n",
       "      <td>49320</td>\n",
       "      <td>24</td>\n",
       "      <td>2</td>\n",
       "      <td>1</td>\n",
       "      <td>...</td>\n",
       "      <td>9</td>\n",
       "      <td>2</td>\n",
       "      <td>2</td>\n",
       "      <td>1</td>\n",
       "      <td>260000</td>\n",
       "      <td>75015</td>\n",
       "      <td>Paris 15Eme Arrondissement</td>\n",
       "      <td>Paris</td>\n",
       "      <td>Île-de-France</td>\n",
       "      <td>0</td>\n",
       "    </tr>\n",
       "    <tr>\n",
       "      <th>653968</th>\n",
       "      <td>68244</td>\n",
       "      <td>2020-03-27</td>\n",
       "      <td>348346</td>\n",
       "      <td>0</td>\n",
       "      <td>0001-01-01</td>\n",
       "      <td>2020-10-09</td>\n",
       "      <td>68904</td>\n",
       "      <td>38</td>\n",
       "      <td>2</td>\n",
       "      <td>1</td>\n",
       "      <td>...</td>\n",
       "      <td>9</td>\n",
       "      <td>2</td>\n",
       "      <td>2</td>\n",
       "      <td>0</td>\n",
       "      <td>300000</td>\n",
       "      <td>69003</td>\n",
       "      <td>Lyon 3Eme Arrondissement</td>\n",
       "      <td>Rhône</td>\n",
       "      <td>Rhône-Alpes</td>\n",
       "      <td>0</td>\n",
       "    </tr>\n",
       "  </tbody>\n",
       "</table>\n",
       "<p>5 rows × 23 columns</p>\n",
       "</div>"
      ],
      "text/plain": [
       "         MandatId DateCreation  BienMandatId  Statut  \\\n",
       "550018       2133   2013-04-09          2343       0   \n",
       "1024508     79076   2021-02-19        386476       0   \n",
       "612609       5556   2014-05-17         24238       0   \n",
       "1252948     49161   2018-12-09        166680       0   \n",
       "653968      68244   2020-03-27        348346       0   \n",
       "\n",
       "        DescriptionBien_DateOffreAcceptee Origine_DateCollecte  CritereId  \\\n",
       "550018                         0001-01-01           0001-01-01       2133   \n",
       "1024508                        0001-01-01           2021-02-22      79879   \n",
       "612609                         0001-01-01           2015-03-25       5556   \n",
       "1252948                        0001-01-01           2018-12-14      49320   \n",
       "653968                         0001-01-01           2020-10-09      68904   \n",
       "\n",
       "         SurfaceMin  NombrePiecesEnum  NombreChambresEnum  ...  StatutMandat  \\\n",
       "550018          100                 4                   3  ...             9   \n",
       "1024508         100                 6                   0  ...             9   \n",
       "612609           90                 4                   3  ...             9   \n",
       "1252948          24                 2                   1  ...             9   \n",
       "653968           38                 2                   1  ...             9   \n",
       "\n",
       "         TypeMission  TypeBien  TypeProjet  BudgetMaxEuro  CodePostal  \\\n",
       "550018             1         1           1         350000       59000   \n",
       "1024508            2         2           0        1500000       75003   \n",
       "612609             1         2           1         350000       69002   \n",
       "1252948            2         2           1         260000       75015   \n",
       "653968             2         2           0         300000       69003   \n",
       "\n",
       "                              Ville  Departement              Region Succes  \n",
       "550018                        Lille         Nord  Nord-Pas-de-Calais      0  \n",
       "1024508   Paris 3Eme Arrondissement        Paris       Île-de-France      0  \n",
       "612609     Lyon 2Eme Arrondissement        Rhône         Rhône-Alpes      0  \n",
       "1252948  Paris 15Eme Arrondissement        Paris       Île-de-France      0  \n",
       "653968     Lyon 3Eme Arrondissement        Rhône         Rhône-Alpes      0  \n",
       "\n",
       "[5 rows x 23 columns]"
      ]
     },
     "execution_count": 25,
     "metadata": {},
     "output_type": "execute_result"
    }
   ],
   "source": [
    "df_test.head()"
   ]
  },
  {
   "cell_type": "code",
   "execution_count": 26,
   "id": "6cb31068",
   "metadata": {},
   "outputs": [
    {
     "data": {
      "text/plain": [
       "Index(['MandatId', 'DateCreation', 'BienMandatId', 'Statut',\n",
       "       'DescriptionBien_DateOffreAcceptee', 'Origine_DateCollecte',\n",
       "       'CritereId', 'SurfaceMin', 'NombrePiecesEnum', 'NombreChambresEnum',\n",
       "       'Departement_LocalisationId', 'Region_LocalisationId', 'LocalisationId',\n",
       "       'StatutMandat', 'TypeMission', 'TypeBien', 'TypeProjet',\n",
       "       'BudgetMaxEuro', 'CodePostal', 'Ville', 'Departement', 'Region',\n",
       "       'Succes'],\n",
       "      dtype='object')"
      ]
     },
     "execution_count": 26,
     "metadata": {},
     "output_type": "execute_result"
    }
   ],
   "source": [
    "df_test.columns"
   ]
  },
  {
   "cell_type": "code",
   "execution_count": null,
   "id": "06face97",
   "metadata": {},
   "outputs": [],
   "source": []
  },
  {
   "cell_type": "code",
   "execution_count": 27,
   "id": "0b74e463",
   "metadata": {},
   "outputs": [
    {
     "data": {
      "text/plain": [
       "int64     17\n",
       "object     6\n",
       "dtype: int64"
      ]
     },
     "execution_count": 27,
     "metadata": {},
     "output_type": "execute_result"
    }
   ],
   "source": [
    "df_test.dtypes.value_counts()\n"
   ]
  },
  {
   "cell_type": "code",
   "execution_count": 28,
   "id": "4236eed2",
   "metadata": {},
   "outputs": [
    {
     "data": {
      "text/plain": [
       "MandatId                        5227\n",
       "BienMandatId                  210004\n",
       "Statut                             8\n",
       "CritereId                       5227\n",
       "SurfaceMin                       107\n",
       "NombrePiecesEnum                   7\n",
       "NombreChambresEnum                 7\n",
       "Departement_LocalisationId        62\n",
       "Region_LocalisationId             21\n",
       "LocalisationId                  2002\n",
       "StatutMandat                       3\n",
       "TypeMission                        7\n",
       "TypeBien                           9\n",
       "TypeProjet                         3\n",
       "BudgetMaxEuro                    317\n",
       "CodePostal                      1176\n",
       "Succes                             2\n",
       "dtype: int64"
      ]
     },
     "execution_count": 28,
     "metadata": {},
     "output_type": "execute_result"
    }
   ],
   "source": [
    "df_test.select_dtypes('int').apply(pd.Series.nunique, axis = 0)"
   ]
  },
  {
   "cell_type": "code",
   "execution_count": 29,
   "id": "5af7a30d",
   "metadata": {},
   "outputs": [
    {
     "data": {
      "text/plain": [
       "DateCreation                         1937\n",
       "DescriptionBien_DateOffreAcceptee     796\n",
       "Origine_DateCollecte                 2961\n",
       "Ville                                1955\n",
       "Departement                            62\n",
       "Region                                 21\n",
       "dtype: int64"
      ]
     },
     "execution_count": 29,
     "metadata": {},
     "output_type": "execute_result"
    }
   ],
   "source": [
    "df_test.select_dtypes('object').apply(pd.Series.nunique, axis = 0)"
   ]
  },
  {
   "cell_type": "code",
   "execution_count": 30,
   "id": "db7f4c1d",
   "metadata": {},
   "outputs": [],
   "source": [
    "df_test.drop([\"MandatId\", \"BienMandatId\", \"Departement_LocalisationId\",\"Region_LocalisationId\",\"LocalisationId\",\"DateCreation\", \"DescriptionBien_DateOffreAcceptee\"], axis = 1, inplace = True)"
   ]
  },
  {
   "cell_type": "code",
   "execution_count": 31,
   "id": "7bb746fc",
   "metadata": {},
   "outputs": [
    {
     "data": {
      "text/plain": [
       "Statut                   8\n",
       "CritereId             5227\n",
       "SurfaceMin             107\n",
       "NombrePiecesEnum         7\n",
       "NombreChambresEnum       7\n",
       "StatutMandat             3\n",
       "TypeMission              7\n",
       "TypeBien                 9\n",
       "TypeProjet               3\n",
       "BudgetMaxEuro          317\n",
       "CodePostal            1176\n",
       "Succes                   2\n",
       "dtype: int64"
      ]
     },
     "execution_count": 31,
     "metadata": {},
     "output_type": "execute_result"
    }
   ],
   "source": [
    "df_test.select_dtypes('int').apply(pd.Series.nunique, axis = 0)"
   ]
  },
  {
   "cell_type": "code",
   "execution_count": 32,
   "id": "45273cec",
   "metadata": {},
   "outputs": [
    {
     "data": {
      "text/plain": [
       "Origine_DateCollecte    2961\n",
       "Ville                   1955\n",
       "Departement               62\n",
       "Region                    21\n",
       "dtype: int64"
      ]
     },
     "execution_count": 32,
     "metadata": {},
     "output_type": "execute_result"
    }
   ],
   "source": [
    "df_test.select_dtypes('object').apply(pd.Series.nunique, axis = 0)"
   ]
  },
  {
   "cell_type": "code",
   "execution_count": 33,
   "id": "48c64cf7",
   "metadata": {},
   "outputs": [
    {
     "data": {
      "text/html": [
       "<div>\n",
       "<style scoped>\n",
       "    .dataframe tbody tr th:only-of-type {\n",
       "        vertical-align: middle;\n",
       "    }\n",
       "\n",
       "    .dataframe tbody tr th {\n",
       "        vertical-align: top;\n",
       "    }\n",
       "\n",
       "    .dataframe thead th {\n",
       "        text-align: right;\n",
       "    }\n",
       "</style>\n",
       "<table border=\"1\" class=\"dataframe\">\n",
       "  <thead>\n",
       "    <tr style=\"text-align: right;\">\n",
       "      <th></th>\n",
       "      <th>Statut</th>\n",
       "      <th>Origine_DateCollecte</th>\n",
       "      <th>CritereId</th>\n",
       "      <th>SurfaceMin</th>\n",
       "      <th>NombrePiecesEnum</th>\n",
       "      <th>NombreChambresEnum</th>\n",
       "      <th>StatutMandat</th>\n",
       "      <th>TypeMission</th>\n",
       "      <th>TypeBien</th>\n",
       "      <th>TypeProjet</th>\n",
       "      <th>BudgetMaxEuro</th>\n",
       "      <th>CodePostal</th>\n",
       "      <th>Ville</th>\n",
       "      <th>Departement</th>\n",
       "      <th>Region</th>\n",
       "      <th>Succes</th>\n",
       "    </tr>\n",
       "  </thead>\n",
       "  <tbody>\n",
       "    <tr>\n",
       "      <th>550018</th>\n",
       "      <td>0</td>\n",
       "      <td>0001-01-01</td>\n",
       "      <td>2133</td>\n",
       "      <td>100</td>\n",
       "      <td>4</td>\n",
       "      <td>3</td>\n",
       "      <td>9</td>\n",
       "      <td>1</td>\n",
       "      <td>1</td>\n",
       "      <td>1</td>\n",
       "      <td>350000</td>\n",
       "      <td>59000</td>\n",
       "      <td>Lille</td>\n",
       "      <td>Nord</td>\n",
       "      <td>Nord-Pas-de-Calais</td>\n",
       "      <td>0</td>\n",
       "    </tr>\n",
       "    <tr>\n",
       "      <th>1024508</th>\n",
       "      <td>0</td>\n",
       "      <td>2021-02-22</td>\n",
       "      <td>79879</td>\n",
       "      <td>100</td>\n",
       "      <td>6</td>\n",
       "      <td>0</td>\n",
       "      <td>9</td>\n",
       "      <td>2</td>\n",
       "      <td>2</td>\n",
       "      <td>0</td>\n",
       "      <td>1500000</td>\n",
       "      <td>75003</td>\n",
       "      <td>Paris 3Eme Arrondissement</td>\n",
       "      <td>Paris</td>\n",
       "      <td>Île-de-France</td>\n",
       "      <td>0</td>\n",
       "    </tr>\n",
       "    <tr>\n",
       "      <th>612609</th>\n",
       "      <td>0</td>\n",
       "      <td>2015-03-25</td>\n",
       "      <td>5556</td>\n",
       "      <td>90</td>\n",
       "      <td>4</td>\n",
       "      <td>3</td>\n",
       "      <td>9</td>\n",
       "      <td>1</td>\n",
       "      <td>2</td>\n",
       "      <td>1</td>\n",
       "      <td>350000</td>\n",
       "      <td>69002</td>\n",
       "      <td>Lyon 2Eme Arrondissement</td>\n",
       "      <td>Rhône</td>\n",
       "      <td>Rhône-Alpes</td>\n",
       "      <td>0</td>\n",
       "    </tr>\n",
       "    <tr>\n",
       "      <th>1252948</th>\n",
       "      <td>0</td>\n",
       "      <td>2018-12-14</td>\n",
       "      <td>49320</td>\n",
       "      <td>24</td>\n",
       "      <td>2</td>\n",
       "      <td>1</td>\n",
       "      <td>9</td>\n",
       "      <td>2</td>\n",
       "      <td>2</td>\n",
       "      <td>1</td>\n",
       "      <td>260000</td>\n",
       "      <td>75015</td>\n",
       "      <td>Paris 15Eme Arrondissement</td>\n",
       "      <td>Paris</td>\n",
       "      <td>Île-de-France</td>\n",
       "      <td>0</td>\n",
       "    </tr>\n",
       "    <tr>\n",
       "      <th>653968</th>\n",
       "      <td>0</td>\n",
       "      <td>2020-10-09</td>\n",
       "      <td>68904</td>\n",
       "      <td>38</td>\n",
       "      <td>2</td>\n",
       "      <td>1</td>\n",
       "      <td>9</td>\n",
       "      <td>2</td>\n",
       "      <td>2</td>\n",
       "      <td>0</td>\n",
       "      <td>300000</td>\n",
       "      <td>69003</td>\n",
       "      <td>Lyon 3Eme Arrondissement</td>\n",
       "      <td>Rhône</td>\n",
       "      <td>Rhône-Alpes</td>\n",
       "      <td>0</td>\n",
       "    </tr>\n",
       "  </tbody>\n",
       "</table>\n",
       "</div>"
      ],
      "text/plain": [
       "         Statut Origine_DateCollecte  CritereId  SurfaceMin  NombrePiecesEnum  \\\n",
       "550018        0           0001-01-01       2133         100                 4   \n",
       "1024508       0           2021-02-22      79879         100                 6   \n",
       "612609        0           2015-03-25       5556          90                 4   \n",
       "1252948       0           2018-12-14      49320          24                 2   \n",
       "653968        0           2020-10-09      68904          38                 2   \n",
       "\n",
       "         NombreChambresEnum  StatutMandat  TypeMission  TypeBien  TypeProjet  \\\n",
       "550018                    3             9            1         1           1   \n",
       "1024508                   0             9            2         2           0   \n",
       "612609                    3             9            1         2           1   \n",
       "1252948                   1             9            2         2           1   \n",
       "653968                    1             9            2         2           0   \n",
       "\n",
       "         BudgetMaxEuro  CodePostal                       Ville Departement  \\\n",
       "550018          350000       59000                       Lille        Nord   \n",
       "1024508        1500000       75003   Paris 3Eme Arrondissement       Paris   \n",
       "612609          350000       69002    Lyon 2Eme Arrondissement       Rhône   \n",
       "1252948         260000       75015  Paris 15Eme Arrondissement       Paris   \n",
       "653968          300000       69003    Lyon 3Eme Arrondissement       Rhône   \n",
       "\n",
       "                     Region  Succes  \n",
       "550018   Nord-Pas-de-Calais       0  \n",
       "1024508       Île-de-France       0  \n",
       "612609          Rhône-Alpes       0  \n",
       "1252948       Île-de-France       0  \n",
       "653968          Rhône-Alpes       0  "
      ]
     },
     "execution_count": 33,
     "metadata": {},
     "output_type": "execute_result"
    }
   ],
   "source": [
    "df_test.head()"
   ]
  },
  {
   "cell_type": "code",
   "execution_count": 34,
   "id": "4c418c40",
   "metadata": {},
   "outputs": [
    {
     "data": {
      "text/plain": [
       "Series([], dtype: float64)"
      ]
     },
     "execution_count": 34,
     "metadata": {},
     "output_type": "execute_result"
    }
   ],
   "source": [
    "df_test.select_dtypes('float').apply(pd.Series.nunique, axis = 0)"
   ]
  },
  {
   "cell_type": "code",
   "execution_count": 35,
   "id": "8aaa4dd8",
   "metadata": {},
   "outputs": [
    {
     "name": "stdout",
     "output_type": "stream",
     "text": [
      "<class 'pandas.core.frame.DataFrame'>\n",
      "Int64Index: 522976 entries, 550018 to 1598210\n",
      "Data columns (total 16 columns):\n",
      " #   Column                Non-Null Count   Dtype \n",
      "---  ------                --------------   ----- \n",
      " 0   Statut                522976 non-null  int64 \n",
      " 1   Origine_DateCollecte  522976 non-null  object\n",
      " 2   CritereId             522976 non-null  int64 \n",
      " 3   SurfaceMin            522976 non-null  int64 \n",
      " 4   NombrePiecesEnum      522976 non-null  int64 \n",
      " 5   NombreChambresEnum    522976 non-null  int64 \n",
      " 6   StatutMandat          522976 non-null  int64 \n",
      " 7   TypeMission           522976 non-null  int64 \n",
      " 8   TypeBien              522976 non-null  int64 \n",
      " 9   TypeProjet            522976 non-null  int64 \n",
      " 10  BudgetMaxEuro         522976 non-null  int64 \n",
      " 11  CodePostal            522976 non-null  int64 \n",
      " 12  Ville                 522976 non-null  object\n",
      " 13  Departement           522976 non-null  object\n",
      " 14  Region                522976 non-null  object\n",
      " 15  Succes                522976 non-null  int64 \n",
      "dtypes: int64(12), object(4)\n",
      "memory usage: 67.8+ MB\n"
     ]
    }
   ],
   "source": [
    "df_test.info()"
   ]
  },
  {
   "cell_type": "raw",
   "id": "2e6a1fa1",
   "metadata": {},
   "source": [
    "def corrplot(df_test, method=\"pearson\", annot=True, **kwargs):\n",
    "    sns.clustermap(\n",
    "        df.corr(method),\n",
    "        vmin=-1.0,\n",
    "        vmax=1.0,\n",
    "        cmap=\"icefire\",\n",
    "        method=\"complete\",\n",
    "        annot=annot,\n",
    "        **kwargs,\n",
    "    )\n",
    "\n",
    "\n",
    "corrplot(X, annot=None)"
   ]
  },
  {
   "cell_type": "markdown",
   "id": "db26a729",
   "metadata": {},
   "source": [
    "# Pre-processing"
   ]
  },
  {
   "cell_type": "markdown",
   "id": "7ed47283",
   "metadata": {},
   "source": [
    "## Encodage?"
   ]
  },
  {
   "cell_type": "code",
   "execution_count": 36,
   "id": "00c14efc",
   "metadata": {},
   "outputs": [],
   "source": [
    "#ordinal encoder données X\n",
    "# pas necessaire dejà encoder 0,1\n",
    "# one hot encoding\n",
    "# peut-être sur les region et les departements?"
   ]
  },
  {
   "cell_type": "raw",
   "id": "13c109b0",
   "metadata": {},
   "source": [
    "from sklearn.preprocessing import OneHotEncoder\n",
    "enc = OneHotEncoder(handle_unknown='ignore')\n",
    "\n",
    "#enc_df = pd.DataFrame(enc.fit_transform(df_test[['Region']]).toarray())"
   ]
  },
  {
   "cell_type": "raw",
   "id": "b6341d5c",
   "metadata": {},
   "source": [
    "z = pd.get_dummies(df_test.iloc[:500,:][\"Region\"])"
   ]
  },
  {
   "cell_type": "raw",
   "id": "c1a7ea17",
   "metadata": {},
   "source": [
    "z.isnull().sum()"
   ]
  },
  {
   "cell_type": "raw",
   "id": "72a34168",
   "metadata": {},
   "source": [
    "z.head()"
   ]
  },
  {
   "cell_type": "raw",
   "id": "3f3417f5",
   "metadata": {},
   "source": [
    "df_test = pd.concat([df_test, z], axis = 1)"
   ]
  },
  {
   "cell_type": "raw",
   "id": "473ae4ac",
   "metadata": {},
   "source": [
    "dummies = pd.get_dummies(df[['column_1', 'column_2','column_3']], drop_first=True)\n",
    "df = pd.concat([df.drop(['column_1', 'column_1'],axis=1), dummies],axis=1)"
   ]
  },
  {
   "cell_type": "code",
   "execution_count": null,
   "id": "bbe74f04",
   "metadata": {},
   "outputs": [],
   "source": [
    "df_test = pd.get_dummies(df_test,columns = ['Region', 'Ville','Departement'], drop_first=True)\n",
    "#df = pd.concat([df_test.drop(['Region', 'Ville',\"Departement\"],axis=1), dummies],axis=1)\n"
   ]
  },
  {
   "cell_type": "code",
   "execution_count": null,
   "id": "d4e37c07",
   "metadata": {},
   "outputs": [],
   "source": [
    "df_test.head()"
   ]
  },
  {
   "cell_type": "code",
   "execution_count": null,
   "id": "d8368aed",
   "metadata": {},
   "outputs": [],
   "source": [
    "df_test.isnull().sum()"
   ]
  },
  {
   "cell_type": "code",
   "execution_count": null,
   "id": "dadf8c04",
   "metadata": {},
   "outputs": [],
   "source": [
    "df_test.head(50)"
   ]
  },
  {
   "cell_type": "code",
   "execution_count": null,
   "id": "a444c297",
   "metadata": {},
   "outputs": [],
   "source": [
    "df_test.info()"
   ]
  },
  {
   "cell_type": "code",
   "execution_count": null,
   "id": "b895645f",
   "metadata": {},
   "outputs": [],
   "source": [
    "df_test[\"Region\"].value_counts()"
   ]
  },
  {
   "cell_type": "code",
   "execution_count": null,
   "id": "e47d015a",
   "metadata": {},
   "outputs": [],
   "source": [
    "df_test[\"Departement\"].value_counts()"
   ]
  },
  {
   "cell_type": "code",
   "execution_count": null,
   "id": "d1bc8ca3",
   "metadata": {},
   "outputs": [],
   "source": [
    "df_test.head()"
   ]
  },
  {
   "cell_type": "code",
   "execution_count": null,
   "id": "5c9492a8",
   "metadata": {},
   "outputs": [],
   "source": [
    "df_test.info()"
   ]
  },
  {
   "cell_type": "code",
   "execution_count": null,
   "id": "008e86c7",
   "metadata": {},
   "outputs": [],
   "source": [
    "df_test.info()"
   ]
  },
  {
   "cell_type": "markdown",
   "id": "bf0873de",
   "metadata": {},
   "source": [
    "# Choix des features"
   ]
  },
  {
   "cell_type": "code",
   "execution_count": null,
   "id": "6989cbbe",
   "metadata": {},
   "outputs": [],
   "source": [
    "df_test.columns"
   ]
  },
  {
   "cell_type": "code",
   "execution_count": null,
   "id": "137a5d6f",
   "metadata": {},
   "outputs": [],
   "source": [
    "X =df_test.drop([\"Statut\", \"Origine_DateCollecte\", \"CritereId\", \"Succes\"], axis = 1)"
   ]
  },
  {
   "cell_type": "code",
   "execution_count": null,
   "id": "584ded04",
   "metadata": {},
   "outputs": [],
   "source": [
    "y = df_test['Succes']"
   ]
  },
  {
   "cell_type": "code",
   "execution_count": null,
   "id": "cc48f112",
   "metadata": {},
   "outputs": [],
   "source": [
    "from sklearn.preprocessing import OrdinalEncoder\n",
    "oe = preprocessing.OrdinalEncoder()\n",
    "oe.fit(X[[\"Region\",\"Ville\", \"Departement\"]])\n",
    "oe.transform(X[[\"Region\",\"Ville\",\"Departement\"]])"
   ]
  },
  {
   "cell_type": "code",
   "execution_count": null,
   "id": "6909be59",
   "metadata": {},
   "outputs": [],
   "source": [
    "X.shape"
   ]
  },
  {
   "cell_type": "markdown",
   "id": "a50f9f08",
   "metadata": {},
   "source": [
    "# Diviser le jeu de données en jeu d'entrainement et jeu de test"
   ]
  },
  {
   "cell_type": "code",
   "execution_count": null,
   "id": "114e36aa",
   "metadata": {},
   "outputs": [],
   "source": [
    "X_train, X_test, y_train, y_test = train_test_split(X, y, test_size=0.25, random_state=42)"
   ]
  },
  {
   "cell_type": "code",
   "execution_count": null,
   "id": "b40df552",
   "metadata": {},
   "outputs": [],
   "source": [
    "from sklearn.preprocessing import OneHotEncoder\n",
    "ohe = preprocessing.OneHotEncoder(sparse = False)\n",
    "\n",
    "ohe.fit(X[[\"Region\",\"Ville\", \"Departement\"]])\n",
    "ohe.transform(X[[\"Region\",\"Ville\",\"Departement\"]])\n",
    "\n"
   ]
  },
  {
   "cell_type": "code",
   "execution_count": null,
   "id": "ba352115",
   "metadata": {},
   "outputs": [],
   "source": [
    "ohe.fit(X_test[[\"Region\",\"Ville\", \"Departement\"]])\n",
    "ohe.transform(X_test[[\"Region\",\"Ville\",\"Departement\"]])"
   ]
  },
  {
   "cell_type": "code",
   "execution_count": null,
   "id": "f12f374e",
   "metadata": {},
   "outputs": [],
   "source": [
    "from sklearn.preprocessing import OneHotEncoder\n",
    "# creating one hot encoder object \n",
    "onehotencoder = OneHotEncoder()\n",
    "#reshape the 1-D country array to 2-D as fit_transform expects 2-D and finally fit the object \n",
    "X = onehotencoder.fit_transform(df_33.Region.values.reshape(-1,1)).toarray()\n",
    "\n",
    "#To add this back into the original dataframe \n",
    "dfOneHot1 = pd.DataFrame(X, columns = [\"Region\"+str(int(i)) for i in range(df_33.shape[1])])\n",
    "\n",
    "df = pd.concat([df_33, dfOneHot1], axis=1)\n",
    "\n",
    "#droping the country column \n",
    "df= df.drop(['Region'], axis=1)\n",
    "\n",
    "\n",
    "#printing to verify \n",
    "df.head()"
   ]
  },
  {
   "cell_type": "code",
   "execution_count": null,
   "id": "5206f0b7",
   "metadata": {},
   "outputs": [],
   "source": [
    "Y = onehotencoder.fit_transform(df_33.Departement.values.reshape(-1,1)).toarray()\n",
    "#To add this back into the original dataframe \n",
    "dfOneHot = pd.DataFrame(X, columns = [\"Departement\"+str(int(i)) for i in range(df_33.shape[1])]) \n",
    "df = pd.concat([df_33, dfOneHot], axis=1)\n",
    "#droping the country column \n",
    "df= df.drop(['Departement'], axis=1) \n",
    "#printing to verify \n",
    "df.head()"
   ]
  },
  {
   "cell_type": "markdown",
   "id": "6a0711c1",
   "metadata": {},
   "source": [
    "## Normalisation"
   ]
  },
  {
   "cell_type": "code",
   "execution_count": null,
   "id": "4f85a76f",
   "metadata": {},
   "outputs": [],
   "source": [
    "from sklearn.preprocessing import StandardScaler\n",
    "scaler = StandardScaler()\n",
    "X_train = scaler.fit_transform(X_train)\n",
    "X_test = scaler.transform(X_test)"
   ]
  },
  {
   "cell_type": "markdown",
   "id": "891e8f86",
   "metadata": {},
   "source": [
    "# Regression Logistique"
   ]
  },
  {
   "cell_type": "code",
   "execution_count": null,
   "id": "e3ef32dd",
   "metadata": {},
   "outputs": [],
   "source": [
    "from sklearn.linear_model import LogisticRegression\n",
    "lr = LogisticRegression(solver='newton-cg', C =0.001, penalty = 'l2' )\n",
    "lr.fit(X_train,y_train)"
   ]
  },
  {
   "cell_type": "code",
   "execution_count": null,
   "id": "5e85d97d",
   "metadata": {},
   "outputs": [],
   "source": [
    "y_lr = lr.predict(X_test)"
   ]
  },
  {
   "cell_type": "code",
   "execution_count": null,
   "id": "61c78e82",
   "metadata": {},
   "outputs": [],
   "source": [
    "from sklearn.metrics import classification_report\n",
    "print(classification_report(y_test,y_lr,target_names = ['Echec(Class 0)','Succès (Class 1)']))"
   ]
  },
  {
   "cell_type": "code",
   "execution_count": null,
   "id": "4da0b4a5",
   "metadata": {},
   "outputs": [],
   "source": [
    "cm = confusion_matrix(y_test,lr.predict(X_test))\n",
    "sns.heatmap(cm,annot=True,fmt=\"d\")"
   ]
  },
  {
   "cell_type": "code",
   "execution_count": null,
   "id": "d1aa4143",
   "metadata": {},
   "outputs": [],
   "source": [
    "from sklearn.metrics import plot_roc_curve\n",
    "plot_roc_curve(lr, X_train,y_train )\n",
    "plt.plot([0,1],[0,1])\n",
    "plt.xlabel('false positive')\n",
    "plt.ylabel('true positve')\n",
    "plt.title('ROC curve LR')\n",
    "plt.show()"
   ]
  },
  {
   "cell_type": "markdown",
   "id": "ff68e285",
   "metadata": {},
   "source": [
    "# knn"
   ]
  },
  {
   "cell_type": "code",
   "execution_count": null,
   "id": "f66e6c8b",
   "metadata": {},
   "outputs": [],
   "source": [
    "from sklearn.neighbors import KNeighborsClassifier\n",
    "knn = KNeighborsClassifier()\n",
    "knn.fit(X_train, y_train)\n",
    "y_knn = knn.predict(X_test)"
   ]
  },
  {
   "cell_type": "code",
   "execution_count": null,
   "id": "63cb9410",
   "metadata": {},
   "outputs": [],
   "source": []
  },
  {
   "cell_type": "code",
   "execution_count": null,
   "id": "2482efa4",
   "metadata": {},
   "outputs": [],
   "source": [
    "cm = confusion_matrix(y_test,knn.predict(X_test))\n",
    "sns.heatmap(cm,annot=True,fmt=\"d\")"
   ]
  },
  {
   "cell_type": "code",
   "execution_count": null,
   "id": "1edf9907",
   "metadata": {},
   "outputs": [],
   "source": [
    "from sklearn.metrics import plot_roc_curve\n",
    "plot_roc_curve(knn, X_train,y_train )\n",
    "plt.plot([0,1],[0,1])\n",
    "plt.xlabel('false positive')\n",
    "plt.ylabel('true positve')\n",
    "plt.title('ROC curve knn')\n",
    "plt.show()"
   ]
  },
  {
   "cell_type": "code",
   "execution_count": null,
   "id": "6f21c1db",
   "metadata": {},
   "outputs": [],
   "source": [
    "from sklearn.linear_model import LogisticRegression\n",
    "from sklearn.neighbors import KNeighborsClassifier\n",
    "\n",
    "# logistic regression\n",
    "model1 = LogisticRegression()\n",
    "# knn\n",
    "model2 = KNeighborsClassifier(n_neighbors=4)\n",
    "\n",
    "# fit model\n",
    "model1.fit(X_train, y_train)\n",
    "model2.fit(X_train, y_train)\n",
    "\n",
    "# predict probabilities\n",
    "pred_prob1 = model1.predict_proba(X_test)\n",
    "pred_prob2 = model2.predict_proba(X_test)"
   ]
  },
  {
   "cell_type": "code",
   "execution_count": null,
   "id": "4d95d20e",
   "metadata": {},
   "outputs": [],
   "source": [
    "from sklearn.ensemble import RandomForestClassifier\n",
    "rfc = RandomForestClassifier()\n",
    "from pprint import pprint\n",
    "pprint(\"paramètre actuellement utiliés : \\n\")\n",
    "pprint(rfc.get_params())\n",
    "rfc.fit(X_train, y_train)\n",
    "y_rfc = rfc.predict(X_test)\n",
    "pred_prob3 = rfc.predict_proba(X_test)"
   ]
  },
  {
   "cell_type": "markdown",
   "id": "6ca9a14e",
   "metadata": {},
   "source": [
    "# XGBoost Classifier"
   ]
  },
  {
   "cell_type": "code",
   "execution_count": null,
   "id": "25504f30",
   "metadata": {},
   "outputs": [],
   "source": [
    "from xgboost import XGBClassifier\n",
    "\n",
    "xgb = XGBClassifier(objective='binary:logistic')\n",
    "from pprint import pprint\n",
    "pprint(\"paramètre actuellement utiliés : \\n\")\n",
    "pprint(xgb.get_params())\n",
    "xgb.fit(X_train, y_train,eval_metric = \"logloss\",verbose=True)\n",
    "y_xgb = xgb.predict(X_test)\n",
    "pred_prob4 = xgb.predict_proba(X_test)"
   ]
  },
  {
   "cell_type": "markdown",
   "id": "6513f90a",
   "metadata": {},
   "source": [
    "# naive_bayes"
   ]
  },
  {
   "cell_type": "code",
   "execution_count": null,
   "id": "b72cc8c9",
   "metadata": {},
   "outputs": [],
   "source": [
    "from sklearn.naive_bayes import GaussianNB\n",
    "gnb = GaussianNB()\n",
    "from pprint import pprint\n",
    "pprint(\"paramètre actuellement utiliés : \\n\")\n",
    "pprint(gnb.get_params())\n",
    "gnb.fit(X_train, y_train)\n",
    "print(gnb.score(X_train, y_train))\n",
    "y_gnb = gnb.predict(X_test)\n",
    "pred_prob5 = gnb.predict_proba(X_test)\n",
    "from sklearn.metrics import classification_report\n",
    "print(classification_report(y_test,y_gnb,target_names = ['échec(Class 0)','succès (Class 1)']))"
   ]
  },
  {
   "cell_type": "code",
   "execution_count": null,
   "id": "71a324dd",
   "metadata": {},
   "outputs": [],
   "source": [
    "cm = confusion_matrix(y_test,gnb.predict(X_test))\n",
    "sns.heatmap(cm,annot=True,fmt=\"d\")"
   ]
  },
  {
   "cell_type": "markdown",
   "id": "29415543",
   "metadata": {},
   "source": [
    "# GradientBoostingClassifier"
   ]
  },
  {
   "cell_type": "code",
   "execution_count": null,
   "id": "eae970c9",
   "metadata": {},
   "outputs": [],
   "source": [
    "from sklearn.ensemble import GradientBoostingClassifier\n",
    "gbc = GradientBoostingClassifier()\n",
    "gbc.fit(X_train, y_train)\n",
    "print(gbc.score(X_train, y_train))\n",
    "y_gbc = gbc.predict(X_test)\n",
    "pred_prob6 = gbc.predict_proba(X_test)\n",
    "\n",
    "from sklearn.metrics import classification_report\n",
    "print(classification_report(y_test, y_gbc,target_names = ['échec(Class 0)','succès (Class 1)']))"
   ]
  },
  {
   "cell_type": "code",
   "execution_count": null,
   "id": "9b2c96c1",
   "metadata": {},
   "outputs": [],
   "source": [
    "cm = confusion_matrix(y_test,gbc.predict(X_test))\n",
    "sns.heatmap(cm,annot=True,fmt=\"d\")"
   ]
  },
  {
   "cell_type": "markdown",
   "id": "e12f930b",
   "metadata": {},
   "source": [
    "# LGBMClassifier"
   ]
  },
  {
   "cell_type": "code",
   "execution_count": null,
   "id": "6c7ec874",
   "metadata": {},
   "outputs": [],
   "source": [
    "#!pip install lightgbm"
   ]
  },
  {
   "cell_type": "code",
   "execution_count": null,
   "id": "e1102a34",
   "metadata": {},
   "outputs": [],
   "source": [
    "import lightgbm as lgb\n",
    "clf = lgb.LGBMClassifier()\n",
    "clf.fit(X_train, y_train)"
   ]
  },
  {
   "cell_type": "code",
   "execution_count": null,
   "id": "779fd921",
   "metadata": {},
   "outputs": [],
   "source": [
    "y_clf = clf.predict(X_test)\n",
    "pred_prob7 = clf.predict_proba(X_test)"
   ]
  },
  {
   "cell_type": "code",
   "execution_count": null,
   "id": "1395b2c0",
   "metadata": {},
   "outputs": [],
   "source": [
    "from sklearn.metrics import classification_report\n",
    "print(classification_report(y_test, y_clf,target_names = ['échec(Class 0)','succès (Class 1)']))"
   ]
  },
  {
   "cell_type": "markdown",
   "id": "99922ded",
   "metadata": {},
   "source": [
    "# CatBoostClassifier"
   ]
  },
  {
   "cell_type": "code",
   "execution_count": null,
   "id": "9729e65b",
   "metadata": {},
   "outputs": [],
   "source": [
    "#!pip install catboost"
   ]
  },
  {
   "cell_type": "code",
   "execution_count": null,
   "id": "995b5aa0",
   "metadata": {},
   "outputs": [],
   "source": [
    "from catboost import CatBoostClassifier\n",
    "\n",
    "model = CatBoostClassifier(iterations=2,\n",
    "                           learning_rate=1,\n",
    "                           depth=2)\n",
    "cat_features = [0, 1]\n",
    "# Fit model\n",
    "model.fit(X_train, y_train)\n",
    "# Get predicted classes\n",
    "preds_class = model.predict(X_test)\n",
    "# Get predicted probabilities for each class\n",
    "pred_prob8 = model.predict_proba(X_test)"
   ]
  },
  {
   "cell_type": "code",
   "execution_count": null,
   "id": "51d09b58",
   "metadata": {},
   "outputs": [],
   "source": [
    "from sklearn.metrics import classification_report\n",
    "print(classification_report(y_test, preds_class,target_names = ['échec(Class 0)','succès (Class 1)']))"
   ]
  },
  {
   "cell_type": "code",
   "execution_count": null,
   "id": "31123fc0",
   "metadata": {},
   "outputs": [],
   "source": [
    "from sklearn.metrics import roc_curve\n",
    "\n",
    "# roc curve for models\n",
    "fpr1, tpr1, thresh1 = roc_curve(y_test, pred_prob1[:,1], pos_label=1)\n",
    "fpr2, tpr2, thresh2 = roc_curve(y_test, pred_prob2[:,1], pos_label=1)\n",
    "fpr3, tpr3, thresh3 = roc_curve(y_test, pred_prob3[:,1], pos_label=1)\n",
    "fpr4, tpr4, thresh4 = roc_curve(y_test, pred_prob4[:,1], pos_label=1)\n",
    "fpr5, tpr5, thresh5 = roc_curve(y_test, pred_prob5[:,1], pos_label=1)\n",
    "fpr6, tpr6, thresh6 = roc_curve(y_test, pred_prob6[:,1], pos_label=1)\n",
    "fpr7, tpr7, thresh7 = roc_curve(y_test, pred_prob7[:,1], pos_label=1)\n",
    "fpr8, tpr8, thresh8 = roc_curve(y_test, pred_prob8[:,1], pos_label=1)\n",
    "\n",
    "\n",
    "# roc curve for tpr = fpr \n",
    "random_probs = [0 for i in range(len(y_test))]\n",
    "p_fpr, p_tpr, _ = roc_curve(y_test, random_probs, pos_label=1)"
   ]
  },
  {
   "cell_type": "code",
   "execution_count": null,
   "id": "bb176f5d",
   "metadata": {},
   "outputs": [],
   "source": [
    "from sklearn.metrics import roc_auc_score\n",
    "\n",
    "# auc scores\n",
    "auc_score1 = roc_auc_score(y_test, pred_prob1[:,1])\n",
    "auc_score2 = roc_auc_score(y_test, pred_prob2[:,1])\n",
    "auc_score3 = roc_auc_score(y_test, pred_prob3[:,1])\n",
    "auc_score4 = roc_auc_score(y_test, pred_prob4[:,1])\n",
    "auc_score5 = roc_auc_score(y_test, pred_prob5[:,1])\n",
    "auc_score6 = roc_auc_score(y_test, pred_prob6[:,1])\n",
    "auc_score7 = roc_auc_score(y_test, pred_prob7[:,1])\n",
    "auc_score8 = roc_auc_score(y_test, pred_prob8[:,1])\n",
    "\n",
    "\n",
    "print(auc_score1, auc_score2, auc_score3, auc_score4, auc_score5, auc_score6, auc_score7, auc_score8)"
   ]
  },
  {
   "cell_type": "code",
   "execution_count": null,
   "id": "37c3dba2",
   "metadata": {},
   "outputs": [],
   "source": [
    "\n",
    "# matplotlib\n",
    "import matplotlib.pyplot as plt\n",
    "plt.style.use('seaborn')\n",
    "\n",
    "# plot roc curves\n",
    "\n",
    "plt.plot(fpr1, tpr1, linestyle='--',color='orange', label='Logistic Regression')\n",
    "plt.plot(fpr2, tpr2, linestyle='--',color='green', label='KNN')\n",
    "plt.plot(fpr3, tpr3, linestyle = '--', color = 'purple', label = \"RandomForest Classifier\")\n",
    "plt.plot(fpr4, tpr4, linestyle = '--', color = 'yellow', label = \"XgBoost\")\n",
    "plt.plot(fpr5, tpr5, linestyle = '--', color = 'red', label = \"Naive Bayes\")\n",
    "plt.plot(fpr6, tpr6, linestyle = '--', color = 'pink', label = \"Gradient Boosting Classifier\")\n",
    "plt.plot(fpr6, tpr6, linestyle = '--', color = 'brown', label = \"LGBMClassifier\")\n",
    "plt.plot(fpr6, tpr6, linestyle = '--', color = 'black', label = \"CatBoostClassifier\")\n",
    "\n",
    "\n",
    "plt.plot(p_fpr, p_tpr, linestyle='--', color='blue')\n",
    "# title\n",
    "plt.title('ROC curve')\n",
    "# x label\n",
    "plt.xlabel('False Positive Rate')\n",
    "# y label\n",
    "plt.ylabel('True Positive rate')\n",
    "\n",
    "plt.legend(loc='best')\n",
    "plt.savefig('ROC',dpi=300)\n",
    "plt.show();"
   ]
  },
  {
   "cell_type": "code",
   "execution_count": null,
   "id": "356ce402",
   "metadata": {},
   "outputs": [],
   "source": [
    "from sklearn.metrics import accuracy_score\n",
    "print(\"Correct prediction: \", accuracy_score(y_test, knn.predict(X_test), normalize = False))\n",
    "print(\"Total Prediction : \",X.shape[0])"
   ]
  },
  {
   "cell_type": "code",
   "execution_count": null,
   "id": "cf80e641",
   "metadata": {},
   "outputs": [],
   "source": [
    "from sklearn.metrics import classification_report\n",
    "print(classification_report(y_test,y_lr,target_names = ['Echec(Class 0)','Succès (Class 1)']))\n",
    "cm = confusion_matrix(y_test,lr.predict(X_test))\n",
    "sns.heatmap(cm,annot=True,fmt=\"d\")"
   ]
  },
  {
   "cell_type": "code",
   "execution_count": null,
   "id": "a067d003",
   "metadata": {},
   "outputs": [],
   "source": [
    "from sklearn.metrics import classification_report\n",
    "print(classification_report(y_test, y_knn, target_names = ['échec(Class 0)','succès (Class 1)']))\n",
    "cm = confusion_matrix(y_test,knn.predict(X_test))\n",
    "sns.heatmap(cm,annot=True,fmt=\"d\")"
   ]
  },
  {
   "cell_type": "code",
   "execution_count": null,
   "id": "a533ee6f",
   "metadata": {},
   "outputs": [],
   "source": [
    "from sklearn.metrics import classification_report\n",
    "print(classification_report(y_test, y_rfc, target_names = ['échec(Class 0)','succès (Class 1)']))\n",
    "cm = confusion_matrix(y_test,rfc.predict(X_test))\n",
    "sns.heatmap(cm,annot=True,fmt=\"d\")"
   ]
  },
  {
   "cell_type": "code",
   "execution_count": null,
   "id": "06a01269",
   "metadata": {},
   "outputs": [],
   "source": [
    "from sklearn.metrics import classification_report\n",
    "print(classification_report(y_test, y_xgb, target_names = ['échec(Class 0)','succès (Class 1)']))\n",
    "cm = confusion_matrix(y_test, xgb.predict(X_test))\n",
    "sns.heatmap(cm,annot=True,fmt=\"d\")"
   ]
  },
  {
   "cell_type": "code",
   "execution_count": null,
   "id": "efd6e4c1",
   "metadata": {},
   "outputs": [],
   "source": [
    "# Encodage ==> One hot encoder"
   ]
  },
  {
   "cell_type": "code",
   "execution_count": null,
   "id": "bac38d8c",
   "metadata": {},
   "outputs": [],
   "source": [
    "X_train[[\"Region\", \"Departement\"]]"
   ]
  },
  {
   "cell_type": "code",
   "execution_count": null,
   "id": "91a8ec00",
   "metadata": {},
   "outputs": [],
   "source": []
  },
  {
   "cell_type": "markdown",
   "id": "498aefa9",
   "metadata": {},
   "source": [
    "# Wisdom of the crown"
   ]
  },
  {
   "cell_type": "raw",
   "id": "aba7e7de",
   "metadata": {},
   "source": [
    "Bagging, creer plusieurs copie d'un meme modele en entrainant chause copie sur une parie aleatoire du dataset\n",
    "== bootstraping == RandomForest\n",
    "entraienemnt en parallèle\n",
    "bon pour l'overfitting\n",
    "reduit la variance"
   ]
  },
  {
   "cell_type": "raw",
   "id": "cf229d0c",
   "metadata": {},
   "source": [
    "Boosting, entreainer different modèle faible et voir les erreurs faiblessse et les forces donc on ajoute a un modele faible un autre modele faible et il va apprendre de l'autre\n",
    "ada boost\n",
    "gradient boosting\n",
    "en serie\n",
    "reduit underfiting\n",
    "reduit le biais"
   ]
  },
  {
   "cell_type": "raw",
   "id": "bec75134",
   "metadata": {},
   "source": [
    "Stacking\n",
    "au lieu de rassembler les pred de chaque modele\n",
    "on delande a un dernier estimateur d'apprendre a predire le resulat final en fonction de ces prediction\n"
   ]
  },
  {
   "cell_type": "code",
   "execution_count": null,
   "id": "ff5e9f85",
   "metadata": {},
   "outputs": [],
   "source": [
    "from sklearn.linear_model import SGDClassifier\n",
    "from sklearn.tree import DecisionTreeClassifier\n",
    "from sklearn.neighbors import KNeighborsClassifier\n",
    "\n",
    "from sklearn.ensemble import VotingClassifier\n",
    "# hard \n",
    "# soft = meilleur quand model bien équilibré\n"
   ]
  },
  {
   "cell_type": "code",
   "execution_count": null,
   "id": "f2b0b0df",
   "metadata": {},
   "outputs": [],
   "source": [
    "model_1 = SGDClassifier(random_state = 0)\n",
    "model_2 = DecisionTreeClassifier(random_state=0)\n",
    "model_3 = KNeighborsClassifier(n_neighbors=2)\n",
    "\n",
    "model_4 = VotingClassifier([(\"SGD\", model_1),\n",
    "                            ('Tree', model_2),\n",
    "                            (\"Knn\", model_3)],\n",
    "                           voting = \"hard\" )\n",
    "\n",
    "for model in (model_1, model_2, model_3, model_4):\n",
    "    model.fit(X_train, y_train)\n",
    "    print(model.__class__.__name__, model.score(X_test, y_test))"
   ]
  },
  {
   "cell_type": "code",
   "execution_count": null,
   "id": "b360d5a4",
   "metadata": {},
   "outputs": [],
   "source": [
    "from sklearn.ensemble import BaggingClassifier, RandomForestClassifier"
   ]
  },
  {
   "cell_type": "code",
   "execution_count": null,
   "id": "50c8c4e1",
   "metadata": {},
   "outputs": [],
   "source": [
    "model = BaggingClassifier(base_estimator = KNeighborsClassifier(),\n",
    "                         n_estimators = 100)"
   ]
  },
  {
   "cell_type": "code",
   "execution_count": null,
   "id": "636446c2",
   "metadata": {},
   "outputs": [],
   "source": []
  }
 ],
 "metadata": {
  "kernelspec": {
   "display_name": "Python 3 (ipykernel)",
   "language": "python",
   "name": "python3"
  },
  "language_info": {
   "codemirror_mode": {
    "name": "ipython",
    "version": 3
   },
   "file_extension": ".py",
   "mimetype": "text/x-python",
   "name": "python",
   "nbconvert_exporter": "python",
   "pygments_lexer": "ipython3",
   "version": "3.8.12"
  }
 },
 "nbformat": 4,
 "nbformat_minor": 5
}
