{
 "cells": [
  {
   "cell_type": "code",
   "execution_count": 1,
   "id": "3b4d1cee",
   "metadata": {},
   "outputs": [
    {
     "name": "stderr",
     "output_type": "stream",
     "text": [
      "C:\\anaconda3\\lib\\site-packages\\numpy\\_distributor_init.py:30: UserWarning: loaded more than 1 DLL from .libs:\n",
      "C:\\anaconda3\\lib\\site-packages\\numpy\\.libs\\libopenblas.PYQHXLVVQ7VESDPUVUADXEVJOBGHJPAY.gfortran-win_amd64.dll\n",
      "C:\\anaconda3\\lib\\site-packages\\numpy\\.libs\\libopenblas.QVLO2T66WEPI7JZ63PS3HMOHFEY472BC.gfortran-win_amd64.dll\n",
      "  warnings.warn(\"loaded more than 1 DLL from .libs:\\n%s\" %\n"
     ]
    }
   ],
   "source": [
    "import pandas as pd\n",
    "pd.set_option('display.max_columns', None)\n",
    "\n",
    "import numpy as np\n",
    "import scipy.stats as stat\n",
    "import scipy as sp\n",
    "import statistics\n",
    "\n",
    "import matplotlib.pyplot as plt\n",
    "from matplotlib import pyplot\n",
    "%matplotlib inline\n",
    "from mpl_toolkits.mplot3d import Axes3D\n",
    "from matplotlib import cm\n",
    "import seaborn as sns\n",
    "\n",
    "#import warnings\n",
    "#warnings.filterwarnings('ignore')\n",
    "\n",
    "# Modèle de ML\n",
    "from sklearn import linear_model\n",
    "\n",
    "# data pre-processing\n",
    "from sklearn import preprocessing\n",
    "from sklearn.model_selection import train_test_split\n",
    "\n",
    "# Outils score et evaluation de modèle\n",
    "from sklearn.metrics import accuracy_score\n",
    "from sklearn import metrics\n",
    "from sklearn.metrics import classification_report\n",
    "from sklearn.metrics import confusion_matrix\n",
    "\n",
    "from sklearn.metrics import r2_score\n",
    "\n",
    "# Outils optmisation de modèle\n",
    "from sklearn.model_selection import GridSearchCV\n",
    "from sklearn.model_selection import StratifiedKFold"
   ]
  },
  {
   "cell_type": "code",
   "execution_count": 2,
   "id": "181524ed",
   "metadata": {},
   "outputs": [
    {
     "data": {
      "text/html": [
       "<div>\n",
       "<style scoped>\n",
       "    .dataframe tbody tr th:only-of-type {\n",
       "        vertical-align: middle;\n",
       "    }\n",
       "\n",
       "    .dataframe tbody tr th {\n",
       "        vertical-align: top;\n",
       "    }\n",
       "\n",
       "    .dataframe thead th {\n",
       "        text-align: right;\n",
       "    }\n",
       "</style>\n",
       "<table border=\"1\" class=\"dataframe\">\n",
       "  <thead>\n",
       "    <tr style=\"text-align: right;\">\n",
       "      <th></th>\n",
       "      <th>MandatId</th>\n",
       "      <th>DateCreation</th>\n",
       "      <th>BienMandatId</th>\n",
       "      <th>Statut</th>\n",
       "      <th>DescriptionBien_DateOffreAcceptee</th>\n",
       "      <th>Origine_DateCollecte</th>\n",
       "      <th>CritereId</th>\n",
       "      <th>SurfaceMin</th>\n",
       "      <th>NombrePiecesEnum</th>\n",
       "      <th>NombreChambresEnum</th>\n",
       "      <th>Departement_LocalisationId</th>\n",
       "      <th>Region_LocalisationId</th>\n",
       "      <th>LocalisationId</th>\n",
       "      <th>StatutMandat</th>\n",
       "      <th>TypeMission</th>\n",
       "      <th>TypeBien</th>\n",
       "      <th>TypeProjet</th>\n",
       "      <th>BudgetMaxEuro</th>\n",
       "      <th>CodePostal</th>\n",
       "      <th>Ville</th>\n",
       "      <th>Departement</th>\n",
       "      <th>Region</th>\n",
       "      <th>Succes</th>\n",
       "    </tr>\n",
       "  </thead>\n",
       "  <tbody>\n",
       "    <tr>\n",
       "      <th>0</th>\n",
       "      <td>9049</td>\n",
       "      <td>2015-03-30</td>\n",
       "      <td>24579</td>\n",
       "      <td>1</td>\n",
       "      <td>0001-01-01</td>\n",
       "      <td>0001-01-01</td>\n",
       "      <td>9051</td>\n",
       "      <td>30</td>\n",
       "      <td>2</td>\n",
       "      <td>1</td>\n",
       "      <td>121</td>\n",
       "      <td>27</td>\n",
       "      <td>129</td>\n",
       "      <td>9</td>\n",
       "      <td>2</td>\n",
       "      <td>2</td>\n",
       "      <td>0</td>\n",
       "      <td>250000</td>\n",
       "      <td>1000</td>\n",
       "      <td>Bourg En Bresse</td>\n",
       "      <td>Ain</td>\n",
       "      <td>Rhône-Alpes</td>\n",
       "      <td>0</td>\n",
       "    </tr>\n",
       "    <tr>\n",
       "      <th>1</th>\n",
       "      <td>9049</td>\n",
       "      <td>2015-03-30</td>\n",
       "      <td>24580</td>\n",
       "      <td>0</td>\n",
       "      <td>0001-01-01</td>\n",
       "      <td>0001-01-01</td>\n",
       "      <td>9051</td>\n",
       "      <td>30</td>\n",
       "      <td>2</td>\n",
       "      <td>1</td>\n",
       "      <td>121</td>\n",
       "      <td>27</td>\n",
       "      <td>129</td>\n",
       "      <td>9</td>\n",
       "      <td>2</td>\n",
       "      <td>2</td>\n",
       "      <td>0</td>\n",
       "      <td>250000</td>\n",
       "      <td>1000</td>\n",
       "      <td>Bourg En Bresse</td>\n",
       "      <td>Ain</td>\n",
       "      <td>Rhône-Alpes</td>\n",
       "      <td>0</td>\n",
       "    </tr>\n",
       "    <tr>\n",
       "      <th>2</th>\n",
       "      <td>9049</td>\n",
       "      <td>2015-03-30</td>\n",
       "      <td>24582</td>\n",
       "      <td>1</td>\n",
       "      <td>0001-01-01</td>\n",
       "      <td>0001-01-01</td>\n",
       "      <td>9051</td>\n",
       "      <td>30</td>\n",
       "      <td>2</td>\n",
       "      <td>1</td>\n",
       "      <td>121</td>\n",
       "      <td>27</td>\n",
       "      <td>129</td>\n",
       "      <td>9</td>\n",
       "      <td>2</td>\n",
       "      <td>2</td>\n",
       "      <td>0</td>\n",
       "      <td>250000</td>\n",
       "      <td>1000</td>\n",
       "      <td>Bourg En Bresse</td>\n",
       "      <td>Ain</td>\n",
       "      <td>Rhône-Alpes</td>\n",
       "      <td>0</td>\n",
       "    </tr>\n",
       "    <tr>\n",
       "      <th>3</th>\n",
       "      <td>9049</td>\n",
       "      <td>2015-03-30</td>\n",
       "      <td>24583</td>\n",
       "      <td>0</td>\n",
       "      <td>0001-01-01</td>\n",
       "      <td>0001-01-01</td>\n",
       "      <td>9051</td>\n",
       "      <td>30</td>\n",
       "      <td>2</td>\n",
       "      <td>1</td>\n",
       "      <td>121</td>\n",
       "      <td>27</td>\n",
       "      <td>129</td>\n",
       "      <td>9</td>\n",
       "      <td>2</td>\n",
       "      <td>2</td>\n",
       "      <td>0</td>\n",
       "      <td>250000</td>\n",
       "      <td>1000</td>\n",
       "      <td>Bourg En Bresse</td>\n",
       "      <td>Ain</td>\n",
       "      <td>Rhône-Alpes</td>\n",
       "      <td>0</td>\n",
       "    </tr>\n",
       "    <tr>\n",
       "      <th>4</th>\n",
       "      <td>9049</td>\n",
       "      <td>2015-03-30</td>\n",
       "      <td>24584</td>\n",
       "      <td>7</td>\n",
       "      <td>0001-01-01</td>\n",
       "      <td>0001-01-01</td>\n",
       "      <td>9051</td>\n",
       "      <td>30</td>\n",
       "      <td>2</td>\n",
       "      <td>1</td>\n",
       "      <td>121</td>\n",
       "      <td>27</td>\n",
       "      <td>129</td>\n",
       "      <td>9</td>\n",
       "      <td>2</td>\n",
       "      <td>2</td>\n",
       "      <td>0</td>\n",
       "      <td>250000</td>\n",
       "      <td>1000</td>\n",
       "      <td>Bourg En Bresse</td>\n",
       "      <td>Ain</td>\n",
       "      <td>Rhône-Alpes</td>\n",
       "      <td>0</td>\n",
       "    </tr>\n",
       "  </tbody>\n",
       "</table>\n",
       "</div>"
      ],
      "text/plain": [
       "   MandatId DateCreation  BienMandatId  Statut  \\\n",
       "0      9049   2015-03-30         24579       1   \n",
       "1      9049   2015-03-30         24580       0   \n",
       "2      9049   2015-03-30         24582       1   \n",
       "3      9049   2015-03-30         24583       0   \n",
       "4      9049   2015-03-30         24584       7   \n",
       "\n",
       "  DescriptionBien_DateOffreAcceptee Origine_DateCollecte  CritereId  \\\n",
       "0                        0001-01-01           0001-01-01       9051   \n",
       "1                        0001-01-01           0001-01-01       9051   \n",
       "2                        0001-01-01           0001-01-01       9051   \n",
       "3                        0001-01-01           0001-01-01       9051   \n",
       "4                        0001-01-01           0001-01-01       9051   \n",
       "\n",
       "   SurfaceMin  NombrePiecesEnum  NombreChambresEnum  \\\n",
       "0          30                 2                   1   \n",
       "1          30                 2                   1   \n",
       "2          30                 2                   1   \n",
       "3          30                 2                   1   \n",
       "4          30                 2                   1   \n",
       "\n",
       "   Departement_LocalisationId  Region_LocalisationId  LocalisationId  \\\n",
       "0                         121                     27             129   \n",
       "1                         121                     27             129   \n",
       "2                         121                     27             129   \n",
       "3                         121                     27             129   \n",
       "4                         121                     27             129   \n",
       "\n",
       "   StatutMandat  TypeMission  TypeBien  TypeProjet  BudgetMaxEuro  CodePostal  \\\n",
       "0             9            2         2           0         250000        1000   \n",
       "1             9            2         2           0         250000        1000   \n",
       "2             9            2         2           0         250000        1000   \n",
       "3             9            2         2           0         250000        1000   \n",
       "4             9            2         2           0         250000        1000   \n",
       "\n",
       "             Ville Departement       Region  Succes  \n",
       "0  Bourg En Bresse         Ain  Rhône-Alpes       0  \n",
       "1  Bourg En Bresse         Ain  Rhône-Alpes       0  \n",
       "2  Bourg En Bresse         Ain  Rhône-Alpes       0  \n",
       "3  Bourg En Bresse         Ain  Rhône-Alpes       0  \n",
       "4  Bourg En Bresse         Ain  Rhône-Alpes       0  "
      ]
     },
     "execution_count": 2,
     "metadata": {},
     "output_type": "execute_result"
    }
   ],
   "source": [
    "df = pd.read_csv('Result_final_1.csv')\n",
    "df = df.drop(\"Unnamed: 0\", axis = 1)\n",
    "df.head()"
   ]
  },
  {
   "cell_type": "code",
   "execution_count": 3,
   "id": "b0b84c6d",
   "metadata": {},
   "outputs": [
    {
     "name": "stdout",
     "output_type": "stream",
     "text": [
      "<class 'pandas.core.frame.DataFrame'>\n",
      "RangeIndex: 1743257 entries, 0 to 1743256\n",
      "Data columns (total 23 columns):\n",
      " #   Column                             Dtype \n",
      "---  ------                             ----- \n",
      " 0   MandatId                           int64 \n",
      " 1   DateCreation                       object\n",
      " 2   BienMandatId                       int64 \n",
      " 3   Statut                             int64 \n",
      " 4   DescriptionBien_DateOffreAcceptee  object\n",
      " 5   Origine_DateCollecte               object\n",
      " 6   CritereId                          int64 \n",
      " 7   SurfaceMin                         int64 \n",
      " 8   NombrePiecesEnum                   int64 \n",
      " 9   NombreChambresEnum                 int64 \n",
      " 10  Departement_LocalisationId         int64 \n",
      " 11  Region_LocalisationId              int64 \n",
      " 12  LocalisationId                     int64 \n",
      " 13  StatutMandat                       int64 \n",
      " 14  TypeMission                        int64 \n",
      " 15  TypeBien                           int64 \n",
      " 16  TypeProjet                         int64 \n",
      " 17  BudgetMaxEuro                      int64 \n",
      " 18  CodePostal                         int64 \n",
      " 19  Ville                              object\n",
      " 20  Departement                        object\n",
      " 21  Region                             object\n",
      " 22  Succes                             int64 \n",
      "dtypes: int64(17), object(6)\n",
      "memory usage: 305.9+ MB\n"
     ]
    }
   ],
   "source": [
    "df.info()"
   ]
  },
  {
   "cell_type": "code",
   "execution_count": 4,
   "id": "56411ab5",
   "metadata": {},
   "outputs": [],
   "source": [
    "df.drop([\"MandatId\", \"BienMandatId\",\"CritereId\",\"Statut\",\"StatutMandat\",\"DateCreation\", \"DescriptionBien_DateOffreAcceptee\",\"Origine_DateCollecte\", \"Departement_LocalisationId\", \"Region_LocalisationId\", \"LocalisationId\"], axis = 1, inplace = True)"
   ]
  },
  {
   "cell_type": "code",
   "execution_count": 5,
   "id": "1bfed063",
   "metadata": {},
   "outputs": [
    {
     "name": "stdout",
     "output_type": "stream",
     "text": [
      "<class 'pandas.core.frame.DataFrame'>\n",
      "RangeIndex: 1743257 entries, 0 to 1743256\n",
      "Data columns (total 12 columns):\n",
      " #   Column              Dtype \n",
      "---  ------              ----- \n",
      " 0   SurfaceMin          int64 \n",
      " 1   NombrePiecesEnum    int64 \n",
      " 2   NombreChambresEnum  int64 \n",
      " 3   TypeMission         int64 \n",
      " 4   TypeBien            int64 \n",
      " 5   TypeProjet          int64 \n",
      " 6   BudgetMaxEuro       int64 \n",
      " 7   CodePostal          int64 \n",
      " 8   Ville               object\n",
      " 9   Departement         object\n",
      " 10  Region              object\n",
      " 11  Succes              int64 \n",
      "dtypes: int64(9), object(3)\n",
      "memory usage: 159.6+ MB\n"
     ]
    }
   ],
   "source": [
    "df.info()"
   ]
  },
  {
   "cell_type": "code",
   "execution_count": 6,
   "id": "0f7c65ab",
   "metadata": {},
   "outputs": [],
   "source": [
    "X =df.drop([\"Succes\", \"Ville\", \"Departement\", \"Region\"], axis = 1)"
   ]
  },
  {
   "cell_type": "code",
   "execution_count": 7,
   "id": "b9966d16",
   "metadata": {},
   "outputs": [],
   "source": [
    "y = df['Succes']"
   ]
  },
  {
   "cell_type": "code",
   "execution_count": 8,
   "id": "7e416e2d",
   "metadata": {},
   "outputs": [],
   "source": [
    "X_train, X_test, y_train, y_test = train_test_split(X, y, test_size=0.25, random_state=42)"
   ]
  },
  {
   "cell_type": "code",
   "execution_count": 9,
   "id": "a0027962",
   "metadata": {},
   "outputs": [
    {
     "data": {
      "text/plain": [
       "Index(['SurfaceMin', 'NombrePiecesEnum', 'NombreChambresEnum', 'TypeMission',\n",
       "       'TypeBien', 'TypeProjet', 'BudgetMaxEuro', 'CodePostal'],\n",
       "      dtype='object')"
      ]
     },
     "execution_count": 9,
     "metadata": {},
     "output_type": "execute_result"
    }
   ],
   "source": [
    "X_train.columns"
   ]
  },
  {
   "cell_type": "code",
   "execution_count": 10,
   "id": "e0692399",
   "metadata": {},
   "outputs": [],
   "source": [
    "from sklearn.preprocessing import StandardScaler\n",
    "scaler = StandardScaler()\n",
    "X_train = scaler.fit_transform(X_train)\n",
    "X_test = scaler.transform(X_test)"
   ]
  },
  {
   "cell_type": "markdown",
   "id": "8c6a48b6",
   "metadata": {},
   "source": [
    "# LightGBMClassifier"
   ]
  },
  {
   "cell_type": "code",
   "execution_count": 16,
   "id": "0e0143b2",
   "metadata": {},
   "outputs": [
    {
     "data": {
      "text/plain": [
       "LGBMClassifier()"
      ]
     },
     "execution_count": 16,
     "metadata": {},
     "output_type": "execute_result"
    }
   ],
   "source": [
    "import lightgbm as lgb\n",
    "clf = lgb.LGBMClassifier()\n",
    "clf.fit(X_train, y_train)"
   ]
  },
  {
   "cell_type": "code",
   "execution_count": 17,
   "id": "7d0dce84",
   "metadata": {},
   "outputs": [],
   "source": [
    "y_clf = clf.predict(X_test)"
   ]
  },
  {
   "cell_type": "code",
   "execution_count": 18,
   "id": "7af42d76",
   "metadata": {},
   "outputs": [
    {
     "name": "stdout",
     "output_type": "stream",
     "text": [
      "                  precision    recall  f1-score   support\n",
      "\n",
      "  Echec(Class 0)       0.80      0.95      0.87    272997\n",
      "Succès (Class 1)       0.88      0.61      0.72    162818\n",
      "\n",
      "        accuracy                           0.82    435815\n",
      "       macro avg       0.84      0.78      0.80    435815\n",
      "    weighted avg       0.83      0.82      0.81    435815\n",
      "\n"
     ]
    }
   ],
   "source": [
    "from sklearn.metrics import classification_report\n",
    "print(classification_report(y_test,y_clf,target_names = ['Echec(Class 0)','Succès (Class 1)']))"
   ]
  },
  {
   "cell_type": "code",
   "execution_count": 19,
   "id": "cb6506b9",
   "metadata": {},
   "outputs": [
    {
     "data": {
      "text/plain": [
       "<AxesSubplot:>"
      ]
     },
     "execution_count": 19,
     "metadata": {},
     "output_type": "execute_result"
    },
    {
     "data": {
      "image/png": "[encoded data removed]",
      "text/plain": [
       "<Figure size 432x288 with 2 Axes>"
      ]
     },
     "metadata": {
      "needs_background": "light"
     },
     "output_type": "display_data"
    }
   ],
   "source": [
    "cm = confusion_matrix(y_test,clf.predict(X_test))\n",
    "sns.heatmap(cm,annot=True,fmt=\"d\")"
   ]
  },
  {
   "cell_type": "code",
   "execution_count": 20,
   "id": "e6846e29",
   "metadata": {},
   "outputs": [
    {
     "data": {
      "image/png": "[encoded data removed]",
      "text/plain": [
       "<Figure size 432x288 with 1 Axes>"
      ]
     },
     "metadata": {
      "needs_background": "light"
     },
     "output_type": "display_data"
    }
   ],
   "source": [
    "from sklearn.metrics import plot_roc_curve\n",
    "plot_roc_curve(clf, X_train,y_train )\n",
    "plt.plot([0,1],[0,1])\n",
    "plt.xlabel('false positive')\n",
    "plt.ylabel('true positve')\n",
    "plt.title('ROC curve LGBMClassifier')\n",
    "plt.show()"
   ]
  },
  {
   "cell_type": "markdown",
   "id": "dcb5ee39",
   "metadata": {},
   "source": [
    "# XGBClassifier"
   ]
  },
  {
   "cell_type": "code",
   "execution_count": 21,
   "id": "8a3b8906",
   "metadata": {},
   "outputs": [
    {
     "data": {
      "text/plain": [
       "XGBClassifier(base_score=0.5, booster='gbtree', colsample_bylevel=1,\n",
       "              colsample_bynode=1, colsample_bytree=1, gamma=0, gpu_id=-1,\n",
       "              importance_type='gain', interaction_constraints='',\n",
       "              learning_rate=0.300000012, max_delta_step=0, max_depth=6,\n",
       "              min_child_weight=1, missing=nan, monotone_constraints='()',\n",
       "              n_estimators=100, n_jobs=0, num_parallel_tree=1, random_state=0,\n",
       "              reg_alpha=0, reg_lambda=1, scale_pos_weight=1, subsample=1,\n",
       "              tree_method='exact', validate_parameters=1, verbosity=None)"
      ]
     },
     "execution_count": 21,
     "metadata": {},
     "output_type": "execute_result"
    }
   ],
   "source": [
    "from xgboost import XGBClassifier\n",
    "xgb = XGBClassifier(objective='binary:logistic')\n",
    "xgb.fit(X_train, y_train,eval_metric = \"logloss\",verbose=True)"
   ]
  },
  {
   "cell_type": "code",
   "execution_count": 22,
   "id": "65063738",
   "metadata": {},
   "outputs": [],
   "source": [
    "y_xgb = xgb.predict(X_test)"
   ]
  },
  {
   "cell_type": "code",
   "execution_count": 23,
   "id": "c571a378",
   "metadata": {},
   "outputs": [
    {
     "name": "stdout",
     "output_type": "stream",
     "text": [
      "                  precision    recall  f1-score   support\n",
      "\n",
      "  Echec(Class 0)       0.88      0.94      0.91    272997\n",
      "Succès (Class 1)       0.89      0.79      0.84    162818\n",
      "\n",
      "        accuracy                           0.88    435815\n",
      "       macro avg       0.89      0.87      0.87    435815\n",
      "    weighted avg       0.89      0.88      0.88    435815\n",
      "\n"
     ]
    }
   ],
   "source": [
    "from sklearn.metrics import classification_report\n",
    "print(classification_report(y_test,y_xgb,target_names = ['Echec(Class 0)','Succès (Class 1)']))"
   ]
  },
  {
   "cell_type": "code",
   "execution_count": 24,
   "id": "f4f8856d",
   "metadata": {},
   "outputs": [
    {
     "data": {
      "text/plain": [
       "<AxesSubplot:>"
      ]
     },
     "execution_count": 24,
     "metadata": {},
     "output_type": "execute_result"
    },
    {
     "data": {
      "image/png": "[encoded data removed]",
      "text/plain": [
       "<Figure size 432x288 with 2 Axes>"
      ]
     },
     "metadata": {
      "needs_background": "light"
     },
     "output_type": "display_data"
    }
   ],
   "source": [
    "cm = confusion_matrix(y_test,xgb.predict(X_test))\n",
    "sns.heatmap(cm,annot=True,fmt=\"d\")"
   ]
  },
  {
   "cell_type": "code",
   "execution_count": 25,
   "id": "adb23f96",
   "metadata": {},
   "outputs": [
    {
     "data": {
      "image/png": "[encoded data removed]",
      "text/plain": [
       "<Figure size 432x288 with 1 Axes>"
      ]
     },
     "metadata": {
      "needs_background": "light"
     },
     "output_type": "display_data"
    }
   ],
   "source": [
    "from sklearn.metrics import plot_roc_curve\n",
    "plot_roc_curve(xgb, X_train,y_train )\n",
    "plt.plot([0,1],[0,1])\n",
    "plt.xlabel('false positive')\n",
    "plt.ylabel('true positve')\n",
    "plt.title('ROC curve XGBClassifier')\n",
    "plt.show()"
   ]
  },
  {
   "cell_type": "markdown",
   "id": "1ff3a5b3",
   "metadata": {},
   "source": [
    "# Xgboost + RandomSizeSearchCv"
   ]
  },
  {
   "cell_type": "code",
   "execution_count": null,
   "id": "30b8a8ca",
   "metadata": {},
   "outputs": [],
   "source": [
    "from sklearn.metrics import classification_report, confusion_matrix\n",
    "from sklearn.model_selection import RandomizedSearchCV\n",
    "import xgboost\n",
    "#Hyper parameter optimization\n",
    "params={\n",
    "   \"learning_rate\": [0.05, 0.10, 0.15, 0.20, 0.25, 0.30],\n",
    "    \"max_depth\": [5,6,7,8,9,10,11,12,13,14,15,16,17,18,19,20],\n",
    "    \"min_child_weight\": [1,3,5,7,9],\n",
    "    \"gamma\": [0.0, 0.1, 0.2, 0.3, 0.4],\n",
    "    \"colsample_bytree\": [0.3, 0.4, 0.5, 0.6, 0.7]\n",
    "}\n",
    "\n",
    "classifier=xgboost.XGBClassifier()\n",
    "random_search=RandomizedSearchCV(classifier, param_distributions=params, n_iter=5, n_jobs=-1, cv=5, verbose=0)\n",
    "\n",
    "random_search.fit(X_train, y_train)\n",
    "random_search.best_estimator_"
   ]
  },
  {
   "cell_type": "code",
   "execution_count": null,
   "id": "f7e23354",
   "metadata": {},
   "outputs": [],
   "source": [
    "#Build a model using the optimized hyperparameters\n",
    "classifier=xgboost.XGBClassifier(base_score=0.5, booster='gbtree', colsample_bylevel=1,\n",
    "              colsample_bynode=1, colsample_bytree=0.5,\n",
    "              gamma=0.2, gpu_id=-1,\n",
    "              importance_type='gain', interaction_constraints='',\n",
    "              learning_rate=0.25, max_delta_step=0, max_depth=19,\n",
    "              min_child_weight=7,monotone_constraints='()',\n",
    "              n_estimators=100, n_jobs=0, num_parallel_tree=1, predictor='auto',\n",
    "              random_state=0, reg_alpha=0, reg_lambda=1, scale_pos_weight=1,\n",
    "              subsample=1, tree_method='exact', validate_parameters=1,\n",
    "              verbosity=None)\n",
    "classifier.fit(X_train, y_train)"
   ]
  },
  {
   "cell_type": "code",
   "execution_count": null,
   "id": "17d9fce4",
   "metadata": {},
   "outputs": [],
   "source": [
    "from sklearn.metrics import confusion_matrix\n",
    "y_pred = classifier.predict(X_test)\n",
    "print(confusion_matrix(y_test, y_pred))"
   ]
  },
  {
   "cell_type": "code",
   "execution_count": null,
   "id": "cda954b4",
   "metadata": {},
   "outputs": [],
   "source": [
    "cm = confusion_matrix(y_test,classifier.predict(X_test))\n",
    "sns.heatmap(cm,annot=True,fmt=\"d\")"
   ]
  },
  {
   "cell_type": "code",
   "execution_count": null,
   "id": "1c80dfb2",
   "metadata": {},
   "outputs": [],
   "source": [
    "from sklearn.metrics import accuracy_score, classification_report\n",
    "print(accuracy_score(y_test, y_pred))"
   ]
  },
  {
   "cell_type": "code",
   "execution_count": null,
   "id": "56b2c08d",
   "metadata": {},
   "outputs": [],
   "source": [
    "print(classification_report(y_test, y_pred))"
   ]
  },
  {
   "cell_type": "code",
   "execution_count": null,
   "id": "ef86317b",
   "metadata": {},
   "outputs": [],
   "source": [
    "from sklearn.metrics import plot_roc_curve\n",
    "plot_roc_curve(classifier, X_train,y_train )\n",
    "plt.plot([0,1],[0,1])\n",
    "plt.xlabel('false positive')\n",
    "plt.ylabel('true positve')\n",
    "plt.title('ROC curve XGBClassifier')\n",
    "plt.show()"
   ]
  },
  {
   "cell_type": "markdown",
   "id": "e4112f9f",
   "metadata": {},
   "source": [
    "# XGBoost + GridSearchCV"
   ]
  },
  {
   "cell_type": "code",
   "execution_count": null,
   "id": "9b061469",
   "metadata": {},
   "outputs": [],
   "source": [
    "from sklearn.metrics import classification_report, confusion_matrix\n",
    "from sklearn.model_selection import GridSearchCV\n",
    "import xgboost\n",
    "#Hyper parameter optimization\n",
    "params={\n",
    "   \"learning_rate\": [0.05, 0.10],\n",
    "    \"max_depth\": [5,6,7,8]\n",
    "}\n",
    "\n",
    "classifier=xgboost.XGBClassifier()\n",
    "GCV=GridSearchCV(classifier, params)\n",
    "\n",
    "GCV.fit(X_train, y_train)\n",
    "GCV.best_estimator_"
   ]
  },
  {
   "cell_type": "code",
   "execution_count": null,
   "id": "fc1e90dc",
   "metadata": {},
   "outputs": [],
   "source": [
    "classifier2 = xgboost.XGBClassifier(base_score=0.5, booster='gbtree', colsample_bylevel=1,\n",
    "              colsample_bynode=1, colsample_bytree=1, gamma=0, gpu_id=-1,\n",
    "              importance_type='gain', interaction_constraints='',\n",
    "              learning_rate=0.1, max_delta_step=0, max_depth=8,\n",
    "              min_child_weight=1, monotone_constraints='()',\n",
    "              n_estimators=100, n_jobs=0, num_parallel_tree=1, random_state=0,\n",
    "              reg_alpha=0, reg_lambda=1, scale_pos_weight=1, subsample=1,\n",
    "              tree_method='exact', validate_parameters=1, verbosity=None)\n",
    "classifier2.fit(X_train, y_train)"
   ]
  },
  {
   "cell_type": "code",
   "execution_count": null,
   "id": "009b6f3c",
   "metadata": {},
   "outputs": [],
   "source": [
    "from sklearn.metrics import confusion_matrix\n",
    "y_pred = classifier2.predict(X_test)\n",
    "print(confusion_matrix(y_test, y_pred))"
   ]
  },
  {
   "cell_type": "code",
   "execution_count": null,
   "id": "f701bd3c",
   "metadata": {},
   "outputs": [],
   "source": [
    "cm = confusion_matrix(y_test,classifier2.predict(X_test))\n",
    "sns.heatmap(cm,annot=True,fmt=\"d\")"
   ]
  },
  {
   "cell_type": "code",
   "execution_count": null,
   "id": "6f66f29e",
   "metadata": {},
   "outputs": [],
   "source": [
    "from sklearn.metrics import accuracy_score, classification_report\n",
    "print(accuracy_score(y_test, y_pred))"
   ]
  },
  {
   "cell_type": "code",
   "execution_count": null,
   "id": "55673daf",
   "metadata": {},
   "outputs": [],
   "source": [
    "print(classification_report(y_test, y_pred))"
   ]
  },
  {
   "cell_type": "code",
   "execution_count": null,
   "id": "4929c896",
   "metadata": {},
   "outputs": [],
   "source": [
    "X.columns"
   ]
  },
  {
   "cell_type": "code",
   "execution_count": null,
   "id": "5b875472",
   "metadata": {},
   "outputs": [],
   "source": [
    "classifier2.feature_importances_"
   ]
  },
  {
   "cell_type": "code",
   "execution_count": null,
   "id": "733a5595",
   "metadata": {},
   "outputs": [],
   "source": [
    "from xgboost import plot_importance\n",
    "plot_importance(classifier2, )"
   ]
  },
  {
   "cell_type": "code",
   "execution_count": null,
   "id": "5e99f72f",
   "metadata": {},
   "outputs": [],
   "source": [
    "xgb.to_graphviz(boost, num_trees=2)"
   ]
  },
  {
   "cell_type": "code",
   "execution_count": null,
   "id": "688e48fe",
   "metadata": {},
   "outputs": [],
   "source": [
    "classifier2.plot_importance(boost)"
   ]
  },
  {
   "cell_type": "code",
   "execution_count": null,
   "id": "7ff782f3",
   "metadata": {},
   "outputs": [],
   "source": []
  },
  {
   "cell_type": "code",
   "execution_count": 11,
   "id": "0ba684f2",
   "metadata": {},
   "outputs": [
    {
     "name": "stderr",
     "output_type": "stream",
     "text": [
      "C:\\Users\\Lou Doussiet\\AppData\\Roaming\\Python\\Python38\\site-packages\\xgboost\\compat.py:93: FutureWarning: pandas.Int64Index is deprecated and will be removed from pandas in a future version. Use pandas.Index with the appropriate dtype instead.\n",
      "  from pandas import MultiIndex, Int64Index\n"
     ]
    },
    {
     "data": {
      "text/plain": [
       "XGBClassifier(base_score=0.5, booster='gbtree', colsample_bylevel=1,\n",
       "              colsample_bynode=1, colsample_bytree=1, gamma=0, gpu_id=-1,\n",
       "              importance_type='gain', interaction_constraints='',\n",
       "              learning_rate=0.2, max_delta_step=0, max_depth=11,\n",
       "              min_child_weight=1, missing=nan, monotone_constraints='()',\n",
       "              n_estimators=100, n_jobs=0, num_parallel_tree=1, random_state=0,\n",
       "              reg_alpha=0, reg_lambda=1, scale_pos_weight=1, subsample=1,\n",
       "              tree_method='exact', validate_parameters=1, verbosity=None)"
      ]
     },
     "execution_count": 11,
     "metadata": {},
     "output_type": "execute_result"
    }
   ],
   "source": [
    "from sklearn.metrics import classification_report, confusion_matrix\n",
    "from sklearn.model_selection import GridSearchCV\n",
    "import xgboost\n",
    "#Hyper parameter optimization\n",
    "params={\n",
    "   \"learning_rate\": [0.1, 0.15, 0.2],\n",
    "    \"max_depth\": [8,9,10,11]\n",
    "}\n",
    "\n",
    "classifier3=xgboost.XGBClassifier()\n",
    "GCV=GridSearchCV(classifier3, params)\n",
    "\n",
    "GCV.fit(X_train, y_train)\n",
    "GCV.best_estimator_"
   ]
  },
  {
   "cell_type": "code",
   "execution_count": 12,
   "id": "8777cfad",
   "metadata": {},
   "outputs": [],
   "source": [
    "y_pred2 = GCV.predict(X_test)"
   ]
  },
  {
   "cell_type": "code",
   "execution_count": 13,
   "id": "066067bd",
   "metadata": {},
   "outputs": [
    {
     "name": "stdout",
     "output_type": "stream",
     "text": [
      "              precision    recall  f1-score   support\n",
      "\n",
      "           0       0.97      0.98      0.98    272997\n",
      "           1       0.97      0.95      0.96    162818\n",
      "\n",
      "    accuracy                           0.97    435815\n",
      "   macro avg       0.97      0.97      0.97    435815\n",
      "weighted avg       0.97      0.97      0.97    435815\n",
      "\n"
     ]
    }
   ],
   "source": [
    "print(classification_report(y_test, y_pred2))"
   ]
  },
  {
   "cell_type": "code",
   "execution_count": 14,
   "id": "d8b7c04d",
   "metadata": {},
   "outputs": [
    {
     "data": {
      "text/plain": [
       "<AxesSubplot:>"
      ]
     },
     "execution_count": 14,
     "metadata": {},
     "output_type": "execute_result"
    },
    {
     "data": {
      "image/png": "[encoded data removed]",
      "text/plain": [
       "<Figure size 432x288 with 2 Axes>"
      ]
     },
     "metadata": {
      "needs_background": "light"
     },
     "output_type": "display_data"
    }
   ],
   "source": [
    "cm = confusion_matrix(y_test,GCV.predict(X_test))\n",
    "sns.heatmap(cm,annot=True,fmt=\"d\")"
   ]
  },
  {
   "cell_type": "code",
   "execution_count": 15,
   "id": "1c9461cd",
   "metadata": {},
   "outputs": [
    {
     "data": {
      "image/png": "[encoded data removed]",
      "text/plain": [
       "<Figure size 432x288 with 1 Axes>"
      ]
     },
     "metadata": {
      "needs_background": "light"
     },
     "output_type": "display_data"
    }
   ],
   "source": [
    "from sklearn.metrics import plot_roc_curve\n",
    "plot_roc_curve(GCV, X_train,y_train )\n",
    "plt.plot([0,1],[0,1])\n",
    "plt.xlabel('false positive')\n",
    "plt.ylabel('true positve')\n",
    "plt.title('ROC curve XGBClassifier')\n",
    "plt.show()"
   ]
  },
  {
   "cell_type": "code",
   "execution_count": null,
   "id": "c13e11f4",
   "metadata": {},
   "outputs": [],
   "source": [
    "from sklearn.metrics import classification_report, confusion_matrix\n",
    "from sklearn.model_selection import GridSearchCV\n",
    "import xgboost\n",
    "#Hyper parameter optimization\n",
    "params={\n",
    "   \"learning_rate\": [0.2, 0.3, 0.4],\n",
    "    \"max_depth\": [11, 12, 13]\n",
    "}\n",
    "\n",
    "classifier=xgboost.XGBClassifier()\n",
    "GCV4=GridSearchCV(classifier, params)\n",
    "\n",
    "GCV4.fit(X_train, y_train)"
   ]
  },
  {
   "cell_type": "code",
   "execution_count": null,
   "id": "5fac5864",
   "metadata": {},
   "outputs": [],
   "source": [
    "print(classification_report(y_test, y_pred))"
   ]
  },
  {
   "cell_type": "code",
   "execution_count": null,
   "id": "32810e99",
   "metadata": {},
   "outputs": [],
   "source": []
  },
  {
   "cell_type": "code",
   "execution_count": null,
   "id": "a956ad86",
   "metadata": {},
   "outputs": [],
   "source": []
  },
  {
   "cell_type": "code",
   "execution_count": null,
   "id": "6fbb3a89",
   "metadata": {},
   "outputs": [],
   "source": []
  },
  {
   "cell_type": "code",
   "execution_count": null,
   "id": "e53b252a",
   "metadata": {},
   "outputs": [],
   "source": []
  },
  {
   "cell_type": "code",
   "execution_count": null,
   "id": "efc20de9",
   "metadata": {},
   "outputs": [],
   "source": []
  },
  {
   "cell_type": "markdown",
   "id": "c280f473",
   "metadata": {},
   "source": [
    "# Regression logistique"
   ]
  },
  {
   "cell_type": "code",
   "execution_count": null,
   "id": "0a4c90f5",
   "metadata": {},
   "outputs": [],
   "source": [
    "from sklearn.linear_model import LogisticRegression\n",
    "lr = LogisticRegression(solver='newton-cg', C =0.001, penalty = 'l2' )\n",
    "lr.fit(X_train,y_train)"
   ]
  },
  {
   "cell_type": "code",
   "execution_count": null,
   "id": "eb1a2ec6",
   "metadata": {},
   "outputs": [],
   "source": [
    "y_lr = lr.predict(X_test)"
   ]
  },
  {
   "cell_type": "code",
   "execution_count": null,
   "id": "72f614b7",
   "metadata": {},
   "outputs": [],
   "source": [
    "from sklearn.metrics import classification_report\n",
    "print(classification_report(y_test,y_lr,target_names = ['Echec(Class 0)','Succès (Class 1)']))"
   ]
  },
  {
   "cell_type": "code",
   "execution_count": null,
   "id": "9ed6767b",
   "metadata": {},
   "outputs": [],
   "source": [
    "cm = confusion_matrix(y_test,lr.predict(X_test))\n",
    "sns.heatmap(cm,annot=True,fmt=\"d\")"
   ]
  },
  {
   "cell_type": "code",
   "execution_count": null,
   "id": "758d460b",
   "metadata": {},
   "outputs": [],
   "source": [
    "from sklearn.metrics import plot_roc_curve\n",
    "plot_roc_curve(lr, X_train,y_train )\n",
    "plt.plot([0,1],[0,1])\n",
    "plt.xlabel('false positive')\n",
    "plt.ylabel('true positve')\n",
    "plt.title('ROC curve LR')\n",
    "plt.show()"
   ]
  },
  {
   "cell_type": "code",
   "execution_count": null,
   "id": "ec21312f",
   "metadata": {},
   "outputs": [],
   "source": []
  },
  {
   "cell_type": "code",
   "execution_count": null,
   "id": "c75447d6",
   "metadata": {},
   "outputs": [],
   "source": []
  },
  {
   "cell_type": "code",
   "execution_count": null,
   "id": "5319edb3",
   "metadata": {},
   "outputs": [],
   "source": []
  },
  {
   "cell_type": "code",
   "execution_count": null,
   "id": "3375539b",
   "metadata": {},
   "outputs": [],
   "source": []
  },
  {
   "cell_type": "code",
   "execution_count": null,
   "id": "a0c847d4",
   "metadata": {},
   "outputs": [],
   "source": []
  },
  {
   "cell_type": "code",
   "execution_count": null,
   "id": "804d59ed",
   "metadata": {},
   "outputs": [],
   "source": []
  },
  {
   "cell_type": "markdown",
   "id": "21538cea",
   "metadata": {},
   "source": [
    "from xgboost import XGBClassifier\n",
    "clf2 = XGBClassifier(\n",
    "        eval_metric = 'auc',\n",
    "        num_class = 2,\n",
    "        nthread = 4,\n",
    "        silent = 1,\n",
    "        )\n",
    "parameters = {\n",
    "        'num_boost_round': [100, 250, 500],\n",
    "        'eta': [0.05, 0.1, 0.3],\n",
    "        'max_depth': [6, 9, 12],\n",
    "        'subsample': [0.9, 1.0],\n",
    "        'colsample_bytree': [0.9, 1.0],\n",
    "    }\n",
    "clf2 = GridSearchCV(clf2, parameters, n_jobs=1, cv=2)\n",
    "clf2.fit(X_train, y_train)"
   ]
  },
  {
   "cell_type": "markdown",
   "id": "4afc9907",
   "metadata": {},
   "source": [
    "# AdaBoostClassifier"
   ]
  },
  {
   "cell_type": "code",
   "execution_count": null,
   "id": "96f5a3dc",
   "metadata": {},
   "outputs": [],
   "source": [
    "from sklearn.ensemble import AdaBoostClassifier\n",
    "adb = AdaBoostClassifier()\n",
    "adb.fit(X_train, y_train)"
   ]
  },
  {
   "cell_type": "code",
   "execution_count": null,
   "id": "7b460feb",
   "metadata": {},
   "outputs": [],
   "source": [
    "y_adb = adb.predict(X_test)"
   ]
  },
  {
   "cell_type": "code",
   "execution_count": null,
   "id": "12c9853b",
   "metadata": {},
   "outputs": [],
   "source": [
    "from sklearn.metrics import classification_report\n",
    "print(classification_report(y_test, y_adb,target_names = ['échec(Class 0)','succès (Class 1)']))"
   ]
  },
  {
   "cell_type": "code",
   "execution_count": null,
   "id": "8e830586",
   "metadata": {},
   "outputs": [],
   "source": [
    "cm = confusion_matrix(y_test,adb.predict(X_test))\n",
    "sns.heatmap(cm,annot=True,fmt=\"d\")"
   ]
  },
  {
   "cell_type": "code",
   "execution_count": null,
   "id": "3c599f1b",
   "metadata": {},
   "outputs": [],
   "source": [
    "from sklearn.metrics import plot_roc_curve\n",
    "plot_roc_curve(adb, X_train,y_train )\n",
    "plt.plot([0,1],[0,1])\n",
    "plt.xlabel('false positive')\n",
    "plt.ylabel('true positve')\n",
    "plt.title('ROC curve AdaBoostClassifier')\n",
    "plt.show()"
   ]
  },
  {
   "cell_type": "markdown",
   "id": "c5a40352",
   "metadata": {},
   "source": [
    "# CatBoostClassifier"
   ]
  },
  {
   "cell_type": "code",
   "execution_count": null,
   "id": "8eb8b4e6",
   "metadata": {},
   "outputs": [],
   "source": [
    "from catboost import CatBoostClassifier\n",
    "cat = CatBoostClassifier(iterations=2,\n",
    "                           learning_rate=1,\n",
    "                           depth=2)\n",
    "cat.fit(X_train, y_train)"
   ]
  },
  {
   "cell_type": "code",
   "execution_count": null,
   "id": "2d86dc0c",
   "metadata": {},
   "outputs": [],
   "source": [
    "preds_class = cat.predict(X_test)"
   ]
  },
  {
   "cell_type": "code",
   "execution_count": null,
   "id": "60b9256b",
   "metadata": {},
   "outputs": [],
   "source": [
    "from sklearn.metrics import classification_report\n",
    "print(classification_report(y_test, preds_class,target_names = ['échec(Class 0)','succès (Class 1)']))"
   ]
  },
  {
   "cell_type": "code",
   "execution_count": null,
   "id": "22003631",
   "metadata": {},
   "outputs": [],
   "source": [
    "cm = confusion_matrix(y_test,cat.predict(X_test))\n",
    "sns.heatmap(cm,annot=True,fmt=\"d\")"
   ]
  },
  {
   "cell_type": "code",
   "execution_count": null,
   "id": "76252a8d",
   "metadata": {},
   "outputs": [],
   "source": [
    "from sklearn.metrics import plot_roc_curve\n",
    "plot_roc_curve(cat, X_train,y_train )\n",
    "plt.plot([0,1],[0,1])\n",
    "plt.xlabel('false positive')\n",
    "plt.ylabel('true positve')\n",
    "plt.title('ROC curve XGBClassifier')\n",
    "plt.show()"
   ]
  },
  {
   "cell_type": "code",
   "execution_count": null,
   "id": "14ae2ed5",
   "metadata": {},
   "outputs": [],
   "source": [
    "!pip install numpy"
   ]
  },
  {
   "cell_type": "markdown",
   "id": "c9c2b7ec",
   "metadata": {},
   "source": [
    "# DummyClassifier"
   ]
  },
  {
   "cell_type": "code",
   "execution_count": null,
   "id": "c9e52e9d",
   "metadata": {},
   "outputs": [],
   "source": [
    "import numpy as np\n",
    "from sklearn.dummy import DummyClassifier"
   ]
  },
  {
   "cell_type": "code",
   "execution_count": null,
   "id": "bafad843",
   "metadata": {},
   "outputs": [],
   "source": [
    "dummy_clf = DummyClassifier(strategy=\"most_frequent\")\n",
    "dummy_clf.fit(X_train, y_train)\n",
    "dummy_clf.get_params()"
   ]
  },
  {
   "cell_type": "code",
   "execution_count": null,
   "id": "468014ef",
   "metadata": {},
   "outputs": [],
   "source": [
    "y_dummy = dummy_clf.predict(X_test)"
   ]
  },
  {
   "cell_type": "code",
   "execution_count": null,
   "id": "7223dcb6",
   "metadata": {},
   "outputs": [],
   "source": [
    "prob = dummy_clf.predict_proba(X_test)"
   ]
  },
  {
   "cell_type": "code",
   "execution_count": null,
   "id": "f0e32f72",
   "metadata": {},
   "outputs": [],
   "source": [
    "sc = dummy_clf.score(X_train, y_train)\n",
    "sc"
   ]
  },
  {
   "cell_type": "code",
   "execution_count": null,
   "id": "739cff0b",
   "metadata": {},
   "outputs": [],
   "source": [
    "from sklearn.metrics import accuracy_score, classification_report\n",
    "print(accuracy_score(y_test, y_dummy))"
   ]
  },
  {
   "cell_type": "code",
   "execution_count": null,
   "id": "62d931bf",
   "metadata": {},
   "outputs": [],
   "source": []
  },
  {
   "cell_type": "code",
   "execution_count": null,
   "id": "cb559d64",
   "metadata": {},
   "outputs": [],
   "source": []
  },
  {
   "cell_type": "code",
   "execution_count": null,
   "id": "ae4eb581",
   "metadata": {},
   "outputs": [],
   "source": []
  },
  {
   "cell_type": "code",
   "execution_count": null,
   "id": "f9437752",
   "metadata": {},
   "outputs": [],
   "source": []
  },
  {
   "cell_type": "code",
   "execution_count": null,
   "id": "c1e3658f",
   "metadata": {},
   "outputs": [],
   "source": []
  },
  {
   "cell_type": "code",
   "execution_count": null,
   "id": "12bc519c",
   "metadata": {},
   "outputs": [],
   "source": []
  },
  {
   "cell_type": "code",
   "execution_count": null,
   "id": "6304aee3",
   "metadata": {},
   "outputs": [],
   "source": []
  },
  {
   "cell_type": "code",
   "execution_count": null,
   "id": "bea4367b",
   "metadata": {},
   "outputs": [],
   "source": []
  },
  {
   "cell_type": "code",
   "execution_count": null,
   "id": "d7030565",
   "metadata": {},
   "outputs": [],
   "source": []
  },
  {
   "cell_type": "code",
   "execution_count": null,
   "id": "32f34d7e",
   "metadata": {},
   "outputs": [],
   "source": [
    "!pip install fedot==0.5.2"
   ]
  },
  {
   "cell_type": "code",
   "execution_count": null,
   "id": "6e8c6f55",
   "metadata": {},
   "outputs": [],
   "source": []
  },
  {
   "cell_type": "code",
   "execution_count": null,
   "id": "ba72e6ac",
   "metadata": {},
   "outputs": [],
   "source": []
  },
  {
   "cell_type": "code",
   "execution_count": null,
   "id": "a0e7916a",
   "metadata": {},
   "outputs": [],
   "source": []
  },
  {
   "cell_type": "code",
   "execution_count": null,
   "id": "bd505e08",
   "metadata": {},
   "outputs": [],
   "source": []
  },
  {
   "cell_type": "code",
   "execution_count": null,
   "id": "054f057a",
   "metadata": {},
   "outputs": [],
   "source": []
  },
  {
   "cell_type": "code",
   "execution_count": null,
   "id": "97cd962d",
   "metadata": {},
   "outputs": [],
   "source": []
  },
  {
   "cell_type": "code",
   "execution_count": null,
   "id": "2515f0ca",
   "metadata": {},
   "outputs": [],
   "source": []
  },
  {
   "cell_type": "code",
   "execution_count": null,
   "id": "3dc81851",
   "metadata": {},
   "outputs": [],
   "source": []
  }
 ],
 "metadata": {
  "kernelspec": {
   "display_name": "Python 3 (ipykernel)",
   "language": "python",
   "name": "python3"
  },
  "language_info": {
   "codemirror_mode": {
    "name": "ipython",
    "version": 3
   },
   "file_extension": ".py",
   "mimetype": "text/x-python",
   "name": "python",
   "nbconvert_exporter": "python",
   "pygments_lexer": "ipython3",
   "version": "3.8.12"
  }
 },
 "nbformat": 4,
 "nbformat_minor": 5
}
