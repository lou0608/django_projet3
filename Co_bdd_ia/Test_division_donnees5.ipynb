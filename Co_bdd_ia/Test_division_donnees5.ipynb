{
 "cells": [
  {
   "cell_type": "code",
   "execution_count": 1,
   "id": "c9273d9d",
   "metadata": {},
   "outputs": [],
   "source": [
    "import pandas as pd\n",
    "pd.set_option('display.max_columns', None)\n",
    "\n",
    "import numpy as np\n",
    "import scipy.stats as stat\n",
    "import scipy as sp\n",
    "import statistics\n",
    "\n",
    "import matplotlib.pyplot as plt\n",
    "from matplotlib import pyplot\n",
    "%matplotlib inline\n",
    "from mpl_toolkits.mplot3d import Axes3D\n",
    "from matplotlib import cm\n",
    "import seaborn as sns\n",
    "\n",
    "#import warnings\n",
    "#warnings.filterwarnings('ignore')\n",
    "\n",
    "# Modèle de ML\n",
    "from sklearn import linear_model\n",
    "\n",
    "# data pre-processing\n",
    "from sklearn import preprocessing\n",
    "from sklearn.model_selection import train_test_split\n",
    "\n",
    "# Outils score et evaluation de modèle\n",
    "from sklearn.metrics import accuracy_score\n",
    "from sklearn import metrics\n",
    "from sklearn.metrics import classification_report\n",
    "from sklearn.metrics import confusion_matrix\n",
    "\n",
    "from sklearn.metrics import r2_score\n",
    "\n",
    "# Outils optmisation de modèle\n",
    "from sklearn.model_selection import GridSearchCV\n",
    "from sklearn.model_selection import StratifiedKFold"
   ]
  },
  {
   "cell_type": "code",
   "execution_count": 2,
   "id": "3334f57b",
   "metadata": {},
   "outputs": [],
   "source": [
    "#!pip install tqdm\n",
    "# temps d'execution cellule"
   ]
  },
  {
   "cell_type": "code",
   "execution_count": 3,
   "id": "48acc005",
   "metadata": {},
   "outputs": [],
   "source": [
    "#!pip install nb_black\n",
    "# formateur de code automatique"
   ]
  },
  {
   "cell_type": "code",
   "execution_count": 4,
   "id": "f9fecded",
   "metadata": {},
   "outputs": [],
   "source": [
    "#shift + tab pour avoir la doc module"
   ]
  },
  {
   "cell_type": "markdown",
   "id": "aefa3294",
   "metadata": {},
   "source": [
    "# Data read"
   ]
  },
  {
   "cell_type": "code",
   "execution_count": 5,
   "id": "ace4a0c2",
   "metadata": {},
   "outputs": [],
   "source": [
    "df = pd.read_csv(\"Result_final_1.csv\")"
   ]
  },
  {
   "cell_type": "code",
   "execution_count": 6,
   "id": "dd6b8335",
   "metadata": {},
   "outputs": [
    {
     "name": "stdout",
     "output_type": "stream",
     "text": [
      "<class 'pandas.core.frame.DataFrame'>\n",
      "RangeIndex: 1743257 entries, 0 to 1743256\n",
      "Data columns (total 24 columns):\n",
      " #   Column                             Dtype \n",
      "---  ------                             ----- \n",
      " 0   Unnamed: 0                         int64 \n",
      " 1   MandatId                           int64 \n",
      " 2   DateCreation                       object\n",
      " 3   BienMandatId                       int64 \n",
      " 4   Statut                             int64 \n",
      " 5   DescriptionBien_DateOffreAcceptee  object\n",
      " 6   Origine_DateCollecte               object\n",
      " 7   CritereId                          int64 \n",
      " 8   SurfaceMin                         int64 \n",
      " 9   NombrePiecesEnum                   int64 \n",
      " 10  NombreChambresEnum                 int64 \n",
      " 11  Departement_LocalisationId         int64 \n",
      " 12  Region_LocalisationId              int64 \n",
      " 13  LocalisationId                     int64 \n",
      " 14  StatutMandat                       int64 \n",
      " 15  TypeMission                        int64 \n",
      " 16  TypeBien                           int64 \n",
      " 17  TypeProjet                         int64 \n",
      " 18  BudgetMaxEuro                      int64 \n",
      " 19  CodePostal                         int64 \n",
      " 20  Ville                              object\n",
      " 21  Departement                        object\n",
      " 22  Region                             object\n",
      " 23  Succes                             int64 \n",
      "dtypes: int64(18), object(6)\n",
      "memory usage: 319.2+ MB\n"
     ]
    }
   ],
   "source": [
    "df.info()"
   ]
  },
  {
   "cell_type": "code",
   "execution_count": 7,
   "id": "accc7c03",
   "metadata": {},
   "outputs": [
    {
     "data": {
      "text/html": [
       "<div>\n",
       "<style scoped>\n",
       "    .dataframe tbody tr th:only-of-type {\n",
       "        vertical-align: middle;\n",
       "    }\n",
       "\n",
       "    .dataframe tbody tr th {\n",
       "        vertical-align: top;\n",
       "    }\n",
       "\n",
       "    .dataframe thead th {\n",
       "        text-align: right;\n",
       "    }\n",
       "</style>\n",
       "<table border=\"1\" class=\"dataframe\">\n",
       "  <thead>\n",
       "    <tr style=\"text-align: right;\">\n",
       "      <th></th>\n",
       "      <th>Unnamed: 0</th>\n",
       "      <th>MandatId</th>\n",
       "      <th>DateCreation</th>\n",
       "      <th>BienMandatId</th>\n",
       "      <th>Statut</th>\n",
       "      <th>DescriptionBien_DateOffreAcceptee</th>\n",
       "      <th>Origine_DateCollecte</th>\n",
       "      <th>CritereId</th>\n",
       "      <th>SurfaceMin</th>\n",
       "      <th>NombrePiecesEnum</th>\n",
       "      <th>NombreChambresEnum</th>\n",
       "      <th>Departement_LocalisationId</th>\n",
       "      <th>Region_LocalisationId</th>\n",
       "      <th>LocalisationId</th>\n",
       "      <th>StatutMandat</th>\n",
       "      <th>TypeMission</th>\n",
       "      <th>TypeBien</th>\n",
       "      <th>TypeProjet</th>\n",
       "      <th>BudgetMaxEuro</th>\n",
       "      <th>CodePostal</th>\n",
       "      <th>Ville</th>\n",
       "      <th>Departement</th>\n",
       "      <th>Region</th>\n",
       "      <th>Succes</th>\n",
       "    </tr>\n",
       "  </thead>\n",
       "  <tbody>\n",
       "    <tr>\n",
       "      <th>0</th>\n",
       "      <td>0</td>\n",
       "      <td>9049</td>\n",
       "      <td>2015-03-30</td>\n",
       "      <td>24579</td>\n",
       "      <td>1</td>\n",
       "      <td>0001-01-01</td>\n",
       "      <td>0001-01-01</td>\n",
       "      <td>9051</td>\n",
       "      <td>30</td>\n",
       "      <td>2</td>\n",
       "      <td>1</td>\n",
       "      <td>121</td>\n",
       "      <td>27</td>\n",
       "      <td>129</td>\n",
       "      <td>9</td>\n",
       "      <td>2</td>\n",
       "      <td>2</td>\n",
       "      <td>0</td>\n",
       "      <td>250000</td>\n",
       "      <td>1000</td>\n",
       "      <td>Bourg En Bresse</td>\n",
       "      <td>Ain</td>\n",
       "      <td>Rhône-Alpes</td>\n",
       "      <td>0</td>\n",
       "    </tr>\n",
       "    <tr>\n",
       "      <th>1</th>\n",
       "      <td>1</td>\n",
       "      <td>9049</td>\n",
       "      <td>2015-03-30</td>\n",
       "      <td>24580</td>\n",
       "      <td>0</td>\n",
       "      <td>0001-01-01</td>\n",
       "      <td>0001-01-01</td>\n",
       "      <td>9051</td>\n",
       "      <td>30</td>\n",
       "      <td>2</td>\n",
       "      <td>1</td>\n",
       "      <td>121</td>\n",
       "      <td>27</td>\n",
       "      <td>129</td>\n",
       "      <td>9</td>\n",
       "      <td>2</td>\n",
       "      <td>2</td>\n",
       "      <td>0</td>\n",
       "      <td>250000</td>\n",
       "      <td>1000</td>\n",
       "      <td>Bourg En Bresse</td>\n",
       "      <td>Ain</td>\n",
       "      <td>Rhône-Alpes</td>\n",
       "      <td>0</td>\n",
       "    </tr>\n",
       "    <tr>\n",
       "      <th>2</th>\n",
       "      <td>2</td>\n",
       "      <td>9049</td>\n",
       "      <td>2015-03-30</td>\n",
       "      <td>24582</td>\n",
       "      <td>1</td>\n",
       "      <td>0001-01-01</td>\n",
       "      <td>0001-01-01</td>\n",
       "      <td>9051</td>\n",
       "      <td>30</td>\n",
       "      <td>2</td>\n",
       "      <td>1</td>\n",
       "      <td>121</td>\n",
       "      <td>27</td>\n",
       "      <td>129</td>\n",
       "      <td>9</td>\n",
       "      <td>2</td>\n",
       "      <td>2</td>\n",
       "      <td>0</td>\n",
       "      <td>250000</td>\n",
       "      <td>1000</td>\n",
       "      <td>Bourg En Bresse</td>\n",
       "      <td>Ain</td>\n",
       "      <td>Rhône-Alpes</td>\n",
       "      <td>0</td>\n",
       "    </tr>\n",
       "    <tr>\n",
       "      <th>3</th>\n",
       "      <td>3</td>\n",
       "      <td>9049</td>\n",
       "      <td>2015-03-30</td>\n",
       "      <td>24583</td>\n",
       "      <td>0</td>\n",
       "      <td>0001-01-01</td>\n",
       "      <td>0001-01-01</td>\n",
       "      <td>9051</td>\n",
       "      <td>30</td>\n",
       "      <td>2</td>\n",
       "      <td>1</td>\n",
       "      <td>121</td>\n",
       "      <td>27</td>\n",
       "      <td>129</td>\n",
       "      <td>9</td>\n",
       "      <td>2</td>\n",
       "      <td>2</td>\n",
       "      <td>0</td>\n",
       "      <td>250000</td>\n",
       "      <td>1000</td>\n",
       "      <td>Bourg En Bresse</td>\n",
       "      <td>Ain</td>\n",
       "      <td>Rhône-Alpes</td>\n",
       "      <td>0</td>\n",
       "    </tr>\n",
       "    <tr>\n",
       "      <th>4</th>\n",
       "      <td>4</td>\n",
       "      <td>9049</td>\n",
       "      <td>2015-03-30</td>\n",
       "      <td>24584</td>\n",
       "      <td>7</td>\n",
       "      <td>0001-01-01</td>\n",
       "      <td>0001-01-01</td>\n",
       "      <td>9051</td>\n",
       "      <td>30</td>\n",
       "      <td>2</td>\n",
       "      <td>1</td>\n",
       "      <td>121</td>\n",
       "      <td>27</td>\n",
       "      <td>129</td>\n",
       "      <td>9</td>\n",
       "      <td>2</td>\n",
       "      <td>2</td>\n",
       "      <td>0</td>\n",
       "      <td>250000</td>\n",
       "      <td>1000</td>\n",
       "      <td>Bourg En Bresse</td>\n",
       "      <td>Ain</td>\n",
       "      <td>Rhône-Alpes</td>\n",
       "      <td>0</td>\n",
       "    </tr>\n",
       "  </tbody>\n",
       "</table>\n",
       "</div>"
      ],
      "text/plain": [
       "   Unnamed: 0  MandatId DateCreation  BienMandatId  Statut  \\\n",
       "0           0      9049   2015-03-30         24579       1   \n",
       "1           1      9049   2015-03-30         24580       0   \n",
       "2           2      9049   2015-03-30         24582       1   \n",
       "3           3      9049   2015-03-30         24583       0   \n",
       "4           4      9049   2015-03-30         24584       7   \n",
       "\n",
       "  DescriptionBien_DateOffreAcceptee Origine_DateCollecte  CritereId  \\\n",
       "0                        0001-01-01           0001-01-01       9051   \n",
       "1                        0001-01-01           0001-01-01       9051   \n",
       "2                        0001-01-01           0001-01-01       9051   \n",
       "3                        0001-01-01           0001-01-01       9051   \n",
       "4                        0001-01-01           0001-01-01       9051   \n",
       "\n",
       "   SurfaceMin  NombrePiecesEnum  NombreChambresEnum  \\\n",
       "0          30                 2                   1   \n",
       "1          30                 2                   1   \n",
       "2          30                 2                   1   \n",
       "3          30                 2                   1   \n",
       "4          30                 2                   1   \n",
       "\n",
       "   Departement_LocalisationId  Region_LocalisationId  LocalisationId  \\\n",
       "0                         121                     27             129   \n",
       "1                         121                     27             129   \n",
       "2                         121                     27             129   \n",
       "3                         121                     27             129   \n",
       "4                         121                     27             129   \n",
       "\n",
       "   StatutMandat  TypeMission  TypeBien  TypeProjet  BudgetMaxEuro  CodePostal  \\\n",
       "0             9            2         2           0         250000        1000   \n",
       "1             9            2         2           0         250000        1000   \n",
       "2             9            2         2           0         250000        1000   \n",
       "3             9            2         2           0         250000        1000   \n",
       "4             9            2         2           0         250000        1000   \n",
       "\n",
       "             Ville Departement       Region  Succes  \n",
       "0  Bourg En Bresse         Ain  Rhône-Alpes       0  \n",
       "1  Bourg En Bresse         Ain  Rhône-Alpes       0  \n",
       "2  Bourg En Bresse         Ain  Rhône-Alpes       0  \n",
       "3  Bourg En Bresse         Ain  Rhône-Alpes       0  \n",
       "4  Bourg En Bresse         Ain  Rhône-Alpes       0  "
      ]
     },
     "execution_count": 7,
     "metadata": {},
     "output_type": "execute_result"
    }
   ],
   "source": [
    "df.head()"
   ]
  },
  {
   "cell_type": "code",
   "execution_count": 8,
   "id": "03ce3d43",
   "metadata": {},
   "outputs": [],
   "source": [
    "df.drop(\"Unnamed: 0\", axis = 1, inplace = True)"
   ]
  },
  {
   "cell_type": "code",
   "execution_count": 9,
   "id": "27c0c479",
   "metadata": {},
   "outputs": [
    {
     "name": "stdout",
     "output_type": "stream",
     "text": [
      "Nombre de lignes dupliquées 0\n"
     ]
    }
   ],
   "source": [
    "print(\"Nombre de lignes dupliquées\", df.duplicated().sum())"
   ]
  },
  {
   "cell_type": "code",
   "execution_count": 10,
   "id": "088b4ddb",
   "metadata": {},
   "outputs": [
    {
     "data": {
      "text/plain": [
       "MandatId                             0\n",
       "DateCreation                         0\n",
       "BienMandatId                         0\n",
       "Statut                               0\n",
       "DescriptionBien_DateOffreAcceptee    0\n",
       "Origine_DateCollecte                 0\n",
       "CritereId                            0\n",
       "SurfaceMin                           0\n",
       "NombrePiecesEnum                     0\n",
       "NombreChambresEnum                   0\n",
       "Departement_LocalisationId           0\n",
       "Region_LocalisationId                0\n",
       "LocalisationId                       0\n",
       "StatutMandat                         0\n",
       "TypeMission                          0\n",
       "TypeBien                             0\n",
       "TypeProjet                           0\n",
       "BudgetMaxEuro                        0\n",
       "CodePostal                           0\n",
       "Ville                                0\n",
       "Departement                          0\n",
       "Region                               0\n",
       "Succes                               0\n",
       "dtype: int64"
      ]
     },
     "execution_count": 10,
     "metadata": {},
     "output_type": "execute_result"
    }
   ],
   "source": [
    "df.isnull().sum()"
   ]
  },
  {
   "cell_type": "markdown",
   "id": "36ee7bf0",
   "metadata": {},
   "source": [
    "# Data Analyse"
   ]
  },
  {
   "cell_type": "code",
   "execution_count": 11,
   "id": "095a8174",
   "metadata": {},
   "outputs": [
    {
     "data": {
      "text/plain": [
       "1    1320890\n",
       "0     323967\n",
       "2      98400\n",
       "Name: TypeProjet, dtype: int64"
      ]
     },
     "execution_count": 11,
     "metadata": {},
     "output_type": "execute_result"
    }
   ],
   "source": [
    "df.TypeProjet.value_counts()"
   ]
  },
  {
   "cell_type": "markdown",
   "id": "bcfaab2f",
   "metadata": {},
   "source": [
    "1= Résidence principale    1320890\n",
    "0= Investissement           323967\n",
    "2= Résidence secondaire      98400"
   ]
  },
  {
   "cell_type": "code",
   "execution_count": 12,
   "id": "4dcdb83c",
   "metadata": {},
   "outputs": [
    {
     "data": {
      "text/plain": [
       "2    1623396\n",
       "1      87236\n",
       "0      22879\n",
       "4       5345\n",
       "6       2257\n",
       "5       1306\n",
       "3        838\n",
       "Name: TypeMission, dtype: int64"
      ]
     },
     "execution_count": 12,
     "metadata": {},
     "output_type": "execute_result"
    }
   ],
   "source": [
    "df[\"TypeMission\"].value_counts()"
   ]
  },
  {
   "cell_type": "code",
   "execution_count": 13,
   "id": "b54a96be",
   "metadata": {},
   "outputs": [
    {
     "data": {
      "text/plain": [
       "0    1091942\n",
       "1     651315\n",
       "Name: Succes, dtype: int64"
      ]
     },
     "execution_count": 13,
     "metadata": {},
     "output_type": "execute_result"
    }
   ],
   "source": [
    "df[\"Succes\"].value_counts()"
   ]
  },
  {
   "cell_type": "code",
   "execution_count": 14,
   "id": "fa393598",
   "metadata": {},
   "outputs": [
    {
     "data": {
      "image/png": "[encoded data removed]",
      "text/plain": [
       "<Figure size 432x432 with 1 Axes>"
      ]
     },
     "metadata": {},
     "output_type": "display_data"
    }
   ],
   "source": [
    "plot = df['Succes'].value_counts().plot(kind='pie', autopct='%.2f', \n",
    "                                            figsize=(6, 6),\n",
    "                                            title='Succes')"
   ]
  },
  {
   "cell_type": "code",
   "execution_count": 15,
   "id": "88bdd4d9",
   "metadata": {},
   "outputs": [
    {
     "data": {
      "text/html": [
       "<div>\n",
       "<style scoped>\n",
       "    .dataframe tbody tr th:only-of-type {\n",
       "        vertical-align: middle;\n",
       "    }\n",
       "\n",
       "    .dataframe tbody tr th {\n",
       "        vertical-align: top;\n",
       "    }\n",
       "\n",
       "    .dataframe thead th {\n",
       "        text-align: right;\n",
       "    }\n",
       "</style>\n",
       "<table border=\"1\" class=\"dataframe\">\n",
       "  <thead>\n",
       "    <tr style=\"text-align: right;\">\n",
       "      <th></th>\n",
       "      <th>MandatId</th>\n",
       "      <th>DateCreation</th>\n",
       "      <th>BienMandatId</th>\n",
       "      <th>Statut</th>\n",
       "      <th>DescriptionBien_DateOffreAcceptee</th>\n",
       "      <th>Origine_DateCollecte</th>\n",
       "      <th>CritereId</th>\n",
       "      <th>SurfaceMin</th>\n",
       "      <th>NombrePiecesEnum</th>\n",
       "      <th>NombreChambresEnum</th>\n",
       "      <th>Departement_LocalisationId</th>\n",
       "      <th>Region_LocalisationId</th>\n",
       "      <th>LocalisationId</th>\n",
       "      <th>StatutMandat</th>\n",
       "      <th>TypeMission</th>\n",
       "      <th>TypeBien</th>\n",
       "      <th>TypeProjet</th>\n",
       "      <th>BudgetMaxEuro</th>\n",
       "      <th>CodePostal</th>\n",
       "      <th>Ville</th>\n",
       "      <th>Departement</th>\n",
       "      <th>Region</th>\n",
       "      <th>Succes</th>\n",
       "    </tr>\n",
       "  </thead>\n",
       "  <tbody>\n",
       "    <tr>\n",
       "      <th>0</th>\n",
       "      <td>9049</td>\n",
       "      <td>2015-03-30</td>\n",
       "      <td>24579</td>\n",
       "      <td>1</td>\n",
       "      <td>0001-01-01</td>\n",
       "      <td>0001-01-01</td>\n",
       "      <td>9051</td>\n",
       "      <td>30</td>\n",
       "      <td>2</td>\n",
       "      <td>1</td>\n",
       "      <td>121</td>\n",
       "      <td>27</td>\n",
       "      <td>129</td>\n",
       "      <td>9</td>\n",
       "      <td>2</td>\n",
       "      <td>2</td>\n",
       "      <td>0</td>\n",
       "      <td>250000</td>\n",
       "      <td>1000</td>\n",
       "      <td>Bourg En Bresse</td>\n",
       "      <td>Ain</td>\n",
       "      <td>Rhône-Alpes</td>\n",
       "      <td>0</td>\n",
       "    </tr>\n",
       "    <tr>\n",
       "      <th>1</th>\n",
       "      <td>9049</td>\n",
       "      <td>2015-03-30</td>\n",
       "      <td>24580</td>\n",
       "      <td>0</td>\n",
       "      <td>0001-01-01</td>\n",
       "      <td>0001-01-01</td>\n",
       "      <td>9051</td>\n",
       "      <td>30</td>\n",
       "      <td>2</td>\n",
       "      <td>1</td>\n",
       "      <td>121</td>\n",
       "      <td>27</td>\n",
       "      <td>129</td>\n",
       "      <td>9</td>\n",
       "      <td>2</td>\n",
       "      <td>2</td>\n",
       "      <td>0</td>\n",
       "      <td>250000</td>\n",
       "      <td>1000</td>\n",
       "      <td>Bourg En Bresse</td>\n",
       "      <td>Ain</td>\n",
       "      <td>Rhône-Alpes</td>\n",
       "      <td>0</td>\n",
       "    </tr>\n",
       "    <tr>\n",
       "      <th>2</th>\n",
       "      <td>9049</td>\n",
       "      <td>2015-03-30</td>\n",
       "      <td>24582</td>\n",
       "      <td>1</td>\n",
       "      <td>0001-01-01</td>\n",
       "      <td>0001-01-01</td>\n",
       "      <td>9051</td>\n",
       "      <td>30</td>\n",
       "      <td>2</td>\n",
       "      <td>1</td>\n",
       "      <td>121</td>\n",
       "      <td>27</td>\n",
       "      <td>129</td>\n",
       "      <td>9</td>\n",
       "      <td>2</td>\n",
       "      <td>2</td>\n",
       "      <td>0</td>\n",
       "      <td>250000</td>\n",
       "      <td>1000</td>\n",
       "      <td>Bourg En Bresse</td>\n",
       "      <td>Ain</td>\n",
       "      <td>Rhône-Alpes</td>\n",
       "      <td>0</td>\n",
       "    </tr>\n",
       "    <tr>\n",
       "      <th>3</th>\n",
       "      <td>9049</td>\n",
       "      <td>2015-03-30</td>\n",
       "      <td>24583</td>\n",
       "      <td>0</td>\n",
       "      <td>0001-01-01</td>\n",
       "      <td>0001-01-01</td>\n",
       "      <td>9051</td>\n",
       "      <td>30</td>\n",
       "      <td>2</td>\n",
       "      <td>1</td>\n",
       "      <td>121</td>\n",
       "      <td>27</td>\n",
       "      <td>129</td>\n",
       "      <td>9</td>\n",
       "      <td>2</td>\n",
       "      <td>2</td>\n",
       "      <td>0</td>\n",
       "      <td>250000</td>\n",
       "      <td>1000</td>\n",
       "      <td>Bourg En Bresse</td>\n",
       "      <td>Ain</td>\n",
       "      <td>Rhône-Alpes</td>\n",
       "      <td>0</td>\n",
       "    </tr>\n",
       "    <tr>\n",
       "      <th>4</th>\n",
       "      <td>9049</td>\n",
       "      <td>2015-03-30</td>\n",
       "      <td>24584</td>\n",
       "      <td>7</td>\n",
       "      <td>0001-01-01</td>\n",
       "      <td>0001-01-01</td>\n",
       "      <td>9051</td>\n",
       "      <td>30</td>\n",
       "      <td>2</td>\n",
       "      <td>1</td>\n",
       "      <td>121</td>\n",
       "      <td>27</td>\n",
       "      <td>129</td>\n",
       "      <td>9</td>\n",
       "      <td>2</td>\n",
       "      <td>2</td>\n",
       "      <td>0</td>\n",
       "      <td>250000</td>\n",
       "      <td>1000</td>\n",
       "      <td>Bourg En Bresse</td>\n",
       "      <td>Ain</td>\n",
       "      <td>Rhône-Alpes</td>\n",
       "      <td>0</td>\n",
       "    </tr>\n",
       "  </tbody>\n",
       "</table>\n",
       "</div>"
      ],
      "text/plain": [
       "   MandatId DateCreation  BienMandatId  Statut  \\\n",
       "0      9049   2015-03-30         24579       1   \n",
       "1      9049   2015-03-30         24580       0   \n",
       "2      9049   2015-03-30         24582       1   \n",
       "3      9049   2015-03-30         24583       0   \n",
       "4      9049   2015-03-30         24584       7   \n",
       "\n",
       "  DescriptionBien_DateOffreAcceptee Origine_DateCollecte  CritereId  \\\n",
       "0                        0001-01-01           0001-01-01       9051   \n",
       "1                        0001-01-01           0001-01-01       9051   \n",
       "2                        0001-01-01           0001-01-01       9051   \n",
       "3                        0001-01-01           0001-01-01       9051   \n",
       "4                        0001-01-01           0001-01-01       9051   \n",
       "\n",
       "   SurfaceMin  NombrePiecesEnum  NombreChambresEnum  \\\n",
       "0          30                 2                   1   \n",
       "1          30                 2                   1   \n",
       "2          30                 2                   1   \n",
       "3          30                 2                   1   \n",
       "4          30                 2                   1   \n",
       "\n",
       "   Departement_LocalisationId  Region_LocalisationId  LocalisationId  \\\n",
       "0                         121                     27             129   \n",
       "1                         121                     27             129   \n",
       "2                         121                     27             129   \n",
       "3                         121                     27             129   \n",
       "4                         121                     27             129   \n",
       "\n",
       "   StatutMandat  TypeMission  TypeBien  TypeProjet  BudgetMaxEuro  CodePostal  \\\n",
       "0             9            2         2           0         250000        1000   \n",
       "1             9            2         2           0         250000        1000   \n",
       "2             9            2         2           0         250000        1000   \n",
       "3             9            2         2           0         250000        1000   \n",
       "4             9            2         2           0         250000        1000   \n",
       "\n",
       "             Ville Departement       Region  Succes  \n",
       "0  Bourg En Bresse         Ain  Rhône-Alpes       0  \n",
       "1  Bourg En Bresse         Ain  Rhône-Alpes       0  \n",
       "2  Bourg En Bresse         Ain  Rhône-Alpes       0  \n",
       "3  Bourg En Bresse         Ain  Rhône-Alpes       0  \n",
       "4  Bourg En Bresse         Ain  Rhône-Alpes       0  "
      ]
     },
     "execution_count": 15,
     "metadata": {},
     "output_type": "execute_result"
    }
   ],
   "source": [
    "df.head()"
   ]
  },
  {
   "cell_type": "code",
   "execution_count": 16,
   "id": "6cb31068",
   "metadata": {},
   "outputs": [
    {
     "data": {
      "text/plain": [
       "Index(['MandatId', 'DateCreation', 'BienMandatId', 'Statut',\n",
       "       'DescriptionBien_DateOffreAcceptee', 'Origine_DateCollecte',\n",
       "       'CritereId', 'SurfaceMin', 'NombrePiecesEnum', 'NombreChambresEnum',\n",
       "       'Departement_LocalisationId', 'Region_LocalisationId', 'LocalisationId',\n",
       "       'StatutMandat', 'TypeMission', 'TypeBien', 'TypeProjet',\n",
       "       'BudgetMaxEuro', 'CodePostal', 'Ville', 'Departement', 'Region',\n",
       "       'Succes'],\n",
       "      dtype='object')"
      ]
     },
     "execution_count": 16,
     "metadata": {},
     "output_type": "execute_result"
    }
   ],
   "source": [
    "df.columns"
   ]
  },
  {
   "cell_type": "code",
   "execution_count": 17,
   "id": "0b74e463",
   "metadata": {},
   "outputs": [
    {
     "data": {
      "text/plain": [
       "int64     17\n",
       "object     6\n",
       "dtype: int64"
      ]
     },
     "execution_count": 17,
     "metadata": {},
     "output_type": "execute_result"
    }
   ],
   "source": [
    "df.dtypes.value_counts()"
   ]
  },
  {
   "cell_type": "code",
   "execution_count": 18,
   "id": "71400390",
   "metadata": {},
   "outputs": [
    {
     "data": {
      "text/plain": [
       "MandatId                        7579\n",
       "BienMandatId                  395103\n",
       "Statut                             8\n",
       "CritereId                       7579\n",
       "SurfaceMin                       117\n",
       "NombrePiecesEnum                   7\n",
       "NombreChambresEnum                 7\n",
       "Departement_LocalisationId        84\n",
       "Region_LocalisationId             22\n",
       "LocalisationId                  3248\n",
       "StatutMandat                       3\n",
       "TypeMission                        7\n",
       "TypeBien                           9\n",
       "TypeProjet                         3\n",
       "BudgetMaxEuro                    365\n",
       "CodePostal                      1826\n",
       "Succes                             2\n",
       "dtype: int64"
      ]
     },
     "execution_count": 18,
     "metadata": {},
     "output_type": "execute_result"
    }
   ],
   "source": [
    "df.select_dtypes('int').apply(pd.Series.nunique, axis = 0)"
   ]
  },
  {
   "cell_type": "code",
   "execution_count": 19,
   "id": "5af7a30d",
   "metadata": {},
   "outputs": [
    {
     "data": {
      "text/plain": [
       "DateCreation                         2276\n",
       "DescriptionBien_DateOffreAcceptee    1110\n",
       "Origine_DateCollecte                 3064\n",
       "Ville                                3154\n",
       "Departement                            84\n",
       "Region                                 22\n",
       "dtype: int64"
      ]
     },
     "execution_count": 19,
     "metadata": {},
     "output_type": "execute_result"
    }
   ],
   "source": [
    "df.select_dtypes('object').apply(pd.Series.nunique, axis = 0)"
   ]
  },
  {
   "cell_type": "markdown",
   "id": "84a9d22a",
   "metadata": {},
   "source": [
    "# Division du jeu de données pour le reduire"
   ]
  },
  {
   "cell_type": "markdown",
   "id": "003d5146",
   "metadata": {},
   "source": [
    "# Utilisation de iloc pour diviser dataset en deux"
   ]
  },
  {
   "cell_type": "code",
   "execution_count": 20,
   "id": "94c3cd72",
   "metadata": {},
   "outputs": [
    {
     "name": "stdout",
     "output_type": "stream",
     "text": [
      "<class 'pandas.core.frame.DataFrame'>\n",
      "RangeIndex: 1743257 entries, 0 to 1743256\n",
      "Data columns (total 23 columns):\n",
      " #   Column                             Dtype \n",
      "---  ------                             ----- \n",
      " 0   MandatId                           int64 \n",
      " 1   DateCreation                       object\n",
      " 2   BienMandatId                       int64 \n",
      " 3   Statut                             int64 \n",
      " 4   DescriptionBien_DateOffreAcceptee  object\n",
      " 5   Origine_DateCollecte               object\n",
      " 6   CritereId                          int64 \n",
      " 7   SurfaceMin                         int64 \n",
      " 8   NombrePiecesEnum                   int64 \n",
      " 9   NombreChambresEnum                 int64 \n",
      " 10  Departement_LocalisationId         int64 \n",
      " 11  Region_LocalisationId              int64 \n",
      " 12  LocalisationId                     int64 \n",
      " 13  StatutMandat                       int64 \n",
      " 14  TypeMission                        int64 \n",
      " 15  TypeBien                           int64 \n",
      " 16  TypeProjet                         int64 \n",
      " 17  BudgetMaxEuro                      int64 \n",
      " 18  CodePostal                         int64 \n",
      " 19  Ville                              object\n",
      " 20  Departement                        object\n",
      " 21  Region                             object\n",
      " 22  Succes                             int64 \n",
      "dtypes: int64(17), object(6)\n",
      "memory usage: 305.9+ MB\n"
     ]
    }
   ],
   "source": [
    "df.info()"
   ]
  },
  {
   "cell_type": "code",
   "execution_count": 21,
   "id": "b962cf07",
   "metadata": {},
   "outputs": [
    {
     "data": {
      "text/plain": [
       "435814.25"
      ]
     },
     "execution_count": 21,
     "metadata": {},
     "output_type": "execute_result"
    }
   ],
   "source": [
    "25*1743257/100"
   ]
  },
  {
   "cell_type": "code",
   "execution_count": 22,
   "id": "8f9b025d",
   "metadata": {},
   "outputs": [],
   "source": [
    "df_25 = df.iloc[:435816,:]"
   ]
  },
  {
   "cell_type": "code",
   "execution_count": 23,
   "id": "366f4436",
   "metadata": {},
   "outputs": [
    {
     "data": {
      "text/html": [
       "<div>\n",
       "<style scoped>\n",
       "    .dataframe tbody tr th:only-of-type {\n",
       "        vertical-align: middle;\n",
       "    }\n",
       "\n",
       "    .dataframe tbody tr th {\n",
       "        vertical-align: top;\n",
       "    }\n",
       "\n",
       "    .dataframe thead th {\n",
       "        text-align: right;\n",
       "    }\n",
       "</style>\n",
       "<table border=\"1\" class=\"dataframe\">\n",
       "  <thead>\n",
       "    <tr style=\"text-align: right;\">\n",
       "      <th></th>\n",
       "      <th>MandatId</th>\n",
       "      <th>DateCreation</th>\n",
       "      <th>BienMandatId</th>\n",
       "      <th>Statut</th>\n",
       "      <th>DescriptionBien_DateOffreAcceptee</th>\n",
       "      <th>Origine_DateCollecte</th>\n",
       "      <th>CritereId</th>\n",
       "      <th>SurfaceMin</th>\n",
       "      <th>NombrePiecesEnum</th>\n",
       "      <th>NombreChambresEnum</th>\n",
       "      <th>Departement_LocalisationId</th>\n",
       "      <th>Region_LocalisationId</th>\n",
       "      <th>LocalisationId</th>\n",
       "      <th>StatutMandat</th>\n",
       "      <th>TypeMission</th>\n",
       "      <th>TypeBien</th>\n",
       "      <th>TypeProjet</th>\n",
       "      <th>BudgetMaxEuro</th>\n",
       "      <th>CodePostal</th>\n",
       "      <th>Ville</th>\n",
       "      <th>Departement</th>\n",
       "      <th>Region</th>\n",
       "      <th>Succes</th>\n",
       "    </tr>\n",
       "  </thead>\n",
       "  <tbody>\n",
       "    <tr>\n",
       "      <th>435811</th>\n",
       "      <td>44429</td>\n",
       "      <td>2018-06-25</td>\n",
       "      <td>138614</td>\n",
       "      <td>7</td>\n",
       "      <td>0001-01-01</td>\n",
       "      <td>0001-01-01</td>\n",
       "      <td>44508</td>\n",
       "      <td>45</td>\n",
       "      <td>3</td>\n",
       "      <td>2</td>\n",
       "      <td>81</td>\n",
       "      <td>16</td>\n",
       "      <td>14712</td>\n",
       "      <td>8</td>\n",
       "      <td>2</td>\n",
       "      <td>2</td>\n",
       "      <td>1</td>\n",
       "      <td>180000</td>\n",
       "      <td>34970</td>\n",
       "      <td>Lattes</td>\n",
       "      <td>Hérault</td>\n",
       "      <td>Languedoc-Roussillon</td>\n",
       "      <td>1</td>\n",
       "    </tr>\n",
       "    <tr>\n",
       "      <th>435812</th>\n",
       "      <td>44429</td>\n",
       "      <td>2018-06-25</td>\n",
       "      <td>138615</td>\n",
       "      <td>0</td>\n",
       "      <td>0001-01-01</td>\n",
       "      <td>2018-07-01</td>\n",
       "      <td>44508</td>\n",
       "      <td>45</td>\n",
       "      <td>3</td>\n",
       "      <td>2</td>\n",
       "      <td>81</td>\n",
       "      <td>16</td>\n",
       "      <td>14712</td>\n",
       "      <td>8</td>\n",
       "      <td>2</td>\n",
       "      <td>2</td>\n",
       "      <td>1</td>\n",
       "      <td>180000</td>\n",
       "      <td>34970</td>\n",
       "      <td>Lattes</td>\n",
       "      <td>Hérault</td>\n",
       "      <td>Languedoc-Roussillon</td>\n",
       "      <td>1</td>\n",
       "    </tr>\n",
       "    <tr>\n",
       "      <th>435813</th>\n",
       "      <td>44429</td>\n",
       "      <td>2018-06-25</td>\n",
       "      <td>138616</td>\n",
       "      <td>7</td>\n",
       "      <td>0001-01-01</td>\n",
       "      <td>0001-01-01</td>\n",
       "      <td>44508</td>\n",
       "      <td>45</td>\n",
       "      <td>3</td>\n",
       "      <td>2</td>\n",
       "      <td>81</td>\n",
       "      <td>16</td>\n",
       "      <td>14712</td>\n",
       "      <td>8</td>\n",
       "      <td>2</td>\n",
       "      <td>2</td>\n",
       "      <td>1</td>\n",
       "      <td>180000</td>\n",
       "      <td>34970</td>\n",
       "      <td>Lattes</td>\n",
       "      <td>Hérault</td>\n",
       "      <td>Languedoc-Roussillon</td>\n",
       "      <td>1</td>\n",
       "    </tr>\n",
       "    <tr>\n",
       "      <th>435814</th>\n",
       "      <td>44429</td>\n",
       "      <td>2018-06-25</td>\n",
       "      <td>138617</td>\n",
       "      <td>0</td>\n",
       "      <td>0001-01-01</td>\n",
       "      <td>2018-06-29</td>\n",
       "      <td>44508</td>\n",
       "      <td>45</td>\n",
       "      <td>3</td>\n",
       "      <td>2</td>\n",
       "      <td>81</td>\n",
       "      <td>16</td>\n",
       "      <td>14712</td>\n",
       "      <td>8</td>\n",
       "      <td>2</td>\n",
       "      <td>2</td>\n",
       "      <td>1</td>\n",
       "      <td>180000</td>\n",
       "      <td>34970</td>\n",
       "      <td>Lattes</td>\n",
       "      <td>Hérault</td>\n",
       "      <td>Languedoc-Roussillon</td>\n",
       "      <td>1</td>\n",
       "    </tr>\n",
       "    <tr>\n",
       "      <th>435815</th>\n",
       "      <td>44429</td>\n",
       "      <td>2018-06-25</td>\n",
       "      <td>138618</td>\n",
       "      <td>7</td>\n",
       "      <td>0001-01-01</td>\n",
       "      <td>0001-01-01</td>\n",
       "      <td>44508</td>\n",
       "      <td>45</td>\n",
       "      <td>3</td>\n",
       "      <td>2</td>\n",
       "      <td>81</td>\n",
       "      <td>16</td>\n",
       "      <td>14712</td>\n",
       "      <td>8</td>\n",
       "      <td>2</td>\n",
       "      <td>2</td>\n",
       "      <td>1</td>\n",
       "      <td>180000</td>\n",
       "      <td>34970</td>\n",
       "      <td>Lattes</td>\n",
       "      <td>Hérault</td>\n",
       "      <td>Languedoc-Roussillon</td>\n",
       "      <td>1</td>\n",
       "    </tr>\n",
       "  </tbody>\n",
       "</table>\n",
       "</div>"
      ],
      "text/plain": [
       "        MandatId DateCreation  BienMandatId  Statut  \\\n",
       "435811     44429   2018-06-25        138614       7   \n",
       "435812     44429   2018-06-25        138615       0   \n",
       "435813     44429   2018-06-25        138616       7   \n",
       "435814     44429   2018-06-25        138617       0   \n",
       "435815     44429   2018-06-25        138618       7   \n",
       "\n",
       "       DescriptionBien_DateOffreAcceptee Origine_DateCollecte  CritereId  \\\n",
       "435811                        0001-01-01           0001-01-01      44508   \n",
       "435812                        0001-01-01           2018-07-01      44508   \n",
       "435813                        0001-01-01           0001-01-01      44508   \n",
       "435814                        0001-01-01           2018-06-29      44508   \n",
       "435815                        0001-01-01           0001-01-01      44508   \n",
       "\n",
       "        SurfaceMin  NombrePiecesEnum  NombreChambresEnum  \\\n",
       "435811          45                 3                   2   \n",
       "435812          45                 3                   2   \n",
       "435813          45                 3                   2   \n",
       "435814          45                 3                   2   \n",
       "435815          45                 3                   2   \n",
       "\n",
       "        Departement_LocalisationId  Region_LocalisationId  LocalisationId  \\\n",
       "435811                          81                     16           14712   \n",
       "435812                          81                     16           14712   \n",
       "435813                          81                     16           14712   \n",
       "435814                          81                     16           14712   \n",
       "435815                          81                     16           14712   \n",
       "\n",
       "        StatutMandat  TypeMission  TypeBien  TypeProjet  BudgetMaxEuro  \\\n",
       "435811             8            2         2           1         180000   \n",
       "435812             8            2         2           1         180000   \n",
       "435813             8            2         2           1         180000   \n",
       "435814             8            2         2           1         180000   \n",
       "435815             8            2         2           1         180000   \n",
       "\n",
       "        CodePostal   Ville Departement                Region  Succes  \n",
       "435811       34970  Lattes     Hérault  Languedoc-Roussillon       1  \n",
       "435812       34970  Lattes     Hérault  Languedoc-Roussillon       1  \n",
       "435813       34970  Lattes     Hérault  Languedoc-Roussillon       1  \n",
       "435814       34970  Lattes     Hérault  Languedoc-Roussillon       1  \n",
       "435815       34970  Lattes     Hérault  Languedoc-Roussillon       1  "
      ]
     },
     "execution_count": 23,
     "metadata": {},
     "output_type": "execute_result"
    }
   ],
   "source": [
    "df_25.tail()"
   ]
  },
  {
   "cell_type": "code",
   "execution_count": 24,
   "id": "58e5c232",
   "metadata": {},
   "outputs": [],
   "source": [
    "df_75 = df.iloc[435816:,:]"
   ]
  },
  {
   "cell_type": "code",
   "execution_count": 25,
   "id": "9c71c758",
   "metadata": {},
   "outputs": [
    {
     "data": {
      "text/html": [
       "<div>\n",
       "<style scoped>\n",
       "    .dataframe tbody tr th:only-of-type {\n",
       "        vertical-align: middle;\n",
       "    }\n",
       "\n",
       "    .dataframe tbody tr th {\n",
       "        vertical-align: top;\n",
       "    }\n",
       "\n",
       "    .dataframe thead th {\n",
       "        text-align: right;\n",
       "    }\n",
       "</style>\n",
       "<table border=\"1\" class=\"dataframe\">\n",
       "  <thead>\n",
       "    <tr style=\"text-align: right;\">\n",
       "      <th></th>\n",
       "      <th>MandatId</th>\n",
       "      <th>DateCreation</th>\n",
       "      <th>BienMandatId</th>\n",
       "      <th>Statut</th>\n",
       "      <th>DescriptionBien_DateOffreAcceptee</th>\n",
       "      <th>Origine_DateCollecte</th>\n",
       "      <th>CritereId</th>\n",
       "      <th>SurfaceMin</th>\n",
       "      <th>NombrePiecesEnum</th>\n",
       "      <th>NombreChambresEnum</th>\n",
       "      <th>Departement_LocalisationId</th>\n",
       "      <th>Region_LocalisationId</th>\n",
       "      <th>LocalisationId</th>\n",
       "      <th>StatutMandat</th>\n",
       "      <th>TypeMission</th>\n",
       "      <th>TypeBien</th>\n",
       "      <th>TypeProjet</th>\n",
       "      <th>BudgetMaxEuro</th>\n",
       "      <th>CodePostal</th>\n",
       "      <th>Ville</th>\n",
       "      <th>Departement</th>\n",
       "      <th>Region</th>\n",
       "      <th>Succes</th>\n",
       "    </tr>\n",
       "  </thead>\n",
       "  <tbody>\n",
       "    <tr>\n",
       "      <th>435816</th>\n",
       "      <td>44429</td>\n",
       "      <td>2018-06-25</td>\n",
       "      <td>138721</td>\n",
       "      <td>0</td>\n",
       "      <td>0001-01-01</td>\n",
       "      <td>2018-07-05</td>\n",
       "      <td>44508</td>\n",
       "      <td>45</td>\n",
       "      <td>3</td>\n",
       "      <td>2</td>\n",
       "      <td>81</td>\n",
       "      <td>16</td>\n",
       "      <td>14712</td>\n",
       "      <td>8</td>\n",
       "      <td>2</td>\n",
       "      <td>2</td>\n",
       "      <td>1</td>\n",
       "      <td>180000</td>\n",
       "      <td>34970</td>\n",
       "      <td>Lattes</td>\n",
       "      <td>Hérault</td>\n",
       "      <td>Languedoc-Roussillon</td>\n",
       "      <td>1</td>\n",
       "    </tr>\n",
       "    <tr>\n",
       "      <th>435817</th>\n",
       "      <td>44429</td>\n",
       "      <td>2018-06-25</td>\n",
       "      <td>138876</td>\n",
       "      <td>7</td>\n",
       "      <td>0001-01-01</td>\n",
       "      <td>0001-01-01</td>\n",
       "      <td>44508</td>\n",
       "      <td>45</td>\n",
       "      <td>3</td>\n",
       "      <td>2</td>\n",
       "      <td>81</td>\n",
       "      <td>16</td>\n",
       "      <td>14712</td>\n",
       "      <td>8</td>\n",
       "      <td>2</td>\n",
       "      <td>2</td>\n",
       "      <td>1</td>\n",
       "      <td>180000</td>\n",
       "      <td>34970</td>\n",
       "      <td>Lattes</td>\n",
       "      <td>Hérault</td>\n",
       "      <td>Languedoc-Roussillon</td>\n",
       "      <td>1</td>\n",
       "    </tr>\n",
       "    <tr>\n",
       "      <th>435818</th>\n",
       "      <td>44429</td>\n",
       "      <td>2018-06-25</td>\n",
       "      <td>138883</td>\n",
       "      <td>7</td>\n",
       "      <td>0001-01-01</td>\n",
       "      <td>0001-01-01</td>\n",
       "      <td>44508</td>\n",
       "      <td>45</td>\n",
       "      <td>3</td>\n",
       "      <td>2</td>\n",
       "      <td>81</td>\n",
       "      <td>16</td>\n",
       "      <td>14712</td>\n",
       "      <td>8</td>\n",
       "      <td>2</td>\n",
       "      <td>2</td>\n",
       "      <td>1</td>\n",
       "      <td>180000</td>\n",
       "      <td>34970</td>\n",
       "      <td>Lattes</td>\n",
       "      <td>Hérault</td>\n",
       "      <td>Languedoc-Roussillon</td>\n",
       "      <td>1</td>\n",
       "    </tr>\n",
       "    <tr>\n",
       "      <th>435819</th>\n",
       "      <td>44429</td>\n",
       "      <td>2018-06-25</td>\n",
       "      <td>139117</td>\n",
       "      <td>0</td>\n",
       "      <td>0001-01-01</td>\n",
       "      <td>0001-01-01</td>\n",
       "      <td>44508</td>\n",
       "      <td>45</td>\n",
       "      <td>3</td>\n",
       "      <td>2</td>\n",
       "      <td>81</td>\n",
       "      <td>16</td>\n",
       "      <td>14712</td>\n",
       "      <td>8</td>\n",
       "      <td>2</td>\n",
       "      <td>2</td>\n",
       "      <td>1</td>\n",
       "      <td>180000</td>\n",
       "      <td>34970</td>\n",
       "      <td>Lattes</td>\n",
       "      <td>Hérault</td>\n",
       "      <td>Languedoc-Roussillon</td>\n",
       "      <td>1</td>\n",
       "    </tr>\n",
       "    <tr>\n",
       "      <th>435820</th>\n",
       "      <td>44429</td>\n",
       "      <td>2018-06-25</td>\n",
       "      <td>139119</td>\n",
       "      <td>0</td>\n",
       "      <td>0001-01-01</td>\n",
       "      <td>0001-01-01</td>\n",
       "      <td>44508</td>\n",
       "      <td>45</td>\n",
       "      <td>3</td>\n",
       "      <td>2</td>\n",
       "      <td>81</td>\n",
       "      <td>16</td>\n",
       "      <td>14712</td>\n",
       "      <td>8</td>\n",
       "      <td>2</td>\n",
       "      <td>2</td>\n",
       "      <td>1</td>\n",
       "      <td>180000</td>\n",
       "      <td>34970</td>\n",
       "      <td>Lattes</td>\n",
       "      <td>Hérault</td>\n",
       "      <td>Languedoc-Roussillon</td>\n",
       "      <td>1</td>\n",
       "    </tr>\n",
       "  </tbody>\n",
       "</table>\n",
       "</div>"
      ],
      "text/plain": [
       "        MandatId DateCreation  BienMandatId  Statut  \\\n",
       "435816     44429   2018-06-25        138721       0   \n",
       "435817     44429   2018-06-25        138876       7   \n",
       "435818     44429   2018-06-25        138883       7   \n",
       "435819     44429   2018-06-25        139117       0   \n",
       "435820     44429   2018-06-25        139119       0   \n",
       "\n",
       "       DescriptionBien_DateOffreAcceptee Origine_DateCollecte  CritereId  \\\n",
       "435816                        0001-01-01           2018-07-05      44508   \n",
       "435817                        0001-01-01           0001-01-01      44508   \n",
       "435818                        0001-01-01           0001-01-01      44508   \n",
       "435819                        0001-01-01           0001-01-01      44508   \n",
       "435820                        0001-01-01           0001-01-01      44508   \n",
       "\n",
       "        SurfaceMin  NombrePiecesEnum  NombreChambresEnum  \\\n",
       "435816          45                 3                   2   \n",
       "435817          45                 3                   2   \n",
       "435818          45                 3                   2   \n",
       "435819          45                 3                   2   \n",
       "435820          45                 3                   2   \n",
       "\n",
       "        Departement_LocalisationId  Region_LocalisationId  LocalisationId  \\\n",
       "435816                          81                     16           14712   \n",
       "435817                          81                     16           14712   \n",
       "435818                          81                     16           14712   \n",
       "435819                          81                     16           14712   \n",
       "435820                          81                     16           14712   \n",
       "\n",
       "        StatutMandat  TypeMission  TypeBien  TypeProjet  BudgetMaxEuro  \\\n",
       "435816             8            2         2           1         180000   \n",
       "435817             8            2         2           1         180000   \n",
       "435818             8            2         2           1         180000   \n",
       "435819             8            2         2           1         180000   \n",
       "435820             8            2         2           1         180000   \n",
       "\n",
       "        CodePostal   Ville Departement                Region  Succes  \n",
       "435816       34970  Lattes     Hérault  Languedoc-Roussillon       1  \n",
       "435817       34970  Lattes     Hérault  Languedoc-Roussillon       1  \n",
       "435818       34970  Lattes     Hérault  Languedoc-Roussillon       1  \n",
       "435819       34970  Lattes     Hérault  Languedoc-Roussillon       1  \n",
       "435820       34970  Lattes     Hérault  Languedoc-Roussillon       1  "
      ]
     },
     "execution_count": 25,
     "metadata": {},
     "output_type": "execute_result"
    }
   ],
   "source": [
    "df_75.head()"
   ]
  },
  {
   "cell_type": "code",
   "execution_count": 26,
   "id": "86c3ca6c",
   "metadata": {},
   "outputs": [],
   "source": [
    "df_11 = df_25.loc[df_25[\"Succes\"]==1]"
   ]
  },
  {
   "cell_type": "code",
   "execution_count": 27,
   "id": "39510d34",
   "metadata": {},
   "outputs": [],
   "source": [
    "df_22 = df_25.loc[df_25[\"Succes\"]==0]"
   ]
  },
  {
   "cell_type": "code",
   "execution_count": 28,
   "id": "8b77ff17",
   "metadata": {},
   "outputs": [
    {
     "data": {
      "text/plain": [
       "1    118280\n",
       "Name: Succes, dtype: int64"
      ]
     },
     "execution_count": 28,
     "metadata": {},
     "output_type": "execute_result"
    }
   ],
   "source": [
    "df_11[\"Succes\"].value_counts()"
   ]
  },
  {
   "cell_type": "code",
   "execution_count": 29,
   "id": "02865b36",
   "metadata": {},
   "outputs": [
    {
     "data": {
      "text/plain": [
       "0    317536\n",
       "Name: Succes, dtype: int64"
      ]
     },
     "execution_count": 29,
     "metadata": {},
     "output_type": "execute_result"
    }
   ],
   "source": [
    "df_22[\"Succes\"].value_counts()"
   ]
  },
  {
   "cell_type": "code",
   "execution_count": 30,
   "id": "ae5a0a1e",
   "metadata": {},
   "outputs": [
    {
     "data": {
      "text/plain": [
       "-199256"
      ]
     },
     "execution_count": 30,
     "metadata": {},
     "output_type": "execute_result"
    }
   ],
   "source": [
    "118280 - 317536"
   ]
  },
  {
   "cell_type": "code",
   "execution_count": 31,
   "id": "f7dc55fb",
   "metadata": {},
   "outputs": [
    {
     "name": "stderr",
     "output_type": "stream",
     "text": [
      "C:\\Users\\LOUDOU~1\\AppData\\Local\\Temp/ipykernel_36400/2324178546.py:1: SettingWithCopyWarning: \n",
      "A value is trying to be set on a copy of a slice from a DataFrame\n",
      "\n",
      "See the caveats in the documentation: https://pandas.pydata.org/pandas-docs/stable/user_guide/indexing.html#returning-a-view-versus-a-copy\n",
      "  df_22.drop(df_22.index[:199256], inplace=True)\n"
     ]
    }
   ],
   "source": [
    "df_22.drop(df_22.index[:199256], inplace=True)"
   ]
  },
  {
   "cell_type": "code",
   "execution_count": 32,
   "id": "d6b35834",
   "metadata": {},
   "outputs": [
    {
     "data": {
      "text/plain": [
       "0    118280\n",
       "Name: Succes, dtype: int64"
      ]
     },
     "execution_count": 32,
     "metadata": {},
     "output_type": "execute_result"
    }
   ],
   "source": [
    "df_22[\"Succes\"].value_counts()"
   ]
  },
  {
   "cell_type": "code",
   "execution_count": 33,
   "id": "fd112c74",
   "metadata": {},
   "outputs": [],
   "source": [
    "df_33 = pd.concat([df_11, df_22],ignore_index = True)"
   ]
  },
  {
   "cell_type": "code",
   "execution_count": 34,
   "id": "6645b096",
   "metadata": {},
   "outputs": [
    {
     "data": {
      "text/plain": [
       "1    118280\n",
       "0    118280\n",
       "Name: Succes, dtype: int64"
      ]
     },
     "execution_count": 34,
     "metadata": {},
     "output_type": "execute_result"
    }
   ],
   "source": [
    "df_33[\"Succes\"].value_counts()"
   ]
  },
  {
   "cell_type": "code",
   "execution_count": 35,
   "id": "8639a820",
   "metadata": {},
   "outputs": [
    {
     "data": {
      "text/html": [
       "<div>\n",
       "<style scoped>\n",
       "    .dataframe tbody tr th:only-of-type {\n",
       "        vertical-align: middle;\n",
       "    }\n",
       "\n",
       "    .dataframe tbody tr th {\n",
       "        vertical-align: top;\n",
       "    }\n",
       "\n",
       "    .dataframe thead th {\n",
       "        text-align: right;\n",
       "    }\n",
       "</style>\n",
       "<table border=\"1\" class=\"dataframe\">\n",
       "  <thead>\n",
       "    <tr style=\"text-align: right;\">\n",
       "      <th></th>\n",
       "      <th>MandatId</th>\n",
       "      <th>DateCreation</th>\n",
       "      <th>BienMandatId</th>\n",
       "      <th>Statut</th>\n",
       "      <th>DescriptionBien_DateOffreAcceptee</th>\n",
       "      <th>Origine_DateCollecte</th>\n",
       "      <th>CritereId</th>\n",
       "      <th>SurfaceMin</th>\n",
       "      <th>NombrePiecesEnum</th>\n",
       "      <th>NombreChambresEnum</th>\n",
       "      <th>Departement_LocalisationId</th>\n",
       "      <th>Region_LocalisationId</th>\n",
       "      <th>LocalisationId</th>\n",
       "      <th>StatutMandat</th>\n",
       "      <th>TypeMission</th>\n",
       "      <th>TypeBien</th>\n",
       "      <th>TypeProjet</th>\n",
       "      <th>BudgetMaxEuro</th>\n",
       "      <th>CodePostal</th>\n",
       "      <th>Ville</th>\n",
       "      <th>Departement</th>\n",
       "      <th>Region</th>\n",
       "      <th>Succes</th>\n",
       "    </tr>\n",
       "  </thead>\n",
       "  <tbody>\n",
       "    <tr>\n",
       "      <th>0</th>\n",
       "      <td>80309</td>\n",
       "      <td>2021-03-23</td>\n",
       "      <td>399964</td>\n",
       "      <td>4</td>\n",
       "      <td>0001-01-01</td>\n",
       "      <td>0001-01-01</td>\n",
       "      <td>81128</td>\n",
       "      <td>30</td>\n",
       "      <td>2</td>\n",
       "      <td>1</td>\n",
       "      <td>121</td>\n",
       "      <td>27</td>\n",
       "      <td>129</td>\n",
       "      <td>8</td>\n",
       "      <td>2</td>\n",
       "      <td>2</td>\n",
       "      <td>1</td>\n",
       "      <td>100000</td>\n",
       "      <td>1000</td>\n",
       "      <td>Bourg En Bresse</td>\n",
       "      <td>Ain</td>\n",
       "      <td>Rhône-Alpes</td>\n",
       "      <td>1</td>\n",
       "    </tr>\n",
       "    <tr>\n",
       "      <th>1</th>\n",
       "      <td>80309</td>\n",
       "      <td>2021-03-23</td>\n",
       "      <td>399990</td>\n",
       "      <td>0</td>\n",
       "      <td>0001-01-01</td>\n",
       "      <td>2021-03-31</td>\n",
       "      <td>81128</td>\n",
       "      <td>30</td>\n",
       "      <td>2</td>\n",
       "      <td>1</td>\n",
       "      <td>121</td>\n",
       "      <td>27</td>\n",
       "      <td>129</td>\n",
       "      <td>8</td>\n",
       "      <td>2</td>\n",
       "      <td>2</td>\n",
       "      <td>1</td>\n",
       "      <td>100000</td>\n",
       "      <td>1000</td>\n",
       "      <td>Bourg En Bresse</td>\n",
       "      <td>Ain</td>\n",
       "      <td>Rhône-Alpes</td>\n",
       "      <td>1</td>\n",
       "    </tr>\n",
       "    <tr>\n",
       "      <th>2</th>\n",
       "      <td>80309</td>\n",
       "      <td>2021-03-23</td>\n",
       "      <td>399992</td>\n",
       "      <td>0</td>\n",
       "      <td>0001-01-01</td>\n",
       "      <td>2021-03-31</td>\n",
       "      <td>81128</td>\n",
       "      <td>30</td>\n",
       "      <td>2</td>\n",
       "      <td>1</td>\n",
       "      <td>121</td>\n",
       "      <td>27</td>\n",
       "      <td>129</td>\n",
       "      <td>8</td>\n",
       "      <td>2</td>\n",
       "      <td>2</td>\n",
       "      <td>1</td>\n",
       "      <td>100000</td>\n",
       "      <td>1000</td>\n",
       "      <td>Bourg En Bresse</td>\n",
       "      <td>Ain</td>\n",
       "      <td>Rhône-Alpes</td>\n",
       "      <td>1</td>\n",
       "    </tr>\n",
       "    <tr>\n",
       "      <th>3</th>\n",
       "      <td>80309</td>\n",
       "      <td>2021-03-23</td>\n",
       "      <td>399993</td>\n",
       "      <td>0</td>\n",
       "      <td>0001-01-01</td>\n",
       "      <td>2021-03-31</td>\n",
       "      <td>81128</td>\n",
       "      <td>30</td>\n",
       "      <td>2</td>\n",
       "      <td>1</td>\n",
       "      <td>121</td>\n",
       "      <td>27</td>\n",
       "      <td>129</td>\n",
       "      <td>8</td>\n",
       "      <td>2</td>\n",
       "      <td>2</td>\n",
       "      <td>1</td>\n",
       "      <td>100000</td>\n",
       "      <td>1000</td>\n",
       "      <td>Bourg En Bresse</td>\n",
       "      <td>Ain</td>\n",
       "      <td>Rhône-Alpes</td>\n",
       "      <td>1</td>\n",
       "    </tr>\n",
       "    <tr>\n",
       "      <th>4</th>\n",
       "      <td>80309</td>\n",
       "      <td>2021-03-23</td>\n",
       "      <td>400289</td>\n",
       "      <td>0</td>\n",
       "      <td>0001-01-01</td>\n",
       "      <td>0001-01-01</td>\n",
       "      <td>81128</td>\n",
       "      <td>30</td>\n",
       "      <td>2</td>\n",
       "      <td>1</td>\n",
       "      <td>121</td>\n",
       "      <td>27</td>\n",
       "      <td>129</td>\n",
       "      <td>8</td>\n",
       "      <td>2</td>\n",
       "      <td>2</td>\n",
       "      <td>1</td>\n",
       "      <td>100000</td>\n",
       "      <td>1000</td>\n",
       "      <td>Bourg En Bresse</td>\n",
       "      <td>Ain</td>\n",
       "      <td>Rhône-Alpes</td>\n",
       "      <td>1</td>\n",
       "    </tr>\n",
       "  </tbody>\n",
       "</table>\n",
       "</div>"
      ],
      "text/plain": [
       "   MandatId DateCreation  BienMandatId  Statut  \\\n",
       "0     80309   2021-03-23        399964       4   \n",
       "1     80309   2021-03-23        399990       0   \n",
       "2     80309   2021-03-23        399992       0   \n",
       "3     80309   2021-03-23        399993       0   \n",
       "4     80309   2021-03-23        400289       0   \n",
       "\n",
       "  DescriptionBien_DateOffreAcceptee Origine_DateCollecte  CritereId  \\\n",
       "0                        0001-01-01           0001-01-01      81128   \n",
       "1                        0001-01-01           2021-03-31      81128   \n",
       "2                        0001-01-01           2021-03-31      81128   \n",
       "3                        0001-01-01           2021-03-31      81128   \n",
       "4                        0001-01-01           0001-01-01      81128   \n",
       "\n",
       "   SurfaceMin  NombrePiecesEnum  NombreChambresEnum  \\\n",
       "0          30                 2                   1   \n",
       "1          30                 2                   1   \n",
       "2          30                 2                   1   \n",
       "3          30                 2                   1   \n",
       "4          30                 2                   1   \n",
       "\n",
       "   Departement_LocalisationId  Region_LocalisationId  LocalisationId  \\\n",
       "0                         121                     27             129   \n",
       "1                         121                     27             129   \n",
       "2                         121                     27             129   \n",
       "3                         121                     27             129   \n",
       "4                         121                     27             129   \n",
       "\n",
       "   StatutMandat  TypeMission  TypeBien  TypeProjet  BudgetMaxEuro  CodePostal  \\\n",
       "0             8            2         2           1         100000        1000   \n",
       "1             8            2         2           1         100000        1000   \n",
       "2             8            2         2           1         100000        1000   \n",
       "3             8            2         2           1         100000        1000   \n",
       "4             8            2         2           1         100000        1000   \n",
       "\n",
       "             Ville Departement       Region  Succes  \n",
       "0  Bourg En Bresse         Ain  Rhône-Alpes       1  \n",
       "1  Bourg En Bresse         Ain  Rhône-Alpes       1  \n",
       "2  Bourg En Bresse         Ain  Rhône-Alpes       1  \n",
       "3  Bourg En Bresse         Ain  Rhône-Alpes       1  \n",
       "4  Bourg En Bresse         Ain  Rhône-Alpes       1  "
      ]
     },
     "execution_count": 35,
     "metadata": {},
     "output_type": "execute_result"
    }
   ],
   "source": [
    "df_33.head()"
   ]
  },
  {
   "cell_type": "markdown",
   "id": "6bc988eb",
   "metadata": {},
   "source": [
    "# Préparation des données"
   ]
  },
  {
   "cell_type": "code",
   "execution_count": 36,
   "id": "cf487661",
   "metadata": {},
   "outputs": [
    {
     "name": "stdout",
     "output_type": "stream",
     "text": [
      "<class 'pandas.core.frame.DataFrame'>\n",
      "RangeIndex: 236560 entries, 0 to 236559\n",
      "Data columns (total 23 columns):\n",
      " #   Column                             Non-Null Count   Dtype \n",
      "---  ------                             --------------   ----- \n",
      " 0   MandatId                           236560 non-null  int64 \n",
      " 1   DateCreation                       236560 non-null  object\n",
      " 2   BienMandatId                       236560 non-null  int64 \n",
      " 3   Statut                             236560 non-null  int64 \n",
      " 4   DescriptionBien_DateOffreAcceptee  236560 non-null  object\n",
      " 5   Origine_DateCollecte               236560 non-null  object\n",
      " 6   CritereId                          236560 non-null  int64 \n",
      " 7   SurfaceMin                         236560 non-null  int64 \n",
      " 8   NombrePiecesEnum                   236560 non-null  int64 \n",
      " 9   NombreChambresEnum                 236560 non-null  int64 \n",
      " 10  Departement_LocalisationId         236560 non-null  int64 \n",
      " 11  Region_LocalisationId              236560 non-null  int64 \n",
      " 12  LocalisationId                     236560 non-null  int64 \n",
      " 13  StatutMandat                       236560 non-null  int64 \n",
      " 14  TypeMission                        236560 non-null  int64 \n",
      " 15  TypeBien                           236560 non-null  int64 \n",
      " 16  TypeProjet                         236560 non-null  int64 \n",
      " 17  BudgetMaxEuro                      236560 non-null  int64 \n",
      " 18  CodePostal                         236560 non-null  int64 \n",
      " 19  Ville                              236560 non-null  object\n",
      " 20  Departement                        236560 non-null  object\n",
      " 21  Region                             236560 non-null  object\n",
      " 22  Succes                             236560 non-null  int64 \n",
      "dtypes: int64(17), object(6)\n",
      "memory usage: 41.5+ MB\n"
     ]
    }
   ],
   "source": [
    "df_33.info()"
   ]
  },
  {
   "cell_type": "code",
   "execution_count": 37,
   "id": "2503b7a0",
   "metadata": {},
   "outputs": [],
   "source": [
    "df_33.drop([\"MandatId\", \"BienMandatId\",\"CritereId\",\"Statut\",\"StatutMandat\",\"DateCreation\", \"DescriptionBien_DateOffreAcceptee\",\"Origine_DateCollecte\", \"Departement_LocalisationId\", \"Region_LocalisationId\", \"LocalisationId\"], axis = 1, inplace = True)"
   ]
  },
  {
   "cell_type": "code",
   "execution_count": 38,
   "id": "24b5ade4",
   "metadata": {},
   "outputs": [
    {
     "data": {
      "text/plain": [
       "SurfaceMin             66\n",
       "NombrePiecesEnum        7\n",
       "NombreChambresEnum      7\n",
       "TypeMission             6\n",
       "TypeBien                9\n",
       "TypeProjet              3\n",
       "BudgetMaxEuro         154\n",
       "CodePostal            359\n",
       "Succes                  2\n",
       "dtype: int64"
      ]
     },
     "execution_count": 38,
     "metadata": {},
     "output_type": "execute_result"
    }
   ],
   "source": [
    "df_33.select_dtypes('int').apply(pd.Series.nunique, axis = 0)"
   ]
  },
  {
   "cell_type": "code",
   "execution_count": 39,
   "id": "0f6d782f",
   "metadata": {},
   "outputs": [
    {
     "data": {
      "text/plain": [
       "Ville          671\n",
       "Departement     23\n",
       "Region          15\n",
       "dtype: int64"
      ]
     },
     "execution_count": 39,
     "metadata": {},
     "output_type": "execute_result"
    }
   ],
   "source": [
    "df_33.select_dtypes('object').apply(pd.Series.nunique, axis = 0)"
   ]
  },
  {
   "cell_type": "code",
   "execution_count": 40,
   "id": "4146e746",
   "metadata": {},
   "outputs": [
    {
     "data": {
      "text/plain": [
       "Series([], dtype: float64)"
      ]
     },
     "execution_count": 40,
     "metadata": {},
     "output_type": "execute_result"
    }
   ],
   "source": [
    "df_33.select_dtypes('float').apply(pd.Series.nunique, axis = 0)"
   ]
  },
  {
   "cell_type": "code",
   "execution_count": 41,
   "id": "ac8c07a0",
   "metadata": {},
   "outputs": [
    {
     "data": {
      "text/html": [
       "<div>\n",
       "<style scoped>\n",
       "    .dataframe tbody tr th:only-of-type {\n",
       "        vertical-align: middle;\n",
       "    }\n",
       "\n",
       "    .dataframe tbody tr th {\n",
       "        vertical-align: top;\n",
       "    }\n",
       "\n",
       "    .dataframe thead th {\n",
       "        text-align: right;\n",
       "    }\n",
       "</style>\n",
       "<table border=\"1\" class=\"dataframe\">\n",
       "  <thead>\n",
       "    <tr style=\"text-align: right;\">\n",
       "      <th></th>\n",
       "      <th>SurfaceMin</th>\n",
       "      <th>NombrePiecesEnum</th>\n",
       "      <th>NombreChambresEnum</th>\n",
       "      <th>TypeMission</th>\n",
       "      <th>TypeBien</th>\n",
       "      <th>TypeProjet</th>\n",
       "      <th>BudgetMaxEuro</th>\n",
       "      <th>CodePostal</th>\n",
       "      <th>Ville</th>\n",
       "      <th>Departement</th>\n",
       "      <th>Region</th>\n",
       "      <th>Succes</th>\n",
       "    </tr>\n",
       "  </thead>\n",
       "  <tbody>\n",
       "    <tr>\n",
       "      <th>0</th>\n",
       "      <td>30</td>\n",
       "      <td>2</td>\n",
       "      <td>1</td>\n",
       "      <td>2</td>\n",
       "      <td>2</td>\n",
       "      <td>1</td>\n",
       "      <td>100000</td>\n",
       "      <td>1000</td>\n",
       "      <td>Bourg En Bresse</td>\n",
       "      <td>Ain</td>\n",
       "      <td>Rhône-Alpes</td>\n",
       "      <td>1</td>\n",
       "    </tr>\n",
       "    <tr>\n",
       "      <th>1</th>\n",
       "      <td>30</td>\n",
       "      <td>2</td>\n",
       "      <td>1</td>\n",
       "      <td>2</td>\n",
       "      <td>2</td>\n",
       "      <td>1</td>\n",
       "      <td>100000</td>\n",
       "      <td>1000</td>\n",
       "      <td>Bourg En Bresse</td>\n",
       "      <td>Ain</td>\n",
       "      <td>Rhône-Alpes</td>\n",
       "      <td>1</td>\n",
       "    </tr>\n",
       "  </tbody>\n",
       "</table>\n",
       "</div>"
      ],
      "text/plain": [
       "   SurfaceMin  NombrePiecesEnum  NombreChambresEnum  TypeMission  TypeBien  \\\n",
       "0          30                 2                   1            2         2   \n",
       "1          30                 2                   1            2         2   \n",
       "\n",
       "   TypeProjet  BudgetMaxEuro  CodePostal            Ville Departement  \\\n",
       "0           1         100000        1000  Bourg En Bresse         Ain   \n",
       "1           1         100000        1000  Bourg En Bresse         Ain   \n",
       "\n",
       "        Region  Succes  \n",
       "0  Rhône-Alpes       1  \n",
       "1  Rhône-Alpes       1  "
      ]
     },
     "execution_count": 41,
     "metadata": {},
     "output_type": "execute_result"
    }
   ],
   "source": [
    "df_33.head(2)"
   ]
  },
  {
   "cell_type": "markdown",
   "id": "90c7785f",
   "metadata": {},
   "source": [
    "# Machine Learning"
   ]
  },
  {
   "cell_type": "raw",
   "id": "1ee6eb63",
   "metadata": {},
   "source": [
    "def corrplot(df_test, method=\"pearson\", annot=True, **kwargs):\n",
    "    sns.clustermap(\n",
    "        df.corr(method),\n",
    "        vmin=-1.0,\n",
    "        vmax=1.0,\n",
    "        cmap=\"icefire\",\n",
    "        method=\"complete\",\n",
    "        annot=annot,\n",
    "        **kwargs,\n",
    "    )\n",
    "\n",
    "\n",
    "corrplot(X, annot=None)"
   ]
  },
  {
   "cell_type": "markdown",
   "id": "db26a729",
   "metadata": {},
   "source": [
    "# Pre-processing"
   ]
  },
  {
   "cell_type": "markdown",
   "id": "7ed47283",
   "metadata": {},
   "source": [
    "## Encodage ==> Get_dummies"
   ]
  },
  {
   "cell_type": "code",
   "execution_count": 42,
   "id": "e5db1c6d",
   "metadata": {},
   "outputs": [],
   "source": [
    "df_test = pd.get_dummies(df_33,columns = ['Region','Departement'], drop_first=True)\n",
    "#df = pd.concat([df_test.drop(['Region', 'Ville',\"Departement\"],axis=1), dummies],axis=1)"
   ]
  },
  {
   "cell_type": "code",
   "execution_count": 43,
   "id": "a5d9f701",
   "metadata": {},
   "outputs": [
    {
     "data": {
      "text/html": [
       "<div>\n",
       "<style scoped>\n",
       "    .dataframe tbody tr th:only-of-type {\n",
       "        vertical-align: middle;\n",
       "    }\n",
       "\n",
       "    .dataframe tbody tr th {\n",
       "        vertical-align: top;\n",
       "    }\n",
       "\n",
       "    .dataframe thead th {\n",
       "        text-align: right;\n",
       "    }\n",
       "</style>\n",
       "<table border=\"1\" class=\"dataframe\">\n",
       "  <thead>\n",
       "    <tr style=\"text-align: right;\">\n",
       "      <th></th>\n",
       "      <th>SurfaceMin</th>\n",
       "      <th>NombrePiecesEnum</th>\n",
       "      <th>NombreChambresEnum</th>\n",
       "      <th>TypeMission</th>\n",
       "      <th>TypeBien</th>\n",
       "      <th>TypeProjet</th>\n",
       "      <th>BudgetMaxEuro</th>\n",
       "      <th>CodePostal</th>\n",
       "      <th>Ville</th>\n",
       "      <th>Succes</th>\n",
       "      <th>Region_Auvergne</th>\n",
       "      <th>Region_Bourgogne</th>\n",
       "      <th>Region_Bretagne</th>\n",
       "      <th>Region_Centre</th>\n",
       "      <th>Region_Champagne-Ardenne</th>\n",
       "      <th>Region_Corse</th>\n",
       "      <th>Region_Franche-Comté</th>\n",
       "      <th>Region_Haute-Normandie</th>\n",
       "      <th>Region_Languedoc-Roussillon</th>\n",
       "      <th>Region_Midi-Pyrénées</th>\n",
       "      <th>Region_Picardie</th>\n",
       "      <th>Region_Poitou-Charentes</th>\n",
       "      <th>Region_Provence-Alpes-Côte d'Azur</th>\n",
       "      <th>Region_Rhône-Alpes</th>\n",
       "      <th>Departement_Aisne</th>\n",
       "      <th>Departement_Allier</th>\n",
       "      <th>Departement_Alpes-Maritimes</th>\n",
       "      <th>Departement_Ardèche</th>\n",
       "      <th>Departement_Aube</th>\n",
       "      <th>Departement_Aude</th>\n",
       "      <th>Departement_Bouches-du-Rhône</th>\n",
       "      <th>Departement_Charente</th>\n",
       "      <th>Departement_Charente-Maritime</th>\n",
       "      <th>Departement_Corse-du-Sud</th>\n",
       "      <th>Departement_Côte-d'Or</th>\n",
       "      <th>Departement_Côtes-d'Armor</th>\n",
       "      <th>Departement_Doubs</th>\n",
       "      <th>Departement_Drôme</th>\n",
       "      <th>Departement_Eure</th>\n",
       "      <th>Departement_Eure-et-Loir</th>\n",
       "      <th>Departement_Finistère</th>\n",
       "      <th>Departement_Gard</th>\n",
       "      <th>Departement_Gers</th>\n",
       "      <th>Departement_Gironde</th>\n",
       "      <th>Departement_Haute-Garonne</th>\n",
       "      <th>Departement_Hérault</th>\n",
       "    </tr>\n",
       "  </thead>\n",
       "  <tbody>\n",
       "    <tr>\n",
       "      <th>0</th>\n",
       "      <td>30</td>\n",
       "      <td>2</td>\n",
       "      <td>1</td>\n",
       "      <td>2</td>\n",
       "      <td>2</td>\n",
       "      <td>1</td>\n",
       "      <td>100000</td>\n",
       "      <td>1000</td>\n",
       "      <td>Bourg En Bresse</td>\n",
       "      <td>1</td>\n",
       "      <td>0</td>\n",
       "      <td>0</td>\n",
       "      <td>0</td>\n",
       "      <td>0</td>\n",
       "      <td>0</td>\n",
       "      <td>0</td>\n",
       "      <td>0</td>\n",
       "      <td>0</td>\n",
       "      <td>0</td>\n",
       "      <td>0</td>\n",
       "      <td>0</td>\n",
       "      <td>0</td>\n",
       "      <td>0</td>\n",
       "      <td>1</td>\n",
       "      <td>0</td>\n",
       "      <td>0</td>\n",
       "      <td>0</td>\n",
       "      <td>0</td>\n",
       "      <td>0</td>\n",
       "      <td>0</td>\n",
       "      <td>0</td>\n",
       "      <td>0</td>\n",
       "      <td>0</td>\n",
       "      <td>0</td>\n",
       "      <td>0</td>\n",
       "      <td>0</td>\n",
       "      <td>0</td>\n",
       "      <td>0</td>\n",
       "      <td>0</td>\n",
       "      <td>0</td>\n",
       "      <td>0</td>\n",
       "      <td>0</td>\n",
       "      <td>0</td>\n",
       "      <td>0</td>\n",
       "      <td>0</td>\n",
       "      <td>0</td>\n",
       "    </tr>\n",
       "    <tr>\n",
       "      <th>1</th>\n",
       "      <td>30</td>\n",
       "      <td>2</td>\n",
       "      <td>1</td>\n",
       "      <td>2</td>\n",
       "      <td>2</td>\n",
       "      <td>1</td>\n",
       "      <td>100000</td>\n",
       "      <td>1000</td>\n",
       "      <td>Bourg En Bresse</td>\n",
       "      <td>1</td>\n",
       "      <td>0</td>\n",
       "      <td>0</td>\n",
       "      <td>0</td>\n",
       "      <td>0</td>\n",
       "      <td>0</td>\n",
       "      <td>0</td>\n",
       "      <td>0</td>\n",
       "      <td>0</td>\n",
       "      <td>0</td>\n",
       "      <td>0</td>\n",
       "      <td>0</td>\n",
       "      <td>0</td>\n",
       "      <td>0</td>\n",
       "      <td>1</td>\n",
       "      <td>0</td>\n",
       "      <td>0</td>\n",
       "      <td>0</td>\n",
       "      <td>0</td>\n",
       "      <td>0</td>\n",
       "      <td>0</td>\n",
       "      <td>0</td>\n",
       "      <td>0</td>\n",
       "      <td>0</td>\n",
       "      <td>0</td>\n",
       "      <td>0</td>\n",
       "      <td>0</td>\n",
       "      <td>0</td>\n",
       "      <td>0</td>\n",
       "      <td>0</td>\n",
       "      <td>0</td>\n",
       "      <td>0</td>\n",
       "      <td>0</td>\n",
       "      <td>0</td>\n",
       "      <td>0</td>\n",
       "      <td>0</td>\n",
       "      <td>0</td>\n",
       "    </tr>\n",
       "    <tr>\n",
       "      <th>2</th>\n",
       "      <td>30</td>\n",
       "      <td>2</td>\n",
       "      <td>1</td>\n",
       "      <td>2</td>\n",
       "      <td>2</td>\n",
       "      <td>1</td>\n",
       "      <td>100000</td>\n",
       "      <td>1000</td>\n",
       "      <td>Bourg En Bresse</td>\n",
       "      <td>1</td>\n",
       "      <td>0</td>\n",
       "      <td>0</td>\n",
       "      <td>0</td>\n",
       "      <td>0</td>\n",
       "      <td>0</td>\n",
       "      <td>0</td>\n",
       "      <td>0</td>\n",
       "      <td>0</td>\n",
       "      <td>0</td>\n",
       "      <td>0</td>\n",
       "      <td>0</td>\n",
       "      <td>0</td>\n",
       "      <td>0</td>\n",
       "      <td>1</td>\n",
       "      <td>0</td>\n",
       "      <td>0</td>\n",
       "      <td>0</td>\n",
       "      <td>0</td>\n",
       "      <td>0</td>\n",
       "      <td>0</td>\n",
       "      <td>0</td>\n",
       "      <td>0</td>\n",
       "      <td>0</td>\n",
       "      <td>0</td>\n",
       "      <td>0</td>\n",
       "      <td>0</td>\n",
       "      <td>0</td>\n",
       "      <td>0</td>\n",
       "      <td>0</td>\n",
       "      <td>0</td>\n",
       "      <td>0</td>\n",
       "      <td>0</td>\n",
       "      <td>0</td>\n",
       "      <td>0</td>\n",
       "      <td>0</td>\n",
       "      <td>0</td>\n",
       "    </tr>\n",
       "    <tr>\n",
       "      <th>3</th>\n",
       "      <td>30</td>\n",
       "      <td>2</td>\n",
       "      <td>1</td>\n",
       "      <td>2</td>\n",
       "      <td>2</td>\n",
       "      <td>1</td>\n",
       "      <td>100000</td>\n",
       "      <td>1000</td>\n",
       "      <td>Bourg En Bresse</td>\n",
       "      <td>1</td>\n",
       "      <td>0</td>\n",
       "      <td>0</td>\n",
       "      <td>0</td>\n",
       "      <td>0</td>\n",
       "      <td>0</td>\n",
       "      <td>0</td>\n",
       "      <td>0</td>\n",
       "      <td>0</td>\n",
       "      <td>0</td>\n",
       "      <td>0</td>\n",
       "      <td>0</td>\n",
       "      <td>0</td>\n",
       "      <td>0</td>\n",
       "      <td>1</td>\n",
       "      <td>0</td>\n",
       "      <td>0</td>\n",
       "      <td>0</td>\n",
       "      <td>0</td>\n",
       "      <td>0</td>\n",
       "      <td>0</td>\n",
       "      <td>0</td>\n",
       "      <td>0</td>\n",
       "      <td>0</td>\n",
       "      <td>0</td>\n",
       "      <td>0</td>\n",
       "      <td>0</td>\n",
       "      <td>0</td>\n",
       "      <td>0</td>\n",
       "      <td>0</td>\n",
       "      <td>0</td>\n",
       "      <td>0</td>\n",
       "      <td>0</td>\n",
       "      <td>0</td>\n",
       "      <td>0</td>\n",
       "      <td>0</td>\n",
       "      <td>0</td>\n",
       "    </tr>\n",
       "    <tr>\n",
       "      <th>4</th>\n",
       "      <td>30</td>\n",
       "      <td>2</td>\n",
       "      <td>1</td>\n",
       "      <td>2</td>\n",
       "      <td>2</td>\n",
       "      <td>1</td>\n",
       "      <td>100000</td>\n",
       "      <td>1000</td>\n",
       "      <td>Bourg En Bresse</td>\n",
       "      <td>1</td>\n",
       "      <td>0</td>\n",
       "      <td>0</td>\n",
       "      <td>0</td>\n",
       "      <td>0</td>\n",
       "      <td>0</td>\n",
       "      <td>0</td>\n",
       "      <td>0</td>\n",
       "      <td>0</td>\n",
       "      <td>0</td>\n",
       "      <td>0</td>\n",
       "      <td>0</td>\n",
       "      <td>0</td>\n",
       "      <td>0</td>\n",
       "      <td>1</td>\n",
       "      <td>0</td>\n",
       "      <td>0</td>\n",
       "      <td>0</td>\n",
       "      <td>0</td>\n",
       "      <td>0</td>\n",
       "      <td>0</td>\n",
       "      <td>0</td>\n",
       "      <td>0</td>\n",
       "      <td>0</td>\n",
       "      <td>0</td>\n",
       "      <td>0</td>\n",
       "      <td>0</td>\n",
       "      <td>0</td>\n",
       "      <td>0</td>\n",
       "      <td>0</td>\n",
       "      <td>0</td>\n",
       "      <td>0</td>\n",
       "      <td>0</td>\n",
       "      <td>0</td>\n",
       "      <td>0</td>\n",
       "      <td>0</td>\n",
       "      <td>0</td>\n",
       "    </tr>\n",
       "  </tbody>\n",
       "</table>\n",
       "</div>"
      ],
      "text/plain": [
       "   SurfaceMin  NombrePiecesEnum  NombreChambresEnum  TypeMission  TypeBien  \\\n",
       "0          30                 2                   1            2         2   \n",
       "1          30                 2                   1            2         2   \n",
       "2          30                 2                   1            2         2   \n",
       "3          30                 2                   1            2         2   \n",
       "4          30                 2                   1            2         2   \n",
       "\n",
       "   TypeProjet  BudgetMaxEuro  CodePostal            Ville  Succes  \\\n",
       "0           1         100000        1000  Bourg En Bresse       1   \n",
       "1           1         100000        1000  Bourg En Bresse       1   \n",
       "2           1         100000        1000  Bourg En Bresse       1   \n",
       "3           1         100000        1000  Bourg En Bresse       1   \n",
       "4           1         100000        1000  Bourg En Bresse       1   \n",
       "\n",
       "   Region_Auvergne  Region_Bourgogne  Region_Bretagne  Region_Centre  \\\n",
       "0                0                 0                0              0   \n",
       "1                0                 0                0              0   \n",
       "2                0                 0                0              0   \n",
       "3                0                 0                0              0   \n",
       "4                0                 0                0              0   \n",
       "\n",
       "   Region_Champagne-Ardenne  Region_Corse  Region_Franche-Comté  \\\n",
       "0                         0             0                     0   \n",
       "1                         0             0                     0   \n",
       "2                         0             0                     0   \n",
       "3                         0             0                     0   \n",
       "4                         0             0                     0   \n",
       "\n",
       "   Region_Haute-Normandie  Region_Languedoc-Roussillon  Region_Midi-Pyrénées  \\\n",
       "0                       0                            0                     0   \n",
       "1                       0                            0                     0   \n",
       "2                       0                            0                     0   \n",
       "3                       0                            0                     0   \n",
       "4                       0                            0                     0   \n",
       "\n",
       "   Region_Picardie  Region_Poitou-Charentes  \\\n",
       "0                0                        0   \n",
       "1                0                        0   \n",
       "2                0                        0   \n",
       "3                0                        0   \n",
       "4                0                        0   \n",
       "\n",
       "   Region_Provence-Alpes-Côte d'Azur  Region_Rhône-Alpes  Departement_Aisne  \\\n",
       "0                                  0                   1                  0   \n",
       "1                                  0                   1                  0   \n",
       "2                                  0                   1                  0   \n",
       "3                                  0                   1                  0   \n",
       "4                                  0                   1                  0   \n",
       "\n",
       "   Departement_Allier  Departement_Alpes-Maritimes  Departement_Ardèche  \\\n",
       "0                   0                            0                    0   \n",
       "1                   0                            0                    0   \n",
       "2                   0                            0                    0   \n",
       "3                   0                            0                    0   \n",
       "4                   0                            0                    0   \n",
       "\n",
       "   Departement_Aube  Departement_Aude  Departement_Bouches-du-Rhône  \\\n",
       "0                 0                 0                             0   \n",
       "1                 0                 0                             0   \n",
       "2                 0                 0                             0   \n",
       "3                 0                 0                             0   \n",
       "4                 0                 0                             0   \n",
       "\n",
       "   Departement_Charente  Departement_Charente-Maritime  \\\n",
       "0                     0                              0   \n",
       "1                     0                              0   \n",
       "2                     0                              0   \n",
       "3                     0                              0   \n",
       "4                     0                              0   \n",
       "\n",
       "   Departement_Corse-du-Sud  Departement_Côte-d'Or  Departement_Côtes-d'Armor  \\\n",
       "0                         0                      0                          0   \n",
       "1                         0                      0                          0   \n",
       "2                         0                      0                          0   \n",
       "3                         0                      0                          0   \n",
       "4                         0                      0                          0   \n",
       "\n",
       "   Departement_Doubs  Departement_Drôme  Departement_Eure  \\\n",
       "0                  0                  0                 0   \n",
       "1                  0                  0                 0   \n",
       "2                  0                  0                 0   \n",
       "3                  0                  0                 0   \n",
       "4                  0                  0                 0   \n",
       "\n",
       "   Departement_Eure-et-Loir  Departement_Finistère  Departement_Gard  \\\n",
       "0                         0                      0                 0   \n",
       "1                         0                      0                 0   \n",
       "2                         0                      0                 0   \n",
       "3                         0                      0                 0   \n",
       "4                         0                      0                 0   \n",
       "\n",
       "   Departement_Gers  Departement_Gironde  Departement_Haute-Garonne  \\\n",
       "0                 0                    0                          0   \n",
       "1                 0                    0                          0   \n",
       "2                 0                    0                          0   \n",
       "3                 0                    0                          0   \n",
       "4                 0                    0                          0   \n",
       "\n",
       "   Departement_Hérault  \n",
       "0                    0  \n",
       "1                    0  \n",
       "2                    0  \n",
       "3                    0  \n",
       "4                    0  "
      ]
     },
     "execution_count": 43,
     "metadata": {},
     "output_type": "execute_result"
    }
   ],
   "source": [
    "df_test.head()"
   ]
  },
  {
   "cell_type": "code",
   "execution_count": 44,
   "id": "bf3431b4",
   "metadata": {},
   "outputs": [
    {
     "data": {
      "text/plain": [
       "SurfaceMin                           0\n",
       "NombrePiecesEnum                     0\n",
       "NombreChambresEnum                   0\n",
       "TypeMission                          0\n",
       "TypeBien                             0\n",
       "TypeProjet                           0\n",
       "BudgetMaxEuro                        0\n",
       "CodePostal                           0\n",
       "Ville                                0\n",
       "Succes                               0\n",
       "Region_Auvergne                      0\n",
       "Region_Bourgogne                     0\n",
       "Region_Bretagne                      0\n",
       "Region_Centre                        0\n",
       "Region_Champagne-Ardenne             0\n",
       "Region_Corse                         0\n",
       "Region_Franche-Comté                 0\n",
       "Region_Haute-Normandie               0\n",
       "Region_Languedoc-Roussillon          0\n",
       "Region_Midi-Pyrénées                 0\n",
       "Region_Picardie                      0\n",
       "Region_Poitou-Charentes              0\n",
       "Region_Provence-Alpes-Côte d'Azur    0\n",
       "Region_Rhône-Alpes                   0\n",
       "Departement_Aisne                    0\n",
       "Departement_Allier                   0\n",
       "Departement_Alpes-Maritimes          0\n",
       "Departement_Ardèche                  0\n",
       "Departement_Aube                     0\n",
       "Departement_Aude                     0\n",
       "Departement_Bouches-du-Rhône         0\n",
       "Departement_Charente                 0\n",
       "Departement_Charente-Maritime        0\n",
       "Departement_Corse-du-Sud             0\n",
       "Departement_Côte-d'Or                0\n",
       "Departement_Côtes-d'Armor            0\n",
       "Departement_Doubs                    0\n",
       "Departement_Drôme                    0\n",
       "Departement_Eure                     0\n",
       "Departement_Eure-et-Loir             0\n",
       "Departement_Finistère                0\n",
       "Departement_Gard                     0\n",
       "Departement_Gers                     0\n",
       "Departement_Gironde                  0\n",
       "Departement_Haute-Garonne            0\n",
       "Departement_Hérault                  0\n",
       "dtype: int64"
      ]
     },
     "execution_count": 44,
     "metadata": {},
     "output_type": "execute_result"
    }
   ],
   "source": [
    "df_test.isnull().sum()"
   ]
  },
  {
   "cell_type": "code",
   "execution_count": 45,
   "id": "6356e3cc",
   "metadata": {},
   "outputs": [
    {
     "data": {
      "text/html": [
       "<div>\n",
       "<style scoped>\n",
       "    .dataframe tbody tr th:only-of-type {\n",
       "        vertical-align: middle;\n",
       "    }\n",
       "\n",
       "    .dataframe tbody tr th {\n",
       "        vertical-align: top;\n",
       "    }\n",
       "\n",
       "    .dataframe thead th {\n",
       "        text-align: right;\n",
       "    }\n",
       "</style>\n",
       "<table border=\"1\" class=\"dataframe\">\n",
       "  <thead>\n",
       "    <tr style=\"text-align: right;\">\n",
       "      <th></th>\n",
       "      <th>SurfaceMin</th>\n",
       "      <th>NombrePiecesEnum</th>\n",
       "      <th>NombreChambresEnum</th>\n",
       "      <th>TypeMission</th>\n",
       "      <th>TypeBien</th>\n",
       "      <th>TypeProjet</th>\n",
       "      <th>BudgetMaxEuro</th>\n",
       "      <th>CodePostal</th>\n",
       "      <th>Ville</th>\n",
       "      <th>Succes</th>\n",
       "      <th>Region_Auvergne</th>\n",
       "      <th>Region_Bourgogne</th>\n",
       "      <th>Region_Bretagne</th>\n",
       "      <th>Region_Centre</th>\n",
       "      <th>Region_Champagne-Ardenne</th>\n",
       "      <th>Region_Corse</th>\n",
       "      <th>Region_Franche-Comté</th>\n",
       "      <th>Region_Haute-Normandie</th>\n",
       "      <th>Region_Languedoc-Roussillon</th>\n",
       "      <th>Region_Midi-Pyrénées</th>\n",
       "      <th>Region_Picardie</th>\n",
       "      <th>Region_Poitou-Charentes</th>\n",
       "      <th>Region_Provence-Alpes-Côte d'Azur</th>\n",
       "      <th>Region_Rhône-Alpes</th>\n",
       "      <th>Departement_Aisne</th>\n",
       "      <th>Departement_Allier</th>\n",
       "      <th>Departement_Alpes-Maritimes</th>\n",
       "      <th>Departement_Ardèche</th>\n",
       "      <th>Departement_Aube</th>\n",
       "      <th>Departement_Aude</th>\n",
       "      <th>Departement_Bouches-du-Rhône</th>\n",
       "      <th>Departement_Charente</th>\n",
       "      <th>Departement_Charente-Maritime</th>\n",
       "      <th>Departement_Corse-du-Sud</th>\n",
       "      <th>Departement_Côte-d'Or</th>\n",
       "      <th>Departement_Côtes-d'Armor</th>\n",
       "      <th>Departement_Doubs</th>\n",
       "      <th>Departement_Drôme</th>\n",
       "      <th>Departement_Eure</th>\n",
       "      <th>Departement_Eure-et-Loir</th>\n",
       "      <th>Departement_Finistère</th>\n",
       "      <th>Departement_Gard</th>\n",
       "      <th>Departement_Gers</th>\n",
       "      <th>Departement_Gironde</th>\n",
       "      <th>Departement_Haute-Garonne</th>\n",
       "      <th>Departement_Hérault</th>\n",
       "    </tr>\n",
       "  </thead>\n",
       "  <tbody>\n",
       "    <tr>\n",
       "      <th>0</th>\n",
       "      <td>30</td>\n",
       "      <td>2</td>\n",
       "      <td>1</td>\n",
       "      <td>2</td>\n",
       "      <td>2</td>\n",
       "      <td>1</td>\n",
       "      <td>100000</td>\n",
       "      <td>1000</td>\n",
       "      <td>Bourg En Bresse</td>\n",
       "      <td>1</td>\n",
       "      <td>0</td>\n",
       "      <td>0</td>\n",
       "      <td>0</td>\n",
       "      <td>0</td>\n",
       "      <td>0</td>\n",
       "      <td>0</td>\n",
       "      <td>0</td>\n",
       "      <td>0</td>\n",
       "      <td>0</td>\n",
       "      <td>0</td>\n",
       "      <td>0</td>\n",
       "      <td>0</td>\n",
       "      <td>0</td>\n",
       "      <td>1</td>\n",
       "      <td>0</td>\n",
       "      <td>0</td>\n",
       "      <td>0</td>\n",
       "      <td>0</td>\n",
       "      <td>0</td>\n",
       "      <td>0</td>\n",
       "      <td>0</td>\n",
       "      <td>0</td>\n",
       "      <td>0</td>\n",
       "      <td>0</td>\n",
       "      <td>0</td>\n",
       "      <td>0</td>\n",
       "      <td>0</td>\n",
       "      <td>0</td>\n",
       "      <td>0</td>\n",
       "      <td>0</td>\n",
       "      <td>0</td>\n",
       "      <td>0</td>\n",
       "      <td>0</td>\n",
       "      <td>0</td>\n",
       "      <td>0</td>\n",
       "      <td>0</td>\n",
       "    </tr>\n",
       "    <tr>\n",
       "      <th>1</th>\n",
       "      <td>30</td>\n",
       "      <td>2</td>\n",
       "      <td>1</td>\n",
       "      <td>2</td>\n",
       "      <td>2</td>\n",
       "      <td>1</td>\n",
       "      <td>100000</td>\n",
       "      <td>1000</td>\n",
       "      <td>Bourg En Bresse</td>\n",
       "      <td>1</td>\n",
       "      <td>0</td>\n",
       "      <td>0</td>\n",
       "      <td>0</td>\n",
       "      <td>0</td>\n",
       "      <td>0</td>\n",
       "      <td>0</td>\n",
       "      <td>0</td>\n",
       "      <td>0</td>\n",
       "      <td>0</td>\n",
       "      <td>0</td>\n",
       "      <td>0</td>\n",
       "      <td>0</td>\n",
       "      <td>0</td>\n",
       "      <td>1</td>\n",
       "      <td>0</td>\n",
       "      <td>0</td>\n",
       "      <td>0</td>\n",
       "      <td>0</td>\n",
       "      <td>0</td>\n",
       "      <td>0</td>\n",
       "      <td>0</td>\n",
       "      <td>0</td>\n",
       "      <td>0</td>\n",
       "      <td>0</td>\n",
       "      <td>0</td>\n",
       "      <td>0</td>\n",
       "      <td>0</td>\n",
       "      <td>0</td>\n",
       "      <td>0</td>\n",
       "      <td>0</td>\n",
       "      <td>0</td>\n",
       "      <td>0</td>\n",
       "      <td>0</td>\n",
       "      <td>0</td>\n",
       "      <td>0</td>\n",
       "      <td>0</td>\n",
       "    </tr>\n",
       "  </tbody>\n",
       "</table>\n",
       "</div>"
      ],
      "text/plain": [
       "   SurfaceMin  NombrePiecesEnum  NombreChambresEnum  TypeMission  TypeBien  \\\n",
       "0          30                 2                   1            2         2   \n",
       "1          30                 2                   1            2         2   \n",
       "\n",
       "   TypeProjet  BudgetMaxEuro  CodePostal            Ville  Succes  \\\n",
       "0           1         100000        1000  Bourg En Bresse       1   \n",
       "1           1         100000        1000  Bourg En Bresse       1   \n",
       "\n",
       "   Region_Auvergne  Region_Bourgogne  Region_Bretagne  Region_Centre  \\\n",
       "0                0                 0                0              0   \n",
       "1                0                 0                0              0   \n",
       "\n",
       "   Region_Champagne-Ardenne  Region_Corse  Region_Franche-Comté  \\\n",
       "0                         0             0                     0   \n",
       "1                         0             0                     0   \n",
       "\n",
       "   Region_Haute-Normandie  Region_Languedoc-Roussillon  Region_Midi-Pyrénées  \\\n",
       "0                       0                            0                     0   \n",
       "1                       0                            0                     0   \n",
       "\n",
       "   Region_Picardie  Region_Poitou-Charentes  \\\n",
       "0                0                        0   \n",
       "1                0                        0   \n",
       "\n",
       "   Region_Provence-Alpes-Côte d'Azur  Region_Rhône-Alpes  Departement_Aisne  \\\n",
       "0                                  0                   1                  0   \n",
       "1                                  0                   1                  0   \n",
       "\n",
       "   Departement_Allier  Departement_Alpes-Maritimes  Departement_Ardèche  \\\n",
       "0                   0                            0                    0   \n",
       "1                   0                            0                    0   \n",
       "\n",
       "   Departement_Aube  Departement_Aude  Departement_Bouches-du-Rhône  \\\n",
       "0                 0                 0                             0   \n",
       "1                 0                 0                             0   \n",
       "\n",
       "   Departement_Charente  Departement_Charente-Maritime  \\\n",
       "0                     0                              0   \n",
       "1                     0                              0   \n",
       "\n",
       "   Departement_Corse-du-Sud  Departement_Côte-d'Or  Departement_Côtes-d'Armor  \\\n",
       "0                         0                      0                          0   \n",
       "1                         0                      0                          0   \n",
       "\n",
       "   Departement_Doubs  Departement_Drôme  Departement_Eure  \\\n",
       "0                  0                  0                 0   \n",
       "1                  0                  0                 0   \n",
       "\n",
       "   Departement_Eure-et-Loir  Departement_Finistère  Departement_Gard  \\\n",
       "0                         0                      0                 0   \n",
       "1                         0                      0                 0   \n",
       "\n",
       "   Departement_Gers  Departement_Gironde  Departement_Haute-Garonne  \\\n",
       "0                 0                    0                          0   \n",
       "1                 0                    0                          0   \n",
       "\n",
       "   Departement_Hérault  \n",
       "0                    0  \n",
       "1                    0  "
      ]
     },
     "execution_count": 45,
     "metadata": {},
     "output_type": "execute_result"
    }
   ],
   "source": [
    "df_test.head(2)"
   ]
  },
  {
   "cell_type": "code",
   "execution_count": 46,
   "id": "6f0c6025",
   "metadata": {},
   "outputs": [
    {
     "name": "stdout",
     "output_type": "stream",
     "text": [
      "<class 'pandas.core.frame.DataFrame'>\n",
      "RangeIndex: 236560 entries, 0 to 236559\n",
      "Data columns (total 46 columns):\n",
      " #   Column                             Non-Null Count   Dtype \n",
      "---  ------                             --------------   ----- \n",
      " 0   SurfaceMin                         236560 non-null  int64 \n",
      " 1   NombrePiecesEnum                   236560 non-null  int64 \n",
      " 2   NombreChambresEnum                 236560 non-null  int64 \n",
      " 3   TypeMission                        236560 non-null  int64 \n",
      " 4   TypeBien                           236560 non-null  int64 \n",
      " 5   TypeProjet                         236560 non-null  int64 \n",
      " 6   BudgetMaxEuro                      236560 non-null  int64 \n",
      " 7   CodePostal                         236560 non-null  int64 \n",
      " 8   Ville                              236560 non-null  object\n",
      " 9   Succes                             236560 non-null  int64 \n",
      " 10  Region_Auvergne                    236560 non-null  uint8 \n",
      " 11  Region_Bourgogne                   236560 non-null  uint8 \n",
      " 12  Region_Bretagne                    236560 non-null  uint8 \n",
      " 13  Region_Centre                      236560 non-null  uint8 \n",
      " 14  Region_Champagne-Ardenne           236560 non-null  uint8 \n",
      " 15  Region_Corse                       236560 non-null  uint8 \n",
      " 16  Region_Franche-Comté               236560 non-null  uint8 \n",
      " 17  Region_Haute-Normandie             236560 non-null  uint8 \n",
      " 18  Region_Languedoc-Roussillon        236560 non-null  uint8 \n",
      " 19  Region_Midi-Pyrénées               236560 non-null  uint8 \n",
      " 20  Region_Picardie                    236560 non-null  uint8 \n",
      " 21  Region_Poitou-Charentes            236560 non-null  uint8 \n",
      " 22  Region_Provence-Alpes-Côte d'Azur  236560 non-null  uint8 \n",
      " 23  Region_Rhône-Alpes                 236560 non-null  uint8 \n",
      " 24  Departement_Aisne                  236560 non-null  uint8 \n",
      " 25  Departement_Allier                 236560 non-null  uint8 \n",
      " 26  Departement_Alpes-Maritimes        236560 non-null  uint8 \n",
      " 27  Departement_Ardèche                236560 non-null  uint8 \n",
      " 28  Departement_Aube                   236560 non-null  uint8 \n",
      " 29  Departement_Aude                   236560 non-null  uint8 \n",
      " 30  Departement_Bouches-du-Rhône       236560 non-null  uint8 \n",
      " 31  Departement_Charente               236560 non-null  uint8 \n",
      " 32  Departement_Charente-Maritime      236560 non-null  uint8 \n",
      " 33  Departement_Corse-du-Sud           236560 non-null  uint8 \n",
      " 34  Departement_Côte-d'Or              236560 non-null  uint8 \n",
      " 35  Departement_Côtes-d'Armor          236560 non-null  uint8 \n",
      " 36  Departement_Doubs                  236560 non-null  uint8 \n",
      " 37  Departement_Drôme                  236560 non-null  uint8 \n",
      " 38  Departement_Eure                   236560 non-null  uint8 \n",
      " 39  Departement_Eure-et-Loir           236560 non-null  uint8 \n",
      " 40  Departement_Finistère              236560 non-null  uint8 \n",
      " 41  Departement_Gard                   236560 non-null  uint8 \n",
      " 42  Departement_Gers                   236560 non-null  uint8 \n",
      " 43  Departement_Gironde                236560 non-null  uint8 \n",
      " 44  Departement_Haute-Garonne          236560 non-null  uint8 \n",
      " 45  Departement_Hérault                236560 non-null  uint8 \n",
      "dtypes: int64(9), object(1), uint8(36)\n",
      "memory usage: 26.2+ MB\n"
     ]
    }
   ],
   "source": [
    "df_test.info()"
   ]
  },
  {
   "cell_type": "markdown",
   "id": "bf0873de",
   "metadata": {},
   "source": [
    "# Choix des features"
   ]
  },
  {
   "cell_type": "code",
   "execution_count": 47,
   "id": "99cf4883",
   "metadata": {},
   "outputs": [
    {
     "data": {
      "text/plain": [
       "Index(['SurfaceMin', 'NombrePiecesEnum', 'NombreChambresEnum', 'TypeMission',\n",
       "       'TypeBien', 'TypeProjet', 'BudgetMaxEuro', 'CodePostal', 'Ville',\n",
       "       'Succes', 'Region_Auvergne', 'Region_Bourgogne', 'Region_Bretagne',\n",
       "       'Region_Centre', 'Region_Champagne-Ardenne', 'Region_Corse',\n",
       "       'Region_Franche-Comté', 'Region_Haute-Normandie',\n",
       "       'Region_Languedoc-Roussillon', 'Region_Midi-Pyrénées',\n",
       "       'Region_Picardie', 'Region_Poitou-Charentes',\n",
       "       'Region_Provence-Alpes-Côte d'Azur', 'Region_Rhône-Alpes',\n",
       "       'Departement_Aisne', 'Departement_Allier',\n",
       "       'Departement_Alpes-Maritimes', 'Departement_Ardèche',\n",
       "       'Departement_Aube', 'Departement_Aude', 'Departement_Bouches-du-Rhône',\n",
       "       'Departement_Charente', 'Departement_Charente-Maritime',\n",
       "       'Departement_Corse-du-Sud', 'Departement_Côte-d'Or',\n",
       "       'Departement_Côtes-d'Armor', 'Departement_Doubs', 'Departement_Drôme',\n",
       "       'Departement_Eure', 'Departement_Eure-et-Loir', 'Departement_Finistère',\n",
       "       'Departement_Gard', 'Departement_Gers', 'Departement_Gironde',\n",
       "       'Departement_Haute-Garonne', 'Departement_Hérault'],\n",
       "      dtype='object')"
      ]
     },
     "execution_count": 47,
     "metadata": {},
     "output_type": "execute_result"
    }
   ],
   "source": [
    "df_test.columns"
   ]
  },
  {
   "cell_type": "code",
   "execution_count": 48,
   "id": "137a5d6f",
   "metadata": {},
   "outputs": [],
   "source": [
    "X =df_test.drop([\"Succes\",\"Ville\"], axis = 1)"
   ]
  },
  {
   "cell_type": "code",
   "execution_count": 49,
   "id": "4f7b7450",
   "metadata": {},
   "outputs": [
    {
     "data": {
      "text/plain": [
       "Index(['SurfaceMin', 'NombrePiecesEnum', 'NombreChambresEnum', 'TypeMission',\n",
       "       'TypeBien', 'TypeProjet', 'BudgetMaxEuro', 'CodePostal',\n",
       "       'Region_Auvergne', 'Region_Bourgogne', 'Region_Bretagne',\n",
       "       'Region_Centre', 'Region_Champagne-Ardenne', 'Region_Corse',\n",
       "       'Region_Franche-Comté', 'Region_Haute-Normandie',\n",
       "       'Region_Languedoc-Roussillon', 'Region_Midi-Pyrénées',\n",
       "       'Region_Picardie', 'Region_Poitou-Charentes',\n",
       "       'Region_Provence-Alpes-Côte d'Azur', 'Region_Rhône-Alpes',\n",
       "       'Departement_Aisne', 'Departement_Allier',\n",
       "       'Departement_Alpes-Maritimes', 'Departement_Ardèche',\n",
       "       'Departement_Aube', 'Departement_Aude', 'Departement_Bouches-du-Rhône',\n",
       "       'Departement_Charente', 'Departement_Charente-Maritime',\n",
       "       'Departement_Corse-du-Sud', 'Departement_Côte-d'Or',\n",
       "       'Departement_Côtes-d'Armor', 'Departement_Doubs', 'Departement_Drôme',\n",
       "       'Departement_Eure', 'Departement_Eure-et-Loir', 'Departement_Finistère',\n",
       "       'Departement_Gard', 'Departement_Gers', 'Departement_Gironde',\n",
       "       'Departement_Haute-Garonne', 'Departement_Hérault'],\n",
       "      dtype='object')"
      ]
     },
     "execution_count": 49,
     "metadata": {},
     "output_type": "execute_result"
    }
   ],
   "source": [
    "X.columns"
   ]
  },
  {
   "cell_type": "code",
   "execution_count": 50,
   "id": "f16206c5",
   "metadata": {},
   "outputs": [
    {
     "data": {
      "text/html": [
       "<div>\n",
       "<style scoped>\n",
       "    .dataframe tbody tr th:only-of-type {\n",
       "        vertical-align: middle;\n",
       "    }\n",
       "\n",
       "    .dataframe tbody tr th {\n",
       "        vertical-align: top;\n",
       "    }\n",
       "\n",
       "    .dataframe thead th {\n",
       "        text-align: right;\n",
       "    }\n",
       "</style>\n",
       "<table border=\"1\" class=\"dataframe\">\n",
       "  <thead>\n",
       "    <tr style=\"text-align: right;\">\n",
       "      <th></th>\n",
       "      <th>SurfaceMin</th>\n",
       "      <th>NombrePiecesEnum</th>\n",
       "      <th>NombreChambresEnum</th>\n",
       "      <th>TypeMission</th>\n",
       "      <th>TypeBien</th>\n",
       "      <th>TypeProjet</th>\n",
       "      <th>BudgetMaxEuro</th>\n",
       "      <th>CodePostal</th>\n",
       "      <th>Region_Auvergne</th>\n",
       "      <th>Region_Bourgogne</th>\n",
       "      <th>Region_Bretagne</th>\n",
       "      <th>Region_Centre</th>\n",
       "      <th>Region_Champagne-Ardenne</th>\n",
       "      <th>Region_Corse</th>\n",
       "      <th>Region_Franche-Comté</th>\n",
       "      <th>Region_Haute-Normandie</th>\n",
       "      <th>Region_Languedoc-Roussillon</th>\n",
       "      <th>Region_Midi-Pyrénées</th>\n",
       "      <th>Region_Picardie</th>\n",
       "      <th>Region_Poitou-Charentes</th>\n",
       "      <th>Region_Provence-Alpes-Côte d'Azur</th>\n",
       "      <th>Region_Rhône-Alpes</th>\n",
       "      <th>Departement_Aisne</th>\n",
       "      <th>Departement_Allier</th>\n",
       "      <th>Departement_Alpes-Maritimes</th>\n",
       "      <th>Departement_Ardèche</th>\n",
       "      <th>Departement_Aube</th>\n",
       "      <th>Departement_Aude</th>\n",
       "      <th>Departement_Bouches-du-Rhône</th>\n",
       "      <th>Departement_Charente</th>\n",
       "      <th>Departement_Charente-Maritime</th>\n",
       "      <th>Departement_Corse-du-Sud</th>\n",
       "      <th>Departement_Côte-d'Or</th>\n",
       "      <th>Departement_Côtes-d'Armor</th>\n",
       "      <th>Departement_Doubs</th>\n",
       "      <th>Departement_Drôme</th>\n",
       "      <th>Departement_Eure</th>\n",
       "      <th>Departement_Eure-et-Loir</th>\n",
       "      <th>Departement_Finistère</th>\n",
       "      <th>Departement_Gard</th>\n",
       "      <th>Departement_Gers</th>\n",
       "      <th>Departement_Gironde</th>\n",
       "      <th>Departement_Haute-Garonne</th>\n",
       "      <th>Departement_Hérault</th>\n",
       "    </tr>\n",
       "  </thead>\n",
       "  <tbody>\n",
       "    <tr>\n",
       "      <th>0</th>\n",
       "      <td>30</td>\n",
       "      <td>2</td>\n",
       "      <td>1</td>\n",
       "      <td>2</td>\n",
       "      <td>2</td>\n",
       "      <td>1</td>\n",
       "      <td>100000</td>\n",
       "      <td>1000</td>\n",
       "      <td>0</td>\n",
       "      <td>0</td>\n",
       "      <td>0</td>\n",
       "      <td>0</td>\n",
       "      <td>0</td>\n",
       "      <td>0</td>\n",
       "      <td>0</td>\n",
       "      <td>0</td>\n",
       "      <td>0</td>\n",
       "      <td>0</td>\n",
       "      <td>0</td>\n",
       "      <td>0</td>\n",
       "      <td>0</td>\n",
       "      <td>1</td>\n",
       "      <td>0</td>\n",
       "      <td>0</td>\n",
       "      <td>0</td>\n",
       "      <td>0</td>\n",
       "      <td>0</td>\n",
       "      <td>0</td>\n",
       "      <td>0</td>\n",
       "      <td>0</td>\n",
       "      <td>0</td>\n",
       "      <td>0</td>\n",
       "      <td>0</td>\n",
       "      <td>0</td>\n",
       "      <td>0</td>\n",
       "      <td>0</td>\n",
       "      <td>0</td>\n",
       "      <td>0</td>\n",
       "      <td>0</td>\n",
       "      <td>0</td>\n",
       "      <td>0</td>\n",
       "      <td>0</td>\n",
       "      <td>0</td>\n",
       "      <td>0</td>\n",
       "    </tr>\n",
       "    <tr>\n",
       "      <th>1</th>\n",
       "      <td>30</td>\n",
       "      <td>2</td>\n",
       "      <td>1</td>\n",
       "      <td>2</td>\n",
       "      <td>2</td>\n",
       "      <td>1</td>\n",
       "      <td>100000</td>\n",
       "      <td>1000</td>\n",
       "      <td>0</td>\n",
       "      <td>0</td>\n",
       "      <td>0</td>\n",
       "      <td>0</td>\n",
       "      <td>0</td>\n",
       "      <td>0</td>\n",
       "      <td>0</td>\n",
       "      <td>0</td>\n",
       "      <td>0</td>\n",
       "      <td>0</td>\n",
       "      <td>0</td>\n",
       "      <td>0</td>\n",
       "      <td>0</td>\n",
       "      <td>1</td>\n",
       "      <td>0</td>\n",
       "      <td>0</td>\n",
       "      <td>0</td>\n",
       "      <td>0</td>\n",
       "      <td>0</td>\n",
       "      <td>0</td>\n",
       "      <td>0</td>\n",
       "      <td>0</td>\n",
       "      <td>0</td>\n",
       "      <td>0</td>\n",
       "      <td>0</td>\n",
       "      <td>0</td>\n",
       "      <td>0</td>\n",
       "      <td>0</td>\n",
       "      <td>0</td>\n",
       "      <td>0</td>\n",
       "      <td>0</td>\n",
       "      <td>0</td>\n",
       "      <td>0</td>\n",
       "      <td>0</td>\n",
       "      <td>0</td>\n",
       "      <td>0</td>\n",
       "    </tr>\n",
       "    <tr>\n",
       "      <th>2</th>\n",
       "      <td>30</td>\n",
       "      <td>2</td>\n",
       "      <td>1</td>\n",
       "      <td>2</td>\n",
       "      <td>2</td>\n",
       "      <td>1</td>\n",
       "      <td>100000</td>\n",
       "      <td>1000</td>\n",
       "      <td>0</td>\n",
       "      <td>0</td>\n",
       "      <td>0</td>\n",
       "      <td>0</td>\n",
       "      <td>0</td>\n",
       "      <td>0</td>\n",
       "      <td>0</td>\n",
       "      <td>0</td>\n",
       "      <td>0</td>\n",
       "      <td>0</td>\n",
       "      <td>0</td>\n",
       "      <td>0</td>\n",
       "      <td>0</td>\n",
       "      <td>1</td>\n",
       "      <td>0</td>\n",
       "      <td>0</td>\n",
       "      <td>0</td>\n",
       "      <td>0</td>\n",
       "      <td>0</td>\n",
       "      <td>0</td>\n",
       "      <td>0</td>\n",
       "      <td>0</td>\n",
       "      <td>0</td>\n",
       "      <td>0</td>\n",
       "      <td>0</td>\n",
       "      <td>0</td>\n",
       "      <td>0</td>\n",
       "      <td>0</td>\n",
       "      <td>0</td>\n",
       "      <td>0</td>\n",
       "      <td>0</td>\n",
       "      <td>0</td>\n",
       "      <td>0</td>\n",
       "      <td>0</td>\n",
       "      <td>0</td>\n",
       "      <td>0</td>\n",
       "    </tr>\n",
       "    <tr>\n",
       "      <th>3</th>\n",
       "      <td>30</td>\n",
       "      <td>2</td>\n",
       "      <td>1</td>\n",
       "      <td>2</td>\n",
       "      <td>2</td>\n",
       "      <td>1</td>\n",
       "      <td>100000</td>\n",
       "      <td>1000</td>\n",
       "      <td>0</td>\n",
       "      <td>0</td>\n",
       "      <td>0</td>\n",
       "      <td>0</td>\n",
       "      <td>0</td>\n",
       "      <td>0</td>\n",
       "      <td>0</td>\n",
       "      <td>0</td>\n",
       "      <td>0</td>\n",
       "      <td>0</td>\n",
       "      <td>0</td>\n",
       "      <td>0</td>\n",
       "      <td>0</td>\n",
       "      <td>1</td>\n",
       "      <td>0</td>\n",
       "      <td>0</td>\n",
       "      <td>0</td>\n",
       "      <td>0</td>\n",
       "      <td>0</td>\n",
       "      <td>0</td>\n",
       "      <td>0</td>\n",
       "      <td>0</td>\n",
       "      <td>0</td>\n",
       "      <td>0</td>\n",
       "      <td>0</td>\n",
       "      <td>0</td>\n",
       "      <td>0</td>\n",
       "      <td>0</td>\n",
       "      <td>0</td>\n",
       "      <td>0</td>\n",
       "      <td>0</td>\n",
       "      <td>0</td>\n",
       "      <td>0</td>\n",
       "      <td>0</td>\n",
       "      <td>0</td>\n",
       "      <td>0</td>\n",
       "    </tr>\n",
       "    <tr>\n",
       "      <th>4</th>\n",
       "      <td>30</td>\n",
       "      <td>2</td>\n",
       "      <td>1</td>\n",
       "      <td>2</td>\n",
       "      <td>2</td>\n",
       "      <td>1</td>\n",
       "      <td>100000</td>\n",
       "      <td>1000</td>\n",
       "      <td>0</td>\n",
       "      <td>0</td>\n",
       "      <td>0</td>\n",
       "      <td>0</td>\n",
       "      <td>0</td>\n",
       "      <td>0</td>\n",
       "      <td>0</td>\n",
       "      <td>0</td>\n",
       "      <td>0</td>\n",
       "      <td>0</td>\n",
       "      <td>0</td>\n",
       "      <td>0</td>\n",
       "      <td>0</td>\n",
       "      <td>1</td>\n",
       "      <td>0</td>\n",
       "      <td>0</td>\n",
       "      <td>0</td>\n",
       "      <td>0</td>\n",
       "      <td>0</td>\n",
       "      <td>0</td>\n",
       "      <td>0</td>\n",
       "      <td>0</td>\n",
       "      <td>0</td>\n",
       "      <td>0</td>\n",
       "      <td>0</td>\n",
       "      <td>0</td>\n",
       "      <td>0</td>\n",
       "      <td>0</td>\n",
       "      <td>0</td>\n",
       "      <td>0</td>\n",
       "      <td>0</td>\n",
       "      <td>0</td>\n",
       "      <td>0</td>\n",
       "      <td>0</td>\n",
       "      <td>0</td>\n",
       "      <td>0</td>\n",
       "    </tr>\n",
       "  </tbody>\n",
       "</table>\n",
       "</div>"
      ],
      "text/plain": [
       "   SurfaceMin  NombrePiecesEnum  NombreChambresEnum  TypeMission  TypeBien  \\\n",
       "0          30                 2                   1            2         2   \n",
       "1          30                 2                   1            2         2   \n",
       "2          30                 2                   1            2         2   \n",
       "3          30                 2                   1            2         2   \n",
       "4          30                 2                   1            2         2   \n",
       "\n",
       "   TypeProjet  BudgetMaxEuro  CodePostal  Region_Auvergne  Region_Bourgogne  \\\n",
       "0           1         100000        1000                0                 0   \n",
       "1           1         100000        1000                0                 0   \n",
       "2           1         100000        1000                0                 0   \n",
       "3           1         100000        1000                0                 0   \n",
       "4           1         100000        1000                0                 0   \n",
       "\n",
       "   Region_Bretagne  Region_Centre  Region_Champagne-Ardenne  Region_Corse  \\\n",
       "0                0              0                         0             0   \n",
       "1                0              0                         0             0   \n",
       "2                0              0                         0             0   \n",
       "3                0              0                         0             0   \n",
       "4                0              0                         0             0   \n",
       "\n",
       "   Region_Franche-Comté  Region_Haute-Normandie  Region_Languedoc-Roussillon  \\\n",
       "0                     0                       0                            0   \n",
       "1                     0                       0                            0   \n",
       "2                     0                       0                            0   \n",
       "3                     0                       0                            0   \n",
       "4                     0                       0                            0   \n",
       "\n",
       "   Region_Midi-Pyrénées  Region_Picardie  Region_Poitou-Charentes  \\\n",
       "0                     0                0                        0   \n",
       "1                     0                0                        0   \n",
       "2                     0                0                        0   \n",
       "3                     0                0                        0   \n",
       "4                     0                0                        0   \n",
       "\n",
       "   Region_Provence-Alpes-Côte d'Azur  Region_Rhône-Alpes  Departement_Aisne  \\\n",
       "0                                  0                   1                  0   \n",
       "1                                  0                   1                  0   \n",
       "2                                  0                   1                  0   \n",
       "3                                  0                   1                  0   \n",
       "4                                  0                   1                  0   \n",
       "\n",
       "   Departement_Allier  Departement_Alpes-Maritimes  Departement_Ardèche  \\\n",
       "0                   0                            0                    0   \n",
       "1                   0                            0                    0   \n",
       "2                   0                            0                    0   \n",
       "3                   0                            0                    0   \n",
       "4                   0                            0                    0   \n",
       "\n",
       "   Departement_Aube  Departement_Aude  Departement_Bouches-du-Rhône  \\\n",
       "0                 0                 0                             0   \n",
       "1                 0                 0                             0   \n",
       "2                 0                 0                             0   \n",
       "3                 0                 0                             0   \n",
       "4                 0                 0                             0   \n",
       "\n",
       "   Departement_Charente  Departement_Charente-Maritime  \\\n",
       "0                     0                              0   \n",
       "1                     0                              0   \n",
       "2                     0                              0   \n",
       "3                     0                              0   \n",
       "4                     0                              0   \n",
       "\n",
       "   Departement_Corse-du-Sud  Departement_Côte-d'Or  Departement_Côtes-d'Armor  \\\n",
       "0                         0                      0                          0   \n",
       "1                         0                      0                          0   \n",
       "2                         0                      0                          0   \n",
       "3                         0                      0                          0   \n",
       "4                         0                      0                          0   \n",
       "\n",
       "   Departement_Doubs  Departement_Drôme  Departement_Eure  \\\n",
       "0                  0                  0                 0   \n",
       "1                  0                  0                 0   \n",
       "2                  0                  0                 0   \n",
       "3                  0                  0                 0   \n",
       "4                  0                  0                 0   \n",
       "\n",
       "   Departement_Eure-et-Loir  Departement_Finistère  Departement_Gard  \\\n",
       "0                         0                      0                 0   \n",
       "1                         0                      0                 0   \n",
       "2                         0                      0                 0   \n",
       "3                         0                      0                 0   \n",
       "4                         0                      0                 0   \n",
       "\n",
       "   Departement_Gers  Departement_Gironde  Departement_Haute-Garonne  \\\n",
       "0                 0                    0                          0   \n",
       "1                 0                    0                          0   \n",
       "2                 0                    0                          0   \n",
       "3                 0                    0                          0   \n",
       "4                 0                    0                          0   \n",
       "\n",
       "   Departement_Hérault  \n",
       "0                    0  \n",
       "1                    0  \n",
       "2                    0  \n",
       "3                    0  \n",
       "4                    0  "
      ]
     },
     "execution_count": 50,
     "metadata": {},
     "output_type": "execute_result"
    }
   ],
   "source": [
    "X.head()"
   ]
  },
  {
   "cell_type": "code",
   "execution_count": 51,
   "id": "165fec2b",
   "metadata": {},
   "outputs": [
    {
     "data": {
      "text/html": [
       "<div>\n",
       "<style scoped>\n",
       "    .dataframe tbody tr th:only-of-type {\n",
       "        vertical-align: middle;\n",
       "    }\n",
       "\n",
       "    .dataframe tbody tr th {\n",
       "        vertical-align: top;\n",
       "    }\n",
       "\n",
       "    .dataframe thead th {\n",
       "        text-align: right;\n",
       "    }\n",
       "</style>\n",
       "<table border=\"1\" class=\"dataframe\">\n",
       "  <thead>\n",
       "    <tr style=\"text-align: right;\">\n",
       "      <th></th>\n",
       "      <th>SurfaceMin</th>\n",
       "      <th>NombrePiecesEnum</th>\n",
       "      <th>NombreChambresEnum</th>\n",
       "      <th>TypeMission</th>\n",
       "      <th>TypeBien</th>\n",
       "      <th>TypeProjet</th>\n",
       "      <th>BudgetMaxEuro</th>\n",
       "      <th>CodePostal</th>\n",
       "      <th>Region_Auvergne</th>\n",
       "      <th>Region_Bourgogne</th>\n",
       "      <th>Region_Bretagne</th>\n",
       "      <th>Region_Centre</th>\n",
       "      <th>Region_Champagne-Ardenne</th>\n",
       "      <th>Region_Corse</th>\n",
       "      <th>Region_Franche-Comté</th>\n",
       "      <th>Region_Haute-Normandie</th>\n",
       "      <th>Region_Languedoc-Roussillon</th>\n",
       "      <th>Region_Midi-Pyrénées</th>\n",
       "      <th>Region_Picardie</th>\n",
       "      <th>Region_Poitou-Charentes</th>\n",
       "      <th>Region_Provence-Alpes-Côte d'Azur</th>\n",
       "      <th>Region_Rhône-Alpes</th>\n",
       "      <th>Departement_Aisne</th>\n",
       "      <th>Departement_Allier</th>\n",
       "      <th>Departement_Alpes-Maritimes</th>\n",
       "      <th>Departement_Ardèche</th>\n",
       "      <th>Departement_Aube</th>\n",
       "      <th>Departement_Aude</th>\n",
       "      <th>Departement_Bouches-du-Rhône</th>\n",
       "      <th>Departement_Charente</th>\n",
       "      <th>Departement_Charente-Maritime</th>\n",
       "      <th>Departement_Corse-du-Sud</th>\n",
       "      <th>Departement_Côte-d'Or</th>\n",
       "      <th>Departement_Côtes-d'Armor</th>\n",
       "      <th>Departement_Doubs</th>\n",
       "      <th>Departement_Drôme</th>\n",
       "      <th>Departement_Eure</th>\n",
       "      <th>Departement_Eure-et-Loir</th>\n",
       "      <th>Departement_Finistère</th>\n",
       "      <th>Departement_Gard</th>\n",
       "      <th>Departement_Gers</th>\n",
       "      <th>Departement_Gironde</th>\n",
       "      <th>Departement_Haute-Garonne</th>\n",
       "      <th>Departement_Hérault</th>\n",
       "    </tr>\n",
       "  </thead>\n",
       "  <tbody>\n",
       "    <tr>\n",
       "      <th>0</th>\n",
       "      <td>30</td>\n",
       "      <td>2</td>\n",
       "      <td>1</td>\n",
       "      <td>2</td>\n",
       "      <td>2</td>\n",
       "      <td>1</td>\n",
       "      <td>100000</td>\n",
       "      <td>1000</td>\n",
       "      <td>0</td>\n",
       "      <td>0</td>\n",
       "      <td>0</td>\n",
       "      <td>0</td>\n",
       "      <td>0</td>\n",
       "      <td>0</td>\n",
       "      <td>0</td>\n",
       "      <td>0</td>\n",
       "      <td>0</td>\n",
       "      <td>0</td>\n",
       "      <td>0</td>\n",
       "      <td>0</td>\n",
       "      <td>0</td>\n",
       "      <td>1</td>\n",
       "      <td>0</td>\n",
       "      <td>0</td>\n",
       "      <td>0</td>\n",
       "      <td>0</td>\n",
       "      <td>0</td>\n",
       "      <td>0</td>\n",
       "      <td>0</td>\n",
       "      <td>0</td>\n",
       "      <td>0</td>\n",
       "      <td>0</td>\n",
       "      <td>0</td>\n",
       "      <td>0</td>\n",
       "      <td>0</td>\n",
       "      <td>0</td>\n",
       "      <td>0</td>\n",
       "      <td>0</td>\n",
       "      <td>0</td>\n",
       "      <td>0</td>\n",
       "      <td>0</td>\n",
       "      <td>0</td>\n",
       "      <td>0</td>\n",
       "      <td>0</td>\n",
       "    </tr>\n",
       "  </tbody>\n",
       "</table>\n",
       "</div>"
      ],
      "text/plain": [
       "   SurfaceMin  NombrePiecesEnum  NombreChambresEnum  TypeMission  TypeBien  \\\n",
       "0          30                 2                   1            2         2   \n",
       "\n",
       "   TypeProjet  BudgetMaxEuro  CodePostal  Region_Auvergne  Region_Bourgogne  \\\n",
       "0           1         100000        1000                0                 0   \n",
       "\n",
       "   Region_Bretagne  Region_Centre  Region_Champagne-Ardenne  Region_Corse  \\\n",
       "0                0              0                         0             0   \n",
       "\n",
       "   Region_Franche-Comté  Region_Haute-Normandie  Region_Languedoc-Roussillon  \\\n",
       "0                     0                       0                            0   \n",
       "\n",
       "   Region_Midi-Pyrénées  Region_Picardie  Region_Poitou-Charentes  \\\n",
       "0                     0                0                        0   \n",
       "\n",
       "   Region_Provence-Alpes-Côte d'Azur  Region_Rhône-Alpes  Departement_Aisne  \\\n",
       "0                                  0                   1                  0   \n",
       "\n",
       "   Departement_Allier  Departement_Alpes-Maritimes  Departement_Ardèche  \\\n",
       "0                   0                            0                    0   \n",
       "\n",
       "   Departement_Aube  Departement_Aude  Departement_Bouches-du-Rhône  \\\n",
       "0                 0                 0                             0   \n",
       "\n",
       "   Departement_Charente  Departement_Charente-Maritime  \\\n",
       "0                     0                              0   \n",
       "\n",
       "   Departement_Corse-du-Sud  Departement_Côte-d'Or  Departement_Côtes-d'Armor  \\\n",
       "0                         0                      0                          0   \n",
       "\n",
       "   Departement_Doubs  Departement_Drôme  Departement_Eure  \\\n",
       "0                  0                  0                 0   \n",
       "\n",
       "   Departement_Eure-et-Loir  Departement_Finistère  Departement_Gard  \\\n",
       "0                         0                      0                 0   \n",
       "\n",
       "   Departement_Gers  Departement_Gironde  Departement_Haute-Garonne  \\\n",
       "0                 0                    0                          0   \n",
       "\n",
       "   Departement_Hérault  \n",
       "0                    0  "
      ]
     },
     "execution_count": 51,
     "metadata": {},
     "output_type": "execute_result"
    }
   ],
   "source": [
    "X.iloc[:1,]"
   ]
  },
  {
   "cell_type": "code",
   "execution_count": 52,
   "id": "584ded04",
   "metadata": {},
   "outputs": [],
   "source": [
    "y = df_test['Succes']"
   ]
  },
  {
   "cell_type": "markdown",
   "id": "cb1d7445",
   "metadata": {},
   "source": [
    "y.shape"
   ]
  },
  {
   "cell_type": "code",
   "execution_count": 53,
   "id": "364aeae9",
   "metadata": {},
   "outputs": [],
   "source": [
    "X =df_33.drop([\"Succes\", \"Ville\", \"Departement\", \"Region\"], axis = 1)"
   ]
  },
  {
   "cell_type": "code",
   "execution_count": 54,
   "id": "fc2d4e84",
   "metadata": {},
   "outputs": [],
   "source": [
    "y = df_33['Succes']"
   ]
  },
  {
   "cell_type": "markdown",
   "id": "a50f9f08",
   "metadata": {},
   "source": [
    "# Diviser le jeu de données en jeu d'entrainement et jeu de test"
   ]
  },
  {
   "cell_type": "code",
   "execution_count": 55,
   "id": "114e36aa",
   "metadata": {},
   "outputs": [],
   "source": [
    "X_train, X_test, y_train, y_test = train_test_split(X, y, test_size=0.25, random_state=42)"
   ]
  },
  {
   "cell_type": "code",
   "execution_count": 56,
   "id": "415b5424",
   "metadata": {},
   "outputs": [
    {
     "data": {
      "text/plain": [
       "Index(['SurfaceMin', 'NombrePiecesEnum', 'NombreChambresEnum', 'TypeMission',\n",
       "       'TypeBien', 'TypeProjet', 'BudgetMaxEuro', 'CodePostal'],\n",
       "      dtype='object')"
      ]
     },
     "execution_count": 56,
     "metadata": {},
     "output_type": "execute_result"
    }
   ],
   "source": [
    "X_train.columns"
   ]
  },
  {
   "cell_type": "markdown",
   "id": "6a0711c1",
   "metadata": {},
   "source": [
    "## Normalisation"
   ]
  },
  {
   "cell_type": "code",
   "execution_count": 57,
   "id": "30daccf4",
   "metadata": {},
   "outputs": [],
   "source": [
    "from sklearn.preprocessing import StandardScaler\n",
    "scaler = StandardScaler()\n",
    "X_train = scaler.fit_transform(X_train)\n",
    "X_test = scaler.transform(X_test)"
   ]
  },
  {
   "cell_type": "markdown",
   "id": "a571fc9b",
   "metadata": {},
   "source": [
    "# Creation d'un pipeline fit, dump, load"
   ]
  },
  {
   "cell_type": "code",
   "execution_count": 58,
   "id": "bfb6834f",
   "metadata": {},
   "outputs": [],
   "source": [
    "from sklearn.pipeline import make_pipeline\n",
    "from sklearn.preprocessing import StandardScaler\n",
    "from sklearn.linear_model import LogisticRegression\n",
    "import joblib"
   ]
  },
  {
   "cell_type": "code",
   "execution_count": 59,
   "id": "e29de112",
   "metadata": {},
   "outputs": [
    {
     "data": {
      "text/plain": [
       "['LogisticRegression_solver_newton-cg_C_0.001_penalty_l2.pkl']"
      ]
     },
     "execution_count": 59,
     "metadata": {},
     "output_type": "execute_result"
    }
   ],
   "source": [
    "pipe = make_pipeline(scaler, LogisticRegression(solver='newton-cg', C =0.001, penalty = 'l2'))\n",
    "pipe.fit(X_train, y_train)\n",
    "joblib.dump(pipe, 'LogisticRegression_solver_newton-cg_C_0.001_penalty_l2.pkl')"
   ]
  },
  {
   "cell_type": "code",
   "execution_count": 60,
   "id": "ffdd824a",
   "metadata": {},
   "outputs": [
    {
     "ename": "AttributeError",
     "evalue": "'numpy.ndarray' object has no attribute 'columns'",
     "output_type": "error",
     "traceback": [
      "\u001b[1;31m---------------------------------------------------------------------------\u001b[0m",
      "\u001b[1;31mAttributeError\u001b[0m                            Traceback (most recent call last)",
      "\u001b[1;32mC:\\Users\\LOUDOU~1\\AppData\\Local\\Temp/ipykernel_36400/829181101.py\u001b[0m in \u001b[0;36m<module>\u001b[1;34m\u001b[0m\n\u001b[1;32m----> 1\u001b[1;33m \u001b[0mX_train\u001b[0m\u001b[1;33m.\u001b[0m\u001b[0mcolumns\u001b[0m\u001b[1;33m\u001b[0m\u001b[1;33m\u001b[0m\u001b[0m\n\u001b[0m",
      "\u001b[1;31mAttributeError\u001b[0m: 'numpy.ndarray' object has no attribute 'columns'"
     ]
    }
   ],
   "source": [
    "X_train.columns"
   ]
  },
  {
   "cell_type": "code",
   "execution_count": null,
   "id": "387284cb",
   "metadata": {},
   "outputs": [],
   "source": [
    "colonnes = ['SurfaceMin', 'NombrePiecesEnum', 'NombreChambresEnum', 'TypeMission',\n",
    "           'TypeBien', 'TypeProjet', 'BudgetMaxEuro', 'CodePostal']\n",
    "X_new = pd.DataFrame(data = [[70, 3, 1, 1, 2, 1, 250000, 31000]], columns = colonnes )"
   ]
  },
  {
   "cell_type": "code",
   "execution_count": null,
   "id": "be600abd",
   "metadata": {},
   "outputs": [],
   "source": [
    "# load modele\n",
    "pipe = joblib.load('LogisticRegression_solver_newton-cg_C_0.001_penalty_l2.pkl')\n",
    "\n",
    "# declaration des nouvelles donnnées\n",
    "colonnes = ['SurfaceMin', 'NombrePiecesEnum', 'NombreChambresEnum', 'TypeMission',\n",
    "           'TypeBien', 'TypeProjet', 'BudgetMaxEuro', 'CodePostal']\n",
    "X_new = pd.DataFrame(data = [[70, 3, 1, 1, 2, 1, 250000, 31000]], columns = colonnes )\n",
    "pred_cols = list(X_new.columns.values)\n",
    "\n",
    "# apply the pipeline to data\n",
    "pred = pd.Series(pipe.predict(X_new[pred_cols]))\n",
    "print (pred)"
   ]
  },
  {
   "cell_type": "markdown",
   "id": "364eac25",
   "metadata": {},
   "source": [
    "# Creation de d'un pipeline preprocessor"
   ]
  },
  {
   "cell_type": "code",
   "execution_count": null,
   "id": "3f661244",
   "metadata": {},
   "outputs": [],
   "source": [
    "X =df_33.drop([\"Succes\"], axis = 1)"
   ]
  },
  {
   "cell_type": "code",
   "execution_count": null,
   "id": "7f80fa61",
   "metadata": {},
   "outputs": [],
   "source": [
    "X.columns"
   ]
  },
  {
   "cell_type": "code",
   "execution_count": null,
   "id": "49f74396",
   "metadata": {},
   "outputs": [],
   "source": [
    "y = df_33['Succes']"
   ]
  },
  {
   "cell_type": "code",
   "execution_count": null,
   "id": "9a108707",
   "metadata": {},
   "outputs": [],
   "source": [
    "\"Ville\", \"Departement\", \"Region\""
   ]
  },
  {
   "cell_type": "code",
   "execution_count": null,
   "id": "d7cce544",
   "metadata": {},
   "outputs": [],
   "source": [
    "X_train, X_test, y_train, y_test = train_test_split(X, y, test_size=0.25, random_state=42)"
   ]
  },
  {
   "cell_type": "code",
   "execution_count": null,
   "id": "4cee833b",
   "metadata": {},
   "outputs": [],
   "source": [
    "#numerical_features = X.select_dtypes('int').apply(pd.Series.nunique, axis = 0)\n",
    "#print(numerical_features)"
   ]
  },
  {
   "cell_type": "code",
   "execution_count": null,
   "id": "29a58d72",
   "metadata": {},
   "outputs": [],
   "source": [
    "#categorical_features = X.select_dtypes('object').apply(pd.Series.nunique, axis = 0)\n",
    "#print(categorical_features)"
   ]
  },
  {
   "cell_type": "code",
   "execution_count": null,
   "id": "d1e49b85",
   "metadata": {},
   "outputs": [],
   "source": [
    "from sklearn.pipeline import make_pipeline\n",
    "from sklearn.compose import make_column_transformer\n",
    "from sklearn.compose import make_column_selector\n",
    "from sklearn.preprocessing import StandardScaler\n",
    "from sklearn.preprocessing import OneHotEncoder, Binarizer\n",
    "from sklearn.linear_model import LogisticRegression"
   ]
  },
  {
   "cell_type": "code",
   "execution_count": null,
   "id": "1581ad6e",
   "metadata": {},
   "outputs": [],
   "source": [
    "numerical_features = make_column_selector(dtype_include=np.number)"
   ]
  },
  {
   "cell_type": "code",
   "execution_count": null,
   "id": "9403973d",
   "metadata": {},
   "outputs": [],
   "source": [
    "numerical_pipeline = make_pipeline(StandardScaler())"
   ]
  },
  {
   "cell_type": "code",
   "execution_count": null,
   "id": "b35c8531",
   "metadata": {},
   "outputs": [],
   "source": [
    "categorical_features = make_column_selector(dtype_exclude=np.number)"
   ]
  },
  {
   "cell_type": "code",
   "execution_count": null,
   "id": "0104b739",
   "metadata": {},
   "outputs": [],
   "source": [
    "categorical_pipeline = make_pipeline(OneHotEncoder())"
   ]
  },
  {
   "cell_type": "code",
   "execution_count": null,
   "id": "ae61f6cb",
   "metadata": {},
   "outputs": [],
   "source": [
    "preprocessor = make_column_transformer((numerical_pipeline, numerical_features), (categorical_pipeline, categorical_features))"
   ]
  },
  {
   "cell_type": "code",
   "execution_count": null,
   "id": "cd457cd5",
   "metadata": {},
   "outputs": [],
   "source": [
    "model = make_pipeline(preprocessor, LogisticRegression(solver='newton-cg', C =0.001, penalty = 'l2'))"
   ]
  },
  {
   "cell_type": "code",
   "execution_count": null,
   "id": "ad081fb9",
   "metadata": {},
   "outputs": [],
   "source": [
    "model.fit(X_train,y_train)"
   ]
  },
  {
   "cell_type": "code",
   "execution_count": null,
   "id": "2c111ba7",
   "metadata": {},
   "outputs": [],
   "source": [
    "y_lr_pip = model.predict(X_test)"
   ]
  },
  {
   "cell_type": "code",
   "execution_count": null,
   "id": "f0d8e7c2",
   "metadata": {},
   "outputs": [],
   "source": [
    "from sklearn.metrics import classification_report\n",
    "print(classification_report(y_test,y_lr_pip,target_names = ['Echec(Class 0)','Succès (Class 1)']))"
   ]
  },
  {
   "cell_type": "code",
   "execution_count": null,
   "id": "f463cff6",
   "metadata": {},
   "outputs": [],
   "source": [
    "cm = confusion_matrix(y_test,model.predict(X_test))\n",
    "sns.heatmap(cm,annot=True,fmt=\"d\")"
   ]
  },
  {
   "cell_type": "code",
   "execution_count": null,
   "id": "c928fad6",
   "metadata": {},
   "outputs": [],
   "source": [
    "from sklearn.metrics import plot_roc_curve\n",
    "plot_roc_curve(model, X_train,y_train )\n",
    "plt.plot([0,1],[0,1])\n",
    "plt.xlabel('false positive')\n",
    "plt.ylabel('true positve')\n",
    "plt.title('ROC curve LR')\n",
    "plt.show()"
   ]
  },
  {
   "cell_type": "markdown",
   "id": "b7834cf6",
   "metadata": {},
   "source": [
    "# Test stokage du preprocessing des donnnées en vue d'utilisation pour tester modèle avec new data"
   ]
  },
  {
   "cell_type": "code",
   "execution_count": null,
   "id": "c5dc0b30",
   "metadata": {},
   "outputs": [],
   "source": [
    "#faire OneHotEncoding sur les objets"
   ]
  },
  {
   "cell_type": "code",
   "execution_count": null,
   "id": "38451119",
   "metadata": {},
   "outputs": [],
   "source": [
    "#faire standar scaler sur les int "
   ]
  },
  {
   "cell_type": "code",
   "execution_count": null,
   "id": "bce9a2a3",
   "metadata": {},
   "outputs": [],
   "source": [
    "#enregister la procedure"
   ]
  },
  {
   "cell_type": "code",
   "execution_count": null,
   "id": "57eefb3f",
   "metadata": {},
   "outputs": [],
   "source": [
    "X =df_33.drop([\"Succes\"], axis = 1)"
   ]
  },
  {
   "cell_type": "code",
   "execution_count": null,
   "id": "55a31bdd",
   "metadata": {},
   "outputs": [],
   "source": [
    "y = df_33[\"Succes\"]"
   ]
  },
  {
   "cell_type": "code",
   "execution_count": null,
   "id": "67798b4a",
   "metadata": {},
   "outputs": [],
   "source": [
    "X_train, X_test, y_train, y_test = train_test_split(X, y, test_size=0.25, random_state=42)"
   ]
  },
  {
   "cell_type": "code",
   "execution_count": null,
   "id": "b2e87bed",
   "metadata": {},
   "outputs": [],
   "source": [
    "X_train.columns"
   ]
  },
  {
   "cell_type": "code",
   "execution_count": null,
   "id": "d266f5a5",
   "metadata": {},
   "outputs": [],
   "source": [
    "from sklearn.preprocessing import OneHotEncoder\n",
    "enc = OneHotEncoder(handle_unknown='ignore')\n",
    "Z = df_33[['Ville', 'Region', \"Departement\"]]\n",
    "enc.fit_transform(Z)"
   ]
  },
  {
   "cell_type": "code",
   "execution_count": null,
   "id": "c96e76f7",
   "metadata": {},
   "outputs": [],
   "source": [
    "Z.shape"
   ]
  },
  {
   "cell_type": "code",
   "execution_count": null,
   "id": "6132025f",
   "metadata": {},
   "outputs": [],
   "source": [
    "import pickle\n",
    "with open('encoder.pickle', 'wb') as f:\n",
    "    pickle.dump(enc, f)"
   ]
  },
  {
   "cell_type": "code",
   "execution_count": null,
   "id": "9d1284fc",
   "metadata": {},
   "outputs": [],
   "source": [
    "with open('encoder.pickle', 'rb') as f:\n",
    "    enc = pickle.load(f)"
   ]
  },
  {
   "cell_type": "code",
   "execution_count": null,
   "id": "f45aca9d",
   "metadata": {},
   "outputs": [],
   "source": [
    "X_train.columns"
   ]
  },
  {
   "cell_type": "code",
   "execution_count": null,
   "id": "c1d7a74c",
   "metadata": {},
   "outputs": [],
   "source": [
    "colonnes = ['SurfaceMin', 'NombrePiecesEnum', 'NombreChambresEnum', 'TypeMission',\n",
    "       'TypeBien', 'TypeProjet', 'BudgetMaxEuro', 'CodePostal', 'Ville',\n",
    "       'Departement', 'Region']\n",
    "X_new = pd.DataFrame(data =[[70, 3, 1, 1, 2, 1, 250000, 31000, \"Toulouse\", \"Haute-Garonne\", \"Midi-Pyrénées\"]], columns = colonnes )"
   ]
  },
  {
   "cell_type": "code",
   "execution_count": null,
   "id": "d04e96f4",
   "metadata": {},
   "outputs": [],
   "source": [
    "X_new.head()"
   ]
  },
  {
   "cell_type": "code",
   "execution_count": null,
   "id": "50e1116f",
   "metadata": {},
   "outputs": [],
   "source": [
    "colonne = ['Ville','Departement', 'Region']\n",
    "X_new = pd.DataFrame(data=[[\"Toulouse\", \"Haute-Garonne\", \"Midi-Pyrénées\"]], columns = colonne)"
   ]
  },
  {
   "cell_type": "code",
   "execution_count": null,
   "id": "189e86f0",
   "metadata": {},
   "outputs": [],
   "source": [
    "X_new.head()"
   ]
  },
  {
   "cell_type": "code",
   "execution_count": null,
   "id": "6220b294",
   "metadata": {},
   "outputs": [],
   "source": [
    "enc.transform(X_new)"
   ]
  },
  {
   "cell_type": "code",
   "execution_count": null,
   "id": "46af5755",
   "metadata": {},
   "outputs": [],
   "source": [
    "exm_pred = lr.predict(X_new)\n",
    "print(exm_pred)"
   ]
  },
  {
   "cell_type": "markdown",
   "id": "d552bd06",
   "metadata": {},
   "source": [
    "# make_union"
   ]
  },
  {
   "cell_type": "code",
   "execution_count": null,
   "id": "a138775c",
   "metadata": {},
   "outputs": [],
   "source": [
    "from sklearn.pipeline import make_union"
   ]
  },
  {
   "cell_type": "code",
   "execution_count": null,
   "id": "ff1fc440",
   "metadata": {},
   "outputs": [],
   "source": [
    "numerik_features = df_33[[\"CodePostal\",\"NombreChambresEnum\"]]"
   ]
  },
  {
   "cell_type": "code",
   "execution_count": null,
   "id": "0220414c",
   "metadata": {},
   "outputs": [],
   "source": [
    "pipeline = make_union(StandardScaler(), Binarizer())"
   ]
  },
  {
   "cell_type": "code",
   "execution_count": null,
   "id": "db833963",
   "metadata": {},
   "outputs": [],
   "source": [
    "pipeline.fit_transform(numerik_features).shape"
   ]
  },
  {
   "cell_type": "code",
   "execution_count": null,
   "id": "f3087584",
   "metadata": {},
   "outputs": [],
   "source": [
    "model = make_pipeline(pipeline, LogisticRegression(solver='newton-cg', C =0.001, penalty = 'l2'))"
   ]
  },
  {
   "cell_type": "code",
   "execution_count": null,
   "id": "9d3e7a8e",
   "metadata": {},
   "outputs": [],
   "source": [
    "model.fit(X_train,y_train)"
   ]
  },
  {
   "cell_type": "markdown",
   "id": "ab089014",
   "metadata": {},
   "source": [
    "# Tester One Hot Encoder sur les colonnes categorielles"
   ]
  },
  {
   "cell_type": "code",
   "execution_count": null,
   "id": "025959b1",
   "metadata": {},
   "outputs": [],
   "source": [
    "from sklearn.preprocessing import OneHotEncoder"
   ]
  },
  {
   "cell_type": "code",
   "execution_count": null,
   "id": "7d4b2bd2",
   "metadata": {},
   "outputs": [],
   "source": [
    "s = (X_train.dtypes == 'object')\n",
    "object_cols = list(s[s].index)\n",
    "\n",
    "print(\"Categorical variables:\")\n",
    "print(object_cols)"
   ]
  },
  {
   "cell_type": "code",
   "execution_count": null,
   "id": "d972a96d",
   "metadata": {},
   "outputs": [],
   "source": [
    "OH_encoder = OneHotEncoder(handle_unknown='ignore', sparse=False)"
   ]
  },
  {
   "cell_type": "code",
   "execution_count": null,
   "id": "e4a4e60a",
   "metadata": {},
   "outputs": [],
   "source": [
    "OH_cols_train = pd.DataFrame(OH_encoder.fit_transform(X_train[object_cols]))"
   ]
  },
  {
   "cell_type": "code",
   "execution_count": null,
   "id": "195377fc",
   "metadata": {},
   "outputs": [],
   "source": [
    "OH_cols_valid = pd.DataFrame(OH_encoder.transform(X_test[object_cols]))"
   ]
  },
  {
   "cell_type": "code",
   "execution_count": null,
   "id": "ad4e0432",
   "metadata": {},
   "outputs": [],
   "source": [
    "OH_cols_train.index = X_train.index\n",
    "OH_cols_valid.index = X_test.index"
   ]
  },
  {
   "cell_type": "code",
   "execution_count": null,
   "id": "e5228b36",
   "metadata": {},
   "outputs": [],
   "source": [
    "num_X_train = X_train.drop(object_cols, axis=1)\n",
    "num_X_valid = X_test.drop(object_cols, axis=1)"
   ]
  },
  {
   "cell_type": "code",
   "execution_count": null,
   "id": "d969f578",
   "metadata": {},
   "outputs": [],
   "source": [
    "OH_X_train = pd.concat([num_X_train, OH_cols_train], axis=1)\n",
    "OH_X_valid = pd.concat([num_X_valid, OH_cols_valid], axis=1)"
   ]
  },
  {
   "cell_type": "code",
   "execution_count": null,
   "id": "13659379",
   "metadata": {},
   "outputs": [],
   "source": [
    "OH_X_train"
   ]
  },
  {
   "cell_type": "markdown",
   "id": "b8e330de",
   "metadata": {},
   "source": [
    "# enregistrer le One Hot Encoder"
   ]
  },
  {
   "cell_type": "code",
   "execution_count": null,
   "id": "8a219a43",
   "metadata": {},
   "outputs": [],
   "source": [
    "import pickle\n",
    "with open('OHE.pickle', 'wb') as f:\n",
    "    pickle.dump(OH_cols_train, f)"
   ]
  },
  {
   "cell_type": "code",
   "execution_count": null,
   "id": "253ed3fd",
   "metadata": {},
   "outputs": [],
   "source": [
    "with open('OHE.pickle', 'rb') as f:\n",
    "    enc = pickle.load(f)"
   ]
  },
  {
   "cell_type": "code",
   "execution_count": null,
   "id": "352cfc43",
   "metadata": {},
   "outputs": [],
   "source": [
    "colonnes = ['SurfaceMin', 'NombrePiecesEnum', 'NombreChambresEnum', 'TypeMission',\n",
    "       'TypeBien', 'TypeProjet', 'BudgetMaxEuro', 'CodePostal', 'Ville',\n",
    "       'Departement', 'Region']\n",
    "X_new = pd.DataFrame(data =[[70, 3, 1, 1, 2, 1, 250000, 31000, \"Toulouse\", \"Haute-Garonne\", \"Midi-Pyrénées\"]], columns = colonnes )"
   ]
  },
  {
   "cell_type": "code",
   "execution_count": null,
   "id": "0baee129",
   "metadata": {},
   "outputs": [],
   "source": [
    "data1 = pd.DataFrame(data =[[\"Toulouse\", \"Haute-Garonne\", \"Midi-Pyrénées\"]])"
   ]
  },
  {
   "cell_type": "code",
   "execution_count": null,
   "id": "9ac7980a",
   "metadata": {},
   "outputs": [],
   "source": [
    "colonne = ['Ville','Departement', 'Region']\n",
    "X_new = pd.DataFrame(data=[[\"Toulouse\", \"Haute-Garonne\", \"Midi-Pyrénées\"]], columns = colonne)"
   ]
  },
  {
   "cell_type": "code",
   "execution_count": null,
   "id": "3f31be63",
   "metadata": {},
   "outputs": [],
   "source": [
    "exm_pred = lr.predict(X_new)\n",
    "print(exm_pred)"
   ]
  },
  {
   "cell_type": "code",
   "execution_count": null,
   "id": "bf5dfe0e",
   "metadata": {},
   "outputs": [],
   "source": [
    "enc.transform(X_new)"
   ]
  },
  {
   "cell_type": "code",
   "execution_count": null,
   "id": "0fee24ee",
   "metadata": {},
   "outputs": [],
   "source": []
  },
  {
   "cell_type": "code",
   "execution_count": null,
   "id": "1c4b6d6d",
   "metadata": {},
   "outputs": [],
   "source": [
    "exm_pred = lr.predict(test1)\n",
    "print(exm_pred)"
   ]
  },
  {
   "cell_type": "code",
   "execution_count": null,
   "id": "5bf0fb24",
   "metadata": {},
   "outputs": [],
   "source": []
  },
  {
   "cell_type": "markdown",
   "id": "1640462e",
   "metadata": {},
   "source": [
    "# Re Test"
   ]
  },
  {
   "cell_type": "code",
   "execution_count": null,
   "id": "92faf143",
   "metadata": {},
   "outputs": [],
   "source": [
    "X =df_33.drop([\"Succes\"], axis = 1)"
   ]
  },
  {
   "cell_type": "code",
   "execution_count": null,
   "id": "a5b77f07",
   "metadata": {},
   "outputs": [],
   "source": [
    "y= df_33[\"Succes\"]"
   ]
  },
  {
   "cell_type": "code",
   "execution_count": null,
   "id": "4a785559",
   "metadata": {},
   "outputs": [],
   "source": [
    "X_train, X_test, y_train, y_test = train_test_split(X, y, test_size=0.25, random_state=42)"
   ]
  },
  {
   "cell_type": "code",
   "execution_count": null,
   "id": "b371fa41",
   "metadata": {},
   "outputs": [],
   "source": [
    "from sklearn.preprocessing import OneHotEncoder\n",
    "s = (X_train.dtypes == 'object')\n",
    "object_cols = list(s[s].index)\n",
    "\n",
    "print(\"Categorical variables:\")\n",
    "print(object_cols)\n",
    "\n",
    "OH_encoder = OneHotEncoder(handle_unknown='ignore', sparse=False)\n",
    "OH_cols_train = pd.DataFrame(OH_encoder.fit_transform(X_train[object_cols]))\n",
    "\n",
    "OH_cols_valid = pd.DataFrame(OH_encoder.transform(X_test[object_cols]))\n",
    "\n",
    "OH_cols_train.index = X_train.index\n",
    "OH_cols_valid.index = X_test.index\n",
    "\n",
    "\n",
    "num_X_train = X_train.drop(object_cols, axis=1)\n",
    "num_X_valid = X_test.drop(object_cols, axis=1)\n",
    "\n",
    "OH_X_train = pd.concat([num_X_train, OH_cols_train], axis=1)\n",
    "OH_X_valid = pd.concat([num_X_valid, OH_cols_valid], axis=1)"
   ]
  },
  {
   "cell_type": "code",
   "execution_count": null,
   "id": "8d0c9813",
   "metadata": {},
   "outputs": [],
   "source": [
    "OH_cols_train"
   ]
  },
  {
   "cell_type": "code",
   "execution_count": null,
   "id": "3e0da08e",
   "metadata": {},
   "outputs": [],
   "source": [
    "from sklearn.preprocessing import StandardScaler\n",
    "scaler = StandardScaler()\n",
    "X_train = scaler.fit_transform(OH_cols_train)\n",
    "X_test = scaler.transform(OH_cols_valid)"
   ]
  },
  {
   "cell_type": "code",
   "execution_count": null,
   "id": "176bf040",
   "metadata": {},
   "outputs": [],
   "source": [
    "from sklearn.linear_model import LogisticRegression\n",
    "lr = LogisticRegression(solver='newton-cg', C =0.001, penalty = 'l2' )\n",
    "lr.fit(X_train,y_train)"
   ]
  },
  {
   "cell_type": "code",
   "execution_count": null,
   "id": "d77c610a",
   "metadata": {},
   "outputs": [],
   "source": [
    "y_lr = lr.predict(X_test)"
   ]
  },
  {
   "cell_type": "code",
   "execution_count": null,
   "id": "3fe38ba7",
   "metadata": {},
   "outputs": [],
   "source": [
    "from sklearn.metrics import classification_report\n",
    "print(classification_report(y_test,y_lr,target_names = ['Echec(Class 0)','Succès (Class 1)']))"
   ]
  },
  {
   "cell_type": "code",
   "execution_count": null,
   "id": "17be5f34",
   "metadata": {},
   "outputs": [],
   "source": [
    "cm = confusion_matrix(y_test,lr.predict(X_test))\n",
    "sns.heatmap(cm,annot=True,fmt=\"d\")"
   ]
  },
  {
   "cell_type": "code",
   "execution_count": null,
   "id": "f78afac9",
   "metadata": {},
   "outputs": [],
   "source": [
    "from sklearn.metrics import plot_roc_curve\n",
    "plot_roc_curve(lr, X_train,y_train )\n",
    "plt.plot([0,1],[0,1])\n",
    "plt.xlabel('false positive')\n",
    "plt.ylabel('true positve')\n",
    "plt.title('ROC curve LR')\n",
    "plt.show()"
   ]
  },
  {
   "cell_type": "code",
   "execution_count": null,
   "id": "e08ee2c0",
   "metadata": {},
   "outputs": [],
   "source": [
    "colonnes = ['SurfaceMin', 'NombrePiecesEnum', 'NombreChambresEnum', 'TypeMission',\n",
    "       'TypeBien', 'TypeProjet', 'BudgetMaxEuro', 'CodePostal', 'Ville',\n",
    "       'Departement', 'Region']\n",
    "exm = pd.DataFrame(data =[[70, 3, 1, 1, 2, 1, 250000, 31000, \"Toulouse\", \"Haute-Garonne\", \"Midi-Pyrénées\"]], columns = colonnes )"
   ]
  },
  {
   "cell_type": "code",
   "execution_count": null,
   "id": "dbfe0501",
   "metadata": {},
   "outputs": [],
   "source": [
    "test_pred=lr.predict([exm])\n",
    "print(test_pred)"
   ]
  },
  {
   "cell_type": "code",
   "execution_count": null,
   "id": "52199cf5",
   "metadata": {},
   "outputs": [],
   "source": [
    "import pickle\n",
    "with open('OHE2.pickle', 'wb') as f:\n",
    "    pickle.dump(OH_cols_train, f)"
   ]
  },
  {
   "cell_type": "code",
   "execution_count": null,
   "id": "8effa524",
   "metadata": {},
   "outputs": [],
   "source": [
    "with open('OHE2.pickle', 'rb') as f:\n",
    "    enc = pickle.load(f)"
   ]
  },
  {
   "cell_type": "code",
   "execution_count": null,
   "id": "bfa53c50",
   "metadata": {},
   "outputs": [],
   "source": [
    "import joblib\n",
    "from joblib import dump,load\n",
    "model=\"model_LR_with_RDV.pkl\"\n",
    "joblib.dump(model,model)"
   ]
  },
  {
   "cell_type": "code",
   "execution_count": null,
   "id": "c0fea64c",
   "metadata": {},
   "outputs": [],
   "source": [
    "model=pickle.load(\"model_LR_with_RDV.pkl\")"
   ]
  },
  {
   "cell_type": "raw",
   "id": "96c20743",
   "metadata": {},
   "source": [
    "colonnes = ['SurfaceMin', 'NombrePiecesEnum', 'NombreChambresEnum', 'TypeMission',\n",
    "       'TypeBien', 'TypeProjet', 'BudgetMaxEuro', 'CodePostal', 'Ville',\n",
    "       'Departement', 'Region']\n",
    "X_new = pd.DataFrame(data =[[70, 3, 1, 1, 2, 1, 250000, 31000, \"Toulouse\", \"Haute-Garonne\", \"Midi-Pyrénées\"]], columns = colonnes )"
   ]
  },
  {
   "cell_type": "code",
   "execution_count": null,
   "id": "0132ef9d",
   "metadata": {},
   "outputs": [],
   "source": [
    "colonne = ['Ville','Departement', 'Region']\n",
    "X_new = pd.DataFrame(data=[[\"Toulouse\", \"Haute-Garonne\", \"Midi-Pyrénées\"]], columns = colonne)"
   ]
  },
  {
   "cell_type": "code",
   "execution_count": null,
   "id": "89caaf35",
   "metadata": {},
   "outputs": [],
   "source": [
    "enc.transform(X_new)"
   ]
  },
  {
   "cell_type": "code",
   "execution_count": null,
   "id": "b5058c31",
   "metadata": {},
   "outputs": [],
   "source": [
    "exm_pred = model.predict(X_new)\n",
    "print(exm_pred)"
   ]
  },
  {
   "cell_type": "code",
   "execution_count": null,
   "id": "7d46e909",
   "metadata": {},
   "outputs": [],
   "source": []
  },
  {
   "cell_type": "code",
   "execution_count": null,
   "id": "634d0d28",
   "metadata": {},
   "outputs": [],
   "source": []
  },
  {
   "cell_type": "code",
   "execution_count": null,
   "id": "fe4ae7fb",
   "metadata": {},
   "outputs": [],
   "source": []
  },
  {
   "cell_type": "code",
   "execution_count": null,
   "id": "f400ac97",
   "metadata": {},
   "outputs": [],
   "source": []
  },
  {
   "cell_type": "code",
   "execution_count": null,
   "id": "7b29597d",
   "metadata": {},
   "outputs": [],
   "source": []
  },
  {
   "cell_type": "code",
   "execution_count": null,
   "id": "4e88f43f",
   "metadata": {},
   "outputs": [],
   "source": [
    "from sklearn.preprocessing import OneHotEncoder\n",
    "encoder = OneHotEncoder(categories = \"auto\", handle_unknown = \"ignore\")\n",
    "X_train_encoded = encoder.fit_transform(X_train)"
   ]
  },
  {
   "cell_type": "code",
   "execution_count": null,
   "id": "e91570ee",
   "metadata": {},
   "outputs": [],
   "source": [
    "X_train_encoded"
   ]
  },
  {
   "cell_type": "code",
   "execution_count": null,
   "id": "251ed841",
   "metadata": {},
   "outputs": [],
   "source": [
    "colonne = ['Ville','Departement', 'Region']\n",
    "test_data = pd.DataFrame(data=[[\"Toulouse\", \"Haute-Garonne\", \"Midi-Pyrénées\"]], columns = colonne)"
   ]
  },
  {
   "cell_type": "code",
   "execution_count": null,
   "id": "79047716",
   "metadata": {},
   "outputs": [],
   "source": [
    "colonnes = ['SurfaceMin', 'NombrePiecesEnum', 'NombreChambresEnum', 'TypeMission',\n",
    "       'TypeBien', 'TypeProjet', 'BudgetMaxEuro', 'CodePostal', 'Ville',\n",
    "       'Departement', 'Region']\n",
    "X_new = pd.DataFrame(data =[[70, 3, 1, 1, 2, 1, 250000, 31000, \"Toulouse\", \"Haute-Garonne\", \"Midi-Pyrénées\"]], columns = colonnes )"
   ]
  },
  {
   "cell_type": "code",
   "execution_count": null,
   "id": "bc776753",
   "metadata": {},
   "outputs": [],
   "source": [
    "test_data = encoder.transform(X_new)"
   ]
  },
  {
   "cell_type": "code",
   "execution_count": null,
   "id": "93a8f533",
   "metadata": {},
   "outputs": [],
   "source": []
  },
  {
   "cell_type": "code",
   "execution_count": null,
   "id": "85352b7f",
   "metadata": {},
   "outputs": [],
   "source": [
    "exm_pred = lr.predict(test_data)\n",
    "print([exm_pred])"
   ]
  },
  {
   "cell_type": "code",
   "execution_count": null,
   "id": "801a502a",
   "metadata": {},
   "outputs": [],
   "source": []
  },
  {
   "cell_type": "code",
   "execution_count": null,
   "id": "c73cf22a",
   "metadata": {},
   "outputs": [],
   "source": []
  },
  {
   "cell_type": "code",
   "execution_count": null,
   "id": "c6c18a08",
   "metadata": {},
   "outputs": [],
   "source": []
  },
  {
   "cell_type": "markdown",
   "id": "891e8f86",
   "metadata": {},
   "source": [
    "# Regression Logistique"
   ]
  },
  {
   "cell_type": "code",
   "execution_count": null,
   "id": "d4c5b0fe",
   "metadata": {},
   "outputs": [],
   "source": []
  },
  {
   "cell_type": "code",
   "execution_count": 61,
   "id": "e3ef32dd",
   "metadata": {},
   "outputs": [
    {
     "data": {
      "text/plain": [
       "LogisticRegression(C=0.001, solver='newton-cg')"
      ]
     },
     "execution_count": 61,
     "metadata": {},
     "output_type": "execute_result"
    }
   ],
   "source": [
    "from sklearn.linear_model import LogisticRegression\n",
    "lr = LogisticRegression(solver='newton-cg', C =0.001, penalty = 'l2' )\n",
    "lr.fit(X_train,y_train)"
   ]
  },
  {
   "cell_type": "code",
   "execution_count": 62,
   "id": "5e85d97d",
   "metadata": {},
   "outputs": [],
   "source": [
    "y_lr = lr.predict(X_test)"
   ]
  },
  {
   "cell_type": "code",
   "execution_count": 63,
   "id": "61c78e82",
   "metadata": {},
   "outputs": [
    {
     "name": "stdout",
     "output_type": "stream",
     "text": [
      "                  precision    recall  f1-score   support\n",
      "\n",
      "  Echec(Class 0)       0.71      0.98      0.82     29809\n",
      "Succès (Class 1)       0.97      0.59      0.73     29331\n",
      "\n",
      "        accuracy                           0.79     59140\n",
      "       macro avg       0.84      0.78      0.78     59140\n",
      "    weighted avg       0.84      0.79      0.78     59140\n",
      "\n"
     ]
    }
   ],
   "source": [
    "from sklearn.metrics import classification_report\n",
    "print(classification_report(y_test,y_lr,target_names = ['Echec(Class 0)','Succès (Class 1)']))"
   ]
  },
  {
   "cell_type": "code",
   "execution_count": 64,
   "id": "4da0b4a5",
   "metadata": {},
   "outputs": [
    {
     "data": {
      "text/plain": [
       "<AxesSubplot:>"
      ]
     },
     "execution_count": 64,
     "metadata": {},
     "output_type": "execute_result"
    },
    {
     "data": {
      "image/png": "[encoded data removed]",
      "text/plain": [
       "<Figure size 432x288 with 2 Axes>"
      ]
     },
     "metadata": {
      "needs_background": "light"
     },
     "output_type": "display_data"
    }
   ],
   "source": [
    "cm = confusion_matrix(y_test,lr.predict(X_test))\n",
    "sns.heatmap(cm,annot=True,fmt=\"d\")"
   ]
  },
  {
   "cell_type": "code",
   "execution_count": 65,
   "id": "d1aa4143",
   "metadata": {},
   "outputs": [
    {
     "name": "stderr",
     "output_type": "stream",
     "text": [
      "C:\\anaconda3\\lib\\site-packages\\sklearn\\utils\\deprecation.py:87: FutureWarning: Function plot_roc_curve is deprecated; Function :func:`plot_roc_curve` is deprecated in 1.0 and will be removed in 1.2. Use one of the class methods: :meth:`sklearn.metric.RocCurveDisplay.from_predictions` or :meth:`sklearn.metric.RocCurveDisplay.from_estimator`.\n",
      "  warnings.warn(msg, category=FutureWarning)\n"
     ]
    },
    {
     "data": {
      "image/png": "[encoded data removed]",
      "text/plain": [
       "<Figure size 432x288 with 1 Axes>"
      ]
     },
     "metadata": {
      "needs_background": "light"
     },
     "output_type": "display_data"
    }
   ],
   "source": [
    "from sklearn.metrics import plot_roc_curve\n",
    "plot_roc_curve(lr, X_train,y_train )\n",
    "plt.plot([0,1],[0,1])\n",
    "plt.xlabel('false positive')\n",
    "plt.ylabel('true positve')\n",
    "plt.title('ROC curve LR')\n",
    "plt.show()"
   ]
  },
  {
   "cell_type": "code",
   "execution_count": 66,
   "id": "453b7594",
   "metadata": {},
   "outputs": [
    {
     "data": {
      "text/html": [
       "<div>\n",
       "<style scoped>\n",
       "    .dataframe tbody tr th:only-of-type {\n",
       "        vertical-align: middle;\n",
       "    }\n",
       "\n",
       "    .dataframe tbody tr th {\n",
       "        vertical-align: top;\n",
       "    }\n",
       "\n",
       "    .dataframe thead th {\n",
       "        text-align: right;\n",
       "    }\n",
       "</style>\n",
       "<table border=\"1\" class=\"dataframe\">\n",
       "  <thead>\n",
       "    <tr style=\"text-align: right;\">\n",
       "      <th></th>\n",
       "      <th>SurfaceMin</th>\n",
       "      <th>NombrePiecesEnum</th>\n",
       "      <th>NombreChambresEnum</th>\n",
       "      <th>TypeMission</th>\n",
       "      <th>TypeBien</th>\n",
       "      <th>TypeProjet</th>\n",
       "      <th>BudgetMaxEuro</th>\n",
       "      <th>CodePostal</th>\n",
       "      <th>Ville</th>\n",
       "      <th>Succes</th>\n",
       "      <th>Region_Auvergne</th>\n",
       "      <th>Region_Bourgogne</th>\n",
       "      <th>Region_Bretagne</th>\n",
       "      <th>Region_Centre</th>\n",
       "      <th>Region_Champagne-Ardenne</th>\n",
       "      <th>Region_Corse</th>\n",
       "      <th>Region_Franche-Comté</th>\n",
       "      <th>Region_Haute-Normandie</th>\n",
       "      <th>Region_Languedoc-Roussillon</th>\n",
       "      <th>Region_Midi-Pyrénées</th>\n",
       "      <th>Region_Picardie</th>\n",
       "      <th>Region_Poitou-Charentes</th>\n",
       "      <th>Region_Provence-Alpes-Côte d'Azur</th>\n",
       "      <th>Region_Rhône-Alpes</th>\n",
       "      <th>Departement_Aisne</th>\n",
       "      <th>Departement_Allier</th>\n",
       "      <th>Departement_Alpes-Maritimes</th>\n",
       "      <th>Departement_Ardèche</th>\n",
       "      <th>Departement_Aube</th>\n",
       "      <th>Departement_Aude</th>\n",
       "      <th>Departement_Bouches-du-Rhône</th>\n",
       "      <th>Departement_Charente</th>\n",
       "      <th>Departement_Charente-Maritime</th>\n",
       "      <th>Departement_Corse-du-Sud</th>\n",
       "      <th>Departement_Côte-d'Or</th>\n",
       "      <th>Departement_Côtes-d'Armor</th>\n",
       "      <th>Departement_Doubs</th>\n",
       "      <th>Departement_Drôme</th>\n",
       "      <th>Departement_Eure</th>\n",
       "      <th>Departement_Eure-et-Loir</th>\n",
       "      <th>Departement_Finistère</th>\n",
       "      <th>Departement_Gard</th>\n",
       "      <th>Departement_Gers</th>\n",
       "      <th>Departement_Gironde</th>\n",
       "      <th>Departement_Haute-Garonne</th>\n",
       "      <th>Departement_Hérault</th>\n",
       "    </tr>\n",
       "  </thead>\n",
       "  <tbody>\n",
       "    <tr>\n",
       "      <th>0</th>\n",
       "      <td>30</td>\n",
       "      <td>2</td>\n",
       "      <td>1</td>\n",
       "      <td>2</td>\n",
       "      <td>2</td>\n",
       "      <td>1</td>\n",
       "      <td>100000</td>\n",
       "      <td>1000</td>\n",
       "      <td>Bourg En Bresse</td>\n",
       "      <td>1</td>\n",
       "      <td>0</td>\n",
       "      <td>0</td>\n",
       "      <td>0</td>\n",
       "      <td>0</td>\n",
       "      <td>0</td>\n",
       "      <td>0</td>\n",
       "      <td>0</td>\n",
       "      <td>0</td>\n",
       "      <td>0</td>\n",
       "      <td>0</td>\n",
       "      <td>0</td>\n",
       "      <td>0</td>\n",
       "      <td>0</td>\n",
       "      <td>1</td>\n",
       "      <td>0</td>\n",
       "      <td>0</td>\n",
       "      <td>0</td>\n",
       "      <td>0</td>\n",
       "      <td>0</td>\n",
       "      <td>0</td>\n",
       "      <td>0</td>\n",
       "      <td>0</td>\n",
       "      <td>0</td>\n",
       "      <td>0</td>\n",
       "      <td>0</td>\n",
       "      <td>0</td>\n",
       "      <td>0</td>\n",
       "      <td>0</td>\n",
       "      <td>0</td>\n",
       "      <td>0</td>\n",
       "      <td>0</td>\n",
       "      <td>0</td>\n",
       "      <td>0</td>\n",
       "      <td>0</td>\n",
       "      <td>0</td>\n",
       "      <td>0</td>\n",
       "    </tr>\n",
       "    <tr>\n",
       "      <th>1</th>\n",
       "      <td>30</td>\n",
       "      <td>2</td>\n",
       "      <td>1</td>\n",
       "      <td>2</td>\n",
       "      <td>2</td>\n",
       "      <td>1</td>\n",
       "      <td>100000</td>\n",
       "      <td>1000</td>\n",
       "      <td>Bourg En Bresse</td>\n",
       "      <td>1</td>\n",
       "      <td>0</td>\n",
       "      <td>0</td>\n",
       "      <td>0</td>\n",
       "      <td>0</td>\n",
       "      <td>0</td>\n",
       "      <td>0</td>\n",
       "      <td>0</td>\n",
       "      <td>0</td>\n",
       "      <td>0</td>\n",
       "      <td>0</td>\n",
       "      <td>0</td>\n",
       "      <td>0</td>\n",
       "      <td>0</td>\n",
       "      <td>1</td>\n",
       "      <td>0</td>\n",
       "      <td>0</td>\n",
       "      <td>0</td>\n",
       "      <td>0</td>\n",
       "      <td>0</td>\n",
       "      <td>0</td>\n",
       "      <td>0</td>\n",
       "      <td>0</td>\n",
       "      <td>0</td>\n",
       "      <td>0</td>\n",
       "      <td>0</td>\n",
       "      <td>0</td>\n",
       "      <td>0</td>\n",
       "      <td>0</td>\n",
       "      <td>0</td>\n",
       "      <td>0</td>\n",
       "      <td>0</td>\n",
       "      <td>0</td>\n",
       "      <td>0</td>\n",
       "      <td>0</td>\n",
       "      <td>0</td>\n",
       "      <td>0</td>\n",
       "    </tr>\n",
       "    <tr>\n",
       "      <th>2</th>\n",
       "      <td>30</td>\n",
       "      <td>2</td>\n",
       "      <td>1</td>\n",
       "      <td>2</td>\n",
       "      <td>2</td>\n",
       "      <td>1</td>\n",
       "      <td>100000</td>\n",
       "      <td>1000</td>\n",
       "      <td>Bourg En Bresse</td>\n",
       "      <td>1</td>\n",
       "      <td>0</td>\n",
       "      <td>0</td>\n",
       "      <td>0</td>\n",
       "      <td>0</td>\n",
       "      <td>0</td>\n",
       "      <td>0</td>\n",
       "      <td>0</td>\n",
       "      <td>0</td>\n",
       "      <td>0</td>\n",
       "      <td>0</td>\n",
       "      <td>0</td>\n",
       "      <td>0</td>\n",
       "      <td>0</td>\n",
       "      <td>1</td>\n",
       "      <td>0</td>\n",
       "      <td>0</td>\n",
       "      <td>0</td>\n",
       "      <td>0</td>\n",
       "      <td>0</td>\n",
       "      <td>0</td>\n",
       "      <td>0</td>\n",
       "      <td>0</td>\n",
       "      <td>0</td>\n",
       "      <td>0</td>\n",
       "      <td>0</td>\n",
       "      <td>0</td>\n",
       "      <td>0</td>\n",
       "      <td>0</td>\n",
       "      <td>0</td>\n",
       "      <td>0</td>\n",
       "      <td>0</td>\n",
       "      <td>0</td>\n",
       "      <td>0</td>\n",
       "      <td>0</td>\n",
       "      <td>0</td>\n",
       "      <td>0</td>\n",
       "    </tr>\n",
       "    <tr>\n",
       "      <th>3</th>\n",
       "      <td>30</td>\n",
       "      <td>2</td>\n",
       "      <td>1</td>\n",
       "      <td>2</td>\n",
       "      <td>2</td>\n",
       "      <td>1</td>\n",
       "      <td>100000</td>\n",
       "      <td>1000</td>\n",
       "      <td>Bourg En Bresse</td>\n",
       "      <td>1</td>\n",
       "      <td>0</td>\n",
       "      <td>0</td>\n",
       "      <td>0</td>\n",
       "      <td>0</td>\n",
       "      <td>0</td>\n",
       "      <td>0</td>\n",
       "      <td>0</td>\n",
       "      <td>0</td>\n",
       "      <td>0</td>\n",
       "      <td>0</td>\n",
       "      <td>0</td>\n",
       "      <td>0</td>\n",
       "      <td>0</td>\n",
       "      <td>1</td>\n",
       "      <td>0</td>\n",
       "      <td>0</td>\n",
       "      <td>0</td>\n",
       "      <td>0</td>\n",
       "      <td>0</td>\n",
       "      <td>0</td>\n",
       "      <td>0</td>\n",
       "      <td>0</td>\n",
       "      <td>0</td>\n",
       "      <td>0</td>\n",
       "      <td>0</td>\n",
       "      <td>0</td>\n",
       "      <td>0</td>\n",
       "      <td>0</td>\n",
       "      <td>0</td>\n",
       "      <td>0</td>\n",
       "      <td>0</td>\n",
       "      <td>0</td>\n",
       "      <td>0</td>\n",
       "      <td>0</td>\n",
       "      <td>0</td>\n",
       "      <td>0</td>\n",
       "    </tr>\n",
       "    <tr>\n",
       "      <th>4</th>\n",
       "      <td>30</td>\n",
       "      <td>2</td>\n",
       "      <td>1</td>\n",
       "      <td>2</td>\n",
       "      <td>2</td>\n",
       "      <td>1</td>\n",
       "      <td>100000</td>\n",
       "      <td>1000</td>\n",
       "      <td>Bourg En Bresse</td>\n",
       "      <td>1</td>\n",
       "      <td>0</td>\n",
       "      <td>0</td>\n",
       "      <td>0</td>\n",
       "      <td>0</td>\n",
       "      <td>0</td>\n",
       "      <td>0</td>\n",
       "      <td>0</td>\n",
       "      <td>0</td>\n",
       "      <td>0</td>\n",
       "      <td>0</td>\n",
       "      <td>0</td>\n",
       "      <td>0</td>\n",
       "      <td>0</td>\n",
       "      <td>1</td>\n",
       "      <td>0</td>\n",
       "      <td>0</td>\n",
       "      <td>0</td>\n",
       "      <td>0</td>\n",
       "      <td>0</td>\n",
       "      <td>0</td>\n",
       "      <td>0</td>\n",
       "      <td>0</td>\n",
       "      <td>0</td>\n",
       "      <td>0</td>\n",
       "      <td>0</td>\n",
       "      <td>0</td>\n",
       "      <td>0</td>\n",
       "      <td>0</td>\n",
       "      <td>0</td>\n",
       "      <td>0</td>\n",
       "      <td>0</td>\n",
       "      <td>0</td>\n",
       "      <td>0</td>\n",
       "      <td>0</td>\n",
       "      <td>0</td>\n",
       "      <td>0</td>\n",
       "    </tr>\n",
       "  </tbody>\n",
       "</table>\n",
       "</div>"
      ],
      "text/plain": [
       "   SurfaceMin  NombrePiecesEnum  NombreChambresEnum  TypeMission  TypeBien  \\\n",
       "0          30                 2                   1            2         2   \n",
       "1          30                 2                   1            2         2   \n",
       "2          30                 2                   1            2         2   \n",
       "3          30                 2                   1            2         2   \n",
       "4          30                 2                   1            2         2   \n",
       "\n",
       "   TypeProjet  BudgetMaxEuro  CodePostal            Ville  Succes  \\\n",
       "0           1         100000        1000  Bourg En Bresse       1   \n",
       "1           1         100000        1000  Bourg En Bresse       1   \n",
       "2           1         100000        1000  Bourg En Bresse       1   \n",
       "3           1         100000        1000  Bourg En Bresse       1   \n",
       "4           1         100000        1000  Bourg En Bresse       1   \n",
       "\n",
       "   Region_Auvergne  Region_Bourgogne  Region_Bretagne  Region_Centre  \\\n",
       "0                0                 0                0              0   \n",
       "1                0                 0                0              0   \n",
       "2                0                 0                0              0   \n",
       "3                0                 0                0              0   \n",
       "4                0                 0                0              0   \n",
       "\n",
       "   Region_Champagne-Ardenne  Region_Corse  Region_Franche-Comté  \\\n",
       "0                         0             0                     0   \n",
       "1                         0             0                     0   \n",
       "2                         0             0                     0   \n",
       "3                         0             0                     0   \n",
       "4                         0             0                     0   \n",
       "\n",
       "   Region_Haute-Normandie  Region_Languedoc-Roussillon  Region_Midi-Pyrénées  \\\n",
       "0                       0                            0                     0   \n",
       "1                       0                            0                     0   \n",
       "2                       0                            0                     0   \n",
       "3                       0                            0                     0   \n",
       "4                       0                            0                     0   \n",
       "\n",
       "   Region_Picardie  Region_Poitou-Charentes  \\\n",
       "0                0                        0   \n",
       "1                0                        0   \n",
       "2                0                        0   \n",
       "3                0                        0   \n",
       "4                0                        0   \n",
       "\n",
       "   Region_Provence-Alpes-Côte d'Azur  Region_Rhône-Alpes  Departement_Aisne  \\\n",
       "0                                  0                   1                  0   \n",
       "1                                  0                   1                  0   \n",
       "2                                  0                   1                  0   \n",
       "3                                  0                   1                  0   \n",
       "4                                  0                   1                  0   \n",
       "\n",
       "   Departement_Allier  Departement_Alpes-Maritimes  Departement_Ardèche  \\\n",
       "0                   0                            0                    0   \n",
       "1                   0                            0                    0   \n",
       "2                   0                            0                    0   \n",
       "3                   0                            0                    0   \n",
       "4                   0                            0                    0   \n",
       "\n",
       "   Departement_Aube  Departement_Aude  Departement_Bouches-du-Rhône  \\\n",
       "0                 0                 0                             0   \n",
       "1                 0                 0                             0   \n",
       "2                 0                 0                             0   \n",
       "3                 0                 0                             0   \n",
       "4                 0                 0                             0   \n",
       "\n",
       "   Departement_Charente  Departement_Charente-Maritime  \\\n",
       "0                     0                              0   \n",
       "1                     0                              0   \n",
       "2                     0                              0   \n",
       "3                     0                              0   \n",
       "4                     0                              0   \n",
       "\n",
       "   Departement_Corse-du-Sud  Departement_Côte-d'Or  Departement_Côtes-d'Armor  \\\n",
       "0                         0                      0                          0   \n",
       "1                         0                      0                          0   \n",
       "2                         0                      0                          0   \n",
       "3                         0                      0                          0   \n",
       "4                         0                      0                          0   \n",
       "\n",
       "   Departement_Doubs  Departement_Drôme  Departement_Eure  \\\n",
       "0                  0                  0                 0   \n",
       "1                  0                  0                 0   \n",
       "2                  0                  0                 0   \n",
       "3                  0                  0                 0   \n",
       "4                  0                  0                 0   \n",
       "\n",
       "   Departement_Eure-et-Loir  Departement_Finistère  Departement_Gard  \\\n",
       "0                         0                      0                 0   \n",
       "1                         0                      0                 0   \n",
       "2                         0                      0                 0   \n",
       "3                         0                      0                 0   \n",
       "4                         0                      0                 0   \n",
       "\n",
       "   Departement_Gers  Departement_Gironde  Departement_Haute-Garonne  \\\n",
       "0                 0                    0                          0   \n",
       "1                 0                    0                          0   \n",
       "2                 0                    0                          0   \n",
       "3                 0                    0                          0   \n",
       "4                 0                    0                          0   \n",
       "\n",
       "   Departement_Hérault  \n",
       "0                    0  \n",
       "1                    0  \n",
       "2                    0  \n",
       "3                    0  \n",
       "4                    0  "
      ]
     },
     "execution_count": 66,
     "metadata": {},
     "output_type": "execute_result"
    }
   ],
   "source": [
    "df_test.head()"
   ]
  },
  {
   "cell_type": "code",
   "execution_count": 67,
   "id": "be0c4720",
   "metadata": {},
   "outputs": [
    {
     "data": {
      "text/plain": [
       "0    1\n",
       "Name: Succes, dtype: int64"
      ]
     },
     "execution_count": 67,
     "metadata": {},
     "output_type": "execute_result"
    }
   ],
   "source": [
    "y.iloc[:1,]"
   ]
  },
  {
   "cell_type": "code",
   "execution_count": 68,
   "id": "fa1c1341",
   "metadata": {},
   "outputs": [
    {
     "name": "stderr",
     "output_type": "stream",
     "text": [
      "C:\\anaconda3\\lib\\site-packages\\sklearn\\base.py:443: UserWarning: X has feature names, but StandardScaler was fitted without feature names\n",
      "  warnings.warn(\n"
     ]
    }
   ],
   "source": [
    "test1 = X.iloc[:1,]\n",
    "test1 = scaler.transform(test1)"
   ]
  },
  {
   "cell_type": "code",
   "execution_count": 69,
   "id": "71eab4ae",
   "metadata": {},
   "outputs": [
    {
     "data": {
      "text/plain": [
       "array([[3.e+01, 2.e+00, 1.e+00, 2.e+00, 2.e+00, 1.e+00, 1.e+05, 1.e+03]])"
      ]
     },
     "execution_count": 69,
     "metadata": {},
     "output_type": "execute_result"
    }
   ],
   "source": [
    "test1"
   ]
  },
  {
   "cell_type": "code",
   "execution_count": 70,
   "id": "1e9e251e",
   "metadata": {},
   "outputs": [
    {
     "name": "stdout",
     "output_type": "stream",
     "text": [
      "[1]\n"
     ]
    }
   ],
   "source": [
    "exm_pred = lr.predict(test1)\n",
    "print(exm_pred)"
   ]
  },
  {
   "cell_type": "code",
   "execution_count": 71,
   "id": "87d1c199",
   "metadata": {},
   "outputs": [
    {
     "ename": "ValueError",
     "evalue": "Shape of passed values is (9, 1), indices imply (9, 8)",
     "output_type": "error",
     "traceback": [
      "\u001b[1;31m---------------------------------------------------------------------------\u001b[0m",
      "\u001b[1;31mValueError\u001b[0m                                Traceback (most recent call last)",
      "\u001b[1;32mC:\\Users\\LOUDOU~1\\AppData\\Local\\Temp/ipykernel_36400/719057513.py\u001b[0m in \u001b[0;36m<module>\u001b[1;34m\u001b[0m\n\u001b[1;32m----> 1\u001b[1;33m \u001b[0mX_new\u001b[0m \u001b[1;33m=\u001b[0m \u001b[0mpd\u001b[0m\u001b[1;33m.\u001b[0m\u001b[0mDataFrame\u001b[0m\u001b[1;33m(\u001b[0m\u001b[1;33m[\u001b[0m\u001b[1;36m70\u001b[0m\u001b[1;33m,\u001b[0m \u001b[1;36m3\u001b[0m\u001b[1;33m,\u001b[0m \u001b[1;36m1\u001b[0m\u001b[1;33m,\u001b[0m \u001b[1;36m1\u001b[0m\u001b[1;33m,\u001b[0m \u001b[1;36m2\u001b[0m\u001b[1;33m,\u001b[0m \u001b[1;36m250000\u001b[0m\u001b[1;33m,\u001b[0m \u001b[1;36m31000\u001b[0m\u001b[1;33m,\u001b[0m \u001b[1;34m\"Occitanie\"\u001b[0m\u001b[1;33m,\u001b[0m \u001b[1;34m\"Ariege\"\u001b[0m\u001b[1;33m]\u001b[0m\u001b[1;33m,\u001b[0m \u001b[0mcolumns\u001b[0m \u001b[1;33m=\u001b[0m \u001b[0mX\u001b[0m\u001b[1;33m.\u001b[0m\u001b[0mcolumns\u001b[0m\u001b[1;33m)\u001b[0m\u001b[1;33m\u001b[0m\u001b[1;33m\u001b[0m\u001b[0m\n\u001b[0m\u001b[0;32m      2\u001b[0m \u001b[0mX_new\u001b[0m\u001b[1;33m\u001b[0m\u001b[1;33m\u001b[0m\u001b[0m\n",
      "\u001b[1;32mC:\\anaconda3\\lib\\site-packages\\pandas\\core\\frame.py\u001b[0m in \u001b[0;36m__init__\u001b[1;34m(self, data, index, columns, dtype, copy)\u001b[0m\n\u001b[0;32m    735\u001b[0m                     )\n\u001b[0;32m    736\u001b[0m                 \u001b[1;32melse\u001b[0m\u001b[1;33m:\u001b[0m\u001b[1;33m\u001b[0m\u001b[1;33m\u001b[0m\u001b[0m\n\u001b[1;32m--> 737\u001b[1;33m                     mgr = ndarray_to_mgr(\n\u001b[0m\u001b[0;32m    738\u001b[0m                         \u001b[0mdata\u001b[0m\u001b[1;33m,\u001b[0m\u001b[1;33m\u001b[0m\u001b[1;33m\u001b[0m\u001b[0m\n\u001b[0;32m    739\u001b[0m                         \u001b[0mindex\u001b[0m\u001b[1;33m,\u001b[0m\u001b[1;33m\u001b[0m\u001b[1;33m\u001b[0m\u001b[0m\n",
      "\u001b[1;32mC:\\anaconda3\\lib\\site-packages\\pandas\\core\\internals\\construction.py\u001b[0m in \u001b[0;36mndarray_to_mgr\u001b[1;34m(values, index, columns, dtype, copy, typ)\u001b[0m\n\u001b[0;32m    349\u001b[0m     )\n\u001b[0;32m    350\u001b[0m \u001b[1;33m\u001b[0m\u001b[0m\n\u001b[1;32m--> 351\u001b[1;33m     \u001b[0m_check_values_indices_shape_match\u001b[0m\u001b[1;33m(\u001b[0m\u001b[0mvalues\u001b[0m\u001b[1;33m,\u001b[0m \u001b[0mindex\u001b[0m\u001b[1;33m,\u001b[0m \u001b[0mcolumns\u001b[0m\u001b[1;33m)\u001b[0m\u001b[1;33m\u001b[0m\u001b[1;33m\u001b[0m\u001b[0m\n\u001b[0m\u001b[0;32m    352\u001b[0m \u001b[1;33m\u001b[0m\u001b[0m\n\u001b[0;32m    353\u001b[0m     \u001b[1;32mif\u001b[0m \u001b[0mtyp\u001b[0m \u001b[1;33m==\u001b[0m \u001b[1;34m\"array\"\u001b[0m\u001b[1;33m:\u001b[0m\u001b[1;33m\u001b[0m\u001b[1;33m\u001b[0m\u001b[0m\n",
      "\u001b[1;32mC:\\anaconda3\\lib\\site-packages\\pandas\\core\\internals\\construction.py\u001b[0m in \u001b[0;36m_check_values_indices_shape_match\u001b[1;34m(values, index, columns)\u001b[0m\n\u001b[0;32m    420\u001b[0m         \u001b[0mpassed\u001b[0m \u001b[1;33m=\u001b[0m \u001b[0mvalues\u001b[0m\u001b[1;33m.\u001b[0m\u001b[0mshape\u001b[0m\u001b[1;33m\u001b[0m\u001b[1;33m\u001b[0m\u001b[0m\n\u001b[0;32m    421\u001b[0m         \u001b[0mimplied\u001b[0m \u001b[1;33m=\u001b[0m \u001b[1;33m(\u001b[0m\u001b[0mlen\u001b[0m\u001b[1;33m(\u001b[0m\u001b[0mindex\u001b[0m\u001b[1;33m)\u001b[0m\u001b[1;33m,\u001b[0m \u001b[0mlen\u001b[0m\u001b[1;33m(\u001b[0m\u001b[0mcolumns\u001b[0m\u001b[1;33m)\u001b[0m\u001b[1;33m)\u001b[0m\u001b[1;33m\u001b[0m\u001b[1;33m\u001b[0m\u001b[0m\n\u001b[1;32m--> 422\u001b[1;33m         \u001b[1;32mraise\u001b[0m \u001b[0mValueError\u001b[0m\u001b[1;33m(\u001b[0m\u001b[1;34mf\"Shape of passed values is {passed}, indices imply {implied}\"\u001b[0m\u001b[1;33m)\u001b[0m\u001b[1;33m\u001b[0m\u001b[1;33m\u001b[0m\u001b[0m\n\u001b[0m\u001b[0;32m    423\u001b[0m \u001b[1;33m\u001b[0m\u001b[0m\n\u001b[0;32m    424\u001b[0m \u001b[1;33m\u001b[0m\u001b[0m\n",
      "\u001b[1;31mValueError\u001b[0m: Shape of passed values is (9, 1), indices imply (9, 8)"
     ]
    }
   ],
   "source": [
    "X_new = pd.DataFrame([70, 3, 1, 1, 2, 250000, 31000, \"Occitanie\", \"Ariege\"], columns = X.columns)\n",
    "X_new"
   ]
  },
  {
   "cell_type": "code",
   "execution_count": 72,
   "id": "f126c027",
   "metadata": {},
   "outputs": [
    {
     "data": {
      "text/html": [
       "<div>\n",
       "<style scoped>\n",
       "    .dataframe tbody tr th:only-of-type {\n",
       "        vertical-align: middle;\n",
       "    }\n",
       "\n",
       "    .dataframe tbody tr th {\n",
       "        vertical-align: top;\n",
       "    }\n",
       "\n",
       "    .dataframe thead th {\n",
       "        text-align: right;\n",
       "    }\n",
       "</style>\n",
       "<table border=\"1\" class=\"dataframe\">\n",
       "  <thead>\n",
       "    <tr style=\"text-align: right;\">\n",
       "      <th></th>\n",
       "      <th>SurfaceMin</th>\n",
       "      <th>NombrePiecesEnum</th>\n",
       "      <th>NombreChambresEnum</th>\n",
       "      <th>TypeMission</th>\n",
       "      <th>TypeBien</th>\n",
       "      <th>TypeProjet</th>\n",
       "      <th>BudgetMaxEuro</th>\n",
       "      <th>CodePostal</th>\n",
       "      <th>Ville</th>\n",
       "      <th>Succes</th>\n",
       "      <th>Region_Auvergne</th>\n",
       "      <th>Region_Bourgogne</th>\n",
       "      <th>Region_Bretagne</th>\n",
       "      <th>Region_Centre</th>\n",
       "      <th>Region_Champagne-Ardenne</th>\n",
       "      <th>Region_Corse</th>\n",
       "      <th>Region_Franche-Comté</th>\n",
       "      <th>Region_Haute-Normandie</th>\n",
       "      <th>Region_Languedoc-Roussillon</th>\n",
       "      <th>Region_Midi-Pyrénées</th>\n",
       "      <th>Region_Picardie</th>\n",
       "      <th>Region_Poitou-Charentes</th>\n",
       "      <th>Region_Provence-Alpes-Côte d'Azur</th>\n",
       "      <th>Region_Rhône-Alpes</th>\n",
       "      <th>Departement_Aisne</th>\n",
       "      <th>Departement_Allier</th>\n",
       "      <th>Departement_Alpes-Maritimes</th>\n",
       "      <th>Departement_Ardèche</th>\n",
       "      <th>Departement_Aube</th>\n",
       "      <th>Departement_Aude</th>\n",
       "      <th>Departement_Bouches-du-Rhône</th>\n",
       "      <th>Departement_Charente</th>\n",
       "      <th>Departement_Charente-Maritime</th>\n",
       "      <th>Departement_Corse-du-Sud</th>\n",
       "      <th>Departement_Côte-d'Or</th>\n",
       "      <th>Departement_Côtes-d'Armor</th>\n",
       "      <th>Departement_Doubs</th>\n",
       "      <th>Departement_Drôme</th>\n",
       "      <th>Departement_Eure</th>\n",
       "      <th>Departement_Eure-et-Loir</th>\n",
       "      <th>Departement_Finistère</th>\n",
       "      <th>Departement_Gard</th>\n",
       "      <th>Departement_Gers</th>\n",
       "      <th>Departement_Gironde</th>\n",
       "      <th>Departement_Haute-Garonne</th>\n",
       "      <th>Departement_Hérault</th>\n",
       "    </tr>\n",
       "  </thead>\n",
       "  <tbody>\n",
       "    <tr>\n",
       "      <th>0</th>\n",
       "      <td>30</td>\n",
       "      <td>2</td>\n",
       "      <td>1</td>\n",
       "      <td>2</td>\n",
       "      <td>2</td>\n",
       "      <td>1</td>\n",
       "      <td>100000</td>\n",
       "      <td>1000</td>\n",
       "      <td>Bourg En Bresse</td>\n",
       "      <td>1</td>\n",
       "      <td>0</td>\n",
       "      <td>0</td>\n",
       "      <td>0</td>\n",
       "      <td>0</td>\n",
       "      <td>0</td>\n",
       "      <td>0</td>\n",
       "      <td>0</td>\n",
       "      <td>0</td>\n",
       "      <td>0</td>\n",
       "      <td>0</td>\n",
       "      <td>0</td>\n",
       "      <td>0</td>\n",
       "      <td>0</td>\n",
       "      <td>1</td>\n",
       "      <td>0</td>\n",
       "      <td>0</td>\n",
       "      <td>0</td>\n",
       "      <td>0</td>\n",
       "      <td>0</td>\n",
       "      <td>0</td>\n",
       "      <td>0</td>\n",
       "      <td>0</td>\n",
       "      <td>0</td>\n",
       "      <td>0</td>\n",
       "      <td>0</td>\n",
       "      <td>0</td>\n",
       "      <td>0</td>\n",
       "      <td>0</td>\n",
       "      <td>0</td>\n",
       "      <td>0</td>\n",
       "      <td>0</td>\n",
       "      <td>0</td>\n",
       "      <td>0</td>\n",
       "      <td>0</td>\n",
       "      <td>0</td>\n",
       "      <td>0</td>\n",
       "    </tr>\n",
       "  </tbody>\n",
       "</table>\n",
       "</div>"
      ],
      "text/plain": [
       "   SurfaceMin  NombrePiecesEnum  NombreChambresEnum  TypeMission  TypeBien  \\\n",
       "0          30                 2                   1            2         2   \n",
       "\n",
       "   TypeProjet  BudgetMaxEuro  CodePostal            Ville  Succes  \\\n",
       "0           1         100000        1000  Bourg En Bresse       1   \n",
       "\n",
       "   Region_Auvergne  Region_Bourgogne  Region_Bretagne  Region_Centre  \\\n",
       "0                0                 0                0              0   \n",
       "\n",
       "   Region_Champagne-Ardenne  Region_Corse  Region_Franche-Comté  \\\n",
       "0                         0             0                     0   \n",
       "\n",
       "   Region_Haute-Normandie  Region_Languedoc-Roussillon  Region_Midi-Pyrénées  \\\n",
       "0                       0                            0                     0   \n",
       "\n",
       "   Region_Picardie  Region_Poitou-Charentes  \\\n",
       "0                0                        0   \n",
       "\n",
       "   Region_Provence-Alpes-Côte d'Azur  Region_Rhône-Alpes  Departement_Aisne  \\\n",
       "0                                  0                   1                  0   \n",
       "\n",
       "   Departement_Allier  Departement_Alpes-Maritimes  Departement_Ardèche  \\\n",
       "0                   0                            0                    0   \n",
       "\n",
       "   Departement_Aube  Departement_Aude  Departement_Bouches-du-Rhône  \\\n",
       "0                 0                 0                             0   \n",
       "\n",
       "   Departement_Charente  Departement_Charente-Maritime  \\\n",
       "0                     0                              0   \n",
       "\n",
       "   Departement_Corse-du-Sud  Departement_Côte-d'Or  Departement_Côtes-d'Armor  \\\n",
       "0                         0                      0                          0   \n",
       "\n",
       "   Departement_Doubs  Departement_Drôme  Departement_Eure  \\\n",
       "0                  0                  0                 0   \n",
       "\n",
       "   Departement_Eure-et-Loir  Departement_Finistère  Departement_Gard  \\\n",
       "0                         0                      0                 0   \n",
       "\n",
       "   Departement_Gers  Departement_Gironde  Departement_Haute-Garonne  \\\n",
       "0                 0                    0                          0   \n",
       "\n",
       "   Departement_Hérault  \n",
       "0                    0  "
      ]
     },
     "execution_count": 72,
     "metadata": {},
     "output_type": "execute_result"
    }
   ],
   "source": [
    "df_test.head(1)"
   ]
  },
  {
   "cell_type": "code",
   "execution_count": 73,
   "id": "3fbd2583",
   "metadata": {},
   "outputs": [
    {
     "data": {
      "text/html": [
       "<div>\n",
       "<style scoped>\n",
       "    .dataframe tbody tr th:only-of-type {\n",
       "        vertical-align: middle;\n",
       "    }\n",
       "\n",
       "    .dataframe tbody tr th {\n",
       "        vertical-align: top;\n",
       "    }\n",
       "\n",
       "    .dataframe thead th {\n",
       "        text-align: right;\n",
       "    }\n",
       "</style>\n",
       "<table border=\"1\" class=\"dataframe\">\n",
       "  <thead>\n",
       "    <tr style=\"text-align: right;\">\n",
       "      <th></th>\n",
       "      <th>SurfaceMin</th>\n",
       "      <th>NombrePiecesEnum</th>\n",
       "      <th>NombreChambresEnum</th>\n",
       "      <th>TypeMission</th>\n",
       "      <th>TypeBien</th>\n",
       "      <th>TypeProjet</th>\n",
       "      <th>BudgetMaxEuro</th>\n",
       "      <th>CodePostal</th>\n",
       "      <th>Ville</th>\n",
       "      <th>Departement</th>\n",
       "      <th>Region</th>\n",
       "      <th>Succes</th>\n",
       "    </tr>\n",
       "  </thead>\n",
       "  <tbody>\n",
       "    <tr>\n",
       "      <th>0</th>\n",
       "      <td>30</td>\n",
       "      <td>2</td>\n",
       "      <td>1</td>\n",
       "      <td>2</td>\n",
       "      <td>2</td>\n",
       "      <td>1</td>\n",
       "      <td>100000</td>\n",
       "      <td>1000</td>\n",
       "      <td>Bourg En Bresse</td>\n",
       "      <td>Ain</td>\n",
       "      <td>Rhône-Alpes</td>\n",
       "      <td>1</td>\n",
       "    </tr>\n",
       "    <tr>\n",
       "      <th>1</th>\n",
       "      <td>30</td>\n",
       "      <td>2</td>\n",
       "      <td>1</td>\n",
       "      <td>2</td>\n",
       "      <td>2</td>\n",
       "      <td>1</td>\n",
       "      <td>100000</td>\n",
       "      <td>1000</td>\n",
       "      <td>Bourg En Bresse</td>\n",
       "      <td>Ain</td>\n",
       "      <td>Rhône-Alpes</td>\n",
       "      <td>1</td>\n",
       "    </tr>\n",
       "    <tr>\n",
       "      <th>2</th>\n",
       "      <td>30</td>\n",
       "      <td>2</td>\n",
       "      <td>1</td>\n",
       "      <td>2</td>\n",
       "      <td>2</td>\n",
       "      <td>1</td>\n",
       "      <td>100000</td>\n",
       "      <td>1000</td>\n",
       "      <td>Bourg En Bresse</td>\n",
       "      <td>Ain</td>\n",
       "      <td>Rhône-Alpes</td>\n",
       "      <td>1</td>\n",
       "    </tr>\n",
       "    <tr>\n",
       "      <th>3</th>\n",
       "      <td>30</td>\n",
       "      <td>2</td>\n",
       "      <td>1</td>\n",
       "      <td>2</td>\n",
       "      <td>2</td>\n",
       "      <td>1</td>\n",
       "      <td>100000</td>\n",
       "      <td>1000</td>\n",
       "      <td>Bourg En Bresse</td>\n",
       "      <td>Ain</td>\n",
       "      <td>Rhône-Alpes</td>\n",
       "      <td>1</td>\n",
       "    </tr>\n",
       "    <tr>\n",
       "      <th>4</th>\n",
       "      <td>30</td>\n",
       "      <td>2</td>\n",
       "      <td>1</td>\n",
       "      <td>2</td>\n",
       "      <td>2</td>\n",
       "      <td>1</td>\n",
       "      <td>100000</td>\n",
       "      <td>1000</td>\n",
       "      <td>Bourg En Bresse</td>\n",
       "      <td>Ain</td>\n",
       "      <td>Rhône-Alpes</td>\n",
       "      <td>1</td>\n",
       "    </tr>\n",
       "  </tbody>\n",
       "</table>\n",
       "</div>"
      ],
      "text/plain": [
       "   SurfaceMin  NombrePiecesEnum  NombreChambresEnum  TypeMission  TypeBien  \\\n",
       "0          30                 2                   1            2         2   \n",
       "1          30                 2                   1            2         2   \n",
       "2          30                 2                   1            2         2   \n",
       "3          30                 2                   1            2         2   \n",
       "4          30                 2                   1            2         2   \n",
       "\n",
       "   TypeProjet  BudgetMaxEuro  CodePostal            Ville Departement  \\\n",
       "0           1         100000        1000  Bourg En Bresse         Ain   \n",
       "1           1         100000        1000  Bourg En Bresse         Ain   \n",
       "2           1         100000        1000  Bourg En Bresse         Ain   \n",
       "3           1         100000        1000  Bourg En Bresse         Ain   \n",
       "4           1         100000        1000  Bourg En Bresse         Ain   \n",
       "\n",
       "        Region  Succes  \n",
       "0  Rhône-Alpes       1  \n",
       "1  Rhône-Alpes       1  \n",
       "2  Rhône-Alpes       1  \n",
       "3  Rhône-Alpes       1  \n",
       "4  Rhône-Alpes       1  "
      ]
     },
     "execution_count": 73,
     "metadata": {},
     "output_type": "execute_result"
    }
   ],
   "source": [
    "df_33.head()"
   ]
  },
  {
   "cell_type": "code",
   "execution_count": 74,
   "id": "72a60904",
   "metadata": {},
   "outputs": [
    {
     "data": {
      "text/plain": [
       "Index(['SurfaceMin', 'NombrePiecesEnum', 'NombreChambresEnum', 'TypeMission',\n",
       "       'TypeBien', 'TypeProjet', 'BudgetMaxEuro', 'CodePostal', 'Ville',\n",
       "       'Departement', 'Region', 'Succes'],\n",
       "      dtype='object')"
      ]
     },
     "execution_count": 74,
     "metadata": {},
     "output_type": "execute_result"
    }
   ],
   "source": [
    "df_33.columns"
   ]
  },
  {
   "cell_type": "code",
   "execution_count": 75,
   "id": "f100dfb6",
   "metadata": {},
   "outputs": [],
   "source": [
    "# creation d'un profil a faire tester par notre modèle\n",
    "#df_test = pd.get_dummies(df_33,columns = ['Region','Departement'], drop_first=True)\n",
    "\n",
    "\n",
    "data = {'SurfaceMin':70, \n",
    "            'NombrePiecesEnum' : 3, \n",
    "            'NombreChambresEnum':1,\n",
    "            'TypeMission': 1,\n",
    "           'TypeBien': 2, \n",
    "            'TypeProjet': 1,\n",
    "            'BudgetMaxEuro': 250000, \n",
    "             'CodePostal': 31000,\n",
    "            'Departement': \"Haute-Garonne\",\n",
    "            'Region':\"Occitanie\"}\n",
    "    \n",
    "\n",
    "\n",
    "#columns = X.columns\n",
    "\n",
    "#X_new2 = pd.get_dummies(X_new[6:], drop_first=True)\n",
    "#X_new.extend(X_new2)\n",
    "#scaler"
   ]
  },
  {
   "cell_type": "code",
   "execution_count": 76,
   "id": "f9288b57",
   "metadata": {},
   "outputs": [],
   "source": [
    "colonnes = ['SurfaceMin', 'NombrePiecesEnum', 'NombreChambresEnum', 'TypeMission',\n",
    "           'TypeBien', 'TypeProjet', 'BudgetMaxEuro', 'CodePostal',\n",
    "           'Departement', 'Region']\n",
    "\n",
    "\n",
    "X_new = pd.DataFrame(data = [[70, 3, 1, 1, 2, 1, 250000, 31000, \"Haute-Garonne\",\"Occitanie\"]], columns = colonnes )\n"
   ]
  },
  {
   "cell_type": "code",
   "execution_count": 77,
   "id": "c8544d04",
   "metadata": {},
   "outputs": [
    {
     "data": {
      "text/html": [
       "<div>\n",
       "<style scoped>\n",
       "    .dataframe tbody tr th:only-of-type {\n",
       "        vertical-align: middle;\n",
       "    }\n",
       "\n",
       "    .dataframe tbody tr th {\n",
       "        vertical-align: top;\n",
       "    }\n",
       "\n",
       "    .dataframe thead th {\n",
       "        text-align: right;\n",
       "    }\n",
       "</style>\n",
       "<table border=\"1\" class=\"dataframe\">\n",
       "  <thead>\n",
       "    <tr style=\"text-align: right;\">\n",
       "      <th></th>\n",
       "      <th>SurfaceMin</th>\n",
       "      <th>NombrePiecesEnum</th>\n",
       "      <th>NombreChambresEnum</th>\n",
       "      <th>TypeMission</th>\n",
       "      <th>TypeBien</th>\n",
       "      <th>TypeProjet</th>\n",
       "      <th>BudgetMaxEuro</th>\n",
       "      <th>CodePostal</th>\n",
       "      <th>Departement</th>\n",
       "      <th>Region</th>\n",
       "    </tr>\n",
       "  </thead>\n",
       "  <tbody>\n",
       "    <tr>\n",
       "      <th>0</th>\n",
       "      <td>70</td>\n",
       "      <td>3</td>\n",
       "      <td>1</td>\n",
       "      <td>1</td>\n",
       "      <td>2</td>\n",
       "      <td>1</td>\n",
       "      <td>250000</td>\n",
       "      <td>31000</td>\n",
       "      <td>Haute-Garonne</td>\n",
       "      <td>Occitanie</td>\n",
       "    </tr>\n",
       "  </tbody>\n",
       "</table>\n",
       "</div>"
      ],
      "text/plain": [
       "   SurfaceMin  NombrePiecesEnum  NombreChambresEnum  TypeMission  TypeBien  \\\n",
       "0          70                 3                   1            1         2   \n",
       "\n",
       "   TypeProjet  BudgetMaxEuro  CodePostal    Departement     Region  \n",
       "0           1         250000       31000  Haute-Garonne  Occitanie  "
      ]
     },
     "execution_count": 77,
     "metadata": {},
     "output_type": "execute_result"
    }
   ],
   "source": [
    "X_new"
   ]
  },
  {
   "cell_type": "code",
   "execution_count": null,
   "id": "038f7f78",
   "metadata": {},
   "outputs": [],
   "source": []
  },
  {
   "cell_type": "code",
   "execution_count": 78,
   "id": "66e0691c",
   "metadata": {},
   "outputs": [
    {
     "ename": "NameError",
     "evalue": "name 'X_new2' is not defined",
     "output_type": "error",
     "traceback": [
      "\u001b[1;31m---------------------------------------------------------------------------\u001b[0m",
      "\u001b[1;31mNameError\u001b[0m                                 Traceback (most recent call last)",
      "\u001b[1;32mC:\\Users\\LOUDOU~1\\AppData\\Local\\Temp/ipykernel_36400/1103645269.py\u001b[0m in \u001b[0;36m<module>\u001b[1;34m\u001b[0m\n\u001b[1;32m----> 1\u001b[1;33m \u001b[0mX_new2\u001b[0m \u001b[1;33m=\u001b[0m \u001b[0mpd\u001b[0m\u001b[1;33m.\u001b[0m\u001b[0mSeries\u001b[0m\u001b[1;33m(\u001b[0m\u001b[0mX_new2\u001b[0m\u001b[1;33m)\u001b[0m\u001b[1;33m\u001b[0m\u001b[1;33m\u001b[0m\u001b[0m\n\u001b[0m",
      "\u001b[1;31mNameError\u001b[0m: name 'X_new2' is not defined"
     ]
    }
   ],
   "source": [
    "X_new2 = pd.Series(X_new2)"
   ]
  },
  {
   "cell_type": "code",
   "execution_count": 79,
   "id": "dfad1df0",
   "metadata": {},
   "outputs": [
    {
     "data": {
      "text/html": [
       "<div>\n",
       "<style scoped>\n",
       "    .dataframe tbody tr th:only-of-type {\n",
       "        vertical-align: middle;\n",
       "    }\n",
       "\n",
       "    .dataframe tbody tr th {\n",
       "        vertical-align: top;\n",
       "    }\n",
       "\n",
       "    .dataframe thead th {\n",
       "        text-align: right;\n",
       "    }\n",
       "</style>\n",
       "<table border=\"1\" class=\"dataframe\">\n",
       "  <thead>\n",
       "    <tr style=\"text-align: right;\">\n",
       "      <th></th>\n",
       "      <th>SurfaceMin</th>\n",
       "      <th>NombrePiecesEnum</th>\n",
       "      <th>NombreChambresEnum</th>\n",
       "      <th>TypeMission</th>\n",
       "      <th>TypeBien</th>\n",
       "      <th>TypeProjet</th>\n",
       "      <th>BudgetMaxEuro</th>\n",
       "      <th>CodePostal</th>\n",
       "      <th>Departement</th>\n",
       "      <th>Region</th>\n",
       "    </tr>\n",
       "  </thead>\n",
       "  <tbody>\n",
       "    <tr>\n",
       "      <th>0</th>\n",
       "      <td>70</td>\n",
       "      <td>3</td>\n",
       "      <td>1</td>\n",
       "      <td>1</td>\n",
       "      <td>2</td>\n",
       "      <td>1</td>\n",
       "      <td>250000</td>\n",
       "      <td>31000</td>\n",
       "      <td>Haute-Garonne</td>\n",
       "      <td>Occitanie</td>\n",
       "    </tr>\n",
       "  </tbody>\n",
       "</table>\n",
       "</div>"
      ],
      "text/plain": [
       "   SurfaceMin  NombrePiecesEnum  NombreChambresEnum  TypeMission  TypeBien  \\\n",
       "0          70                 3                   1            1         2   \n",
       "\n",
       "   TypeProjet  BudgetMaxEuro  CodePostal    Departement     Region  \n",
       "0           1         250000       31000  Haute-Garonne  Occitanie  "
      ]
     },
     "execution_count": 79,
     "metadata": {},
     "output_type": "execute_result"
    }
   ],
   "source": [
    "X_new"
   ]
  },
  {
   "cell_type": "code",
   "execution_count": 80,
   "id": "7f3ef6d2",
   "metadata": {},
   "outputs": [
    {
     "ename": "NameError",
     "evalue": "name 'X_new2' is not defined",
     "output_type": "error",
     "traceback": [
      "\u001b[1;31m---------------------------------------------------------------------------\u001b[0m",
      "\u001b[1;31mNameError\u001b[0m                                 Traceback (most recent call last)",
      "\u001b[1;32mC:\\Users\\LOUDOU~1\\AppData\\Local\\Temp/ipykernel_36400/3021258992.py\u001b[0m in \u001b[0;36m<module>\u001b[1;34m\u001b[0m\n\u001b[1;32m----> 1\u001b[1;33m \u001b[0mtype\u001b[0m\u001b[1;33m(\u001b[0m\u001b[0mX_new2\u001b[0m\u001b[1;33m)\u001b[0m\u001b[1;33m\u001b[0m\u001b[1;33m\u001b[0m\u001b[0m\n\u001b[0m",
      "\u001b[1;31mNameError\u001b[0m: name 'X_new2' is not defined"
     ]
    }
   ],
   "source": [
    "type(X_new2)"
   ]
  },
  {
   "cell_type": "code",
   "execution_count": 81,
   "id": "f5a1e639",
   "metadata": {},
   "outputs": [
    {
     "data": {
      "text/html": [
       "<div>\n",
       "<style scoped>\n",
       "    .dataframe tbody tr th:only-of-type {\n",
       "        vertical-align: middle;\n",
       "    }\n",
       "\n",
       "    .dataframe tbody tr th {\n",
       "        vertical-align: top;\n",
       "    }\n",
       "\n",
       "    .dataframe thead th {\n",
       "        text-align: right;\n",
       "    }\n",
       "</style>\n",
       "<table border=\"1\" class=\"dataframe\">\n",
       "  <thead>\n",
       "    <tr style=\"text-align: right;\">\n",
       "      <th></th>\n",
       "      <th>SurfaceMin</th>\n",
       "      <th>NombrePiecesEnum</th>\n",
       "      <th>NombreChambresEnum</th>\n",
       "      <th>TypeMission</th>\n",
       "      <th>TypeBien</th>\n",
       "      <th>TypeProjet</th>\n",
       "      <th>BudgetMaxEuro</th>\n",
       "      <th>CodePostal</th>\n",
       "      <th>Departement</th>\n",
       "      <th>Region</th>\n",
       "    </tr>\n",
       "  </thead>\n",
       "  <tbody>\n",
       "  </tbody>\n",
       "</table>\n",
       "</div>"
      ],
      "text/plain": [
       "Empty DataFrame\n",
       "Columns: [SurfaceMin, NombrePiecesEnum, NombreChambresEnum, TypeMission, TypeBien, TypeProjet, BudgetMaxEuro, CodePostal, Departement, Region]\n",
       "Index: []"
      ]
     },
     "execution_count": 81,
     "metadata": {},
     "output_type": "execute_result"
    }
   ],
   "source": [
    "X_new[7:]"
   ]
  },
  {
   "cell_type": "markdown",
   "id": "ff68e285",
   "metadata": {},
   "source": [
    "# knn"
   ]
  },
  {
   "cell_type": "code",
   "execution_count": 82,
   "id": "f66e6c8b",
   "metadata": {},
   "outputs": [],
   "source": [
    "from sklearn.neighbors import KNeighborsClassifier\n",
    "knn = KNeighborsClassifier()\n",
    "knn.fit(X_train, y_train)\n",
    "y_knn = knn.predict(X_test)"
   ]
  },
  {
   "cell_type": "code",
   "execution_count": 83,
   "id": "63cb9410",
   "metadata": {},
   "outputs": [
    {
     "name": "stdout",
     "output_type": "stream",
     "text": [
      "                  precision    recall  f1-score   support\n",
      "\n",
      "  échec(Class 0)       1.00      1.00      1.00     29809\n",
      "succès (Class 1)       1.00      1.00      1.00     29331\n",
      "\n",
      "        accuracy                           1.00     59140\n",
      "       macro avg       1.00      1.00      1.00     59140\n",
      "    weighted avg       1.00      1.00      1.00     59140\n",
      "\n"
     ]
    },
    {
     "data": {
      "text/plain": [
       "<AxesSubplot:>"
      ]
     },
     "execution_count": 83,
     "metadata": {},
     "output_type": "execute_result"
    },
    {
     "data": {
      "image/png": "[encoded data removed]",
      "text/plain": [
       "<Figure size 432x288 with 2 Axes>"
      ]
     },
     "metadata": {
      "needs_background": "light"
     },
     "output_type": "display_data"
    }
   ],
   "source": [
    "from sklearn.metrics import classification_report\n",
    "print(classification_report(y_test, y_knn, target_names = ['échec(Class 0)','succès (Class 1)']))\n",
    "cm = confusion_matrix(y_test,knn.predict(X_test))\n",
    "sns.heatmap(cm,annot=True,fmt=\"d\")"
   ]
  },
  {
   "cell_type": "code",
   "execution_count": 84,
   "id": "2482efa4",
   "metadata": {},
   "outputs": [
    {
     "data": {
      "text/plain": [
       "<AxesSubplot:>"
      ]
     },
     "execution_count": 84,
     "metadata": {},
     "output_type": "execute_result"
    },
    {
     "data": {
      "image/png": "[encoded data removed]",
      "text/plain": [
       "<Figure size 432x288 with 2 Axes>"
      ]
     },
     "metadata": {
      "needs_background": "light"
     },
     "output_type": "display_data"
    }
   ],
   "source": [
    "cm = confusion_matrix(y_test,knn.predict(X_test))\n",
    "sns.heatmap(cm,annot=True,fmt=\"d\")"
   ]
  },
  {
   "cell_type": "code",
   "execution_count": 85,
   "id": "1edf9907",
   "metadata": {},
   "outputs": [
    {
     "name": "stderr",
     "output_type": "stream",
     "text": [
      "C:\\anaconda3\\lib\\site-packages\\sklearn\\utils\\deprecation.py:87: FutureWarning: Function plot_roc_curve is deprecated; Function :func:`plot_roc_curve` is deprecated in 1.0 and will be removed in 1.2. Use one of the class methods: :meth:`sklearn.metric.RocCurveDisplay.from_predictions` or :meth:`sklearn.metric.RocCurveDisplay.from_estimator`.\n",
      "  warnings.warn(msg, category=FutureWarning)\n"
     ]
    },
    {
     "data": {
      "image/png": "[encoded data removed]",
      "text/plain": [
       "<Figure size 432x288 with 1 Axes>"
      ]
     },
     "metadata": {
      "needs_background": "light"
     },
     "output_type": "display_data"
    }
   ],
   "source": [
    "from sklearn.metrics import plot_roc_curve\n",
    "plot_roc_curve(knn, X_train,y_train )\n",
    "plt.plot([0,1],[0,1])\n",
    "plt.xlabel('false positive')\n",
    "plt.ylabel('true positve')\n",
    "plt.title('ROC curve knn')\n",
    "plt.show()"
   ]
  },
  {
   "cell_type": "code",
   "execution_count": 86,
   "id": "6f21c1db",
   "metadata": {},
   "outputs": [],
   "source": [
    "from sklearn.linear_model import LogisticRegression\n",
    "from sklearn.neighbors import KNeighborsClassifier\n",
    "\n",
    "# logistic regression\n",
    "model1 = LogisticRegression()\n",
    "# knn\n",
    "model2 = KNeighborsClassifier(n_neighbors=4)\n",
    "\n",
    "# fit model\n",
    "model1.fit(X_train, y_train)\n",
    "model2.fit(X_train, y_train)\n",
    "\n",
    "# predict probabilities\n",
    "pred_prob1 = model1.predict_proba(X_test)\n",
    "pred_prob2 = model2.predict_proba(X_test)"
   ]
  },
  {
   "cell_type": "code",
   "execution_count": 87,
   "id": "4d95d20e",
   "metadata": {},
   "outputs": [
    {
     "name": "stdout",
     "output_type": "stream",
     "text": [
      "'paramètre actuellement utiliés : \\n'\n",
      "{'bootstrap': True,\n",
      " 'ccp_alpha': 0.0,\n",
      " 'class_weight': None,\n",
      " 'criterion': 'gini',\n",
      " 'max_depth': None,\n",
      " 'max_features': 'auto',\n",
      " 'max_leaf_nodes': None,\n",
      " 'max_samples': None,\n",
      " 'min_impurity_decrease': 0.0,\n",
      " 'min_samples_leaf': 1,\n",
      " 'min_samples_split': 2,\n",
      " 'min_weight_fraction_leaf': 0.0,\n",
      " 'n_estimators': 100,\n",
      " 'n_jobs': None,\n",
      " 'oob_score': False,\n",
      " 'random_state': None,\n",
      " 'verbose': 0,\n",
      " 'warm_start': False}\n"
     ]
    }
   ],
   "source": [
    "from sklearn.ensemble import RandomForestClassifier\n",
    "rfc = RandomForestClassifier()\n",
    "from pprint import pprint\n",
    "pprint(\"paramètre actuellement utiliés : \\n\")\n",
    "pprint(rfc.get_params())\n",
    "rfc.fit(X_train, y_train)\n",
    "y_rfc = rfc.predict(X_test)\n",
    "pred_prob3 = rfc.predict_proba(X_test)"
   ]
  },
  {
   "cell_type": "markdown",
   "id": "6ca9a14e",
   "metadata": {},
   "source": [
    "# XGBoost Classifier"
   ]
  },
  {
   "cell_type": "code",
   "execution_count": 88,
   "id": "25504f30",
   "metadata": {},
   "outputs": [
    {
     "name": "stderr",
     "output_type": "stream",
     "text": [
      "C:\\anaconda3\\lib\\site-packages\\xgboost\\compat.py:36: FutureWarning: pandas.Int64Index is deprecated and will be removed from pandas in a future version. Use pandas.Index with the appropriate dtype instead.\n",
      "  from pandas import MultiIndex, Int64Index\n",
      "C:\\anaconda3\\lib\\site-packages\\xgboost\\sklearn.py:1224: UserWarning: The use of label encoder in XGBClassifier is deprecated and will be removed in a future release. To remove this warning, do the following: 1) Pass option use_label_encoder=False when constructing XGBClassifier object; and 2) Encode your labels (y) as integers starting with 0, i.e. 0, 1, 2, ..., [num_class - 1].\n",
      "  warnings.warn(label_encoder_deprecation_msg, UserWarning)\n"
     ]
    },
    {
     "name": "stdout",
     "output_type": "stream",
     "text": [
      "'paramètre actuellement utiliés : \\n'\n",
      "{'base_score': None,\n",
      " 'booster': None,\n",
      " 'colsample_bylevel': None,\n",
      " 'colsample_bynode': None,\n",
      " 'colsample_bytree': None,\n",
      " 'enable_categorical': False,\n",
      " 'gamma': None,\n",
      " 'gpu_id': None,\n",
      " 'importance_type': None,\n",
      " 'interaction_constraints': None,\n",
      " 'learning_rate': None,\n",
      " 'max_delta_step': None,\n",
      " 'max_depth': None,\n",
      " 'min_child_weight': None,\n",
      " 'missing': nan,\n",
      " 'monotone_constraints': None,\n",
      " 'n_estimators': 100,\n",
      " 'n_jobs': None,\n",
      " 'num_parallel_tree': None,\n",
      " 'objective': 'binary:logistic',\n",
      " 'predictor': None,\n",
      " 'random_state': None,\n",
      " 'reg_alpha': None,\n",
      " 'reg_lambda': None,\n",
      " 'scale_pos_weight': None,\n",
      " 'subsample': None,\n",
      " 'tree_method': None,\n",
      " 'use_label_encoder': True,\n",
      " 'validate_parameters': None,\n",
      " 'verbosity': None}\n"
     ]
    }
   ],
   "source": [
    "from xgboost import XGBClassifier\n",
    "\n",
    "xgb = XGBClassifier(objective='binary:logistic')\n",
    "from pprint import pprint\n",
    "pprint(\"paramètre actuellement utiliés : \\n\")\n",
    "pprint(xgb.get_params())\n",
    "xgb.fit(X_train, y_train,eval_metric = \"logloss\",verbose=True)\n",
    "y_xgb = xgb.predict(X_test)\n",
    "pred_prob4 = xgb.predict_proba(X_test)"
   ]
  },
  {
   "cell_type": "markdown",
   "id": "6513f90a",
   "metadata": {},
   "source": [
    "# naive_bayes"
   ]
  },
  {
   "cell_type": "code",
   "execution_count": 89,
   "id": "b72cc8c9",
   "metadata": {},
   "outputs": [
    {
     "name": "stdout",
     "output_type": "stream",
     "text": [
      "'paramètre actuellement utiliés : \\n'\n",
      "{'priors': None, 'var_smoothing': 1e-09}\n",
      "0.7858133243151844\n",
      "                  precision    recall  f1-score   support\n",
      "\n",
      "  échec(Class 0)       0.71      0.98      0.82     29809\n",
      "succès (Class 1)       0.97      0.59      0.74     29331\n",
      "\n",
      "        accuracy                           0.79     59140\n",
      "       macro avg       0.84      0.79      0.78     59140\n",
      "    weighted avg       0.84      0.79      0.78     59140\n",
      "\n"
     ]
    }
   ],
   "source": [
    "from sklearn.naive_bayes import GaussianNB\n",
    "gnb = GaussianNB()\n",
    "from pprint import pprint\n",
    "#pprint(\"paramètre actuellement utiliés : \\n\")\n",
    "#pprint(gnb.get_params())\n",
    "gnb.fit(X_train, y_train)\n",
    "print(gnb.score(X_train, y_train))\n",
    "y_gnb = gnb.predict(X_test)\n",
    "pred_prob5 = gnb.predict_proba(X_test)\n",
    "from sklearn.metrics import classification_report\n",
    "print(classification_report(y_test,y_gnb,target_names = ['échec(Class 0)','succès (Class 1)']))"
   ]
  },
  {
   "cell_type": "code",
   "execution_count": 90,
   "id": "71a324dd",
   "metadata": {},
   "outputs": [
    {
     "data": {
      "text/plain": [
       "<AxesSubplot:>"
      ]
     },
     "execution_count": 90,
     "metadata": {},
     "output_type": "execute_result"
    },
    {
     "data": {
      "image/png": "[encoded data removed]",
      "text/plain": [
       "<Figure size 432x288 with 2 Axes>"
      ]
     },
     "metadata": {
      "needs_background": "light"
     },
     "output_type": "display_data"
    }
   ],
   "source": [
    "cm = confusion_matrix(y_test,gnb.predict(X_test))\n",
    "sns.heatmap(cm,annot=True,fmt=\"d\")"
   ]
  },
  {
   "cell_type": "markdown",
   "id": "29415543",
   "metadata": {},
   "source": [
    "# GradientBoostingClassifier"
   ]
  },
  {
   "cell_type": "code",
   "execution_count": 91,
   "id": "eae970c9",
   "metadata": {},
   "outputs": [
    {
     "name": "stdout",
     "output_type": "stream",
     "text": [
      "0.8836884229511893\n",
      "                  precision    recall  f1-score   support\n",
      "\n",
      "  échec(Class 0)       0.83      0.97      0.90     29809\n",
      "succès (Class 1)       0.96      0.80      0.87     29331\n",
      "\n",
      "        accuracy                           0.89     59140\n",
      "       macro avg       0.90      0.88      0.88     59140\n",
      "    weighted avg       0.90      0.89      0.88     59140\n",
      "\n"
     ]
    }
   ],
   "source": [
    "from sklearn.ensemble import GradientBoostingClassifier\n",
    "gbc = GradientBoostingClassifier()\n",
    "gbc.fit(X_train, y_train)\n",
    "print(gbc.score(X_train, y_train))\n",
    "y_gbc = gbc.predict(X_test)\n",
    "pred_prob6 = gbc.predict_proba(X_test)\n",
    "\n",
    "from sklearn.metrics import classification_report\n",
    "print(classification_report(y_test, y_gbc,target_names = ['échec(Class 0)','succès (Class 1)']))"
   ]
  },
  {
   "cell_type": "code",
   "execution_count": 92,
   "id": "9b2c96c1",
   "metadata": {},
   "outputs": [
    {
     "data": {
      "text/plain": [
       "<AxesSubplot:>"
      ]
     },
     "execution_count": 92,
     "metadata": {},
     "output_type": "execute_result"
    },
    {
     "data": {
      "image/png": "[encoded data removed]",
      "text/plain": [
       "<Figure size 432x288 with 2 Axes>"
      ]
     },
     "metadata": {
      "needs_background": "light"
     },
     "output_type": "display_data"
    }
   ],
   "source": [
    "cm = confusion_matrix(y_test,gbc.predict(X_test))\n",
    "sns.heatmap(cm,annot=True,fmt=\"d\")"
   ]
  },
  {
   "cell_type": "markdown",
   "id": "e12f930b",
   "metadata": {},
   "source": [
    "# LGBMClassifier"
   ]
  },
  {
   "cell_type": "code",
   "execution_count": null,
   "id": "6c7ec874",
   "metadata": {},
   "outputs": [],
   "source": [
    "#!pip install lightgbm"
   ]
  },
  {
   "cell_type": "code",
   "execution_count": 93,
   "id": "e1102a34",
   "metadata": {},
   "outputs": [
    {
     "data": {
      "text/plain": [
       "LGBMClassifier()"
      ]
     },
     "execution_count": 93,
     "metadata": {},
     "output_type": "execute_result"
    }
   ],
   "source": [
    "import lightgbm as lgb\n",
    "clf = lgb.LGBMClassifier()\n",
    "clf.fit(X_train, y_train)"
   ]
  },
  {
   "cell_type": "code",
   "execution_count": 94,
   "id": "779fd921",
   "metadata": {},
   "outputs": [],
   "source": [
    "y_clf = clf.predict(X_test)\n",
    "pred_prob7 = clf.predict_proba(X_test)"
   ]
  },
  {
   "cell_type": "code",
   "execution_count": 95,
   "id": "1395b2c0",
   "metadata": {},
   "outputs": [
    {
     "name": "stdout",
     "output_type": "stream",
     "text": [
      "                  precision    recall  f1-score   support\n",
      "\n",
      "  échec(Class 0)       0.97      0.99      0.98     29809\n",
      "succès (Class 1)       0.99      0.97      0.98     29331\n",
      "\n",
      "        accuracy                           0.98     59140\n",
      "       macro avg       0.98      0.98      0.98     59140\n",
      "    weighted avg       0.98      0.98      0.98     59140\n",
      "\n"
     ]
    }
   ],
   "source": [
    "from sklearn.metrics import classification_report\n",
    "print(classification_report(y_test, y_clf,target_names = ['échec(Class 0)','succès (Class 1)']))"
   ]
  },
  {
   "cell_type": "code",
   "execution_count": 96,
   "id": "24c804c3",
   "metadata": {},
   "outputs": [
    {
     "data": {
      "text/plain": [
       "<AxesSubplot:>"
      ]
     },
     "execution_count": 96,
     "metadata": {},
     "output_type": "execute_result"
    },
    {
     "data": {
      "image/png": "[encoded data removed]",
      "text/plain": [
       "<Figure size 432x288 with 2 Axes>"
      ]
     },
     "metadata": {
      "needs_background": "light"
     },
     "output_type": "display_data"
    }
   ],
   "source": [
    "cm = confusion_matrix(y_test,clf.predict(X_test))\n",
    "sns.heatmap(cm,annot=True,fmt=\"d\")"
   ]
  },
  {
   "cell_type": "markdown",
   "id": "99922ded",
   "metadata": {},
   "source": [
    "# CatBoostClassifier"
   ]
  },
  {
   "cell_type": "code",
   "execution_count": 97,
   "id": "9729e65b",
   "metadata": {},
   "outputs": [],
   "source": [
    "#!pip install catboost"
   ]
  },
  {
   "cell_type": "code",
   "execution_count": 98,
   "id": "995b5aa0",
   "metadata": {},
   "outputs": [
    {
     "name": "stdout",
     "output_type": "stream",
     "text": [
      "0:\tlearn: 0.4607156\ttotal: 150ms\tremaining: 150ms\n",
      "1:\tlearn: 0.4318647\ttotal: 155ms\tremaining: 0us\n"
     ]
    }
   ],
   "source": [
    "from catboost import CatBoostClassifier\n",
    "\n",
    "cat = CatBoostClassifier(iterations=2,\n",
    "                           learning_rate=1,\n",
    "                           depth=2)\n",
    "cat_features = [0, 1]\n",
    "# Fit model\n",
    "cat.fit(X_train, y_train)\n",
    "# Get predicted classes\n",
    "preds_class = cat.predict(X_test)\n",
    "# Get predicted probabilities for each class\n",
    "pred_prob8 = cat.predict_proba(X_test)"
   ]
  },
  {
   "cell_type": "code",
   "execution_count": 99,
   "id": "51d09b58",
   "metadata": {},
   "outputs": [
    {
     "name": "stdout",
     "output_type": "stream",
     "text": [
      "                  precision    recall  f1-score   support\n",
      "\n",
      "  échec(Class 0)       0.71      0.94      0.81     29809\n",
      "succès (Class 1)       0.91      0.62      0.73     29331\n",
      "\n",
      "        accuracy                           0.78     59140\n",
      "       macro avg       0.81      0.78      0.77     59140\n",
      "    weighted avg       0.81      0.78      0.77     59140\n",
      "\n"
     ]
    }
   ],
   "source": [
    "from sklearn.metrics import classification_report\n",
    "print(classification_report(y_test, preds_class,target_names = ['échec(Class 0)','succès (Class 1)']))"
   ]
  },
  {
   "cell_type": "code",
   "execution_count": 100,
   "id": "44983799",
   "metadata": {},
   "outputs": [
    {
     "data": {
      "text/plain": [
       "<AxesSubplot:>"
      ]
     },
     "execution_count": 100,
     "metadata": {},
     "output_type": "execute_result"
    },
    {
     "data": {
      "image/png": "[encoded data removed]",
      "text/plain": [
       "<Figure size 432x288 with 2 Axes>"
      ]
     },
     "metadata": {
      "needs_background": "light"
     },
     "output_type": "display_data"
    }
   ],
   "source": [
    "cm = confusion_matrix(y_test,cat.predict(X_test))\n",
    "sns.heatmap(cm,annot=True,fmt=\"d\")"
   ]
  },
  {
   "cell_type": "code",
   "execution_count": 101,
   "id": "31123fc0",
   "metadata": {},
   "outputs": [],
   "source": [
    "from sklearn.metrics import roc_curve\n",
    "\n",
    "# roc curve for models\n",
    "fpr1, tpr1, thresh1 = roc_curve(y_test, pred_prob1[:,1], pos_label=1)\n",
    "fpr2, tpr2, thresh2 = roc_curve(y_test, pred_prob2[:,1], pos_label=1)\n",
    "fpr3, tpr3, thresh3 = roc_curve(y_test, pred_prob3[:,1], pos_label=1)\n",
    "fpr4, tpr4, thresh4 = roc_curve(y_test, pred_prob4[:,1], pos_label=1)\n",
    "fpr5, tpr5, thresh5 = roc_curve(y_test, pred_prob5[:,1], pos_label=1)\n",
    "fpr6, tpr6, thresh6 = roc_curve(y_test, pred_prob6[:,1], pos_label=1)\n",
    "fpr7, tpr7, thresh7 = roc_curve(y_test, pred_prob7[:,1], pos_label=1)\n",
    "fpr8, tpr8, thresh8 = roc_curve(y_test, pred_prob8[:,1], pos_label=1)\n",
    "\n",
    "\n",
    "# roc curve for tpr = fpr \n",
    "random_probs = [0 for i in range(len(y_test))]\n",
    "p_fpr, p_tpr, _ = roc_curve(y_test, random_probs, pos_label=1)"
   ]
  },
  {
   "cell_type": "code",
   "execution_count": 102,
   "id": "bb176f5d",
   "metadata": {},
   "outputs": [
    {
     "name": "stdout",
     "output_type": "stream",
     "text": [
      "0.8403135147327854 0.9986663411274275 0.9999364643314164 0.9994429697743825 0.8246102163477069 0.9589526818637202 0.9982079192293397 0.8398712572530537\n"
     ]
    }
   ],
   "source": [
    "from sklearn.metrics import roc_auc_score\n",
    "\n",
    "# auc scores\n",
    "auc_score1 = roc_auc_score(y_test, pred_prob1[:,1])\n",
    "auc_score2 = roc_auc_score(y_test, pred_prob2[:,1])\n",
    "auc_score3 = roc_auc_score(y_test, pred_prob3[:,1])\n",
    "auc_score4 = roc_auc_score(y_test, pred_prob4[:,1])\n",
    "auc_score5 = roc_auc_score(y_test, pred_prob5[:,1])\n",
    "auc_score6 = roc_auc_score(y_test, pred_prob6[:,1])\n",
    "auc_score7 = roc_auc_score(y_test, pred_prob7[:,1])\n",
    "auc_score8 = roc_auc_score(y_test, pred_prob8[:,1])\n",
    "\n",
    "#print(auc_score4)\n",
    "print(auc_score1, auc_score2, auc_score3, auc_score4, auc_score5, auc_score6, auc_score7, auc_score8)"
   ]
  },
  {
   "cell_type": "code",
   "execution_count": 103,
   "id": "37c3dba2",
   "metadata": {},
   "outputs": [
    {
     "data": {
      "image/png": "[encoded data removed]",
      "text/plain": [
       "<Figure size 576x396 with 1 Axes>"
      ]
     },
     "metadata": {},
     "output_type": "display_data"
    }
   ],
   "source": [
    "\n",
    "# matplotlib\n",
    "import matplotlib.pyplot as plt\n",
    "plt.style.use('seaborn')\n",
    "\n",
    "# plot roc curves\n",
    "\n",
    "plt.plot(fpr1, tpr1, linestyle='--',color='orange', label='Logistic Regression')\n",
    "plt.plot(fpr2, tpr2, linestyle='--',color='green', label='KNN')\n",
    "plt.plot(fpr3, tpr3, linestyle = '--', color = 'purple', label = \"RandomForest Classifier\")\n",
    "plt.plot(fpr4, tpr4, linestyle = '--', color = 'yellow', label = \"XgBoost\")\n",
    "plt.plot(fpr5, tpr5, linestyle = '--', color = 'red', label = \"Naive Bayes\")\n",
    "plt.plot(fpr6, tpr6, linestyle = '--',linewidth=10, color = 'pink', label = \"Gradient Boosting Classifier\")\n",
    "plt.plot(fpr6, tpr6, linestyle = '--',linewidth=10, color = 'brown', label = \"LGBMClassifier\")\n",
    "plt.plot(fpr6, tpr6, linestyle = '-', color = 'black', label = \"CatBoostClassifier\")\n",
    "\n",
    "\n",
    "plt.plot(p_fpr, p_tpr, linestyle='--', color='blue')\n",
    "# title\n",
    "plt.title('ROC curve')\n",
    "# x label\n",
    "plt.xlabel('False Positive Rate')\n",
    "# y label\n",
    "plt.ylabel('True Positive rate')\n",
    "\n",
    "plt.legend(loc='best')\n",
    "plt.savefig('ROC',dpi=300)\n",
    "plt.show();"
   ]
  },
  {
   "cell_type": "code",
   "execution_count": null,
   "id": "356ce402",
   "metadata": {},
   "outputs": [],
   "source": [
    "from sklearn.metrics import accuracy_score\n",
    "print(\"Correct prediction: \", accuracy_score(y_test, knn.predict(X_test), normalize = False))\n",
    "print(\"Total Prediction : \",X.shape[0])"
   ]
  },
  {
   "cell_type": "code",
   "execution_count": null,
   "id": "cf80e641",
   "metadata": {},
   "outputs": [],
   "source": [
    "from sklearn.metrics import classification_report\n",
    "print(classification_report(y_test,y_lr,target_names = ['Echec(Class 0)','Succès (Class 1)']))\n",
    "cm = confusion_matrix(y_test,lr.predict(X_test))\n",
    "sns.heatmap(cm,annot=True,fmt=\"d\")"
   ]
  },
  {
   "cell_type": "code",
   "execution_count": null,
   "id": "a067d003",
   "metadata": {},
   "outputs": [],
   "source": [
    "from sklearn.metrics import classification_report\n",
    "print(classification_report(y_test, y_knn, target_names = ['échec(Class 0)','succès (Class 1)']))\n",
    "cm = confusion_matrix(y_test,knn.predict(X_test))\n",
    "sns.heatmap(cm,annot=True,fmt=\"d\")"
   ]
  },
  {
   "cell_type": "code",
   "execution_count": null,
   "id": "a533ee6f",
   "metadata": {},
   "outputs": [],
   "source": [
    "from sklearn.metrics import classification_report\n",
    "print(classification_report(y_test, y_rfc, target_names = ['échec(Class 0)','succès (Class 1)']))\n",
    "cm = confusion_matrix(y_test,rfc.predict(X_test))\n",
    "sns.heatmap(cm,annot=True,fmt=\"d\")"
   ]
  },
  {
   "cell_type": "code",
   "execution_count": null,
   "id": "06a01269",
   "metadata": {},
   "outputs": [],
   "source": [
    "from sklearn.metrics import classification_report\n",
    "print(classification_report(y_test, y_xgb, target_names = ['échec(Class 0)','succès (Class 1)']))\n",
    "cm = confusion_matrix(y_test, xgb.predict(X_test))\n",
    "sns.heatmap(cm,annot=True,fmt=\"d\")"
   ]
  },
  {
   "cell_type": "code",
   "execution_count": null,
   "id": "a5fdecac",
   "metadata": {},
   "outputs": [],
   "source": []
  },
  {
   "cell_type": "markdown",
   "id": "498aefa9",
   "metadata": {},
   "source": [
    "# Wisdom of the crown"
   ]
  },
  {
   "cell_type": "raw",
   "id": "aba7e7de",
   "metadata": {},
   "source": [
    "Bagging, creer plusieurs copie d'un meme modele en entrainant chause copie sur une parie aleatoire du dataset\n",
    "== bootstraping == RandomForest\n",
    "entraienemnt en parallèle\n",
    "bon pour l'overfitting\n",
    "reduit la variance"
   ]
  },
  {
   "cell_type": "raw",
   "id": "cf229d0c",
   "metadata": {},
   "source": [
    "Boosting, entreainer different modèle faible et voir les erreurs faiblessse et les forces donc on ajoute a un modele faible un autre modele faible et il va apprendre de l'autre\n",
    "ada boost\n",
    "gradient boosting\n",
    "en serie\n",
    "reduit underfiting\n",
    "reduit le biais"
   ]
  },
  {
   "cell_type": "raw",
   "id": "bec75134",
   "metadata": {},
   "source": [
    "Stacking\n",
    "au lieu de rassembler les pred de chaque modele\n",
    "on delande a un dernier estimateur d'apprendre a predire le resulat final en fonction de ces prediction\n"
   ]
  },
  {
   "cell_type": "code",
   "execution_count": null,
   "id": "ff5e9f85",
   "metadata": {},
   "outputs": [],
   "source": [
    "from sklearn.linear_model import SGDClassifier\n",
    "from sklearn.tree import DecisionTreeClassifier\n",
    "from sklearn.neighbors import KNeighborsClassifier\n",
    "\n",
    "from sklearn.ensemble import VotingClassifier\n",
    "# hard \n",
    "# soft = meilleur quand model bien équilibré\n"
   ]
  },
  {
   "cell_type": "code",
   "execution_count": null,
   "id": "f2b0b0df",
   "metadata": {},
   "outputs": [],
   "source": [
    "model_1 = SGDClassifier(random_state = 0)\n",
    "model_2 = DecisionTreeClassifier(random_state=0)\n",
    "model_3 = KNeighborsClassifier(n_neighbors=2)\n",
    "\n",
    "model_4 = VotingClassifier([(\"SGD\", model_1),\n",
    "                            ('Tree', model_2),\n",
    "                            (\"Knn\", model_3)],\n",
    "                           voting = \"hard\" )\n",
    "\n",
    "for model in (model_1, model_2, model_3, model_4):\n",
    "    model.fit(X_train, y_train)\n",
    "    print(model.__class__.__name__, model.score(X_test, y_test))"
   ]
  },
  {
   "cell_type": "code",
   "execution_count": null,
   "id": "b360d5a4",
   "metadata": {},
   "outputs": [],
   "source": [
    "from sklearn.ensemble import BaggingClassifier, RandomForestClassifier"
   ]
  },
  {
   "cell_type": "code",
   "execution_count": null,
   "id": "50c8c4e1",
   "metadata": {},
   "outputs": [],
   "source": [
    "model = BaggingClassifier(base_estimator = KNeighborsClassifier(),\n",
    "                         n_estimators = 100)"
   ]
  },
  {
   "cell_type": "code",
   "execution_count": null,
   "id": "636446c2",
   "metadata": {},
   "outputs": [],
   "source": []
  }
 ],
 "metadata": {
  "kernelspec": {
   "display_name": "Python 3 (ipykernel)",
   "language": "python",
   "name": "python3"
  },
  "language_info": {
   "codemirror_mode": {
    "name": "ipython",
    "version": 3
   },
   "file_extension": ".py",
   "mimetype": "text/x-python",
   "name": "python",
   "nbconvert_exporter": "python",
   "pygments_lexer": "ipython3",
   "version": "3.8.12"
  }
 },
 "nbformat": 4,
 "nbformat_minor": 5
}
