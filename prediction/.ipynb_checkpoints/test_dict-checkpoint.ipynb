{
 "cells": [
  {
   "cell_type": "code",
   "execution_count": null,
   "id": "d7278c3c",
   "metadata": {},
   "outputs": [],
   "source": [
    "# import pandas as pd\n",
    "import numpy as np\n",
    "import joblib\n",
    "import pickle"
   ]
  },
  {
   "cell_type": "code",
   "execution_count": null,
   "id": "d6d5531c",
   "metadata": {},
   "outputs": [],
   "source": [
    "#!pip install joblib"
   ]
  },
  {
   "cell_type": "markdown",
   "id": "a66d4e55",
   "metadata": {},
   "source": [
    "# Transformation d'un dict en df"
   ]
  },
  {
   "cell_type": "code",
   "execution_count": 2,
   "id": "94132ff6",
   "metadata": {},
   "outputs": [
    {
     "name": "stdout",
     "output_type": "stream",
     "text": [
      "{'SurfaceMin': 100, 'NombrePiecesEnum': 5, 'NombreChambresEnum': 2, 'TypeMission': 1, 'TypeBien': 1, 'TypeProjet': 1, 'BudgetMaxEuro': 500000, 'CodePostal': 34000}\n"
     ]
    }
   ],
   "source": [
    "dict_test = {\n",
    "    \"SurfaceMin\":100,\n",
    "    \"NombrePiecesEnum\" : 5,\n",
    "    \"NombreChambresEnum\" : 2,\n",
    "    \"TypeMission\" : 1,\n",
    "    \"TypeBien\" : 1,\n",
    "    \"TypeProjet\" : 1,\n",
    "    \"BudgetMaxEuro\" : 500000,\n",
    "    \"CodePostal\" : 34000    \n",
    "}\n",
    "print(dict_test)"
   ]
  },
  {
   "cell_type": "code",
   "execution_count": 3,
   "id": "b7c9a050",
   "metadata": {},
   "outputs": [],
   "source": [
    "df = pd.DataFrame([dict_test])"
   ]
  },
  {
   "cell_type": "code",
   "execution_count": 4,
   "id": "d09fa7c1",
   "metadata": {},
   "outputs": [
    {
     "data": {
      "text/html": [
       "<div>\n",
       "<style scoped>\n",
       "    .dataframe tbody tr th:only-of-type {\n",
       "        vertical-align: middle;\n",
       "    }\n",
       "\n",
       "    .dataframe tbody tr th {\n",
       "        vertical-align: top;\n",
       "    }\n",
       "\n",
       "    .dataframe thead th {\n",
       "        text-align: right;\n",
       "    }\n",
       "</style>\n",
       "<table border=\"1\" class=\"dataframe\">\n",
       "  <thead>\n",
       "    <tr style=\"text-align: right;\">\n",
       "      <th></th>\n",
       "      <th>SurfaceMin</th>\n",
       "      <th>NombrePiecesEnum</th>\n",
       "      <th>NombreChambresEnum</th>\n",
       "      <th>TypeMission</th>\n",
       "      <th>TypeBien</th>\n",
       "      <th>TypeProjet</th>\n",
       "      <th>BudgetMaxEuro</th>\n",
       "      <th>CodePostal</th>\n",
       "    </tr>\n",
       "  </thead>\n",
       "  <tbody>\n",
       "    <tr>\n",
       "      <th>0</th>\n",
       "      <td>100</td>\n",
       "      <td>5</td>\n",
       "      <td>2</td>\n",
       "      <td>1</td>\n",
       "      <td>1</td>\n",
       "      <td>1</td>\n",
       "      <td>500000</td>\n",
       "      <td>34000</td>\n",
       "    </tr>\n",
       "  </tbody>\n",
       "</table>\n",
       "</div>"
      ],
      "text/plain": [
       "   SurfaceMin  NombrePiecesEnum  NombreChambresEnum  TypeMission  TypeBien  \\\n",
       "0         100                 5                   2            1         1   \n",
       "\n",
       "   TypeProjet  BudgetMaxEuro  CodePostal  \n",
       "0           1         500000       34000  "
      ]
     },
     "execution_count": 4,
     "metadata": {},
     "output_type": "execute_result"
    }
   ],
   "source": [
    "df"
   ]
  },
  {
   "cell_type": "markdown",
   "id": "13ed170f",
   "metadata": {},
   "source": [
    "# Transformation de plusieurs dict en df"
   ]
  },
  {
   "cell_type": "code",
   "execution_count": 55,
   "id": "c0f139b8",
   "metadata": {},
   "outputs": [
    {
     "data": {
      "text/html": [
       "<div>\n",
       "<style scoped>\n",
       "    .dataframe tbody tr th:only-of-type {\n",
       "        vertical-align: middle;\n",
       "    }\n",
       "\n",
       "    .dataframe tbody tr th {\n",
       "        vertical-align: top;\n",
       "    }\n",
       "\n",
       "    .dataframe thead th {\n",
       "        text-align: right;\n",
       "    }\n",
       "</style>\n",
       "<table border=\"1\" class=\"dataframe\">\n",
       "  <thead>\n",
       "    <tr style=\"text-align: right;\">\n",
       "      <th></th>\n",
       "      <th>SurfaceMin</th>\n",
       "      <th>NombrePiecesEnum</th>\n",
       "    </tr>\n",
       "  </thead>\n",
       "  <tbody>\n",
       "    <tr>\n",
       "      <th>0</th>\n",
       "      <td>200</td>\n",
       "      <td>5</td>\n",
       "    </tr>\n",
       "    <tr>\n",
       "      <th>1</th>\n",
       "      <td>100</td>\n",
       "      <td>4</td>\n",
       "    </tr>\n",
       "    <tr>\n",
       "      <th>2</th>\n",
       "      <td>70</td>\n",
       "      <td>3</td>\n",
       "    </tr>\n",
       "  </tbody>\n",
       "</table>\n",
       "</div>"
      ],
      "text/plain": [
       "   SurfaceMin  NombrePiecesEnum\n",
       "0         200                 5\n",
       "1         100                 4\n",
       "2          70                 3"
      ]
     },
     "execution_count": 55,
     "metadata": {},
     "output_type": "execute_result"
    }
   ],
   "source": [
    "data = '''\n",
    "          {\n",
    "              \"0\":{\n",
    "                  \"SurfaceMin\": \"200\",\n",
    "                  \"NombrePiecesEnum\": \"5\"\n",
    "              },\n",
    "              \"1\":{\n",
    "                  \"SurfaceMin\": \"100\",\n",
    "                  \"NombrePiecesEnum\": \"4\"\n",
    "              },\n",
    "              \"2\":{\n",
    "                  \"SurfaceMin\": \"70\",\n",
    "                  \"NombrePiecesEnum\":\"3\"\n",
    "              }\n",
    "          }          \n",
    "          \n",
    "          '''\n",
    "df = pd.read_json(data, orient ='index')\n",
    "df.head()"
   ]
  },
  {
   "cell_type": "code",
   "execution_count": 50,
   "id": "f87fa6c1",
   "metadata": {},
   "outputs": [
    {
     "data": {
      "text/plain": [
       "RangeIndex(start=0, stop=1, step=1)"
      ]
     },
     "execution_count": 50,
     "metadata": {},
     "output_type": "execute_result"
    }
   ],
   "source": [
    "test = pd.DataFrame.from_dict(mandat1)\n",
    "test"
   ]
  },
  {
   "cell_type": "code",
   "execution_count": 14,
   "id": "ef6d5bfd",
   "metadata": {},
   "outputs": [],
   "source": [
    "df2 = pd.DataFrame([big_dict])"
   ]
  },
  {
   "cell_type": "code",
   "execution_count": 15,
   "id": "930ec553",
   "metadata": {},
   "outputs": [
    {
     "data": {
      "text/html": [
       "<div>\n",
       "<style scoped>\n",
       "    .dataframe tbody tr th:only-of-type {\n",
       "        vertical-align: middle;\n",
       "    }\n",
       "\n",
       "    .dataframe tbody tr th {\n",
       "        vertical-align: top;\n",
       "    }\n",
       "\n",
       "    .dataframe thead th {\n",
       "        text-align: right;\n",
       "    }\n",
       "</style>\n",
       "<table border=\"1\" class=\"dataframe\">\n",
       "  <thead>\n",
       "    <tr style=\"text-align: right;\">\n",
       "      <th></th>\n",
       "      <th>dict_test0</th>\n",
       "      <th>dict_test1</th>\n",
       "    </tr>\n",
       "  </thead>\n",
       "  <tbody>\n",
       "    <tr>\n",
       "      <th>0</th>\n",
       "      <td>{'SurfaceMin': 100, 'NombrePiecesEnum': 5, 'No...</td>\n",
       "      <td>{'SurfaceMin': 100, 'NombrePiecesEnum': 5, 'No...</td>\n",
       "    </tr>\n",
       "  </tbody>\n",
       "</table>\n",
       "</div>"
      ],
      "text/plain": [
       "                                          dict_test0  \\\n",
       "0  {'SurfaceMin': 100, 'NombrePiecesEnum': 5, 'No...   \n",
       "\n",
       "                                          dict_test1  \n",
       "0  {'SurfaceMin': 100, 'NombrePiecesEnum': 5, 'No...  "
      ]
     },
     "execution_count": 15,
     "metadata": {},
     "output_type": "execute_result"
    }
   ],
   "source": [
    "df2"
   ]
  },
  {
   "cell_type": "code",
   "execution_count": null,
   "id": "69bbff40",
   "metadata": {},
   "outputs": [],
   "source": []
  },
  {
   "cell_type": "code",
   "execution_count": null,
   "id": "db6ea109",
   "metadata": {},
   "outputs": [],
   "source": []
  },
  {
   "cell_type": "code",
   "execution_count": 62,
   "id": "e0a5ca54",
   "metadata": {},
   "outputs": [
    {
     "name": "stdout",
     "output_type": "stream",
     "text": [
      "{'SurfaceMin': 100, 'NombrePiecesEnum': 5, 'NombreChambresEnum': 2, 'TypeMission': 0, 'TypeBien': 1, 'TypeProjet': 1, 'BudgetMaxEuro': 500000, 'CodePostal': 34000}\n"
     ]
    }
   ],
   "source": [
    "data_dict = {\n",
    "    \"SurfaceMin\":100,\n",
    "    \"NombrePiecesEnum\" : 5,\n",
    "    \"NombreChambresEnum\" : 2,\n",
    "    \"TypeMission\" : 0,\n",
    "    \"TypeBien\" : 1,\n",
    "    \"TypeProjet\" : 1,\n",
    "    \"BudgetMaxEuro\" : 500000,\n",
    "    \"CodePostal\" : 34000    \n",
    "}\n",
    "print(data_dict)"
   ]
  },
  {
   "cell_type": "code",
   "execution_count": 63,
   "id": "53f06a93",
   "metadata": {},
   "outputs": [
    {
     "ename": "UnicodeDecodeError",
     "evalue": "'charmap' codec can't decode byte 0x81 in position 44: character maps to <undefined>",
     "output_type": "error",
     "traceback": [
      "\u001b[1;31m---------------------------------------------------------------------------\u001b[0m",
      "\u001b[1;31mUnicodeDecodeError\u001b[0m                        Traceback (most recent call last)",
      "\u001b[1;32mC:\\Users\\LOUDOU~1\\AppData\\Local\\Temp/ipykernel_13428/2962418853.py\u001b[0m in \u001b[0;36m<module>\u001b[1;34m\u001b[0m\n\u001b[1;32m----> 1\u001b[1;33m \u001b[0mmodel\u001b[0m \u001b[1;33m=\u001b[0m \u001b[0mpickle\u001b[0m\u001b[1;33m.\u001b[0m\u001b[0mload\u001b[0m\u001b[1;33m(\u001b[0m\u001b[0mopen\u001b[0m\u001b[1;33m(\u001b[0m\u001b[1;34m\"LGBMClassifier.pkl\"\u001b[0m\u001b[1;33m)\u001b[0m\u001b[1;33m)\u001b[0m\u001b[1;33m\u001b[0m\u001b[1;33m\u001b[0m\u001b[0m\n\u001b[0m\u001b[0;32m      2\u001b[0m \u001b[0mprint\u001b[0m\u001b[1;33m(\u001b[0m\u001b[0mmodel\u001b[0m\u001b[1;33m)\u001b[0m\u001b[1;33m\u001b[0m\u001b[1;33m\u001b[0m\u001b[0m\n",
      "\u001b[1;32mC:\\anaconda3\\lib\\encodings\\cp1252.py\u001b[0m in \u001b[0;36mdecode\u001b[1;34m(self, input, final)\u001b[0m\n\u001b[0;32m     21\u001b[0m \u001b[1;32mclass\u001b[0m \u001b[0mIncrementalDecoder\u001b[0m\u001b[1;33m(\u001b[0m\u001b[0mcodecs\u001b[0m\u001b[1;33m.\u001b[0m\u001b[0mIncrementalDecoder\u001b[0m\u001b[1;33m)\u001b[0m\u001b[1;33m:\u001b[0m\u001b[1;33m\u001b[0m\u001b[1;33m\u001b[0m\u001b[0m\n\u001b[0;32m     22\u001b[0m     \u001b[1;32mdef\u001b[0m \u001b[0mdecode\u001b[0m\u001b[1;33m(\u001b[0m\u001b[0mself\u001b[0m\u001b[1;33m,\u001b[0m \u001b[0minput\u001b[0m\u001b[1;33m,\u001b[0m \u001b[0mfinal\u001b[0m\u001b[1;33m=\u001b[0m\u001b[1;32mFalse\u001b[0m\u001b[1;33m)\u001b[0m\u001b[1;33m:\u001b[0m\u001b[1;33m\u001b[0m\u001b[1;33m\u001b[0m\u001b[0m\n\u001b[1;32m---> 23\u001b[1;33m         \u001b[1;32mreturn\u001b[0m \u001b[0mcodecs\u001b[0m\u001b[1;33m.\u001b[0m\u001b[0mcharmap_decode\u001b[0m\u001b[1;33m(\u001b[0m\u001b[0minput\u001b[0m\u001b[1;33m,\u001b[0m\u001b[0mself\u001b[0m\u001b[1;33m.\u001b[0m\u001b[0merrors\u001b[0m\u001b[1;33m,\u001b[0m\u001b[0mdecoding_table\u001b[0m\u001b[1;33m)\u001b[0m\u001b[1;33m[\u001b[0m\u001b[1;36m0\u001b[0m\u001b[1;33m]\u001b[0m\u001b[1;33m\u001b[0m\u001b[1;33m\u001b[0m\u001b[0m\n\u001b[0m\u001b[0;32m     24\u001b[0m \u001b[1;33m\u001b[0m\u001b[0m\n\u001b[0;32m     25\u001b[0m \u001b[1;32mclass\u001b[0m \u001b[0mStreamWriter\u001b[0m\u001b[1;33m(\u001b[0m\u001b[0mCodec\u001b[0m\u001b[1;33m,\u001b[0m\u001b[0mcodecs\u001b[0m\u001b[1;33m.\u001b[0m\u001b[0mStreamWriter\u001b[0m\u001b[1;33m)\u001b[0m\u001b[1;33m:\u001b[0m\u001b[1;33m\u001b[0m\u001b[1;33m\u001b[0m\u001b[0m\n",
      "\u001b[1;31mUnicodeDecodeError\u001b[0m: 'charmap' codec can't decode byte 0x81 in position 44: character maps to <undefined>"
     ]
    }
   ],
   "source": [
    "model = pickle.load(open(\"LGBMClassifier.pkl\"))\n",
    "print(model)"
   ]
  },
  {
   "cell_type": "code",
   "execution_count": 64,
   "id": "a6a93432",
   "metadata": {},
   "outputs": [
    {
     "name": "stdout",
     "output_type": "stream",
     "text": [
      "Pipeline(steps=[('standardscaler', StandardScaler()),\n",
      "                ('lgbmclassifier', LGBMClassifier(silent='warn'))])\n"
     ]
    },
    {
     "name": "stderr",
     "output_type": "stream",
     "text": [
      "C:\\anaconda3\\lib\\site-packages\\sklearn\\base.py:329: UserWarning: Trying to unpickle estimator StandardScaler from version 1.0.2 when using version 0.23.2. This might lead to breaking code or invalid results. Use at your own risk.\n",
      "  warnings.warn(\n",
      "C:\\anaconda3\\lib\\site-packages\\sklearn\\base.py:329: UserWarning: Trying to unpickle estimator LabelEncoder from version 1.0.2 when using version 0.23.2. This might lead to breaking code or invalid results. Use at your own risk.\n",
      "  warnings.warn(\n",
      "C:\\anaconda3\\lib\\site-packages\\sklearn\\base.py:329: UserWarning: Trying to unpickle estimator Pipeline from version 1.0.2 when using version 0.23.2. This might lead to breaking code or invalid results. Use at your own risk.\n",
      "  warnings.warn(\n"
     ]
    }
   ],
   "source": [
    "model = joblib.load(\"LGBMClassifier.pkl\")\n",
    "print(model)"
   ]
  },
  {
   "cell_type": "code",
   "execution_count": null,
   "id": "9b9ac834",
   "metadata": {},
   "outputs": [],
   "source": []
  },
  {
   "cell_type": "code",
   "execution_count": 65,
   "id": "ded836c1",
   "metadata": {},
   "outputs": [],
   "source": [
    "def Load_Model():\n",
    "    model = joblib.load(\"LGBMClassifier.pkl\")\n",
    "    return model"
   ]
  },
  {
   "cell_type": "code",
   "execution_count": 66,
   "id": "e9228300",
   "metadata": {},
   "outputs": [],
   "source": [
    "def Run_Model(data_dict, model):\n",
    "    df = pd.DataFrame([data_dict])\n",
    "    model = model\n",
    "    cols  = list(df.columns.values)\n",
    "    pred = pd.Series(model.predict(df[cols])).values\n",
    "    return pred"
   ]
  },
  {
   "cell_type": "code",
   "execution_count": 67,
   "id": "1c8ea1d3",
   "metadata": {},
   "outputs": [
    {
     "data": {
      "text/plain": [
       "array([0], dtype=int64)"
      ]
     },
     "execution_count": 67,
     "metadata": {},
     "output_type": "execute_result"
    }
   ],
   "source": [
    "Run_Model(data_dict, model)"
   ]
  },
  {
   "cell_type": "code",
   "execution_count": 68,
   "id": "0fb09b2a",
   "metadata": {},
   "outputs": [
    {
     "ename": "SyntaxError",
     "evalue": "unexpected EOF while parsing (Temp/ipykernel_13428/3041354998.py, line 3)",
     "output_type": "error",
     "traceback": [
      "\u001b[1;36m  File \u001b[1;32m\"C:\\Users\\LOUDOU~1\\AppData\\Local\\Temp/ipykernel_13428/3041354998.py\"\u001b[1;36m, line \u001b[1;32m3\u001b[0m\n\u001b[1;33m    \u001b[0m\n\u001b[1;37m    ^\u001b[0m\n\u001b[1;31mSyntaxError\u001b[0m\u001b[1;31m:\u001b[0m unexpected EOF while parsing\n"
     ]
    }
   ],
   "source": [
    "def Recherche():\n",
    "    if request.method == \"POST\":\n",
    "        "
   ]
  },
  {
   "cell_type": "code",
   "execution_count": 70,
   "id": "12daec29",
   "metadata": {},
   "outputs": [
    {
     "data": {
      "text/plain": [
       "{'SurfaceMin': 100,\n",
       " 'NombrePiecesEnum': 5,\n",
       " 'NombreChambresEnum': 2,\n",
       " 'TypeMission': 0,\n",
       " 'TypeBien': 1,\n",
       " 'TypeProjet': 1,\n",
       " 'BudgetMaxEuro': 500000,\n",
       " 'CodePostal': 34000}"
      ]
     },
     "execution_count": 70,
     "metadata": {},
     "output_type": "execute_result"
    }
   ],
   "source": [
    "{'SurfaceMin': 100, 'NombrePiecesEnum': 5, 'NombreChambresEnum': 2, 'TypeMission': 0, 'TypeBien': 1, 'TypeProjet': 1, 'BudgetMaxEuro': 500000, 'CodePostal': 34000}"
   ]
  },
  {
   "cell_type": "markdown",
   "id": "60228a7d",
   "metadata": {},
   "source": [
    "# test modèle"
   ]
  },
  {
   "cell_type": "code",
   "execution_count": 133,
   "id": "6393b588",
   "metadata": {},
   "outputs": [],
   "source": [
    "model = joblib.load(\"LGBMClassifier2.pkl\")"
   ]
  },
  {
   "cell_type": "code",
   "execution_count": 134,
   "id": "6ba2cc09",
   "metadata": {},
   "outputs": [
    {
     "name": "stdout",
     "output_type": "stream",
     "text": [
      "{'TypeMission': 1, 'TypeBien': 1, 'TypeProjet': 1, 'CodePostal': 34000, 'Budget': 500000, 'NombrePiecesEnum': 5, 'NombreChambresEnum': 2, 'SurfaceMin': 100}\n"
     ]
    }
   ],
   "source": [
    "dict_test = {\n",
    "        \"TypeMission\" : 1,\n",
    "        \"TypeBien\" : 1,\n",
    "        \"TypeProjet\" : 1,\n",
    "        \"CodePostal\" : 34000,\n",
    "        \"Budget\": 500000,\n",
    "        \"NombrePiecesEnum\" : 5,\n",
    "        \"NombreChambresEnum\" : 2,\n",
    "        \"SurfaceMin\":100  \n",
    "}\n",
    "print(dict_test)"
   ]
  },
  {
   "cell_type": "code",
   "execution_count": 135,
   "id": "37f12a5f",
   "metadata": {},
   "outputs": [
    {
     "data": {
      "text/html": [
       "<div>\n",
       "<style scoped>\n",
       "    .dataframe tbody tr th:only-of-type {\n",
       "        vertical-align: middle;\n",
       "    }\n",
       "\n",
       "    .dataframe tbody tr th {\n",
       "        vertical-align: top;\n",
       "    }\n",
       "\n",
       "    .dataframe thead th {\n",
       "        text-align: right;\n",
       "    }\n",
       "</style>\n",
       "<table border=\"1\" class=\"dataframe\">\n",
       "  <thead>\n",
       "    <tr style=\"text-align: right;\">\n",
       "      <th></th>\n",
       "      <th>TypeMission</th>\n",
       "      <th>TypeBien</th>\n",
       "      <th>TypeProjet</th>\n",
       "      <th>CodePostal</th>\n",
       "      <th>Budget</th>\n",
       "      <th>NombrePiecesEnum</th>\n",
       "      <th>NombreChambresEnum</th>\n",
       "      <th>SurfaceMin</th>\n",
       "    </tr>\n",
       "  </thead>\n",
       "  <tbody>\n",
       "    <tr>\n",
       "      <th>0</th>\n",
       "      <td>1</td>\n",
       "      <td>1</td>\n",
       "      <td>1</td>\n",
       "      <td>34000</td>\n",
       "      <td>500000</td>\n",
       "      <td>5</td>\n",
       "      <td>2</td>\n",
       "      <td>100</td>\n",
       "    </tr>\n",
       "  </tbody>\n",
       "</table>\n",
       "</div>"
      ],
      "text/plain": [
       "   TypeMission  TypeBien  TypeProjet  CodePostal  Budget  NombrePiecesEnum  \\\n",
       "0            1         1           1       34000  500000                 5   \n",
       "\n",
       "   NombreChambresEnum  SurfaceMin  \n",
       "0                   2         100  "
      ]
     },
     "execution_count": 135,
     "metadata": {},
     "output_type": "execute_result"
    }
   ],
   "source": [
    "df = pd.DataFrame([dict_test])\n",
    "df.head()"
   ]
  },
  {
   "cell_type": "code",
   "execution_count": 136,
   "id": "36ccfe94",
   "metadata": {},
   "outputs": [],
   "source": [
    "df = df.reindex(columns=[\"SurfaceMin\", \"NombrePiecesEnum\", \"NombreChambresEnum\", \"TypeMission\",\"TypeBien\", \"TypeProjet\", \"Budget\", \"CodePostal\"])"
   ]
  },
  {
   "cell_type": "code",
   "execution_count": 137,
   "id": "24d43e93",
   "metadata": {},
   "outputs": [
    {
     "data": {
      "text/html": [
       "<div>\n",
       "<style scoped>\n",
       "    .dataframe tbody tr th:only-of-type {\n",
       "        vertical-align: middle;\n",
       "    }\n",
       "\n",
       "    .dataframe tbody tr th {\n",
       "        vertical-align: top;\n",
       "    }\n",
       "\n",
       "    .dataframe thead th {\n",
       "        text-align: right;\n",
       "    }\n",
       "</style>\n",
       "<table border=\"1\" class=\"dataframe\">\n",
       "  <thead>\n",
       "    <tr style=\"text-align: right;\">\n",
       "      <th></th>\n",
       "      <th>SurfaceMin</th>\n",
       "      <th>NombrePiecesEnum</th>\n",
       "      <th>NombreChambresEnum</th>\n",
       "      <th>TypeMission</th>\n",
       "      <th>TypeBien</th>\n",
       "      <th>TypeProjet</th>\n",
       "      <th>Budget</th>\n",
       "      <th>CodePostal</th>\n",
       "    </tr>\n",
       "  </thead>\n",
       "  <tbody>\n",
       "    <tr>\n",
       "      <th>0</th>\n",
       "      <td>100</td>\n",
       "      <td>5</td>\n",
       "      <td>2</td>\n",
       "      <td>1</td>\n",
       "      <td>1</td>\n",
       "      <td>1</td>\n",
       "      <td>500000</td>\n",
       "      <td>34000</td>\n",
       "    </tr>\n",
       "  </tbody>\n",
       "</table>\n",
       "</div>"
      ],
      "text/plain": [
       "   SurfaceMin  NombrePiecesEnum  NombreChambresEnum  TypeMission  TypeBien  \\\n",
       "0         100                 5                   2            1         1   \n",
       "\n",
       "   TypeProjet  Budget  CodePostal  \n",
       "0           1  500000       34000  "
      ]
     },
     "execution_count": 137,
     "metadata": {},
     "output_type": "execute_result"
    }
   ],
   "source": [
    "df.head()"
   ]
  },
  {
   "cell_type": "code",
   "execution_count": 138,
   "id": "977249a4",
   "metadata": {},
   "outputs": [
    {
     "name": "stdout",
     "output_type": "stream",
     "text": [
      "['SurfaceMin', 'NombrePiecesEnum', 'NombreChambresEnum', 'TypeMission', 'TypeBien', 'TypeProjet', 'Budget', 'CodePostal']\n"
     ]
    }
   ],
   "source": [
    "pred_cols = list(df.columns.values)\n",
    "print(pred_cols)"
   ]
  },
  {
   "cell_type": "code",
   "execution_count": 139,
   "id": "f930426a",
   "metadata": {},
   "outputs": [
    {
     "name": "stdout",
     "output_type": "stream",
     "text": [
      "[0]\n"
     ]
    }
   ],
   "source": [
    "pred = pd.Series(model.predict(df[pred_cols]))\n",
    "print(pred.values)"
   ]
  },
  {
   "cell_type": "markdown",
   "id": "512a2922",
   "metadata": {},
   "source": [
    "# test 2 "
   ]
  },
  {
   "cell_type": "code",
   "execution_count": 180,
   "id": "47bccd09",
   "metadata": {},
   "outputs": [],
   "source": [
    "data2 = {'SurfaceMin': 30, 'NombrePiecesEnum': 2, 'NombreChambresEnum': 1, 'TypeMission': 2,\n",
    "         'TypeBien': 2, 'TypeProjet': 1, 'Budget': 100000, 'CodePostal': 1000}"
   ]
  },
  {
   "cell_type": "code",
   "execution_count": 155,
   "id": "85b8991d",
   "metadata": {},
   "outputs": [
    {
     "data": {
      "text/html": [
       "<div>\n",
       "<style scoped>\n",
       "    .dataframe tbody tr th:only-of-type {\n",
       "        vertical-align: middle;\n",
       "    }\n",
       "\n",
       "    .dataframe tbody tr th {\n",
       "        vertical-align: top;\n",
       "    }\n",
       "\n",
       "    .dataframe thead th {\n",
       "        text-align: right;\n",
       "    }\n",
       "</style>\n",
       "<table border=\"1\" class=\"dataframe\">\n",
       "  <thead>\n",
       "    <tr style=\"text-align: right;\">\n",
       "      <th></th>\n",
       "      <th>SurfaceMin</th>\n",
       "      <th>NombrePiecesEnum</th>\n",
       "      <th>NombreChambresEnum</th>\n",
       "      <th>TypeMission</th>\n",
       "      <th>TypeBien</th>\n",
       "      <th>TypeProjet</th>\n",
       "      <th>Budget</th>\n",
       "      <th>CodePostal</th>\n",
       "    </tr>\n",
       "  </thead>\n",
       "  <tbody>\n",
       "    <tr>\n",
       "      <th>0</th>\n",
       "      <td>30</td>\n",
       "      <td>2</td>\n",
       "      <td>1</td>\n",
       "      <td>2</td>\n",
       "      <td>2</td>\n",
       "      <td>1</td>\n",
       "      <td>100000</td>\n",
       "      <td>1000</td>\n",
       "    </tr>\n",
       "  </tbody>\n",
       "</table>\n",
       "</div>"
      ],
      "text/plain": [
       "   SurfaceMin  NombrePiecesEnum  NombreChambresEnum  TypeMission  TypeBien  \\\n",
       "0          30                 2                   1            2         2   \n",
       "\n",
       "   TypeProjet  Budget  CodePostal  \n",
       "0           1  100000        1000  "
      ]
     },
     "execution_count": 155,
     "metadata": {},
     "output_type": "execute_result"
    }
   ],
   "source": [
    "df2 = pd.DataFrame([data2])\n",
    "df2.head()"
   ]
  },
  {
   "cell_type": "code",
   "execution_count": 156,
   "id": "2d6ab63b",
   "metadata": {},
   "outputs": [
    {
     "name": "stdout",
     "output_type": "stream",
     "text": [
      "['SurfaceMin', 'NombrePiecesEnum', 'NombreChambresEnum', 'TypeMission', 'TypeBien', 'TypeProjet', 'Budget', 'CodePostal']\n"
     ]
    }
   ],
   "source": [
    "cols = list(df2.columns.values)\n",
    "print(cols)"
   ]
  },
  {
   "cell_type": "code",
   "execution_count": 157,
   "id": "1c450a6d",
   "metadata": {},
   "outputs": [
    {
     "name": "stdout",
     "output_type": "stream",
     "text": [
      "[0]\n"
     ]
    }
   ],
   "source": [
    "pred = pd.Series(model.predict(df2[pred_cols]))\n",
    "print(pred.values)"
   ]
  },
  {
   "cell_type": "code",
   "execution_count": 187,
   "id": "0c404009",
   "metadata": {},
   "outputs": [
    {
     "data": {
      "text/plain": [
       "pandas.core.series.Series"
      ]
     },
     "execution_count": 187,
     "metadata": {},
     "output_type": "execute_result"
    }
   ],
   "source": [
    "type(pred)"
   ]
  },
  {
   "cell_type": "code",
   "execution_count": 188,
   "id": "94cb9335",
   "metadata": {},
   "outputs": [],
   "source": [
    "test2 = pred.to_json(orient = \"columns\")"
   ]
  },
  {
   "cell_type": "code",
   "execution_count": 189,
   "id": "305dbfc4",
   "metadata": {},
   "outputs": [
    {
     "name": "stdout",
     "output_type": "stream",
     "text": [
      "{\"0\":0}\n"
     ]
    }
   ],
   "source": [
    "print(test2)"
   ]
  },
  {
   "cell_type": "code",
   "execution_count": 184,
   "id": "2ecead55",
   "metadata": {},
   "outputs": [],
   "source": [
    "test = pred.to_dict()"
   ]
  },
  {
   "cell_type": "markdown",
   "id": "c22a442b",
   "metadata": {},
   "source": [
    "# Test 3 "
   ]
  },
  {
   "cell_type": "code",
   "execution_count": 158,
   "id": "09dea321",
   "metadata": {},
   "outputs": [],
   "source": [
    "data3 = {'SurfaceMin': 0, 'NombrePiecesEnum': 5, 'NombreChambresEnum': 2, 'TypeMission': 0, 'TypeBien': 2, 'TypeProjet': 1, 'Budget': 280000, 'CodePostal': 34000}"
   ]
  },
  {
   "cell_type": "code",
   "execution_count": 162,
   "id": "c2053869",
   "metadata": {},
   "outputs": [
    {
     "data": {
      "text/html": [
       "<div>\n",
       "<style scoped>\n",
       "    .dataframe tbody tr th:only-of-type {\n",
       "        vertical-align: middle;\n",
       "    }\n",
       "\n",
       "    .dataframe tbody tr th {\n",
       "        vertical-align: top;\n",
       "    }\n",
       "\n",
       "    .dataframe thead th {\n",
       "        text-align: right;\n",
       "    }\n",
       "</style>\n",
       "<table border=\"1\" class=\"dataframe\">\n",
       "  <thead>\n",
       "    <tr style=\"text-align: right;\">\n",
       "      <th></th>\n",
       "      <th>SurfaceMin</th>\n",
       "      <th>NombrePiecesEnum</th>\n",
       "      <th>NombreChambresEnum</th>\n",
       "      <th>TypeMission</th>\n",
       "      <th>TypeBien</th>\n",
       "      <th>TypeProjet</th>\n",
       "      <th>Budget</th>\n",
       "      <th>CodePostal</th>\n",
       "    </tr>\n",
       "  </thead>\n",
       "  <tbody>\n",
       "    <tr>\n",
       "      <th>0</th>\n",
       "      <td>0</td>\n",
       "      <td>5</td>\n",
       "      <td>2</td>\n",
       "      <td>0</td>\n",
       "      <td>2</td>\n",
       "      <td>1</td>\n",
       "      <td>280000</td>\n",
       "      <td>34000</td>\n",
       "    </tr>\n",
       "  </tbody>\n",
       "</table>\n",
       "</div>"
      ],
      "text/plain": [
       "   SurfaceMin  NombrePiecesEnum  NombreChambresEnum  TypeMission  TypeBien  \\\n",
       "0           0                 5                   2            0         2   \n",
       "\n",
       "   TypeProjet  Budget  CodePostal  \n",
       "0           1  280000       34000  "
      ]
     },
     "execution_count": 162,
     "metadata": {},
     "output_type": "execute_result"
    }
   ],
   "source": [
    "df3 = pd.DataFrame([data3])\n",
    "df3.head()"
   ]
  },
  {
   "cell_type": "code",
   "execution_count": 163,
   "id": "78c72ba6",
   "metadata": {},
   "outputs": [
    {
     "name": "stdout",
     "output_type": "stream",
     "text": [
      "['SurfaceMin', 'NombrePiecesEnum', 'NombreChambresEnum', 'TypeMission', 'TypeBien', 'TypeProjet', 'Budget', 'CodePostal']\n"
     ]
    }
   ],
   "source": [
    "pred_cols = list(df3.columns.values)\n",
    "print(pred_cols)"
   ]
  },
  {
   "cell_type": "code",
   "execution_count": 164,
   "id": "4ae68ab2",
   "metadata": {},
   "outputs": [
    {
     "name": "stdout",
     "output_type": "stream",
     "text": [
      "[1]\n"
     ]
    }
   ],
   "source": [
    "pred = pd.Series(model.predict(df3[pred_cols]))\n",
    "print(pred.values)"
   ]
  },
  {
   "cell_type": "markdown",
   "id": "69aba85a",
   "metadata": {},
   "source": [
    "# Test 4 "
   ]
  },
  {
   "cell_type": "code",
   "execution_count": 168,
   "id": "08d60fbc",
   "metadata": {},
   "outputs": [],
   "source": [
    "data4 = {\n",
    "    \"SurfaceMin\":90,\n",
    "    \"NombrePiecesEnum\" : 3,\n",
    "    \"NombreChambresEnum\" : 2,\n",
    "    \"TypeMission\" : 2,\n",
    "    \"TypeBien\" : 1,\n",
    "    \"TypeProjet\" : 1,\n",
    "    \"Budget\" : 390000,\n",
    "    \"CodePostal\" : 6530\n",
    "\n",
    "}"
   ]
  },
  {
   "cell_type": "code",
   "execution_count": 169,
   "id": "a3d11f0c",
   "metadata": {},
   "outputs": [
    {
     "data": {
      "text/html": [
       "<div>\n",
       "<style scoped>\n",
       "    .dataframe tbody tr th:only-of-type {\n",
       "        vertical-align: middle;\n",
       "    }\n",
       "\n",
       "    .dataframe tbody tr th {\n",
       "        vertical-align: top;\n",
       "    }\n",
       "\n",
       "    .dataframe thead th {\n",
       "        text-align: right;\n",
       "    }\n",
       "</style>\n",
       "<table border=\"1\" class=\"dataframe\">\n",
       "  <thead>\n",
       "    <tr style=\"text-align: right;\">\n",
       "      <th></th>\n",
       "      <th>SurfaceMin</th>\n",
       "      <th>NombrePiecesEnum</th>\n",
       "      <th>NombreChambresEnum</th>\n",
       "      <th>TypeMission</th>\n",
       "      <th>TypeBien</th>\n",
       "      <th>TypeProjet</th>\n",
       "      <th>Budget</th>\n",
       "      <th>CodePostal</th>\n",
       "    </tr>\n",
       "  </thead>\n",
       "  <tbody>\n",
       "    <tr>\n",
       "      <th>0</th>\n",
       "      <td>90</td>\n",
       "      <td>3</td>\n",
       "      <td>2</td>\n",
       "      <td>2</td>\n",
       "      <td>1</td>\n",
       "      <td>1</td>\n",
       "      <td>390000</td>\n",
       "      <td>6530</td>\n",
       "    </tr>\n",
       "  </tbody>\n",
       "</table>\n",
       "</div>"
      ],
      "text/plain": [
       "   SurfaceMin  NombrePiecesEnum  NombreChambresEnum  TypeMission  TypeBien  \\\n",
       "0          90                 3                   2            2         1   \n",
       "\n",
       "   TypeProjet  Budget  CodePostal  \n",
       "0           1  390000        6530  "
      ]
     },
     "execution_count": 169,
     "metadata": {},
     "output_type": "execute_result"
    }
   ],
   "source": [
    "df4 = pd.DataFrame([data4])\n",
    "df4.head()"
   ]
  },
  {
   "cell_type": "code",
   "execution_count": 170,
   "id": "7539b674",
   "metadata": {},
   "outputs": [
    {
     "name": "stdout",
     "output_type": "stream",
     "text": [
      "['SurfaceMin', 'NombrePiecesEnum', 'NombreChambresEnum', 'TypeMission', 'TypeBien', 'TypeProjet', 'Budget', 'CodePostal']\n"
     ]
    }
   ],
   "source": [
    "pred_cols = list(df4.columns.values)\n",
    "print(pred_cols)"
   ]
  },
  {
   "cell_type": "code",
   "execution_count": 172,
   "id": "6cced914",
   "metadata": {},
   "outputs": [
    {
     "name": "stdout",
     "output_type": "stream",
     "text": [
      "[0]\n"
     ]
    }
   ],
   "source": [
    "pred = pd.Series(model.predict(df4[pred_cols]))\n",
    "print(pred.values)"
   ]
  },
  {
   "cell_type": "markdown",
   "id": "e089f078",
   "metadata": {},
   "source": [
    "# Test 5"
   ]
  },
  {
   "cell_type": "code",
   "execution_count": 176,
   "id": "d1b59f4b",
   "metadata": {},
   "outputs": [],
   "source": [
    "data5 = {\n",
    "    \"SurfaceMin\":80,\n",
    "    \"NombrePiecesEnum\" : 2,\n",
    "    \"NombreChambresEnum\" : 2,\n",
    "    \"TypeMission\" : 1,\n",
    "    \"TypeBien\" : 1,\n",
    "    \"TypeProjet\" : 1,\n",
    "    \"Budget\" : 220000,\n",
    "    \"CodePostal\" : 33310\n",
    "}"
   ]
  },
  {
   "cell_type": "code",
   "execution_count": 177,
   "id": "65c37ae1",
   "metadata": {},
   "outputs": [
    {
     "data": {
      "text/html": [
       "<div>\n",
       "<style scoped>\n",
       "    .dataframe tbody tr th:only-of-type {\n",
       "        vertical-align: middle;\n",
       "    }\n",
       "\n",
       "    .dataframe tbody tr th {\n",
       "        vertical-align: top;\n",
       "    }\n",
       "\n",
       "    .dataframe thead th {\n",
       "        text-align: right;\n",
       "    }\n",
       "</style>\n",
       "<table border=\"1\" class=\"dataframe\">\n",
       "  <thead>\n",
       "    <tr style=\"text-align: right;\">\n",
       "      <th></th>\n",
       "      <th>SurfaceMin</th>\n",
       "      <th>NombrePiecesEnum</th>\n",
       "      <th>NombreChambresEnum</th>\n",
       "      <th>TypeMission</th>\n",
       "      <th>TypeBien</th>\n",
       "      <th>TypeProjet</th>\n",
       "      <th>Budget</th>\n",
       "      <th>CodePostal</th>\n",
       "    </tr>\n",
       "  </thead>\n",
       "  <tbody>\n",
       "    <tr>\n",
       "      <th>0</th>\n",
       "      <td>80</td>\n",
       "      <td>2</td>\n",
       "      <td>2</td>\n",
       "      <td>1</td>\n",
       "      <td>1</td>\n",
       "      <td>1</td>\n",
       "      <td>220000</td>\n",
       "      <td>33310</td>\n",
       "    </tr>\n",
       "  </tbody>\n",
       "</table>\n",
       "</div>"
      ],
      "text/plain": [
       "   SurfaceMin  NombrePiecesEnum  NombreChambresEnum  TypeMission  TypeBien  \\\n",
       "0          80                 2                   2            1         1   \n",
       "\n",
       "   TypeProjet  Budget  CodePostal  \n",
       "0           1  220000       33310  "
      ]
     },
     "execution_count": 177,
     "metadata": {},
     "output_type": "execute_result"
    }
   ],
   "source": [
    "df5 = pd.DataFrame([data5])\n",
    "df5.head()"
   ]
  },
  {
   "cell_type": "code",
   "execution_count": 192,
   "id": "a441fcea",
   "metadata": {},
   "outputs": [],
   "source": [
    "from sklearn.preprocessing import StandardScaler\n",
    "scaler = StandardScaler()\n",
    "X = scaler.fit_transform(df5)"
   ]
  },
  {
   "cell_type": "code",
   "execution_count": 194,
   "id": "1562ab99",
   "metadata": {},
   "outputs": [
    {
     "data": {
      "text/html": [
       "<div>\n",
       "<style scoped>\n",
       "    .dataframe tbody tr th:only-of-type {\n",
       "        vertical-align: middle;\n",
       "    }\n",
       "\n",
       "    .dataframe tbody tr th {\n",
       "        vertical-align: top;\n",
       "    }\n",
       "\n",
       "    .dataframe thead th {\n",
       "        text-align: right;\n",
       "    }\n",
       "</style>\n",
       "<table border=\"1\" class=\"dataframe\">\n",
       "  <thead>\n",
       "    <tr style=\"text-align: right;\">\n",
       "      <th></th>\n",
       "      <th>SurfaceMin</th>\n",
       "      <th>NombrePiecesEnum</th>\n",
       "      <th>NombreChambresEnum</th>\n",
       "      <th>TypeMission</th>\n",
       "      <th>TypeBien</th>\n",
       "      <th>TypeProjet</th>\n",
       "      <th>Budget</th>\n",
       "      <th>CodePostal</th>\n",
       "    </tr>\n",
       "  </thead>\n",
       "  <tbody>\n",
       "    <tr>\n",
       "      <th>0</th>\n",
       "      <td>80</td>\n",
       "      <td>2</td>\n",
       "      <td>2</td>\n",
       "      <td>1</td>\n",
       "      <td>1</td>\n",
       "      <td>1</td>\n",
       "      <td>220000</td>\n",
       "      <td>33310</td>\n",
       "    </tr>\n",
       "  </tbody>\n",
       "</table>\n",
       "</div>"
      ],
      "text/plain": [
       "   SurfaceMin  NombrePiecesEnum  NombreChambresEnum  TypeMission  TypeBien  \\\n",
       "0          80                 2                   2            1         1   \n",
       "\n",
       "   TypeProjet  Budget  CodePostal  \n",
       "0           1  220000       33310  "
      ]
     },
     "execution_count": 194,
     "metadata": {},
     "output_type": "execute_result"
    }
   ],
   "source": [
    "df5[pred_cols]"
   ]
  },
  {
   "cell_type": "code",
   "execution_count": 191,
   "id": "d2a50740",
   "metadata": {},
   "outputs": [
    {
     "name": "stdout",
     "output_type": "stream",
     "text": [
      "['SurfaceMin', 'NombrePiecesEnum', 'NombreChambresEnum', 'TypeMission', 'TypeBien', 'TypeProjet', 'Budget', 'CodePostal']\n"
     ]
    }
   ],
   "source": [
    "pred_cols = list(df5.columns.values)\n",
    "print(pred_cols)"
   ]
  },
  {
   "cell_type": "code",
   "execution_count": 179,
   "id": "0963d738",
   "metadata": {},
   "outputs": [
    {
     "name": "stdout",
     "output_type": "stream",
     "text": [
      "[0]\n"
     ]
    }
   ],
   "source": [
    "pred = pd.Series(model.predict(df5[pred_cols]))\n",
    "print(pred.values)"
   ]
  },
  {
   "cell_type": "code",
   "execution_count": 195,
   "id": "a68f5682",
   "metadata": {},
   "outputs": [
    {
     "data": {
      "text/plain": [
       "array([0], dtype=int64)"
      ]
     },
     "execution_count": 195,
     "metadata": {},
     "output_type": "execute_result"
    }
   ],
   "source": [
    "model.predict(df5)"
   ]
  },
  {
   "cell_type": "code",
   "execution_count": null,
   "id": "bef82ae2",
   "metadata": {},
   "outputs": [],
   "source": []
  },
  {
   "cell_type": "code",
   "execution_count": null,
   "id": "e7af75d0",
   "metadata": {},
   "outputs": [],
   "source": []
  },
  {
   "cell_type": "code",
   "execution_count": null,
   "id": "cab08b1a",
   "metadata": {},
   "outputs": [],
   "source": []
  },
  {
   "cell_type": "code",
   "execution_count": null,
   "id": "0b1ba01b",
   "metadata": {},
   "outputs": [],
   "source": []
  },
  {
   "cell_type": "code",
   "execution_count": null,
   "id": "48322d5f",
   "metadata": {},
   "outputs": [],
   "source": []
  },
  {
   "cell_type": "code",
   "execution_count": null,
   "id": "ab7e2d03",
   "metadata": {},
   "outputs": [],
   "source": []
  },
  {
   "cell_type": "code",
   "execution_count": null,
   "id": "99f1347d",
   "metadata": {},
   "outputs": [],
   "source": []
  },
  {
   "cell_type": "code",
   "execution_count": null,
   "id": "56e148f8",
   "metadata": {},
   "outputs": [],
   "source": []
  },
  {
   "cell_type": "code",
   "execution_count": 171,
   "id": "c1195b9a",
   "metadata": {},
   "outputs": [
    {
     "name": "stdout",
     "output_type": "stream",
     "text": [
      "['SurfaceMin', 'NombrePiecesEnum', 'NombreChambresEnum', 'TypeMission', 'TypeBien', 'TypeProjet', 'Budget', 'CodePostal']\n"
     ]
    }
   ],
   "source": [
    "pred_cols = list(df3.columns.values)\n",
    "print(pred_cols)"
   ]
  },
  {
   "cell_type": "code",
   "execution_count": 122,
   "id": "ba318541",
   "metadata": {},
   "outputs": [
    {
     "name": "stdout",
     "output_type": "stream",
     "text": [
      "['SurfaceMin', 'NombrePiecesEnum', 'NombreChambresEnum', 'TypeMission', 'TypeBien', 'TypeProjet', 'BudgetMaxEuro', 'CodePostal']\n"
     ]
    }
   ],
   "source": [
    "pred_cols = list(df3.columns.values)\n",
    "print(pred_cols)"
   ]
  },
  {
   "cell_type": "code",
   "execution_count": null,
   "id": "69291ac3",
   "metadata": {},
   "outputs": [],
   "source": []
  },
  {
   "cell_type": "code",
   "execution_count": null,
   "id": "cc9a52ec",
   "metadata": {},
   "outputs": [],
   "source": []
  },
  {
   "cell_type": "code",
   "execution_count": null,
   "id": "adf87ae3",
   "metadata": {},
   "outputs": [],
   "source": []
  },
  {
   "cell_type": "code",
   "execution_count": null,
   "id": "9ec2873c",
   "metadata": {},
   "outputs": [],
   "source": []
  },
  {
   "cell_type": "code",
   "execution_count": null,
   "id": "87db5110",
   "metadata": {},
   "outputs": [],
   "source": [
    "val = pd.Series(dict_test).values\n"
   ]
  },
  {
   "cell_type": "code",
   "execution_count": null,
   "id": "f88e4772",
   "metadata": {},
   "outputs": [],
   "source": [
    "print(val)"
   ]
  },
  {
   "cell_type": "code",
   "execution_count": null,
   "id": "7afbfcc6",
   "metadata": {},
   "outputs": [],
   "source": [
    "df2 = list(df.columns.values), pd.Series(dict_test).values"
   ]
  },
  {
   "cell_type": "code",
   "execution_count": null,
   "id": "44c4250d",
   "metadata": {},
   "outputs": [],
   "source": [
    "print(df2)"
   ]
  },
  {
   "cell_type": "code",
   "execution_count": null,
   "id": "0a405f5c",
   "metadata": {},
   "outputs": [],
   "source": [
    "test = pd.DataFrame({'date' : dict_dates.keys() , 'date_value' : dict_dates.values() })\n"
   ]
  },
  {
   "cell_type": "code",
   "execution_count": null,
   "id": "b3f60055",
   "metadata": {},
   "outputs": [],
   "source": [
    "import pandas as pd\n",
    "df = pd.DataFrame()\n",
    "df = df.append(dict_test, ignore_index=True)\n",
    "df.head()"
   ]
  },
  {
   "cell_type": "code",
   "execution_count": null,
   "id": "44fa4701",
   "metadata": {},
   "outputs": [],
   "source": [
    "df= pd.DataFrame([dict_test.keys(), dict_test.values()]).T\n",
    "df.columns= ['keys', 'values']  \n",
    "df.head()"
   ]
  },
  {
   "cell_type": "code",
   "execution_count": null,
   "id": "4a259620",
   "metadata": {},
   "outputs": [],
   "source": [
    "df = pd.DataFrame()\n",
    "df['Date'] = dict_test.keys()\n",
    "df['DateValue'] = dict_test.values()\n",
    "df.head()"
   ]
  },
  {
   "cell_type": "code",
   "execution_count": null,
   "id": "c78c1a7c",
   "metadata": {},
   "outputs": [],
   "source": []
  }
 ],
 "metadata": {
  "kernelspec": {
   "display_name": "Python 3 (ipykernel)",
   "language": "python",
   "name": "python3"
  },
  "language_info": {
   "codemirror_mode": {
    "name": "ipython",
    "version": 3
   },
   "file_extension": ".py",
   "mimetype": "text/x-python",
   "name": "python",
   "nbconvert_exporter": "python",
   "pygments_lexer": "ipython3",
   "version": "3.8.12"
  }
 },
 "nbformat": 4,
 "nbformat_minor": 5
}
