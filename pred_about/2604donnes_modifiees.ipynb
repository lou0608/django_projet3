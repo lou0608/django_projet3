{
 "cells": [
  {
   "cell_type": "code",
   "execution_count": 2,
   "id": "8802ec9f",
   "metadata": {},
   "outputs": [
    {
     "name": "stderr",
     "output_type": "stream",
     "text": [
      "C:\\anaconda3\\lib\\site-packages\\numpy\\_distributor_init.py:30: UserWarning: loaded more than 1 DLL from .libs:\n",
      "C:\\anaconda3\\lib\\site-packages\\numpy\\.libs\\libopenblas.PYQHXLVVQ7VESDPUVUADXEVJOBGHJPAY.gfortran-win_amd64.dll\n",
      "C:\\anaconda3\\lib\\site-packages\\numpy\\.libs\\libopenblas.QVLO2T66WEPI7JZ63PS3HMOHFEY472BC.gfortran-win_amd64.dll\n",
      "  warnings.warn(\"loaded more than 1 DLL from .libs:\\n%s\" %\n"
     ]
    }
   ],
   "source": [
    "import pandas as pd\n",
    "pd.set_option('display.max_columns', None)\n",
    "\n",
    "import numpy as np\n",
    "import scipy.stats as stat\n",
    "import scipy as sp\n",
    "import statistics\n",
    "\n",
    "import matplotlib.pyplot as plt\n",
    "from matplotlib import pyplot\n",
    "%matplotlib inline\n",
    "from mpl_toolkits.mplot3d import Axes3D\n",
    "from matplotlib import cm\n",
    "import seaborn as sns\n",
    "\n",
    "#import warnings\n",
    "#warnings.filterwarnings('ignore')\n",
    "\n",
    "# Modèle de ML\n",
    "from sklearn import linear_model\n",
    "\n",
    "# data pre-processing\n",
    "from sklearn import preprocessing\n",
    "from sklearn.model_selection import train_test_split\n",
    "\n",
    "# Outils score et evaluation de modèle\n",
    "from sklearn.metrics import accuracy_score\n",
    "from sklearn import metrics\n",
    "from sklearn.metrics import classification_report\n",
    "from sklearn.metrics import confusion_matrix\n",
    "\n",
    "from sklearn.metrics import r2_score\n",
    "\n",
    "# Outils optmisation de modèle\n",
    "from sklearn.model_selection import GridSearchCV\n",
    "from sklearn.model_selection import StratifiedKFold"
   ]
  },
  {
   "cell_type": "code",
   "execution_count": 6,
   "id": "2a726e3a",
   "metadata": {},
   "outputs": [],
   "source": [
    "df = pd.read_csv(\"donnees_modiffiees4.csv\")"
   ]
  },
  {
   "cell_type": "code",
   "execution_count": 7,
   "id": "ee54ec03",
   "metadata": {},
   "outputs": [
    {
     "name": "stdout",
     "output_type": "stream",
     "text": [
      "<class 'pandas.core.frame.DataFrame'>\n",
      "RangeIndex: 23220 entries, 0 to 23219\n",
      "Data columns (total 14 columns):\n",
      " #   Column                        Non-Null Count  Dtype \n",
      "---  ------                        --------------  ----- \n",
      " 0   MandatId                      23220 non-null  int64 \n",
      " 1   SurfaceMin                    23220 non-null  int64 \n",
      " 2   NombrePiecesEnum              23220 non-null  int64 \n",
      " 3   NombreChambresEnum            23220 non-null  int64 \n",
      " 4   StatutProspectMandatClientID  23220 non-null  int64 \n",
      " 5   TypeMission                   23220 non-null  int64 \n",
      " 6   TypeBien                      23220 non-null  int64 \n",
      " 7   TypeProjet                    23220 non-null  int64 \n",
      " 8   BudgetMaxEuro                 23220 non-null  int64 \n",
      " 9   CodePostal                    23220 non-null  int64 \n",
      " 10  Ville                         23220 non-null  object\n",
      " 11  Departement                   23220 non-null  object\n",
      " 12  dpt                           23220 non-null  int64 \n",
      " 13  Region                        23220 non-null  object\n",
      "dtypes: int64(11), object(3)\n",
      "memory usage: 2.5+ MB\n"
     ]
    }
   ],
   "source": [
    "df.info()"
   ]
  },
  {
   "cell_type": "code",
   "execution_count": 9,
   "id": "12549745",
   "metadata": {},
   "outputs": [
    {
     "data": {
      "text/plain": [
       "9    15181\n",
       "8     7177\n",
       "7      862\n",
       "Name: StatutProspectMandatClientID, dtype: int64"
      ]
     },
     "execution_count": 9,
     "metadata": {},
     "output_type": "execute_result"
    }
   ],
   "source": [
    "df[\"StatutProspectMandatClientID\"].value_counts()"
   ]
  },
  {
   "cell_type": "code",
   "execution_count": 11,
   "id": "702568c7",
   "metadata": {},
   "outputs": [
    {
     "name": "stdout",
     "output_type": "stream",
     "text": [
      "0    15181\n",
      "1     8039\n",
      "Name: Succes, dtype: int64\n"
     ]
    }
   ],
   "source": [
    "conditionlist = [\n",
    "    (df['StatutProspectMandatClientID'] == 9),\n",
    "    (df['StatutProspectMandatClientID'] == 7),\n",
    "    (df['StatutProspectMandatClientID'] == 8)]\n",
    "\n",
    "choicelist = ['0','1','1']\n",
    "df['Succes'] = np.select(conditionlist, choicelist, default='Not Specified')\n",
    "print(df[\"Succes\"].value_counts())"
   ]
  },
  {
   "cell_type": "code",
   "execution_count": 13,
   "id": "6ee43d2a",
   "metadata": {},
   "outputs": [
    {
     "data": {
      "text/html": [
       "<div>\n",
       "<style scoped>\n",
       "    .dataframe tbody tr th:only-of-type {\n",
       "        vertical-align: middle;\n",
       "    }\n",
       "\n",
       "    .dataframe tbody tr th {\n",
       "        vertical-align: top;\n",
       "    }\n",
       "\n",
       "    .dataframe thead th {\n",
       "        text-align: right;\n",
       "    }\n",
       "</style>\n",
       "<table border=\"1\" class=\"dataframe\">\n",
       "  <thead>\n",
       "    <tr style=\"text-align: right;\">\n",
       "      <th></th>\n",
       "      <th>MandatId</th>\n",
       "      <th>SurfaceMin</th>\n",
       "      <th>NombrePiecesEnum</th>\n",
       "      <th>NombreChambresEnum</th>\n",
       "      <th>StatutProspectMandatClientID</th>\n",
       "      <th>TypeMission</th>\n",
       "      <th>TypeBien</th>\n",
       "      <th>TypeProjet</th>\n",
       "      <th>BudgetMaxEuro</th>\n",
       "      <th>CodePostal</th>\n",
       "      <th>Ville</th>\n",
       "      <th>Departement</th>\n",
       "      <th>dpt</th>\n",
       "      <th>Region</th>\n",
       "      <th>Succes</th>\n",
       "    </tr>\n",
       "  </thead>\n",
       "  <tbody>\n",
       "    <tr>\n",
       "      <th>0</th>\n",
       "      <td>17</td>\n",
       "      <td>130</td>\n",
       "      <td>5</td>\n",
       "      <td>4</td>\n",
       "      <td>9</td>\n",
       "      <td>1</td>\n",
       "      <td>1</td>\n",
       "      <td>1</td>\n",
       "      <td>400000</td>\n",
       "      <td>34970</td>\n",
       "      <td>Lattes</td>\n",
       "      <td>Hérault</td>\n",
       "      <td>34</td>\n",
       "      <td>Languedoc-Roussillon</td>\n",
       "      <td>0</td>\n",
       "    </tr>\n",
       "    <tr>\n",
       "      <th>1</th>\n",
       "      <td>78</td>\n",
       "      <td>90</td>\n",
       "      <td>4</td>\n",
       "      <td>3</td>\n",
       "      <td>8</td>\n",
       "      <td>1</td>\n",
       "      <td>1</td>\n",
       "      <td>1</td>\n",
       "      <td>500000</td>\n",
       "      <td>34000</td>\n",
       "      <td>Montpellier</td>\n",
       "      <td>Hérault</td>\n",
       "      <td>34</td>\n",
       "      <td>Languedoc-Roussillon</td>\n",
       "      <td>1</td>\n",
       "    </tr>\n",
       "    <tr>\n",
       "      <th>2</th>\n",
       "      <td>79</td>\n",
       "      <td>50</td>\n",
       "      <td>3</td>\n",
       "      <td>2</td>\n",
       "      <td>9</td>\n",
       "      <td>1</td>\n",
       "      <td>1</td>\n",
       "      <td>1</td>\n",
       "      <td>240000</td>\n",
       "      <td>78300</td>\n",
       "      <td>Poissy</td>\n",
       "      <td>Yvelines</td>\n",
       "      <td>78</td>\n",
       "      <td>Île-de-France</td>\n",
       "      <td>0</td>\n",
       "    </tr>\n",
       "    <tr>\n",
       "      <th>3</th>\n",
       "      <td>81</td>\n",
       "      <td>90</td>\n",
       "      <td>3</td>\n",
       "      <td>2</td>\n",
       "      <td>9</td>\n",
       "      <td>1</td>\n",
       "      <td>1</td>\n",
       "      <td>1</td>\n",
       "      <td>300000</td>\n",
       "      <td>34000</td>\n",
       "      <td>Montpellier</td>\n",
       "      <td>Hérault</td>\n",
       "      <td>34</td>\n",
       "      <td>Languedoc-Roussillon</td>\n",
       "      <td>0</td>\n",
       "    </tr>\n",
       "    <tr>\n",
       "      <th>4</th>\n",
       "      <td>95</td>\n",
       "      <td>60</td>\n",
       "      <td>3</td>\n",
       "      <td>2</td>\n",
       "      <td>9</td>\n",
       "      <td>1</td>\n",
       "      <td>1</td>\n",
       "      <td>1</td>\n",
       "      <td>330000</td>\n",
       "      <td>33000</td>\n",
       "      <td>Bordeaux</td>\n",
       "      <td>Gironde</td>\n",
       "      <td>33</td>\n",
       "      <td>Aquitaine</td>\n",
       "      <td>0</td>\n",
       "    </tr>\n",
       "  </tbody>\n",
       "</table>\n",
       "</div>"
      ],
      "text/plain": [
       "   MandatId  SurfaceMin  NombrePiecesEnum  NombreChambresEnum  \\\n",
       "0        17         130                 5                   4   \n",
       "1        78          90                 4                   3   \n",
       "2        79          50                 3                   2   \n",
       "3        81          90                 3                   2   \n",
       "4        95          60                 3                   2   \n",
       "\n",
       "   StatutProspectMandatClientID  TypeMission  TypeBien  TypeProjet  \\\n",
       "0                             9            1         1           1   \n",
       "1                             8            1         1           1   \n",
       "2                             9            1         1           1   \n",
       "3                             9            1         1           1   \n",
       "4                             9            1         1           1   \n",
       "\n",
       "   BudgetMaxEuro  CodePostal        Ville Departement  dpt  \\\n",
       "0         400000       34970       Lattes     Hérault   34   \n",
       "1         500000       34000  Montpellier     Hérault   34   \n",
       "2         240000       78300       Poissy    Yvelines   78   \n",
       "3         300000       34000  Montpellier     Hérault   34   \n",
       "4         330000       33000     Bordeaux     Gironde   33   \n",
       "\n",
       "                 Region Succes  \n",
       "0  Languedoc-Roussillon      0  \n",
       "1  Languedoc-Roussillon      1  \n",
       "2         Île-de-France      0  \n",
       "3  Languedoc-Roussillon      0  \n",
       "4             Aquitaine      0  "
      ]
     },
     "execution_count": 13,
     "metadata": {},
     "output_type": "execute_result"
    }
   ],
   "source": [
    "df.head()"
   ]
  },
  {
   "cell_type": "code",
   "execution_count": 12,
   "id": "5c8c1378",
   "metadata": {},
   "outputs": [
    {
     "data": {
      "text/html": [
       "<div>\n",
       "<style scoped>\n",
       "    .dataframe tbody tr th:only-of-type {\n",
       "        vertical-align: middle;\n",
       "    }\n",
       "\n",
       "    .dataframe tbody tr th {\n",
       "        vertical-align: top;\n",
       "    }\n",
       "\n",
       "    .dataframe thead th {\n",
       "        text-align: right;\n",
       "    }\n",
       "</style>\n",
       "<table border=\"1\" class=\"dataframe\">\n",
       "  <thead>\n",
       "    <tr style=\"text-align: right;\">\n",
       "      <th></th>\n",
       "      <th>MandatId</th>\n",
       "      <th>SurfaceMin</th>\n",
       "      <th>NombrePiecesEnum</th>\n",
       "      <th>NombreChambresEnum</th>\n",
       "      <th>StatutProspectMandatClientID</th>\n",
       "      <th>TypeMission</th>\n",
       "      <th>TypeBien</th>\n",
       "      <th>TypeProjet</th>\n",
       "      <th>BudgetMaxEuro</th>\n",
       "      <th>CodePostal</th>\n",
       "      <th>dpt</th>\n",
       "    </tr>\n",
       "  </thead>\n",
       "  <tbody>\n",
       "    <tr>\n",
       "      <th>count</th>\n",
       "      <td>23220.000000</td>\n",
       "      <td>23220.000000</td>\n",
       "      <td>23220.000000</td>\n",
       "      <td>23220.000000</td>\n",
       "      <td>23220.000000</td>\n",
       "      <td>23220.000000</td>\n",
       "      <td>23220.000000</td>\n",
       "      <td>23220.000000</td>\n",
       "      <td>2.322000e+04</td>\n",
       "      <td>23220.000000</td>\n",
       "      <td>23220.000000</td>\n",
       "    </tr>\n",
       "    <tr>\n",
       "      <th>mean</th>\n",
       "      <td>61536.549785</td>\n",
       "      <td>81.305685</td>\n",
       "      <td>3.314686</td>\n",
       "      <td>2.228467</td>\n",
       "      <td>8.616667</td>\n",
       "      <td>1.951766</td>\n",
       "      <td>2.190224</td>\n",
       "      <td>1.066667</td>\n",
       "      <td>4.443156e+05</td>\n",
       "      <td>60171.830879</td>\n",
       "      <td>59.925883</td>\n",
       "    </tr>\n",
       "    <tr>\n",
       "      <th>std</th>\n",
       "      <td>21457.545370</td>\n",
       "      <td>75.856491</td>\n",
       "      <td>1.261795</td>\n",
       "      <td>1.176397</td>\n",
       "      <td>0.557359</td>\n",
       "      <td>0.392881</td>\n",
       "      <td>1.765810</td>\n",
       "      <td>0.249449</td>\n",
       "      <td>3.621590e+05</td>\n",
       "      <td>25801.825766</td>\n",
       "      <td>25.832861</td>\n",
       "    </tr>\n",
       "    <tr>\n",
       "      <th>min</th>\n",
       "      <td>17.000000</td>\n",
       "      <td>9.000000</td>\n",
       "      <td>0.000000</td>\n",
       "      <td>0.000000</td>\n",
       "      <td>7.000000</td>\n",
       "      <td>0.000000</td>\n",
       "      <td>0.000000</td>\n",
       "      <td>1.000000</td>\n",
       "      <td>2.300000e+02</td>\n",
       "      <td>1000.000000</td>\n",
       "      <td>1.000000</td>\n",
       "    </tr>\n",
       "    <tr>\n",
       "      <th>25%</th>\n",
       "      <td>47781.000000</td>\n",
       "      <td>50.000000</td>\n",
       "      <td>2.000000</td>\n",
       "      <td>1.000000</td>\n",
       "      <td>8.000000</td>\n",
       "      <td>2.000000</td>\n",
       "      <td>1.000000</td>\n",
       "      <td>1.000000</td>\n",
       "      <td>2.430000e+05</td>\n",
       "      <td>34970.000000</td>\n",
       "      <td>34.000000</td>\n",
       "    </tr>\n",
       "    <tr>\n",
       "      <th>50%</th>\n",
       "      <td>67604.000000</td>\n",
       "      <td>70.000000</td>\n",
       "      <td>3.000000</td>\n",
       "      <td>2.000000</td>\n",
       "      <td>9.000000</td>\n",
       "      <td>2.000000</td>\n",
       "      <td>2.000000</td>\n",
       "      <td>1.000000</td>\n",
       "      <td>3.500000e+05</td>\n",
       "      <td>69270.000000</td>\n",
       "      <td>69.000000</td>\n",
       "    </tr>\n",
       "    <tr>\n",
       "      <th>75%</th>\n",
       "      <td>79389.000000</td>\n",
       "      <td>100.000000</td>\n",
       "      <td>4.000000</td>\n",
       "      <td>3.000000</td>\n",
       "      <td>9.000000</td>\n",
       "      <td>2.000000</td>\n",
       "      <td>2.000000</td>\n",
       "      <td>1.000000</td>\n",
       "      <td>5.300000e+05</td>\n",
       "      <td>75017.000000</td>\n",
       "      <td>75.000000</td>\n",
       "    </tr>\n",
       "    <tr>\n",
       "      <th>max</th>\n",
       "      <td>88980.000000</td>\n",
       "      <td>2500.000000</td>\n",
       "      <td>6.000000</td>\n",
       "      <td>6.000000</td>\n",
       "      <td>9.000000</td>\n",
       "      <td>6.000000</td>\n",
       "      <td>8.000000</td>\n",
       "      <td>2.000000</td>\n",
       "      <td>1.000000e+07</td>\n",
       "      <td>95880.000000</td>\n",
       "      <td>95.000000</td>\n",
       "    </tr>\n",
       "  </tbody>\n",
       "</table>\n",
       "</div>"
      ],
      "text/plain": [
       "           MandatId    SurfaceMin  NombrePiecesEnum  NombreChambresEnum  \\\n",
       "count  23220.000000  23220.000000      23220.000000        23220.000000   \n",
       "mean   61536.549785     81.305685          3.314686            2.228467   \n",
       "std    21457.545370     75.856491          1.261795            1.176397   \n",
       "min       17.000000      9.000000          0.000000            0.000000   \n",
       "25%    47781.000000     50.000000          2.000000            1.000000   \n",
       "50%    67604.000000     70.000000          3.000000            2.000000   \n",
       "75%    79389.000000    100.000000          4.000000            3.000000   \n",
       "max    88980.000000   2500.000000          6.000000            6.000000   \n",
       "\n",
       "       StatutProspectMandatClientID   TypeMission      TypeBien    TypeProjet  \\\n",
       "count                  23220.000000  23220.000000  23220.000000  23220.000000   \n",
       "mean                       8.616667      1.951766      2.190224      1.066667   \n",
       "std                        0.557359      0.392881      1.765810      0.249449   \n",
       "min                        7.000000      0.000000      0.000000      1.000000   \n",
       "25%                        8.000000      2.000000      1.000000      1.000000   \n",
       "50%                        9.000000      2.000000      2.000000      1.000000   \n",
       "75%                        9.000000      2.000000      2.000000      1.000000   \n",
       "max                        9.000000      6.000000      8.000000      2.000000   \n",
       "\n",
       "       BudgetMaxEuro    CodePostal           dpt  \n",
       "count   2.322000e+04  23220.000000  23220.000000  \n",
       "mean    4.443156e+05  60171.830879     59.925883  \n",
       "std     3.621590e+05  25801.825766     25.832861  \n",
       "min     2.300000e+02   1000.000000      1.000000  \n",
       "25%     2.430000e+05  34970.000000     34.000000  \n",
       "50%     3.500000e+05  69270.000000     69.000000  \n",
       "75%     5.300000e+05  75017.000000     75.000000  \n",
       "max     1.000000e+07  95880.000000     95.000000  "
      ]
     },
     "execution_count": 12,
     "metadata": {},
     "output_type": "execute_result"
    }
   ],
   "source": [
    "df.describe()"
   ]
  },
  {
   "cell_type": "code",
   "execution_count": 15,
   "id": "c15eace6",
   "metadata": {},
   "outputs": [],
   "source": [
    "X = df.drop([\"MandatId\",\"StatutProspectMandatClientID\", \"Departement\", \"Ville\", \"Region\", \"Succes\"], axis = 1)\n",
    "y = df[\"Succes\"]"
   ]
  },
  {
   "cell_type": "code",
   "execution_count": 16,
   "id": "ec5cb461",
   "metadata": {},
   "outputs": [],
   "source": [
    "X_train, X_test, y_train, y_test = train_test_split(X, y, test_size=0.25, random_state=42)"
   ]
  },
  {
   "cell_type": "code",
   "execution_count": 17,
   "id": "5c422a89",
   "metadata": {},
   "outputs": [],
   "source": [
    "from sklearn.preprocessing import StandardScaler\n",
    "scaler = StandardScaler()\n",
    "X_train = scaler.fit_transform(X_train)\n",
    "X_test = scaler.transform(X_test)"
   ]
  },
  {
   "cell_type": "code",
   "execution_count": 18,
   "id": "6f4385f9",
   "metadata": {},
   "outputs": [
    {
     "data": {
      "text/plain": [
       "LGBMClassifier()"
      ]
     },
     "execution_count": 18,
     "metadata": {},
     "output_type": "execute_result"
    }
   ],
   "source": [
    "import lightgbm as lgb\n",
    "clf = lgb.LGBMClassifier()\n",
    "clf.fit(X_train, y_train)"
   ]
  },
  {
   "cell_type": "code",
   "execution_count": 19,
   "id": "498adeea",
   "metadata": {},
   "outputs": [],
   "source": [
    "y_clf = clf.predict(X_test)"
   ]
  },
  {
   "cell_type": "code",
   "execution_count": 20,
   "id": "f15d5667",
   "metadata": {},
   "outputs": [
    {
     "name": "stdout",
     "output_type": "stream",
     "text": [
      "                  precision    recall  f1-score   support\n",
      "\n",
      "  Echec(Class 0)       0.76      0.94      0.84      3754\n",
      "Succès (Class 1)       0.81      0.47      0.59      2051\n",
      "\n",
      "        accuracy                           0.77      5805\n",
      "       macro avg       0.79      0.70      0.72      5805\n",
      "    weighted avg       0.78      0.77      0.75      5805\n",
      "\n"
     ]
    }
   ],
   "source": [
    "from sklearn.metrics import classification_report\n",
    "print(classification_report(y_test,y_clf,target_names = ['Echec(Class 0)','Succès (Class 1)']))"
   ]
  },
  {
   "cell_type": "code",
   "execution_count": 21,
   "id": "5f893ae4",
   "metadata": {},
   "outputs": [
    {
     "data": {
      "text/plain": [
       "<AxesSubplot:>"
      ]
     },
     "execution_count": 21,
     "metadata": {},
     "output_type": "execute_result"
    },
    {
     "data": {
      "image/png": "[encoded data removed]",
      "text/plain": [
       "<Figure size 432x288 with 2 Axes>"
      ]
     },
     "metadata": {
      "needs_background": "light"
     },
     "output_type": "display_data"
    }
   ],
   "source": [
    "cm = confusion_matrix(y_test,clf.predict(X_test))\n",
    "sns.heatmap(cm,annot=True,fmt=\"d\")"
   ]
  },
  {
   "cell_type": "code",
   "execution_count": 22,
   "id": "d4bff0c5",
   "metadata": {},
   "outputs": [
    {
     "data": {
      "image/png": "[encoded data removed]",
      "text/plain": [
       "<Figure size 432x288 with 1 Axes>"
      ]
     },
     "metadata": {
      "needs_background": "light"
     },
     "output_type": "display_data"
    }
   ],
   "source": [
    "from sklearn.metrics import plot_roc_curve\n",
    "plot_roc_curve(clf, X_train,y_train )\n",
    "plt.plot([0,1],[0,1])\n",
    "plt.xlabel('false positive')\n",
    "plt.ylabel('true positve')\n",
    "plt.title('ROC curve LGBMClassifier')\n",
    "plt.show()"
   ]
  },
  {
   "cell_type": "code",
   "execution_count": 23,
   "id": "e9efb67f",
   "metadata": {},
   "outputs": [
    {
     "name": "stderr",
     "output_type": "stream",
     "text": [
      "C:\\Users\\Lou Doussiet\\AppData\\Roaming\\Python\\Python38\\site-packages\\xgboost\\compat.py:93: FutureWarning: pandas.Int64Index is deprecated and will be removed from pandas in a future version. Use pandas.Index with the appropriate dtype instead.\n",
      "  from pandas import MultiIndex, Int64Index\n"
     ]
    },
    {
     "data": {
      "text/plain": [
       "XGBClassifier(base_score=0.5, booster='gbtree', colsample_bylevel=1,\n",
       "              colsample_bynode=1, colsample_bytree=1, gamma=0, gpu_id=-1,\n",
       "              importance_type='gain', interaction_constraints='',\n",
       "              learning_rate=0.300000012, max_delta_step=0, max_depth=6,\n",
       "              min_child_weight=1, missing=nan, monotone_constraints='()',\n",
       "              n_estimators=100, n_jobs=0, num_parallel_tree=1, random_state=0,\n",
       "              reg_alpha=0, reg_lambda=1, scale_pos_weight=1, subsample=1,\n",
       "              tree_method='exact', validate_parameters=1, verbosity=None)"
      ]
     },
     "execution_count": 23,
     "metadata": {},
     "output_type": "execute_result"
    }
   ],
   "source": [
    "from xgboost import XGBClassifier\n",
    "xgb = XGBClassifier(objective='binary:logistic')\n",
    "xgb.fit(X_train, y_train,eval_metric = \"logloss\",verbose=True)"
   ]
  },
  {
   "cell_type": "code",
   "execution_count": 24,
   "id": "f4554826",
   "metadata": {},
   "outputs": [],
   "source": [
    "y_xgb = xgb.predict(X_test)"
   ]
  },
  {
   "cell_type": "code",
   "execution_count": 25,
   "id": "2f641bfe",
   "metadata": {},
   "outputs": [
    {
     "name": "stdout",
     "output_type": "stream",
     "text": [
      "                  precision    recall  f1-score   support\n",
      "\n",
      "  Echec(Class 0)       0.81      0.91      0.86      3754\n",
      "Succès (Class 1)       0.79      0.60      0.68      2051\n",
      "\n",
      "        accuracy                           0.80      5805\n",
      "       macro avg       0.80      0.76      0.77      5805\n",
      "    weighted avg       0.80      0.80      0.80      5805\n",
      "\n"
     ]
    }
   ],
   "source": [
    "from sklearn.metrics import classification_report\n",
    "print(classification_report(y_test,y_xgb,target_names = ['Echec(Class 0)','Succès (Class 1)']))"
   ]
  },
  {
   "cell_type": "code",
   "execution_count": 26,
   "id": "11b5e818",
   "metadata": {},
   "outputs": [
    {
     "data": {
      "text/plain": [
       "<AxesSubplot:>"
      ]
     },
     "execution_count": 26,
     "metadata": {},
     "output_type": "execute_result"
    },
    {
     "data": {
      "image/png": "[encoded data removed]",
      "text/plain": [
       "<Figure size 432x288 with 2 Axes>"
      ]
     },
     "metadata": {
      "needs_background": "light"
     },
     "output_type": "display_data"
    }
   ],
   "source": [
    "cm = confusion_matrix(y_test,xgb.predict(X_test))\n",
    "sns.heatmap(cm,annot=True,fmt=\"d\")"
   ]
  },
  {
   "cell_type": "code",
   "execution_count": 27,
   "id": "9457e009",
   "metadata": {},
   "outputs": [
    {
     "data": {
      "image/png": "[encoded data removed]",
      "text/plain": [
       "<Figure size 432x288 with 1 Axes>"
      ]
     },
     "metadata": {
      "needs_background": "light"
     },
     "output_type": "display_data"
    }
   ],
   "source": [
    "from sklearn.metrics import plot_roc_curve\n",
    "plot_roc_curve(xgb, X_train,y_train )\n",
    "plt.plot([0,1],[0,1])\n",
    "plt.xlabel('false positive')\n",
    "plt.ylabel('true positve')\n",
    "plt.title('ROC curve XGBClassifier')\n",
    "plt.show()"
   ]
  },
  {
   "cell_type": "code",
   "execution_count": 28,
   "id": "e483ca37",
   "metadata": {},
   "outputs": [
    {
     "name": "stdout",
     "output_type": "stream",
     "text": [
      "Requirement already satisfied: lazypredict in c:\\users\\lou doussiet\\appdata\\roaming\\python\\python38\\site-packages (0.2.9)\n",
      "Requirement already satisfied: PyYAML==5.3.1 in c:\\users\\lou doussiet\\appdata\\roaming\\python\\python38\\site-packages (from lazypredict) (5.3.1)\n",
      "Collecting numpy==1.19.1\n",
      "  Using cached numpy-1.19.1-cp38-cp38-win_amd64.whl (13.0 MB)\n",
      "Collecting pandas==1.0.5\n",
      "  Using cached pandas-1.0.5-cp38-cp38-win_amd64.whl (8.9 MB)\n",
      "Collecting scikit-learn==0.23.1\n",
      "  Using cached scikit_learn-0.23.1-cp38-cp38-win_amd64.whl (6.8 MB)\n",
      "Requirement already satisfied: six==1.15.0 in c:\\anaconda3\\lib\\site-packages (from lazypredict) (1.15.0)\n",
      "Requirement already satisfied: tqdm==4.56.0 in c:\\users\\lou doussiet\\appdata\\roaming\\python\\python38\\site-packages (from lazypredict) (4.56.0)\n",
      "Collecting joblib==1.0.0\n",
      "  Using cached joblib-1.0.0-py3-none-any.whl (302 kB)\n",
      "Requirement already satisfied: xgboost==1.1.1 in c:\\users\\lou doussiet\\appdata\\roaming\\python\\python38\\site-packages (from lazypredict) (1.1.1)\n",
      "Collecting lightgbm==2.3.1\n",
      "  Using cached lightgbm-2.3.1-py2.py3-none-win_amd64.whl (544 kB)\n",
      "Requirement already satisfied: pytest==5.4.3 in c:\\users\\lou doussiet\\appdata\\roaming\\python\\python38\\site-packages (from lazypredict) (5.4.3)\n",
      "Requirement already satisfied: click==7.1.2 in c:\\users\\lou doussiet\\appdata\\roaming\\python\\python38\\site-packages (from lazypredict) (7.1.2)\n",
      "Requirement already satisfied: scipy==1.5.4 in c:\\users\\lou doussiet\\appdata\\roaming\\python\\python38\\site-packages (from lazypredict) (1.5.4)\n",
      "Requirement already satisfied: python-dateutil>=2.6.1 in c:\\anaconda3\\lib\\site-packages (from pandas==1.0.5->lazypredict) (2.8.2)\n",
      "Requirement already satisfied: pytz>=2017.2 in c:\\anaconda3\\lib\\site-packages (from pandas==1.0.5->lazypredict) (2021.3)\n",
      "Requirement already satisfied: more-itertools>=4.0.0 in c:\\anaconda3\\lib\\site-packages (from pytest==5.4.3->lazypredict) (8.12.0)\n",
      "Requirement already satisfied: wcwidth in c:\\anaconda3\\lib\\site-packages (from pytest==5.4.3->lazypredict) (0.2.5)\n",
      "Requirement already satisfied: atomicwrites>=1.0 in c:\\anaconda3\\lib\\site-packages (from pytest==5.4.3->lazypredict) (1.4.0)\n",
      "Requirement already satisfied: pluggy<1.0,>=0.12 in c:\\users\\lou doussiet\\appdata\\roaming\\python\\python38\\site-packages (from pytest==5.4.3->lazypredict) (0.13.1)\n",
      "Requirement already satisfied: attrs>=17.4.0 in c:\\anaconda3\\lib\\site-packages (from pytest==5.4.3->lazypredict) (21.4.0)\n",
      "Requirement already satisfied: packaging in c:\\anaconda3\\lib\\site-packages (from pytest==5.4.3->lazypredict) (21.3)\n",
      "Requirement already satisfied: py>=1.5.0 in c:\\anaconda3\\lib\\site-packages (from pytest==5.4.3->lazypredict) (1.11.0)\n",
      "Requirement already satisfied: colorama in c:\\anaconda3\\lib\\site-packages (from pytest==5.4.3->lazypredict) (0.4.4)\n",
      "Requirement already satisfied: threadpoolctl>=2.0.0 in c:\\anaconda3\\lib\\site-packages (from scikit-learn==0.23.1->lazypredict) (2.2.0)\n",
      "Requirement already satisfied: pyparsing!=3.0.5,>=2.0.2 in c:\\anaconda3\\lib\\site-packages (from packaging->pytest==5.4.3->lazypredict) (3.0.4)\n",
      "Installing collected packages: numpy, joblib, pandas, scikit-learn, lightgbm\n",
      "  Attempting uninstall: numpy\n",
      "    Found existing installation: numpy 1.21.5\n",
      "    Uninstalling numpy-1.21.5:\n",
      "      Successfully uninstalled numpy-1.21.5\n"
     ]
    },
    {
     "name": "stderr",
     "output_type": "stream",
     "text": [
      "WARNING: Ignoring invalid distribution -illow (c:\\anaconda3\\lib\\site-packages)\n",
      "WARNING: Ignoring invalid distribution -illow (c:\\anaconda3\\lib\\site-packages)\n",
      "WARNING: Ignoring invalid distribution -illow (c:\\anaconda3\\lib\\site-packages)\n",
      "    WARNING: Ignoring invalid distribution -illow (c:\\anaconda3\\lib\\site-packages)\n",
      "ERROR: Could not install packages due to an OSError: [WinError 5] Accès refusé: 'C:\\\\Users\\\\Lou Doussiet\\\\AppData\\\\Local\\\\Temp\\\\pip-uninstall-nff8ins7\\\\core\\\\_multiarray_tests.cp38-win_amd64.pyd'\n",
      "Consider using the `--user` option or check the permissions.\n",
      "\n",
      "WARNING: Ignoring invalid distribution -illow (c:\\anaconda3\\lib\\site-packages)\n"
     ]
    }
   ],
   "source": [
    "!pip install lazypredict"
   ]
  },
  {
   "cell_type": "code",
   "execution_count": 29,
   "id": "77853f78",
   "metadata": {},
   "outputs": [],
   "source": [
    "import lazypredict"
   ]
  },
  {
   "cell_type": "code",
   "execution_count": null,
   "id": "c7b58eed",
   "metadata": {},
   "outputs": [],
   "source": []
  }
 ],
 "metadata": {
  "kernelspec": {
   "display_name": "Python 3 (ipykernel)",
   "language": "python",
   "name": "python3"
  },
  "language_info": {
   "codemirror_mode": {
    "name": "ipython",
    "version": 3
   },
   "file_extension": ".py",
   "mimetype": "text/x-python",
   "name": "python",
   "nbconvert_exporter": "python",
   "pygments_lexer": "ipython3",
   "version": "3.8.12"
  }
 },
 "nbformat": 4,
 "nbformat_minor": 5
}
