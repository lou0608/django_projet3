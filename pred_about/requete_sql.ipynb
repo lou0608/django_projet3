{
 "cells": [
  {
   "cell_type": "code",
   "execution_count": 1,
   "id": "ff21cc01",
   "metadata": {},
   "outputs": [],
   "source": [
    "import pyodbc\n",
    "import pandas as pd\n",
    "import numpy as np"
   ]
  },
  {
   "cell_type": "code",
   "execution_count": 2,
   "id": "e30d2442",
   "metadata": {},
   "outputs": [
    {
     "name": "stdout",
     "output_type": "stream",
     "text": [
      "sys.version_info(major=3, minor=8, micro=8, releaselevel='final', serial=0)\n",
      "C:\\anaconda3\n"
     ]
    }
   ],
   "source": [
    "import os\n",
    "import sys\n",
    "print(sys.version_info)\n",
    "print(os.path.dirname(sys.executable))"
   ]
  },
  {
   "cell_type": "code",
   "execution_count": 3,
   "id": "dadd9427",
   "metadata": {},
   "outputs": [],
   "source": [
    "# création d'une fonction de gestionnaire de type de donnée pour convertir les types voulu en type supporter par ODBC"
   ]
  },
  {
   "cell_type": "code",
   "execution_count": 4,
   "id": "022110a5",
   "metadata": {},
   "outputs": [],
   "source": [
    "server = 'sql-mcibusxrm-dev.database.windows.net'\n",
    "database = 'sqldb-mcibusxrm-dev'\n",
    "username = 'sql-mcibusxrm-dev'\n",
    "password = '{pzR28UcutX26GdAJLWm9SXw}'\n",
    "driver= '{ODBC Driver 17 for SQL Server}'\n",
    "\n",
    "conn = pyodbc.connect('DRIVER='+driver+';SERVER=tcp:'+server+';PORT=1433;DATABASE='+database+';UID='+username+';PWD='+ password)\n",
    "cursor = conn.cursor()\n",
    "#cursor.execute(\"SELECT TOP 100000 Lieu FROM dbo.Criteres\")"
   ]
  },
  {
   "cell_type": "markdown",
   "id": "c6815f86",
   "metadata": {},
   "source": [
    "import pandas as pd\n",
    "\n",
    "df = pd.read_sql(\"SELECT TOP 5 Lieu, Quartier, TypeBienEnum, TypeProjet, BudgetMinEuro, BudgetMaxEuro FROM dbo.Criteres, dbo.Mandat WHERE Lieu IS NOT NULL\", conn)\n",
    "df.head()"
   ]
  },
  {
   "cell_type": "markdown",
   "id": "eb258828",
   "metadata": {},
   "source": [
    "# dbo.Criteres"
   ]
  },
  {
   "cell_type": "code",
   "execution_count": 5,
   "id": "4176d3d7",
   "metadata": {},
   "outputs": [],
   "source": [
    "import pandas as pd"
   ]
  },
  {
   "cell_type": "code",
   "execution_count": 6,
   "id": "a0f63c38",
   "metadata": {},
   "outputs": [
    {
     "data": {
      "text/html": [
       "<div>\n",
       "<style scoped>\n",
       "    .dataframe tbody tr th:only-of-type {\n",
       "        vertical-align: middle;\n",
       "    }\n",
       "\n",
       "    .dataframe tbody tr th {\n",
       "        vertical-align: top;\n",
       "    }\n",
       "\n",
       "    .dataframe thead th {\n",
       "        text-align: right;\n",
       "    }\n",
       "</style>\n",
       "<table border=\"1\" class=\"dataframe\">\n",
       "  <thead>\n",
       "    <tr style=\"text-align: right;\">\n",
       "      <th></th>\n",
       "      <th>CritereId</th>\n",
       "      <th>Lieu</th>\n",
       "      <th>Quartier</th>\n",
       "      <th>TypeBienEnum</th>\n",
       "      <th>TypeProjet</th>\n",
       "      <th>BudgetMinEuro</th>\n",
       "      <th>BudgetMaxEuro</th>\n",
       "      <th>SurfaceMin</th>\n",
       "      <th>SurfaceMax</th>\n",
       "      <th>NombrePiecesEnum</th>\n",
       "      <th>...</th>\n",
       "      <th>AutreCritere3</th>\n",
       "      <th>AutreCritere4</th>\n",
       "      <th>AutreCritere5</th>\n",
       "      <th>CommentaireTravauxAcceptes</th>\n",
       "      <th>CommentaireSituation</th>\n",
       "      <th>CommentaireStyle</th>\n",
       "      <th>CommentaireNetAcheteur</th>\n",
       "      <th>EcheanceProjetEnum</th>\n",
       "      <th>AncienNeufBien</th>\n",
       "      <th>HorairesVisite</th>\n",
       "    </tr>\n",
       "  </thead>\n",
       "  <tbody>\n",
       "    <tr>\n",
       "      <th>0</th>\n",
       "      <td>1</td>\n",
       "      <td>Paris</td>\n",
       "      <td>None</td>\n",
       "      <td>2</td>\n",
       "      <td>Résidence principale</td>\n",
       "      <td>350000</td>\n",
       "      <td>450000</td>\n",
       "      <td>0</td>\n",
       "      <td>0</td>\n",
       "      <td>0</td>\n",
       "      <td>...</td>\n",
       "      <td>None</td>\n",
       "      <td>None</td>\n",
       "      <td>None</td>\n",
       "      <td>None</td>\n",
       "      <td>None</td>\n",
       "      <td>None</td>\n",
       "      <td>None</td>\n",
       "      <td>0</td>\n",
       "      <td>0</td>\n",
       "      <td>None</td>\n",
       "    </tr>\n",
       "    <tr>\n",
       "      <th>1</th>\n",
       "      <td>2</td>\n",
       "      <td>Nimes ou Montpellier</td>\n",
       "      <td>ville idéalement</td>\n",
       "      <td>1</td>\n",
       "      <td>Résidence principale</td>\n",
       "      <td>0</td>\n",
       "      <td>280000</td>\n",
       "      <td>0</td>\n",
       "      <td>0</td>\n",
       "      <td>5</td>\n",
       "      <td>...</td>\n",
       "      <td>ext</td>\n",
       "      <td></td>\n",
       "      <td></td>\n",
       "      <td>oui</td>\n",
       "      <td></td>\n",
       "      <td>ancien</td>\n",
       "      <td></td>\n",
       "      <td>0</td>\n",
       "      <td>2</td>\n",
       "      <td>None</td>\n",
       "    </tr>\n",
       "    <tr>\n",
       "      <th>2</th>\n",
       "      <td>3</td>\n",
       "      <td>34000</td>\n",
       "      <td></td>\n",
       "      <td>2</td>\n",
       "      <td>Résidence principale</td>\n",
       "      <td>0</td>\n",
       "      <td>300000</td>\n",
       "      <td>70</td>\n",
       "      <td>0</td>\n",
       "      <td>3</td>\n",
       "      <td>...</td>\n",
       "      <td></td>\n",
       "      <td></td>\n",
       "      <td></td>\n",
       "      <td>oui</td>\n",
       "      <td></td>\n",
       "      <td></td>\n",
       "      <td>financement a verifier</td>\n",
       "      <td>0</td>\n",
       "      <td>0</td>\n",
       "      <td>None</td>\n",
       "    </tr>\n",
       "    <tr>\n",
       "      <th>3</th>\n",
       "      <td>4</td>\n",
       "      <td>Clapiers</td>\n",
       "      <td></td>\n",
       "      <td>4</td>\n",
       "      <td></td>\n",
       "      <td>0</td>\n",
       "      <td>300000</td>\n",
       "      <td>0</td>\n",
       "      <td>0</td>\n",
       "      <td>0</td>\n",
       "      <td>...</td>\n",
       "      <td></td>\n",
       "      <td></td>\n",
       "      <td></td>\n",
       "      <td></td>\n",
       "      <td></td>\n",
       "      <td></td>\n",
       "      <td></td>\n",
       "      <td>0</td>\n",
       "      <td>0</td>\n",
       "      <td>None</td>\n",
       "    </tr>\n",
       "    <tr>\n",
       "      <th>4</th>\n",
       "      <td>5</td>\n",
       "      <td>Montpellier EST</td>\n",
       "      <td>Richter, Antigone, Pompignane, Port Marianne, ...</td>\n",
       "      <td>2</td>\n",
       "      <td>Investissement</td>\n",
       "      <td>0</td>\n",
       "      <td>250000</td>\n",
       "      <td>60</td>\n",
       "      <td>0</td>\n",
       "      <td>3</td>\n",
       "      <td>...</td>\n",
       "      <td>Immeuble de 1995 à nos jour ou avant 1970 (mai...</td>\n",
       "      <td>Minimum 15% de travaux pour réaliser déficit f...</td>\n",
       "      <td></td>\n",
       "      <td>oui</td>\n",
       "      <td></td>\n",
       "      <td></td>\n",
       "      <td></td>\n",
       "      <td>0</td>\n",
       "      <td>2</td>\n",
       "      <td>None</td>\n",
       "    </tr>\n",
       "  </tbody>\n",
       "</table>\n",
       "<p>5 rows × 24 columns</p>\n",
       "</div>"
      ],
      "text/plain": [
       "   CritereId                  Lieu  \\\n",
       "0          1                 Paris   \n",
       "1          2  Nimes ou Montpellier   \n",
       "2          3                 34000   \n",
       "3          4              Clapiers   \n",
       "4          5      Montpellier EST    \n",
       "\n",
       "                                            Quartier  TypeBienEnum  \\\n",
       "0                                               None             2   \n",
       "1                                   ville idéalement             1   \n",
       "2                                                                2   \n",
       "3                                                                4   \n",
       "4  Richter, Antigone, Pompignane, Port Marianne, ...             2   \n",
       "\n",
       "             TypeProjet  BudgetMinEuro  BudgetMaxEuro  SurfaceMin  SurfaceMax  \\\n",
       "0  Résidence principale         350000         450000           0           0   \n",
       "1  Résidence principale              0         280000           0           0   \n",
       "2  Résidence principale              0         300000          70           0   \n",
       "3                                    0         300000           0           0   \n",
       "4        Investissement              0         250000          60           0   \n",
       "\n",
       "   NombrePiecesEnum  ...                                      AutreCritere3  \\\n",
       "0                 0  ...                                               None   \n",
       "1                 5  ...                                                ext   \n",
       "2                 3  ...                                                      \n",
       "3                 0  ...                                                      \n",
       "4                 3  ...  Immeuble de 1995 à nos jour ou avant 1970 (mai...   \n",
       "\n",
       "                                       AutreCritere4 AutreCritere5  \\\n",
       "0                                               None          None   \n",
       "1                                                                    \n",
       "2                                                                    \n",
       "3                                                                    \n",
       "4  Minimum 15% de travaux pour réaliser déficit f...                 \n",
       "\n",
       "  CommentaireTravauxAcceptes CommentaireSituation CommentaireStyle  \\\n",
       "0                       None                 None             None   \n",
       "1                        oui                                ancien   \n",
       "2                       oui                                          \n",
       "3                                                                    \n",
       "4                        oui                                         \n",
       "\n",
       "   CommentaireNetAcheteur EcheanceProjetEnum AncienNeufBien HorairesVisite  \n",
       "0                    None                  0              0           None  \n",
       "1                                          0              2           None  \n",
       "2  financement a verifier                  0              0           None  \n",
       "3                                          0              0           None  \n",
       "4                                          0              2           None  \n",
       "\n",
       "[5 rows x 24 columns]"
      ]
     },
     "execution_count": 6,
     "metadata": {},
     "output_type": "execute_result"
    }
   ],
   "source": [
    "df0 = pd.read_sql(\"SELECT * FROM dbo.Criteres \", conn)\n",
    "df0.head()"
   ]
  },
  {
   "cell_type": "code",
   "execution_count": null,
   "id": "60ac89d8",
   "metadata": {},
   "outputs": [],
   "source": [
    "df0[\"AncienNeufBien\"].value_counts()"
   ]
  },
  {
   "cell_type": "code",
   "execution_count": null,
   "id": "8b1982d9",
   "metadata": {},
   "outputs": [],
   "source": [
    "df0[\"TypeBienEnum\"].value_counts()"
   ]
  },
  {
   "cell_type": "code",
   "execution_count": null,
   "id": "ed964020",
   "metadata": {},
   "outputs": [],
   "source": [
    "df0[\"TypeProjet\"].value_counts()"
   ]
  },
  {
   "cell_type": "code",
   "execution_count": null,
   "id": "3f4bd261",
   "metadata": {},
   "outputs": [],
   "source": [
    "df0[\"TypeProjet\"].isnull().sum()"
   ]
  },
  {
   "cell_type": "code",
   "execution_count": null,
   "id": "0375fa15",
   "metadata": {},
   "outputs": [],
   "source": [
    "df0[\"TypeProjet\"]"
   ]
  },
  {
   "cell_type": "code",
   "execution_count": null,
   "id": "e86bf884",
   "metadata": {},
   "outputs": [],
   "source": [
    "df0.columns"
   ]
  },
  {
   "cell_type": "code",
   "execution_count": null,
   "id": "7b6576d9",
   "metadata": {},
   "outputs": [],
   "source": [
    "df0.info()"
   ]
  },
  {
   "cell_type": "code",
   "execution_count": null,
   "id": "02e21713",
   "metadata": {},
   "outputs": [],
   "source": []
  },
  {
   "cell_type": "code",
   "execution_count": null,
   "id": "e73f1abb",
   "metadata": {},
   "outputs": [],
   "source": [
    "df0.isnull().sum()"
   ]
  },
  {
   "cell_type": "code",
   "execution_count": null,
   "id": "741850d0",
   "metadata": {},
   "outputs": [],
   "source": [
    "df = pd.read_sql('''SELECT CritereId, Lieu, \n",
    "Quartier,TypeBienEnum, TypeProjet, \n",
    "BudgetMaxEuro, SurfaceMin, SurfaceMax, NombrePiecesEnum, NombreChambresEnum,\n",
    "AutreCritere1, CommentaireTravauxAcceptes\n",
    "FROM dbo.Criteres''', conn)"
   ]
  },
  {
   "cell_type": "code",
   "execution_count": null,
   "id": "3d22e6c3",
   "metadata": {},
   "outputs": [],
   "source": [
    "df.columns"
   ]
  },
  {
   "cell_type": "code",
   "execution_count": null,
   "id": "39059745",
   "metadata": {},
   "outputs": [],
   "source": [
    "df.head()"
   ]
  },
  {
   "cell_type": "code",
   "execution_count": null,
   "id": "3733fcb0",
   "metadata": {},
   "outputs": [],
   "source": [
    "df[\"TypeBienEnum\"].value_counts()"
   ]
  },
  {
   "cell_type": "code",
   "execution_count": null,
   "id": "ef7e3545",
   "metadata": {},
   "outputs": [],
   "source": [
    "df.info()"
   ]
  },
  {
   "cell_type": "code",
   "execution_count": null,
   "id": "554a6e94",
   "metadata": {},
   "outputs": [],
   "source": []
  },
  {
   "cell_type": "code",
   "execution_count": null,
   "id": "88547a40",
   "metadata": {},
   "outputs": [],
   "source": [
    "df.isnull().sum()"
   ]
  },
  {
   "cell_type": "raw",
   "id": "9f425e06",
   "metadata": {},
   "source": [
    "    TypeAgeBienEnum ==> Inconnu, Neuf, Ancien, Neuf ou Ancien\n",
    "    "
   ]
  },
  {
   "cell_type": "markdown",
   "id": "8be1be96",
   "metadata": {},
   "source": [
    "# dbo.Mandat"
   ]
  },
  {
   "cell_type": "code",
   "execution_count": null,
   "id": "45201886",
   "metadata": {},
   "outputs": [],
   "source": [
    "df_Mandat = pd.read_sql('''SELECT * FROM dbo.Mandat''', conn)"
   ]
  },
  {
   "cell_type": "code",
   "execution_count": null,
   "id": "b9e6349f",
   "metadata": {},
   "outputs": [],
   "source": [
    "df_Mandat.head()"
   ]
  },
  {
   "cell_type": "code",
   "execution_count": null,
   "id": "0f69a36e",
   "metadata": {},
   "outputs": [],
   "source": [
    "df_Mandat.info()"
   ]
  },
  {
   "cell_type": "code",
   "execution_count": null,
   "id": "c89c7d1f",
   "metadata": {},
   "outputs": [],
   "source": [
    "df_Mandat['TypeDeMission'].value_counts()"
   ]
  },
  {
   "cell_type": "code",
   "execution_count": null,
   "id": "a0809a37",
   "metadata": {},
   "outputs": [],
   "source": [
    "df_Mandat[\"PourcentageCommission\"].value_counts()"
   ]
  },
  {
   "cell_type": "code",
   "execution_count": null,
   "id": "b01ccd6b",
   "metadata": {},
   "outputs": [],
   "source": [
    "df_Mandat[\"TypeDeMandat\"].value_counts()"
   ]
  },
  {
   "cell_type": "code",
   "execution_count": null,
   "id": "8034ca44",
   "metadata": {},
   "outputs": [],
   "source": [
    "df_Mandat[\"StatutProspectMandatClientId\"].value_counts()"
   ]
  },
  {
   "cell_type": "code",
   "execution_count": null,
   "id": "3b841230",
   "metadata": {},
   "outputs": [],
   "source": [
    "df_Mandat[\"PrixAchatReel\"].value_counts()"
   ]
  },
  {
   "cell_type": "code",
   "execution_count": null,
   "id": "c322f045",
   "metadata": {},
   "outputs": [],
   "source": [
    "df2 = pd.read_sql('''SELECT CritereId, MandatId, ClientId, DateMandatPerte, \n",
    "DateMandatSignature, DateMandantEcheance, DateCompromisSignature,\n",
    "DateAchatCible, DateCompromisCible\n",
    "FROM dbo.Mandat''', conn)"
   ]
  },
  {
   "cell_type": "code",
   "execution_count": null,
   "id": "08c09c5f",
   "metadata": {},
   "outputs": [],
   "source": [
    "df2.info()"
   ]
  },
  {
   "cell_type": "code",
   "execution_count": null,
   "id": "b8c26001",
   "metadata": {},
   "outputs": [],
   "source": [
    "df2.columns"
   ]
  },
  {
   "cell_type": "code",
   "execution_count": null,
   "id": "27334483",
   "metadata": {},
   "outputs": [],
   "source": [
    "df2.head(50)"
   ]
  },
  {
   "cell_type": "code",
   "execution_count": null,
   "id": "d4429834",
   "metadata": {},
   "outputs": [],
   "source": []
  },
  {
   "cell_type": "code",
   "execution_count": null,
   "id": "b74f0f39",
   "metadata": {},
   "outputs": [],
   "source": [
    "df2.isnull().sum()"
   ]
  },
  {
   "cell_type": "code",
   "execution_count": null,
   "id": "a3afb0bc",
   "metadata": {},
   "outputs": [],
   "source": []
  },
  {
   "cell_type": "markdown",
   "id": "44620861",
   "metadata": {},
   "source": [
    "# dbo.CriteresMoteurLocalisation"
   ]
  },
  {
   "cell_type": "code",
   "execution_count": 5,
   "id": "7d878b5f",
   "metadata": {},
   "outputs": [
    {
     "data": {
      "text/html": [
       "<div>\n",
       "<style scoped>\n",
       "    .dataframe tbody tr th:only-of-type {\n",
       "        vertical-align: middle;\n",
       "    }\n",
       "\n",
       "    .dataframe tbody tr th {\n",
       "        vertical-align: top;\n",
       "    }\n",
       "\n",
       "    .dataframe thead th {\n",
       "        text-align: right;\n",
       "    }\n",
       "</style>\n",
       "<table border=\"1\" class=\"dataframe\">\n",
       "  <thead>\n",
       "    <tr style=\"text-align: right;\">\n",
       "      <th></th>\n",
       "      <th>CriteresMoteur_CriteresMoteurId</th>\n",
       "      <th>Localisation_LocalisationId</th>\n",
       "    </tr>\n",
       "  </thead>\n",
       "  <tbody>\n",
       "    <tr>\n",
       "      <th>0</th>\n",
       "      <td>14</td>\n",
       "      <td>34057</td>\n",
       "    </tr>\n",
       "    <tr>\n",
       "      <th>1</th>\n",
       "      <td>125</td>\n",
       "      <td>9927</td>\n",
       "    </tr>\n",
       "    <tr>\n",
       "      <th>2</th>\n",
       "      <td>125</td>\n",
       "      <td>9955</td>\n",
       "    </tr>\n",
       "    <tr>\n",
       "      <th>3</th>\n",
       "      <td>125</td>\n",
       "      <td>10045</td>\n",
       "    </tr>\n",
       "    <tr>\n",
       "      <th>4</th>\n",
       "      <td>125</td>\n",
       "      <td>10262</td>\n",
       "    </tr>\n",
       "  </tbody>\n",
       "</table>\n",
       "</div>"
      ],
      "text/plain": [
       "   CriteresMoteur_CriteresMoteurId  Localisation_LocalisationId\n",
       "0                               14                        34057\n",
       "1                              125                         9927\n",
       "2                              125                         9955\n",
       "3                              125                        10045\n",
       "4                              125                        10262"
      ]
     },
     "execution_count": 5,
     "metadata": {},
     "output_type": "execute_result"
    }
   ],
   "source": [
    "df_CriteresMoteurLocalisation = pd.read_sql('''SELECT * FROM dbo.CriteresMoteurLocalisation''', conn)\n",
    "df_CriteresMoteurLocalisation.head()"
   ]
  },
  {
   "cell_type": "code",
   "execution_count": 6,
   "id": "a8c90b46",
   "metadata": {},
   "outputs": [
    {
     "name": "stdout",
     "output_type": "stream",
     "text": [
      "<class 'pandas.core.frame.DataFrame'>\n",
      "RangeIndex: 91073 entries, 0 to 91072\n",
      "Data columns (total 2 columns):\n",
      " #   Column                           Non-Null Count  Dtype\n",
      "---  ------                           --------------  -----\n",
      " 0   CriteresMoteur_CriteresMoteurId  91073 non-null  int64\n",
      " 1   Localisation_LocalisationId      91073 non-null  int64\n",
      "dtypes: int64(2)\n",
      "memory usage: 1.4 MB\n"
     ]
    }
   ],
   "source": [
    "df_CriteresMoteurLocalisation.info()"
   ]
  },
  {
   "cell_type": "markdown",
   "id": "2efd3197",
   "metadata": {},
   "source": [
    "# dbo.Localisation"
   ]
  },
  {
   "cell_type": "code",
   "execution_count": 7,
   "id": "3cdcda21",
   "metadata": {},
   "outputs": [],
   "source": [
    "df_Localisation = pd.read_sql(\n",
    "'''\n",
    "SELECT * FROM dbo.Localisation\n",
    "''', conn\n",
    ")"
   ]
  },
  {
   "cell_type": "code",
   "execution_count": 8,
   "id": "44418bfc",
   "metadata": {},
   "outputs": [
    {
     "name": "stdout",
     "output_type": "stream",
     "text": [
      "<class 'pandas.core.frame.DataFrame'>\n",
      "RangeIndex: 39616 entries, 0 to 39615\n",
      "Data columns (total 7 columns):\n",
      " #   Column                      Non-Null Count  Dtype  \n",
      "---  ------                      --------------  -----  \n",
      " 0   LocalisationId              39616 non-null  int64  \n",
      " 1   Code                        39616 non-null  object \n",
      " 2   Nom                         39616 non-null  object \n",
      " 3   CodeInsee                   39488 non-null  object \n",
      " 4   Discriminator               39616 non-null  object \n",
      " 5   Region_LocalisationId       101 non-null    float64\n",
      " 6   Departement_LocalisationId  39488 non-null  float64\n",
      "dtypes: float64(2), int64(1), object(4)\n",
      "memory usage: 2.1+ MB\n"
     ]
    }
   ],
   "source": [
    "df_Localisation.info()"
   ]
  },
  {
   "cell_type": "code",
   "execution_count": 14,
   "id": "739c798a",
   "metadata": {},
   "outputs": [
    {
     "data": {
      "text/html": [
       "<div>\n",
       "<style scoped>\n",
       "    .dataframe tbody tr th:only-of-type {\n",
       "        vertical-align: middle;\n",
       "    }\n",
       "\n",
       "    .dataframe tbody tr th {\n",
       "        vertical-align: top;\n",
       "    }\n",
       "\n",
       "    .dataframe thead th {\n",
       "        text-align: right;\n",
       "    }\n",
       "</style>\n",
       "<table border=\"1\" class=\"dataframe\">\n",
       "  <thead>\n",
       "    <tr style=\"text-align: right;\">\n",
       "      <th></th>\n",
       "      <th>LocalisationId</th>\n",
       "      <th>Code</th>\n",
       "      <th>Nom</th>\n",
       "      <th>CodeInsee</th>\n",
       "      <th>Discriminator</th>\n",
       "      <th>Region_LocalisationId</th>\n",
       "      <th>Departement_LocalisationId</th>\n",
       "    </tr>\n",
       "  </thead>\n",
       "  <tbody>\n",
       "    <tr>\n",
       "      <th>0</th>\n",
       "      <td>1</td>\n",
       "      <td>42</td>\n",
       "      <td>Alsace</td>\n",
       "      <td>None</td>\n",
       "      <td>Region</td>\n",
       "      <td>NaN</td>\n",
       "      <td>NaN</td>\n",
       "    </tr>\n",
       "    <tr>\n",
       "      <th>1</th>\n",
       "      <td>2</td>\n",
       "      <td>72</td>\n",
       "      <td>Aquitaine</td>\n",
       "      <td>None</td>\n",
       "      <td>Region</td>\n",
       "      <td>NaN</td>\n",
       "      <td>NaN</td>\n",
       "    </tr>\n",
       "    <tr>\n",
       "      <th>2</th>\n",
       "      <td>3</td>\n",
       "      <td>83</td>\n",
       "      <td>Auvergne</td>\n",
       "      <td>None</td>\n",
       "      <td>Region</td>\n",
       "      <td>NaN</td>\n",
       "      <td>NaN</td>\n",
       "    </tr>\n",
       "    <tr>\n",
       "      <th>3</th>\n",
       "      <td>4</td>\n",
       "      <td>25</td>\n",
       "      <td>Basse-Normandie</td>\n",
       "      <td>None</td>\n",
       "      <td>Region</td>\n",
       "      <td>NaN</td>\n",
       "      <td>NaN</td>\n",
       "    </tr>\n",
       "    <tr>\n",
       "      <th>4</th>\n",
       "      <td>5</td>\n",
       "      <td>26</td>\n",
       "      <td>Bourgogne</td>\n",
       "      <td>None</td>\n",
       "      <td>Region</td>\n",
       "      <td>NaN</td>\n",
       "      <td>NaN</td>\n",
       "    </tr>\n",
       "    <tr>\n",
       "      <th>...</th>\n",
       "      <td>...</td>\n",
       "      <td>...</td>\n",
       "      <td>...</td>\n",
       "      <td>...</td>\n",
       "      <td>...</td>\n",
       "      <td>...</td>\n",
       "      <td>...</td>\n",
       "    </tr>\n",
       "    <tr>\n",
       "      <th>39601</th>\n",
       "      <td>40087</td>\n",
       "      <td>20221</td>\n",
       "      <td>Sant'Andréa-di-Cotone</td>\n",
       "      <td>2B293</td>\n",
       "      <td>Ville</td>\n",
       "      <td>NaN</td>\n",
       "      <td>61.0</td>\n",
       "    </tr>\n",
       "    <tr>\n",
       "      <th>39602</th>\n",
       "      <td>40088</td>\n",
       "      <td>20220</td>\n",
       "      <td>Sant'Antonino</td>\n",
       "      <td>2B296</td>\n",
       "      <td>Ville</td>\n",
       "      <td>NaN</td>\n",
       "      <td>61.0</td>\n",
       "    </tr>\n",
       "    <tr>\n",
       "      <th>39603</th>\n",
       "      <td>40100</td>\n",
       "      <td>20221</td>\n",
       "      <td>Santa-Maria-Poggio</td>\n",
       "      <td>2B311</td>\n",
       "      <td>Ville</td>\n",
       "      <td>NaN</td>\n",
       "      <td>61.0</td>\n",
       "    </tr>\n",
       "    <tr>\n",
       "      <th>39604</th>\n",
       "      <td>40101</td>\n",
       "      <td>20230</td>\n",
       "      <td>San-Nicolao</td>\n",
       "      <td>2B313</td>\n",
       "      <td>Ville</td>\n",
       "      <td>NaN</td>\n",
       "      <td>61.0</td>\n",
       "    </tr>\n",
       "    <tr>\n",
       "      <th>39605</th>\n",
       "      <td>40102</td>\n",
       "      <td>20246</td>\n",
       "      <td>Santo-Pietro-di-Tenda</td>\n",
       "      <td>2B314</td>\n",
       "      <td>Ville</td>\n",
       "      <td>NaN</td>\n",
       "      <td>61.0</td>\n",
       "    </tr>\n",
       "  </tbody>\n",
       "</table>\n",
       "<p>39606 rows × 7 columns</p>\n",
       "</div>"
      ],
      "text/plain": [
       "       LocalisationId   Code                    Nom CodeInsee Discriminator  \\\n",
       "0                   1     42                 Alsace      None        Region   \n",
       "1                   2     72              Aquitaine      None        Region   \n",
       "2                   3     83               Auvergne      None        Region   \n",
       "3                   4     25        Basse-Normandie      None        Region   \n",
       "4                   5     26              Bourgogne      None        Region   \n",
       "...               ...    ...                    ...       ...           ...   \n",
       "39601           40087  20221  Sant'Andréa-di-Cotone     2B293         Ville   \n",
       "39602           40088  20220          Sant'Antonino     2B296         Ville   \n",
       "39603           40100  20221     Santa-Maria-Poggio     2B311         Ville   \n",
       "39604           40101  20230            San-Nicolao     2B313         Ville   \n",
       "39605           40102  20246  Santo-Pietro-di-Tenda     2B314         Ville   \n",
       "\n",
       "       Region_LocalisationId  Departement_LocalisationId  \n",
       "0                        NaN                         NaN  \n",
       "1                        NaN                         NaN  \n",
       "2                        NaN                         NaN  \n",
       "3                        NaN                         NaN  \n",
       "4                        NaN                         NaN  \n",
       "...                      ...                         ...  \n",
       "39601                    NaN                        61.0  \n",
       "39602                    NaN                        61.0  \n",
       "39603                    NaN                        61.0  \n",
       "39604                    NaN                        61.0  \n",
       "39605                    NaN                        61.0  \n",
       "\n",
       "[39606 rows x 7 columns]"
      ]
     },
     "execution_count": 14,
     "metadata": {},
     "output_type": "execute_result"
    }
   ],
   "source": [
    "df_Localisation.head(-10)"
   ]
  },
  {
   "cell_type": "code",
   "execution_count": 10,
   "id": "0957b278",
   "metadata": {},
   "outputs": [
    {
     "data": {
      "text/plain": [
       "102.0    921\n",
       "108.0    831\n",
       "110.0    823\n",
       "89.0     794\n",
       "39.0     778\n",
       "        ... \n",
       "65.0     103\n",
       "76.0      54\n",
       "74.0      42\n",
       "75.0      42\n",
       "70.0      24\n",
       "Name: Departement_LocalisationId, Length: 96, dtype: int64"
      ]
     },
     "execution_count": 10,
     "metadata": {},
     "output_type": "execute_result"
    }
   ],
   "source": [
    "df_Localisation[\"Departement_LocalisationId\"].value_counts()"
   ]
  },
  {
   "cell_type": "markdown",
   "id": "1ba5e398",
   "metadata": {},
   "source": [
    "# dbo.LocalisationCritere"
   ]
  },
  {
   "cell_type": "code",
   "execution_count": null,
   "id": "58ce4832",
   "metadata": {},
   "outputs": [],
   "source": [
    "df_LocalisationCritere =pd.read_sql('''SELECT * FROM dbo.LocalisationCritere''', conn)"
   ]
  },
  {
   "cell_type": "code",
   "execution_count": null,
   "id": "9899185d",
   "metadata": {},
   "outputs": [],
   "source": [
    "df_LocalisationCritere.head()"
   ]
  },
  {
   "cell_type": "code",
   "execution_count": null,
   "id": "ce2baf9c",
   "metadata": {},
   "outputs": [],
   "source": [
    "df_LocalisationCritere.info()"
   ]
  },
  {
   "cell_type": "code",
   "execution_count": null,
   "id": "5d9a7305",
   "metadata": {},
   "outputs": [],
   "source": [
    "df_test = pd.merge(df_LocalisationCritere,df_Localisation, on='LocalisationId')\n",
    "df_test.head()"
   ]
  },
  {
   "cell_type": "code",
   "execution_count": null,
   "id": "141e5a09",
   "metadata": {},
   "outputs": [],
   "source": [
    "df_test.info()"
   ]
  },
  {
   "cell_type": "markdown",
   "id": "671d6760",
   "metadata": {},
   "source": [
    "# dbo.CriteresMoteur"
   ]
  },
  {
   "cell_type": "code",
   "execution_count": null,
   "id": "46c0d526",
   "metadata": {},
   "outputs": [],
   "source": [
    "df_crit_moteur = pd.read_sql(\n",
    "'''SELECT * FROM dbo.CriteresMoteur''', conn)\n",
    "df_crit_moteur.head()"
   ]
  },
  {
   "cell_type": "code",
   "execution_count": null,
   "id": "ebe5d0e4",
   "metadata": {},
   "outputs": [],
   "source": [
    "df_crit_moteur.info()"
   ]
  },
  {
   "cell_type": "code",
   "execution_count": null,
   "id": "a0a2fe46",
   "metadata": {},
   "outputs": [],
   "source": [
    "df_merged = pd.merge(df,df2, on='CritereId')\n",
    "df_merged.head()"
   ]
  },
  {
   "cell_type": "code",
   "execution_count": null,
   "id": "9ff200b5",
   "metadata": {},
   "outputs": [],
   "source": [
    "df_merged.columns"
   ]
  },
  {
   "cell_type": "code",
   "execution_count": null,
   "id": "1d12ee4f",
   "metadata": {},
   "outputs": [],
   "source": [
    "df_merged.info()"
   ]
  },
  {
   "cell_type": "code",
   "execution_count": null,
   "id": "580518a0",
   "metadata": {},
   "outputs": [],
   "source": [
    "df_merged[\"Lieu\"].value_counts()"
   ]
  },
  {
   "cell_type": "code",
   "execution_count": null,
   "id": "7051398e",
   "metadata": {},
   "outputs": [],
   "source": [
    "df_merged[\"Lieu\"].unique()"
   ]
  },
  {
   "cell_type": "code",
   "execution_count": null,
   "id": "8bdc5570",
   "metadata": {},
   "outputs": [],
   "source": [
    "df_merged[\"DateMandatSignature\"].value_counts()"
   ]
  },
  {
   "cell_type": "code",
   "execution_count": null,
   "id": "01081c17",
   "metadata": {
    "scrolled": true
   },
   "outputs": [],
   "source": [
    "df_merged"
   ]
  },
  {
   "cell_type": "code",
   "execution_count": null,
   "id": "30497dc1",
   "metadata": {},
   "outputs": [],
   "source": [
    "df_merged[\"DateCompromisSignature\"].value_counts()"
   ]
  },
  {
   "cell_type": "code",
   "execution_count": null,
   "id": "aaa6d7da",
   "metadata": {},
   "outputs": [],
   "source": [
    "df_merged.isnull().sum()"
   ]
  },
  {
   "cell_type": "code",
   "execution_count": null,
   "id": "d31163f5",
   "metadata": {},
   "outputs": [],
   "source": [
    "new_data = df_merged.dropna()\n",
    "new_data.head()\n"
   ]
  },
  {
   "cell_type": "code",
   "execution_count": null,
   "id": "101e7bd4",
   "metadata": {},
   "outputs": [],
   "source": [
    "new_data.info()"
   ]
  },
  {
   "cell_type": "code",
   "execution_count": null,
   "id": "6ab4c126",
   "metadata": {},
   "outputs": [],
   "source": [
    "df.head(1)"
   ]
  },
  {
   "cell_type": "code",
   "execution_count": null,
   "id": "fda64b94",
   "metadata": {},
   "outputs": [],
   "source": [
    "df0.head(1)"
   ]
  },
  {
   "cell_type": "code",
   "execution_count": null,
   "id": "3346aab0",
   "metadata": {},
   "outputs": [],
   "source": [
    "df2.head(1)"
   ]
  },
  {
   "cell_type": "code",
   "execution_count": null,
   "id": "24363ee2",
   "metadata": {},
   "outputs": [],
   "source": [
    "df_crit_moteur.head(1)"
   ]
  },
  {
   "cell_type": "code",
   "execution_count": null,
   "id": "126d5f4a",
   "metadata": {},
   "outputs": [],
   "source": [
    "df_CriteresMoteurLocalisation.head(1)"
   ]
  },
  {
   "cell_type": "code",
   "execution_count": null,
   "id": "9fcb812d",
   "metadata": {},
   "outputs": [],
   "source": [
    "df_Localisation.head(1)"
   ]
  },
  {
   "cell_type": "code",
   "execution_count": null,
   "id": "9237db68",
   "metadata": {},
   "outputs": [],
   "source": [
    "df_LocalisationCritere.head(1)"
   ]
  },
  {
   "cell_type": "code",
   "execution_count": null,
   "id": "f6e121e9",
   "metadata": {},
   "outputs": [],
   "source": [
    "df_test.head(1)"
   ]
  },
  {
   "cell_type": "code",
   "execution_count": null,
   "id": "326cb8a8",
   "metadata": {},
   "outputs": [],
   "source": [
    "df_merged.head(1)"
   ]
  },
  {
   "cell_type": "code",
   "execution_count": null,
   "id": "7d16d611",
   "metadata": {},
   "outputs": [],
   "source": [
    "df_merge2 = pd.merge(df_merged, df_test, on = \"CritereId\")\n",
    "df_merge2.head()"
   ]
  },
  {
   "cell_type": "markdown",
   "id": "68382302",
   "metadata": {},
   "source": [
    "Gestion des valeurs nulles"
   ]
  },
  {
   "cell_type": "code",
   "execution_count": null,
   "id": "6703f82c",
   "metadata": {},
   "outputs": [],
   "source": [
    "df_merge2.info()"
   ]
  },
  {
   "cell_type": "raw",
   "id": "136a73b4",
   "metadata": {},
   "source": [
    "DateMandatPerte               96275 - 13584 = 82691 \n",
    "* DateMandatSignature           96275 - 66084 = 30191 \n",
    "DateMandantEcheance           96275 - 66430 = 29845 \n",
    "DateCompromisSignature        96275 - 88364 = 7911 \n",
    "DateAchatCible                96275 - 70715 = 25560 \n",
    "DateCompromisCible            96275 - 70885 = 25390 \n",
    "\n",
    "\n",
    "ni echance ni perte\n",
    "\n",
    "filtrer mandat abouti: il faut selectionner les mandats qui n'ont pas de DateMandatPerte\n",
    "\n",
    "durée de recherche aboutis\n",
    "\n",
    "* date offre accepté sur le bien\n",
    "\n",
    "\n",
    "compromis ou actée statut bien mandat enum\n",
    "\n"
   ]
  },
  {
   "cell_type": "code",
   "execution_count": null,
   "id": "fb99a4af",
   "metadata": {},
   "outputs": [],
   "source": [
    "df_merge2.isnull().sum()"
   ]
  },
  {
   "cell_type": "code",
   "execution_count": null,
   "id": "292f8a7c",
   "metadata": {},
   "outputs": [],
   "source": [
    "df_merge2[\"DateMandatSignature\"]"
   ]
  },
  {
   "cell_type": "code",
   "execution_count": null,
   "id": "b0677340",
   "metadata": {},
   "outputs": [],
   "source": [
    "df_merge2.head()"
   ]
  },
  {
   "cell_type": "code",
   "execution_count": null,
   "id": "4096d468",
   "metadata": {},
   "outputs": [],
   "source": [
    "df_merge2[\"DateMandatSignature\"].min()"
   ]
  },
  {
   "cell_type": "code",
   "execution_count": null,
   "id": "8513f6df",
   "metadata": {},
   "outputs": [],
   "source": [
    "df_merge2[\"DateMandatSignature\"].max()"
   ]
  },
  {
   "cell_type": "code",
   "execution_count": null,
   "id": "4a53c19e",
   "metadata": {},
   "outputs": [],
   "source": [
    "x = df_merge2[\"DateMandatSignature\"].max() - df_merge2[\"DateMandatSignature\"].min()"
   ]
  },
  {
   "cell_type": "code",
   "execution_count": null,
   "id": "c863a7e9",
   "metadata": {},
   "outputs": [],
   "source": [
    "x"
   ]
  },
  {
   "cell_type": "code",
   "execution_count": null,
   "id": "693f9663",
   "metadata": {},
   "outputs": [],
   "source": [
    "#df_merge2.corr()"
   ]
  },
  {
   "cell_type": "markdown",
   "id": "93728467",
   "metadata": {},
   "source": [
    "NaT ==> valeur datetime manquante\n"
   ]
  },
  {
   "cell_type": "code",
   "execution_count": null,
   "id": "a7cbdabf",
   "metadata": {},
   "outputs": [],
   "source": [
    "df_essai = df_merge2[\"DateMandatSignature\"] - df_merge2[\"DateCompromisSignature\"]\n",
    "df_essai.value_counts()\n",
    "# calcul de la durée du mandat\n",
    "# entre la signature du mandat et la date de la signature du compromis\n",
    "\n",
    "# je peux créer une nouvelle colonne en faisant df[\"new_value\"] = df kflkfj - df fjkklf\n",
    "\n",
    "\n",
    "# verification de la credibilité des données calculées."
   ]
  },
  {
   "cell_type": "code",
   "execution_count": null,
   "id": "db78cef5",
   "metadata": {},
   "outputs": [],
   "source": [
    "import pandas as pd"
   ]
  },
  {
   "cell_type": "markdown",
   "id": "ba5ffb06",
   "metadata": {},
   "source": [
    "# dbo.BienMandat"
   ]
  },
  {
   "cell_type": "code",
   "execution_count": null,
   "id": "ab865760",
   "metadata": {},
   "outputs": [],
   "source": [
    "df_BienManndat_All = pd.read_sql('''SELECT * FROM dbo.BienMandat''', conn)"
   ]
  },
  {
   "cell_type": "code",
   "execution_count": null,
   "id": "37c87aa9",
   "metadata": {},
   "outputs": [],
   "source": [
    "df_BienMandat_All.head()"
   ]
  },
  {
   "cell_type": "code",
   "execution_count": null,
   "id": "5026218d",
   "metadata": {},
   "outputs": [],
   "source": [
    "df_Bien_Mandat = pd.read_sql('''SELECT BienMandatId, MandatId, DescriptionBien_TypeBienEnum, Statut, DescriptionBien_DateOffreAcceptee FROM dbo.BienMandat''', conn)\n"
   ]
  },
  {
   "cell_type": "code",
   "execution_count": null,
   "id": "2b9644bc",
   "metadata": {},
   "outputs": [],
   "source": [
    "df_Bien_Mandat.head()"
   ]
  },
  {
   "cell_type": "code",
   "execution_count": null,
   "id": "6d89b843",
   "metadata": {},
   "outputs": [],
   "source": [
    "df_Bien_Mandat[\"DescriptionBien_TypeBienEnum\"].value_counts()"
   ]
  },
  {
   "cell_type": "raw",
   "id": "be5d33a8",
   "metadata": {},
   "source": [
    "df_merge3 = pd.merge(df_merge2, df_Bien_Mandat, on= \"\")\n",
    "df_merge2 = pd.merge(df_merged, df_test, on = \"CritereId\")\n"
   ]
  },
  {
   "cell_type": "raw",
   "id": "9f076b87",
   "metadata": {},
   "source": [
    "selectionnez = 0\n",
    "maison = 1\n",
    "appartement = 2\n",
    "terrain = 3\n",
    "autre = 4\n",
    "studio = 5\n",
    "loacal = 6\n",
    "maison ou appartement = 7\n",
    "immeuble = 8"
   ]
  },
  {
   "cell_type": "code",
   "execution_count": null,
   "id": "25360b4d",
   "metadata": {},
   "outputs": [],
   "source": [
    "\n",
    "df_Bien_Mandat[\"Statut\"].value_counts()"
   ]
  },
  {
   "cell_type": "markdown",
   "id": "dd32431e",
   "metadata": {},
   "source": [
    "    Comment savoir a quoi correspond les valeurs de 0 à 7?\n",
    "    Stock, Nouveau, Selection, A visiter, Visité, Compromis, Acté, Rejeté\n",
    "    Ce qui m'interesse c'est : Compromis et Acté\n",
    "    \n",
    "    stock = 0\n",
    "    nouveau =1\n",
    "    selection = 2\n",
    "    a visiter = 3\n",
    "    visité = 4\n",
    "    compromis = 5\n",
    "    acté = 6\n",
    "    rejeté = 7"
   ]
  },
  {
   "cell_type": "markdown",
   "id": "22f93459",
   "metadata": {},
   "source": []
  },
  {
   "cell_type": "code",
   "execution_count": null,
   "id": "a1a95106",
   "metadata": {},
   "outputs": [],
   "source": [
    "df_Bien_Mandat.info()"
   ]
  },
  {
   "cell_type": "code",
   "execution_count": null,
   "id": "8e8f38d4",
   "metadata": {},
   "outputs": [],
   "source": [
    "df_Bien_Mandat[\"DescriptionBien_DateOffreAcceptee\"].value_counts()"
   ]
  },
  {
   "cell_type": "code",
   "execution_count": null,
   "id": "ac928f34",
   "metadata": {},
   "outputs": [],
   "source": [
    "df_Bien_Mandat.info()"
   ]
  },
  {
   "cell_type": "code",
   "execution_count": null,
   "id": "f0d9d003",
   "metadata": {},
   "outputs": [],
   "source": [
    "df_Bien_Mandat[\"MandatId\"].value_counts()"
   ]
  },
  {
   "cell_type": "code",
   "execution_count": null,
   "id": "b75f7118",
   "metadata": {},
   "outputs": [],
   "source": [
    "df_BienMandat_Fichier[\"BienMandatFichierId\"].value_counts()"
   ]
  },
  {
   "cell_type": "code",
   "execution_count": null,
   "id": "5e472b2b",
   "metadata": {},
   "outputs": [],
   "source": [
    "df_Bien_Fichier[\"DescriptionBien_DateOffreAcceptee\"].max()"
   ]
  },
  {
   "cell_type": "code",
   "execution_count": null,
   "id": "ccea8734",
   "metadata": {},
   "outputs": [],
   "source": [
    "df_Bien_Mandat[\"MandatId\"].min()"
   ]
  },
  {
   "cell_type": "code",
   "execution_count": null,
   "id": "0fa03d79",
   "metadata": {},
   "outputs": [],
   "source": [
    "df_BienMandat_Fichier = pd.read_sql('''\n",
    "SELECT * FROM dbo.BienMandatFichier\n",
    "''', conn)"
   ]
  },
  {
   "cell_type": "code",
   "execution_count": null,
   "id": "a29c2ef0",
   "metadata": {},
   "outputs": [],
   "source": [
    "df_BienMandat_Fichier.head()"
   ]
  },
  {
   "cell_type": "code",
   "execution_count": null,
   "id": "9a848b86",
   "metadata": {},
   "outputs": [],
   "source": []
  },
  {
   "cell_type": "markdown",
   "id": "9c65fae1",
   "metadata": {},
   "source": [
    "# Visualisation des données"
   ]
  },
  {
   "cell_type": "raw",
   "id": "455d73cf",
   "metadata": {},
   "source": [
    "les lieux/villes et les temps de recherche\n",
    "\n",
    "\n",
    "\n"
   ]
  },
  {
   "cell_type": "raw",
   "id": "992ba728",
   "metadata": {},
   "source": [
    "import plotly.express as px\n",
    "fig = px.bar(x=[\"BudgetMinEuro\"], y=[\"BudgetMaxEuro\"])\n",
    "fig.show()"
   ]
  },
  {
   "cell_type": "code",
   "execution_count": null,
   "id": "0ea00a71",
   "metadata": {},
   "outputs": [],
   "source": [
    "import matplotlib.pyplot as plt\n",
    "import seaborn as sns"
   ]
  },
  {
   "cell_type": "code",
   "execution_count": null,
   "id": "25c7009f",
   "metadata": {},
   "outputs": [],
   "source": []
  },
  {
   "cell_type": "markdown",
   "id": "cd546d24",
   "metadata": {},
   "source": [
    "plt.figure(figsize=(12,8))\n",
    "sns.histplot(df_merged[\"Lieu\"].fillna(\"AUTRES\"))\n",
    "plt.title(\"Fréquence des codes pays\")\n",
    "plt.show()"
   ]
  },
  {
   "cell_type": "markdown",
   "id": "801af595",
   "metadata": {},
   "source": [
    "Traitement des données\n",
    "\n",
    "verification des bonnes features\n",
    "\n",
    "gestion de la localisation\n",
    "gestion et traitement des dates des dates\n",
    "creation d'un df ville/population a mettre en cohesion avec les villes\n",
    "gestion des valeurs manquantes !!!\n"
   ]
  },
  {
   "cell_type": "code",
   "execution_count": null,
   "id": "397ddb5b",
   "metadata": {},
   "outputs": [],
   "source": []
  }
 ],
 "metadata": {
  "kernelspec": {
   "display_name": "Python 3 (ipykernel)",
   "language": "python",
   "name": "python3"
  },
  "language_info": {
   "codemirror_mode": {
    "name": "ipython",
    "version": 3
   },
   "file_extension": ".py",
   "mimetype": "text/x-python",
   "name": "python",
   "nbconvert_exporter": "python",
   "pygments_lexer": "ipython3",
   "version": "3.8.12"
  }
 },
 "nbformat": 4,
 "nbformat_minor": 5
}
