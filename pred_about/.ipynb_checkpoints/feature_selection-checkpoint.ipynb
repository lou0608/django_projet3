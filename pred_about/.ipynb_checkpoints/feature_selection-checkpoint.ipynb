{
 "cells": [
  {
   "cell_type": "code",
   "execution_count": 1,
   "id": "f9ad1b56",
   "metadata": {},
   "outputs": [],
   "source": [
    "import pandas as pd\n",
    "import numpy as np"
   ]
  },
  {
   "cell_type": "raw",
   "id": "81d839ad",
   "metadata": {},
   "source": [
    "gestion des valeurs aberrantes\n",
    "gestion des valeurs manquantes\n",
    "strategie de features selection"
   ]
  },
  {
   "cell_type": "code",
   "execution_count": 2,
   "id": "19173416",
   "metadata": {},
   "outputs": [],
   "source": [
    "df = pd.read_csv(\"df.csv\")"
   ]
  },
  {
   "cell_type": "code",
   "execution_count": 3,
   "id": "6b649532",
   "metadata": {},
   "outputs": [
    {
     "data": {
      "text/html": [
       "<div>\n",
       "<style scoped>\n",
       "    .dataframe tbody tr th:only-of-type {\n",
       "        vertical-align: middle;\n",
       "    }\n",
       "\n",
       "    .dataframe tbody tr th {\n",
       "        vertical-align: top;\n",
       "    }\n",
       "\n",
       "    .dataframe thead th {\n",
       "        text-align: right;\n",
       "    }\n",
       "</style>\n",
       "<table border=\"1\" class=\"dataframe\">\n",
       "  <thead>\n",
       "    <tr style=\"text-align: right;\">\n",
       "      <th></th>\n",
       "      <th>Unnamed: 0</th>\n",
       "      <th>Code</th>\n",
       "      <th>Nom</th>\n",
       "      <th>CodeInsee</th>\n",
       "      <th>Discriminator</th>\n",
       "      <th>DateMandatSignature</th>\n",
       "      <th>PrixAchatReel</th>\n",
       "      <th>TypeDeMission</th>\n",
       "      <th>TypeDeMandat</th>\n",
       "      <th>Lieu</th>\n",
       "      <th>...</th>\n",
       "      <th>NombrePiecesEnum</th>\n",
       "      <th>NombreChambresEnum</th>\n",
       "      <th>CommentaireTravauxAcceptes</th>\n",
       "      <th>AncienNeufBien</th>\n",
       "      <th>DescriptionBien_TypeBienEnum</th>\n",
       "      <th>DescriptionBien_Prix</th>\n",
       "      <th>Statut</th>\n",
       "      <th>CommentaireTravaux</th>\n",
       "      <th>DescriptionBien_DateOffreAcceptee</th>\n",
       "      <th>DureeMandat</th>\n",
       "    </tr>\n",
       "  </thead>\n",
       "  <tbody>\n",
       "    <tr>\n",
       "      <th>0</th>\n",
       "      <td>0</td>\n",
       "      <td>26</td>\n",
       "      <td>Bourgogne</td>\n",
       "      <td>0</td>\n",
       "      <td>2</td>\n",
       "      <td>2020-08-28 00:00:00</td>\n",
       "      <td>0.0</td>\n",
       "      <td>2</td>\n",
       "      <td>0</td>\n",
       "      <td>Lyon</td>\n",
       "      <td>...</td>\n",
       "      <td>1</td>\n",
       "      <td>0</td>\n",
       "      <td>oui</td>\n",
       "      <td>2</td>\n",
       "      <td>2</td>\n",
       "      <td>162000</td>\n",
       "      <td>4</td>\n",
       "      <td>Ameublement + électricité</td>\n",
       "      <td>2020-12-04 00:00:00</td>\n",
       "      <td>98</td>\n",
       "    </tr>\n",
       "    <tr>\n",
       "      <th>1</th>\n",
       "      <td>1</td>\n",
       "      <td>82</td>\n",
       "      <td>Rhône-Alpes</td>\n",
       "      <td>0</td>\n",
       "      <td>2</td>\n",
       "      <td>2020-08-28 00:00:00</td>\n",
       "      <td>0.0</td>\n",
       "      <td>2</td>\n",
       "      <td>0</td>\n",
       "      <td>Lyon</td>\n",
       "      <td>...</td>\n",
       "      <td>1</td>\n",
       "      <td>0</td>\n",
       "      <td>oui</td>\n",
       "      <td>2</td>\n",
       "      <td>2</td>\n",
       "      <td>162000</td>\n",
       "      <td>4</td>\n",
       "      <td>Ameublement + électricité</td>\n",
       "      <td>2020-12-04 00:00:00</td>\n",
       "      <td>98</td>\n",
       "    </tr>\n",
       "    <tr>\n",
       "      <th>2</th>\n",
       "      <td>12</td>\n",
       "      <td>11</td>\n",
       "      <td>Île-de-France</td>\n",
       "      <td>0</td>\n",
       "      <td>2</td>\n",
       "      <td>2019-07-19 10:00:00</td>\n",
       "      <td>65000.0</td>\n",
       "      <td>2</td>\n",
       "      <td>0</td>\n",
       "      <td>Île-de-France</td>\n",
       "      <td>...</td>\n",
       "      <td>1</td>\n",
       "      <td>0</td>\n",
       "      <td>NaN</td>\n",
       "      <td>2</td>\n",
       "      <td>2</td>\n",
       "      <td>82000</td>\n",
       "      <td>5</td>\n",
       "      <td>Rafraîchissement à prévoir.</td>\n",
       "      <td>2019-10-22 10:00:00</td>\n",
       "      <td>95</td>\n",
       "    </tr>\n",
       "    <tr>\n",
       "      <th>3</th>\n",
       "      <td>13</td>\n",
       "      <td>95400</td>\n",
       "      <td>Villiers Le Bel</td>\n",
       "      <td>95680</td>\n",
       "      <td>0</td>\n",
       "      <td>2019-07-19 10:00:00</td>\n",
       "      <td>65000.0</td>\n",
       "      <td>2</td>\n",
       "      <td>0</td>\n",
       "      <td>Île-de-France</td>\n",
       "      <td>...</td>\n",
       "      <td>1</td>\n",
       "      <td>0</td>\n",
       "      <td>NaN</td>\n",
       "      <td>2</td>\n",
       "      <td>2</td>\n",
       "      <td>82000</td>\n",
       "      <td>5</td>\n",
       "      <td>Rafraîchissement à prévoir.</td>\n",
       "      <td>2019-10-22 10:00:00</td>\n",
       "      <td>95</td>\n",
       "    </tr>\n",
       "    <tr>\n",
       "      <th>4</th>\n",
       "      <td>17</td>\n",
       "      <td>11</td>\n",
       "      <td>Île-de-France</td>\n",
       "      <td>0</td>\n",
       "      <td>2</td>\n",
       "      <td>2021-01-06 00:00:00</td>\n",
       "      <td>85000.0</td>\n",
       "      <td>2</td>\n",
       "      <td>0</td>\n",
       "      <td>Île de France, Nord, Normandie</td>\n",
       "      <td>...</td>\n",
       "      <td>2</td>\n",
       "      <td>1</td>\n",
       "      <td>Oui</td>\n",
       "      <td>2</td>\n",
       "      <td>2</td>\n",
       "      <td>93000</td>\n",
       "      <td>5</td>\n",
       "      <td>Rafraîchissement</td>\n",
       "      <td>2021-02-15 11:00:00</td>\n",
       "      <td>40</td>\n",
       "    </tr>\n",
       "  </tbody>\n",
       "</table>\n",
       "<p>5 rows × 27 columns</p>\n",
       "</div>"
      ],
      "text/plain": [
       "   Unnamed: 0   Code              Nom  CodeInsee  Discriminator  \\\n",
       "0           0     26        Bourgogne          0              2   \n",
       "1           1     82      Rhône-Alpes          0              2   \n",
       "2          12     11    Île-de-France          0              2   \n",
       "3          13  95400  Villiers Le Bel      95680              0   \n",
       "4          17     11    Île-de-France          0              2   \n",
       "\n",
       "   DateMandatSignature  PrixAchatReel  TypeDeMission  TypeDeMandat  \\\n",
       "0  2020-08-28 00:00:00            0.0              2             0   \n",
       "1  2020-08-28 00:00:00            0.0              2             0   \n",
       "2  2019-07-19 10:00:00        65000.0              2             0   \n",
       "3  2019-07-19 10:00:00        65000.0              2             0   \n",
       "4  2021-01-06 00:00:00        85000.0              2             0   \n",
       "\n",
       "                             Lieu  ... NombrePiecesEnum  NombreChambresEnum  \\\n",
       "0                            Lyon  ...                1                   0   \n",
       "1                            Lyon  ...                1                   0   \n",
       "2                   Île-de-France  ...                1                   0   \n",
       "3                   Île-de-France  ...                1                   0   \n",
       "4  Île de France, Nord, Normandie  ...                2                   1   \n",
       "\n",
       "   CommentaireTravauxAcceptes  AncienNeufBien  DescriptionBien_TypeBienEnum  \\\n",
       "0                         oui               2                             2   \n",
       "1                         oui               2                             2   \n",
       "2                         NaN               2                             2   \n",
       "3                         NaN               2                             2   \n",
       "4                         Oui               2                             2   \n",
       "\n",
       "   DescriptionBien_Prix  Statut            CommentaireTravaux  \\\n",
       "0                162000       4     Ameublement + électricité   \n",
       "1                162000       4     Ameublement + électricité   \n",
       "2                 82000       5  Rafraîchissement à prévoir.    \n",
       "3                 82000       5  Rafraîchissement à prévoir.    \n",
       "4                 93000       5              Rafraîchissement   \n",
       "\n",
       "   DescriptionBien_DateOffreAcceptee DureeMandat  \n",
       "0                2020-12-04 00:00:00          98  \n",
       "1                2020-12-04 00:00:00          98  \n",
       "2                2019-10-22 10:00:00          95  \n",
       "3                2019-10-22 10:00:00          95  \n",
       "4                2021-02-15 11:00:00          40  \n",
       "\n",
       "[5 rows x 27 columns]"
      ]
     },
     "execution_count": 3,
     "metadata": {},
     "output_type": "execute_result"
    }
   ],
   "source": [
    "df.head()"
   ]
  },
  {
   "cell_type": "code",
   "execution_count": 4,
   "id": "7be6b996",
   "metadata": {},
   "outputs": [],
   "source": [
    "df=df.drop(columns=\"Unnamed: 0\", axis = 1)"
   ]
  },
  {
   "cell_type": "code",
   "execution_count": 5,
   "id": "d94df661",
   "metadata": {},
   "outputs": [
    {
     "data": {
      "text/html": [
       "<div>\n",
       "<style scoped>\n",
       "    .dataframe tbody tr th:only-of-type {\n",
       "        vertical-align: middle;\n",
       "    }\n",
       "\n",
       "    .dataframe tbody tr th {\n",
       "        vertical-align: top;\n",
       "    }\n",
       "\n",
       "    .dataframe thead th {\n",
       "        text-align: right;\n",
       "    }\n",
       "</style>\n",
       "<table border=\"1\" class=\"dataframe\">\n",
       "  <thead>\n",
       "    <tr style=\"text-align: right;\">\n",
       "      <th></th>\n",
       "      <th>Code</th>\n",
       "      <th>Nom</th>\n",
       "      <th>CodeInsee</th>\n",
       "      <th>Discriminator</th>\n",
       "      <th>DateMandatSignature</th>\n",
       "      <th>PrixAchatReel</th>\n",
       "      <th>TypeDeMission</th>\n",
       "      <th>TypeDeMandat</th>\n",
       "      <th>Lieu</th>\n",
       "      <th>Quartier</th>\n",
       "      <th>...</th>\n",
       "      <th>NombrePiecesEnum</th>\n",
       "      <th>NombreChambresEnum</th>\n",
       "      <th>CommentaireTravauxAcceptes</th>\n",
       "      <th>AncienNeufBien</th>\n",
       "      <th>DescriptionBien_TypeBienEnum</th>\n",
       "      <th>DescriptionBien_Prix</th>\n",
       "      <th>Statut</th>\n",
       "      <th>CommentaireTravaux</th>\n",
       "      <th>DescriptionBien_DateOffreAcceptee</th>\n",
       "      <th>DureeMandat</th>\n",
       "    </tr>\n",
       "  </thead>\n",
       "  <tbody>\n",
       "    <tr>\n",
       "      <th>0</th>\n",
       "      <td>26</td>\n",
       "      <td>Bourgogne</td>\n",
       "      <td>0</td>\n",
       "      <td>2</td>\n",
       "      <td>2020-08-28 00:00:00</td>\n",
       "      <td>0.0</td>\n",
       "      <td>2</td>\n",
       "      <td>0</td>\n",
       "      <td>Lyon</td>\n",
       "      <td>NaN</td>\n",
       "      <td>...</td>\n",
       "      <td>1</td>\n",
       "      <td>0</td>\n",
       "      <td>oui</td>\n",
       "      <td>2</td>\n",
       "      <td>2</td>\n",
       "      <td>162000</td>\n",
       "      <td>4</td>\n",
       "      <td>Ameublement + électricité</td>\n",
       "      <td>2020-12-04 00:00:00</td>\n",
       "      <td>98</td>\n",
       "    </tr>\n",
       "  </tbody>\n",
       "</table>\n",
       "<p>1 rows × 26 columns</p>\n",
       "</div>"
      ],
      "text/plain": [
       "   Code        Nom  CodeInsee  Discriminator  DateMandatSignature  \\\n",
       "0    26  Bourgogne          0              2  2020-08-28 00:00:00   \n",
       "\n",
       "   PrixAchatReel  TypeDeMission  TypeDeMandat  Lieu Quartier  ...  \\\n",
       "0            0.0              2             0  Lyon      NaN  ...   \n",
       "\n",
       "   NombrePiecesEnum  NombreChambresEnum  CommentaireTravauxAcceptes  \\\n",
       "0                 1                   0                         oui   \n",
       "\n",
       "   AncienNeufBien  DescriptionBien_TypeBienEnum  DescriptionBien_Prix  Statut  \\\n",
       "0               2                             2                162000       4   \n",
       "\n",
       "          CommentaireTravaux DescriptionBien_DateOffreAcceptee  DureeMandat  \n",
       "0  Ameublement + électricité               2020-12-04 00:00:00           98  \n",
       "\n",
       "[1 rows x 26 columns]"
      ]
     },
     "execution_count": 5,
     "metadata": {},
     "output_type": "execute_result"
    }
   ],
   "source": [
    "df.head(1)"
   ]
  },
  {
   "cell_type": "markdown",
   "id": "956da060",
   "metadata": {},
   "source": [
    "https://www.youtube.com/watch?v=T4nZDuakYlU"
   ]
  },
  {
   "cell_type": "code",
   "execution_count": 7,
   "id": "3a4d311a",
   "metadata": {},
   "outputs": [],
   "source": [
    "#feature_selection.VarianceThreshold == variance, transformers\n",
    "# tests de dependance pour regression == feature_selection.f_regression(X, y[,center])\n",
    "# estimateur de coefs"
   ]
  },
  {
   "cell_type": "markdown",
   "id": "eb91c34a",
   "metadata": {},
   "source": [
    "VarianceThreshold : elimine les variables dont la variance est inferieure a un certain seul"
   ]
  },
  {
   "cell_type": "code",
   "execution_count": 8,
   "id": "7e783b75",
   "metadata": {},
   "outputs": [
    {
     "data": {
      "text/plain": [
       "(3649, 16)"
      ]
     },
     "execution_count": 8,
     "metadata": {},
     "output_type": "execute_result"
    }
   ],
   "source": [
    "# x, mes variables independantes\n",
    "x = df[[\"Code\",\"CodeInsee\", \"Discriminator\", \"PrixAchatReel\",\"TypeDeMission\",\"TypeBienEnum\",\"TypeProjet\",\"BudgetMinEuro\", \"BudgetMaxEuro\", \"SurfaceMin\", \"NombrePiecesEnum\", \"NombreChambresEnum\", \"AncienNeufBien\", \"DescriptionBien_TypeBienEnum\", \"DescriptionBien_Prix\", \"Statut\"]]\n",
    "x.shape"
   ]
  },
  {
   "cell_type": "code",
   "execution_count": 9,
   "id": "3bf47346",
   "metadata": {},
   "outputs": [
    {
     "data": {
      "text/plain": [
       "(3649,)"
      ]
     },
     "execution_count": 9,
     "metadata": {},
     "output_type": "execute_result"
    }
   ],
   "source": [
    "# y, ma varible dependante\n",
    "y = df[\"DureeMandat\"]\n",
    "y.shape"
   ]
  },
  {
   "cell_type": "markdown",
   "id": "32e16bca",
   "metadata": {},
   "source": [
    "test de dependance +\n",
    "transformers"
   ]
  },
  {
   "cell_type": "code",
   "execution_count": 11,
   "id": "9efa6a69",
   "metadata": {},
   "outputs": [
    {
     "data": {
      "text/plain": [
       "4842.030079888477"
      ]
     },
     "execution_count": 11,
     "metadata": {},
     "output_type": "execute_result"
    }
   ],
   "source": [
    "y.var(axis = 0)"
   ]
  },
  {
   "cell_type": "code",
   "execution_count": 10,
   "id": "f468c485",
   "metadata": {},
   "outputs": [
    {
     "data": {
      "text/plain": [
       "Code                            8.234237e+08\n",
       "CodeInsee                       8.230080e+08\n",
       "Discriminator                   6.561729e-02\n",
       "PrixAchatReel                   1.492471e+11\n",
       "TypeDeMission                   1.401384e-01\n",
       "TypeBienEnum                    4.425241e+00\n",
       "TypeProjet                      2.661633e-01\n",
       "BudgetMinEuro                   3.970568e+09\n",
       "BudgetMaxEuro                   3.429647e+13\n",
       "SurfaceMin                      2.742505e+06\n",
       "NombrePiecesEnum                2.343932e+00\n",
       "NombreChambresEnum              1.941486e+00\n",
       "AncienNeufBien                  1.765097e-01\n",
       "DescriptionBien_TypeBienEnum    2.224690e+00\n",
       "DescriptionBien_Prix            1.671201e+11\n",
       "Statut                          2.432308e-02\n",
       "dtype: float64"
      ]
     },
     "execution_count": 10,
     "metadata": {},
     "output_type": "execute_result"
    }
   ],
   "source": [
    "x.var(axis = 0)"
   ]
  },
  {
   "cell_type": "code",
   "execution_count": 12,
   "id": "5d62dc43",
   "metadata": {},
   "outputs": [],
   "source": [
    "## plus la variance est élévé, plus la variable a d'informations a fournir au modèle"
   ]
  },
  {
   "cell_type": "code",
   "execution_count": 16,
   "id": "2f15b520",
   "metadata": {},
   "outputs": [
    {
     "data": {
      "text/plain": [
       "array([ True,  True, False,  True, False,  True, False,  True,  True,\n",
       "        True,  True,  True, False,  True,  True, False])"
      ]
     },
     "execution_count": 16,
     "metadata": {},
     "output_type": "execute_result"
    }
   ],
   "source": [
    "from sklearn.feature_selection import VarianceThreshold\n",
    "\n",
    "selector = VarianceThreshold(threshold = 1.4)\n",
    "selector.fit_transform(x)\n",
    "selector.get_support()"
   ]
  },
  {
   "cell_type": "code",
   "execution_count": 28,
   "id": "1930f171",
   "metadata": {},
   "outputs": [
    {
     "data": {
      "text/plain": [
       "(array([1.78400299e+07, 1.78482729e+07, 9.52787355e+02, 5.50839044e+08,\n",
       "        4.71228674e+01, 2.02987207e+03, 4.23138912e+02, 1.58767748e+08,\n",
       "        3.53532457e+09, 7.86217348e+06, 7.92439515e+02, 1.03854305e+03,\n",
       "        8.12336342e+01, 1.17797760e+03, 5.40692343e+08, 6.71586765e+00]),\n",
       " array([0.00000000e+000, 0.00000000e+000, 1.75274410e-101, 0.00000000e+000,\n",
       "        1.00000000e+000, 2.21342694e-304, 1.26271115e-019, 0.00000000e+000,\n",
       "        0.00000000e+000, 0.00000000e+000, 3.32758549e-074, 1.41374231e-116,\n",
       "        1.00000000e+000, 1.07559070e-141, 0.00000000e+000, 1.00000000e+000]))"
      ]
     },
     "execution_count": 28,
     "metadata": {},
     "output_type": "execute_result"
    }
   ],
   "source": [
    "from sklearn.feature_selection import SelectKBest, chi2\n",
    "chi2(x,y)"
   ]
  },
  {
   "cell_type": "code",
   "execution_count": null,
   "id": "1a1531db",
   "metadata": {},
   "outputs": [],
   "source": [
    "# là on peut voir que la valeur la plus élevé est de 9.52 ... y depend beaucoup de la variable qui obtient ce score\n",
    "# 2 tableau == score de probabilité"
   ]
  },
  {
   "cell_type": "code",
   "execution_count": 31,
   "id": "c5207bb5",
   "metadata": {},
   "outputs": [
    {
     "data": {
      "text/plain": [
       "array([False, False, False, False, False, False, False, False,  True,\n",
       "       False, False, False, False, False, False, False])"
      ]
     },
     "execution_count": 31,
     "metadata": {},
     "output_type": "execute_result"
    }
   ],
   "source": [
    "selector = SelectKBest(chi2, k=1)\n",
    "selector.fit_transform(x,y)\n",
    "selector.get_support()"
   ]
  },
  {
   "cell_type": "markdown",
   "id": "7d1f0bca",
   "metadata": {},
   "source": [
    "SelectFromModel"
   ]
  },
  {
   "cell_type": "raw",
   "id": "1ca5459f",
   "metadata": {},
   "source": [
    "SelectFromModel\n",
    "entraine un estimateur puis sélectionne les variables les plus importantes pour cet estimateur / pas compatible avec k-nearest Neighboor"
   ]
  },
  {
   "cell_type": "code",
   "execution_count": 32,
   "id": "4c9a8e0a",
   "metadata": {},
   "outputs": [],
   "source": [
    "from sklearn.feature_selection import SelectFromModel\n",
    "from sklearn.linear_model import SGDClassifier"
   ]
  },
  {
   "cell_type": "code",
   "execution_count": 45,
   "id": "600c66e4",
   "metadata": {},
   "outputs": [
    {
     "data": {
      "text/plain": [
       "(192, 16)"
      ]
     },
     "execution_count": 45,
     "metadata": {},
     "output_type": "execute_result"
    }
   ],
   "source": [
    "selector= SelectFromModel(SGDClassifier(random_state = 0),\n",
    "                         threshold = 'mean')\n",
    "selector.fit_transform(x,y)\n",
    "selector.get_support()\n",
    "selector.estimator_.coef_.shape"
   ]
  },
  {
   "cell_type": "code",
   "execution_count": 43,
   "id": "575a2b5a",
   "metadata": {},
   "outputs": [
    {
     "data": {
      "text/plain": [
       "(3649, 16)"
      ]
     },
     "execution_count": 43,
     "metadata": {},
     "output_type": "execute_result"
    }
   ],
   "source": [
    "x.shape"
   ]
  },
  {
   "cell_type": "code",
   "execution_count": 44,
   "id": "f37f01c7",
   "metadata": {},
   "outputs": [
    {
     "data": {
      "text/plain": [
       "(3649,)"
      ]
     },
     "execution_count": 44,
     "metadata": {},
     "output_type": "execute_result"
    }
   ],
   "source": [
    "y.shape"
   ]
  },
  {
   "cell_type": "code",
   "execution_count": null,
   "id": "51478b2f",
   "metadata": {},
   "outputs": [],
   "source": []
  }
 ],
 "metadata": {
  "kernelspec": {
   "display_name": "Python 3 (ipykernel)",
   "language": "python",
   "name": "python3"
  },
  "language_info": {
   "codemirror_mode": {
    "name": "ipython",
    "version": 3
   },
   "file_extension": ".py",
   "mimetype": "text/x-python",
   "name": "python",
   "nbconvert_exporter": "python",
   "pygments_lexer": "ipython3",
   "version": "3.8.8"
  }
 },
 "nbformat": 4,
 "nbformat_minor": 5
}
