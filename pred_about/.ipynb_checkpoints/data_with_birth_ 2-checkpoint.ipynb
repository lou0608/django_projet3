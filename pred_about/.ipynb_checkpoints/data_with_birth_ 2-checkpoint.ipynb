{
 "cells": [
  {
   "cell_type": "code",
   "execution_count": 1,
   "id": "dd1e4c58",
   "metadata": {},
   "outputs": [],
   "source": [
    "import pandas as pd\n",
    "pd.set_option('display.max_columns', None)\n",
    "import numpy as np\n",
    "import scipy.stats as stat\n",
    "import scipy as sp\n",
    "import statistics\n",
    "\n",
    "from datetime import datetime\n",
    "from datetime import  date"
   ]
  },
  {
   "cell_type": "code",
   "execution_count": 2,
   "id": "206594e0",
   "metadata": {},
   "outputs": [],
   "source": [
    "import matplotlib.pyplot as plt\n",
    "from matplotlib import pyplot\n",
    "\n",
    "%matplotlib inline\n",
    "from mpl_toolkits.mplot3d import Axes3D\n",
    "from matplotlib import cm\n",
    "import seaborn as sns\n",
    "import hvplot as hv\n",
    "\n",
    "import warnings\n",
    "warnings.filterwarnings('ignore')"
   ]
  },
  {
   "cell_type": "code",
   "execution_count": 3,
   "id": "3ca32f8a",
   "metadata": {},
   "outputs": [],
   "source": [
    "# Modèle de ML\n",
    "from sklearn import linear_model\n",
    "\n",
    "# data pre-processing\n",
    "from sklearn import preprocessing\n",
    "from sklearn.model_selection import train_test_split\n",
    "\n",
    "# Outils score et evaluation de modèle\n",
    "from sklearn.metrics import accuracy_score\n",
    "from sklearn import metrics\n",
    "from sklearn.metrics import classification_report\n",
    "from sklearn.metrics import confusion_matrix\n",
    "\n",
    "from sklearn.metrics import r2_score\n",
    "\n",
    "# Outils optmisation de modèle\n",
    "from sklearn.model_selection import GridSearchCV"
   ]
  },
  {
   "cell_type": "code",
   "execution_count": 4,
   "id": "e1912955",
   "metadata": {},
   "outputs": [
    {
     "data": {
      "text/html": [
       "<div>\n",
       "<style scoped>\n",
       "    .dataframe tbody tr th:only-of-type {\n",
       "        vertical-align: middle;\n",
       "    }\n",
       "\n",
       "    .dataframe tbody tr th {\n",
       "        vertical-align: top;\n",
       "    }\n",
       "\n",
       "    .dataframe thead th {\n",
       "        text-align: right;\n",
       "    }\n",
       "</style>\n",
       "<table border=\"1\" class=\"dataframe\">\n",
       "  <thead>\n",
       "    <tr style=\"text-align: right;\">\n",
       "      <th></th>\n",
       "      <th>DateMandatInstant</th>\n",
       "      <th>DateMandatSeason</th>\n",
       "      <th>DateMandatYear</th>\n",
       "      <th>DateMandatMonth</th>\n",
       "      <th>DateMandatWeek</th>\n",
       "      <th>MandatId</th>\n",
       "      <th>UrlMandat</th>\n",
       "      <th>DateMandat</th>\n",
       "      <th>StatutMandat</th>\n",
       "      <th>DateCompromis</th>\n",
       "      <th>BudgetMaxEuro</th>\n",
       "      <th>TypeBien</th>\n",
       "      <th>TypeProjet</th>\n",
       "      <th>SurfaceMin</th>\n",
       "      <th>NombrePieces</th>\n",
       "      <th>NombreChambres</th>\n",
       "      <th>Ville</th>\n",
       "      <th>CodePostal</th>\n",
       "      <th>Departement</th>\n",
       "      <th>Region</th>\n",
       "      <th>NombreDeBiensTrouves</th>\n",
       "      <th>NombreDeBiensPublies</th>\n",
       "      <th>NombreDeBiensSelectionnes</th>\n",
       "      <th>NombreDeBiensAVisiter</th>\n",
       "      <th>NombreDeBiensVisites</th>\n",
       "      <th>NombreDeBiensRejetes</th>\n",
       "      <th>NombreDeBiensActesOuCompromis</th>\n",
       "      <th>DatePremierePublicationDeBien</th>\n",
       "      <th>DateDernierePublicationDeBien</th>\n",
       "      <th>DelaiPremierePublicationDeBien</th>\n",
       "      <th>DatePremiereVisite</th>\n",
       "      <th>DelaiPremiereVisite</th>\n",
       "      <th>DateNaissanceClient</th>\n",
       "      <th>CodePostalClient</th>\n",
       "    </tr>\n",
       "  </thead>\n",
       "  <tbody>\n",
       "    <tr>\n",
       "      <th>0</th>\n",
       "      <td>1</td>\n",
       "      <td>2</td>\n",
       "      <td>0</td>\n",
       "      <td>4</td>\n",
       "      <td>17</td>\n",
       "      <td>2</td>\n",
       "      <td>https://monespace.net-acheteur.com/Spa/app/#/m...</td>\n",
       "      <td>2012-04-26</td>\n",
       "      <td>Mandat perdu</td>\n",
       "      <td>NaN</td>\n",
       "      <td>280000</td>\n",
       "      <td>Maison</td>\n",
       "      <td>Résidence principale</td>\n",
       "      <td>0</td>\n",
       "      <td>5</td>\n",
       "      <td>2</td>\n",
       "      <td>Nimes</td>\n",
       "      <td>30000</td>\n",
       "      <td>Gard</td>\n",
       "      <td>Languedoc-Roussillon</td>\n",
       "      <td>39</td>\n",
       "      <td>32</td>\n",
       "      <td>5</td>\n",
       "      <td>4</td>\n",
       "      <td>1</td>\n",
       "      <td>18</td>\n",
       "      <td>0</td>\n",
       "      <td>2012-05-21</td>\n",
       "      <td>2015-10-09</td>\n",
       "      <td>25.0</td>\n",
       "      <td>NaN</td>\n",
       "      <td>NaN</td>\n",
       "      <td>1981-09-07</td>\n",
       "      <td>34000</td>\n",
       "    </tr>\n",
       "    <tr>\n",
       "      <th>1</th>\n",
       "      <td>1</td>\n",
       "      <td>2</td>\n",
       "      <td>0</td>\n",
       "      <td>4</td>\n",
       "      <td>17</td>\n",
       "      <td>2</td>\n",
       "      <td>https://monespace.net-acheteur.com/Spa/app/#/m...</td>\n",
       "      <td>2012-04-26</td>\n",
       "      <td>Mandat perdu</td>\n",
       "      <td>NaN</td>\n",
       "      <td>280000</td>\n",
       "      <td>Maison</td>\n",
       "      <td>Résidence principale</td>\n",
       "      <td>0</td>\n",
       "      <td>5</td>\n",
       "      <td>2</td>\n",
       "      <td>Montpellier</td>\n",
       "      <td>34000</td>\n",
       "      <td>Hérault</td>\n",
       "      <td>Languedoc-Roussillon</td>\n",
       "      <td>39</td>\n",
       "      <td>32</td>\n",
       "      <td>5</td>\n",
       "      <td>4</td>\n",
       "      <td>1</td>\n",
       "      <td>18</td>\n",
       "      <td>0</td>\n",
       "      <td>2012-05-21</td>\n",
       "      <td>2015-10-09</td>\n",
       "      <td>25.0</td>\n",
       "      <td>NaN</td>\n",
       "      <td>NaN</td>\n",
       "      <td>1981-09-07</td>\n",
       "      <td>34000</td>\n",
       "    </tr>\n",
       "    <tr>\n",
       "      <th>2</th>\n",
       "      <td>1</td>\n",
       "      <td>2</td>\n",
       "      <td>0</td>\n",
       "      <td>4</td>\n",
       "      <td>17</td>\n",
       "      <td>3</td>\n",
       "      <td>https://monespace.net-acheteur.com/Spa/app/#/m...</td>\n",
       "      <td>2012-04-26</td>\n",
       "      <td>Lead perdu</td>\n",
       "      <td>NaN</td>\n",
       "      <td>300000</td>\n",
       "      <td>Appartement</td>\n",
       "      <td>Résidence principale</td>\n",
       "      <td>70</td>\n",
       "      <td>3</td>\n",
       "      <td>2</td>\n",
       "      <td>Montpellier</td>\n",
       "      <td>34000</td>\n",
       "      <td>Hérault</td>\n",
       "      <td>Languedoc-Roussillon</td>\n",
       "      <td>2</td>\n",
       "      <td>1</td>\n",
       "      <td>0</td>\n",
       "      <td>0</td>\n",
       "      <td>0</td>\n",
       "      <td>0</td>\n",
       "      <td>0</td>\n",
       "      <td>2013-03-07</td>\n",
       "      <td>2013-03-07</td>\n",
       "      <td>315.0</td>\n",
       "      <td>NaN</td>\n",
       "      <td>NaN</td>\n",
       "      <td>NaN</td>\n",
       "      <td>34000</td>\n",
       "    </tr>\n",
       "    <tr>\n",
       "      <th>3</th>\n",
       "      <td>2</td>\n",
       "      <td>2</td>\n",
       "      <td>0</td>\n",
       "      <td>4</td>\n",
       "      <td>17</td>\n",
       "      <td>5</td>\n",
       "      <td>https://monespace.net-acheteur.com/Spa/app/#/m...</td>\n",
       "      <td>2012-04-27</td>\n",
       "      <td>Mandat perdu</td>\n",
       "      <td>NaN</td>\n",
       "      <td>250000</td>\n",
       "      <td>Appartement</td>\n",
       "      <td>Investissement</td>\n",
       "      <td>60</td>\n",
       "      <td>3</td>\n",
       "      <td>2</td>\n",
       "      <td>Montpellier</td>\n",
       "      <td>34000</td>\n",
       "      <td>Hérault</td>\n",
       "      <td>Languedoc-Roussillon</td>\n",
       "      <td>18</td>\n",
       "      <td>17</td>\n",
       "      <td>2</td>\n",
       "      <td>0</td>\n",
       "      <td>1</td>\n",
       "      <td>11</td>\n",
       "      <td>0</td>\n",
       "      <td>2012-05-03</td>\n",
       "      <td>2014-11-18</td>\n",
       "      <td>6.0</td>\n",
       "      <td>NaN</td>\n",
       "      <td>NaN</td>\n",
       "      <td>1972-12-13</td>\n",
       "      <td>34820</td>\n",
       "    </tr>\n",
       "    <tr>\n",
       "      <th>4</th>\n",
       "      <td>7</td>\n",
       "      <td>2</td>\n",
       "      <td>0</td>\n",
       "      <td>5</td>\n",
       "      <td>18</td>\n",
       "      <td>12</td>\n",
       "      <td>https://monespace.net-acheteur.com/Spa/app/#/m...</td>\n",
       "      <td>2012-05-02</td>\n",
       "      <td>Lead perdu</td>\n",
       "      <td>NaN</td>\n",
       "      <td>250000</td>\n",
       "      <td>Maison</td>\n",
       "      <td>Résidence principale</td>\n",
       "      <td>80</td>\n",
       "      <td>4</td>\n",
       "      <td>3</td>\n",
       "      <td>Frontignan</td>\n",
       "      <td>34110</td>\n",
       "      <td>Hérault</td>\n",
       "      <td>Languedoc-Roussillon</td>\n",
       "      <td>0</td>\n",
       "      <td>0</td>\n",
       "      <td>0</td>\n",
       "      <td>0</td>\n",
       "      <td>0</td>\n",
       "      <td>0</td>\n",
       "      <td>0</td>\n",
       "      <td>NaN</td>\n",
       "      <td>NaN</td>\n",
       "      <td>NaN</td>\n",
       "      <td>NaN</td>\n",
       "      <td>NaN</td>\n",
       "      <td>NaN</td>\n",
       "      <td>NaN</td>\n",
       "    </tr>\n",
       "  </tbody>\n",
       "</table>\n",
       "</div>"
      ],
      "text/plain": [
       "   DateMandatInstant  DateMandatSeason  DateMandatYear  DateMandatMonth  \\\n",
       "0                  1                 2               0                4   \n",
       "1                  1                 2               0                4   \n",
       "2                  1                 2               0                4   \n",
       "3                  2                 2               0                4   \n",
       "4                  7                 2               0                5   \n",
       "\n",
       "   DateMandatWeek  MandatId  \\\n",
       "0              17         2   \n",
       "1              17         2   \n",
       "2              17         3   \n",
       "3              17         5   \n",
       "4              18        12   \n",
       "\n",
       "                                           UrlMandat  DateMandat  \\\n",
       "0  https://monespace.net-acheteur.com/Spa/app/#/m...  2012-04-26   \n",
       "1  https://monespace.net-acheteur.com/Spa/app/#/m...  2012-04-26   \n",
       "2  https://monespace.net-acheteur.com/Spa/app/#/m...  2012-04-26   \n",
       "3  https://monespace.net-acheteur.com/Spa/app/#/m...  2012-04-27   \n",
       "4  https://monespace.net-acheteur.com/Spa/app/#/m...  2012-05-02   \n",
       "\n",
       "   StatutMandat DateCompromis  BudgetMaxEuro     TypeBien  \\\n",
       "0  Mandat perdu           NaN         280000       Maison   \n",
       "1  Mandat perdu           NaN         280000       Maison   \n",
       "2    Lead perdu           NaN         300000  Appartement   \n",
       "3  Mandat perdu           NaN         250000  Appartement   \n",
       "4    Lead perdu           NaN         250000       Maison   \n",
       "\n",
       "             TypeProjet  SurfaceMin NombrePieces NombreChambres        Ville  \\\n",
       "0  Résidence principale           0            5              2        Nimes   \n",
       "1  Résidence principale           0            5              2  Montpellier   \n",
       "2  Résidence principale          70            3              2  Montpellier   \n",
       "3        Investissement          60            3              2  Montpellier   \n",
       "4  Résidence principale          80            4              3   Frontignan   \n",
       "\n",
       "   CodePostal Departement                Region  NombreDeBiensTrouves  \\\n",
       "0       30000        Gard  Languedoc-Roussillon                    39   \n",
       "1       34000     Hérault  Languedoc-Roussillon                    39   \n",
       "2       34000     Hérault  Languedoc-Roussillon                     2   \n",
       "3       34000     Hérault  Languedoc-Roussillon                    18   \n",
       "4       34110     Hérault  Languedoc-Roussillon                     0   \n",
       "\n",
       "   NombreDeBiensPublies  NombreDeBiensSelectionnes  NombreDeBiensAVisiter  \\\n",
       "0                    32                          5                      4   \n",
       "1                    32                          5                      4   \n",
       "2                     1                          0                      0   \n",
       "3                    17                          2                      0   \n",
       "4                     0                          0                      0   \n",
       "\n",
       "   NombreDeBiensVisites  NombreDeBiensRejetes  NombreDeBiensActesOuCompromis  \\\n",
       "0                     1                    18                              0   \n",
       "1                     1                    18                              0   \n",
       "2                     0                     0                              0   \n",
       "3                     1                    11                              0   \n",
       "4                     0                     0                              0   \n",
       "\n",
       "  DatePremierePublicationDeBien DateDernierePublicationDeBien  \\\n",
       "0                    2012-05-21                    2015-10-09   \n",
       "1                    2012-05-21                    2015-10-09   \n",
       "2                    2013-03-07                    2013-03-07   \n",
       "3                    2012-05-03                    2014-11-18   \n",
       "4                           NaN                           NaN   \n",
       "\n",
       "   DelaiPremierePublicationDeBien DatePremiereVisite  DelaiPremiereVisite  \\\n",
       "0                            25.0                NaN                  NaN   \n",
       "1                            25.0                NaN                  NaN   \n",
       "2                           315.0                NaN                  NaN   \n",
       "3                             6.0                NaN                  NaN   \n",
       "4                             NaN                NaN                  NaN   \n",
       "\n",
       "  DateNaissanceClient CodePostalClient  \n",
       "0          1981-09-07            34000  \n",
       "1          1981-09-07            34000  \n",
       "2                 NaN            34000  \n",
       "3          1972-12-13            34820  \n",
       "4                 NaN              NaN  "
      ]
     },
     "execution_count": 4,
     "metadata": {},
     "output_type": "execute_result"
    }
   ],
   "source": [
    "df = pd.read_csv(\"dataset_birth_codeP.csv\", sep = \",\")\n",
    "df.head()"
   ]
  },
  {
   "cell_type": "code",
   "execution_count": 5,
   "id": "a4a3bdd7",
   "metadata": {},
   "outputs": [
    {
     "data": {
      "text/plain": [
       "pandas.core.frame.DataFrame"
      ]
     },
     "execution_count": 5,
     "metadata": {},
     "output_type": "execute_result"
    }
   ],
   "source": [
    "type(df)"
   ]
  },
  {
   "cell_type": "code",
   "execution_count": 6,
   "id": "463aadcd",
   "metadata": {},
   "outputs": [
    {
     "data": {
      "text/plain": [
       "pandas.core.series.Series"
      ]
     },
     "execution_count": 6,
     "metadata": {},
     "output_type": "execute_result"
    }
   ],
   "source": [
    "type(df.NombrePieces)"
   ]
  },
  {
   "cell_type": "code",
   "execution_count": 7,
   "id": "9f837e79",
   "metadata": {},
   "outputs": [
    {
     "data": {
      "text/html": [
       "<div>\n",
       "<style scoped>\n",
       "    .dataframe tbody tr th:only-of-type {\n",
       "        vertical-align: middle;\n",
       "    }\n",
       "\n",
       "    .dataframe tbody tr th {\n",
       "        vertical-align: top;\n",
       "    }\n",
       "\n",
       "    .dataframe thead th {\n",
       "        text-align: right;\n",
       "    }\n",
       "</style>\n",
       "<table border=\"1\" class=\"dataframe\">\n",
       "  <thead>\n",
       "    <tr style=\"text-align: right;\">\n",
       "      <th></th>\n",
       "      <th>DateMandatInstant</th>\n",
       "      <th>DateMandatSeason</th>\n",
       "      <th>DateMandatYear</th>\n",
       "      <th>DateMandatMonth</th>\n",
       "      <th>DateMandatWeek</th>\n",
       "      <th>MandatId</th>\n",
       "      <th>BudgetMaxEuro</th>\n",
       "      <th>SurfaceMin</th>\n",
       "      <th>CodePostal</th>\n",
       "      <th>NombreDeBiensTrouves</th>\n",
       "      <th>NombreDeBiensPublies</th>\n",
       "      <th>NombreDeBiensSelectionnes</th>\n",
       "      <th>NombreDeBiensAVisiter</th>\n",
       "      <th>NombreDeBiensVisites</th>\n",
       "      <th>NombreDeBiensRejetes</th>\n",
       "      <th>NombreDeBiensActesOuCompromis</th>\n",
       "      <th>DelaiPremierePublicationDeBien</th>\n",
       "      <th>DelaiPremiereVisite</th>\n",
       "    </tr>\n",
       "  </thead>\n",
       "  <tbody>\n",
       "    <tr>\n",
       "      <th>count</th>\n",
       "      <td>51817.000000</td>\n",
       "      <td>51817.000000</td>\n",
       "      <td>51817.000000</td>\n",
       "      <td>51817.000000</td>\n",
       "      <td>51817.000000</td>\n",
       "      <td>51817.000000</td>\n",
       "      <td>5.181700e+04</td>\n",
       "      <td>51817.000000</td>\n",
       "      <td>51817.000000</td>\n",
       "      <td>51817.000000</td>\n",
       "      <td>51817.000000</td>\n",
       "      <td>51817.000000</td>\n",
       "      <td>51817.000000</td>\n",
       "      <td>51817.000000</td>\n",
       "      <td>51817.000000</td>\n",
       "      <td>51817.000000</td>\n",
       "      <td>23422.000000</td>\n",
       "      <td>12765.000000</td>\n",
       "    </tr>\n",
       "    <tr>\n",
       "      <th>mean</th>\n",
       "      <td>2452.568597</td>\n",
       "      <td>2.380744</td>\n",
       "      <td>6.570643</td>\n",
       "      <td>6.043924</td>\n",
       "      <td>24.868788</td>\n",
       "      <td>53844.263697</td>\n",
       "      <td>4.191709e+05</td>\n",
       "      <td>72.379663</td>\n",
       "      <td>59809.954224</td>\n",
       "      <td>28.413552</td>\n",
       "      <td>6.650250</td>\n",
       "      <td>1.503561</td>\n",
       "      <td>0.334485</td>\n",
       "      <td>0.865372</td>\n",
       "      <td>3.897273</td>\n",
       "      <td>0.162456</td>\n",
       "      <td>29.495944</td>\n",
       "      <td>53.898237</td>\n",
       "    </tr>\n",
       "    <tr>\n",
       "      <th>std</th>\n",
       "      <td>684.066912</td>\n",
       "      <td>1.163469</td>\n",
       "      <td>1.912483</td>\n",
       "      <td>3.558213</td>\n",
       "      <td>15.469696</td>\n",
       "      <td>20673.090968</td>\n",
       "      <td>7.446264e+05</td>\n",
       "      <td>444.675311</td>\n",
       "      <td>26532.547702</td>\n",
       "      <td>54.356621</td>\n",
       "      <td>12.706089</td>\n",
       "      <td>3.186819</td>\n",
       "      <td>1.062821</td>\n",
       "      <td>2.120087</td>\n",
       "      <td>8.675328</td>\n",
       "      <td>0.369604</td>\n",
       "      <td>69.214681</td>\n",
       "      <td>82.605442</td>\n",
       "    </tr>\n",
       "    <tr>\n",
       "      <th>min</th>\n",
       "      <td>1.000000</td>\n",
       "      <td>1.000000</td>\n",
       "      <td>0.000000</td>\n",
       "      <td>1.000000</td>\n",
       "      <td>1.000000</td>\n",
       "      <td>2.000000</td>\n",
       "      <td>1.000000e+03</td>\n",
       "      <td>0.000000</td>\n",
       "      <td>1000.000000</td>\n",
       "      <td>0.000000</td>\n",
       "      <td>0.000000</td>\n",
       "      <td>0.000000</td>\n",
       "      <td>0.000000</td>\n",
       "      <td>0.000000</td>\n",
       "      <td>0.000000</td>\n",
       "      <td>0.000000</td>\n",
       "      <td>-4.000000</td>\n",
       "      <td>-4.000000</td>\n",
       "    </tr>\n",
       "    <tr>\n",
       "      <th>25%</th>\n",
       "      <td>2085.000000</td>\n",
       "      <td>1.000000</td>\n",
       "      <td>6.000000</td>\n",
       "      <td>3.000000</td>\n",
       "      <td>11.000000</td>\n",
       "      <td>40249.000000</td>\n",
       "      <td>2.150000e+05</td>\n",
       "      <td>40.000000</td>\n",
       "      <td>34280.000000</td>\n",
       "      <td>0.000000</td>\n",
       "      <td>0.000000</td>\n",
       "      <td>0.000000</td>\n",
       "      <td>0.000000</td>\n",
       "      <td>0.000000</td>\n",
       "      <td>0.000000</td>\n",
       "      <td>0.000000</td>\n",
       "      <td>6.000000</td>\n",
       "      <td>16.000000</td>\n",
       "    </tr>\n",
       "    <tr>\n",
       "      <th>50%</th>\n",
       "      <td>2576.000000</td>\n",
       "      <td>2.000000</td>\n",
       "      <td>7.000000</td>\n",
       "      <td>6.000000</td>\n",
       "      <td>23.000000</td>\n",
       "      <td>55472.000000</td>\n",
       "      <td>3.200000e+05</td>\n",
       "      <td>60.000000</td>\n",
       "      <td>69230.000000</td>\n",
       "      <td>2.000000</td>\n",
       "      <td>0.000000</td>\n",
       "      <td>0.000000</td>\n",
       "      <td>0.000000</td>\n",
       "      <td>0.000000</td>\n",
       "      <td>0.000000</td>\n",
       "      <td>0.000000</td>\n",
       "      <td>12.000000</td>\n",
       "      <td>30.000000</td>\n",
       "    </tr>\n",
       "    <tr>\n",
       "      <th>75%</th>\n",
       "      <td>3006.000000</td>\n",
       "      <td>4.000000</td>\n",
       "      <td>8.000000</td>\n",
       "      <td>9.000000</td>\n",
       "      <td>39.000000</td>\n",
       "      <td>72109.000000</td>\n",
       "      <td>5.000000e+05</td>\n",
       "      <td>90.000000</td>\n",
       "      <td>75018.000000</td>\n",
       "      <td>38.000000</td>\n",
       "      <td>9.000000</td>\n",
       "      <td>2.000000</td>\n",
       "      <td>0.000000</td>\n",
       "      <td>1.000000</td>\n",
       "      <td>4.000000</td>\n",
       "      <td>0.000000</td>\n",
       "      <td>26.000000</td>\n",
       "      <td>61.000000</td>\n",
       "    </tr>\n",
       "    <tr>\n",
       "      <th>max</th>\n",
       "      <td>3376.000000</td>\n",
       "      <td>4.000000</td>\n",
       "      <td>9.000000</td>\n",
       "      <td>12.000000</td>\n",
       "      <td>53.000000</td>\n",
       "      <td>83862.000000</td>\n",
       "      <td>1.000000e+08</td>\n",
       "      <td>100000.000000</td>\n",
       "      <td>95880.000000</td>\n",
       "      <td>1258.000000</td>\n",
       "      <td>260.000000</td>\n",
       "      <td>52.000000</td>\n",
       "      <td>25.000000</td>\n",
       "      <td>49.000000</td>\n",
       "      <td>162.000000</td>\n",
       "      <td>2.000000</td>\n",
       "      <td>1833.000000</td>\n",
       "      <td>1851.000000</td>\n",
       "    </tr>\n",
       "  </tbody>\n",
       "</table>\n",
       "</div>"
      ],
      "text/plain": [
       "       DateMandatInstant  DateMandatSeason  DateMandatYear  DateMandatMonth  \\\n",
       "count       51817.000000      51817.000000    51817.000000     51817.000000   \n",
       "mean         2452.568597          2.380744        6.570643         6.043924   \n",
       "std           684.066912          1.163469        1.912483         3.558213   \n",
       "min             1.000000          1.000000        0.000000         1.000000   \n",
       "25%          2085.000000          1.000000        6.000000         3.000000   \n",
       "50%          2576.000000          2.000000        7.000000         6.000000   \n",
       "75%          3006.000000          4.000000        8.000000         9.000000   \n",
       "max          3376.000000          4.000000        9.000000        12.000000   \n",
       "\n",
       "       DateMandatWeek      MandatId  BudgetMaxEuro     SurfaceMin  \\\n",
       "count    51817.000000  51817.000000   5.181700e+04   51817.000000   \n",
       "mean        24.868788  53844.263697   4.191709e+05      72.379663   \n",
       "std         15.469696  20673.090968   7.446264e+05     444.675311   \n",
       "min          1.000000      2.000000   1.000000e+03       0.000000   \n",
       "25%         11.000000  40249.000000   2.150000e+05      40.000000   \n",
       "50%         23.000000  55472.000000   3.200000e+05      60.000000   \n",
       "75%         39.000000  72109.000000   5.000000e+05      90.000000   \n",
       "max         53.000000  83862.000000   1.000000e+08  100000.000000   \n",
       "\n",
       "         CodePostal  NombreDeBiensTrouves  NombreDeBiensPublies  \\\n",
       "count  51817.000000          51817.000000          51817.000000   \n",
       "mean   59809.954224             28.413552              6.650250   \n",
       "std    26532.547702             54.356621             12.706089   \n",
       "min     1000.000000              0.000000              0.000000   \n",
       "25%    34280.000000              0.000000              0.000000   \n",
       "50%    69230.000000              2.000000              0.000000   \n",
       "75%    75018.000000             38.000000              9.000000   \n",
       "max    95880.000000           1258.000000            260.000000   \n",
       "\n",
       "       NombreDeBiensSelectionnes  NombreDeBiensAVisiter  NombreDeBiensVisites  \\\n",
       "count               51817.000000           51817.000000          51817.000000   \n",
       "mean                    1.503561               0.334485              0.865372   \n",
       "std                     3.186819               1.062821              2.120087   \n",
       "min                     0.000000               0.000000              0.000000   \n",
       "25%                     0.000000               0.000000              0.000000   \n",
       "50%                     0.000000               0.000000              0.000000   \n",
       "75%                     2.000000               0.000000              1.000000   \n",
       "max                    52.000000              25.000000             49.000000   \n",
       "\n",
       "       NombreDeBiensRejetes  NombreDeBiensActesOuCompromis  \\\n",
       "count          51817.000000                   51817.000000   \n",
       "mean               3.897273                       0.162456   \n",
       "std                8.675328                       0.369604   \n",
       "min                0.000000                       0.000000   \n",
       "25%                0.000000                       0.000000   \n",
       "50%                0.000000                       0.000000   \n",
       "75%                4.000000                       0.000000   \n",
       "max              162.000000                       2.000000   \n",
       "\n",
       "       DelaiPremierePublicationDeBien  DelaiPremiereVisite  \n",
       "count                    23422.000000         12765.000000  \n",
       "mean                        29.495944            53.898237  \n",
       "std                         69.214681            82.605442  \n",
       "min                         -4.000000            -4.000000  \n",
       "25%                          6.000000            16.000000  \n",
       "50%                         12.000000            30.000000  \n",
       "75%                         26.000000            61.000000  \n",
       "max                       1833.000000          1851.000000  "
      ]
     },
     "execution_count": 7,
     "metadata": {},
     "output_type": "execute_result"
    }
   ],
   "source": [
    "df.describe()"
   ]
  },
  {
   "cell_type": "code",
   "execution_count": 8,
   "id": "665dfc76",
   "metadata": {},
   "outputs": [
    {
     "name": "stdout",
     "output_type": "stream",
     "text": [
      "<class 'pandas.core.frame.DataFrame'>\n",
      "RangeIndex: 51817 entries, 0 to 51816\n",
      "Data columns (total 34 columns):\n",
      " #   Column                          Non-Null Count  Dtype  \n",
      "---  ------                          --------------  -----  \n",
      " 0   DateMandatInstant               51817 non-null  int64  \n",
      " 1   DateMandatSeason                51817 non-null  int64  \n",
      " 2   DateMandatYear                  51817 non-null  int64  \n",
      " 3   DateMandatMonth                 51817 non-null  int64  \n",
      " 4   DateMandatWeek                  51817 non-null  int64  \n",
      " 5   MandatId                        51817 non-null  int64  \n",
      " 6   UrlMandat                       51817 non-null  object \n",
      " 7   DateMandat                      51817 non-null  object \n",
      " 8   StatutMandat                    51817 non-null  object \n",
      " 9   DateCompromis                   6645 non-null   object \n",
      " 10  BudgetMaxEuro                   51817 non-null  int64  \n",
      " 11  TypeBien                        51817 non-null  object \n",
      " 12  TypeProjet                      51817 non-null  object \n",
      " 13  SurfaceMin                      51817 non-null  int64  \n",
      " 14  NombrePieces                    51817 non-null  object \n",
      " 15  NombreChambres                  51817 non-null  object \n",
      " 16  Ville                           51817 non-null  object \n",
      " 17  CodePostal                      51817 non-null  int64  \n",
      " 18  Departement                     51817 non-null  object \n",
      " 19  Region                          51817 non-null  object \n",
      " 20  NombreDeBiensTrouves            51817 non-null  int64  \n",
      " 21  NombreDeBiensPublies            51817 non-null  int64  \n",
      " 22  NombreDeBiensSelectionnes       51817 non-null  int64  \n",
      " 23  NombreDeBiensAVisiter           51817 non-null  int64  \n",
      " 24  NombreDeBiensVisites            51817 non-null  int64  \n",
      " 25  NombreDeBiensRejetes            51817 non-null  int64  \n",
      " 26  NombreDeBiensActesOuCompromis   51817 non-null  int64  \n",
      " 27  DatePremierePublicationDeBien   23422 non-null  object \n",
      " 28  DateDernierePublicationDeBien   23422 non-null  object \n",
      " 29  DelaiPremierePublicationDeBien  23422 non-null  float64\n",
      " 30  DatePremiereVisite              12765 non-null  object \n",
      " 31  DelaiPremiereVisite             12765 non-null  float64\n",
      " 32  DateNaissanceClient             38475 non-null  object \n",
      " 33  CodePostalClient                40485 non-null  object \n",
      "dtypes: float64(2), int64(16), object(16)\n",
      "memory usage: 13.4+ MB\n"
     ]
    }
   ],
   "source": [
    "df.info()"
   ]
  },
  {
   "cell_type": "code",
   "execution_count": 9,
   "id": "16b09525",
   "metadata": {},
   "outputs": [
    {
     "data": {
      "text/plain": [
       "<AxesSubplot:>"
      ]
     },
     "execution_count": 9,
     "metadata": {},
     "output_type": "execute_result"
    },
    {
     "data": {
      "image/png": "[encoded data removed]",
      "text/plain": [
       "<Figure size 864x576 with 1 Axes>"
      ]
     },
     "metadata": {
      "needs_background": "light"
     },
     "output_type": "display_data"
    }
   ],
   "source": [
    "plt.figure(figsize = (12,8))\n",
    "sns.heatmap(df.isnull() , \n",
    "            yticklabels=False, \n",
    "            cbar=False, \n",
    "            cmap='viridis')"
   ]
  },
  {
   "cell_type": "code",
   "execution_count": 10,
   "id": "f54093c3",
   "metadata": {},
   "outputs": [
    {
     "data": {
      "image/png": "[encoded data removed]",
      "text/plain": [
       "<Figure size 432x432 with 1 Axes>"
      ]
     },
     "metadata": {},
     "output_type": "display_data"
    }
   ],
   "source": [
    "plot = df['StatutMandat'].value_counts().plot(kind='pie', autopct='%.2f', \n",
    "                                            figsize=(6, 6),\n",
    "                                            title='StatutMandat')"
   ]
  },
  {
   "cell_type": "code",
   "execution_count": null,
   "id": "2547bb85",
   "metadata": {},
   "outputs": [],
   "source": [
    "df['DateNaissanceClient'].value_counts().sum()"
   ]
  },
  {
   "cell_type": "code",
   "execution_count": null,
   "id": "035d30b5",
   "metadata": {},
   "outputs": [],
   "source": [
    "indexNames = df[df['StatutMandat'] == 'Lead perdu'].index\n",
    "df.drop(indexNames, inplace = True)"
   ]
  },
  {
   "cell_type": "code",
   "execution_count": null,
   "id": "2d97d348",
   "metadata": {},
   "outputs": [],
   "source": [
    "indexNames = df[df['StatutMandat'] == 'Lead perdu'].index\n",
    "df.drop(indexNames, inplace = True)"
   ]
  },
  {
   "cell_type": "code",
   "execution_count": null,
   "id": "cdc4b7c1",
   "metadata": {},
   "outputs": [],
   "source": [
    "df[\"StatutMandat\"].value_counts(normalize = True)"
   ]
  },
  {
   "cell_type": "code",
   "execution_count": null,
   "id": "3883c263",
   "metadata": {},
   "outputs": [],
   "source": [
    "plot = df['StatutMandat'].value_counts().plot(kind='pie', autopct='%.2f', \n",
    "                                            figsize=(6, 6),\n",
    "                                            title='StatutMandat')"
   ]
  },
  {
   "cell_type": "code",
   "execution_count": null,
   "id": "f8320267",
   "metadata": {},
   "outputs": [],
   "source": [
    "df['StatutMandat'].replace(\"Mandat perdu\",0 ,inplace=True)\n",
    "df['StatutMandat'].replace(\"Entrée dans les lieux\",1 ,inplace=True)\n",
    "df['StatutMandat'].replace(\"Preparation de l'acte\",1 ,inplace=True)"
   ]
  },
  {
   "cell_type": "code",
   "execution_count": null,
   "id": "5a9faf0e",
   "metadata": {},
   "outputs": [],
   "source": [
    "plot = df['TypeBien'].value_counts().plot(kind='pie', autopct='%.2f', \n",
    "                                            figsize=(6, 6),\n",
    "                                            title='TypeBien')"
   ]
  },
  {
   "cell_type": "code",
   "execution_count": null,
   "id": "07b4a5d9",
   "metadata": {},
   "outputs": [],
   "source": [
    "plot = df['TypeProjet'].value_counts().plot(kind='pie', autopct='%.2f', \n",
    "                                            figsize=(6, 6),\n",
    "                                            title='TypeProjet')"
   ]
  },
  {
   "cell_type": "code",
   "execution_count": null,
   "id": "0f817dc3",
   "metadata": {},
   "outputs": [],
   "source": [
    "df['TypeBien'].replace(\"Appartement\",0 ,inplace=True)\n",
    "df['TypeBien'].replace(\"Maison\",1 ,inplace=True)\n",
    "df['TypeBien'].replace(\"Maison ou appartement\",2 ,inplace=True)\n",
    "df['TypeBien'].replace(\"Immeuble\",3 ,inplace=True)\n",
    "df['TypeBien'].replace(\"Studio\",4 ,inplace=True)\n",
    "df['TypeBien'].replace(\"Terrain\",5 ,inplace=True)\n",
    "df['TypeBien'].replace(\"Local\",6 ,inplace=True)\n",
    "df['TypeBien'].replace(\"Autre\",7 ,inplace=True)\n",
    "\n",
    "df['TypeProjet'].replace(\"Résidence principale\",0 ,inplace=True)\n",
    "df['TypeProjet'].replace(\"Investissement\",1 ,inplace=True)\n",
    "df['TypeProjet'].replace(\"Résidence secondaire\",2 ,inplace=True)\n",
    "\n",
    "df[\"NombreChambres\"].replace(\"6+\", 6, inplace = True)\n",
    "df[\"NombreChambres\"] = df[\"NombreChambres\"].astype(int)\n",
    "\n",
    "df[\"NombrePieces\"].replace(\"6+\", 6, inplace = True)\n",
    "df[\"NombrePieces\"] = df[\"NombrePieces\"].astype(int)"
   ]
  },
  {
   "cell_type": "code",
   "execution_count": null,
   "id": "a5959769",
   "metadata": {},
   "outputs": [],
   "source": [
    "plt.figure(figsize = (25,15))\n",
    "corr = df.corr()\n",
    "ax = sns.heatmap(\n",
    "    corr, \n",
    "    vmin=-1, vmax=1, center=0,\n",
    "    cmap=sns.diverging_palette(20, 220, n=200),\n",
    "    square=True,\n",
    "    annot = True\n",
    ")\n",
    "ax.set_xticklabels(\n",
    "    ax.get_xticklabels(),\n",
    "    rotation=45,\n",
    "    horizontalalignment='right'\n",
    ");"
   ]
  },
  {
   "cell_type": "code",
   "execution_count": null,
   "id": "45c6b51a",
   "metadata": {},
   "outputs": [],
   "source": [
    "df.info()"
   ]
  },
  {
   "cell_type": "code",
   "execution_count": null,
   "id": "b91c408e",
   "metadata": {},
   "outputs": [],
   "source": [
    "#df['DateNaissanceClient'] = pd.to_datetime(df['DateNaissanceClient'])"
   ]
  },
  {
   "cell_type": "code",
   "execution_count": null,
   "id": "3a522970",
   "metadata": {},
   "outputs": [],
   "source": [
    "df['DateMandat'] = pd.to_datetime(df['DateMandat'])"
   ]
  },
  {
   "cell_type": "code",
   "execution_count": null,
   "id": "f323a578",
   "metadata": {},
   "outputs": [],
   "source": [
    "df['DateNaissanceClient'] = pd.to_datetime(df['DateNaissanceClient'], errors = 'coerce')"
   ]
  },
  {
   "cell_type": "code",
   "execution_count": null,
   "id": "437ccaa4",
   "metadata": {},
   "outputs": [],
   "source": [
    "df['DateNaissanceClient'] = pd.to_datetime(df['DateNaissanceClient'])"
   ]
  },
  {
   "cell_type": "code",
   "execution_count": null,
   "id": "a612219a",
   "metadata": {},
   "outputs": [],
   "source": [
    "df.head()"
   ]
  },
  {
   "cell_type": "code",
   "execution_count": null,
   "id": "5daf1709",
   "metadata": {},
   "outputs": [],
   "source": [
    "df['MandatYear'] = df['DateMandat'].dt.year "
   ]
  },
  {
   "cell_type": "code",
   "execution_count": null,
   "id": "c6723c45",
   "metadata": {},
   "outputs": [],
   "source": [
    "df[\"ClientYear\"] = df[\"DateNaissanceClient\"].dt.year"
   ]
  },
  {
   "cell_type": "code",
   "execution_count": null,
   "id": "8316898d",
   "metadata": {},
   "outputs": [],
   "source": [
    "df['ClientYear'] = df['ClientYear'].fillna(0)"
   ]
  },
  {
   "cell_type": "code",
   "execution_count": null,
   "id": "51b503a5",
   "metadata": {},
   "outputs": [],
   "source": [
    "df[\"ClientYear\"]=df[\"ClientYear\"].astype(int)"
   ]
  },
  {
   "cell_type": "code",
   "execution_count": null,
   "id": "c3e2b11d",
   "metadata": {},
   "outputs": [],
   "source": [
    "df[\"AgeClient\"] = df[\"MandatYear\"] - df[\"ClientYear\"]"
   ]
  },
  {
   "cell_type": "code",
   "execution_count": null,
   "id": "e6ad9030",
   "metadata": {},
   "outputs": [],
   "source": [
    "plt.figure(figsize=(20,10))\n",
    "sns.countplot(df['AgeClient'])"
   ]
  },
  {
   "cell_type": "code",
   "execution_count": null,
   "id": "abf2db92",
   "metadata": {},
   "outputs": [],
   "source": [
    "df.head()"
   ]
  },
  {
   "cell_type": "code",
   "execution_count": null,
   "id": "48e0597b",
   "metadata": {},
   "outputs": [],
   "source": [
    "df.info()"
   ]
  },
  {
   "cell_type": "markdown",
   "id": "63f4a204",
   "metadata": {},
   "source": [
    "# Code postal client"
   ]
  },
  {
   "cell_type": "code",
   "execution_count": null,
   "id": "369b7154",
   "metadata": {},
   "outputs": [],
   "source": [
    "df.loc[df[\"CodePostalClient\"] == 'Box 4014']"
   ]
  },
  {
   "cell_type": "code",
   "execution_count": null,
   "id": "ec6c0e14",
   "metadata": {},
   "outputs": [],
   "source": [
    "df['CodePostalClient'].replace(\"Box 4014\",0 ,inplace=True)"
   ]
  },
  {
   "cell_type": "code",
   "execution_count": null,
   "id": "1d034c3e",
   "metadata": {},
   "outputs": [],
   "source": [
    "df['CodePostalClient'] = df['CodePostalClient'].fillna(0)"
   ]
  },
  {
   "cell_type": "code",
   "execution_count": null,
   "id": "ab4948b2",
   "metadata": {},
   "outputs": [],
   "source": [
    "df.loc[df[\"CodePostalClient\"] == '560 066']"
   ]
  },
  {
   "cell_type": "code",
   "execution_count": null,
   "id": "3c3f1517",
   "metadata": {},
   "outputs": [],
   "source": [
    "df['CodePostalClient'].replace(\"560 066\",560066 ,inplace=True)"
   ]
  },
  {
   "cell_type": "code",
   "execution_count": null,
   "id": "32fdba59",
   "metadata": {},
   "outputs": [],
   "source": [
    "df.loc[df[\"CodePostalClient\"] == 'RHI3JA']"
   ]
  },
  {
   "cell_type": "code",
   "execution_count": null,
   "id": "d5ee6dff",
   "metadata": {},
   "outputs": [],
   "source": [
    "df['CodePostalClient'].replace(\"RHI3JA\",0 ,inplace=True)"
   ]
  },
  {
   "cell_type": "code",
   "execution_count": null,
   "id": "90df7656",
   "metadata": {},
   "outputs": [],
   "source": [
    "df[\"CodePostalClient\"] = df[\"CodePostalClient\"].astype(int)"
   ]
  },
  {
   "cell_type": "code",
   "execution_count": null,
   "id": "f78faccf",
   "metadata": {},
   "outputs": [],
   "source": [
    "plt.figure(figsize = (25,15))\n",
    "corr = df.corr()\n",
    "ax = sns.heatmap(\n",
    "    corr, \n",
    "    vmin=-1, vmax=1, center=0,\n",
    "    cmap=sns.diverging_palette(20, 220, n=200),\n",
    "    square=True,\n",
    "    annot = True\n",
    ")\n",
    "ax.set_xticklabels(\n",
    "    ax.get_xticklabels(),\n",
    "    rotation=45,\n",
    "    horizontalalignment='right'\n",
    ");"
   ]
  },
  {
   "cell_type": "markdown",
   "id": "6733b251",
   "metadata": {},
   "source": [
    "# Code Postal Mandat"
   ]
  },
  {
   "cell_type": "code",
   "execution_count": null,
   "id": "5518a940",
   "metadata": {},
   "outputs": [],
   "source": [
    "df[\"CodePostal\"].value_counts()"
   ]
  },
  {
   "cell_type": "code",
   "execution_count": null,
   "id": "8bd07c23",
   "metadata": {},
   "outputs": [],
   "source": []
  },
  {
   "cell_type": "code",
   "execution_count": null,
   "id": "968ca472",
   "metadata": {},
   "outputs": [],
   "source": [
    "df[].groupby('CodePostal').sum()[\"NombreDeBiensActesOuCompromis\"]"
   ]
  },
  {
   "cell_type": "code",
   "execution_count": null,
   "id": "0e5c960e",
   "metadata": {},
   "outputs": [],
   "source": [
    "df.group(by=\"CodePostal\").sum()"
   ]
  },
  {
   "cell_type": "code",
   "execution_count": null,
   "id": "1cb2fe24",
   "metadata": {},
   "outputs": [],
   "source": [
    "df.groupby('CodePostal').sum()[\"NombreDeBiensActesOuCompromis\"].sort_values(ascending = False).plot.barh(figsize = (10,8))"
   ]
  },
  {
   "cell_type": "code",
   "execution_count": null,
   "id": "0cc89c57",
   "metadata": {},
   "outputs": [],
   "source": [
    "df.head(50)"
   ]
  },
  {
   "cell_type": "code",
   "execution_count": null,
   "id": "29dfbb9e",
   "metadata": {},
   "outputs": [],
   "source": [
    "plt.figure(figsize = (12,8))\n",
    "sns.heatmap(df.isnull() , \n",
    "            yticklabels=False, \n",
    "            cbar=False, \n",
    "            cmap='viridis')"
   ]
  },
  {
   "cell_type": "code",
   "execution_count": null,
   "id": "70c08984",
   "metadata": {},
   "outputs": [],
   "source": [
    "df[\"NombreBienLoc\"] = df.groupby('CodePostal')['NombreDeBiensActesOuCompromis'].sum()"
   ]
  },
  {
   "cell_type": "code",
   "execution_count": null,
   "id": "089e8ce9",
   "metadata": {},
   "outputs": [],
   "source": [
    "df. groupby ( 'CodePostal' ).count"
   ]
  },
  {
   "cell_type": "code",
   "execution_count": null,
   "id": "797d6ea0",
   "metadata": {},
   "outputs": [],
   "source": [
    "#df.groupby('manager')[['ventes','clients']].sum()\n"
   ]
  },
  {
   "cell_type": "code",
   "execution_count": null,
   "id": "45600866",
   "metadata": {},
   "outputs": [],
   "source": [
    "#df[\"NombreBienLoc\"]\n",
    "\n",
    "#je veux le nombre de bien vendu/ acté par localisation\n",
    "\n",
    "df.loc[df['NombreBienLoc'] == 3]"
   ]
  },
  {
   "cell_type": "code",
   "execution_count": null,
   "id": "aa0a2332",
   "metadata": {},
   "outputs": [],
   "source": [
    "df['NombreBienLoc'].max()"
   ]
  },
  {
   "cell_type": "code",
   "execution_count": null,
   "id": "9194f815",
   "metadata": {},
   "outputs": [],
   "source": [
    "df.loc[df['NombreBienLoc'] == 101.0]"
   ]
  },
  {
   "cell_type": "code",
   "execution_count": null,
   "id": "68810b66",
   "metadata": {},
   "outputs": [],
   "source": [
    "df.loc[df[\"CodePostal\"] == 69600]"
   ]
  },
  {
   "cell_type": "code",
   "execution_count": null,
   "id": "14f4d949",
   "metadata": {},
   "outputs": [],
   "source": [
    "df['NombreBienLoc'].value_counts()"
   ]
  },
  {
   "cell_type": "code",
   "execution_count": null,
   "id": "79cf78b1",
   "metadata": {},
   "outputs": [],
   "source": [
    "df.head()"
   ]
  },
  {
   "cell_type": "code",
   "execution_count": null,
   "id": "56c96dff",
   "metadata": {},
   "outputs": [],
   "source": [
    "df.info()"
   ]
  },
  {
   "cell_type": "code",
   "execution_count": null,
   "id": "ab2625b4",
   "metadata": {},
   "outputs": [],
   "source": [
    "plt.figure(figsize = (12,8))\n",
    "sns.heatmap(df.isnull() , \n",
    "            yticklabels=False, \n",
    "            cbar=False, \n",
    "            cmap='viridis')"
   ]
  },
  {
   "cell_type": "code",
   "execution_count": null,
   "id": "73666403",
   "metadata": {},
   "outputs": [],
   "source": []
  }
 ],
 "metadata": {
  "kernelspec": {
   "display_name": "Python 3",
   "language": "python",
   "name": "python3"
  },
  "language_info": {
   "codemirror_mode": {
    "name": "ipython",
    "version": 3
   },
   "file_extension": ".py",
   "mimetype": "text/x-python",
   "name": "python",
   "nbconvert_exporter": "python",
   "pygments_lexer": "ipython3",
   "version": "3.8.8"
  }
 },
 "nbformat": 4,
 "nbformat_minor": 5
}
