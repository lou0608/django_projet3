{
 "cells": [
  {
   "cell_type": "code",
   "execution_count": 1,
   "id": "fd098fe9",
   "metadata": {},
   "outputs": [],
   "source": [
    "import pandas as pd\n",
    "import numpy as np"
   ]
  },
  {
   "cell_type": "code",
   "execution_count": 2,
   "id": "2e293ab3",
   "metadata": {},
   "outputs": [
    {
     "data": {
      "text/html": [
       "<div>\n",
       "<style scoped>\n",
       "    .dataframe tbody tr th:only-of-type {\n",
       "        vertical-align: middle;\n",
       "    }\n",
       "\n",
       "    .dataframe tbody tr th {\n",
       "        vertical-align: top;\n",
       "    }\n",
       "\n",
       "    .dataframe thead th {\n",
       "        text-align: right;\n",
       "    }\n",
       "</style>\n",
       "<table border=\"1\" class=\"dataframe\">\n",
       "  <thead>\n",
       "    <tr style=\"text-align: right;\">\n",
       "      <th></th>\n",
       "      <th>mandate_id</th>\n",
       "      <th>created_at</th>\n",
       "      <th>mandate_signed_at</th>\n",
       "      <th>mandate_signature_delay</th>\n",
       "      <th>act_signed_at</th>\n",
       "      <th>act_signature_delay</th>\n",
       "      <th>budget</th>\n",
       "      <th>property_type</th>\n",
       "      <th>project_type</th>\n",
       "    </tr>\n",
       "  </thead>\n",
       "  <tbody>\n",
       "    <tr>\n",
       "      <th>0</th>\n",
       "      <td>83395</td>\n",
       "      <td>2021-07-02</td>\n",
       "      <td>2021-06-28</td>\n",
       "      <td>-4</td>\n",
       "      <td>NaN</td>\n",
       "      <td>0</td>\n",
       "      <td>420000</td>\n",
       "      <td>0</td>\n",
       "      <td>NaN</td>\n",
       "    </tr>\n",
       "    <tr>\n",
       "      <th>1</th>\n",
       "      <td>83390</td>\n",
       "      <td>2021-07-02</td>\n",
       "      <td>2021-06-25</td>\n",
       "      <td>-7</td>\n",
       "      <td>NaN</td>\n",
       "      <td>0</td>\n",
       "      <td>380000</td>\n",
       "      <td>0</td>\n",
       "      <td>NaN</td>\n",
       "    </tr>\n",
       "    <tr>\n",
       "      <th>2</th>\n",
       "      <td>83373</td>\n",
       "      <td>2021-07-02</td>\n",
       "      <td>2021-06-01</td>\n",
       "      <td>-31</td>\n",
       "      <td>NaN</td>\n",
       "      <td>0</td>\n",
       "      <td>650000</td>\n",
       "      <td>0</td>\n",
       "      <td>NaN</td>\n",
       "    </tr>\n",
       "    <tr>\n",
       "      <th>3</th>\n",
       "      <td>83345</td>\n",
       "      <td>2021-07-01</td>\n",
       "      <td>2021-01-01</td>\n",
       "      <td>-181</td>\n",
       "      <td>NaN</td>\n",
       "      <td>0</td>\n",
       "      <td>600000</td>\n",
       "      <td>0</td>\n",
       "      <td>NaN</td>\n",
       "    </tr>\n",
       "    <tr>\n",
       "      <th>4</th>\n",
       "      <td>83322</td>\n",
       "      <td>2021-06-30</td>\n",
       "      <td>2021-06-30</td>\n",
       "      <td>0</td>\n",
       "      <td>NaN</td>\n",
       "      <td>0</td>\n",
       "      <td>300000</td>\n",
       "      <td>0</td>\n",
       "      <td>NaN</td>\n",
       "    </tr>\n",
       "    <tr>\n",
       "      <th>5</th>\n",
       "      <td>83314</td>\n",
       "      <td>2021-06-30</td>\n",
       "      <td>2021-06-08</td>\n",
       "      <td>-22</td>\n",
       "      <td>NaN</td>\n",
       "      <td>0</td>\n",
       "      <td>600000</td>\n",
       "      <td>0</td>\n",
       "      <td>NaN</td>\n",
       "    </tr>\n",
       "    <tr>\n",
       "      <th>6</th>\n",
       "      <td>83298</td>\n",
       "      <td>2021-06-29</td>\n",
       "      <td>2021-06-30</td>\n",
       "      <td>1</td>\n",
       "      <td>NaN</td>\n",
       "      <td>0</td>\n",
       "      <td>300000</td>\n",
       "      <td>2</td>\n",
       "      <td>Investissement</td>\n",
       "    </tr>\n",
       "    <tr>\n",
       "      <th>7</th>\n",
       "      <td>83180</td>\n",
       "      <td>2021-06-25</td>\n",
       "      <td>2021-06-06</td>\n",
       "      <td>-19</td>\n",
       "      <td>NaN</td>\n",
       "      <td>0</td>\n",
       "      <td>650000</td>\n",
       "      <td>0</td>\n",
       "      <td>NaN</td>\n",
       "    </tr>\n",
       "    <tr>\n",
       "      <th>8</th>\n",
       "      <td>83137</td>\n",
       "      <td>2021-06-23</td>\n",
       "      <td>2021-06-01</td>\n",
       "      <td>-22</td>\n",
       "      <td>NaN</td>\n",
       "      <td>0</td>\n",
       "      <td>300000</td>\n",
       "      <td>0</td>\n",
       "      <td>NaN</td>\n",
       "    </tr>\n",
       "    <tr>\n",
       "      <th>9</th>\n",
       "      <td>83109</td>\n",
       "      <td>2021-06-23</td>\n",
       "      <td>2021-06-23</td>\n",
       "      <td>0</td>\n",
       "      <td>NaN</td>\n",
       "      <td>0</td>\n",
       "      <td>1400000</td>\n",
       "      <td>1</td>\n",
       "      <td>Résidence principale</td>\n",
       "    </tr>\n",
       "    <tr>\n",
       "      <th>10</th>\n",
       "      <td>83103</td>\n",
       "      <td>2021-06-23</td>\n",
       "      <td>2021-06-23</td>\n",
       "      <td>0</td>\n",
       "      <td>NaN</td>\n",
       "      <td>0</td>\n",
       "      <td>720000</td>\n",
       "      <td>2</td>\n",
       "      <td>Résidence principale</td>\n",
       "    </tr>\n",
       "    <tr>\n",
       "      <th>11</th>\n",
       "      <td>83080</td>\n",
       "      <td>2021-06-23</td>\n",
       "      <td>2021-06-23</td>\n",
       "      <td>0</td>\n",
       "      <td>NaN</td>\n",
       "      <td>0</td>\n",
       "      <td>950000</td>\n",
       "      <td>2</td>\n",
       "      <td>Résidence principale</td>\n",
       "    </tr>\n",
       "    <tr>\n",
       "      <th>12</th>\n",
       "      <td>83011</td>\n",
       "      <td>2021-06-21</td>\n",
       "      <td>2021-06-22</td>\n",
       "      <td>1</td>\n",
       "      <td>NaN</td>\n",
       "      <td>0</td>\n",
       "      <td>1000000</td>\n",
       "      <td>2</td>\n",
       "      <td>Résidence principale</td>\n",
       "    </tr>\n",
       "    <tr>\n",
       "      <th>13</th>\n",
       "      <td>82922</td>\n",
       "      <td>2021-06-17</td>\n",
       "      <td>2021-06-21</td>\n",
       "      <td>4</td>\n",
       "      <td>NaN</td>\n",
       "      <td>0</td>\n",
       "      <td>600000</td>\n",
       "      <td>2</td>\n",
       "      <td>Résidence principale</td>\n",
       "    </tr>\n",
       "    <tr>\n",
       "      <th>14</th>\n",
       "      <td>82917</td>\n",
       "      <td>2021-06-17</td>\n",
       "      <td>2021-06-21</td>\n",
       "      <td>4</td>\n",
       "      <td>NaN</td>\n",
       "      <td>0</td>\n",
       "      <td>380000</td>\n",
       "      <td>2</td>\n",
       "      <td>Résidence principale</td>\n",
       "    </tr>\n",
       "    <tr>\n",
       "      <th>15</th>\n",
       "      <td>82887</td>\n",
       "      <td>2021-06-17</td>\n",
       "      <td>2021-06-27</td>\n",
       "      <td>10</td>\n",
       "      <td>NaN</td>\n",
       "      <td>0</td>\n",
       "      <td>170000</td>\n",
       "      <td>2</td>\n",
       "      <td>Investissement</td>\n",
       "    </tr>\n",
       "    <tr>\n",
       "      <th>16</th>\n",
       "      <td>82872</td>\n",
       "      <td>2021-06-16</td>\n",
       "      <td>2021-06-21</td>\n",
       "      <td>5</td>\n",
       "      <td>NaN</td>\n",
       "      <td>0</td>\n",
       "      <td>230000</td>\n",
       "      <td>7</td>\n",
       "      <td>Résidence principale</td>\n",
       "    </tr>\n",
       "    <tr>\n",
       "      <th>17</th>\n",
       "      <td>82862</td>\n",
       "      <td>2021-06-16</td>\n",
       "      <td>2021-06-16</td>\n",
       "      <td>0</td>\n",
       "      <td>NaN</td>\n",
       "      <td>0</td>\n",
       "      <td>350000</td>\n",
       "      <td>2</td>\n",
       "      <td>Investissement</td>\n",
       "    </tr>\n",
       "    <tr>\n",
       "      <th>18</th>\n",
       "      <td>82819</td>\n",
       "      <td>2021-06-14</td>\n",
       "      <td>2021-06-15</td>\n",
       "      <td>1</td>\n",
       "      <td>NaN</td>\n",
       "      <td>0</td>\n",
       "      <td>700000</td>\n",
       "      <td>2</td>\n",
       "      <td>Résidence principale</td>\n",
       "    </tr>\n",
       "    <tr>\n",
       "      <th>19</th>\n",
       "      <td>82782</td>\n",
       "      <td>2021-06-14</td>\n",
       "      <td>2021-06-14</td>\n",
       "      <td>0</td>\n",
       "      <td>NaN</td>\n",
       "      <td>0</td>\n",
       "      <td>350000</td>\n",
       "      <td>1</td>\n",
       "      <td>Résidence principale</td>\n",
       "    </tr>\n",
       "  </tbody>\n",
       "</table>\n",
       "</div>"
      ],
      "text/plain": [
       "    mandate_id  created_at mandate_signed_at  mandate_signature_delay  \\\n",
       "0        83395  2021-07-02        2021-06-28                       -4   \n",
       "1        83390  2021-07-02        2021-06-25                       -7   \n",
       "2        83373  2021-07-02        2021-06-01                      -31   \n",
       "3        83345  2021-07-01        2021-01-01                     -181   \n",
       "4        83322  2021-06-30        2021-06-30                        0   \n",
       "5        83314  2021-06-30        2021-06-08                      -22   \n",
       "6        83298  2021-06-29        2021-06-30                        1   \n",
       "7        83180  2021-06-25        2021-06-06                      -19   \n",
       "8        83137  2021-06-23        2021-06-01                      -22   \n",
       "9        83109  2021-06-23        2021-06-23                        0   \n",
       "10       83103  2021-06-23        2021-06-23                        0   \n",
       "11       83080  2021-06-23        2021-06-23                        0   \n",
       "12       83011  2021-06-21        2021-06-22                        1   \n",
       "13       82922  2021-06-17        2021-06-21                        4   \n",
       "14       82917  2021-06-17        2021-06-21                        4   \n",
       "15       82887  2021-06-17        2021-06-27                       10   \n",
       "16       82872  2021-06-16        2021-06-21                        5   \n",
       "17       82862  2021-06-16        2021-06-16                        0   \n",
       "18       82819  2021-06-14        2021-06-15                        1   \n",
       "19       82782  2021-06-14        2021-06-14                        0   \n",
       "\n",
       "   act_signed_at  act_signature_delay   budget  property_type  \\\n",
       "0            NaN                    0   420000              0   \n",
       "1            NaN                    0   380000              0   \n",
       "2            NaN                    0   650000              0   \n",
       "3            NaN                    0   600000              0   \n",
       "4            NaN                    0   300000              0   \n",
       "5            NaN                    0   600000              0   \n",
       "6            NaN                    0   300000              2   \n",
       "7            NaN                    0   650000              0   \n",
       "8            NaN                    0   300000              0   \n",
       "9            NaN                    0  1400000              1   \n",
       "10           NaN                    0   720000              2   \n",
       "11           NaN                    0   950000              2   \n",
       "12           NaN                    0  1000000              2   \n",
       "13           NaN                    0   600000              2   \n",
       "14           NaN                    0   380000              2   \n",
       "15           NaN                    0   170000              2   \n",
       "16           NaN                    0   230000              7   \n",
       "17           NaN                    0   350000              2   \n",
       "18           NaN                    0   700000              2   \n",
       "19           NaN                    0   350000              1   \n",
       "\n",
       "            project_type  \n",
       "0                    NaN  \n",
       "1                    NaN  \n",
       "2                    NaN  \n",
       "3                    NaN  \n",
       "4                    NaN  \n",
       "5                    NaN  \n",
       "6         Investissement  \n",
       "7                    NaN  \n",
       "8                    NaN  \n",
       "9   Résidence principale  \n",
       "10  Résidence principale  \n",
       "11  Résidence principale  \n",
       "12  Résidence principale  \n",
       "13  Résidence principale  \n",
       "14  Résidence principale  \n",
       "15        Investissement  \n",
       "16  Résidence principale  \n",
       "17        Investissement  \n",
       "18  Résidence principale  \n",
       "19  Résidence principale  "
      ]
     },
     "execution_count": 2,
     "metadata": {},
     "output_type": "execute_result"
    }
   ],
   "source": [
    "df = pd.read_csv(\"ml-data-fetching.csv\", sep = \",\")\n",
    "df.head(20)"
   ]
  },
  {
   "cell_type": "code",
   "execution_count": 3,
   "id": "7ffff85b",
   "metadata": {},
   "outputs": [
    {
     "name": "stdout",
     "output_type": "stream",
     "text": [
      "<class 'pandas.core.frame.DataFrame'>\n",
      "RangeIndex: 2544 entries, 0 to 2543\n",
      "Data columns (total 9 columns):\n",
      " #   Column                   Non-Null Count  Dtype \n",
      "---  ------                   --------------  ----- \n",
      " 0   mandate_id               2544 non-null   int64 \n",
      " 1   created_at               2544 non-null   object\n",
      " 2   mandate_signed_at        2544 non-null   object\n",
      " 3   mandate_signature_delay  2544 non-null   int64 \n",
      " 4   act_signed_at            2130 non-null   object\n",
      " 5   act_signature_delay      2544 non-null   int64 \n",
      " 6   budget                   2544 non-null   int64 \n",
      " 7   property_type            2544 non-null   int64 \n",
      " 8   project_type             2496 non-null   object\n",
      "dtypes: int64(5), object(4)\n",
      "memory usage: 179.0+ KB\n"
     ]
    }
   ],
   "source": [
    "df.info()"
   ]
  },
  {
   "cell_type": "code",
   "execution_count": 4,
   "id": "beb97177",
   "metadata": {},
   "outputs": [
    {
     "data": {
      "text/html": [
       "<div>\n",
       "<style scoped>\n",
       "    .dataframe tbody tr th:only-of-type {\n",
       "        vertical-align: middle;\n",
       "    }\n",
       "\n",
       "    .dataframe tbody tr th {\n",
       "        vertical-align: top;\n",
       "    }\n",
       "\n",
       "    .dataframe thead th {\n",
       "        text-align: right;\n",
       "    }\n",
       "</style>\n",
       "<table border=\"1\" class=\"dataframe\">\n",
       "  <thead>\n",
       "    <tr style=\"text-align: right;\">\n",
       "      <th></th>\n",
       "      <th>mandate_id</th>\n",
       "      <th>mandate_signature_delay</th>\n",
       "      <th>act_signature_delay</th>\n",
       "      <th>budget</th>\n",
       "      <th>property_type</th>\n",
       "    </tr>\n",
       "  </thead>\n",
       "  <tbody>\n",
       "    <tr>\n",
       "      <th>count</th>\n",
       "      <td>2544.000000</td>\n",
       "      <td>2544.000000</td>\n",
       "      <td>2544.000000</td>\n",
       "      <td>2.544000e+03</td>\n",
       "      <td>2544.000000</td>\n",
       "    </tr>\n",
       "    <tr>\n",
       "      <th>mean</th>\n",
       "      <td>54886.903302</td>\n",
       "      <td>21.033019</td>\n",
       "      <td>86.452830</td>\n",
       "      <td>3.508887e+05</td>\n",
       "      <td>2.320362</td>\n",
       "    </tr>\n",
       "    <tr>\n",
       "      <th>std</th>\n",
       "      <td>20577.017056</td>\n",
       "      <td>55.731122</td>\n",
       "      <td>87.019925</td>\n",
       "      <td>3.229104e+05</td>\n",
       "      <td>1.624612</td>\n",
       "    </tr>\n",
       "    <tr>\n",
       "      <th>min</th>\n",
       "      <td>78.000000</td>\n",
       "      <td>-181.000000</td>\n",
       "      <td>-37.000000</td>\n",
       "      <td>0.000000e+00</td>\n",
       "      <td>0.000000</td>\n",
       "    </tr>\n",
       "    <tr>\n",
       "      <th>25%</th>\n",
       "      <td>41427.000000</td>\n",
       "      <td>2.000000</td>\n",
       "      <td>34.750000</td>\n",
       "      <td>1.900000e+05</td>\n",
       "      <td>2.000000</td>\n",
       "    </tr>\n",
       "    <tr>\n",
       "      <th>50%</th>\n",
       "      <td>58040.000000</td>\n",
       "      <td>6.000000</td>\n",
       "      <td>68.000000</td>\n",
       "      <td>2.700000e+05</td>\n",
       "      <td>2.000000</td>\n",
       "    </tr>\n",
       "    <tr>\n",
       "      <th>75%</th>\n",
       "      <td>72066.750000</td>\n",
       "      <td>17.000000</td>\n",
       "      <td>118.000000</td>\n",
       "      <td>4.000000e+05</td>\n",
       "      <td>2.000000</td>\n",
       "    </tr>\n",
       "    <tr>\n",
       "      <th>max</th>\n",
       "      <td>83395.000000</td>\n",
       "      <td>1063.000000</td>\n",
       "      <td>1105.000000</td>\n",
       "      <td>7.000000e+06</td>\n",
       "      <td>8.000000</td>\n",
       "    </tr>\n",
       "  </tbody>\n",
       "</table>\n",
       "</div>"
      ],
      "text/plain": [
       "         mandate_id  mandate_signature_delay  act_signature_delay  \\\n",
       "count   2544.000000              2544.000000          2544.000000   \n",
       "mean   54886.903302                21.033019            86.452830   \n",
       "std    20577.017056                55.731122            87.019925   \n",
       "min       78.000000              -181.000000           -37.000000   \n",
       "25%    41427.000000                 2.000000            34.750000   \n",
       "50%    58040.000000                 6.000000            68.000000   \n",
       "75%    72066.750000                17.000000           118.000000   \n",
       "max    83395.000000              1063.000000          1105.000000   \n",
       "\n",
       "             budget  property_type  \n",
       "count  2.544000e+03    2544.000000  \n",
       "mean   3.508887e+05       2.320362  \n",
       "std    3.229104e+05       1.624612  \n",
       "min    0.000000e+00       0.000000  \n",
       "25%    1.900000e+05       2.000000  \n",
       "50%    2.700000e+05       2.000000  \n",
       "75%    4.000000e+05       2.000000  \n",
       "max    7.000000e+06       8.000000  "
      ]
     },
     "execution_count": 4,
     "metadata": {},
     "output_type": "execute_result"
    }
   ],
   "source": [
    "df.describe()"
   ]
  },
  {
   "cell_type": "code",
   "execution_count": 5,
   "id": "2ae53054",
   "metadata": {},
   "outputs": [
    {
     "name": "stdout",
     "output_type": "stream",
     "text": [
      "Nombre de lignes dupliquées 0\n"
     ]
    }
   ],
   "source": [
    "print(\"Nombre de lignes dupliquées\", df.duplicated().sum())"
   ]
  },
  {
   "cell_type": "code",
   "execution_count": 6,
   "id": "4f95585a",
   "metadata": {},
   "outputs": [
    {
     "data": {
      "text/plain": [
       "2020-07-16    9\n",
       "2020-06-30    8\n",
       "2019-12-19    8\n",
       "2020-07-09    8\n",
       "2021-02-26    8\n",
       "             ..\n",
       "2019-01-21    1\n",
       "2012-10-16    1\n",
       "2019-01-16    1\n",
       "2015-12-15    1\n",
       "2018-12-30    1\n",
       "Name: act_signed_at, Length: 1105, dtype: int64"
      ]
     },
     "execution_count": 6,
     "metadata": {},
     "output_type": "execute_result"
    }
   ],
   "source": [
    "df[\"act_signed_at\"].value_counts()"
   ]
  },
  {
   "cell_type": "markdown",
   "id": "248f8135",
   "metadata": {},
   "source": [
    "### Analyse de la colonne act_signature_delay"
   ]
  },
  {
   "cell_type": "code",
   "execution_count": 7,
   "id": "91c745ee",
   "metadata": {},
   "outputs": [
    {
     "data": {
      "text/plain": [
       "0       416\n",
       "56       30\n",
       "64       28\n",
       "45       26\n",
       "57       25\n",
       "       ... \n",
       "418       1\n",
       "412       1\n",
       "400       1\n",
       "374       1\n",
       "1105      1\n",
       "Name: act_signature_delay, Length: 323, dtype: int64"
      ]
     },
     "execution_count": 7,
     "metadata": {},
     "output_type": "execute_result"
    }
   ],
   "source": [
    "df[\"act_signature_delay\"].value_counts()"
   ]
  },
  {
   "cell_type": "code",
   "execution_count": 8,
   "id": "b43ac704",
   "metadata": {},
   "outputs": [
    {
     "data": {
      "text/html": [
       "<div>\n",
       "<style scoped>\n",
       "    .dataframe tbody tr th:only-of-type {\n",
       "        vertical-align: middle;\n",
       "    }\n",
       "\n",
       "    .dataframe tbody tr th {\n",
       "        vertical-align: top;\n",
       "    }\n",
       "\n",
       "    .dataframe thead th {\n",
       "        text-align: right;\n",
       "    }\n",
       "</style>\n",
       "<table border=\"1\" class=\"dataframe\">\n",
       "  <thead>\n",
       "    <tr style=\"text-align: right;\">\n",
       "      <th></th>\n",
       "      <th>mandate_id</th>\n",
       "      <th>created_at</th>\n",
       "      <th>mandate_signed_at</th>\n",
       "      <th>mandate_signature_delay</th>\n",
       "      <th>act_signed_at</th>\n",
       "      <th>act_signature_delay</th>\n",
       "      <th>budget</th>\n",
       "      <th>property_type</th>\n",
       "      <th>project_type</th>\n",
       "    </tr>\n",
       "  </thead>\n",
       "  <tbody>\n",
       "    <tr>\n",
       "      <th>0</th>\n",
       "      <td>83395</td>\n",
       "      <td>2021-07-02</td>\n",
       "      <td>2021-06-28</td>\n",
       "      <td>-4</td>\n",
       "      <td>NaN</td>\n",
       "      <td>0</td>\n",
       "      <td>420000</td>\n",
       "      <td>0</td>\n",
       "      <td>NaN</td>\n",
       "    </tr>\n",
       "    <tr>\n",
       "      <th>1</th>\n",
       "      <td>83390</td>\n",
       "      <td>2021-07-02</td>\n",
       "      <td>2021-06-25</td>\n",
       "      <td>-7</td>\n",
       "      <td>NaN</td>\n",
       "      <td>0</td>\n",
       "      <td>380000</td>\n",
       "      <td>0</td>\n",
       "      <td>NaN</td>\n",
       "    </tr>\n",
       "    <tr>\n",
       "      <th>2</th>\n",
       "      <td>83373</td>\n",
       "      <td>2021-07-02</td>\n",
       "      <td>2021-06-01</td>\n",
       "      <td>-31</td>\n",
       "      <td>NaN</td>\n",
       "      <td>0</td>\n",
       "      <td>650000</td>\n",
       "      <td>0</td>\n",
       "      <td>NaN</td>\n",
       "    </tr>\n",
       "    <tr>\n",
       "      <th>3</th>\n",
       "      <td>83345</td>\n",
       "      <td>2021-07-01</td>\n",
       "      <td>2021-01-01</td>\n",
       "      <td>-181</td>\n",
       "      <td>NaN</td>\n",
       "      <td>0</td>\n",
       "      <td>600000</td>\n",
       "      <td>0</td>\n",
       "      <td>NaN</td>\n",
       "    </tr>\n",
       "    <tr>\n",
       "      <th>4</th>\n",
       "      <td>83322</td>\n",
       "      <td>2021-06-30</td>\n",
       "      <td>2021-06-30</td>\n",
       "      <td>0</td>\n",
       "      <td>NaN</td>\n",
       "      <td>0</td>\n",
       "      <td>300000</td>\n",
       "      <td>0</td>\n",
       "      <td>NaN</td>\n",
       "    </tr>\n",
       "    <tr>\n",
       "      <th>...</th>\n",
       "      <td>...</td>\n",
       "      <td>...</td>\n",
       "      <td>...</td>\n",
       "      <td>...</td>\n",
       "      <td>...</td>\n",
       "      <td>...</td>\n",
       "      <td>...</td>\n",
       "      <td>...</td>\n",
       "      <td>...</td>\n",
       "    </tr>\n",
       "    <tr>\n",
       "      <th>2539</th>\n",
       "      <td>455</td>\n",
       "      <td>2012-08-03</td>\n",
       "      <td>2012-08-07</td>\n",
       "      <td>4</td>\n",
       "      <td>2012-10-01</td>\n",
       "      <td>59</td>\n",
       "      <td>130000</td>\n",
       "      <td>5</td>\n",
       "      <td>Résidence principale</td>\n",
       "    </tr>\n",
       "    <tr>\n",
       "      <th>2540</th>\n",
       "      <td>405</td>\n",
       "      <td>2012-07-25</td>\n",
       "      <td>2012-07-27</td>\n",
       "      <td>2</td>\n",
       "      <td>2012-11-20</td>\n",
       "      <td>118</td>\n",
       "      <td>100000</td>\n",
       "      <td>5</td>\n",
       "      <td>Investissement</td>\n",
       "    </tr>\n",
       "    <tr>\n",
       "      <th>2541</th>\n",
       "      <td>321</td>\n",
       "      <td>2012-07-09</td>\n",
       "      <td>2012-07-09</td>\n",
       "      <td>0</td>\n",
       "      <td>2012-07-13</td>\n",
       "      <td>4</td>\n",
       "      <td>110000</td>\n",
       "      <td>1</td>\n",
       "      <td>Investissement</td>\n",
       "    </tr>\n",
       "    <tr>\n",
       "      <th>2542</th>\n",
       "      <td>228</td>\n",
       "      <td>2012-06-14</td>\n",
       "      <td>2012-07-04</td>\n",
       "      <td>20</td>\n",
       "      <td>2012-09-13</td>\n",
       "      <td>91</td>\n",
       "      <td>100000</td>\n",
       "      <td>2</td>\n",
       "      <td>Investissement</td>\n",
       "    </tr>\n",
       "    <tr>\n",
       "      <th>2543</th>\n",
       "      <td>78</td>\n",
       "      <td>2012-05-21</td>\n",
       "      <td>2012-05-22</td>\n",
       "      <td>1</td>\n",
       "      <td>2012-10-05</td>\n",
       "      <td>137</td>\n",
       "      <td>500000</td>\n",
       "      <td>1</td>\n",
       "      <td>Résidence principale</td>\n",
       "    </tr>\n",
       "  </tbody>\n",
       "</table>\n",
       "<p>2544 rows × 9 columns</p>\n",
       "</div>"
      ],
      "text/plain": [
       "      mandate_id  created_at mandate_signed_at  mandate_signature_delay  \\\n",
       "0          83395  2021-07-02        2021-06-28                       -4   \n",
       "1          83390  2021-07-02        2021-06-25                       -7   \n",
       "2          83373  2021-07-02        2021-06-01                      -31   \n",
       "3          83345  2021-07-01        2021-01-01                     -181   \n",
       "4          83322  2021-06-30        2021-06-30                        0   \n",
       "...          ...         ...               ...                      ...   \n",
       "2539         455  2012-08-03        2012-08-07                        4   \n",
       "2540         405  2012-07-25        2012-07-27                        2   \n",
       "2541         321  2012-07-09        2012-07-09                        0   \n",
       "2542         228  2012-06-14        2012-07-04                       20   \n",
       "2543          78  2012-05-21        2012-05-22                        1   \n",
       "\n",
       "     act_signed_at  act_signature_delay  budget  property_type  \\\n",
       "0              NaN                    0  420000              0   \n",
       "1              NaN                    0  380000              0   \n",
       "2              NaN                    0  650000              0   \n",
       "3              NaN                    0  600000              0   \n",
       "4              NaN                    0  300000              0   \n",
       "...            ...                  ...     ...            ...   \n",
       "2539    2012-10-01                   59  130000              5   \n",
       "2540    2012-11-20                  118  100000              5   \n",
       "2541    2012-07-13                    4  110000              1   \n",
       "2542    2012-09-13                   91  100000              2   \n",
       "2543    2012-10-05                  137  500000              1   \n",
       "\n",
       "              project_type  \n",
       "0                      NaN  \n",
       "1                      NaN  \n",
       "2                      NaN  \n",
       "3                      NaN  \n",
       "4                      NaN  \n",
       "...                    ...  \n",
       "2539  Résidence principale  \n",
       "2540        Investissement  \n",
       "2541        Investissement  \n",
       "2542        Investissement  \n",
       "2543  Résidence principale  \n",
       "\n",
       "[2544 rows x 9 columns]"
      ]
     },
     "execution_count": 8,
     "metadata": {},
     "output_type": "execute_result"
    }
   ],
   "source": [
    "df.dropna(subset = ['act_signature_delay'])\n"
   ]
  },
  {
   "cell_type": "markdown",
   "id": "becdf91f",
   "metadata": {},
   "source": [
    "### Gestion des valeurs aberrantes "
   ]
  },
  {
   "cell_type": "markdown",
   "id": "96307464",
   "metadata": {},
   "source": [
    "Comment gerer les valeurs qui sont superieures a 45?\n",
    "A partir de combien de jours on considère qu'une valeur est une valeur aberrante?"
   ]
  },
  {
   "cell_type": "code",
   "execution_count": 9,
   "id": "aecd470c",
   "metadata": {},
   "outputs": [
    {
     "data": {
      "text/plain": [
       "1105"
      ]
     },
     "execution_count": 9,
     "metadata": {},
     "output_type": "execute_result"
    }
   ],
   "source": [
    "df[\"act_signature_delay\"].max()"
   ]
  },
  {
   "cell_type": "code",
   "execution_count": 10,
   "id": "0d139429",
   "metadata": {},
   "outputs": [
    {
     "data": {
      "text/plain": [
       "-37"
      ]
     },
     "execution_count": 10,
     "metadata": {},
     "output_type": "execute_result"
    }
   ],
   "source": [
    "df[\"act_signature_delay\"].min()"
   ]
  },
  {
   "cell_type": "markdown",
   "id": "e3faab01",
   "metadata": {},
   "source": [
    "Que sont ces valeurs negatives?"
   ]
  },
  {
   "cell_type": "markdown",
   "id": "6679ae3d",
   "metadata": {},
   "source": [
    "suppression des valeurs negatives"
   ]
  },
  {
   "cell_type": "code",
   "execution_count": 11,
   "id": "8a07bb2a",
   "metadata": {},
   "outputs": [
    {
     "data": {
      "text/html": [
       "<div>\n",
       "<style scoped>\n",
       "    .dataframe tbody tr th:only-of-type {\n",
       "        vertical-align: middle;\n",
       "    }\n",
       "\n",
       "    .dataframe tbody tr th {\n",
       "        vertical-align: top;\n",
       "    }\n",
       "\n",
       "    .dataframe thead th {\n",
       "        text-align: right;\n",
       "    }\n",
       "</style>\n",
       "<table border=\"1\" class=\"dataframe\">\n",
       "  <thead>\n",
       "    <tr style=\"text-align: right;\">\n",
       "      <th></th>\n",
       "      <th>mandate_id</th>\n",
       "      <th>created_at</th>\n",
       "      <th>mandate_signed_at</th>\n",
       "      <th>mandate_signature_delay</th>\n",
       "      <th>act_signed_at</th>\n",
       "      <th>act_signature_delay</th>\n",
       "      <th>budget</th>\n",
       "      <th>property_type</th>\n",
       "      <th>project_type</th>\n",
       "    </tr>\n",
       "  </thead>\n",
       "  <tbody>\n",
       "    <tr>\n",
       "      <th>421</th>\n",
       "      <td>76386</td>\n",
       "      <td>2020-11-18</td>\n",
       "      <td>2020-11-18</td>\n",
       "      <td>0</td>\n",
       "      <td>2020-11-01</td>\n",
       "      <td>-17</td>\n",
       "      <td>388000</td>\n",
       "      <td>1</td>\n",
       "      <td>Résidence principale</td>\n",
       "    </tr>\n",
       "    <tr>\n",
       "      <th>813</th>\n",
       "      <td>68155</td>\n",
       "      <td>2020-03-20</td>\n",
       "      <td>2020-02-01</td>\n",
       "      <td>-48</td>\n",
       "      <td>2020-03-02</td>\n",
       "      <td>-18</td>\n",
       "      <td>0</td>\n",
       "      <td>0</td>\n",
       "      <td>NaN</td>\n",
       "    </tr>\n",
       "    <tr>\n",
       "      <th>1157</th>\n",
       "      <td>60543</td>\n",
       "      <td>2019-09-27</td>\n",
       "      <td>2019-09-03</td>\n",
       "      <td>-24</td>\n",
       "      <td>2019-09-03</td>\n",
       "      <td>-24</td>\n",
       "      <td>0</td>\n",
       "      <td>0</td>\n",
       "      <td>NaN</td>\n",
       "    </tr>\n",
       "    <tr>\n",
       "      <th>1360</th>\n",
       "      <td>56234</td>\n",
       "      <td>2019-06-05</td>\n",
       "      <td>2019-06-05</td>\n",
       "      <td>0</td>\n",
       "      <td>2019-04-29</td>\n",
       "      <td>-37</td>\n",
       "      <td>230000</td>\n",
       "      <td>2</td>\n",
       "      <td>NaN</td>\n",
       "    </tr>\n",
       "    <tr>\n",
       "      <th>2003</th>\n",
       "      <td>38248</td>\n",
       "      <td>2017-10-09</td>\n",
       "      <td>2017-10-05</td>\n",
       "      <td>-4</td>\n",
       "      <td>2017-10-05</td>\n",
       "      <td>-4</td>\n",
       "      <td>200000</td>\n",
       "      <td>2</td>\n",
       "      <td>Investissement</td>\n",
       "    </tr>\n",
       "    <tr>\n",
       "      <th>2419</th>\n",
       "      <td>8927</td>\n",
       "      <td>2015-03-19</td>\n",
       "      <td>2014-12-17</td>\n",
       "      <td>-92</td>\n",
       "      <td>2015-02-11</td>\n",
       "      <td>-36</td>\n",
       "      <td>195000</td>\n",
       "      <td>6</td>\n",
       "      <td>Investissement</td>\n",
       "    </tr>\n",
       "    <tr>\n",
       "      <th>2502</th>\n",
       "      <td>3946</td>\n",
       "      <td>2013-11-26</td>\n",
       "      <td>2013-11-13</td>\n",
       "      <td>-13</td>\n",
       "      <td>2013-11-13</td>\n",
       "      <td>-13</td>\n",
       "      <td>95400</td>\n",
       "      <td>6</td>\n",
       "      <td>Investissement</td>\n",
       "    </tr>\n",
       "  </tbody>\n",
       "</table>\n",
       "</div>"
      ],
      "text/plain": [
       "      mandate_id  created_at mandate_signed_at  mandate_signature_delay  \\\n",
       "421        76386  2020-11-18        2020-11-18                        0   \n",
       "813        68155  2020-03-20        2020-02-01                      -48   \n",
       "1157       60543  2019-09-27        2019-09-03                      -24   \n",
       "1360       56234  2019-06-05        2019-06-05                        0   \n",
       "2003       38248  2017-10-09        2017-10-05                       -4   \n",
       "2419        8927  2015-03-19        2014-12-17                      -92   \n",
       "2502        3946  2013-11-26        2013-11-13                      -13   \n",
       "\n",
       "     act_signed_at  act_signature_delay  budget  property_type  \\\n",
       "421     2020-11-01                  -17  388000              1   \n",
       "813     2020-03-02                  -18       0              0   \n",
       "1157    2019-09-03                  -24       0              0   \n",
       "1360    2019-04-29                  -37  230000              2   \n",
       "2003    2017-10-05                   -4  200000              2   \n",
       "2419    2015-02-11                  -36  195000              6   \n",
       "2502    2013-11-13                  -13   95400              6   \n",
       "\n",
       "              project_type  \n",
       "421   Résidence principale  \n",
       "813                    NaN  \n",
       "1157                   NaN  \n",
       "1360                   NaN  \n",
       "2003        Investissement  \n",
       "2419        Investissement  \n",
       "2502        Investissement  "
      ]
     },
     "execution_count": 11,
     "metadata": {},
     "output_type": "execute_result"
    }
   ],
   "source": [
    "df.loc[df['act_signature_delay'] < 0]"
   ]
  },
  {
   "cell_type": "code",
   "execution_count": 12,
   "id": "eb07f361",
   "metadata": {},
   "outputs": [
    {
     "data": {
      "text/plain": [
       "86.45283018867924"
      ]
     },
     "execution_count": 12,
     "metadata": {},
     "output_type": "execute_result"
    }
   ],
   "source": [
    "df[\"act_signature_delay\"].mean()"
   ]
  },
  {
   "cell_type": "code",
   "execution_count": 79,
   "id": "8b4c89c7",
   "metadata": {},
   "outputs": [
    {
     "data": {
      "text/html": [
       "<div>\n",
       "<style scoped>\n",
       "    .dataframe tbody tr th:only-of-type {\n",
       "        vertical-align: middle;\n",
       "    }\n",
       "\n",
       "    .dataframe tbody tr th {\n",
       "        vertical-align: top;\n",
       "    }\n",
       "\n",
       "    .dataframe thead th {\n",
       "        text-align: right;\n",
       "    }\n",
       "</style>\n",
       "<table border=\"1\" class=\"dataframe\">\n",
       "  <thead>\n",
       "    <tr style=\"text-align: right;\">\n",
       "      <th></th>\n",
       "      <th>mandate_id</th>\n",
       "      <th>created_at</th>\n",
       "      <th>mandate_signed_at</th>\n",
       "      <th>mandate_signature_delay</th>\n",
       "      <th>act_signed_at</th>\n",
       "      <th>act_signature_delay</th>\n",
       "      <th>budget</th>\n",
       "      <th>property_type</th>\n",
       "      <th>project_type</th>\n",
       "    </tr>\n",
       "  </thead>\n",
       "  <tbody>\n",
       "    <tr>\n",
       "      <th>1017</th>\n",
       "      <td>63655</td>\n",
       "      <td>2019-12-12</td>\n",
       "      <td>2020-12-24</td>\n",
       "      <td>378</td>\n",
       "      <td>2021-01-26</td>\n",
       "      <td>411</td>\n",
       "      <td>705000</td>\n",
       "      <td>2</td>\n",
       "      <td>0</td>\n",
       "    </tr>\n",
       "    <tr>\n",
       "      <th>1194</th>\n",
       "      <td>59760</td>\n",
       "      <td>2019-09-09</td>\n",
       "      <td>2020-06-05</td>\n",
       "      <td>270</td>\n",
       "      <td>2020-12-28</td>\n",
       "      <td>476</td>\n",
       "      <td>5000000</td>\n",
       "      <td>2</td>\n",
       "      <td>1</td>\n",
       "    </tr>\n",
       "    <tr>\n",
       "      <th>1318</th>\n",
       "      <td>57097</td>\n",
       "      <td>2019-06-26</td>\n",
       "      <td>2020-04-27</td>\n",
       "      <td>306</td>\n",
       "      <td>2020-08-06</td>\n",
       "      <td>407</td>\n",
       "      <td>900000</td>\n",
       "      <td>7</td>\n",
       "      <td>1</td>\n",
       "    </tr>\n",
       "    <tr>\n",
       "      <th>1427</th>\n",
       "      <td>54617</td>\n",
       "      <td>2019-04-25</td>\n",
       "      <td>2019-04-30</td>\n",
       "      <td>5</td>\n",
       "      <td>2020-05-29</td>\n",
       "      <td>400</td>\n",
       "      <td>200000</td>\n",
       "      <td>1</td>\n",
       "      <td>0</td>\n",
       "    </tr>\n",
       "    <tr>\n",
       "      <th>1555</th>\n",
       "      <td>51900</td>\n",
       "      <td>2019-02-18</td>\n",
       "      <td>2019-09-26</td>\n",
       "      <td>220</td>\n",
       "      <td>2020-06-25</td>\n",
       "      <td>493</td>\n",
       "      <td>40000</td>\n",
       "      <td>2</td>\n",
       "      <td>0</td>\n",
       "    </tr>\n",
       "    <tr>\n",
       "      <th>1574</th>\n",
       "      <td>51151</td>\n",
       "      <td>2019-02-01</td>\n",
       "      <td>2021-01-08</td>\n",
       "      <td>707</td>\n",
       "      <td>2021-02-24</td>\n",
       "      <td>754</td>\n",
       "      <td>180000</td>\n",
       "      <td>2</td>\n",
       "      <td>1</td>\n",
       "    </tr>\n",
       "    <tr>\n",
       "      <th>1600</th>\n",
       "      <td>50422</td>\n",
       "      <td>2019-01-15</td>\n",
       "      <td>2019-12-17</td>\n",
       "      <td>336</td>\n",
       "      <td>2020-02-24</td>\n",
       "      <td>405</td>\n",
       "      <td>350000</td>\n",
       "      <td>2</td>\n",
       "      <td>2</td>\n",
       "    </tr>\n",
       "    <tr>\n",
       "      <th>1698</th>\n",
       "      <td>47559</td>\n",
       "      <td>2018-10-20</td>\n",
       "      <td>2019-11-22</td>\n",
       "      <td>398</td>\n",
       "      <td>2020-02-06</td>\n",
       "      <td>474</td>\n",
       "      <td>230000</td>\n",
       "      <td>2</td>\n",
       "      <td>0</td>\n",
       "    </tr>\n",
       "    <tr>\n",
       "      <th>1713</th>\n",
       "      <td>47129</td>\n",
       "      <td>2018-10-08</td>\n",
       "      <td>2018-10-10</td>\n",
       "      <td>2</td>\n",
       "      <td>2020-06-29</td>\n",
       "      <td>630</td>\n",
       "      <td>230000</td>\n",
       "      <td>2</td>\n",
       "      <td>2</td>\n",
       "    </tr>\n",
       "    <tr>\n",
       "      <th>1797</th>\n",
       "      <td>44639</td>\n",
       "      <td>2018-07-03</td>\n",
       "      <td>2019-08-13</td>\n",
       "      <td>406</td>\n",
       "      <td>2020-02-05</td>\n",
       "      <td>582</td>\n",
       "      <td>250000</td>\n",
       "      <td>2</td>\n",
       "      <td>1</td>\n",
       "    </tr>\n",
       "    <tr>\n",
       "      <th>1871</th>\n",
       "      <td>42351</td>\n",
       "      <td>2018-03-30</td>\n",
       "      <td>2019-04-02</td>\n",
       "      <td>368</td>\n",
       "      <td>2019-05-15</td>\n",
       "      <td>411</td>\n",
       "      <td>500000</td>\n",
       "      <td>1</td>\n",
       "      <td>1</td>\n",
       "    </tr>\n",
       "    <tr>\n",
       "      <th>1887</th>\n",
       "      <td>41925</td>\n",
       "      <td>2018-03-13</td>\n",
       "      <td>2018-03-22</td>\n",
       "      <td>9</td>\n",
       "      <td>2019-04-29</td>\n",
       "      <td>412</td>\n",
       "      <td>290000</td>\n",
       "      <td>2</td>\n",
       "      <td>1</td>\n",
       "    </tr>\n",
       "    <tr>\n",
       "      <th>2041</th>\n",
       "      <td>37006</td>\n",
       "      <td>2017-08-24</td>\n",
       "      <td>2020-07-22</td>\n",
       "      <td>1063</td>\n",
       "      <td>2020-09-02</td>\n",
       "      <td>1105</td>\n",
       "      <td>220000</td>\n",
       "      <td>1</td>\n",
       "      <td>1</td>\n",
       "    </tr>\n",
       "    <tr>\n",
       "      <th>2105</th>\n",
       "      <td>34666</td>\n",
       "      <td>2017-04-12</td>\n",
       "      <td>2017-06-12</td>\n",
       "      <td>61</td>\n",
       "      <td>2018-11-09</td>\n",
       "      <td>576</td>\n",
       "      <td>0</td>\n",
       "      <td>2</td>\n",
       "      <td>0</td>\n",
       "    </tr>\n",
       "    <tr>\n",
       "      <th>2139</th>\n",
       "      <td>33678</td>\n",
       "      <td>2017-02-22</td>\n",
       "      <td>2017-06-14</td>\n",
       "      <td>112</td>\n",
       "      <td>2018-04-16</td>\n",
       "      <td>418</td>\n",
       "      <td>485000</td>\n",
       "      <td>7</td>\n",
       "      <td>1</td>\n",
       "    </tr>\n",
       "    <tr>\n",
       "      <th>2171</th>\n",
       "      <td>33122</td>\n",
       "      <td>2017-01-25</td>\n",
       "      <td>2017-01-28</td>\n",
       "      <td>3</td>\n",
       "      <td>2018-04-10</td>\n",
       "      <td>440</td>\n",
       "      <td>420000</td>\n",
       "      <td>2</td>\n",
       "      <td>1</td>\n",
       "    </tr>\n",
       "    <tr>\n",
       "      <th>2216</th>\n",
       "      <td>31965</td>\n",
       "      <td>2016-10-23</td>\n",
       "      <td>2016-11-22</td>\n",
       "      <td>30</td>\n",
       "      <td>2017-12-12</td>\n",
       "      <td>415</td>\n",
       "      <td>1000000</td>\n",
       "      <td>2</td>\n",
       "      <td>0</td>\n",
       "    </tr>\n",
       "    <tr>\n",
       "      <th>2299</th>\n",
       "      <td>29207</td>\n",
       "      <td>2016-04-19</td>\n",
       "      <td>2018-02-16</td>\n",
       "      <td>668</td>\n",
       "      <td>2018-03-23</td>\n",
       "      <td>703</td>\n",
       "      <td>400000</td>\n",
       "      <td>1</td>\n",
       "      <td>1</td>\n",
       "    </tr>\n",
       "    <tr>\n",
       "      <th>2307</th>\n",
       "      <td>28905</td>\n",
       "      <td>2016-04-03</td>\n",
       "      <td>2018-05-15</td>\n",
       "      <td>772</td>\n",
       "      <td>2019-03-15</td>\n",
       "      <td>1076</td>\n",
       "      <td>1150000</td>\n",
       "      <td>1</td>\n",
       "      <td>1</td>\n",
       "    </tr>\n",
       "    <tr>\n",
       "      <th>2383</th>\n",
       "      <td>13229</td>\n",
       "      <td>2015-08-29</td>\n",
       "      <td>2016-10-03</td>\n",
       "      <td>401</td>\n",
       "      <td>2017-02-06</td>\n",
       "      <td>527</td>\n",
       "      <td>350000</td>\n",
       "      <td>2</td>\n",
       "      <td>0</td>\n",
       "    </tr>\n",
       "    <tr>\n",
       "      <th>2389</th>\n",
       "      <td>10028</td>\n",
       "      <td>2015-07-28</td>\n",
       "      <td>2016-10-01</td>\n",
       "      <td>431</td>\n",
       "      <td>2016-11-14</td>\n",
       "      <td>475</td>\n",
       "      <td>550000</td>\n",
       "      <td>2</td>\n",
       "      <td>1</td>\n",
       "    </tr>\n",
       "    <tr>\n",
       "      <th>2412</th>\n",
       "      <td>9269</td>\n",
       "      <td>2015-04-23</td>\n",
       "      <td>2016-05-11</td>\n",
       "      <td>384</td>\n",
       "      <td>2016-09-28</td>\n",
       "      <td>524</td>\n",
       "      <td>150000</td>\n",
       "      <td>2</td>\n",
       "      <td>0</td>\n",
       "    </tr>\n",
       "    <tr>\n",
       "      <th>2427</th>\n",
       "      <td>8672</td>\n",
       "      <td>2015-02-26</td>\n",
       "      <td>2015-11-25</td>\n",
       "      <td>272</td>\n",
       "      <td>2016-06-28</td>\n",
       "      <td>488</td>\n",
       "      <td>160000</td>\n",
       "      <td>2</td>\n",
       "      <td>0</td>\n",
       "    </tr>\n",
       "    <tr>\n",
       "      <th>2438</th>\n",
       "      <td>7869</td>\n",
       "      <td>2015-01-20</td>\n",
       "      <td>2015-01-06</td>\n",
       "      <td>-14</td>\n",
       "      <td>2017-04-21</td>\n",
       "      <td>822</td>\n",
       "      <td>250000</td>\n",
       "      <td>0</td>\n",
       "      <td>1</td>\n",
       "    </tr>\n",
       "    <tr>\n",
       "      <th>2522</th>\n",
       "      <td>2275</td>\n",
       "      <td>2013-04-11</td>\n",
       "      <td>2015-02-09</td>\n",
       "      <td>669</td>\n",
       "      <td>2015-03-25</td>\n",
       "      <td>713</td>\n",
       "      <td>220000</td>\n",
       "      <td>1</td>\n",
       "      <td>1</td>\n",
       "    </tr>\n",
       "  </tbody>\n",
       "</table>\n",
       "</div>"
      ],
      "text/plain": [
       "      mandate_id  created_at mandate_signed_at  mandate_signature_delay  \\\n",
       "1017       63655  2019-12-12        2020-12-24                      378   \n",
       "1194       59760  2019-09-09        2020-06-05                      270   \n",
       "1318       57097  2019-06-26        2020-04-27                      306   \n",
       "1427       54617  2019-04-25        2019-04-30                        5   \n",
       "1555       51900  2019-02-18        2019-09-26                      220   \n",
       "1574       51151  2019-02-01        2021-01-08                      707   \n",
       "1600       50422  2019-01-15        2019-12-17                      336   \n",
       "1698       47559  2018-10-20        2019-11-22                      398   \n",
       "1713       47129  2018-10-08        2018-10-10                        2   \n",
       "1797       44639  2018-07-03        2019-08-13                      406   \n",
       "1871       42351  2018-03-30        2019-04-02                      368   \n",
       "1887       41925  2018-03-13        2018-03-22                        9   \n",
       "2041       37006  2017-08-24        2020-07-22                     1063   \n",
       "2105       34666  2017-04-12        2017-06-12                       61   \n",
       "2139       33678  2017-02-22        2017-06-14                      112   \n",
       "2171       33122  2017-01-25        2017-01-28                        3   \n",
       "2216       31965  2016-10-23        2016-11-22                       30   \n",
       "2299       29207  2016-04-19        2018-02-16                      668   \n",
       "2307       28905  2016-04-03        2018-05-15                      772   \n",
       "2383       13229  2015-08-29        2016-10-03                      401   \n",
       "2389       10028  2015-07-28        2016-10-01                      431   \n",
       "2412        9269  2015-04-23        2016-05-11                      384   \n",
       "2427        8672  2015-02-26        2015-11-25                      272   \n",
       "2438        7869  2015-01-20        2015-01-06                      -14   \n",
       "2522        2275  2013-04-11        2015-02-09                      669   \n",
       "\n",
       "     act_signed_at  act_signature_delay   budget  property_type  project_type  \n",
       "1017    2021-01-26                  411   705000              2             0  \n",
       "1194    2020-12-28                  476  5000000              2             1  \n",
       "1318    2020-08-06                  407   900000              7             1  \n",
       "1427    2020-05-29                  400   200000              1             0  \n",
       "1555    2020-06-25                  493    40000              2             0  \n",
       "1574    2021-02-24                  754   180000              2             1  \n",
       "1600    2020-02-24                  405   350000              2             2  \n",
       "1698    2020-02-06                  474   230000              2             0  \n",
       "1713    2020-06-29                  630   230000              2             2  \n",
       "1797    2020-02-05                  582   250000              2             1  \n",
       "1871    2019-05-15                  411   500000              1             1  \n",
       "1887    2019-04-29                  412   290000              2             1  \n",
       "2041    2020-09-02                 1105   220000              1             1  \n",
       "2105    2018-11-09                  576        0              2             0  \n",
       "2139    2018-04-16                  418   485000              7             1  \n",
       "2171    2018-04-10                  440   420000              2             1  \n",
       "2216    2017-12-12                  415  1000000              2             0  \n",
       "2299    2018-03-23                  703   400000              1             1  \n",
       "2307    2019-03-15                 1076  1150000              1             1  \n",
       "2383    2017-02-06                  527   350000              2             0  \n",
       "2389    2016-11-14                  475   550000              2             1  \n",
       "2412    2016-09-28                  524   150000              2             0  \n",
       "2427    2016-06-28                  488   160000              2             0  \n",
       "2438    2017-04-21                  822   250000              0             1  \n",
       "2522    2015-03-25                  713   220000              1             1  "
      ]
     },
     "execution_count": 79,
     "metadata": {},
     "output_type": "execute_result"
    }
   ],
   "source": [
    "df.loc[df['act_signature_delay'] >= 400]"
   ]
  },
  {
   "cell_type": "code",
   "execution_count": 73,
   "id": "c5bcf282",
   "metadata": {},
   "outputs": [
    {
     "ename": "SyntaxError",
     "evalue": "invalid syntax (<ipython-input-73-e79e1124a8ae>, line 1)",
     "output_type": "error",
     "traceback": [
      "\u001b[1;36m  File \u001b[1;32m\"<ipython-input-73-e79e1124a8ae>\"\u001b[1;36m, line \u001b[1;32m1\u001b[0m\n\u001b[1;33m    df['act_signature_delay'] >= 400.counts\u001b[0m\n\u001b[1;37m                                     ^\u001b[0m\n\u001b[1;31mSyntaxError\u001b[0m\u001b[1;31m:\u001b[0m invalid syntax\n"
     ]
    }
   ],
   "source": []
  },
  {
   "cell_type": "code",
   "execution_count": 14,
   "id": "d6398df6",
   "metadata": {},
   "outputs": [
    {
     "data": {
      "text/plain": [
       "count    2544.000000\n",
       "mean       86.452830\n",
       "std        87.019925\n",
       "min       -37.000000\n",
       "25%        34.750000\n",
       "50%        68.000000\n",
       "75%       118.000000\n",
       "max      1105.000000\n",
       "Name: act_signature_delay, dtype: float64"
      ]
     },
     "execution_count": 14,
     "metadata": {},
     "output_type": "execute_result"
    }
   ],
   "source": [
    "df[\"act_signature_delay\"].describe()"
   ]
  },
  {
   "cell_type": "code",
   "execution_count": 15,
   "id": "c690e62e",
   "metadata": {},
   "outputs": [
    {
     "data": {
      "text/html": [
       "<div>\n",
       "<style scoped>\n",
       "    .dataframe tbody tr th:only-of-type {\n",
       "        vertical-align: middle;\n",
       "    }\n",
       "\n",
       "    .dataframe tbody tr th {\n",
       "        vertical-align: top;\n",
       "    }\n",
       "\n",
       "    .dataframe thead th {\n",
       "        text-align: right;\n",
       "    }\n",
       "</style>\n",
       "<table border=\"1\" class=\"dataframe\">\n",
       "  <thead>\n",
       "    <tr style=\"text-align: right;\">\n",
       "      <th></th>\n",
       "      <th>mandate_id</th>\n",
       "      <th>created_at</th>\n",
       "      <th>mandate_signed_at</th>\n",
       "      <th>mandate_signature_delay</th>\n",
       "      <th>act_signed_at</th>\n",
       "      <th>act_signature_delay</th>\n",
       "      <th>budget</th>\n",
       "      <th>property_type</th>\n",
       "      <th>project_type</th>\n",
       "    </tr>\n",
       "  </thead>\n",
       "  <tbody>\n",
       "    <tr>\n",
       "      <th>0</th>\n",
       "      <td>83395</td>\n",
       "      <td>2021-07-02</td>\n",
       "      <td>2021-06-28</td>\n",
       "      <td>-4</td>\n",
       "      <td>NaN</td>\n",
       "      <td>0</td>\n",
       "      <td>420000</td>\n",
       "      <td>0</td>\n",
       "      <td>NaN</td>\n",
       "    </tr>\n",
       "    <tr>\n",
       "      <th>1</th>\n",
       "      <td>83390</td>\n",
       "      <td>2021-07-02</td>\n",
       "      <td>2021-06-25</td>\n",
       "      <td>-7</td>\n",
       "      <td>NaN</td>\n",
       "      <td>0</td>\n",
       "      <td>380000</td>\n",
       "      <td>0</td>\n",
       "      <td>NaN</td>\n",
       "    </tr>\n",
       "    <tr>\n",
       "      <th>2</th>\n",
       "      <td>83373</td>\n",
       "      <td>2021-07-02</td>\n",
       "      <td>2021-06-01</td>\n",
       "      <td>-31</td>\n",
       "      <td>NaN</td>\n",
       "      <td>0</td>\n",
       "      <td>650000</td>\n",
       "      <td>0</td>\n",
       "      <td>NaN</td>\n",
       "    </tr>\n",
       "    <tr>\n",
       "      <th>3</th>\n",
       "      <td>83345</td>\n",
       "      <td>2021-07-01</td>\n",
       "      <td>2021-01-01</td>\n",
       "      <td>-181</td>\n",
       "      <td>NaN</td>\n",
       "      <td>0</td>\n",
       "      <td>600000</td>\n",
       "      <td>0</td>\n",
       "      <td>NaN</td>\n",
       "    </tr>\n",
       "    <tr>\n",
       "      <th>4</th>\n",
       "      <td>83322</td>\n",
       "      <td>2021-06-30</td>\n",
       "      <td>2021-06-30</td>\n",
       "      <td>0</td>\n",
       "      <td>NaN</td>\n",
       "      <td>0</td>\n",
       "      <td>300000</td>\n",
       "      <td>0</td>\n",
       "      <td>NaN</td>\n",
       "    </tr>\n",
       "    <tr>\n",
       "      <th>...</th>\n",
       "      <td>...</td>\n",
       "      <td>...</td>\n",
       "      <td>...</td>\n",
       "      <td>...</td>\n",
       "      <td>...</td>\n",
       "      <td>...</td>\n",
       "      <td>...</td>\n",
       "      <td>...</td>\n",
       "      <td>...</td>\n",
       "    </tr>\n",
       "    <tr>\n",
       "      <th>1092</th>\n",
       "      <td>61988</td>\n",
       "      <td>2019-10-30</td>\n",
       "      <td>2019-11-04</td>\n",
       "      <td>5</td>\n",
       "      <td>NaN</td>\n",
       "      <td>0</td>\n",
       "      <td>165000</td>\n",
       "      <td>2</td>\n",
       "      <td>Résidence secondaire</td>\n",
       "    </tr>\n",
       "    <tr>\n",
       "      <th>1115</th>\n",
       "      <td>61624</td>\n",
       "      <td>2019-10-22</td>\n",
       "      <td>2020-10-19</td>\n",
       "      <td>363</td>\n",
       "      <td>NaN</td>\n",
       "      <td>0</td>\n",
       "      <td>700000</td>\n",
       "      <td>1</td>\n",
       "      <td>Résidence principale</td>\n",
       "    </tr>\n",
       "    <tr>\n",
       "      <th>1462</th>\n",
       "      <td>53795</td>\n",
       "      <td>2019-04-04</td>\n",
       "      <td>2019-04-04</td>\n",
       "      <td>0</td>\n",
       "      <td>2019-04-04</td>\n",
       "      <td>0</td>\n",
       "      <td>0</td>\n",
       "      <td>0</td>\n",
       "      <td>NaN</td>\n",
       "    </tr>\n",
       "    <tr>\n",
       "      <th>1491</th>\n",
       "      <td>53257</td>\n",
       "      <td>2019-03-20</td>\n",
       "      <td>2019-03-20</td>\n",
       "      <td>0</td>\n",
       "      <td>2019-03-20</td>\n",
       "      <td>0</td>\n",
       "      <td>0</td>\n",
       "      <td>0</td>\n",
       "      <td>NaN</td>\n",
       "    </tr>\n",
       "    <tr>\n",
       "      <th>1642</th>\n",
       "      <td>49226</td>\n",
       "      <td>2018-12-11</td>\n",
       "      <td>2019-11-27</td>\n",
       "      <td>351</td>\n",
       "      <td>NaN</td>\n",
       "      <td>0</td>\n",
       "      <td>1830000</td>\n",
       "      <td>2</td>\n",
       "      <td>Résidence principale</td>\n",
       "    </tr>\n",
       "  </tbody>\n",
       "</table>\n",
       "<p>416 rows × 9 columns</p>\n",
       "</div>"
      ],
      "text/plain": [
       "      mandate_id  created_at mandate_signed_at  mandate_signature_delay  \\\n",
       "0          83395  2021-07-02        2021-06-28                       -4   \n",
       "1          83390  2021-07-02        2021-06-25                       -7   \n",
       "2          83373  2021-07-02        2021-06-01                      -31   \n",
       "3          83345  2021-07-01        2021-01-01                     -181   \n",
       "4          83322  2021-06-30        2021-06-30                        0   \n",
       "...          ...         ...               ...                      ...   \n",
       "1092       61988  2019-10-30        2019-11-04                        5   \n",
       "1115       61624  2019-10-22        2020-10-19                      363   \n",
       "1462       53795  2019-04-04        2019-04-04                        0   \n",
       "1491       53257  2019-03-20        2019-03-20                        0   \n",
       "1642       49226  2018-12-11        2019-11-27                      351   \n",
       "\n",
       "     act_signed_at  act_signature_delay   budget  property_type  \\\n",
       "0              NaN                    0   420000              0   \n",
       "1              NaN                    0   380000              0   \n",
       "2              NaN                    0   650000              0   \n",
       "3              NaN                    0   600000              0   \n",
       "4              NaN                    0   300000              0   \n",
       "...            ...                  ...      ...            ...   \n",
       "1092           NaN                    0   165000              2   \n",
       "1115           NaN                    0   700000              1   \n",
       "1462    2019-04-04                    0        0              0   \n",
       "1491    2019-03-20                    0        0              0   \n",
       "1642           NaN                    0  1830000              2   \n",
       "\n",
       "              project_type  \n",
       "0                      NaN  \n",
       "1                      NaN  \n",
       "2                      NaN  \n",
       "3                      NaN  \n",
       "4                      NaN  \n",
       "...                    ...  \n",
       "1092  Résidence secondaire  \n",
       "1115  Résidence principale  \n",
       "1462                   NaN  \n",
       "1491                   NaN  \n",
       "1642  Résidence principale  \n",
       "\n",
       "[416 rows x 9 columns]"
      ]
     },
     "execution_count": 15,
     "metadata": {},
     "output_type": "execute_result"
    }
   ],
   "source": [
    "df.loc[df['act_signature_delay'] == 0]"
   ]
  },
  {
   "cell_type": "code",
   "execution_count": 16,
   "id": "c8bc02f8",
   "metadata": {},
   "outputs": [],
   "source": [
    "#df.drop(df.loc[df['act_signature_delay']==0].index, inplace=True)"
   ]
  },
  {
   "cell_type": "code",
   "execution_count": 17,
   "id": "6e82eebc",
   "metadata": {},
   "outputs": [
    {
     "name": "stdout",
     "output_type": "stream",
     "text": [
      "<class 'pandas.core.frame.DataFrame'>\n",
      "RangeIndex: 2544 entries, 0 to 2543\n",
      "Data columns (total 9 columns):\n",
      " #   Column                   Non-Null Count  Dtype \n",
      "---  ------                   --------------  ----- \n",
      " 0   mandate_id               2544 non-null   int64 \n",
      " 1   created_at               2544 non-null   object\n",
      " 2   mandate_signed_at        2544 non-null   object\n",
      " 3   mandate_signature_delay  2544 non-null   int64 \n",
      " 4   act_signed_at            2130 non-null   object\n",
      " 5   act_signature_delay      2544 non-null   int64 \n",
      " 6   budget                   2544 non-null   int64 \n",
      " 7   property_type            2544 non-null   int64 \n",
      " 8   project_type             2496 non-null   object\n",
      "dtypes: int64(5), object(4)\n",
      "memory usage: 179.0+ KB\n"
     ]
    }
   ],
   "source": [
    "df.info()"
   ]
  },
  {
   "cell_type": "code",
   "execution_count": 18,
   "id": "449cd0e5",
   "metadata": {},
   "outputs": [
    {
     "data": {
      "text/html": [
       "<div>\n",
       "<style scoped>\n",
       "    .dataframe tbody tr th:only-of-type {\n",
       "        vertical-align: middle;\n",
       "    }\n",
       "\n",
       "    .dataframe tbody tr th {\n",
       "        vertical-align: top;\n",
       "    }\n",
       "\n",
       "    .dataframe thead th {\n",
       "        text-align: right;\n",
       "    }\n",
       "</style>\n",
       "<table border=\"1\" class=\"dataframe\">\n",
       "  <thead>\n",
       "    <tr style=\"text-align: right;\">\n",
       "      <th></th>\n",
       "      <th>mandate_id</th>\n",
       "      <th>created_at</th>\n",
       "      <th>mandate_signed_at</th>\n",
       "      <th>mandate_signature_delay</th>\n",
       "      <th>act_signed_at</th>\n",
       "      <th>act_signature_delay</th>\n",
       "      <th>budget</th>\n",
       "      <th>property_type</th>\n",
       "      <th>project_type</th>\n",
       "    </tr>\n",
       "  </thead>\n",
       "  <tbody>\n",
       "    <tr>\n",
       "      <th>2041</th>\n",
       "      <td>37006</td>\n",
       "      <td>2017-08-24</td>\n",
       "      <td>2020-07-22</td>\n",
       "      <td>1063</td>\n",
       "      <td>2020-09-02</td>\n",
       "      <td>1105</td>\n",
       "      <td>220000</td>\n",
       "      <td>1</td>\n",
       "      <td>Résidence principale</td>\n",
       "    </tr>\n",
       "  </tbody>\n",
       "</table>\n",
       "</div>"
      ],
      "text/plain": [
       "      mandate_id  created_at mandate_signed_at  mandate_signature_delay  \\\n",
       "2041       37006  2017-08-24        2020-07-22                     1063   \n",
       "\n",
       "     act_signed_at  act_signature_delay  budget  property_type  \\\n",
       "2041    2020-09-02                 1105  220000              1   \n",
       "\n",
       "              project_type  \n",
       "2041  Résidence principale  "
      ]
     },
     "execution_count": 18,
     "metadata": {},
     "output_type": "execute_result"
    }
   ],
   "source": [
    "df.loc[df['act_signature_delay'] == 1105]"
   ]
  },
  {
   "cell_type": "code",
   "execution_count": null,
   "id": "63dc3fcc",
   "metadata": {},
   "outputs": [],
   "source": []
  },
  {
   "cell_type": "code",
   "execution_count": 19,
   "id": "6dd42982",
   "metadata": {},
   "outputs": [],
   "source": [
    "#df.drop(df.loc[df['act_signature_delay']==1105].index, inplace=True)"
   ]
  },
  {
   "cell_type": "code",
   "execution_count": 20,
   "id": "63f45716",
   "metadata": {},
   "outputs": [
    {
     "data": {
      "text/html": [
       "<div>\n",
       "<style scoped>\n",
       "    .dataframe tbody tr th:only-of-type {\n",
       "        vertical-align: middle;\n",
       "    }\n",
       "\n",
       "    .dataframe tbody tr th {\n",
       "        vertical-align: top;\n",
       "    }\n",
       "\n",
       "    .dataframe thead th {\n",
       "        text-align: right;\n",
       "    }\n",
       "</style>\n",
       "<table border=\"1\" class=\"dataframe\">\n",
       "  <thead>\n",
       "    <tr style=\"text-align: right;\">\n",
       "      <th></th>\n",
       "      <th>mandate_id</th>\n",
       "      <th>created_at</th>\n",
       "      <th>mandate_signed_at</th>\n",
       "      <th>mandate_signature_delay</th>\n",
       "      <th>act_signed_at</th>\n",
       "      <th>act_signature_delay</th>\n",
       "      <th>budget</th>\n",
       "      <th>property_type</th>\n",
       "      <th>project_type</th>\n",
       "    </tr>\n",
       "  </thead>\n",
       "  <tbody>\n",
       "    <tr>\n",
       "      <th>2041</th>\n",
       "      <td>37006</td>\n",
       "      <td>2017-08-24</td>\n",
       "      <td>2020-07-22</td>\n",
       "      <td>1063</td>\n",
       "      <td>2020-09-02</td>\n",
       "      <td>1105</td>\n",
       "      <td>220000</td>\n",
       "      <td>1</td>\n",
       "      <td>Résidence principale</td>\n",
       "    </tr>\n",
       "  </tbody>\n",
       "</table>\n",
       "</div>"
      ],
      "text/plain": [
       "      mandate_id  created_at mandate_signed_at  mandate_signature_delay  \\\n",
       "2041       37006  2017-08-24        2020-07-22                     1063   \n",
       "\n",
       "     act_signed_at  act_signature_delay  budget  property_type  \\\n",
       "2041    2020-09-02                 1105  220000              1   \n",
       "\n",
       "              project_type  \n",
       "2041  Résidence principale  "
      ]
     },
     "execution_count": 20,
     "metadata": {},
     "output_type": "execute_result"
    }
   ],
   "source": [
    "df.loc[df['act_signature_delay'] == 1105]"
   ]
  },
  {
   "cell_type": "code",
   "execution_count": 21,
   "id": "e79471cc",
   "metadata": {},
   "outputs": [
    {
     "data": {
      "text/html": [
       "<div>\n",
       "<style scoped>\n",
       "    .dataframe tbody tr th:only-of-type {\n",
       "        vertical-align: middle;\n",
       "    }\n",
       "\n",
       "    .dataframe tbody tr th {\n",
       "        vertical-align: top;\n",
       "    }\n",
       "\n",
       "    .dataframe thead th {\n",
       "        text-align: right;\n",
       "    }\n",
       "</style>\n",
       "<table border=\"1\" class=\"dataframe\">\n",
       "  <thead>\n",
       "    <tr style=\"text-align: right;\">\n",
       "      <th></th>\n",
       "      <th>mandate_id</th>\n",
       "      <th>created_at</th>\n",
       "      <th>mandate_signed_at</th>\n",
       "      <th>mandate_signature_delay</th>\n",
       "      <th>act_signed_at</th>\n",
       "      <th>act_signature_delay</th>\n",
       "      <th>budget</th>\n",
       "      <th>property_type</th>\n",
       "      <th>project_type</th>\n",
       "    </tr>\n",
       "  </thead>\n",
       "  <tbody>\n",
       "    <tr>\n",
       "      <th>632</th>\n",
       "      <td>72207</td>\n",
       "      <td>2020-07-20</td>\n",
       "      <td>2020-07-20</td>\n",
       "      <td>0</td>\n",
       "      <td>2021-02-11</td>\n",
       "      <td>206</td>\n",
       "      <td>0</td>\n",
       "      <td>1</td>\n",
       "      <td>Résidence principale</td>\n",
       "    </tr>\n",
       "    <tr>\n",
       "      <th>634</th>\n",
       "      <td>72098</td>\n",
       "      <td>2020-07-17</td>\n",
       "      <td>2020-07-20</td>\n",
       "      <td>3</td>\n",
       "      <td>2021-02-10</td>\n",
       "      <td>208</td>\n",
       "      <td>300000</td>\n",
       "      <td>2</td>\n",
       "      <td>Investissement</td>\n",
       "    </tr>\n",
       "    <tr>\n",
       "      <th>639</th>\n",
       "      <td>72005</td>\n",
       "      <td>2020-07-16</td>\n",
       "      <td>2021-01-04</td>\n",
       "      <td>172</td>\n",
       "      <td>2021-02-26</td>\n",
       "      <td>225</td>\n",
       "      <td>850000</td>\n",
       "      <td>2</td>\n",
       "      <td>Résidence secondaire</td>\n",
       "    </tr>\n",
       "    <tr>\n",
       "      <th>641</th>\n",
       "      <td>71993</td>\n",
       "      <td>2020-07-15</td>\n",
       "      <td>2020-09-29</td>\n",
       "      <td>76</td>\n",
       "      <td>2021-02-02</td>\n",
       "      <td>202</td>\n",
       "      <td>300000</td>\n",
       "      <td>2</td>\n",
       "      <td>Résidence principale</td>\n",
       "    </tr>\n",
       "    <tr>\n",
       "      <th>645</th>\n",
       "      <td>71945</td>\n",
       "      <td>2020-07-13</td>\n",
       "      <td>2020-08-18</td>\n",
       "      <td>36</td>\n",
       "      <td>2021-02-18</td>\n",
       "      <td>220</td>\n",
       "      <td>400000</td>\n",
       "      <td>1</td>\n",
       "      <td>Résidence principale</td>\n",
       "    </tr>\n",
       "    <tr>\n",
       "      <th>...</th>\n",
       "      <td>...</td>\n",
       "      <td>...</td>\n",
       "      <td>...</td>\n",
       "      <td>...</td>\n",
       "      <td>...</td>\n",
       "      <td>...</td>\n",
       "      <td>...</td>\n",
       "      <td>...</td>\n",
       "      <td>...</td>\n",
       "    </tr>\n",
       "    <tr>\n",
       "      <th>2493</th>\n",
       "      <td>4479</td>\n",
       "      <td>2014-02-02</td>\n",
       "      <td>2014-07-15</td>\n",
       "      <td>163</td>\n",
       "      <td>2014-09-25</td>\n",
       "      <td>235</td>\n",
       "      <td>240000</td>\n",
       "      <td>1</td>\n",
       "      <td>Résidence principale</td>\n",
       "    </tr>\n",
       "    <tr>\n",
       "      <th>2515</th>\n",
       "      <td>2449</td>\n",
       "      <td>2013-06-18</td>\n",
       "      <td>2013-06-22</td>\n",
       "      <td>4</td>\n",
       "      <td>2014-02-17</td>\n",
       "      <td>244</td>\n",
       "      <td>125000</td>\n",
       "      <td>2</td>\n",
       "      <td>Investissement</td>\n",
       "    </tr>\n",
       "    <tr>\n",
       "      <th>2520</th>\n",
       "      <td>2321</td>\n",
       "      <td>2013-05-21</td>\n",
       "      <td>2013-05-24</td>\n",
       "      <td>3</td>\n",
       "      <td>2014-02-12</td>\n",
       "      <td>267</td>\n",
       "      <td>2100000</td>\n",
       "      <td>1</td>\n",
       "      <td>Résidence principale</td>\n",
       "    </tr>\n",
       "    <tr>\n",
       "      <th>2522</th>\n",
       "      <td>2275</td>\n",
       "      <td>2013-04-11</td>\n",
       "      <td>2015-02-09</td>\n",
       "      <td>669</td>\n",
       "      <td>2015-03-25</td>\n",
       "      <td>713</td>\n",
       "      <td>220000</td>\n",
       "      <td>1</td>\n",
       "      <td>Résidence principale</td>\n",
       "    </tr>\n",
       "    <tr>\n",
       "      <th>2527</th>\n",
       "      <td>2086</td>\n",
       "      <td>2013-03-31</td>\n",
       "      <td>2013-04-08</td>\n",
       "      <td>8</td>\n",
       "      <td>2014-02-12</td>\n",
       "      <td>318</td>\n",
       "      <td>265000</td>\n",
       "      <td>1</td>\n",
       "      <td>Résidence principale</td>\n",
       "    </tr>\n",
       "  </tbody>\n",
       "</table>\n",
       "<p>195 rows × 9 columns</p>\n",
       "</div>"
      ],
      "text/plain": [
       "      mandate_id  created_at mandate_signed_at  mandate_signature_delay  \\\n",
       "632        72207  2020-07-20        2020-07-20                        0   \n",
       "634        72098  2020-07-17        2020-07-20                        3   \n",
       "639        72005  2020-07-16        2021-01-04                      172   \n",
       "641        71993  2020-07-15        2020-09-29                       76   \n",
       "645        71945  2020-07-13        2020-08-18                       36   \n",
       "...          ...         ...               ...                      ...   \n",
       "2493        4479  2014-02-02        2014-07-15                      163   \n",
       "2515        2449  2013-06-18        2013-06-22                        4   \n",
       "2520        2321  2013-05-21        2013-05-24                        3   \n",
       "2522        2275  2013-04-11        2015-02-09                      669   \n",
       "2527        2086  2013-03-31        2013-04-08                        8   \n",
       "\n",
       "     act_signed_at  act_signature_delay   budget  property_type  \\\n",
       "632     2021-02-11                  206        0              1   \n",
       "634     2021-02-10                  208   300000              2   \n",
       "639     2021-02-26                  225   850000              2   \n",
       "641     2021-02-02                  202   300000              2   \n",
       "645     2021-02-18                  220   400000              1   \n",
       "...            ...                  ...      ...            ...   \n",
       "2493    2014-09-25                  235   240000              1   \n",
       "2515    2014-02-17                  244   125000              2   \n",
       "2520    2014-02-12                  267  2100000              1   \n",
       "2522    2015-03-25                  713   220000              1   \n",
       "2527    2014-02-12                  318   265000              1   \n",
       "\n",
       "              project_type  \n",
       "632   Résidence principale  \n",
       "634         Investissement  \n",
       "639   Résidence secondaire  \n",
       "641   Résidence principale  \n",
       "645   Résidence principale  \n",
       "...                    ...  \n",
       "2493  Résidence principale  \n",
       "2515        Investissement  \n",
       "2520  Résidence principale  \n",
       "2522  Résidence principale  \n",
       "2527  Résidence principale  \n",
       "\n",
       "[195 rows x 9 columns]"
      ]
     },
     "execution_count": 21,
     "metadata": {},
     "output_type": "execute_result"
    }
   ],
   "source": [
    "df.loc[df['act_signature_delay'] > 200 ]"
   ]
  },
  {
   "cell_type": "code",
   "execution_count": 22,
   "id": "0dc311fa",
   "metadata": {},
   "outputs": [
    {
     "data": {
      "text/html": [
       "<div>\n",
       "<style scoped>\n",
       "    .dataframe tbody tr th:only-of-type {\n",
       "        vertical-align: middle;\n",
       "    }\n",
       "\n",
       "    .dataframe tbody tr th {\n",
       "        vertical-align: top;\n",
       "    }\n",
       "\n",
       "    .dataframe thead th {\n",
       "        text-align: right;\n",
       "    }\n",
       "</style>\n",
       "<table border=\"1\" class=\"dataframe\">\n",
       "  <thead>\n",
       "    <tr style=\"text-align: right;\">\n",
       "      <th></th>\n",
       "      <th>mandate_id</th>\n",
       "      <th>created_at</th>\n",
       "      <th>mandate_signed_at</th>\n",
       "      <th>mandate_signature_delay</th>\n",
       "      <th>act_signed_at</th>\n",
       "      <th>act_signature_delay</th>\n",
       "      <th>budget</th>\n",
       "      <th>property_type</th>\n",
       "      <th>project_type</th>\n",
       "    </tr>\n",
       "  </thead>\n",
       "  <tbody>\n",
       "    <tr>\n",
       "      <th>1360</th>\n",
       "      <td>56234</td>\n",
       "      <td>2019-06-05</td>\n",
       "      <td>2019-06-05</td>\n",
       "      <td>0</td>\n",
       "      <td>2019-04-29</td>\n",
       "      <td>-37</td>\n",
       "      <td>230000</td>\n",
       "      <td>2</td>\n",
       "      <td>NaN</td>\n",
       "    </tr>\n",
       "  </tbody>\n",
       "</table>\n",
       "</div>"
      ],
      "text/plain": [
       "      mandate_id  created_at mandate_signed_at  mandate_signature_delay  \\\n",
       "1360       56234  2019-06-05        2019-06-05                        0   \n",
       "\n",
       "     act_signed_at  act_signature_delay  budget  property_type project_type  \n",
       "1360    2019-04-29                  -37  230000              2          NaN  "
      ]
     },
     "execution_count": 22,
     "metadata": {},
     "output_type": "execute_result"
    }
   ],
   "source": [
    "df.loc[df['act_signature_delay'] == -37]"
   ]
  },
  {
   "cell_type": "code",
   "execution_count": 23,
   "id": "99f71fab",
   "metadata": {},
   "outputs": [],
   "source": [
    "#df.drop(df.loc[df['act_signature_delay']==-37].index, inplace=True)"
   ]
  },
  {
   "cell_type": "code",
   "execution_count": 24,
   "id": "7a1bf686",
   "metadata": {},
   "outputs": [
    {
     "data": {
      "text/html": [
       "<div>\n",
       "<style scoped>\n",
       "    .dataframe tbody tr th:only-of-type {\n",
       "        vertical-align: middle;\n",
       "    }\n",
       "\n",
       "    .dataframe tbody tr th {\n",
       "        vertical-align: top;\n",
       "    }\n",
       "\n",
       "    .dataframe thead th {\n",
       "        text-align: right;\n",
       "    }\n",
       "</style>\n",
       "<table border=\"1\" class=\"dataframe\">\n",
       "  <thead>\n",
       "    <tr style=\"text-align: right;\">\n",
       "      <th></th>\n",
       "      <th>mandate_id</th>\n",
       "      <th>created_at</th>\n",
       "      <th>mandate_signed_at</th>\n",
       "      <th>mandate_signature_delay</th>\n",
       "      <th>act_signed_at</th>\n",
       "      <th>act_signature_delay</th>\n",
       "      <th>budget</th>\n",
       "      <th>property_type</th>\n",
       "      <th>project_type</th>\n",
       "    </tr>\n",
       "  </thead>\n",
       "  <tbody>\n",
       "    <tr>\n",
       "      <th>1360</th>\n",
       "      <td>56234</td>\n",
       "      <td>2019-06-05</td>\n",
       "      <td>2019-06-05</td>\n",
       "      <td>0</td>\n",
       "      <td>2019-04-29</td>\n",
       "      <td>-37</td>\n",
       "      <td>230000</td>\n",
       "      <td>2</td>\n",
       "      <td>NaN</td>\n",
       "    </tr>\n",
       "  </tbody>\n",
       "</table>\n",
       "</div>"
      ],
      "text/plain": [
       "      mandate_id  created_at mandate_signed_at  mandate_signature_delay  \\\n",
       "1360       56234  2019-06-05        2019-06-05                        0   \n",
       "\n",
       "     act_signed_at  act_signature_delay  budget  property_type project_type  \n",
       "1360    2019-04-29                  -37  230000              2          NaN  "
      ]
     },
     "execution_count": 24,
     "metadata": {},
     "output_type": "execute_result"
    }
   ],
   "source": [
    "df.loc[df['act_signature_delay'] == -37]"
   ]
  },
  {
   "cell_type": "code",
   "execution_count": 25,
   "id": "ba2ee531",
   "metadata": {},
   "outputs": [
    {
     "data": {
      "text/plain": [
       "count    2544.000000\n",
       "mean       86.452830\n",
       "std        87.019925\n",
       "min       -37.000000\n",
       "25%        34.750000\n",
       "50%        68.000000\n",
       "75%       118.000000\n",
       "max      1105.000000\n",
       "Name: act_signature_delay, dtype: float64"
      ]
     },
     "execution_count": 25,
     "metadata": {},
     "output_type": "execute_result"
    }
   ],
   "source": [
    "df[\"act_signature_delay\"].describe()"
   ]
  },
  {
   "cell_type": "code",
   "execution_count": 26,
   "id": "dbe254f5",
   "metadata": {},
   "outputs": [],
   "source": [
    "import matplotlib.pyplot as plt\n",
    "import seaborn as sns"
   ]
  },
  {
   "cell_type": "code",
   "execution_count": 27,
   "id": "217cc749",
   "metadata": {},
   "outputs": [
    {
     "data": {
      "image/png": "[encoded data removed]",
      "text/plain": [
       "<Figure size 576x576 with 1 Axes>"
      ]
     },
     "metadata": {
      "needs_background": "light"
     },
     "output_type": "display_data"
    }
   ],
   "source": [
    "df[\"act_signature_delay\"].hist(figsize=(8,8))\n",
    "plt.show()"
   ]
  },
  {
   "cell_type": "code",
   "execution_count": 28,
   "id": "816df7ac",
   "metadata": {},
   "outputs": [],
   "source": [
    "df[\"project_type\"].replace('Investissement',0,inplace=True)\n",
    "df[\"project_type\"].replace('Résidence principale',1,inplace=True)\n",
    "df[\"project_type\"].replace('Résidence secondaire',2,inplace=True)"
   ]
  },
  {
   "cell_type": "code",
   "execution_count": 29,
   "id": "1f47d50e",
   "metadata": {},
   "outputs": [
    {
     "data": {
      "text/html": [
       "<div>\n",
       "<style scoped>\n",
       "    .dataframe tbody tr th:only-of-type {\n",
       "        vertical-align: middle;\n",
       "    }\n",
       "\n",
       "    .dataframe tbody tr th {\n",
       "        vertical-align: top;\n",
       "    }\n",
       "\n",
       "    .dataframe thead th {\n",
       "        text-align: right;\n",
       "    }\n",
       "</style>\n",
       "<table border=\"1\" class=\"dataframe\">\n",
       "  <thead>\n",
       "    <tr style=\"text-align: right;\">\n",
       "      <th></th>\n",
       "      <th>mandate_id</th>\n",
       "      <th>created_at</th>\n",
       "      <th>mandate_signed_at</th>\n",
       "      <th>mandate_signature_delay</th>\n",
       "      <th>act_signed_at</th>\n",
       "      <th>act_signature_delay</th>\n",
       "      <th>budget</th>\n",
       "      <th>property_type</th>\n",
       "      <th>project_type</th>\n",
       "    </tr>\n",
       "  </thead>\n",
       "  <tbody>\n",
       "    <tr>\n",
       "      <th>0</th>\n",
       "      <td>83395</td>\n",
       "      <td>2021-07-02</td>\n",
       "      <td>2021-06-28</td>\n",
       "      <td>-4</td>\n",
       "      <td>NaN</td>\n",
       "      <td>0</td>\n",
       "      <td>420000</td>\n",
       "      <td>0</td>\n",
       "      <td>NaN</td>\n",
       "    </tr>\n",
       "    <tr>\n",
       "      <th>1</th>\n",
       "      <td>83390</td>\n",
       "      <td>2021-07-02</td>\n",
       "      <td>2021-06-25</td>\n",
       "      <td>-7</td>\n",
       "      <td>NaN</td>\n",
       "      <td>0</td>\n",
       "      <td>380000</td>\n",
       "      <td>0</td>\n",
       "      <td>NaN</td>\n",
       "    </tr>\n",
       "    <tr>\n",
       "      <th>2</th>\n",
       "      <td>83373</td>\n",
       "      <td>2021-07-02</td>\n",
       "      <td>2021-06-01</td>\n",
       "      <td>-31</td>\n",
       "      <td>NaN</td>\n",
       "      <td>0</td>\n",
       "      <td>650000</td>\n",
       "      <td>0</td>\n",
       "      <td>NaN</td>\n",
       "    </tr>\n",
       "    <tr>\n",
       "      <th>3</th>\n",
       "      <td>83345</td>\n",
       "      <td>2021-07-01</td>\n",
       "      <td>2021-01-01</td>\n",
       "      <td>-181</td>\n",
       "      <td>NaN</td>\n",
       "      <td>0</td>\n",
       "      <td>600000</td>\n",
       "      <td>0</td>\n",
       "      <td>NaN</td>\n",
       "    </tr>\n",
       "    <tr>\n",
       "      <th>4</th>\n",
       "      <td>83322</td>\n",
       "      <td>2021-06-30</td>\n",
       "      <td>2021-06-30</td>\n",
       "      <td>0</td>\n",
       "      <td>NaN</td>\n",
       "      <td>0</td>\n",
       "      <td>300000</td>\n",
       "      <td>0</td>\n",
       "      <td>NaN</td>\n",
       "    </tr>\n",
       "  </tbody>\n",
       "</table>\n",
       "</div>"
      ],
      "text/plain": [
       "   mandate_id  created_at mandate_signed_at  mandate_signature_delay  \\\n",
       "0       83395  2021-07-02        2021-06-28                       -4   \n",
       "1       83390  2021-07-02        2021-06-25                       -7   \n",
       "2       83373  2021-07-02        2021-06-01                      -31   \n",
       "3       83345  2021-07-01        2021-01-01                     -181   \n",
       "4       83322  2021-06-30        2021-06-30                        0   \n",
       "\n",
       "  act_signed_at  act_signature_delay  budget  property_type  project_type  \n",
       "0           NaN                    0  420000              0           NaN  \n",
       "1           NaN                    0  380000              0           NaN  \n",
       "2           NaN                    0  650000              0           NaN  \n",
       "3           NaN                    0  600000              0           NaN  \n",
       "4           NaN                    0  300000              0           NaN  "
      ]
     },
     "execution_count": 29,
     "metadata": {},
     "output_type": "execute_result"
    }
   ],
   "source": [
    "df.head()"
   ]
  },
  {
   "cell_type": "code",
   "execution_count": 30,
   "id": "305ce573",
   "metadata": {},
   "outputs": [
    {
     "name": "stdout",
     "output_type": "stream",
     "text": [
      "<class 'pandas.core.frame.DataFrame'>\n",
      "RangeIndex: 2544 entries, 0 to 2543\n",
      "Data columns (total 9 columns):\n",
      " #   Column                   Non-Null Count  Dtype  \n",
      "---  ------                   --------------  -----  \n",
      " 0   mandate_id               2544 non-null   int64  \n",
      " 1   created_at               2544 non-null   object \n",
      " 2   mandate_signed_at        2544 non-null   object \n",
      " 3   mandate_signature_delay  2544 non-null   int64  \n",
      " 4   act_signed_at            2130 non-null   object \n",
      " 5   act_signature_delay      2544 non-null   int64  \n",
      " 6   budget                   2544 non-null   int64  \n",
      " 7   property_type            2544 non-null   int64  \n",
      " 8   project_type             2496 non-null   float64\n",
      "dtypes: float64(1), int64(5), object(3)\n",
      "memory usage: 179.0+ KB\n"
     ]
    }
   ],
   "source": [
    "df.info()"
   ]
  },
  {
   "cell_type": "code",
   "execution_count": 31,
   "id": "990f3d70",
   "metadata": {},
   "outputs": [
    {
     "data": {
      "text/plain": [
       "1.0    1511\n",
       "0.0     847\n",
       "2.0     138\n",
       "Name: project_type, dtype: int64"
      ]
     },
     "execution_count": 31,
     "metadata": {},
     "output_type": "execute_result"
    }
   ],
   "source": [
    "df[\"project_type\"].value_counts()"
   ]
  },
  {
   "cell_type": "code",
   "execution_count": 32,
   "id": "aa40239a",
   "metadata": {},
   "outputs": [
    {
     "data": {
      "text/plain": [
       "48"
      ]
     },
     "execution_count": 32,
     "metadata": {},
     "output_type": "execute_result"
    }
   ],
   "source": [
    "df[\"project_type\"].isnull().sum()"
   ]
  },
  {
   "cell_type": "code",
   "execution_count": 33,
   "id": "2e685ace",
   "metadata": {},
   "outputs": [],
   "source": [
    "df[\"project_type\"].fillna(1, inplace = True) "
   ]
  },
  {
   "cell_type": "code",
   "execution_count": 34,
   "id": "c984b976",
   "metadata": {},
   "outputs": [
    {
     "data": {
      "text/plain": [
       "0       1\n",
       "1       1\n",
       "2       1\n",
       "3       1\n",
       "4       1\n",
       "       ..\n",
       "2539    1\n",
       "2540    0\n",
       "2541    0\n",
       "2542    0\n",
       "2543    1\n",
       "Name: project_type, Length: 2544, dtype: int8"
      ]
     },
     "execution_count": 34,
     "metadata": {},
     "output_type": "execute_result"
    }
   ],
   "source": [
    "pd.to_numeric(df[\"project_type\"], downcast = 'integer')"
   ]
  },
  {
   "cell_type": "code",
   "execution_count": 35,
   "id": "ec52e0c0",
   "metadata": {},
   "outputs": [],
   "source": [
    "df[\"project_type\"] = df[\"project_type\"].astype(int)"
   ]
  },
  {
   "cell_type": "code",
   "execution_count": 36,
   "id": "110292d2",
   "metadata": {},
   "outputs": [
    {
     "name": "stdout",
     "output_type": "stream",
     "text": [
      "mandate_id : 2544 uniques variable(s)\n",
      "mandate_signature_delay : 203 uniques variable(s)\n",
      "act_signature_delay : 323 uniques variable(s)\n",
      "budget : 245 uniques variable(s)\n",
      "property_type : 9 uniques variable(s)\n",
      "project_type : 3 uniques variable(s)\n"
     ]
    }
   ],
   "source": [
    "numeric = df.select_dtypes(include=[np.number]).columns\n",
    "for num_col in numeric:\n",
    "    print(f\"{num_col} : {df[num_col].nunique()} uniques variable(s)\")"
   ]
  },
  {
   "cell_type": "code",
   "execution_count": 37,
   "id": "1f2e8ff9",
   "metadata": {},
   "outputs": [
    {
     "data": {
      "text/plain": [
       "(2544, 4)"
      ]
     },
     "execution_count": 37,
     "metadata": {},
     "output_type": "execute_result"
    }
   ],
   "source": [
    "x = df[[\"mandate_signature_delay\", \"budget\", \"property_type\", \"project_type\"]]\n",
    "x.shape"
   ]
  },
  {
   "cell_type": "code",
   "execution_count": 38,
   "id": "91d3fd31",
   "metadata": {},
   "outputs": [
    {
     "name": "stdout",
     "output_type": "stream",
     "text": [
      "<class 'pandas.core.frame.DataFrame'>\n",
      "RangeIndex: 2544 entries, 0 to 2543\n",
      "Data columns (total 9 columns):\n",
      " #   Column                   Non-Null Count  Dtype \n",
      "---  ------                   --------------  ----- \n",
      " 0   mandate_id               2544 non-null   int64 \n",
      " 1   created_at               2544 non-null   object\n",
      " 2   mandate_signed_at        2544 non-null   object\n",
      " 3   mandate_signature_delay  2544 non-null   int64 \n",
      " 4   act_signed_at            2130 non-null   object\n",
      " 5   act_signature_delay      2544 non-null   int64 \n",
      " 6   budget                   2544 non-null   int64 \n",
      " 7   property_type            2544 non-null   int64 \n",
      " 8   project_type             2544 non-null   int32 \n",
      "dtypes: int32(1), int64(5), object(3)\n",
      "memory usage: 169.1+ KB\n"
     ]
    }
   ],
   "source": [
    "df.info()"
   ]
  },
  {
   "cell_type": "code",
   "execution_count": 39,
   "id": "787056c8",
   "metadata": {},
   "outputs": [
    {
     "data": {
      "text/plain": [
       "mandate_signature_delay    3.105958e+03\n",
       "budget                     1.042711e+11\n",
       "property_type              2.639365e+00\n",
       "project_type               3.096364e-01\n",
       "dtype: float64"
      ]
     },
     "execution_count": 39,
     "metadata": {},
     "output_type": "execute_result"
    }
   ],
   "source": [
    "x.var(axis = 0)"
   ]
  },
  {
   "cell_type": "code",
   "execution_count": 40,
   "id": "d6b4d2fc",
   "metadata": {},
   "outputs": [
    {
     "data": {
      "text/plain": [
       "(2544,)"
      ]
     },
     "execution_count": 40,
     "metadata": {},
     "output_type": "execute_result"
    }
   ],
   "source": [
    "y = df[\"act_signature_delay\"]\n",
    "y.shape"
   ]
  },
  {
   "cell_type": "code",
   "execution_count": 41,
   "id": "50ba835a",
   "metadata": {},
   "outputs": [
    {
     "data": {
      "image/png": "[encoded data removed]",
      "text/plain": [
       "<Figure size 1440x1152 with 2 Axes>"
      ]
     },
     "metadata": {
      "needs_background": "light"
     },
     "output_type": "display_data"
    }
   ],
   "source": [
    "sns.heatmap(\n",
    "    data=df.corr(),\n",
    "    annot=True,\n",
    "    fmt='.2f',\n",
    "    cmap='RdYlGn'\n",
    ")\n",
    "\n",
    "fig = plt.gcf()\n",
    "fig.set_size_inches(20, 16)\n",
    "\n",
    "plt.show()"
   ]
  },
  {
   "cell_type": "code",
   "execution_count": 42,
   "id": "57e133f4",
   "metadata": {},
   "outputs": [
    {
     "data": {
      "text/plain": [
       "act_signature_delay        1.000000\n",
       "mandate_signature_delay    0.608374\n",
       "mandate_id                 0.314042\n",
       "budget                     0.041825\n",
       "project_type               0.022649\n",
       "property_type              0.011360\n",
       "Name: act_signature_delay, dtype: float64"
      ]
     },
     "execution_count": 42,
     "metadata": {},
     "output_type": "execute_result"
    }
   ],
   "source": [
    "corr = df.corr()\n",
    "corr10 = corr['act_signature_delay'].abs().sort_values(ascending=False)\n",
    "corr10.head(11)"
   ]
  },
  {
   "cell_type": "code",
   "execution_count": 43,
   "id": "9b5b397b",
   "metadata": {},
   "outputs": [
    {
     "data": {
      "text/plain": [
       "<seaborn.axisgrid.JointGrid at 0x1d5f2e570d0>"
      ]
     },
     "execution_count": 43,
     "metadata": {},
     "output_type": "execute_result"
    },
    {
     "data": {
      "image/png": "[encoded data removed]",
      "text/plain": [
       "<Figure size 432x432 with 3 Axes>"
      ]
     },
     "metadata": {},
     "output_type": "display_data"
    }
   ],
   "source": [
    "sns.set_palette(\"GnBu_d\")\n",
    "sns.set_style('whitegrid')\n",
    "sns.jointplot(x=\"budget\",y=\"act_signature_delay\",data=df, kind=\"reg\")"
   ]
  },
  {
   "cell_type": "code",
   "execution_count": 44,
   "id": "37ef8dcd",
   "metadata": {},
   "outputs": [
    {
     "data": {
      "text/plain": [
       "<seaborn.axisgrid.JointGrid at 0x1d5f2f4b0a0>"
      ]
     },
     "execution_count": 44,
     "metadata": {},
     "output_type": "execute_result"
    },
    {
     "data": {
      "image/png": "[encoded data removed]",
      "text/plain": [
       "<Figure size 432x432 with 3 Axes>"
      ]
     },
     "metadata": {},
     "output_type": "display_data"
    }
   ],
   "source": [
    "sns.set_palette(\"GnBu_d\")\n",
    "sns.set_style('whitegrid')\n",
    "sns.jointplot(x=\"property_type\",y=\"act_signature_delay\",data=df, kind=\"reg\")"
   ]
  },
  {
   "cell_type": "code",
   "execution_count": 45,
   "id": "8837283a",
   "metadata": {},
   "outputs": [
    {
     "data": {
      "text/plain": [
       "<seaborn.axisgrid.JointGrid at 0x1d5f2e096a0>"
      ]
     },
     "execution_count": 45,
     "metadata": {},
     "output_type": "execute_result"
    },
    {
     "data": {
      "image/png": "[encoded data removed]",
      "text/plain": [
       "<Figure size 432x432 with 3 Axes>"
      ]
     },
     "metadata": {},
     "output_type": "display_data"
    }
   ],
   "source": [
    "sns.set_palette(\"GnBu_d\")\n",
    "sns.set_style('whitegrid')\n",
    "sns.jointplot(x=\"project_type\",y=\"act_signature_delay\",data=df, kind=\"reg\")"
   ]
  },
  {
   "cell_type": "code",
   "execution_count": 46,
   "id": "5e6981e9",
   "metadata": {},
   "outputs": [],
   "source": [
    "x = df[[\"mandate_signature_delay\", \"budget\", \"property_type\", \"project_type\"]]\n",
    "y = df[\"act_signature_delay\"]"
   ]
  },
  {
   "cell_type": "code",
   "execution_count": 47,
   "id": "c89d371e",
   "metadata": {},
   "outputs": [],
   "source": [
    "from sklearn.model_selection import train_test_split\n",
    "x_train, x_test, y_train, y_test = train_test_split(x,y, test_size = 0.3, random_state =42 )"
   ]
  },
  {
   "cell_type": "code",
   "execution_count": null,
   "id": "77b87bef",
   "metadata": {},
   "outputs": [],
   "source": []
  },
  {
   "cell_type": "code",
   "execution_count": 48,
   "id": "f55e4672",
   "metadata": {},
   "outputs": [],
   "source": [
    "from sklearn.linear_model import LinearRegression"
   ]
  },
  {
   "cell_type": "code",
   "execution_count": 49,
   "id": "c19d5b99",
   "metadata": {},
   "outputs": [
    {
     "data": {
      "text/plain": [
       "LinearRegression()"
      ]
     },
     "execution_count": 49,
     "metadata": {},
     "output_type": "execute_result"
    }
   ],
   "source": [
    "regr = LinearRegression()\n",
    "regr.fit(x_train, y_train)"
   ]
  },
  {
   "cell_type": "code",
   "execution_count": 50,
   "id": "c752d26a",
   "metadata": {},
   "outputs": [
    {
     "data": {
      "text/plain": [
       "0.2651793350771988"
      ]
     },
     "execution_count": 50,
     "metadata": {},
     "output_type": "execute_result"
    }
   ],
   "source": [
    "regr.score(x_test,y_test)"
   ]
  },
  {
   "cell_type": "code",
   "execution_count": 51,
   "id": "60ad75c9",
   "metadata": {},
   "outputs": [],
   "source": [
    "y_pred = regr.predict(x_test)"
   ]
  },
  {
   "cell_type": "code",
   "execution_count": 52,
   "id": "55827626",
   "metadata": {},
   "outputs": [
    {
     "name": "stderr",
     "output_type": "stream",
     "text": [
      "C:\\anaconda3\\lib\\site-packages\\seaborn\\_decorators.py:36: FutureWarning: Pass the following variables as keyword args: x, y. From version 0.12, the only valid positional argument will be `data`, and passing other arguments without an explicit keyword will result in an error or misinterpretation.\n",
      "  warnings.warn(\n"
     ]
    },
    {
     "data": {
      "text/plain": [
       "Text(0, 0.5, 'Prédictions')"
      ]
     },
     "execution_count": 52,
     "metadata": {},
     "output_type": "execute_result"
    },
    {
     "data": {
      "image/png": "[encoded data removed]",
      "text/plain": [
       "<Figure size 432x288 with 1 Axes>"
      ]
     },
     "metadata": {},
     "output_type": "display_data"
    }
   ],
   "source": [
    "## La ligne/modèle \n",
    "sns.regplot(y_test,y_pred)\n",
    "plt.scatter(y_test, y_pred, c=\"b\") \n",
    "plt.xlabel(\"Vraies valeurs\") \n",
    "plt.ylabel(\"Prédictions\")"
   ]
  },
  {
   "cell_type": "code",
   "execution_count": 53,
   "id": "ca731eb7",
   "metadata": {},
   "outputs": [
    {
     "name": "stderr",
     "output_type": "stream",
     "text": [
      "C:\\anaconda3\\lib\\site-packages\\seaborn\\_decorators.py:36: FutureWarning: Pass the following variables as keyword args: x, y. From version 0.12, the only valid positional argument will be `data`, and passing other arguments without an explicit keyword will result in an error or misinterpretation.\n",
      "  warnings.warn(\n"
     ]
    },
    {
     "data": {
      "text/plain": [
       "Text(0.5, 1.0, 'test valeur vs prediction')"
      ]
     },
     "execution_count": 53,
     "metadata": {},
     "output_type": "execute_result"
    },
    {
     "data": {
      "image/png": "[encoded data removed]",
      "text/plain": [
       "<Figure size 864x576 with 1 Axes>"
      ]
     },
     "metadata": {},
     "output_type": "display_data"
    }
   ],
   "source": [
    "plt.figure(figsize=(12,8))\n",
    "sns.regplot(y_test,y_pred)\n",
    "plt.scatter(y_test,y_pred, c=\"b\")\n",
    "plt.xlabel('Test',fontsize=20)\n",
    "plt.ylabel('Prediction',fontsize=20)\n",
    "plt.title(\"test valeur vs prediction\",fontsize=30)"
   ]
  },
  {
   "cell_type": "code",
   "execution_count": 54,
   "id": "8c61fa08",
   "metadata": {},
   "outputs": [],
   "source": [
    "from sklearn.metrics import mean_squared_error, r2_score, explained_variance_score, median_absolute_error\n"
   ]
  },
  {
   "cell_type": "code",
   "execution_count": 55,
   "id": "00db359a",
   "metadata": {},
   "outputs": [
    {
     "name": "stdout",
     "output_type": "stream",
     "text": [
      "Coefficients: \n",
      " [ 9.61183668e-01 -2.20748503e-06  8.22361089e-01  1.29870556e+00]\n",
      "64.9834759022662\n",
      "Mean squared error: 4265.167260580586\n",
      "Variance score: 0.2651793350771988\n"
     ]
    }
   ],
   "source": [
    "# On va calculer quelques mesures de performances:\n",
    "# Voyons les coefficients obtenus, dans notre cas, ils seront la tangente\n",
    "print('Coefficients: \\n', regr.coef_)\n",
    "# Il s'agit de la valeur à l'intersection de l'axe Y (à X = 0)\n",
    "print(regr.intercept_)\n",
    "# Mean squared error\n",
    "print(\"Mean squared error:\", mean_squared_error(y_test, y_pred))\n",
    "# Variance score\n",
    "print(\"Variance score:\", r2_score(y_test, y_pred))"
   ]
  },
  {
   "cell_type": "code",
   "execution_count": 56,
   "id": "d2b9ae16",
   "metadata": {},
   "outputs": [
    {
     "name": "stderr",
     "output_type": "stream",
     "text": [
      "C:\\anaconda3\\lib\\site-packages\\seaborn\\distributions.py:2557: FutureWarning: `distplot` is a deprecated function and will be removed in a future version. Please adapt your code to use either `displot` (a figure-level function with similar flexibility) or `histplot` (an axes-level function for histograms).\n",
      "  warnings.warn(msg, FutureWarning)\n"
     ]
    },
    {
     "data": {
      "text/plain": [
       "<AxesSubplot:xlabel='act_signature_delay', ylabel='Density'>"
      ]
     },
     "execution_count": 56,
     "metadata": {},
     "output_type": "execute_result"
    },
    {
     "data": {
      "image/png": "[encoded data removed]",
      "text/plain": [
       "<Figure size 432x288 with 1 Axes>"
      ]
     },
     "metadata": {},
     "output_type": "display_data"
    }
   ],
   "source": [
    "sns.distplot(y_test-y_pred, bins=25)"
   ]
  },
  {
   "cell_type": "code",
   "execution_count": 57,
   "id": "e7a1c6ae",
   "metadata": {},
   "outputs": [
    {
     "data": {
      "text/html": [
       "<div>\n",
       "<style scoped>\n",
       "    .dataframe tbody tr th:only-of-type {\n",
       "        vertical-align: middle;\n",
       "    }\n",
       "\n",
       "    .dataframe tbody tr th {\n",
       "        vertical-align: top;\n",
       "    }\n",
       "\n",
       "    .dataframe thead th {\n",
       "        text-align: right;\n",
       "    }\n",
       "</style>\n",
       "<table border=\"1\" class=\"dataframe\">\n",
       "  <thead>\n",
       "    <tr style=\"text-align: right;\">\n",
       "      <th></th>\n",
       "      <th>Coefficient</th>\n",
       "    </tr>\n",
       "  </thead>\n",
       "  <tbody>\n",
       "    <tr>\n",
       "      <th>mandate_signature_delay</th>\n",
       "      <td>0.961184</td>\n",
       "    </tr>\n",
       "    <tr>\n",
       "      <th>budget</th>\n",
       "      <td>-0.000002</td>\n",
       "    </tr>\n",
       "    <tr>\n",
       "      <th>property_type</th>\n",
       "      <td>0.822361</td>\n",
       "    </tr>\n",
       "    <tr>\n",
       "      <th>project_type</th>\n",
       "      <td>1.298706</td>\n",
       "    </tr>\n",
       "  </tbody>\n",
       "</table>\n",
       "</div>"
      ],
      "text/plain": [
       "                         Coefficient\n",
       "mandate_signature_delay     0.961184\n",
       "budget                     -0.000002\n",
       "property_type               0.822361\n",
       "project_type                1.298706"
      ]
     },
     "execution_count": 57,
     "metadata": {},
     "output_type": "execute_result"
    }
   ],
   "source": [
    "coefficients = pd.DataFrame(regr.coef_, x.columns)\n",
    "coefficients.columns = ['Coefficient']\n",
    "coefficients"
   ]
  },
  {
   "cell_type": "code",
   "execution_count": 58,
   "id": "2cdb4d79",
   "metadata": {},
   "outputs": [
    {
     "data": {
      "text/plain": [
       "<AxesSubplot:>"
      ]
     },
     "execution_count": 58,
     "metadata": {},
     "output_type": "execute_result"
    },
    {
     "data": {
      "image/png": "[encoded data removed]",
      "text/plain": [
       "<Figure size 648x504 with 1 Axes>"
      ]
     },
     "metadata": {},
     "output_type": "display_data"
    }
   ],
   "source": [
    "coefficients.plot(kind='barh',figsize=(9,7))"
   ]
  },
  {
   "cell_type": "code",
   "execution_count": 59,
   "id": "b7dde93b",
   "metadata": {},
   "outputs": [
    {
     "name": "stdout",
     "output_type": "stream",
     "text": [
      "Ridge score:  0.5047317612172011\n"
     ]
    }
   ],
   "source": [
    "from sklearn.linear_model import Ridge\n",
    "x_train,x_test,y_train,y_test = train_test_split(x,y,random_state = 2, test_size = 0.3)\n",
    "ridge = Ridge()\n",
    "ridge.fit(x_train,y_train)\n",
    "ridge_predict = ridge.predict(x_test)\n",
    "print('Ridge score: ',ridge.score(x_test,y_test))"
   ]
  },
  {
   "cell_type": "code",
   "execution_count": 60,
   "id": "9694a1d4",
   "metadata": {},
   "outputs": [
    {
     "name": "stdout",
     "output_type": "stream",
     "text": [
      "Lasso score:  0.44300115620073455\n"
     ]
    }
   ],
   "source": [
    "# Lasso\n",
    "from sklearn.linear_model import Lasso\n",
    "x_train,x_test,y_train,y_test = train_test_split(x,y,random_state = 3, test_size = 0.3)\n",
    "lasso = Lasso()\n",
    "lasso.fit(x_train,y_train)\n",
    "ridge_predict = lasso.predict(x_test)\n",
    "print('Lasso score: ',lasso.score(x_test,y_test))"
   ]
  },
  {
   "cell_type": "code",
   "execution_count": 61,
   "id": "7d2e87fc",
   "metadata": {},
   "outputs": [],
   "source": [
    "Y = df.act_signature_delay"
   ]
  },
  {
   "cell_type": "code",
   "execution_count": 62,
   "id": "4b51cd8f",
   "metadata": {},
   "outputs": [],
   "source": [
    "X = df[[\"mandate_signature_delay\", \"budget\", \"property_type\", \"project_type\"]]"
   ]
  },
  {
   "cell_type": "code",
   "execution_count": 63,
   "id": "bb16bdab",
   "metadata": {},
   "outputs": [
    {
     "data": {
      "text/html": [
       "<div>\n",
       "<style scoped>\n",
       "    .dataframe tbody tr th:only-of-type {\n",
       "        vertical-align: middle;\n",
       "    }\n",
       "\n",
       "    .dataframe tbody tr th {\n",
       "        vertical-align: top;\n",
       "    }\n",
       "\n",
       "    .dataframe thead th {\n",
       "        text-align: right;\n",
       "    }\n",
       "</style>\n",
       "<table border=\"1\" class=\"dataframe\">\n",
       "  <thead>\n",
       "    <tr style=\"text-align: right;\">\n",
       "      <th></th>\n",
       "      <th>mandate_signature_delay</th>\n",
       "      <th>budget</th>\n",
       "      <th>property_type</th>\n",
       "      <th>project_type</th>\n",
       "    </tr>\n",
       "  </thead>\n",
       "  <tbody>\n",
       "    <tr>\n",
       "      <th>count</th>\n",
       "      <td>2544.000000</td>\n",
       "      <td>2.544000e+03</td>\n",
       "      <td>2544.000000</td>\n",
       "      <td>2544.000000</td>\n",
       "    </tr>\n",
       "    <tr>\n",
       "      <th>mean</th>\n",
       "      <td>21.033019</td>\n",
       "      <td>3.508887e+05</td>\n",
       "      <td>2.320362</td>\n",
       "      <td>0.721305</td>\n",
       "    </tr>\n",
       "    <tr>\n",
       "      <th>std</th>\n",
       "      <td>55.731122</td>\n",
       "      <td>3.229104e+05</td>\n",
       "      <td>1.624612</td>\n",
       "      <td>0.556450</td>\n",
       "    </tr>\n",
       "    <tr>\n",
       "      <th>min</th>\n",
       "      <td>-181.000000</td>\n",
       "      <td>0.000000e+00</td>\n",
       "      <td>0.000000</td>\n",
       "      <td>0.000000</td>\n",
       "    </tr>\n",
       "    <tr>\n",
       "      <th>25%</th>\n",
       "      <td>2.000000</td>\n",
       "      <td>1.900000e+05</td>\n",
       "      <td>2.000000</td>\n",
       "      <td>0.000000</td>\n",
       "    </tr>\n",
       "    <tr>\n",
       "      <th>50%</th>\n",
       "      <td>6.000000</td>\n",
       "      <td>2.700000e+05</td>\n",
       "      <td>2.000000</td>\n",
       "      <td>1.000000</td>\n",
       "    </tr>\n",
       "    <tr>\n",
       "      <th>75%</th>\n",
       "      <td>17.000000</td>\n",
       "      <td>4.000000e+05</td>\n",
       "      <td>2.000000</td>\n",
       "      <td>1.000000</td>\n",
       "    </tr>\n",
       "    <tr>\n",
       "      <th>max</th>\n",
       "      <td>1063.000000</td>\n",
       "      <td>7.000000e+06</td>\n",
       "      <td>8.000000</td>\n",
       "      <td>2.000000</td>\n",
       "    </tr>\n",
       "  </tbody>\n",
       "</table>\n",
       "</div>"
      ],
      "text/plain": [
       "       mandate_signature_delay        budget  property_type  project_type\n",
       "count              2544.000000  2.544000e+03    2544.000000   2544.000000\n",
       "mean                 21.033019  3.508887e+05       2.320362      0.721305\n",
       "std                  55.731122  3.229104e+05       1.624612      0.556450\n",
       "min                -181.000000  0.000000e+00       0.000000      0.000000\n",
       "25%                   2.000000  1.900000e+05       2.000000      0.000000\n",
       "50%                   6.000000  2.700000e+05       2.000000      1.000000\n",
       "75%                  17.000000  4.000000e+05       2.000000      1.000000\n",
       "max                1063.000000  7.000000e+06       8.000000      2.000000"
      ]
     },
     "execution_count": 63,
     "metadata": {},
     "output_type": "execute_result"
    }
   ],
   "source": [
    "X.describe()"
   ]
  },
  {
   "cell_type": "code",
   "execution_count": 64,
   "id": "83211107",
   "metadata": {},
   "outputs": [],
   "source": [
    "from sklearn.model_selection import train_test_split\n",
    "X_train, X_test, Y_train, Y_test = train_test_split(X,Y, test_size = 0.2, random_state =4 )"
   ]
  },
  {
   "cell_type": "code",
   "execution_count": 65,
   "id": "38c199d5",
   "metadata": {},
   "outputs": [
    {
     "data": {
      "text/plain": [
       "LinearRegression()"
      ]
     },
     "execution_count": 65,
     "metadata": {},
     "output_type": "execute_result"
    }
   ],
   "source": [
    "regressor = LinearRegression() \n",
    "regressor.fit(X_train,Y_train)"
   ]
  },
  {
   "cell_type": "code",
   "execution_count": 66,
   "id": "bd9b775c",
   "metadata": {},
   "outputs": [],
   "source": [
    "y_pred = regressor.predict(X_test) "
   ]
  },
  {
   "cell_type": "code",
   "execution_count": 67,
   "id": "da408148",
   "metadata": {},
   "outputs": [
    {
     "ename": "ValueError",
     "evalue": "Found input variables with inconsistent numbers of samples: [764, 509]",
     "output_type": "error",
     "traceback": [
      "\u001b[1;31m---------------------------------------------------------------------------\u001b[0m",
      "\u001b[1;31mValueError\u001b[0m                                Traceback (most recent call last)",
      "\u001b[1;32m<ipython-input-67-4d44c2037e9b>\u001b[0m in \u001b[0;36m<module>\u001b[1;34m\u001b[0m\n\u001b[0;32m      4\u001b[0m \u001b[1;33m\u001b[0m\u001b[0m\n\u001b[0;32m      5\u001b[0m \u001b[1;31m#Evaluate the regressor on the raw data\u001b[0m\u001b[1;33m\u001b[0m\u001b[1;33m\u001b[0m\u001b[1;33m\u001b[0m\u001b[0m\n\u001b[1;32m----> 6\u001b[1;33m \u001b[0mprint\u001b[0m\u001b[1;33m(\u001b[0m\u001b[1;34m'RMSE score for the Multiple LR raw is : {}'\u001b[0m\u001b[1;33m.\u001b[0m\u001b[0mformat\u001b[0m\u001b[1;33m(\u001b[0m\u001b[0mnp\u001b[0m\u001b[1;33m.\u001b[0m\u001b[0msqrt\u001b[0m\u001b[1;33m(\u001b[0m\u001b[0mmetrics\u001b[0m\u001b[1;33m.\u001b[0m\u001b[0mmean_squared_error\u001b[0m\u001b[1;33m(\u001b[0m\u001b[0my_test\u001b[0m\u001b[1;33m,\u001b[0m\u001b[0my_pred\u001b[0m\u001b[1;33m)\u001b[0m\u001b[1;33m)\u001b[0m\u001b[1;33m)\u001b[0m\u001b[1;33m)\u001b[0m\u001b[1;33m\u001b[0m\u001b[1;33m\u001b[0m\u001b[0m\n\u001b[0m\u001b[0;32m      7\u001b[0m \u001b[0mprint\u001b[0m\u001b[1;33m(\u001b[0m\u001b[1;34m'Variance score for the Multiple LR raw is : %.2f'\u001b[0m \u001b[1;33m%\u001b[0m \u001b[0mregressor\u001b[0m\u001b[1;33m.\u001b[0m\u001b[0mscore\u001b[0m\u001b[1;33m(\u001b[0m\u001b[0mX_test\u001b[0m\u001b[1;33m,\u001b[0m \u001b[0my_test\u001b[0m\u001b[1;33m)\u001b[0m\u001b[1;33m)\u001b[0m\u001b[1;33m\u001b[0m\u001b[1;33m\u001b[0m\u001b[0m\n\u001b[0;32m      8\u001b[0m \u001b[0mprint\u001b[0m\u001b[1;33m(\u001b[0m\u001b[1;34m\"\\n\"\u001b[0m\u001b[1;33m)\u001b[0m\u001b[1;33m\u001b[0m\u001b[1;33m\u001b[0m\u001b[0m\n",
      "\u001b[1;32mC:\\anaconda3\\lib\\site-packages\\sklearn\\utils\\validation.py\u001b[0m in \u001b[0;36minner_f\u001b[1;34m(*args, **kwargs)\u001b[0m\n\u001b[0;32m     61\u001b[0m             \u001b[0mextra_args\u001b[0m \u001b[1;33m=\u001b[0m \u001b[0mlen\u001b[0m\u001b[1;33m(\u001b[0m\u001b[0margs\u001b[0m\u001b[1;33m)\u001b[0m \u001b[1;33m-\u001b[0m \u001b[0mlen\u001b[0m\u001b[1;33m(\u001b[0m\u001b[0mall_args\u001b[0m\u001b[1;33m)\u001b[0m\u001b[1;33m\u001b[0m\u001b[1;33m\u001b[0m\u001b[0m\n\u001b[0;32m     62\u001b[0m             \u001b[1;32mif\u001b[0m \u001b[0mextra_args\u001b[0m \u001b[1;33m<=\u001b[0m \u001b[1;36m0\u001b[0m\u001b[1;33m:\u001b[0m\u001b[1;33m\u001b[0m\u001b[1;33m\u001b[0m\u001b[0m\n\u001b[1;32m---> 63\u001b[1;33m                 \u001b[1;32mreturn\u001b[0m \u001b[0mf\u001b[0m\u001b[1;33m(\u001b[0m\u001b[1;33m*\u001b[0m\u001b[0margs\u001b[0m\u001b[1;33m,\u001b[0m \u001b[1;33m**\u001b[0m\u001b[0mkwargs\u001b[0m\u001b[1;33m)\u001b[0m\u001b[1;33m\u001b[0m\u001b[1;33m\u001b[0m\u001b[0m\n\u001b[0m\u001b[0;32m     64\u001b[0m \u001b[1;33m\u001b[0m\u001b[0m\n\u001b[0;32m     65\u001b[0m             \u001b[1;31m# extra_args > 0\u001b[0m\u001b[1;33m\u001b[0m\u001b[1;33m\u001b[0m\u001b[1;33m\u001b[0m\u001b[0m\n",
      "\u001b[1;32mC:\\anaconda3\\lib\\site-packages\\sklearn\\metrics\\_regression.py\u001b[0m in \u001b[0;36mmean_squared_error\u001b[1;34m(y_true, y_pred, sample_weight, multioutput, squared)\u001b[0m\n\u001b[0;32m    333\u001b[0m     \u001b[1;36m0.825\u001b[0m\u001b[1;33m...\u001b[0m\u001b[1;33m\u001b[0m\u001b[1;33m\u001b[0m\u001b[0m\n\u001b[0;32m    334\u001b[0m     \"\"\"\n\u001b[1;32m--> 335\u001b[1;33m     y_type, y_true, y_pred, multioutput = _check_reg_targets(\n\u001b[0m\u001b[0;32m    336\u001b[0m         y_true, y_pred, multioutput)\n\u001b[0;32m    337\u001b[0m     \u001b[0mcheck_consistent_length\u001b[0m\u001b[1;33m(\u001b[0m\u001b[0my_true\u001b[0m\u001b[1;33m,\u001b[0m \u001b[0my_pred\u001b[0m\u001b[1;33m,\u001b[0m \u001b[0msample_weight\u001b[0m\u001b[1;33m)\u001b[0m\u001b[1;33m\u001b[0m\u001b[1;33m\u001b[0m\u001b[0m\n",
      "\u001b[1;32mC:\\anaconda3\\lib\\site-packages\\sklearn\\metrics\\_regression.py\u001b[0m in \u001b[0;36m_check_reg_targets\u001b[1;34m(y_true, y_pred, multioutput, dtype)\u001b[0m\n\u001b[0;32m     86\u001b[0m         \u001b[0mthe\u001b[0m \u001b[0mdtype\u001b[0m \u001b[0margument\u001b[0m \u001b[0mpassed\u001b[0m \u001b[0mto\u001b[0m \u001b[0mcheck_array\u001b[0m\u001b[1;33m.\u001b[0m\u001b[1;33m\u001b[0m\u001b[1;33m\u001b[0m\u001b[0m\n\u001b[0;32m     87\u001b[0m     \"\"\"\n\u001b[1;32m---> 88\u001b[1;33m     \u001b[0mcheck_consistent_length\u001b[0m\u001b[1;33m(\u001b[0m\u001b[0my_true\u001b[0m\u001b[1;33m,\u001b[0m \u001b[0my_pred\u001b[0m\u001b[1;33m)\u001b[0m\u001b[1;33m\u001b[0m\u001b[1;33m\u001b[0m\u001b[0m\n\u001b[0m\u001b[0;32m     89\u001b[0m     \u001b[0my_true\u001b[0m \u001b[1;33m=\u001b[0m \u001b[0mcheck_array\u001b[0m\u001b[1;33m(\u001b[0m\u001b[0my_true\u001b[0m\u001b[1;33m,\u001b[0m \u001b[0mensure_2d\u001b[0m\u001b[1;33m=\u001b[0m\u001b[1;32mFalse\u001b[0m\u001b[1;33m,\u001b[0m \u001b[0mdtype\u001b[0m\u001b[1;33m=\u001b[0m\u001b[0mdtype\u001b[0m\u001b[1;33m)\u001b[0m\u001b[1;33m\u001b[0m\u001b[1;33m\u001b[0m\u001b[0m\n\u001b[0;32m     90\u001b[0m     \u001b[0my_pred\u001b[0m \u001b[1;33m=\u001b[0m \u001b[0mcheck_array\u001b[0m\u001b[1;33m(\u001b[0m\u001b[0my_pred\u001b[0m\u001b[1;33m,\u001b[0m \u001b[0mensure_2d\u001b[0m\u001b[1;33m=\u001b[0m\u001b[1;32mFalse\u001b[0m\u001b[1;33m,\u001b[0m \u001b[0mdtype\u001b[0m\u001b[1;33m=\u001b[0m\u001b[0mdtype\u001b[0m\u001b[1;33m)\u001b[0m\u001b[1;33m\u001b[0m\u001b[1;33m\u001b[0m\u001b[0m\n",
      "\u001b[1;32mC:\\anaconda3\\lib\\site-packages\\sklearn\\utils\\validation.py\u001b[0m in \u001b[0;36mcheck_consistent_length\u001b[1;34m(*arrays)\u001b[0m\n\u001b[0;32m    317\u001b[0m     \u001b[0muniques\u001b[0m \u001b[1;33m=\u001b[0m \u001b[0mnp\u001b[0m\u001b[1;33m.\u001b[0m\u001b[0munique\u001b[0m\u001b[1;33m(\u001b[0m\u001b[0mlengths\u001b[0m\u001b[1;33m)\u001b[0m\u001b[1;33m\u001b[0m\u001b[1;33m\u001b[0m\u001b[0m\n\u001b[0;32m    318\u001b[0m     \u001b[1;32mif\u001b[0m \u001b[0mlen\u001b[0m\u001b[1;33m(\u001b[0m\u001b[0muniques\u001b[0m\u001b[1;33m)\u001b[0m \u001b[1;33m>\u001b[0m \u001b[1;36m1\u001b[0m\u001b[1;33m:\u001b[0m\u001b[1;33m\u001b[0m\u001b[1;33m\u001b[0m\u001b[0m\n\u001b[1;32m--> 319\u001b[1;33m         raise ValueError(\"Found input variables with inconsistent numbers of\"\n\u001b[0m\u001b[0;32m    320\u001b[0m                          \" samples: %r\" % [int(l) for l in lengths])\n\u001b[0;32m    321\u001b[0m \u001b[1;33m\u001b[0m\u001b[0m\n",
      "\u001b[1;31mValueError\u001b[0m: Found input variables with inconsistent numbers of samples: [764, 509]"
     ]
    }
   ],
   "source": [
    "from sklearn import metrics\n",
    "\n",
    "from sklearn.metrics import mean_squared_error, r2_score, explained_variance_score, median_absolute_error\n",
    "\n",
    "#Evaluate the regressor on the raw data\n",
    "print('RMSE score for the Multiple LR raw is : {}'.format(np.sqrt(metrics.mean_squared_error(y_test,y_pred))))\n",
    "print('Variance score for the Multiple LR raw is : %.2f' % regressor.score(X_test, y_test))\n",
    "print(\"\\n\")"
   ]
  },
  {
   "cell_type": "markdown",
   "id": "fb66bde0",
   "metadata": {},
   "source": [
    "Tester de faire une classification par tranche de jours\n",
    "ex :  0 à 30, 30 à 45, 45 à 100\n",
    "ex : 0-15, 16-30, 31-45 ???"
   ]
  },
  {
   "cell_type": "code",
   "execution_count": null,
   "id": "b7718b52",
   "metadata": {},
   "outputs": [],
   "source": []
  },
  {
   "cell_type": "code",
   "execution_count": null,
   "id": "e588c969",
   "metadata": {},
   "outputs": [],
   "source": []
  },
  {
   "cell_type": "code",
   "execution_count": null,
   "id": "7f421ec4",
   "metadata": {},
   "outputs": [],
   "source": []
  },
  {
   "cell_type": "code",
   "execution_count": null,
   "id": "609868d0",
   "metadata": {},
   "outputs": [],
   "source": []
  },
  {
   "cell_type": "code",
   "execution_count": null,
   "id": "92a0a2f0",
   "metadata": {},
   "outputs": [],
   "source": []
  },
  {
   "cell_type": "code",
   "execution_count": null,
   "id": "ff50a951",
   "metadata": {},
   "outputs": [],
   "source": []
  },
  {
   "cell_type": "code",
   "execution_count": null,
   "id": "bdb2925d",
   "metadata": {},
   "outputs": [],
   "source": []
  },
  {
   "cell_type": "code",
   "execution_count": null,
   "id": "626d164a",
   "metadata": {},
   "outputs": [],
   "source": []
  }
 ],
 "metadata": {
  "kernelspec": {
   "display_name": "Python 3 (ipykernel)",
   "language": "python",
   "name": "python3"
  },
  "language_info": {
   "codemirror_mode": {
    "name": "ipython",
    "version": 3
   },
   "file_extension": ".py",
   "mimetype": "text/x-python",
   "name": "python",
   "nbconvert_exporter": "python",
   "pygments_lexer": "ipython3",
   "version": "3.8.8"
  }
 },
 "nbformat": 4,
 "nbformat_minor": 5
}
