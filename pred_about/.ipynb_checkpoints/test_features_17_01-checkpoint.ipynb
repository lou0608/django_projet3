{
 "cells": [
  {
   "cell_type": "code",
   "execution_count": 1,
   "id": "dba14de8",
   "metadata": {},
   "outputs": [],
   "source": [
    "import pandas as pd\n",
    "pd.set_option('display.max_columns', None)\n",
    "import numpy as np\n",
    "import scipy.stats as stat\n",
    "import scipy as sp\n",
    "import statistics"
   ]
  },
  {
   "cell_type": "code",
   "execution_count": 2,
   "id": "e4fe8b28",
   "metadata": {},
   "outputs": [],
   "source": [
    "import matplotlib.pyplot as plt\n",
    "from matplotlib import pyplot\n",
    "\n",
    "%matplotlib inline\n",
    "from mpl_toolkits.mplot3d import Axes3D\n",
    "from matplotlib import cm\n",
    "import seaborn as sns\n",
    "\n",
    "import warnings\n",
    "warnings.filterwarnings('ignore')"
   ]
  },
  {
   "cell_type": "code",
   "execution_count": 3,
   "id": "ea9a1ae6",
   "metadata": {},
   "outputs": [],
   "source": [
    "# Modèle de ML\n",
    "from sklearn import linear_model\n",
    "\n",
    "# data pre-processing\n",
    "from sklearn import preprocessing\n",
    "from sklearn.model_selection import train_test_split\n",
    "\n",
    "# Outils score et evaluation de modèle\n",
    "from sklearn.metrics import accuracy_score\n",
    "from sklearn import metrics\n",
    "from sklearn.metrics import classification_report\n",
    "from sklearn.metrics import confusion_matrix\n",
    "\n",
    "from sklearn.metrics import r2_score\n",
    "\n",
    "# Outils optmisation de modèle\n",
    "from sklearn.model_selection import GridSearchCV"
   ]
  },
  {
   "cell_type": "code",
   "execution_count": 4,
   "id": "b09200d3",
   "metadata": {},
   "outputs": [
    {
     "data": {
      "text/html": [
       "<div>\n",
       "<style scoped>\n",
       "    .dataframe tbody tr th:only-of-type {\n",
       "        vertical-align: middle;\n",
       "    }\n",
       "\n",
       "    .dataframe tbody tr th {\n",
       "        vertical-align: top;\n",
       "    }\n",
       "\n",
       "    .dataframe thead th {\n",
       "        text-align: right;\n",
       "    }\n",
       "</style>\n",
       "<table border=\"1\" class=\"dataframe\">\n",
       "  <thead>\n",
       "    <tr style=\"text-align: right;\">\n",
       "      <th></th>\n",
       "      <th>Unnamed: 0</th>\n",
       "      <th>DateMandatInstant</th>\n",
       "      <th>DateMandatSeason</th>\n",
       "      <th>DateMandatYear</th>\n",
       "      <th>DateMandatMonth</th>\n",
       "      <th>DateMandatWeek</th>\n",
       "      <th>MandatId</th>\n",
       "      <th>UrlMandat</th>\n",
       "      <th>DateMandat</th>\n",
       "      <th>StatutMandat</th>\n",
       "      <th>DateCompromis</th>\n",
       "      <th>BudgetMaxEuro</th>\n",
       "      <th>TypeBien</th>\n",
       "      <th>TypeProjet</th>\n",
       "      <th>SurfaceMin</th>\n",
       "      <th>NombrePieces</th>\n",
       "      <th>NombreChambres</th>\n",
       "      <th>Ville</th>\n",
       "      <th>CodePostal</th>\n",
       "      <th>Departement</th>\n",
       "      <th>Region</th>\n",
       "      <th>NombreDeBiensTrouves</th>\n",
       "      <th>NombreDeBiensPublies</th>\n",
       "      <th>NombreDeBiensSelectionnes</th>\n",
       "      <th>NombreDeBiensAVisiter</th>\n",
       "      <th>NombreDeBiensVisites</th>\n",
       "      <th>NombreDeBiensRejetes</th>\n",
       "      <th>NombreDeBiensActesOuCompromis</th>\n",
       "      <th>DatePremierePublicationDeBien</th>\n",
       "      <th>DateDernierePublicationDeBien</th>\n",
       "      <th>DelaiPremierePublicationDeBien</th>\n",
       "      <th>DatePremiereVisite</th>\n",
       "      <th>DelaiPremiereVisite</th>\n",
       "    </tr>\n",
       "  </thead>\n",
       "  <tbody>\n",
       "    <tr>\n",
       "      <th>0</th>\n",
       "      <td>0</td>\n",
       "      <td>1</td>\n",
       "      <td>2</td>\n",
       "      <td>0</td>\n",
       "      <td>4</td>\n",
       "      <td>17</td>\n",
       "      <td>2</td>\n",
       "      <td>https://monespace.net-acheteur.com/Spa/app/#/m...</td>\n",
       "      <td>2012-04-26</td>\n",
       "      <td>0</td>\n",
       "      <td>NaN</td>\n",
       "      <td>280000</td>\n",
       "      <td>1</td>\n",
       "      <td>0</td>\n",
       "      <td>0</td>\n",
       "      <td>5</td>\n",
       "      <td>2</td>\n",
       "      <td>Nimes</td>\n",
       "      <td>30000</td>\n",
       "      <td>Gard</td>\n",
       "      <td>Languedoc-Roussillon</td>\n",
       "      <td>39</td>\n",
       "      <td>32</td>\n",
       "      <td>5</td>\n",
       "      <td>4</td>\n",
       "      <td>1</td>\n",
       "      <td>18</td>\n",
       "      <td>0</td>\n",
       "      <td>2012-05-21</td>\n",
       "      <td>2015-10-09</td>\n",
       "      <td>25.0</td>\n",
       "      <td>NaN</td>\n",
       "      <td>NaN</td>\n",
       "    </tr>\n",
       "    <tr>\n",
       "      <th>1</th>\n",
       "      <td>1</td>\n",
       "      <td>1</td>\n",
       "      <td>2</td>\n",
       "      <td>0</td>\n",
       "      <td>4</td>\n",
       "      <td>17</td>\n",
       "      <td>2</td>\n",
       "      <td>https://monespace.net-acheteur.com/Spa/app/#/m...</td>\n",
       "      <td>2012-04-26</td>\n",
       "      <td>0</td>\n",
       "      <td>NaN</td>\n",
       "      <td>280000</td>\n",
       "      <td>1</td>\n",
       "      <td>0</td>\n",
       "      <td>0</td>\n",
       "      <td>5</td>\n",
       "      <td>2</td>\n",
       "      <td>Montpellier</td>\n",
       "      <td>34000</td>\n",
       "      <td>Hérault</td>\n",
       "      <td>Languedoc-Roussillon</td>\n",
       "      <td>39</td>\n",
       "      <td>32</td>\n",
       "      <td>5</td>\n",
       "      <td>4</td>\n",
       "      <td>1</td>\n",
       "      <td>18</td>\n",
       "      <td>0</td>\n",
       "      <td>2012-05-21</td>\n",
       "      <td>2015-10-09</td>\n",
       "      <td>25.0</td>\n",
       "      <td>NaN</td>\n",
       "      <td>NaN</td>\n",
       "    </tr>\n",
       "    <tr>\n",
       "      <th>2</th>\n",
       "      <td>2</td>\n",
       "      <td>1</td>\n",
       "      <td>2</td>\n",
       "      <td>0</td>\n",
       "      <td>4</td>\n",
       "      <td>17</td>\n",
       "      <td>3</td>\n",
       "      <td>https://monespace.net-acheteur.com/Spa/app/#/m...</td>\n",
       "      <td>2012-04-26</td>\n",
       "      <td>0</td>\n",
       "      <td>NaN</td>\n",
       "      <td>300000</td>\n",
       "      <td>0</td>\n",
       "      <td>0</td>\n",
       "      <td>70</td>\n",
       "      <td>3</td>\n",
       "      <td>2</td>\n",
       "      <td>Montpellier</td>\n",
       "      <td>34000</td>\n",
       "      <td>Hérault</td>\n",
       "      <td>Languedoc-Roussillon</td>\n",
       "      <td>2</td>\n",
       "      <td>1</td>\n",
       "      <td>0</td>\n",
       "      <td>0</td>\n",
       "      <td>0</td>\n",
       "      <td>0</td>\n",
       "      <td>0</td>\n",
       "      <td>2013-03-07</td>\n",
       "      <td>2013-03-07</td>\n",
       "      <td>315.0</td>\n",
       "      <td>NaN</td>\n",
       "      <td>NaN</td>\n",
       "    </tr>\n",
       "    <tr>\n",
       "      <th>3</th>\n",
       "      <td>3</td>\n",
       "      <td>2</td>\n",
       "      <td>2</td>\n",
       "      <td>0</td>\n",
       "      <td>4</td>\n",
       "      <td>17</td>\n",
       "      <td>5</td>\n",
       "      <td>https://monespace.net-acheteur.com/Spa/app/#/m...</td>\n",
       "      <td>2012-04-27</td>\n",
       "      <td>0</td>\n",
       "      <td>NaN</td>\n",
       "      <td>250000</td>\n",
       "      <td>0</td>\n",
       "      <td>1</td>\n",
       "      <td>60</td>\n",
       "      <td>3</td>\n",
       "      <td>2</td>\n",
       "      <td>Montpellier</td>\n",
       "      <td>34000</td>\n",
       "      <td>Hérault</td>\n",
       "      <td>Languedoc-Roussillon</td>\n",
       "      <td>18</td>\n",
       "      <td>17</td>\n",
       "      <td>2</td>\n",
       "      <td>0</td>\n",
       "      <td>1</td>\n",
       "      <td>11</td>\n",
       "      <td>0</td>\n",
       "      <td>2012-05-03</td>\n",
       "      <td>2014-11-18</td>\n",
       "      <td>6.0</td>\n",
       "      <td>NaN</td>\n",
       "      <td>NaN</td>\n",
       "    </tr>\n",
       "    <tr>\n",
       "      <th>4</th>\n",
       "      <td>4</td>\n",
       "      <td>7</td>\n",
       "      <td>2</td>\n",
       "      <td>0</td>\n",
       "      <td>5</td>\n",
       "      <td>18</td>\n",
       "      <td>12</td>\n",
       "      <td>https://monespace.net-acheteur.com/Spa/app/#/m...</td>\n",
       "      <td>2012-05-02</td>\n",
       "      <td>0</td>\n",
       "      <td>NaN</td>\n",
       "      <td>250000</td>\n",
       "      <td>1</td>\n",
       "      <td>0</td>\n",
       "      <td>80</td>\n",
       "      <td>4</td>\n",
       "      <td>3</td>\n",
       "      <td>Frontignan</td>\n",
       "      <td>34110</td>\n",
       "      <td>Hérault</td>\n",
       "      <td>Languedoc-Roussillon</td>\n",
       "      <td>0</td>\n",
       "      <td>0</td>\n",
       "      <td>0</td>\n",
       "      <td>0</td>\n",
       "      <td>0</td>\n",
       "      <td>0</td>\n",
       "      <td>0</td>\n",
       "      <td>NaN</td>\n",
       "      <td>NaN</td>\n",
       "      <td>NaN</td>\n",
       "      <td>NaN</td>\n",
       "      <td>NaN</td>\n",
       "    </tr>\n",
       "  </tbody>\n",
       "</table>\n",
       "</div>"
      ],
      "text/plain": [
       "   Unnamed: 0  DateMandatInstant  DateMandatSeason  DateMandatYear  \\\n",
       "0           0                  1                 2               0   \n",
       "1           1                  1                 2               0   \n",
       "2           2                  1                 2               0   \n",
       "3           3                  2                 2               0   \n",
       "4           4                  7                 2               0   \n",
       "\n",
       "   DateMandatMonth  DateMandatWeek  MandatId  \\\n",
       "0                4              17         2   \n",
       "1                4              17         2   \n",
       "2                4              17         3   \n",
       "3                4              17         5   \n",
       "4                5              18        12   \n",
       "\n",
       "                                           UrlMandat  DateMandat  \\\n",
       "0  https://monespace.net-acheteur.com/Spa/app/#/m...  2012-04-26   \n",
       "1  https://monespace.net-acheteur.com/Spa/app/#/m...  2012-04-26   \n",
       "2  https://monespace.net-acheteur.com/Spa/app/#/m...  2012-04-26   \n",
       "3  https://monespace.net-acheteur.com/Spa/app/#/m...  2012-04-27   \n",
       "4  https://monespace.net-acheteur.com/Spa/app/#/m...  2012-05-02   \n",
       "\n",
       "   StatutMandat DateCompromis  BudgetMaxEuro  TypeBien  TypeProjet  \\\n",
       "0             0           NaN         280000         1           0   \n",
       "1             0           NaN         280000         1           0   \n",
       "2             0           NaN         300000         0           0   \n",
       "3             0           NaN         250000         0           1   \n",
       "4             0           NaN         250000         1           0   \n",
       "\n",
       "   SurfaceMin  NombrePieces  NombreChambres        Ville  CodePostal  \\\n",
       "0           0             5               2        Nimes       30000   \n",
       "1           0             5               2  Montpellier       34000   \n",
       "2          70             3               2  Montpellier       34000   \n",
       "3          60             3               2  Montpellier       34000   \n",
       "4          80             4               3   Frontignan       34110   \n",
       "\n",
       "  Departement                Region  NombreDeBiensTrouves  \\\n",
       "0        Gard  Languedoc-Roussillon                    39   \n",
       "1     Hérault  Languedoc-Roussillon                    39   \n",
       "2     Hérault  Languedoc-Roussillon                     2   \n",
       "3     Hérault  Languedoc-Roussillon                    18   \n",
       "4     Hérault  Languedoc-Roussillon                     0   \n",
       "\n",
       "   NombreDeBiensPublies  NombreDeBiensSelectionnes  NombreDeBiensAVisiter  \\\n",
       "0                    32                          5                      4   \n",
       "1                    32                          5                      4   \n",
       "2                     1                          0                      0   \n",
       "3                    17                          2                      0   \n",
       "4                     0                          0                      0   \n",
       "\n",
       "   NombreDeBiensVisites  NombreDeBiensRejetes  NombreDeBiensActesOuCompromis  \\\n",
       "0                     1                    18                              0   \n",
       "1                     1                    18                              0   \n",
       "2                     0                     0                              0   \n",
       "3                     1                    11                              0   \n",
       "4                     0                     0                              0   \n",
       "\n",
       "  DatePremierePublicationDeBien DateDernierePublicationDeBien  \\\n",
       "0                    2012-05-21                    2015-10-09   \n",
       "1                    2012-05-21                    2015-10-09   \n",
       "2                    2013-03-07                    2013-03-07   \n",
       "3                    2012-05-03                    2014-11-18   \n",
       "4                           NaN                           NaN   \n",
       "\n",
       "   DelaiPremierePublicationDeBien DatePremiereVisite  DelaiPremiereVisite  \n",
       "0                            25.0                NaN                  NaN  \n",
       "1                            25.0                NaN                  NaN  \n",
       "2                           315.0                NaN                  NaN  \n",
       "3                             6.0                NaN                  NaN  \n",
       "4                             NaN                NaN                  NaN  "
      ]
     },
     "execution_count": 4,
     "metadata": {},
     "output_type": "execute_result"
    }
   ],
   "source": [
    "df = pd.read_csv(\"test.csv\", sep = \",\")\n",
    "df.head()"
   ]
  },
  {
   "cell_type": "code",
   "execution_count": 5,
   "id": "9f66d8b2",
   "metadata": {},
   "outputs": [],
   "source": [
    "df.drop(\"Unnamed: 0\", axis = 1, inplace = True)"
   ]
  },
  {
   "cell_type": "code",
   "execution_count": 6,
   "id": "adb74679",
   "metadata": {},
   "outputs": [
    {
     "data": {
      "text/html": [
       "<div>\n",
       "<style scoped>\n",
       "    .dataframe tbody tr th:only-of-type {\n",
       "        vertical-align: middle;\n",
       "    }\n",
       "\n",
       "    .dataframe tbody tr th {\n",
       "        vertical-align: top;\n",
       "    }\n",
       "\n",
       "    .dataframe thead th {\n",
       "        text-align: right;\n",
       "    }\n",
       "</style>\n",
       "<table border=\"1\" class=\"dataframe\">\n",
       "  <thead>\n",
       "    <tr style=\"text-align: right;\">\n",
       "      <th></th>\n",
       "      <th>DateMandatInstant</th>\n",
       "      <th>DateMandatSeason</th>\n",
       "      <th>DateMandatYear</th>\n",
       "      <th>DateMandatMonth</th>\n",
       "      <th>DateMandatWeek</th>\n",
       "      <th>MandatId</th>\n",
       "      <th>UrlMandat</th>\n",
       "      <th>DateMandat</th>\n",
       "      <th>StatutMandat</th>\n",
       "      <th>DateCompromis</th>\n",
       "      <th>BudgetMaxEuro</th>\n",
       "      <th>TypeBien</th>\n",
       "      <th>TypeProjet</th>\n",
       "      <th>SurfaceMin</th>\n",
       "      <th>NombrePieces</th>\n",
       "      <th>NombreChambres</th>\n",
       "      <th>Ville</th>\n",
       "      <th>CodePostal</th>\n",
       "      <th>Departement</th>\n",
       "      <th>Region</th>\n",
       "      <th>NombreDeBiensTrouves</th>\n",
       "      <th>NombreDeBiensPublies</th>\n",
       "      <th>NombreDeBiensSelectionnes</th>\n",
       "      <th>NombreDeBiensAVisiter</th>\n",
       "      <th>NombreDeBiensVisites</th>\n",
       "      <th>NombreDeBiensRejetes</th>\n",
       "      <th>NombreDeBiensActesOuCompromis</th>\n",
       "      <th>DatePremierePublicationDeBien</th>\n",
       "      <th>DateDernierePublicationDeBien</th>\n",
       "      <th>DelaiPremierePublicationDeBien</th>\n",
       "      <th>DatePremiereVisite</th>\n",
       "      <th>DelaiPremiereVisite</th>\n",
       "    </tr>\n",
       "  </thead>\n",
       "  <tbody>\n",
       "    <tr>\n",
       "      <th>0</th>\n",
       "      <td>1</td>\n",
       "      <td>2</td>\n",
       "      <td>0</td>\n",
       "      <td>4</td>\n",
       "      <td>17</td>\n",
       "      <td>2</td>\n",
       "      <td>https://monespace.net-acheteur.com/Spa/app/#/m...</td>\n",
       "      <td>2012-04-26</td>\n",
       "      <td>0</td>\n",
       "      <td>NaN</td>\n",
       "      <td>280000</td>\n",
       "      <td>1</td>\n",
       "      <td>0</td>\n",
       "      <td>0</td>\n",
       "      <td>5</td>\n",
       "      <td>2</td>\n",
       "      <td>Nimes</td>\n",
       "      <td>30000</td>\n",
       "      <td>Gard</td>\n",
       "      <td>Languedoc-Roussillon</td>\n",
       "      <td>39</td>\n",
       "      <td>32</td>\n",
       "      <td>5</td>\n",
       "      <td>4</td>\n",
       "      <td>1</td>\n",
       "      <td>18</td>\n",
       "      <td>0</td>\n",
       "      <td>2012-05-21</td>\n",
       "      <td>2015-10-09</td>\n",
       "      <td>25.0</td>\n",
       "      <td>NaN</td>\n",
       "      <td>NaN</td>\n",
       "    </tr>\n",
       "  </tbody>\n",
       "</table>\n",
       "</div>"
      ],
      "text/plain": [
       "   DateMandatInstant  DateMandatSeason  DateMandatYear  DateMandatMonth  \\\n",
       "0                  1                 2               0                4   \n",
       "\n",
       "   DateMandatWeek  MandatId  \\\n",
       "0              17         2   \n",
       "\n",
       "                                           UrlMandat  DateMandat  \\\n",
       "0  https://monespace.net-acheteur.com/Spa/app/#/m...  2012-04-26   \n",
       "\n",
       "   StatutMandat DateCompromis  BudgetMaxEuro  TypeBien  TypeProjet  \\\n",
       "0             0           NaN         280000         1           0   \n",
       "\n",
       "   SurfaceMin  NombrePieces  NombreChambres  Ville  CodePostal Departement  \\\n",
       "0           0             5               2  Nimes       30000        Gard   \n",
       "\n",
       "                 Region  NombreDeBiensTrouves  NombreDeBiensPublies  \\\n",
       "0  Languedoc-Roussillon                    39                    32   \n",
       "\n",
       "   NombreDeBiensSelectionnes  NombreDeBiensAVisiter  NombreDeBiensVisites  \\\n",
       "0                          5                      4                     1   \n",
       "\n",
       "   NombreDeBiensRejetes  NombreDeBiensActesOuCompromis  \\\n",
       "0                    18                              0   \n",
       "\n",
       "  DatePremierePublicationDeBien DateDernierePublicationDeBien  \\\n",
       "0                    2012-05-21                    2015-10-09   \n",
       "\n",
       "   DelaiPremierePublicationDeBien DatePremiereVisite  DelaiPremiereVisite  \n",
       "0                            25.0                NaN                  NaN  "
      ]
     },
     "execution_count": 6,
     "metadata": {},
     "output_type": "execute_result"
    }
   ],
   "source": [
    "df.head(1)"
   ]
  },
  {
   "cell_type": "code",
   "execution_count": 7,
   "id": "20ed6a45",
   "metadata": {},
   "outputs": [
    {
     "data": {
      "text/plain": [
       "<AxesSubplot:>"
      ]
     },
     "execution_count": 7,
     "metadata": {},
     "output_type": "execute_result"
    },
    {
     "data": {
      "image/png": "[encoded data removed]",
      "text/plain": [
       "<Figure size 864x576 with 1 Axes>"
      ]
     },
     "metadata": {
      "needs_background": "light"
     },
     "output_type": "display_data"
    }
   ],
   "source": [
    "plt.figure(figsize = (12,8))\n",
    "sns.heatmap(df.isnull() , \n",
    "            yticklabels=False, \n",
    "            cbar=False, \n",
    "            cmap='viridis')"
   ]
  },
  {
   "cell_type": "code",
   "execution_count": 8,
   "id": "ddf4fcb9",
   "metadata": {},
   "outputs": [
    {
     "name": "stdout",
     "output_type": "stream",
     "text": [
      "<class 'pandas.core.frame.DataFrame'>\n",
      "RangeIndex: 51817 entries, 0 to 51816\n",
      "Data columns (total 32 columns):\n",
      " #   Column                          Non-Null Count  Dtype  \n",
      "---  ------                          --------------  -----  \n",
      " 0   DateMandatInstant               51817 non-null  int64  \n",
      " 1   DateMandatSeason                51817 non-null  int64  \n",
      " 2   DateMandatYear                  51817 non-null  int64  \n",
      " 3   DateMandatMonth                 51817 non-null  int64  \n",
      " 4   DateMandatWeek                  51817 non-null  int64  \n",
      " 5   MandatId                        51817 non-null  int64  \n",
      " 6   UrlMandat                       51817 non-null  object \n",
      " 7   DateMandat                      51817 non-null  object \n",
      " 8   StatutMandat                    51817 non-null  int64  \n",
      " 9   DateCompromis                   6645 non-null   object \n",
      " 10  BudgetMaxEuro                   51817 non-null  int64  \n",
      " 11  TypeBien                        51817 non-null  int64  \n",
      " 12  TypeProjet                      51817 non-null  int64  \n",
      " 13  SurfaceMin                      51817 non-null  int64  \n",
      " 14  NombrePieces                    51817 non-null  int64  \n",
      " 15  NombreChambres                  51817 non-null  int64  \n",
      " 16  Ville                           51817 non-null  object \n",
      " 17  CodePostal                      51817 non-null  int64  \n",
      " 18  Departement                     51817 non-null  object \n",
      " 19  Region                          51817 non-null  object \n",
      " 20  NombreDeBiensTrouves            51817 non-null  int64  \n",
      " 21  NombreDeBiensPublies            51817 non-null  int64  \n",
      " 22  NombreDeBiensSelectionnes       51817 non-null  int64  \n",
      " 23  NombreDeBiensAVisiter           51817 non-null  int64  \n",
      " 24  NombreDeBiensVisites            51817 non-null  int64  \n",
      " 25  NombreDeBiensRejetes            51817 non-null  int64  \n",
      " 26  NombreDeBiensActesOuCompromis   51817 non-null  int64  \n",
      " 27  DatePremierePublicationDeBien   23422 non-null  object \n",
      " 28  DateDernierePublicationDeBien   23422 non-null  object \n",
      " 29  DelaiPremierePublicationDeBien  23422 non-null  float64\n",
      " 30  DatePremiereVisite              12765 non-null  object \n",
      " 31  DelaiPremiereVisite             12765 non-null  float64\n",
      "dtypes: float64(2), int64(21), object(9)\n",
      "memory usage: 12.7+ MB\n"
     ]
    }
   ],
   "source": [
    "df.info()"
   ]
  },
  {
   "cell_type": "code",
   "execution_count": 9,
   "id": "5543b0d7",
   "metadata": {},
   "outputs": [
    {
     "data": {
      "text/plain": [
       "<AxesSubplot:>"
      ]
     },
     "execution_count": 9,
     "metadata": {},
     "output_type": "execute_result"
    },
    {
     "data": {
      "image/png": "[encoded data removed]",
      "text/plain": [
       "<Figure size 1080x720 with 1 Axes>"
      ]
     },
     "metadata": {
      "needs_background": "light"
     },
     "output_type": "display_data"
    }
   ],
   "source": [
    "plt.figure(figsize = (15,10))\n",
    "df['StatutMandat'].hist()"
   ]
  },
  {
   "cell_type": "code",
   "execution_count": 10,
   "id": "f53f5e93",
   "metadata": {},
   "outputs": [
    {
     "data": {
      "image/png": "[encoded data removed]",
      "text/plain": [
       "<Figure size 432x432 with 1 Axes>"
      ]
     },
     "metadata": {},
     "output_type": "display_data"
    }
   ],
   "source": [
    "plot = df['StatutMandat'].value_counts().plot(kind='pie', autopct='%.2f', \n",
    "                                            figsize=(6, 6),\n",
    "                                            title='StatutMandat')"
   ]
  },
  {
   "cell_type": "code",
   "execution_count": 11,
   "id": "6fc302f0",
   "metadata": {},
   "outputs": [
    {
     "data": {
      "image/png": "[encoded data removed]",
      "text/plain": [
       "<Figure size 1440x720 with 2 Axes>"
      ]
     },
     "metadata": {
      "needs_background": "light"
     },
     "output_type": "display_data"
    }
   ],
   "source": [
    "plt.figure(figsize = (20,10))\n",
    "corr = df.corr()\n",
    "ax = sns.heatmap(\n",
    "    corr, \n",
    "    vmin=-1, vmax=1, center=0,\n",
    "    cmap=sns.diverging_palette(20, 220, n=200),\n",
    "    square=True\n",
    ")\n",
    "ax.set_xticklabels(\n",
    "    ax.get_xticklabels(),\n",
    "    rotation=45,\n",
    "    horizontalalignment='right'\n",
    ");"
   ]
  },
  {
   "cell_type": "code",
   "execution_count": 12,
   "id": "28165995",
   "metadata": {},
   "outputs": [],
   "source": [
    "df_test = df.drop([\"DateMandatInstant\", \"DateMandatYear\", \"MandatId\", \"UrlMandat\",\"DateMandat\", \"DateCompromis\", \"Ville\", \"Departement\", \"Region\", \"DatePremierePublicationDeBien\",\"NombreDeBiensTrouves\",\"NombreDeBiensPublies\", \"NombreDeBiensSelectionnes\", \"NombreDeBiensAVisiter\", \"NombreDeBiensVisites\", \"NombreDeBiensRejetes\", \"DatePremierePublicationDeBien\", \"NombreDeBiensActesOuCompromis\", \"DateDernierePublicationDeBien\",\"DelaiPremierePublicationDeBien\", \"DatePremiereVisite\", \"DelaiPremiereVisite\"] , axis = 1, inplace = True)"
   ]
  },
  {
   "cell_type": "code",
   "execution_count": 13,
   "id": "a22284c0",
   "metadata": {},
   "outputs": [
    {
     "data": {
      "image/png": "[encoded data removed]",
      "text/plain": [
       "<Figure size 1080x576 with 2 Axes>"
      ]
     },
     "metadata": {
      "needs_background": "light"
     },
     "output_type": "display_data"
    }
   ],
   "source": [
    "plt.figure(figsize = (15,8))\n",
    "corr = df.corr()\n",
    "ax = sns.heatmap(\n",
    "    corr, \n",
    "    vmin=-1, vmax=1, center=0,\n",
    "    cmap=sns.diverging_palette(20, 220, n=200),\n",
    "    square=True, \n",
    "    annot=True\n",
    ")\n",
    "ax.set_xticklabels(\n",
    "    ax.get_xticklabels(),\n",
    "    rotation=45,\n",
    "    horizontalalignment='right'\n",
    ");"
   ]
  },
  {
   "cell_type": "code",
   "execution_count": 14,
   "id": "50337114",
   "metadata": {},
   "outputs": [
    {
     "data": {
      "text/plain": [
       "DateMandatSeason   -0.006154\n",
       "DateMandatMonth    -0.000233\n",
       "DateMandatWeek      0.000094\n",
       "StatutMandat        1.000000\n",
       "BudgetMaxEuro      -0.005307\n",
       "TypeBien           -0.054723\n",
       "TypeProjet          0.017143\n",
       "SurfaceMin         -0.005684\n",
       "NombrePieces       -0.044334\n",
       "NombreChambres     -0.048203\n",
       "CodePostal          0.041293\n",
       "Name: StatutMandat, dtype: float64"
      ]
     },
     "execution_count": 14,
     "metadata": {},
     "output_type": "execute_result"
    }
   ],
   "source": [
    "df.corr()['StatutMandat']"
   ]
  },
  {
   "cell_type": "code",
   "execution_count": 15,
   "id": "863125d7",
   "metadata": {},
   "outputs": [],
   "source": [
    "X = df.drop(columns=[\"StatutMandat\"])"
   ]
  },
  {
   "cell_type": "code",
   "execution_count": 16,
   "id": "81b55055",
   "metadata": {},
   "outputs": [
    {
     "data": {
      "text/plain": [
       "(51817, 10)"
      ]
     },
     "execution_count": 16,
     "metadata": {},
     "output_type": "execute_result"
    }
   ],
   "source": [
    "X.shape"
   ]
  },
  {
   "cell_type": "code",
   "execution_count": 17,
   "id": "f0ff4e9c",
   "metadata": {},
   "outputs": [
    {
     "data": {
      "text/plain": [
       "Index(['DateMandatSeason', 'DateMandatMonth', 'DateMandatWeek',\n",
       "       'BudgetMaxEuro', 'TypeBien', 'TypeProjet', 'SurfaceMin', 'NombrePieces',\n",
       "       'NombreChambres', 'CodePostal'],\n",
       "      dtype='object')"
      ]
     },
     "execution_count": 17,
     "metadata": {},
     "output_type": "execute_result"
    }
   ],
   "source": [
    "X.columns"
   ]
  },
  {
   "cell_type": "code",
   "execution_count": 18,
   "id": "f3873c96",
   "metadata": {},
   "outputs": [],
   "source": [
    "y = df[\"StatutMandat\"]"
   ]
  },
  {
   "cell_type": "code",
   "execution_count": 25,
   "id": "79cb3814",
   "metadata": {},
   "outputs": [],
   "source": [
    "from sklearn.model_selection import train_test_split\n",
    "X_train, X_test, y_train, y_test = train_test_split(X,y, test_size= 0.2, random_state = 0, shuffle = True)"
   ]
  },
  {
   "cell_type": "code",
   "execution_count": 26,
   "id": "c7c4fc07",
   "metadata": {},
   "outputs": [],
   "source": [
    "from sklearn.preprocessing import StandardScaler\n",
    "scaler = StandardScaler()\n",
    "X_train = scaler.fit_transform(X_train)\n",
    "X_test = scaler.transform(X_test)"
   ]
  },
  {
   "cell_type": "markdown",
   "id": "6e118eec",
   "metadata": {},
   "source": [
    "## Regression Logistique simple "
   ]
  },
  {
   "cell_type": "code",
   "execution_count": 30,
   "id": "6614ea38",
   "metadata": {},
   "outputs": [
    {
     "name": "stdout",
     "output_type": "stream",
     "text": [
      "'paramètre actuellement utiliés : \\n'\n",
      "{'C': 1.0,\n",
      " 'class_weight': None,\n",
      " 'dual': False,\n",
      " 'fit_intercept': True,\n",
      " 'intercept_scaling': 1,\n",
      " 'l1_ratio': None,\n",
      " 'max_iter': 100,\n",
      " 'multi_class': 'auto',\n",
      " 'n_jobs': None,\n",
      " 'penalty': 'l2',\n",
      " 'random_state': None,\n",
      " 'solver': 'newton-cg',\n",
      " 'tol': 0.0001,\n",
      " 'verbose': 0,\n",
      " 'warm_start': False}\n",
      "0.8441367331676839\n"
     ]
    }
   ],
   "source": [
    "from sklearn.linear_model import LogisticRegression\n",
    "lr = LogisticRegression(solver='newton-cg')\n",
    "lr.fit(X_train,y_train)\n",
    "from pprint import pprint\n",
    "pprint(\"paramètre actuellement utiliés : \\n\")\n",
    "pprint(lr.get_params())\n",
    "pprint(lr.score(X_train,y_train))\n",
    "y_lr = lr.predict(X_test)\n",
    "# On récupère la prédiction de la valeur positive\n",
    "y_prob = lr.predict_proba(X_test)[:,1] "
   ]
  },
  {
   "cell_type": "code",
   "execution_count": 31,
   "id": "78725fed",
   "metadata": {},
   "outputs": [
    {
     "data": {
      "text/plain": [
       "<AxesSubplot:>"
      ]
     },
     "execution_count": 31,
     "metadata": {},
     "output_type": "execute_result"
    },
    {
     "data": {
      "image/png": "[encoded data removed]",
      "text/plain": [
       "<Figure size 432x288 with 2 Axes>"
      ]
     },
     "metadata": {
      "needs_background": "light"
     },
     "output_type": "display_data"
    }
   ],
   "source": [
    "cm = confusion_matrix(y_test,lr.predict(X_test))\n",
    "sns.heatmap(cm,annot=True,fmt=\"d\")"
   ]
  },
  {
   "cell_type": "code",
   "execution_count": 32,
   "id": "f9230bc7",
   "metadata": {
    "scrolled": true
   },
   "outputs": [
    {
     "data": {
      "text/plain": [
       "<sklearn.metrics._plot.roc_curve.RocCurveDisplay at 0x2f2c568c5e0>"
      ]
     },
     "execution_count": 32,
     "metadata": {},
     "output_type": "execute_result"
    },
    {
     "data": {
      "image/png": "[encoded data removed]",
      "text/plain": [
       "<Figure size 432x288 with 1 Axes>"
      ]
     },
     "metadata": {
      "needs_background": "light"
     },
     "output_type": "display_data"
    }
   ],
   "source": [
    "from sklearn.metrics import plot_roc_curve\n",
    "plot_roc_curve(lr, X_train,y_train )"
   ]
  },
  {
   "cell_type": "code",
   "execution_count": 33,
   "id": "dd22b017",
   "metadata": {},
   "outputs": [
    {
     "name": "stdout",
     "output_type": "stream",
     "text": [
      "                  precision    recall  f1-score   support\n",
      "\n",
      "  Echec(Class 0)       0.85      1.00      0.92      8798\n",
      "Succès (Class 1)       0.00      0.00      0.00      1566\n",
      "\n",
      "        accuracy                           0.85     10364\n",
      "       macro avg       0.42      0.50      0.46     10364\n",
      "    weighted avg       0.72      0.85      0.78     10364\n",
      "\n"
     ]
    }
   ],
   "source": [
    "from sklearn.metrics import classification_report\n",
    "print(classification_report(y_test,y_lr,target_names = ['Echec(Class 0)','Succès (Class 1)']))"
   ]
  },
  {
   "cell_type": "code",
   "execution_count": 34,
   "id": "e0595164",
   "metadata": {},
   "outputs": [
    {
     "name": "stdout",
     "output_type": "stream",
     "text": [
      "0.5533437879327618\n"
     ]
    }
   ],
   "source": [
    "from sklearn.metrics import roc_curve, auc\n",
    "\n",
    "false_positive_rate, true_positive_rate, thresholds = roc_curve(y_test, y_prob)\n",
    "roc_auc = auc(false_positive_rate, true_positive_rate)\n",
    "print(roc_auc)"
   ]
  },
  {
   "cell_type": "code",
   "execution_count": 35,
   "id": "04352899",
   "metadata": {},
   "outputs": [
    {
     "data": {
      "image/png": "[encoded data removed]",
      "text/plain": [
       "<Figure size 504x288 with 1 Axes>"
      ]
     },
     "metadata": {
      "needs_background": "light"
     },
     "output_type": "display_data"
    }
   ],
   "source": [
    "import matplotlib.pyplot as plt\n",
    "plt.figure(figsize=(7,4))\n",
    "plt.title('Receiver Operating Characteristic')\n",
    "plt.plot(false_positive_rate,true_positive_rate, color='red',label = 'AUC = %0.2f' % roc_auc)\n",
    "plt.legend(loc = 'lower right')\n",
    "plt.plot([0, 1], [0, 1],linestyle='--')\n",
    "plt.axis('tight')\n",
    "plt.ylabel('True Positive Rate')\n",
    "plt.xlabel('False Positive Rate')\n",
    "plt.show()"
   ]
  },
  {
   "cell_type": "code",
   "execution_count": 36,
   "id": "d67100dd",
   "metadata": {},
   "outputs": [
    {
     "data": {
      "text/html": [
       "<div>\n",
       "<style scoped>\n",
       "    .dataframe tbody tr th:only-of-type {\n",
       "        vertical-align: middle;\n",
       "    }\n",
       "\n",
       "    .dataframe tbody tr th {\n",
       "        vertical-align: top;\n",
       "    }\n",
       "\n",
       "    .dataframe thead th {\n",
       "        text-align: right;\n",
       "    }\n",
       "</style>\n",
       "<table border=\"1\" class=\"dataframe\">\n",
       "  <thead>\n",
       "    <tr style=\"text-align: right;\">\n",
       "      <th></th>\n",
       "      <th>feature</th>\n",
       "      <th>feature_importance</th>\n",
       "    </tr>\n",
       "  </thead>\n",
       "  <tbody>\n",
       "    <tr>\n",
       "      <th>2</th>\n",
       "      <td>DateMandatWeek</td>\n",
       "      <td>0.146729</td>\n",
       "    </tr>\n",
       "    <tr>\n",
       "      <th>4</th>\n",
       "      <td>TypeBien</td>\n",
       "      <td>0.135759</td>\n",
       "    </tr>\n",
       "    <tr>\n",
       "      <th>8</th>\n",
       "      <td>NombreChambres</td>\n",
       "      <td>0.097048</td>\n",
       "    </tr>\n",
       "    <tr>\n",
       "      <th>9</th>\n",
       "      <td>CodePostal</td>\n",
       "      <td>0.086951</td>\n",
       "    </tr>\n",
       "    <tr>\n",
       "      <th>0</th>\n",
       "      <td>DateMandatSeason</td>\n",
       "      <td>0.086304</td>\n",
       "    </tr>\n",
       "    <tr>\n",
       "      <th>1</th>\n",
       "      <td>DateMandatMonth</td>\n",
       "      <td>0.075511</td>\n",
       "    </tr>\n",
       "    <tr>\n",
       "      <th>5</th>\n",
       "      <td>TypeProjet</td>\n",
       "      <td>0.036109</td>\n",
       "    </tr>\n",
       "    <tr>\n",
       "      <th>6</th>\n",
       "      <td>SurfaceMin</td>\n",
       "      <td>0.034193</td>\n",
       "    </tr>\n",
       "    <tr>\n",
       "      <th>3</th>\n",
       "      <td>BudgetMaxEuro</td>\n",
       "      <td>0.010720</td>\n",
       "    </tr>\n",
       "    <tr>\n",
       "      <th>7</th>\n",
       "      <td>NombrePieces</td>\n",
       "      <td>0.008055</td>\n",
       "    </tr>\n",
       "  </tbody>\n",
       "</table>\n",
       "</div>"
      ],
      "text/plain": [
       "            feature  feature_importance\n",
       "2    DateMandatWeek            0.146729\n",
       "4          TypeBien            0.135759\n",
       "8    NombreChambres            0.097048\n",
       "9        CodePostal            0.086951\n",
       "0  DateMandatSeason            0.086304\n",
       "1   DateMandatMonth            0.075511\n",
       "5        TypeProjet            0.036109\n",
       "6        SurfaceMin            0.034193\n",
       "3     BudgetMaxEuro            0.010720\n",
       "7      NombrePieces            0.008055"
      ]
     },
     "execution_count": 36,
     "metadata": {},
     "output_type": "execute_result"
    }
   ],
   "source": [
    "feature_importance=pd.DataFrame({'feature':list(X.columns),'feature_importance':[abs(i) for i in lr.coef_[0]]})\n",
    "feature_importance.sort_values('feature_importance',ascending=False)"
   ]
  },
  {
   "cell_type": "code",
   "execution_count": 37,
   "id": "3d924538",
   "metadata": {},
   "outputs": [
    {
     "name": "stdout",
     "output_type": "stream",
     "text": [
      "Feature: 0, Score: -0.08630\n",
      "Feature: 1, Score: -0.07551\n",
      "Feature: 2, Score: 0.14673\n",
      "Feature: 3, Score: -0.01072\n",
      "Feature: 4, Score: -0.13576\n",
      "Feature: 5, Score: 0.03611\n",
      "Feature: 6, Score: 0.03419\n",
      "Feature: 7, Score: 0.00805\n",
      "Feature: 8, Score: -0.09705\n",
      "Feature: 9, Score: 0.08695\n"
     ]
    },
    {
     "data": {
      "image/png": "[encoded data removed]",
      "text/plain": [
       "<Figure size 432x288 with 1 Axes>"
      ]
     },
     "metadata": {
      "needs_background": "light"
     },
     "output_type": "display_data"
    }
   ],
   "source": [
    "importance = lr.coef_[0]\n",
    "for i,v in enumerate(importance):\n",
    "    print('Feature: %0d, Score: %.5f' % (i,v))\n",
    "# plot feature importance\n",
    "pyplot.bar([x for x in range(len(importance))], importance)\n",
    "pyplot.show()"
   ]
  },
  {
   "cell_type": "markdown",
   "id": "df443988",
   "metadata": {},
   "source": [
    "## Regression Logistique StratifiedKFold"
   ]
  },
  {
   "cell_type": "code",
   "execution_count": 38,
   "id": "bdaa95ad",
   "metadata": {},
   "outputs": [
    {
     "name": "stdout",
     "output_type": "stream",
     "text": [
      "'paramètre actuellement utiliés : \\n'\n",
      "{'C': 1.0,\n",
      " 'class_weight': None,\n",
      " 'dual': False,\n",
      " 'fit_intercept': True,\n",
      " 'intercept_scaling': 1,\n",
      " 'l1_ratio': None,\n",
      " 'max_iter': 100,\n",
      " 'multi_class': 'auto',\n",
      " 'n_jobs': None,\n",
      " 'penalty': 'l2',\n",
      " 'random_state': None,\n",
      " 'solver': 'newton-cg',\n",
      " 'tol': 0.0001,\n",
      " 'verbose': 0,\n",
      " 'warm_start': False}\n",
      "For Fold 1 the accuracy is 0.8488035507526052\n",
      "For Fold 2 the accuracy is 0.8488035507526052\n",
      "For Fold 3 the accuracy is 0.8488035507526052\n",
      "For Fold 4 the accuracy is 0.8488035507526052\n",
      "For Fold 5 the accuracy is 0.8488035507526052\n",
      "For Fold 6 the accuracy is 0.8488035507526052\n",
      "For Fold 7 the accuracy is 0.8488035507526052\n",
      "For Fold 8 the accuracy is 0.8488035507526052\n",
      "For Fold 9 the accuracy is 0.8488035507526052\n",
      "For Fold 10 the accuracy is 0.8488035507526052\n"
     ]
    }
   ],
   "source": [
    "from sklearn.model_selection import StratifiedKFold\n",
    "from sklearn.linear_model import LogisticRegression\n",
    "from sklearn.model_selection import train_test_split\n",
    "\n",
    "skf = StratifiedKFold(n_splits=10)\n",
    "lr_skf = LogisticRegression(solver='newton-cg')\n",
    "from pprint import pprint\n",
    "pprint(\"paramètre actuellement utiliés : \\n\")\n",
    "pprint(lr_skf.get_params())\n",
    "# newton-cg ==> 0.84\n",
    "# liblinear ==> 0.84\n",
    "# sag ==> 0.84\n",
    "# saga ==> 0.84\n",
    "# lbfgs ==> 0.84\n",
    "X = df.drop(columns=[\"StatutMandat\"])\n",
    "y = df[\"StatutMandat\"]\n",
    "X_train, X_test, y_train, y_test = train_test_split(X,y, test_size= 0.2, random_state = 0, shuffle = True)\n",
    "\n",
    "def training(train,test, fold_no):\n",
    "    lr_skf.fit(X_train, y_train)\n",
    "    score = lr_skf.score(X_test,y_test)\n",
    "    print('For Fold {} the accuracy is {}'.format(str(fold_no),score))\n",
    "fold_no = 1\n",
    "for train_index,test_index in skf.split(X, y):\n",
    "    train = df.iloc[train_index,:]\n",
    "    test = df.iloc[test_index,:]\n",
    "    training(train, test, fold_no)\n",
    "    fold_no += 1\n",
    "y_lr_skf = lr_skf.predict(X_test)"
   ]
  },
  {
   "cell_type": "code",
   "execution_count": 39,
   "id": "ef501858",
   "metadata": {},
   "outputs": [
    {
     "name": "stdout",
     "output_type": "stream",
     "text": [
      "                  precision    recall  f1-score   support\n",
      "\n",
      "  échec(Class 0)       0.85      1.00      0.92      8798\n",
      "succès (Class 1)       0.00      0.00      0.00      1566\n",
      "\n",
      "        accuracy                           0.85     10364\n",
      "       macro avg       0.42      0.50      0.46     10364\n",
      "    weighted avg       0.72      0.85      0.78     10364\n",
      "\n"
     ]
    }
   ],
   "source": [
    "from sklearn.metrics import classification_report\n",
    "print(classification_report(y_test,y_lr_skf,target_names = ['échec(Class 0)','succès (Class 1)']))"
   ]
  },
  {
   "cell_type": "code",
   "execution_count": 40,
   "id": "3f0e78cc",
   "metadata": {},
   "outputs": [
    {
     "data": {
      "text/plain": [
       "<AxesSubplot:>"
      ]
     },
     "execution_count": 40,
     "metadata": {},
     "output_type": "execute_result"
    },
    {
     "data": {
      "image/png": "[encoded data removed]",
      "text/plain": [
       "<Figure size 432x288 with 2 Axes>"
      ]
     },
     "metadata": {
      "needs_background": "light"
     },
     "output_type": "display_data"
    }
   ],
   "source": [
    "cm = confusion_matrix(y_test,lr_skf.predict(X_test))\n",
    "sns.heatmap(cm,annot=True,fmt=\"d\")"
   ]
  },
  {
   "cell_type": "code",
   "execution_count": 41,
   "id": "6f494627",
   "metadata": {},
   "outputs": [
    {
     "data": {
      "text/plain": [
       "<sklearn.metrics._plot.roc_curve.RocCurveDisplay at 0x2f2c7aadd00>"
      ]
     },
     "execution_count": 41,
     "metadata": {},
     "output_type": "execute_result"
    },
    {
     "data": {
      "image/png": "[encoded data removed]",
      "text/plain": [
       "<Figure size 432x288 with 1 Axes>"
      ]
     },
     "metadata": {
      "needs_background": "light"
     },
     "output_type": "display_data"
    }
   ],
   "source": [
    "from sklearn.metrics import plot_roc_curve\n",
    "plot_roc_curve(lr_skf, X_train,y_train )"
   ]
  },
  {
   "cell_type": "code",
   "execution_count": 42,
   "id": "e88e5af3",
   "metadata": {},
   "outputs": [
    {
     "name": "stdout",
     "output_type": "stream",
     "text": [
      "F1 score is 0.2648564963677504\n"
     ]
    }
   ],
   "source": [
    "from sklearn.metrics import f1_score\n",
    "print('F1 score is {}'.format(f1_score(y_test,lr.predict(X_test))))"
   ]
  },
  {
   "cell_type": "code",
   "execution_count": 43,
   "id": "2b0c2cde",
   "metadata": {},
   "outputs": [
    {
     "name": "stdout",
     "output_type": "stream",
     "text": [
      "Brier loss:  0.5955897404152909\n"
     ]
    }
   ],
   "source": [
    "from sklearn.metrics import brier_score_loss\n",
    "probs = lr.predict_proba(X_test)\n",
    "#  keeping the prediction for class 1\n",
    "probs = probs[:,1] \n",
    "print('Brier loss: ', brier_score_loss(y_test,probs))"
   ]
  },
  {
   "cell_type": "raw",
   "id": "8d21f28e",
   "metadata": {},
   "source": [
    "Brier loss == erreur quadriatique moyenne entre la probabilité prédite et les valeur attendues. 0 == good, 1 == bad"
   ]
  },
  {
   "cell_type": "markdown",
   "id": "65401b4b",
   "metadata": {},
   "source": [
    "# Regression Logistique avec skf + hyperparamètre"
   ]
  },
  {
   "cell_type": "code",
   "execution_count": 44,
   "id": "64b2ecb4",
   "metadata": {},
   "outputs": [
    {
     "name": "stdout",
     "output_type": "stream",
     "text": [
      "For Fold 1 the accuracy is 0.5239289849478965\n",
      "For Fold 2 the accuracy is 0.5239289849478965\n",
      "For Fold 3 the accuracy is 0.5239289849478965\n",
      "For Fold 4 the accuracy is 0.5239289849478965\n",
      "For Fold 5 the accuracy is 0.5239289849478965\n",
      "For Fold 6 the accuracy is 0.5239289849478965\n",
      "For Fold 7 the accuracy is 0.5239289849478965\n",
      "For Fold 8 the accuracy is 0.5239289849478965\n",
      "For Fold 9 the accuracy is 0.5239289849478965\n",
      "For Fold 10 the accuracy is 0.5239289849478965\n"
     ]
    }
   ],
   "source": [
    "from sklearn.model_selection import StratifiedKFold\n",
    "from sklearn.linear_model import LogisticRegression\n",
    "from sklearn.model_selection import train_test_split\n",
    "\n",
    "skf = StratifiedKFold(n_splits=10)\n",
    "lr_skf = LogisticRegression(solver='newton-cg', C=0.001, penalty=\"l2\",class_weight=\"balanced\")\n",
    "from pprint import pprint\n",
    "#pprint(\"paramètre actuellement utiliés : \\n\")\n",
    "#pprint(lr_skf.get_params())\n",
    "# newton-cg ==> 0.84\n",
    "# liblinear ==> 0.84\n",
    "# sag ==> 0.84\n",
    "# saga ==> 0.84\n",
    "# lbfgs ==> 0.84\n",
    "X = df.drop(columns=[\"StatutMandat\"])\n",
    "y = df[\"StatutMandat\"]\n",
    "X_train, X_test, y_train, y_test = train_test_split(X,y, test_size= 0.2, random_state = 0, shuffle = True)\n",
    "\n",
    "def training(train,test, fold_no):\n",
    "    lr_skf.fit(X_train, y_train)\n",
    "    score = lr_skf.score(X_test,y_test)\n",
    "    print('For Fold {} the accuracy is {}'.format(str(fold_no),score))\n",
    "fold_no = 1\n",
    "for train_index,test_index in skf.split(X, y):\n",
    "    train = df.iloc[train_index,:]\n",
    "    test = df.iloc[test_index,:]\n",
    "    training(train, test, fold_no)\n",
    "    fold_no += 1\n",
    "y_lr_skf = lr_skf.predict(X_test)"
   ]
  },
  {
   "cell_type": "code",
   "execution_count": null,
   "id": "0369db04",
   "metadata": {},
   "outputs": [],
   "source": [
    "from sklearn.metrics import classification_report\n",
    "print(classification_report(y_test,y_lr_skf,target_names = ['échec(Class 0)','succès (Class 1)']))"
   ]
  },
  {
   "cell_type": "code",
   "execution_count": null,
   "id": "e26fab81",
   "metadata": {},
   "outputs": [],
   "source": [
    "cm = confusion_matrix(y_test,lr_skf.predict(X_test))\n",
    "sns.heatmap(cm,annot=True,fmt=\"d\")"
   ]
  },
  {
   "cell_type": "code",
   "execution_count": null,
   "id": "72c358e1",
   "metadata": {},
   "outputs": [],
   "source": [
    "from sklearn.metrics import plot_roc_curve\n",
    "plot_roc_curve(lr_skf, X_train,y_train )"
   ]
  },
  {
   "cell_type": "code",
   "execution_count": null,
   "id": "dd2a7da0",
   "metadata": {},
   "outputs": [],
   "source": [
    "#SMOTE\n",
    "\n",
    "from sklearn.model_selection import StratifiedKFold\n",
    "from sklearn.linear_model import LogisticRegression\n",
    "from imblearn.over_sampling import SMOTE\n",
    "\n",
    "lr_smo_skf = LogisticRegression(solver='newton-cg', C=0.001, penalty=\"l2\",class_weight=\"balanced\")\n",
    "smo = SMOTE()\n",
    "X_sm, y_sm = smo.fit_resample(X_train, y_train)\n",
    "# Entraînement du modèle de régression logistique\n",
    "lr_smo_skf.fit(X_sm, y_sm)\n",
    "# Affichage des résultats\n",
    "y_pred = lr_smo_skf.predict(X_test)\n",
    "from sklearn.metrics import classification_report\n",
    "print(classification_report(y_test, y_pred, target_names = ['échec(Class 0)','succès (Class 1)']))\n",
    "#print(classification_report_imbalanced(y_test, y_pred))"
   ]
  },
  {
   "cell_type": "markdown",
   "id": "adc83bb7",
   "metadata": {},
   "source": [
    "### grid search regression logistique "
   ]
  },
  {
   "cell_type": "code",
   "execution_count": null,
   "id": "1b634196",
   "metadata": {},
   "outputs": [],
   "source": [
    "from sklearn.model_selection import cross_val_score\n",
    "from sklearn.model_selection import GridSearchCV\n",
    "\n",
    "lr = LogisticRegression(solver = 'newton-cg')\n",
    "params = {'C': np.logspace(-3, 3, 7) , 'penalty':['l1','l2'] }\n",
    "\n",
    "lr_gs = GridSearchCV(lr, params, cv=10)\n",
    "lr_gs.fit(X_train, y_train)\n",
    "\n",
    "print(lr_gs.best_params_)\n",
    "print(\"accuracy :\",lr_gs.best_score_)\n",
    "\n",
    "y_lr_gs = lr_gs.predict(X_test)\n",
    "from sklearn.metrics import classification_report\n",
    "print(classification_report(y_test, y_lr_gs, target_names = ['échec(Class 0)','succès (Class 1)']))"
   ]
  },
  {
   "cell_type": "code",
   "execution_count": null,
   "id": "d9cdc881",
   "metadata": {},
   "outputs": [],
   "source": [
    "# On récupère la prédiction de la valeur positive\n",
    "y_prob = lr_gs.predict_proba(X_test)[:,1] \n",
    "\n",
    "# On créé un vecteur de prédiction à partir du vecteur de probabilités\n",
    "y_pred = np.where(y_prob > 0.5, 1, 0) \n",
    "\n",
    "false_positive_rate, true_positive_rate, thresholds = roc_curve(y_test, y_prob)\n",
    "roc_auc = auc(false_positive_rate, true_positive_rate)\n",
    "print(roc_auc)"
   ]
  },
  {
   "cell_type": "code",
   "execution_count": null,
   "id": "3587e39e",
   "metadata": {},
   "outputs": [],
   "source": [
    "cm = confusion_matrix(y_test,lr_gs.predict(X_test))\n",
    "sns.heatmap(cm,annot=True,fmt=\"d\")"
   ]
  },
  {
   "cell_type": "markdown",
   "id": "62fe5efe",
   "metadata": {},
   "source": [
    "### Test avec les hyperparamètres "
   ]
  },
  {
   "cell_type": "code",
   "execution_count": null,
   "id": "23ad7d7e",
   "metadata": {},
   "outputs": [],
   "source": [
    "logreg=LogisticRegression(solver = \"newton-cg\", C=0.001, penalty=\"l2\")\n",
    "logreg.fit(X_train,y_train)\n",
    "print(\"score\",logreg.score(X_test,y_test))\n",
    "\n",
    "y_logreg = logreg.predict(X_test)\n",
    "from sklearn.metrics import classification_report\n",
    "print(classification_report(y_test, y_logreg, target_names = ['échec(Class 0)','succès (Class 1)']))"
   ]
  },
  {
   "cell_type": "code",
   "execution_count": null,
   "id": "61b8db4e",
   "metadata": {},
   "outputs": [],
   "source": [
    "cm = confusion_matrix(y_test,logreg.predict(X_test))\n",
    "sns.heatmap(cm,annot=True,fmt=\"d\")"
   ]
  },
  {
   "cell_type": "code",
   "execution_count": null,
   "id": "61c4ce65",
   "metadata": {},
   "outputs": [],
   "source": [
    "from sklearn.metrics import plot_roc_curve\n",
    "plot_roc_curve(logreg, X_train,y_train )"
   ]
  },
  {
   "cell_type": "markdown",
   "id": "fce2e2e2",
   "metadata": {},
   "source": [
    "Test équillibre des classes avec class_weight"
   ]
  },
  {
   "cell_type": "code",
   "execution_count": null,
   "id": "939471dd",
   "metadata": {},
   "outputs": [],
   "source": [
    "logreg2=LogisticRegression(solver = \"newton-cg\", C=0.001, penalty=\"l2\",class_weight=\"balanced\")\n",
    "logreg2.fit(X_train,y_train)\n",
    "#print(\"score\",logreg2.score(X_test,y_test))\n",
    "\n",
    "y_logreg2 = logreg2.predict(X_test)\n",
    "from sklearn.metrics import classification_report\n",
    "print(classification_report(y_test, y_logreg2, target_names = ['échec(Class 0)','succès (Class 1)']))"
   ]
  },
  {
   "cell_type": "code",
   "execution_count": null,
   "id": "9c9b3248",
   "metadata": {},
   "outputs": [],
   "source": [
    "cm = confusion_matrix(y_test,logreg2.predict(X_test))\n",
    "sns.heatmap(cm,annot=True,fmt=\"d\")"
   ]
  },
  {
   "cell_type": "code",
   "execution_count": null,
   "id": "600463ed",
   "metadata": {},
   "outputs": [],
   "source": [
    "import matplotlib.pyplot as plt\n",
    "plt.figure(figsize=(7,4))\n",
    "plt.title('Receiver Operating Characteristic')\n",
    "plt.plot(false_positive_rate,true_positive_rate, color='red',label = 'AUC = %0.2f' % roc_auc)\n",
    "plt.legend(loc = 'lower right')\n",
    "plt.plot([0, 1], [0, 1],linestyle='--')\n",
    "plt.axis('tight')\n",
    "plt.ylabel('True Positive Rate')\n",
    "plt.xlabel('False Positive Rate')\n",
    "plt.show()"
   ]
  },
  {
   "cell_type": "code",
   "execution_count": null,
   "id": "b251187d",
   "metadata": {},
   "outputs": [],
   "source": [
    "from sklearn.metrics import plot_roc_curve\n",
    "plot_roc_curve(logreg2, X_train,y_train )"
   ]
  },
  {
   "cell_type": "code",
   "execution_count": null,
   "id": "a8624689",
   "metadata": {},
   "outputs": [],
   "source": [
    "import matplotlib.pyplot as plt\n",
    "plt.figure(figsize=(7,4))\n",
    "plt.title('Receiver Operating Characteristic')\n",
    "plt.plot(false_positive_rate,true_positive_rate, color='red',label = 'AUC = %0.2f' % roc_auc)\n",
    "plt.legend(loc = 'lower right')\n",
    "plt.plot([0, 1], [0, 1],linestyle='--')\n",
    "plt.axis('tight')\n",
    "plt.ylabel('True Positive Rate')\n",
    "plt.xlabel('False Positive Rate')\n",
    "plt.show()"
   ]
  },
  {
   "cell_type": "markdown",
   "id": "757c3d81",
   "metadata": {},
   "source": [
    "## Oversampling Regression Logistique"
   ]
  },
  {
   "cell_type": "code",
   "execution_count": null,
   "id": "66fd68af",
   "metadata": {},
   "outputs": [],
   "source": [
    "from sklearn.linear_model import LogisticRegression\n",
    "from imblearn.over_sampling import RandomOverSampler\n",
    "\n",
    "# Sur-échantillonnage à privilegier pour petit jeu de données\n",
    "rOs = RandomOverSampler()\n",
    "X_ro, y_ro = rOs.fit_resample(X_train, y_train)\n",
    "# Entraînement du modèle de régression logistique\n",
    "lr_over = LogisticRegression()\n",
    "lr_over.fit(X_ro, y_ro)\n",
    "# Affichage des résultats\n",
    "y_pred = lr_over.predict(X_test)\n",
    "\n",
    "from imblearn.metrics import classification_report_imbalanced\n",
    "print(classification_report_imbalanced(y_test, y_pred))\n"
   ]
  },
  {
   "cell_type": "code",
   "execution_count": null,
   "id": "a380276d",
   "metadata": {},
   "outputs": [],
   "source": [
    "cm = confusion_matrix(y_test,lr_over.predict(X_test))\n",
    "sns.heatmap(cm,annot=True,fmt=\"d\")"
   ]
  },
  {
   "cell_type": "code",
   "execution_count": null,
   "id": "365f0686",
   "metadata": {},
   "outputs": [],
   "source": [
    "import matplotlib.pyplot as plt\n",
    "plt.figure(figsize=(7,4))\n",
    "plt.title('Receiver Operating Characteristic')\n",
    "plt.plot(false_positive_rate,true_positive_rate, color='red',label = 'AUC = %0.2f' % roc_auc)\n",
    "plt.legend(loc = 'lower right')\n",
    "plt.plot([0, 1], [0, 1],linestyle='--')\n",
    "plt.axis('tight')\n",
    "plt.ylabel('True Positive Rate')\n",
    "plt.xlabel('False Positive Rate')\n",
    "plt.show()"
   ]
  },
  {
   "cell_type": "code",
   "execution_count": null,
   "id": "4eb259ea",
   "metadata": {},
   "outputs": [],
   "source": [
    "from sklearn.linear_model import LogisticRegression\n",
    "from imblearn.over_sampling import RandomOverSampler\n",
    "\n",
    "# Sur-échantillonnage à privilegier pour petit jeu de données\n",
    "rOs = RandomOverSampler()\n",
    "X_ro, y_ro = rOs.fit_resample(X_train, y_train)\n",
    "# Entraînement du modèle de régression logistique\n",
    "lr_over_bal = LogisticRegression(solver = \"newton-cg\", C=0.001, penalty=\"l2\", class_weight=\"balanced\")\n",
    "lr_over_bal.fit(X_ro, y_ro)\n",
    "# Affichage des résultats\n",
    "y_pred = lr_over_bal.predict(X_test)\n",
    "\n",
    "from imblearn.metrics import classification_report_imbalanced\n",
    "#print(classification_report_imbalanced(y_test, y_pred))\n",
    "print(classification_report(y_test, y_pred, target_names = ['échec(Class 0)','succès (Class 1)']))\n",
    "cm = confusion_matrix(y_test,lr_over_bal.predict(X_test))\n",
    "sns.heatmap(cm,annot=True,fmt=\"d\")\n",
    "\n",
    "from sklearn.metrics import plot_roc_curve\n",
    "plot_roc_curve(lr_over_bal, X_train,y_train )\n"
   ]
  },
  {
   "cell_type": "code",
   "execution_count": null,
   "id": "5444f96a",
   "metadata": {},
   "outputs": [],
   "source": []
  },
  {
   "cell_type": "code",
   "execution_count": null,
   "id": "9a2a397a",
   "metadata": {},
   "outputs": [],
   "source": []
  },
  {
   "cell_type": "markdown",
   "id": "1398ada0",
   "metadata": {},
   "source": [
    "## knn "
   ]
  },
  {
   "cell_type": "code",
   "execution_count": 45,
   "id": "8699f172",
   "metadata": {},
   "outputs": [
    {
     "name": "stdout",
     "output_type": "stream",
     "text": [
      "'paramètre actuellement utiliés : \\n'\n",
      "{'algorithm': 'auto',\n",
      " 'leaf_size': 30,\n",
      " 'metric': 'minkowski',\n",
      " 'metric_params': None,\n",
      " 'n_jobs': None,\n",
      " 'n_neighbors': 5,\n",
      " 'p': 2,\n",
      " 'weights': 'uniform'}\n",
      "0.9061587822353027\n",
      "                  precision    recall  f1-score   support\n",
      "\n",
      "  échec(Class 0)       0.90      0.95      0.92      8798\n",
      "succès (Class 1)       0.58      0.41      0.48      1566\n",
      "\n",
      "        accuracy                           0.87     10364\n",
      "       macro avg       0.74      0.68      0.70     10364\n",
      "    weighted avg       0.85      0.87      0.86     10364\n",
      "\n"
     ]
    }
   ],
   "source": [
    "from sklearn.neighbors import KNeighborsClassifier\n",
    "knn = KNeighborsClassifier()\n",
    "from pprint import pprint\n",
    "pprint(\"paramètre actuellement utiliés : \\n\")\n",
    "pprint(knn.get_params())\n",
    "knn.fit(X_train, y_train)\n",
    "print(knn.score(X_train,y_train))\n",
    "y_knn = knn.predict(X_test)\n",
    "from sklearn.metrics import classification_report\n",
    "print(classification_report(y_test, y_knn, target_names = ['échec(Class 0)','succès (Class 1)']))"
   ]
  },
  {
   "cell_type": "code",
   "execution_count": 46,
   "id": "9623139a",
   "metadata": {},
   "outputs": [
    {
     "data": {
      "text/plain": [
       "<AxesSubplot:>"
      ]
     },
     "execution_count": 46,
     "metadata": {},
     "output_type": "execute_result"
    },
    {
     "data": {
      "image/png": "[encoded data removed]",
      "text/plain": [
       "<Figure size 432x288 with 2 Axes>"
      ]
     },
     "metadata": {
      "needs_background": "light"
     },
     "output_type": "display_data"
    }
   ],
   "source": [
    "cm = confusion_matrix(y_test,knn.predict(X_test))\n",
    "sns.heatmap(cm,annot=True,fmt=\"d\")"
   ]
  },
  {
   "cell_type": "code",
   "execution_count": 47,
   "id": "c76ee296",
   "metadata": {},
   "outputs": [
    {
     "data": {
      "text/plain": [
       "<sklearn.metrics._plot.roc_curve.RocCurveDisplay at 0x2f2c7b586d0>"
      ]
     },
     "execution_count": 47,
     "metadata": {},
     "output_type": "execute_result"
    },
    {
     "data": {
      "image/png": "[encoded data removed]",
      "text/plain": [
       "<Figure size 432x288 with 1 Axes>"
      ]
     },
     "metadata": {
      "needs_background": "light"
     },
     "output_type": "display_data"
    }
   ],
   "source": [
    "from sklearn.metrics import plot_roc_curve\n",
    "plot_roc_curve(knn, X_train,y_train )"
   ]
  },
  {
   "cell_type": "code",
   "execution_count": 48,
   "id": "03d4308f",
   "metadata": {},
   "outputs": [],
   "source": [
    "# pas de features importances ??"
   ]
  },
  {
   "cell_type": "markdown",
   "id": "9f051d97",
   "metadata": {},
   "source": [
    "## SVM "
   ]
  },
  {
   "cell_type": "code",
   "execution_count": 49,
   "id": "fe09b39c",
   "metadata": {},
   "outputs": [
    {
     "name": "stdout",
     "output_type": "stream",
     "text": [
      "'paramètre actuellement utiliés : \\n'\n",
      "{'C': 1.0,\n",
      " 'break_ties': False,\n",
      " 'cache_size': 200,\n",
      " 'class_weight': None,\n",
      " 'coef0': 0.0,\n",
      " 'decision_function_shape': 'ovr',\n",
      " 'degree': 3,\n",
      " 'gamma': 'scale',\n",
      " 'kernel': 'rbf',\n",
      " 'max_iter': -1,\n",
      " 'probability': False,\n",
      " 'random_state': 42,\n",
      " 'shrinking': True,\n",
      " 'tol': 0.001,\n",
      " 'verbose': False}\n",
      "0.8442814754058814\n",
      "                  precision    recall  f1-score   support\n",
      "\n",
      "  échec(Class 0)       0.85      1.00      0.92      8798\n",
      "succès (Class 1)       1.00      0.00      0.00      1566\n",
      "\n",
      "        accuracy                           0.85     10364\n",
      "       macro avg       0.92      0.50      0.46     10364\n",
      "    weighted avg       0.87      0.85      0.78     10364\n",
      "\n"
     ]
    }
   ],
   "source": [
    "from sklearn.svm import SVC\n",
    "svc = SVC(random_state=42)\n",
    "from pprint import pprint\n",
    "pprint(\"paramètre actuellement utiliés : \\n\")\n",
    "pprint(svc.get_params())\n",
    "svc.fit(X_train, y_train)\n",
    "print(svc.score(X_train, y_train))\n",
    "y_svc = svc.predict(X_test)\n",
    "from sklearn.metrics import classification_report\n",
    "print(classification_report(y_test, y_svc,target_names = ['échec(Class 0)','succès (Class 1)']))"
   ]
  },
  {
   "cell_type": "code",
   "execution_count": 51,
   "id": "276c7006",
   "metadata": {},
   "outputs": [
    {
     "data": {
      "text/plain": [
       "<AxesSubplot:>"
      ]
     },
     "execution_count": 51,
     "metadata": {},
     "output_type": "execute_result"
    },
    {
     "data": {
      "image/png": "[encoded data removed]",
      "text/plain": [
       "<Figure size 432x288 with 2 Axes>"
      ]
     },
     "metadata": {
      "needs_background": "light"
     },
     "output_type": "display_data"
    }
   ],
   "source": [
    "cm = confusion_matrix(y_test,svc.predict(X_test))\n",
    "sns.heatmap(cm,annot=True,fmt=\"d\")"
   ]
  },
  {
   "cell_type": "code",
   "execution_count": 52,
   "id": "816c3668",
   "metadata": {},
   "outputs": [
    {
     "data": {
      "text/plain": [
       "<sklearn.metrics._plot.roc_curve.RocCurveDisplay at 0x2f2c7c367f0>"
      ]
     },
     "execution_count": 52,
     "metadata": {},
     "output_type": "execute_result"
    },
    {
     "data": {
      "image/png": "[encoded data removed]",
      "text/plain": [
       "<Figure size 432x288 with 1 Axes>"
      ]
     },
     "metadata": {
      "needs_background": "light"
     },
     "output_type": "display_data"
    }
   ],
   "source": [
    "from sklearn.metrics import plot_roc_curve\n",
    "plot_roc_curve(svc, X_train,y_train )"
   ]
  },
  {
   "cell_type": "code",
   "execution_count": null,
   "id": "0e987684",
   "metadata": {},
   "outputs": [],
   "source": [
    "# pas de features importance ??"
   ]
  },
  {
   "cell_type": "markdown",
   "id": "457ec6a4",
   "metadata": {},
   "source": [
    "## Decision Tree Classifier"
   ]
  },
  {
   "cell_type": "code",
   "execution_count": 53,
   "id": "40f23be6",
   "metadata": {},
   "outputs": [
    {
     "name": "stdout",
     "output_type": "stream",
     "text": [
      "'paramètre actuellement utiliés : \\n'\n",
      "{'ccp_alpha': 0.0,\n",
      " 'class_weight': None,\n",
      " 'criterion': 'gini',\n",
      " 'max_depth': 1,\n",
      " 'max_features': None,\n",
      " 'max_leaf_nodes': None,\n",
      " 'min_impurity_decrease': 0.0,\n",
      " 'min_impurity_split': None,\n",
      " 'min_samples_leaf': 1,\n",
      " 'min_samples_split': 2,\n",
      " 'min_weight_fraction_leaf': 0.0,\n",
      " 'random_state': 42,\n",
      " 'splitter': 'best'}\n",
      "0.8441367331676839\n",
      "                  precision    recall  f1-score   support\n",
      "\n",
      "  échec(Class 0)       0.85      1.00      0.92      8798\n",
      "succès (Class 1)       0.00      0.00      0.00      1566\n",
      "\n",
      "        accuracy                           0.85     10364\n",
      "       macro avg       0.42      0.50      0.46     10364\n",
      "    weighted avg       0.72      0.85      0.78     10364\n",
      "\n"
     ]
    }
   ],
   "source": [
    "from sklearn.tree import DecisionTreeClassifier\n",
    "dtc = DecisionTreeClassifier(max_depth=1, random_state=42)\n",
    "from pprint import pprint\n",
    "pprint(\"paramètre actuellement utiliés : \\n\")\n",
    "pprint(dtc.get_params())\n",
    "dtc.fit(X_train, y_train)\n",
    "print(dtc.score(X_train, y_train))\n",
    "y_dtc = dtc.predict(X_test)\n",
    "from sklearn.metrics import classification_report\n",
    "print(classification_report(y_test, y_dtc,target_names = ['échec(Class 0)','succès (Class 1)']))"
   ]
  },
  {
   "cell_type": "code",
   "execution_count": 54,
   "id": "c5e1db74",
   "metadata": {},
   "outputs": [
    {
     "data": {
      "text/plain": [
       "<AxesSubplot:>"
      ]
     },
     "execution_count": 54,
     "metadata": {},
     "output_type": "execute_result"
    },
    {
     "data": {
      "image/png": "[encoded data removed]",
      "text/plain": [
       "<Figure size 432x288 with 2 Axes>"
      ]
     },
     "metadata": {
      "needs_background": "light"
     },
     "output_type": "display_data"
    }
   ],
   "source": [
    "cm = confusion_matrix(y_test,dtc.predict(X_test))\n",
    "sns.heatmap(cm,annot=True,fmt=\"d\")"
   ]
  },
  {
   "cell_type": "code",
   "execution_count": 55,
   "id": "36e3c6c7",
   "metadata": {},
   "outputs": [
    {
     "data": {
      "text/plain": [
       "<sklearn.metrics._plot.roc_curve.RocCurveDisplay at 0x2f2c447e760>"
      ]
     },
     "execution_count": 55,
     "metadata": {},
     "output_type": "execute_result"
    },
    {
     "data": {
      "image/png": "[encoded data removed]",
      "text/plain": [
       "<Figure size 432x288 with 1 Axes>"
      ]
     },
     "metadata": {
      "needs_background": "light"
     },
     "output_type": "display_data"
    }
   ],
   "source": [
    "from sklearn.metrics import plot_roc_curve\n",
    "plot_roc_curve(dtc, X_train,y_train )"
   ]
  },
  {
   "cell_type": "code",
   "execution_count": 56,
   "id": "16ef50d7",
   "metadata": {},
   "outputs": [
    {
     "data": {
      "text/html": [
       "<div>\n",
       "<style scoped>\n",
       "    .dataframe tbody tr th:only-of-type {\n",
       "        vertical-align: middle;\n",
       "    }\n",
       "\n",
       "    .dataframe tbody tr th {\n",
       "        vertical-align: top;\n",
       "    }\n",
       "\n",
       "    .dataframe thead th {\n",
       "        text-align: right;\n",
       "    }\n",
       "</style>\n",
       "<table border=\"1\" class=\"dataframe\">\n",
       "  <thead>\n",
       "    <tr style=\"text-align: right;\">\n",
       "      <th></th>\n",
       "      <th>features</th>\n",
       "      <th>feature_importance</th>\n",
       "    </tr>\n",
       "  </thead>\n",
       "  <tbody>\n",
       "    <tr>\n",
       "      <th>6</th>\n",
       "      <td>SurfaceMin</td>\n",
       "      <td>1.0</td>\n",
       "    </tr>\n",
       "    <tr>\n",
       "      <th>0</th>\n",
       "      <td>DateMandatSeason</td>\n",
       "      <td>0.0</td>\n",
       "    </tr>\n",
       "    <tr>\n",
       "      <th>1</th>\n",
       "      <td>DateMandatMonth</td>\n",
       "      <td>0.0</td>\n",
       "    </tr>\n",
       "    <tr>\n",
       "      <th>2</th>\n",
       "      <td>DateMandatWeek</td>\n",
       "      <td>0.0</td>\n",
       "    </tr>\n",
       "    <tr>\n",
       "      <th>3</th>\n",
       "      <td>BudgetMaxEuro</td>\n",
       "      <td>0.0</td>\n",
       "    </tr>\n",
       "    <tr>\n",
       "      <th>4</th>\n",
       "      <td>TypeBien</td>\n",
       "      <td>0.0</td>\n",
       "    </tr>\n",
       "    <tr>\n",
       "      <th>5</th>\n",
       "      <td>TypeProjet</td>\n",
       "      <td>0.0</td>\n",
       "    </tr>\n",
       "    <tr>\n",
       "      <th>7</th>\n",
       "      <td>NombrePieces</td>\n",
       "      <td>0.0</td>\n",
       "    </tr>\n",
       "    <tr>\n",
       "      <th>8</th>\n",
       "      <td>NombreChambres</td>\n",
       "      <td>0.0</td>\n",
       "    </tr>\n",
       "    <tr>\n",
       "      <th>9</th>\n",
       "      <td>CodePostal</td>\n",
       "      <td>0.0</td>\n",
       "    </tr>\n",
       "  </tbody>\n",
       "</table>\n",
       "</div>"
      ],
      "text/plain": [
       "           features  feature_importance\n",
       "6        SurfaceMin                 1.0\n",
       "0  DateMandatSeason                 0.0\n",
       "1   DateMandatMonth                 0.0\n",
       "2    DateMandatWeek                 0.0\n",
       "3     BudgetMaxEuro                 0.0\n",
       "4          TypeBien                 0.0\n",
       "5        TypeProjet                 0.0\n",
       "7      NombrePieces                 0.0\n",
       "8    NombreChambres                 0.0\n",
       "9        CodePostal                 0.0"
      ]
     },
     "execution_count": 56,
     "metadata": {},
     "output_type": "execute_result"
    }
   ],
   "source": [
    "feature_importances=pd.DataFrame({'features':X.columns,'feature_importance':dtc.feature_importances_})\n",
    "feature_importances.sort_values('feature_importance',ascending=False)"
   ]
  },
  {
   "cell_type": "code",
   "execution_count": 57,
   "id": "09452179",
   "metadata": {},
   "outputs": [
    {
     "data": {
      "image/png": "[encoded data removed]",
      "text/plain": [
       "<Figure size 432x288 with 1 Axes>"
      ]
     },
     "metadata": {
      "needs_background": "light"
     },
     "output_type": "display_data"
    }
   ],
   "source": [
    "feat_importances = pd.Series(dtc.feature_importances_, index=X.columns) \n",
    "feat_importances.nlargest(10).plot(kind='barh') \n",
    "plt.show()"
   ]
  },
  {
   "cell_type": "markdown",
   "id": "8ed3bcb2",
   "metadata": {},
   "source": [
    "## Naive Bayes"
   ]
  },
  {
   "cell_type": "code",
   "execution_count": 58,
   "id": "4fef7cbf",
   "metadata": {},
   "outputs": [
    {
     "name": "stdout",
     "output_type": "stream",
     "text": [
      "'paramètre actuellement utiliés : \\n'\n",
      "{'priors': None, 'var_smoothing': 1e-09}\n",
      "0.8441367331676839\n",
      "                  precision    recall  f1-score   support\n",
      "\n",
      "  échec(Class 0)       0.85      1.00      0.92      8798\n",
      "succès (Class 1)       0.00      0.00      0.00      1566\n",
      "\n",
      "        accuracy                           0.85     10364\n",
      "       macro avg       0.42      0.50      0.46     10364\n",
      "    weighted avg       0.72      0.85      0.78     10364\n",
      "\n"
     ]
    }
   ],
   "source": [
    "from sklearn.naive_bayes import GaussianNB\n",
    "gnb = GaussianNB()\n",
    "from pprint import pprint\n",
    "pprint(\"paramètre actuellement utiliés : \\n\")\n",
    "pprint(gnb.get_params())\n",
    "gnb.fit(X_train, y_train)\n",
    "print(gnb.score(X_train, y_train))\n",
    "y_gnb = gnb.predict(X_test)\n",
    "from sklearn.metrics import classification_report\n",
    "print(classification_report(y_test,y_gnb,target_names = ['échec(Class 0)','succès (Class 1)']))"
   ]
  },
  {
   "cell_type": "code",
   "execution_count": 59,
   "id": "80d5b7de",
   "metadata": {},
   "outputs": [
    {
     "data": {
      "text/plain": [
       "<AxesSubplot:>"
      ]
     },
     "execution_count": 59,
     "metadata": {},
     "output_type": "execute_result"
    },
    {
     "data": {
      "image/png": "[encoded data removed]",
      "text/plain": [
       "<Figure size 432x288 with 2 Axes>"
      ]
     },
     "metadata": {
      "needs_background": "light"
     },
     "output_type": "display_data"
    }
   ],
   "source": [
    "cm = confusion_matrix(y_test,gnb.predict(X_test))\n",
    "sns.heatmap(cm,annot=True,fmt=\"d\")"
   ]
  },
  {
   "cell_type": "code",
   "execution_count": 60,
   "id": "8a365c7a",
   "metadata": {},
   "outputs": [
    {
     "data": {
      "text/plain": [
       "<sklearn.metrics._plot.roc_curve.RocCurveDisplay at 0x2f2c7d18940>"
      ]
     },
     "execution_count": 60,
     "metadata": {},
     "output_type": "execute_result"
    },
    {
     "data": {
      "image/png": "[encoded data removed]",
      "text/plain": [
       "<Figure size 432x288 with 1 Axes>"
      ]
     },
     "metadata": {
      "needs_background": "light"
     },
     "output_type": "display_data"
    }
   ],
   "source": [
    "from sklearn.metrics import plot_roc_curve\n",
    "plot_roc_curve(gnb, X_train,y_train )"
   ]
  },
  {
   "cell_type": "code",
   "execution_count": 61,
   "id": "a6b15db8",
   "metadata": {},
   "outputs": [],
   "source": [
    "# pas de feature importance ??"
   ]
  },
  {
   "cell_type": "markdown",
   "id": "a97df9ad",
   "metadata": {},
   "source": [
    "## Random Forest Classifier"
   ]
  },
  {
   "cell_type": "code",
   "execution_count": 62,
   "id": "369645d0",
   "metadata": {},
   "outputs": [
    {
     "name": "stdout",
     "output_type": "stream",
     "text": [
      "0.9994692784599426\n",
      "                  precision    recall  f1-score   support\n",
      "\n",
      "  échec(Class 0)       0.97      1.00      0.98      8798\n",
      "succès (Class 1)       0.98      0.81      0.89      1566\n",
      "\n",
      "        accuracy                           0.97     10364\n",
      "       macro avg       0.97      0.90      0.93     10364\n",
      "    weighted avg       0.97      0.97      0.97     10364\n",
      "\n"
     ]
    }
   ],
   "source": [
    "from sklearn.ensemble import RandomForestClassifier\n",
    "rfc = RandomForestClassifier()\n",
    "rfc.fit(X_train, y_train)\n",
    "print(rfc.score(X_train, y_train))\n",
    "y_rfc = rfc.predict(X_test)\n",
    "from sklearn.metrics import classification_report\n",
    "print(classification_report(y_test, y_rfc,target_names = ['échec(Class 0)','succès (Class 1)']))"
   ]
  },
  {
   "cell_type": "code",
   "execution_count": 63,
   "id": "92551bcb",
   "metadata": {},
   "outputs": [
    {
     "data": {
      "text/plain": [
       "<AxesSubplot:>"
      ]
     },
     "execution_count": 63,
     "metadata": {},
     "output_type": "execute_result"
    },
    {
     "data": {
      "image/png": "[encoded data removed]",
      "text/plain": [
       "<Figure size 432x288 with 2 Axes>"
      ]
     },
     "metadata": {
      "needs_background": "light"
     },
     "output_type": "display_data"
    }
   ],
   "source": [
    "cm = confusion_matrix(y_test,rfc.predict(X_test))\n",
    "sns.heatmap(cm,annot=True,fmt=\"d\")"
   ]
  },
  {
   "cell_type": "code",
   "execution_count": 64,
   "id": "e09a6203",
   "metadata": {},
   "outputs": [
    {
     "data": {
      "text/plain": [
       "<sklearn.metrics._plot.roc_curve.RocCurveDisplay at 0x2f2d18a8310>"
      ]
     },
     "execution_count": 64,
     "metadata": {},
     "output_type": "execute_result"
    },
    {
     "data": {
      "image/png": "[encoded data removed]",
      "text/plain": [
       "<Figure size 432x288 with 1 Axes>"
      ]
     },
     "metadata": {
      "needs_background": "light"
     },
     "output_type": "display_data"
    }
   ],
   "source": [
    "from sklearn.metrics import plot_roc_curve\n",
    "plot_roc_curve(rfc, X_train,y_train )"
   ]
  },
  {
   "cell_type": "markdown",
   "id": "dfbe84f3",
   "metadata": {},
   "source": [
    "## Feature importance Random Forest Classifier"
   ]
  },
  {
   "cell_type": "code",
   "execution_count": null,
   "id": "b6febfc1",
   "metadata": {},
   "outputs": [],
   "source": [
    "import time\n",
    "import numpy as np\n",
    "\n",
    "start_time = time.time()\n",
    "importances = rfc.feature_importances_\n",
    "std = np.std([tree.feature_importances_ for tree in rfc.estimators_], axis=0)\n",
    "elapsed_time = time.time() - start_time\n",
    "\n",
    "print(f\"Elapsed time to compute the importances: {elapsed_time:.3f} seconds\")"
   ]
  },
  {
   "cell_type": "code",
   "execution_count": null,
   "id": "e61130ce",
   "metadata": {},
   "outputs": [],
   "source": [
    "import pandas as pd\n",
    "\n",
    "feature_names = ['DateMandatSeason', 'DateMandatMonth', 'DateMandatWeek',\n",
    "       'BudgetMaxEuro', 'TypeBien', 'TypeProjet', 'SurfaceMin', 'NombrePieces',\n",
    "       'NombreChambres', 'CodePostal']\n",
    "\n",
    "forest_importances = pd.Series(importances, index=feature_names)\n",
    "\n",
    "fig, ax = plt.subplots()\n",
    "forest_importances.plot.bar(yerr=std, ax=ax)\n",
    "ax.set_title(\"Feature importances using MDI\")\n",
    "ax.set_ylabel(\"Mean decrease in impurity\")\n",
    "fig.tight_layout()"
   ]
  },
  {
   "cell_type": "code",
   "execution_count": null,
   "id": "0a221e65",
   "metadata": {},
   "outputs": [],
   "source": [
    "X.columns"
   ]
  },
  {
   "cell_type": "markdown",
   "id": "277268e7",
   "metadata": {},
   "source": [
    "## Test du modèle rfc"
   ]
  },
  {
   "cell_type": "raw",
   "id": "b98da714",
   "metadata": {},
   "source": [
    "profil de la recherche pour le mandat\n",
    "La recherche est faite au printemps, au mois de mai, la 18eme semaine de l'année, le budget est de 300 000€, le type du bien est un appartement, le type de mission est une residence principale, pour une surface de 70m² avec 3 pieces et 1 chambre dans la commune de Toulouse."
   ]
  },
  {
   "cell_type": "code",
   "execution_count": null,
   "id": "1268acd7",
   "metadata": {},
   "outputs": [],
   "source": [
    "X.head()"
   ]
  },
  {
   "cell_type": "code",
   "execution_count": null,
   "id": "63e5346a",
   "metadata": {},
   "outputs": [],
   "source": [
    "#df[\"StatutMandat\"] == 1\n",
    "essaie = df.loc[df['StatutMandat'] == 1]\n",
    "essaie.head(2)"
   ]
  },
  {
   "cell_type": "code",
   "execution_count": null,
   "id": "e2e33eb3",
   "metadata": {},
   "outputs": [],
   "source": [
    "# Données de test\n",
    "exm = [2, 6, 24, 100000, 0, 1, 20, 2, 1, 13007]"
   ]
  },
  {
   "cell_type": "code",
   "execution_count": null,
   "id": "8ba267ab",
   "metadata": {},
   "outputs": [],
   "source": [
    "exm_pred=rfc.predict([exm])\n",
    "print(exm_pred)"
   ]
  },
  {
   "cell_type": "raw",
   "id": "b834c54b",
   "metadata": {},
   "source": [
    "Type de bien:\n",
    "\n",
    "df['TypeBien'].replace(\"Appartement\",0 ,inplace=True)\n",
    "df['TypeBien'].replace(\"Maison\",1 ,inplace=True)\n",
    "df['TypeBien'].replace(\"Maison ou appartement\",2 ,inplace=True)\n",
    "df['TypeBien'].replace(\"Immeuble\",3 ,inplace=True)\n",
    "df['TypeBien'].replace(\"Studio\",4 ,inplace=True)\n",
    "df['TypeBien'].replace(\"Terrain\",5 ,inplace=True)\n",
    "df['TypeBien'].replace(\"Local\",6 ,inplace=True)\n",
    "df['TypeBien'].replace(\"Autre\",7 ,inplace=True)"
   ]
  },
  {
   "cell_type": "raw",
   "id": "8f0a7f68",
   "metadata": {},
   "source": [
    "type de projet:\n",
    "    \n",
    "df['TypeProjet'].replace(\"Résidence principale\",0 ,inplace=True)\n",
    "df['TypeProjet'].replace(\"Investissement\",1 ,inplace=True)\n",
    "df['TypeProjet'].replace(\"Résidence secondaire\",2 ,inplace=True)"
   ]
  },
  {
   "cell_type": "markdown",
   "id": "ac16be49",
   "metadata": {},
   "source": [
    "## Test Stratified Kfold RandomForestClassifier"
   ]
  },
  {
   "cell_type": "code",
   "execution_count": null,
   "id": "e56dde47",
   "metadata": {},
   "outputs": [],
   "source": [
    "rfc_2 = RandomForestClassifier(\n",
    "    n_estimators=50,\n",
    "    criterion='gini',\n",
    "    max_depth=5,\n",
    "    min_samples_split=2,\n",
    "    min_samples_leaf=1,\n",
    "    min_weight_fraction_leaf=0.0,\n",
    "    max_features='auto',\n",
    "    max_leaf_nodes=None,\n",
    "    min_impurity_decrease=0.0,\n",
    "    min_impurity_split=None,\n",
    "    bootstrap=True,\n",
    "    oob_score=False,\n",
    "    n_jobs=-1,\n",
    "    random_state=0,\n",
    "    verbose=0,\n",
    "    warm_start=False,\n",
    "    class_weight='balanced'\n",
    ")"
   ]
  },
  {
   "cell_type": "code",
   "execution_count": null,
   "id": "103b3b4e",
   "metadata": {},
   "outputs": [],
   "source": [
    "from sklearn.model_selection import StratifiedKFold\n",
    "rfc_3 = RandomForestClassifier()\n",
    "skf = StratifiedKFold(n_splits=10)\n",
    "\n",
    "def training(train,test, fold_no):\n",
    "    rfc_3.fit(X_train, y_train)\n",
    "    score = rfc_3.score(X_test,y_test)\n",
    "    print('For Fold {} the accuracy is {}'.format(str(fold_no),score))\n",
    "fold_no = 1\n",
    "for train_index,test_index in skf.split(X, y):\n",
    "    train = df.iloc[train_index,:]\n",
    "    test = df.iloc[test_index,:]\n",
    "    training(train, test, fold_no)\n",
    "    fold_no += 1\n",
    "y_rfc_3 = rfc_3.predict(X_test)\n",
    "\n",
    "from sklearn.metrics import classification_report\n",
    "print(classification_report(y_test, y_rfc_3,target_names = ['échec(Class 0)','succès (Class 1)']))"
   ]
  },
  {
   "cell_type": "code",
   "execution_count": null,
   "id": "855475b7",
   "metadata": {},
   "outputs": [],
   "source": [
    "import time\n",
    "import numpy as np\n",
    "\n",
    "start_time = time.time()\n",
    "importances = rfc_3.feature_importances_\n",
    "std = np.std([tree.feature_importances_ for tree in rfc_3.estimators_], axis=0)\n",
    "elapsed_time = time.time() - start_time\n",
    "\n",
    "print(f\"Elapsed time to compute the importances: {elapsed_time:.3f} seconds\")"
   ]
  },
  {
   "cell_type": "code",
   "execution_count": null,
   "id": "d8c8507e",
   "metadata": {},
   "outputs": [],
   "source": [
    "import pandas as pd\n",
    "\n",
    "feature_names = ['DateMandatSeason', 'DateMandatMonth', 'DateMandatWeek',\n",
    "       'BudgetMaxEuro', 'TypeBien', 'TypeProjet', 'SurfaceMin', 'NombrePieces',\n",
    "       'NombreChambres', 'CodePostal']\n",
    "\n",
    "forest_importances = pd.Series(importances, index=feature_names)\n",
    "\n",
    "\n",
    "fig, ax = plt.subplots()\n",
    "forest_importances.plot.bar(yerr=std, ax=ax)\n",
    "ax.set_title(\"Feature importances using MDI\")\n",
    "ax.set_ylabel(\"Mean decrease in impurity\")\n",
    "fig.tight_layout()"
   ]
  },
  {
   "cell_type": "markdown",
   "id": "b803bfb4",
   "metadata": {},
   "source": [
    "## GridSearchCV RandomForestClassifier"
   ]
  },
  {
   "cell_type": "code",
   "execution_count": null,
   "id": "919cb617",
   "metadata": {},
   "outputs": [],
   "source": [
    "from sklearn.model_selection import GridSearchCV\n",
    "# Create the parameter grid based on the results of random search \n",
    "param_grid = {\n",
    "    'bootstrap': [True],\n",
    "    'max_depth': [80, 90, 100, 110],\n",
    "    'max_features': [2, 3],\n",
    "    'min_samples_leaf': [3, 4, 5],\n",
    "    'min_samples_split': [8, 10, 12],\n",
    "    'n_estimators': [100, 200, 300, 1000]\n",
    "}\n",
    "# Create a based model\n",
    "rf1 = RandomForestClassifier()\n",
    "# Instantiate the grid search model\n",
    "grid_search = GridSearchCV(estimator = rf1, param_grid = param_grid, \n",
    "                          cv = 3, n_jobs = -1, verbose = 2)"
   ]
  },
  {
   "cell_type": "code",
   "execution_count": null,
   "id": "cc767e49",
   "metadata": {},
   "outputs": [],
   "source": [
    "# Fit the grid search to the data\n",
    "grid_search.fit(X_train, y_train)\n",
    "grid_search.best_params_\n",
    "{'bootstrap': True,\n",
    " 'max_depth': 80,\n",
    " 'max_features': 3,\n",
    " 'min_samples_leaf': 5,\n",
    " 'min_samples_split': 12,\n",
    " 'n_estimators': 100}\n",
    "best_grid = grid_search.best_estimator_\n",
    "grid_accuracy = evaluate(best_grid, test_features, test_labels)\n",
    "#Model Performance\n",
    "#Average Error: 3.6561 degrees.\n",
    "#Accuracy = 93.83%.\n",
    "print('Improvement of {:0.2f}%.'.format( 100 * (grid_accuracy - base_accuracy) / base_accuracy))\n",
    "#Improvement of 0.50%."
   ]
  },
  {
   "cell_type": "code",
   "execution_count": null,
   "id": "fd6f659e",
   "metadata": {},
   "outputs": [],
   "source": []
  },
  {
   "cell_type": "code",
   "execution_count": null,
   "id": "4070e36c",
   "metadata": {},
   "outputs": [],
   "source": [
    "rf = RandomForestClassifier(random_state = 42)\n",
    "from pprint import pprint\n",
    "\n",
    "pprint(\"paramètre actuellement utiliés : \\n\")\n",
    "pprint(rf.get_params())"
   ]
  },
  {
   "cell_type": "code",
   "execution_count": null,
   "id": "dd4ba67a",
   "metadata": {},
   "outputs": [],
   "source": [
    "from sklearn.model_selection import RandomizedSearchCV\n",
    "# Number of trees in random forest\n",
    "n_estimators = [int(x) for x in np.linspace(start = 200, stop = 2000, num = 10)]\n",
    "# Number of features to consider at every split\n",
    "max_features = ['auto', 'sqrt']\n",
    "# Maximum number of levels in tree\n",
    "max_depth = [int(x) for x in np.linspace(10, 110, num = 11)]\n",
    "max_depth.append(None)\n",
    "# Minimum number of samples required to split a node\n",
    "min_samples_split = [2, 5, 10]\n",
    "# Minimum number of samples required at each leaf node\n",
    "min_samples_leaf = [1, 2, 4]\n",
    "# Method of selecting samples for training each tree\n",
    "bootstrap = [True, False]\n",
    "# Create the random grid\n",
    "random_grid = {'n_estimators': n_estimators,\n",
    "               'max_features': max_features,\n",
    "               'max_depth': max_depth,\n",
    "               'min_samples_split': min_samples_split,\n",
    "               'min_samples_leaf': min_samples_leaf,\n",
    "               'bootstrap': bootstrap}\n",
    "pprint(random_grid)"
   ]
  },
  {
   "cell_type": "code",
   "execution_count": null,
   "id": "2ff0bbe9",
   "metadata": {},
   "outputs": [],
   "source": [
    "# Use the random grid to search for best hyperparameters\n",
    "# First create the base model to tune\n",
    "rf = RandomForestClassifier()\n",
    "# Random search of parameters, using 3 fold cross validation, \n",
    "# search across 100 different combinations, and use all available cores\n",
    "rf_random = RandomizedSearchCV(estimator = rf, param_distributions = random_grid, n_iter = 10, cv = 3, verbose=2, random_state=42, n_jobs = -1)\n",
    "# Fit the random search model\n",
    "rf_random.fit(X_train, y_train)\n",
    "rf_random.best_params_"
   ]
  },
  {
   "cell_type": "code",
   "execution_count": null,
   "id": "3f640629",
   "metadata": {},
   "outputs": [],
   "source": [
    "def evaluate(model, test_features, test_labels):\n",
    "    predictions = model.predict(test_features)\n",
    "    errors = abs(predictions - test_labels)\n",
    "    mape = 100 * np.mean(errors / test_labels)\n",
    "    accuracy = 100 - mape\n",
    "    print('Model Performance')\n",
    "    print('Average Error: {:0.4f} degrees.'.format(np.mean(errors)))\n",
    "    print('Accuracy = {:0.2f}%.'.format(accuracy))\n",
    "    \n",
    "    return accuracy\n",
    "base_model = RandomForestClassifier(n_estimators = 10, random_state = 42)\n",
    "base_model.fit(X_train, y_train)\n",
    "base_accuracy = evaluate(base_model, X_test, y_test)\n",
    "\n",
    "best_random = rf_random.best_estimator_\n",
    "random_accuracy = evaluate(best_random, X_test, y_test)\n",
    "\n",
    "print('Improvement of {:0.2f}%.'.format( 100 * (random_accuracy - base_accuracy) / base_accuracy))"
   ]
  },
  {
   "cell_type": "code",
   "execution_count": null,
   "id": "aa8c20c6",
   "metadata": {},
   "outputs": [],
   "source": []
  },
  {
   "cell_type": "code",
   "execution_count": null,
   "id": "cd218025",
   "metadata": {},
   "outputs": [],
   "source": []
  },
  {
   "cell_type": "code",
   "execution_count": null,
   "id": "7d4d4d16",
   "metadata": {},
   "outputs": [],
   "source": []
  },
  {
   "cell_type": "code",
   "execution_count": null,
   "id": "340a352f",
   "metadata": {},
   "outputs": [],
   "source": [
    "z = df[['DateMandatSeason', 'DateMandatMonth', 'DateMandatWeek',\n",
    "       'BudgetMaxEuro', 'TypeBien', 'TypeProjet', 'SurfaceMin', 'NombrePieces',\n",
    "       'NombreChambres', 'CodePostal', \"StatutMandat\"]]"
   ]
  },
  {
   "cell_type": "code",
   "execution_count": null,
   "id": "7bf3ee5b",
   "metadata": {},
   "outputs": [],
   "source": [
    "z.corr()[\"StatutMandat\"]"
   ]
  },
  {
   "cell_type": "code",
   "execution_count": null,
   "id": "3b0a141e",
   "metadata": {},
   "outputs": [],
   "source": [
    "df.corr()[\"StatutMandat\"]"
   ]
  },
  {
   "cell_type": "code",
   "execution_count": null,
   "id": "0cf43d82",
   "metadata": {},
   "outputs": [],
   "source": [
    "from sklearn.ensemble import GradientBoostingClassifier\n",
    "gbc = GradientBoostingClassifier()\n",
    "gbc.fit(X_train, y_train)\n",
    "print(gbc.score(X_train, y_train))\n",
    "y_gbc = gbc.predict(X_test)\n",
    "from sklearn.metrics import classification_report\n",
    "print(classification_report(y_test, y_gbc,target_names = ['échec(Class 0)','succès (Class 1)']))"
   ]
  },
  {
   "cell_type": "code",
   "execution_count": null,
   "id": "edd3e70d",
   "metadata": {},
   "outputs": [],
   "source": [
    "cm = confusion_matrix(y_test,gbc.predict(X_test))\n",
    "sns.heatmap(cm,annot=True,fmt=\"d\")"
   ]
  },
  {
   "cell_type": "code",
   "execution_count": null,
   "id": "0036a18b",
   "metadata": {},
   "outputs": [],
   "source": [
    "from sklearn.neural_network import MLPClassifier\n",
    "clf = MLPClassifier(random_state=1, max_iter=300)\n",
    "clf.fit(X_train, y_train)\n",
    "print(gbc.score(X_train, y_train))\n",
    "y_clf = clf.predict(X_test)\n",
    "from sklearn.metrics import classification_report\n",
    "print(classification_report(y_test, y_clf,target_names = ['échec(Class 0)','succès (Class 1)']))"
   ]
  },
  {
   "cell_type": "code",
   "execution_count": null,
   "id": "5782b891",
   "metadata": {},
   "outputs": [],
   "source": [
    "cm = confusion_matrix(y_test,clf.predict(X_test))\n",
    "sns.heatmap(cm,annot=True,fmt=\"d\") "
   ]
  },
  {
   "cell_type": "markdown",
   "id": "c2eea077",
   "metadata": {},
   "source": [
    "## XgBoost"
   ]
  },
  {
   "cell_type": "code",
   "execution_count": null,
   "id": "f36e6b9f",
   "metadata": {},
   "outputs": [],
   "source": [
    "import xgboost as xgb\n",
    "from xgboost import XGBClassifier"
   ]
  },
  {
   "cell_type": "code",
   "execution_count": null,
   "id": "66aaf068",
   "metadata": {},
   "outputs": [],
   "source": [
    "import time"
   ]
  },
  {
   "cell_type": "code",
   "execution_count": null,
   "id": "8160fb7d",
   "metadata": {},
   "outputs": [],
   "source": [
    "params = {\n",
    "            'objective':'binary:logistic',\n",
    "            'max_depth': 4,\n",
    "            'alpha': 10,\n",
    "            'learning_rate': 1.0,\n",
    "            'n_estimators':100\n",
    "        }  \n",
    "xgb = XGBClassifier(**params)\n",
    "training_start = time.perf_counter()\n",
    "test = xgb.fit(X_train, y_train)\n",
    "training_end = time.perf_counter()\n",
    "prediction_start = time.perf_counter()\n",
    "preds = xgb.predict(X_test)\n",
    "prediction_end = time.perf_counter()\n",
    "acc_xgb = (preds == y_test).sum().astype(float) / len(preds)*100\n",
    "xgb_train_time = training_end-training_start\n",
    "xgb_prediction_time = prediction_end-prediction_start\n",
    "print(\"XGBoost's prediction accuracy is: %3.2f\" % (acc_xgb))\n",
    "print(\"Time consumed for training: %4.3f\" % (xgb_train_time))\n",
    "print(\"Time consumed for prediction: %6.5f seconds\" % (xgb_prediction_time))\n",
    "\n",
    "from sklearn.metrics import classification_report\n",
    "print(classification_report(y_test, preds,target_names = ['échec(Class 0)','succès (Class 1)']))"
   ]
  },
  {
   "cell_type": "code",
   "execution_count": null,
   "id": "ccb866d6",
   "metadata": {},
   "outputs": [],
   "source": [
    "cm = confusion_matrix(y_test,xgb.predict(X_test))\n",
    "sns.heatmap(cm,annot=True,fmt=\"d\") "
   ]
  },
  {
   "cell_type": "code",
   "execution_count": null,
   "id": "77d678ff",
   "metadata": {},
   "outputs": [],
   "source": [
    "from sklearn.metrics import plot_roc_curve\n",
    "plot_roc_curve(xgb, X_train,y_train )"
   ]
  },
  {
   "cell_type": "code",
   "execution_count": null,
   "id": "6437f46b",
   "metadata": {},
   "outputs": [],
   "source": [
    "test.feature_importances_\n"
   ]
  },
  {
   "cell_type": "code",
   "execution_count": null,
   "id": "cad301f0",
   "metadata": {},
   "outputs": [],
   "source": [
    "from xgboost import plot_importance\n",
    "plot_importance(xgb, )"
   ]
  },
  {
   "cell_type": "code",
   "execution_count": null,
   "id": "56af6d37",
   "metadata": {},
   "outputs": [],
   "source": [
    "from imblearn.over_sampling import SMOTE\n",
    "\n",
    "\n",
    "X = df.drop(columns=[\"StatutMandat\"])\n",
    "y= df['StatutMandat']\n",
    "\n",
    "X_train, X_test, y_train, y_test = train_test_split(X, y, test_size=0.3, random_state=0)\n",
    "print(X_train.shape)\n",
    "print(X_test.shape)\n",
    "print(y_train.shape)\n",
    "print(y_test.shape)\n",
    "\n",
    "sm = SMOTE(random_state=3)\n",
    "\n",
    "#SMOTE\n",
    "from imblearn.over_sampling import SMOTE as smo\n",
    "X_sm, y_sm = smo.fit_resample(X_train, y_train)\n",
    "# Entraînement du modèle de régression logistique\n",
    "lr.fit(X_sm, y_sm)\n",
    "# Affichage des résultats\n",
    "y_pred = lr.predict(X_test)\n",
    "print(classification_report_imbalanced(y_test, y_pred))"
   ]
  },
  {
   "cell_type": "code",
   "execution_count": null,
   "id": "18808161",
   "metadata": {},
   "outputs": [],
   "source": []
  },
  {
   "cell_type": "code",
   "execution_count": null,
   "id": "6f00636c",
   "metadata": {},
   "outputs": [],
   "source": [
    "Test deep learning keras"
   ]
  },
  {
   "cell_type": "code",
   "execution_count": null,
   "id": "f7220cd3",
   "metadata": {},
   "outputs": [],
   "source": [
    "%matplotlib inline\n",
    "import matplotlib.pyplot as plt\n",
    "import seaborn as sns\n",
    "\n",
    "import pandas as pd\n",
    "import numpy as np\n",
    "from pylab import rcParams\n",
    "\n",
    "import keras\n",
    "import tensorflow as tf\n",
    "from keras import optimizers, Sequential\n",
    "from keras.models import Model\n",
    "#from keras.utils import plot_model\n",
    "from keras.layers import Dense, LSTM, RepeatVector, TimeDistributed\n",
    "from keras.callbacks import ModelCheckpoint, TensorBoard\n",
    "\n",
    "from sklearn.preprocessing import StandardScaler\n",
    "from sklearn.model_selection import train_test_split\n",
    "from sklearn.metrics import confusion_matrix, precision_recall_curve\n",
    "from sklearn.metrics import recall_score, classification_report, auc, roc_curve\n",
    "from sklearn.metrics import precision_recall_fscore_support, f1_score\n",
    "\n",
    "from sklearn.model_selection import train_test_split"
   ]
  },
  {
   "cell_type": "code",
   "execution_count": null,
   "id": "3f30da2f",
   "metadata": {},
   "outputs": [],
   "source": [
    "y = df[\"StatutMandat\"]\n",
    "\n",
    "X = df.drop(columns=[\"DateMandatInstant\", \"DateMandatYear\", \"MandatId\", \"UrlMandat\",\"DateMandat\", \"StatutMandat\", \"DateCompromis\", \"Ville\", \"Departement\", \"Region\", \"DatePremierePublicationDeBien\",\"NombreDeBiensTrouves\",\"NombreDeBiensPublies\", \"NombreDeBiensSelectionnes\", \"NombreDeBiensAVisiter\", \"NombreDeBiensVisites\", \"NombreDeBiensRejetes\", \"DatePremierePublicationDeBien\", \"NombreDeBiensActesOuCompromis\", \"DateDernierePublicationDeBien\",\"DelaiPremierePublicationDeBien\", \"DatePremiereVisite\", \"DelaiPremiereVisite\" ])"
   ]
  },
  {
   "cell_type": "code",
   "execution_count": null,
   "id": "2c7f15d8",
   "metadata": {},
   "outputs": [],
   "source": [
    "from sklearn.preprocessing import StandardScaler\n",
    "scaler = StandardScaler()\n",
    "X_train = scaler.fit_transform(X_train)\n",
    "X_test = scaler.transform(X_test)"
   ]
  },
  {
   "cell_type": "code",
   "execution_count": null,
   "id": "de92cb2d",
   "metadata": {},
   "outputs": [],
   "source": [
    "import numpy as np\n",
    "from sklearn.model_selection import StratifiedKFold\n",
    "\n",
    "seed = 7\n",
    "np.random.seed(seed)\n",
    "\n",
    "kfold = StratifiedKFold(n_splits=5, shuffle=True, random_state=seed)\n",
    "for train, test in kfold.split(X, y):\n",
    "    model = Sequential()\n",
    "    model.add(Dense(64, input_dim=(10), activation='relu'))\n",
    "    model.add(Dense(1))\n",
    "    model.compile(optimizer='rmsprop', loss='binary_crossentropy', metrics=['accuracy'])\n",
    "    model.fit(X_train, y_train, epochs=10, batch_size = 32)"
   ]
  },
  {
   "cell_type": "code",
   "execution_count": null,
   "id": "a6f2faa1",
   "metadata": {},
   "outputs": [],
   "source": [
    "model.output_shape\n",
    "\n",
    "# Model summary\n",
    "model.summary()\n",
    "\n",
    "# Model config\n",
    "model.get_config()\n",
    "\n",
    "# List all weight tensors \n",
    "model.get_weights()"
   ]
  },
  {
   "cell_type": "code",
   "execution_count": null,
   "id": "72135307",
   "metadata": {},
   "outputs": [],
   "source": [
    "model.compile(loss='binary_crossentropy',\n",
    "              optimizer='adam',\n",
    "              metrics=['accuracy'])\n",
    "                   \n",
    "model.fit(X_train, y_train,epochs=20, batch_size=1, verbose=1)"
   ]
  },
  {
   "cell_type": "code",
   "execution_count": null,
   "id": "b1e1655a",
   "metadata": {},
   "outputs": [],
   "source": [
    "y_pred = model.predict(X_test)\n"
   ]
  },
  {
   "cell_type": "code",
   "execution_count": null,
   "id": "84005484",
   "metadata": {},
   "outputs": [],
   "source": [
    "y_pred[:5]\n"
   ]
  },
  {
   "cell_type": "code",
   "execution_count": null,
   "id": "dd31c980",
   "metadata": {},
   "outputs": [],
   "source": [
    "score = model.evaluate(X_test, y_test,verbose=1)\n",
    "\n",
    "print(score)"
   ]
  },
  {
   "cell_type": "code",
   "execution_count": null,
   "id": "10ee2863",
   "metadata": {},
   "outputs": [],
   "source": []
  },
  {
   "cell_type": "code",
   "execution_count": null,
   "id": "30d124ab",
   "metadata": {},
   "outputs": [],
   "source": []
  },
  {
   "cell_type": "code",
   "execution_count": null,
   "id": "69498f46",
   "metadata": {},
   "outputs": [],
   "source": []
  },
  {
   "cell_type": "code",
   "execution_count": null,
   "id": "6c1b519c",
   "metadata": {},
   "outputs": [],
   "source": [
    "model = Sequential()\n",
    "model.add(Dense(32, activation='relu', input_dim=100))\n",
    "model.add(Dense(1, activation='sigmoid'))\n",
    "model.compile(optimizer='rmsprop',\n",
    "              loss='binary_crossentropy',\n",
    "              metrics=['accuracy'])\n",
    "\n",
    "# Generate dummy data\n",
    "import numpy as np\n",
    "data = np.random.random((1000, 100))\n",
    "labels = np.random.randint(2, size=(1000, 1))\n",
    "\n",
    "# Train the model, iterating on the data in batches of 32 samples\n",
    "model.fit(data, labels, epochs=10, batch_size=32)"
   ]
  },
  {
   "cell_type": "code",
   "execution_count": null,
   "id": "9019352c",
   "metadata": {},
   "outputs": [],
   "source": []
  },
  {
   "cell_type": "code",
   "execution_count": null,
   "id": "83ebf8d1",
   "metadata": {},
   "outputs": [],
   "source": []
  },
  {
   "cell_type": "code",
   "execution_count": null,
   "id": "483822b5",
   "metadata": {},
   "outputs": [],
   "source": []
  }
 ],
 "metadata": {
  "kernelspec": {
   "display_name": "Python 3 (ipykernel)",
   "language": "python",
   "name": "python3"
  },
  "language_info": {
   "codemirror_mode": {
    "name": "ipython",
    "version": 3
   },
   "file_extension": ".py",
   "mimetype": "text/x-python",
   "name": "python",
   "nbconvert_exporter": "python",
   "pygments_lexer": "ipython3",
   "version": "3.8.12"
  }
 },
 "nbformat": 4,
 "nbformat_minor": 5
}
