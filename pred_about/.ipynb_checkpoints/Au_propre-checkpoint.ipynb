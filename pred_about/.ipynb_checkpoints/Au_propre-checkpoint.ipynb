{
 "cells": [
  {
   "cell_type": "code",
   "execution_count": 2,
   "id": "adee9985",
   "metadata": {},
   "outputs": [],
   "source": [
    "import pandas as pd\n",
    "pd.set_option('display.max_columns', None)\n",
    "import numpy as np\n",
    "import scipy.stats as stat\n",
    "import scipy as sp\n",
    "import statistics\n",
    "\n",
    "import matplotlib.pyplot as plt\n",
    "from matplotlib import pyplot\n",
    "\n",
    "%matplotlib inline\n",
    "from mpl_toolkits.mplot3d import Axes3D\n",
    "from matplotlib import cm\n",
    "import seaborn as sns\n",
    "\n",
    "import warnings\n",
    "warnings.filterwarnings('ignore')\n",
    "\n",
    "# Modèle de ML\n",
    "from sklearn import linear_model\n",
    "\n",
    "# data pre-processing\n",
    "from sklearn import preprocessing\n",
    "from sklearn.model_selection import train_test_split\n",
    "\n",
    "# Outils score et evaluation de modèle\n",
    "from sklearn.metrics import accuracy_score\n",
    "from sklearn import metrics\n",
    "from sklearn.metrics import classification_report\n",
    "from sklearn.metrics import confusion_matrix\n",
    "\n",
    "from sklearn.metrics import r2_score\n",
    "\n",
    "# Outils optmisation de modèle\n",
    "from sklearn.model_selection import GridSearchCV\n",
    "from sklearn.model_selection import StratifiedKFold\n"
   ]
  },
  {
   "cell_type": "raw",
   "id": "71c66ed3",
   "metadata": {},
   "source": [
    "importation des données \n",
    "transfo des donneés\n",
    "\n",
    "modeles\n",
    "grid search\n",
    "class weight\n",
    "smote\n",
    "stratified Kfold\n"
   ]
  },
  {
   "cell_type": "code",
   "execution_count": 3,
   "id": "b08e39e4",
   "metadata": {},
   "outputs": [
    {
     "data": {
      "text/html": [
       "<div>\n",
       "<style scoped>\n",
       "    .dataframe tbody tr th:only-of-type {\n",
       "        vertical-align: middle;\n",
       "    }\n",
       "\n",
       "    .dataframe tbody tr th {\n",
       "        vertical-align: top;\n",
       "    }\n",
       "\n",
       "    .dataframe thead th {\n",
       "        text-align: right;\n",
       "    }\n",
       "</style>\n",
       "<table border=\"1\" class=\"dataframe\">\n",
       "  <thead>\n",
       "    <tr style=\"text-align: right;\">\n",
       "      <th></th>\n",
       "      <th>Unnamed: 0</th>\n",
       "      <th>DateMandatInstant</th>\n",
       "      <th>DateMandatSeason</th>\n",
       "      <th>DateMandatYear</th>\n",
       "      <th>DateMandatMonth</th>\n",
       "      <th>DateMandatWeek</th>\n",
       "      <th>MandatId</th>\n",
       "      <th>UrlMandat</th>\n",
       "      <th>DateMandat</th>\n",
       "      <th>StatutMandat</th>\n",
       "      <th>DateCompromis</th>\n",
       "      <th>BudgetMaxEuro</th>\n",
       "      <th>TypeBien</th>\n",
       "      <th>TypeProjet</th>\n",
       "      <th>SurfaceMin</th>\n",
       "      <th>NombrePieces</th>\n",
       "      <th>NombreChambres</th>\n",
       "      <th>Ville</th>\n",
       "      <th>CodePostal</th>\n",
       "      <th>Departement</th>\n",
       "      <th>Region</th>\n",
       "      <th>NombreDeBiensTrouves</th>\n",
       "      <th>NombreDeBiensPublies</th>\n",
       "      <th>NombreDeBiensSelectionnes</th>\n",
       "      <th>NombreDeBiensAVisiter</th>\n",
       "      <th>NombreDeBiensVisites</th>\n",
       "      <th>NombreDeBiensRejetes</th>\n",
       "      <th>NombreDeBiensActesOuCompromis</th>\n",
       "      <th>DatePremierePublicationDeBien</th>\n",
       "      <th>DateDernierePublicationDeBien</th>\n",
       "      <th>DelaiPremierePublicationDeBien</th>\n",
       "      <th>DatePremiereVisite</th>\n",
       "      <th>DelaiPremiereVisite</th>\n",
       "    </tr>\n",
       "  </thead>\n",
       "  <tbody>\n",
       "    <tr>\n",
       "      <th>0</th>\n",
       "      <td>0</td>\n",
       "      <td>1</td>\n",
       "      <td>2</td>\n",
       "      <td>0</td>\n",
       "      <td>4</td>\n",
       "      <td>17</td>\n",
       "      <td>2</td>\n",
       "      <td>https://monespace.net-acheteur.com/Spa/app/#/m...</td>\n",
       "      <td>2012-04-26</td>\n",
       "      <td>0</td>\n",
       "      <td>NaN</td>\n",
       "      <td>280000</td>\n",
       "      <td>1</td>\n",
       "      <td>0</td>\n",
       "      <td>0</td>\n",
       "      <td>5</td>\n",
       "      <td>2</td>\n",
       "      <td>Nimes</td>\n",
       "      <td>30000</td>\n",
       "      <td>Gard</td>\n",
       "      <td>Languedoc-Roussillon</td>\n",
       "      <td>39</td>\n",
       "      <td>32</td>\n",
       "      <td>5</td>\n",
       "      <td>4</td>\n",
       "      <td>1</td>\n",
       "      <td>18</td>\n",
       "      <td>0</td>\n",
       "      <td>2012-05-21</td>\n",
       "      <td>2015-10-09</td>\n",
       "      <td>25.0</td>\n",
       "      <td>NaN</td>\n",
       "      <td>NaN</td>\n",
       "    </tr>\n",
       "    <tr>\n",
       "      <th>1</th>\n",
       "      <td>1</td>\n",
       "      <td>1</td>\n",
       "      <td>2</td>\n",
       "      <td>0</td>\n",
       "      <td>4</td>\n",
       "      <td>17</td>\n",
       "      <td>2</td>\n",
       "      <td>https://monespace.net-acheteur.com/Spa/app/#/m...</td>\n",
       "      <td>2012-04-26</td>\n",
       "      <td>0</td>\n",
       "      <td>NaN</td>\n",
       "      <td>280000</td>\n",
       "      <td>1</td>\n",
       "      <td>0</td>\n",
       "      <td>0</td>\n",
       "      <td>5</td>\n",
       "      <td>2</td>\n",
       "      <td>Montpellier</td>\n",
       "      <td>34000</td>\n",
       "      <td>Hérault</td>\n",
       "      <td>Languedoc-Roussillon</td>\n",
       "      <td>39</td>\n",
       "      <td>32</td>\n",
       "      <td>5</td>\n",
       "      <td>4</td>\n",
       "      <td>1</td>\n",
       "      <td>18</td>\n",
       "      <td>0</td>\n",
       "      <td>2012-05-21</td>\n",
       "      <td>2015-10-09</td>\n",
       "      <td>25.0</td>\n",
       "      <td>NaN</td>\n",
       "      <td>NaN</td>\n",
       "    </tr>\n",
       "  </tbody>\n",
       "</table>\n",
       "</div>"
      ],
      "text/plain": [
       "   Unnamed: 0  DateMandatInstant  DateMandatSeason  DateMandatYear  \\\n",
       "0           0                  1                 2               0   \n",
       "1           1                  1                 2               0   \n",
       "\n",
       "   DateMandatMonth  DateMandatWeek  MandatId  \\\n",
       "0                4              17         2   \n",
       "1                4              17         2   \n",
       "\n",
       "                                           UrlMandat  DateMandat  \\\n",
       "0  https://monespace.net-acheteur.com/Spa/app/#/m...  2012-04-26   \n",
       "1  https://monespace.net-acheteur.com/Spa/app/#/m...  2012-04-26   \n",
       "\n",
       "   StatutMandat DateCompromis  BudgetMaxEuro  TypeBien  TypeProjet  \\\n",
       "0             0           NaN         280000         1           0   \n",
       "1             0           NaN         280000         1           0   \n",
       "\n",
       "   SurfaceMin  NombrePieces  NombreChambres        Ville  CodePostal  \\\n",
       "0           0             5               2        Nimes       30000   \n",
       "1           0             5               2  Montpellier       34000   \n",
       "\n",
       "  Departement                Region  NombreDeBiensTrouves  \\\n",
       "0        Gard  Languedoc-Roussillon                    39   \n",
       "1     Hérault  Languedoc-Roussillon                    39   \n",
       "\n",
       "   NombreDeBiensPublies  NombreDeBiensSelectionnes  NombreDeBiensAVisiter  \\\n",
       "0                    32                          5                      4   \n",
       "1                    32                          5                      4   \n",
       "\n",
       "   NombreDeBiensVisites  NombreDeBiensRejetes  NombreDeBiensActesOuCompromis  \\\n",
       "0                     1                    18                              0   \n",
       "1                     1                    18                              0   \n",
       "\n",
       "  DatePremierePublicationDeBien DateDernierePublicationDeBien  \\\n",
       "0                    2012-05-21                    2015-10-09   \n",
       "1                    2012-05-21                    2015-10-09   \n",
       "\n",
       "   DelaiPremierePublicationDeBien DatePremiereVisite  DelaiPremiereVisite  \n",
       "0                            25.0                NaN                  NaN  \n",
       "1                            25.0                NaN                  NaN  "
      ]
     },
     "execution_count": 3,
     "metadata": {},
     "output_type": "execute_result"
    }
   ],
   "source": [
    "df = pd.read_csv(\"test.csv\", sep = \",\")\n",
    "df.head(2)"
   ]
  },
  {
   "cell_type": "code",
   "execution_count": 4,
   "id": "8ca286c3",
   "metadata": {},
   "outputs": [],
   "source": [
    "df.drop(\"Unnamed: 0\", axis = 1, inplace = True)"
   ]
  },
  {
   "cell_type": "code",
   "execution_count": 5,
   "id": "724d5886",
   "metadata": {},
   "outputs": [
    {
     "name": "stdout",
     "output_type": "stream",
     "text": [
      "<class 'pandas.core.frame.DataFrame'>\n",
      "RangeIndex: 51817 entries, 0 to 51816\n",
      "Data columns (total 32 columns):\n",
      " #   Column                          Non-Null Count  Dtype  \n",
      "---  ------                          --------------  -----  \n",
      " 0   DateMandatInstant               51817 non-null  int64  \n",
      " 1   DateMandatSeason                51817 non-null  int64  \n",
      " 2   DateMandatYear                  51817 non-null  int64  \n",
      " 3   DateMandatMonth                 51817 non-null  int64  \n",
      " 4   DateMandatWeek                  51817 non-null  int64  \n",
      " 5   MandatId                        51817 non-null  int64  \n",
      " 6   UrlMandat                       51817 non-null  object \n",
      " 7   DateMandat                      51817 non-null  object \n",
      " 8   StatutMandat                    51817 non-null  int64  \n",
      " 9   DateCompromis                   6645 non-null   object \n",
      " 10  BudgetMaxEuro                   51817 non-null  int64  \n",
      " 11  TypeBien                        51817 non-null  int64  \n",
      " 12  TypeProjet                      51817 non-null  int64  \n",
      " 13  SurfaceMin                      51817 non-null  int64  \n",
      " 14  NombrePieces                    51817 non-null  int64  \n",
      " 15  NombreChambres                  51817 non-null  int64  \n",
      " 16  Ville                           51817 non-null  object \n",
      " 17  CodePostal                      51817 non-null  int64  \n",
      " 18  Departement                     51817 non-null  object \n",
      " 19  Region                          51817 non-null  object \n",
      " 20  NombreDeBiensTrouves            51817 non-null  int64  \n",
      " 21  NombreDeBiensPublies            51817 non-null  int64  \n",
      " 22  NombreDeBiensSelectionnes       51817 non-null  int64  \n",
      " 23  NombreDeBiensAVisiter           51817 non-null  int64  \n",
      " 24  NombreDeBiensVisites            51817 non-null  int64  \n",
      " 25  NombreDeBiensRejetes            51817 non-null  int64  \n",
      " 26  NombreDeBiensActesOuCompromis   51817 non-null  int64  \n",
      " 27  DatePremierePublicationDeBien   23422 non-null  object \n",
      " 28  DateDernierePublicationDeBien   23422 non-null  object \n",
      " 29  DelaiPremierePublicationDeBien  23422 non-null  float64\n",
      " 30  DatePremiereVisite              12765 non-null  object \n",
      " 31  DelaiPremiereVisite             12765 non-null  float64\n",
      "dtypes: float64(2), int64(21), object(9)\n",
      "memory usage: 12.7+ MB\n"
     ]
    }
   ],
   "source": [
    "df.info()"
   ]
  },
  {
   "cell_type": "code",
   "execution_count": 6,
   "id": "b23d464b",
   "metadata": {},
   "outputs": [
    {
     "data": {
      "text/html": [
       "<div>\n",
       "<style scoped>\n",
       "    .dataframe tbody tr th:only-of-type {\n",
       "        vertical-align: middle;\n",
       "    }\n",
       "\n",
       "    .dataframe tbody tr th {\n",
       "        vertical-align: top;\n",
       "    }\n",
       "\n",
       "    .dataframe thead th {\n",
       "        text-align: right;\n",
       "    }\n",
       "</style>\n",
       "<table border=\"1\" class=\"dataframe\">\n",
       "  <thead>\n",
       "    <tr style=\"text-align: right;\">\n",
       "      <th></th>\n",
       "      <th>DateMandatInstant</th>\n",
       "      <th>DateMandatSeason</th>\n",
       "      <th>DateMandatYear</th>\n",
       "      <th>DateMandatMonth</th>\n",
       "      <th>DateMandatWeek</th>\n",
       "      <th>MandatId</th>\n",
       "      <th>UrlMandat</th>\n",
       "      <th>DateMandat</th>\n",
       "      <th>StatutMandat</th>\n",
       "      <th>DateCompromis</th>\n",
       "      <th>BudgetMaxEuro</th>\n",
       "      <th>TypeBien</th>\n",
       "      <th>TypeProjet</th>\n",
       "      <th>SurfaceMin</th>\n",
       "      <th>NombrePieces</th>\n",
       "      <th>NombreChambres</th>\n",
       "      <th>Ville</th>\n",
       "      <th>CodePostal</th>\n",
       "      <th>Departement</th>\n",
       "      <th>Region</th>\n",
       "      <th>NombreDeBiensTrouves</th>\n",
       "      <th>NombreDeBiensPublies</th>\n",
       "      <th>NombreDeBiensSelectionnes</th>\n",
       "      <th>NombreDeBiensAVisiter</th>\n",
       "      <th>NombreDeBiensVisites</th>\n",
       "      <th>NombreDeBiensRejetes</th>\n",
       "      <th>NombreDeBiensActesOuCompromis</th>\n",
       "      <th>DatePremierePublicationDeBien</th>\n",
       "      <th>DateDernierePublicationDeBien</th>\n",
       "      <th>DelaiPremierePublicationDeBien</th>\n",
       "      <th>DatePremiereVisite</th>\n",
       "      <th>DelaiPremiereVisite</th>\n",
       "    </tr>\n",
       "  </thead>\n",
       "  <tbody>\n",
       "    <tr>\n",
       "      <th>0</th>\n",
       "      <td>1</td>\n",
       "      <td>2</td>\n",
       "      <td>0</td>\n",
       "      <td>4</td>\n",
       "      <td>17</td>\n",
       "      <td>2</td>\n",
       "      <td>https://monespace.net-acheteur.com/Spa/app/#/m...</td>\n",
       "      <td>2012-04-26</td>\n",
       "      <td>0</td>\n",
       "      <td>NaN</td>\n",
       "      <td>280000</td>\n",
       "      <td>1</td>\n",
       "      <td>0</td>\n",
       "      <td>0</td>\n",
       "      <td>5</td>\n",
       "      <td>2</td>\n",
       "      <td>Nimes</td>\n",
       "      <td>30000</td>\n",
       "      <td>Gard</td>\n",
       "      <td>Languedoc-Roussillon</td>\n",
       "      <td>39</td>\n",
       "      <td>32</td>\n",
       "      <td>5</td>\n",
       "      <td>4</td>\n",
       "      <td>1</td>\n",
       "      <td>18</td>\n",
       "      <td>0</td>\n",
       "      <td>2012-05-21</td>\n",
       "      <td>2015-10-09</td>\n",
       "      <td>25.0</td>\n",
       "      <td>NaN</td>\n",
       "      <td>NaN</td>\n",
       "    </tr>\n",
       "    <tr>\n",
       "      <th>1</th>\n",
       "      <td>1</td>\n",
       "      <td>2</td>\n",
       "      <td>0</td>\n",
       "      <td>4</td>\n",
       "      <td>17</td>\n",
       "      <td>2</td>\n",
       "      <td>https://monespace.net-acheteur.com/Spa/app/#/m...</td>\n",
       "      <td>2012-04-26</td>\n",
       "      <td>0</td>\n",
       "      <td>NaN</td>\n",
       "      <td>280000</td>\n",
       "      <td>1</td>\n",
       "      <td>0</td>\n",
       "      <td>0</td>\n",
       "      <td>5</td>\n",
       "      <td>2</td>\n",
       "      <td>Montpellier</td>\n",
       "      <td>34000</td>\n",
       "      <td>Hérault</td>\n",
       "      <td>Languedoc-Roussillon</td>\n",
       "      <td>39</td>\n",
       "      <td>32</td>\n",
       "      <td>5</td>\n",
       "      <td>4</td>\n",
       "      <td>1</td>\n",
       "      <td>18</td>\n",
       "      <td>0</td>\n",
       "      <td>2012-05-21</td>\n",
       "      <td>2015-10-09</td>\n",
       "      <td>25.0</td>\n",
       "      <td>NaN</td>\n",
       "      <td>NaN</td>\n",
       "    </tr>\n",
       "    <tr>\n",
       "      <th>2</th>\n",
       "      <td>1</td>\n",
       "      <td>2</td>\n",
       "      <td>0</td>\n",
       "      <td>4</td>\n",
       "      <td>17</td>\n",
       "      <td>3</td>\n",
       "      <td>https://monespace.net-acheteur.com/Spa/app/#/m...</td>\n",
       "      <td>2012-04-26</td>\n",
       "      <td>0</td>\n",
       "      <td>NaN</td>\n",
       "      <td>300000</td>\n",
       "      <td>0</td>\n",
       "      <td>0</td>\n",
       "      <td>70</td>\n",
       "      <td>3</td>\n",
       "      <td>2</td>\n",
       "      <td>Montpellier</td>\n",
       "      <td>34000</td>\n",
       "      <td>Hérault</td>\n",
       "      <td>Languedoc-Roussillon</td>\n",
       "      <td>2</td>\n",
       "      <td>1</td>\n",
       "      <td>0</td>\n",
       "      <td>0</td>\n",
       "      <td>0</td>\n",
       "      <td>0</td>\n",
       "      <td>0</td>\n",
       "      <td>2013-03-07</td>\n",
       "      <td>2013-03-07</td>\n",
       "      <td>315.0</td>\n",
       "      <td>NaN</td>\n",
       "      <td>NaN</td>\n",
       "    </tr>\n",
       "    <tr>\n",
       "      <th>3</th>\n",
       "      <td>2</td>\n",
       "      <td>2</td>\n",
       "      <td>0</td>\n",
       "      <td>4</td>\n",
       "      <td>17</td>\n",
       "      <td>5</td>\n",
       "      <td>https://monespace.net-acheteur.com/Spa/app/#/m...</td>\n",
       "      <td>2012-04-27</td>\n",
       "      <td>0</td>\n",
       "      <td>NaN</td>\n",
       "      <td>250000</td>\n",
       "      <td>0</td>\n",
       "      <td>1</td>\n",
       "      <td>60</td>\n",
       "      <td>3</td>\n",
       "      <td>2</td>\n",
       "      <td>Montpellier</td>\n",
       "      <td>34000</td>\n",
       "      <td>Hérault</td>\n",
       "      <td>Languedoc-Roussillon</td>\n",
       "      <td>18</td>\n",
       "      <td>17</td>\n",
       "      <td>2</td>\n",
       "      <td>0</td>\n",
       "      <td>1</td>\n",
       "      <td>11</td>\n",
       "      <td>0</td>\n",
       "      <td>2012-05-03</td>\n",
       "      <td>2014-11-18</td>\n",
       "      <td>6.0</td>\n",
       "      <td>NaN</td>\n",
       "      <td>NaN</td>\n",
       "    </tr>\n",
       "    <tr>\n",
       "      <th>4</th>\n",
       "      <td>7</td>\n",
       "      <td>2</td>\n",
       "      <td>0</td>\n",
       "      <td>5</td>\n",
       "      <td>18</td>\n",
       "      <td>12</td>\n",
       "      <td>https://monespace.net-acheteur.com/Spa/app/#/m...</td>\n",
       "      <td>2012-05-02</td>\n",
       "      <td>0</td>\n",
       "      <td>NaN</td>\n",
       "      <td>250000</td>\n",
       "      <td>1</td>\n",
       "      <td>0</td>\n",
       "      <td>80</td>\n",
       "      <td>4</td>\n",
       "      <td>3</td>\n",
       "      <td>Frontignan</td>\n",
       "      <td>34110</td>\n",
       "      <td>Hérault</td>\n",
       "      <td>Languedoc-Roussillon</td>\n",
       "      <td>0</td>\n",
       "      <td>0</td>\n",
       "      <td>0</td>\n",
       "      <td>0</td>\n",
       "      <td>0</td>\n",
       "      <td>0</td>\n",
       "      <td>0</td>\n",
       "      <td>NaN</td>\n",
       "      <td>NaN</td>\n",
       "      <td>NaN</td>\n",
       "      <td>NaN</td>\n",
       "      <td>NaN</td>\n",
       "    </tr>\n",
       "  </tbody>\n",
       "</table>\n",
       "</div>"
      ],
      "text/plain": [
       "   DateMandatInstant  DateMandatSeason  DateMandatYear  DateMandatMonth  \\\n",
       "0                  1                 2               0                4   \n",
       "1                  1                 2               0                4   \n",
       "2                  1                 2               0                4   \n",
       "3                  2                 2               0                4   \n",
       "4                  7                 2               0                5   \n",
       "\n",
       "   DateMandatWeek  MandatId  \\\n",
       "0              17         2   \n",
       "1              17         2   \n",
       "2              17         3   \n",
       "3              17         5   \n",
       "4              18        12   \n",
       "\n",
       "                                           UrlMandat  DateMandat  \\\n",
       "0  https://monespace.net-acheteur.com/Spa/app/#/m...  2012-04-26   \n",
       "1  https://monespace.net-acheteur.com/Spa/app/#/m...  2012-04-26   \n",
       "2  https://monespace.net-acheteur.com/Spa/app/#/m...  2012-04-26   \n",
       "3  https://monespace.net-acheteur.com/Spa/app/#/m...  2012-04-27   \n",
       "4  https://monespace.net-acheteur.com/Spa/app/#/m...  2012-05-02   \n",
       "\n",
       "   StatutMandat DateCompromis  BudgetMaxEuro  TypeBien  TypeProjet  \\\n",
       "0             0           NaN         280000         1           0   \n",
       "1             0           NaN         280000         1           0   \n",
       "2             0           NaN         300000         0           0   \n",
       "3             0           NaN         250000         0           1   \n",
       "4             0           NaN         250000         1           0   \n",
       "\n",
       "   SurfaceMin  NombrePieces  NombreChambres        Ville  CodePostal  \\\n",
       "0           0             5               2        Nimes       30000   \n",
       "1           0             5               2  Montpellier       34000   \n",
       "2          70             3               2  Montpellier       34000   \n",
       "3          60             3               2  Montpellier       34000   \n",
       "4          80             4               3   Frontignan       34110   \n",
       "\n",
       "  Departement                Region  NombreDeBiensTrouves  \\\n",
       "0        Gard  Languedoc-Roussillon                    39   \n",
       "1     Hérault  Languedoc-Roussillon                    39   \n",
       "2     Hérault  Languedoc-Roussillon                     2   \n",
       "3     Hérault  Languedoc-Roussillon                    18   \n",
       "4     Hérault  Languedoc-Roussillon                     0   \n",
       "\n",
       "   NombreDeBiensPublies  NombreDeBiensSelectionnes  NombreDeBiensAVisiter  \\\n",
       "0                    32                          5                      4   \n",
       "1                    32                          5                      4   \n",
       "2                     1                          0                      0   \n",
       "3                    17                          2                      0   \n",
       "4                     0                          0                      0   \n",
       "\n",
       "   NombreDeBiensVisites  NombreDeBiensRejetes  NombreDeBiensActesOuCompromis  \\\n",
       "0                     1                    18                              0   \n",
       "1                     1                    18                              0   \n",
       "2                     0                     0                              0   \n",
       "3                     1                    11                              0   \n",
       "4                     0                     0                              0   \n",
       "\n",
       "  DatePremierePublicationDeBien DateDernierePublicationDeBien  \\\n",
       "0                    2012-05-21                    2015-10-09   \n",
       "1                    2012-05-21                    2015-10-09   \n",
       "2                    2013-03-07                    2013-03-07   \n",
       "3                    2012-05-03                    2014-11-18   \n",
       "4                           NaN                           NaN   \n",
       "\n",
       "   DelaiPremierePublicationDeBien DatePremiereVisite  DelaiPremiereVisite  \n",
       "0                            25.0                NaN                  NaN  \n",
       "1                            25.0                NaN                  NaN  \n",
       "2                           315.0                NaN                  NaN  \n",
       "3                             6.0                NaN                  NaN  \n",
       "4                             NaN                NaN                  NaN  "
      ]
     },
     "execution_count": 6,
     "metadata": {},
     "output_type": "execute_result"
    }
   ],
   "source": [
    "df.head()"
   ]
  },
  {
   "cell_type": "code",
   "execution_count": 7,
   "id": "abfcd670",
   "metadata": {},
   "outputs": [
    {
     "data": {
      "text/plain": [
       "<AxesSubplot:>"
      ]
     },
     "execution_count": 7,
     "metadata": {},
     "output_type": "execute_result"
    },
    {
     "data": {
      "image/png": "[encoded data removed]",
      "text/plain": [
       "<Figure size 864x576 with 1 Axes>"
      ]
     },
     "metadata": {
      "needs_background": "light"
     },
     "output_type": "display_data"
    }
   ],
   "source": [
    "plt.figure(figsize = (12,8))\n",
    "sns.heatmap(df.isnull() , \n",
    "            yticklabels=False, \n",
    "            cbar=False, \n",
    "            cmap='viridis')"
   ]
  },
  {
   "cell_type": "code",
   "execution_count": 8,
   "id": "2ab5e748",
   "metadata": {},
   "outputs": [],
   "source": [
    "df_test = df.drop([\"DateMandatInstant\", \"DateMandatYear\", \"MandatId\", \"UrlMandat\",\"DateMandat\", \"DateCompromis\", \"Ville\", \"Departement\", \"Region\", \"DatePremierePublicationDeBien\",\"NombreDeBiensTrouves\",\"NombreDeBiensPublies\", \"NombreDeBiensSelectionnes\", \"NombreDeBiensAVisiter\", \"NombreDeBiensVisites\", \"NombreDeBiensRejetes\", \"DatePremierePublicationDeBien\", \"NombreDeBiensActesOuCompromis\", \"DateDernierePublicationDeBien\",\"DelaiPremierePublicationDeBien\", \"DatePremiereVisite\", \"DelaiPremiereVisite\"] , axis = 1, inplace = True)"
   ]
  },
  {
   "cell_type": "code",
   "execution_count": 9,
   "id": "14d667b0",
   "metadata": {},
   "outputs": [],
   "source": [
    "X = df.drop(columns=[\"StatutMandat\"])"
   ]
  },
  {
   "cell_type": "code",
   "execution_count": 10,
   "id": "3cb4bac0",
   "metadata": {},
   "outputs": [
    {
     "data": {
      "text/plain": [
       "(51817, 10)"
      ]
     },
     "execution_count": 10,
     "metadata": {},
     "output_type": "execute_result"
    }
   ],
   "source": [
    "X.shape"
   ]
  },
  {
   "cell_type": "code",
   "execution_count": 11,
   "id": "0f4d82bb",
   "metadata": {},
   "outputs": [
    {
     "data": {
      "text/plain": [
       "Index(['DateMandatSeason', 'DateMandatMonth', 'DateMandatWeek',\n",
       "       'BudgetMaxEuro', 'TypeBien', 'TypeProjet', 'SurfaceMin', 'NombrePieces',\n",
       "       'NombreChambres', 'CodePostal'],\n",
       "      dtype='object')"
      ]
     },
     "execution_count": 11,
     "metadata": {},
     "output_type": "execute_result"
    }
   ],
   "source": [
    "X.columns"
   ]
  },
  {
   "cell_type": "code",
   "execution_count": 12,
   "id": "b1c20831",
   "metadata": {},
   "outputs": [],
   "source": [
    "y = df[\"StatutMandat\"]"
   ]
  },
  {
   "cell_type": "code",
   "execution_count": 13,
   "id": "04587360",
   "metadata": {},
   "outputs": [
    {
     "data": {
      "text/plain": [
       "(51817,)"
      ]
     },
     "execution_count": 13,
     "metadata": {},
     "output_type": "execute_result"
    }
   ],
   "source": [
    "y.shape"
   ]
  },
  {
   "cell_type": "code",
   "execution_count": 14,
   "id": "72d557ce",
   "metadata": {},
   "outputs": [],
   "source": [
    "from sklearn.model_selection import train_test_split\n",
    "X_train, X_test, y_train, y_test = train_test_split(X,y, test_size= 0.2, random_state = 0, shuffle = True)"
   ]
  },
  {
   "cell_type": "code",
   "execution_count": 15,
   "id": "66f7aa84",
   "metadata": {},
   "outputs": [],
   "source": [
    "from sklearn.preprocessing import StandardScaler\n",
    "scaler = StandardScaler()\n",
    "X_train = scaler.fit_transform(X_train)\n",
    "X_test = scaler.transform(X_test)"
   ]
  },
  {
   "cell_type": "markdown",
   "id": "400df2ad",
   "metadata": {},
   "source": [
    "# Regression Logistique simple"
   ]
  },
  {
   "cell_type": "code",
   "execution_count": 36,
   "id": "c9af4c49",
   "metadata": {},
   "outputs": [],
   "source": [
    "from sklearn.linear_model import LogisticRegression\n",
    "lr = LogisticRegression(solver='newton-cg')\n",
    "lr.fit(X_train,y_train)\n",
    "y_lr = lr.predict(X_test)"
   ]
  },
  {
   "cell_type": "code",
   "execution_count": 37,
   "id": "a1aaec34",
   "metadata": {},
   "outputs": [
    {
     "name": "stdout",
     "output_type": "stream",
     "text": [
      "                  precision    recall  f1-score   support\n",
      "\n",
      "  Echec(Class 0)       0.85      1.00      0.92      8798\n",
      "Succès (Class 1)       0.00      0.00      0.00      1566\n",
      "\n",
      "        accuracy                           0.85     10364\n",
      "       macro avg       0.42      0.50      0.46     10364\n",
      "    weighted avg       0.72      0.85      0.78     10364\n",
      "\n"
     ]
    }
   ],
   "source": [
    "from sklearn.metrics import classification_report\n",
    "print(classification_report(y_test,y_lr,target_names = ['Echec(Class 0)','Succès (Class 1)']))"
   ]
  },
  {
   "cell_type": "code",
   "execution_count": 35,
   "id": "10cd7120",
   "metadata": {},
   "outputs": [
    {
     "data": {
      "text/plain": [
       "<AxesSubplot:>"
      ]
     },
     "execution_count": 35,
     "metadata": {},
     "output_type": "execute_result"
    },
    {
     "data": {
      "image/png": "[encoded data removed]",
      "text/plain": [
       "<Figure size 432x288 with 2 Axes>"
      ]
     },
     "metadata": {
      "needs_background": "light"
     },
     "output_type": "display_data"
    }
   ],
   "source": [
    "cm = confusion_matrix(y_test,lr.predict(X_test))\n",
    "sns.heatmap(cm,annot=True,fmt=\"d\")"
   ]
  },
  {
   "cell_type": "code",
   "execution_count": 32,
   "id": "272b17b8",
   "metadata": {},
   "outputs": [],
   "source": [
    "from sklearn.metrics import roc_curve\n",
    "y_pred_proba = lr.predict_proba(X_test)[:,1]\n",
    "fpr, tpr, thresholds = roc_curve(y_test, y_pred_proba)"
   ]
  },
  {
   "cell_type": "code",
   "execution_count": 33,
   "id": "2f5959e0",
   "metadata": {},
   "outputs": [
    {
     "data": {
      "image/png": "[encoded data removed]",
      "text/plain": [
       "<Figure size 432x288 with 1 Axes>"
      ]
     },
     "metadata": {
      "needs_background": "light"
     },
     "output_type": "display_data"
    }
   ],
   "source": [
    "from sklearn.metrics import plot_roc_curve\n",
    "plot_roc_curve(lr, X_train,y_train )\n",
    "plt.plot([0,1],[0,1])\n",
    "plt.xlabel('false positive')\n",
    "plt.ylabel('true positve')\n",
    "plt.title('ROC curve LR')\n",
    "plt.show()"
   ]
  },
  {
   "cell_type": "markdown",
   "id": "be63862a",
   "metadata": {},
   "source": [
    "# GridSearchCv Regression Logistique"
   ]
  },
  {
   "cell_type": "code",
   "execution_count": 65,
   "id": "f43f2574",
   "metadata": {},
   "outputs": [
    {
     "name": "stdout",
     "output_type": "stream",
     "text": [
      "{'C': 0.001, 'penalty': 'l2'}\n"
     ]
    }
   ],
   "source": [
    "from sklearn.model_selection import GridSearchCV\n",
    "\n",
    "lr = LogisticRegression(solver = 'newton-cg')\n",
    "params = {'C': np.logspace(-3, 3, 7) , 'penalty':['l1','l2'] }\n",
    "\n",
    "lr_gs = GridSearchCV(lr, params, cv=10)\n",
    "lr_gs.fit(X_train, y_train)\n",
    "print(lr_gs.best_params_)\n",
    "y_lr_gs = lr_gs.predict(X_test)\n"
   ]
  },
  {
   "cell_type": "code",
   "execution_count": 66,
   "id": "2c31e198",
   "metadata": {},
   "outputs": [
    {
     "name": "stdout",
     "output_type": "stream",
     "text": [
      "                  precision    recall  f1-score   support\n",
      "\n",
      "  échec(Class 0)       0.85      1.00      0.92      8798\n",
      "succès (Class 1)       0.00      0.00      0.00      1566\n",
      "\n",
      "        accuracy                           0.85     10364\n",
      "       macro avg       0.42      0.50      0.46     10364\n",
      "    weighted avg       0.72      0.85      0.78     10364\n",
      "\n"
     ]
    }
   ],
   "source": [
    "from sklearn.metrics import classification_report\n",
    "print(classification_report(y_test, y_lr_gs, target_names = ['échec(Class 0)','succès (Class 1)']))"
   ]
  },
  {
   "cell_type": "markdown",
   "id": "4e9724f0",
   "metadata": {},
   "source": [
    "# Support Vector Machine"
   ]
  },
  {
   "cell_type": "code",
   "execution_count": 38,
   "id": "6161cb47",
   "metadata": {},
   "outputs": [],
   "source": [
    "from sklearn.svm import SVC\n",
    "svm = SVC()\n",
    "svm.fit(X_train, y_train)\n",
    "y_pred=svm.predict(X_test)"
   ]
  },
  {
   "cell_type": "code",
   "execution_count": 39,
   "id": "c4e7b5ac",
   "metadata": {},
   "outputs": [
    {
     "name": "stdout",
     "output_type": "stream",
     "text": [
      "              precision    recall  f1-score   support\n",
      "\n",
      "           0       0.85      1.00      0.92      8798\n",
      "           1       1.00      0.01      0.02      1566\n",
      "\n",
      "    accuracy                           0.85     10364\n",
      "   macro avg       0.93      0.51      0.47     10364\n",
      "weighted avg       0.87      0.85      0.78     10364\n",
      "\n"
     ]
    }
   ],
   "source": [
    "from sklearn.metrics import classification_report\n",
    "print(classification_report(y_test,y_pred))"
   ]
  },
  {
   "cell_type": "code",
   "execution_count": 41,
   "id": "fe80551b",
   "metadata": {},
   "outputs": [
    {
     "data": {
      "text/plain": [
       "<AxesSubplot:>"
      ]
     },
     "execution_count": 41,
     "metadata": {},
     "output_type": "execute_result"
    },
    {
     "data": {
      "image/png": "[encoded data removed]",
      "text/plain": [
       "<Figure size 432x288 with 2 Axes>"
      ]
     },
     "metadata": {
      "needs_background": "light"
     },
     "output_type": "display_data"
    }
   ],
   "source": [
    "cm = confusion_matrix(y_test,svm.predict(X_test))\n",
    "sns.heatmap(cm,annot=True,fmt=\"d\")"
   ]
  },
  {
   "cell_type": "code",
   "execution_count": 43,
   "id": "5c462bfb",
   "metadata": {},
   "outputs": [
    {
     "data": {
      "image/png": "[encoded data removed]",
      "text/plain": [
       "<Figure size 432x288 with 1 Axes>"
      ]
     },
     "metadata": {
      "needs_background": "light"
     },
     "output_type": "display_data"
    }
   ],
   "source": [
    "from sklearn.metrics import plot_roc_curve\n",
    "plot_roc_curve(svm, X_train,y_train )\n",
    "plt.plot([0,1],[0,1])\n",
    "plt.xlabel('false positive')\n",
    "plt.ylabel('true positve')\n",
    "plt.title('ROC curve svm')\n",
    "plt.show()"
   ]
  },
  {
   "cell_type": "markdown",
   "id": "2eb5902a",
   "metadata": {},
   "source": [
    "# Grid Search CV SVM"
   ]
  },
  {
   "cell_type": "code",
   "execution_count": 70,
   "id": "cfbf9586",
   "metadata": {},
   "outputs": [
    {
     "data": {
      "text/plain": [
       "dict_keys(['cv', 'error_score', 'estimator__C', 'estimator__class_weight', 'estimator__dual', 'estimator__fit_intercept', 'estimator__intercept_scaling', 'estimator__l1_ratio', 'estimator__max_iter', 'estimator__multi_class', 'estimator__n_jobs', 'estimator__penalty', 'estimator__random_state', 'estimator__solver', 'estimator__tol', 'estimator__verbose', 'estimator__warm_start', 'estimator', 'n_jobs', 'param_grid', 'pre_dispatch', 'refit', 'return_train_score', 'scoring', 'verbose'])"
      ]
     },
     "execution_count": 70,
     "metadata": {},
     "output_type": "execute_result"
    }
   ],
   "source": [
    "svm_gs.get_params().keys()"
   ]
  },
  {
   "cell_type": "code",
   "execution_count": null,
   "id": "b63c6623",
   "metadata": {},
   "outputs": [],
   "source": [
    "from sklearn.model_selection import GridSearchCV\n",
    "\n",
    "svm_gs = SVC()\n",
    "params = {'C': [0.1, 1, 10, 100, 1000],\n",
    "              'gamma': [1, 0.1, 0.01, 0.001, 0.0001],\n",
    "              'kernel': ['rbf']}\n",
    "\n",
    "svm_gs = GridSearchCV(svm_gs, params, refit = True, verbose = 3)\n",
    "svm_gs.fit(X_train, y_train)\n",
    "print(svm_gs.best_params_)\n",
    "y_svm_gs = lr_gs.predict(X_test)\n",
    "\n"
   ]
  },
  {
   "cell_type": "code",
   "execution_count": 80,
   "id": "24f13894",
   "metadata": {},
   "outputs": [
    {
     "name": "stdout",
     "output_type": "stream",
     "text": [
      "              precision    recall  f1-score   support\n",
      "\n",
      "           0       0.85      1.00      0.92      8798\n",
      "           1       1.00      0.01      0.02      1566\n",
      "\n",
      "    accuracy                           0.85     10364\n",
      "   macro avg       0.93      0.51      0.47     10364\n",
      "weighted avg       0.87      0.85      0.78     10364\n",
      "\n"
     ]
    }
   ],
   "source": [
    "from sklearn.metrics import classification_report\n",
    "print(classification_report(y_test,y_pred))"
   ]
  },
  {
   "cell_type": "code",
   "execution_count": 81,
   "id": "0d2a16e6",
   "metadata": {},
   "outputs": [
    {
     "data": {
      "text/plain": [
       "<AxesSubplot:>"
      ]
     },
     "execution_count": 81,
     "metadata": {},
     "output_type": "execute_result"
    },
    {
     "data": {
      "image/png": "[encoded data removed]",
      "text/plain": [
       "<Figure size 432x288 with 2 Axes>"
      ]
     },
     "metadata": {
      "needs_background": "light"
     },
     "output_type": "display_data"
    }
   ],
   "source": [
    "cm = confusion_matrix(y_test,svm_gs.predict(X_test))\n",
    "sns.heatmap(cm,annot=True,fmt=\"d\")"
   ]
  },
  {
   "cell_type": "code",
   "execution_count": 82,
   "id": "b496cb6f",
   "metadata": {},
   "outputs": [
    {
     "data": {
      "image/png": "[encoded data removed]",
      "text/plain": [
       "<Figure size 432x288 with 1 Axes>"
      ]
     },
     "metadata": {
      "needs_background": "light"
     },
     "output_type": "display_data"
    }
   ],
   "source": [
    "from sklearn.metrics import plot_roc_curve\n",
    "plot_roc_curve(svm_gs, X_train,y_train )\n",
    "plt.plot([0,1],[0,1])\n",
    "plt.xlabel('false positive')\n",
    "plt.ylabel('true positve')\n",
    "plt.title('ROC curve svm')\n",
    "plt.show()"
   ]
  },
  {
   "cell_type": "markdown",
   "id": "6a335d63",
   "metadata": {},
   "source": [
    "# KNN"
   ]
  },
  {
   "cell_type": "code",
   "execution_count": 44,
   "id": "6cdc1a90",
   "metadata": {},
   "outputs": [],
   "source": [
    "from sklearn.neighbors import KNeighborsClassifier\n",
    "knn = KNeighborsClassifier()\n",
    "knn.fit(X_train, y_train)\n",
    "y_knn = knn.predict(X_test)"
   ]
  },
  {
   "cell_type": "code",
   "execution_count": 45,
   "id": "dfa014ff",
   "metadata": {},
   "outputs": [
    {
     "name": "stdout",
     "output_type": "stream",
     "text": [
      "                  precision    recall  f1-score   support\n",
      "\n",
      "  échec(Class 0)       0.95      0.96      0.95      8798\n",
      "succès (Class 1)       0.73      0.69      0.71      1566\n",
      "\n",
      "        accuracy                           0.92     10364\n",
      "       macro avg       0.84      0.82      0.83     10364\n",
      "    weighted avg       0.91      0.92      0.91     10364\n",
      "\n"
     ]
    }
   ],
   "source": [
    "from sklearn.metrics import classification_report\n",
    "print(classification_report(y_test, y_knn, target_names = ['échec(Class 0)','succès (Class 1)']))"
   ]
  },
  {
   "cell_type": "code",
   "execution_count": 46,
   "id": "6d9c3ce8",
   "metadata": {},
   "outputs": [
    {
     "data": {
      "text/plain": [
       "<AxesSubplot:>"
      ]
     },
     "execution_count": 46,
     "metadata": {},
     "output_type": "execute_result"
    },
    {
     "data": {
      "image/png": "[encoded data removed]",
      "text/plain": [
       "<Figure size 432x288 with 2 Axes>"
      ]
     },
     "metadata": {
      "needs_background": "light"
     },
     "output_type": "display_data"
    }
   ],
   "source": [
    "cm = confusion_matrix(y_test,knn.predict(X_test))\n",
    "sns.heatmap(cm,annot=True,fmt=\"d\")"
   ]
  },
  {
   "cell_type": "code",
   "execution_count": 48,
   "id": "40191cf2",
   "metadata": {},
   "outputs": [
    {
     "data": {
      "image/png": "[encoded data removed]",
      "text/plain": [
       "<Figure size 432x288 with 1 Axes>"
      ]
     },
     "metadata": {
      "needs_background": "light"
     },
     "output_type": "display_data"
    }
   ],
   "source": [
    "from sklearn.metrics import plot_roc_curve\n",
    "plot_roc_curve(knn, X_train,y_train )\n",
    "plt.plot([0,1],[0,1])\n",
    "plt.xlabel('false positive')\n",
    "plt.ylabel('true positve')\n",
    "plt.title('ROC curve knn')\n",
    "plt.show()"
   ]
  },
  {
   "cell_type": "markdown",
   "id": "8442d6a3",
   "metadata": {},
   "source": [
    "# Random Forest Classifier"
   ]
  },
  {
   "cell_type": "code",
   "execution_count": 49,
   "id": "b62426f9",
   "metadata": {},
   "outputs": [],
   "source": [
    "from sklearn.ensemble import RandomForestClassifier\n",
    "rfc = RandomForestClassifier()\n",
    "rfc.fit(X_train, y_train)\n",
    "y_rfc = rfc.predict(X_test)"
   ]
  },
  {
   "cell_type": "code",
   "execution_count": 52,
   "id": "df9620aa",
   "metadata": {},
   "outputs": [
    {
     "name": "stdout",
     "output_type": "stream",
     "text": [
      "                  precision    recall  f1-score   support\n",
      "\n",
      "  échec(Class 0)       0.97      1.00      0.98      8798\n",
      "succès (Class 1)       0.97      0.81      0.89      1566\n",
      "\n",
      "        accuracy                           0.97     10364\n",
      "       macro avg       0.97      0.90      0.93     10364\n",
      "    weighted avg       0.97      0.97      0.97     10364\n",
      "\n"
     ]
    }
   ],
   "source": [
    "from sklearn.metrics import classification_report\n",
    "print(classification_report(y_test, y_rfc, target_names = ['échec(Class 0)','succès (Class 1)']))"
   ]
  },
  {
   "cell_type": "code",
   "execution_count": 53,
   "id": "a93238b5",
   "metadata": {},
   "outputs": [
    {
     "data": {
      "text/plain": [
       "<AxesSubplot:>"
      ]
     },
     "execution_count": 53,
     "metadata": {},
     "output_type": "execute_result"
    },
    {
     "data": {
      "image/png": "[encoded data removed]",
      "text/plain": [
       "<Figure size 432x288 with 2 Axes>"
      ]
     },
     "metadata": {
      "needs_background": "light"
     },
     "output_type": "display_data"
    }
   ],
   "source": [
    "cm = confusion_matrix(y_test,rfc.predict(X_test))\n",
    "sns.heatmap(cm,annot=True,fmt=\"d\")"
   ]
  },
  {
   "cell_type": "code",
   "execution_count": 54,
   "id": "4f076794",
   "metadata": {},
   "outputs": [
    {
     "data": {
      "image/png": "[encoded data removed]",
      "text/plain": [
       "<Figure size 432x288 with 1 Axes>"
      ]
     },
     "metadata": {
      "needs_background": "light"
     },
     "output_type": "display_data"
    }
   ],
   "source": [
    "from sklearn.metrics import plot_roc_curve\n",
    "plot_roc_curve(rfc, X_train,y_train )\n",
    "plt.plot([0,1],[0,1])\n",
    "plt.xlabel('false positive')\n",
    "plt.ylabel('true positve')\n",
    "plt.title('ROC curve rfc')\n",
    "plt.show()"
   ]
  },
  {
   "cell_type": "markdown",
   "id": "4b143513",
   "metadata": {},
   "source": [
    "# XgBoost"
   ]
  },
  {
   "cell_type": "code",
   "execution_count": 59,
   "id": "07d8ed76",
   "metadata": {},
   "outputs": [
    {
     "name": "stdout",
     "output_type": "stream",
     "text": [
      "[12:14:36] WARNING: C:/Users/Administrator/workspace/xgboost-win64_release_1.5.1/src/learner.cc:1115: Starting in XGBoost 1.3.0, the default evaluation metric used with the objective 'binary:logistic' was changed from 'error' to 'logloss'. Explicitly set eval_metric if you'd like to restore the old behavior.\n"
     ]
    }
   ],
   "source": [
    "#import xgboost as xgb\n",
    "from xgboost import XGBClassifier\n",
    "\n",
    "xgb = XGBClassifier(objective='binary:logistic')\n",
    "xgb.fit(X_train, y_train)\n",
    "y_xgb = xgb.predict(X_test)\n"
   ]
  },
  {
   "cell_type": "code",
   "execution_count": 60,
   "id": "74693f58",
   "metadata": {},
   "outputs": [
    {
     "name": "stdout",
     "output_type": "stream",
     "text": [
      "                  precision    recall  f1-score   support\n",
      "\n",
      "  échec(Class 0)       0.88      1.00      0.94      8798\n",
      "succès (Class 1)       0.92      0.25      0.40      1566\n",
      "\n",
      "        accuracy                           0.88     10364\n",
      "       macro avg       0.90      0.62      0.67     10364\n",
      "    weighted avg       0.89      0.88      0.85     10364\n",
      "\n"
     ]
    }
   ],
   "source": [
    "from sklearn.metrics import classification_report\n",
    "print(classification_report(y_test, y_xgb,target_names = ['échec(Class 0)','succès (Class 1)']))"
   ]
  },
  {
   "cell_type": "code",
   "execution_count": 61,
   "id": "447c517c",
   "metadata": {},
   "outputs": [
    {
     "data": {
      "text/plain": [
       "<AxesSubplot:>"
      ]
     },
     "execution_count": 61,
     "metadata": {},
     "output_type": "execute_result"
    },
    {
     "data": {
      "image/png": "[encoded data removed]",
      "text/plain": [
       "<Figure size 432x288 with 2 Axes>"
      ]
     },
     "metadata": {
      "needs_background": "light"
     },
     "output_type": "display_data"
    }
   ],
   "source": [
    "cm = confusion_matrix(y_test,xgb.predict(X_test))\n",
    "sns.heatmap(cm,annot=True,fmt=\"d\") "
   ]
  },
  {
   "cell_type": "code",
   "execution_count": 62,
   "id": "930af10d",
   "metadata": {},
   "outputs": [
    {
     "data": {
      "image/png": "[encoded data removed]",
      "text/plain": [
       "<Figure size 432x288 with 1 Axes>"
      ]
     },
     "metadata": {
      "needs_background": "light"
     },
     "output_type": "display_data"
    }
   ],
   "source": [
    "from sklearn.metrics import plot_roc_curve\n",
    "plot_roc_curve(xgb, X_train,y_train )\n",
    "plt.plot([0,1],[0,1])\n",
    "plt.xlabel('false positive')\n",
    "plt.ylabel('true positve')\n",
    "plt.title('ROC curve xgb')\n",
    "plt.show()"
   ]
  },
  {
   "cell_type": "code",
   "execution_count": null,
   "id": "6927f411",
   "metadata": {},
   "outputs": [],
   "source": []
  }
 ],
 "metadata": {
  "kernelspec": {
   "display_name": "Python 3 (ipykernel)",
   "language": "python",
   "name": "python3"
  },
  "language_info": {
   "codemirror_mode": {
    "name": "ipython",
    "version": 3
   },
   "file_extension": ".py",
   "mimetype": "text/x-python",
   "name": "python",
   "nbconvert_exporter": "python",
   "pygments_lexer": "ipython3",
   "version": "3.8.12"
  }
 },
 "nbformat": 4,
 "nbformat_minor": 5
}
