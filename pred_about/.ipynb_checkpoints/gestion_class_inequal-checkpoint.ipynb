{
 "cells": [
  {
   "cell_type": "markdown",
   "id": "45968e15",
   "metadata": {},
   "source": [
    "# Scoring aboutissement mandat"
   ]
  },
  {
   "cell_type": "markdown",
   "id": "8cbcfc35",
   "metadata": {},
   "source": [
    "Librairies manipulation données"
   ]
  },
  {
   "cell_type": "code",
   "execution_count": 2,
   "id": "6877f9d8",
   "metadata": {},
   "outputs": [],
   "source": [
    "import pandas as pd\n",
    "import numpy as np\n",
    "import scipy.stats as stat\n",
    "import scipy as sp\n",
    "import statistics"
   ]
  },
  {
   "cell_type": "markdown",
   "id": "09297866",
   "metadata": {},
   "source": [
    "Librairies visualisation données"
   ]
  },
  {
   "cell_type": "code",
   "execution_count": 3,
   "id": "69fb5ed1",
   "metadata": {},
   "outputs": [],
   "source": [
    "import matplotlib.pyplot as plt\n",
    "%matplotlib inline\n",
    "from mpl_toolkits.mplot3d import Axes3D\n",
    "from matplotlib import cm\n",
    "import seaborn as sns\n",
    "\n",
    "import warnings\n",
    "warnings.filterwarnings('ignore')"
   ]
  },
  {
   "cell_type": "markdown",
   "id": "d81f7756",
   "metadata": {},
   "source": [
    "Librairie modèle de ML"
   ]
  },
  {
   "cell_type": "code",
   "execution_count": 4,
   "id": "e38f8c6f",
   "metadata": {},
   "outputs": [],
   "source": [
    "# Modèle de ML\n",
    "from sklearn import linear_model\n",
    "\n",
    "# data pre-processing\n",
    "from sklearn import preprocessing\n",
    "from sklearn.model_selection import train_test_split\n",
    "\n",
    "# Outils score et evaluation de modèle\n",
    "from sklearn.metrics import accuracy_score\n",
    "from sklearn import metrics\n",
    "from sklearn.metrics import classification_report\n",
    "from sklearn.metrics import confusion_matrix\n",
    "\n",
    "from sklearn.metrics import r2_score\n",
    "\n",
    "# Outils optmisation de modèle\n",
    "from sklearn.model_selection import GridSearchCV"
   ]
  },
  {
   "cell_type": "code",
   "execution_count": 5,
   "id": "263e2972",
   "metadata": {},
   "outputs": [],
   "source": [
    "df = pd.read_csv(\"fetch-data.csv\")"
   ]
  },
  {
   "cell_type": "code",
   "execution_count": 6,
   "id": "7cf84066",
   "metadata": {},
   "outputs": [
    {
     "data": {
      "text/html": [
       "<div>\n",
       "<style scoped>\n",
       "    .dataframe tbody tr th:only-of-type {\n",
       "        vertical-align: middle;\n",
       "    }\n",
       "\n",
       "    .dataframe tbody tr th {\n",
       "        vertical-align: top;\n",
       "    }\n",
       "\n",
       "    .dataframe thead th {\n",
       "        text-align: right;\n",
       "    }\n",
       "</style>\n",
       "<table border=\"1\" class=\"dataframe\">\n",
       "  <thead>\n",
       "    <tr style=\"text-align: right;\">\n",
       "      <th></th>\n",
       "      <th>MandatId</th>\n",
       "      <th>DepartementLocalisationId</th>\n",
       "      <th>StatutMandat</th>\n",
       "      <th>DateMandatSignature</th>\n",
       "      <th>DateCompromisSignature</th>\n",
       "      <th>BudgetMaxEuro</th>\n",
       "      <th>TypeBienEnum</th>\n",
       "      <th>TypeProjet</th>\n",
       "      <th>SurfaceMin</th>\n",
       "      <th>NombrePiecesEnum</th>\n",
       "      <th>NombreChambresEnum</th>\n",
       "      <th>NombreDeBiens</th>\n",
       "    </tr>\n",
       "  </thead>\n",
       "  <tbody>\n",
       "    <tr>\n",
       "      <th>0</th>\n",
       "      <td>83862</td>\n",
       "      <td>70</td>\n",
       "      <td>5</td>\n",
       "      <td>NaN</td>\n",
       "      <td>NaN</td>\n",
       "      <td>350000</td>\n",
       "      <td>2</td>\n",
       "      <td>Résidence principale</td>\n",
       "      <td>27</td>\n",
       "      <td>2</td>\n",
       "      <td>1</td>\n",
       "      <td>0</td>\n",
       "    </tr>\n",
       "    <tr>\n",
       "      <th>1</th>\n",
       "      <td>83847</td>\n",
       "      <td>117</td>\n",
       "      <td>5</td>\n",
       "      <td>NaN</td>\n",
       "      <td>NaN</td>\n",
       "      <td>180000</td>\n",
       "      <td>2</td>\n",
       "      <td>Investissement</td>\n",
       "      <td>50</td>\n",
       "      <td>2</td>\n",
       "      <td>1</td>\n",
       "      <td>0</td>\n",
       "    </tr>\n",
       "    <tr>\n",
       "      <th>2</th>\n",
       "      <td>83808</td>\n",
       "      <td>72</td>\n",
       "      <td>6</td>\n",
       "      <td>2021-07-23</td>\n",
       "      <td>NaN</td>\n",
       "      <td>430000</td>\n",
       "      <td>1</td>\n",
       "      <td>Résidence principale</td>\n",
       "      <td>100</td>\n",
       "      <td>4</td>\n",
       "      <td>3</td>\n",
       "      <td>4</td>\n",
       "    </tr>\n",
       "    <tr>\n",
       "      <th>3</th>\n",
       "      <td>83797</td>\n",
       "      <td>118</td>\n",
       "      <td>6</td>\n",
       "      <td>2021-07-21</td>\n",
       "      <td>NaN</td>\n",
       "      <td>300000</td>\n",
       "      <td>2</td>\n",
       "      <td>Résidence secondaire</td>\n",
       "      <td>30</td>\n",
       "      <td>1</td>\n",
       "      <td>1</td>\n",
       "      <td>3</td>\n",
       "    </tr>\n",
       "    <tr>\n",
       "      <th>4</th>\n",
       "      <td>83779</td>\n",
       "      <td>31</td>\n",
       "      <td>6</td>\n",
       "      <td>2021-07-27</td>\n",
       "      <td>NaN</td>\n",
       "      <td>270000</td>\n",
       "      <td>1</td>\n",
       "      <td>Résidence principale</td>\n",
       "      <td>85</td>\n",
       "      <td>4</td>\n",
       "      <td>3</td>\n",
       "      <td>6</td>\n",
       "    </tr>\n",
       "  </tbody>\n",
       "</table>\n",
       "</div>"
      ],
      "text/plain": [
       "   MandatId  DepartementLocalisationId  StatutMandat DateMandatSignature  \\\n",
       "0     83862                         70             5                 NaN   \n",
       "1     83847                        117             5                 NaN   \n",
       "2     83808                         72             6          2021-07-23   \n",
       "3     83797                        118             6          2021-07-21   \n",
       "4     83779                         31             6          2021-07-27   \n",
       "\n",
       "  DateCompromisSignature  BudgetMaxEuro  TypeBienEnum            TypeProjet  \\\n",
       "0                    NaN         350000             2  Résidence principale   \n",
       "1                    NaN         180000             2        Investissement   \n",
       "2                    NaN         430000             1  Résidence principale   \n",
       "3                    NaN         300000             2  Résidence secondaire   \n",
       "4                    NaN         270000             1  Résidence principale   \n",
       "\n",
       "   SurfaceMin  NombrePiecesEnum  NombreChambresEnum  NombreDeBiens  \n",
       "0          27                 2                   1              0  \n",
       "1          50                 2                   1              0  \n",
       "2         100                 4                   3              4  \n",
       "3          30                 1                   1              3  \n",
       "4          85                 4                   3              6  "
      ]
     },
     "execution_count": 6,
     "metadata": {},
     "output_type": "execute_result"
    }
   ],
   "source": [
    "df.head()"
   ]
  },
  {
   "cell_type": "code",
   "execution_count": 7,
   "id": "5a69b9f7",
   "metadata": {},
   "outputs": [
    {
     "data": {
      "text/plain": [
       "(16475, 12)"
      ]
     },
     "execution_count": 7,
     "metadata": {},
     "output_type": "execute_result"
    }
   ],
   "source": [
    "df.shape"
   ]
  },
  {
   "cell_type": "code",
   "execution_count": 8,
   "id": "ac4e0f2a",
   "metadata": {},
   "outputs": [
    {
     "data": {
      "text/plain": [
       "['MandatId',\n",
       " 'DepartementLocalisationId',\n",
       " 'StatutMandat',\n",
       " 'DateMandatSignature',\n",
       " 'DateCompromisSignature',\n",
       " 'BudgetMaxEuro',\n",
       " 'TypeBienEnum',\n",
       " 'TypeProjet',\n",
       " 'SurfaceMin',\n",
       " 'NombrePiecesEnum',\n",
       " 'NombreChambresEnum',\n",
       " 'NombreDeBiens']"
      ]
     },
     "execution_count": 8,
     "metadata": {},
     "output_type": "execute_result"
    }
   ],
   "source": [
    "list(df)"
   ]
  },
  {
   "cell_type": "code",
   "execution_count": 9,
   "id": "2f98a402",
   "metadata": {},
   "outputs": [
    {
     "name": "stdout",
     "output_type": "stream",
     "text": [
      "<class 'pandas.core.frame.DataFrame'>\n",
      "RangeIndex: 16475 entries, 0 to 16474\n",
      "Data columns (total 12 columns):\n",
      " #   Column                     Non-Null Count  Dtype \n",
      "---  ------                     --------------  ----- \n",
      " 0   MandatId                   16475 non-null  int64 \n",
      " 1   DepartementLocalisationId  16475 non-null  int64 \n",
      " 2   StatutMandat               16475 non-null  int64 \n",
      " 3   DateMandatSignature        6383 non-null   object\n",
      " 4   DateCompromisSignature     1875 non-null   object\n",
      " 5   BudgetMaxEuro              16475 non-null  int64 \n",
      " 6   TypeBienEnum               16475 non-null  int64 \n",
      " 7   TypeProjet                 16475 non-null  object\n",
      " 8   SurfaceMin                 16475 non-null  int64 \n",
      " 9   NombrePiecesEnum           16475 non-null  int64 \n",
      " 10  NombreChambresEnum         16475 non-null  int64 \n",
      " 11  NombreDeBiens              16475 non-null  int64 \n",
      "dtypes: int64(9), object(3)\n",
      "memory usage: 1.5+ MB\n"
     ]
    }
   ],
   "source": [
    "df.info()"
   ]
  },
  {
   "cell_type": "code",
   "execution_count": 10,
   "id": "6aaf0e08",
   "metadata": {},
   "outputs": [
    {
     "name": "stdout",
     "output_type": "stream",
     "text": [
      "MandatId: 0.0%\n",
      "DepartementLocalisationId: 0.0%\n",
      "StatutMandat: 0.0%\n",
      "DateMandatSignature: 61.256449165402124%\n",
      "DateCompromisSignature: 88.61911987860394%\n",
      "BudgetMaxEuro: 0.0%\n",
      "TypeBienEnum: 0.0%\n",
      "TypeProjet: 0.0%\n",
      "SurfaceMin: 0.0%\n",
      "NombrePiecesEnum: 0.0%\n",
      "NombreChambresEnum: 0.0%\n",
      "NombreDeBiens: 0.0%\n"
     ]
    }
   ],
   "source": [
    "def NaN_percent(df, column_name):\n",
    "    row_count = df[column_name].shape[0]\n",
    "    empty_values = row_count - df[column_name].count()\n",
    "    return (100.0*empty_values)/row_count\n",
    "for i in list(df):\n",
    "    print(i +': ' + str(NaN_percent(df,i))+'%') "
   ]
  },
  {
   "cell_type": "code",
   "execution_count": 11,
   "id": "f6faffb9",
   "metadata": {},
   "outputs": [],
   "source": [
    "df[\"TypeProjet\"].replace('Investissement',0,inplace=True)\n",
    "df[\"TypeProjet\"].replace('Résidence principale',1,inplace=True)\n",
    "df[\"TypeProjet\"].replace('Résidence secondaire',2,inplace=True)"
   ]
  },
  {
   "cell_type": "code",
   "execution_count": 12,
   "id": "b9b45847",
   "metadata": {},
   "outputs": [
    {
     "data": {
      "text/html": [
       "<div>\n",
       "<style scoped>\n",
       "    .dataframe tbody tr th:only-of-type {\n",
       "        vertical-align: middle;\n",
       "    }\n",
       "\n",
       "    .dataframe tbody tr th {\n",
       "        vertical-align: top;\n",
       "    }\n",
       "\n",
       "    .dataframe thead th {\n",
       "        text-align: right;\n",
       "    }\n",
       "</style>\n",
       "<table border=\"1\" class=\"dataframe\">\n",
       "  <thead>\n",
       "    <tr style=\"text-align: right;\">\n",
       "      <th></th>\n",
       "      <th>MandatId</th>\n",
       "      <th>DepartementLocalisationId</th>\n",
       "      <th>StatutMandat</th>\n",
       "      <th>DateMandatSignature</th>\n",
       "      <th>DateCompromisSignature</th>\n",
       "      <th>BudgetMaxEuro</th>\n",
       "      <th>TypeBienEnum</th>\n",
       "      <th>TypeProjet</th>\n",
       "      <th>SurfaceMin</th>\n",
       "      <th>NombrePiecesEnum</th>\n",
       "      <th>NombreChambresEnum</th>\n",
       "      <th>NombreDeBiens</th>\n",
       "    </tr>\n",
       "  </thead>\n",
       "  <tbody>\n",
       "    <tr>\n",
       "      <th>0</th>\n",
       "      <td>83862</td>\n",
       "      <td>70</td>\n",
       "      <td>5</td>\n",
       "      <td>NaN</td>\n",
       "      <td>NaN</td>\n",
       "      <td>350000</td>\n",
       "      <td>2</td>\n",
       "      <td>1</td>\n",
       "      <td>27</td>\n",
       "      <td>2</td>\n",
       "      <td>1</td>\n",
       "      <td>0</td>\n",
       "    </tr>\n",
       "    <tr>\n",
       "      <th>1</th>\n",
       "      <td>83847</td>\n",
       "      <td>117</td>\n",
       "      <td>5</td>\n",
       "      <td>NaN</td>\n",
       "      <td>NaN</td>\n",
       "      <td>180000</td>\n",
       "      <td>2</td>\n",
       "      <td>0</td>\n",
       "      <td>50</td>\n",
       "      <td>2</td>\n",
       "      <td>1</td>\n",
       "      <td>0</td>\n",
       "    </tr>\n",
       "    <tr>\n",
       "      <th>2</th>\n",
       "      <td>83808</td>\n",
       "      <td>72</td>\n",
       "      <td>6</td>\n",
       "      <td>2021-07-23</td>\n",
       "      <td>NaN</td>\n",
       "      <td>430000</td>\n",
       "      <td>1</td>\n",
       "      <td>1</td>\n",
       "      <td>100</td>\n",
       "      <td>4</td>\n",
       "      <td>3</td>\n",
       "      <td>4</td>\n",
       "    </tr>\n",
       "    <tr>\n",
       "      <th>3</th>\n",
       "      <td>83797</td>\n",
       "      <td>118</td>\n",
       "      <td>6</td>\n",
       "      <td>2021-07-21</td>\n",
       "      <td>NaN</td>\n",
       "      <td>300000</td>\n",
       "      <td>2</td>\n",
       "      <td>2</td>\n",
       "      <td>30</td>\n",
       "      <td>1</td>\n",
       "      <td>1</td>\n",
       "      <td>3</td>\n",
       "    </tr>\n",
       "    <tr>\n",
       "      <th>4</th>\n",
       "      <td>83779</td>\n",
       "      <td>31</td>\n",
       "      <td>6</td>\n",
       "      <td>2021-07-27</td>\n",
       "      <td>NaN</td>\n",
       "      <td>270000</td>\n",
       "      <td>1</td>\n",
       "      <td>1</td>\n",
       "      <td>85</td>\n",
       "      <td>4</td>\n",
       "      <td>3</td>\n",
       "      <td>6</td>\n",
       "    </tr>\n",
       "  </tbody>\n",
       "</table>\n",
       "</div>"
      ],
      "text/plain": [
       "   MandatId  DepartementLocalisationId  StatutMandat DateMandatSignature  \\\n",
       "0     83862                         70             5                 NaN   \n",
       "1     83847                        117             5                 NaN   \n",
       "2     83808                         72             6          2021-07-23   \n",
       "3     83797                        118             6          2021-07-21   \n",
       "4     83779                         31             6          2021-07-27   \n",
       "\n",
       "  DateCompromisSignature  BudgetMaxEuro  TypeBienEnum  TypeProjet  SurfaceMin  \\\n",
       "0                    NaN         350000             2           1          27   \n",
       "1                    NaN         180000             2           0          50   \n",
       "2                    NaN         430000             1           1         100   \n",
       "3                    NaN         300000             2           2          30   \n",
       "4                    NaN         270000             1           1          85   \n",
       "\n",
       "   NombrePiecesEnum  NombreChambresEnum  NombreDeBiens  \n",
       "0                 2                   1              0  \n",
       "1                 2                   1              0  \n",
       "2                 4                   3              4  \n",
       "3                 1                   1              3  \n",
       "4                 4                   3              6  "
      ]
     },
     "execution_count": 12,
     "metadata": {},
     "output_type": "execute_result"
    }
   ],
   "source": [
    "df.head()"
   ]
  },
  {
   "cell_type": "code",
   "execution_count": 13,
   "id": "9bb2cefe",
   "metadata": {},
   "outputs": [
    {
     "name": "stdout",
     "output_type": "stream",
     "text": [
      "<class 'pandas.core.frame.DataFrame'>\n",
      "RangeIndex: 16475 entries, 0 to 16474\n",
      "Data columns (total 12 columns):\n",
      " #   Column                     Non-Null Count  Dtype \n",
      "---  ------                     --------------  ----- \n",
      " 0   MandatId                   16475 non-null  int64 \n",
      " 1   DepartementLocalisationId  16475 non-null  int64 \n",
      " 2   StatutMandat               16475 non-null  int64 \n",
      " 3   DateMandatSignature        6383 non-null   object\n",
      " 4   DateCompromisSignature     1875 non-null   object\n",
      " 5   BudgetMaxEuro              16475 non-null  int64 \n",
      " 6   TypeBienEnum               16475 non-null  int64 \n",
      " 7   TypeProjet                 16475 non-null  int64 \n",
      " 8   SurfaceMin                 16475 non-null  int64 \n",
      " 9   NombrePiecesEnum           16475 non-null  int64 \n",
      " 10  NombreChambresEnum         16475 non-null  int64 \n",
      " 11  NombreDeBiens              16475 non-null  int64 \n",
      "dtypes: int64(10), object(2)\n",
      "memory usage: 1.5+ MB\n"
     ]
    }
   ],
   "source": [
    "df.info()"
   ]
  },
  {
   "cell_type": "code",
   "execution_count": 14,
   "id": "af7850ef",
   "metadata": {},
   "outputs": [
    {
     "data": {
      "text/plain": [
       "5    10086\n",
       "9     3837\n",
       "8     1869\n",
       "6      434\n",
       "7      249\n",
       "Name: StatutMandat, dtype: int64"
      ]
     },
     "execution_count": 14,
     "metadata": {},
     "output_type": "execute_result"
    }
   ],
   "source": [
    "df['StatutMandat'].value_counts()"
   ]
  },
  {
   "cell_type": "code",
   "execution_count": 15,
   "id": "19a72f66",
   "metadata": {},
   "outputs": [
    {
     "data": {
      "text/plain": [
       "126    2621\n",
       "70     2201\n",
       "118    1549\n",
       "74     1283\n",
       "81     1243\n",
       "       ... \n",
       "86        1\n",
       "90        1\n",
       "63        1\n",
       "40        1\n",
       "56        1\n",
       "Name: DepartementLocalisationId, Length: 91, dtype: int64"
      ]
     },
     "execution_count": 15,
     "metadata": {},
     "output_type": "execute_result"
    }
   ],
   "source": [
    "df[\"DepartementLocalisationId\"].value_counts()"
   ]
  },
  {
   "cell_type": "markdown",
   "id": "3b7ec8ad",
   "metadata": {},
   "source": [
    "### Creation d'une colonne succes 0/1"
   ]
  },
  {
   "cell_type": "code",
   "execution_count": 16,
   "id": "f425d0a4",
   "metadata": {},
   "outputs": [],
   "source": [
    "conditionlist = [\n",
    "    (df['StatutMandat'] == 5),\n",
    "    (df['StatutMandat'] == 6), \n",
    "    (df['StatutMandat'] == 9),\n",
    "    (df['StatutMandat'] == 7),\n",
    "    (df['StatutMandat'] == 8)]\n",
    "\n",
    "choicelist = ['0', '0', '0', '1','1']\n",
    "df['Succes'] = np.select(conditionlist, choicelist, default='Not Specified')"
   ]
  },
  {
   "cell_type": "code",
   "execution_count": 17,
   "id": "77d551b1",
   "metadata": {},
   "outputs": [
    {
     "data": {
      "text/html": [
       "<div>\n",
       "<style scoped>\n",
       "    .dataframe tbody tr th:only-of-type {\n",
       "        vertical-align: middle;\n",
       "    }\n",
       "\n",
       "    .dataframe tbody tr th {\n",
       "        vertical-align: top;\n",
       "    }\n",
       "\n",
       "    .dataframe thead th {\n",
       "        text-align: right;\n",
       "    }\n",
       "</style>\n",
       "<table border=\"1\" class=\"dataframe\">\n",
       "  <thead>\n",
       "    <tr style=\"text-align: right;\">\n",
       "      <th></th>\n",
       "      <th>MandatId</th>\n",
       "      <th>DepartementLocalisationId</th>\n",
       "      <th>StatutMandat</th>\n",
       "      <th>DateMandatSignature</th>\n",
       "      <th>DateCompromisSignature</th>\n",
       "      <th>BudgetMaxEuro</th>\n",
       "      <th>TypeBienEnum</th>\n",
       "      <th>TypeProjet</th>\n",
       "      <th>SurfaceMin</th>\n",
       "      <th>NombrePiecesEnum</th>\n",
       "      <th>NombreChambresEnum</th>\n",
       "      <th>NombreDeBiens</th>\n",
       "      <th>Succes</th>\n",
       "    </tr>\n",
       "  </thead>\n",
       "  <tbody>\n",
       "    <tr>\n",
       "      <th>0</th>\n",
       "      <td>83862</td>\n",
       "      <td>70</td>\n",
       "      <td>5</td>\n",
       "      <td>NaN</td>\n",
       "      <td>NaN</td>\n",
       "      <td>350000</td>\n",
       "      <td>2</td>\n",
       "      <td>1</td>\n",
       "      <td>27</td>\n",
       "      <td>2</td>\n",
       "      <td>1</td>\n",
       "      <td>0</td>\n",
       "      <td>0</td>\n",
       "    </tr>\n",
       "    <tr>\n",
       "      <th>1</th>\n",
       "      <td>83847</td>\n",
       "      <td>117</td>\n",
       "      <td>5</td>\n",
       "      <td>NaN</td>\n",
       "      <td>NaN</td>\n",
       "      <td>180000</td>\n",
       "      <td>2</td>\n",
       "      <td>0</td>\n",
       "      <td>50</td>\n",
       "      <td>2</td>\n",
       "      <td>1</td>\n",
       "      <td>0</td>\n",
       "      <td>0</td>\n",
       "    </tr>\n",
       "    <tr>\n",
       "      <th>2</th>\n",
       "      <td>83808</td>\n",
       "      <td>72</td>\n",
       "      <td>6</td>\n",
       "      <td>2021-07-23</td>\n",
       "      <td>NaN</td>\n",
       "      <td>430000</td>\n",
       "      <td>1</td>\n",
       "      <td>1</td>\n",
       "      <td>100</td>\n",
       "      <td>4</td>\n",
       "      <td>3</td>\n",
       "      <td>4</td>\n",
       "      <td>0</td>\n",
       "    </tr>\n",
       "    <tr>\n",
       "      <th>3</th>\n",
       "      <td>83797</td>\n",
       "      <td>118</td>\n",
       "      <td>6</td>\n",
       "      <td>2021-07-21</td>\n",
       "      <td>NaN</td>\n",
       "      <td>300000</td>\n",
       "      <td>2</td>\n",
       "      <td>2</td>\n",
       "      <td>30</td>\n",
       "      <td>1</td>\n",
       "      <td>1</td>\n",
       "      <td>3</td>\n",
       "      <td>0</td>\n",
       "    </tr>\n",
       "    <tr>\n",
       "      <th>4</th>\n",
       "      <td>83779</td>\n",
       "      <td>31</td>\n",
       "      <td>6</td>\n",
       "      <td>2021-07-27</td>\n",
       "      <td>NaN</td>\n",
       "      <td>270000</td>\n",
       "      <td>1</td>\n",
       "      <td>1</td>\n",
       "      <td>85</td>\n",
       "      <td>4</td>\n",
       "      <td>3</td>\n",
       "      <td>6</td>\n",
       "      <td>0</td>\n",
       "    </tr>\n",
       "  </tbody>\n",
       "</table>\n",
       "</div>"
      ],
      "text/plain": [
       "   MandatId  DepartementLocalisationId  StatutMandat DateMandatSignature  \\\n",
       "0     83862                         70             5                 NaN   \n",
       "1     83847                        117             5                 NaN   \n",
       "2     83808                         72             6          2021-07-23   \n",
       "3     83797                        118             6          2021-07-21   \n",
       "4     83779                         31             6          2021-07-27   \n",
       "\n",
       "  DateCompromisSignature  BudgetMaxEuro  TypeBienEnum  TypeProjet  SurfaceMin  \\\n",
       "0                    NaN         350000             2           1          27   \n",
       "1                    NaN         180000             2           0          50   \n",
       "2                    NaN         430000             1           1         100   \n",
       "3                    NaN         300000             2           2          30   \n",
       "4                    NaN         270000             1           1          85   \n",
       "\n",
       "   NombrePiecesEnum  NombreChambresEnum  NombreDeBiens Succes  \n",
       "0                 2                   1              0      0  \n",
       "1                 2                   1              0      0  \n",
       "2                 4                   3              4      0  \n",
       "3                 1                   1              3      0  \n",
       "4                 4                   3              6      0  "
      ]
     },
     "execution_count": 17,
     "metadata": {},
     "output_type": "execute_result"
    }
   ],
   "source": [
    "df.head()"
   ]
  },
  {
   "cell_type": "code",
   "execution_count": 18,
   "id": "89890d42",
   "metadata": {},
   "outputs": [
    {
     "name": "stdout",
     "output_type": "stream",
     "text": [
      "<class 'pandas.core.frame.DataFrame'>\n",
      "RangeIndex: 16475 entries, 0 to 16474\n",
      "Data columns (total 13 columns):\n",
      " #   Column                     Non-Null Count  Dtype \n",
      "---  ------                     --------------  ----- \n",
      " 0   MandatId                   16475 non-null  int64 \n",
      " 1   DepartementLocalisationId  16475 non-null  int64 \n",
      " 2   StatutMandat               16475 non-null  int64 \n",
      " 3   DateMandatSignature        6383 non-null   object\n",
      " 4   DateCompromisSignature     1875 non-null   object\n",
      " 5   BudgetMaxEuro              16475 non-null  int64 \n",
      " 6   TypeBienEnum               16475 non-null  int64 \n",
      " 7   TypeProjet                 16475 non-null  int64 \n",
      " 8   SurfaceMin                 16475 non-null  int64 \n",
      " 9   NombrePiecesEnum           16475 non-null  int64 \n",
      " 10  NombreChambresEnum         16475 non-null  int64 \n",
      " 11  NombreDeBiens              16475 non-null  int64 \n",
      " 12  Succes                     16475 non-null  object\n",
      "dtypes: int64(10), object(3)\n",
      "memory usage: 1.6+ MB\n"
     ]
    }
   ],
   "source": [
    "df.info()"
   ]
  },
  {
   "cell_type": "code",
   "execution_count": null,
   "id": "c9a0211c",
   "metadata": {},
   "outputs": [],
   "source": []
  },
  {
   "cell_type": "markdown",
   "id": "9726c833",
   "metadata": {},
   "source": [
    "### Transformation de la colonne Succes en Int "
   ]
  },
  {
   "cell_type": "code",
   "execution_count": 19,
   "id": "cbd9c615",
   "metadata": {},
   "outputs": [],
   "source": [
    "df[\"Succes\"] = df[\"Succes\"].astype(int)"
   ]
  },
  {
   "cell_type": "code",
   "execution_count": 20,
   "id": "a48cbf93",
   "metadata": {},
   "outputs": [
    {
     "name": "stdout",
     "output_type": "stream",
     "text": [
      "<class 'pandas.core.frame.DataFrame'>\n",
      "RangeIndex: 16475 entries, 0 to 16474\n",
      "Data columns (total 13 columns):\n",
      " #   Column                     Non-Null Count  Dtype \n",
      "---  ------                     --------------  ----- \n",
      " 0   MandatId                   16475 non-null  int64 \n",
      " 1   DepartementLocalisationId  16475 non-null  int64 \n",
      " 2   StatutMandat               16475 non-null  int64 \n",
      " 3   DateMandatSignature        6383 non-null   object\n",
      " 4   DateCompromisSignature     1875 non-null   object\n",
      " 5   BudgetMaxEuro              16475 non-null  int64 \n",
      " 6   TypeBienEnum               16475 non-null  int64 \n",
      " 7   TypeProjet                 16475 non-null  int64 \n",
      " 8   SurfaceMin                 16475 non-null  int64 \n",
      " 9   NombrePiecesEnum           16475 non-null  int64 \n",
      " 10  NombreChambresEnum         16475 non-null  int64 \n",
      " 11  NombreDeBiens              16475 non-null  int64 \n",
      " 12  Succes                     16475 non-null  int32 \n",
      "dtypes: int32(1), int64(10), object(2)\n",
      "memory usage: 1.6+ MB\n"
     ]
    }
   ],
   "source": [
    "df.info()"
   ]
  },
  {
   "cell_type": "markdown",
   "id": "d24265c3",
   "metadata": {},
   "source": [
    "### Visualisation des data "
   ]
  },
  {
   "cell_type": "code",
   "execution_count": 21,
   "id": "d3bc828b",
   "metadata": {},
   "outputs": [],
   "source": [
    "%matplotlib inline\n",
    "from mpl_toolkits.mplot3d import Axes3D\n",
    "from matplotlib import cm\n",
    "plt.rcParams['figure.figsize'] = (16, 9)\n",
    "plt.style.use('ggplot')"
   ]
  },
  {
   "cell_type": "code",
   "execution_count": 22,
   "id": "c032c22b",
   "metadata": {},
   "outputs": [
    {
     "data": {
      "text/plain": [
       "array([[<AxesSubplot:title={'center':'NombreChambresEnum'}>,\n",
       "        <AxesSubplot:title={'center':'NombrePiecesEnum'}>],\n",
       "       [<AxesSubplot:title={'center':'TypeBienEnum'}>,\n",
       "        <AxesSubplot:title={'center':'TypeProjet'}>]], dtype=object)"
      ]
     },
     "execution_count": 22,
     "metadata": {},
     "output_type": "execute_result"
    },
    {
     "data": {
      "image/png": "[encoded data removed]",
      "text/plain": [
       "<Figure size 1152x648 with 4 Axes>"
      ]
     },
     "metadata": {},
     "output_type": "display_data"
    }
   ],
   "source": [
    "df.drop([\"MandatId\", \"DepartementLocalisationId\", \"StatutMandat\", \"SurfaceMin\", \"NombreDeBiens\", \"Succes\", \"BudgetMaxEuro\"],1).hist()"
   ]
  },
  {
   "cell_type": "code",
   "execution_count": 23,
   "id": "0d021e20",
   "metadata": {},
   "outputs": [
    {
     "data": {
      "text/plain": [
       "<AxesSubplot:xlabel='Succes', ylabel='count'>"
      ]
     },
     "execution_count": 23,
     "metadata": {},
     "output_type": "execute_result"
    },
    {
     "data": {
      "image/png": "[encoded data removed]",
      "text/plain": [
       "<Figure size 576x432 with 1 Axes>"
      ]
     },
     "metadata": {},
     "output_type": "display_data"
    }
   ],
   "source": [
    "plt.figure(figsize=(8,6))\n",
    "sns.countplot(df['Succes'])"
   ]
  },
  {
   "cell_type": "code",
   "execution_count": 24,
   "id": "4a7a8673",
   "metadata": {},
   "outputs": [
    {
     "data": {
      "text/plain": [
       "0    14357\n",
       "1     2118\n",
       "Name: Succes, dtype: int64"
      ]
     },
     "execution_count": 24,
     "metadata": {},
     "output_type": "execute_result"
    }
   ],
   "source": [
    "df['Succes'].value_counts()"
   ]
  },
  {
   "cell_type": "code",
   "execution_count": 25,
   "id": "2dc66982",
   "metadata": {},
   "outputs": [
    {
     "data": {
      "image/png": "[encoded data removed]",
      "text/plain": [
       "<Figure size 576x576 with 1 Axes>"
      ]
     },
     "metadata": {},
     "output_type": "display_data"
    }
   ],
   "source": [
    "df[\"BudgetMaxEuro\"].hist(figsize=(8,8))\n",
    "plt.show()"
   ]
  },
  {
   "cell_type": "code",
   "execution_count": 26,
   "id": "03d037f7",
   "metadata": {},
   "outputs": [
    {
     "data": {
      "text/plain": [
       "<seaborn.axisgrid.FacetGrid at 0x26a296c7730>"
      ]
     },
     "execution_count": 26,
     "metadata": {},
     "output_type": "execute_result"
    },
    {
     "data": {
      "image/png": "[encoded data removed]",
      "text/plain": [
       "<Figure size 737.28x230.4 with 2 Axes>"
      ]
     },
     "metadata": {},
     "output_type": "display_data"
    }
   ],
   "source": [
    "grid = sns.FacetGrid(df,col='Succes', size=3.2, aspect=1.6)\n",
    "grid.map(sns.countplot, 'BudgetMaxEuro')"
   ]
  },
  {
   "cell_type": "code",
   "execution_count": 27,
   "id": "a530a60e",
   "metadata": {},
   "outputs": [
    {
     "data": {
      "text/plain": [
       "Text(0, 0.5, 'y')"
      ]
     },
     "execution_count": 27,
     "metadata": {},
     "output_type": "execute_result"
    },
    {
     "data": {
      "image/png": "[encoded data removed]",
      "text/plain": [
       "<Figure size 1152x648 with 1 Axes>"
      ]
     },
     "metadata": {},
     "output_type": "display_data"
    }
   ],
   "source": [
    "import matplotlib.pyplot as plt\n",
    "\n",
    "x = df['MandatId']\n",
    "y = df['BudgetMaxEuro']\n",
    "\n",
    "plt.scatter(x,y)\n",
    "\n",
    "plt.title('Nuage de points avec Matplotlib')\n",
    "plt.xlabel('x')\n",
    "plt.ylabel('y')"
   ]
  },
  {
   "cell_type": "code",
   "execution_count": 28,
   "id": "ae1c6193",
   "metadata": {},
   "outputs": [
    {
     "data": {
      "text/plain": [
       "<seaborn.axisgrid.FacetGrid at 0x26a2b9793a0>"
      ]
     },
     "execution_count": 28,
     "metadata": {},
     "output_type": "execute_result"
    },
    {
     "data": {
      "image/png": "[encoded data removed]",
      "text/plain": [
       "<Figure size 737.28x230.4 with 2 Axes>"
      ]
     },
     "metadata": {},
     "output_type": "display_data"
    }
   ],
   "source": [
    "grid = sns.FacetGrid(df,col='Succes', size=3.2, aspect=1.6)\n",
    "grid.map(sns.countplot, 'TypeBienEnum')"
   ]
  },
  {
   "cell_type": "code",
   "execution_count": 29,
   "id": "aecc912a",
   "metadata": {},
   "outputs": [
    {
     "data": {
      "text/plain": [
       "<seaborn.axisgrid.FacetGrid at 0x26a2b658460>"
      ]
     },
     "execution_count": 29,
     "metadata": {},
     "output_type": "execute_result"
    },
    {
     "data": {
      "image/png": "[encoded data removed]",
      "text/plain": [
       "<Figure size 737.28x230.4 with 2 Axes>"
      ]
     },
     "metadata": {},
     "output_type": "display_data"
    }
   ],
   "source": [
    "grid = sns.FacetGrid(df,col='Succes', size=3.2, aspect=1.6)\n",
    "grid.map(sns.countplot, 'TypeProjet')"
   ]
  },
  {
   "cell_type": "code",
   "execution_count": 30,
   "id": "b4b7c9e2",
   "metadata": {},
   "outputs": [
    {
     "data": {
      "text/plain": [
       "<seaborn.axisgrid.FacetGrid at 0x26a2b798760>"
      ]
     },
     "execution_count": 30,
     "metadata": {},
     "output_type": "execute_result"
    },
    {
     "data": {
      "image/png": "[encoded data removed]",
      "text/plain": [
       "<Figure size 737.28x230.4 with 2 Axes>"
      ]
     },
     "metadata": {},
     "output_type": "display_data"
    }
   ],
   "source": [
    "grid = sns.FacetGrid(df,col='Succes', size=3.2, aspect=1.6)\n",
    "grid.map(sns.countplot, 'SurfaceMin')"
   ]
  },
  {
   "cell_type": "code",
   "execution_count": 31,
   "id": "f4ade0e4",
   "metadata": {},
   "outputs": [
    {
     "data": {
      "text/plain": [
       "<seaborn.axisgrid.FacetGrid at 0x26a2bc55700>"
      ]
     },
     "execution_count": 31,
     "metadata": {},
     "output_type": "execute_result"
    },
    {
     "data": {
      "image/png": "[encoded data removed]",
      "text/plain": [
       "<Figure size 737.28x230.4 with 2 Axes>"
      ]
     },
     "metadata": {},
     "output_type": "display_data"
    }
   ],
   "source": [
    "grid = sns.FacetGrid(df,col='Succes', size=3.2, aspect=1.6)\n",
    "grid.map(sns.countplot, 'NombrePiecesEnum')"
   ]
  },
  {
   "cell_type": "code",
   "execution_count": 32,
   "id": "beaa9243",
   "metadata": {},
   "outputs": [
    {
     "data": {
      "text/plain": [
       "<seaborn.axisgrid.FacetGrid at 0x26a2bf60c70>"
      ]
     },
     "execution_count": 32,
     "metadata": {},
     "output_type": "execute_result"
    },
    {
     "data": {
      "image/png": "[encoded data removed]",
      "text/plain": [
       "<Figure size 737.28x230.4 with 2 Axes>"
      ]
     },
     "metadata": {},
     "output_type": "display_data"
    }
   ],
   "source": [
    "grid = sns.FacetGrid(df,col='Succes', size=3.2, aspect=1.6)\n",
    "grid.map(sns.countplot, 'NombreChambresEnum')"
   ]
  },
  {
   "cell_type": "code",
   "execution_count": 33,
   "id": "40e5dfd4",
   "metadata": {},
   "outputs": [
    {
     "data": {
      "text/plain": [
       "<seaborn.axisgrid.FacetGrid at 0x26a2b8bb3d0>"
      ]
     },
     "execution_count": 33,
     "metadata": {},
     "output_type": "execute_result"
    },
    {
     "data": {
      "image/png": "[encoded data removed]",
      "text/plain": [
       "<Figure size 737.28x230.4 with 2 Axes>"
      ]
     },
     "metadata": {},
     "output_type": "display_data"
    }
   ],
   "source": [
    "grid = sns.FacetGrid(df,col='Succes', size=3.2, aspect=1.6)\n",
    "grid.map(sns.countplot, 'NombreDeBiens')"
   ]
  },
  {
   "cell_type": "code",
   "execution_count": 34,
   "id": "9bdfccce",
   "metadata": {},
   "outputs": [
    {
     "data": {
      "text/plain": [
       "<seaborn.axisgrid.FacetGrid at 0x26a2f5411f0>"
      ]
     },
     "execution_count": 34,
     "metadata": {},
     "output_type": "execute_result"
    },
    {
     "data": {
      "image/png": "[encoded data removed]",
      "text/plain": [
       "<Figure size 737.28x230.4 with 2 Axes>"
      ]
     },
     "metadata": {},
     "output_type": "display_data"
    }
   ],
   "source": [
    "grid = sns.FacetGrid(df,col='Succes', size=3.2, aspect=1.6)\n",
    "grid.map(sns.countplot, 'DepartementLocalisationId')"
   ]
  },
  {
   "cell_type": "markdown",
   "id": "b4086229",
   "metadata": {},
   "source": [
    "### Drop colonne MandatId "
   ]
  },
  {
   "cell_type": "code",
   "execution_count": 20,
   "id": "7ca7c3b8",
   "metadata": {},
   "outputs": [],
   "source": [
    "df.drop(columns='MandatId', inplace = True)"
   ]
  },
  {
   "cell_type": "markdown",
   "id": "e255bc29",
   "metadata": {},
   "source": [
    "### Test de correlation "
   ]
  },
  {
   "cell_type": "code",
   "execution_count": 21,
   "id": "b6b4eca4",
   "metadata": {},
   "outputs": [
    {
     "data": {
      "text/html": [
       "<div>\n",
       "<style scoped>\n",
       "    .dataframe tbody tr th:only-of-type {\n",
       "        vertical-align: middle;\n",
       "    }\n",
       "\n",
       "    .dataframe tbody tr th {\n",
       "        vertical-align: top;\n",
       "    }\n",
       "\n",
       "    .dataframe thead th {\n",
       "        text-align: right;\n",
       "    }\n",
       "</style>\n",
       "<table border=\"1\" class=\"dataframe\">\n",
       "  <thead>\n",
       "    <tr style=\"text-align: right;\">\n",
       "      <th></th>\n",
       "      <th>DepartementLocalisationId</th>\n",
       "      <th>StatutMandat</th>\n",
       "      <th>BudgetMaxEuro</th>\n",
       "      <th>TypeBienEnum</th>\n",
       "      <th>TypeProjet</th>\n",
       "      <th>SurfaceMin</th>\n",
       "      <th>NombrePiecesEnum</th>\n",
       "      <th>NombreChambresEnum</th>\n",
       "      <th>NombreDeBiens</th>\n",
       "      <th>Succes</th>\n",
       "    </tr>\n",
       "  </thead>\n",
       "  <tbody>\n",
       "    <tr>\n",
       "      <th>DepartementLocalisationId</th>\n",
       "      <td>1.000000</td>\n",
       "      <td>0.063461</td>\n",
       "      <td>-0.031054</td>\n",
       "      <td>0.008638</td>\n",
       "      <td>-0.010565</td>\n",
       "      <td>0.001520</td>\n",
       "      <td>0.067024</td>\n",
       "      <td>0.072305</td>\n",
       "      <td>0.037870</td>\n",
       "      <td>0.041047</td>\n",
       "    </tr>\n",
       "    <tr>\n",
       "      <th>StatutMandat</th>\n",
       "      <td>0.063461</td>\n",
       "      <td>1.000000</td>\n",
       "      <td>-0.003374</td>\n",
       "      <td>0.058968</td>\n",
       "      <td>-0.100819</td>\n",
       "      <td>0.014038</td>\n",
       "      <td>-0.019705</td>\n",
       "      <td>-0.010408</td>\n",
       "      <td>0.324683</td>\n",
       "      <td>0.340681</td>\n",
       "    </tr>\n",
       "    <tr>\n",
       "      <th>BudgetMaxEuro</th>\n",
       "      <td>-0.031054</td>\n",
       "      <td>-0.003374</td>\n",
       "      <td>1.000000</td>\n",
       "      <td>0.031003</td>\n",
       "      <td>0.075574</td>\n",
       "      <td>0.025835</td>\n",
       "      <td>0.183954</td>\n",
       "      <td>0.185694</td>\n",
       "      <td>0.017435</td>\n",
       "      <td>-0.013232</td>\n",
       "    </tr>\n",
       "    <tr>\n",
       "      <th>TypeBienEnum</th>\n",
       "      <td>0.008638</td>\n",
       "      <td>0.058968</td>\n",
       "      <td>0.031003</td>\n",
       "      <td>1.000000</td>\n",
       "      <td>-0.151556</td>\n",
       "      <td>0.028483</td>\n",
       "      <td>-0.009281</td>\n",
       "      <td>0.051712</td>\n",
       "      <td>0.011539</td>\n",
       "      <td>-0.013127</td>\n",
       "    </tr>\n",
       "    <tr>\n",
       "      <th>TypeProjet</th>\n",
       "      <td>-0.010565</td>\n",
       "      <td>-0.100819</td>\n",
       "      <td>0.075574</td>\n",
       "      <td>-0.151556</td>\n",
       "      <td>1.000000</td>\n",
       "      <td>-0.003993</td>\n",
       "      <td>0.193096</td>\n",
       "      <td>0.114944</td>\n",
       "      <td>0.036208</td>\n",
       "      <td>-0.057286</td>\n",
       "    </tr>\n",
       "    <tr>\n",
       "      <th>SurfaceMin</th>\n",
       "      <td>0.001520</td>\n",
       "      <td>0.014038</td>\n",
       "      <td>0.025835</td>\n",
       "      <td>0.028483</td>\n",
       "      <td>-0.003993</td>\n",
       "      <td>1.000000</td>\n",
       "      <td>0.058555</td>\n",
       "      <td>0.068235</td>\n",
       "      <td>0.001002</td>\n",
       "      <td>-0.005053</td>\n",
       "    </tr>\n",
       "    <tr>\n",
       "      <th>NombrePiecesEnum</th>\n",
       "      <td>0.067024</td>\n",
       "      <td>-0.019705</td>\n",
       "      <td>0.183954</td>\n",
       "      <td>-0.009281</td>\n",
       "      <td>0.193096</td>\n",
       "      <td>0.058555</td>\n",
       "      <td>1.000000</td>\n",
       "      <td>0.930351</td>\n",
       "      <td>0.023819</td>\n",
       "      <td>-0.056438</td>\n",
       "    </tr>\n",
       "    <tr>\n",
       "      <th>NombreChambresEnum</th>\n",
       "      <td>0.072305</td>\n",
       "      <td>-0.010408</td>\n",
       "      <td>0.185694</td>\n",
       "      <td>0.051712</td>\n",
       "      <td>0.114944</td>\n",
       "      <td>0.068235</td>\n",
       "      <td>0.930351</td>\n",
       "      <td>1.000000</td>\n",
       "      <td>0.014977</td>\n",
       "      <td>-0.055779</td>\n",
       "    </tr>\n",
       "    <tr>\n",
       "      <th>NombreDeBiens</th>\n",
       "      <td>0.037870</td>\n",
       "      <td>0.324683</td>\n",
       "      <td>0.017435</td>\n",
       "      <td>0.011539</td>\n",
       "      <td>0.036208</td>\n",
       "      <td>0.001002</td>\n",
       "      <td>0.023819</td>\n",
       "      <td>0.014977</td>\n",
       "      <td>1.000000</td>\n",
       "      <td>0.178119</td>\n",
       "    </tr>\n",
       "    <tr>\n",
       "      <th>Succes</th>\n",
       "      <td>0.041047</td>\n",
       "      <td>0.340681</td>\n",
       "      <td>-0.013232</td>\n",
       "      <td>-0.013127</td>\n",
       "      <td>-0.057286</td>\n",
       "      <td>-0.005053</td>\n",
       "      <td>-0.056438</td>\n",
       "      <td>-0.055779</td>\n",
       "      <td>0.178119</td>\n",
       "      <td>1.000000</td>\n",
       "    </tr>\n",
       "  </tbody>\n",
       "</table>\n",
       "</div>"
      ],
      "text/plain": [
       "                           DepartementLocalisationId  StatutMandat  \\\n",
       "DepartementLocalisationId                   1.000000      0.063461   \n",
       "StatutMandat                                0.063461      1.000000   \n",
       "BudgetMaxEuro                              -0.031054     -0.003374   \n",
       "TypeBienEnum                                0.008638      0.058968   \n",
       "TypeProjet                                 -0.010565     -0.100819   \n",
       "SurfaceMin                                  0.001520      0.014038   \n",
       "NombrePiecesEnum                            0.067024     -0.019705   \n",
       "NombreChambresEnum                          0.072305     -0.010408   \n",
       "NombreDeBiens                               0.037870      0.324683   \n",
       "Succes                                      0.041047      0.340681   \n",
       "\n",
       "                           BudgetMaxEuro  TypeBienEnum  TypeProjet  \\\n",
       "DepartementLocalisationId      -0.031054      0.008638   -0.010565   \n",
       "StatutMandat                   -0.003374      0.058968   -0.100819   \n",
       "BudgetMaxEuro                   1.000000      0.031003    0.075574   \n",
       "TypeBienEnum                    0.031003      1.000000   -0.151556   \n",
       "TypeProjet                      0.075574     -0.151556    1.000000   \n",
       "SurfaceMin                      0.025835      0.028483   -0.003993   \n",
       "NombrePiecesEnum                0.183954     -0.009281    0.193096   \n",
       "NombreChambresEnum              0.185694      0.051712    0.114944   \n",
       "NombreDeBiens                   0.017435      0.011539    0.036208   \n",
       "Succes                         -0.013232     -0.013127   -0.057286   \n",
       "\n",
       "                           SurfaceMin  NombrePiecesEnum  NombreChambresEnum  \\\n",
       "DepartementLocalisationId    0.001520          0.067024            0.072305   \n",
       "StatutMandat                 0.014038         -0.019705           -0.010408   \n",
       "BudgetMaxEuro                0.025835          0.183954            0.185694   \n",
       "TypeBienEnum                 0.028483         -0.009281            0.051712   \n",
       "TypeProjet                  -0.003993          0.193096            0.114944   \n",
       "SurfaceMin                   1.000000          0.058555            0.068235   \n",
       "NombrePiecesEnum             0.058555          1.000000            0.930351   \n",
       "NombreChambresEnum           0.068235          0.930351            1.000000   \n",
       "NombreDeBiens                0.001002          0.023819            0.014977   \n",
       "Succes                      -0.005053         -0.056438           -0.055779   \n",
       "\n",
       "                           NombreDeBiens    Succes  \n",
       "DepartementLocalisationId       0.037870  0.041047  \n",
       "StatutMandat                    0.324683  0.340681  \n",
       "BudgetMaxEuro                   0.017435 -0.013232  \n",
       "TypeBienEnum                    0.011539 -0.013127  \n",
       "TypeProjet                      0.036208 -0.057286  \n",
       "SurfaceMin                      0.001002 -0.005053  \n",
       "NombrePiecesEnum                0.023819 -0.056438  \n",
       "NombreChambresEnum              0.014977 -0.055779  \n",
       "NombreDeBiens                   1.000000  0.178119  \n",
       "Succes                          0.178119  1.000000  "
      ]
     },
     "execution_count": 21,
     "metadata": {},
     "output_type": "execute_result"
    }
   ],
   "source": [
    "df.corr()"
   ]
  },
  {
   "cell_type": "code",
   "execution_count": 22,
   "id": "77fd381f",
   "metadata": {},
   "outputs": [
    {
     "data": {
      "image/png": "[encoded data removed]",
      "text/plain": [
       "<Figure size 1440x1152 with 2 Axes>"
      ]
     },
     "metadata": {
      "needs_background": "light"
     },
     "output_type": "display_data"
    }
   ],
   "source": [
    "import seaborn as sns\n",
    "import matplotlib.pyplot as plt\n",
    "\n",
    "sns.heatmap(\n",
    "    data=df.corr(),\n",
    "    annot=True,\n",
    "    fmt='.2f',\n",
    "    cmap='RdYlGn'\n",
    ")\n",
    "\n",
    "fig = plt.gcf()\n",
    "fig.set_size_inches(20, 16)\n",
    "\n",
    "plt.show()"
   ]
  },
  {
   "cell_type": "code",
   "execution_count": 23,
   "id": "ad6fe5c5",
   "metadata": {},
   "outputs": [
    {
     "data": {
      "text/plain": [
       "DepartementLocalisationId    0.063461\n",
       "StatutMandat                 1.000000\n",
       "BudgetMaxEuro               -0.003374\n",
       "TypeBienEnum                 0.058968\n",
       "TypeProjet                  -0.100819\n",
       "SurfaceMin                   0.014038\n",
       "NombrePiecesEnum            -0.019705\n",
       "NombreChambresEnum          -0.010408\n",
       "NombreDeBiens                0.324683\n",
       "Succes                       0.340681\n",
       "Name: StatutMandat, dtype: float64"
      ]
     },
     "execution_count": 23,
     "metadata": {},
     "output_type": "execute_result"
    }
   ],
   "source": [
    "df.corr()['StatutMandat']"
   ]
  },
  {
   "cell_type": "markdown",
   "id": "4dbb2d3f",
   "metadata": {},
   "source": [
    "### Modèle de classification"
   ]
  },
  {
   "cell_type": "markdown",
   "id": "29a8a93a",
   "metadata": {},
   "source": [
    "Définir les features et la taget"
   ]
  },
  {
   "cell_type": "code",
   "execution_count": 24,
   "id": "c36a7ca2",
   "metadata": {},
   "outputs": [
    {
     "data": {
      "text/plain": [
       "(16475, 9)"
      ]
     },
     "execution_count": 24,
     "metadata": {},
     "output_type": "execute_result"
    }
   ],
   "source": [
    "# Features\n",
    "X = df[[\"DepartementLocalisationId\", \"StatutMandat\", \"BudgetMaxEuro\", \"TypeBienEnum\", \"TypeProjet\", \"SurfaceMin\",\"NombrePiecesEnum\", \"NombreChambresEnum\", \"NombreDeBiens\"]]\n",
    "X.shape"
   ]
  },
  {
   "cell_type": "code",
   "execution_count": 25,
   "id": "4a30c0f7",
   "metadata": {},
   "outputs": [
    {
     "data": {
      "text/html": [
       "<div>\n",
       "<style scoped>\n",
       "    .dataframe tbody tr th:only-of-type {\n",
       "        vertical-align: middle;\n",
       "    }\n",
       "\n",
       "    .dataframe tbody tr th {\n",
       "        vertical-align: top;\n",
       "    }\n",
       "\n",
       "    .dataframe thead th {\n",
       "        text-align: right;\n",
       "    }\n",
       "</style>\n",
       "<table border=\"1\" class=\"dataframe\">\n",
       "  <thead>\n",
       "    <tr style=\"text-align: right;\">\n",
       "      <th></th>\n",
       "      <th>DepartementLocalisationId</th>\n",
       "      <th>StatutMandat</th>\n",
       "      <th>BudgetMaxEuro</th>\n",
       "      <th>TypeBienEnum</th>\n",
       "      <th>TypeProjet</th>\n",
       "      <th>SurfaceMin</th>\n",
       "      <th>NombrePiecesEnum</th>\n",
       "      <th>NombreChambresEnum</th>\n",
       "      <th>NombreDeBiens</th>\n",
       "    </tr>\n",
       "  </thead>\n",
       "  <tbody>\n",
       "    <tr>\n",
       "      <th>0</th>\n",
       "      <td>70</td>\n",
       "      <td>5</td>\n",
       "      <td>350000</td>\n",
       "      <td>2</td>\n",
       "      <td>1</td>\n",
       "      <td>27</td>\n",
       "      <td>2</td>\n",
       "      <td>1</td>\n",
       "      <td>0</td>\n",
       "    </tr>\n",
       "    <tr>\n",
       "      <th>1</th>\n",
       "      <td>117</td>\n",
       "      <td>5</td>\n",
       "      <td>180000</td>\n",
       "      <td>2</td>\n",
       "      <td>0</td>\n",
       "      <td>50</td>\n",
       "      <td>2</td>\n",
       "      <td>1</td>\n",
       "      <td>0</td>\n",
       "    </tr>\n",
       "    <tr>\n",
       "      <th>2</th>\n",
       "      <td>72</td>\n",
       "      <td>6</td>\n",
       "      <td>430000</td>\n",
       "      <td>1</td>\n",
       "      <td>1</td>\n",
       "      <td>100</td>\n",
       "      <td>4</td>\n",
       "      <td>3</td>\n",
       "      <td>4</td>\n",
       "    </tr>\n",
       "    <tr>\n",
       "      <th>3</th>\n",
       "      <td>118</td>\n",
       "      <td>6</td>\n",
       "      <td>300000</td>\n",
       "      <td>2</td>\n",
       "      <td>2</td>\n",
       "      <td>30</td>\n",
       "      <td>1</td>\n",
       "      <td>1</td>\n",
       "      <td>3</td>\n",
       "    </tr>\n",
       "    <tr>\n",
       "      <th>4</th>\n",
       "      <td>31</td>\n",
       "      <td>6</td>\n",
       "      <td>270000</td>\n",
       "      <td>1</td>\n",
       "      <td>1</td>\n",
       "      <td>85</td>\n",
       "      <td>4</td>\n",
       "      <td>3</td>\n",
       "      <td>6</td>\n",
       "    </tr>\n",
       "    <tr>\n",
       "      <th>...</th>\n",
       "      <td>...</td>\n",
       "      <td>...</td>\n",
       "      <td>...</td>\n",
       "      <td>...</td>\n",
       "      <td>...</td>\n",
       "      <td>...</td>\n",
       "      <td>...</td>\n",
       "      <td>...</td>\n",
       "      <td>...</td>\n",
       "    </tr>\n",
       "    <tr>\n",
       "      <th>16470</th>\n",
       "      <td>81</td>\n",
       "      <td>5</td>\n",
       "      <td>300000</td>\n",
       "      <td>1</td>\n",
       "      <td>1</td>\n",
       "      <td>80</td>\n",
       "      <td>3</td>\n",
       "      <td>2</td>\n",
       "      <td>0</td>\n",
       "    </tr>\n",
       "    <tr>\n",
       "      <th>16471</th>\n",
       "      <td>81</td>\n",
       "      <td>5</td>\n",
       "      <td>250000</td>\n",
       "      <td>1</td>\n",
       "      <td>1</td>\n",
       "      <td>80</td>\n",
       "      <td>4</td>\n",
       "      <td>3</td>\n",
       "      <td>0</td>\n",
       "    </tr>\n",
       "    <tr>\n",
       "      <th>16472</th>\n",
       "      <td>81</td>\n",
       "      <td>9</td>\n",
       "      <td>250000</td>\n",
       "      <td>2</td>\n",
       "      <td>0</td>\n",
       "      <td>60</td>\n",
       "      <td>3</td>\n",
       "      <td>2</td>\n",
       "      <td>18</td>\n",
       "    </tr>\n",
       "    <tr>\n",
       "      <th>16473</th>\n",
       "      <td>81</td>\n",
       "      <td>5</td>\n",
       "      <td>300000</td>\n",
       "      <td>2</td>\n",
       "      <td>1</td>\n",
       "      <td>70</td>\n",
       "      <td>3</td>\n",
       "      <td>2</td>\n",
       "      <td>2</td>\n",
       "    </tr>\n",
       "    <tr>\n",
       "      <th>16474</th>\n",
       "      <td>81</td>\n",
       "      <td>9</td>\n",
       "      <td>280000</td>\n",
       "      <td>1</td>\n",
       "      <td>1</td>\n",
       "      <td>0</td>\n",
       "      <td>5</td>\n",
       "      <td>2</td>\n",
       "      <td>78</td>\n",
       "    </tr>\n",
       "  </tbody>\n",
       "</table>\n",
       "<p>16475 rows × 9 columns</p>\n",
       "</div>"
      ],
      "text/plain": [
       "       DepartementLocalisationId  StatutMandat  BudgetMaxEuro  TypeBienEnum  \\\n",
       "0                             70             5         350000             2   \n",
       "1                            117             5         180000             2   \n",
       "2                             72             6         430000             1   \n",
       "3                            118             6         300000             2   \n",
       "4                             31             6         270000             1   \n",
       "...                          ...           ...            ...           ...   \n",
       "16470                         81             5         300000             1   \n",
       "16471                         81             5         250000             1   \n",
       "16472                         81             9         250000             2   \n",
       "16473                         81             5         300000             2   \n",
       "16474                         81             9         280000             1   \n",
       "\n",
       "       TypeProjet  SurfaceMin  NombrePiecesEnum  NombreChambresEnum  \\\n",
       "0               1          27                 2                   1   \n",
       "1               0          50                 2                   1   \n",
       "2               1         100                 4                   3   \n",
       "3               2          30                 1                   1   \n",
       "4               1          85                 4                   3   \n",
       "...           ...         ...               ...                 ...   \n",
       "16470           1          80                 3                   2   \n",
       "16471           1          80                 4                   3   \n",
       "16472           0          60                 3                   2   \n",
       "16473           1          70                 3                   2   \n",
       "16474           1           0                 5                   2   \n",
       "\n",
       "       NombreDeBiens  \n",
       "0                  0  \n",
       "1                  0  \n",
       "2                  4  \n",
       "3                  3  \n",
       "4                  6  \n",
       "...              ...  \n",
       "16470              0  \n",
       "16471              0  \n",
       "16472             18  \n",
       "16473              2  \n",
       "16474             78  \n",
       "\n",
       "[16475 rows x 9 columns]"
      ]
     },
     "execution_count": 25,
     "metadata": {},
     "output_type": "execute_result"
    }
   ],
   "source": [
    "X"
   ]
  },
  {
   "cell_type": "code",
   "execution_count": 26,
   "id": "4f122d11",
   "metadata": {},
   "outputs": [
    {
     "data": {
      "text/plain": [
       "(16475,)"
      ]
     },
     "execution_count": 26,
     "metadata": {},
     "output_type": "execute_result"
    }
   ],
   "source": [
    "# Target\n",
    "y = df[\"Succes\"]\n",
    "y.shape"
   ]
  },
  {
   "cell_type": "markdown",
   "id": "5ede2852",
   "metadata": {},
   "source": [
    "Diviser le dataset en jeu d'entrainement et jeu de test"
   ]
  },
  {
   "cell_type": "raw",
   "id": "b7b43ce9",
   "metadata": {},
   "source": [
    "Test de differentes options"
   ]
  },
  {
   "cell_type": "code",
   "execution_count": 27,
   "id": "76c2e5d0",
   "metadata": {},
   "outputs": [],
   "source": [
    "from sklearn.model_selection import train_test_split\n",
    "X_train, X_test, y_train, y_test = train_test_split(X,y, test_size= 0.33, random_state = 42)"
   ]
  },
  {
   "cell_type": "raw",
   "id": "da725638",
   "metadata": {},
   "source": [
    "from sklearn.model_selection import train_test_split\n",
    "X_train, X_test, y_train, y_test = train_test_split(X,y, test_size= 0.2, random_state = 30)\n",
    "# 0.14 pour la classe 1"
   ]
  },
  {
   "cell_type": "raw",
   "id": "23916e08",
   "metadata": {},
   "source": [
    "from sklearn.model_selection import train_test_split\n",
    "X_train, X_test, y_train, y_test = train_test_split(X,y, test_size= 0.33, shuffle=False)\n",
    "\n",
    "shuffle = False ==>  desactive le brassage des données et le fractionement aleatoire"
   ]
  },
  {
   "cell_type": "raw",
   "id": "d79bb9cb",
   "metadata": {},
   "source": [
    "X_train, X_test, y_train, y_test = train_test_split(X,y, test_size= 8, random_state = 0)\n",
    "# pire resultat pour la classe 1"
   ]
  },
  {
   "cell_type": "markdown",
   "id": "cbbc6f9b",
   "metadata": {},
   "source": [
    "Normalisation des données"
   ]
  },
  {
   "cell_type": "code",
   "execution_count": 28,
   "id": "2814da03",
   "metadata": {},
   "outputs": [],
   "source": [
    "from sklearn.preprocessing import StandardScaler\n",
    "scaler = StandardScaler()\n",
    "X_train = scaler.fit_transform(X_train)\n",
    "X_test = scaler.transform(X_test)"
   ]
  },
  {
   "cell_type": "code",
   "execution_count": 29,
   "id": "07e971ab",
   "metadata": {},
   "outputs": [
    {
     "data": {
      "text/plain": [
       "array([[ 0.94382826,  1.51348275, -0.11507588, ..., -0.11777213,\n",
       "        -0.15967338, -0.23753194],\n",
       "       [-0.69290969,  0.94436704,  0.31991644, ..., -0.11777213,\n",
       "        -0.15967338,  1.35388672],\n",
       "       [ 1.01347669, -0.76298009,  0.05151693, ..., -0.11777213,\n",
       "        -0.15967338, -0.31591016],\n",
       "       ...,\n",
       "       [ 1.25724617,  0.94436704,  0.08853755, ..., -0.11777213,\n",
       "        -0.15967338,  0.16117466],\n",
       "       [ 0.4562893 ,  1.51348275, -0.14284134, ..., -0.11777213,\n",
       "        -0.15967338, -0.31591016],\n",
       "       [ 1.25724617,  1.51348275, -0.17060681, ..., -0.11777213,\n",
       "        -0.15967338,  0.21569864]])"
      ]
     },
     "execution_count": 29,
     "metadata": {},
     "output_type": "execute_result"
    }
   ],
   "source": [
    "X_train"
   ]
  },
  {
   "cell_type": "code",
   "execution_count": 30,
   "id": "9432a358",
   "metadata": {},
   "outputs": [
    {
     "data": {
      "text/plain": [
       "array([[ 1.25724617, -0.76298009,  0.00524115, ...,  0.69827855,\n",
       "         0.73498385, -0.31591016],\n",
       "       [-0.48396442,  1.51348275, -0.06417252, ...,  0.69827855,\n",
       "         0.73498385,  2.46140506],\n",
       "       [-0.24019494, -0.76298009, -0.28166868, ..., -0.11777213,\n",
       "        -0.15967338, -0.31591016],\n",
       "       ...,\n",
       "       [-0.55361284,  1.51348275,  0.27364066, ..., -0.11777213,\n",
       "        -0.15967338,  4.74459672],\n",
       "       [-0.69290969,  0.94436704,  0.82895   , ...,  0.69827855,\n",
       "         0.73498385,  0.75753069],\n",
       "       [ 0.97865248, -0.76298009,  0.03300661, ...,  0.69827855,\n",
       "         0.73498385, -0.31591016]])"
      ]
     },
     "execution_count": 30,
     "metadata": {},
     "output_type": "execute_result"
    }
   ],
   "source": [
    "X_test"
   ]
  },
  {
   "cell_type": "markdown",
   "id": "79f628fe",
   "metadata": {},
   "source": [
    "Implementer le modèle"
   ]
  },
  {
   "cell_type": "code",
   "execution_count": 31,
   "id": "0a7bf21e",
   "metadata": {},
   "outputs": [],
   "source": [
    "from sklearn.linear_model import LogisticRegression"
   ]
  },
  {
   "cell_type": "code",
   "execution_count": 32,
   "id": "02bf2a47",
   "metadata": {},
   "outputs": [],
   "source": [
    "lr=LogisticRegression()"
   ]
  },
  {
   "cell_type": "markdown",
   "id": "a7547dac",
   "metadata": {},
   "source": [
    "Entrainement du modèle"
   ]
  },
  {
   "cell_type": "code",
   "execution_count": 33,
   "id": "dd1af5cc",
   "metadata": {
    "scrolled": true
   },
   "outputs": [
    {
     "data": {
      "text/plain": [
       "LogisticRegression()"
      ]
     },
     "execution_count": 33,
     "metadata": {},
     "output_type": "execute_result"
    }
   ],
   "source": [
    "lr.fit(X_train,y_train)"
   ]
  },
  {
   "cell_type": "code",
   "execution_count": 34,
   "id": "96955ed2",
   "metadata": {},
   "outputs": [
    {
     "name": "stdout",
     "output_type": "stream",
     "text": [
      "Score sur ensemble test (coefficient de determination) 0.8687262185178475\n",
      "bien classé par le modèle 0.8687262185178475\n"
     ]
    }
   ],
   "source": [
    "print('Score sur ensemble test (coefficient de determination)', lr.score(X_train, y_train))\n",
    "print(\"bien classé par le modèle\",lr.score(X_train, y_train) )"
   ]
  },
  {
   "cell_type": "code",
   "execution_count": 35,
   "id": "eaa4a379",
   "metadata": {},
   "outputs": [
    {
     "name": "stdout",
     "output_type": "stream",
     "text": [
      "Score sur ensemble test 0.867941879713077\n",
      "bien classé par le modèle 0.867941879713077\n"
     ]
    }
   ],
   "source": [
    "print('Score sur ensemble test', lr.score(X_test, y_test))\n",
    "print(\"bien classé par le modèle\",lr.score(X_test, y_test) )"
   ]
  },
  {
   "cell_type": "raw",
   "id": "5f1d0e27",
   "metadata": {},
   "source": [
    "0.86 % bien classé par le modèle"
   ]
  },
  {
   "cell_type": "markdown",
   "id": "d345268f",
   "metadata": {},
   "source": [
    "Prediction"
   ]
  },
  {
   "cell_type": "code",
   "execution_count": 36,
   "id": "0da1a063",
   "metadata": {},
   "outputs": [],
   "source": [
    "y_pred=lr.predict(X_test)"
   ]
  },
  {
   "cell_type": "markdown",
   "id": "7434e711",
   "metadata": {},
   "source": [
    "Scoring"
   ]
  },
  {
   "cell_type": "code",
   "execution_count": 37,
   "id": "ec2676f1",
   "metadata": {},
   "outputs": [
    {
     "name": "stdout",
     "output_type": "stream",
     "text": [
      "la valeur de la precision est 0.16666666666666666\n",
      "l'accuracy score est 0.867941879713077\n"
     ]
    }
   ],
   "source": [
    "from sklearn.metrics import precision_score\n",
    "precision_score(y_test, y_pred)\n",
    "print(\"la valeur de la precision est\",precision_score(y_test, y_pred))\n",
    "from sklearn.metrics import accuracy_score\n",
    "accuracy_score(y_test, y_pred)\n",
    "print(\"l'accuracy score est\",accuracy_score(y_test, y_pred))"
   ]
  },
  {
   "cell_type": "code",
   "execution_count": 38,
   "id": "26486b1a",
   "metadata": {},
   "outputs": [
    {
     "name": "stdout",
     "output_type": "stream",
     "text": [
      "              precision    recall  f1-score   support\n",
      "\n",
      "           0       0.87      0.99      0.93      4739\n",
      "           1       0.17      0.01      0.01       698\n",
      "\n",
      "    accuracy                           0.87      5437\n",
      "   macro avg       0.52      0.50      0.47      5437\n",
      "weighted avg       0.78      0.87      0.81      5437\n",
      "\n"
     ]
    }
   ],
   "source": [
    "from sklearn.metrics import classification_report\n",
    "print(classification_report(y_test,y_pred))"
   ]
  },
  {
   "cell_type": "raw",
   "id": "eaeaf835",
   "metadata": {},
   "source": [
    "On a 2 classes : 0 et 1\n",
    "\n",
    "Pour la classe 0, on voit que la precision est de 0.87 et le recall 1 --> score élevé = bien\n",
    "le f1 score: permet de mesurer la precision et le recall en meme temps, score élevé  = bien\n",
    "Poour la classe 1, on voit que la precision est de 0.25 et le recall 0.1 --> score très faible\n",
    "f1 score = faible\n",
    "== classe mal gerer par le modèle\n",
    "\n",
    "Conclusion:\n",
    "    le modèle n'est pas adapté à nos données"
   ]
  },
  {
   "cell_type": "code",
   "execution_count": null,
   "id": "29b1a158",
   "metadata": {},
   "outputs": [],
   "source": [
    "from sklearn.metrics import balanced_accuracy_score\n",
    "balanced_accuracy_score(y_test, y_pred)"
   ]
  },
  {
   "cell_type": "markdown",
   "id": "44ff950d",
   "metadata": {},
   "source": [
    "Evaluation du modèle : matrice de confusion"
   ]
  },
  {
   "cell_type": "code",
   "execution_count": null,
   "id": "2aa66402",
   "metadata": {},
   "outputs": [],
   "source": [
    "print(pd.crosstab(y_test, y_pred, rownames=['Labels rééls'], colnames=['Predictions']))"
   ]
  },
  {
   "cell_type": "raw",
   "id": "ef01504f",
   "metadata": {},
   "source": [
    "matrice qui nous permet de voir que le bon taux de prediction obtenu est influencé par le comportement du modèle sur classe dominante : 0"
   ]
  },
  {
   "cell_type": "code",
   "execution_count": null,
   "id": "178b9839",
   "metadata": {},
   "outputs": [],
   "source": [
    "from sklearn.metrics import confusion_matrix\n",
    "\n",
    "confusion_matrice=confusion_matrix(y_pred,y_test)\n",
    "print(confusion_matrice)"
   ]
  },
  {
   "cell_type": "code",
   "execution_count": null,
   "id": "8a8c02a3",
   "metadata": {},
   "outputs": [],
   "source": [
    "sns.heatmap(confusion_matrice, annot=True)"
   ]
  },
  {
   "cell_type": "code",
   "execution_count": null,
   "id": "731408ea",
   "metadata": {},
   "outputs": [],
   "source": [
    "cm = confusion_matrix(y_test, y_pred)\n",
    "print(cm)"
   ]
  },
  {
   "cell_type": "markdown",
   "id": "edc72e20",
   "metadata": {},
   "source": [
    "### Test GridSearchCV sur Logistic Regression "
   ]
  },
  {
   "cell_type": "code",
   "execution_count": null,
   "id": "3f2865fb",
   "metadata": {},
   "outputs": [],
   "source": [
    "c_space = np.logspace(-5, 8, 15) \n",
    "\n",
    "lr_params = {\n",
    "    \"C\": c_space}\n",
    "\n",
    "lr= LogisticRegression() \n",
    "\n",
    "lr_grid = GridSearchCV(lr, lr_params, cv=5, n_jobs=-1, verbose=True)\n",
    "\n",
    "lr_grid.fit(X_train, y_train)\n",
    "print(\"Tuned Logistic Regression Parameters: {}\".format(lr_grid.best_params_))  \n",
    "print(\"Best score is {}\".format(lr_grid.best_score_)) "
   ]
  },
  {
   "cell_type": "raw",
   "id": "294e47df",
   "metadata": {},
   "source": [
    "from sklearn.model_selection import GridSearchCV\n",
    "\n",
    "param_grid = {\n",
    "              'n_estimators': [10, 100, 500],\n",
    "              'min_samples_leaf': [1, 20, 50]\n",
    "             }\n",
    "estimator = LogisticRegression()\n",
    "lr.gs = GridSearchCV(estimator, param_grid)\n",
    "\n",
    "model= LogisticRegression()\n",
    "lr = GridSearchCV(model, param_grid, cv=4)\n",
    "lr.fit(X_train, y_train)\n",
    "print(reg.best_params_)"
   ]
  },
  {
   "cell_type": "code",
   "execution_count": null,
   "id": "a24b26d6",
   "metadata": {},
   "outputs": [],
   "source": [
    "from sklearn.ensemble import GradientBoostingClassifier\n",
    "param_grid = {\n",
    "              'n_estimators': [10, 100, 500],\n",
    "              'min_samples_leaf': [1, 20, 50]\n",
    "             }\n",
    "estimator = LogisticRegression()\n",
    "lr.gs = GridSearchCV(estimator, param_grid)\n",
    "\n",
    "model = LogisticRegression()\n",
    "lr = GridSearchCV(model, param_grid, cv=4)\n",
    "lr.fit(X_train, y_train)\n",
    "print(reg.best_params_)"
   ]
  },
  {
   "cell_type": "code",
   "execution_count": null,
   "id": "ec629666",
   "metadata": {},
   "outputs": [],
   "source": [
    "# Grid search cross validation\n",
    "from sklearn.model_selection import GridSearchCV\n",
    "from sklearn.linear_model import LogisticRegression\n",
    "grid={\"C\":np.logspace(-3,3,7), \"penalty\":[\"l1\",\"l2\"]}# l1 lasso l2 ridge\n",
    "logreg=LogisticRegression()\n",
    "logreg_cv=GridSearchCV(logreg,grid,cv=10)\n",
    "logreg_cv.fit(x_train,y_train)\n",
    "\n",
    "print(\"tuned hpyerparameters :(best parameters) \",logreg_cv.best_params_)\n",
    "print(\"accuracy :\",logreg_cv.best_score_)"
   ]
  },
  {
   "cell_type": "markdown",
   "id": "ddb7324b",
   "metadata": {},
   "source": [
    "### RandomForest"
   ]
  },
  {
   "cell_type": "code",
   "execution_count": null,
   "id": "d76126cb",
   "metadata": {},
   "outputs": [],
   "source": [
    "X_train, X_test, y_train, y_test = train_test_split(X,y, test_size= 0.33,random_state=42)"
   ]
  },
  {
   "cell_type": "code",
   "execution_count": null,
   "id": "09e59dea",
   "metadata": {},
   "outputs": [],
   "source": [
    "from sklearn.preprocessing import StandardScaler\n",
    "scaler = StandardScaler()\n",
    "X_train = scaler.fit_transform(X_train)\n",
    "X_test = scaler.transform(X_test)"
   ]
  },
  {
   "cell_type": "code",
   "execution_count": null,
   "id": "2ecd5051",
   "metadata": {},
   "outputs": [],
   "source": [
    "from sklearn.ensemble import RandomForestClassifier"
   ]
  },
  {
   "cell_type": "code",
   "execution_count": null,
   "id": "816ac511",
   "metadata": {},
   "outputs": [],
   "source": [
    "model_rf = RandomForestClassifier()"
   ]
  },
  {
   "cell_type": "code",
   "execution_count": null,
   "id": "78af0c30",
   "metadata": {},
   "outputs": [],
   "source": [
    "model_rf.fit(X_train, y_train)"
   ]
  },
  {
   "cell_type": "code",
   "execution_count": null,
   "id": "22ba1f49",
   "metadata": {},
   "outputs": [],
   "source": [
    "model_rf.feature_importances_"
   ]
  },
  {
   "cell_type": "code",
   "execution_count": null,
   "id": "b543166a",
   "metadata": {},
   "outputs": [],
   "source": [
    "y_predict_rf = model_rf.predict(X_test)"
   ]
  },
  {
   "cell_type": "code",
   "execution_count": null,
   "id": "dec06bfc",
   "metadata": {},
   "outputs": [],
   "source": [
    "from sklearn.metrics import classification_report\n",
    "print(classification_report(y_test,y_predict_rf))"
   ]
  },
  {
   "cell_type": "code",
   "execution_count": null,
   "id": "d4d5d5d9",
   "metadata": {},
   "outputs": [],
   "source": [
    "print(pd.crosstab(y_test, y_pred, rownames=['Labels rééls'], colnames=['Predictions']))"
   ]
  },
  {
   "cell_type": "markdown",
   "id": "21332a45",
   "metadata": {},
   "source": [
    "Conclusion == overfiting"
   ]
  },
  {
   "cell_type": "markdown",
   "id": "18aa1d4a",
   "metadata": {},
   "source": [
    "### Gradient Boosting Classifier "
   ]
  },
  {
   "cell_type": "code",
   "execution_count": null,
   "id": "b33a8ba3",
   "metadata": {},
   "outputs": [],
   "source": [
    "from sklearn.ensemble import GradientBoostingClassifier\n",
    "learning_rates = [0.05, 0.1, 0.25, 0.5, 0.75, 1]\n",
    "for learning_rate in learning_rates:\n",
    "    gb = GradientBoostingClassifier(n_estimators=100, learning_rate= learning_rate, max_features=3, max_depth=3,random_state = 1)\n",
    "    gb.fit(X_train, y_train)\n",
    "    print(\"Learning_rate : \", learning_rate)\n",
    "    print(\"Acuracy_score (training) : {0:.3f}\".format (gb.score(X_train, y_train)))\n",
    "    print(\"Acuracy_score (validation) : {0:.3f}\".format (gb.score(X_test, y_test)))\n"
   ]
  },
  {
   "cell_type": "code",
   "execution_count": null,
   "id": "f18b4e27",
   "metadata": {},
   "outputs": [],
   "source": [
    "from sklearn.ensemble import GradientBoostingClassifier\n",
    "gb = GradientBoostingClassifier(n_estimators=100, learning_rate= learning_rate, max_features=3, max_depth=3,random_state = 1)\n",
    "gb.fit(X_train, y_train)\n",
    "predictions = gb.predict(X_test)\n",
    "\n",
    "print(\"Confusion matrix :\")\n",
    "print(confusion_matrix(y_test, predictions))\n",
    "print()\n",
    "print(\"Classification Report\")\n",
    "print(classification_report(y_test, predictions))"
   ]
  },
  {
   "cell_type": "code",
   "execution_count": null,
   "id": "e6bd64c7",
   "metadata": {},
   "outputs": [],
   "source": [
    "#!pip install eli5"
   ]
  },
  {
   "cell_type": "code",
   "execution_count": null,
   "id": "e5d22c74",
   "metadata": {},
   "outputs": [],
   "source": [
    "X_essaie = [\"DepartementLocalisationId\", \"StatutMandat\", \"BudgetMaxEuro\", \"TypeBienEnum\", \"TypeProjet\", \"SurfaceMin\",\"NombrePiecesEnum\", \"NombreChambresEnum\", \"NombreDeBiens\"]\n",
    "t = df[X_essaie]"
   ]
  },
  {
   "cell_type": "code",
   "execution_count": null,
   "id": "4d58c590",
   "metadata": {},
   "outputs": [],
   "source": [
    "t.describe()"
   ]
  },
  {
   "cell_type": "code",
   "execution_count": null,
   "id": "b6215a59",
   "metadata": {},
   "outputs": [],
   "source": [
    "import eli5\n",
    "from eli5.sklearn import PermutationImportance\n",
    "\n",
    "perm = PermutationImportance(gb, random_state = 1).fit(X,y)\n",
    "eli5.show_weights(perm, feature_names = t)"
   ]
  },
  {
   "cell_type": "code",
   "execution_count": null,
   "id": "14c71914",
   "metadata": {},
   "outputs": [],
   "source": []
  },
  {
   "cell_type": "markdown",
   "id": "af6f6f44",
   "metadata": {},
   "source": [
    "test un truc"
   ]
  },
  {
   "cell_type": "code",
   "execution_count": null,
   "id": "f519860e",
   "metadata": {},
   "outputs": [],
   "source": []
  },
  {
   "cell_type": "code",
   "execution_count": null,
   "id": "34c1290b",
   "metadata": {},
   "outputs": [],
   "source": [
    "proba_rf = model_rf.predict_proba(X_test)\n",
    "proba_lr = lr.predict_proba(X_test)\n",
    "\n",
    "fpr, tpr, _ = roc_curve(y_test, proba_rf)\n",
    "plt.plot(frp, tpr, \"b-.\", label = \"RF\")"
   ]
  },
  {
   "cell_type": "code",
   "execution_count": null,
   "id": "825ff687",
   "metadata": {},
   "outputs": [],
   "source": [
    "from sklearn.metrics import roc_curve "
   ]
  },
  {
   "cell_type": "markdown",
   "id": "1862dbe3",
   "metadata": {},
   "source": [
    "Comment gerer les problèmes de classification déséquilibrée? "
   ]
  },
  {
   "cell_type": "markdown",
   "id": "bca2ea22",
   "metadata": {},
   "source": [
    "1. Collecter des davantages de données\n",
    "2. Utiliser des methodes de rééchantillonnage\n",
    "3. Générer des échantillons synthetiques\n",
    "4. Repenser le problème\n",
    "5. Utiliser un modèle pénalisé\n",
    "6. Utiliser des methodes générant des sous-ensemble sous-échantillonés\n"
   ]
  },
  {
   "cell_type": "code",
   "execution_count": null,
   "id": "3db19a4f",
   "metadata": {},
   "outputs": [],
   "source": [
    "#!pip install imblearn"
   ]
  },
  {
   "cell_type": "markdown",
   "id": "038b9490",
   "metadata": {},
   "source": [
    "### Test Oversampling et Undersampling"
   ]
  },
  {
   "cell_type": "raw",
   "id": "6c5b74c2",
   "metadata": {},
   "source": [
    "Cela consiste a augmenter le nombre des classes minoritaires afin d'arriver à un ratio de classe minoritaire/majoritaire satisfaisant"
   ]
  },
  {
   "cell_type": "code",
   "execution_count": 49,
   "id": "0946f96e",
   "metadata": {},
   "outputs": [
    {
     "name": "stdout",
     "output_type": "stream",
     "text": [
      "                   pre       rec       spe        f1       geo       iba       sup\n",
      "\n",
      "          0       0.99      0.74      0.93      0.84      0.83      0.67      4739\n",
      "          1       0.34      0.93      0.74      0.50      0.83      0.70       698\n",
      "\n",
      "avg / total       0.90      0.76      0.90      0.80      0.83      0.68      5437\n",
      "\n"
     ]
    }
   ],
   "source": [
    "from sklearn.linear_model import LogisticRegression\n",
    "from imblearn.over_sampling import RandomOverSampler\n",
    "\n",
    "# Sur-échantillonnage à privilegier pour petit jeu de données\n",
    "rOs = RandomOverSampler()\n",
    "X_ro, y_ro = rOs.fit_resample(X_train, y_train)\n",
    "# Entraînement du modèle de régression logistique\n",
    "lr = LogisticRegression()\n",
    "lr.fit(X_ro, y_ro)\n",
    "# Affichage des résultats\n",
    "y_pred = lr.predict(X_test)\n",
    "\n",
    "from imblearn.metrics import classification_report_imbalanced\n",
    "print(classification_report_imbalanced(y_test, y_pred))\n"
   ]
  },
  {
   "cell_type": "code",
   "execution_count": 52,
   "id": "ad928f94",
   "metadata": {},
   "outputs": [
    {
     "data": {
      "text/plain": [
       "<AxesSubplot:>"
      ]
     },
     "execution_count": 52,
     "metadata": {},
     "output_type": "execute_result"
    },
    {
     "data": {
      "image/png": "[encoded data removed]",
      "text/plain": [
       "<Figure size 432x288 with 2 Axes>"
      ]
     },
     "metadata": {
      "needs_background": "light"
     },
     "output_type": "display_data"
    }
   ],
   "source": [
    "cm = confusion_matrix(y_test,lr.predict(X_test))\n",
    "sns.heatmap(cm,annot=True,fmt=\"d\")"
   ]
  },
  {
   "cell_type": "raw",
   "id": "dadb7b1b",
   "metadata": {},
   "source": [
    "Conclusion du sur-echantillonage\n",
    "\n",
    "classe 0: precision et recall élevé == classe bien gérée par le modèle\n",
    "classe 1: precision faible + recall élevé == classe bien détecté par le modèle mais inclut des observations d'autres classes\n",
    "\n",
    "aller voir la metrique geo (moyenne géométrique : racine du produit de la sensibilité et de la specificité)"
   ]
  },
  {
   "cell_type": "code",
   "execution_count": 50,
   "id": "46aa115d",
   "metadata": {},
   "outputs": [
    {
     "name": "stdout",
     "output_type": "stream",
     "text": [
      "                   pre       rec       spe        f1       geo       iba       sup\n",
      "\n",
      "          0       0.99      0.74      0.93      0.85      0.83      0.68      4739\n",
      "          1       0.34      0.93      0.74      0.50      0.83      0.70       698\n",
      "\n",
      "avg / total       0.90      0.76      0.91      0.80      0.83      0.68      5437\n",
      "\n"
     ]
    }
   ],
   "source": [
    "# Sous-échantillonnage\n",
    "from imblearn.under_sampling import RandomUnderSampler\n",
    "from imblearn.metrics import classification_report_imbalanced\n",
    "\n",
    "rUs = RandomUnderSampler()\n",
    "X_ru, y_ru = rUs.fit_resample(X_train, y_train)\n",
    "\n",
    "# Entraînement du modèle de régression logistique\n",
    "lr.fit(X_ru, y_ru)\n",
    "\n",
    "# Affichage des résultats\n",
    "y_pred = lr.predict(X_test)\n",
    "\n",
    "print(classification_report_imbalanced(y_test, y_pred))"
   ]
  },
  {
   "cell_type": "code",
   "execution_count": 51,
   "id": "3569e2a2",
   "metadata": {},
   "outputs": [
    {
     "data": {
      "text/plain": [
       "<AxesSubplot:>"
      ]
     },
     "execution_count": 51,
     "metadata": {},
     "output_type": "execute_result"
    },
    {
     "data": {
      "image/png": "[encoded data removed]",
      "text/plain": [
       "<Figure size 432x288 with 2 Axes>"
      ]
     },
     "metadata": {
      "needs_background": "light"
     },
     "output_type": "display_data"
    }
   ],
   "source": [
    "cm = confusion_matrix(y_test,lr.predict(X_test))\n",
    "sns.heatmap(cm,annot=True,fmt=\"d\")"
   ]
  },
  {
   "cell_type": "raw",
   "id": "cad812a8",
   "metadata": {},
   "source": [
    "Conclusion du sur-echantillonage\n",
    "\n",
    "classe 0: precision et recall élevé == classe bien gérée par le modèle\n",
    "classe 1: precision faible + recall élevé == classe bien détecté par le modèle mais inclut des observations d'autres classes"
   ]
  },
  {
   "cell_type": "markdown",
   "id": "99ff5a2e",
   "metadata": {},
   "source": [
    "#### Conclusion des test de Oversampling et Undersampling"
   ]
  },
  {
   "cell_type": "raw",
   "id": "cb3b4302",
   "metadata": {},
   "source": [
    "Grace au sur-échantillonnage, le modèle est un peu plus precis sur la classe 1.\n",
    "Mais c'est pas suffisant"
   ]
  },
  {
   "cell_type": "markdown",
   "id": "379f88ad",
   "metadata": {},
   "source": [
    "### Génération d'échantillons synthétiques"
   ]
  },
  {
   "cell_type": "code",
   "execution_count": 56,
   "id": "ddefdbfd",
   "metadata": {},
   "outputs": [
    {
     "name": "stdout",
     "output_type": "stream",
     "text": [
      "                  precision    recall  f1-score   support\n",
      "\n",
      "  échec(Class 0)       0.98      0.74      0.84      4739\n",
      "succès (Class 1)       0.34      0.92      0.50       698\n",
      "\n",
      "        accuracy                           0.76      5437\n",
      "       macro avg       0.66      0.83      0.67      5437\n",
      "    weighted avg       0.90      0.76      0.80      5437\n",
      "\n"
     ]
    }
   ],
   "source": [
    "#SMOTE\n",
    "from imblearn.over_sampling import SMOTE\n",
    "\n",
    "smo = SMOTE()\n",
    "X_sm, y_sm = smo.fit_resample(X_train, y_train)\n",
    "# Entraînement du modèle de régression logistique\n",
    "lr.fit(X_sm, y_sm)\n",
    "# Affichage des résultats\n",
    "y_pred = lr.predict(X_test)\n",
    "from sklearn.metrics import classification_report\n",
    "print(classification_report(y_test, y_pred, target_names = ['échec(Class 0)','succès (Class 1)']))\n",
    "#print(classification_report_imbalanced(y_test, y_pred))"
   ]
  },
  {
   "cell_type": "code",
   "execution_count": 57,
   "id": "8d4fca30",
   "metadata": {},
   "outputs": [
    {
     "data": {
      "text/plain": [
       "<AxesSubplot:>"
      ]
     },
     "execution_count": 57,
     "metadata": {},
     "output_type": "execute_result"
    },
    {
     "data": {
      "image/png": "[encoded data removed]",
      "text/plain": [
       "<Figure size 432x288 with 2 Axes>"
      ]
     },
     "metadata": {
      "needs_background": "light"
     },
     "output_type": "display_data"
    }
   ],
   "source": [
    "cm = confusion_matrix(y_test,lr.predict(X_test))\n",
    "sns.heatmap(cm,annot=True,fmt=\"d\")"
   ]
  },
  {
   "cell_type": "code",
   "execution_count": 58,
   "id": "bbda4e3f",
   "metadata": {},
   "outputs": [
    {
     "data": {
      "text/plain": [
       "<sklearn.metrics._plot.roc_curve.RocCurveDisplay at 0x1f23bc73490>"
      ]
     },
     "execution_count": 58,
     "metadata": {},
     "output_type": "execute_result"
    },
    {
     "data": {
      "image/png": "[encoded data removed]",
      "text/plain": [
       "<Figure size 432x288 with 1 Axes>"
      ]
     },
     "metadata": {
      "needs_background": "light"
     },
     "output_type": "display_data"
    }
   ],
   "source": [
    "from sklearn.metrics import plot_roc_curve\n",
    "plot_roc_curve(lr, X_train,y_train )"
   ]
  },
  {
   "cell_type": "code",
   "execution_count": 48,
   "id": "4e3d96f9",
   "metadata": {},
   "outputs": [
    {
     "name": "stdout",
     "output_type": "stream",
     "text": [
      "                   pre       rec       spe        f1       geo       iba       sup\n",
      "\n",
      "          0       0.96      0.76      0.78      0.85      0.77      0.60      4739\n",
      "          1       0.33      0.78      0.76      0.46      0.77      0.60       698\n",
      "\n",
      "avg / total       0.88      0.77      0.78      0.80      0.77      0.60      5437\n",
      "\n"
     ]
    }
   ],
   "source": [
    "from imblearn.under_sampling import ClusterCentroids \n",
    "# Sous-échantillonnage par calcul de centroïdes\n",
    "cc = ClusterCentroids()\n",
    "X_cc, y_cc = cc.fit_resample(X_train, y_train)\n",
    "# Entraînement du modèle de régression logistique\n",
    "lr.fit(X_cc, y_cc)\n",
    "# Affichage des résultats\n",
    "y_pred = lr.predict(X_test)\n",
    "print(classification_report_imbalanced(y_test, y_pred))"
   ]
  },
  {
   "cell_type": "markdown",
   "id": "4e9f87eb",
   "metadata": {},
   "source": [
    "### Tester d'autres algo, creer un seuil..."
   ]
  },
  {
   "cell_type": "code",
   "execution_count": null,
   "id": "fa2b5b6f",
   "metadata": {},
   "outputs": [],
   "source": [
    "threshold = 0.4 # Tester avec 0.35, 0.6, ...\n",
    "probs = lr.predict_proba(X_test)\n",
    "pred_class =  (probs[:,1] >= threshold).astype('int')\n",
    "\n",
    "pd.crosstab(y_test, pred_class)"
   ]
  },
  {
   "cell_type": "markdown",
   "id": "e34d3a0f",
   "metadata": {},
   "source": [
    "### Modèle pénalisé "
   ]
  },
  {
   "cell_type": "code",
   "execution_count": null,
   "id": "47381f0b",
   "metadata": {},
   "outputs": [],
   "source": [
    "from sklearn.svm import SVC\n",
    "\n",
    "svm = SVC(gamma ='scale', class_weight= \"balanced\")\n",
    "\n",
    "svm.fit(X_train, y_train)    \n",
    "\n",
    "preds = svm.predict(X_test)\n",
    "pd.crosstab(y_test, preds)"
   ]
  },
  {
   "cell_type": "code",
   "execution_count": null,
   "id": "2d4dc15a",
   "metadata": {},
   "outputs": [],
   "source": [
    "from imblearn.ensemble import BalancedRandomForestClassifier\n",
    "\n",
    "bclf = BalancedRandomForestClassifier()\n",
    "bclf.fit(X_train, y_train) \n",
    "\n",
    "y_pred = bclf.predict(X_test)\n",
    "pd.crosstab(y_test, y_pred)"
   ]
  },
  {
   "cell_type": "markdown",
   "id": "958bac11",
   "metadata": {},
   "source": [
    "### DesionTreeClassifier"
   ]
  },
  {
   "cell_type": "code",
   "execution_count": null,
   "id": "e91be59e",
   "metadata": {},
   "outputs": [],
   "source": [
    "X = df[[\"DepartementLocalisationId\", \"StatutMandat\", \"BudgetMaxEuro\", \"TypeBienEnum\", \"TypeProjet\", \"SurfaceMin\",\"NombrePiecesEnum\", \"NombreChambresEnum\", \"NombreDeBiens\"]]\n",
    "X.shape"
   ]
  },
  {
   "cell_type": "code",
   "execution_count": null,
   "id": "c1fbcefe",
   "metadata": {},
   "outputs": [],
   "source": [
    "y = df[\"Succes\"]\n",
    "y.shape"
   ]
  },
  {
   "cell_type": "code",
   "execution_count": null,
   "id": "65971256",
   "metadata": {},
   "outputs": [],
   "source": [
    "from sklearn.model_selection import train_test_split\n",
    "x_train, x_test, y_train, y_test = train_test_split(X,y, test_size = 0.33, random_state = 0)"
   ]
  },
  {
   "cell_type": "code",
   "execution_count": null,
   "id": "d7188577",
   "metadata": {},
   "outputs": [],
   "source": [
    "from sklearn.preprocessing import StandardScaler\n",
    "scaler = StandardScaler()\n",
    "X_train = scaler.fit_transform(x_train)\n",
    "X_test = scaler.transform(x_test)"
   ]
  },
  {
   "cell_type": "code",
   "execution_count": null,
   "id": "8a487911",
   "metadata": {},
   "outputs": [],
   "source": [
    "from sklearn.tree import DecisionTreeClassifier"
   ]
  },
  {
   "cell_type": "code",
   "execution_count": null,
   "id": "fc1a4d81",
   "metadata": {},
   "outputs": [],
   "source": [
    "modelTree = DecisionTreeClassifier(criterion = 'gini', max_depth = 3, random_state = 0)"
   ]
  },
  {
   "cell_type": "code",
   "execution_count": null,
   "id": "d6a643c9",
   "metadata": {},
   "outputs": [],
   "source": [
    "modelTree.fit(X_train, y_train)"
   ]
  },
  {
   "cell_type": "code",
   "execution_count": null,
   "id": "1a6f2c22",
   "metadata": {},
   "outputs": [],
   "source": [
    "y_pred = modelTree.predict(X_test)"
   ]
  },
  {
   "cell_type": "code",
   "execution_count": null,
   "id": "4c4f9a46",
   "metadata": {},
   "outputs": [],
   "source": [
    "y_pred_train_gini = modelTree.predict(X_train)"
   ]
  },
  {
   "cell_type": "code",
   "execution_count": null,
   "id": "949704a8",
   "metadata": {},
   "outputs": [],
   "source": [
    "print('Training-set accuracy score: {0:0.4f}'. format(accuracy_score(y_train, y_pred_train_gini)))"
   ]
  },
  {
   "cell_type": "code",
   "execution_count": null,
   "id": "b7dff501",
   "metadata": {},
   "outputs": [],
   "source": [
    "print('Training set score: {:.4f}'.format(modelTree.score(X_train, y_train)))\n",
    "print('Test set score: {:.4f}'.format(modelTree.score(X_test, y_test)))"
   ]
  },
  {
   "cell_type": "code",
   "execution_count": null,
   "id": "78f04a7b",
   "metadata": {},
   "outputs": [],
   "source": [
    "from sklearn.metrics import accuracy_score\n",
    "accuracy_score(y_test, y_pred)\n",
    "print(\"l'accuracy score est\",accuracy_score(y_test, y_pred))"
   ]
  },
  {
   "cell_type": "code",
   "execution_count": null,
   "id": "7ccd5dfc",
   "metadata": {},
   "outputs": [],
   "source": [
    "from sklearn.metrics import classification_report\n",
    "print(classification_report(y_test,y_pred))"
   ]
  },
  {
   "cell_type": "code",
   "execution_count": null,
   "id": "33a4637c",
   "metadata": {},
   "outputs": [],
   "source": [
    "modelTree.feature_importances_"
   ]
  },
  {
   "cell_type": "code",
   "execution_count": null,
   "id": "4c5daad3",
   "metadata": {},
   "outputs": [],
   "source": [
    "## Overfitting == modèle colle trop au données"
   ]
  },
  {
   "cell_type": "markdown",
   "id": "1368899f",
   "metadata": {},
   "source": [
    "### Grid Search CV sur Decision Tree Classifier "
   ]
  },
  {
   "cell_type": "code",
   "execution_count": null,
   "id": "35675892",
   "metadata": {},
   "outputs": [],
   "source": [
    "tree_params = {\n",
    "    \"max_depth\": [1, 2, 3, 5, 10, 20, 25, 30, 40, 50, 64],\n",
    "    \"max_features\": [1, 2, 3, 5, 10, 20, 30, 50, 64],\n",
    "}\n",
    "\n",
    "tree_grid = GridSearchCV(modelTree, tree_params, cv=5, n_jobs=-1, verbose=True)\n",
    "\n",
    "tree_grid.fit(X_train, y_train)"
   ]
  },
  {
   "cell_type": "code",
   "execution_count": null,
   "id": "1fd975bc",
   "metadata": {},
   "outputs": [],
   "source": [
    "# Conclusion overfiting"
   ]
  },
  {
   "cell_type": "code",
   "execution_count": null,
   "id": "62b21f35",
   "metadata": {},
   "outputs": [],
   "source": [
    "from scipy.stats import randint \n",
    "from sklearn.tree import DecisionTreeClassifier \n",
    "from sklearn.model_selection import RandomizedSearchCV \n",
    "  \n",
    "param_dist = {\"max_depth\": [3, None], \n",
    "              \"max_features\": randint(1, 9), \n",
    "              \"min_samples_leaf\": randint(1, 9), \n",
    "              \"criterion\": [\"gini\", \"entropy\"]} \n",
    "  \n",
    "tree = DecisionTreeClassifier() \n",
    "  \n",
    "tree_cv = RandomizedSearchCV(tree, param_dist, cv = 5) \n",
    "  \n",
    "tree_cv.fit(X, y) \n",
    "  \n",
    "print(\"Tuned Decision Tree Parameters: {}\".format(tree_cv.best_params_)) \n",
    "print(\"Best score is {}\".format(tree_cv.best_score_)) \n"
   ]
  },
  {
   "cell_type": "markdown",
   "id": "8e889bea",
   "metadata": {},
   "source": [
    "### Support Vector Machine"
   ]
  },
  {
   "cell_type": "code",
   "execution_count": null,
   "id": "e355584a",
   "metadata": {},
   "outputs": [],
   "source": [
    "X = df[[\"DepartementLocalisationId\", \"StatutMandat\", \"BudgetMaxEuro\", \"TypeBienEnum\", \"TypeProjet\", \"SurfaceMin\",\"NombrePiecesEnum\", \"NombreChambresEnum\", \"NombreDeBiens\"]]\n",
    "X.shape"
   ]
  },
  {
   "cell_type": "code",
   "execution_count": null,
   "id": "2a30a5cd",
   "metadata": {},
   "outputs": [],
   "source": [
    "y = df[\"Succes\"]\n",
    "y.shape"
   ]
  },
  {
   "cell_type": "code",
   "execution_count": null,
   "id": "f6f3a045",
   "metadata": {},
   "outputs": [],
   "source": [
    "from sklearn.model_selection import train_test_split\n",
    "x_train, x_test, y_train, y_test = train_test_split(X,y, test_size = 0.33, random_state = 0)"
   ]
  },
  {
   "cell_type": "code",
   "execution_count": null,
   "id": "28108ad6",
   "metadata": {},
   "outputs": [],
   "source": [
    "from sklearn.preprocessing import StandardScaler\n",
    "scaler = StandardScaler()\n",
    "X_train = scaler.fit_transform(x_train)\n",
    "X_test = scaler.transform(x_test)"
   ]
  },
  {
   "cell_type": "code",
   "execution_count": null,
   "id": "6ea0b773",
   "metadata": {},
   "outputs": [],
   "source": [
    "from sklearn.svm import SVC"
   ]
  },
  {
   "cell_type": "code",
   "execution_count": null,
   "id": "bbef77be",
   "metadata": {},
   "outputs": [],
   "source": [
    "svm = SVC()\n",
    "svm.fit(X_train, y_train) "
   ]
  },
  {
   "cell_type": "code",
   "execution_count": null,
   "id": "024577e3",
   "metadata": {},
   "outputs": [],
   "source": [
    "y_pred=svm.predict(X_test)"
   ]
  },
  {
   "cell_type": "code",
   "execution_count": null,
   "id": "dfdf4c65",
   "metadata": {},
   "outputs": [],
   "source": [
    "from sklearn.metrics import classification_report\n",
    "print(classification_report(y_test,y_pred))"
   ]
  },
  {
   "cell_type": "code",
   "execution_count": null,
   "id": "660e2a84",
   "metadata": {},
   "outputs": [],
   "source": [
    "print(pd.crosstab(y_test, y_pred, rownames=['Labels rééls'], colnames=['Predictions']))"
   ]
  },
  {
   "cell_type": "markdown",
   "id": "101bf2ed",
   "metadata": {},
   "source": [
    "### KNN KneighborsClassifier "
   ]
  },
  {
   "cell_type": "code",
   "execution_count": 59,
   "id": "06d4355e",
   "metadata": {},
   "outputs": [],
   "source": [
    "from sklearn.neighbors import KNeighborsClassifier\n",
    "neigh = KNeighborsClassifier(n_neighbors=2)"
   ]
  },
  {
   "cell_type": "code",
   "execution_count": 60,
   "id": "e32292a4",
   "metadata": {},
   "outputs": [
    {
     "data": {
      "text/plain": [
       "KNeighborsClassifier(n_neighbors=2)"
      ]
     },
     "execution_count": 60,
     "metadata": {},
     "output_type": "execute_result"
    }
   ],
   "source": [
    "neigh.fit(X_train, y_train)"
   ]
  },
  {
   "cell_type": "code",
   "execution_count": 61,
   "id": "c94ac7fc",
   "metadata": {},
   "outputs": [],
   "source": [
    "y_Knn = neigh.predict(X_test)"
   ]
  },
  {
   "cell_type": "code",
   "execution_count": 62,
   "id": "2012d424",
   "metadata": {},
   "outputs": [
    {
     "name": "stdout",
     "output_type": "stream",
     "text": [
      "              precision    recall  f1-score   support\n",
      "\n",
      "           0       0.98      1.00      0.99      4739\n",
      "           1       0.97      0.84      0.90       698\n",
      "\n",
      "    accuracy                           0.98      5437\n",
      "   macro avg       0.97      0.92      0.94      5437\n",
      "weighted avg       0.98      0.98      0.97      5437\n",
      "\n"
     ]
    }
   ],
   "source": [
    "from sklearn.metrics import classification_report\n",
    "print(classification_report(y_test,y_Knn))"
   ]
  },
  {
   "cell_type": "code",
   "execution_count": 63,
   "id": "5755f128",
   "metadata": {},
   "outputs": [
    {
     "name": "stdout",
     "output_type": "stream",
     "text": [
      "Predictions      0    1\n",
      "Labels rééls           \n",
      "0             4722   17\n",
      "1              115  583\n"
     ]
    }
   ],
   "source": [
    "print(pd.crosstab(y_test, y_Knn, rownames=['Labels rééls'], colnames=['Predictions']))"
   ]
  },
  {
   "cell_type": "markdown",
   "id": "9d404a0c",
   "metadata": {},
   "source": [
    "### Bayésien naïf, naive_bayes "
   ]
  },
  {
   "cell_type": "code",
   "execution_count": null,
   "id": "09159642",
   "metadata": {},
   "outputs": [],
   "source": [
    "from sklearn.naive_bayes import GaussianNB\n",
    "gnb = GaussianNB()"
   ]
  },
  {
   "cell_type": "code",
   "execution_count": null,
   "id": "173c0f50",
   "metadata": {},
   "outputs": [],
   "source": [
    "gnb.fit(X_train, y_train)"
   ]
  },
  {
   "cell_type": "code",
   "execution_count": null,
   "id": "312e4f62",
   "metadata": {},
   "outputs": [],
   "source": [
    "y_gnb = gnb.predict(X_test)"
   ]
  },
  {
   "cell_type": "code",
   "execution_count": null,
   "id": "c287697e",
   "metadata": {},
   "outputs": [],
   "source": [
    "from sklearn.metrics import classification_report\n",
    "print(classification_report(y_test,y_gnb))"
   ]
  },
  {
   "cell_type": "code",
   "execution_count": null,
   "id": "a346e0a4",
   "metadata": {},
   "outputs": [],
   "source": [
    "print(pd.crosstab(y_test, y_gnb, rownames=['Labels réels'], colnames=['Predictions']))"
   ]
  },
  {
   "cell_type": "code",
   "execution_count": null,
   "id": "a0a43827",
   "metadata": {},
   "outputs": [],
   "source": [
    "# une matrice de confusion est un résumé des resultats de predictions sur un problème de classification.\n",
    "# les predicitons correctes et incorrectes sont mises en lumière et repartie par classe.\n",
    "# Les résultats sont ainsi comparés avec les valeurs réelles.\n",
    "\n"
   ]
  },
  {
   "cell_type": "code",
   "execution_count": null,
   "id": "2b768697",
   "metadata": {},
   "outputs": [],
   "source": []
  },
  {
   "cell_type": "code",
   "execution_count": null,
   "id": "90a9bfb0",
   "metadata": {},
   "outputs": [],
   "source": []
  },
  {
   "cell_type": "code",
   "execution_count": null,
   "id": "7d8ff52f",
   "metadata": {},
   "outputs": [],
   "source": []
  },
  {
   "cell_type": "code",
   "execution_count": null,
   "id": "49a3c877",
   "metadata": {},
   "outputs": [],
   "source": []
  },
  {
   "cell_type": "code",
   "execution_count": null,
   "id": "1b25423a",
   "metadata": {},
   "outputs": [],
   "source": []
  },
  {
   "cell_type": "code",
   "execution_count": null,
   "id": "9188b0b5",
   "metadata": {},
   "outputs": [],
   "source": []
  },
  {
   "cell_type": "markdown",
   "id": "c54da791",
   "metadata": {},
   "source": [
    "Tester le modèle"
   ]
  },
  {
   "cell_type": "code",
   "execution_count": null,
   "id": "72906304",
   "metadata": {},
   "outputs": [],
   "source": []
  },
  {
   "cell_type": "markdown",
   "id": "e6f68573",
   "metadata": {},
   "source": [
    "### Regression logistique + validation croisée stratifiée K_fold"
   ]
  },
  {
   "cell_type": "markdown",
   "id": "dd6e466e",
   "metadata": {},
   "source": [
    "La validation croisée stratifiée k-fold est identique à la simple validation croisée k-fold, mais dans la validation croisée stratifiée k-fold, elle effectue un échantillonnage stratifié au lieu d'un échantillonnage aléatoire"
   ]
  },
  {
   "cell_type": "code",
   "execution_count": null,
   "id": "6161b098",
   "metadata": {},
   "outputs": [],
   "source": [
    "from statistics import mean, stdev\n",
    "from sklearn import preprocessing\n",
    "from sklearn.model_selection import StratifiedKFold\n",
    "from math import sqrt"
   ]
  },
  {
   "cell_type": "markdown",
   "id": "a8e86aef",
   "metadata": {},
   "source": [
    "definir les features et la target"
   ]
  },
  {
   "cell_type": "code",
   "execution_count": null,
   "id": "b9f756eb",
   "metadata": {},
   "outputs": [],
   "source": [
    "X = df[[\"DepartementLocalisationId\", \"StatutMandat\", \"BudgetMaxEuro\", \"TypeBienEnum\", \"TypeProjet\", \"SurfaceMin\",\"NombrePiecesEnum\", \"NombreChambresEnum\", \"NombreDeBiens\"]]\n",
    "X.shape"
   ]
  },
  {
   "cell_type": "code",
   "execution_count": null,
   "id": "fed3594d",
   "metadata": {},
   "outputs": [],
   "source": [
    "# Target\n",
    "y = df[\"Succes\"]\n",
    "y.shape"
   ]
  },
  {
   "cell_type": "code",
   "execution_count": null,
   "id": "8edc8b90",
   "metadata": {},
   "outputs": [],
   "source": [
    "scaler = preprocessing.MinMaxScaler()\n",
    "x_scaled = scaler.fit_transform(X)"
   ]
  },
  {
   "cell_type": "code",
   "execution_count": null,
   "id": "1d5ceb69",
   "metadata": {},
   "outputs": [],
   "source": [
    "from sklearn.model_selection import train_test_split\n",
    "x_train, x_test, y_train, y_test = train_test_split(X,y, test_size = 0.3, random_state = 0)"
   ]
  },
  {
   "cell_type": "code",
   "execution_count": null,
   "id": "994264b4",
   "metadata": {},
   "outputs": [],
   "source": [
    "from sklearn import linear_model"
   ]
  },
  {
   "cell_type": "code",
   "execution_count": null,
   "id": "6a5b29f9",
   "metadata": {},
   "outputs": [],
   "source": [
    "lr = linear_model.LogisticRegression()"
   ]
  },
  {
   "cell_type": "code",
   "execution_count": null,
   "id": "e1bdbb0f",
   "metadata": {},
   "outputs": [],
   "source": [
    "# create StratifiedKFold object\n",
    "\n",
    "skf = StratifiedKFold(n_splits=10, shuffle=True, random_state=1)\n",
    "lst_accu_stratified = []\n",
    "\n",
    "for train_index, test_index in skf.split(X, y):\n",
    "    x_train_fold, x_test_fold = x_scaled[train_index], x_scaled[test_index]\n",
    "    y_train_fold, y_test_fold = y[train_index], y[test_index]\n",
    "    lr.fit(x_train_fold, y_train_fold)\n",
    "    lst_accu_stratified.append(lr.score(x_test_fold, y_test_fold))\n",
    "    \n",
    "    print('List of possible accuracy:', lst_accu_stratified)\n",
    "    print('\\nMaximum Accuracy That can be obtained from this model is:',\n",
    "        max(lst_accu_stratified)*100, '%')\n",
    "    print('\\nMinimum Accuracy:',\n",
    "        min(lst_accu_stratified)*100, '%')\n",
    "    print('\\nOverall Accuracy:',\n",
    "          mean(lst_accu_stratified)*100, '%')\n",
    "    \n",
    "    #print('\\nStandard Deviation is:', std(lst_accu_stratified))"
   ]
  },
  {
   "cell_type": "code",
   "execution_count": null,
   "id": "c462d111",
   "metadata": {},
   "outputs": [],
   "source": []
  }
 ],
 "metadata": {
  "kernelspec": {
   "display_name": "Python 3 (ipykernel)",
   "language": "python",
   "name": "python3"
  },
  "language_info": {
   "codemirror_mode": {
    "name": "ipython",
    "version": 3
   },
   "file_extension": ".py",
   "mimetype": "text/x-python",
   "name": "python",
   "nbconvert_exporter": "python",
   "pygments_lexer": "ipython3",
   "version": "3.8.12"
  }
 },
 "nbformat": 4,
 "nbformat_minor": 5
}
