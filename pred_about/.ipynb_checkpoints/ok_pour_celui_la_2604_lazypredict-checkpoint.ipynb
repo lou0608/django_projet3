{
 "cells": [
  {
   "cell_type": "code",
   "execution_count": 3,
   "id": "96c8faf1",
   "metadata": {},
   "outputs": [],
   "source": [
    "import pandas as pd\n",
    "pd.set_option('display.max_columns', None)\n",
    "\n",
    "import numpy as np\n",
    "import scipy.stats as stat\n",
    "import scipy as sp\n",
    "import statistics\n",
    "\n",
    "import matplotlib.pyplot as plt\n",
    "from matplotlib import pyplot\n",
    "%matplotlib inline\n",
    "from mpl_toolkits.mplot3d import Axes3D\n",
    "from matplotlib import cm\n",
    "import seaborn as sns\n",
    "\n",
    "#import warnings\n",
    "#warnings.filterwarnings('ignore')\n",
    "\n",
    "# Modèle de ML\n",
    "from sklearn import linear_model\n",
    "\n",
    "# data pre-processing\n",
    "from sklearn import preprocessing\n",
    "from sklearn.model_selection import train_test_split\n",
    "\n",
    "# Outils score et evaluation de modèle\n",
    "from sklearn.metrics import accuracy_score, recall_score, precision_score, f1_score\n",
    "from sklearn import metrics\n",
    "from sklearn.metrics import classification_report\n",
    "from sklearn.metrics import confusion_matrix\n",
    "\n",
    "# Outils optmisation de modèle\n",
    "from sklearn.model_selection import GridSearchCV"
   ]
  },
  {
   "cell_type": "code",
   "execution_count": 4,
   "id": "0890a03b",
   "metadata": {},
   "outputs": [
    {
     "name": "stderr",
     "output_type": "stream",
     "text": [
      "C:\\Users\\Lou Doussiet\\AppData\\Roaming\\Python\\Python38\\site-packages\\sklearn\\utils\\deprecation.py:143: FutureWarning: The sklearn.utils.testing module is  deprecated in version 0.22 and will be removed in version 0.24. The corresponding classes / functions should instead be imported from sklearn.utils. Anything that cannot be imported from sklearn.utils is now part of the private API.\n",
      "  warnings.warn(message, FutureWarning)\n"
     ]
    }
   ],
   "source": [
    "from sklearn.utils._testing import ignore_warnings\n",
    "from lazypredict.Supervised import LazyClassifier, LazyRegressor\n"
   ]
  },
  {
   "cell_type": "code",
   "execution_count": 5,
   "id": "38793db9",
   "metadata": {},
   "outputs": [],
   "source": [
    "df = pd.read_csv(\"donnees_modiffiees6.csv\")"
   ]
  },
  {
   "cell_type": "code",
   "execution_count": 6,
   "id": "4edad5f2",
   "metadata": {},
   "outputs": [
    {
     "data": {
      "text/html": [
       "<div>\n",
       "<style scoped>\n",
       "    .dataframe tbody tr th:only-of-type {\n",
       "        vertical-align: middle;\n",
       "    }\n",
       "\n",
       "    .dataframe tbody tr th {\n",
       "        vertical-align: top;\n",
       "    }\n",
       "\n",
       "    .dataframe thead th {\n",
       "        text-align: right;\n",
       "    }\n",
       "</style>\n",
       "<table border=\"1\" class=\"dataframe\">\n",
       "  <thead>\n",
       "    <tr style=\"text-align: right;\">\n",
       "      <th></th>\n",
       "      <th>MandatId</th>\n",
       "      <th>SurfaceMin</th>\n",
       "      <th>NombrePiecesEnum</th>\n",
       "      <th>NombreChambresEnum</th>\n",
       "      <th>StatutProspectMandatClientID</th>\n",
       "      <th>TypeMission</th>\n",
       "      <th>TypeBien</th>\n",
       "      <th>TypeProjet</th>\n",
       "      <th>BudgetMaxEuro</th>\n",
       "      <th>CodePostal</th>\n",
       "      <th>Ville</th>\n",
       "      <th>Departement</th>\n",
       "      <th>dpt</th>\n",
       "      <th>Region</th>\n",
       "    </tr>\n",
       "  </thead>\n",
       "  <tbody>\n",
       "    <tr>\n",
       "      <th>0</th>\n",
       "      <td>5</td>\n",
       "      <td>60</td>\n",
       "      <td>3</td>\n",
       "      <td>2</td>\n",
       "      <td>9</td>\n",
       "      <td>1</td>\n",
       "      <td>2</td>\n",
       "      <td>0</td>\n",
       "      <td>250000</td>\n",
       "      <td>34000</td>\n",
       "      <td>Montpellier</td>\n",
       "      <td>Hérault</td>\n",
       "      <td>34</td>\n",
       "      <td>Languedoc-Roussillon</td>\n",
       "    </tr>\n",
       "    <tr>\n",
       "      <th>1</th>\n",
       "      <td>17</td>\n",
       "      <td>130</td>\n",
       "      <td>5</td>\n",
       "      <td>4</td>\n",
       "      <td>9</td>\n",
       "      <td>1</td>\n",
       "      <td>1</td>\n",
       "      <td>1</td>\n",
       "      <td>400000</td>\n",
       "      <td>34970</td>\n",
       "      <td>Lattes</td>\n",
       "      <td>Hérault</td>\n",
       "      <td>34</td>\n",
       "      <td>Languedoc-Roussillon</td>\n",
       "    </tr>\n",
       "    <tr>\n",
       "      <th>2</th>\n",
       "      <td>78</td>\n",
       "      <td>90</td>\n",
       "      <td>4</td>\n",
       "      <td>3</td>\n",
       "      <td>8</td>\n",
       "      <td>1</td>\n",
       "      <td>1</td>\n",
       "      <td>1</td>\n",
       "      <td>500000</td>\n",
       "      <td>34000</td>\n",
       "      <td>Montpellier</td>\n",
       "      <td>Hérault</td>\n",
       "      <td>34</td>\n",
       "      <td>Languedoc-Roussillon</td>\n",
       "    </tr>\n",
       "    <tr>\n",
       "      <th>3</th>\n",
       "      <td>79</td>\n",
       "      <td>50</td>\n",
       "      <td>3</td>\n",
       "      <td>2</td>\n",
       "      <td>9</td>\n",
       "      <td>1</td>\n",
       "      <td>1</td>\n",
       "      <td>1</td>\n",
       "      <td>240000</td>\n",
       "      <td>78300</td>\n",
       "      <td>Poissy</td>\n",
       "      <td>Yvelines</td>\n",
       "      <td>78</td>\n",
       "      <td>Île-de-France</td>\n",
       "    </tr>\n",
       "    <tr>\n",
       "      <th>4</th>\n",
       "      <td>81</td>\n",
       "      <td>90</td>\n",
       "      <td>3</td>\n",
       "      <td>2</td>\n",
       "      <td>9</td>\n",
       "      <td>1</td>\n",
       "      <td>1</td>\n",
       "      <td>1</td>\n",
       "      <td>300000</td>\n",
       "      <td>34000</td>\n",
       "      <td>Montpellier</td>\n",
       "      <td>Hérault</td>\n",
       "      <td>34</td>\n",
       "      <td>Languedoc-Roussillon</td>\n",
       "    </tr>\n",
       "  </tbody>\n",
       "</table>\n",
       "</div>"
      ],
      "text/plain": [
       "   MandatId  SurfaceMin  NombrePiecesEnum  NombreChambresEnum  \\\n",
       "0         5          60                 3                   2   \n",
       "1        17         130                 5                   4   \n",
       "2        78          90                 4                   3   \n",
       "3        79          50                 3                   2   \n",
       "4        81          90                 3                   2   \n",
       "\n",
       "   StatutProspectMandatClientID  TypeMission  TypeBien  TypeProjet  \\\n",
       "0                             9            1         2           0   \n",
       "1                             9            1         1           1   \n",
       "2                             8            1         1           1   \n",
       "3                             9            1         1           1   \n",
       "4                             9            1         1           1   \n",
       "\n",
       "   BudgetMaxEuro  CodePostal        Ville Departement  dpt  \\\n",
       "0         250000       34000  Montpellier     Hérault   34   \n",
       "1         400000       34970       Lattes     Hérault   34   \n",
       "2         500000       34000  Montpellier     Hérault   34   \n",
       "3         240000       78300       Poissy    Yvelines   78   \n",
       "4         300000       34000  Montpellier     Hérault   34   \n",
       "\n",
       "                 Region  \n",
       "0  Languedoc-Roussillon  \n",
       "1  Languedoc-Roussillon  \n",
       "2  Languedoc-Roussillon  \n",
       "3         Île-de-France  \n",
       "4  Languedoc-Roussillon  "
      ]
     },
     "execution_count": 6,
     "metadata": {},
     "output_type": "execute_result"
    }
   ],
   "source": [
    "df.head()"
   ]
  },
  {
   "cell_type": "code",
   "execution_count": 7,
   "id": "a9c2d65f",
   "metadata": {},
   "outputs": [
    {
     "name": "stdout",
     "output_type": "stream",
     "text": [
      "<class 'pandas.core.frame.DataFrame'>\n",
      "RangeIndex: 30082 entries, 0 to 30081\n",
      "Data columns (total 14 columns):\n",
      " #   Column                        Non-Null Count  Dtype \n",
      "---  ------                        --------------  ----- \n",
      " 0   MandatId                      30082 non-null  int64 \n",
      " 1   SurfaceMin                    30082 non-null  int64 \n",
      " 2   NombrePiecesEnum              30082 non-null  int64 \n",
      " 3   NombreChambresEnum            30082 non-null  int64 \n",
      " 4   StatutProspectMandatClientID  30082 non-null  int64 \n",
      " 5   TypeMission                   30082 non-null  int64 \n",
      " 6   TypeBien                      30082 non-null  int64 \n",
      " 7   TypeProjet                    30082 non-null  int64 \n",
      " 8   BudgetMaxEuro                 30082 non-null  int64 \n",
      " 9   CodePostal                    30082 non-null  int64 \n",
      " 10  Ville                         30082 non-null  object\n",
      " 11  Departement                   30082 non-null  object\n",
      " 12  dpt                           30082 non-null  int64 \n",
      " 13  Region                        30082 non-null  object\n",
      "dtypes: int64(11), object(3)\n",
      "memory usage: 3.2+ MB\n"
     ]
    }
   ],
   "source": [
    "df.info()"
   ]
  },
  {
   "cell_type": "code",
   "execution_count": 11,
   "id": "2f602704",
   "metadata": {},
   "outputs": [
    {
     "data": {
      "text/plain": [
       "9    19694\n",
       "8     9392\n",
       "7      996\n",
       "Name: StatutProspectMandatClientID, dtype: int64"
      ]
     },
     "execution_count": 11,
     "metadata": {},
     "output_type": "execute_result"
    }
   ],
   "source": [
    "df[\"StatutProspectMandatClientID\"].value_counts()"
   ]
  },
  {
   "cell_type": "code",
   "execution_count": 12,
   "id": "2811e5cf",
   "metadata": {},
   "outputs": [
    {
     "name": "stdout",
     "output_type": "stream",
     "text": [
      "0    19694\n",
      "1    10388\n",
      "Name: Succes, dtype: int64\n"
     ]
    }
   ],
   "source": [
    "conditionlist = [\n",
    "    (df['StatutProspectMandatClientID'] == 9),\n",
    "    (df['StatutProspectMandatClientID'] == 7),\n",
    "    (df['StatutProspectMandatClientID'] == 8)]\n",
    "\n",
    "choicelist = ['0','1','1']\n",
    "df['Succes'] = np.select(conditionlist, choicelist, default='Not Specified')\n",
    "print(df[\"Succes\"].value_counts())"
   ]
  },
  {
   "cell_type": "code",
   "execution_count": 13,
   "id": "c9461a1c",
   "metadata": {},
   "outputs": [
    {
     "data": {
      "image/png": "[encoded data removed]",
      "text/plain": [
       "<Figure size 432x432 with 1 Axes>"
      ]
     },
     "metadata": {},
     "output_type": "display_data"
    }
   ],
   "source": [
    "plot = df['Succes'].value_counts().plot(kind='pie', autopct='%.2f', \n",
    "                                            figsize=(6, 6),\n",
    "                                            title='Succes')"
   ]
  },
  {
   "cell_type": "code",
   "execution_count": 14,
   "id": "f28ca3f9",
   "metadata": {},
   "outputs": [
    {
     "name": "stdout",
     "output_type": "stream",
     "text": [
      "<class 'pandas.core.frame.DataFrame'>\n",
      "RangeIndex: 30082 entries, 0 to 30081\n",
      "Data columns (total 15 columns):\n",
      " #   Column                        Non-Null Count  Dtype \n",
      "---  ------                        --------------  ----- \n",
      " 0   MandatId                      30082 non-null  int64 \n",
      " 1   SurfaceMin                    30082 non-null  int64 \n",
      " 2   NombrePiecesEnum              30082 non-null  int64 \n",
      " 3   NombreChambresEnum            30082 non-null  int64 \n",
      " 4   StatutProspectMandatClientID  30082 non-null  int64 \n",
      " 5   TypeMission                   30082 non-null  int64 \n",
      " 6   TypeBien                      30082 non-null  int64 \n",
      " 7   TypeProjet                    30082 non-null  int64 \n",
      " 8   BudgetMaxEuro                 30082 non-null  int64 \n",
      " 9   CodePostal                    30082 non-null  int64 \n",
      " 10  Ville                         30082 non-null  object\n",
      " 11  Departement                   30082 non-null  object\n",
      " 12  dpt                           30082 non-null  int64 \n",
      " 13  Region                        30082 non-null  object\n",
      " 14  Succes                        30082 non-null  object\n",
      "dtypes: int64(11), object(4)\n",
      "memory usage: 3.4+ MB\n"
     ]
    }
   ],
   "source": [
    "df.info()"
   ]
  },
  {
   "cell_type": "code",
   "execution_count": 15,
   "id": "65017d2b",
   "metadata": {},
   "outputs": [],
   "source": [
    "X = df.drop([\"MandatId\",\"StatutProspectMandatClientID\", \"Departement\", \"dpt\", \"Ville\", \"Region\", \"Succes\"], axis = 1)\n",
    "y = df[\"Succes\"]"
   ]
  },
  {
   "cell_type": "code",
   "execution_count": 16,
   "id": "fc9cb4bd",
   "metadata": {},
   "outputs": [
    {
     "data": {
      "text/plain": [
       "Index(['SurfaceMin', 'NombrePiecesEnum', 'NombreChambresEnum', 'TypeMission',\n",
       "       'TypeBien', 'TypeProjet', 'BudgetMaxEuro', 'CodePostal'],\n",
       "      dtype='object')"
      ]
     },
     "execution_count": 16,
     "metadata": {},
     "output_type": "execute_result"
    }
   ],
   "source": [
    "X.columns"
   ]
  },
  {
   "cell_type": "code",
   "execution_count": 17,
   "id": "671fb25d",
   "metadata": {},
   "outputs": [],
   "source": [
    "X_train, X_test, y_train, y_test = train_test_split(X, y, test_size=0.2, random_state=42, stratify = y)"
   ]
  },
  {
   "cell_type": "code",
   "execution_count": 18,
   "id": "818c1122",
   "metadata": {},
   "outputs": [],
   "source": [
    "from sklearn.preprocessing import StandardScaler\n",
    "scaler = StandardScaler()\n",
    "X_train = scaler.fit_transform(X_train)\n",
    "X_test = scaler.transform(X_test)"
   ]
  },
  {
   "cell_type": "code",
   "execution_count": 19,
   "id": "b393cb02",
   "metadata": {},
   "outputs": [
    {
     "data": {
      "text/plain": [
       "array([[-0.01658402,  0.65169406,  0.74533465, ...,  0.35633926,\n",
       "        -0.26356048, -1.79542071],\n",
       "       [ 0.08423799,  1.37745728,  1.52501203, ...,  0.35633926,\n",
       "         1.00576968,  0.36950804],\n",
       "       [-0.04683063, -0.79983239, -0.81402013, ...,  0.35633926,\n",
       "        -0.21139623,  0.59577129],\n",
       "       ...,\n",
       "       [-0.05019136, -0.79983239, -0.81402013, ..., -1.6472365 ,\n",
       "        -0.29833665,  0.3636381 ],\n",
       "       [-0.05355209, -1.52559561, -1.59369751, ..., -1.6472365 ,\n",
       "        -0.38527707,  0.59553958],\n",
       "       [ 0.02374478,  0.65169406,  0.74533465, ...,  0.35633926,\n",
       "         0.13636546, -0.95933959]])"
      ]
     },
     "execution_count": 19,
     "metadata": {},
     "output_type": "execute_result"
    }
   ],
   "source": [
    "X_train"
   ]
  },
  {
   "cell_type": "code",
   "execution_count": 20,
   "id": "be4dd7b2",
   "metadata": {},
   "outputs": [
    {
     "name": "stderr",
     "output_type": "stream",
     "text": [
      "100%|██████████████████████████████████████████████████████████████████████████████████| 29/29 [02:59<00:00,  6.19s/it]\n"
     ]
    }
   ],
   "source": [
    "clf = LazyClassifier(predictions=True) \n",
    "modèles, prédictions = clf.fit(X_train, X_test, y_train, y_test)"
   ]
  },
  {
   "cell_type": "code",
   "execution_count": 21,
   "id": "0eaa30ad",
   "metadata": {},
   "outputs": [],
   "source": [
    "model_dictionary = clf.provide_models(X_train,X_test,y_train,y_test)"
   ]
  },
  {
   "cell_type": "code",
   "execution_count": 22,
   "id": "bc6ba551",
   "metadata": {},
   "outputs": [
    {
     "data": {
      "text/html": [
       "<div>\n",
       "<style scoped>\n",
       "    .dataframe tbody tr th:only-of-type {\n",
       "        vertical-align: middle;\n",
       "    }\n",
       "\n",
       "    .dataframe tbody tr th {\n",
       "        vertical-align: top;\n",
       "    }\n",
       "\n",
       "    .dataframe thead th {\n",
       "        text-align: right;\n",
       "    }\n",
       "</style>\n",
       "<table border=\"1\" class=\"dataframe\">\n",
       "  <thead>\n",
       "    <tr style=\"text-align: right;\">\n",
       "      <th></th>\n",
       "      <th>Accuracy</th>\n",
       "      <th>Balanced Accuracy</th>\n",
       "      <th>ROC AUC</th>\n",
       "      <th>F1 Score</th>\n",
       "      <th>Time Taken</th>\n",
       "    </tr>\n",
       "    <tr>\n",
       "      <th>Model</th>\n",
       "      <th></th>\n",
       "      <th></th>\n",
       "      <th></th>\n",
       "      <th></th>\n",
       "      <th></th>\n",
       "    </tr>\n",
       "  </thead>\n",
       "  <tbody>\n",
       "    <tr>\n",
       "      <th>ExtraTreesClassifier</th>\n",
       "      <td>0.89</td>\n",
       "      <td>0.88</td>\n",
       "      <td>0.88</td>\n",
       "      <td>0.89</td>\n",
       "      <td>2.11</td>\n",
       "    </tr>\n",
       "    <tr>\n",
       "      <th>RandomForestClassifier</th>\n",
       "      <td>0.88</td>\n",
       "      <td>0.86</td>\n",
       "      <td>0.86</td>\n",
       "      <td>0.88</td>\n",
       "      <td>1.97</td>\n",
       "    </tr>\n",
       "    <tr>\n",
       "      <th>BaggingClassifier</th>\n",
       "      <td>0.88</td>\n",
       "      <td>0.86</td>\n",
       "      <td>0.86</td>\n",
       "      <td>0.88</td>\n",
       "      <td>0.44</td>\n",
       "    </tr>\n",
       "    <tr>\n",
       "      <th>DecisionTreeClassifier</th>\n",
       "      <td>0.86</td>\n",
       "      <td>0.84</td>\n",
       "      <td>0.84</td>\n",
       "      <td>0.86</td>\n",
       "      <td>0.18</td>\n",
       "    </tr>\n",
       "    <tr>\n",
       "      <th>ExtraTreeClassifier</th>\n",
       "      <td>0.85</td>\n",
       "      <td>0.83</td>\n",
       "      <td>0.83</td>\n",
       "      <td>0.85</td>\n",
       "      <td>0.16</td>\n",
       "    </tr>\n",
       "    <tr>\n",
       "      <th>KNeighborsClassifier</th>\n",
       "      <td>0.83</td>\n",
       "      <td>0.81</td>\n",
       "      <td>0.81</td>\n",
       "      <td>0.83</td>\n",
       "      <td>0.78</td>\n",
       "    </tr>\n",
       "    <tr>\n",
       "      <th>XGBClassifier</th>\n",
       "      <td>0.79</td>\n",
       "      <td>0.74</td>\n",
       "      <td>0.74</td>\n",
       "      <td>0.78</td>\n",
       "      <td>0.69</td>\n",
       "    </tr>\n",
       "    <tr>\n",
       "      <th>LGBMClassifier</th>\n",
       "      <td>0.74</td>\n",
       "      <td>0.65</td>\n",
       "      <td>0.65</td>\n",
       "      <td>0.71</td>\n",
       "      <td>0.27</td>\n",
       "    </tr>\n",
       "    <tr>\n",
       "      <th>LabelPropagation</th>\n",
       "      <td>0.72</td>\n",
       "      <td>0.63</td>\n",
       "      <td>0.63</td>\n",
       "      <td>0.69</td>\n",
       "      <td>46.97</td>\n",
       "    </tr>\n",
       "    <tr>\n",
       "      <th>LabelSpreading</th>\n",
       "      <td>0.72</td>\n",
       "      <td>0.63</td>\n",
       "      <td>0.63</td>\n",
       "      <td>0.69</td>\n",
       "      <td>50.12</td>\n",
       "    </tr>\n",
       "    <tr>\n",
       "      <th>NuSVC</th>\n",
       "      <td>0.66</td>\n",
       "      <td>0.62</td>\n",
       "      <td>0.62</td>\n",
       "      <td>0.66</td>\n",
       "      <td>53.58</td>\n",
       "    </tr>\n",
       "    <tr>\n",
       "      <th>NearestCentroid</th>\n",
       "      <td>0.53</td>\n",
       "      <td>0.54</td>\n",
       "      <td>0.54</td>\n",
       "      <td>0.54</td>\n",
       "      <td>0.14</td>\n",
       "    </tr>\n",
       "    <tr>\n",
       "      <th>QuadraticDiscriminantAnalysis</th>\n",
       "      <td>0.40</td>\n",
       "      <td>0.53</td>\n",
       "      <td>0.53</td>\n",
       "      <td>0.30</td>\n",
       "      <td>0.13</td>\n",
       "    </tr>\n",
       "    <tr>\n",
       "      <th>GaussianNB</th>\n",
       "      <td>0.40</td>\n",
       "      <td>0.53</td>\n",
       "      <td>nan</td>\n",
       "      <td>0.30</td>\n",
       "      <td>0.13</td>\n",
       "    </tr>\n",
       "    <tr>\n",
       "      <th>AdaBoostClassifier</th>\n",
       "      <td>0.66</td>\n",
       "      <td>0.52</td>\n",
       "      <td>0.52</td>\n",
       "      <td>0.56</td>\n",
       "      <td>1.22</td>\n",
       "    </tr>\n",
       "    <tr>\n",
       "      <th>Perceptron</th>\n",
       "      <td>0.61</td>\n",
       "      <td>0.51</td>\n",
       "      <td>nan</td>\n",
       "      <td>0.57</td>\n",
       "      <td>0.10</td>\n",
       "    </tr>\n",
       "    <tr>\n",
       "      <th>SVC</th>\n",
       "      <td>0.66</td>\n",
       "      <td>0.50</td>\n",
       "      <td>0.50</td>\n",
       "      <td>0.52</td>\n",
       "      <td>13.81</td>\n",
       "    </tr>\n",
       "    <tr>\n",
       "      <th>BernoulliNB</th>\n",
       "      <td>0.65</td>\n",
       "      <td>0.50</td>\n",
       "      <td>nan</td>\n",
       "      <td>0.52</td>\n",
       "      <td>0.10</td>\n",
       "    </tr>\n",
       "    <tr>\n",
       "      <th>LogisticRegression</th>\n",
       "      <td>0.65</td>\n",
       "      <td>0.50</td>\n",
       "      <td>0.50</td>\n",
       "      <td>0.52</td>\n",
       "      <td>0.20</td>\n",
       "    </tr>\n",
       "    <tr>\n",
       "      <th>SGDClassifier</th>\n",
       "      <td>0.65</td>\n",
       "      <td>0.50</td>\n",
       "      <td>nan</td>\n",
       "      <td>0.52</td>\n",
       "      <td>0.15</td>\n",
       "    </tr>\n",
       "    <tr>\n",
       "      <th>CalibratedClassifierCV</th>\n",
       "      <td>0.65</td>\n",
       "      <td>0.50</td>\n",
       "      <td>nan</td>\n",
       "      <td>0.52</td>\n",
       "      <td>3.74</td>\n",
       "    </tr>\n",
       "    <tr>\n",
       "      <th>LinearSVC</th>\n",
       "      <td>0.65</td>\n",
       "      <td>0.50</td>\n",
       "      <td>0.50</td>\n",
       "      <td>0.52</td>\n",
       "      <td>1.70</td>\n",
       "    </tr>\n",
       "    <tr>\n",
       "      <th>LinearDiscriminantAnalysis</th>\n",
       "      <td>0.65</td>\n",
       "      <td>0.50</td>\n",
       "      <td>nan</td>\n",
       "      <td>0.52</td>\n",
       "      <td>0.20</td>\n",
       "    </tr>\n",
       "    <tr>\n",
       "      <th>RidgeClassifier</th>\n",
       "      <td>0.65</td>\n",
       "      <td>0.50</td>\n",
       "      <td>nan</td>\n",
       "      <td>0.52</td>\n",
       "      <td>0.14</td>\n",
       "    </tr>\n",
       "    <tr>\n",
       "      <th>RidgeClassifierCV</th>\n",
       "      <td>0.65</td>\n",
       "      <td>0.50</td>\n",
       "      <td>nan</td>\n",
       "      <td>0.52</td>\n",
       "      <td>0.16</td>\n",
       "    </tr>\n",
       "    <tr>\n",
       "      <th>DummyClassifier</th>\n",
       "      <td>0.54</td>\n",
       "      <td>0.49</td>\n",
       "      <td>0.49</td>\n",
       "      <td>0.54</td>\n",
       "      <td>0.14</td>\n",
       "    </tr>\n",
       "    <tr>\n",
       "      <th>PassiveAggressiveClassifier</th>\n",
       "      <td>0.51</td>\n",
       "      <td>0.48</td>\n",
       "      <td>nan</td>\n",
       "      <td>0.52</td>\n",
       "      <td>0.11</td>\n",
       "    </tr>\n",
       "  </tbody>\n",
       "</table>\n",
       "</div>"
      ],
      "text/plain": [
       "                               Accuracy  Balanced Accuracy  ROC AUC  F1 Score  \\\n",
       "Model                                                                           \n",
       "ExtraTreesClassifier               0.89               0.88     0.88      0.89   \n",
       "RandomForestClassifier             0.88               0.86     0.86      0.88   \n",
       "BaggingClassifier                  0.88               0.86     0.86      0.88   \n",
       "DecisionTreeClassifier             0.86               0.84     0.84      0.86   \n",
       "ExtraTreeClassifier                0.85               0.83     0.83      0.85   \n",
       "KNeighborsClassifier               0.83               0.81     0.81      0.83   \n",
       "XGBClassifier                      0.79               0.74     0.74      0.78   \n",
       "LGBMClassifier                     0.74               0.65     0.65      0.71   \n",
       "LabelPropagation                   0.72               0.63     0.63      0.69   \n",
       "LabelSpreading                     0.72               0.63     0.63      0.69   \n",
       "NuSVC                              0.66               0.62     0.62      0.66   \n",
       "NearestCentroid                    0.53               0.54     0.54      0.54   \n",
       "QuadraticDiscriminantAnalysis      0.40               0.53     0.53      0.30   \n",
       "GaussianNB                         0.40               0.53      nan      0.30   \n",
       "AdaBoostClassifier                 0.66               0.52     0.52      0.56   \n",
       "Perceptron                         0.61               0.51      nan      0.57   \n",
       "SVC                                0.66               0.50     0.50      0.52   \n",
       "BernoulliNB                        0.65               0.50      nan      0.52   \n",
       "LogisticRegression                 0.65               0.50     0.50      0.52   \n",
       "SGDClassifier                      0.65               0.50      nan      0.52   \n",
       "CalibratedClassifierCV             0.65               0.50      nan      0.52   \n",
       "LinearSVC                          0.65               0.50     0.50      0.52   \n",
       "LinearDiscriminantAnalysis         0.65               0.50      nan      0.52   \n",
       "RidgeClassifier                    0.65               0.50      nan      0.52   \n",
       "RidgeClassifierCV                  0.65               0.50      nan      0.52   \n",
       "DummyClassifier                    0.54               0.49     0.49      0.54   \n",
       "PassiveAggressiveClassifier        0.51               0.48      nan      0.52   \n",
       "\n",
       "                               Time Taken  \n",
       "Model                                      \n",
       "ExtraTreesClassifier                 2.11  \n",
       "RandomForestClassifier               1.97  \n",
       "BaggingClassifier                    0.44  \n",
       "DecisionTreeClassifier               0.18  \n",
       "ExtraTreeClassifier                  0.16  \n",
       "KNeighborsClassifier                 0.78  \n",
       "XGBClassifier                        0.69  \n",
       "LGBMClassifier                       0.27  \n",
       "LabelPropagation                    46.97  \n",
       "LabelSpreading                      50.12  \n",
       "NuSVC                               53.58  \n",
       "NearestCentroid                      0.14  \n",
       "QuadraticDiscriminantAnalysis        0.13  \n",
       "GaussianNB                           0.13  \n",
       "AdaBoostClassifier                   1.22  \n",
       "Perceptron                           0.10  \n",
       "SVC                                 13.81  \n",
       "BernoulliNB                          0.10  \n",
       "LogisticRegression                   0.20  \n",
       "SGDClassifier                        0.15  \n",
       "CalibratedClassifierCV               3.74  \n",
       "LinearSVC                            1.70  \n",
       "LinearDiscriminantAnalysis           0.20  \n",
       "RidgeClassifier                      0.14  \n",
       "RidgeClassifierCV                    0.16  \n",
       "DummyClassifier                      0.14  \n",
       "PassiveAggressiveClassifier          0.11  "
      ]
     },
     "execution_count": 22,
     "metadata": {},
     "output_type": "execute_result"
    }
   ],
   "source": [
    "modèles"
   ]
  },
  {
   "cell_type": "code",
   "execution_count": 23,
   "id": "f575b272",
   "metadata": {},
   "outputs": [
    {
     "data": {
      "text/html": [
       "<div>\n",
       "<style scoped>\n",
       "    .dataframe tbody tr th:only-of-type {\n",
       "        vertical-align: middle;\n",
       "    }\n",
       "\n",
       "    .dataframe tbody tr th {\n",
       "        vertical-align: top;\n",
       "    }\n",
       "\n",
       "    .dataframe thead th {\n",
       "        text-align: right;\n",
       "    }\n",
       "</style>\n",
       "<table border=\"1\" class=\"dataframe\">\n",
       "  <thead>\n",
       "    <tr style=\"text-align: right;\">\n",
       "      <th></th>\n",
       "      <th>AdaBoostClassifier</th>\n",
       "      <th>BaggingClassifier</th>\n",
       "      <th>BernoulliNB</th>\n",
       "      <th>CalibratedClassifierCV</th>\n",
       "      <th>DecisionTreeClassifier</th>\n",
       "      <th>DummyClassifier</th>\n",
       "      <th>ExtraTreeClassifier</th>\n",
       "      <th>ExtraTreesClassifier</th>\n",
       "      <th>GaussianNB</th>\n",
       "      <th>KNeighborsClassifier</th>\n",
       "      <th>LabelPropagation</th>\n",
       "      <th>LabelSpreading</th>\n",
       "      <th>LinearDiscriminantAnalysis</th>\n",
       "      <th>LinearSVC</th>\n",
       "      <th>LogisticRegression</th>\n",
       "      <th>NearestCentroid</th>\n",
       "      <th>NuSVC</th>\n",
       "      <th>PassiveAggressiveClassifier</th>\n",
       "      <th>Perceptron</th>\n",
       "      <th>QuadraticDiscriminantAnalysis</th>\n",
       "      <th>RandomForestClassifier</th>\n",
       "      <th>RidgeClassifier</th>\n",
       "      <th>RidgeClassifierCV</th>\n",
       "      <th>SGDClassifier</th>\n",
       "      <th>SVC</th>\n",
       "      <th>XGBClassifier</th>\n",
       "      <th>LGBMClassifier</th>\n",
       "    </tr>\n",
       "  </thead>\n",
       "  <tbody>\n",
       "    <tr>\n",
       "      <th>0</th>\n",
       "      <td>0</td>\n",
       "      <td>0</td>\n",
       "      <td>0</td>\n",
       "      <td>0</td>\n",
       "      <td>0</td>\n",
       "      <td>0</td>\n",
       "      <td>0</td>\n",
       "      <td>0</td>\n",
       "      <td>1</td>\n",
       "      <td>0</td>\n",
       "      <td>0</td>\n",
       "      <td>0</td>\n",
       "      <td>0</td>\n",
       "      <td>0</td>\n",
       "      <td>0</td>\n",
       "      <td>0</td>\n",
       "      <td>0</td>\n",
       "      <td>0</td>\n",
       "      <td>0</td>\n",
       "      <td>1</td>\n",
       "      <td>0</td>\n",
       "      <td>0</td>\n",
       "      <td>0</td>\n",
       "      <td>0</td>\n",
       "      <td>0</td>\n",
       "      <td>0</td>\n",
       "      <td>0</td>\n",
       "    </tr>\n",
       "    <tr>\n",
       "      <th>1</th>\n",
       "      <td>0</td>\n",
       "      <td>1</td>\n",
       "      <td>0</td>\n",
       "      <td>0</td>\n",
       "      <td>1</td>\n",
       "      <td>1</td>\n",
       "      <td>1</td>\n",
       "      <td>1</td>\n",
       "      <td>1</td>\n",
       "      <td>1</td>\n",
       "      <td>1</td>\n",
       "      <td>1</td>\n",
       "      <td>0</td>\n",
       "      <td>0</td>\n",
       "      <td>0</td>\n",
       "      <td>1</td>\n",
       "      <td>1</td>\n",
       "      <td>0</td>\n",
       "      <td>1</td>\n",
       "      <td>1</td>\n",
       "      <td>1</td>\n",
       "      <td>0</td>\n",
       "      <td>0</td>\n",
       "      <td>0</td>\n",
       "      <td>0</td>\n",
       "      <td>1</td>\n",
       "      <td>0</td>\n",
       "    </tr>\n",
       "    <tr>\n",
       "      <th>2</th>\n",
       "      <td>0</td>\n",
       "      <td>0</td>\n",
       "      <td>0</td>\n",
       "      <td>0</td>\n",
       "      <td>0</td>\n",
       "      <td>1</td>\n",
       "      <td>0</td>\n",
       "      <td>0</td>\n",
       "      <td>1</td>\n",
       "      <td>0</td>\n",
       "      <td>0</td>\n",
       "      <td>0</td>\n",
       "      <td>0</td>\n",
       "      <td>0</td>\n",
       "      <td>0</td>\n",
       "      <td>0</td>\n",
       "      <td>0</td>\n",
       "      <td>0</td>\n",
       "      <td>0</td>\n",
       "      <td>1</td>\n",
       "      <td>0</td>\n",
       "      <td>0</td>\n",
       "      <td>0</td>\n",
       "      <td>0</td>\n",
       "      <td>0</td>\n",
       "      <td>0</td>\n",
       "      <td>0</td>\n",
       "    </tr>\n",
       "    <tr>\n",
       "      <th>3</th>\n",
       "      <td>0</td>\n",
       "      <td>0</td>\n",
       "      <td>0</td>\n",
       "      <td>0</td>\n",
       "      <td>0</td>\n",
       "      <td>0</td>\n",
       "      <td>0</td>\n",
       "      <td>0</td>\n",
       "      <td>1</td>\n",
       "      <td>0</td>\n",
       "      <td>0</td>\n",
       "      <td>0</td>\n",
       "      <td>0</td>\n",
       "      <td>0</td>\n",
       "      <td>0</td>\n",
       "      <td>1</td>\n",
       "      <td>1</td>\n",
       "      <td>1</td>\n",
       "      <td>0</td>\n",
       "      <td>1</td>\n",
       "      <td>0</td>\n",
       "      <td>0</td>\n",
       "      <td>0</td>\n",
       "      <td>0</td>\n",
       "      <td>0</td>\n",
       "      <td>0</td>\n",
       "      <td>0</td>\n",
       "    </tr>\n",
       "    <tr>\n",
       "      <th>4</th>\n",
       "      <td>0</td>\n",
       "      <td>0</td>\n",
       "      <td>0</td>\n",
       "      <td>0</td>\n",
       "      <td>0</td>\n",
       "      <td>0</td>\n",
       "      <td>0</td>\n",
       "      <td>0</td>\n",
       "      <td>1</td>\n",
       "      <td>0</td>\n",
       "      <td>0</td>\n",
       "      <td>0</td>\n",
       "      <td>0</td>\n",
       "      <td>0</td>\n",
       "      <td>0</td>\n",
       "      <td>0</td>\n",
       "      <td>0</td>\n",
       "      <td>0</td>\n",
       "      <td>0</td>\n",
       "      <td>1</td>\n",
       "      <td>0</td>\n",
       "      <td>0</td>\n",
       "      <td>0</td>\n",
       "      <td>0</td>\n",
       "      <td>0</td>\n",
       "      <td>0</td>\n",
       "      <td>0</td>\n",
       "    </tr>\n",
       "    <tr>\n",
       "      <th>...</th>\n",
       "      <td>...</td>\n",
       "      <td>...</td>\n",
       "      <td>...</td>\n",
       "      <td>...</td>\n",
       "      <td>...</td>\n",
       "      <td>...</td>\n",
       "      <td>...</td>\n",
       "      <td>...</td>\n",
       "      <td>...</td>\n",
       "      <td>...</td>\n",
       "      <td>...</td>\n",
       "      <td>...</td>\n",
       "      <td>...</td>\n",
       "      <td>...</td>\n",
       "      <td>...</td>\n",
       "      <td>...</td>\n",
       "      <td>...</td>\n",
       "      <td>...</td>\n",
       "      <td>...</td>\n",
       "      <td>...</td>\n",
       "      <td>...</td>\n",
       "      <td>...</td>\n",
       "      <td>...</td>\n",
       "      <td>...</td>\n",
       "      <td>...</td>\n",
       "      <td>...</td>\n",
       "      <td>...</td>\n",
       "    </tr>\n",
       "    <tr>\n",
       "      <th>6012</th>\n",
       "      <td>0</td>\n",
       "      <td>0</td>\n",
       "      <td>0</td>\n",
       "      <td>0</td>\n",
       "      <td>0</td>\n",
       "      <td>1</td>\n",
       "      <td>0</td>\n",
       "      <td>0</td>\n",
       "      <td>1</td>\n",
       "      <td>0</td>\n",
       "      <td>0</td>\n",
       "      <td>0</td>\n",
       "      <td>0</td>\n",
       "      <td>0</td>\n",
       "      <td>0</td>\n",
       "      <td>1</td>\n",
       "      <td>0</td>\n",
       "      <td>0</td>\n",
       "      <td>1</td>\n",
       "      <td>1</td>\n",
       "      <td>0</td>\n",
       "      <td>0</td>\n",
       "      <td>0</td>\n",
       "      <td>0</td>\n",
       "      <td>0</td>\n",
       "      <td>0</td>\n",
       "      <td>0</td>\n",
       "    </tr>\n",
       "    <tr>\n",
       "      <th>6013</th>\n",
       "      <td>0</td>\n",
       "      <td>1</td>\n",
       "      <td>0</td>\n",
       "      <td>0</td>\n",
       "      <td>1</td>\n",
       "      <td>0</td>\n",
       "      <td>1</td>\n",
       "      <td>1</td>\n",
       "      <td>1</td>\n",
       "      <td>1</td>\n",
       "      <td>0</td>\n",
       "      <td>0</td>\n",
       "      <td>0</td>\n",
       "      <td>0</td>\n",
       "      <td>0</td>\n",
       "      <td>1</td>\n",
       "      <td>1</td>\n",
       "      <td>0</td>\n",
       "      <td>0</td>\n",
       "      <td>1</td>\n",
       "      <td>1</td>\n",
       "      <td>0</td>\n",
       "      <td>0</td>\n",
       "      <td>0</td>\n",
       "      <td>0</td>\n",
       "      <td>1</td>\n",
       "      <td>0</td>\n",
       "    </tr>\n",
       "    <tr>\n",
       "      <th>6014</th>\n",
       "      <td>0</td>\n",
       "      <td>0</td>\n",
       "      <td>0</td>\n",
       "      <td>0</td>\n",
       "      <td>0</td>\n",
       "      <td>0</td>\n",
       "      <td>0</td>\n",
       "      <td>0</td>\n",
       "      <td>1</td>\n",
       "      <td>0</td>\n",
       "      <td>0</td>\n",
       "      <td>0</td>\n",
       "      <td>0</td>\n",
       "      <td>0</td>\n",
       "      <td>0</td>\n",
       "      <td>1</td>\n",
       "      <td>0</td>\n",
       "      <td>0</td>\n",
       "      <td>0</td>\n",
       "      <td>1</td>\n",
       "      <td>0</td>\n",
       "      <td>0</td>\n",
       "      <td>0</td>\n",
       "      <td>0</td>\n",
       "      <td>0</td>\n",
       "      <td>0</td>\n",
       "      <td>0</td>\n",
       "    </tr>\n",
       "    <tr>\n",
       "      <th>6015</th>\n",
       "      <td>0</td>\n",
       "      <td>0</td>\n",
       "      <td>0</td>\n",
       "      <td>0</td>\n",
       "      <td>0</td>\n",
       "      <td>1</td>\n",
       "      <td>0</td>\n",
       "      <td>0</td>\n",
       "      <td>1</td>\n",
       "      <td>0</td>\n",
       "      <td>0</td>\n",
       "      <td>0</td>\n",
       "      <td>0</td>\n",
       "      <td>0</td>\n",
       "      <td>0</td>\n",
       "      <td>1</td>\n",
       "      <td>1</td>\n",
       "      <td>1</td>\n",
       "      <td>0</td>\n",
       "      <td>1</td>\n",
       "      <td>0</td>\n",
       "      <td>0</td>\n",
       "      <td>0</td>\n",
       "      <td>0</td>\n",
       "      <td>0</td>\n",
       "      <td>0</td>\n",
       "      <td>0</td>\n",
       "    </tr>\n",
       "    <tr>\n",
       "      <th>6016</th>\n",
       "      <td>0</td>\n",
       "      <td>0</td>\n",
       "      <td>0</td>\n",
       "      <td>0</td>\n",
       "      <td>0</td>\n",
       "      <td>0</td>\n",
       "      <td>0</td>\n",
       "      <td>0</td>\n",
       "      <td>1</td>\n",
       "      <td>0</td>\n",
       "      <td>0</td>\n",
       "      <td>0</td>\n",
       "      <td>0</td>\n",
       "      <td>0</td>\n",
       "      <td>0</td>\n",
       "      <td>0</td>\n",
       "      <td>0</td>\n",
       "      <td>1</td>\n",
       "      <td>0</td>\n",
       "      <td>1</td>\n",
       "      <td>0</td>\n",
       "      <td>0</td>\n",
       "      <td>0</td>\n",
       "      <td>0</td>\n",
       "      <td>0</td>\n",
       "      <td>0</td>\n",
       "      <td>0</td>\n",
       "    </tr>\n",
       "  </tbody>\n",
       "</table>\n",
       "<p>6017 rows × 27 columns</p>\n",
       "</div>"
      ],
      "text/plain": [
       "     AdaBoostClassifier BaggingClassifier BernoulliNB CalibratedClassifierCV  \\\n",
       "0                     0                 0           0                      0   \n",
       "1                     0                 1           0                      0   \n",
       "2                     0                 0           0                      0   \n",
       "3                     0                 0           0                      0   \n",
       "4                     0                 0           0                      0   \n",
       "...                 ...               ...         ...                    ...   \n",
       "6012                  0                 0           0                      0   \n",
       "6013                  0                 1           0                      0   \n",
       "6014                  0                 0           0                      0   \n",
       "6015                  0                 0           0                      0   \n",
       "6016                  0                 0           0                      0   \n",
       "\n",
       "     DecisionTreeClassifier DummyClassifier ExtraTreeClassifier  \\\n",
       "0                         0               0                   0   \n",
       "1                         1               1                   1   \n",
       "2                         0               1                   0   \n",
       "3                         0               0                   0   \n",
       "4                         0               0                   0   \n",
       "...                     ...             ...                 ...   \n",
       "6012                      0               1                   0   \n",
       "6013                      1               0                   1   \n",
       "6014                      0               0                   0   \n",
       "6015                      0               1                   0   \n",
       "6016                      0               0                   0   \n",
       "\n",
       "     ExtraTreesClassifier GaussianNB KNeighborsClassifier LabelPropagation  \\\n",
       "0                       0          1                    0                0   \n",
       "1                       1          1                    1                1   \n",
       "2                       0          1                    0                0   \n",
       "3                       0          1                    0                0   \n",
       "4                       0          1                    0                0   \n",
       "...                   ...        ...                  ...              ...   \n",
       "6012                    0          1                    0                0   \n",
       "6013                    1          1                    1                0   \n",
       "6014                    0          1                    0                0   \n",
       "6015                    0          1                    0                0   \n",
       "6016                    0          1                    0                0   \n",
       "\n",
       "     LabelSpreading LinearDiscriminantAnalysis LinearSVC LogisticRegression  \\\n",
       "0                 0                          0         0                  0   \n",
       "1                 1                          0         0                  0   \n",
       "2                 0                          0         0                  0   \n",
       "3                 0                          0         0                  0   \n",
       "4                 0                          0         0                  0   \n",
       "...             ...                        ...       ...                ...   \n",
       "6012              0                          0         0                  0   \n",
       "6013              0                          0         0                  0   \n",
       "6014              0                          0         0                  0   \n",
       "6015              0                          0         0                  0   \n",
       "6016              0                          0         0                  0   \n",
       "\n",
       "     NearestCentroid NuSVC PassiveAggressiveClassifier Perceptron  \\\n",
       "0                  0     0                           0          0   \n",
       "1                  1     1                           0          1   \n",
       "2                  0     0                           0          0   \n",
       "3                  1     1                           1          0   \n",
       "4                  0     0                           0          0   \n",
       "...              ...   ...                         ...        ...   \n",
       "6012               1     0                           0          1   \n",
       "6013               1     1                           0          0   \n",
       "6014               1     0                           0          0   \n",
       "6015               1     1                           1          0   \n",
       "6016               0     0                           1          0   \n",
       "\n",
       "     QuadraticDiscriminantAnalysis RandomForestClassifier RidgeClassifier  \\\n",
       "0                                1                      0               0   \n",
       "1                                1                      1               0   \n",
       "2                                1                      0               0   \n",
       "3                                1                      0               0   \n",
       "4                                1                      0               0   \n",
       "...                            ...                    ...             ...   \n",
       "6012                             1                      0               0   \n",
       "6013                             1                      1               0   \n",
       "6014                             1                      0               0   \n",
       "6015                             1                      0               0   \n",
       "6016                             1                      0               0   \n",
       "\n",
       "     RidgeClassifierCV SGDClassifier SVC XGBClassifier LGBMClassifier  \n",
       "0                    0             0   0             0              0  \n",
       "1                    0             0   0             1              0  \n",
       "2                    0             0   0             0              0  \n",
       "3                    0             0   0             0              0  \n",
       "4                    0             0   0             0              0  \n",
       "...                ...           ...  ..           ...            ...  \n",
       "6012                 0             0   0             0              0  \n",
       "6013                 0             0   0             1              0  \n",
       "6014                 0             0   0             0              0  \n",
       "6015                 0             0   0             0              0  \n",
       "6016                 0             0   0             0              0  \n",
       "\n",
       "[6017 rows x 27 columns]"
      ]
     },
     "execution_count": 23,
     "metadata": {},
     "output_type": "execute_result"
    }
   ],
   "source": [
    "prédictions"
   ]
  },
  {
   "cell_type": "code",
   "execution_count": 24,
   "id": "48759fa7",
   "metadata": {},
   "outputs": [
    {
     "data": {
      "text/plain": [
       "{'AdaBoostClassifier': Pipeline(steps=[('preprocessor',\n",
       "                  ColumnTransformer(transformers=[('numeric',\n",
       "                                                   Pipeline(steps=[('imputer',\n",
       "                                                                    SimpleImputer()),\n",
       "                                                                   ('scaler',\n",
       "                                                                    StandardScaler())]),\n",
       "                                                   Int64Index([0, 1, 2, 3, 4, 5, 6, 7], dtype='int64')),\n",
       "                                                  ('categorical_low',\n",
       "                                                   Pipeline(steps=[('imputer',\n",
       "                                                                    SimpleImputer(fill_value='missing',\n",
       "                                                                                  strategy='constant')),\n",
       "                                                                   ('encoding',\n",
       "                                                                    OneHotEncoder(handle_unknown='ignore',\n",
       "                                                                                  sparse=False))]),\n",
       "                                                   Int64Index([], dtype='int64')),\n",
       "                                                  ('categorical_high',\n",
       "                                                   Pipeline(steps=[('imputer',\n",
       "                                                                    SimpleImputer(fill_value='missing',\n",
       "                                                                                  strategy='constant')),\n",
       "                                                                   ('encoding',\n",
       "                                                                    OrdinalEncoder())]),\n",
       "                                                   Int64Index([], dtype='int64'))])),\n",
       "                 ('classifier', AdaBoostClassifier(random_state=42))]),\n",
       " 'BaggingClassifier': Pipeline(steps=[('preprocessor',\n",
       "                  ColumnTransformer(transformers=[('numeric',\n",
       "                                                   Pipeline(steps=[('imputer',\n",
       "                                                                    SimpleImputer()),\n",
       "                                                                   ('scaler',\n",
       "                                                                    StandardScaler())]),\n",
       "                                                   Int64Index([0, 1, 2, 3, 4, 5, 6, 7], dtype='int64')),\n",
       "                                                  ('categorical_low',\n",
       "                                                   Pipeline(steps=[('imputer',\n",
       "                                                                    SimpleImputer(fill_value='missing',\n",
       "                                                                                  strategy='constant')),\n",
       "                                                                   ('encoding',\n",
       "                                                                    OneHotEncoder(handle_unknown='ignore',\n",
       "                                                                                  sparse=False))]),\n",
       "                                                   Int64Index([], dtype='int64')),\n",
       "                                                  ('categorical_high',\n",
       "                                                   Pipeline(steps=[('imputer',\n",
       "                                                                    SimpleImputer(fill_value='missing',\n",
       "                                                                                  strategy='constant')),\n",
       "                                                                   ('encoding',\n",
       "                                                                    OrdinalEncoder())]),\n",
       "                                                   Int64Index([], dtype='int64'))])),\n",
       "                 ('classifier', BaggingClassifier(random_state=42))]),\n",
       " 'BernoulliNB': Pipeline(steps=[('preprocessor',\n",
       "                  ColumnTransformer(transformers=[('numeric',\n",
       "                                                   Pipeline(steps=[('imputer',\n",
       "                                                                    SimpleImputer()),\n",
       "                                                                   ('scaler',\n",
       "                                                                    StandardScaler())]),\n",
       "                                                   Int64Index([0, 1, 2, 3, 4, 5, 6, 7], dtype='int64')),\n",
       "                                                  ('categorical_low',\n",
       "                                                   Pipeline(steps=[('imputer',\n",
       "                                                                    SimpleImputer(fill_value='missing',\n",
       "                                                                                  strategy='constant')),\n",
       "                                                                   ('encoding',\n",
       "                                                                    OneHotEncoder(handle_unknown='ignore',\n",
       "                                                                                  sparse=False))]),\n",
       "                                                   Int64Index([], dtype='int64')),\n",
       "                                                  ('categorical_high',\n",
       "                                                   Pipeline(steps=[('imputer',\n",
       "                                                                    SimpleImputer(fill_value='missing',\n",
       "                                                                                  strategy='constant')),\n",
       "                                                                   ('encoding',\n",
       "                                                                    OrdinalEncoder())]),\n",
       "                                                   Int64Index([], dtype='int64'))])),\n",
       "                 ('classifier', BernoulliNB())]),\n",
       " 'CalibratedClassifierCV': Pipeline(steps=[('preprocessor',\n",
       "                  ColumnTransformer(transformers=[('numeric',\n",
       "                                                   Pipeline(steps=[('imputer',\n",
       "                                                                    SimpleImputer()),\n",
       "                                                                   ('scaler',\n",
       "                                                                    StandardScaler())]),\n",
       "                                                   Int64Index([0, 1, 2, 3, 4, 5, 6, 7], dtype='int64')),\n",
       "                                                  ('categorical_low',\n",
       "                                                   Pipeline(steps=[('imputer',\n",
       "                                                                    SimpleImputer(fill_value='missing',\n",
       "                                                                                  strategy='constant')),\n",
       "                                                                   ('encoding',\n",
       "                                                                    OneHotEncoder(handle_unknown='ignore',\n",
       "                                                                                  sparse=False))]),\n",
       "                                                   Int64Index([], dtype='int64')),\n",
       "                                                  ('categorical_high',\n",
       "                                                   Pipeline(steps=[('imputer',\n",
       "                                                                    SimpleImputer(fill_value='missing',\n",
       "                                                                                  strategy='constant')),\n",
       "                                                                   ('encoding',\n",
       "                                                                    OrdinalEncoder())]),\n",
       "                                                   Int64Index([], dtype='int64'))])),\n",
       "                 ('classifier', CalibratedClassifierCV())]),\n",
       " 'DecisionTreeClassifier': Pipeline(steps=[('preprocessor',\n",
       "                  ColumnTransformer(transformers=[('numeric',\n",
       "                                                   Pipeline(steps=[('imputer',\n",
       "                                                                    SimpleImputer()),\n",
       "                                                                   ('scaler',\n",
       "                                                                    StandardScaler())]),\n",
       "                                                   Int64Index([0, 1, 2, 3, 4, 5, 6, 7], dtype='int64')),\n",
       "                                                  ('categorical_low',\n",
       "                                                   Pipeline(steps=[('imputer',\n",
       "                                                                    SimpleImputer(fill_value='missing',\n",
       "                                                                                  strategy='constant')),\n",
       "                                                                   ('encoding',\n",
       "                                                                    OneHotEncoder(handle_unknown='ignore',\n",
       "                                                                                  sparse=False))]),\n",
       "                                                   Int64Index([], dtype='int64')),\n",
       "                                                  ('categorical_high',\n",
       "                                                   Pipeline(steps=[('imputer',\n",
       "                                                                    SimpleImputer(fill_value='missing',\n",
       "                                                                                  strategy='constant')),\n",
       "                                                                   ('encoding',\n",
       "                                                                    OrdinalEncoder())]),\n",
       "                                                   Int64Index([], dtype='int64'))])),\n",
       "                 ('classifier', DecisionTreeClassifier(random_state=42))]),\n",
       " 'DummyClassifier': Pipeline(steps=[('preprocessor',\n",
       "                  ColumnTransformer(transformers=[('numeric',\n",
       "                                                   Pipeline(steps=[('imputer',\n",
       "                                                                    SimpleImputer()),\n",
       "                                                                   ('scaler',\n",
       "                                                                    StandardScaler())]),\n",
       "                                                   Int64Index([0, 1, 2, 3, 4, 5, 6, 7], dtype='int64')),\n",
       "                                                  ('categorical_low',\n",
       "                                                   Pipeline(steps=[('imputer',\n",
       "                                                                    SimpleImputer(fill_value='missing',\n",
       "                                                                                  strategy='constant')),\n",
       "                                                                   ('encoding',\n",
       "                                                                    OneHotEncoder(handle_unknown='ignore',\n",
       "                                                                                  sparse=False))]),\n",
       "                                                   Int64Index([], dtype='int64')),\n",
       "                                                  ('categorical_high',\n",
       "                                                   Pipeline(steps=[('imputer',\n",
       "                                                                    SimpleImputer(fill_value='missing',\n",
       "                                                                                  strategy='constant')),\n",
       "                                                                   ('encoding',\n",
       "                                                                    OrdinalEncoder())]),\n",
       "                                                   Int64Index([], dtype='int64'))])),\n",
       "                 ('classifier', DummyClassifier(random_state=42))]),\n",
       " 'ExtraTreeClassifier': Pipeline(steps=[('preprocessor',\n",
       "                  ColumnTransformer(transformers=[('numeric',\n",
       "                                                   Pipeline(steps=[('imputer',\n",
       "                                                                    SimpleImputer()),\n",
       "                                                                   ('scaler',\n",
       "                                                                    StandardScaler())]),\n",
       "                                                   Int64Index([0, 1, 2, 3, 4, 5, 6, 7], dtype='int64')),\n",
       "                                                  ('categorical_low',\n",
       "                                                   Pipeline(steps=[('imputer',\n",
       "                                                                    SimpleImputer(fill_value='missing',\n",
       "                                                                                  strategy='constant')),\n",
       "                                                                   ('encoding',\n",
       "                                                                    OneHotEncoder(handle_unknown='ignore',\n",
       "                                                                                  sparse=False))]),\n",
       "                                                   Int64Index([], dtype='int64')),\n",
       "                                                  ('categorical_high',\n",
       "                                                   Pipeline(steps=[('imputer',\n",
       "                                                                    SimpleImputer(fill_value='missing',\n",
       "                                                                                  strategy='constant')),\n",
       "                                                                   ('encoding',\n",
       "                                                                    OrdinalEncoder())]),\n",
       "                                                   Int64Index([], dtype='int64'))])),\n",
       "                 ('classifier', ExtraTreeClassifier(random_state=42))]),\n",
       " 'ExtraTreesClassifier': Pipeline(steps=[('preprocessor',\n",
       "                  ColumnTransformer(transformers=[('numeric',\n",
       "                                                   Pipeline(steps=[('imputer',\n",
       "                                                                    SimpleImputer()),\n",
       "                                                                   ('scaler',\n",
       "                                                                    StandardScaler())]),\n",
       "                                                   Int64Index([0, 1, 2, 3, 4, 5, 6, 7], dtype='int64')),\n",
       "                                                  ('categorical_low',\n",
       "                                                   Pipeline(steps=[('imputer',\n",
       "                                                                    SimpleImputer(fill_value='missing',\n",
       "                                                                                  strategy='constant')),\n",
       "                                                                   ('encoding',\n",
       "                                                                    OneHotEncoder(handle_unknown='ignore',\n",
       "                                                                                  sparse=False))]),\n",
       "                                                   Int64Index([], dtype='int64')),\n",
       "                                                  ('categorical_high',\n",
       "                                                   Pipeline(steps=[('imputer',\n",
       "                                                                    SimpleImputer(fill_value='missing',\n",
       "                                                                                  strategy='constant')),\n",
       "                                                                   ('encoding',\n",
       "                                                                    OrdinalEncoder())]),\n",
       "                                                   Int64Index([], dtype='int64'))])),\n",
       "                 ('classifier', ExtraTreesClassifier(random_state=42))]),\n",
       " 'GaussianNB': Pipeline(steps=[('preprocessor',\n",
       "                  ColumnTransformer(transformers=[('numeric',\n",
       "                                                   Pipeline(steps=[('imputer',\n",
       "                                                                    SimpleImputer()),\n",
       "                                                                   ('scaler',\n",
       "                                                                    StandardScaler())]),\n",
       "                                                   Int64Index([0, 1, 2, 3, 4, 5, 6, 7], dtype='int64')),\n",
       "                                                  ('categorical_low',\n",
       "                                                   Pipeline(steps=[('imputer',\n",
       "                                                                    SimpleImputer(fill_value='missing',\n",
       "                                                                                  strategy='constant')),\n",
       "                                                                   ('encoding',\n",
       "                                                                    OneHotEncoder(handle_unknown='ignore',\n",
       "                                                                                  sparse=False))]),\n",
       "                                                   Int64Index([], dtype='int64')),\n",
       "                                                  ('categorical_high',\n",
       "                                                   Pipeline(steps=[('imputer',\n",
       "                                                                    SimpleImputer(fill_value='missing',\n",
       "                                                                                  strategy='constant')),\n",
       "                                                                   ('encoding',\n",
       "                                                                    OrdinalEncoder())]),\n",
       "                                                   Int64Index([], dtype='int64'))])),\n",
       "                 ('classifier', GaussianNB())]),\n",
       " 'KNeighborsClassifier': Pipeline(steps=[('preprocessor',\n",
       "                  ColumnTransformer(transformers=[('numeric',\n",
       "                                                   Pipeline(steps=[('imputer',\n",
       "                                                                    SimpleImputer()),\n",
       "                                                                   ('scaler',\n",
       "                                                                    StandardScaler())]),\n",
       "                                                   Int64Index([0, 1, 2, 3, 4, 5, 6, 7], dtype='int64')),\n",
       "                                                  ('categorical_low',\n",
       "                                                   Pipeline(steps=[('imputer',\n",
       "                                                                    SimpleImputer(fill_value='missing',\n",
       "                                                                                  strategy='constant')),\n",
       "                                                                   ('encoding',\n",
       "                                                                    OneHotEncoder(handle_unknown='ignore',\n",
       "                                                                                  sparse=False))]),\n",
       "                                                   Int64Index([], dtype='int64')),\n",
       "                                                  ('categorical_high',\n",
       "                                                   Pipeline(steps=[('imputer',\n",
       "                                                                    SimpleImputer(fill_value='missing',\n",
       "                                                                                  strategy='constant')),\n",
       "                                                                   ('encoding',\n",
       "                                                                    OrdinalEncoder())]),\n",
       "                                                   Int64Index([], dtype='int64'))])),\n",
       "                 ('classifier', KNeighborsClassifier())]),\n",
       " 'LabelPropagation': Pipeline(steps=[('preprocessor',\n",
       "                  ColumnTransformer(transformers=[('numeric',\n",
       "                                                   Pipeline(steps=[('imputer',\n",
       "                                                                    SimpleImputer()),\n",
       "                                                                   ('scaler',\n",
       "                                                                    StandardScaler())]),\n",
       "                                                   Int64Index([0, 1, 2, 3, 4, 5, 6, 7], dtype='int64')),\n",
       "                                                  ('categorical_low',\n",
       "                                                   Pipeline(steps=[('imputer',\n",
       "                                                                    SimpleImputer(fill_value='missing',\n",
       "                                                                                  strategy='constant')),\n",
       "                                                                   ('encoding',\n",
       "                                                                    OneHotEncoder(handle_unknown='ignore',\n",
       "                                                                                  sparse=False))]),\n",
       "                                                   Int64Index([], dtype='int64')),\n",
       "                                                  ('categorical_high',\n",
       "                                                   Pipeline(steps=[('imputer',\n",
       "                                                                    SimpleImputer(fill_value='missing',\n",
       "                                                                                  strategy='constant')),\n",
       "                                                                   ('encoding',\n",
       "                                                                    OrdinalEncoder())]),\n",
       "                                                   Int64Index([], dtype='int64'))])),\n",
       "                 ('classifier', LabelPropagation())]),\n",
       " 'LabelSpreading': Pipeline(steps=[('preprocessor',\n",
       "                  ColumnTransformer(transformers=[('numeric',\n",
       "                                                   Pipeline(steps=[('imputer',\n",
       "                                                                    SimpleImputer()),\n",
       "                                                                   ('scaler',\n",
       "                                                                    StandardScaler())]),\n",
       "                                                   Int64Index([0, 1, 2, 3, 4, 5, 6, 7], dtype='int64')),\n",
       "                                                  ('categorical_low',\n",
       "                                                   Pipeline(steps=[('imputer',\n",
       "                                                                    SimpleImputer(fill_value='missing',\n",
       "                                                                                  strategy='constant')),\n",
       "                                                                   ('encoding',\n",
       "                                                                    OneHotEncoder(handle_unknown='ignore',\n",
       "                                                                                  sparse=False))]),\n",
       "                                                   Int64Index([], dtype='int64')),\n",
       "                                                  ('categorical_high',\n",
       "                                                   Pipeline(steps=[('imputer',\n",
       "                                                                    SimpleImputer(fill_value='missing',\n",
       "                                                                                  strategy='constant')),\n",
       "                                                                   ('encoding',\n",
       "                                                                    OrdinalEncoder())]),\n",
       "                                                   Int64Index([], dtype='int64'))])),\n",
       "                 ('classifier', LabelSpreading())]),\n",
       " 'LinearDiscriminantAnalysis': Pipeline(steps=[('preprocessor',\n",
       "                  ColumnTransformer(transformers=[('numeric',\n",
       "                                                   Pipeline(steps=[('imputer',\n",
       "                                                                    SimpleImputer()),\n",
       "                                                                   ('scaler',\n",
       "                                                                    StandardScaler())]),\n",
       "                                                   Int64Index([0, 1, 2, 3, 4, 5, 6, 7], dtype='int64')),\n",
       "                                                  ('categorical_low',\n",
       "                                                   Pipeline(steps=[('imputer',\n",
       "                                                                    SimpleImputer(fill_value='missing',\n",
       "                                                                                  strategy='constant')),\n",
       "                                                                   ('encoding',\n",
       "                                                                    OneHotEncoder(handle_unknown='ignore',\n",
       "                                                                                  sparse=False))]),\n",
       "                                                   Int64Index([], dtype='int64')),\n",
       "                                                  ('categorical_high',\n",
       "                                                   Pipeline(steps=[('imputer',\n",
       "                                                                    SimpleImputer(fill_value='missing',\n",
       "                                                                                  strategy='constant')),\n",
       "                                                                   ('encoding',\n",
       "                                                                    OrdinalEncoder())]),\n",
       "                                                   Int64Index([], dtype='int64'))])),\n",
       "                 ('classifier', LinearDiscriminantAnalysis())]),\n",
       " 'LinearSVC': Pipeline(steps=[('preprocessor',\n",
       "                  ColumnTransformer(transformers=[('numeric',\n",
       "                                                   Pipeline(steps=[('imputer',\n",
       "                                                                    SimpleImputer()),\n",
       "                                                                   ('scaler',\n",
       "                                                                    StandardScaler())]),\n",
       "                                                   Int64Index([0, 1, 2, 3, 4, 5, 6, 7], dtype='int64')),\n",
       "                                                  ('categorical_low',\n",
       "                                                   Pipeline(steps=[('imputer',\n",
       "                                                                    SimpleImputer(fill_value='missing',\n",
       "                                                                                  strategy='constant')),\n",
       "                                                                   ('encoding',\n",
       "                                                                    OneHotEncoder(handle_unknown='ignore',\n",
       "                                                                                  sparse=False))]),\n",
       "                                                   Int64Index([], dtype='int64')),\n",
       "                                                  ('categorical_high',\n",
       "                                                   Pipeline(steps=[('imputer',\n",
       "                                                                    SimpleImputer(fill_value='missing',\n",
       "                                                                                  strategy='constant')),\n",
       "                                                                   ('encoding',\n",
       "                                                                    OrdinalEncoder())]),\n",
       "                                                   Int64Index([], dtype='int64'))])),\n",
       "                 ('classifier', LinearSVC(random_state=42))]),\n",
       " 'LogisticRegression': Pipeline(steps=[('preprocessor',\n",
       "                  ColumnTransformer(transformers=[('numeric',\n",
       "                                                   Pipeline(steps=[('imputer',\n",
       "                                                                    SimpleImputer()),\n",
       "                                                                   ('scaler',\n",
       "                                                                    StandardScaler())]),\n",
       "                                                   Int64Index([0, 1, 2, 3, 4, 5, 6, 7], dtype='int64')),\n",
       "                                                  ('categorical_low',\n",
       "                                                   Pipeline(steps=[('imputer',\n",
       "                                                                    SimpleImputer(fill_value='missing',\n",
       "                                                                                  strategy='constant')),\n",
       "                                                                   ('encoding',\n",
       "                                                                    OneHotEncoder(handle_unknown='ignore',\n",
       "                                                                                  sparse=False))]),\n",
       "                                                   Int64Index([], dtype='int64')),\n",
       "                                                  ('categorical_high',\n",
       "                                                   Pipeline(steps=[('imputer',\n",
       "                                                                    SimpleImputer(fill_value='missing',\n",
       "                                                                                  strategy='constant')),\n",
       "                                                                   ('encoding',\n",
       "                                                                    OrdinalEncoder())]),\n",
       "                                                   Int64Index([], dtype='int64'))])),\n",
       "                 ('classifier', LogisticRegression(random_state=42))]),\n",
       " 'NearestCentroid': Pipeline(steps=[('preprocessor',\n",
       "                  ColumnTransformer(transformers=[('numeric',\n",
       "                                                   Pipeline(steps=[('imputer',\n",
       "                                                                    SimpleImputer()),\n",
       "                                                                   ('scaler',\n",
       "                                                                    StandardScaler())]),\n",
       "                                                   Int64Index([0, 1, 2, 3, 4, 5, 6, 7], dtype='int64')),\n",
       "                                                  ('categorical_low',\n",
       "                                                   Pipeline(steps=[('imputer',\n",
       "                                                                    SimpleImputer(fill_value='missing',\n",
       "                                                                                  strategy='constant')),\n",
       "                                                                   ('encoding',\n",
       "                                                                    OneHotEncoder(handle_unknown='ignore',\n",
       "                                                                                  sparse=False))]),\n",
       "                                                   Int64Index([], dtype='int64')),\n",
       "                                                  ('categorical_high',\n",
       "                                                   Pipeline(steps=[('imputer',\n",
       "                                                                    SimpleImputer(fill_value='missing',\n",
       "                                                                                  strategy='constant')),\n",
       "                                                                   ('encoding',\n",
       "                                                                    OrdinalEncoder())]),\n",
       "                                                   Int64Index([], dtype='int64'))])),\n",
       "                 ('classifier', NearestCentroid())]),\n",
       " 'NuSVC': Pipeline(steps=[('preprocessor',\n",
       "                  ColumnTransformer(transformers=[('numeric',\n",
       "                                                   Pipeline(steps=[('imputer',\n",
       "                                                                    SimpleImputer()),\n",
       "                                                                   ('scaler',\n",
       "                                                                    StandardScaler())]),\n",
       "                                                   Int64Index([0, 1, 2, 3, 4, 5, 6, 7], dtype='int64')),\n",
       "                                                  ('categorical_low',\n",
       "                                                   Pipeline(steps=[('imputer',\n",
       "                                                                    SimpleImputer(fill_value='missing',\n",
       "                                                                                  strategy='constant')),\n",
       "                                                                   ('encoding',\n",
       "                                                                    OneHotEncoder(handle_unknown='ignore',\n",
       "                                                                                  sparse=False))]),\n",
       "                                                   Int64Index([], dtype='int64')),\n",
       "                                                  ('categorical_high',\n",
       "                                                   Pipeline(steps=[('imputer',\n",
       "                                                                    SimpleImputer(fill_value='missing',\n",
       "                                                                                  strategy='constant')),\n",
       "                                                                   ('encoding',\n",
       "                                                                    OrdinalEncoder())]),\n",
       "                                                   Int64Index([], dtype='int64'))])),\n",
       "                 ('classifier', NuSVC(random_state=42))]),\n",
       " 'PassiveAggressiveClassifier': Pipeline(steps=[('preprocessor',\n",
       "                  ColumnTransformer(transformers=[('numeric',\n",
       "                                                   Pipeline(steps=[('imputer',\n",
       "                                                                    SimpleImputer()),\n",
       "                                                                   ('scaler',\n",
       "                                                                    StandardScaler())]),\n",
       "                                                   Int64Index([0, 1, 2, 3, 4, 5, 6, 7], dtype='int64')),\n",
       "                                                  ('categorical_low',\n",
       "                                                   Pipeline(steps=[('imputer',\n",
       "                                                                    SimpleImputer(fill_value='missing',\n",
       "                                                                                  strategy='constant')),\n",
       "                                                                   ('encoding',\n",
       "                                                                    OneHotEncoder(handle_unknown='ignore',\n",
       "                                                                                  sparse=False))]),\n",
       "                                                   Int64Index([], dtype='int64')),\n",
       "                                                  ('categorical_high',\n",
       "                                                   Pipeline(steps=[('imputer',\n",
       "                                                                    SimpleImputer(fill_value='missing',\n",
       "                                                                                  strategy='constant')),\n",
       "                                                                   ('encoding',\n",
       "                                                                    OrdinalEncoder())]),\n",
       "                                                   Int64Index([], dtype='int64'))])),\n",
       "                 ('classifier', PassiveAggressiveClassifier(random_state=42))]),\n",
       " 'Perceptron': Pipeline(steps=[('preprocessor',\n",
       "                  ColumnTransformer(transformers=[('numeric',\n",
       "                                                   Pipeline(steps=[('imputer',\n",
       "                                                                    SimpleImputer()),\n",
       "                                                                   ('scaler',\n",
       "                                                                    StandardScaler())]),\n",
       "                                                   Int64Index([0, 1, 2, 3, 4, 5, 6, 7], dtype='int64')),\n",
       "                                                  ('categorical_low',\n",
       "                                                   Pipeline(steps=[('imputer',\n",
       "                                                                    SimpleImputer(fill_value='missing',\n",
       "                                                                                  strategy='constant')),\n",
       "                                                                   ('encoding',\n",
       "                                                                    OneHotEncoder(handle_unknown='ignore',\n",
       "                                                                                  sparse=False))]),\n",
       "                                                   Int64Index([], dtype='int64')),\n",
       "                                                  ('categorical_high',\n",
       "                                                   Pipeline(steps=[('imputer',\n",
       "                                                                    SimpleImputer(fill_value='missing',\n",
       "                                                                                  strategy='constant')),\n",
       "                                                                   ('encoding',\n",
       "                                                                    OrdinalEncoder())]),\n",
       "                                                   Int64Index([], dtype='int64'))])),\n",
       "                 ('classifier', Perceptron(random_state=42))]),\n",
       " 'QuadraticDiscriminantAnalysis': Pipeline(steps=[('preprocessor',\n",
       "                  ColumnTransformer(transformers=[('numeric',\n",
       "                                                   Pipeline(steps=[('imputer',\n",
       "                                                                    SimpleImputer()),\n",
       "                                                                   ('scaler',\n",
       "                                                                    StandardScaler())]),\n",
       "                                                   Int64Index([0, 1, 2, 3, 4, 5, 6, 7], dtype='int64')),\n",
       "                                                  ('categorical_low',\n",
       "                                                   Pipeline(steps=[('imputer',\n",
       "                                                                    SimpleImputer(fill_value='missing',\n",
       "                                                                                  strategy='constant')),\n",
       "                                                                   ('encoding',\n",
       "                                                                    OneHotEncoder(handle_unknown='ignore',\n",
       "                                                                                  sparse=False))]),\n",
       "                                                   Int64Index([], dtype='int64')),\n",
       "                                                  ('categorical_high',\n",
       "                                                   Pipeline(steps=[('imputer',\n",
       "                                                                    SimpleImputer(fill_value='missing',\n",
       "                                                                                  strategy='constant')),\n",
       "                                                                   ('encoding',\n",
       "                                                                    OrdinalEncoder())]),\n",
       "                                                   Int64Index([], dtype='int64'))])),\n",
       "                 ('classifier', QuadraticDiscriminantAnalysis())]),\n",
       " 'RandomForestClassifier': Pipeline(steps=[('preprocessor',\n",
       "                  ColumnTransformer(transformers=[('numeric',\n",
       "                                                   Pipeline(steps=[('imputer',\n",
       "                                                                    SimpleImputer()),\n",
       "                                                                   ('scaler',\n",
       "                                                                    StandardScaler())]),\n",
       "                                                   Int64Index([0, 1, 2, 3, 4, 5, 6, 7], dtype='int64')),\n",
       "                                                  ('categorical_low',\n",
       "                                                   Pipeline(steps=[('imputer',\n",
       "                                                                    SimpleImputer(fill_value='missing',\n",
       "                                                                                  strategy='constant')),\n",
       "                                                                   ('encoding',\n",
       "                                                                    OneHotEncoder(handle_unknown='ignore',\n",
       "                                                                                  sparse=False))]),\n",
       "                                                   Int64Index([], dtype='int64')),\n",
       "                                                  ('categorical_high',\n",
       "                                                   Pipeline(steps=[('imputer',\n",
       "                                                                    SimpleImputer(fill_value='missing',\n",
       "                                                                                  strategy='constant')),\n",
       "                                                                   ('encoding',\n",
       "                                                                    OrdinalEncoder())]),\n",
       "                                                   Int64Index([], dtype='int64'))])),\n",
       "                 ('classifier', RandomForestClassifier(random_state=42))]),\n",
       " 'RidgeClassifier': Pipeline(steps=[('preprocessor',\n",
       "                  ColumnTransformer(transformers=[('numeric',\n",
       "                                                   Pipeline(steps=[('imputer',\n",
       "                                                                    SimpleImputer()),\n",
       "                                                                   ('scaler',\n",
       "                                                                    StandardScaler())]),\n",
       "                                                   Int64Index([0, 1, 2, 3, 4, 5, 6, 7], dtype='int64')),\n",
       "                                                  ('categorical_low',\n",
       "                                                   Pipeline(steps=[('imputer',\n",
       "                                                                    SimpleImputer(fill_value='missing',\n",
       "                                                                                  strategy='constant')),\n",
       "                                                                   ('encoding',\n",
       "                                                                    OneHotEncoder(handle_unknown='ignore',\n",
       "                                                                                  sparse=False))]),\n",
       "                                                   Int64Index([], dtype='int64')),\n",
       "                                                  ('categorical_high',\n",
       "                                                   Pipeline(steps=[('imputer',\n",
       "                                                                    SimpleImputer(fill_value='missing',\n",
       "                                                                                  strategy='constant')),\n",
       "                                                                   ('encoding',\n",
       "                                                                    OrdinalEncoder())]),\n",
       "                                                   Int64Index([], dtype='int64'))])),\n",
       "                 ('classifier', RidgeClassifier(random_state=42))]),\n",
       " 'RidgeClassifierCV': Pipeline(steps=[('preprocessor',\n",
       "                  ColumnTransformer(transformers=[('numeric',\n",
       "                                                   Pipeline(steps=[('imputer',\n",
       "                                                                    SimpleImputer()),\n",
       "                                                                   ('scaler',\n",
       "                                                                    StandardScaler())]),\n",
       "                                                   Int64Index([0, 1, 2, 3, 4, 5, 6, 7], dtype='int64')),\n",
       "                                                  ('categorical_low',\n",
       "                                                   Pipeline(steps=[('imputer',\n",
       "                                                                    SimpleImputer(fill_value='missing',\n",
       "                                                                                  strategy='constant')),\n",
       "                                                                   ('encoding',\n",
       "                                                                    OneHotEncoder(handle_unknown='ignore',\n",
       "                                                                                  sparse=False))]),\n",
       "                                                   Int64Index([], dtype='int64')),\n",
       "                                                  ('categorical_high',\n",
       "                                                   Pipeline(steps=[('imputer',\n",
       "                                                                    SimpleImputer(fill_value='missing',\n",
       "                                                                                  strategy='constant')),\n",
       "                                                                   ('encoding',\n",
       "                                                                    OrdinalEncoder())]),\n",
       "                                                   Int64Index([], dtype='int64'))])),\n",
       "                 ('classifier',\n",
       "                  RidgeClassifierCV(alphas=array([ 0.1,  1. , 10. ])))]),\n",
       " 'SGDClassifier': Pipeline(steps=[('preprocessor',\n",
       "                  ColumnTransformer(transformers=[('numeric',\n",
       "                                                   Pipeline(steps=[('imputer',\n",
       "                                                                    SimpleImputer()),\n",
       "                                                                   ('scaler',\n",
       "                                                                    StandardScaler())]),\n",
       "                                                   Int64Index([0, 1, 2, 3, 4, 5, 6, 7], dtype='int64')),\n",
       "                                                  ('categorical_low',\n",
       "                                                   Pipeline(steps=[('imputer',\n",
       "                                                                    SimpleImputer(fill_value='missing',\n",
       "                                                                                  strategy='constant')),\n",
       "                                                                   ('encoding',\n",
       "                                                                    OneHotEncoder(handle_unknown='ignore',\n",
       "                                                                                  sparse=False))]),\n",
       "                                                   Int64Index([], dtype='int64')),\n",
       "                                                  ('categorical_high',\n",
       "                                                   Pipeline(steps=[('imputer',\n",
       "                                                                    SimpleImputer(fill_value='missing',\n",
       "                                                                                  strategy='constant')),\n",
       "                                                                   ('encoding',\n",
       "                                                                    OrdinalEncoder())]),\n",
       "                                                   Int64Index([], dtype='int64'))])),\n",
       "                 ('classifier', SGDClassifier(random_state=42))]),\n",
       " 'SVC': Pipeline(steps=[('preprocessor',\n",
       "                  ColumnTransformer(transformers=[('numeric',\n",
       "                                                   Pipeline(steps=[('imputer',\n",
       "                                                                    SimpleImputer()),\n",
       "                                                                   ('scaler',\n",
       "                                                                    StandardScaler())]),\n",
       "                                                   Int64Index([0, 1, 2, 3, 4, 5, 6, 7], dtype='int64')),\n",
       "                                                  ('categorical_low',\n",
       "                                                   Pipeline(steps=[('imputer',\n",
       "                                                                    SimpleImputer(fill_value='missing',\n",
       "                                                                                  strategy='constant')),\n",
       "                                                                   ('encoding',\n",
       "                                                                    OneHotEncoder(handle_unknown='ignore',\n",
       "                                                                                  sparse=False))]),\n",
       "                                                   Int64Index([], dtype='int64')),\n",
       "                                                  ('categorical_high',\n",
       "                                                   Pipeline(steps=[('imputer',\n",
       "                                                                    SimpleImputer(fill_value='missing',\n",
       "                                                                                  strategy='constant')),\n",
       "                                                                   ('encoding',\n",
       "                                                                    OrdinalEncoder())]),\n",
       "                                                   Int64Index([], dtype='int64'))])),\n",
       "                 ('classifier', SVC(random_state=42))]),\n",
       " 'XGBClassifier': Pipeline(steps=[('preprocessor',\n",
       "                  ColumnTransformer(transformers=[('numeric',\n",
       "                                                   Pipeline(steps=[('imputer',\n",
       "                                                                    SimpleImputer()),\n",
       "                                                                   ('scaler',\n",
       "                                                                    StandardScaler())]),\n",
       "                                                   Int64Index([0, 1, 2, 3, 4, 5, 6, 7], dtype='int64')),\n",
       "                                                  ('categorical_low',\n",
       "                                                   Pipeline(steps=[('imputer',\n",
       "                                                                    SimpleImputer(fill_value='missing',\n",
       "                                                                                  strategy='constant')),\n",
       "                                                                   ('encoding',\n",
       "                                                                    OneHotEncoder(handle_unknown='ignore',\n",
       "                                                                                  spa...\n",
       "                                colsample_bytree=1, gamma=0, gpu_id=-1,\n",
       "                                importance_type='gain',\n",
       "                                interaction_constraints='',\n",
       "                                learning_rate=0.300000012, max_delta_step=0,\n",
       "                                max_depth=6, min_child_weight=1, missing=nan,\n",
       "                                monotone_constraints='()', n_estimators=100,\n",
       "                                n_jobs=0, num_parallel_tree=1, random_state=42,\n",
       "                                reg_alpha=0, reg_lambda=1, scale_pos_weight=1,\n",
       "                                subsample=1, tree_method='exact',\n",
       "                                validate_parameters=1, verbosity=None))]),\n",
       " 'LGBMClassifier': Pipeline(steps=[('preprocessor',\n",
       "                  ColumnTransformer(transformers=[('numeric',\n",
       "                                                   Pipeline(steps=[('imputer',\n",
       "                                                                    SimpleImputer()),\n",
       "                                                                   ('scaler',\n",
       "                                                                    StandardScaler())]),\n",
       "                                                   Int64Index([0, 1, 2, 3, 4, 5, 6, 7], dtype='int64')),\n",
       "                                                  ('categorical_low',\n",
       "                                                   Pipeline(steps=[('imputer',\n",
       "                                                                    SimpleImputer(fill_value='missing',\n",
       "                                                                                  strategy='constant')),\n",
       "                                                                   ('encoding',\n",
       "                                                                    OneHotEncoder(handle_unknown='ignore',\n",
       "                                                                                  sparse=False))]),\n",
       "                                                   Int64Index([], dtype='int64')),\n",
       "                                                  ('categorical_high',\n",
       "                                                   Pipeline(steps=[('imputer',\n",
       "                                                                    SimpleImputer(fill_value='missing',\n",
       "                                                                                  strategy='constant')),\n",
       "                                                                   ('encoding',\n",
       "                                                                    OrdinalEncoder())]),\n",
       "                                                   Int64Index([], dtype='int64'))])),\n",
       "                 ('classifier', LGBMClassifier(random_state=42))])}"
      ]
     },
     "execution_count": 24,
     "metadata": {},
     "output_type": "execute_result"
    }
   ],
   "source": [
    "model_dictionary"
   ]
  },
  {
   "cell_type": "code",
   "execution_count": 25,
   "id": "eabbd339",
   "metadata": {},
   "outputs": [
    {
     "data": {
      "image/png": "[encoded data removed]",
      "text/plain": [
       "<Figure size 1440x1152 with 2 Axes>"
      ]
     },
     "metadata": {
      "needs_background": "light"
     },
     "output_type": "display_data"
    }
   ],
   "source": [
    "import seaborn as sns\n",
    "import matplotlib.pyplot as plt\n",
    "\n",
    "sns.heatmap(\n",
    "    data=df.corr(),\n",
    "    annot=True,\n",
    "    fmt='.2f',\n",
    "    cmap='RdYlGn'\n",
    ")\n",
    "\n",
    "fig = plt.gcf()\n",
    "fig.set_size_inches(20, 16)\n",
    "\n",
    "plt.show()"
   ]
  },
  {
   "cell_type": "code",
   "execution_count": 26,
   "id": "bcfd4b30",
   "metadata": {},
   "outputs": [],
   "source": [
    "from sklearn.ensemble import ExtraTreesClassifier"
   ]
  },
  {
   "cell_type": "code",
   "execution_count": 27,
   "id": "8a62927f",
   "metadata": {},
   "outputs": [
    {
     "data": {
      "text/plain": [
       "ExtraTreesClassifier()"
      ]
     },
     "execution_count": 27,
     "metadata": {},
     "output_type": "execute_result"
    }
   ],
   "source": [
    "clf = ExtraTreesClassifier()\n",
    "clf.fit(X, y)"
   ]
  },
  {
   "cell_type": "code",
   "execution_count": 28,
   "id": "fa5faec3",
   "metadata": {},
   "outputs": [],
   "source": [
    "def test_model(model, SurfaceMin = 100, NombrePiecesEnum = 5, NombreChambresEnum = 2, TypeMission = 1,TypeBien = 1, TypeProjet = 1, BudgetMaxEuro = 500000, CodePostal = 34000):\n",
    "    x = np.array([SurfaceMin, NombrePiecesEnum, NombreChambresEnum, TypeMission,TypeBien, TypeProjet, BudgetMaxEuro, CodePostal]).reshape(1,8)\n",
    "    print(clf.predict(x))\n",
    "    print(clf.predict_proba(x))"
   ]
  },
  {
   "cell_type": "code",
   "execution_count": 30,
   "id": "d81396f1",
   "metadata": {},
   "outputs": [
    {
     "ename": "NameError",
     "evalue": "name 'model' is not defined",
     "output_type": "error",
     "traceback": [
      "\u001b[1;31m---------------------------------------------------------------------------\u001b[0m",
      "\u001b[1;31mNameError\u001b[0m                                 Traceback (most recent call last)",
      "Input \u001b[1;32mIn [30]\u001b[0m, in \u001b[0;36m<cell line: 1>\u001b[1;34m()\u001b[0m\n\u001b[1;32m----> 1\u001b[0m test_model(\u001b[43mmodel\u001b[49m)\n",
      "\u001b[1;31mNameError\u001b[0m: name 'model' is not defined"
     ]
    }
   ],
   "source": [
    "test_model(model)"
   ]
  },
  {
   "cell_type": "code",
   "execution_count": 31,
   "id": "2a996945",
   "metadata": {},
   "outputs": [
    {
     "data": {
      "text/plain": [
       "{'bootstrap': False,\n",
       " 'ccp_alpha': 0.0,\n",
       " 'class_weight': None,\n",
       " 'criterion': 'gini',\n",
       " 'max_depth': None,\n",
       " 'max_features': 'auto',\n",
       " 'max_leaf_nodes': None,\n",
       " 'max_samples': None,\n",
       " 'min_impurity_decrease': 0.0,\n",
       " 'min_impurity_split': None,\n",
       " 'min_samples_leaf': 1,\n",
       " 'min_samples_split': 2,\n",
       " 'min_weight_fraction_leaf': 0.0,\n",
       " 'n_estimators': 100,\n",
       " 'n_jobs': None,\n",
       " 'oob_score': False,\n",
       " 'random_state': None,\n",
       " 'verbose': 0,\n",
       " 'warm_start': False}"
      ]
     },
     "execution_count": 31,
     "metadata": {},
     "output_type": "execute_result"
    }
   ],
   "source": [
    "clf.get_params()"
   ]
  },
  {
   "cell_type": "code",
   "execution_count": 32,
   "id": "7c3567fa",
   "metadata": {},
   "outputs": [
    {
     "name": "stdout",
     "output_type": "stream",
     "text": [
      "0.6546852275088303\n",
      "0.6546451720126308\n"
     ]
    }
   ],
   "source": [
    "print(clf.score(X_train, y_train))\n",
    "print(clf.score(X_test, y_test))"
   ]
  },
  {
   "cell_type": "code",
   "execution_count": 9,
   "id": "15ea3582",
   "metadata": {},
   "outputs": [],
   "source": [
    "from sklearn.model_selection import cross_val_score, cross_val_predict, cross_validate, KFold"
   ]
  },
  {
   "cell_type": "code",
   "execution_count": 10,
   "id": "3502648f",
   "metadata": {},
   "outputs": [
    {
     "ename": "NameError",
     "evalue": "name 'ExtraTreesClassifier' is not defined",
     "output_type": "error",
     "traceback": [
      "\u001b[1;31m---------------------------------------------------------------------------\u001b[0m",
      "\u001b[1;31mNameError\u001b[0m                                 Traceback (most recent call last)",
      "Input \u001b[1;32mIn [10]\u001b[0m, in \u001b[0;36m<cell line: 1>\u001b[1;34m()\u001b[0m\n\u001b[1;32m----> 1\u001b[0m cross_val_score(\u001b[43mExtraTreesClassifier\u001b[49m(), X_train, y_train, cv\u001b[38;5;241m=\u001b[39m\u001b[38;5;241m5\u001b[39m, scoring \u001b[38;5;241m=\u001b[39m \u001b[38;5;124m'\u001b[39m\u001b[38;5;124maccuracy\u001b[39m\u001b[38;5;124m'\u001b[39m)\u001b[38;5;241m.\u001b[39mmean()\n",
      "\u001b[1;31mNameError\u001b[0m: name 'ExtraTreesClassifier' is not defined"
     ]
    }
   ],
   "source": [
    "cross_val_score(ExtraTreesClassifier(), X_train, y_train, cv=5, scoring = 'accuracy').mean()"
   ]
  },
  {
   "cell_type": "code",
   "execution_count": 35,
   "id": "f11a3e21",
   "metadata": {},
   "outputs": [],
   "source": [
    "y_pred = clf.predict(X_test)"
   ]
  },
  {
   "cell_type": "code",
   "execution_count": 36,
   "id": "11a45dfb",
   "metadata": {},
   "outputs": [
    {
     "data": {
      "text/plain": [
       "array(['0', '0', '0', ..., '0', '0', '0'], dtype=object)"
      ]
     },
     "execution_count": 36,
     "metadata": {},
     "output_type": "execute_result"
    }
   ],
   "source": [
    "y_pred"
   ]
  },
  {
   "cell_type": "code",
   "execution_count": 37,
   "id": "099f4c02",
   "metadata": {},
   "outputs": [
    {
     "data": {
      "text/plain": [
       "Text(0, 0.5, 'Prédictions')"
      ]
     },
     "execution_count": 37,
     "metadata": {},
     "output_type": "execute_result"
    },
    {
     "data": {
      "image/png": "[encoded data removed]",
      "text/plain": [
       "<Figure size 432x288 with 1 Axes>"
      ]
     },
     "metadata": {
      "needs_background": "light"
     },
     "output_type": "display_data"
    }
   ],
   "source": [
    "plt.scatter(y_test, y_pred) \n",
    "plt.xlabel('True Values') \n",
    "plt.ylabel('Prédictions')"
   ]
  },
  {
   "cell_type": "code",
   "execution_count": 38,
   "id": "baa92f25",
   "metadata": {},
   "outputs": [],
   "source": [
    "val_score1 = []\n",
    "for k in range(1,50):\n",
    "    score = cross_val_score(ExtraTreesClassifier(k), X_train, y_train, cv = 5).mean()"
   ]
  },
  {
   "cell_type": "code",
   "execution_count": 39,
   "id": "f9611144",
   "metadata": {},
   "outputs": [
    {
     "data": {
      "text/plain": [
       "[<matplotlib.lines.Line2D at 0x200e694a1f0>]"
      ]
     },
     "execution_count": 39,
     "metadata": {},
     "output_type": "execute_result"
    },
    {
     "data": {
      "image/png": "[encoded data removed]",
      "text/plain": [
       "<Figure size 432x288 with 1 Axes>"
      ]
     },
     "metadata": {
      "needs_background": "light"
     },
     "output_type": "display_data"
    }
   ],
   "source": [
    "plt.plot(val_score1)"
   ]
  },
  {
   "cell_type": "code",
   "execution_count": 40,
   "id": "3a163b86",
   "metadata": {},
   "outputs": [],
   "source": [
    "from sklearn.model_selection import validation_curve"
   ]
  },
  {
   "cell_type": "code",
   "execution_count": 41,
   "id": "0c7f72fd",
   "metadata": {},
   "outputs": [],
   "source": [
    "model = ExtraTreesClassifier()\n",
    "k = np.arange(100, 200, 300)\n",
    "train_score, val_score = validation_curve(model, X_train, y_train, 'n_estimators', k, cv = 5)"
   ]
  },
  {
   "cell_type": "code",
   "execution_count": 42,
   "id": "0ce466a8",
   "metadata": {},
   "outputs": [
    {
     "data": {
      "text/plain": [
       "(1, 5)"
      ]
     },
     "execution_count": 42,
     "metadata": {},
     "output_type": "execute_result"
    }
   ],
   "source": [
    "val_score.shape"
   ]
  },
  {
   "cell_type": "code",
   "execution_count": 43,
   "id": "ce21e89f",
   "metadata": {},
   "outputs": [
    {
     "data": {
      "text/plain": [
       "0.8877207562850614"
      ]
     },
     "execution_count": 43,
     "metadata": {},
     "output_type": "execute_result"
    }
   ],
   "source": [
    "val_score.mean()"
   ]
  },
  {
   "cell_type": "code",
   "execution_count": 44,
   "id": "2f0f2473",
   "metadata": {},
   "outputs": [
    {
     "data": {
      "text/plain": [
       "[<matplotlib.lines.Line2D at 0x200e6999610>]"
      ]
     },
     "execution_count": 44,
     "metadata": {},
     "output_type": "execute_result"
    },
    {
     "data": {
      "image/png": "[encoded data removed]",
      "text/plain": [
       "<Figure size 432x288 with 1 Axes>"
      ]
     },
     "metadata": {
      "needs_background": "light"
     },
     "output_type": "display_data"
    }
   ],
   "source": [
    "plt.plot(k, val_score.mean(axis = 1))"
   ]
  },
  {
   "cell_type": "code",
   "execution_count": 45,
   "id": "e850c2d8",
   "metadata": {},
   "outputs": [
    {
     "data": {
      "text/plain": [
       "<AxesSubplot:>"
      ]
     },
     "execution_count": 45,
     "metadata": {},
     "output_type": "execute_result"
    },
    {
     "data": {
      "image/png": "[encoded data removed]",
      "text/plain": [
       "<Figure size 432x288 with 2 Axes>"
      ]
     },
     "metadata": {
      "needs_background": "light"
     },
     "output_type": "display_data"
    }
   ],
   "source": [
    "cm = confusion_matrix(y_test,clf.predict(X_test))\n",
    "sns.heatmap(cm,annot=True,fmt=\"d\") "
   ]
  },
  {
   "cell_type": "code",
   "execution_count": 46,
   "id": "7cd9580f",
   "metadata": {},
   "outputs": [
    {
     "name": "stdout",
     "output_type": "stream",
     "text": [
      "                  precision    recall  f1-score   support\n",
      "\n",
      "  échec(Class 0)       0.65      1.00      0.79      3939\n",
      "succès (Class 1)       0.00      0.00      0.00      2078\n",
      "\n",
      "        accuracy                           0.65      6017\n",
      "       macro avg       0.33      0.50      0.40      6017\n",
      "    weighted avg       0.43      0.65      0.52      6017\n",
      "\n"
     ]
    }
   ],
   "source": [
    "from sklearn.metrics import classification_report\n",
    "print(classification_report(y_test, y_pred, target_names = ['échec(Class 0)','succès (Class 1)']))"
   ]
  },
  {
   "cell_type": "markdown",
   "id": "83d80800",
   "metadata": {},
   "source": [
    "# XGBoost Classifier"
   ]
  },
  {
   "cell_type": "code",
   "execution_count": 47,
   "id": "f2cd742d",
   "metadata": {},
   "outputs": [],
   "source": [
    "X = df.drop([\"MandatId\",\"StatutProspectMandatClientID\", \"Departement\", \"dpt\", \"Ville\", \"Region\", \"Succes\"], axis = 1)\n",
    "y = df[\"Succes\"]"
   ]
  },
  {
   "cell_type": "code",
   "execution_count": 48,
   "id": "f1e44b94",
   "metadata": {},
   "outputs": [],
   "source": [
    "X_train, X_test, y_train, y_test = train_test_split(X, y, test_size=0.2, random_state=42, stratify = y)"
   ]
  },
  {
   "cell_type": "code",
   "execution_count": 49,
   "id": "902933b5",
   "metadata": {},
   "outputs": [],
   "source": [
    "from sklearn.preprocessing import StandardScaler\n",
    "scaler = StandardScaler()\n",
    "X_train = scaler.fit_transform(X_train)\n",
    "X_test = scaler.transform(X_test)"
   ]
  },
  {
   "cell_type": "code",
   "execution_count": 50,
   "id": "0605201f",
   "metadata": {},
   "outputs": [
    {
     "data": {
      "text/plain": [
       "XGBClassifier(base_score=0.5, booster='gbtree', colsample_bylevel=1,\n",
       "              colsample_bynode=1, colsample_bytree=1, gamma=0, gpu_id=-1,\n",
       "              importance_type='gain', interaction_constraints='',\n",
       "              learning_rate=0.300000012, max_delta_step=0, max_depth=6,\n",
       "              min_child_weight=1, missing=nan, monotone_constraints='()',\n",
       "              n_estimators=100, n_jobs=0, num_parallel_tree=1, random_state=0,\n",
       "              reg_alpha=0, reg_lambda=1, scale_pos_weight=1, subsample=1,\n",
       "              tree_method='exact', validate_parameters=1, verbosity=None)"
      ]
     },
     "execution_count": 50,
     "metadata": {},
     "output_type": "execute_result"
    }
   ],
   "source": [
    "from xgboost import XGBClassifier\n",
    "\n",
    "xgb = XGBClassifier(objective='binary:logistic')\n",
    "xgb.fit(X_train, y_train)\n",
    "\n",
    "#xgb.get_params()"
   ]
  },
  {
   "cell_type": "code",
   "execution_count": 51,
   "id": "5622fea5",
   "metadata": {},
   "outputs": [],
   "source": [
    "y_xgb = xgb.predict(X_test)"
   ]
  },
  {
   "cell_type": "code",
   "execution_count": null,
   "id": "ddbd285f",
   "metadata": {},
   "outputs": [],
   "source": []
  },
  {
   "cell_type": "code",
   "execution_count": 52,
   "id": "df7a6aab",
   "metadata": {},
   "outputs": [
    {
     "name": "stdout",
     "output_type": "stream",
     "text": [
      "0.8352794514855599\n",
      "0.7899285358151903\n"
     ]
    }
   ],
   "source": [
    "predictions_test_xgb = xgb.predict(X_test)\n",
    "predictions_train_xgb = xgb.predict(X_train)\n",
    "\n",
    "train_acc = accuracy_score(y_train, predictions_train_xgb)\n",
    "print(train_acc)\n",
    "test_acc = accuracy_score(y_test, predictions_test_xgb)\n",
    "print(test_acc)"
   ]
  },
  {
   "cell_type": "code",
   "execution_count": 53,
   "id": "72967d72",
   "metadata": {},
   "outputs": [
    {
     "name": "stdout",
     "output_type": "stream",
     "text": [
      "                  precision    recall  f1-score   support\n",
      "\n",
      "  échec(Class 0)       0.80      0.90      0.85      3939\n",
      "succès (Class 1)       0.75      0.58      0.66      2078\n",
      "\n",
      "        accuracy                           0.79      6017\n",
      "       macro avg       0.78      0.74      0.75      6017\n",
      "    weighted avg       0.79      0.79      0.78      6017\n",
      "\n"
     ]
    }
   ],
   "source": [
    "from sklearn.metrics import classification_report\n",
    "print(classification_report(y_test, y_xgb,target_names = ['échec(Class 0)','succès (Class 1)']))"
   ]
  },
  {
   "cell_type": "code",
   "execution_count": 62,
   "id": "a953a7b9",
   "metadata": {},
   "outputs": [
    {
     "data": {
      "text/plain": [
       "<AxesSubplot:>"
      ]
     },
     "execution_count": 62,
     "metadata": {},
     "output_type": "execute_result"
    },
    {
     "data": {
      "image/png": "[encoded data removed]",
      "text/plain": [
       "<Figure size 432x288 with 2 Axes>"
      ]
     },
     "metadata": {
      "needs_background": "light"
     },
     "output_type": "display_data"
    }
   ],
   "source": [
    "cm = confusion_matrix(y_test,xgb.predict(X_test))\n",
    "sns.heatmap(cm,annot=True,fmt=\"d\") "
   ]
  },
  {
   "cell_type": "code",
   "execution_count": 57,
   "id": "a61b5eb4",
   "metadata": {},
   "outputs": [
    {
     "name": "stdout",
     "output_type": "stream",
     "text": [
      "[[3543  396]\n",
      " [ 868 1210]]\n"
     ]
    }
   ],
   "source": [
    "cf_matrix = confusion_matrix(y_test, y_xgb) \n",
    "print(cf_matrix)"
   ]
  },
  {
   "cell_type": "code",
   "execution_count": 61,
   "id": "51bab194",
   "metadata": {},
   "outputs": [
    {
     "data": {
      "text/plain": [
       "<AxesSubplot:>"
      ]
     },
     "execution_count": 61,
     "metadata": {},
     "output_type": "execute_result"
    },
    {
     "data": {
      "image/png": "[encoded data removed]",
      "text/plain": [
       "<Figure size 432x288 with 2 Axes>"
      ]
     },
     "metadata": {
      "needs_background": "light"
     },
     "output_type": "display_data"
    }
   ],
   "source": [
    "sns.heatmap(cf_matrix/np.sum(cf_matrix), annot=True, \n",
    "            fmt='.2%', cmap='Blues')"
   ]
  },
  {
   "cell_type": "markdown",
   "id": "7d0d05e3",
   "metadata": {},
   "source": [
    "## Cross validation with StratifiedKFold "
   ]
  },
  {
   "cell_type": "code",
   "execution_count": 111,
   "id": "899b6839",
   "metadata": {},
   "outputs": [],
   "source": [
    "from sklearn.model_selection import cross_val_score\n",
    "from sklearn.model_selection import StratifiedKFold"
   ]
  },
  {
   "cell_type": "code",
   "execution_count": 119,
   "id": "38eddc7c",
   "metadata": {},
   "outputs": [
    {
     "name": "stderr",
     "output_type": "stream",
     "text": [
      "C:\\Users\\Lou Doussiet\\AppData\\Roaming\\Python\\Python38\\site-packages\\sklearn\\model_selection\\_split.py:293: FutureWarning: Setting a random_state has no effect since shuffle is False. This will raise an error in 0.24. You should leave random_state to its default (None), or set shuffle=True.\n",
      "  warnings.warn(\n"
     ]
    },
    {
     "data": {
      "text/plain": [
       "array([0.78504945, 0.77399651, 0.78737638, 0.78650378, 0.78039558,\n",
       "       0.79086678, 0.77509456])"
      ]
     },
     "execution_count": 119,
     "metadata": {},
     "output_type": "execute_result"
    }
   ],
   "source": [
    "cv = StratifiedKFold(7, random_state = 0)\n",
    "cross_val_score(xgb, X_train, y_train, cv = cv)"
   ]
  },
  {
   "cell_type": "code",
   "execution_count": null,
   "id": "8387c36f",
   "metadata": {},
   "outputs": [],
   "source": []
  },
  {
   "cell_type": "code",
   "execution_count": null,
   "id": "6ba854af",
   "metadata": {},
   "outputs": [],
   "source": []
  },
  {
   "cell_type": "code",
   "execution_count": null,
   "id": "2ce31d7b",
   "metadata": {},
   "outputs": [],
   "source": []
  },
  {
   "cell_type": "code",
   "execution_count": null,
   "id": "d01c1bfc",
   "metadata": {},
   "outputs": [],
   "source": []
  },
  {
   "cell_type": "code",
   "execution_count": null,
   "id": "271ba732",
   "metadata": {},
   "outputs": [],
   "source": []
  },
  {
   "cell_type": "code",
   "execution_count": null,
   "id": "d9ea4fce",
   "metadata": {},
   "outputs": [],
   "source": []
  },
  {
   "cell_type": "markdown",
   "id": "8d845851",
   "metadata": {},
   "source": [
    "# Test modèle"
   ]
  },
  {
   "cell_type": "code",
   "execution_count": 80,
   "id": "6ee405f2",
   "metadata": {},
   "outputs": [
    {
     "name": "stdout",
     "output_type": "stream",
     "text": [
      "['f0', 'f1', 'f2', 'f3', 'f4', 'f5', 'f6', 'f7']\n"
     ]
    }
   ],
   "source": [
    "cols_when_model_builds = xgb.get_booster().feature_names\n",
    "print(cols_when_model_builds)"
   ]
  },
  {
   "cell_type": "code",
   "execution_count": 81,
   "id": "eafc61a3",
   "metadata": {},
   "outputs": [
    {
     "data": {
      "text/plain": [
       "Index(['SurfaceMin', 'NombrePiecesEnum', 'NombreChambresEnum', 'TypeMission',\n",
       "       'TypeBien', 'TypeProjet', 'BudgetMaxEuro', 'CodePostal'],\n",
       "      dtype='object')"
      ]
     },
     "execution_count": 81,
     "metadata": {},
     "output_type": "execute_result"
    }
   ],
   "source": [
    "X.columns"
   ]
  },
  {
   "cell_type": "code",
   "execution_count": 82,
   "id": "fdfa45d6",
   "metadata": {},
   "outputs": [
    {
     "data": {
      "text/html": [
       "<div>\n",
       "<style scoped>\n",
       "    .dataframe tbody tr th:only-of-type {\n",
       "        vertical-align: middle;\n",
       "    }\n",
       "\n",
       "    .dataframe tbody tr th {\n",
       "        vertical-align: top;\n",
       "    }\n",
       "\n",
       "    .dataframe thead th {\n",
       "        text-align: right;\n",
       "    }\n",
       "</style>\n",
       "<table border=\"1\" class=\"dataframe\">\n",
       "  <thead>\n",
       "    <tr style=\"text-align: right;\">\n",
       "      <th></th>\n",
       "      <th>SurfaceMin</th>\n",
       "      <th>NombrePiecesEnum</th>\n",
       "      <th>NombreChambresEnum</th>\n",
       "      <th>TypeMission</th>\n",
       "      <th>TypeBien</th>\n",
       "      <th>TypeProjet</th>\n",
       "      <th>BudgetMaxEuro</th>\n",
       "      <th>CodePostal</th>\n",
       "    </tr>\n",
       "  </thead>\n",
       "  <tbody>\n",
       "    <tr>\n",
       "      <th>0</th>\n",
       "      <td>0</td>\n",
       "      <td>5</td>\n",
       "      <td>2</td>\n",
       "      <td>0</td>\n",
       "      <td>2</td>\n",
       "      <td>1</td>\n",
       "      <td>280000</td>\n",
       "      <td>34000</td>\n",
       "    </tr>\n",
       "  </tbody>\n",
       "</table>\n",
       "</div>"
      ],
      "text/plain": [
       "   SurfaceMin  NombrePiecesEnum  NombreChambresEnum  TypeMission  TypeBien  \\\n",
       "0           0                 5                   2            0         2   \n",
       "\n",
       "   TypeProjet  BudgetMaxEuro  CodePostal  \n",
       "0           1         280000       34000  "
      ]
     },
     "execution_count": 82,
     "metadata": {},
     "output_type": "execute_result"
    }
   ],
   "source": [
    "colonnes = ['SurfaceMin', 'NombrePiecesEnum', 'NombreChambresEnum', 'TypeMission',\n",
    "           'TypeBien', 'TypeProjet', 'BudgetMaxEuro', 'CodePostal']\n",
    "X_new = pd.DataFrame(data = [[0, 5, 2, 0, 2, 1, 280000, 34000]], columns = colonnes )\n",
    "X_new.head()"
   ]
  },
  {
   "cell_type": "code",
   "execution_count": 84,
   "id": "4e171d3f",
   "metadata": {},
   "outputs": [
    {
     "name": "stdout",
     "output_type": "stream",
     "text": [
      "['SurfaceMin', 'NombrePiecesEnum', 'NombreChambresEnum', 'TypeMission', 'TypeBien', 'TypeProjet', 'BudgetMaxEuro', 'CodePostal']\n"
     ]
    }
   ],
   "source": [
    "pred_cols= list(X_new.columns.values)\n",
    "print(pred_cols)"
   ]
  },
  {
   "cell_type": "code",
   "execution_count": 105,
   "id": "bbaccc16",
   "metadata": {},
   "outputs": [
    {
     "data": {
      "text/html": [
       "<div>\n",
       "<style scoped>\n",
       "    .dataframe tbody tr th:only-of-type {\n",
       "        vertical-align: middle;\n",
       "    }\n",
       "\n",
       "    .dataframe tbody tr th {\n",
       "        vertical-align: top;\n",
       "    }\n",
       "\n",
       "    .dataframe thead th {\n",
       "        text-align: right;\n",
       "    }\n",
       "</style>\n",
       "<table border=\"1\" class=\"dataframe\">\n",
       "  <thead>\n",
       "    <tr style=\"text-align: right;\">\n",
       "      <th></th>\n",
       "      <th>f0</th>\n",
       "      <th>f1</th>\n",
       "      <th>f2</th>\n",
       "      <th>f3</th>\n",
       "      <th>f4</th>\n",
       "      <th>f5</th>\n",
       "      <th>f6</th>\n",
       "      <th>f7</th>\n",
       "    </tr>\n",
       "  </thead>\n",
       "  <tbody>\n",
       "    <tr>\n",
       "      <th>0</th>\n",
       "      <td>100</td>\n",
       "      <td>5</td>\n",
       "      <td>2</td>\n",
       "      <td>0</td>\n",
       "      <td>2</td>\n",
       "      <td>1</td>\n",
       "      <td>280000</td>\n",
       "      <td>34000</td>\n",
       "    </tr>\n",
       "  </tbody>\n",
       "</table>\n",
       "</div>"
      ],
      "text/plain": [
       "    f0  f1  f2  f3  f4  f5      f6     f7\n",
       "0  100   5   2   0   2   1  280000  34000"
      ]
     },
     "execution_count": 105,
     "metadata": {},
     "output_type": "execute_result"
    }
   ],
   "source": [
    "colonnes = ['f0', 'f1', 'f2', 'f3', 'f4', 'f5', 'f6', 'f7']\n",
    "x = pd.DataFrame(data = [[100, 5, 2, 0, 2, 1, 280000, 34000]], columns = colonnes )\n",
    "x.head()"
   ]
  },
  {
   "cell_type": "code",
   "execution_count": 106,
   "id": "69ba0b0a",
   "metadata": {},
   "outputs": [
    {
     "name": "stdout",
     "output_type": "stream",
     "text": [
      "['f0', 'f1', 'f2', 'f3', 'f4', 'f5', 'f6', 'f7']\n"
     ]
    }
   ],
   "source": [
    "pred_cols2= list(x.columns.values)\n",
    "print(pred_cols2)"
   ]
  },
  {
   "cell_type": "code",
   "execution_count": 107,
   "id": "69caa5fa",
   "metadata": {},
   "outputs": [
    {
     "name": "stdout",
     "output_type": "stream",
     "text": [
      "['0']\n"
     ]
    }
   ],
   "source": [
    "pred = pd.Series(xgb.predict(x[pred_cols2]))\n",
    "print(pred.values)"
   ]
  },
  {
   "cell_type": "code",
   "execution_count": 108,
   "id": "acdc7bee",
   "metadata": {},
   "outputs": [
    {
     "data": {
      "text/html": [
       "<div>\n",
       "<style scoped>\n",
       "    .dataframe tbody tr th:only-of-type {\n",
       "        vertical-align: middle;\n",
       "    }\n",
       "\n",
       "    .dataframe tbody tr th {\n",
       "        vertical-align: top;\n",
       "    }\n",
       "\n",
       "    .dataframe thead th {\n",
       "        text-align: right;\n",
       "    }\n",
       "</style>\n",
       "<table border=\"1\" class=\"dataframe\">\n",
       "  <thead>\n",
       "    <tr style=\"text-align: right;\">\n",
       "      <th></th>\n",
       "      <th>f0</th>\n",
       "      <th>f1</th>\n",
       "      <th>f2</th>\n",
       "      <th>f3</th>\n",
       "      <th>f4</th>\n",
       "      <th>f5</th>\n",
       "      <th>f6</th>\n",
       "      <th>f7</th>\n",
       "    </tr>\n",
       "  </thead>\n",
       "  <tbody>\n",
       "    <tr>\n",
       "      <th>0</th>\n",
       "      <td>100</td>\n",
       "      <td>5</td>\n",
       "      <td>2</td>\n",
       "      <td>0</td>\n",
       "      <td>2</td>\n",
       "      <td>1</td>\n",
       "      <td>280000</td>\n",
       "      <td>34000</td>\n",
       "    </tr>\n",
       "  </tbody>\n",
       "</table>\n",
       "</div>"
      ],
      "text/plain": [
       "    f0  f1  f2  f3  f4  f5      f6     f7\n",
       "0  100   5   2   0   2   1  280000  34000"
      ]
     },
     "execution_count": 108,
     "metadata": {},
     "output_type": "execute_result"
    }
   ],
   "source": [
    "x"
   ]
  },
  {
   "cell_type": "code",
   "execution_count": 109,
   "id": "8b7f35a7",
   "metadata": {},
   "outputs": [
    {
     "name": "stdout",
     "output_type": "stream",
     "text": [
      "[[0.98646593 0.01353405]]\n"
     ]
    }
   ],
   "source": [
    "pred_proba = xgb.predict_proba(x)\n",
    "print(pred_proba)"
   ]
  },
  {
   "cell_type": "code",
   "execution_count": null,
   "id": "6e10b25f",
   "metadata": {},
   "outputs": [],
   "source": []
  },
  {
   "cell_type": "code",
   "execution_count": null,
   "id": "f7a99534",
   "metadata": {},
   "outputs": [],
   "source": []
  },
  {
   "cell_type": "code",
   "execution_count": null,
   "id": "0427d449",
   "metadata": {},
   "outputs": [],
   "source": []
  },
  {
   "cell_type": "code",
   "execution_count": null,
   "id": "7840933b",
   "metadata": {},
   "outputs": [],
   "source": []
  },
  {
   "cell_type": "code",
   "execution_count": null,
   "id": "b4ed156f",
   "metadata": {},
   "outputs": [],
   "source": []
  },
  {
   "cell_type": "code",
   "execution_count": null,
   "id": "8d5814d0",
   "metadata": {},
   "outputs": [],
   "source": []
  },
  {
   "cell_type": "code",
   "execution_count": null,
   "id": "41ac5bcb",
   "metadata": {},
   "outputs": [],
   "source": []
  },
  {
   "cell_type": "code",
   "execution_count": null,
   "id": "3dbbfe0e",
   "metadata": {},
   "outputs": [],
   "source": []
  },
  {
   "cell_type": "code",
   "execution_count": null,
   "id": "7a2612cb",
   "metadata": {},
   "outputs": [],
   "source": []
  },
  {
   "cell_type": "code",
   "execution_count": null,
   "id": "b692bc6c",
   "metadata": {},
   "outputs": [],
   "source": []
  },
  {
   "cell_type": "code",
   "execution_count": null,
   "id": "221ba37b",
   "metadata": {},
   "outputs": [],
   "source": []
  },
  {
   "cell_type": "code",
   "execution_count": null,
   "id": "2ea5c3a6",
   "metadata": {},
   "outputs": [],
   "source": [
    "from sklearn.metrics import classification_report, confusion_matrix\n",
    "from sklearn.model_selection import GridSearchCV\n",
    "import xgboost\n",
    "#Hyper parameter optimization\n",
    "params={\n",
    "   \"learning_rate\": [0.1, 0.15, 0.2],\n",
    "    \"max_depth\": [8,9,10,11]\n",
    "}\n",
    "\n",
    "classifier3=xgboost.XGBClassifier()\n",
    "GCV=GridSearchCV(classifier3, params)\n",
    "\n",
    "GCV.fit(X_train, y_train)\n",
    "GCV.best_estimator_\n",
    "GCV.get_params()\n"
   ]
  },
  {
   "cell_type": "code",
   "execution_count": null,
   "id": "bf80bf07",
   "metadata": {},
   "outputs": [],
   "source": [
    "y_pred2 = GCV.predict(X_test)"
   ]
  },
  {
   "cell_type": "code",
   "execution_count": null,
   "id": "4010ff96",
   "metadata": {},
   "outputs": [],
   "source": [
    "print(classification_report(y_test, y_pred2))"
   ]
  },
  {
   "cell_type": "code",
   "execution_count": null,
   "id": "57c18f50",
   "metadata": {},
   "outputs": [],
   "source": [
    "cm = confusion_matrix(y_test,GCV.predict(X_test))\n",
    "sns.heatmap(cm,annot=True,fmt=\"d\")"
   ]
  },
  {
   "cell_type": "code",
   "execution_count": null,
   "id": "e5a63d3c",
   "metadata": {},
   "outputs": [],
   "source": [
    "confusion_matrix(y_test, GCV.predict(X_test))"
   ]
  },
  {
   "cell_type": "code",
   "execution_count": null,
   "id": "94da1dde",
   "metadata": {},
   "outputs": [],
   "source": [
    "from sklearn.metrics import plot_confusion_matrix\n",
    "\n",
    "plot_confusion_matrix(GCV, X_test, y_test)"
   ]
  },
  {
   "cell_type": "code",
   "execution_count": null,
   "id": "99477544",
   "metadata": {},
   "outputs": [],
   "source": [
    "from sklearn.metrics import plot_roc_curve\n",
    "plot_roc_curve(GCV, X_train,y_train )\n",
    "plt.plot([0,1],[0,1])\n",
    "plt.xlabel('false positive')\n",
    "plt.ylabel('true positve')\n",
    "plt.title('ROC curve XGBClassifier')\n",
    "plt.show()"
   ]
  },
  {
   "cell_type": "code",
   "execution_count": null,
   "id": "812ac2b8",
   "metadata": {},
   "outputs": [],
   "source": [
    "from xgboost import XGBClassifier\n",
    "from sklearn.metrics import classification_report, confusion_matrix\n",
    "from sklearn.model_selection import GridSearchCV\n",
    "import xgboost\n",
    "\n",
    "#Hyper parameter optimization\n",
    "param = {\"eta\" : [0.05, 0.10, 0.15, 0.20, 0.25, 0.30 ],\n",
    "    \"learning_rate\": [0.001, 0.01, 0.1, 1],\n",
    "        \"max_depth\": [10, 100, 200]\n",
    "        }\n",
    "\n",
    "xgb_g=xgboost.XGBClassifier(eval_metric = \"error\")\n",
    "\n",
    "xgb_GCV=GridSearchCV(xgb_g, param)\n",
    "\n",
    "xgb_GCV.fit(X_train, y_train)"
   ]
  },
  {
   "cell_type": "code",
   "execution_count": null,
   "id": "4196804a",
   "metadata": {},
   "outputs": [],
   "source": [
    "xgb_GCV.best_estimator_"
   ]
  },
  {
   "cell_type": "code",
   "execution_count": null,
   "id": "5c60d2fa",
   "metadata": {},
   "outputs": [],
   "source": [
    "xgb_GCV.get_params()\n",
    "xgb_GCV.best_params_"
   ]
  },
  {
   "cell_type": "code",
   "execution_count": null,
   "id": "287d824c",
   "metadata": {},
   "outputs": [],
   "source": [
    "y_pred3 = xgb_GCV.predict(X_test)"
   ]
  },
  {
   "cell_type": "code",
   "execution_count": null,
   "id": "2307cb51",
   "metadata": {},
   "outputs": [],
   "source": [
    "accuracy = accuracy_score(y_test, y_pred3)"
   ]
  },
  {
   "cell_type": "code",
   "execution_count": null,
   "id": "5aac59d8",
   "metadata": {},
   "outputs": [],
   "source": [
    "predictions_test_xgb = xgb_GCV.predict(X_test)\n",
    "predictions_train_xgb = xgb_GCV.predict(X_train)"
   ]
  },
  {
   "cell_type": "code",
   "execution_count": null,
   "id": "5b15c85a",
   "metadata": {},
   "outputs": [],
   "source": [
    "train_acc = accuracy_score(y_train, predictions_train_xgb)\n",
    "print(train_acc)\n",
    "\n",
    "test_acc = accuracy_score(y_test, predictions_test_xgb)\n",
    "print(test_acc)"
   ]
  },
  {
   "cell_type": "code",
   "execution_count": null,
   "id": "e4bcdd32",
   "metadata": {},
   "outputs": [],
   "source": [
    "recall = recall_score(y_test, predictions_test_xgb, average='macro')\n",
    "print('Recall: %.3f' % recall)"
   ]
  },
  {
   "cell_type": "code",
   "execution_count": null,
   "id": "41d462f5",
   "metadata": {},
   "outputs": [],
   "source": [
    "f1 = f1_score(y_test, predictions_test_xgb, average='macro')\n",
    "print('F1-Score: %.3f' % f1)"
   ]
  },
  {
   "cell_type": "code",
   "execution_count": null,
   "id": "4989a366",
   "metadata": {},
   "outputs": [],
   "source": [
    "print(classification_report(y_test, y_pred3))"
   ]
  },
  {
   "cell_type": "code",
   "execution_count": null,
   "id": "041eac68",
   "metadata": {},
   "outputs": [],
   "source": [
    "cm = confusion_matrix(y_test,xgb_GCV.predict(X_test))\n",
    "sns.heatmap(cm,annot=True,fmt=\"d\")"
   ]
  },
  {
   "cell_type": "code",
   "execution_count": null,
   "id": "b1e2fd0d",
   "metadata": {},
   "outputs": [],
   "source": [
    "from sklearn.metrics import plot_roc_curve\n",
    "plot_roc_curve(xgb_GCV, X_train,y_train )\n",
    "plt.plot([0,1],[0,1])\n",
    "plt.xlabel('false positive')\n",
    "plt.ylabel('true positve')\n",
    "plt.title('ROC curve XGBClassifier')\n",
    "plt.show()"
   ]
  },
  {
   "cell_type": "code",
   "execution_count": null,
   "id": "7890e038",
   "metadata": {},
   "outputs": [],
   "source": []
  },
  {
   "cell_type": "code",
   "execution_count": null,
   "id": "3c88cf45",
   "metadata": {},
   "outputs": [],
   "source": [
    "from xgboost import XGBClassifier\n"
   ]
  },
  {
   "cell_type": "code",
   "execution_count": null,
   "id": "4a6d8161",
   "metadata": {},
   "outputs": [],
   "source": []
  },
  {
   "cell_type": "code",
   "execution_count": null,
   "id": "b83ea6b0",
   "metadata": {},
   "outputs": [],
   "source": [
    "train_test_proportions = []\n",
    "for train, test in cv_iter:\n",
    "    for n_train_samples in train_sizes_abs:\n",
    "        train_test_proportions.append((train[:n_train_samples], test))"
   ]
  },
  {
   "cell_type": "code",
   "execution_count": null,
   "id": "dc2f4519",
   "metadata": {},
   "outputs": [],
   "source": [
    "from mlxtend.plotting import plot_learning_curves\n",
    "\n",
    "plot_learning_curves(X_train, y_train, X_test, y_test, xgb_GCV)\n",
    "plt.show()"
   ]
  },
  {
   "cell_type": "code",
   "execution_count": null,
   "id": "2a7501c8",
   "metadata": {},
   "outputs": [],
   "source": []
  },
  {
   "cell_type": "code",
   "execution_count": null,
   "id": "4e0afeaa",
   "metadata": {},
   "outputs": [],
   "source": []
  },
  {
   "cell_type": "code",
   "execution_count": null,
   "id": "781be34d",
   "metadata": {},
   "outputs": [],
   "source": []
  },
  {
   "cell_type": "code",
   "execution_count": null,
   "id": "2a210a3c",
   "metadata": {},
   "outputs": [],
   "source": []
  },
  {
   "cell_type": "code",
   "execution_count": null,
   "id": "a6962804",
   "metadata": {},
   "outputs": [],
   "source": [
    "import numpy as np\n",
    "from sklearn.dummy import DummyClassifier"
   ]
  },
  {
   "cell_type": "code",
   "execution_count": null,
   "id": "f35d086e",
   "metadata": {},
   "outputs": [],
   "source": [
    "dummy_clf = DummyClassifier(strategy=\"most_frequent\")\n",
    "dummy_clf.fit(X_train, y_train)\n",
    "dummy_clf.get_params()"
   ]
  },
  {
   "cell_type": "code",
   "execution_count": null,
   "id": "aa79ea2d",
   "metadata": {},
   "outputs": [],
   "source": [
    "y_dummy = dummy_clf.predict(X_test)"
   ]
  },
  {
   "cell_type": "code",
   "execution_count": null,
   "id": "1cdca8b9",
   "metadata": {},
   "outputs": [],
   "source": [
    "prob = dummy_clf.predict_proba(X_test)"
   ]
  },
  {
   "cell_type": "code",
   "execution_count": null,
   "id": "eae25967",
   "metadata": {},
   "outputs": [],
   "source": [
    "sc = dummy_clf.score(X_train, y_train)\n",
    "sc"
   ]
  },
  {
   "cell_type": "code",
   "execution_count": null,
   "id": "04a4a208",
   "metadata": {},
   "outputs": [],
   "source": [
    "from sklearn.metrics import accuracy_score, classification_report\n",
    "print(accuracy_score(y_test, y_dummy))"
   ]
  },
  {
   "cell_type": "code",
   "execution_count": null,
   "id": "8dd83050",
   "metadata": {},
   "outputs": [],
   "source": [
    "print(classification_report(y_test, y_dummy))"
   ]
  },
  {
   "cell_type": "code",
   "execution_count": null,
   "id": "7169948c",
   "metadata": {},
   "outputs": [],
   "source": [
    "from sklearn.metrics import plot_roc_curve\n",
    "plot_roc_curve(dummy_clf, X_train,y_train )\n",
    "plt.plot([0,1],[0,1])\n",
    "plt.xlabel('false positive')\n",
    "plt.ylabel('true positve')\n",
    "plt.title('ROC curve dummy_clf')\n",
    "plt.show()"
   ]
  },
  {
   "cell_type": "markdown",
   "id": "490e1710",
   "metadata": {},
   "source": [
    "# Regression Logistique"
   ]
  },
  {
   "cell_type": "code",
   "execution_count": null,
   "id": "32c4148e",
   "metadata": {},
   "outputs": [],
   "source": [
    "from sklearn.linear_model import LogisticRegression\n",
    "from sklearn.model_selection import check_cv\n",
    "from sklearn.base import is_classifier\n",
    "from sklearn.utils import check_random_state\n",
    "\n",
    "cv = 5\n",
    "estimator= LogisticRegression()\n",
    "cv = check_cv(cv, y, classifier=is_classifier(estimator))\n",
    "cv_iter = list(cv.split(X, y))\n",
    "\n",
    "#lr = LogisticRegression(C=1000.0, random_state=0)\n",
    "#lr.fit(X_train, y_train)"
   ]
  },
  {
   "cell_type": "code",
   "execution_count": null,
   "id": "8fcb3f95",
   "metadata": {},
   "outputs": [],
   "source": [
    "for train, test in cv_iter:\n",
    "    print(train, test)"
   ]
  },
  {
   "cell_type": "code",
   "execution_count": null,
   "id": "a4fc62c9",
   "metadata": {},
   "outputs": [],
   "source": [
    "from sklearn.model_selection import learning_curve \n",
    "train_sizes, train_scores, validation_scores = learning_curve( \n",
    "estimator = LogisticRegression(), \n",
    "X = X, y = y, train_sizes = [100, 1000, 1500] , cv = 5)"
   ]
  },
  {
   "cell_type": "code",
   "execution_count": null,
   "id": "b6733a48",
   "metadata": {},
   "outputs": [],
   "source": [
    "def plot_decision_regions(X, y, classifier, test_idx=None, resolution=0.02):\n",
    "   # setup marker generator and color map\n",
    "    markers = ('s', 'x', 'o', '^', 'v')\n",
    "    colors = ('red', 'blue', 'lightgreen', 'gray', 'cyan')\n",
    "    cmap = ListedColormap(colors[:len(np.unique(y))])\n",
    "\n",
    "   # plot the decision surface\n",
    "    x1_min, x1_max = X[:, 0].min() - 1, X[:, 0].max() + 1\n",
    "    x2_min, x2_max = X[:, 1].min() - 1, X[:, 1].max() + 1\n",
    "    xx1, xx2 = np.meshgrid(np.arange(x1_min, x1_max, resolution),\n",
    "    np.arange(x2_min, x2_max, resolution))\n",
    "    Z = classifier.predict(np.array([xx1.ravel(), xx2.ravel()]).T)\n",
    "    Z = Z.reshape(xx1.shape)\n",
    "    plt.contourf(xx1, xx2, Z, alpha=0.4, cmap=cmap)\n",
    "    plt.xlim(xx1.min(), xx1.max())\n",
    "    plt.ylim(xx2.min(), xx2.max())\n",
    "\n",
    "   # plot all samples\n",
    "    X_test, y_test = X[test_idx, :], y[test_idx]\n",
    "    for idx, cl in enumerate(np.unique(y)):\n",
    "        plt.scatter(x=X[y == cl, 0], y=X[y == cl, 1],\n",
    "               alpha=0.8, c=cmap(idx),\n",
    "               marker=markers[idx], label=cl)\n",
    "   # highlight test samples\n",
    "    if test_idx:\n",
    "        X_test, y_test = X[test_idx, :], y[test_idx]\n",
    "        plt.scatter(X_test[:, 0], X_test[:, 1], c='',\n",
    "               alpha=1.0, linewidth=1, marker='o',\n",
    "               s=55, label='test set')\n",
    "        X_combined_std = np.vstack((X_train_std, X_test))\n",
    "        y_combined = np.hstack((y_train, y_test))\n",
    "\n",
    "        plot_decision_regions(X_combined_std,\n",
    "                      y_combined, classifier=lr,\n",
    "                      test_idx=range(105,150))\n",
    "\n",
    "plt.xlabel('petal length [standardized]')\n",
    "plt.ylabel('petal width [standardized]')\n",
    "plt.legend(loc='upper left')\n",
    "plt.show()"
   ]
  },
  {
   "cell_type": "code",
   "execution_count": null,
   "id": "6dfb020a",
   "metadata": {},
   "outputs": [],
   "source": [
    "train_scores_mean = train_scores.mean(axis = 1)\n",
    "validation_scores_mean = validation_scores.mean(axis = 1)"
   ]
  },
  {
   "cell_type": "code",
   "execution_count": null,
   "id": "674c9558",
   "metadata": {},
   "outputs": [],
   "source": [
    "train_test_proportions = []\n",
    "for train, test in cv_iter:\n",
    "    for n_train_samples in train_sizes:\n",
    "        train_test_proportions.append((train[:n_train_samples], test))"
   ]
  },
  {
   "cell_type": "code",
   "execution_count": null,
   "id": "3574c7d2",
   "metadata": {},
   "outputs": [],
   "source": [
    "if shuffle:\n",
    "    rng = check_random_state(random_state)\n",
    "    cv_iter = ((rng.permutation(train), test) for train, test in cv_iter)"
   ]
  },
  {
   "cell_type": "code",
   "execution_count": null,
   "id": "0f9b1a5d",
   "metadata": {},
   "outputs": [],
   "source": [
    "for train, test in cv_iter:\n",
    "    print(train, test)"
   ]
  },
  {
   "cell_type": "code",
   "execution_count": null,
   "id": "b55f531c",
   "metadata": {},
   "outputs": [],
   "source": [
    "train_sizes, train_scores, validation_scores = learning_curve(\n",
    "estimator = LogisticRegression(),\n",
    "X = X, y = y, train_sizes = [100, 1000, 1500], cv = 5, \n",
    "shuffle = True, random_state = 45)"
   ]
  },
  {
   "cell_type": "code",
   "execution_count": null,
   "id": "4203407e",
   "metadata": {},
   "outputs": [],
   "source": [
    "from mlxtend.plotting import plot_learning_curves\n",
    "\n",
    "plot_learning_curves(X_train, y_train, X_test, y_test, lr)\n",
    "plt.show()"
   ]
  },
  {
   "cell_type": "code",
   "execution_count": null,
   "id": "88d2ffd8",
   "metadata": {},
   "outputs": [],
   "source": []
  },
  {
   "cell_type": "code",
   "execution_count": null,
   "id": "4da69e36",
   "metadata": {},
   "outputs": [],
   "source": [
    "lr.plot_learning_curves(scale = True, batch_size = 500)"
   ]
  },
  {
   "cell_type": "code",
   "execution_count": null,
   "id": "1fe2d611",
   "metadata": {},
   "outputs": [],
   "source": []
  },
  {
   "cell_type": "code",
   "execution_count": null,
   "id": "ed69b3c9",
   "metadata": {},
   "outputs": [],
   "source": []
  },
  {
   "cell_type": "code",
   "execution_count": null,
   "id": "823e4da7",
   "metadata": {},
   "outputs": [],
   "source": []
  },
  {
   "cell_type": "code",
   "execution_count": null,
   "id": "727716f6",
   "metadata": {},
   "outputs": [],
   "source": []
  },
  {
   "cell_type": "code",
   "execution_count": null,
   "id": "2c96b7a6",
   "metadata": {},
   "outputs": [],
   "source": []
  },
  {
   "cell_type": "code",
   "execution_count": null,
   "id": "2e216845",
   "metadata": {},
   "outputs": [],
   "source": []
  },
  {
   "cell_type": "code",
   "execution_count": null,
   "id": "99492543",
   "metadata": {},
   "outputs": [],
   "source": [
    "!pip install xgboost_ray"
   ]
  },
  {
   "cell_type": "code",
   "execution_count": null,
   "id": "302dad95",
   "metadata": {},
   "outputs": [],
   "source": [
    "from xgboost_ray import RayDMatrix, RayParams, train\n",
    "from sklearn.datasets import load_breast_cancer\n",
    "\n",
    "train_x, train_y = load_breast_cancer(return_X_y=True)\n",
    "train_set = RayDMatrix(train_x, train_y)\n",
    "\n",
    "evals_result = {}\n",
    "bst = train(\n",
    "    {\n",
    "        \"objective\": \"binary:logistic\",\n",
    "        \"eval_metric\": [\"logloss\", \"error\"],\n",
    "    },\n",
    "    train_set,\n",
    "    evals_result=evals_result,\n",
    "    evals=[(train_set, \"train\")],\n",
    "    verbose_eval=False,\n",
    "    ray_params=RayParams(\n",
    "        num_actors=2,  # Number of remote actors\n",
    "        cpus_per_actor=1))\n",
    "\n",
    "bst.save_model(\"model.xgb\")\n",
    "print(\"Final training error: {:.4f}\".format(\n",
    "    evals_result[\"train\"][\"error\"][-1]))"
   ]
  },
  {
   "cell_type": "code",
   "execution_count": null,
   "id": "41d75f75",
   "metadata": {},
   "outputs": [],
   "source": []
  },
  {
   "cell_type": "code",
   "execution_count": null,
   "id": "90a2a34a",
   "metadata": {},
   "outputs": [],
   "source": []
  },
  {
   "cell_type": "code",
   "execution_count": null,
   "id": "4cff61bc",
   "metadata": {},
   "outputs": [],
   "source": []
  },
  {
   "cell_type": "code",
   "execution_count": null,
   "id": "3282d5b6",
   "metadata": {},
   "outputs": [],
   "source": []
  }
 ],
 "metadata": {
  "kernelspec": {
   "display_name": "Python 3 (ipykernel)",
   "language": "python",
   "name": "python3"
  },
  "language_info": {
   "codemirror_mode": {
    "name": "ipython",
    "version": 3
   },
   "file_extension": ".py",
   "mimetype": "text/x-python",
   "name": "python",
   "nbconvert_exporter": "python",
   "pygments_lexer": "ipython3",
   "version": "3.8.12"
  }
 },
 "nbformat": 4,
 "nbformat_minor": 5
}
