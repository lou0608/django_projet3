{
 "cells": [
  {
   "cell_type": "code",
   "execution_count": 2,
   "id": "97e42c9f",
   "metadata": {},
   "outputs": [],
   "source": [
    "import pandas as pd\n",
    "pd.set_option('display.max_columns', None)\n",
    "import numpy as np\n",
    "import scipy.stats as stat\n",
    "import scipy as sp\n",
    "import statistics\n",
    "\n",
    "from datetime import datetime\n",
    "from datetime import  date\n",
    "\n",
    "import warnings\n",
    "warnings.filterwarnings('ignore')"
   ]
  },
  {
   "cell_type": "code",
   "execution_count": 3,
   "id": "e6af7d44",
   "metadata": {},
   "outputs": [],
   "source": [
    "import matplotlib.pyplot as plt\n",
    "from matplotlib import pyplot\n",
    "\n",
    "%matplotlib inline\n",
    "from mpl_toolkits.mplot3d import Axes3D\n",
    "from matplotlib import cm\n",
    "import seaborn as sns\n",
    "\n",
    "import warnings\n",
    "warnings.filterwarnings('ignore')"
   ]
  },
  {
   "cell_type": "code",
   "execution_count": 4,
   "id": "e8fc1c8c",
   "metadata": {},
   "outputs": [],
   "source": [
    "# Modèle de ML\n",
    "from sklearn import linear_model\n",
    "\n",
    "# data pre-processing\n",
    "from sklearn import preprocessing\n",
    "from sklearn.model_selection import train_test_split\n",
    "\n",
    "# Outils score et evaluation de modèle\n",
    "from sklearn.metrics import accuracy_score\n",
    "from sklearn import metrics\n",
    "from sklearn.metrics import classification_report\n",
    "from sklearn.metrics import confusion_matrix\n",
    "\n",
    "from sklearn.metrics import r2_score\n",
    "\n",
    "# Outils optmisation de modèle\n",
    "from sklearn.model_selection import GridSearchCV"
   ]
  },
  {
   "cell_type": "code",
   "execution_count": 5,
   "id": "e809d8f3",
   "metadata": {},
   "outputs": [
    {
     "data": {
      "text/html": [
       "<div>\n",
       "<style scoped>\n",
       "    .dataframe tbody tr th:only-of-type {\n",
       "        vertical-align: middle;\n",
       "    }\n",
       "\n",
       "    .dataframe tbody tr th {\n",
       "        vertical-align: top;\n",
       "    }\n",
       "\n",
       "    .dataframe thead th {\n",
       "        text-align: right;\n",
       "    }\n",
       "</style>\n",
       "<table border=\"1\" class=\"dataframe\">\n",
       "  <thead>\n",
       "    <tr style=\"text-align: right;\">\n",
       "      <th></th>\n",
       "      <th>DateMandatInstant</th>\n",
       "      <th>DateMandatSeason</th>\n",
       "      <th>DateMandatYear</th>\n",
       "      <th>DateMandatMonth</th>\n",
       "      <th>DateMandatWeek</th>\n",
       "      <th>MandatId</th>\n",
       "      <th>UrlMandat</th>\n",
       "      <th>DateMandat</th>\n",
       "      <th>StatutMandat</th>\n",
       "      <th>DateCompromis</th>\n",
       "      <th>BudgetMaxEuro</th>\n",
       "      <th>TypeBien</th>\n",
       "      <th>TypeProjet</th>\n",
       "      <th>SurfaceMin</th>\n",
       "      <th>NombrePieces</th>\n",
       "      <th>NombreChambres</th>\n",
       "      <th>Ville</th>\n",
       "      <th>CodePostal</th>\n",
       "      <th>Departement</th>\n",
       "      <th>Region</th>\n",
       "      <th>NombreDeBiensTrouves</th>\n",
       "      <th>NombreDeBiensPublies</th>\n",
       "      <th>NombreDeBiensSelectionnes</th>\n",
       "      <th>NombreDeBiensAVisiter</th>\n",
       "      <th>NombreDeBiensVisites</th>\n",
       "      <th>NombreDeBiensRejetes</th>\n",
       "      <th>NombreDeBiensActesOuCompromis</th>\n",
       "      <th>DatePremierePublicationDeBien</th>\n",
       "      <th>DateDernierePublicationDeBien</th>\n",
       "      <th>DelaiPremierePublicationDeBien</th>\n",
       "      <th>DatePremiereVisite</th>\n",
       "      <th>DelaiPremiereVisite</th>\n",
       "      <th>DateNaissanceClient</th>\n",
       "      <th>CodePostalClient</th>\n",
       "    </tr>\n",
       "  </thead>\n",
       "  <tbody>\n",
       "    <tr>\n",
       "      <th>0</th>\n",
       "      <td>1</td>\n",
       "      <td>2</td>\n",
       "      <td>0</td>\n",
       "      <td>4</td>\n",
       "      <td>17</td>\n",
       "      <td>2</td>\n",
       "      <td>https://monespace.net-acheteur.com/Spa/app/#/m...</td>\n",
       "      <td>2012-04-26</td>\n",
       "      <td>Mandat perdu</td>\n",
       "      <td>NaN</td>\n",
       "      <td>280000</td>\n",
       "      <td>Maison</td>\n",
       "      <td>Résidence principale</td>\n",
       "      <td>0</td>\n",
       "      <td>5</td>\n",
       "      <td>2</td>\n",
       "      <td>Nimes</td>\n",
       "      <td>30000</td>\n",
       "      <td>Gard</td>\n",
       "      <td>Languedoc-Roussillon</td>\n",
       "      <td>39</td>\n",
       "      <td>32</td>\n",
       "      <td>5</td>\n",
       "      <td>4</td>\n",
       "      <td>1</td>\n",
       "      <td>18</td>\n",
       "      <td>0</td>\n",
       "      <td>2012-05-21</td>\n",
       "      <td>2015-10-09</td>\n",
       "      <td>25.0</td>\n",
       "      <td>NaN</td>\n",
       "      <td>NaN</td>\n",
       "      <td>1981-09-07</td>\n",
       "      <td>34000</td>\n",
       "    </tr>\n",
       "    <tr>\n",
       "      <th>1</th>\n",
       "      <td>1</td>\n",
       "      <td>2</td>\n",
       "      <td>0</td>\n",
       "      <td>4</td>\n",
       "      <td>17</td>\n",
       "      <td>2</td>\n",
       "      <td>https://monespace.net-acheteur.com/Spa/app/#/m...</td>\n",
       "      <td>2012-04-26</td>\n",
       "      <td>Mandat perdu</td>\n",
       "      <td>NaN</td>\n",
       "      <td>280000</td>\n",
       "      <td>Maison</td>\n",
       "      <td>Résidence principale</td>\n",
       "      <td>0</td>\n",
       "      <td>5</td>\n",
       "      <td>2</td>\n",
       "      <td>Montpellier</td>\n",
       "      <td>34000</td>\n",
       "      <td>Hérault</td>\n",
       "      <td>Languedoc-Roussillon</td>\n",
       "      <td>39</td>\n",
       "      <td>32</td>\n",
       "      <td>5</td>\n",
       "      <td>4</td>\n",
       "      <td>1</td>\n",
       "      <td>18</td>\n",
       "      <td>0</td>\n",
       "      <td>2012-05-21</td>\n",
       "      <td>2015-10-09</td>\n",
       "      <td>25.0</td>\n",
       "      <td>NaN</td>\n",
       "      <td>NaN</td>\n",
       "      <td>1981-09-07</td>\n",
       "      <td>34000</td>\n",
       "    </tr>\n",
       "    <tr>\n",
       "      <th>2</th>\n",
       "      <td>1</td>\n",
       "      <td>2</td>\n",
       "      <td>0</td>\n",
       "      <td>4</td>\n",
       "      <td>17</td>\n",
       "      <td>3</td>\n",
       "      <td>https://monespace.net-acheteur.com/Spa/app/#/m...</td>\n",
       "      <td>2012-04-26</td>\n",
       "      <td>Lead perdu</td>\n",
       "      <td>NaN</td>\n",
       "      <td>300000</td>\n",
       "      <td>Appartement</td>\n",
       "      <td>Résidence principale</td>\n",
       "      <td>70</td>\n",
       "      <td>3</td>\n",
       "      <td>2</td>\n",
       "      <td>Montpellier</td>\n",
       "      <td>34000</td>\n",
       "      <td>Hérault</td>\n",
       "      <td>Languedoc-Roussillon</td>\n",
       "      <td>2</td>\n",
       "      <td>1</td>\n",
       "      <td>0</td>\n",
       "      <td>0</td>\n",
       "      <td>0</td>\n",
       "      <td>0</td>\n",
       "      <td>0</td>\n",
       "      <td>2013-03-07</td>\n",
       "      <td>2013-03-07</td>\n",
       "      <td>315.0</td>\n",
       "      <td>NaN</td>\n",
       "      <td>NaN</td>\n",
       "      <td>NaN</td>\n",
       "      <td>34000</td>\n",
       "    </tr>\n",
       "    <tr>\n",
       "      <th>3</th>\n",
       "      <td>2</td>\n",
       "      <td>2</td>\n",
       "      <td>0</td>\n",
       "      <td>4</td>\n",
       "      <td>17</td>\n",
       "      <td>5</td>\n",
       "      <td>https://monespace.net-acheteur.com/Spa/app/#/m...</td>\n",
       "      <td>2012-04-27</td>\n",
       "      <td>Mandat perdu</td>\n",
       "      <td>NaN</td>\n",
       "      <td>250000</td>\n",
       "      <td>Appartement</td>\n",
       "      <td>Investissement</td>\n",
       "      <td>60</td>\n",
       "      <td>3</td>\n",
       "      <td>2</td>\n",
       "      <td>Montpellier</td>\n",
       "      <td>34000</td>\n",
       "      <td>Hérault</td>\n",
       "      <td>Languedoc-Roussillon</td>\n",
       "      <td>18</td>\n",
       "      <td>17</td>\n",
       "      <td>2</td>\n",
       "      <td>0</td>\n",
       "      <td>1</td>\n",
       "      <td>11</td>\n",
       "      <td>0</td>\n",
       "      <td>2012-05-03</td>\n",
       "      <td>2014-11-18</td>\n",
       "      <td>6.0</td>\n",
       "      <td>NaN</td>\n",
       "      <td>NaN</td>\n",
       "      <td>1972-12-13</td>\n",
       "      <td>34820</td>\n",
       "    </tr>\n",
       "    <tr>\n",
       "      <th>4</th>\n",
       "      <td>7</td>\n",
       "      <td>2</td>\n",
       "      <td>0</td>\n",
       "      <td>5</td>\n",
       "      <td>18</td>\n",
       "      <td>12</td>\n",
       "      <td>https://monespace.net-acheteur.com/Spa/app/#/m...</td>\n",
       "      <td>2012-05-02</td>\n",
       "      <td>Lead perdu</td>\n",
       "      <td>NaN</td>\n",
       "      <td>250000</td>\n",
       "      <td>Maison</td>\n",
       "      <td>Résidence principale</td>\n",
       "      <td>80</td>\n",
       "      <td>4</td>\n",
       "      <td>3</td>\n",
       "      <td>Frontignan</td>\n",
       "      <td>34110</td>\n",
       "      <td>Hérault</td>\n",
       "      <td>Languedoc-Roussillon</td>\n",
       "      <td>0</td>\n",
       "      <td>0</td>\n",
       "      <td>0</td>\n",
       "      <td>0</td>\n",
       "      <td>0</td>\n",
       "      <td>0</td>\n",
       "      <td>0</td>\n",
       "      <td>NaN</td>\n",
       "      <td>NaN</td>\n",
       "      <td>NaN</td>\n",
       "      <td>NaN</td>\n",
       "      <td>NaN</td>\n",
       "      <td>NaN</td>\n",
       "      <td>NaN</td>\n",
       "    </tr>\n",
       "  </tbody>\n",
       "</table>\n",
       "</div>"
      ],
      "text/plain": [
       "   DateMandatInstant  DateMandatSeason  DateMandatYear  DateMandatMonth  \\\n",
       "0                  1                 2               0                4   \n",
       "1                  1                 2               0                4   \n",
       "2                  1                 2               0                4   \n",
       "3                  2                 2               0                4   \n",
       "4                  7                 2               0                5   \n",
       "\n",
       "   DateMandatWeek  MandatId  \\\n",
       "0              17         2   \n",
       "1              17         2   \n",
       "2              17         3   \n",
       "3              17         5   \n",
       "4              18        12   \n",
       "\n",
       "                                           UrlMandat  DateMandat  \\\n",
       "0  https://monespace.net-acheteur.com/Spa/app/#/m...  2012-04-26   \n",
       "1  https://monespace.net-acheteur.com/Spa/app/#/m...  2012-04-26   \n",
       "2  https://monespace.net-acheteur.com/Spa/app/#/m...  2012-04-26   \n",
       "3  https://monespace.net-acheteur.com/Spa/app/#/m...  2012-04-27   \n",
       "4  https://monespace.net-acheteur.com/Spa/app/#/m...  2012-05-02   \n",
       "\n",
       "   StatutMandat DateCompromis  BudgetMaxEuro     TypeBien  \\\n",
       "0  Mandat perdu           NaN         280000       Maison   \n",
       "1  Mandat perdu           NaN         280000       Maison   \n",
       "2    Lead perdu           NaN         300000  Appartement   \n",
       "3  Mandat perdu           NaN         250000  Appartement   \n",
       "4    Lead perdu           NaN         250000       Maison   \n",
       "\n",
       "             TypeProjet  SurfaceMin NombrePieces NombreChambres        Ville  \\\n",
       "0  Résidence principale           0            5              2        Nimes   \n",
       "1  Résidence principale           0            5              2  Montpellier   \n",
       "2  Résidence principale          70            3              2  Montpellier   \n",
       "3        Investissement          60            3              2  Montpellier   \n",
       "4  Résidence principale          80            4              3   Frontignan   \n",
       "\n",
       "   CodePostal Departement                Region  NombreDeBiensTrouves  \\\n",
       "0       30000        Gard  Languedoc-Roussillon                    39   \n",
       "1       34000     Hérault  Languedoc-Roussillon                    39   \n",
       "2       34000     Hérault  Languedoc-Roussillon                     2   \n",
       "3       34000     Hérault  Languedoc-Roussillon                    18   \n",
       "4       34110     Hérault  Languedoc-Roussillon                     0   \n",
       "\n",
       "   NombreDeBiensPublies  NombreDeBiensSelectionnes  NombreDeBiensAVisiter  \\\n",
       "0                    32                          5                      4   \n",
       "1                    32                          5                      4   \n",
       "2                     1                          0                      0   \n",
       "3                    17                          2                      0   \n",
       "4                     0                          0                      0   \n",
       "\n",
       "   NombreDeBiensVisites  NombreDeBiensRejetes  NombreDeBiensActesOuCompromis  \\\n",
       "0                     1                    18                              0   \n",
       "1                     1                    18                              0   \n",
       "2                     0                     0                              0   \n",
       "3                     1                    11                              0   \n",
       "4                     0                     0                              0   \n",
       "\n",
       "  DatePremierePublicationDeBien DateDernierePublicationDeBien  \\\n",
       "0                    2012-05-21                    2015-10-09   \n",
       "1                    2012-05-21                    2015-10-09   \n",
       "2                    2013-03-07                    2013-03-07   \n",
       "3                    2012-05-03                    2014-11-18   \n",
       "4                           NaN                           NaN   \n",
       "\n",
       "   DelaiPremierePublicationDeBien DatePremiereVisite  DelaiPremiereVisite  \\\n",
       "0                            25.0                NaN                  NaN   \n",
       "1                            25.0                NaN                  NaN   \n",
       "2                           315.0                NaN                  NaN   \n",
       "3                             6.0                NaN                  NaN   \n",
       "4                             NaN                NaN                  NaN   \n",
       "\n",
       "  DateNaissanceClient CodePostalClient  \n",
       "0          1981-09-07            34000  \n",
       "1          1981-09-07            34000  \n",
       "2                 NaN            34000  \n",
       "3          1972-12-13            34820  \n",
       "4                 NaN              NaN  "
      ]
     },
     "execution_count": 5,
     "metadata": {},
     "output_type": "execute_result"
    }
   ],
   "source": [
    "df = pd.read_csv(\"dataset_birth_codeP.csv\", sep = \",\")\n",
    "df.head()"
   ]
  },
  {
   "cell_type": "code",
   "execution_count": 5,
   "id": "1d1d6181",
   "metadata": {},
   "outputs": [
    {
     "data": {
      "text/plain": [
       "pandas.core.frame.DataFrame"
      ]
     },
     "execution_count": 5,
     "metadata": {},
     "output_type": "execute_result"
    }
   ],
   "source": [
    "type(df)"
   ]
  },
  {
   "cell_type": "code",
   "execution_count": 6,
   "id": "5a386d97",
   "metadata": {},
   "outputs": [
    {
     "name": "stdout",
     "output_type": "stream",
     "text": [
      "<class 'pandas.core.frame.DataFrame'>\n",
      "RangeIndex: 51817 entries, 0 to 51816\n",
      "Data columns (total 34 columns):\n",
      " #   Column                          Non-Null Count  Dtype  \n",
      "---  ------                          --------------  -----  \n",
      " 0   DateMandatInstant               51817 non-null  int64  \n",
      " 1   DateMandatSeason                51817 non-null  int64  \n",
      " 2   DateMandatYear                  51817 non-null  int64  \n",
      " 3   DateMandatMonth                 51817 non-null  int64  \n",
      " 4   DateMandatWeek                  51817 non-null  int64  \n",
      " 5   MandatId                        51817 non-null  int64  \n",
      " 6   UrlMandat                       51817 non-null  object \n",
      " 7   DateMandat                      51817 non-null  object \n",
      " 8   StatutMandat                    51817 non-null  object \n",
      " 9   DateCompromis                   6645 non-null   object \n",
      " 10  BudgetMaxEuro                   51817 non-null  int64  \n",
      " 11  TypeBien                        51817 non-null  object \n",
      " 12  TypeProjet                      51817 non-null  object \n",
      " 13  SurfaceMin                      51817 non-null  int64  \n",
      " 14  NombrePieces                    51817 non-null  object \n",
      " 15  NombreChambres                  51817 non-null  object \n",
      " 16  Ville                           51817 non-null  object \n",
      " 17  CodePostal                      51817 non-null  int64  \n",
      " 18  Departement                     51817 non-null  object \n",
      " 19  Region                          51817 non-null  object \n",
      " 20  NombreDeBiensTrouves            51817 non-null  int64  \n",
      " 21  NombreDeBiensPublies            51817 non-null  int64  \n",
      " 22  NombreDeBiensSelectionnes       51817 non-null  int64  \n",
      " 23  NombreDeBiensAVisiter           51817 non-null  int64  \n",
      " 24  NombreDeBiensVisites            51817 non-null  int64  \n",
      " 25  NombreDeBiensRejetes            51817 non-null  int64  \n",
      " 26  NombreDeBiensActesOuCompromis   51817 non-null  int64  \n",
      " 27  DatePremierePublicationDeBien   23422 non-null  object \n",
      " 28  DateDernierePublicationDeBien   23422 non-null  object \n",
      " 29  DelaiPremierePublicationDeBien  23422 non-null  float64\n",
      " 30  DatePremiereVisite              12765 non-null  object \n",
      " 31  DelaiPremiereVisite             12765 non-null  float64\n",
      " 32  DateNaissanceClient             38475 non-null  object \n",
      " 33  CodePostalClient                40485 non-null  object \n",
      "dtypes: float64(2), int64(16), object(16)\n",
      "memory usage: 13.4+ MB\n"
     ]
    }
   ],
   "source": [
    "df.info()"
   ]
  },
  {
   "cell_type": "code",
   "execution_count": 7,
   "id": "d48e1e1e",
   "metadata": {},
   "outputs": [],
   "source": [
    "# drop colonne\n",
    "# transfo data\n",
    "# suppr valeur nulle\n",
    "# recup csv"
   ]
  },
  {
   "cell_type": "code",
   "execution_count": 8,
   "id": "22a09e4c",
   "metadata": {},
   "outputs": [],
   "source": [
    "df.drop([\"UrlMandat\", \"DatePremierePublicationDeBien\", \"DateDernierePublicationDeBien\", \"DelaiPremierePublicationDeBien\", \"DatePremiereVisite\", \"DelaiPremiereVisite\", \"CodePostalClient\"], axis = 1, inplace = True)"
   ]
  },
  {
   "cell_type": "code",
   "execution_count": 1,
   "id": "330b20e9",
   "metadata": {},
   "outputs": [
    {
     "ename": "NameError",
     "evalue": "name 'df' is not defined",
     "output_type": "error",
     "traceback": [
      "\u001b[1;31m---------------------------------------------------------------------------\u001b[0m",
      "\u001b[1;31mNameError\u001b[0m                                 Traceback (most recent call last)",
      "\u001b[1;32m<ipython-input-1-a29405eb924b>\u001b[0m in \u001b[0;36m<module>\u001b[1;34m\u001b[0m\n\u001b[1;32m----> 1\u001b[1;33m \u001b[0mdf\u001b[0m\u001b[1;33m.\u001b[0m\u001b[0mhead\u001b[0m\u001b[1;33m(\u001b[0m\u001b[1;36m5\u001b[0m\u001b[1;33m)\u001b[0m\u001b[1;33m\u001b[0m\u001b[1;33m\u001b[0m\u001b[0m\n\u001b[0m",
      "\u001b[1;31mNameError\u001b[0m: name 'df' is not defined"
     ]
    }
   ],
   "source": [
    "df.head(5)"
   ]
  },
  {
   "cell_type": "code",
   "execution_count": 6,
   "id": "b747f87e",
   "metadata": {},
   "outputs": [
    {
     "data": {
      "text/plain": [
       "'2021-07-23'"
      ]
     },
     "execution_count": 6,
     "metadata": {},
     "output_type": "execute_result"
    }
   ],
   "source": [
    "df[\"DateMandat\"].max()"
   ]
  },
  {
   "cell_type": "code",
   "execution_count": 10,
   "id": "e40a96a9",
   "metadata": {},
   "outputs": [],
   "source": [
    "indexNames = df[df['StatutMandat'] == 'Lead perdu'].index\n",
    "df.drop(indexNames, inplace = True)"
   ]
  },
  {
   "cell_type": "code",
   "execution_count": 11,
   "id": "7e72ca50",
   "metadata": {},
   "outputs": [],
   "source": [
    "df['StatutMandat'].replace(\"Mandat perdu\",0 ,inplace=True)\n",
    "df['StatutMandat'].replace(\"Entrée dans les lieux\",1 ,inplace=True)\n",
    "df['StatutMandat'].replace(\"Preparation de l'acte\",1 ,inplace=True)\n",
    "\n",
    "df['TypeBien'].replace(\"Appartement\",0 ,inplace=True)\n",
    "df['TypeBien'].replace(\"Maison\",1 ,inplace=True)\n",
    "df['TypeBien'].replace(\"Maison ou appartement\",2 ,inplace=True)\n",
    "df['TypeBien'].replace(\"Immeuble\",3 ,inplace=True)\n",
    "df['TypeBien'].replace(\"Studio\",4 ,inplace=True)\n",
    "df['TypeBien'].replace(\"Terrain\",5 ,inplace=True)\n",
    "df['TypeBien'].replace(\"Local\",6 ,inplace=True)\n",
    "df['TypeBien'].replace(\"Autre\",7 ,inplace=True)\n",
    "\n",
    "df['TypeProjet'].replace(\"Résidence principale\",0 ,inplace=True)\n",
    "df['TypeProjet'].replace(\"Investissement\",1 ,inplace=True)\n",
    "df['TypeProjet'].replace(\"Résidence secondaire\",2 ,inplace=True)\n",
    "\n",
    "df[\"NombreChambres\"].replace(\"6+\", 6, inplace = True)\n",
    "df[\"NombreChambres\"] = df[\"NombreChambres\"].astype(int)\n",
    "\n",
    "df[\"NombrePieces\"].replace(\"6+\", 6, inplace = True)\n",
    "df[\"NombrePieces\"] = df[\"NombrePieces\"].astype(int)"
   ]
  },
  {
   "cell_type": "code",
   "execution_count": 12,
   "id": "799728bc",
   "metadata": {},
   "outputs": [],
   "source": [
    "df['DateMandat'] = pd.to_datetime(df['DateMandat'])\n",
    "df['DateNaissanceClient'] = pd.to_datetime(df['DateNaissanceClient'], errors = 'coerce')\n",
    "df['DateNaissanceClient'] = pd.to_datetime(df['DateNaissanceClient'])\n",
    "df['MandatYear'] = df['DateMandat'].dt.year \n",
    "df[\"ClientYear\"] = df[\"DateNaissanceClient\"].dt.year\n",
    "df['ClientYear'] = df['ClientYear'].fillna(0)\n",
    "df[\"ClientYear\"]=df[\"ClientYear\"].astype(int)\n",
    "df[\"AgeClient\"] = df[\"MandatYear\"] - df[\"ClientYear\"]"
   ]
  },
  {
   "cell_type": "code",
   "execution_count": 13,
   "id": "ed61c594",
   "metadata": {},
   "outputs": [],
   "source": [
    "df[\"Ville\"] = df[\"Ville\"].astype(str)\n",
    "df[\"Departement\"] = df[\"Departement\"].astype(str)\n",
    "df[\"Region\"] = df[\"Region\"].astype(str)"
   ]
  },
  {
   "cell_type": "code",
   "execution_count": 14,
   "id": "c5597eae",
   "metadata": {},
   "outputs": [
    {
     "name": "stdout",
     "output_type": "stream",
     "text": [
      "<class 'pandas.core.frame.DataFrame'>\n",
      "Int64Index: 23055 entries, 0 to 51779\n",
      "Data columns (total 30 columns):\n",
      " #   Column                         Non-Null Count  Dtype         \n",
      "---  ------                         --------------  -----         \n",
      " 0   DateMandatInstant              23055 non-null  int64         \n",
      " 1   DateMandatSeason               23055 non-null  int64         \n",
      " 2   DateMandatYear                 23055 non-null  int64         \n",
      " 3   DateMandatMonth                23055 non-null  int64         \n",
      " 4   DateMandatWeek                 23055 non-null  int64         \n",
      " 5   MandatId                       23055 non-null  int64         \n",
      " 6   DateMandat                     23055 non-null  datetime64[ns]\n",
      " 7   StatutMandat                   23055 non-null  int64         \n",
      " 8   DateCompromis                  6645 non-null   object        \n",
      " 9   BudgetMaxEuro                  23055 non-null  int64         \n",
      " 10  TypeBien                       23055 non-null  int64         \n",
      " 11  TypeProjet                     23055 non-null  int64         \n",
      " 12  SurfaceMin                     23055 non-null  int64         \n",
      " 13  NombrePieces                   23055 non-null  int32         \n",
      " 14  NombreChambres                 23055 non-null  int32         \n",
      " 15  Ville                          23055 non-null  object        \n",
      " 16  CodePostal                     23055 non-null  int64         \n",
      " 17  Departement                    23055 non-null  object        \n",
      " 18  Region                         23055 non-null  object        \n",
      " 19  NombreDeBiensTrouves           23055 non-null  int64         \n",
      " 20  NombreDeBiensPublies           23055 non-null  int64         \n",
      " 21  NombreDeBiensSelectionnes      23055 non-null  int64         \n",
      " 22  NombreDeBiensAVisiter          23055 non-null  int64         \n",
      " 23  NombreDeBiensVisites           23055 non-null  int64         \n",
      " 24  NombreDeBiensRejetes           23055 non-null  int64         \n",
      " 25  NombreDeBiensActesOuCompromis  23055 non-null  int64         \n",
      " 26  DateNaissanceClient            22736 non-null  datetime64[ns]\n",
      " 27  MandatYear                     23055 non-null  int64         \n",
      " 28  ClientYear                     23055 non-null  int32         \n",
      " 29  AgeClient                      23055 non-null  int64         \n",
      "dtypes: datetime64[ns](2), int32(3), int64(21), object(4)\n",
      "memory usage: 5.2+ MB\n"
     ]
    }
   ],
   "source": [
    "df.info()"
   ]
  },
  {
   "cell_type": "code",
   "execution_count": 15,
   "id": "9c58070e",
   "metadata": {},
   "outputs": [],
   "source": [
    "df = df.astype({col: 'int32' for col in df.select_dtypes('int64').columns})"
   ]
  },
  {
   "cell_type": "code",
   "execution_count": 16,
   "id": "be732a91",
   "metadata": {},
   "outputs": [
    {
     "name": "stdout",
     "output_type": "stream",
     "text": [
      "<class 'pandas.core.frame.DataFrame'>\n",
      "Int64Index: 23055 entries, 0 to 51779\n",
      "Data columns (total 30 columns):\n",
      " #   Column                         Non-Null Count  Dtype         \n",
      "---  ------                         --------------  -----         \n",
      " 0   DateMandatInstant              23055 non-null  int32         \n",
      " 1   DateMandatSeason               23055 non-null  int32         \n",
      " 2   DateMandatYear                 23055 non-null  int32         \n",
      " 3   DateMandatMonth                23055 non-null  int32         \n",
      " 4   DateMandatWeek                 23055 non-null  int32         \n",
      " 5   MandatId                       23055 non-null  int32         \n",
      " 6   DateMandat                     23055 non-null  datetime64[ns]\n",
      " 7   StatutMandat                   23055 non-null  int32         \n",
      " 8   DateCompromis                  6645 non-null   object        \n",
      " 9   BudgetMaxEuro                  23055 non-null  int32         \n",
      " 10  TypeBien                       23055 non-null  int32         \n",
      " 11  TypeProjet                     23055 non-null  int32         \n",
      " 12  SurfaceMin                     23055 non-null  int32         \n",
      " 13  NombrePieces                   23055 non-null  int32         \n",
      " 14  NombreChambres                 23055 non-null  int32         \n",
      " 15  Ville                          23055 non-null  object        \n",
      " 16  CodePostal                     23055 non-null  int32         \n",
      " 17  Departement                    23055 non-null  object        \n",
      " 18  Region                         23055 non-null  object        \n",
      " 19  NombreDeBiensTrouves           23055 non-null  int32         \n",
      " 20  NombreDeBiensPublies           23055 non-null  int32         \n",
      " 21  NombreDeBiensSelectionnes      23055 non-null  int32         \n",
      " 22  NombreDeBiensAVisiter          23055 non-null  int32         \n",
      " 23  NombreDeBiensVisites           23055 non-null  int32         \n",
      " 24  NombreDeBiensRejetes           23055 non-null  int32         \n",
      " 25  NombreDeBiensActesOuCompromis  23055 non-null  int32         \n",
      " 26  DateNaissanceClient            22736 non-null  datetime64[ns]\n",
      " 27  MandatYear                     23055 non-null  int32         \n",
      " 28  ClientYear                     23055 non-null  int32         \n",
      " 29  AgeClient                      23055 non-null  int32         \n",
      "dtypes: datetime64[ns](2), int32(24), object(4)\n",
      "memory usage: 3.3+ MB\n"
     ]
    }
   ],
   "source": [
    "df.info()"
   ]
  },
  {
   "cell_type": "code",
   "execution_count": 17,
   "id": "e004da82",
   "metadata": {},
   "outputs": [
    {
     "data": {
      "text/plain": [
       "3240    127\n",
       "3246     88\n",
       "3303     73\n",
       "2753     72\n",
       "3211     65\n",
       "       ... \n",
       "1514      1\n",
       "996       1\n",
       "3013      1\n",
       "1658      1\n",
       "2047      1\n",
       "Name: DateMandatInstant, Length: 2041, dtype: int64"
      ]
     },
     "execution_count": 17,
     "metadata": {},
     "output_type": "execute_result"
    }
   ],
   "source": [
    "df[\"DateMandatInstant\"].value_counts()"
   ]
  },
  {
   "cell_type": "code",
   "execution_count": 18,
   "id": "eb2f17c8",
   "metadata": {},
   "outputs": [
    {
     "data": {
      "text/plain": [
       "1    6895\n",
       "2    5804\n",
       "4    5665\n",
       "3    4691\n",
       "Name: DateMandatSeason, dtype: int64"
      ]
     },
     "execution_count": 18,
     "metadata": {},
     "output_type": "execute_result"
    }
   ],
   "source": [
    "df[\"DateMandatSeason\"].value_counts()"
   ]
  },
  {
   "cell_type": "code",
   "execution_count": 19,
   "id": "8e12b1cb",
   "metadata": {},
   "outputs": [
    {
     "data": {
      "text/plain": [
       "8    6415\n",
       "7    5380\n",
       "9    3763\n",
       "6    2735\n",
       "5    1615\n",
       "4    1412\n",
       "3     894\n",
       "2     541\n",
       "1     230\n",
       "0      70\n",
       "Name: DateMandatYear, dtype: int64"
      ]
     },
     "execution_count": 19,
     "metadata": {},
     "output_type": "execute_result"
    }
   ],
   "source": [
    "df[\"DateMandatYear\"].value_counts()"
   ]
  },
  {
   "cell_type": "code",
   "execution_count": 20,
   "id": "23fc9f79",
   "metadata": {},
   "outputs": [
    {
     "data": {
      "text/plain": [
       "3     2476\n",
       "2     2391\n",
       "1     2383\n",
       "10    2188\n",
       "9     2091\n",
       "5     2005\n",
       "6     1949\n",
       "4     1813\n",
       "11    1705\n",
       "7     1465\n",
       "12    1461\n",
       "8     1128\n",
       "Name: DateMandatMonth, dtype: int64"
      ]
     },
     "execution_count": 20,
     "metadata": {},
     "output_type": "execute_result"
    }
   ],
   "source": [
    "df[\"DateMandatMonth\"].value_counts()"
   ]
  },
  {
   "cell_type": "code",
   "execution_count": 21,
   "id": "532597ec",
   "metadata": {},
   "outputs": [
    {
     "data": {
      "text/plain": [
       "5     709\n",
       "11    684\n",
       "7     643\n",
       "12    622\n",
       "6     606\n",
       "42    580\n",
       "10    569\n",
       "9     562\n",
       "41    558\n",
       "2     549\n",
       "4     546\n",
       "38    524\n",
       "19    523\n",
       "24    523\n",
       "3     500\n",
       "26    497\n",
       "37    497\n",
       "8     495\n",
       "23    491\n",
       "40    489\n",
       "17    484\n",
       "21    478\n",
       "39    474\n",
       "16    468\n",
       "45    461\n",
       "43    452\n",
       "14    443\n",
       "50    443\n",
       "20    432\n",
       "36    427\n",
       "27    426\n",
       "13    415\n",
       "18    409\n",
       "48    409\n",
       "25    392\n",
       "47    391\n",
       "35    389\n",
       "49    372\n",
       "44    365\n",
       "46    362\n",
       "22    352\n",
       "29    334\n",
       "51    330\n",
       "28    322\n",
       "15    319\n",
       "30    285\n",
       "34    257\n",
       "31    253\n",
       "33    227\n",
       "52    195\n",
       "1     187\n",
       "32    180\n",
       "53    155\n",
       "Name: DateMandatWeek, dtype: int64"
      ]
     },
     "execution_count": 21,
     "metadata": {},
     "output_type": "execute_result"
    }
   ],
   "source": [
    "df[\"DateMandatWeek\"].value_counts()"
   ]
  },
  {
   "cell_type": "code",
   "execution_count": 22,
   "id": "d69df5da",
   "metadata": {},
   "outputs": [
    {
     "data": {
      "text/plain": [
       "0    17025\n",
       "1     4803\n",
       "2     1227\n",
       "Name: TypeProjet, dtype: int64"
      ]
     },
     "execution_count": 22,
     "metadata": {},
     "output_type": "execute_result"
    }
   ],
   "source": [
    "df[\"TypeProjet\"].value_counts()"
   ]
  },
  {
   "cell_type": "code",
   "execution_count": 23,
   "id": "0db73c76",
   "metadata": {},
   "outputs": [
    {
     "data": {
      "text/plain": [
       "0    12552\n",
       "1     7223\n",
       "2     2263\n",
       "3      557\n",
       "4      269\n",
       "5       86\n",
       "6       70\n",
       "7       35\n",
       "Name: TypeBien, dtype: int64"
      ]
     },
     "execution_count": 23,
     "metadata": {},
     "output_type": "execute_result"
    }
   ],
   "source": [
    "df[\"TypeBien\"].value_counts()"
   ]
  },
  {
   "cell_type": "code",
   "execution_count": 24,
   "id": "68eeae59",
   "metadata": {},
   "outputs": [
    {
     "data": {
      "text/plain": [
       "2    6381\n",
       "3    5982\n",
       "4    5425\n",
       "5    2518\n",
       "1    1595\n",
       "6    1154\n",
       "Name: NombrePieces, dtype: int64"
      ]
     },
     "execution_count": 24,
     "metadata": {},
     "output_type": "execute_result"
    }
   ],
   "source": [
    "df[\"NombrePieces\"].value_counts()"
   ]
  },
  {
   "cell_type": "code",
   "execution_count": 25,
   "id": "1477b74a",
   "metadata": {},
   "outputs": [
    {
     "data": {
      "text/plain": [
       "1    7953\n",
       "2    6321\n",
       "3    5740\n",
       "4    2347\n",
       "6     382\n",
       "5     312\n",
       "Name: NombreChambres, dtype: int64"
      ]
     },
     "execution_count": 25,
     "metadata": {},
     "output_type": "execute_result"
    }
   ],
   "source": [
    "df[\"NombreChambres\"].value_counts()"
   ]
  },
  {
   "cell_type": "code",
   "execution_count": 26,
   "id": "48e540f6",
   "metadata": {},
   "outputs": [
    {
     "data": {
      "text/plain": [
       "100    2019\n",
       "80     1812\n",
       "60     1696\n",
       "70     1597\n",
       "50     1487\n",
       "       ... \n",
       "44        1\n",
       "71        1\n",
       "107       1\n",
       "600       1\n",
       "87        1\n",
       "Name: SurfaceMin, Length: 97, dtype: int64"
      ]
     },
     "execution_count": 26,
     "metadata": {},
     "output_type": "execute_result"
    }
   ],
   "source": [
    "df[\"SurfaceMin\"].value_counts()"
   ]
  },
  {
   "cell_type": "code",
   "execution_count": 27,
   "id": "83006c56",
   "metadata": {},
   "outputs": [
    {
     "data": {
      "text/plain": [
       "0    15028\n",
       "1     8027\n",
       "Name: StatutMandat, dtype: int64"
      ]
     },
     "execution_count": 27,
     "metadata": {},
     "output_type": "execute_result"
    }
   ],
   "source": [
    "df[\"StatutMandat\"].value_counts()"
   ]
  },
  {
   "cell_type": "markdown",
   "id": "83bd81fb",
   "metadata": {},
   "source": [
    "# Récupération du csv après transfo"
   ]
  },
  {
   "cell_type": "code",
   "execution_count": null,
   "id": "695caf1c",
   "metadata": {},
   "outputs": [],
   "source": [
    " df.to_csv('Downloads/pred_about/essai.csv')"
   ]
  },
  {
   "cell_type": "markdown",
   "id": "71781098",
   "metadata": {},
   "source": [
    "# Machine Learning"
   ]
  },
  {
   "cell_type": "code",
   "execution_count": 28,
   "id": "1606b8aa",
   "metadata": {},
   "outputs": [
    {
     "data": {
      "text/html": [
       "<div>\n",
       "<style scoped>\n",
       "    .dataframe tbody tr th:only-of-type {\n",
       "        vertical-align: middle;\n",
       "    }\n",
       "\n",
       "    .dataframe tbody tr th {\n",
       "        vertical-align: top;\n",
       "    }\n",
       "\n",
       "    .dataframe thead th {\n",
       "        text-align: right;\n",
       "    }\n",
       "</style>\n",
       "<table border=\"1\" class=\"dataframe\">\n",
       "  <thead>\n",
       "    <tr style=\"text-align: right;\">\n",
       "      <th></th>\n",
       "      <th>DateMandatInstant</th>\n",
       "      <th>DateMandatSeason</th>\n",
       "      <th>DateMandatYear</th>\n",
       "      <th>DateMandatMonth</th>\n",
       "      <th>DateMandatWeek</th>\n",
       "      <th>MandatId</th>\n",
       "      <th>DateMandat</th>\n",
       "      <th>StatutMandat</th>\n",
       "      <th>DateCompromis</th>\n",
       "      <th>BudgetMaxEuro</th>\n",
       "      <th>TypeBien</th>\n",
       "      <th>TypeProjet</th>\n",
       "      <th>SurfaceMin</th>\n",
       "      <th>NombrePieces</th>\n",
       "      <th>NombreChambres</th>\n",
       "      <th>Ville</th>\n",
       "      <th>CodePostal</th>\n",
       "      <th>Departement</th>\n",
       "      <th>Region</th>\n",
       "      <th>NombreDeBiensTrouves</th>\n",
       "      <th>NombreDeBiensPublies</th>\n",
       "      <th>NombreDeBiensSelectionnes</th>\n",
       "      <th>NombreDeBiensAVisiter</th>\n",
       "      <th>NombreDeBiensVisites</th>\n",
       "      <th>NombreDeBiensRejetes</th>\n",
       "      <th>NombreDeBiensActesOuCompromis</th>\n",
       "      <th>DateNaissanceClient</th>\n",
       "      <th>MandatYear</th>\n",
       "      <th>ClientYear</th>\n",
       "      <th>AgeClient</th>\n",
       "    </tr>\n",
       "  </thead>\n",
       "  <tbody>\n",
       "    <tr>\n",
       "      <th>0</th>\n",
       "      <td>1</td>\n",
       "      <td>2</td>\n",
       "      <td>0</td>\n",
       "      <td>4</td>\n",
       "      <td>17</td>\n",
       "      <td>2</td>\n",
       "      <td>2012-04-26</td>\n",
       "      <td>0</td>\n",
       "      <td>NaN</td>\n",
       "      <td>280000</td>\n",
       "      <td>1</td>\n",
       "      <td>0</td>\n",
       "      <td>0</td>\n",
       "      <td>5</td>\n",
       "      <td>2</td>\n",
       "      <td>Nimes</td>\n",
       "      <td>30000</td>\n",
       "      <td>Gard</td>\n",
       "      <td>Languedoc-Roussillon</td>\n",
       "      <td>39</td>\n",
       "      <td>32</td>\n",
       "      <td>5</td>\n",
       "      <td>4</td>\n",
       "      <td>1</td>\n",
       "      <td>18</td>\n",
       "      <td>0</td>\n",
       "      <td>1981-09-07</td>\n",
       "      <td>2012</td>\n",
       "      <td>1981</td>\n",
       "      <td>31</td>\n",
       "    </tr>\n",
       "    <tr>\n",
       "      <th>1</th>\n",
       "      <td>1</td>\n",
       "      <td>2</td>\n",
       "      <td>0</td>\n",
       "      <td>4</td>\n",
       "      <td>17</td>\n",
       "      <td>2</td>\n",
       "      <td>2012-04-26</td>\n",
       "      <td>0</td>\n",
       "      <td>NaN</td>\n",
       "      <td>280000</td>\n",
       "      <td>1</td>\n",
       "      <td>0</td>\n",
       "      <td>0</td>\n",
       "      <td>5</td>\n",
       "      <td>2</td>\n",
       "      <td>Montpellier</td>\n",
       "      <td>34000</td>\n",
       "      <td>Hérault</td>\n",
       "      <td>Languedoc-Roussillon</td>\n",
       "      <td>39</td>\n",
       "      <td>32</td>\n",
       "      <td>5</td>\n",
       "      <td>4</td>\n",
       "      <td>1</td>\n",
       "      <td>18</td>\n",
       "      <td>0</td>\n",
       "      <td>1981-09-07</td>\n",
       "      <td>2012</td>\n",
       "      <td>1981</td>\n",
       "      <td>31</td>\n",
       "    </tr>\n",
       "    <tr>\n",
       "      <th>3</th>\n",
       "      <td>2</td>\n",
       "      <td>2</td>\n",
       "      <td>0</td>\n",
       "      <td>4</td>\n",
       "      <td>17</td>\n",
       "      <td>5</td>\n",
       "      <td>2012-04-27</td>\n",
       "      <td>0</td>\n",
       "      <td>NaN</td>\n",
       "      <td>250000</td>\n",
       "      <td>0</td>\n",
       "      <td>1</td>\n",
       "      <td>60</td>\n",
       "      <td>3</td>\n",
       "      <td>2</td>\n",
       "      <td>Montpellier</td>\n",
       "      <td>34000</td>\n",
       "      <td>Hérault</td>\n",
       "      <td>Languedoc-Roussillon</td>\n",
       "      <td>18</td>\n",
       "      <td>17</td>\n",
       "      <td>2</td>\n",
       "      <td>0</td>\n",
       "      <td>1</td>\n",
       "      <td>11</td>\n",
       "      <td>0</td>\n",
       "      <td>1972-12-13</td>\n",
       "      <td>2012</td>\n",
       "      <td>1972</td>\n",
       "      <td>40</td>\n",
       "    </tr>\n",
       "    <tr>\n",
       "      <th>7</th>\n",
       "      <td>11</td>\n",
       "      <td>2</td>\n",
       "      <td>0</td>\n",
       "      <td>5</td>\n",
       "      <td>19</td>\n",
       "      <td>17</td>\n",
       "      <td>2012-05-06</td>\n",
       "      <td>0</td>\n",
       "      <td>NaN</td>\n",
       "      <td>400000</td>\n",
       "      <td>1</td>\n",
       "      <td>0</td>\n",
       "      <td>130</td>\n",
       "      <td>5</td>\n",
       "      <td>4</td>\n",
       "      <td>Lattes</td>\n",
       "      <td>34970</td>\n",
       "      <td>Hérault</td>\n",
       "      <td>Languedoc-Roussillon</td>\n",
       "      <td>11</td>\n",
       "      <td>10</td>\n",
       "      <td>3</td>\n",
       "      <td>3</td>\n",
       "      <td>0</td>\n",
       "      <td>1</td>\n",
       "      <td>0</td>\n",
       "      <td>1973-07-17</td>\n",
       "      <td>2012</td>\n",
       "      <td>1973</td>\n",
       "      <td>39</td>\n",
       "    </tr>\n",
       "    <tr>\n",
       "      <th>9</th>\n",
       "      <td>26</td>\n",
       "      <td>2</td>\n",
       "      <td>0</td>\n",
       "      <td>5</td>\n",
       "      <td>21</td>\n",
       "      <td>79</td>\n",
       "      <td>2012-05-21</td>\n",
       "      <td>0</td>\n",
       "      <td>NaN</td>\n",
       "      <td>240000</td>\n",
       "      <td>1</td>\n",
       "      <td>0</td>\n",
       "      <td>50</td>\n",
       "      <td>3</td>\n",
       "      <td>2</td>\n",
       "      <td>Poissy</td>\n",
       "      <td>78300</td>\n",
       "      <td>Yvelines</td>\n",
       "      <td>Île-de-France</td>\n",
       "      <td>14</td>\n",
       "      <td>14</td>\n",
       "      <td>0</td>\n",
       "      <td>0</td>\n",
       "      <td>0</td>\n",
       "      <td>12</td>\n",
       "      <td>0</td>\n",
       "      <td>1983-02-03</td>\n",
       "      <td>2012</td>\n",
       "      <td>1983</td>\n",
       "      <td>29</td>\n",
       "    </tr>\n",
       "  </tbody>\n",
       "</table>\n",
       "</div>"
      ],
      "text/plain": [
       "   DateMandatInstant  DateMandatSeason  DateMandatYear  DateMandatMonth  \\\n",
       "0                  1                 2               0                4   \n",
       "1                  1                 2               0                4   \n",
       "3                  2                 2               0                4   \n",
       "7                 11                 2               0                5   \n",
       "9                 26                 2               0                5   \n",
       "\n",
       "   DateMandatWeek  MandatId DateMandat  StatutMandat DateCompromis  \\\n",
       "0              17         2 2012-04-26             0           NaN   \n",
       "1              17         2 2012-04-26             0           NaN   \n",
       "3              17         5 2012-04-27             0           NaN   \n",
       "7              19        17 2012-05-06             0           NaN   \n",
       "9              21        79 2012-05-21             0           NaN   \n",
       "\n",
       "   BudgetMaxEuro  TypeBien  TypeProjet  SurfaceMin  NombrePieces  \\\n",
       "0         280000         1           0           0             5   \n",
       "1         280000         1           0           0             5   \n",
       "3         250000         0           1          60             3   \n",
       "7         400000         1           0         130             5   \n",
       "9         240000         1           0          50             3   \n",
       "\n",
       "   NombreChambres        Ville  CodePostal Departement                Region  \\\n",
       "0               2        Nimes       30000        Gard  Languedoc-Roussillon   \n",
       "1               2  Montpellier       34000     Hérault  Languedoc-Roussillon   \n",
       "3               2  Montpellier       34000     Hérault  Languedoc-Roussillon   \n",
       "7               4       Lattes       34970     Hérault  Languedoc-Roussillon   \n",
       "9               2       Poissy       78300    Yvelines         Île-de-France   \n",
       "\n",
       "   NombreDeBiensTrouves  NombreDeBiensPublies  NombreDeBiensSelectionnes  \\\n",
       "0                    39                    32                          5   \n",
       "1                    39                    32                          5   \n",
       "3                    18                    17                          2   \n",
       "7                    11                    10                          3   \n",
       "9                    14                    14                          0   \n",
       "\n",
       "   NombreDeBiensAVisiter  NombreDeBiensVisites  NombreDeBiensRejetes  \\\n",
       "0                      4                     1                    18   \n",
       "1                      4                     1                    18   \n",
       "3                      0                     1                    11   \n",
       "7                      3                     0                     1   \n",
       "9                      0                     0                    12   \n",
       "\n",
       "   NombreDeBiensActesOuCompromis DateNaissanceClient  MandatYear  ClientYear  \\\n",
       "0                              0          1981-09-07        2012        1981   \n",
       "1                              0          1981-09-07        2012        1981   \n",
       "3                              0          1972-12-13        2012        1972   \n",
       "7                              0          1973-07-17        2012        1973   \n",
       "9                              0          1983-02-03        2012        1983   \n",
       "\n",
       "   AgeClient  \n",
       "0         31  \n",
       "1         31  \n",
       "3         40  \n",
       "7         39  \n",
       "9         29  "
      ]
     },
     "execution_count": 28,
     "metadata": {},
     "output_type": "execute_result"
    }
   ],
   "source": [
    "df.head()"
   ]
  },
  {
   "cell_type": "code",
   "execution_count": 29,
   "id": "d85b62c8",
   "metadata": {},
   "outputs": [],
   "source": [
    "X = df.drop([\"MandatId\",\"DateMandat\",\"StatutMandat\", \"DateCompromis\", \"Ville\", \"Departement\", \"Region\", \"NombreDeBiensTrouves\",\"NombreDeBiensPublies\", \"NombreDeBiensSelectionnes\", \"NombreDeBiensAVisiter\", \"NombreDeBiensVisites\", \"NombreDeBiensRejetes\", \"NombreDeBiensActesOuCompromis\", \"DateNaissanceClient\"],axis = 1)"
   ]
  },
  {
   "cell_type": "code",
   "execution_count": 69,
   "id": "aee9925f",
   "metadata": {},
   "outputs": [
    {
     "data": {
      "text/html": [
       "<div>\n",
       "<style scoped>\n",
       "    .dataframe tbody tr th:only-of-type {\n",
       "        vertical-align: middle;\n",
       "    }\n",
       "\n",
       "    .dataframe tbody tr th {\n",
       "        vertical-align: top;\n",
       "    }\n",
       "\n",
       "    .dataframe thead th {\n",
       "        text-align: right;\n",
       "    }\n",
       "</style>\n",
       "<table border=\"1\" class=\"dataframe\">\n",
       "  <thead>\n",
       "    <tr style=\"text-align: right;\">\n",
       "      <th></th>\n",
       "      <th>DateMandatInstant</th>\n",
       "      <th>DateMandatSeason</th>\n",
       "      <th>DateMandatYear</th>\n",
       "      <th>DateMandatMonth</th>\n",
       "      <th>DateMandatWeek</th>\n",
       "      <th>BudgetMaxEuro</th>\n",
       "      <th>TypeBien</th>\n",
       "      <th>TypeProjet</th>\n",
       "      <th>SurfaceMin</th>\n",
       "      <th>NombrePieces</th>\n",
       "      <th>NombreChambres</th>\n",
       "      <th>CodePostal</th>\n",
       "      <th>MandatYear</th>\n",
       "      <th>ClientYear</th>\n",
       "      <th>AgeClient</th>\n",
       "    </tr>\n",
       "  </thead>\n",
       "  <tbody>\n",
       "    <tr>\n",
       "      <th>0</th>\n",
       "      <td>1</td>\n",
       "      <td>2</td>\n",
       "      <td>0</td>\n",
       "      <td>4</td>\n",
       "      <td>17</td>\n",
       "      <td>280000</td>\n",
       "      <td>1</td>\n",
       "      <td>0</td>\n",
       "      <td>0</td>\n",
       "      <td>5</td>\n",
       "      <td>2</td>\n",
       "      <td>30000</td>\n",
       "      <td>2012</td>\n",
       "      <td>1981</td>\n",
       "      <td>31</td>\n",
       "    </tr>\n",
       "    <tr>\n",
       "      <th>1</th>\n",
       "      <td>1</td>\n",
       "      <td>2</td>\n",
       "      <td>0</td>\n",
       "      <td>4</td>\n",
       "      <td>17</td>\n",
       "      <td>280000</td>\n",
       "      <td>1</td>\n",
       "      <td>0</td>\n",
       "      <td>0</td>\n",
       "      <td>5</td>\n",
       "      <td>2</td>\n",
       "      <td>34000</td>\n",
       "      <td>2012</td>\n",
       "      <td>1981</td>\n",
       "      <td>31</td>\n",
       "    </tr>\n",
       "    <tr>\n",
       "      <th>3</th>\n",
       "      <td>2</td>\n",
       "      <td>2</td>\n",
       "      <td>0</td>\n",
       "      <td>4</td>\n",
       "      <td>17</td>\n",
       "      <td>250000</td>\n",
       "      <td>0</td>\n",
       "      <td>1</td>\n",
       "      <td>60</td>\n",
       "      <td>3</td>\n",
       "      <td>2</td>\n",
       "      <td>34000</td>\n",
       "      <td>2012</td>\n",
       "      <td>1972</td>\n",
       "      <td>40</td>\n",
       "    </tr>\n",
       "    <tr>\n",
       "      <th>7</th>\n",
       "      <td>11</td>\n",
       "      <td>2</td>\n",
       "      <td>0</td>\n",
       "      <td>5</td>\n",
       "      <td>19</td>\n",
       "      <td>400000</td>\n",
       "      <td>1</td>\n",
       "      <td>0</td>\n",
       "      <td>130</td>\n",
       "      <td>5</td>\n",
       "      <td>4</td>\n",
       "      <td>34970</td>\n",
       "      <td>2012</td>\n",
       "      <td>1973</td>\n",
       "      <td>39</td>\n",
       "    </tr>\n",
       "    <tr>\n",
       "      <th>9</th>\n",
       "      <td>26</td>\n",
       "      <td>2</td>\n",
       "      <td>0</td>\n",
       "      <td>5</td>\n",
       "      <td>21</td>\n",
       "      <td>240000</td>\n",
       "      <td>1</td>\n",
       "      <td>0</td>\n",
       "      <td>50</td>\n",
       "      <td>3</td>\n",
       "      <td>2</td>\n",
       "      <td>78300</td>\n",
       "      <td>2012</td>\n",
       "      <td>1983</td>\n",
       "      <td>29</td>\n",
       "    </tr>\n",
       "  </tbody>\n",
       "</table>\n",
       "</div>"
      ],
      "text/plain": [
       "   DateMandatInstant  DateMandatSeason  DateMandatYear  DateMandatMonth  \\\n",
       "0                  1                 2               0                4   \n",
       "1                  1                 2               0                4   \n",
       "3                  2                 2               0                4   \n",
       "7                 11                 2               0                5   \n",
       "9                 26                 2               0                5   \n",
       "\n",
       "   DateMandatWeek  BudgetMaxEuro  TypeBien  TypeProjet  SurfaceMin  \\\n",
       "0              17         280000         1           0           0   \n",
       "1              17         280000         1           0           0   \n",
       "3              17         250000         0           1          60   \n",
       "7              19         400000         1           0         130   \n",
       "9              21         240000         1           0          50   \n",
       "\n",
       "   NombrePieces  NombreChambres  CodePostal  MandatYear  ClientYear  AgeClient  \n",
       "0             5               2       30000        2012        1981         31  \n",
       "1             5               2       34000        2012        1981         31  \n",
       "3             3               2       34000        2012        1972         40  \n",
       "7             5               4       34970        2012        1973         39  \n",
       "9             3               2       78300        2012        1983         29  "
      ]
     },
     "execution_count": 69,
     "metadata": {},
     "output_type": "execute_result"
    }
   ],
   "source": [
    "X.head()"
   ]
  },
  {
   "cell_type": "code",
   "execution_count": 30,
   "id": "da858f70",
   "metadata": {},
   "outputs": [],
   "source": [
    "y = df[\"StatutMandat\"]"
   ]
  },
  {
   "cell_type": "code",
   "execution_count": 31,
   "id": "6b03f7c5",
   "metadata": {},
   "outputs": [],
   "source": [
    "from sklearn.model_selection import train_test_split\n",
    "X_train, X_test, y_train, y_test = train_test_split(X,y, test_size= 0.2, random_state = 0, shuffle = True)"
   ]
  },
  {
   "cell_type": "code",
   "execution_count": 32,
   "id": "d066664c",
   "metadata": {},
   "outputs": [],
   "source": [
    "from sklearn.preprocessing import StandardScaler\n",
    "scaler = StandardScaler()\n",
    "X_train = scaler.fit_transform(X_train)\n",
    "X_test = scaler.transform(X_test)"
   ]
  },
  {
   "cell_type": "code",
   "execution_count": 35,
   "id": "e47552fc",
   "metadata": {},
   "outputs": [
    {
     "name": "stdout",
     "output_type": "stream",
     "text": [
      "'paramètre actuellement utiliés : \\n'\n",
      "{'C': 1.0,\n",
      " 'class_weight': 'balanced',\n",
      " 'dual': False,\n",
      " 'fit_intercept': True,\n",
      " 'intercept_scaling': 1,\n",
      " 'l1_ratio': None,\n",
      " 'max_iter': 100,\n",
      " 'multi_class': 'auto',\n",
      " 'n_jobs': None,\n",
      " 'penalty': 'l2',\n",
      " 'random_state': None,\n",
      " 'solver': 'newton-cg',\n",
      " 'tol': 0.0001,\n",
      " 'verbose': 0,\n",
      " 'warm_start': False}\n",
      "0.5570375189763609\n"
     ]
    }
   ],
   "source": [
    "from sklearn.linear_model import LogisticRegression\n",
    "lr = LogisticRegression(solver='newton-cg', class_weight = \"balanced\")\n",
    "from pprint import pprint\n",
    "pprint(\"paramètre actuellement utiliés : \\n\")\n",
    "pprint(lr.get_params())\n",
    "lr.fit(X_train,y_train)\n",
    "print(lr.score(X_train,y_train))\n",
    "y_lr = lr.predict(X_test)\n",
    "# On récupère la prédiction de la valeur positive\n",
    "y_prob = lr.predict_proba(X_test)[:,1] "
   ]
  },
  {
   "cell_type": "code",
   "execution_count": 36,
   "id": "41beee3e",
   "metadata": {},
   "outputs": [
    {
     "name": "stdout",
     "output_type": "stream",
     "text": [
      "                  precision    recall  f1-score   support\n",
      "\n",
      "  échec(Class 0)       0.73      0.53      0.62      3021\n",
      "succès (Class 1)       0.41      0.63      0.50      1590\n",
      "\n",
      "        accuracy                           0.56      4611\n",
      "       macro avg       0.57      0.58      0.56      4611\n",
      "    weighted avg       0.62      0.56      0.57      4611\n",
      "\n"
     ]
    }
   ],
   "source": [
    "from sklearn.metrics import classification_report\n",
    "print(classification_report(y_test,y_lr,target_names = ['échec(Class 0)','succès (Class 1)']))"
   ]
  },
  {
   "cell_type": "code",
   "execution_count": 40,
   "id": "aa75ff21",
   "metadata": {},
   "outputs": [
    {
     "name": "stdout",
     "output_type": "stream",
     "text": [
      "{'C': 0.001, 'penalty': 'l2'}\n",
      "accuracy : 0.5666358334949944\n",
      "                  precision    recall  f1-score   support\n",
      "\n",
      "  échec(Class 0)       0.73      0.55      0.62      3021\n",
      "succès (Class 1)       0.42      0.61      0.50      1590\n",
      "\n",
      "        accuracy                           0.57      4611\n",
      "       macro avg       0.57      0.58      0.56      4611\n",
      "    weighted avg       0.62      0.57      0.58      4611\n",
      "\n"
     ]
    }
   ],
   "source": [
    "from sklearn.model_selection import cross_val_score\n",
    "from sklearn.model_selection import GridSearchCV\n",
    "\n",
    "lr = LogisticRegression(solver = 'newton-cg', class_weight = \"balanced\")\n",
    "params = {'C': np.logspace(-3, 3, 7) , 'penalty':['l1','l2'] }\n",
    "\n",
    "lr_gs = GridSearchCV(lr, params, cv=10)\n",
    "lr_gs.fit(X_train, y_train)\n",
    "\n",
    "print(lr_gs.best_params_)\n",
    "print(\"accuracy :\",lr_gs.best_score_)\n",
    "\n",
    "y_lr_gs = lr_gs.predict(X_test)\n",
    "from sklearn.metrics import classification_report\n",
    "print(classification_report(y_test, y_lr_gs, target_names = ['échec(Class 0)','succès (Class 1)']))"
   ]
  },
  {
   "cell_type": "markdown",
   "id": "130142d9",
   "metadata": {},
   "source": [
    "### Le meilleur modèle"
   ]
  },
  {
   "cell_type": "code",
   "execution_count": 41,
   "id": "31eea5b5",
   "metadata": {},
   "outputs": [
    {
     "name": "stdout",
     "output_type": "stream",
     "text": [
      "0.9233355020602906\n",
      "                  precision    recall  f1-score   support\n",
      "\n",
      "  échec(Class 0)       0.89      0.90      0.90      3021\n",
      "succès (Class 1)       0.81      0.79      0.80      1590\n",
      "\n",
      "        accuracy                           0.86      4611\n",
      "       macro avg       0.85      0.85      0.85      4611\n",
      "    weighted avg       0.86      0.86      0.86      4611\n",
      "\n"
     ]
    }
   ],
   "source": [
    "from sklearn.neighbors import KNeighborsClassifier\n",
    "knn = KNeighborsClassifier()\n",
    "knn.fit(X_train, y_train)\n",
    "print(knn.score(X_train,y_train))\n",
    "y_knn = knn.predict(X_test)\n",
    "from sklearn.metrics import classification_report\n",
    "print(classification_report(y_test, y_knn, target_names = ['échec(Class 0)','succès (Class 1)']))"
   ]
  },
  {
   "cell_type": "markdown",
   "id": "1673f23f",
   "metadata": {},
   "source": [
    "### Enregistrement du modèle "
   ]
  },
  {
   "cell_type": "code",
   "execution_count": 68,
   "id": "b9615809",
   "metadata": {},
   "outputs": [
    {
     "data": {
      "text/plain": [
       "['modelKNN.pkl']"
      ]
     },
     "execution_count": 68,
     "metadata": {},
     "output_type": "execute_result"
    }
   ],
   "source": [
    "import joblib\n",
    "from joblib import dump,load\n",
    "model=\"modelKNN.pkl\"\n",
    "joblib.dump(model,model)"
   ]
  },
  {
   "cell_type": "code",
   "execution_count": null,
   "id": "fee09c8d",
   "metadata": {},
   "outputs": [],
   "source": []
  },
  {
   "cell_type": "code",
   "execution_count": null,
   "id": "d4f2c459",
   "metadata": {},
   "outputs": [],
   "source": []
  },
  {
   "cell_type": "code",
   "execution_count": null,
   "id": "e0a8b5ae",
   "metadata": {},
   "outputs": [],
   "source": []
  },
  {
   "cell_type": "code",
   "execution_count": null,
   "id": "bacbb436",
   "metadata": {},
   "outputs": [],
   "source": []
  },
  {
   "cell_type": "code",
   "execution_count": null,
   "id": "507c0a50",
   "metadata": {},
   "outputs": [],
   "source": []
  },
  {
   "cell_type": "code",
   "execution_count": null,
   "id": "ea8aa810",
   "metadata": {},
   "outputs": [],
   "source": []
  },
  {
   "cell_type": "code",
   "execution_count": 43,
   "id": "60556c7b",
   "metadata": {},
   "outputs": [
    {
     "data": {
      "text/plain": [
       "<AxesSubplot:>"
      ]
     },
     "execution_count": 43,
     "metadata": {},
     "output_type": "execute_result"
    },
    {
     "data": {
      "image/png": "[encoded data removed]",
      "text/plain": [
       "<Figure size 432x288 with 2 Axes>"
      ]
     },
     "metadata": {
      "needs_background": "light"
     },
     "output_type": "display_data"
    }
   ],
   "source": [
    "cm = confusion_matrix(y_test,knn.predict(X_test))\n",
    "sns.heatmap(cm,annot=True,fmt=\"d\")"
   ]
  },
  {
   "cell_type": "code",
   "execution_count": 42,
   "id": "28ab3771",
   "metadata": {},
   "outputs": [
    {
     "name": "stdout",
     "output_type": "stream",
     "text": [
      "0.6667751030145305\n",
      "                  precision    recall  f1-score   support\n",
      "\n",
      "  échec(Class 0)       0.67      0.99      0.80      3021\n",
      "succès (Class 1)       0.71      0.06      0.10      1590\n",
      "\n",
      "        accuracy                           0.67      4611\n",
      "       macro avg       0.69      0.52      0.45      4611\n",
      "    weighted avg       0.68      0.67      0.56      4611\n",
      "\n"
     ]
    }
   ],
   "source": [
    "from sklearn.svm import SVC\n",
    "svc = SVC(random_state=42)\n",
    "svc.fit(X_train, y_train)\n",
    "print(svc.score(X_train, y_train))\n",
    "y_svc = svc.predict(X_test)\n",
    "from sklearn.metrics import classification_report\n",
    "print(classification_report(y_test, y_svc,target_names = ['échec(Class 0)','succès (Class 1)']))"
   ]
  },
  {
   "cell_type": "code",
   "execution_count": 44,
   "id": "33239067",
   "metadata": {},
   "outputs": [
    {
     "data": {
      "text/plain": [
       "<AxesSubplot:>"
      ]
     },
     "execution_count": 44,
     "metadata": {},
     "output_type": "execute_result"
    },
    {
     "data": {
      "image/png": "[encoded data removed]",
      "text/plain": [
       "<Figure size 432x288 with 2 Axes>"
      ]
     },
     "metadata": {
      "needs_background": "light"
     },
     "output_type": "display_data"
    }
   ],
   "source": [
    "cm = confusion_matrix(y_test,svc.predict(X_test))\n",
    "sns.heatmap(cm,annot=True,fmt=\"d\")"
   ]
  },
  {
   "cell_type": "code",
   "execution_count": 45,
   "id": "61e5f85a",
   "metadata": {},
   "outputs": [
    {
     "name": "stdout",
     "output_type": "stream",
     "text": [
      "0.650997614400347\n",
      "                  precision    recall  f1-score   support\n",
      "\n",
      "  échec(Class 0)       0.66      1.00      0.79      3021\n",
      "succès (Class 1)       0.00      0.00      0.00      1590\n",
      "\n",
      "        accuracy                           0.66      4611\n",
      "       macro avg       0.33      0.50      0.40      4611\n",
      "    weighted avg       0.43      0.66      0.52      4611\n",
      "\n"
     ]
    }
   ],
   "source": [
    "from sklearn.tree import DecisionTreeClassifier\n",
    "dtc = DecisionTreeClassifier(max_depth=1, random_state=42)\n",
    "dtc.fit(X_train, y_train)\n",
    "print(dtc.score(X_train, y_train))\n",
    "y_dtc = dtc.predict(X_test)\n",
    "from sklearn.metrics import classification_report\n",
    "print(classification_report(y_test, y_dtc,target_names = ['échec(Class 0)','succès (Class 1)']))"
   ]
  },
  {
   "cell_type": "code",
   "execution_count": 46,
   "id": "5a7306d8",
   "metadata": {},
   "outputs": [
    {
     "data": {
      "text/plain": [
       "<AxesSubplot:>"
      ]
     },
     "execution_count": 46,
     "metadata": {},
     "output_type": "execute_result"
    },
    {
     "data": {
      "image/png": "[encoded data removed]",
      "text/plain": [
       "<Figure size 432x288 with 2 Axes>"
      ]
     },
     "metadata": {
      "needs_background": "light"
     },
     "output_type": "display_data"
    }
   ],
   "source": [
    "cm = confusion_matrix(y_test,dtc.predict(X_test))\n",
    "sns.heatmap(cm,annot=True,fmt=\"d\")"
   ]
  },
  {
   "cell_type": "code",
   "execution_count": 47,
   "id": "d577e2af",
   "metadata": {},
   "outputs": [
    {
     "name": "stdout",
     "output_type": "stream",
     "text": [
      "0.6463890696161353\n",
      "                  precision    recall  f1-score   support\n",
      "\n",
      "  échec(Class 0)       0.67      0.92      0.77      3021\n",
      "succès (Class 1)       0.44      0.12      0.19      1590\n",
      "\n",
      "        accuracy                           0.64      4611\n",
      "       macro avg       0.55      0.52      0.48      4611\n",
      "    weighted avg       0.59      0.64      0.57      4611\n",
      "\n"
     ]
    }
   ],
   "source": [
    "from sklearn.naive_bayes import GaussianNB\n",
    "gnb = GaussianNB()\n",
    "gnb.fit(X_train, y_train)\n",
    "print(gnb.score(X_train, y_train))\n",
    "y_gnb = gnb.predict(X_test)\n",
    "from sklearn.metrics import classification_report\n",
    "print(classification_report(y_test,y_gnb,target_names = ['échec(Class 0)','succès (Class 1)']))"
   ]
  },
  {
   "cell_type": "code",
   "execution_count": 48,
   "id": "04b28141",
   "metadata": {},
   "outputs": [
    {
     "data": {
      "text/plain": [
       "<AxesSubplot:>"
      ]
     },
     "execution_count": 48,
     "metadata": {},
     "output_type": "execute_result"
    },
    {
     "data": {
      "image/png": "[encoded data removed]",
      "text/plain": [
       "<Figure size 432x288 with 2 Axes>"
      ]
     },
     "metadata": {
      "needs_background": "light"
     },
     "output_type": "display_data"
    }
   ],
   "source": [
    "cm = confusion_matrix(y_test,gnb.predict(X_test))\n",
    "sns.heatmap(cm,annot=True,fmt=\"d\")"
   ]
  },
  {
   "cell_type": "code",
   "execution_count": 49,
   "id": "0c40343e",
   "metadata": {},
   "outputs": [
    {
     "name": "stdout",
     "output_type": "stream",
     "text": [
      "1.0\n",
      "                  precision    recall  f1-score   support\n",
      "\n",
      "  échec(Class 0)       0.95      0.98      0.97      3021\n",
      "succès (Class 1)       0.96      0.90      0.93      1590\n",
      "\n",
      "        accuracy                           0.95      4611\n",
      "       macro avg       0.96      0.94      0.95      4611\n",
      "    weighted avg       0.95      0.95      0.95      4611\n",
      "\n"
     ]
    }
   ],
   "source": [
    "from sklearn.ensemble import RandomForestClassifier\n",
    "rfc = RandomForestClassifier()\n",
    "rfc.fit(X_train, y_train)\n",
    "print(rfc.score(X_train, y_train))\n",
    "y_rfc = rfc.predict(X_test)\n",
    "from sklearn.metrics import classification_report\n",
    "print(classification_report(y_test, y_rfc,target_names = ['échec(Class 0)','succès (Class 1)']))"
   ]
  },
  {
   "cell_type": "code",
   "execution_count": 50,
   "id": "e1e8061e",
   "metadata": {},
   "outputs": [
    {
     "data": {
      "text/plain": [
       "<AxesSubplot:>"
      ]
     },
     "execution_count": 50,
     "metadata": {},
     "output_type": "execute_result"
    },
    {
     "data": {
      "image/png": "[encoded data removed]",
      "text/plain": [
       "<Figure size 432x288 with 2 Axes>"
      ]
     },
     "metadata": {
      "needs_background": "light"
     },
     "output_type": "display_data"
    }
   ],
   "source": [
    "cm = confusion_matrix(y_test,rfc.predict(X_test))\n",
    "sns.heatmap(cm,annot=True,fmt=\"d\")"
   ]
  },
  {
   "cell_type": "code",
   "execution_count": 51,
   "id": "bea806d0",
   "metadata": {},
   "outputs": [
    {
     "name": "stdout",
     "output_type": "stream",
     "text": [
      "0.7073302971155931\n",
      "                  precision    recall  f1-score   support\n",
      "\n",
      "  échec(Class 0)       0.70      0.96      0.81      3021\n",
      "succès (Class 1)       0.75      0.21      0.32      1590\n",
      "\n",
      "        accuracy                           0.70      4611\n",
      "       macro avg       0.72      0.58      0.57      4611\n",
      "    weighted avg       0.71      0.70      0.64      4611\n",
      "\n"
     ]
    }
   ],
   "source": [
    "from sklearn.ensemble import GradientBoostingClassifier\n",
    "gbc = GradientBoostingClassifier()\n",
    "gbc.fit(X_train, y_train)\n",
    "print(gbc.score(X_train, y_train))\n",
    "y_gbc = gbc.predict(X_test)\n",
    "from sklearn.metrics import classification_report\n",
    "print(classification_report(y_test, y_gbc,target_names = ['échec(Class 0)','succès (Class 1)']))"
   ]
  },
  {
   "cell_type": "code",
   "execution_count": 52,
   "id": "ebda43ae",
   "metadata": {},
   "outputs": [
    {
     "name": "stdout",
     "output_type": "stream",
     "text": [
      "                   pre       rec       spe        f1       geo       iba       sup\n",
      "\n",
      "          0       0.70      0.96      0.21      0.81      0.44      0.21      3021\n",
      "          1       0.75      0.21      0.96      0.32      0.44      0.18      1590\n",
      "\n",
      "avg / total       0.71      0.70      0.47      0.64      0.44      0.20      4611\n",
      "\n"
     ]
    }
   ],
   "source": [
    "from imblearn.metrics import classification_report_imbalanced\n",
    "print(classification_report_imbalanced(y_test, y_gbc))"
   ]
  },
  {
   "cell_type": "code",
   "execution_count": 54,
   "id": "f9dc3149",
   "metadata": {},
   "outputs": [
    {
     "data": {
      "text/plain": [
       "<AxesSubplot:>"
      ]
     },
     "execution_count": 54,
     "metadata": {},
     "output_type": "execute_result"
    },
    {
     "data": {
      "image/png": "[encoded data removed]",
      "text/plain": [
       "<Figure size 432x288 with 2 Axes>"
      ]
     },
     "metadata": {
      "needs_background": "light"
     },
     "output_type": "display_data"
    }
   ],
   "source": [
    "cm = confusion_matrix(y_test,gbc.predict(X_test))\n",
    "sns.heatmap(cm,annot=True,fmt=\"d\")"
   ]
  },
  {
   "cell_type": "code",
   "execution_count": 55,
   "id": "5e1f7be3",
   "metadata": {},
   "outputs": [
    {
     "name": "stdout",
     "output_type": "stream",
     "text": [
      "0.7073302971155931\n",
      "                  precision    recall  f1-score   support\n",
      "\n",
      "  échec(Class 0)       0.76      0.85      0.80      3021\n",
      "succès (Class 1)       0.62      0.48      0.54      1590\n",
      "\n",
      "        accuracy                           0.72      4611\n",
      "       macro avg       0.69      0.66      0.67      4611\n",
      "    weighted avg       0.71      0.72      0.71      4611\n",
      "\n"
     ]
    }
   ],
   "source": [
    "from sklearn.neural_network import MLPClassifier\n",
    "clf = MLPClassifier(random_state=1, max_iter=300)\n",
    "clf.fit(X_train, y_train)\n",
    "print(gbc.score(X_train, y_train))\n",
    "y_clf = clf.predict(X_test)\n",
    "from sklearn.metrics import classification_report\n",
    "print(classification_report(y_test, y_clf,target_names = ['échec(Class 0)','succès (Class 1)']))"
   ]
  },
  {
   "cell_type": "code",
   "execution_count": 56,
   "id": "71a4755a",
   "metadata": {},
   "outputs": [
    {
     "data": {
      "text/plain": [
       "<AxesSubplot:>"
      ]
     },
     "execution_count": 56,
     "metadata": {},
     "output_type": "execute_result"
    },
    {
     "data": {
      "image/png": "[encoded data removed]",
      "text/plain": [
       "<Figure size 432x288 with 2 Axes>"
      ]
     },
     "metadata": {
      "needs_background": "light"
     },
     "output_type": "display_data"
    }
   ],
   "source": [
    "cm = confusion_matrix(y_test,clf.predict(X_test))\n",
    "sns.heatmap(cm,annot=True,fmt=\"d\")"
   ]
  },
  {
   "cell_type": "code",
   "execution_count": 59,
   "id": "80bb2fcd",
   "metadata": {},
   "outputs": [],
   "source": [
    "import xgboost as xgb\n",
    "from xgboost import XGBClassifier\n",
    "import time"
   ]
  },
  {
   "cell_type": "code",
   "execution_count": 65,
   "id": "01c24047",
   "metadata": {},
   "outputs": [
    {
     "name": "stdout",
     "output_type": "stream",
     "text": [
      "[11:54:15] WARNING: C:/Users/Administrator/workspace/xgboost-win64_release_1.5.1/src/learner.cc:1115: Starting in XGBoost 1.3.0, the default evaluation metric used with the objective 'binary:logistic' was changed from 'error' to 'logloss'. Explicitly set eval_metric if you'd like to restore the old behavior.\n",
      "Accuracy for model 3: 85.27\n"
     ]
    }
   ],
   "source": [
    "params = {\n",
    "            'objective':'binary:logistic',\n",
    "            'max_depth': 4,\n",
    "            'alpha': 10,\n",
    "            'learning_rate': 1.0,\n",
    "            'n_estimators':100\n",
    "        }  \n",
    "xgb = XGBClassifier(**params)\n",
    "test = xgb.fit(X_train, y_train)\n",
    "preds = xgb.predict(X_test)\n",
    "print(\"Accuracy for model 3: %.2f\" % (accuracy_score(y_test, preds) * 100))"
   ]
  },
  {
   "cell_type": "code",
   "execution_count": 67,
   "id": "3fc0632e",
   "metadata": {},
   "outputs": [
    {
     "name": "stdout",
     "output_type": "stream",
     "text": [
      "                  precision    recall  f1-score   support\n",
      "\n",
      "  échec(Class 0)       0.86      0.92      0.89      3021\n",
      "succès (Class 1)       0.83      0.72      0.77      1590\n",
      "\n",
      "        accuracy                           0.85      4611\n",
      "       macro avg       0.85      0.82      0.83      4611\n",
      "    weighted avg       0.85      0.85      0.85      4611\n",
      "\n"
     ]
    }
   ],
   "source": [
    "from sklearn.metrics import classification_report\n",
    "print(classification_report(y_test, preds,target_names = ['échec(Class 0)','succès (Class 1)']))"
   ]
  },
  {
   "cell_type": "code",
   "execution_count": null,
   "id": "1a2e39e3",
   "metadata": {},
   "outputs": [],
   "source": []
  },
  {
   "cell_type": "code",
   "execution_count": null,
   "id": "4ceac987",
   "metadata": {},
   "outputs": [],
   "source": []
  },
  {
   "cell_type": "code",
   "execution_count": null,
   "id": "d2240f64",
   "metadata": {},
   "outputs": [],
   "source": []
  },
  {
   "cell_type": "code",
   "execution_count": null,
   "id": "e7663217",
   "metadata": {},
   "outputs": [],
   "source": []
  },
  {
   "cell_type": "code",
   "execution_count": null,
   "id": "dd4b431a",
   "metadata": {},
   "outputs": [],
   "source": []
  },
  {
   "cell_type": "code",
   "execution_count": null,
   "id": "1a37fcc7",
   "metadata": {},
   "outputs": [],
   "source": []
  },
  {
   "cell_type": "code",
   "execution_count": null,
   "id": "85b384df",
   "metadata": {},
   "outputs": [],
   "source": [
    "df.head(340)"
   ]
  },
  {
   "cell_type": "code",
   "execution_count": null,
   "id": "6da78a03",
   "metadata": {},
   "outputs": [],
   "source": [
    "print(len(df.index))   # Nombre de lignes (équivalent de nrow sous R)\n",
    "\n"
   ]
  },
  {
   "cell_type": "code",
   "execution_count": null,
   "id": "62755f37",
   "metadata": {},
   "outputs": [],
   "source": [
    "df.iloc[340:500,:]"
   ]
  },
  {
   "cell_type": "code",
   "execution_count": null,
   "id": "76deab16",
   "metadata": {},
   "outputs": [],
   "source": [
    "\n",
    "df.loc[df['DateMandatInstant'] == 500]"
   ]
  },
  {
   "cell_type": "code",
   "execution_count": null,
   "id": "df52e2e3",
   "metadata": {},
   "outputs": [],
   "source": []
  }
 ],
 "metadata": {
  "kernelspec": {
   "display_name": "Python 3 (ipykernel)",
   "language": "python",
   "name": "python3"
  },
  "language_info": {
   "codemirror_mode": {
    "name": "ipython",
    "version": 3
   },
   "file_extension": ".py",
   "mimetype": "text/x-python",
   "name": "python",
   "nbconvert_exporter": "python",
   "pygments_lexer": "ipython3",
   "version": "3.8.12"
  }
 },
 "nbformat": 4,
 "nbformat_minor": 5
}
