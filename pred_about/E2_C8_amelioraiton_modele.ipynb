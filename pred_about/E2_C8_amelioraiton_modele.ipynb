{
 "cells": [
  {
   "cell_type": "markdown",
   "id": "5fa6d135",
   "metadata": {},
   "source": [
    "# E2 C8 Amelioration du modèle existant"
   ]
  },
  {
   "cell_type": "markdown",
   "id": "747c1992",
   "metadata": {},
   "source": [
    "### Import des librairies"
   ]
  },
  {
   "cell_type": "code",
   "execution_count": 22,
   "id": "df30152b",
   "metadata": {},
   "outputs": [],
   "source": [
    "import pandas as pd\n",
    "import numpy as np\n",
    "import scipy.stats as stat\n",
    "import scipy as sp\n",
    "import statistics\n",
    "\n",
    "# Outils de visualisations\n",
    "import matplotlib.pyplot as plt\n",
    "from matplotlib import pyplot\n",
    "%matplotlib inline\n",
    "from mpl_toolkits.mplot3d import Axes3D\n",
    "from matplotlib import cm\n",
    "import seaborn as sns\n",
    "\n",
    "# data pre-processing\n",
    "from sklearn import preprocessing\n",
    "from sklearn.model_selection import train_test_split\n",
    "from sklearn.model_selection import StratifiedKFold\n",
    "from sklearn.model_selection import cross_val_score\n",
    "\n",
    "# Modèle\n",
    "from sklearn import linear_model\n",
    "from sklearn import model_selection\n",
    "from xgboost import XGBClassifier\n",
    "\n",
    "# Outils optmisation de modèle\n",
    "from sklearn.model_selection import GridSearchCV\n",
    "\n",
    "# Outils score et evaluation de modèle\n",
    "from sklearn.metrics import accuracy_score, recall_score, precision_score, f1_score\n",
    "from sklearn import metrics\n",
    "from sklearn.metrics import classification_report\n",
    "from sklearn.metrics import confusion_matrix\n",
    "from sklearn.metrics import plot_roc_curve\n"
   ]
  },
  {
   "cell_type": "code",
   "execution_count": 3,
   "id": "cd42541f",
   "metadata": {},
   "outputs": [],
   "source": [
    "df = pd.read_csv(\"donnees_modiffiees6.csv\")"
   ]
  },
  {
   "cell_type": "code",
   "execution_count": 4,
   "id": "78838013",
   "metadata": {},
   "outputs": [
    {
     "data": {
      "text/html": [
       "<div>\n",
       "<style scoped>\n",
       "    .dataframe tbody tr th:only-of-type {\n",
       "        vertical-align: middle;\n",
       "    }\n",
       "\n",
       "    .dataframe tbody tr th {\n",
       "        vertical-align: top;\n",
       "    }\n",
       "\n",
       "    .dataframe thead th {\n",
       "        text-align: right;\n",
       "    }\n",
       "</style>\n",
       "<table border=\"1\" class=\"dataframe\">\n",
       "  <thead>\n",
       "    <tr style=\"text-align: right;\">\n",
       "      <th></th>\n",
       "      <th>MandatId</th>\n",
       "      <th>SurfaceMin</th>\n",
       "      <th>NombrePiecesEnum</th>\n",
       "      <th>NombreChambresEnum</th>\n",
       "      <th>StatutProspectMandatClientID</th>\n",
       "      <th>TypeMission</th>\n",
       "      <th>TypeBien</th>\n",
       "      <th>TypeProjet</th>\n",
       "      <th>BudgetMaxEuro</th>\n",
       "      <th>CodePostal</th>\n",
       "      <th>Ville</th>\n",
       "      <th>Departement</th>\n",
       "      <th>dpt</th>\n",
       "      <th>Region</th>\n",
       "    </tr>\n",
       "  </thead>\n",
       "  <tbody>\n",
       "    <tr>\n",
       "      <th>0</th>\n",
       "      <td>5</td>\n",
       "      <td>60</td>\n",
       "      <td>3</td>\n",
       "      <td>2</td>\n",
       "      <td>9</td>\n",
       "      <td>1</td>\n",
       "      <td>2</td>\n",
       "      <td>0</td>\n",
       "      <td>250000</td>\n",
       "      <td>34000</td>\n",
       "      <td>Montpellier</td>\n",
       "      <td>Hérault</td>\n",
       "      <td>34</td>\n",
       "      <td>Languedoc-Roussillon</td>\n",
       "    </tr>\n",
       "    <tr>\n",
       "      <th>1</th>\n",
       "      <td>17</td>\n",
       "      <td>130</td>\n",
       "      <td>5</td>\n",
       "      <td>4</td>\n",
       "      <td>9</td>\n",
       "      <td>1</td>\n",
       "      <td>1</td>\n",
       "      <td>1</td>\n",
       "      <td>400000</td>\n",
       "      <td>34970</td>\n",
       "      <td>Lattes</td>\n",
       "      <td>Hérault</td>\n",
       "      <td>34</td>\n",
       "      <td>Languedoc-Roussillon</td>\n",
       "    </tr>\n",
       "    <tr>\n",
       "      <th>2</th>\n",
       "      <td>78</td>\n",
       "      <td>90</td>\n",
       "      <td>4</td>\n",
       "      <td>3</td>\n",
       "      <td>8</td>\n",
       "      <td>1</td>\n",
       "      <td>1</td>\n",
       "      <td>1</td>\n",
       "      <td>500000</td>\n",
       "      <td>34000</td>\n",
       "      <td>Montpellier</td>\n",
       "      <td>Hérault</td>\n",
       "      <td>34</td>\n",
       "      <td>Languedoc-Roussillon</td>\n",
       "    </tr>\n",
       "    <tr>\n",
       "      <th>3</th>\n",
       "      <td>79</td>\n",
       "      <td>50</td>\n",
       "      <td>3</td>\n",
       "      <td>2</td>\n",
       "      <td>9</td>\n",
       "      <td>1</td>\n",
       "      <td>1</td>\n",
       "      <td>1</td>\n",
       "      <td>240000</td>\n",
       "      <td>78300</td>\n",
       "      <td>Poissy</td>\n",
       "      <td>Yvelines</td>\n",
       "      <td>78</td>\n",
       "      <td>Île-de-France</td>\n",
       "    </tr>\n",
       "    <tr>\n",
       "      <th>4</th>\n",
       "      <td>81</td>\n",
       "      <td>90</td>\n",
       "      <td>3</td>\n",
       "      <td>2</td>\n",
       "      <td>9</td>\n",
       "      <td>1</td>\n",
       "      <td>1</td>\n",
       "      <td>1</td>\n",
       "      <td>300000</td>\n",
       "      <td>34000</td>\n",
       "      <td>Montpellier</td>\n",
       "      <td>Hérault</td>\n",
       "      <td>34</td>\n",
       "      <td>Languedoc-Roussillon</td>\n",
       "    </tr>\n",
       "  </tbody>\n",
       "</table>\n",
       "</div>"
      ],
      "text/plain": [
       "   MandatId  SurfaceMin  NombrePiecesEnum  NombreChambresEnum  \\\n",
       "0         5          60                 3                   2   \n",
       "1        17         130                 5                   4   \n",
       "2        78          90                 4                   3   \n",
       "3        79          50                 3                   2   \n",
       "4        81          90                 3                   2   \n",
       "\n",
       "   StatutProspectMandatClientID  TypeMission  TypeBien  TypeProjet  \\\n",
       "0                             9            1         2           0   \n",
       "1                             9            1         1           1   \n",
       "2                             8            1         1           1   \n",
       "3                             9            1         1           1   \n",
       "4                             9            1         1           1   \n",
       "\n",
       "   BudgetMaxEuro  CodePostal        Ville Departement  dpt  \\\n",
       "0         250000       34000  Montpellier     Hérault   34   \n",
       "1         400000       34970       Lattes     Hérault   34   \n",
       "2         500000       34000  Montpellier     Hérault   34   \n",
       "3         240000       78300       Poissy    Yvelines   78   \n",
       "4         300000       34000  Montpellier     Hérault   34   \n",
       "\n",
       "                 Region  \n",
       "0  Languedoc-Roussillon  \n",
       "1  Languedoc-Roussillon  \n",
       "2  Languedoc-Roussillon  \n",
       "3         Île-de-France  \n",
       "4  Languedoc-Roussillon  "
      ]
     },
     "execution_count": 4,
     "metadata": {},
     "output_type": "execute_result"
    }
   ],
   "source": [
    "df.head()"
   ]
  },
  {
   "cell_type": "code",
   "execution_count": 5,
   "id": "b1399f73",
   "metadata": {},
   "outputs": [
    {
     "name": "stdout",
     "output_type": "stream",
     "text": [
      "<class 'pandas.core.frame.DataFrame'>\n",
      "RangeIndex: 30082 entries, 0 to 30081\n",
      "Data columns (total 14 columns):\n",
      " #   Column                        Non-Null Count  Dtype \n",
      "---  ------                        --------------  ----- \n",
      " 0   MandatId                      30082 non-null  int64 \n",
      " 1   SurfaceMin                    30082 non-null  int64 \n",
      " 2   NombrePiecesEnum              30082 non-null  int64 \n",
      " 3   NombreChambresEnum            30082 non-null  int64 \n",
      " 4   StatutProspectMandatClientID  30082 non-null  int64 \n",
      " 5   TypeMission                   30082 non-null  int64 \n",
      " 6   TypeBien                      30082 non-null  int64 \n",
      " 7   TypeProjet                    30082 non-null  int64 \n",
      " 8   BudgetMaxEuro                 30082 non-null  int64 \n",
      " 9   CodePostal                    30082 non-null  int64 \n",
      " 10  Ville                         30082 non-null  object\n",
      " 11  Departement                   30082 non-null  object\n",
      " 12  dpt                           30082 non-null  int64 \n",
      " 13  Region                        30082 non-null  object\n",
      "dtypes: int64(11), object(3)\n",
      "memory usage: 3.2+ MB\n"
     ]
    }
   ],
   "source": [
    "df.info()"
   ]
  },
  {
   "cell_type": "markdown",
   "id": "9398e3dc",
   "metadata": {},
   "source": [
    "### Création de l'étiquette cible, label, y"
   ]
  },
  {
   "cell_type": "code",
   "execution_count": 6,
   "id": "d7e8f810",
   "metadata": {},
   "outputs": [
    {
     "name": "stdout",
     "output_type": "stream",
     "text": [
      "0    19694\n",
      "1    10388\n",
      "Name: Succes, dtype: int64\n"
     ]
    }
   ],
   "source": [
    "conditionlist = [\n",
    "    (df['StatutProspectMandatClientID'] == 9),\n",
    "    (df['StatutProspectMandatClientID'] == 7),\n",
    "    (df['StatutProspectMandatClientID'] == 8)]\n",
    "\n",
    "choicelist = ['0','1','1']\n",
    "df['Succes'] = np.select(conditionlist, choicelist, default='Not Specified')\n",
    "print(df[\"Succes\"].value_counts())"
   ]
  },
  {
   "cell_type": "code",
   "execution_count": 7,
   "id": "737e9392",
   "metadata": {},
   "outputs": [
    {
     "name": "stdout",
     "output_type": "stream",
     "text": [
      "<class 'pandas.core.frame.DataFrame'>\n",
      "RangeIndex: 30082 entries, 0 to 30081\n",
      "Data columns (total 15 columns):\n",
      " #   Column                        Non-Null Count  Dtype \n",
      "---  ------                        --------------  ----- \n",
      " 0   MandatId                      30082 non-null  int64 \n",
      " 1   SurfaceMin                    30082 non-null  int64 \n",
      " 2   NombrePiecesEnum              30082 non-null  int64 \n",
      " 3   NombreChambresEnum            30082 non-null  int64 \n",
      " 4   StatutProspectMandatClientID  30082 non-null  int64 \n",
      " 5   TypeMission                   30082 non-null  int64 \n",
      " 6   TypeBien                      30082 non-null  int64 \n",
      " 7   TypeProjet                    30082 non-null  int64 \n",
      " 8   BudgetMaxEuro                 30082 non-null  int64 \n",
      " 9   CodePostal                    30082 non-null  int64 \n",
      " 10  Ville                         30082 non-null  object\n",
      " 11  Departement                   30082 non-null  object\n",
      " 12  dpt                           30082 non-null  int64 \n",
      " 13  Region                        30082 non-null  object\n",
      " 14  Succes                        30082 non-null  object\n",
      "dtypes: int64(11), object(4)\n",
      "memory usage: 3.4+ MB\n"
     ]
    }
   ],
   "source": [
    "df.info()"
   ]
  },
  {
   "cell_type": "code",
   "execution_count": 8,
   "id": "9e2a6792",
   "metadata": {},
   "outputs": [],
   "source": [
    "df[\"Succes\"]=df[\"Succes\"].astype(int)"
   ]
  },
  {
   "cell_type": "code",
   "execution_count": 9,
   "id": "a396cfdf",
   "metadata": {},
   "outputs": [],
   "source": [
    "X = df.drop([\"MandatId\",\"StatutProspectMandatClientID\", \"Departement\", \"dpt\", \"Ville\", \"Region\", \"Succes\"], axis = 1)\n",
    "y = df[\"Succes\"]"
   ]
  },
  {
   "cell_type": "markdown",
   "id": "b5aa8acb",
   "metadata": {},
   "source": [
    "### Partionnement des données "
   ]
  },
  {
   "cell_type": "code",
   "execution_count": 10,
   "id": "86cffbc6",
   "metadata": {},
   "outputs": [],
   "source": [
    "X_train, X_test, y_train, y_test = train_test_split(X, y, test_size=0.2, random_state=42, stratify = y)"
   ]
  },
  {
   "cell_type": "markdown",
   "id": "e41dba8b",
   "metadata": {},
   "source": [
    "### Normalisation des données"
   ]
  },
  {
   "cell_type": "code",
   "execution_count": 11,
   "id": "ddb9be78",
   "metadata": {},
   "outputs": [],
   "source": [
    "from sklearn.preprocessing import StandardScaler\n",
    "scaler = StandardScaler()\n",
    "X_train = scaler.fit_transform(X_train)\n",
    "X_test = scaler.transform(X_test)"
   ]
  },
  {
   "cell_type": "markdown",
   "id": "aa1fcb68",
   "metadata": {},
   "source": [
    "### Entraienement du modèle"
   ]
  },
  {
   "cell_type": "code",
   "execution_count": 33,
   "id": "eb31604c",
   "metadata": {},
   "outputs": [
    {
     "data": {
      "text/plain": [
       "XGBClassifier(base_score=0.5, booster='gbtree', colsample_bylevel=1,\n",
       "              colsample_bynode=1, colsample_bytree=1, gamma=0, gpu_id=-1,\n",
       "              importance_type='gain', interaction_constraints='',\n",
       "              learning_rate=0.300000012, max_delta_step=0, max_depth=6,\n",
       "              min_child_weight=1, missing=nan, monotone_constraints='()',\n",
       "              n_estimators=100, n_jobs=0, num_parallel_tree=1, random_state=0,\n",
       "              reg_alpha=0, reg_lambda=1, scale_pos_weight=1, subsample=1,\n",
       "              tree_method='exact', validate_parameters=1, verbosity=None)"
      ]
     },
     "execution_count": 33,
     "metadata": {},
     "output_type": "execute_result"
    }
   ],
   "source": [
    "from xgboost import XGBClassifier\n",
    "\n",
    "xgb = XGBClassifier(objective='binary:logistic')\n",
    "xgb.fit(X_train, y_train)"
   ]
  },
  {
   "cell_type": "code",
   "execution_count": 34,
   "id": "4fcd1835",
   "metadata": {},
   "outputs": [
    {
     "data": {
      "text/plain": [
       "0.8352794514855599"
      ]
     },
     "execution_count": 34,
     "metadata": {},
     "output_type": "execute_result"
    }
   ],
   "source": [
    "xgb.score(X_train, y_train)"
   ]
  },
  {
   "cell_type": "code",
   "execution_count": 35,
   "id": "e33dd019",
   "metadata": {},
   "outputs": [],
   "source": [
    "y_xgb = xgb.predict(X_test)"
   ]
  },
  {
   "cell_type": "code",
   "execution_count": 36,
   "id": "9672a567",
   "metadata": {},
   "outputs": [
    {
     "name": "stdout",
     "output_type": "stream",
     "text": [
      "              precision    recall  f1-score   support\n",
      "\n",
      "           0       0.80      0.90      0.85      3939\n",
      "           1       0.75      0.58      0.66      2078\n",
      "\n",
      "    accuracy                           0.79      6017\n",
      "   macro avg       0.78      0.74      0.75      6017\n",
      "weighted avg       0.79      0.79      0.78      6017\n",
      "\n"
     ]
    }
   ],
   "source": [
    "from sklearn.metrics import classification_report\n",
    "print(classification_report(y_test,y_xgb))"
   ]
  },
  {
   "cell_type": "code",
   "execution_count": 37,
   "id": "10b4a4f6",
   "metadata": {},
   "outputs": [
    {
     "data": {
      "text/plain": [
       "<AxesSubplot:>"
      ]
     },
     "execution_count": 37,
     "metadata": {},
     "output_type": "execute_result"
    },
    {
     "data": {
      "image/png": "[encoded data removed]",
      "text/plain": [
       "<Figure size 432x288 with 2 Axes>"
      ]
     },
     "metadata": {
      "needs_background": "light"
     },
     "output_type": "display_data"
    }
   ],
   "source": [
    "cm = confusion_matrix(y_test,xgb.predict(X_test))\n",
    "sns.heatmap(cm/np.sum(cm), annot=True, \n",
    "            fmt='.2%', cmap='Blues')"
   ]
  },
  {
   "cell_type": "code",
   "execution_count": 38,
   "id": "0d76b1ad",
   "metadata": {},
   "outputs": [
    {
     "data": {
      "image/png": "[encoded data removed]",
      "text/plain": [
       "<Figure size 432x288 with 1 Axes>"
      ]
     },
     "metadata": {
      "needs_background": "light"
     },
     "output_type": "display_data"
    }
   ],
   "source": [
    "disp = plot_roc_curve(xgb, X_test, y_test)\n",
    "plot_roc_curve(xgb, X_train,y_train, ax = disp.ax_);\n",
    "plt.title('ROC curve XGB')\n",
    "plt.plot([0,1],[0,1])\n",
    "plt.show()"
   ]
  },
  {
   "cell_type": "markdown",
   "id": "8888a377",
   "metadata": {},
   "source": [
    "# Amelioration des hyper-paramètres"
   ]
  },
  {
   "cell_type": "code",
   "execution_count": 77,
   "id": "5405a619",
   "metadata": {},
   "outputs": [
    {
     "name": "stdout",
     "output_type": "stream",
     "text": [
      "[0.78396344 0.77980889 0.79393436 0.78687162 0.78354799 0.78096426\n",
      " 0.79135495 0.77763924 0.77472984 0.78927681]\n"
     ]
    },
    {
     "data": {
      "text/plain": [
       "GridSearchCV(cv=StratifiedKFold(n_splits=10, random_state=1, shuffle=True),\n",
       "             estimator=XGBClassifier(base_score=None, booster=None,\n",
       "                                     colsample_bylevel=None,\n",
       "                                     colsample_bynode=None,\n",
       "                                     colsample_bytree=None, gamma=None,\n",
       "                                     gpu_id=None, importance_type='gain',\n",
       "                                     interaction_constraints=None,\n",
       "                                     learning_rate=None, max_delta_step=None,\n",
       "                                     max_depth=None, min_child_weight=None,\n",
       "                                     missing=nan, monotone_constraints=None,\n",
       "                                     n_estimators=100, n_jobs=None,\n",
       "                                     num_parallel_tree=None, random_state=None,\n",
       "                                     reg_alpha=None, reg_lambda=None,\n",
       "                                     scale_pos_weight=None, subsample=None,\n",
       "                                     tree_method=None, validate_parameters=None,\n",
       "                                     verbosity=None),\n",
       "             param_grid={'learning_rate': [0.3, 0.4, 0.5],\n",
       "                         'max_depth': [100, 200, 300],\n",
       "                         'n_estimators': [50, 100, 150]})"
      ]
     },
     "execution_count": 77,
     "metadata": {},
     "output_type": "execute_result"
    }
   ],
   "source": [
    "from xgboost import XGBClassifier\n",
    "from sklearn.model_selection import GridSearchCV\n",
    "\n",
    "sk_fold = StratifiedKFold(n_splits=10, shuffle=True, random_state=1)\n",
    "\n",
    "colsample_bytree = [0,2]\n",
    "#, subsample=2 \n",
    "xgb = XGBClassifier(objective='binary:logistic')\n",
    "\n",
    "score_cv = cross_val_score(xgb, X_train, y_train, cv = sk_fold, scoring = \"accuracy\")\n",
    "\n",
    "print(score_cv)\n",
    "\n",
    "params= {\n",
    "    \"learning_rate\" : [0.3, 0.4, 0.5],\n",
    "    \"max_depth\" : [100, 200, 300],\n",
    "    \"n_estimators\" : [50, 100, 150]\n",
    "}\n",
    "\n",
    "xgb_gs = GridSearchCV(xgb, params, cv = sk_fold)\n",
    "\n",
    "xgb_gs.fit(X_train, y_train)"
   ]
  },
  {
   "cell_type": "code",
   "execution_count": 78,
   "id": "803477de",
   "metadata": {},
   "outputs": [
    {
     "name": "stdout",
     "output_type": "stream",
     "text": [
      "{'learning_rate': 0.3, 'max_depth': 100, 'n_estimators': 150}\n"
     ]
    }
   ],
   "source": [
    "print(xgb_gs.best_params_)"
   ]
  },
  {
   "cell_type": "code",
   "execution_count": 65,
   "id": "43764f76",
   "metadata": {},
   "outputs": [
    {
     "data": {
      "text/plain": [
       "0.9831290255557864"
      ]
     },
     "execution_count": 65,
     "metadata": {},
     "output_type": "execute_result"
    }
   ],
   "source": [
    "xgb_gs.score(X_train, y_train)"
   ]
  },
  {
   "cell_type": "code",
   "execution_count": 66,
   "id": "73f8d8f0",
   "metadata": {},
   "outputs": [],
   "source": [
    "y_xgb_gs = xgb_gs.predict(X_test)"
   ]
  },
  {
   "cell_type": "code",
   "execution_count": 67,
   "id": "fde3b440",
   "metadata": {},
   "outputs": [
    {
     "name": "stdout",
     "output_type": "stream",
     "text": [
      "              precision    recall  f1-score   support\n",
      "\n",
      "           0       0.90      0.92      0.91      3939\n",
      "           1       0.84      0.82      0.83      2078\n",
      "\n",
      "    accuracy                           0.88      6017\n",
      "   macro avg       0.87      0.87      0.87      6017\n",
      "weighted avg       0.88      0.88      0.88      6017\n",
      "\n"
     ]
    }
   ],
   "source": [
    "from sklearn.metrics import classification_report\n",
    "print(classification_report(y_test,y_xgb_gs))"
   ]
  },
  {
   "cell_type": "code",
   "execution_count": 68,
   "id": "740196d0",
   "metadata": {},
   "outputs": [
    {
     "data": {
      "text/plain": [
       "<AxesSubplot:>"
      ]
     },
     "execution_count": 68,
     "metadata": {},
     "output_type": "execute_result"
    },
    {
     "data": {
      "image/png": "[encoded data removed]",
      "text/plain": [
       "<Figure size 432x288 with 2 Axes>"
      ]
     },
     "metadata": {
      "needs_background": "light"
     },
     "output_type": "display_data"
    }
   ],
   "source": [
    "cm = confusion_matrix(y_test,xgb_gs.predict(X_test))\n",
    "sns.heatmap(cm/np.sum(cm), annot=True, \n",
    "            fmt='.2%', cmap='Blues')"
   ]
  },
  {
   "cell_type": "code",
   "execution_count": 69,
   "id": "d0d0365a",
   "metadata": {},
   "outputs": [
    {
     "data": {
      "image/png": "[encoded data removed]",
      "text/plain": [
       "<Figure size 432x288 with 1 Axes>"
      ]
     },
     "metadata": {
      "needs_background": "light"
     },
     "output_type": "display_data"
    }
   ],
   "source": [
    "disp = plot_roc_curve(xgb_gs, X_test, y_test)\n",
    "plot_roc_curve(xgb_gs, X_train,y_train, ax = disp.ax_);\n",
    "plt.title('ROC curve XGB')\n",
    "plt.plot([0,1],[0,1])\n",
    "plt.show()"
   ]
  },
  {
   "cell_type": "code",
   "execution_count": null,
   "id": "7741949b",
   "metadata": {},
   "outputs": [],
   "source": []
  }
 ],
 "metadata": {
  "kernelspec": {
   "display_name": "Python 3 (ipykernel)",
   "language": "python",
   "name": "python3"
  },
  "language_info": {
   "codemirror_mode": {
    "name": "ipython",
    "version": 3
   },
   "file_extension": ".py",
   "mimetype": "text/x-python",
   "name": "python",
   "nbconvert_exporter": "python",
   "pygments_lexer": "ipython3",
   "version": "3.8.12"
  }
 },
 "nbformat": 4,
 "nbformat_minor": 5
}
