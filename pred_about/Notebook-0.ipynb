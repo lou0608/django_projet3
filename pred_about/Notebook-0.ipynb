{
    "metadata": {
        "kernelspec": {
            "name": "SQL",
            "display_name": "SQL",
            "language": "sql"
        },
        "language_info": {
            "name": "sql",
            "version": ""
        }
    },
    "nbformat_minor": 2,
    "nbformat": 4,
    "cells": [
        {
            "cell_type": "markdown",
            "source": [
                "SELECT * FROM dbo.BienMandat"
            ],
            "metadata": {
                "azdata_cell_guid": "f7833752-0fc6-4214-b916-83afcec23036"
            }
        },
        {
            "cell_type": "markdown",
            "source": [
                "SELECT * FROM dbo.BienMandatFichier"
            ],
            "metadata": {
                "azdata_cell_guid": "efcab3da-ed7e-4204-880b-ae0d72acdae5"
            }
        },
        {
            "cell_type": "markdown",
            "source": [
                "SELECT * FROM dbo.Client"
            ],
            "metadata": {
                "azdata_cell_guid": "1c6fabf7-1440-47a4-8f55-45aff59f15f8"
            }
        },
        {
            "cell_type": "markdown",
            "source": [
                "SELECT * FROM dbo.Coach"
            ],
            "metadata": {
                "azdata_cell_guid": "f8c84c04-5538-4151-942a-a3b6f68b6835"
            }
        },
        {
            "cell_type": "markdown",
            "source": [
                "SELECT * FROM dbo.Coacquereur"
            ],
            "metadata": {
                "azdata_cell_guid": "b7396667-bfa6-449d-8c3c-74b4240c9733"
            }
        },
        {
            "cell_type": "markdown",
            "source": [
                "SELECT * FROM dbo.ConnectionNotificationBien"
            ],
            "metadata": {
                "azdata_cell_guid": "7c906db5-5220-42fc-a20f-b5b859db6215"
            }
        },
        {
            "cell_type": "markdown",
            "source": [
                "SELECT * FROM dbo.Criteres"
            ],
            "metadata": {
                "azdata_cell_guid": "2a7424d5-3d18-43d3-93b5-c92933b6fb4d"
            }
        },
        {
            "cell_type": "markdown",
            "source": [
                "SELECT * FROM dbo.CriteresMoteur"
            ],
            "metadata": {
                "azdata_cell_guid": "6a67a21f-dfb5-4ceb-8144-4c80e01764d6"
            }
        },
        {
            "cell_type": "markdown",
            "source": [
                "SELECT * FROM dbo.CriteresMoteurLocalisation"
            ],
            "metadata": {
                "azdata_cell_guid": "870a365f-30db-40bf-9c57-fc7fcc53b825"
            }
        },
        {
            "cell_type": "markdown",
            "source": [
                "SELECT * FROM dbo.DocumentMandat"
            ],
            "metadata": {
                "azdata_cell_guid": "6e561496-5f39-4aed-88b4-897b315d785a"
            }
        },
        {
            "cell_type": "markdown",
            "source": [
                "SELECT * FROM dbo.Fund"
            ],
            "metadata": {
                "azdata_cell_guid": "72992a51-dfbc-405c-9f33-67c596e2be43"
            }
        },
        {
            "cell_type": "markdown",
            "source": [
                "Select * from dbo.Localisation"
            ],
            "metadata": {
                "azdata_cell_guid": "9b4ef0c8-6697-4589-a887-d1dfdedb65c2"
            }
        },
        {
            "cell_type": "markdown",
            "source": [
                "Select * from dbo.LocalisationCritere"
            ],
            "metadata": {
                "azdata_cell_guid": "96048c96-4677-4653-90eb-d84c059c7483"
            }
        },
        {
            "cell_type": "markdown",
            "source": [
                "SELECT * FROM dbo.Mandat"
            ],
            "metadata": {
                "azdata_cell_guid": "767cbee9-58f4-491d-a209-6f223c16116c"
            }
        },
        {
            "cell_type": "markdown",
            "source": [
                "SELECT * FROM dbo.MigrationDate"
            ],
            "metadata": {
                "azdata_cell_guid": "cbd30f62-44f1-4a36-972f-8f6a6e1ff5a1"
            }
        },
        {
            "cell_type": "markdown",
            "source": [
                "SELECT * FROM dbo.MoteurLog"
            ],
            "metadata": {
                "azdata_cell_guid": "c0d801e1-b3c6-4420-acef-c0040ec8a5f7"
            }
        },
        {
            "cell_type": "markdown",
            "source": [
                "SELECT * FROM dbo.NotificationBien"
            ],
            "metadata": {
                "azdata_cell_guid": "92b0bd72-ac4e-4767-94af-2c3cff60ca4d"
            }
        },
        {
            "cell_type": "markdown",
            "source": [
                "SELECT * FROM dbo.NotificationBienEtat"
            ],
            "metadata": {
                "azdata_cell_guid": "eea9d541-014b-413a-9bc8-324837501b18"
            }
        },
        {
            "cell_type": "markdown",
            "source": [
                "SELECT * FROM dbo.PlugLog"
            ],
            "metadata": {
                "azdata_cell_guid": "176f6175-7b44-44e9-b956-df52f1396b85"
            }
        },
        {
            "cell_type": "markdown",
            "source": [
                "SELECT * FROM dbo.PlugLogItem"
            ],
            "metadata": {
                "azdata_cell_guid": "9d5ad4e8-dc90-4a35-b66a-9fe11d701b45"
            }
        },
        {
            "cell_type": "markdown",
            "source": [
                "SELECT * FROM dbo.PlugLogPage"
            ],
            "metadata": {
                "azdata_cell_guid": "331e5735-d518-48b1-a219-794e0bc356c4"
            }
        },
        {
            "cell_type": "markdown",
            "source": [
                "SELECT * FROM dbo.PlugTokenCoach"
            ],
            "metadata": {
                "azdata_cell_guid": "5e48e707-d313-4012-a9a5-473136c83a3f"
            }
        },
        {
            "cell_type": "markdown",
            "source": [
                "SELECT * FROM dbo.Polygone"
            ],
            "metadata": {
                "azdata_cell_guid": "16599380-bf5c-4e9c-8cfa-07af19183abe"
            }
        },
        {
            "cell_type": "markdown",
            "source": [
                "SELECT * FROM dbo.RejetBien"
            ],
            "metadata": {
                "azdata_cell_guid": "5bb5eb96-c408-4c8d-be0e-b987719622a7"
            }
        },
        {
            "cell_type": "markdown",
            "source": [
                "SELECT * FROM dbo.SiteWebImmobilier"
            ],
            "metadata": {
                "azdata_cell_guid": "7fa56bea-4043-4b3c-95d1-fcad8b76e8fc"
            }
        },
        {
            "cell_type": "markdown",
            "source": [
                "SELECT * FROM dbo.StatutProspectMandatClient"
            ],
            "metadata": {
                "azdata_cell_guid": "14720ef6-cecd-440c-bb4c-10b78ac34a5f"
            }
        },
        {
            "cell_type": "markdown",
            "source": [
                "SELECT * FROM dbo.ThemeSiteWebImmobilier"
            ],
            "metadata": {
                "azdata_cell_guid": "28aaa5ad-8408-404e-8cd2-5b3fa85bb027"
            }
        },
        {
            "cell_type": "markdown",
            "source": [
                "SELECT * FROM dbo.UrlRechercheMandat"
            ],
            "metadata": {
                "azdata_cell_guid": "68b51f22-3105-4fac-b127-0032a9ee14b8"
            }
        },
        {
            "cell_type": "markdown",
            "source": [
                "SELECT * FROM dbo.Utilisateur"
            ],
            "metadata": {
                "azdata_cell_guid": "bb209bd4-e154-4093-85bb-34e774be0e1b"
            }
        },
        {
            "cell_type": "markdown",
            "source": [
                "SELECT * FROM dbo.UtilisateurPhoto"
            ],
            "metadata": {
                "azdata_cell_guid": "b804e7be-8796-45d0-b36f-64026e8ae71e"
            }
        },
        {
            "cell_type": "markdown",
            "source": [
                "SELECT * FROM dbo.VisiteBien"
            ],
            "metadata": {
                "azdata_cell_guid": "5e4b5c02-6b7e-4bf0-b804-49dbd08c1ef6"
            }
        }
    ]
}