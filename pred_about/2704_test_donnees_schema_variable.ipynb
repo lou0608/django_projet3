{
 "cells": [
  {
   "cell_type": "code",
   "execution_count": 1,
   "id": "2511dbb2",
   "metadata": {},
   "outputs": [],
   "source": [
    "import pandas as pd"
   ]
  },
  {
   "cell_type": "code",
   "execution_count": 5,
   "id": "b965c175",
   "metadata": {},
   "outputs": [],
   "source": [
    "df = pd.read_csv(\"test_données_schemas.csv\")"
   ]
  },
  {
   "cell_type": "code",
   "execution_count": 6,
   "id": "61f684c2",
   "metadata": {},
   "outputs": [
    {
     "data": {
      "text/html": [
       "<div>\n",
       "<style scoped>\n",
       "    .dataframe tbody tr th:only-of-type {\n",
       "        vertical-align: middle;\n",
       "    }\n",
       "\n",
       "    .dataframe tbody tr th {\n",
       "        vertical-align: top;\n",
       "    }\n",
       "\n",
       "    .dataframe thead th {\n",
       "        text-align: right;\n",
       "    }\n",
       "</style>\n",
       "<table border=\"1\" class=\"dataframe\">\n",
       "  <thead>\n",
       "    <tr style=\"text-align: right;\">\n",
       "      <th></th>\n",
       "      <th>MandatId</th>\n",
       "      <th>TypeProjet</th>\n",
       "      <th>SurfaceMin</th>\n",
       "      <th>NombrePiecesEnum</th>\n",
       "      <th>NombreChambresEnum</th>\n",
       "      <th>StatutMandat</th>\n",
       "      <th>TypeMission</th>\n",
       "      <th>TypeBien</th>\n",
       "      <th>BudgetMaxEuro</th>\n",
       "      <th>CodePostal</th>\n",
       "      <th>Ville</th>\n",
       "      <th>Departement</th>\n",
       "      <th>dpt</th>\n",
       "      <th>Region</th>\n",
       "    </tr>\n",
       "  </thead>\n",
       "  <tbody>\n",
       "    <tr>\n",
       "      <th>0</th>\n",
       "      <td>78</td>\n",
       "      <td>1</td>\n",
       "      <td>90</td>\n",
       "      <td>4</td>\n",
       "      <td>3</td>\n",
       "      <td>8</td>\n",
       "      <td>1</td>\n",
       "      <td>1</td>\n",
       "      <td>500000</td>\n",
       "      <td>34000</td>\n",
       "      <td>Montpellier</td>\n",
       "      <td>Hérault</td>\n",
       "      <td>34</td>\n",
       "      <td>Languedoc-Roussillon</td>\n",
       "    </tr>\n",
       "    <tr>\n",
       "      <th>1</th>\n",
       "      <td>228</td>\n",
       "      <td>0</td>\n",
       "      <td>20</td>\n",
       "      <td>2</td>\n",
       "      <td>1</td>\n",
       "      <td>8</td>\n",
       "      <td>1</td>\n",
       "      <td>2</td>\n",
       "      <td>100000</td>\n",
       "      <td>13007</td>\n",
       "      <td>Marseille 7Eme Arrondisse</td>\n",
       "      <td>Bouches-du-Rhône</td>\n",
       "      <td>13</td>\n",
       "      <td>Provence-Alpes-Côte d'Azur</td>\n",
       "    </tr>\n",
       "    <tr>\n",
       "      <th>2</th>\n",
       "      <td>321</td>\n",
       "      <td>0</td>\n",
       "      <td>70</td>\n",
       "      <td>3</td>\n",
       "      <td>2</td>\n",
       "      <td>8</td>\n",
       "      <td>1</td>\n",
       "      <td>1</td>\n",
       "      <td>110000</td>\n",
       "      <td>35600</td>\n",
       "      <td>Bains Sur Oust</td>\n",
       "      <td>Ille-et-Vilaine</td>\n",
       "      <td>35</td>\n",
       "      <td>Bretagne</td>\n",
       "    </tr>\n",
       "    <tr>\n",
       "      <th>3</th>\n",
       "      <td>405</td>\n",
       "      <td>0</td>\n",
       "      <td>20</td>\n",
       "      <td>2</td>\n",
       "      <td>1</td>\n",
       "      <td>8</td>\n",
       "      <td>1</td>\n",
       "      <td>5</td>\n",
       "      <td>100000</td>\n",
       "      <td>93140</td>\n",
       "      <td>Bondy</td>\n",
       "      <td>Seine-Saint-Denis</td>\n",
       "      <td>93</td>\n",
       "      <td>Île-de-France</td>\n",
       "    </tr>\n",
       "    <tr>\n",
       "      <th>4</th>\n",
       "      <td>455</td>\n",
       "      <td>1</td>\n",
       "      <td>25</td>\n",
       "      <td>1</td>\n",
       "      <td>0</td>\n",
       "      <td>8</td>\n",
       "      <td>1</td>\n",
       "      <td>5</td>\n",
       "      <td>130000</td>\n",
       "      <td>92250</td>\n",
       "      <td>La Garenne Colombes</td>\n",
       "      <td>Hauts-de-Seine</td>\n",
       "      <td>92</td>\n",
       "      <td>Île-de-France</td>\n",
       "    </tr>\n",
       "  </tbody>\n",
       "</table>\n",
       "</div>"
      ],
      "text/plain": [
       "   MandatId  TypeProjet  SurfaceMin  NombrePiecesEnum  NombreChambresEnum  \\\n",
       "0        78           1          90                 4                   3   \n",
       "1       228           0          20                 2                   1   \n",
       "2       321           0          70                 3                   2   \n",
       "3       405           0          20                 2                   1   \n",
       "4       455           1          25                 1                   0   \n",
       "\n",
       "   StatutMandat  TypeMission  TypeBien  BudgetMaxEuro  CodePostal  \\\n",
       "0             8            1         1         500000       34000   \n",
       "1             8            1         2         100000       13007   \n",
       "2             8            1         1         110000       35600   \n",
       "3             8            1         5         100000       93140   \n",
       "4             8            1         5         130000       92250   \n",
       "\n",
       "                       Ville        Departement  dpt  \\\n",
       "0                Montpellier            Hérault   34   \n",
       "1  Marseille 7Eme Arrondisse   Bouches-du-Rhône   13   \n",
       "2             Bains Sur Oust    Ille-et-Vilaine   35   \n",
       "3                      Bondy  Seine-Saint-Denis   93   \n",
       "4        La Garenne Colombes     Hauts-de-Seine   92   \n",
       "\n",
       "                       Region  \n",
       "0        Languedoc-Roussillon  \n",
       "1  Provence-Alpes-Côte d'Azur  \n",
       "2                    Bretagne  \n",
       "3               Île-de-France  \n",
       "4               Île-de-France  "
      ]
     },
     "execution_count": 6,
     "metadata": {},
     "output_type": "execute_result"
    }
   ],
   "source": [
    "df.head()"
   ]
  },
  {
   "cell_type": "code",
   "execution_count": 7,
   "id": "9f4333e2",
   "metadata": {},
   "outputs": [
    {
     "name": "stdout",
     "output_type": "stream",
     "text": [
      "<class 'pandas.core.frame.DataFrame'>\n",
      "RangeIndex: 10455 entries, 0 to 10454\n",
      "Data columns (total 14 columns):\n",
      " #   Column              Non-Null Count  Dtype \n",
      "---  ------              --------------  ----- \n",
      " 0   MandatId            10455 non-null  int64 \n",
      " 1   TypeProjet          10455 non-null  int64 \n",
      " 2   SurfaceMin          10455 non-null  int64 \n",
      " 3   NombrePiecesEnum    10455 non-null  int64 \n",
      " 4   NombreChambresEnum  10455 non-null  int64 \n",
      " 5   StatutMandat        10455 non-null  int64 \n",
      " 6   TypeMission         10455 non-null  int64 \n",
      " 7   TypeBien            10455 non-null  int64 \n",
      " 8   BudgetMaxEuro       10455 non-null  int64 \n",
      " 9   CodePostal          10455 non-null  int64 \n",
      " 10  Ville               10455 non-null  object\n",
      " 11  Departement         10455 non-null  object\n",
      " 12  dpt                 10455 non-null  int64 \n",
      " 13  Region              10455 non-null  object\n",
      "dtypes: int64(11), object(3)\n",
      "memory usage: 1.1+ MB\n"
     ]
    }
   ],
   "source": [
    "df.info()"
   ]
  },
  {
   "cell_type": "code",
   "execution_count": 8,
   "id": "b2327d6b",
   "metadata": {},
   "outputs": [],
   "source": [
    "cp = 31000"
   ]
  },
  {
   "cell_type": "code",
   "execution_count": 10,
   "id": "8f865a51",
   "metadata": {},
   "outputs": [],
   "source": [
    "x = df.loc[df[\"CodePostal\"] == cp]"
   ]
  },
  {
   "cell_type": "code",
   "execution_count": 17,
   "id": "12beca19",
   "metadata": {},
   "outputs": [],
   "source": [
    "z = x[\"Ville\"][:1]"
   ]
  },
  {
   "cell_type": "code",
   "execution_count": 24,
   "id": "74e62867",
   "metadata": {},
   "outputs": [
    {
     "name": "stdout",
     "output_type": "stream",
     "text": [
      "17    Toulouse\n",
      "Name: Ville, dtype: object\n"
     ]
    }
   ],
   "source": [
    "print(z[0:])"
   ]
  },
  {
   "cell_type": "code",
   "execution_count": 32,
   "id": "fb4fbeb9",
   "metadata": {},
   "outputs": [],
   "source": [
    "z = x[\"Ville\"][:0]"
   ]
  },
  {
   "cell_type": "code",
   "execution_count": 36,
   "id": "09e70a06",
   "metadata": {},
   "outputs": [
    {
     "data": {
      "text/plain": [
       "array([], dtype=object)"
      ]
     },
     "execution_count": 36,
     "metadata": {},
     "output_type": "execute_result"
    }
   ],
   "source": [
    "z.values"
   ]
  },
  {
   "cell_type": "code",
   "execution_count": 26,
   "id": "87a73e6b",
   "metadata": {},
   "outputs": [
    {
     "data": {
      "text/plain": [
       "17    Toulouse\n",
       "Name: Ville, dtype: object"
      ]
     },
     "execution_count": 26,
     "metadata": {},
     "output_type": "execute_result"
    }
   ],
   "source": [
    "z.head()"
   ]
  },
  {
   "cell_type": "code",
   "execution_count": 31,
   "id": "1e1ef8ff",
   "metadata": {},
   "outputs": [
    {
     "data": {
      "text/plain": [
       "array(['Toulouse'], dtype=object)"
      ]
     },
     "execution_count": 31,
     "metadata": {},
     "output_type": "execute_result"
    }
   ],
   "source": [
    "z.values"
   ]
  },
  {
   "cell_type": "code",
   "execution_count": 29,
   "id": "dc0b31a6",
   "metadata": {},
   "outputs": [
    {
     "ename": "IndexError",
     "evalue": "tuple index out of range",
     "output_type": "error",
     "traceback": [
      "\u001b[1;31m---------------------------------------------------------------------------\u001b[0m",
      "\u001b[1;31mIndexError\u001b[0m                                Traceback (most recent call last)",
      "Input \u001b[1;32mIn [29]\u001b[0m, in \u001b[0;36m<cell line: 1>\u001b[1;34m()\u001b[0m\n\u001b[1;32m----> 1\u001b[0m \u001b[43mz\u001b[49m\u001b[38;5;241;43m.\u001b[39;49m\u001b[43mshape\u001b[49m\u001b[43m[\u001b[49m\u001b[38;5;241;43m1\u001b[39;49m\u001b[43m]\u001b[49m\n",
      "\u001b[1;31mIndexError\u001b[0m: tuple index out of range"
     ]
    }
   ],
   "source": [
    "z.shape[1]"
   ]
  },
  {
   "cell_type": "code",
   "execution_count": null,
   "id": "5b7cdaaa",
   "metadata": {},
   "outputs": [],
   "source": []
  }
 ],
 "metadata": {
  "kernelspec": {
   "display_name": "Python 3 (ipykernel)",
   "language": "python",
   "name": "python3"
  },
  "language_info": {
   "codemirror_mode": {
    "name": "ipython",
    "version": 3
   },
   "file_extension": ".py",
   "mimetype": "text/x-python",
   "name": "python",
   "nbconvert_exporter": "python",
   "pygments_lexer": "ipython3",
   "version": "3.8.12"
  }
 },
 "nbformat": 4,
 "nbformat_minor": 5
}
