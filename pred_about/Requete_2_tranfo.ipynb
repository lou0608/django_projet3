{
 "cells": [
  {
   "cell_type": "markdown",
   "id": "ead8be23",
   "metadata": {},
   "source": [
    "# Transformation du type de données"
   ]
  },
  {
   "cell_type": "code",
   "execution_count": 78,
   "id": "3088f9dd",
   "metadata": {},
   "outputs": [],
   "source": [
    "import pandas as pd\n",
    "import seaborn as sns\n",
    "\n",
    "import numpy as np\n",
    "import statistics\n",
    "import scipy.stats as stat\n",
    "import scipy as sp\n",
    "\n",
    "import seaborn as sns\n",
    "import matplotlib.pyplot as plt\n",
    "%matplotlib inline\n",
    "from mpl_toolkits.mplot3d import Axes3D\n",
    "from matplotlib import cm"
   ]
  },
  {
   "cell_type": "markdown",
   "id": "0ce0e97d",
   "metadata": {},
   "source": [
    "### Lecture du csv"
   ]
  },
  {
   "cell_type": "code",
   "execution_count": 2,
   "id": "8b75881f",
   "metadata": {},
   "outputs": [],
   "source": [
    "df = pd.read_csv(\"df_merge_crit_2.csv\")"
   ]
  },
  {
   "cell_type": "code",
   "execution_count": 6,
   "id": "46bae4d8",
   "metadata": {},
   "outputs": [
    {
     "data": {
      "text/html": [
       "<div>\n",
       "<style scoped>\n",
       "    .dataframe tbody tr th:only-of-type {\n",
       "        vertical-align: middle;\n",
       "    }\n",
       "\n",
       "    .dataframe tbody tr th {\n",
       "        vertical-align: top;\n",
       "    }\n",
       "\n",
       "    .dataframe thead th {\n",
       "        text-align: right;\n",
       "    }\n",
       "</style>\n",
       "<table border=\"1\" class=\"dataframe\">\n",
       "  <thead>\n",
       "    <tr style=\"text-align: right;\">\n",
       "      <th></th>\n",
       "      <th>Unnamed: 0</th>\n",
       "      <th>Code</th>\n",
       "      <th>Nom</th>\n",
       "      <th>CodeInsee</th>\n",
       "      <th>Discriminator</th>\n",
       "      <th>DateMandatSignature</th>\n",
       "      <th>PrixAchatReel</th>\n",
       "      <th>TypeDeMission</th>\n",
       "      <th>TypeDeMandat</th>\n",
       "      <th>Lieu</th>\n",
       "      <th>Quartier</th>\n",
       "      <th>TypeBienEnum</th>\n",
       "      <th>TypeProjet</th>\n",
       "      <th>BudgetMinEuro</th>\n",
       "      <th>BudgetMaxEuro</th>\n",
       "      <th>SurfaceMin</th>\n",
       "      <th>SurfaceMax</th>\n",
       "      <th>NombrePiecesEnum</th>\n",
       "      <th>NombreChambresEnum</th>\n",
       "      <th>CommentaireTravauxAcceptes</th>\n",
       "      <th>AncienNeufBien</th>\n",
       "      <th>DescriptionBien_TypeBienEnum</th>\n",
       "      <th>DescriptionBien_Prix</th>\n",
       "      <th>Statut</th>\n",
       "      <th>CommentaireTravaux</th>\n",
       "      <th>DescriptionBien_DateOffreAcceptee</th>\n",
       "    </tr>\n",
       "  </thead>\n",
       "  <tbody>\n",
       "    <tr>\n",
       "      <th>0</th>\n",
       "      <td>0</td>\n",
       "      <td>26</td>\n",
       "      <td>Bourgogne</td>\n",
       "      <td>NaN</td>\n",
       "      <td>Region</td>\n",
       "      <td>2020-08-28 00:00:00</td>\n",
       "      <td>0.0</td>\n",
       "      <td>2</td>\n",
       "      <td>0</td>\n",
       "      <td>Lyon</td>\n",
       "      <td>NaN</td>\n",
       "      <td>2</td>\n",
       "      <td>Investissement</td>\n",
       "      <td>0</td>\n",
       "      <td>200000</td>\n",
       "      <td>20</td>\n",
       "      <td>0</td>\n",
       "      <td>1</td>\n",
       "      <td>0</td>\n",
       "      <td>oui</td>\n",
       "      <td>2</td>\n",
       "      <td>2</td>\n",
       "      <td>162000</td>\n",
       "      <td>4</td>\n",
       "      <td>Ameublement + électricité</td>\n",
       "      <td>2020-12-04 00:00:00</td>\n",
       "    </tr>\n",
       "    <tr>\n",
       "      <th>1</th>\n",
       "      <td>1</td>\n",
       "      <td>82</td>\n",
       "      <td>Rhône-Alpes</td>\n",
       "      <td>NaN</td>\n",
       "      <td>Region</td>\n",
       "      <td>2020-08-28 00:00:00</td>\n",
       "      <td>0.0</td>\n",
       "      <td>2</td>\n",
       "      <td>0</td>\n",
       "      <td>Lyon</td>\n",
       "      <td>NaN</td>\n",
       "      <td>2</td>\n",
       "      <td>Investissement</td>\n",
       "      <td>0</td>\n",
       "      <td>200000</td>\n",
       "      <td>20</td>\n",
       "      <td>0</td>\n",
       "      <td>1</td>\n",
       "      <td>0</td>\n",
       "      <td>oui</td>\n",
       "      <td>2</td>\n",
       "      <td>2</td>\n",
       "      <td>162000</td>\n",
       "      <td>4</td>\n",
       "      <td>Ameublement + électricité</td>\n",
       "      <td>2020-12-04 00:00:00</td>\n",
       "    </tr>\n",
       "  </tbody>\n",
       "</table>\n",
       "</div>"
      ],
      "text/plain": [
       "   Unnamed: 0  Code          Nom CodeInsee Discriminator  DateMandatSignature  \\\n",
       "0           0    26    Bourgogne       NaN        Region  2020-08-28 00:00:00   \n",
       "1           1    82  Rhône-Alpes       NaN        Region  2020-08-28 00:00:00   \n",
       "\n",
       "   PrixAchatReel  TypeDeMission  TypeDeMandat  Lieu Quartier  TypeBienEnum  \\\n",
       "0            0.0              2             0  Lyon      NaN             2   \n",
       "1            0.0              2             0  Lyon      NaN             2   \n",
       "\n",
       "       TypeProjet  BudgetMinEuro  BudgetMaxEuro  SurfaceMin  SurfaceMax  \\\n",
       "0  Investissement              0         200000          20           0   \n",
       "1  Investissement              0         200000          20           0   \n",
       "\n",
       "   NombrePiecesEnum  NombreChambresEnum CommentaireTravauxAcceptes  \\\n",
       "0                 1                   0                        oui   \n",
       "1                 1                   0                        oui   \n",
       "\n",
       "   AncienNeufBien  DescriptionBien_TypeBienEnum  DescriptionBien_Prix  Statut  \\\n",
       "0               2                             2                162000       4   \n",
       "1               2                             2                162000       4   \n",
       "\n",
       "          CommentaireTravaux DescriptionBien_DateOffreAcceptee  \n",
       "0  Ameublement + électricité               2020-12-04 00:00:00  \n",
       "1  Ameublement + électricité               2020-12-04 00:00:00  "
      ]
     },
     "execution_count": 6,
     "metadata": {},
     "output_type": "execute_result"
    }
   ],
   "source": [
    "pd.set_option('display.max_columns', None)\n",
    "df.head(2)"
   ]
  },
  {
   "cell_type": "code",
   "execution_count": 5,
   "id": "7ff90ac1",
   "metadata": {},
   "outputs": [
    {
     "name": "stdout",
     "output_type": "stream",
     "text": [
      "<class 'pandas.core.frame.DataFrame'>\n",
      "RangeIndex: 9806 entries, 0 to 9805\n",
      "Data columns (total 26 columns):\n",
      " #   Column                             Non-Null Count  Dtype  \n",
      "---  ------                             --------------  -----  \n",
      " 0   Unnamed: 0                         9806 non-null   int64  \n",
      " 1   Code                               9806 non-null   int64  \n",
      " 2   Nom                                9806 non-null   object \n",
      " 3   CodeInsee                          9385 non-null   object \n",
      " 4   Discriminator                      9806 non-null   object \n",
      " 5   DateMandatSignature                9806 non-null   object \n",
      " 6   PrixAchatReel                      9806 non-null   float64\n",
      " 7   TypeDeMission                      9806 non-null   int64  \n",
      " 8   TypeDeMandat                       9806 non-null   int64  \n",
      " 9   Lieu                               4055 non-null   object \n",
      " 10  Quartier                           1468 non-null   object \n",
      " 11  TypeBienEnum                       9806 non-null   int64  \n",
      " 12  TypeProjet                         9785 non-null   object \n",
      " 13  BudgetMinEuro                      9806 non-null   int64  \n",
      " 14  BudgetMaxEuro                      9806 non-null   int64  \n",
      " 15  SurfaceMin                         9806 non-null   int64  \n",
      " 16  SurfaceMax                         9806 non-null   int64  \n",
      " 17  NombrePiecesEnum                   9806 non-null   int64  \n",
      " 18  NombreChambresEnum                 9806 non-null   int64  \n",
      " 19  CommentaireTravauxAcceptes         7862 non-null   object \n",
      " 20  AncienNeufBien                     9806 non-null   int64  \n",
      " 21  DescriptionBien_TypeBienEnum       9806 non-null   int64  \n",
      " 22  DescriptionBien_Prix               9806 non-null   int64  \n",
      " 23  Statut                             9806 non-null   int64  \n",
      " 24  CommentaireTravaux                 5981 non-null   object \n",
      " 25  DescriptionBien_DateOffreAcceptee  9806 non-null   object \n",
      "dtypes: float64(1), int64(15), object(10)\n",
      "memory usage: 1.9+ MB\n"
     ]
    }
   ],
   "source": [
    "df.info()"
   ]
  },
  {
   "cell_type": "markdown",
   "id": "c742c688",
   "metadata": {},
   "source": [
    "### drop column "
   ]
  },
  {
   "cell_type": "code",
   "execution_count": 82,
   "id": "18f0b4e7",
   "metadata": {},
   "outputs": [],
   "source": [
    "df=df.drop(columns=\"Unnamed: 0\", axis = 1)"
   ]
  },
  {
   "cell_type": "markdown",
   "id": "75247e71",
   "metadata": {},
   "source": [
    "### analyse nan values in CodeInsee "
   ]
  },
  {
   "cell_type": "code",
   "execution_count": 17,
   "id": "16027554",
   "metadata": {},
   "outputs": [
    {
     "data": {
      "text/html": [
       "<div>\n",
       "<style scoped>\n",
       "    .dataframe tbody tr th:only-of-type {\n",
       "        vertical-align: middle;\n",
       "    }\n",
       "\n",
       "    .dataframe tbody tr th {\n",
       "        vertical-align: top;\n",
       "    }\n",
       "\n",
       "    .dataframe thead th {\n",
       "        text-align: right;\n",
       "    }\n",
       "</style>\n",
       "<table border=\"1\" class=\"dataframe\">\n",
       "  <thead>\n",
       "    <tr style=\"text-align: right;\">\n",
       "      <th></th>\n",
       "      <th>Code</th>\n",
       "      <th>Nom</th>\n",
       "      <th>CodeInsee</th>\n",
       "    </tr>\n",
       "  </thead>\n",
       "  <tbody>\n",
       "    <tr>\n",
       "      <th>0</th>\n",
       "      <td>26</td>\n",
       "      <td>Bourgogne</td>\n",
       "      <td>NaN</td>\n",
       "    </tr>\n",
       "    <tr>\n",
       "      <th>1</th>\n",
       "      <td>82</td>\n",
       "      <td>Rhône-Alpes</td>\n",
       "      <td>NaN</td>\n",
       "    </tr>\n",
       "    <tr>\n",
       "      <th>2</th>\n",
       "      <td>11</td>\n",
       "      <td>Île-de-France</td>\n",
       "      <td>NaN</td>\n",
       "    </tr>\n",
       "    <tr>\n",
       "      <th>3</th>\n",
       "      <td>11</td>\n",
       "      <td>Île-de-France</td>\n",
       "      <td>NaN</td>\n",
       "    </tr>\n",
       "    <tr>\n",
       "      <th>4</th>\n",
       "      <td>11</td>\n",
       "      <td>Île-de-France</td>\n",
       "      <td>NaN</td>\n",
       "    </tr>\n",
       "    <tr>\n",
       "      <th>...</th>\n",
       "      <td>...</td>\n",
       "      <td>...</td>\n",
       "      <td>...</td>\n",
       "    </tr>\n",
       "    <tr>\n",
       "      <th>9801</th>\n",
       "      <td>95170</td>\n",
       "      <td>Deuil La Barre</td>\n",
       "      <td>95197</td>\n",
       "    </tr>\n",
       "    <tr>\n",
       "      <th>9802</th>\n",
       "      <td>95230</td>\n",
       "      <td>Soisy Sous Montmorency</td>\n",
       "      <td>95598</td>\n",
       "    </tr>\n",
       "    <tr>\n",
       "      <th>9803</th>\n",
       "      <td>95880</td>\n",
       "      <td>Enghien Les Bains</td>\n",
       "      <td>95210</td>\n",
       "    </tr>\n",
       "    <tr>\n",
       "      <th>9804</th>\n",
       "      <td>95600</td>\n",
       "      <td>Eaubonne</td>\n",
       "      <td>95203</td>\n",
       "    </tr>\n",
       "    <tr>\n",
       "      <th>9805</th>\n",
       "      <td>6300</td>\n",
       "      <td>Nice</td>\n",
       "      <td>06088</td>\n",
       "    </tr>\n",
       "  </tbody>\n",
       "</table>\n",
       "<p>9806 rows × 3 columns</p>\n",
       "</div>"
      ],
      "text/plain": [
       "       Code                     Nom CodeInsee\n",
       "0        26               Bourgogne       NaN\n",
       "1        82             Rhône-Alpes       NaN\n",
       "2        11           Île-de-France       NaN\n",
       "3        11           Île-de-France       NaN\n",
       "4        11           Île-de-France       NaN\n",
       "...     ...                     ...       ...\n",
       "9801  95170          Deuil La Barre     95197\n",
       "9802  95230  Soisy Sous Montmorency     95598\n",
       "9803  95880       Enghien Les Bains     95210\n",
       "9804  95600                Eaubonne     95203\n",
       "9805   6300                    Nice     06088\n",
       "\n",
       "[9806 rows x 3 columns]"
      ]
     },
     "execution_count": 17,
     "metadata": {},
     "output_type": "execute_result"
    }
   ],
   "source": [
    "test = [\"Code\", \"Nom\", \"CodeInsee\"]\n",
    "df[test]"
   ]
  },
  {
   "cell_type": "code",
   "execution_count": 116,
   "id": "6943ef9e",
   "metadata": {},
   "outputs": [],
   "source": [
    "# NaN in CodeInsee == pas de code pour les regions"
   ]
  },
  {
   "cell_type": "code",
   "execution_count": 117,
   "id": "68d2729b",
   "metadata": {},
   "outputs": [
    {
     "data": {
      "text/plain": [
       "0"
      ]
     },
     "execution_count": 117,
     "metadata": {},
     "output_type": "execute_result"
    }
   ],
   "source": [
    "df[\"CodeInsee\"].isnull().sum()"
   ]
  },
  {
   "cell_type": "markdown",
   "id": "57d80113",
   "metadata": {},
   "source": [
    "### tranform column in categorical"
   ]
  },
  {
   "cell_type": "raw",
   "id": "0ae8e24e",
   "metadata": {},
   "source": [
    "CodeInsee\n",
    "Discriminator \n",
    "TypeProjet\n",
    "Statut"
   ]
  },
  {
   "cell_type": "code",
   "execution_count": 18,
   "id": "f33faf76",
   "metadata": {},
   "outputs": [],
   "source": [
    "df[\"CodeInsee\"].fillna(0, inplace = True) "
   ]
  },
  {
   "cell_type": "code",
   "execution_count": 23,
   "id": "3d0d4a90",
   "metadata": {},
   "outputs": [
    {
     "data": {
      "text/html": [
       "<div>\n",
       "<style scoped>\n",
       "    .dataframe tbody tr th:only-of-type {\n",
       "        vertical-align: middle;\n",
       "    }\n",
       "\n",
       "    .dataframe tbody tr th {\n",
       "        vertical-align: top;\n",
       "    }\n",
       "\n",
       "    .dataframe thead th {\n",
       "        text-align: right;\n",
       "    }\n",
       "</style>\n",
       "<table border=\"1\" class=\"dataframe\">\n",
       "  <thead>\n",
       "    <tr style=\"text-align: right;\">\n",
       "      <th></th>\n",
       "      <th>Unnamed: 0</th>\n",
       "      <th>Code</th>\n",
       "      <th>Nom</th>\n",
       "      <th>CodeInsee</th>\n",
       "      <th>Discriminator</th>\n",
       "      <th>DateMandatSignature</th>\n",
       "      <th>PrixAchatReel</th>\n",
       "      <th>TypeDeMission</th>\n",
       "      <th>TypeDeMandat</th>\n",
       "      <th>Lieu</th>\n",
       "      <th>Quartier</th>\n",
       "      <th>TypeBienEnum</th>\n",
       "      <th>TypeProjet</th>\n",
       "      <th>BudgetMinEuro</th>\n",
       "      <th>BudgetMaxEuro</th>\n",
       "      <th>SurfaceMin</th>\n",
       "      <th>SurfaceMax</th>\n",
       "      <th>NombrePiecesEnum</th>\n",
       "      <th>NombreChambresEnum</th>\n",
       "      <th>CommentaireTravauxAcceptes</th>\n",
       "      <th>AncienNeufBien</th>\n",
       "      <th>DescriptionBien_TypeBienEnum</th>\n",
       "      <th>DescriptionBien_Prix</th>\n",
       "      <th>Statut</th>\n",
       "      <th>CommentaireTravaux</th>\n",
       "      <th>DescriptionBien_DateOffreAcceptee</th>\n",
       "    </tr>\n",
       "  </thead>\n",
       "  <tbody>\n",
       "    <tr>\n",
       "      <th>1818</th>\n",
       "      <td>1818</td>\n",
       "      <td>20000</td>\n",
       "      <td>Ajaccio</td>\n",
       "      <td>2A004</td>\n",
       "      <td>Ville</td>\n",
       "      <td>2021-03-09 00:00:00</td>\n",
       "      <td>590000.0</td>\n",
       "      <td>2</td>\n",
       "      <td>0</td>\n",
       "      <td>NaN</td>\n",
       "      <td>NaN</td>\n",
       "      <td>2</td>\n",
       "      <td>Résidence principale</td>\n",
       "      <td>0</td>\n",
       "      <td>630000</td>\n",
       "      <td>60</td>\n",
       "      <td>0</td>\n",
       "      <td>4</td>\n",
       "      <td>3</td>\n",
       "      <td>NaN</td>\n",
       "      <td>2</td>\n",
       "      <td>1</td>\n",
       "      <td>620000</td>\n",
       "      <td>5</td>\n",
       "      <td>NaN</td>\n",
       "      <td>2021-03-10 00:00:00</td>\n",
       "    </tr>\n",
       "  </tbody>\n",
       "</table>\n",
       "</div>"
      ],
      "text/plain": [
       "      Unnamed: 0   Code      Nom CodeInsee Discriminator  DateMandatSignature  \\\n",
       "1818        1818  20000  Ajaccio     2A004         Ville  2021-03-09 00:00:00   \n",
       "\n",
       "      PrixAchatReel  TypeDeMission  TypeDeMandat Lieu Quartier  TypeBienEnum  \\\n",
       "1818       590000.0              2             0  NaN      NaN             2   \n",
       "\n",
       "                TypeProjet  BudgetMinEuro  BudgetMaxEuro  SurfaceMin  \\\n",
       "1818  Résidence principale              0         630000          60   \n",
       "\n",
       "      SurfaceMax  NombrePiecesEnum  NombreChambresEnum  \\\n",
       "1818           0                 4                   3   \n",
       "\n",
       "     CommentaireTravauxAcceptes  AncienNeufBien  DescriptionBien_TypeBienEnum  \\\n",
       "1818                        NaN               2                             1   \n",
       "\n",
       "      DescriptionBien_Prix  Statut CommentaireTravaux  \\\n",
       "1818                620000       5                NaN   \n",
       "\n",
       "     DescriptionBien_DateOffreAcceptee  \n",
       "1818               2021-03-10 00:00:00  "
      ]
     },
     "execution_count": 23,
     "metadata": {},
     "output_type": "execute_result"
    }
   ],
   "source": [
    "df.loc[df['Code'] == 20000]"
   ]
  },
  {
   "cell_type": "code",
   "execution_count": 24,
   "id": "5a775dad",
   "metadata": {},
   "outputs": [],
   "source": [
    "df[\"CodeInsee\"].replace(\"2A004\", 0, inplace = True)"
   ]
  },
  {
   "cell_type": "code",
   "execution_count": 25,
   "id": "80bd2c29",
   "metadata": {},
   "outputs": [],
   "source": [
    "df[\"CodeInsee\"] = df[\"CodeInsee\"].astype(int)"
   ]
  },
  {
   "cell_type": "code",
   "execution_count": 26,
   "id": "c6fe1a8f",
   "metadata": {},
   "outputs": [
    {
     "data": {
      "text/plain": [
       "dtype('int32')"
      ]
     },
     "execution_count": 26,
     "metadata": {},
     "output_type": "execute_result"
    }
   ],
   "source": [
    "df[\"CodeInsee\"].dtypes"
   ]
  },
  {
   "cell_type": "code",
   "execution_count": 27,
   "id": "7e6a9d1b",
   "metadata": {},
   "outputs": [],
   "source": [
    "df[\"Discriminator\"].replace('Ville',0,inplace=True)\n",
    "df[\"Discriminator\"].replace('Departement',1,inplace=True)\n",
    "df[\"Discriminator\"].replace('Region',2,inplace=True)"
   ]
  },
  {
   "cell_type": "code",
   "execution_count": 28,
   "id": "7ecbaf77",
   "metadata": {},
   "outputs": [
    {
     "data": {
      "text/plain": [
       "dtype('int64')"
      ]
     },
     "execution_count": 28,
     "metadata": {},
     "output_type": "execute_result"
    }
   ],
   "source": [
    "df[\"Discriminator\"].dtypes"
   ]
  },
  {
   "cell_type": "code",
   "execution_count": 29,
   "id": "e7c17bc6",
   "metadata": {},
   "outputs": [],
   "source": [
    "df[\"TypeProjet\"].replace('Investissement',0,inplace=True)\n",
    "df[\"TypeProjet\"].replace('Résidence principale',1,inplace=True)\n",
    "df[\"TypeProjet\"].replace('Résidence secondaire',2,inplace=True)"
   ]
  },
  {
   "cell_type": "code",
   "execution_count": 30,
   "id": "730524be",
   "metadata": {},
   "outputs": [
    {
     "data": {
      "text/plain": [
       "dtype('float64')"
      ]
     },
     "execution_count": 30,
     "metadata": {},
     "output_type": "execute_result"
    }
   ],
   "source": [
    "df[\"TypeProjet\"].dtype"
   ]
  },
  {
   "cell_type": "code",
   "execution_count": 32,
   "id": "c5c67eea",
   "metadata": {},
   "outputs": [
    {
     "data": {
      "text/plain": [
       "21"
      ]
     },
     "execution_count": 32,
     "metadata": {},
     "output_type": "execute_result"
    }
   ],
   "source": [
    "df[\"TypeProjet\"].isnull().sum()"
   ]
  },
  {
   "cell_type": "code",
   "execution_count": 33,
   "id": "283d495b",
   "metadata": {},
   "outputs": [],
   "source": [
    "df[\"TypeProjet\"].fillna(0, inplace = True) "
   ]
  },
  {
   "cell_type": "code",
   "execution_count": 34,
   "id": "249adb55",
   "metadata": {},
   "outputs": [],
   "source": [
    "df[\"TypeProjet\"] = df[\"TypeProjet\"].astype(int)"
   ]
  },
  {
   "cell_type": "code",
   "execution_count": 35,
   "id": "5c53792c",
   "metadata": {},
   "outputs": [
    {
     "name": "stdout",
     "output_type": "stream",
     "text": [
      "<class 'pandas.core.frame.DataFrame'>\n",
      "RangeIndex: 9806 entries, 0 to 9805\n",
      "Data columns (total 26 columns):\n",
      " #   Column                             Non-Null Count  Dtype  \n",
      "---  ------                             --------------  -----  \n",
      " 0   Unnamed: 0                         9806 non-null   int64  \n",
      " 1   Code                               9806 non-null   int64  \n",
      " 2   Nom                                9806 non-null   object \n",
      " 3   CodeInsee                          9806 non-null   int32  \n",
      " 4   Discriminator                      9806 non-null   int64  \n",
      " 5   DateMandatSignature                9806 non-null   object \n",
      " 6   PrixAchatReel                      9806 non-null   float64\n",
      " 7   TypeDeMission                      9806 non-null   int64  \n",
      " 8   TypeDeMandat                       9806 non-null   int64  \n",
      " 9   Lieu                               4055 non-null   object \n",
      " 10  Quartier                           1468 non-null   object \n",
      " 11  TypeBienEnum                       9806 non-null   int64  \n",
      " 12  TypeProjet                         9806 non-null   int32  \n",
      " 13  BudgetMinEuro                      9806 non-null   int64  \n",
      " 14  BudgetMaxEuro                      9806 non-null   int64  \n",
      " 15  SurfaceMin                         9806 non-null   int64  \n",
      " 16  SurfaceMax                         9806 non-null   int64  \n",
      " 17  NombrePiecesEnum                   9806 non-null   int64  \n",
      " 18  NombreChambresEnum                 9806 non-null   int64  \n",
      " 19  CommentaireTravauxAcceptes         7862 non-null   object \n",
      " 20  AncienNeufBien                     9806 non-null   int64  \n",
      " 21  DescriptionBien_TypeBienEnum       9806 non-null   int64  \n",
      " 22  DescriptionBien_Prix               9806 non-null   int64  \n",
      " 23  Statut                             9806 non-null   int64  \n",
      " 24  CommentaireTravaux                 5981 non-null   object \n",
      " 25  DescriptionBien_DateOffreAcceptee  9806 non-null   object \n",
      "dtypes: float64(1), int32(2), int64(16), object(7)\n",
      "memory usage: 1.9+ MB\n"
     ]
    }
   ],
   "source": [
    "df.info()"
   ]
  },
  {
   "cell_type": "markdown",
   "id": "47b26c7f",
   "metadata": {},
   "source": [
    "### Condition sur colonne Statut "
   ]
  },
  {
   "cell_type": "code",
   "execution_count": 86,
   "id": "f5b1a92c",
   "metadata": {},
   "outputs": [],
   "source": [
    "value_1 = [5, 6]\n",
    "df = df[df.Statut.isin(value_1)]"
   ]
  },
  {
   "cell_type": "code",
   "execution_count": 90,
   "id": "e768f96b",
   "metadata": {},
   "outputs": [
    {
     "data": {
      "text/plain": [
       "5    3558\n",
       "4      91\n",
       "Name: Statut, dtype: int64"
      ]
     },
     "execution_count": 90,
     "metadata": {},
     "output_type": "execute_result"
    }
   ],
   "source": [
    "df[\"Statut\"].value_counts()"
   ]
  },
  {
   "cell_type": "markdown",
   "id": "831da42d",
   "metadata": {},
   "source": [
    "### Transformation des colonnes dates en datetime"
   ]
  },
  {
   "cell_type": "code",
   "execution_count": null,
   "id": "3b8efe43",
   "metadata": {},
   "outputs": [],
   "source": [
    "df[\"DateMandatSignature\"]."
   ]
  },
  {
   "cell_type": "code",
   "execution_count": 39,
   "id": "5e665adf",
   "metadata": {},
   "outputs": [
    {
     "data": {
      "text/plain": [
       "0      2020-08-28 00:00:00\n",
       "1      2020-08-28 00:00:00\n",
       "2      2018-06-14 10:00:00\n",
       "3      2018-06-12 10:00:00\n",
       "4      2019-02-13 11:00:00\n",
       "               ...        \n",
       "9801   2019-09-12 10:00:00\n",
       "9802   2019-09-12 10:00:00\n",
       "9803   2019-09-12 10:00:00\n",
       "9804   2021-06-23 00:00:00\n",
       "9805   2021-06-27 00:00:00\n",
       "Name: DateMandatSignature, Length: 9806, dtype: datetime64[ns]"
      ]
     },
     "execution_count": 39,
     "metadata": {},
     "output_type": "execute_result"
    }
   ],
   "source": [
    "pd.to_datetime(df[\"DateMandatSignature\"])"
   ]
  },
  {
   "cell_type": "code",
   "execution_count": 41,
   "id": "3fe9f9b0",
   "metadata": {},
   "outputs": [
    {
     "data": {
      "text/plain": [
       "0"
      ]
     },
     "execution_count": 41,
     "metadata": {},
     "output_type": "execute_result"
    }
   ],
   "source": [
    "df[\"DateMandatSignature\"].isnull().sum()"
   ]
  },
  {
   "cell_type": "code",
   "execution_count": 44,
   "id": "c71ac350",
   "metadata": {},
   "outputs": [],
   "source": [
    "df['DateMandatSignature'] = pd.to_datetime(df['DateMandatSignature'])"
   ]
  },
  {
   "cell_type": "code",
   "execution_count": 45,
   "id": "32d79b9c",
   "metadata": {},
   "outputs": [
    {
     "data": {
      "text/plain": [
       "dtype('<M8[ns]')"
      ]
     },
     "execution_count": 45,
     "metadata": {},
     "output_type": "execute_result"
    }
   ],
   "source": [
    "df[\"DateMandatSignature\"].dtypes"
   ]
  },
  {
   "cell_type": "code",
   "execution_count": 46,
   "id": "65e12ed5",
   "metadata": {},
   "outputs": [
    {
     "name": "stdout",
     "output_type": "stream",
     "text": [
      "<class 'pandas.core.frame.DataFrame'>\n",
      "RangeIndex: 9806 entries, 0 to 9805\n",
      "Data columns (total 26 columns):\n",
      " #   Column                             Non-Null Count  Dtype         \n",
      "---  ------                             --------------  -----         \n",
      " 0   Unnamed: 0                         9806 non-null   int64         \n",
      " 1   Code                               9806 non-null   int64         \n",
      " 2   Nom                                9806 non-null   object        \n",
      " 3   CodeInsee                          9806 non-null   int32         \n",
      " 4   Discriminator                      9806 non-null   int64         \n",
      " 5   DateMandatSignature                9806 non-null   datetime64[ns]\n",
      " 6   PrixAchatReel                      9806 non-null   float64       \n",
      " 7   TypeDeMission                      9806 non-null   int64         \n",
      " 8   TypeDeMandat                       9806 non-null   int64         \n",
      " 9   Lieu                               4055 non-null   object        \n",
      " 10  Quartier                           1468 non-null   object        \n",
      " 11  TypeBienEnum                       9806 non-null   int64         \n",
      " 12  TypeProjet                         9806 non-null   int32         \n",
      " 13  BudgetMinEuro                      9806 non-null   int64         \n",
      " 14  BudgetMaxEuro                      9806 non-null   int64         \n",
      " 15  SurfaceMin                         9806 non-null   int64         \n",
      " 16  SurfaceMax                         9806 non-null   int64         \n",
      " 17  NombrePiecesEnum                   9806 non-null   int64         \n",
      " 18  NombreChambresEnum                 9806 non-null   int64         \n",
      " 19  CommentaireTravauxAcceptes         7862 non-null   object        \n",
      " 20  AncienNeufBien                     9806 non-null   int64         \n",
      " 21  DescriptionBien_TypeBienEnum       9806 non-null   int64         \n",
      " 22  DescriptionBien_Prix               9806 non-null   int64         \n",
      " 23  Statut                             9806 non-null   int64         \n",
      " 24  CommentaireTravaux                 5981 non-null   object        \n",
      " 25  DescriptionBien_DateOffreAcceptee  9806 non-null   object        \n",
      "dtypes: datetime64[ns](1), float64(1), int32(2), int64(16), object(6)\n",
      "memory usage: 1.9+ MB\n"
     ]
    }
   ],
   "source": [
    "df.info()"
   ]
  },
  {
   "cell_type": "code",
   "execution_count": 47,
   "id": "718f01a4",
   "metadata": {},
   "outputs": [
    {
     "data": {
      "text/plain": [
       "0"
      ]
     },
     "execution_count": 47,
     "metadata": {},
     "output_type": "execute_result"
    }
   ],
   "source": [
    "df[\"DescriptionBien_DateOffreAcceptee\"].isnull().sum()"
   ]
  },
  {
   "cell_type": "code",
   "execution_count": 48,
   "id": "d02b1241",
   "metadata": {},
   "outputs": [],
   "source": [
    "df['DescriptionBien_DateOffreAcceptee'] = pd.to_datetime(df['DescriptionBien_DateOffreAcceptee'])"
   ]
  },
  {
   "cell_type": "code",
   "execution_count": 49,
   "id": "5a01759f",
   "metadata": {},
   "outputs": [
    {
     "data": {
      "text/plain": [
       "dtype('<M8[ns]')"
      ]
     },
     "execution_count": 49,
     "metadata": {},
     "output_type": "execute_result"
    }
   ],
   "source": [
    "df['DescriptionBien_DateOffreAcceptee'].dtypes"
   ]
  },
  {
   "cell_type": "code",
   "execution_count": 227,
   "id": "5f926bb6",
   "metadata": {},
   "outputs": [
    {
     "data": {
      "text/plain": [
       "Timestamp('2017-04-06 10:00:00')"
      ]
     },
     "execution_count": 227,
     "metadata": {},
     "output_type": "execute_result"
    }
   ],
   "source": [
    "df['DescriptionBien_DateOffreAcceptee'].min()"
   ]
  },
  {
   "cell_type": "code",
   "execution_count": 226,
   "id": "127286fd",
   "metadata": {},
   "outputs": [
    {
     "data": {
      "text/plain": [
       "Timestamp('2021-07-27 00:00:00')"
      ]
     },
     "execution_count": 226,
     "metadata": {},
     "output_type": "execute_result"
    }
   ],
   "source": [
    "df['DescriptionBien_DateOffreAcceptee'].max()"
   ]
  },
  {
   "cell_type": "code",
   "execution_count": 228,
   "id": "6b1c9664",
   "metadata": {},
   "outputs": [
    {
     "data": {
      "text/plain": [
       "2021-03-09 00:00:00    102\n",
       "2021-07-05 00:00:00     62\n",
       "2021-02-05 11:00:00     49\n",
       "2021-03-26 00:00:00     47\n",
       "2021-01-15 11:00:00     43\n",
       "                      ... \n",
       "2020-10-07 10:00:00      1\n",
       "2019-08-28 10:00:00      1\n",
       "2020-10-31 11:00:00      1\n",
       "2018-11-09 11:00:00      1\n",
       "2020-05-23 10:00:00      1\n",
       "Name: DescriptionBien_DateOffreAcceptee, Length: 430, dtype: int64"
      ]
     },
     "execution_count": 228,
     "metadata": {},
     "output_type": "execute_result"
    }
   ],
   "source": [
    "df['DescriptionBien_DateOffreAcceptee'].value_counts()"
   ]
  },
  {
   "cell_type": "code",
   "execution_count": 50,
   "id": "2eafb8d0",
   "metadata": {},
   "outputs": [],
   "source": [
    "df[\"DureeMandat\"] = df[\"DescriptionBien_DateOffreAcceptee\"] - df[\"DateMandatSignature\"]"
   ]
  },
  {
   "cell_type": "code",
   "execution_count": 51,
   "id": "4d79f287",
   "metadata": {},
   "outputs": [
    {
     "data": {
      "text/plain": [
       "dtype('<m8[ns]')"
      ]
     },
     "execution_count": 51,
     "metadata": {},
     "output_type": "execute_result"
    }
   ],
   "source": [
    "df[\"DureeMandat\"].dtypes"
   ]
  },
  {
   "cell_type": "code",
   "execution_count": 229,
   "id": "d6e9bc7e",
   "metadata": {},
   "outputs": [
    {
     "data": {
      "text/plain": [
       "557"
      ]
     },
     "execution_count": 229,
     "metadata": {},
     "output_type": "execute_result"
    }
   ],
   "source": [
    "df[\"DureeMandat\"].max()"
   ]
  },
  {
   "cell_type": "code",
   "execution_count": 230,
   "id": "aee44f80",
   "metadata": {},
   "outputs": [
    {
     "data": {
      "text/plain": [
       "-140"
      ]
     },
     "execution_count": 230,
     "metadata": {},
     "output_type": "execute_result"
    }
   ],
   "source": [
    "df[\"DureeMandat\"].min()"
   ]
  },
  {
   "cell_type": "code",
   "execution_count": 231,
   "id": "174fbebb",
   "metadata": {},
   "outputs": [
    {
     "data": {
      "text/html": [
       "<div>\n",
       "<style scoped>\n",
       "    .dataframe tbody tr th:only-of-type {\n",
       "        vertical-align: middle;\n",
       "    }\n",
       "\n",
       "    .dataframe tbody tr th {\n",
       "        vertical-align: top;\n",
       "    }\n",
       "\n",
       "    .dataframe thead th {\n",
       "        text-align: right;\n",
       "    }\n",
       "</style>\n",
       "<table border=\"1\" class=\"dataframe\">\n",
       "  <thead>\n",
       "    <tr style=\"text-align: right;\">\n",
       "      <th></th>\n",
       "      <th>Code</th>\n",
       "      <th>Nom</th>\n",
       "      <th>CodeInsee</th>\n",
       "      <th>Discriminator</th>\n",
       "      <th>DateMandatSignature</th>\n",
       "      <th>PrixAchatReel</th>\n",
       "      <th>TypeDeMission</th>\n",
       "      <th>TypeDeMandat</th>\n",
       "      <th>Lieu</th>\n",
       "      <th>Quartier</th>\n",
       "      <th>TypeBienEnum</th>\n",
       "      <th>TypeProjet</th>\n",
       "      <th>BudgetMinEuro</th>\n",
       "      <th>BudgetMaxEuro</th>\n",
       "      <th>SurfaceMin</th>\n",
       "      <th>SurfaceMax</th>\n",
       "      <th>NombrePiecesEnum</th>\n",
       "      <th>NombreChambresEnum</th>\n",
       "      <th>CommentaireTravauxAcceptes</th>\n",
       "      <th>AncienNeufBien</th>\n",
       "      <th>DescriptionBien_TypeBienEnum</th>\n",
       "      <th>DescriptionBien_Prix</th>\n",
       "      <th>Statut</th>\n",
       "      <th>CommentaireTravaux</th>\n",
       "      <th>DescriptionBien_DateOffreAcceptee</th>\n",
       "      <th>DureeMandat</th>\n",
       "    </tr>\n",
       "  </thead>\n",
       "  <tbody>\n",
       "    <tr>\n",
       "      <th>2004</th>\n",
       "      <td>30000</td>\n",
       "      <td>Nimes</td>\n",
       "      <td>30189</td>\n",
       "      <td>0</td>\n",
       "      <td>2021-02-09</td>\n",
       "      <td>0.0</td>\n",
       "      <td>2</td>\n",
       "      <td>0</td>\n",
       "      <td>NaN</td>\n",
       "      <td>NaN</td>\n",
       "      <td>1</td>\n",
       "      <td>0</td>\n",
       "      <td>0</td>\n",
       "      <td>200000</td>\n",
       "      <td>90</td>\n",
       "      <td>0</td>\n",
       "      <td>4</td>\n",
       "      <td>3</td>\n",
       "      <td>Travaux de petite rénovation si ça rentre dans...</td>\n",
       "      <td>2</td>\n",
       "      <td>1</td>\n",
       "      <td>239000</td>\n",
       "      <td>4</td>\n",
       "      <td>Aucun travaux à prévoir si ce n'est d'aménager...</td>\n",
       "      <td>2020-09-22</td>\n",
       "      <td>-140</td>\n",
       "    </tr>\n",
       "    <tr>\n",
       "      <th>2005</th>\n",
       "      <td>30250</td>\n",
       "      <td>Aubais</td>\n",
       "      <td>30019</td>\n",
       "      <td>0</td>\n",
       "      <td>2021-02-09</td>\n",
       "      <td>0.0</td>\n",
       "      <td>2</td>\n",
       "      <td>0</td>\n",
       "      <td>NaN</td>\n",
       "      <td>NaN</td>\n",
       "      <td>1</td>\n",
       "      <td>0</td>\n",
       "      <td>0</td>\n",
       "      <td>200000</td>\n",
       "      <td>90</td>\n",
       "      <td>0</td>\n",
       "      <td>4</td>\n",
       "      <td>3</td>\n",
       "      <td>Travaux de petite rénovation si ça rentre dans...</td>\n",
       "      <td>2</td>\n",
       "      <td>1</td>\n",
       "      <td>239000</td>\n",
       "      <td>4</td>\n",
       "      <td>Aucun travaux à prévoir si ce n'est d'aménager...</td>\n",
       "      <td>2020-09-22</td>\n",
       "      <td>-140</td>\n",
       "    </tr>\n",
       "    <tr>\n",
       "      <th>2006</th>\n",
       "      <td>30250</td>\n",
       "      <td>Sommieres</td>\n",
       "      <td>30321</td>\n",
       "      <td>0</td>\n",
       "      <td>2021-02-09</td>\n",
       "      <td>0.0</td>\n",
       "      <td>2</td>\n",
       "      <td>0</td>\n",
       "      <td>NaN</td>\n",
       "      <td>NaN</td>\n",
       "      <td>1</td>\n",
       "      <td>0</td>\n",
       "      <td>0</td>\n",
       "      <td>200000</td>\n",
       "      <td>90</td>\n",
       "      <td>0</td>\n",
       "      <td>4</td>\n",
       "      <td>3</td>\n",
       "      <td>Travaux de petite rénovation si ça rentre dans...</td>\n",
       "      <td>2</td>\n",
       "      <td>1</td>\n",
       "      <td>239000</td>\n",
       "      <td>4</td>\n",
       "      <td>Aucun travaux à prévoir si ce n'est d'aménager...</td>\n",
       "      <td>2020-09-22</td>\n",
       "      <td>-140</td>\n",
       "    </tr>\n",
       "    <tr>\n",
       "      <th>2007</th>\n",
       "      <td>30310</td>\n",
       "      <td>Vergeze</td>\n",
       "      <td>30344</td>\n",
       "      <td>0</td>\n",
       "      <td>2021-02-09</td>\n",
       "      <td>0.0</td>\n",
       "      <td>2</td>\n",
       "      <td>0</td>\n",
       "      <td>NaN</td>\n",
       "      <td>NaN</td>\n",
       "      <td>1</td>\n",
       "      <td>0</td>\n",
       "      <td>0</td>\n",
       "      <td>200000</td>\n",
       "      <td>90</td>\n",
       "      <td>0</td>\n",
       "      <td>4</td>\n",
       "      <td>3</td>\n",
       "      <td>Travaux de petite rénovation si ça rentre dans...</td>\n",
       "      <td>2</td>\n",
       "      <td>1</td>\n",
       "      <td>239000</td>\n",
       "      <td>4</td>\n",
       "      <td>Aucun travaux à prévoir si ce n'est d'aménager...</td>\n",
       "      <td>2020-09-22</td>\n",
       "      <td>-140</td>\n",
       "    </tr>\n",
       "    <tr>\n",
       "      <th>2008</th>\n",
       "      <td>30540</td>\n",
       "      <td>Milhaud</td>\n",
       "      <td>30169</td>\n",
       "      <td>0</td>\n",
       "      <td>2021-02-09</td>\n",
       "      <td>0.0</td>\n",
       "      <td>2</td>\n",
       "      <td>0</td>\n",
       "      <td>NaN</td>\n",
       "      <td>NaN</td>\n",
       "      <td>1</td>\n",
       "      <td>0</td>\n",
       "      <td>0</td>\n",
       "      <td>200000</td>\n",
       "      <td>90</td>\n",
       "      <td>0</td>\n",
       "      <td>4</td>\n",
       "      <td>3</td>\n",
       "      <td>Travaux de petite rénovation si ça rentre dans...</td>\n",
       "      <td>2</td>\n",
       "      <td>1</td>\n",
       "      <td>239000</td>\n",
       "      <td>4</td>\n",
       "      <td>Aucun travaux à prévoir si ce n'est d'aménager...</td>\n",
       "      <td>2020-09-22</td>\n",
       "      <td>-140</td>\n",
       "    </tr>\n",
       "    <tr>\n",
       "      <th>2009</th>\n",
       "      <td>30620</td>\n",
       "      <td>Aubord</td>\n",
       "      <td>30020</td>\n",
       "      <td>0</td>\n",
       "      <td>2021-02-09</td>\n",
       "      <td>0.0</td>\n",
       "      <td>2</td>\n",
       "      <td>0</td>\n",
       "      <td>NaN</td>\n",
       "      <td>NaN</td>\n",
       "      <td>1</td>\n",
       "      <td>0</td>\n",
       "      <td>0</td>\n",
       "      <td>200000</td>\n",
       "      <td>90</td>\n",
       "      <td>0</td>\n",
       "      <td>4</td>\n",
       "      <td>3</td>\n",
       "      <td>Travaux de petite rénovation si ça rentre dans...</td>\n",
       "      <td>2</td>\n",
       "      <td>1</td>\n",
       "      <td>239000</td>\n",
       "      <td>4</td>\n",
       "      <td>Aucun travaux à prévoir si ce n'est d'aménager...</td>\n",
       "      <td>2020-09-22</td>\n",
       "      <td>-140</td>\n",
       "    </tr>\n",
       "    <tr>\n",
       "      <th>2010</th>\n",
       "      <td>30620</td>\n",
       "      <td>Bernis</td>\n",
       "      <td>30036</td>\n",
       "      <td>0</td>\n",
       "      <td>2021-02-09</td>\n",
       "      <td>0.0</td>\n",
       "      <td>2</td>\n",
       "      <td>0</td>\n",
       "      <td>NaN</td>\n",
       "      <td>NaN</td>\n",
       "      <td>1</td>\n",
       "      <td>0</td>\n",
       "      <td>0</td>\n",
       "      <td>200000</td>\n",
       "      <td>90</td>\n",
       "      <td>0</td>\n",
       "      <td>4</td>\n",
       "      <td>3</td>\n",
       "      <td>Travaux de petite rénovation si ça rentre dans...</td>\n",
       "      <td>2</td>\n",
       "      <td>1</td>\n",
       "      <td>239000</td>\n",
       "      <td>4</td>\n",
       "      <td>Aucun travaux à prévoir si ce n'est d'aménager...</td>\n",
       "      <td>2020-09-22</td>\n",
       "      <td>-140</td>\n",
       "    </tr>\n",
       "    <tr>\n",
       "      <th>2011</th>\n",
       "      <td>30620</td>\n",
       "      <td>Uchaud</td>\n",
       "      <td>30333</td>\n",
       "      <td>0</td>\n",
       "      <td>2021-02-09</td>\n",
       "      <td>0.0</td>\n",
       "      <td>2</td>\n",
       "      <td>0</td>\n",
       "      <td>NaN</td>\n",
       "      <td>NaN</td>\n",
       "      <td>1</td>\n",
       "      <td>0</td>\n",
       "      <td>0</td>\n",
       "      <td>200000</td>\n",
       "      <td>90</td>\n",
       "      <td>0</td>\n",
       "      <td>4</td>\n",
       "      <td>3</td>\n",
       "      <td>Travaux de petite rénovation si ça rentre dans...</td>\n",
       "      <td>2</td>\n",
       "      <td>1</td>\n",
       "      <td>239000</td>\n",
       "      <td>4</td>\n",
       "      <td>Aucun travaux à prévoir si ce n'est d'aménager...</td>\n",
       "      <td>2020-09-22</td>\n",
       "      <td>-140</td>\n",
       "    </tr>\n",
       "    <tr>\n",
       "      <th>2012</th>\n",
       "      <td>34160</td>\n",
       "      <td>Boisseron</td>\n",
       "      <td>34033</td>\n",
       "      <td>0</td>\n",
       "      <td>2021-02-09</td>\n",
       "      <td>0.0</td>\n",
       "      <td>2</td>\n",
       "      <td>0</td>\n",
       "      <td>NaN</td>\n",
       "      <td>NaN</td>\n",
       "      <td>1</td>\n",
       "      <td>0</td>\n",
       "      <td>0</td>\n",
       "      <td>200000</td>\n",
       "      <td>90</td>\n",
       "      <td>0</td>\n",
       "      <td>4</td>\n",
       "      <td>3</td>\n",
       "      <td>Travaux de petite rénovation si ça rentre dans...</td>\n",
       "      <td>2</td>\n",
       "      <td>1</td>\n",
       "      <td>239000</td>\n",
       "      <td>4</td>\n",
       "      <td>Aucun travaux à prévoir si ce n'est d'aménager...</td>\n",
       "      <td>2020-09-22</td>\n",
       "      <td>-140</td>\n",
       "    </tr>\n",
       "  </tbody>\n",
       "</table>\n",
       "</div>"
      ],
      "text/plain": [
       "       Code        Nom  CodeInsee  Discriminator DateMandatSignature  \\\n",
       "2004  30000      Nimes      30189              0          2021-02-09   \n",
       "2005  30250     Aubais      30019              0          2021-02-09   \n",
       "2006  30250  Sommieres      30321              0          2021-02-09   \n",
       "2007  30310    Vergeze      30344              0          2021-02-09   \n",
       "2008  30540    Milhaud      30169              0          2021-02-09   \n",
       "2009  30620     Aubord      30020              0          2021-02-09   \n",
       "2010  30620     Bernis      30036              0          2021-02-09   \n",
       "2011  30620     Uchaud      30333              0          2021-02-09   \n",
       "2012  34160  Boisseron      34033              0          2021-02-09   \n",
       "\n",
       "      PrixAchatReel  TypeDeMission  TypeDeMandat Lieu Quartier  TypeBienEnum  \\\n",
       "2004            0.0              2             0  NaN      NaN             1   \n",
       "2005            0.0              2             0  NaN      NaN             1   \n",
       "2006            0.0              2             0  NaN      NaN             1   \n",
       "2007            0.0              2             0  NaN      NaN             1   \n",
       "2008            0.0              2             0  NaN      NaN             1   \n",
       "2009            0.0              2             0  NaN      NaN             1   \n",
       "2010            0.0              2             0  NaN      NaN             1   \n",
       "2011            0.0              2             0  NaN      NaN             1   \n",
       "2012            0.0              2             0  NaN      NaN             1   \n",
       "\n",
       "      TypeProjet  BudgetMinEuro  BudgetMaxEuro  SurfaceMin  SurfaceMax  \\\n",
       "2004           0              0         200000          90           0   \n",
       "2005           0              0         200000          90           0   \n",
       "2006           0              0         200000          90           0   \n",
       "2007           0              0         200000          90           0   \n",
       "2008           0              0         200000          90           0   \n",
       "2009           0              0         200000          90           0   \n",
       "2010           0              0         200000          90           0   \n",
       "2011           0              0         200000          90           0   \n",
       "2012           0              0         200000          90           0   \n",
       "\n",
       "      NombrePiecesEnum  NombreChambresEnum  \\\n",
       "2004                 4                   3   \n",
       "2005                 4                   3   \n",
       "2006                 4                   3   \n",
       "2007                 4                   3   \n",
       "2008                 4                   3   \n",
       "2009                 4                   3   \n",
       "2010                 4                   3   \n",
       "2011                 4                   3   \n",
       "2012                 4                   3   \n",
       "\n",
       "                             CommentaireTravauxAcceptes  AncienNeufBien  \\\n",
       "2004  Travaux de petite rénovation si ça rentre dans...               2   \n",
       "2005  Travaux de petite rénovation si ça rentre dans...               2   \n",
       "2006  Travaux de petite rénovation si ça rentre dans...               2   \n",
       "2007  Travaux de petite rénovation si ça rentre dans...               2   \n",
       "2008  Travaux de petite rénovation si ça rentre dans...               2   \n",
       "2009  Travaux de petite rénovation si ça rentre dans...               2   \n",
       "2010  Travaux de petite rénovation si ça rentre dans...               2   \n",
       "2011  Travaux de petite rénovation si ça rentre dans...               2   \n",
       "2012  Travaux de petite rénovation si ça rentre dans...               2   \n",
       "\n",
       "      DescriptionBien_TypeBienEnum  DescriptionBien_Prix  Statut  \\\n",
       "2004                             1                239000       4   \n",
       "2005                             1                239000       4   \n",
       "2006                             1                239000       4   \n",
       "2007                             1                239000       4   \n",
       "2008                             1                239000       4   \n",
       "2009                             1                239000       4   \n",
       "2010                             1                239000       4   \n",
       "2011                             1                239000       4   \n",
       "2012                             1                239000       4   \n",
       "\n",
       "                                     CommentaireTravaux  \\\n",
       "2004  Aucun travaux à prévoir si ce n'est d'aménager...   \n",
       "2005  Aucun travaux à prévoir si ce n'est d'aménager...   \n",
       "2006  Aucun travaux à prévoir si ce n'est d'aménager...   \n",
       "2007  Aucun travaux à prévoir si ce n'est d'aménager...   \n",
       "2008  Aucun travaux à prévoir si ce n'est d'aménager...   \n",
       "2009  Aucun travaux à prévoir si ce n'est d'aménager...   \n",
       "2010  Aucun travaux à prévoir si ce n'est d'aménager...   \n",
       "2011  Aucun travaux à prévoir si ce n'est d'aménager...   \n",
       "2012  Aucun travaux à prévoir si ce n'est d'aménager...   \n",
       "\n",
       "     DescriptionBien_DateOffreAcceptee  DureeMandat  \n",
       "2004                        2020-09-22         -140  \n",
       "2005                        2020-09-22         -140  \n",
       "2006                        2020-09-22         -140  \n",
       "2007                        2020-09-22         -140  \n",
       "2008                        2020-09-22         -140  \n",
       "2009                        2020-09-22         -140  \n",
       "2010                        2020-09-22         -140  \n",
       "2011                        2020-09-22         -140  \n",
       "2012                        2020-09-22         -140  "
      ]
     },
     "execution_count": 231,
     "metadata": {},
     "output_type": "execute_result"
    }
   ],
   "source": [
    "df.loc[df['DureeMandat'] == -140]"
   ]
  },
  {
   "cell_type": "code",
   "execution_count": 236,
   "id": "d1df8dda",
   "metadata": {},
   "outputs": [
    {
     "data": {
      "text/html": [
       "<div>\n",
       "<style scoped>\n",
       "    .dataframe tbody tr th:only-of-type {\n",
       "        vertical-align: middle;\n",
       "    }\n",
       "\n",
       "    .dataframe tbody tr th {\n",
       "        vertical-align: top;\n",
       "    }\n",
       "\n",
       "    .dataframe thead th {\n",
       "        text-align: right;\n",
       "    }\n",
       "</style>\n",
       "<table border=\"1\" class=\"dataframe\">\n",
       "  <thead>\n",
       "    <tr style=\"text-align: right;\">\n",
       "      <th></th>\n",
       "      <th>Code</th>\n",
       "      <th>Nom</th>\n",
       "      <th>CodeInsee</th>\n",
       "      <th>Discriminator</th>\n",
       "      <th>DateMandatSignature</th>\n",
       "      <th>PrixAchatReel</th>\n",
       "      <th>TypeDeMission</th>\n",
       "      <th>TypeDeMandat</th>\n",
       "      <th>Lieu</th>\n",
       "      <th>Quartier</th>\n",
       "      <th>TypeBienEnum</th>\n",
       "      <th>TypeProjet</th>\n",
       "      <th>BudgetMinEuro</th>\n",
       "      <th>BudgetMaxEuro</th>\n",
       "      <th>SurfaceMin</th>\n",
       "      <th>SurfaceMax</th>\n",
       "      <th>NombrePiecesEnum</th>\n",
       "      <th>NombreChambresEnum</th>\n",
       "      <th>CommentaireTravauxAcceptes</th>\n",
       "      <th>AncienNeufBien</th>\n",
       "      <th>DescriptionBien_TypeBienEnum</th>\n",
       "      <th>DescriptionBien_Prix</th>\n",
       "      <th>Statut</th>\n",
       "      <th>CommentaireTravaux</th>\n",
       "      <th>DescriptionBien_DateOffreAcceptee</th>\n",
       "      <th>DureeMandat</th>\n",
       "    </tr>\n",
       "  </thead>\n",
       "  <tbody>\n",
       "    <tr>\n",
       "      <th>7597</th>\n",
       "      <td>75010</td>\n",
       "      <td>Paris 10Eme Arrondissement</td>\n",
       "      <td>75110</td>\n",
       "      <td>0</td>\n",
       "      <td>2017-06-22 10:00:00</td>\n",
       "      <td>88000.0</td>\n",
       "      <td>0</td>\n",
       "      <td>0</td>\n",
       "      <td>NaN</td>\n",
       "      <td>NaN</td>\n",
       "      <td>2</td>\n",
       "      <td>1</td>\n",
       "      <td>0</td>\n",
       "      <td>430000</td>\n",
       "      <td>36</td>\n",
       "      <td>0</td>\n",
       "      <td>2</td>\n",
       "      <td>1</td>\n",
       "      <td>NaN</td>\n",
       "      <td>3</td>\n",
       "      <td>2</td>\n",
       "      <td>105000</td>\n",
       "      <td>5</td>\n",
       "      <td>NaN</td>\n",
       "      <td>2019-01-01</td>\n",
       "      <td>557</td>\n",
       "    </tr>\n",
       "    <tr>\n",
       "      <th>7598</th>\n",
       "      <td>75011</td>\n",
       "      <td>Paris 11Eme Arrondissement</td>\n",
       "      <td>75111</td>\n",
       "      <td>0</td>\n",
       "      <td>2017-06-22 10:00:00</td>\n",
       "      <td>88000.0</td>\n",
       "      <td>0</td>\n",
       "      <td>0</td>\n",
       "      <td>NaN</td>\n",
       "      <td>NaN</td>\n",
       "      <td>2</td>\n",
       "      <td>1</td>\n",
       "      <td>0</td>\n",
       "      <td>430000</td>\n",
       "      <td>36</td>\n",
       "      <td>0</td>\n",
       "      <td>2</td>\n",
       "      <td>1</td>\n",
       "      <td>NaN</td>\n",
       "      <td>3</td>\n",
       "      <td>2</td>\n",
       "      <td>105000</td>\n",
       "      <td>5</td>\n",
       "      <td>NaN</td>\n",
       "      <td>2019-01-01</td>\n",
       "      <td>557</td>\n",
       "    </tr>\n",
       "    <tr>\n",
       "      <th>7599</th>\n",
       "      <td>75012</td>\n",
       "      <td>Paris 12Eme Arrondissement</td>\n",
       "      <td>75112</td>\n",
       "      <td>0</td>\n",
       "      <td>2017-06-22 10:00:00</td>\n",
       "      <td>88000.0</td>\n",
       "      <td>0</td>\n",
       "      <td>0</td>\n",
       "      <td>NaN</td>\n",
       "      <td>NaN</td>\n",
       "      <td>2</td>\n",
       "      <td>1</td>\n",
       "      <td>0</td>\n",
       "      <td>430000</td>\n",
       "      <td>36</td>\n",
       "      <td>0</td>\n",
       "      <td>2</td>\n",
       "      <td>1</td>\n",
       "      <td>NaN</td>\n",
       "      <td>3</td>\n",
       "      <td>2</td>\n",
       "      <td>105000</td>\n",
       "      <td>5</td>\n",
       "      <td>NaN</td>\n",
       "      <td>2019-01-01</td>\n",
       "      <td>557</td>\n",
       "    </tr>\n",
       "    <tr>\n",
       "      <th>7600</th>\n",
       "      <td>75017</td>\n",
       "      <td>Paris 17Eme Arrondissement</td>\n",
       "      <td>75117</td>\n",
       "      <td>0</td>\n",
       "      <td>2017-06-22 10:00:00</td>\n",
       "      <td>88000.0</td>\n",
       "      <td>0</td>\n",
       "      <td>0</td>\n",
       "      <td>NaN</td>\n",
       "      <td>NaN</td>\n",
       "      <td>2</td>\n",
       "      <td>1</td>\n",
       "      <td>0</td>\n",
       "      <td>430000</td>\n",
       "      <td>36</td>\n",
       "      <td>0</td>\n",
       "      <td>2</td>\n",
       "      <td>1</td>\n",
       "      <td>NaN</td>\n",
       "      <td>3</td>\n",
       "      <td>2</td>\n",
       "      <td>105000</td>\n",
       "      <td>5</td>\n",
       "      <td>NaN</td>\n",
       "      <td>2019-01-01</td>\n",
       "      <td>557</td>\n",
       "    </tr>\n",
       "  </tbody>\n",
       "</table>\n",
       "</div>"
      ],
      "text/plain": [
       "       Code                         Nom  CodeInsee  Discriminator  \\\n",
       "7597  75010  Paris 10Eme Arrondissement      75110              0   \n",
       "7598  75011  Paris 11Eme Arrondissement      75111              0   \n",
       "7599  75012  Paris 12Eme Arrondissement      75112              0   \n",
       "7600  75017  Paris 17Eme Arrondissement      75117              0   \n",
       "\n",
       "     DateMandatSignature  PrixAchatReel  TypeDeMission  TypeDeMandat Lieu  \\\n",
       "7597 2017-06-22 10:00:00        88000.0              0             0  NaN   \n",
       "7598 2017-06-22 10:00:00        88000.0              0             0  NaN   \n",
       "7599 2017-06-22 10:00:00        88000.0              0             0  NaN   \n",
       "7600 2017-06-22 10:00:00        88000.0              0             0  NaN   \n",
       "\n",
       "     Quartier  TypeBienEnum  TypeProjet  BudgetMinEuro  BudgetMaxEuro  \\\n",
       "7597      NaN             2           1              0         430000   \n",
       "7598      NaN             2           1              0         430000   \n",
       "7599      NaN             2           1              0         430000   \n",
       "7600      NaN             2           1              0         430000   \n",
       "\n",
       "      SurfaceMin  SurfaceMax  NombrePiecesEnum  NombreChambresEnum  \\\n",
       "7597          36           0                 2                   1   \n",
       "7598          36           0                 2                   1   \n",
       "7599          36           0                 2                   1   \n",
       "7600          36           0                 2                   1   \n",
       "\n",
       "     CommentaireTravauxAcceptes  AncienNeufBien  DescriptionBien_TypeBienEnum  \\\n",
       "7597                        NaN               3                             2   \n",
       "7598                        NaN               3                             2   \n",
       "7599                        NaN               3                             2   \n",
       "7600                        NaN               3                             2   \n",
       "\n",
       "      DescriptionBien_Prix  Statut CommentaireTravaux  \\\n",
       "7597                105000       5                NaN   \n",
       "7598                105000       5                NaN   \n",
       "7599                105000       5                NaN   \n",
       "7600                105000       5                NaN   \n",
       "\n",
       "     DescriptionBien_DateOffreAcceptee  DureeMandat  \n",
       "7597                        2019-01-01          557  \n",
       "7598                        2019-01-01          557  \n",
       "7599                        2019-01-01          557  \n",
       "7600                        2019-01-01          557  "
      ]
     },
     "execution_count": 236,
     "metadata": {},
     "output_type": "execute_result"
    }
   ],
   "source": [
    "df.loc[df['DureeMandat'] == 557]"
   ]
  },
  {
   "cell_type": "code",
   "execution_count": null,
   "id": "4de46ee5",
   "metadata": {},
   "outputs": [],
   "source": []
  },
  {
   "cell_type": "code",
   "execution_count": 52,
   "id": "9f1ca863",
   "metadata": {},
   "outputs": [
    {
     "data": {
      "text/html": [
       "<div>\n",
       "<style scoped>\n",
       "    .dataframe tbody tr th:only-of-type {\n",
       "        vertical-align: middle;\n",
       "    }\n",
       "\n",
       "    .dataframe tbody tr th {\n",
       "        vertical-align: top;\n",
       "    }\n",
       "\n",
       "    .dataframe thead th {\n",
       "        text-align: right;\n",
       "    }\n",
       "</style>\n",
       "<table border=\"1\" class=\"dataframe\">\n",
       "  <thead>\n",
       "    <tr style=\"text-align: right;\">\n",
       "      <th></th>\n",
       "      <th>Unnamed: 0</th>\n",
       "      <th>Code</th>\n",
       "      <th>Nom</th>\n",
       "      <th>CodeInsee</th>\n",
       "      <th>Discriminator</th>\n",
       "      <th>DateMandatSignature</th>\n",
       "      <th>PrixAchatReel</th>\n",
       "      <th>TypeDeMission</th>\n",
       "      <th>TypeDeMandat</th>\n",
       "      <th>Lieu</th>\n",
       "      <th>Quartier</th>\n",
       "      <th>TypeBienEnum</th>\n",
       "      <th>TypeProjet</th>\n",
       "      <th>BudgetMinEuro</th>\n",
       "      <th>BudgetMaxEuro</th>\n",
       "      <th>SurfaceMin</th>\n",
       "      <th>SurfaceMax</th>\n",
       "      <th>NombrePiecesEnum</th>\n",
       "      <th>NombreChambresEnum</th>\n",
       "      <th>CommentaireTravauxAcceptes</th>\n",
       "      <th>AncienNeufBien</th>\n",
       "      <th>DescriptionBien_TypeBienEnum</th>\n",
       "      <th>DescriptionBien_Prix</th>\n",
       "      <th>Statut</th>\n",
       "      <th>CommentaireTravaux</th>\n",
       "      <th>DescriptionBien_DateOffreAcceptee</th>\n",
       "      <th>DureeMandat</th>\n",
       "    </tr>\n",
       "  </thead>\n",
       "  <tbody>\n",
       "    <tr>\n",
       "      <th>0</th>\n",
       "      <td>0</td>\n",
       "      <td>26</td>\n",
       "      <td>Bourgogne</td>\n",
       "      <td>0</td>\n",
       "      <td>2</td>\n",
       "      <td>2020-08-28 00:00:00</td>\n",
       "      <td>0.0</td>\n",
       "      <td>2</td>\n",
       "      <td>0</td>\n",
       "      <td>Lyon</td>\n",
       "      <td>NaN</td>\n",
       "      <td>2</td>\n",
       "      <td>0</td>\n",
       "      <td>0</td>\n",
       "      <td>200000</td>\n",
       "      <td>20</td>\n",
       "      <td>0</td>\n",
       "      <td>1</td>\n",
       "      <td>0</td>\n",
       "      <td>oui</td>\n",
       "      <td>2</td>\n",
       "      <td>2</td>\n",
       "      <td>162000</td>\n",
       "      <td>4</td>\n",
       "      <td>Ameublement + électricité</td>\n",
       "      <td>2020-12-04 00:00:00</td>\n",
       "      <td>98 days 00:00:00</td>\n",
       "    </tr>\n",
       "    <tr>\n",
       "      <th>1</th>\n",
       "      <td>1</td>\n",
       "      <td>82</td>\n",
       "      <td>Rhône-Alpes</td>\n",
       "      <td>0</td>\n",
       "      <td>2</td>\n",
       "      <td>2020-08-28 00:00:00</td>\n",
       "      <td>0.0</td>\n",
       "      <td>2</td>\n",
       "      <td>0</td>\n",
       "      <td>Lyon</td>\n",
       "      <td>NaN</td>\n",
       "      <td>2</td>\n",
       "      <td>0</td>\n",
       "      <td>0</td>\n",
       "      <td>200000</td>\n",
       "      <td>20</td>\n",
       "      <td>0</td>\n",
       "      <td>1</td>\n",
       "      <td>0</td>\n",
       "      <td>oui</td>\n",
       "      <td>2</td>\n",
       "      <td>2</td>\n",
       "      <td>162000</td>\n",
       "      <td>4</td>\n",
       "      <td>Ameublement + électricité</td>\n",
       "      <td>2020-12-04 00:00:00</td>\n",
       "      <td>98 days 00:00:00</td>\n",
       "    </tr>\n",
       "    <tr>\n",
       "      <th>2</th>\n",
       "      <td>2</td>\n",
       "      <td>11</td>\n",
       "      <td>Île-de-France</td>\n",
       "      <td>0</td>\n",
       "      <td>2</td>\n",
       "      <td>2018-06-14 10:00:00</td>\n",
       "      <td>85000.0</td>\n",
       "      <td>2</td>\n",
       "      <td>0</td>\n",
       "      <td>Sud Paris</td>\n",
       "      <td>NaN</td>\n",
       "      <td>2</td>\n",
       "      <td>0</td>\n",
       "      <td>0</td>\n",
       "      <td>100000</td>\n",
       "      <td>20</td>\n",
       "      <td>0</td>\n",
       "      <td>1</td>\n",
       "      <td>0</td>\n",
       "      <td>NaN</td>\n",
       "      <td>3</td>\n",
       "      <td>2</td>\n",
       "      <td>90000</td>\n",
       "      <td>6</td>\n",
       "      <td>NaN</td>\n",
       "      <td>2018-06-29 10:00:00</td>\n",
       "      <td>15 days 00:00:00</td>\n",
       "    </tr>\n",
       "    <tr>\n",
       "      <th>3</th>\n",
       "      <td>3</td>\n",
       "      <td>11</td>\n",
       "      <td>Île-de-France</td>\n",
       "      <td>0</td>\n",
       "      <td>2</td>\n",
       "      <td>2018-06-12 10:00:00</td>\n",
       "      <td>497000.0</td>\n",
       "      <td>2</td>\n",
       "      <td>0</td>\n",
       "      <td>NaN</td>\n",
       "      <td>NaN</td>\n",
       "      <td>7</td>\n",
       "      <td>1</td>\n",
       "      <td>0</td>\n",
       "      <td>480000</td>\n",
       "      <td>65</td>\n",
       "      <td>0</td>\n",
       "      <td>3</td>\n",
       "      <td>2</td>\n",
       "      <td>NaN</td>\n",
       "      <td>3</td>\n",
       "      <td>1</td>\n",
       "      <td>533000</td>\n",
       "      <td>6</td>\n",
       "      <td>Non</td>\n",
       "      <td>2018-07-13 10:00:00</td>\n",
       "      <td>31 days 00:00:00</td>\n",
       "    </tr>\n",
       "    <tr>\n",
       "      <th>4</th>\n",
       "      <td>4</td>\n",
       "      <td>11</td>\n",
       "      <td>Île-de-France</td>\n",
       "      <td>0</td>\n",
       "      <td>2</td>\n",
       "      <td>2019-02-13 11:00:00</td>\n",
       "      <td>49500.0</td>\n",
       "      <td>2</td>\n",
       "      <td>0</td>\n",
       "      <td>GRIGNY (91350), BONDY (93140), MAISONS ALFORT ...</td>\n",
       "      <td>NaN</td>\n",
       "      <td>2</td>\n",
       "      <td>0</td>\n",
       "      <td>0</td>\n",
       "      <td>75000</td>\n",
       "      <td>9</td>\n",
       "      <td>0</td>\n",
       "      <td>1</td>\n",
       "      <td>0</td>\n",
       "      <td>Rafraîchissement</td>\n",
       "      <td>2</td>\n",
       "      <td>2</td>\n",
       "      <td>55000</td>\n",
       "      <td>6</td>\n",
       "      <td>Rafraîchissement</td>\n",
       "      <td>2019-04-27 10:00:00</td>\n",
       "      <td>72 days 23:00:00</td>\n",
       "    </tr>\n",
       "  </tbody>\n",
       "</table>\n",
       "</div>"
      ],
      "text/plain": [
       "   Unnamed: 0  Code            Nom  CodeInsee  Discriminator  \\\n",
       "0           0    26      Bourgogne          0              2   \n",
       "1           1    82    Rhône-Alpes          0              2   \n",
       "2           2    11  Île-de-France          0              2   \n",
       "3           3    11  Île-de-France          0              2   \n",
       "4           4    11  Île-de-France          0              2   \n",
       "\n",
       "  DateMandatSignature  PrixAchatReel  TypeDeMission  TypeDeMandat  \\\n",
       "0 2020-08-28 00:00:00            0.0              2             0   \n",
       "1 2020-08-28 00:00:00            0.0              2             0   \n",
       "2 2018-06-14 10:00:00        85000.0              2             0   \n",
       "3 2018-06-12 10:00:00       497000.0              2             0   \n",
       "4 2019-02-13 11:00:00        49500.0              2             0   \n",
       "\n",
       "                                                Lieu Quartier  TypeBienEnum  \\\n",
       "0                                               Lyon      NaN             2   \n",
       "1                                               Lyon      NaN             2   \n",
       "2                                          Sud Paris      NaN             2   \n",
       "3                                                NaN      NaN             7   \n",
       "4  GRIGNY (91350), BONDY (93140), MAISONS ALFORT ...      NaN             2   \n",
       "\n",
       "   TypeProjet  BudgetMinEuro  BudgetMaxEuro  SurfaceMin  SurfaceMax  \\\n",
       "0           0              0         200000          20           0   \n",
       "1           0              0         200000          20           0   \n",
       "2           0              0         100000          20           0   \n",
       "3           1              0         480000          65           0   \n",
       "4           0              0          75000           9           0   \n",
       "\n",
       "   NombrePiecesEnum  NombreChambresEnum CommentaireTravauxAcceptes  \\\n",
       "0                 1                   0                        oui   \n",
       "1                 1                   0                        oui   \n",
       "2                 1                   0                        NaN   \n",
       "3                 3                   2                        NaN   \n",
       "4                 1                   0           Rafraîchissement   \n",
       "\n",
       "   AncienNeufBien  DescriptionBien_TypeBienEnum  DescriptionBien_Prix  Statut  \\\n",
       "0               2                             2                162000       4   \n",
       "1               2                             2                162000       4   \n",
       "2               3                             2                 90000       6   \n",
       "3               3                             1                533000       6   \n",
       "4               2                             2                 55000       6   \n",
       "\n",
       "          CommentaireTravaux DescriptionBien_DateOffreAcceptee  \\\n",
       "0  Ameublement + électricité               2020-12-04 00:00:00   \n",
       "1  Ameublement + électricité               2020-12-04 00:00:00   \n",
       "2                        NaN               2018-06-29 10:00:00   \n",
       "3                        Non               2018-07-13 10:00:00   \n",
       "4           Rafraîchissement               2019-04-27 10:00:00   \n",
       "\n",
       "       DureeMandat  \n",
       "0 98 days 00:00:00  \n",
       "1 98 days 00:00:00  \n",
       "2 15 days 00:00:00  \n",
       "3 31 days 00:00:00  \n",
       "4 72 days 23:00:00  "
      ]
     },
     "execution_count": 52,
     "metadata": {},
     "output_type": "execute_result"
    }
   ],
   "source": [
    "df.head()"
   ]
  },
  {
   "cell_type": "code",
   "execution_count": 54,
   "id": "f8124e45",
   "metadata": {},
   "outputs": [],
   "source": [
    "df['DureeMandat'] = df['DureeMandat'].dt.days.astype('int16')"
   ]
  },
  {
   "cell_type": "code",
   "execution_count": 55,
   "id": "f04a3439",
   "metadata": {},
   "outputs": [
    {
     "data": {
      "text/plain": [
       "dtype('int16')"
      ]
     },
     "execution_count": 55,
     "metadata": {},
     "output_type": "execute_result"
    }
   ],
   "source": [
    "df[\"DureeMandat\"].dtypes"
   ]
  },
  {
   "cell_type": "code",
   "execution_count": null,
   "id": "af4bf79f",
   "metadata": {},
   "outputs": [],
   "source": []
  },
  {
   "cell_type": "code",
   "execution_count": 213,
   "id": "38b43de9",
   "metadata": {},
   "outputs": [],
   "source": [
    "df.to_csv(\"df.csv\")"
   ]
  },
  {
   "cell_type": "code",
   "execution_count": 212,
   "id": "4bb53fcc",
   "metadata": {},
   "outputs": [
    {
     "data": {
      "image/png": "[encoded data removed]",
      "text/plain": [
       "<Figure size 576x576 with 1 Axes>"
      ]
     },
     "metadata": {
      "needs_background": "light"
     },
     "output_type": "display_data"
    }
   ],
   "source": [
    "df[\"DureeMandat\"].hist(figsize=(8,8))\n",
    "plt.show()"
   ]
  },
  {
   "cell_type": "code",
   "execution_count": null,
   "id": "87195ed8",
   "metadata": {},
   "outputs": [],
   "source": []
  },
  {
   "cell_type": "code",
   "execution_count": 56,
   "id": "94523d9d",
   "metadata": {},
   "outputs": [
    {
     "data": {
      "text/html": [
       "<div>\n",
       "<style scoped>\n",
       "    .dataframe tbody tr th:only-of-type {\n",
       "        vertical-align: middle;\n",
       "    }\n",
       "\n",
       "    .dataframe tbody tr th {\n",
       "        vertical-align: top;\n",
       "    }\n",
       "\n",
       "    .dataframe thead th {\n",
       "        text-align: right;\n",
       "    }\n",
       "</style>\n",
       "<table border=\"1\" class=\"dataframe\">\n",
       "  <thead>\n",
       "    <tr style=\"text-align: right;\">\n",
       "      <th></th>\n",
       "      <th>Unnamed: 0</th>\n",
       "      <th>Code</th>\n",
       "      <th>Nom</th>\n",
       "      <th>CodeInsee</th>\n",
       "      <th>Discriminator</th>\n",
       "      <th>DateMandatSignature</th>\n",
       "      <th>PrixAchatReel</th>\n",
       "      <th>TypeDeMission</th>\n",
       "      <th>TypeDeMandat</th>\n",
       "      <th>Lieu</th>\n",
       "      <th>Quartier</th>\n",
       "      <th>TypeBienEnum</th>\n",
       "      <th>TypeProjet</th>\n",
       "      <th>BudgetMinEuro</th>\n",
       "      <th>BudgetMaxEuro</th>\n",
       "      <th>SurfaceMin</th>\n",
       "      <th>SurfaceMax</th>\n",
       "      <th>NombrePiecesEnum</th>\n",
       "      <th>NombreChambresEnum</th>\n",
       "      <th>CommentaireTravauxAcceptes</th>\n",
       "      <th>AncienNeufBien</th>\n",
       "      <th>DescriptionBien_TypeBienEnum</th>\n",
       "      <th>DescriptionBien_Prix</th>\n",
       "      <th>Statut</th>\n",
       "      <th>CommentaireTravaux</th>\n",
       "      <th>DescriptionBien_DateOffreAcceptee</th>\n",
       "      <th>DureeMandat</th>\n",
       "    </tr>\n",
       "  </thead>\n",
       "  <tbody>\n",
       "    <tr>\n",
       "      <th>0</th>\n",
       "      <td>0</td>\n",
       "      <td>26</td>\n",
       "      <td>Bourgogne</td>\n",
       "      <td>0</td>\n",
       "      <td>2</td>\n",
       "      <td>2020-08-28 00:00:00</td>\n",
       "      <td>0.0</td>\n",
       "      <td>2</td>\n",
       "      <td>0</td>\n",
       "      <td>Lyon</td>\n",
       "      <td>NaN</td>\n",
       "      <td>2</td>\n",
       "      <td>0</td>\n",
       "      <td>0</td>\n",
       "      <td>200000</td>\n",
       "      <td>20</td>\n",
       "      <td>0</td>\n",
       "      <td>1</td>\n",
       "      <td>0</td>\n",
       "      <td>oui</td>\n",
       "      <td>2</td>\n",
       "      <td>2</td>\n",
       "      <td>162000</td>\n",
       "      <td>4</td>\n",
       "      <td>Ameublement + électricité</td>\n",
       "      <td>2020-12-04 00:00:00</td>\n",
       "      <td>98</td>\n",
       "    </tr>\n",
       "    <tr>\n",
       "      <th>1</th>\n",
       "      <td>1</td>\n",
       "      <td>82</td>\n",
       "      <td>Rhône-Alpes</td>\n",
       "      <td>0</td>\n",
       "      <td>2</td>\n",
       "      <td>2020-08-28 00:00:00</td>\n",
       "      <td>0.0</td>\n",
       "      <td>2</td>\n",
       "      <td>0</td>\n",
       "      <td>Lyon</td>\n",
       "      <td>NaN</td>\n",
       "      <td>2</td>\n",
       "      <td>0</td>\n",
       "      <td>0</td>\n",
       "      <td>200000</td>\n",
       "      <td>20</td>\n",
       "      <td>0</td>\n",
       "      <td>1</td>\n",
       "      <td>0</td>\n",
       "      <td>oui</td>\n",
       "      <td>2</td>\n",
       "      <td>2</td>\n",
       "      <td>162000</td>\n",
       "      <td>4</td>\n",
       "      <td>Ameublement + électricité</td>\n",
       "      <td>2020-12-04 00:00:00</td>\n",
       "      <td>98</td>\n",
       "    </tr>\n",
       "    <tr>\n",
       "      <th>2</th>\n",
       "      <td>2</td>\n",
       "      <td>11</td>\n",
       "      <td>Île-de-France</td>\n",
       "      <td>0</td>\n",
       "      <td>2</td>\n",
       "      <td>2018-06-14 10:00:00</td>\n",
       "      <td>85000.0</td>\n",
       "      <td>2</td>\n",
       "      <td>0</td>\n",
       "      <td>Sud Paris</td>\n",
       "      <td>NaN</td>\n",
       "      <td>2</td>\n",
       "      <td>0</td>\n",
       "      <td>0</td>\n",
       "      <td>100000</td>\n",
       "      <td>20</td>\n",
       "      <td>0</td>\n",
       "      <td>1</td>\n",
       "      <td>0</td>\n",
       "      <td>NaN</td>\n",
       "      <td>3</td>\n",
       "      <td>2</td>\n",
       "      <td>90000</td>\n",
       "      <td>6</td>\n",
       "      <td>NaN</td>\n",
       "      <td>2018-06-29 10:00:00</td>\n",
       "      <td>15</td>\n",
       "    </tr>\n",
       "    <tr>\n",
       "      <th>3</th>\n",
       "      <td>3</td>\n",
       "      <td>11</td>\n",
       "      <td>Île-de-France</td>\n",
       "      <td>0</td>\n",
       "      <td>2</td>\n",
       "      <td>2018-06-12 10:00:00</td>\n",
       "      <td>497000.0</td>\n",
       "      <td>2</td>\n",
       "      <td>0</td>\n",
       "      <td>NaN</td>\n",
       "      <td>NaN</td>\n",
       "      <td>7</td>\n",
       "      <td>1</td>\n",
       "      <td>0</td>\n",
       "      <td>480000</td>\n",
       "      <td>65</td>\n",
       "      <td>0</td>\n",
       "      <td>3</td>\n",
       "      <td>2</td>\n",
       "      <td>NaN</td>\n",
       "      <td>3</td>\n",
       "      <td>1</td>\n",
       "      <td>533000</td>\n",
       "      <td>6</td>\n",
       "      <td>Non</td>\n",
       "      <td>2018-07-13 10:00:00</td>\n",
       "      <td>31</td>\n",
       "    </tr>\n",
       "    <tr>\n",
       "      <th>4</th>\n",
       "      <td>4</td>\n",
       "      <td>11</td>\n",
       "      <td>Île-de-France</td>\n",
       "      <td>0</td>\n",
       "      <td>2</td>\n",
       "      <td>2019-02-13 11:00:00</td>\n",
       "      <td>49500.0</td>\n",
       "      <td>2</td>\n",
       "      <td>0</td>\n",
       "      <td>GRIGNY (91350), BONDY (93140), MAISONS ALFORT ...</td>\n",
       "      <td>NaN</td>\n",
       "      <td>2</td>\n",
       "      <td>0</td>\n",
       "      <td>0</td>\n",
       "      <td>75000</td>\n",
       "      <td>9</td>\n",
       "      <td>0</td>\n",
       "      <td>1</td>\n",
       "      <td>0</td>\n",
       "      <td>Rafraîchissement</td>\n",
       "      <td>2</td>\n",
       "      <td>2</td>\n",
       "      <td>55000</td>\n",
       "      <td>6</td>\n",
       "      <td>Rafraîchissement</td>\n",
       "      <td>2019-04-27 10:00:00</td>\n",
       "      <td>72</td>\n",
       "    </tr>\n",
       "  </tbody>\n",
       "</table>\n",
       "</div>"
      ],
      "text/plain": [
       "   Unnamed: 0  Code            Nom  CodeInsee  Discriminator  \\\n",
       "0           0    26      Bourgogne          0              2   \n",
       "1           1    82    Rhône-Alpes          0              2   \n",
       "2           2    11  Île-de-France          0              2   \n",
       "3           3    11  Île-de-France          0              2   \n",
       "4           4    11  Île-de-France          0              2   \n",
       "\n",
       "  DateMandatSignature  PrixAchatReel  TypeDeMission  TypeDeMandat  \\\n",
       "0 2020-08-28 00:00:00            0.0              2             0   \n",
       "1 2020-08-28 00:00:00            0.0              2             0   \n",
       "2 2018-06-14 10:00:00        85000.0              2             0   \n",
       "3 2018-06-12 10:00:00       497000.0              2             0   \n",
       "4 2019-02-13 11:00:00        49500.0              2             0   \n",
       "\n",
       "                                                Lieu Quartier  TypeBienEnum  \\\n",
       "0                                               Lyon      NaN             2   \n",
       "1                                               Lyon      NaN             2   \n",
       "2                                          Sud Paris      NaN             2   \n",
       "3                                                NaN      NaN             7   \n",
       "4  GRIGNY (91350), BONDY (93140), MAISONS ALFORT ...      NaN             2   \n",
       "\n",
       "   TypeProjet  BudgetMinEuro  BudgetMaxEuro  SurfaceMin  SurfaceMax  \\\n",
       "0           0              0         200000          20           0   \n",
       "1           0              0         200000          20           0   \n",
       "2           0              0         100000          20           0   \n",
       "3           1              0         480000          65           0   \n",
       "4           0              0          75000           9           0   \n",
       "\n",
       "   NombrePiecesEnum  NombreChambresEnum CommentaireTravauxAcceptes  \\\n",
       "0                 1                   0                        oui   \n",
       "1                 1                   0                        oui   \n",
       "2                 1                   0                        NaN   \n",
       "3                 3                   2                        NaN   \n",
       "4                 1                   0           Rafraîchissement   \n",
       "\n",
       "   AncienNeufBien  DescriptionBien_TypeBienEnum  DescriptionBien_Prix  Statut  \\\n",
       "0               2                             2                162000       4   \n",
       "1               2                             2                162000       4   \n",
       "2               3                             2                 90000       6   \n",
       "3               3                             1                533000       6   \n",
       "4               2                             2                 55000       6   \n",
       "\n",
       "          CommentaireTravaux DescriptionBien_DateOffreAcceptee  DureeMandat  \n",
       "0  Ameublement + électricité               2020-12-04 00:00:00           98  \n",
       "1  Ameublement + électricité               2020-12-04 00:00:00           98  \n",
       "2                        NaN               2018-06-29 10:00:00           15  \n",
       "3                        Non               2018-07-13 10:00:00           31  \n",
       "4           Rafraîchissement               2019-04-27 10:00:00           72  "
      ]
     },
     "execution_count": 56,
     "metadata": {},
     "output_type": "execute_result"
    }
   ],
   "source": [
    "df.head()"
   ]
  },
  {
   "cell_type": "markdown",
   "id": "8706e7d9",
   "metadata": {},
   "source": [
    "### Verification des variables "
   ]
  },
  {
   "cell_type": "code",
   "execution_count": 114,
   "id": "e822b3e2",
   "metadata": {},
   "outputs": [
    {
     "name": "stdout",
     "output_type": "stream",
     "text": [
      "Code : 721 uniques variable(s)\n",
      "CodeInsee : 933 uniques variable(s)\n",
      "Discriminator : 3 uniques variable(s)\n",
      "PrixAchatReel : 468 uniques variable(s)\n",
      "TypeDeMission : 5 uniques variable(s)\n",
      "TypeDeMandat : 3 uniques variable(s)\n",
      "TypeBienEnum : 9 uniques variable(s)\n",
      "TypeProjet : 3 uniques variable(s)\n",
      "BudgetMinEuro : 25 uniques variable(s)\n",
      "BudgetMaxEuro : 149 uniques variable(s)\n",
      "SurfaceMin : 62 uniques variable(s)\n",
      "SurfaceMax : 1 uniques variable(s)\n",
      "NombrePiecesEnum : 7 uniques variable(s)\n",
      "NombreChambresEnum : 7 uniques variable(s)\n",
      "AncienNeufBien : 4 uniques variable(s)\n",
      "DescriptionBien_TypeBienEnum : 8 uniques variable(s)\n",
      "DescriptionBien_Prix : 489 uniques variable(s)\n",
      "Statut : 2 uniques variable(s)\n",
      "DureeMandat : 192 uniques variable(s)\n"
     ]
    }
   ],
   "source": [
    "numeric = df.select_dtypes(include=[np.number]).columns\n",
    "for num_col in numeric:\n",
    "    print(f\"{num_col} : {df[num_col].nunique()} uniques variable(s)\")"
   ]
  },
  {
   "cell_type": "code",
   "execution_count": 101,
   "id": "301cb772",
   "metadata": {},
   "outputs": [
    {
     "data": {
      "image/png": "[encoded data removed]",
      "text/plain": [
       "<Figure size 1440x1152 with 2 Axes>"
      ]
     },
     "metadata": {
      "needs_background": "light"
     },
     "output_type": "display_data"
    }
   ],
   "source": [
    "sns.heatmap(\n",
    "    data=df.corr(),\n",
    "    annot=True,\n",
    "    fmt='.2f',\n",
    "    cmap='RdYlGn'\n",
    ")\n",
    "\n",
    "fig = plt.gcf()\n",
    "fig.set_size_inches(20, 16)\n",
    "\n",
    "plt.show()"
   ]
  },
  {
   "cell_type": "markdown",
   "id": "a9efc77e",
   "metadata": {},
   "source": [
    "####         Dataset"
   ]
  },
  {
   "cell_type": "code",
   "execution_count": 215,
   "id": "c7853f97",
   "metadata": {},
   "outputs": [
    {
     "data": {
      "text/plain": [
       "(3649, 16)"
      ]
     },
     "execution_count": 215,
     "metadata": {},
     "output_type": "execute_result"
    }
   ],
   "source": [
    "# x, mes variables independantes\n",
    "x = df[[\"Code\",\"CodeInsee\", \"Discriminator\", \"PrixAchatReel\",\"TypeDeMission\",\"TypeBienEnum\",\"TypeProjet\",\"BudgetMinEuro\", \"BudgetMaxEuro\", \"SurfaceMin\", \"NombrePiecesEnum\", \"NombreChambresEnum\", \"AncienNeufBien\", \"DescriptionBien_TypeBienEnum\", \"DescriptionBien_Prix\", \"Statut\"]]\n",
    "x.shape"
   ]
  },
  {
   "cell_type": "code",
   "execution_count": 216,
   "id": "df20d230",
   "metadata": {},
   "outputs": [
    {
     "data": {
      "text/plain": [
       "(3649,)"
      ]
     },
     "execution_count": 216,
     "metadata": {},
     "output_type": "execute_result"
    }
   ],
   "source": [
    "# y, ma varible dependante\n",
    "y = df[\"DureeMandat\"]\n",
    "y.shape"
   ]
  },
  {
   "cell_type": "code",
   "execution_count": 217,
   "id": "c2e29f88",
   "metadata": {},
   "outputs": [],
   "source": [
    "# separation du jeu d'entrainement et du jeu de test\n",
    "# jeu d'entrainement / apprentissage du modèle\n",
    "# jeu de test == test du modèle\n",
    "from sklearn.model_selection import train_test_split\n",
    "x_train, x_test, y_train, y_test = train_test_split(x,y, test_size = 0.3, random_state =42 )"
   ]
  },
  {
   "cell_type": "markdown",
   "id": "3f07bc5a",
   "metadata": {},
   "source": [
    "#### Modèle"
   ]
  },
  {
   "cell_type": "markdown",
   "id": "439bcb9a",
   "metadata": {},
   "source": [
    "##### Regression Lineaire Multiple"
   ]
  },
  {
   "cell_type": "code",
   "execution_count": null,
   "id": "3ba2f48f",
   "metadata": {},
   "outputs": [],
   "source": []
  },
  {
   "cell_type": "code",
   "execution_count": null,
   "id": "b38edc14",
   "metadata": {},
   "outputs": [],
   "source": []
  },
  {
   "cell_type": "code",
   "execution_count": null,
   "id": "cbc91da0",
   "metadata": {},
   "outputs": [],
   "source": []
  },
  {
   "cell_type": "code",
   "execution_count": null,
   "id": "ec361ddc",
   "metadata": {},
   "outputs": [],
   "source": []
  },
  {
   "cell_type": "code",
   "execution_count": null,
   "id": "030cef89",
   "metadata": {},
   "outputs": [],
   "source": []
  },
  {
   "cell_type": "code",
   "execution_count": null,
   "id": "37a2432b",
   "metadata": {},
   "outputs": [],
   "source": []
  },
  {
   "cell_type": "code",
   "execution_count": null,
   "id": "b3a204d2",
   "metadata": {},
   "outputs": [],
   "source": []
  },
  {
   "cell_type": "code",
   "execution_count": null,
   "id": "2eb65ae1",
   "metadata": {},
   "outputs": [],
   "source": []
  },
  {
   "cell_type": "code",
   "execution_count": null,
   "id": "4b8db624",
   "metadata": {},
   "outputs": [],
   "source": []
  },
  {
   "cell_type": "code",
   "execution_count": null,
   "id": "973f0b47",
   "metadata": {},
   "outputs": [],
   "source": []
  },
  {
   "cell_type": "code",
   "execution_count": null,
   "id": "1d496333",
   "metadata": {},
   "outputs": [],
   "source": []
  },
  {
   "cell_type": "code",
   "execution_count": null,
   "id": "85ac14c9",
   "metadata": {},
   "outputs": [],
   "source": []
  },
  {
   "cell_type": "code",
   "execution_count": null,
   "id": "2ca6eaca",
   "metadata": {},
   "outputs": [],
   "source": []
  },
  {
   "cell_type": "code",
   "execution_count": 218,
   "id": "89059a54",
   "metadata": {},
   "outputs": [],
   "source": [
    "from sklearn.linear_model import LinearRegression"
   ]
  },
  {
   "cell_type": "code",
   "execution_count": 219,
   "id": "92cf17dd",
   "metadata": {},
   "outputs": [
    {
     "data": {
      "text/plain": [
       "LinearRegression()"
      ]
     },
     "execution_count": 219,
     "metadata": {},
     "output_type": "execute_result"
    }
   ],
   "source": [
    "regr = LinearRegression()\n",
    "regr.fit(x_train, y_train)"
   ]
  },
  {
   "cell_type": "code",
   "execution_count": 220,
   "id": "7179d2cd",
   "metadata": {},
   "outputs": [
    {
     "data": {
      "text/plain": [
       "{'copy_X': True,\n",
       " 'fit_intercept': True,\n",
       " 'n_jobs': None,\n",
       " 'normalize': False,\n",
       " 'positive': False}"
      ]
     },
     "execution_count": 220,
     "metadata": {},
     "output_type": "execute_result"
    }
   ],
   "source": [
    "regr.get_params()"
   ]
  },
  {
   "cell_type": "code",
   "execution_count": 221,
   "id": "45cb7661",
   "metadata": {},
   "outputs": [
    {
     "data": {
      "text/plain": [
       "LinearRegression()"
      ]
     },
     "execution_count": 221,
     "metadata": {},
     "output_type": "execute_result"
    }
   ],
   "source": [
    "regr.set_params()"
   ]
  },
  {
   "cell_type": "code",
   "execution_count": 222,
   "id": "a1e6bd32",
   "metadata": {},
   "outputs": [
    {
     "data": {
      "text/plain": [
       "0.024794156383551313"
      ]
     },
     "execution_count": 222,
     "metadata": {},
     "output_type": "execute_result"
    }
   ],
   "source": [
    "# coeficient de determination r² de la methode des moindres carrés\n",
    "regr.score(x_test,y_test)"
   ]
  },
  {
   "cell_type": "code",
   "execution_count": 223,
   "id": "f8fb0a79",
   "metadata": {},
   "outputs": [],
   "source": [
    "y_pred = regr.predict(x_test)"
   ]
  },
  {
   "cell_type": "code",
   "execution_count": 211,
   "id": "facdcc35",
   "metadata": {},
   "outputs": [
    {
     "data": {
      "text/plain": [
       "Text(0, 0.5, 'Prédictions')"
      ]
     },
     "execution_count": 211,
     "metadata": {},
     "output_type": "execute_result"
    },
    {
     "data": {
      "image/png": "[encoded data removed]",
      "text/plain": [
       "<Figure size 432x288 with 1 Axes>"
      ]
     },
     "metadata": {
      "needs_background": "light"
     },
     "output_type": "display_data"
    }
   ],
   "source": [
    "## La ligne/modèle \n",
    "plt.scatter(y_test, y_pred) \n",
    "plt.xlabel(\"Vraies valeurs\") \n",
    "plt.ylabel(\"Prédictions\")"
   ]
  },
  {
   "cell_type": "code",
   "execution_count": 224,
   "id": "61c13c4e",
   "metadata": {},
   "outputs": [
    {
     "name": "stdout",
     "output_type": "stream",
     "text": [
      "Coefficients: \n",
      " [-3.24028586e-03  3.23774357e-03 -6.80407163e+00 -2.38745059e-05\n",
      " -6.86054151e+00  7.96000796e-01  5.11065623e+00 -1.73005100e-04\n",
      " -1.18036703e-07  9.84227567e-04  3.47785928e+00 -3.17843142e+00\n",
      "  4.06681784e+00 -1.84556921e+00  1.89018158e-05  2.42339725e+01]\n",
      "-67.31645668952609\n"
     ]
    },
    {
     "ename": "ValueError",
     "evalue": "Found input variables with inconsistent numbers of samples: [2554, 1095]",
     "output_type": "error",
     "traceback": [
      "\u001b[1;31m---------------------------------------------------------------------------\u001b[0m",
      "\u001b[1;31mValueError\u001b[0m                                Traceback (most recent call last)",
      "\u001b[1;32m<ipython-input-224-b1f6488a1e79>\u001b[0m in \u001b[0;36m<module>\u001b[1;34m\u001b[0m\n\u001b[0;32m      5\u001b[0m \u001b[0mprint\u001b[0m\u001b[1;33m(\u001b[0m\u001b[0mregr\u001b[0m\u001b[1;33m.\u001b[0m\u001b[0mintercept_\u001b[0m\u001b[1;33m)\u001b[0m\u001b[1;33m\u001b[0m\u001b[1;33m\u001b[0m\u001b[0m\n\u001b[0;32m      6\u001b[0m \u001b[1;31m# Mean squared error\u001b[0m\u001b[1;33m\u001b[0m\u001b[1;33m\u001b[0m\u001b[1;33m\u001b[0m\u001b[0m\n\u001b[1;32m----> 7\u001b[1;33m \u001b[0mprint\u001b[0m\u001b[1;33m(\u001b[0m\u001b[1;34m\"Mean squared error: %.2f\"\u001b[0m \u001b[1;33m%\u001b[0m \u001b[0mmean_squared_error\u001b[0m\u001b[1;33m(\u001b[0m\u001b[0my_train\u001b[0m\u001b[1;33m,\u001b[0m \u001b[0my_pred\u001b[0m\u001b[1;33m)\u001b[0m\u001b[1;33m)\u001b[0m\u001b[1;33m\u001b[0m\u001b[1;33m\u001b[0m\u001b[0m\n\u001b[0m\u001b[0;32m      8\u001b[0m \u001b[1;31m# Variance score\u001b[0m\u001b[1;33m\u001b[0m\u001b[1;33m\u001b[0m\u001b[1;33m\u001b[0m\u001b[0m\n\u001b[0;32m      9\u001b[0m \u001b[0mprint\u001b[0m\u001b[1;33m(\u001b[0m\u001b[1;34m'Variance score: %.2f'\u001b[0m \u001b[1;33m%\u001b[0m \u001b[0mr2_score\u001b[0m\u001b[1;33m(\u001b[0m\u001b[0my_train\u001b[0m\u001b[1;33m,\u001b[0m \u001b[0my_pred\u001b[0m\u001b[1;33m)\u001b[0m\u001b[1;33m)\u001b[0m\u001b[1;33m\u001b[0m\u001b[1;33m\u001b[0m\u001b[0m\n",
      "\u001b[1;32mC:\\anaconda3\\lib\\site-packages\\sklearn\\utils\\validation.py\u001b[0m in \u001b[0;36minner_f\u001b[1;34m(*args, **kwargs)\u001b[0m\n\u001b[0;32m     61\u001b[0m             \u001b[0mextra_args\u001b[0m \u001b[1;33m=\u001b[0m \u001b[0mlen\u001b[0m\u001b[1;33m(\u001b[0m\u001b[0margs\u001b[0m\u001b[1;33m)\u001b[0m \u001b[1;33m-\u001b[0m \u001b[0mlen\u001b[0m\u001b[1;33m(\u001b[0m\u001b[0mall_args\u001b[0m\u001b[1;33m)\u001b[0m\u001b[1;33m\u001b[0m\u001b[1;33m\u001b[0m\u001b[0m\n\u001b[0;32m     62\u001b[0m             \u001b[1;32mif\u001b[0m \u001b[0mextra_args\u001b[0m \u001b[1;33m<=\u001b[0m \u001b[1;36m0\u001b[0m\u001b[1;33m:\u001b[0m\u001b[1;33m\u001b[0m\u001b[1;33m\u001b[0m\u001b[0m\n\u001b[1;32m---> 63\u001b[1;33m                 \u001b[1;32mreturn\u001b[0m \u001b[0mf\u001b[0m\u001b[1;33m(\u001b[0m\u001b[1;33m*\u001b[0m\u001b[0margs\u001b[0m\u001b[1;33m,\u001b[0m \u001b[1;33m**\u001b[0m\u001b[0mkwargs\u001b[0m\u001b[1;33m)\u001b[0m\u001b[1;33m\u001b[0m\u001b[1;33m\u001b[0m\u001b[0m\n\u001b[0m\u001b[0;32m     64\u001b[0m \u001b[1;33m\u001b[0m\u001b[0m\n\u001b[0;32m     65\u001b[0m             \u001b[1;31m# extra_args > 0\u001b[0m\u001b[1;33m\u001b[0m\u001b[1;33m\u001b[0m\u001b[1;33m\u001b[0m\u001b[0m\n",
      "\u001b[1;32mC:\\anaconda3\\lib\\site-packages\\sklearn\\metrics\\_regression.py\u001b[0m in \u001b[0;36mmean_squared_error\u001b[1;34m(y_true, y_pred, sample_weight, multioutput, squared)\u001b[0m\n\u001b[0;32m    333\u001b[0m     \u001b[1;36m0.825\u001b[0m\u001b[1;33m...\u001b[0m\u001b[1;33m\u001b[0m\u001b[1;33m\u001b[0m\u001b[0m\n\u001b[0;32m    334\u001b[0m     \"\"\"\n\u001b[1;32m--> 335\u001b[1;33m     y_type, y_true, y_pred, multioutput = _check_reg_targets(\n\u001b[0m\u001b[0;32m    336\u001b[0m         y_true, y_pred, multioutput)\n\u001b[0;32m    337\u001b[0m     \u001b[0mcheck_consistent_length\u001b[0m\u001b[1;33m(\u001b[0m\u001b[0my_true\u001b[0m\u001b[1;33m,\u001b[0m \u001b[0my_pred\u001b[0m\u001b[1;33m,\u001b[0m \u001b[0msample_weight\u001b[0m\u001b[1;33m)\u001b[0m\u001b[1;33m\u001b[0m\u001b[1;33m\u001b[0m\u001b[0m\n",
      "\u001b[1;32mC:\\anaconda3\\lib\\site-packages\\sklearn\\metrics\\_regression.py\u001b[0m in \u001b[0;36m_check_reg_targets\u001b[1;34m(y_true, y_pred, multioutput, dtype)\u001b[0m\n\u001b[0;32m     86\u001b[0m         \u001b[0mthe\u001b[0m \u001b[0mdtype\u001b[0m \u001b[0margument\u001b[0m \u001b[0mpassed\u001b[0m \u001b[0mto\u001b[0m \u001b[0mcheck_array\u001b[0m\u001b[1;33m.\u001b[0m\u001b[1;33m\u001b[0m\u001b[1;33m\u001b[0m\u001b[0m\n\u001b[0;32m     87\u001b[0m     \"\"\"\n\u001b[1;32m---> 88\u001b[1;33m     \u001b[0mcheck_consistent_length\u001b[0m\u001b[1;33m(\u001b[0m\u001b[0my_true\u001b[0m\u001b[1;33m,\u001b[0m \u001b[0my_pred\u001b[0m\u001b[1;33m)\u001b[0m\u001b[1;33m\u001b[0m\u001b[1;33m\u001b[0m\u001b[0m\n\u001b[0m\u001b[0;32m     89\u001b[0m     \u001b[0my_true\u001b[0m \u001b[1;33m=\u001b[0m \u001b[0mcheck_array\u001b[0m\u001b[1;33m(\u001b[0m\u001b[0my_true\u001b[0m\u001b[1;33m,\u001b[0m \u001b[0mensure_2d\u001b[0m\u001b[1;33m=\u001b[0m\u001b[1;32mFalse\u001b[0m\u001b[1;33m,\u001b[0m \u001b[0mdtype\u001b[0m\u001b[1;33m=\u001b[0m\u001b[0mdtype\u001b[0m\u001b[1;33m)\u001b[0m\u001b[1;33m\u001b[0m\u001b[1;33m\u001b[0m\u001b[0m\n\u001b[0;32m     90\u001b[0m     \u001b[0my_pred\u001b[0m \u001b[1;33m=\u001b[0m \u001b[0mcheck_array\u001b[0m\u001b[1;33m(\u001b[0m\u001b[0my_pred\u001b[0m\u001b[1;33m,\u001b[0m \u001b[0mensure_2d\u001b[0m\u001b[1;33m=\u001b[0m\u001b[1;32mFalse\u001b[0m\u001b[1;33m,\u001b[0m \u001b[0mdtype\u001b[0m\u001b[1;33m=\u001b[0m\u001b[0mdtype\u001b[0m\u001b[1;33m)\u001b[0m\u001b[1;33m\u001b[0m\u001b[1;33m\u001b[0m\u001b[0m\n",
      "\u001b[1;32mC:\\anaconda3\\lib\\site-packages\\sklearn\\utils\\validation.py\u001b[0m in \u001b[0;36mcheck_consistent_length\u001b[1;34m(*arrays)\u001b[0m\n\u001b[0;32m    317\u001b[0m     \u001b[0muniques\u001b[0m \u001b[1;33m=\u001b[0m \u001b[0mnp\u001b[0m\u001b[1;33m.\u001b[0m\u001b[0munique\u001b[0m\u001b[1;33m(\u001b[0m\u001b[0mlengths\u001b[0m\u001b[1;33m)\u001b[0m\u001b[1;33m\u001b[0m\u001b[1;33m\u001b[0m\u001b[0m\n\u001b[0;32m    318\u001b[0m     \u001b[1;32mif\u001b[0m \u001b[0mlen\u001b[0m\u001b[1;33m(\u001b[0m\u001b[0muniques\u001b[0m\u001b[1;33m)\u001b[0m \u001b[1;33m>\u001b[0m \u001b[1;36m1\u001b[0m\u001b[1;33m:\u001b[0m\u001b[1;33m\u001b[0m\u001b[1;33m\u001b[0m\u001b[0m\n\u001b[1;32m--> 319\u001b[1;33m         raise ValueError(\"Found input variables with inconsistent numbers of\"\n\u001b[0m\u001b[0;32m    320\u001b[0m                          \" samples: %r\" % [int(l) for l in lengths])\n\u001b[0;32m    321\u001b[0m \u001b[1;33m\u001b[0m\u001b[0m\n",
      "\u001b[1;31mValueError\u001b[0m: Found input variables with inconsistent numbers of samples: [2554, 1095]"
     ]
    }
   ],
   "source": [
    "# On va calculer quelques mesures de performances:\n",
    "# Voyons les coefficients obtenus, dans notre cas, ils seront la tangente\n",
    "print('Coefficients: \\n', regr.coef_)\n",
    "# Il s'agit de la valeur à l'intersection de l'axe Y (à X = 0)\n",
    "print(regr.intercept_)\n",
    "# Mean squared error\n",
    "print(\"Mean squared error: %.2f\" % mean_squared_error(y_train, y_pred))\n",
    "# Variance score\n",
    "print('Variance score: %.2f' % r2_score(y_train, y_pred))"
   ]
  },
  {
   "cell_type": "code",
   "execution_count": 225,
   "id": "4730e877",
   "metadata": {},
   "outputs": [
    {
     "name": "stdout",
     "output_type": "stream",
     "text": [
      "Coefficient de determination, plus score élevé, meilleure est la qualité du modèle\n",
      " - r2 :  0.03199320890400348\n",
      "Moyenne des carré de l'erreur, plus le score est faible, meilleure est la qualité du modèle\n",
      " - MSE :  4213.220983176355\n",
      "Racine carré du MCE, plus le score est faible, meilleure est la qualité du modèle\n",
      " - RMCE : 64.90932893796048\n",
      "Mediane absolu des erreurs, plus le score est faible, meilleur est le modèle \n",
      " - MAE :  30.68197131447681\n"
     ]
    }
   ],
   "source": [
    "from sklearn.metrics import mean_squared_error, r2_score, explained_variance_score, median_absolute_error\n",
    "print(\"Coefficient de determination, plus score élevé, meilleure est la qualité du modèle\")\n",
    "print(\" - r2 : \", r2_score(y_train, regr.predict(x_train)))\n",
    "print(\"Moyenne des carré de l'erreur, plus le score est faible, meilleure est la qualité du modèle\")\n",
    "print(\" - MSE : \" ,mean_squared_error(y_test, y_pred))\n",
    "print(\"Racine carré du MCE, plus le score est faible, meilleure est la qualité du modèle\")\n",
    "print(\" - RMCE :\", np.sqrt(mean_squared_error(y_test, y_pred)))\n",
    "print(\"Mediane absolu des erreurs, plus le score est faible, meilleur est le modèle \")\n",
    "print(\" - MAE : \", median_absolute_error(y_test, y_pred))"
   ]
  },
  {
   "cell_type": "markdown",
   "id": "128093b3",
   "metadata": {},
   "source": [
    "Le R carré (R²) est également appelé coefficient de détermination. Il définit le degré de variance dans la variable dépendante (Y/cible) peut être expliqué par la variable indépendante (X/Caractéristiques).\n",
    "La valeur R² varie de 0 à 1. Le score de 1 est l'idéal où une variation de 100 % peut être expliquée par la variable caractéristique d'entrée. Il fournit la qualité de la meilleure ligne d'ajustement."
   ]
  },
  {
   "cell_type": "code",
   "execution_count": 178,
   "id": "4f9685c3",
   "metadata": {},
   "outputs": [
    {
     "name": "stdout",
     "output_type": "stream",
     "text": [
      "CV Scores:  [ -0.10712892 -11.58336629  -0.03775885  -0.03478169  -0.16876907]\n",
      "CV scores average:  -2.38636096572563\n"
     ]
    }
   ],
   "source": [
    "from sklearn.model_selection import cross_val_score\n",
    "regr = LinearRegression()\n",
    "k = 5\n",
    "cv_result = cross_val_score(regr,x,y,cv=k) # uses R^2 as score \n",
    "print('CV Scores: ',cv_result)\n",
    "print('CV scores average: ',np.sum(cv_result)/k)"
   ]
  },
  {
   "cell_type": "markdown",
   "id": "d04d34f0",
   "metadata": {},
   "source": [
    "### Rigde"
   ]
  },
  {
   "cell_type": "code",
   "execution_count": 147,
   "id": "d3ac3e9e",
   "metadata": {},
   "outputs": [
    {
     "name": "stdout",
     "output_type": "stream",
     "text": [
      "Ridge score:  0.025450675689400737\n"
     ]
    }
   ],
   "source": [
    "from sklearn.linear_model import Ridge\n",
    "x_train,x_test,y_train,y_test = train_test_split(x,y,random_state = 2, test_size = 0.3)\n",
    "ridge = Ridge(alpha = 0.1, normalize = True)\n",
    "ridge.fit(x_train,y_train)\n",
    "ridge_predict = ridge.predict(x_test)\n",
    "print('Ridge score: ',ridge.score(x_test,y_test))"
   ]
  },
  {
   "cell_type": "markdown",
   "id": "59403853",
   "metadata": {},
   "source": [
    "### Lasso"
   ]
  },
  {
   "cell_type": "code",
   "execution_count": 149,
   "id": "df32995b",
   "metadata": {},
   "outputs": [
    {
     "name": "stdout",
     "output_type": "stream",
     "text": [
      "Lasso score:  0.011672747271366801\n"
     ]
    }
   ],
   "source": [
    "# Lasso\n",
    "from sklearn.linear_model import Lasso\n",
    "x_train,x_test,y_train,y_test = train_test_split(x,y,random_state = 3, test_size = 0.3)\n",
    "lasso = Lasso(alpha = 0.1, normalize = True)\n",
    "lasso.fit(x_train,y_train)\n",
    "ridge_predict = lasso.predict(x_test)\n",
    "print('Lasso score: ',lasso.score(x_test,y_test))\n"
   ]
  },
  {
   "cell_type": "code",
   "execution_count": 150,
   "id": "fd38a33d",
   "metadata": {},
   "outputs": [
    {
     "name": "stdout",
     "output_type": "stream",
     "text": [
      "Lasso coefficients:  [-0.00000000e+00  0.00000000e+00 -0.00000000e+00 -0.00000000e+00\n",
      "  0.00000000e+00  0.00000000e+00 -7.71191515e-05 -0.00000000e+00\n",
      " -0.00000000e+00  0.00000000e+00 -0.00000000e+00  0.00000000e+00\n",
      "  0.00000000e+00  0.00000000e+00  0.00000000e+00]\n"
     ]
    }
   ],
   "source": [
    "print('Lasso coefficients: ',lasso.coef_)"
   ]
  },
  {
   "cell_type": "code",
   "execution_count": null,
   "id": "2d769ee9",
   "metadata": {},
   "outputs": [],
   "source": []
  },
  {
   "cell_type": "code",
   "execution_count": null,
   "id": "af645553",
   "metadata": {},
   "outputs": [],
   "source": []
  },
  {
   "cell_type": "code",
   "execution_count": null,
   "id": "1daaf172",
   "metadata": {},
   "outputs": [],
   "source": []
  },
  {
   "cell_type": "code",
   "execution_count": null,
   "id": "1bf72f31",
   "metadata": {},
   "outputs": [],
   "source": []
  },
  {
   "cell_type": "code",
   "execution_count": null,
   "id": "33c11ad0",
   "metadata": {},
   "outputs": [],
   "source": []
  },
  {
   "cell_type": "code",
   "execution_count": null,
   "id": "ac0247db",
   "metadata": {},
   "outputs": [],
   "source": []
  },
  {
   "cell_type": "code",
   "execution_count": null,
   "id": "98b83f7e",
   "metadata": {},
   "outputs": [],
   "source": []
  },
  {
   "cell_type": "code",
   "execution_count": null,
   "id": "7b3a93d6",
   "metadata": {},
   "outputs": [],
   "source": []
  },
  {
   "cell_type": "code",
   "execution_count": null,
   "id": "6f5cd7fe",
   "metadata": {},
   "outputs": [],
   "source": []
  },
  {
   "cell_type": "code",
   "execution_count": null,
   "id": "eceaed5b",
   "metadata": {},
   "outputs": [],
   "source": []
  },
  {
   "cell_type": "code",
   "execution_count": null,
   "id": "1f37ce0c",
   "metadata": {},
   "outputs": [],
   "source": []
  },
  {
   "cell_type": "code",
   "execution_count": null,
   "id": "06e42bff",
   "metadata": {},
   "outputs": [],
   "source": []
  },
  {
   "cell_type": "code",
   "execution_count": null,
   "id": "e726e0d6",
   "metadata": {},
   "outputs": [],
   "source": []
  },
  {
   "cell_type": "code",
   "execution_count": null,
   "id": "6b25ec01",
   "metadata": {},
   "outputs": [],
   "source": []
  },
  {
   "cell_type": "code",
   "execution_count": null,
   "id": "1337100c",
   "metadata": {},
   "outputs": [],
   "source": []
  },
  {
   "cell_type": "code",
   "execution_count": null,
   "id": "a67e009a",
   "metadata": {},
   "outputs": [],
   "source": []
  },
  {
   "cell_type": "code",
   "execution_count": null,
   "id": "4d207cea",
   "metadata": {},
   "outputs": [],
   "source": []
  },
  {
   "cell_type": "markdown",
   "id": "6d3b47e1",
   "metadata": {},
   "source": [
    "### Test"
   ]
  },
  {
   "cell_type": "code",
   "execution_count": null,
   "id": "b33a2c92",
   "metadata": {},
   "outputs": [],
   "source": []
  },
  {
   "cell_type": "code",
   "execution_count": 142,
   "id": "650bab23",
   "metadata": {},
   "outputs": [],
   "source": [
    "import tensorflow as tf\n",
    "from tensorflow import keras\n",
    "from tensorflow.keras import layers\n",
    "import numpy as np"
   ]
  },
  {
   "cell_type": "code",
   "execution_count": 143,
   "id": "6a0dc55d",
   "metadata": {},
   "outputs": [],
   "source": [
    "model_1 = tf.keras.Sequential([\n",
    "    layers.Dense(100, activation=\"relu\", input_shape=[15], name=\"input_1\"),\n",
    "    layers.Dense(10, activation=\"relu\", name=\"input_2\"),\n",
    "    layers.Dense(1, name=\"output_layer\")\n",
    "], name=\"model_1\")"
   ]
  },
  {
   "cell_type": "code",
   "execution_count": 144,
   "id": "edea7b58",
   "metadata": {},
   "outputs": [],
   "source": [
    "# Compile the model\n",
    "model_1.compile(\n",
    "    loss=tf.keras.losses.mae,\n",
    "    optimizer=tf.keras.optimizers.Adam(),\n",
    "    metrics=['mae']\n",
    ")\n"
   ]
  },
  {
   "cell_type": "code",
   "execution_count": 146,
   "id": "e9cba46d",
   "metadata": {},
   "outputs": [
    {
     "name": "stdout",
     "output_type": "stream",
     "text": [
      "Epoch 1/30\n",
      "80/80 [==============================] - 0s 1ms/step - loss: 3459.6555 - mae: 3459.6555 - val_loss: 6083.6509 - val_mae: 6083.6509\n",
      "Epoch 2/30\n",
      "80/80 [==============================] - 0s 803us/step - loss: 8427.0889 - mae: 8427.0889 - val_loss: 1231.4181 - val_mae: 1231.4181\n",
      "Epoch 3/30\n",
      "80/80 [==============================] - 0s 717us/step - loss: 3705.5071 - mae: 3705.5071 - val_loss: 3912.2200 - val_mae: 3912.2200\n",
      "Epoch 4/30\n",
      "80/80 [==============================] - 0s 795us/step - loss: 8174.4707 - mae: 8174.4707 - val_loss: 5743.6689 - val_mae: 5743.6689\n",
      "Epoch 5/30\n",
      "80/80 [==============================] - 0s 726us/step - loss: 4666.6914 - mae: 4666.6914 - val_loss: 450.6697 - val_mae: 450.6697\n",
      "Epoch 6/30\n",
      "80/80 [==============================] - 0s 746us/step - loss: 6140.1045 - mae: 6140.1045 - val_loss: 1115.9481 - val_mae: 1115.9481\n",
      "Epoch 7/30\n",
      "80/80 [==============================] - 0s 814us/step - loss: 4553.9644 - mae: 4553.9644 - val_loss: 800.4426 - val_mae: 800.4426\n",
      "Epoch 8/30\n",
      "80/80 [==============================] - 0s 725us/step - loss: 4936.2974 - mae: 4936.2974 - val_loss: 3140.7480 - val_mae: 3140.7480\n",
      "Epoch 9/30\n",
      "80/80 [==============================] - 0s 791us/step - loss: 5712.4492 - mae: 5712.4492 - val_loss: 571.5988 - val_mae: 571.5988\n",
      "Epoch 10/30\n",
      "80/80 [==============================] - 0s 815us/step - loss: 3611.9229 - mae: 3611.9229 - val_loss: 4696.3066 - val_mae: 4696.3066\n",
      "Epoch 11/30\n",
      "80/80 [==============================] - 0s 771us/step - loss: 6334.9463 - mae: 6334.9463 - val_loss: 765.3947 - val_mae: 765.3947\n",
      "Epoch 12/30\n",
      "80/80 [==============================] - 0s 702us/step - loss: 4041.2297 - mae: 4041.2297 - val_loss: 3231.1167 - val_mae: 3231.1167\n",
      "Epoch 13/30\n",
      "80/80 [==============================] - 0s 747us/step - loss: 4700.4863 - mae: 4700.4863 - val_loss: 1683.0868 - val_mae: 1683.0868\n",
      "Epoch 14/30\n",
      "80/80 [==============================] - 0s 963us/step - loss: 6846.8457 - mae: 6846.8457 - val_loss: 483.7575 - val_mae: 483.7575\n",
      "Epoch 15/30\n",
      "80/80 [==============================] - 0s 966us/step - loss: 1921.3470 - mae: 1921.3470 - val_loss: 2870.0918 - val_mae: 2870.0918\n",
      "Epoch 16/30\n",
      "80/80 [==============================] - 0s 960us/step - loss: 7790.7822 - mae: 7790.7822 - val_loss: 318.6356 - val_mae: 318.6356\n",
      "Epoch 17/30\n",
      "80/80 [==============================] - 0s 1ms/step - loss: 1376.0626 - mae: 1376.0626 - val_loss: 2833.4614 - val_mae: 2833.4614\n",
      "Epoch 18/30\n",
      "80/80 [==============================] - 0s 1ms/step - loss: 7569.8960 - mae: 7569.8960 - val_loss: 1179.7628 - val_mae: 1179.7628\n",
      "Epoch 19/30\n",
      "80/80 [==============================] - 0s 886us/step - loss: 3231.7102 - mae: 3231.7102 - val_loss: 649.1757 - val_mae: 649.1757\n",
      "Epoch 20/30\n",
      "80/80 [==============================] - 0s 1ms/step - loss: 4802.9536 - mae: 4802.9536 - val_loss: 2811.7417 - val_mae: 2811.7417\n",
      "Epoch 21/30\n",
      "80/80 [==============================] - 0s 998us/step - loss: 4089.8806 - mae: 4089.8806 - val_loss: 2544.6794 - val_mae: 2544.6794\n",
      "Epoch 22/30\n",
      "80/80 [==============================] - 0s 906us/step - loss: 5824.4897 - mae: 5824.4897 - val_loss: 374.0241 - val_mae: 374.0241\n",
      "Epoch 23/30\n",
      "80/80 [==============================] - 0s 898us/step - loss: 1969.4109 - mae: 1969.4109 - val_loss: 2161.2820 - val_mae: 2161.2820\n",
      "Epoch 24/30\n",
      "80/80 [==============================] - 0s 788us/step - loss: 5756.4023 - mae: 5756.4023 - val_loss: 452.0292 - val_mae: 452.0292\n",
      "Epoch 25/30\n",
      "80/80 [==============================] - 0s 764us/step - loss: 2278.7446 - mae: 2278.7446 - val_loss: 909.6128 - val_mae: 909.6128\n",
      "Epoch 26/30\n",
      "80/80 [==============================] - 0s 854us/step - loss: 4920.8691 - mae: 4920.8691 - val_loss: 1503.6332 - val_mae: 1503.6332\n",
      "Epoch 27/30\n",
      "80/80 [==============================] - 0s 944us/step - loss: 4002.4111 - mae: 4002.4111 - val_loss: 1027.1781 - val_mae: 1027.1781\n",
      "Epoch 28/30\n",
      "80/80 [==============================] - 0s 1ms/step - loss: 4237.8589 - mae: 4237.8589 - val_loss: 1425.4622 - val_mae: 1425.4622\n",
      "Epoch 29/30\n",
      "80/80 [==============================] - 0s 958us/step - loss: 3413.5627 - mae: 3413.5627 - val_loss: 497.5144 - val_mae: 497.5144\n",
      "Epoch 30/30\n",
      "80/80 [==============================] - 0s 896us/step - loss: 3435.8689 - mae: 3435.8689 - val_loss: 946.5612 - val_mae: 946.5612\n"
     ]
    }
   ],
   "source": [
    "history_1 = model_1.fit(\n",
    "    x_train, y_train, \n",
    "    validation_data=(x_test, y_test),\n",
    "    epochs=30\n",
    ")"
   ]
  },
  {
   "cell_type": "code",
   "execution_count": null,
   "id": "55f5af02",
   "metadata": {},
   "outputs": [],
   "source": []
  },
  {
   "cell_type": "code",
   "execution_count": null,
   "id": "0f5363b2",
   "metadata": {},
   "outputs": [],
   "source": []
  },
  {
   "cell_type": "code",
   "execution_count": null,
   "id": "4cb5efb1",
   "metadata": {},
   "outputs": [],
   "source": []
  },
  {
   "cell_type": "code",
   "execution_count": null,
   "id": "50e5e2ec",
   "metadata": {},
   "outputs": [],
   "source": []
  },
  {
   "cell_type": "code",
   "execution_count": null,
   "id": "467fa2e2",
   "metadata": {},
   "outputs": [],
   "source": []
  },
  {
   "cell_type": "code",
   "execution_count": null,
   "id": "5374200a",
   "metadata": {},
   "outputs": [],
   "source": []
  },
  {
   "cell_type": "code",
   "execution_count": null,
   "id": "9bd97485",
   "metadata": {},
   "outputs": [],
   "source": []
  },
  {
   "cell_type": "code",
   "execution_count": null,
   "id": "64e68148",
   "metadata": {},
   "outputs": [],
   "source": []
  },
  {
   "cell_type": "code",
   "execution_count": null,
   "id": "d02fbf31",
   "metadata": {},
   "outputs": [],
   "source": []
  },
  {
   "cell_type": "code",
   "execution_count": null,
   "id": "a10c95ef",
   "metadata": {},
   "outputs": [],
   "source": []
  },
  {
   "cell_type": "code",
   "execution_count": null,
   "id": "f811c1e3",
   "metadata": {},
   "outputs": [],
   "source": []
  },
  {
   "cell_type": "code",
   "execution_count": 132,
   "id": "e314adf6",
   "metadata": {},
   "outputs": [],
   "source": [
    "# creation d'un model sequentiel de Keras, une seule pile de couche connectées\n",
    "model = keras.models.Sequential()\n",
    "# flatten = convertir image d'entrée en tableau a 1 dimension + forme des instance (input_shape)\n",
    "model.add(keras.layers.Flatten(input_shape = [28,28]))\n",
    "# couche cachée de 300 neuronnes + fonction activation relu\n",
    "model.add(keras.layers.Dense(300, activation = \"relu\"))\n",
    "# idem avec 100 neuronnes\n",
    "model.add(keras.layers.Dense(100, activation = \"relu\"))\n",
    "# couche cachée avec 10 neuronnes, 1 par classe\n",
    "model.add(keras.layers.Dense(10, activation = \"softmax\"))"
   ]
  },
  {
   "cell_type": "code",
   "execution_count": 133,
   "id": "75604b6c",
   "metadata": {},
   "outputs": [
    {
     "name": "stdout",
     "output_type": "stream",
     "text": [
      "Model: \"sequential\"\n",
      "_________________________________________________________________\n",
      "Layer (type)                 Output Shape              Param #   \n",
      "=================================================================\n",
      "flatten (Flatten)            (None, 784)               0         \n",
      "_________________________________________________________________\n",
      "dense (Dense)                (None, 300)               235500    \n",
      "_________________________________________________________________\n",
      "dense_1 (Dense)              (None, 100)               30100     \n",
      "_________________________________________________________________\n",
      "dense_2 (Dense)              (None, 10)                1010      \n",
      "=================================================================\n",
      "Total params: 266,610\n",
      "Trainable params: 266,610\n",
      "Non-trainable params: 0\n",
      "_________________________________________________________________\n"
     ]
    }
   ],
   "source": [
    "model.summary()"
   ]
  },
  {
   "cell_type": "code",
   "execution_count": 134,
   "id": "7397e228",
   "metadata": {},
   "outputs": [
    {
     "data": {
      "text/plain": [
       "[<keras.layers.core.Flatten at 0x264f881a700>,\n",
       " <keras.layers.core.Dense at 0x264f87bbb50>,\n",
       " <keras.layers.core.Dense at 0x264f9dffb20>,\n",
       " <keras.layers.core.Dense at 0x264f9dff880>]"
      ]
     },
     "execution_count": 134,
     "metadata": {},
     "output_type": "execute_result"
    }
   ],
   "source": [
    "model.layers"
   ]
  },
  {
   "cell_type": "code",
   "execution_count": 135,
   "id": "94bd2afb",
   "metadata": {},
   "outputs": [],
   "source": [
    "model.compile(loss = \"sparse_categorical_crossentropy\",\n",
    "             optimizer = \"sgd\",\n",
    "             metrics = [\"accuracy\"])"
   ]
  },
  {
   "cell_type": "code",
   "execution_count": 136,
   "id": "261a8577",
   "metadata": {},
   "outputs": [
    {
     "name": "stdout",
     "output_type": "stream",
     "text": [
      "Epoch 1/30\n",
      "WARNING:tensorflow:Model was constructed with shape (None, 28, 28) for input KerasTensor(type_spec=TensorSpec(shape=(None, 28, 28), dtype=tf.float32, name='flatten_input'), name='flatten_input', description=\"created by layer 'flatten_input'\"), but it was called on an input with incompatible shape (None, 15).\n"
     ]
    },
    {
     "ename": "ValueError",
     "evalue": "in user code:\n\n    C:\\anaconda3\\lib\\site-packages\\keras\\engine\\training.py:853 train_function  *\n        return step_function(self, iterator)\n    C:\\anaconda3\\lib\\site-packages\\keras\\engine\\training.py:842 step_function  **\n        outputs = model.distribute_strategy.run(run_step, args=(data,))\n    C:\\anaconda3\\lib\\site-packages\\tensorflow\\python\\distribute\\distribute_lib.py:1286 run\n        return self._extended.call_for_each_replica(fn, args=args, kwargs=kwargs)\n    C:\\anaconda3\\lib\\site-packages\\tensorflow\\python\\distribute\\distribute_lib.py:2849 call_for_each_replica\n        return self._call_for_each_replica(fn, args, kwargs)\n    C:\\anaconda3\\lib\\site-packages\\tensorflow\\python\\distribute\\distribute_lib.py:3632 _call_for_each_replica\n        return fn(*args, **kwargs)\n    C:\\anaconda3\\lib\\site-packages\\keras\\engine\\training.py:835 run_step  **\n        outputs = model.train_step(data)\n    C:\\anaconda3\\lib\\site-packages\\keras\\engine\\training.py:787 train_step\n        y_pred = self(x, training=True)\n    C:\\anaconda3\\lib\\site-packages\\keras\\engine\\base_layer.py:1037 __call__\n        outputs = call_fn(inputs, *args, **kwargs)\n    C:\\anaconda3\\lib\\site-packages\\keras\\engine\\sequential.py:369 call\n        return super(Sequential, self).call(inputs, training=training, mask=mask)\n    C:\\anaconda3\\lib\\site-packages\\keras\\engine\\functional.py:414 call\n        return self._run_internal_graph(\n    C:\\anaconda3\\lib\\site-packages\\keras\\engine\\functional.py:550 _run_internal_graph\n        outputs = node.layer(*args, **kwargs)\n    C:\\anaconda3\\lib\\site-packages\\keras\\engine\\base_layer.py:1020 __call__\n        input_spec.assert_input_compatibility(self.input_spec, inputs, self.name)\n    C:\\anaconda3\\lib\\site-packages\\keras\\engine\\input_spec.py:250 assert_input_compatibility\n        raise ValueError(\n\n    ValueError: Input 0 of layer dense is incompatible with the layer: expected axis -1 of input shape to have value 784 but received input with shape (None, 15)\n",
     "output_type": "error",
     "traceback": [
      "\u001b[1;31m---------------------------------------------------------------------------\u001b[0m",
      "\u001b[1;31mValueError\u001b[0m                                Traceback (most recent call last)",
      "\u001b[1;32m<ipython-input-136-6830663b3775>\u001b[0m in \u001b[0;36m<module>\u001b[1;34m\u001b[0m\n\u001b[1;32m----> 1\u001b[1;33m history = model.fit(x_train, x_train, epochs = 30,\n\u001b[0m\u001b[0;32m      2\u001b[0m                    validation_data = (x_test, y_test))\n",
      "\u001b[1;32mC:\\anaconda3\\lib\\site-packages\\keras\\engine\\training.py\u001b[0m in \u001b[0;36mfit\u001b[1;34m(self, x, y, batch_size, epochs, verbose, callbacks, validation_split, validation_data, shuffle, class_weight, sample_weight, initial_epoch, steps_per_epoch, validation_steps, validation_batch_size, validation_freq, max_queue_size, workers, use_multiprocessing)\u001b[0m\n\u001b[0;32m   1182\u001b[0m                 _r=1):\n\u001b[0;32m   1183\u001b[0m               \u001b[0mcallbacks\u001b[0m\u001b[1;33m.\u001b[0m\u001b[0mon_train_batch_begin\u001b[0m\u001b[1;33m(\u001b[0m\u001b[0mstep\u001b[0m\u001b[1;33m)\u001b[0m\u001b[1;33m\u001b[0m\u001b[1;33m\u001b[0m\u001b[0m\n\u001b[1;32m-> 1184\u001b[1;33m               \u001b[0mtmp_logs\u001b[0m \u001b[1;33m=\u001b[0m \u001b[0mself\u001b[0m\u001b[1;33m.\u001b[0m\u001b[0mtrain_function\u001b[0m\u001b[1;33m(\u001b[0m\u001b[0miterator\u001b[0m\u001b[1;33m)\u001b[0m\u001b[1;33m\u001b[0m\u001b[1;33m\u001b[0m\u001b[0m\n\u001b[0m\u001b[0;32m   1185\u001b[0m               \u001b[1;32mif\u001b[0m \u001b[0mdata_handler\u001b[0m\u001b[1;33m.\u001b[0m\u001b[0mshould_sync\u001b[0m\u001b[1;33m:\u001b[0m\u001b[1;33m\u001b[0m\u001b[1;33m\u001b[0m\u001b[0m\n\u001b[0;32m   1186\u001b[0m                 \u001b[0mcontext\u001b[0m\u001b[1;33m.\u001b[0m\u001b[0masync_wait\u001b[0m\u001b[1;33m(\u001b[0m\u001b[1;33m)\u001b[0m\u001b[1;33m\u001b[0m\u001b[1;33m\u001b[0m\u001b[0m\n",
      "\u001b[1;32mC:\\anaconda3\\lib\\site-packages\\tensorflow\\python\\eager\\def_function.py\u001b[0m in \u001b[0;36m__call__\u001b[1;34m(self, *args, **kwds)\u001b[0m\n\u001b[0;32m    883\u001b[0m \u001b[1;33m\u001b[0m\u001b[0m\n\u001b[0;32m    884\u001b[0m       \u001b[1;32mwith\u001b[0m \u001b[0mOptionalXlaContext\u001b[0m\u001b[1;33m(\u001b[0m\u001b[0mself\u001b[0m\u001b[1;33m.\u001b[0m\u001b[0m_jit_compile\u001b[0m\u001b[1;33m)\u001b[0m\u001b[1;33m:\u001b[0m\u001b[1;33m\u001b[0m\u001b[1;33m\u001b[0m\u001b[0m\n\u001b[1;32m--> 885\u001b[1;33m         \u001b[0mresult\u001b[0m \u001b[1;33m=\u001b[0m \u001b[0mself\u001b[0m\u001b[1;33m.\u001b[0m\u001b[0m_call\u001b[0m\u001b[1;33m(\u001b[0m\u001b[1;33m*\u001b[0m\u001b[0margs\u001b[0m\u001b[1;33m,\u001b[0m \u001b[1;33m**\u001b[0m\u001b[0mkwds\u001b[0m\u001b[1;33m)\u001b[0m\u001b[1;33m\u001b[0m\u001b[1;33m\u001b[0m\u001b[0m\n\u001b[0m\u001b[0;32m    886\u001b[0m \u001b[1;33m\u001b[0m\u001b[0m\n\u001b[0;32m    887\u001b[0m       \u001b[0mnew_tracing_count\u001b[0m \u001b[1;33m=\u001b[0m \u001b[0mself\u001b[0m\u001b[1;33m.\u001b[0m\u001b[0mexperimental_get_tracing_count\u001b[0m\u001b[1;33m(\u001b[0m\u001b[1;33m)\u001b[0m\u001b[1;33m\u001b[0m\u001b[1;33m\u001b[0m\u001b[0m\n",
      "\u001b[1;32mC:\\anaconda3\\lib\\site-packages\\tensorflow\\python\\eager\\def_function.py\u001b[0m in \u001b[0;36m_call\u001b[1;34m(self, *args, **kwds)\u001b[0m\n\u001b[0;32m    931\u001b[0m       \u001b[1;31m# This is the first call of __call__, so we have to initialize.\u001b[0m\u001b[1;33m\u001b[0m\u001b[1;33m\u001b[0m\u001b[1;33m\u001b[0m\u001b[0m\n\u001b[0;32m    932\u001b[0m       \u001b[0minitializers\u001b[0m \u001b[1;33m=\u001b[0m \u001b[1;33m[\u001b[0m\u001b[1;33m]\u001b[0m\u001b[1;33m\u001b[0m\u001b[1;33m\u001b[0m\u001b[0m\n\u001b[1;32m--> 933\u001b[1;33m       \u001b[0mself\u001b[0m\u001b[1;33m.\u001b[0m\u001b[0m_initialize\u001b[0m\u001b[1;33m(\u001b[0m\u001b[0margs\u001b[0m\u001b[1;33m,\u001b[0m \u001b[0mkwds\u001b[0m\u001b[1;33m,\u001b[0m \u001b[0madd_initializers_to\u001b[0m\u001b[1;33m=\u001b[0m\u001b[0minitializers\u001b[0m\u001b[1;33m)\u001b[0m\u001b[1;33m\u001b[0m\u001b[1;33m\u001b[0m\u001b[0m\n\u001b[0m\u001b[0;32m    934\u001b[0m     \u001b[1;32mfinally\u001b[0m\u001b[1;33m:\u001b[0m\u001b[1;33m\u001b[0m\u001b[1;33m\u001b[0m\u001b[0m\n\u001b[0;32m    935\u001b[0m       \u001b[1;31m# At this point we know that the initialization is complete (or less\u001b[0m\u001b[1;33m\u001b[0m\u001b[1;33m\u001b[0m\u001b[1;33m\u001b[0m\u001b[0m\n",
      "\u001b[1;32mC:\\anaconda3\\lib\\site-packages\\tensorflow\\python\\eager\\def_function.py\u001b[0m in \u001b[0;36m_initialize\u001b[1;34m(self, args, kwds, add_initializers_to)\u001b[0m\n\u001b[0;32m    757\u001b[0m     \u001b[0mself\u001b[0m\u001b[1;33m.\u001b[0m\u001b[0m_graph_deleter\u001b[0m \u001b[1;33m=\u001b[0m \u001b[0mFunctionDeleter\u001b[0m\u001b[1;33m(\u001b[0m\u001b[0mself\u001b[0m\u001b[1;33m.\u001b[0m\u001b[0m_lifted_initializer_graph\u001b[0m\u001b[1;33m)\u001b[0m\u001b[1;33m\u001b[0m\u001b[1;33m\u001b[0m\u001b[0m\n\u001b[0;32m    758\u001b[0m     self._concrete_stateful_fn = (\n\u001b[1;32m--> 759\u001b[1;33m         self._stateful_fn._get_concrete_function_internal_garbage_collected(  # pylint: disable=protected-access\n\u001b[0m\u001b[0;32m    760\u001b[0m             *args, **kwds))\n\u001b[0;32m    761\u001b[0m \u001b[1;33m\u001b[0m\u001b[0m\n",
      "\u001b[1;32mC:\\anaconda3\\lib\\site-packages\\tensorflow\\python\\eager\\function.py\u001b[0m in \u001b[0;36m_get_concrete_function_internal_garbage_collected\u001b[1;34m(self, *args, **kwargs)\u001b[0m\n\u001b[0;32m   3064\u001b[0m       \u001b[0margs\u001b[0m\u001b[1;33m,\u001b[0m \u001b[0mkwargs\u001b[0m \u001b[1;33m=\u001b[0m \u001b[1;32mNone\u001b[0m\u001b[1;33m,\u001b[0m \u001b[1;32mNone\u001b[0m\u001b[1;33m\u001b[0m\u001b[1;33m\u001b[0m\u001b[0m\n\u001b[0;32m   3065\u001b[0m     \u001b[1;32mwith\u001b[0m \u001b[0mself\u001b[0m\u001b[1;33m.\u001b[0m\u001b[0m_lock\u001b[0m\u001b[1;33m:\u001b[0m\u001b[1;33m\u001b[0m\u001b[1;33m\u001b[0m\u001b[0m\n\u001b[1;32m-> 3066\u001b[1;33m       \u001b[0mgraph_function\u001b[0m\u001b[1;33m,\u001b[0m \u001b[0m_\u001b[0m \u001b[1;33m=\u001b[0m \u001b[0mself\u001b[0m\u001b[1;33m.\u001b[0m\u001b[0m_maybe_define_function\u001b[0m\u001b[1;33m(\u001b[0m\u001b[0margs\u001b[0m\u001b[1;33m,\u001b[0m \u001b[0mkwargs\u001b[0m\u001b[1;33m)\u001b[0m\u001b[1;33m\u001b[0m\u001b[1;33m\u001b[0m\u001b[0m\n\u001b[0m\u001b[0;32m   3067\u001b[0m     \u001b[1;32mreturn\u001b[0m \u001b[0mgraph_function\u001b[0m\u001b[1;33m\u001b[0m\u001b[1;33m\u001b[0m\u001b[0m\n\u001b[0;32m   3068\u001b[0m \u001b[1;33m\u001b[0m\u001b[0m\n",
      "\u001b[1;32mC:\\anaconda3\\lib\\site-packages\\tensorflow\\python\\eager\\function.py\u001b[0m in \u001b[0;36m_maybe_define_function\u001b[1;34m(self, args, kwargs)\u001b[0m\n\u001b[0;32m   3461\u001b[0m \u001b[1;33m\u001b[0m\u001b[0m\n\u001b[0;32m   3462\u001b[0m           \u001b[0mself\u001b[0m\u001b[1;33m.\u001b[0m\u001b[0m_function_cache\u001b[0m\u001b[1;33m.\u001b[0m\u001b[0mmissed\u001b[0m\u001b[1;33m.\u001b[0m\u001b[0madd\u001b[0m\u001b[1;33m(\u001b[0m\u001b[0mcall_context_key\u001b[0m\u001b[1;33m)\u001b[0m\u001b[1;33m\u001b[0m\u001b[1;33m\u001b[0m\u001b[0m\n\u001b[1;32m-> 3463\u001b[1;33m           \u001b[0mgraph_function\u001b[0m \u001b[1;33m=\u001b[0m \u001b[0mself\u001b[0m\u001b[1;33m.\u001b[0m\u001b[0m_create_graph_function\u001b[0m\u001b[1;33m(\u001b[0m\u001b[0margs\u001b[0m\u001b[1;33m,\u001b[0m \u001b[0mkwargs\u001b[0m\u001b[1;33m)\u001b[0m\u001b[1;33m\u001b[0m\u001b[1;33m\u001b[0m\u001b[0m\n\u001b[0m\u001b[0;32m   3464\u001b[0m           \u001b[0mself\u001b[0m\u001b[1;33m.\u001b[0m\u001b[0m_function_cache\u001b[0m\u001b[1;33m.\u001b[0m\u001b[0mprimary\u001b[0m\u001b[1;33m[\u001b[0m\u001b[0mcache_key\u001b[0m\u001b[1;33m]\u001b[0m \u001b[1;33m=\u001b[0m \u001b[0mgraph_function\u001b[0m\u001b[1;33m\u001b[0m\u001b[1;33m\u001b[0m\u001b[0m\n\u001b[0;32m   3465\u001b[0m \u001b[1;33m\u001b[0m\u001b[0m\n",
      "\u001b[1;32mC:\\anaconda3\\lib\\site-packages\\tensorflow\\python\\eager\\function.py\u001b[0m in \u001b[0;36m_create_graph_function\u001b[1;34m(self, args, kwargs, override_flat_arg_shapes)\u001b[0m\n\u001b[0;32m   3296\u001b[0m     \u001b[0marg_names\u001b[0m \u001b[1;33m=\u001b[0m \u001b[0mbase_arg_names\u001b[0m \u001b[1;33m+\u001b[0m \u001b[0mmissing_arg_names\u001b[0m\u001b[1;33m\u001b[0m\u001b[1;33m\u001b[0m\u001b[0m\n\u001b[0;32m   3297\u001b[0m     graph_function = ConcreteFunction(\n\u001b[1;32m-> 3298\u001b[1;33m         func_graph_module.func_graph_from_py_func(\n\u001b[0m\u001b[0;32m   3299\u001b[0m             \u001b[0mself\u001b[0m\u001b[1;33m.\u001b[0m\u001b[0m_name\u001b[0m\u001b[1;33m,\u001b[0m\u001b[1;33m\u001b[0m\u001b[1;33m\u001b[0m\u001b[0m\n\u001b[0;32m   3300\u001b[0m             \u001b[0mself\u001b[0m\u001b[1;33m.\u001b[0m\u001b[0m_python_function\u001b[0m\u001b[1;33m,\u001b[0m\u001b[1;33m\u001b[0m\u001b[1;33m\u001b[0m\u001b[0m\n",
      "\u001b[1;32mC:\\anaconda3\\lib\\site-packages\\tensorflow\\python\\framework\\func_graph.py\u001b[0m in \u001b[0;36mfunc_graph_from_py_func\u001b[1;34m(name, python_func, args, kwargs, signature, func_graph, autograph, autograph_options, add_control_dependencies, arg_names, op_return_value, collections, capture_by_value, override_flat_arg_shapes, acd_record_initial_resource_uses)\u001b[0m\n\u001b[0;32m   1005\u001b[0m         \u001b[0m_\u001b[0m\u001b[1;33m,\u001b[0m \u001b[0moriginal_func\u001b[0m \u001b[1;33m=\u001b[0m \u001b[0mtf_decorator\u001b[0m\u001b[1;33m.\u001b[0m\u001b[0munwrap\u001b[0m\u001b[1;33m(\u001b[0m\u001b[0mpython_func\u001b[0m\u001b[1;33m)\u001b[0m\u001b[1;33m\u001b[0m\u001b[1;33m\u001b[0m\u001b[0m\n\u001b[0;32m   1006\u001b[0m \u001b[1;33m\u001b[0m\u001b[0m\n\u001b[1;32m-> 1007\u001b[1;33m       \u001b[0mfunc_outputs\u001b[0m \u001b[1;33m=\u001b[0m \u001b[0mpython_func\u001b[0m\u001b[1;33m(\u001b[0m\u001b[1;33m*\u001b[0m\u001b[0mfunc_args\u001b[0m\u001b[1;33m,\u001b[0m \u001b[1;33m**\u001b[0m\u001b[0mfunc_kwargs\u001b[0m\u001b[1;33m)\u001b[0m\u001b[1;33m\u001b[0m\u001b[1;33m\u001b[0m\u001b[0m\n\u001b[0m\u001b[0;32m   1008\u001b[0m \u001b[1;33m\u001b[0m\u001b[0m\n\u001b[0;32m   1009\u001b[0m       \u001b[1;31m# invariant: `func_outputs` contains only Tensors, CompositeTensors,\u001b[0m\u001b[1;33m\u001b[0m\u001b[1;33m\u001b[0m\u001b[1;33m\u001b[0m\u001b[0m\n",
      "\u001b[1;32mC:\\anaconda3\\lib\\site-packages\\tensorflow\\python\\eager\\def_function.py\u001b[0m in \u001b[0;36mwrapped_fn\u001b[1;34m(*args, **kwds)\u001b[0m\n\u001b[0;32m    666\u001b[0m         \u001b[1;31m# the function a weak reference to itself to avoid a reference cycle.\u001b[0m\u001b[1;33m\u001b[0m\u001b[1;33m\u001b[0m\u001b[1;33m\u001b[0m\u001b[0m\n\u001b[0;32m    667\u001b[0m         \u001b[1;32mwith\u001b[0m \u001b[0mOptionalXlaContext\u001b[0m\u001b[1;33m(\u001b[0m\u001b[0mcompile_with_xla\u001b[0m\u001b[1;33m)\u001b[0m\u001b[1;33m:\u001b[0m\u001b[1;33m\u001b[0m\u001b[1;33m\u001b[0m\u001b[0m\n\u001b[1;32m--> 668\u001b[1;33m           \u001b[0mout\u001b[0m \u001b[1;33m=\u001b[0m \u001b[0mweak_wrapped_fn\u001b[0m\u001b[1;33m(\u001b[0m\u001b[1;33m)\u001b[0m\u001b[1;33m.\u001b[0m\u001b[0m__wrapped__\u001b[0m\u001b[1;33m(\u001b[0m\u001b[1;33m*\u001b[0m\u001b[0margs\u001b[0m\u001b[1;33m,\u001b[0m \u001b[1;33m**\u001b[0m\u001b[0mkwds\u001b[0m\u001b[1;33m)\u001b[0m\u001b[1;33m\u001b[0m\u001b[1;33m\u001b[0m\u001b[0m\n\u001b[0m\u001b[0;32m    669\u001b[0m         \u001b[1;32mreturn\u001b[0m \u001b[0mout\u001b[0m\u001b[1;33m\u001b[0m\u001b[1;33m\u001b[0m\u001b[0m\n\u001b[0;32m    670\u001b[0m \u001b[1;33m\u001b[0m\u001b[0m\n",
      "\u001b[1;32mC:\\anaconda3\\lib\\site-packages\\tensorflow\\python\\framework\\func_graph.py\u001b[0m in \u001b[0;36mwrapper\u001b[1;34m(*args, **kwargs)\u001b[0m\n\u001b[0;32m    992\u001b[0m           \u001b[1;32mexcept\u001b[0m \u001b[0mException\u001b[0m \u001b[1;32mas\u001b[0m \u001b[0me\u001b[0m\u001b[1;33m:\u001b[0m  \u001b[1;31m# pylint:disable=broad-except\u001b[0m\u001b[1;33m\u001b[0m\u001b[1;33m\u001b[0m\u001b[0m\n\u001b[0;32m    993\u001b[0m             \u001b[1;32mif\u001b[0m \u001b[0mhasattr\u001b[0m\u001b[1;33m(\u001b[0m\u001b[0me\u001b[0m\u001b[1;33m,\u001b[0m \u001b[1;34m\"ag_error_metadata\"\u001b[0m\u001b[1;33m)\u001b[0m\u001b[1;33m:\u001b[0m\u001b[1;33m\u001b[0m\u001b[1;33m\u001b[0m\u001b[0m\n\u001b[1;32m--> 994\u001b[1;33m               \u001b[1;32mraise\u001b[0m \u001b[0me\u001b[0m\u001b[1;33m.\u001b[0m\u001b[0mag_error_metadata\u001b[0m\u001b[1;33m.\u001b[0m\u001b[0mto_exception\u001b[0m\u001b[1;33m(\u001b[0m\u001b[0me\u001b[0m\u001b[1;33m)\u001b[0m\u001b[1;33m\u001b[0m\u001b[1;33m\u001b[0m\u001b[0m\n\u001b[0m\u001b[0;32m    995\u001b[0m             \u001b[1;32melse\u001b[0m\u001b[1;33m:\u001b[0m\u001b[1;33m\u001b[0m\u001b[1;33m\u001b[0m\u001b[0m\n\u001b[0;32m    996\u001b[0m               \u001b[1;32mraise\u001b[0m\u001b[1;33m\u001b[0m\u001b[1;33m\u001b[0m\u001b[0m\n",
      "\u001b[1;31mValueError\u001b[0m: in user code:\n\n    C:\\anaconda3\\lib\\site-packages\\keras\\engine\\training.py:853 train_function  *\n        return step_function(self, iterator)\n    C:\\anaconda3\\lib\\site-packages\\keras\\engine\\training.py:842 step_function  **\n        outputs = model.distribute_strategy.run(run_step, args=(data,))\n    C:\\anaconda3\\lib\\site-packages\\tensorflow\\python\\distribute\\distribute_lib.py:1286 run\n        return self._extended.call_for_each_replica(fn, args=args, kwargs=kwargs)\n    C:\\anaconda3\\lib\\site-packages\\tensorflow\\python\\distribute\\distribute_lib.py:2849 call_for_each_replica\n        return self._call_for_each_replica(fn, args, kwargs)\n    C:\\anaconda3\\lib\\site-packages\\tensorflow\\python\\distribute\\distribute_lib.py:3632 _call_for_each_replica\n        return fn(*args, **kwargs)\n    C:\\anaconda3\\lib\\site-packages\\keras\\engine\\training.py:835 run_step  **\n        outputs = model.train_step(data)\n    C:\\anaconda3\\lib\\site-packages\\keras\\engine\\training.py:787 train_step\n        y_pred = self(x, training=True)\n    C:\\anaconda3\\lib\\site-packages\\keras\\engine\\base_layer.py:1037 __call__\n        outputs = call_fn(inputs, *args, **kwargs)\n    C:\\anaconda3\\lib\\site-packages\\keras\\engine\\sequential.py:369 call\n        return super(Sequential, self).call(inputs, training=training, mask=mask)\n    C:\\anaconda3\\lib\\site-packages\\keras\\engine\\functional.py:414 call\n        return self._run_internal_graph(\n    C:\\anaconda3\\lib\\site-packages\\keras\\engine\\functional.py:550 _run_internal_graph\n        outputs = node.layer(*args, **kwargs)\n    C:\\anaconda3\\lib\\site-packages\\keras\\engine\\base_layer.py:1020 __call__\n        input_spec.assert_input_compatibility(self.input_spec, inputs, self.name)\n    C:\\anaconda3\\lib\\site-packages\\keras\\engine\\input_spec.py:250 assert_input_compatibility\n        raise ValueError(\n\n    ValueError: Input 0 of layer dense is incompatible with the layer: expected axis -1 of input shape to have value 784 but received input with shape (None, 15)\n"
     ]
    }
   ],
   "source": []
  },
  {
   "cell_type": "code",
   "execution_count": null,
   "id": "d7a59dae",
   "metadata": {},
   "outputs": [],
   "source": []
  },
  {
   "cell_type": "code",
   "execution_count": null,
   "id": "af3355b2",
   "metadata": {},
   "outputs": [],
   "source": []
  },
  {
   "cell_type": "code",
   "execution_count": null,
   "id": "9f4363b9",
   "metadata": {},
   "outputs": [],
   "source": []
  },
  {
   "cell_type": "code",
   "execution_count": null,
   "id": "293e8ece",
   "metadata": {},
   "outputs": [],
   "source": []
  },
  {
   "cell_type": "code",
   "execution_count": null,
   "id": "3705e05e",
   "metadata": {},
   "outputs": [],
   "source": []
  },
  {
   "cell_type": "code",
   "execution_count": null,
   "id": "092cad04",
   "metadata": {},
   "outputs": [],
   "source": []
  },
  {
   "cell_type": "code",
   "execution_count": null,
   "id": "3e6c598f",
   "metadata": {},
   "outputs": [],
   "source": []
  },
  {
   "cell_type": "code",
   "execution_count": null,
   "id": "2eed805c",
   "metadata": {},
   "outputs": [],
   "source": []
  },
  {
   "cell_type": "code",
   "execution_count": null,
   "id": "170248c0",
   "metadata": {},
   "outputs": [],
   "source": []
  },
  {
   "cell_type": "code",
   "execution_count": null,
   "id": "8196736f",
   "metadata": {},
   "outputs": [],
   "source": []
  },
  {
   "cell_type": "code",
   "execution_count": null,
   "id": "e4abe4ce",
   "metadata": {},
   "outputs": [],
   "source": []
  },
  {
   "cell_type": "code",
   "execution_count": null,
   "id": "4f879ad9",
   "metadata": {},
   "outputs": [],
   "source": []
  },
  {
   "cell_type": "code",
   "execution_count": null,
   "id": "0875bd53",
   "metadata": {},
   "outputs": [],
   "source": []
  },
  {
   "cell_type": "code",
   "execution_count": 103,
   "id": "030aae04",
   "metadata": {},
   "outputs": [],
   "source": [
    "from sklearn.linear_model import ElasticNet\n"
   ]
  },
  {
   "cell_type": "code",
   "execution_count": 104,
   "id": "ace2b51c",
   "metadata": {},
   "outputs": [],
   "source": [
    "regr1 = ElasticNet(random_state = 0)"
   ]
  },
  {
   "cell_type": "code",
   "execution_count": 105,
   "id": "d4a7417f",
   "metadata": {},
   "outputs": [
    {
     "data": {
      "text/plain": [
       "ElasticNet(random_state=0)"
      ]
     },
     "execution_count": 105,
     "metadata": {},
     "output_type": "execute_result"
    }
   ],
   "source": [
    "regr1.fit(x_train, y_train)"
   ]
  },
  {
   "cell_type": "code",
   "execution_count": 106,
   "id": "f14136f8",
   "metadata": {},
   "outputs": [
    {
     "name": "stdout",
     "output_type": "stream",
     "text": [
      "48.95096520841223\n"
     ]
    }
   ],
   "source": [
    "print(regr1.intercept_)"
   ]
  },
  {
   "cell_type": "code",
   "execution_count": 107,
   "id": "04aa8f00",
   "metadata": {},
   "outputs": [
    {
     "name": "stdout",
     "output_type": "stream",
     "text": [
      "[55.77778277 51.18630236 52.05226588 ... 51.17740714 61.25297999\n",
      " 55.90138374]\n"
     ]
    }
   ],
   "source": [
    "print(regr1.predict(x_test))"
   ]
  },
  {
   "cell_type": "code",
   "execution_count": 108,
   "id": "6c7c5a7e",
   "metadata": {},
   "outputs": [],
   "source": [
    "test_pred = regr1.predict(x_test)\n",
    "train_pred = regr1.predict(x_train)"
   ]
  },
  {
   "cell_type": "code",
   "execution_count": 109,
   "id": "17d6e685",
   "metadata": {},
   "outputs": [],
   "source": [
    "def print_evaluate(true, predicted):  \n",
    "    mse = mean_squared_error(true, predicted)\n",
    "    rmse = np.sqrt(mean_squared_error(true, predicted))\n",
    "    r2_square = r2_score(true, predicted)\n",
    "    mae = median_absolute_error(y_test, y_pred)\n",
    "    print('MAE:', mae)\n",
    "    print('MSE:', mse)\n",
    "    print('RMSE:', rmse)\n",
    "    print('R2 Square', r2_square)\n",
    "    print('__________________________________')"
   ]
  },
  {
   "cell_type": "code",
   "execution_count": 110,
   "id": "8b0da5cd",
   "metadata": {},
   "outputs": [
    {
     "name": "stdout",
     "output_type": "stream",
     "text": [
      "Test set evaluation:\n",
      "_____________________________________\n",
      "MAE: 30.343524900442347\n",
      "MSE: 4215.963448629397\n",
      "RMSE: 64.93045085804809\n",
      "R2 Square 0.024159376402533628\n",
      "__________________________________\n",
      "Train set evaluation:\n",
      "_____________________________________\n",
      "MAE: 30.343524900442347\n",
      "MSE: 4938.4140603878295\n",
      "RMSE: 70.27385047361379\n",
      "R2 Square 0.024555629460119133\n",
      "__________________________________\n"
     ]
    }
   ],
   "source": [
    "print('Test set evaluation:\\n_____________________________________')\n",
    "print_evaluate(y_test, test_pred)\n",
    "print('Train set evaluation:\\n_____________________________________')\n",
    "print_evaluate(y_train, train_pred)"
   ]
  },
  {
   "cell_type": "code",
   "execution_count": 111,
   "id": "c43b58a9",
   "metadata": {},
   "outputs": [
    {
     "data": {
      "text/plain": [
       "0.024600486418348777"
      ]
     },
     "execution_count": 111,
     "metadata": {},
     "output_type": "execute_result"
    }
   ],
   "source": [
    "regr1.score(x,y)"
   ]
  },
  {
   "cell_type": "code",
   "execution_count": 112,
   "id": "f2b49c8a",
   "metadata": {},
   "outputs": [
    {
     "ename": "ModuleNotFoundError",
     "evalue": "No module named 'lightgbm'",
     "output_type": "error",
     "traceback": [
      "\u001b[1;31m---------------------------------------------------------------------------\u001b[0m",
      "\u001b[1;31mModuleNotFoundError\u001b[0m                       Traceback (most recent call last)",
      "\u001b[1;32m<ipython-input-112-e129fb0ec361>\u001b[0m in \u001b[0;36m<module>\u001b[1;34m\u001b[0m\n\u001b[1;32m----> 1\u001b[1;33m \u001b[1;32mimport\u001b[0m \u001b[0mlightgbm\u001b[0m \u001b[1;32mas\u001b[0m \u001b[0mlgbm\u001b[0m\u001b[1;33m\u001b[0m\u001b[1;33m\u001b[0m\u001b[0m\n\u001b[0m",
      "\u001b[1;31mModuleNotFoundError\u001b[0m: No module named 'lightgbm'"
     ]
    }
   ],
   "source": []
  },
  {
   "cell_type": "code",
   "execution_count": null,
   "id": "acd79710",
   "metadata": {},
   "outputs": [],
   "source": []
  }
 ],
 "metadata": {
  "kernelspec": {
   "display_name": "Python 3 (ipykernel)",
   "language": "python",
   "name": "python3"
  },
  "language_info": {
   "codemirror_mode": {
    "name": "ipython",
    "version": 3
   },
   "file_extension": ".py",
   "mimetype": "text/x-python",
   "name": "python",
   "nbconvert_exporter": "python",
   "pygments_lexer": "ipython3",
   "version": "3.8.12"
  }
 },
 "nbformat": 4,
 "nbformat_minor": 5
}
